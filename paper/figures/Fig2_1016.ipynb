{
 "cells": [
  {
   "cell_type": "markdown",
   "metadata": {},
   "source": [
    "### figure 2 - sex-specific heritability and genetic correlation of biomarkers and other traits"
   ]
  },
  {
   "cell_type": "code",
   "execution_count": 1,
   "metadata": {},
   "outputs": [
    {
     "name": "stderr",
     "output_type": "stream",
     "text": [
      "Loading required package: tidyverse\n",
      "── Attaching packages ─────────────────────────────────────── tidyverse 1.2.1 ──\n",
      "✔ ggplot2 2.2.1     ✔ purrr   0.2.4\n",
      "✔ tibble  1.4.2     ✔ dplyr   0.7.4\n",
      "✔ tidyr   0.8.1     ✔ stringr 1.3.0\n",
      "✔ readr   1.1.1     ✔ forcats 0.3.0\n",
      "── Conflicts ────────────────────────────────────────── tidyverse_conflicts() ──\n",
      "✖ dplyr::filter() masks stats::filter()\n",
      "✖ dplyr::lag()    masks stats::lag()\n",
      "Loading required package: reshape2\n",
      "\n",
      "Attaching package: ‘reshape2’\n",
      "\n",
      "The following object is masked from ‘package:tidyr’:\n",
      "\n",
      "    smiths\n",
      "\n"
     ]
    }
   ],
   "source": [
    "# load packages and dependencies\n",
    "require('tidyverse')\n",
    "require('reshape2')  # for dcast "
   ]
  },
  {
   "cell_type": "code",
   "execution_count": 33,
   "metadata": {},
   "outputs": [
    {
     "data": {
      "text/html": [
       "<ol class=list-inline>\n",
       "\t<li>'Alanine_aminotransferase'</li>\n",
       "\t<li>'Albumin'</li>\n",
       "\t<li>'Alkaline_phosphatase'</li>\n",
       "\t<li>'Apolipoprotein_A'</li>\n",
       "\t<li>'Apolipoprotein_B.adjust.statins'</li>\n",
       "\t<li>'Apolipoprotein_B'</li>\n",
       "\t<li>'Aspartate_aminotransferase'</li>\n",
       "\t<li>'C_reactive_protein'</li>\n",
       "\t<li>'Calcium'</li>\n",
       "\t<li>'Cholesterol.adjust.statins'</li>\n",
       "\t<li>'Cholesterol'</li>\n",
       "\t<li>'Creatinine_in_urine'</li>\n",
       "\t<li>'Creatinine'</li>\n",
       "\t<li>'Cystatin_C'</li>\n",
       "\t<li>'Direct_bilirubin'</li>\n",
       "\t<li>'eGFR'</li>\n",
       "\t<li>'Fasting_glucose'</li>\n",
       "\t<li>'Gamma_glutamyltransferase'</li>\n",
       "\t<li>'Glucose'</li>\n",
       "\t<li>'Glycated_haemoglobin_HbA1c'</li>\n",
       "\t<li>'HDL_cholesterol'</li>\n",
       "\t<li>'IGF_1'</li>\n",
       "\t<li>'LDL_direct.adjust.statins'</li>\n",
       "\t<li>'LDL_direct'</li>\n",
       "\t<li>'Lipoprotein_A'</li>\n",
       "\t<li>'Microalbumin_in_urine'</li>\n",
       "\t<li>'Non_albumin_protein'</li>\n",
       "\t<li>'Oestradiol'</li>\n",
       "\t<li>'Phosphate'</li>\n",
       "\t<li>'Potassium_in_urine'</li>\n",
       "\t<li>'Rheumatoid_factor'</li>\n",
       "\t<li>'SHBG'</li>\n",
       "\t<li>'Sodium_in_urine'</li>\n",
       "\t<li>'Testosterone'</li>\n",
       "\t<li>'Total_bilirubin'</li>\n",
       "\t<li>'Total_protein'</li>\n",
       "\t<li>'Urate'</li>\n",
       "\t<li>'Urea'</li>\n",
       "\t<li>'Vitamin_D'</li>\n",
       "</ol>\n"
      ],
      "text/latex": [
       "\\begin{enumerate*}\n",
       "\\item 'Alanine\\_aminotransferase'\n",
       "\\item 'Albumin'\n",
       "\\item 'Alkaline\\_phosphatase'\n",
       "\\item 'Apolipoprotein\\_A'\n",
       "\\item 'Apolipoprotein\\_B.adjust.statins'\n",
       "\\item 'Apolipoprotein\\_B'\n",
       "\\item 'Aspartate\\_aminotransferase'\n",
       "\\item 'C\\_reactive\\_protein'\n",
       "\\item 'Calcium'\n",
       "\\item 'Cholesterol.adjust.statins'\n",
       "\\item 'Cholesterol'\n",
       "\\item 'Creatinine\\_in\\_urine'\n",
       "\\item 'Creatinine'\n",
       "\\item 'Cystatin\\_C'\n",
       "\\item 'Direct\\_bilirubin'\n",
       "\\item 'eGFR'\n",
       "\\item 'Fasting\\_glucose'\n",
       "\\item 'Gamma\\_glutamyltransferase'\n",
       "\\item 'Glucose'\n",
       "\\item 'Glycated\\_haemoglobin\\_HbA1c'\n",
       "\\item 'HDL\\_cholesterol'\n",
       "\\item 'IGF\\_1'\n",
       "\\item 'LDL\\_direct.adjust.statins'\n",
       "\\item 'LDL\\_direct'\n",
       "\\item 'Lipoprotein\\_A'\n",
       "\\item 'Microalbumin\\_in\\_urine'\n",
       "\\item 'Non\\_albumin\\_protein'\n",
       "\\item 'Oestradiol'\n",
       "\\item 'Phosphate'\n",
       "\\item 'Potassium\\_in\\_urine'\n",
       "\\item 'Rheumatoid\\_factor'\n",
       "\\item 'SHBG'\n",
       "\\item 'Sodium\\_in\\_urine'\n",
       "\\item 'Testosterone'\n",
       "\\item 'Total\\_bilirubin'\n",
       "\\item 'Total\\_protein'\n",
       "\\item 'Urate'\n",
       "\\item 'Urea'\n",
       "\\item 'Vitamin\\_D'\n",
       "\\end{enumerate*}\n"
      ],
      "text/markdown": [
       "1. 'Alanine_aminotransferase'\n",
       "2. 'Albumin'\n",
       "3. 'Alkaline_phosphatase'\n",
       "4. 'Apolipoprotein_A'\n",
       "5. 'Apolipoprotein_B.adjust.statins'\n",
       "6. 'Apolipoprotein_B'\n",
       "7. 'Aspartate_aminotransferase'\n",
       "8. 'C_reactive_protein'\n",
       "9. 'Calcium'\n",
       "10. 'Cholesterol.adjust.statins'\n",
       "11. 'Cholesterol'\n",
       "12. 'Creatinine_in_urine'\n",
       "13. 'Creatinine'\n",
       "14. 'Cystatin_C'\n",
       "15. 'Direct_bilirubin'\n",
       "16. 'eGFR'\n",
       "17. 'Fasting_glucose'\n",
       "18. 'Gamma_glutamyltransferase'\n",
       "19. 'Glucose'\n",
       "20. 'Glycated_haemoglobin_HbA1c'\n",
       "21. 'HDL_cholesterol'\n",
       "22. 'IGF_1'\n",
       "23. 'LDL_direct.adjust.statins'\n",
       "24. 'LDL_direct'\n",
       "25. 'Lipoprotein_A'\n",
       "26. 'Microalbumin_in_urine'\n",
       "27. 'Non_albumin_protein'\n",
       "28. 'Oestradiol'\n",
       "29. 'Phosphate'\n",
       "30. 'Potassium_in_urine'\n",
       "31. 'Rheumatoid_factor'\n",
       "32. 'SHBG'\n",
       "33. 'Sodium_in_urine'\n",
       "34. 'Testosterone'\n",
       "35. 'Total_bilirubin'\n",
       "36. 'Total_protein'\n",
       "37. 'Urate'\n",
       "38. 'Urea'\n",
       "39. 'Vitamin_D'\n",
       "\n",
       "\n"
      ],
      "text/plain": [
       " [1] \"Alanine_aminotransferase\"        \"Albumin\"                        \n",
       " [3] \"Alkaline_phosphatase\"            \"Apolipoprotein_A\"               \n",
       " [5] \"Apolipoprotein_B.adjust.statins\" \"Apolipoprotein_B\"               \n",
       " [7] \"Aspartate_aminotransferase\"      \"C_reactive_protein\"             \n",
       " [9] \"Calcium\"                         \"Cholesterol.adjust.statins\"     \n",
       "[11] \"Cholesterol\"                     \"Creatinine_in_urine\"            \n",
       "[13] \"Creatinine\"                      \"Cystatin_C\"                     \n",
       "[15] \"Direct_bilirubin\"                \"eGFR\"                           \n",
       "[17] \"Fasting_glucose\"                 \"Gamma_glutamyltransferase\"      \n",
       "[19] \"Glucose\"                         \"Glycated_haemoglobin_HbA1c\"     \n",
       "[21] \"HDL_cholesterol\"                 \"IGF_1\"                          \n",
       "[23] \"LDL_direct.adjust.statins\"       \"LDL_direct\"                     \n",
       "[25] \"Lipoprotein_A\"                   \"Microalbumin_in_urine\"          \n",
       "[27] \"Non_albumin_protein\"             \"Oestradiol\"                     \n",
       "[29] \"Phosphate\"                       \"Potassium_in_urine\"             \n",
       "[31] \"Rheumatoid_factor\"               \"SHBG\"                           \n",
       "[33] \"Sodium_in_urine\"                 \"Testosterone\"                   \n",
       "[35] \"Total_bilirubin\"                 \"Total_protein\"                  \n",
       "[37] \"Urate\"                           \"Urea\"                           \n",
       "[39] \"Vitamin_D\"                      "
      ]
     },
     "metadata": {},
     "output_type": "display_data"
    },
    {
     "data": {
      "text/html": [
       "39"
      ],
      "text/latex": [
       "39"
      ],
      "text/markdown": [
       "39"
      ],
      "text/plain": [
       "[1] 39"
      ]
     },
     "metadata": {},
     "output_type": "display_data"
    },
    {
     "data": {
      "text/html": [
       "<table>\n",
       "<thead><tr><th scope=col>trait</th><th scope=col>n</th><th scope=col>pi[1]</th><th scope=col>pi[2]</th><th scope=col>Sigma[1,1]</th><th scope=col>Sigma[1,2]</th><th scope=col>Sigma[2,1]</th><th scope=col>Sigma[2,2]</th><th scope=col>rg</th><th scope=col>rg.l</th><th scope=col>rg.u</th><th scope=col>h.f</th><th scope=col>h.m</th></tr></thead>\n",
       "<tbody>\n",
       "\t<tr><td>Alanine_aminotransferase       </td><td>185830                         </td><td>0.9278233                      </td><td>0.072176681                    </td><td>7.171212e-05                   </td><td>6.934385e-05                   </td><td>6.934385e-05                   </td><td>8.026258e-05                   </td><td>0.9140675                      </td><td>0.8918961                      </td><td>0.9357448                      </td><td>NA                             </td><td>NA                             </td></tr>\n",
       "\t<tr><td>Albumin                        </td><td>185176                         </td><td>0.8741166                      </td><td>0.125883423                    </td><td>4.366686e-05                   </td><td>4.238062e-05                   </td><td>4.238062e-05                   </td><td>4.326505e-05                   </td><td>0.9752237                      </td><td>0.9527401                      </td><td>0.9930145                      </td><td>NA                             </td><td>NA                             </td></tr>\n",
       "\t<tr><td>Alkaline_phosphatase           </td><td>185835                         </td><td>0.9919450                      </td><td>0.008054994                    </td><td>9.269005e-03                   </td><td>1.050801e-02                   </td><td>1.050801e-02                   </td><td>1.194561e-02                   </td><td>0.9986591                      </td><td>0.9981819                      </td><td>0.9990334                      </td><td>NA                             </td><td>NA                             </td></tr>\n",
       "\t<tr><td>Apolipoprotein_A               </td><td>185159                         </td><td>0.9793958                      </td><td>0.020604221                    </td><td>6.288996e-04                   </td><td>6.567083e-04                   </td><td>6.567083e-04                   </td><td>7.070754e-04                   </td><td>0.9848183                      </td><td>0.9798631                      </td><td>0.9892995                      </td><td>NA                             </td><td>NA                             </td></tr>\n",
       "\t<tr><td>Apolipoprotein_B.adjust.statins</td><td>185788                         </td><td>0.9840625                      </td><td>0.015937455                    </td><td>1.261674e-03                   </td><td>1.168401e-03                   </td><td>1.168401e-03                   </td><td>1.104964e-03                   </td><td>0.9895991                      </td><td>0.9864116                      </td><td>0.9922658                      </td><td>NA                             </td><td>NA                             </td></tr>\n",
       "\t<tr><td>Apolipoprotein_B               </td><td>185793                         </td><td>0.9913960                      </td><td>0.008603986                    </td><td>1.409642e-03                   </td><td>1.181322e-03                   </td><td>1.181322e-03                   </td><td>1.015093e-03                   </td><td>0.9875976                      </td><td>0.9830573                      </td><td>0.9915109                      </td><td>NA                             </td><td>NA                             </td></tr>\n",
       "</tbody>\n",
       "</table>\n"
      ],
      "text/latex": [
       "\\begin{tabular}{r|lllllllllllll}\n",
       " trait & n & pi{[}1{]} & pi{[}2{]} & Sigma{[}1,1{]} & Sigma{[}1,2{]} & Sigma{[}2,1{]} & Sigma{[}2,2{]} & rg & rg.l & rg.u & h.f & h.m\\\\\n",
       "\\hline\n",
       "\t Alanine\\_aminotransferase        & 185830                            & 0.9278233                         & 0.072176681                       & 7.171212e-05                      & 6.934385e-05                      & 6.934385e-05                      & 8.026258e-05                      & 0.9140675                         & 0.8918961                         & 0.9357448                         & NA                                & NA                               \\\\\n",
       "\t Albumin                         & 185176                          & 0.8741166                       & 0.125883423                     & 4.366686e-05                    & 4.238062e-05                    & 4.238062e-05                    & 4.326505e-05                    & 0.9752237                       & 0.9527401                       & 0.9930145                       & NA                              & NA                             \\\\\n",
       "\t Alkaline\\_phosphatase            & 185835                            & 0.9919450                         & 0.008054994                       & 9.269005e-03                      & 1.050801e-02                      & 1.050801e-02                      & 1.194561e-02                      & 0.9986591                         & 0.9981819                         & 0.9990334                         & NA                                & NA                               \\\\\n",
       "\t Apolipoprotein\\_A                & 185159                            & 0.9793958                         & 0.020604221                       & 6.288996e-04                      & 6.567083e-04                      & 6.567083e-04                      & 7.070754e-04                      & 0.9848183                         & 0.9798631                         & 0.9892995                         & NA                                & NA                               \\\\\n",
       "\t Apolipoprotein\\_B.adjust.statins & 185788                            & 0.9840625                         & 0.015937455                       & 1.261674e-03                      & 1.168401e-03                      & 1.168401e-03                      & 1.104964e-03                      & 0.9895991                         & 0.9864116                         & 0.9922658                         & NA                                & NA                               \\\\\n",
       "\t Apolipoprotein\\_B                & 185793                            & 0.9913960                         & 0.008603986                       & 1.409642e-03                      & 1.181322e-03                      & 1.181322e-03                      & 1.015093e-03                      & 0.9875976                         & 0.9830573                         & 0.9915109                         & NA                                & NA                               \\\\\n",
       "\\end{tabular}\n"
      ],
      "text/markdown": [
       "\n",
       "trait | n | pi[1] | pi[2] | Sigma[1,1] | Sigma[1,2] | Sigma[2,1] | Sigma[2,2] | rg | rg.l | rg.u | h.f | h.m | \n",
       "|---|---|---|---|---|---|\n",
       "| Alanine_aminotransferase        | 185830                          | 0.9278233                       | 0.072176681                     | 7.171212e-05                    | 6.934385e-05                    | 6.934385e-05                    | 8.026258e-05                    | 0.9140675                       | 0.8918961                       | 0.9357448                       | NA                              | NA                              | \n",
       "| Albumin                         | 185176                          | 0.8741166                       | 0.125883423                     | 4.366686e-05                    | 4.238062e-05                    | 4.238062e-05                    | 4.326505e-05                    | 0.9752237                       | 0.9527401                       | 0.9930145                       | NA                              | NA                              | \n",
       "| Alkaline_phosphatase            | 185835                          | 0.9919450                       | 0.008054994                     | 9.269005e-03                    | 1.050801e-02                    | 1.050801e-02                    | 1.194561e-02                    | 0.9986591                       | 0.9981819                       | 0.9990334                       | NA                              | NA                              | \n",
       "| Apolipoprotein_A                | 185159                          | 0.9793958                       | 0.020604221                     | 6.288996e-04                    | 6.567083e-04                    | 6.567083e-04                    | 7.070754e-04                    | 0.9848183                       | 0.9798631                       | 0.9892995                       | NA                              | NA                              | \n",
       "| Apolipoprotein_B.adjust.statins | 185788                          | 0.9840625                       | 0.015937455                     | 1.261674e-03                    | 1.168401e-03                    | 1.168401e-03                    | 1.104964e-03                    | 0.9895991                       | 0.9864116                       | 0.9922658                       | NA                              | NA                              | \n",
       "| Apolipoprotein_B                | 185793                          | 0.9913960                       | 0.008603986                     | 1.409642e-03                    | 1.181322e-03                    | 1.181322e-03                    | 1.015093e-03                    | 0.9875976                       | 0.9830573                       | 0.9915109                       | NA                              | NA                              | \n",
       "\n",
       "\n"
      ],
      "text/plain": [
       "  trait                           n      pi[1]     pi[2]       Sigma[1,1]  \n",
       "1 Alanine_aminotransferase        185830 0.9278233 0.072176681 7.171212e-05\n",
       "2 Albumin                         185176 0.8741166 0.125883423 4.366686e-05\n",
       "3 Alkaline_phosphatase            185835 0.9919450 0.008054994 9.269005e-03\n",
       "4 Apolipoprotein_A                185159 0.9793958 0.020604221 6.288996e-04\n",
       "5 Apolipoprotein_B.adjust.statins 185788 0.9840625 0.015937455 1.261674e-03\n",
       "6 Apolipoprotein_B                185793 0.9913960 0.008603986 1.409642e-03\n",
       "  Sigma[1,2]   Sigma[2,1]   Sigma[2,2]   rg        rg.l      rg.u      h.f h.m\n",
       "1 6.934385e-05 6.934385e-05 8.026258e-05 0.9140675 0.8918961 0.9357448 NA  NA \n",
       "2 4.238062e-05 4.238062e-05 4.326505e-05 0.9752237 0.9527401 0.9930145 NA  NA \n",
       "3 1.050801e-02 1.050801e-02 1.194561e-02 0.9986591 0.9981819 0.9990334 NA  NA \n",
       "4 6.567083e-04 6.567083e-04 7.070754e-04 0.9848183 0.9798631 0.9892995 NA  NA \n",
       "5 1.168401e-03 1.168401e-03 1.104964e-03 0.9895991 0.9864116 0.9922658 NA  NA \n",
       "6 1.181322e-03 1.181322e-03 1.015093e-03 0.9875976 0.9830573 0.9915109 NA  NA "
      ]
     },
     "metadata": {},
     "output_type": "display_data"
    }
   ],
   "source": [
    "# read in all the ss biomarker data\n",
    "BIOMARKER.DIR <- \"../../data/1015/m1/\"\n",
    "biomarker_traits <- list.files(BIOMARKER.DIR, pattern=\"f_\\\\D*\")\n",
    "\n",
    "biomarkers <- sapply(biomarker_traits, function(x) strsplit(strsplit(x, \"f_\",fixed=TRUE)[[1]][[2]], \".RData\")[[1]][[1]])\n",
    "\n",
    "biomarkers2 <- setdiff(biomarkers , c(\"arm_fp\", \"leg_fp\", \"trunk_fp\", \"whr\"))\n",
    "biomarkers2\n",
    "length(biomarkers2) # 35 biomarkers\n",
    "\n",
    "# column names depend on the dimension\n",
    "# t(c(trait, dat$dat$N, unlist(m1.pi), unlist(m1.Sigma), unlist(rg), unlist(rg.c$l), unlist(rg.c$u), unlist(h)))\n",
    "# rg.l and rg.u are the 95% CI for rg\n",
    "m1.cols <-  c(\"trait\", \"n\", \"pi[1]\", \"pi[2]\", \"Sigma[1,1]\", \"Sigma[1,2]\", \"Sigma[2,1]\", \"Sigma[2,2]\", \"rg\", \"rg.l\", \"rg.u\", \"h.f\", \"h.m\")\n",
    "\n",
    "biomarker_df <- do.call(rbind, lapply(biomarkers2, function(x) read.table(sprintf(\"%s/summary_dat_%s_2_.txt\", BIOMARKER.DIR, x), sep=\" \", header=TRUE)))\n",
    "colnames(biomarker_df) <- m1.cols\n",
    "head(biomarker_df)\n",
    "    \n"
   ]
  },
  {
   "cell_type": "code",
   "execution_count": 34,
   "metadata": {},
   "outputs": [
    {
     "name": "stderr",
     "output_type": "stream",
     "text": [
      "Parsed with column specification:\n",
      "cols(\n",
      "  trait = col_character(),\n",
      "  category = col_character(),\n",
      "  variable_name = col_character(),\n",
      "  readable_name = col_character()\n",
      ")\n"
     ]
    },
    {
     "data": {
      "text/html": [
       "<table>\n",
       "<thead><tr><th scope=col>trait</th><th scope=col>category</th><th scope=col>variable_name</th><th scope=col>readable_name</th></tr></thead>\n",
       "<tbody>\n",
       "\t<tr><td>3140                            </td><td>sex specific                    </td><td>pregnant                        </td><td>pregnant                        </td></tr>\n",
       "\t<tr><td>2724                            </td><td>sex specific                    </td><td>menopause                       </td><td>menopause                       </td></tr>\n",
       "\t<tr><td>3581                            </td><td>sex specific                    </td><td>menopause_age                   </td><td>age menopause                   </td></tr>\n",
       "\t<tr><td>3591                            </td><td>sex specific                    </td><td>hysterectomy                    </td><td>hysterectomy                    </td></tr>\n",
       "\t<tr><td>2934                            </td><td>sex specific                    </td><td>oophorectomy                    </td><td>oophorectomy                    </td></tr>\n",
       "\t<tr><td>3700                            </td><td>sex specific                    </td><td>time_since_period               </td><td>time since last menstrual period</td></tr>\n",
       "</tbody>\n",
       "</table>\n"
      ],
      "text/latex": [
       "\\begin{tabular}{r|llll}\n",
       " trait & category & variable\\_name & readable\\_name\\\\\n",
       "\\hline\n",
       "\t 3140                             & sex specific                     & pregnant                         & pregnant                        \\\\\n",
       "\t 2724                             & sex specific                     & menopause                        & menopause                       \\\\\n",
       "\t 3581                             & sex specific                     & menopause\\_age                  & age menopause                   \\\\\n",
       "\t 3591                             & sex specific                     & hysterectomy                     & hysterectomy                    \\\\\n",
       "\t 2934                             & sex specific                     & oophorectomy                     & oophorectomy                    \\\\\n",
       "\t 3700                             & sex specific                     & time\\_since\\_period            & time since last menstrual period\\\\\n",
       "\\end{tabular}\n"
      ],
      "text/markdown": [
       "\n",
       "trait | category | variable_name | readable_name | \n",
       "|---|---|---|---|---|---|\n",
       "| 3140                             | sex specific                     | pregnant                         | pregnant                         | \n",
       "| 2724                             | sex specific                     | menopause                        | menopause                        | \n",
       "| 3581                             | sex specific                     | menopause_age                    | age menopause                    | \n",
       "| 3591                             | sex specific                     | hysterectomy                     | hysterectomy                     | \n",
       "| 2934                             | sex specific                     | oophorectomy                     | oophorectomy                     | \n",
       "| 3700                             | sex specific                     | time_since_period                | time since last menstrual period | \n",
       "\n",
       "\n"
      ],
      "text/plain": [
       "  trait category     variable_name     readable_name                   \n",
       "1 3140  sex specific pregnant          pregnant                        \n",
       "2 2724  sex specific menopause         menopause                       \n",
       "3 3581  sex specific menopause_age     age menopause                   \n",
       "4 3591  sex specific hysterectomy      hysterectomy                    \n",
       "5 2934  sex specific oophorectomy      oophorectomy                    \n",
       "6 3700  sex specific time_since_period time since last menstrual period"
      ]
     },
     "metadata": {},
     "output_type": "display_data"
    },
    {
     "data": {
      "text/html": [
       "<table>\n",
       "<thead><tr><th scope=col>trait</th><th scope=col>category</th><th scope=col>variable_name</th><th scope=col>readable_name</th></tr></thead>\n",
       "<tbody>\n",
       "\t<tr><td>30850       </td><td>biomarker   </td><td>Testosterone</td><td>NA          </td></tr>\n",
       "</tbody>\n",
       "</table>\n"
      ],
      "text/latex": [
       "\\begin{tabular}{r|llll}\n",
       " trait & category & variable\\_name & readable\\_name\\\\\n",
       "\\hline\n",
       "\t 30850        & biomarker    & Testosterone & NA          \\\\\n",
       "\\end{tabular}\n"
      ],
      "text/markdown": [
       "\n",
       "trait | category | variable_name | readable_name | \n",
       "|---|\n",
       "| 30850        | biomarker    | Testosterone | NA           | \n",
       "\n",
       "\n"
      ],
      "text/plain": [
       "  trait category  variable_name readable_name\n",
       "1 30850 biomarker Testosterone  NA           "
      ]
     },
     "metadata": {},
     "output_type": "display_data"
    }
   ],
   "source": [
    "\n",
    "# need to read in a key and change the codes\n",
    "phe_codes <- read_csv(\"../../data/ListPheCodes.csv\")\n",
    "head(phe_codes)\n",
    "phe_codes <- phe_codes %>% \n",
    "mutate(variable_name=str_replace_all(variable_name, \" \", \"_\")) %>%\n",
    "mutate(trait=str_replace(trait, \"INI\", \"\"))\n",
    "phe_codes %>% filter(variable_name==\"Testosterone\")"
   ]
  },
  {
   "cell_type": "code",
   "execution_count": 5,
   "metadata": {},
   "outputs": [
    {
     "data": {
      "text/html": [
       "<ol class=list-inline>\n",
       "\t<li>'3140'</li>\n",
       "\t<li>'2724'</li>\n",
       "\t<li>'3581'</li>\n",
       "\t<li>'3591'</li>\n",
       "\t<li>'2934'</li>\n",
       "\t<li>'3700'</li>\n",
       "\t<li>'3710'</li>\n",
       "\t<li>'3720'</li>\n",
       "\t<li>'2804'</li>\n",
       "\t<li>'3546'</li>\n",
       "\t<li>'2178'</li>\n",
       "\t<li>'2188'</li>\n",
       "\t<li>'whr'</li>\n",
       "\t<li>'21001'</li>\n",
       "\t<li>'50'</li>\n",
       "\t<li>'48'</li>\n",
       "\t<li>'49'</li>\n",
       "\t<li>'4079'</li>\n",
       "\t<li>'4080'</li>\n",
       "\t<li>'20150'</li>\n",
       "\t<li>'3063'</li>\n",
       "\t<li>'3064'</li>\n",
       "\t<li>'FEV_FVC'</li>\n",
       "\t<li>'23100'</li>\n",
       "\t<li>'23116'</li>\n",
       "\t<li>'23112'</li>\n",
       "\t<li>'23124'</li>\n",
       "\t<li>'23120'</li>\n",
       "\t<li>'23128'</li>\n",
       "\t<li>'23099'</li>\n",
       "\t<li>'23105'</li>\n",
       "\t<li>'23115'</li>\n",
       "\t<li>'23111'</li>\n",
       "\t<li>'23123'</li>\n",
       "\t<li>'23119'</li>\n",
       "\t<li>'23127'</li>\n",
       "\t<li>'23100'</li>\n",
       "\t<li>'23101'</li>\n",
       "\t<li>'23102'</li>\n",
       "\t<li>'23106'</li>\n",
       "\t<li>'23107'</li>\n",
       "\t<li>'23108'</li>\n",
       "\t<li>'23109'</li>\n",
       "\t<li>'23110'</li>\n",
       "\t<li>'trunk_fp'</li>\n",
       "\t<li>'leg_fp'</li>\n",
       "\t<li>'arm_fp'</li>\n",
       "\t<li>'46'</li>\n",
       "\t<li>'47'</li>\n",
       "\t<li>'20015'</li>\n",
       "\t<li>'20019'</li>\n",
       "\t<li>'20021'</li>\n",
       "\t<li>'20022'</li>\n",
       "\t<li>'20150'</li>\n",
       "\t<li>'20151'</li>\n",
       "\t<li>'21021'</li>\n",
       "\t<li>'30000'</li>\n",
       "\t<li>'30010'</li>\n",
       "\t<li>'30020'</li>\n",
       "\t<li>'30030'</li>\n",
       "\t<li>'30040'</li>\n",
       "\t<li>'30050'</li>\n",
       "\t<li>'30060'</li>\n",
       "\t<li>'30070'</li>\n",
       "\t<li>'30080'</li>\n",
       "\t<li>'30090'</li>\n",
       "\t<li>'30100'</li>\n",
       "\t<li>'30110'</li>\n",
       "\t<li>'30120'</li>\n",
       "\t<li>'30130'</li>\n",
       "\t<li>'30140'</li>\n",
       "\t<li>'30150'</li>\n",
       "\t<li>'30160'</li>\n",
       "\t<li>'30170'</li>\n",
       "\t<li>'30180'</li>\n",
       "\t<li>'30190'</li>\n",
       "\t<li>'30200'</li>\n",
       "\t<li>'30210'</li>\n",
       "\t<li>'30220'</li>\n",
       "\t<li>'30230'</li>\n",
       "\t<li>'30240'</li>\n",
       "\t<li>'30250'</li>\n",
       "\t<li>'30260'</li>\n",
       "\t<li>'30270'</li>\n",
       "\t<li>'30280'</li>\n",
       "\t<li>'30290'</li>\n",
       "\t<li>'30300'</li>\n",
       "\t<li>'30500'</li>\n",
       "\t<li>'30510'</li>\n",
       "\t<li>'30520'</li>\n",
       "\t<li>'30530'</li>\n",
       "\t<li>'30620'</li>\n",
       "\t<li>'30600'</li>\n",
       "\t<li>'30610'</li>\n",
       "\t<li>'30630'</li>\n",
       "\t<li>'30640'</li>\n",
       "\t<li>'30650'</li>\n",
       "\t<li>'30710'</li>\n",
       "\t<li>'30680'</li>\n",
       "\t<li>'30690'</li>\n",
       "\t<li>'30700'</li>\n",
       "\t<li>'30720'</li>\n",
       "\t<li>'30660'</li>\n",
       "\t<li>'30730'</li>\n",
       "\t<li>'30740'</li>\n",
       "\t<li>'30750'</li>\n",
       "\t<li>'30760'</li>\n",
       "\t<li>'30770'</li>\n",
       "\t<li>'30780'</li>\n",
       "\t<li>'30790'</li>\n",
       "\t<li>'30800'</li>\n",
       "\t<li>'30810'</li>\n",
       "\t<li>'30820'</li>\n",
       "\t<li>'30830'</li>\n",
       "\t<li>'30850'</li>\n",
       "\t<li>'30840'</li>\n",
       "\t<li>'30860'</li>\n",
       "\t<li>'30870'</li>\n",
       "\t<li>'30880'</li>\n",
       "\t<li>'30670'</li>\n",
       "\t<li>'30890'</li>\n",
       "\t<li>'30510'</li>\n",
       "</ol>\n"
      ],
      "text/latex": [
       "\\begin{enumerate*}\n",
       "\\item '3140'\n",
       "\\item '2724'\n",
       "\\item '3581'\n",
       "\\item '3591'\n",
       "\\item '2934'\n",
       "\\item '3700'\n",
       "\\item '3710'\n",
       "\\item '3720'\n",
       "\\item '2804'\n",
       "\\item '3546'\n",
       "\\item '2178'\n",
       "\\item '2188'\n",
       "\\item 'whr'\n",
       "\\item '21001'\n",
       "\\item '50'\n",
       "\\item '48'\n",
       "\\item '49'\n",
       "\\item '4079'\n",
       "\\item '4080'\n",
       "\\item '20150'\n",
       "\\item '3063'\n",
       "\\item '3064'\n",
       "\\item 'FEV\\_FVC'\n",
       "\\item '23100'\n",
       "\\item '23116'\n",
       "\\item '23112'\n",
       "\\item '23124'\n",
       "\\item '23120'\n",
       "\\item '23128'\n",
       "\\item '23099'\n",
       "\\item '23105'\n",
       "\\item '23115'\n",
       "\\item '23111'\n",
       "\\item '23123'\n",
       "\\item '23119'\n",
       "\\item '23127'\n",
       "\\item '23100'\n",
       "\\item '23101'\n",
       "\\item '23102'\n",
       "\\item '23106'\n",
       "\\item '23107'\n",
       "\\item '23108'\n",
       "\\item '23109'\n",
       "\\item '23110'\n",
       "\\item 'trunk\\_fp'\n",
       "\\item 'leg\\_fp'\n",
       "\\item 'arm\\_fp'\n",
       "\\item '46'\n",
       "\\item '47'\n",
       "\\item '20015'\n",
       "\\item '20019'\n",
       "\\item '20021'\n",
       "\\item '20022'\n",
       "\\item '20150'\n",
       "\\item '20151'\n",
       "\\item '21021'\n",
       "\\item '30000'\n",
       "\\item '30010'\n",
       "\\item '30020'\n",
       "\\item '30030'\n",
       "\\item '30040'\n",
       "\\item '30050'\n",
       "\\item '30060'\n",
       "\\item '30070'\n",
       "\\item '30080'\n",
       "\\item '30090'\n",
       "\\item '30100'\n",
       "\\item '30110'\n",
       "\\item '30120'\n",
       "\\item '30130'\n",
       "\\item '30140'\n",
       "\\item '30150'\n",
       "\\item '30160'\n",
       "\\item '30170'\n",
       "\\item '30180'\n",
       "\\item '30190'\n",
       "\\item '30200'\n",
       "\\item '30210'\n",
       "\\item '30220'\n",
       "\\item '30230'\n",
       "\\item '30240'\n",
       "\\item '30250'\n",
       "\\item '30260'\n",
       "\\item '30270'\n",
       "\\item '30280'\n",
       "\\item '30290'\n",
       "\\item '30300'\n",
       "\\item '30500'\n",
       "\\item '30510'\n",
       "\\item '30520'\n",
       "\\item '30530'\n",
       "\\item '30620'\n",
       "\\item '30600'\n",
       "\\item '30610'\n",
       "\\item '30630'\n",
       "\\item '30640'\n",
       "\\item '30650'\n",
       "\\item '30710'\n",
       "\\item '30680'\n",
       "\\item '30690'\n",
       "\\item '30700'\n",
       "\\item '30720'\n",
       "\\item '30660'\n",
       "\\item '30730'\n",
       "\\item '30740'\n",
       "\\item '30750'\n",
       "\\item '30760'\n",
       "\\item '30770'\n",
       "\\item '30780'\n",
       "\\item '30790'\n",
       "\\item '30800'\n",
       "\\item '30810'\n",
       "\\item '30820'\n",
       "\\item '30830'\n",
       "\\item '30850'\n",
       "\\item '30840'\n",
       "\\item '30860'\n",
       "\\item '30870'\n",
       "\\item '30880'\n",
       "\\item '30670'\n",
       "\\item '30890'\n",
       "\\item '30510'\n",
       "\\end{enumerate*}\n"
      ],
      "text/markdown": [
       "1. '3140'\n",
       "2. '2724'\n",
       "3. '3581'\n",
       "4. '3591'\n",
       "5. '2934'\n",
       "6. '3700'\n",
       "7. '3710'\n",
       "8. '3720'\n",
       "9. '2804'\n",
       "10. '3546'\n",
       "11. '2178'\n",
       "12. '2188'\n",
       "13. 'whr'\n",
       "14. '21001'\n",
       "15. '50'\n",
       "16. '48'\n",
       "17. '49'\n",
       "18. '4079'\n",
       "19. '4080'\n",
       "20. '20150'\n",
       "21. '3063'\n",
       "22. '3064'\n",
       "23. 'FEV_FVC'\n",
       "24. '23100'\n",
       "25. '23116'\n",
       "26. '23112'\n",
       "27. '23124'\n",
       "28. '23120'\n",
       "29. '23128'\n",
       "30. '23099'\n",
       "31. '23105'\n",
       "32. '23115'\n",
       "33. '23111'\n",
       "34. '23123'\n",
       "35. '23119'\n",
       "36. '23127'\n",
       "37. '23100'\n",
       "38. '23101'\n",
       "39. '23102'\n",
       "40. '23106'\n",
       "41. '23107'\n",
       "42. '23108'\n",
       "43. '23109'\n",
       "44. '23110'\n",
       "45. 'trunk_fp'\n",
       "46. 'leg_fp'\n",
       "47. 'arm_fp'\n",
       "48. '46'\n",
       "49. '47'\n",
       "50. '20015'\n",
       "51. '20019'\n",
       "52. '20021'\n",
       "53. '20022'\n",
       "54. '20150'\n",
       "55. '20151'\n",
       "56. '21021'\n",
       "57. '30000'\n",
       "58. '30010'\n",
       "59. '30020'\n",
       "60. '30030'\n",
       "61. '30040'\n",
       "62. '30050'\n",
       "63. '30060'\n",
       "64. '30070'\n",
       "65. '30080'\n",
       "66. '30090'\n",
       "67. '30100'\n",
       "68. '30110'\n",
       "69. '30120'\n",
       "70. '30130'\n",
       "71. '30140'\n",
       "72. '30150'\n",
       "73. '30160'\n",
       "74. '30170'\n",
       "75. '30180'\n",
       "76. '30190'\n",
       "77. '30200'\n",
       "78. '30210'\n",
       "79. '30220'\n",
       "80. '30230'\n",
       "81. '30240'\n",
       "82. '30250'\n",
       "83. '30260'\n",
       "84. '30270'\n",
       "85. '30280'\n",
       "86. '30290'\n",
       "87. '30300'\n",
       "88. '30500'\n",
       "89. '30510'\n",
       "90. '30520'\n",
       "91. '30530'\n",
       "92. '30620'\n",
       "93. '30600'\n",
       "94. '30610'\n",
       "95. '30630'\n",
       "96. '30640'\n",
       "97. '30650'\n",
       "98. '30710'\n",
       "99. '30680'\n",
       "100. '30690'\n",
       "101. '30700'\n",
       "102. '30720'\n",
       "103. '30660'\n",
       "104. '30730'\n",
       "105. '30740'\n",
       "106. '30750'\n",
       "107. '30760'\n",
       "108. '30770'\n",
       "109. '30780'\n",
       "110. '30790'\n",
       "111. '30800'\n",
       "112. '30810'\n",
       "113. '30820'\n",
       "114. '30830'\n",
       "115. '30850'\n",
       "116. '30840'\n",
       "117. '30860'\n",
       "118. '30870'\n",
       "119. '30880'\n",
       "120. '30670'\n",
       "121. '30890'\n",
       "122. '30510'\n",
       "\n",
       "\n"
      ],
      "text/plain": [
       "  [1] \"3140\"     \"2724\"     \"3581\"     \"3591\"     \"2934\"     \"3700\"    \n",
       "  [7] \"3710\"     \"3720\"     \"2804\"     \"3546\"     \"2178\"     \"2188\"    \n",
       " [13] \"whr\"      \"21001\"    \"50\"       \"48\"       \"49\"       \"4079\"    \n",
       " [19] \"4080\"     \"20150\"    \"3063\"     \"3064\"     \"FEV_FVC\"  \"23100\"   \n",
       " [25] \"23116\"    \"23112\"    \"23124\"    \"23120\"    \"23128\"    \"23099\"   \n",
       " [31] \"23105\"    \"23115\"    \"23111\"    \"23123\"    \"23119\"    \"23127\"   \n",
       " [37] \"23100\"    \"23101\"    \"23102\"    \"23106\"    \"23107\"    \"23108\"   \n",
       " [43] \"23109\"    \"23110\"    \"trunk_fp\" \"leg_fp\"   \"arm_fp\"   \"46\"      \n",
       " [49] \"47\"       \"20015\"    \"20019\"    \"20021\"    \"20022\"    \"20150\"   \n",
       " [55] \"20151\"    \"21021\"    \"30000\"    \"30010\"    \"30020\"    \"30030\"   \n",
       " [61] \"30040\"    \"30050\"    \"30060\"    \"30070\"    \"30080\"    \"30090\"   \n",
       " [67] \"30100\"    \"30110\"    \"30120\"    \"30130\"    \"30140\"    \"30150\"   \n",
       " [73] \"30160\"    \"30170\"    \"30180\"    \"30190\"    \"30200\"    \"30210\"   \n",
       " [79] \"30220\"    \"30230\"    \"30240\"    \"30250\"    \"30260\"    \"30270\"   \n",
       " [85] \"30280\"    \"30290\"    \"30300\"    \"30500\"    \"30510\"    \"30520\"   \n",
       " [91] \"30530\"    \"30620\"    \"30600\"    \"30610\"    \"30630\"    \"30640\"   \n",
       " [97] \"30650\"    \"30710\"    \"30680\"    \"30690\"    \"30700\"    \"30720\"   \n",
       "[103] \"30660\"    \"30730\"    \"30740\"    \"30750\"    \"30760\"    \"30770\"   \n",
       "[109] \"30780\"    \"30790\"    \"30800\"    \"30810\"    \"30820\"    \"30830\"   \n",
       "[115] \"30850\"    \"30840\"    \"30860\"    \"30870\"    \"30880\"    \"30670\"   \n",
       "[121] \"30890\"    \"30510\"   "
      ]
     },
     "metadata": {},
     "output_type": "display_data"
    }
   ],
   "source": [
    "phe_codes$trait"
   ]
  },
  {
   "cell_type": "code",
   "execution_count": 35,
   "metadata": {},
   "outputs": [
    {
     "data": {
      "text/html": [
       "<ol class=list-inline>\n",
       "\t<li>'Apolipoprotein_B.adjust.statins'</li>\n",
       "\t<li>'Cholesterol.adjust.statins'</li>\n",
       "\t<li>'eGFR'</li>\n",
       "\t<li>'Fasting_glucose'</li>\n",
       "\t<li>'Glycated_haemoglobin_HbA1c'</li>\n",
       "\t<li>'IGF_1'</li>\n",
       "\t<li>'LDL_direct.adjust.statins'</li>\n",
       "\t<li>'Non_albumin_protein'</li>\n",
       "</ol>\n"
      ],
      "text/latex": [
       "\\begin{enumerate*}\n",
       "\\item 'Apolipoprotein\\_B.adjust.statins'\n",
       "\\item 'Cholesterol.adjust.statins'\n",
       "\\item 'eGFR'\n",
       "\\item 'Fasting\\_glucose'\n",
       "\\item 'Glycated\\_haemoglobin\\_HbA1c'\n",
       "\\item 'IGF\\_1'\n",
       "\\item 'LDL\\_direct.adjust.statins'\n",
       "\\item 'Non\\_albumin\\_protein'\n",
       "\\end{enumerate*}\n"
      ],
      "text/markdown": [
       "1. 'Apolipoprotein_B.adjust.statins'\n",
       "2. 'Cholesterol.adjust.statins'\n",
       "3. 'eGFR'\n",
       "4. 'Fasting_glucose'\n",
       "5. 'Glycated_haemoglobin_HbA1c'\n",
       "6. 'IGF_1'\n",
       "7. 'LDL_direct.adjust.statins'\n",
       "8. 'Non_albumin_protein'\n",
       "\n",
       "\n"
      ],
      "text/plain": [
       "[1] \"Apolipoprotein_B.adjust.statins\" \"Cholesterol.adjust.statins\"     \n",
       "[3] \"eGFR\"                            \"Fasting_glucose\"                \n",
       "[5] \"Glycated_haemoglobin_HbA1c\"      \"IGF_1\"                          \n",
       "[7] \"LDL_direct.adjust.statins\"       \"Non_albumin_protein\"            "
      ]
     },
     "metadata": {},
     "output_type": "display_data"
    },
    {
     "data": {
      "text/html": [
       "<ol class=list-inline>\n",
       "\t<li>'Glycated_haemoglobin_(HbA1c)'</li>\n",
       "\t<li>'IGF-1'</li>\n",
       "\t<li>'Triglycerides'</li>\n",
       "</ol>\n"
      ],
      "text/latex": [
       "\\begin{enumerate*}\n",
       "\\item 'Glycated\\_haemoglobin\\_(HbA1c)'\n",
       "\\item 'IGF-1'\n",
       "\\item 'Triglycerides'\n",
       "\\end{enumerate*}\n"
      ],
      "text/markdown": [
       "1. 'Glycated_haemoglobin_(HbA1c)'\n",
       "2. 'IGF-1'\n",
       "3. 'Triglycerides'\n",
       "\n",
       "\n"
      ],
      "text/plain": [
       "[1] \"Glycated_haemoglobin_(HbA1c)\" \"IGF-1\"                       \n",
       "[3] \"Triglycerides\"               "
      ]
     },
     "metadata": {},
     "output_type": "display_data"
    },
    {
     "data": {
      "text/html": [
       "31"
      ],
      "text/latex": [
       "31"
      ],
      "text/markdown": [
       "31"
      ],
      "text/plain": [
       "[1] 31"
      ]
     },
     "metadata": {},
     "output_type": "display_data"
    }
   ],
   "source": [
    "setdiff(as.character(biomarker_df$trait), phe_codes$variable_name)\n",
    "setdiff(filter(phe_codes, category==\"biomarker\")$variable_name,as.character(biomarker_df$trait))\n",
    "\n",
    "## TODO: looks like we're missing hbA1C and IGF-1 <-- go back and redo these!\n",
    "\n",
    "length(intersect(as.character(biomarker_df$trait), phe_codes$variable_name)) # 32\n",
    "\n",
    "# added this one: 30510, biomarker, Creatinine_in_urine, NA; fixed CRP\n",
    "\n",
    "## TODO: what is going on w \"Fasting_glucose\", \"eGFR\", \"Non_albumin_protein\" <-- are these derived?\n",
    "##  these are phenotypes we somehow have but didn't know abt?\n",
    "##  consider the statin-adjusted too\n",
    "\n"
   ]
  },
  {
   "cell_type": "code",
   "execution_count": 36,
   "metadata": {},
   "outputs": [
    {
     "name": "stderr",
     "output_type": "stream",
     "text": [
      "Joining, by = \"variable_name\"\n",
      "Warning message:\n",
      "“Column `variable_name` joining character vector and factor, coercing into character vector”"
     ]
    },
    {
     "data": {
      "text/html": [
       "<table>\n",
       "<thead><tr><th scope=col>trait</th><th scope=col>category</th><th scope=col>variable_name</th><th scope=col>n</th><th scope=col>pi[1]</th><th scope=col>pi[2]</th><th scope=col>Sigma[1,1]</th><th scope=col>Sigma[1,2]</th><th scope=col>Sigma[2,1]</th><th scope=col>Sigma[2,2]</th><th scope=col>rg</th><th scope=col>rg.l</th><th scope=col>rg.u</th></tr></thead>\n",
       "<tbody>\n",
       "\t<tr><td>30620                          </td><td>biomarker                      </td><td>Alanine_aminotransferase       </td><td>185830                         </td><td>0.9278233                      </td><td>0.072176681                    </td><td>7.171212e-05                   </td><td>6.934385e-05                   </td><td>6.934385e-05                   </td><td>8.026258e-05                   </td><td>0.9140675                      </td><td>0.8918961                      </td><td>0.9357448                      </td></tr>\n",
       "\t<tr><td>30600                          </td><td>biomarker                      </td><td>Albumin                        </td><td>185176                         </td><td>0.8741166                      </td><td>0.125883423                    </td><td>4.366686e-05                   </td><td>4.238062e-05                   </td><td>4.238062e-05                   </td><td>4.326505e-05                   </td><td>0.9752237                      </td><td>0.9527401                      </td><td>0.9930145                      </td></tr>\n",
       "\t<tr><td>30610                          </td><td>biomarker                      </td><td>Alkaline_phosphatase           </td><td>185835                         </td><td>0.9919450                      </td><td>0.008054994                    </td><td>9.269005e-03                   </td><td>1.050801e-02                   </td><td>1.050801e-02                   </td><td>1.194561e-02                   </td><td>0.9986591                      </td><td>0.9981819                      </td><td>0.9990334                      </td></tr>\n",
       "\t<tr><td>30630                          </td><td>biomarker                      </td><td>Apolipoprotein_A               </td><td>185159                         </td><td>0.9793958                      </td><td>0.020604221                    </td><td>6.288996e-04                   </td><td>6.567083e-04                   </td><td>6.567083e-04                   </td><td>7.070754e-04                   </td><td>0.9848183                      </td><td>0.9798631                      </td><td>0.9892995                      </td></tr>\n",
       "\t<tr><td>Apolipoprotein_B.adjust.statins</td><td>biomarker                      </td><td>Apolipoprotein_B.adjust.statins</td><td>185788                         </td><td>0.9840625                      </td><td>0.015937455                    </td><td>1.261674e-03                   </td><td>1.168401e-03                   </td><td>1.168401e-03                   </td><td>1.104964e-03                   </td><td>0.9895991                      </td><td>0.9864116                      </td><td>0.9922658                      </td></tr>\n",
       "\t<tr><td>30640                          </td><td>biomarker                      </td><td>Apolipoprotein_B               </td><td>185793                         </td><td>0.9913960                      </td><td>0.008603986                    </td><td>1.409642e-03                   </td><td>1.181322e-03                   </td><td>1.181322e-03                   </td><td>1.015093e-03                   </td><td>0.9875976                      </td><td>0.9830573                      </td><td>0.9915109                      </td></tr>\n",
       "</tbody>\n",
       "</table>\n"
      ],
      "text/latex": [
       "\\begin{tabular}{r|lllllllllllll}\n",
       " trait & category & variable\\_name & n & pi{[}1{]} & pi{[}2{]} & Sigma{[}1,1{]} & Sigma{[}1,2{]} & Sigma{[}2,1{]} & Sigma{[}2,2{]} & rg & rg.l & rg.u\\\\\n",
       "\\hline\n",
       "\t 30620                             & biomarker                         & Alanine\\_aminotransferase        & 185830                            & 0.9278233                         & 0.072176681                       & 7.171212e-05                      & 6.934385e-05                      & 6.934385e-05                      & 8.026258e-05                      & 0.9140675                         & 0.8918961                         & 0.9357448                        \\\\\n",
       "\t 30600                           & biomarker                       & Albumin                         & 185176                          & 0.8741166                       & 0.125883423                     & 4.366686e-05                    & 4.238062e-05                    & 4.238062e-05                    & 4.326505e-05                    & 0.9752237                       & 0.9527401                       & 0.9930145                      \\\\\n",
       "\t 30610                             & biomarker                         & Alkaline\\_phosphatase            & 185835                            & 0.9919450                         & 0.008054994                       & 9.269005e-03                      & 1.050801e-02                      & 1.050801e-02                      & 1.194561e-02                      & 0.9986591                         & 0.9981819                         & 0.9990334                        \\\\\n",
       "\t 30630                             & biomarker                         & Apolipoprotein\\_A                & 185159                            & 0.9793958                         & 0.020604221                       & 6.288996e-04                      & 6.567083e-04                      & 6.567083e-04                      & 7.070754e-04                      & 0.9848183                         & 0.9798631                         & 0.9892995                        \\\\\n",
       "\t Apolipoprotein\\_B.adjust.statins & biomarker                         & Apolipoprotein\\_B.adjust.statins & 185788                            & 0.9840625                         & 0.015937455                       & 1.261674e-03                      & 1.168401e-03                      & 1.168401e-03                      & 1.104964e-03                      & 0.9895991                         & 0.9864116                         & 0.9922658                        \\\\\n",
       "\t 30640                             & biomarker                         & Apolipoprotein\\_B                & 185793                            & 0.9913960                         & 0.008603986                       & 1.409642e-03                      & 1.181322e-03                      & 1.181322e-03                      & 1.015093e-03                      & 0.9875976                         & 0.9830573                         & 0.9915109                        \\\\\n",
       "\\end{tabular}\n"
      ],
      "text/markdown": [
       "\n",
       "trait | category | variable_name | n | pi[1] | pi[2] | Sigma[1,1] | Sigma[1,2] | Sigma[2,1] | Sigma[2,2] | rg | rg.l | rg.u | \n",
       "|---|---|---|---|---|---|\n",
       "| 30620                           | biomarker                       | Alanine_aminotransferase        | 185830                          | 0.9278233                       | 0.072176681                     | 7.171212e-05                    | 6.934385e-05                    | 6.934385e-05                    | 8.026258e-05                    | 0.9140675                       | 0.8918961                       | 0.9357448                       | \n",
       "| 30600                           | biomarker                       | Albumin                         | 185176                          | 0.8741166                       | 0.125883423                     | 4.366686e-05                    | 4.238062e-05                    | 4.238062e-05                    | 4.326505e-05                    | 0.9752237                       | 0.9527401                       | 0.9930145                       | \n",
       "| 30610                           | biomarker                       | Alkaline_phosphatase            | 185835                          | 0.9919450                       | 0.008054994                     | 9.269005e-03                    | 1.050801e-02                    | 1.050801e-02                    | 1.194561e-02                    | 0.9986591                       | 0.9981819                       | 0.9990334                       | \n",
       "| 30630                           | biomarker                       | Apolipoprotein_A                | 185159                          | 0.9793958                       | 0.020604221                     | 6.288996e-04                    | 6.567083e-04                    | 6.567083e-04                    | 7.070754e-04                    | 0.9848183                       | 0.9798631                       | 0.9892995                       | \n",
       "| Apolipoprotein_B.adjust.statins | biomarker                       | Apolipoprotein_B.adjust.statins | 185788                          | 0.9840625                       | 0.015937455                     | 1.261674e-03                    | 1.168401e-03                    | 1.168401e-03                    | 1.104964e-03                    | 0.9895991                       | 0.9864116                       | 0.9922658                       | \n",
       "| 30640                           | biomarker                       | Apolipoprotein_B                | 185793                          | 0.9913960                       | 0.008603986                     | 1.409642e-03                    | 1.181322e-03                    | 1.181322e-03                    | 1.015093e-03                    | 0.9875976                       | 0.9830573                       | 0.9915109                       | \n",
       "\n",
       "\n"
      ],
      "text/plain": [
       "  trait                           category  variable_name                  \n",
       "1 30620                           biomarker Alanine_aminotransferase       \n",
       "2 30600                           biomarker Albumin                        \n",
       "3 30610                           biomarker Alkaline_phosphatase           \n",
       "4 30630                           biomarker Apolipoprotein_A               \n",
       "5 Apolipoprotein_B.adjust.statins biomarker Apolipoprotein_B.adjust.statins\n",
       "6 30640                           biomarker Apolipoprotein_B               \n",
       "  n      pi[1]     pi[2]       Sigma[1,1]   Sigma[1,2]   Sigma[2,1]  \n",
       "1 185830 0.9278233 0.072176681 7.171212e-05 6.934385e-05 6.934385e-05\n",
       "2 185176 0.8741166 0.125883423 4.366686e-05 4.238062e-05 4.238062e-05\n",
       "3 185835 0.9919450 0.008054994 9.269005e-03 1.050801e-02 1.050801e-02\n",
       "4 185159 0.9793958 0.020604221 6.288996e-04 6.567083e-04 6.567083e-04\n",
       "5 185788 0.9840625 0.015937455 1.261674e-03 1.168401e-03 1.168401e-03\n",
       "6 185793 0.9913960 0.008603986 1.409642e-03 1.181322e-03 1.181322e-03\n",
       "  Sigma[2,2]   rg        rg.l      rg.u     \n",
       "1 8.026258e-05 0.9140675 0.8918961 0.9357448\n",
       "2 4.326505e-05 0.9752237 0.9527401 0.9930145\n",
       "3 1.194561e-02 0.9986591 0.9981819 0.9990334\n",
       "4 7.070754e-04 0.9848183 0.9798631 0.9892995\n",
       "5 1.104964e-03 0.9895991 0.9864116 0.9922658\n",
       "6 1.015093e-03 0.9875976 0.9830573 0.9915109"
      ]
     },
     "metadata": {},
     "output_type": "display_data"
    }
   ],
   "source": [
    "biomarker_df2 <- right_join(phe_codes %>% select(trait, category, variable_name), \n",
    "                            biomarker_df %>% rename(variable_name=trait))  %>%\n",
    "mutate(category=\"biomarker\", trait=ifelse(is.na(trait), variable_name, trait))  %>% select(-h.f, -h.m) \n",
    "\n",
    "head(biomarker_df2)"
   ]
  },
  {
   "cell_type": "code",
   "execution_count": 10,
   "metadata": {},
   "outputs": [
    {
     "data": {
      "text/html": [
       "<ol class=list-inline>\n",
       "\t<li>'h_err_Alanine_aminotransferase_2_.txt'</li>\n",
       "\t<li>'h_err_Albumin_2_.txt'</li>\n",
       "\t<li>'h_err_Aspartate_aminotransferase_2_.txt'</li>\n",
       "\t<li>'h_err_C_reactive_protein_2_.txt'</li>\n",
       "\t<li>'h_err_Calcium_2_.txt'</li>\n",
       "\t<li>'h_err_Cholesterol_2_.txt'</li>\n",
       "\t<li>'h_err_Cholesterol.adjust.statins_2_.txt'</li>\n",
       "\t<li>'h_err_Creatinine_2_.txt'</li>\n",
       "\t<li>'h_err_Cystatin_C_2_.txt'</li>\n",
       "\t<li>'h_err_eGFR_2_.txt'</li>\n",
       "\t<li>'h_err_Gamma_glutamyltransferase_2_.txt'</li>\n",
       "\t<li>'h_err_Microalbumin_in_urine_2_.txt'</li>\n",
       "\t<li>'h_err_Non_albumin_protein_2_.txt'</li>\n",
       "\t<li>'h_err_Phosphate_2_.txt'</li>\n",
       "\t<li>'h_err_Rheumatoid_factor_2_.txt'</li>\n",
       "\t<li>'h_err_Testosterone_2_.txt'</li>\n",
       "\t<li>'h_err_Total_protein_2_.txt'</li>\n",
       "\t<li>'h_err_Urate_2_.txt'</li>\n",
       "\t<li>'h_err_Urea_2_.txt'</li>\n",
       "\t<li>'h_err_Vitamin_D_2_.txt'</li>\n",
       "</ol>\n"
      ],
      "text/latex": [
       "\\begin{enumerate*}\n",
       "\\item 'h\\_err\\_Alanine\\_aminotransferase\\_2\\_.txt'\n",
       "\\item 'h\\_err\\_Albumin\\_2\\_.txt'\n",
       "\\item 'h\\_err\\_Aspartate\\_aminotransferase\\_2\\_.txt'\n",
       "\\item 'h\\_err\\_C\\_reactive\\_protein\\_2\\_.txt'\n",
       "\\item 'h\\_err\\_Calcium\\_2\\_.txt'\n",
       "\\item 'h\\_err\\_Cholesterol\\_2\\_.txt'\n",
       "\\item 'h\\_err\\_Cholesterol.adjust.statins\\_2\\_.txt'\n",
       "\\item 'h\\_err\\_Creatinine\\_2\\_.txt'\n",
       "\\item 'h\\_err\\_Cystatin\\_C\\_2\\_.txt'\n",
       "\\item 'h\\_err\\_eGFR\\_2\\_.txt'\n",
       "\\item 'h\\_err\\_Gamma\\_glutamyltransferase\\_2\\_.txt'\n",
       "\\item 'h\\_err\\_Microalbumin\\_in\\_urine\\_2\\_.txt'\n",
       "\\item 'h\\_err\\_Non\\_albumin\\_protein\\_2\\_.txt'\n",
       "\\item 'h\\_err\\_Phosphate\\_2\\_.txt'\n",
       "\\item 'h\\_err\\_Rheumatoid\\_factor\\_2\\_.txt'\n",
       "\\item 'h\\_err\\_Testosterone\\_2\\_.txt'\n",
       "\\item 'h\\_err\\_Total\\_protein\\_2\\_.txt'\n",
       "\\item 'h\\_err\\_Urate\\_2\\_.txt'\n",
       "\\item 'h\\_err\\_Urea\\_2\\_.txt'\n",
       "\\item 'h\\_err\\_Vitamin\\_D\\_2\\_.txt'\n",
       "\\end{enumerate*}\n"
      ],
      "text/markdown": [
       "1. 'h_err_Alanine_aminotransferase_2_.txt'\n",
       "2. 'h_err_Albumin_2_.txt'\n",
       "3. 'h_err_Aspartate_aminotransferase_2_.txt'\n",
       "4. 'h_err_C_reactive_protein_2_.txt'\n",
       "5. 'h_err_Calcium_2_.txt'\n",
       "6. 'h_err_Cholesterol_2_.txt'\n",
       "7. 'h_err_Cholesterol.adjust.statins_2_.txt'\n",
       "8. 'h_err_Creatinine_2_.txt'\n",
       "9. 'h_err_Cystatin_C_2_.txt'\n",
       "10. 'h_err_eGFR_2_.txt'\n",
       "11. 'h_err_Gamma_glutamyltransferase_2_.txt'\n",
       "12. 'h_err_Microalbumin_in_urine_2_.txt'\n",
       "13. 'h_err_Non_albumin_protein_2_.txt'\n",
       "14. 'h_err_Phosphate_2_.txt'\n",
       "15. 'h_err_Rheumatoid_factor_2_.txt'\n",
       "16. 'h_err_Testosterone_2_.txt'\n",
       "17. 'h_err_Total_protein_2_.txt'\n",
       "18. 'h_err_Urate_2_.txt'\n",
       "19. 'h_err_Urea_2_.txt'\n",
       "20. 'h_err_Vitamin_D_2_.txt'\n",
       "\n",
       "\n"
      ],
      "text/plain": [
       " [1] \"h_err_Alanine_aminotransferase_2_.txt\"  \n",
       " [2] \"h_err_Albumin_2_.txt\"                   \n",
       " [3] \"h_err_Aspartate_aminotransferase_2_.txt\"\n",
       " [4] \"h_err_C_reactive_protein_2_.txt\"        \n",
       " [5] \"h_err_Calcium_2_.txt\"                   \n",
       " [6] \"h_err_Cholesterol_2_.txt\"               \n",
       " [7] \"h_err_Cholesterol.adjust.statins_2_.txt\"\n",
       " [8] \"h_err_Creatinine_2_.txt\"                \n",
       " [9] \"h_err_Cystatin_C_2_.txt\"                \n",
       "[10] \"h_err_eGFR_2_.txt\"                      \n",
       "[11] \"h_err_Gamma_glutamyltransferase_2_.txt\" \n",
       "[12] \"h_err_Microalbumin_in_urine_2_.txt\"     \n",
       "[13] \"h_err_Non_albumin_protein_2_.txt\"       \n",
       "[14] \"h_err_Phosphate_2_.txt\"                 \n",
       "[15] \"h_err_Rheumatoid_factor_2_.txt\"         \n",
       "[16] \"h_err_Testosterone_2_.txt\"              \n",
       "[17] \"h_err_Total_protein_2_.txt\"             \n",
       "[18] \"h_err_Urate_2_.txt\"                     \n",
       "[19] \"h_err_Urea_2_.txt\"                      \n",
       "[20] \"h_err_Vitamin_D_2_.txt\"                 "
      ]
     },
     "metadata": {},
     "output_type": "display_data"
    }
   ],
   "source": []
  },
  {
   "cell_type": "code",
   "execution_count": 41,
   "metadata": {},
   "outputs": [
    {
     "name": "stderr",
     "output_type": "stream",
     "text": [
      "Parsed with column specification:\n",
      "cols(\n",
      "  trait = col_character(),\n",
      "  int = col_character(),\n",
      "  sex = col_character(),\n",
      "  value = col_character()\n",
      ")\n",
      "Parsed with column specification:\n",
      "cols(\n",
      "  trait = col_character(),\n",
      "  int = col_character(),\n",
      "  sex = col_character(),\n",
      "  value = col_double()\n",
      ")\n",
      "Parsed with column specification:\n",
      "cols(\n",
      "  trait = col_character(),\n",
      "  int = col_character(),\n",
      "  sex = col_character(),\n",
      "  value = col_double()\n",
      ")\n",
      "Parsed with column specification:\n",
      "cols(\n",
      "  trait = col_character(),\n",
      "  int = col_character(),\n",
      "  sex = col_character(),\n",
      "  value = col_double()\n",
      ")\n",
      "Parsed with column specification:\n",
      "cols(\n",
      "  trait = col_character(),\n",
      "  int = col_character(),\n",
      "  sex = col_character(),\n",
      "  value = col_double()\n",
      ")\n",
      "Parsed with column specification:\n",
      "cols(\n",
      "  trait = col_character(),\n",
      "  int = col_character(),\n",
      "  sex = col_character(),\n",
      "  value = col_double()\n",
      ")\n",
      "Parsed with column specification:\n",
      "cols(\n",
      "  trait = col_character(),\n",
      "  int = col_character(),\n",
      "  sex = col_character(),\n",
      "  value = col_character()\n",
      ")\n",
      "Parsed with column specification:\n",
      "cols(\n",
      "  trait = col_character(),\n",
      "  int = col_character(),\n",
      "  sex = col_character(),\n",
      "  value = col_double()\n",
      ")\n",
      "Parsed with column specification:\n",
      "cols(\n",
      "  trait = col_character(),\n",
      "  int = col_character(),\n",
      "  sex = col_character(),\n",
      "  value = col_double()\n",
      ")\n",
      "Parsed with column specification:\n",
      "cols(\n",
      "  trait = col_character(),\n",
      "  int = col_character(),\n",
      "  sex = col_character(),\n",
      "  value = col_double()\n",
      ")\n",
      "Parsed with column specification:\n",
      "cols(\n",
      "  trait = col_character(),\n",
      "  int = col_character(),\n",
      "  sex = col_character(),\n",
      "  value = col_double()\n",
      ")\n",
      "Parsed with column specification:\n",
      "cols(\n",
      "  trait = col_character(),\n",
      "  int = col_character(),\n",
      "  sex = col_character(),\n",
      "  value = col_double()\n",
      ")\n",
      "Parsed with column specification:\n",
      "cols(\n",
      "  trait = col_character(),\n",
      "  int = col_character(),\n",
      "  sex = col_character(),\n",
      "  value = col_double()\n",
      ")\n",
      "Parsed with column specification:\n",
      "cols(\n",
      "  trait = col_character(),\n",
      "  int = col_character(),\n",
      "  sex = col_character(),\n",
      "  value = col_double()\n",
      ")\n",
      "Parsed with column specification:\n",
      "cols(\n",
      "  trait = col_character(),\n",
      "  int = col_character(),\n",
      "  sex = col_character(),\n",
      "  value = col_double()\n",
      ")\n",
      "Parsed with column specification:\n",
      "cols(\n",
      "  trait = col_character(),\n",
      "  int = col_character(),\n",
      "  sex = col_character(),\n",
      "  value = col_double()\n",
      ")\n",
      "Parsed with column specification:\n",
      "cols(\n",
      "  trait = col_character(),\n",
      "  int = col_character(),\n",
      "  sex = col_character(),\n",
      "  value = col_double()\n",
      ")\n",
      "Parsed with column specification:\n",
      "cols(\n",
      "  trait = col_character(),\n",
      "  int = col_character(),\n",
      "  sex = col_character(),\n",
      "  value = col_double()\n",
      ")\n",
      "Parsed with column specification:\n",
      "cols(\n",
      "  trait = col_character(),\n",
      "  int = col_character(),\n",
      "  sex = col_character(),\n",
      "  value = col_double()\n",
      ")\n",
      "Parsed with column specification:\n",
      "cols(\n",
      "  trait = col_character(),\n",
      "  int = col_character(),\n",
      "  sex = col_character(),\n",
      "  value = col_double()\n",
      ")\n",
      "Parsed with column specification:\n",
      "cols(\n",
      "  trait = col_character(),\n",
      "  int = col_character(),\n",
      "  sex = col_character(),\n",
      "  value = col_double()\n",
      ")\n",
      "Parsed with column specification:\n",
      "cols(\n",
      "  trait = col_character(),\n",
      "  int = col_character(),\n",
      "  sex = col_character(),\n",
      "  value = col_double()\n",
      ")\n",
      "Parsed with column specification:\n",
      "cols(\n",
      "  trait = col_character(),\n",
      "  int = col_character(),\n",
      "  sex = col_character(),\n",
      "  value = col_double()\n",
      ")\n",
      "Parsed with column specification:\n",
      "cols(\n",
      "  trait = col_character(),\n",
      "  int = col_character(),\n",
      "  sex = col_character(),\n",
      "  value = col_double()\n",
      ")\n",
      "Parsed with column specification:\n",
      "cols(\n",
      "  trait = col_character(),\n",
      "  int = col_character(),\n",
      "  sex = col_character(),\n",
      "  value = col_double()\n",
      ")\n",
      "Parsed with column specification:\n",
      "cols(\n",
      "  trait = col_character(),\n",
      "  int = col_character(),\n",
      "  sex = col_character(),\n",
      "  value = col_double()\n",
      ")\n",
      "Parsed with column specification:\n",
      "cols(\n",
      "  trait = col_character(),\n",
      "  int = col_character(),\n",
      "  sex = col_character(),\n",
      "  value = col_double()\n",
      ")\n",
      "Parsed with column specification:\n",
      "cols(\n",
      "  trait = col_character(),\n",
      "  int = col_character(),\n",
      "  sex = col_character(),\n",
      "  value = col_double()\n",
      ")\n",
      "Parsed with column specification:\n",
      "cols(\n",
      "  trait = col_character(),\n",
      "  int = col_character(),\n",
      "  sex = col_character(),\n",
      "  value = col_double()\n",
      ")\n",
      "Parsed with column specification:\n",
      "cols(\n",
      "  trait = col_character(),\n",
      "  int = col_character(),\n",
      "  sex = col_character(),\n",
      "  value = col_double()\n",
      ")\n",
      "Parsed with column specification:\n",
      "cols(\n",
      "  trait = col_character(),\n",
      "  int = col_character(),\n",
      "  sex = col_character(),\n",
      "  value = col_double()\n",
      ")\n",
      "Parsed with column specification:\n",
      "cols(\n",
      "  trait = col_character(),\n",
      "  int = col_character(),\n",
      "  sex = col_character(),\n",
      "  value = col_double()\n",
      ")\n",
      "Parsed with column specification:\n",
      "cols(\n",
      "  trait = col_character(),\n",
      "  int = col_character(),\n",
      "  sex = col_character(),\n",
      "  value = col_double()\n",
      ")\n",
      "Parsed with column specification:\n",
      "cols(\n",
      "  trait = col_character(),\n",
      "  int = col_character(),\n",
      "  sex = col_character(),\n",
      "  value = col_double()\n",
      ")\n",
      "Parsed with column specification:\n",
      "cols(\n",
      "  trait = col_character(),\n",
      "  int = col_character(),\n",
      "  sex = col_character(),\n",
      "  value = col_double()\n",
      ")\n",
      "Parsed with column specification:\n",
      "cols(\n",
      "  trait = col_character(),\n",
      "  int = col_character(),\n",
      "  sex = col_character(),\n",
      "  value = col_double()\n",
      ")\n",
      "Parsed with column specification:\n",
      "cols(\n",
      "  trait = col_character(),\n",
      "  int = col_character(),\n",
      "  sex = col_character(),\n",
      "  value = col_double()\n",
      ")\n",
      "Parsed with column specification:\n",
      "cols(\n",
      "  trait = col_character(),\n",
      "  int = col_character(),\n",
      "  sex = col_character(),\n",
      "  value = col_double()\n",
      ")\n"
     ]
    },
    {
     "data": {
      "text/html": [
       "<table>\n",
       "<thead><tr><th scope=col>trait</th><th scope=col>int</th><th scope=col>sex</th><th scope=col>value</th></tr></thead>\n",
       "<tbody>\n",
       "\t<tr><td>Alanine_aminotransferase</td><td>up                      </td><td>hf                      </td><td>NA                      </td></tr>\n",
       "\t<tr><td>Alanine_aminotransferase</td><td>low                     </td><td>hf                      </td><td>NA                      </td></tr>\n",
       "\t<tr><td>Alanine_aminotransferase</td><td>center                  </td><td>hf                      </td><td>NA                      </td></tr>\n",
       "\t<tr><td>Alanine_aminotransferase</td><td>up                      </td><td>hm                      </td><td>NA                      </td></tr>\n",
       "\t<tr><td>Alanine_aminotransferase</td><td>low                     </td><td>hm                      </td><td>NA                      </td></tr>\n",
       "\t<tr><td>Alanine_aminotransferase</td><td>center                  </td><td>hm                      </td><td>NA                      </td></tr>\n",
       "</tbody>\n",
       "</table>\n"
      ],
      "text/latex": [
       "\\begin{tabular}{r|llll}\n",
       " trait & int & sex & value\\\\\n",
       "\\hline\n",
       "\t Alanine\\_aminotransferase & up                         & hf                         & NA                        \\\\\n",
       "\t Alanine\\_aminotransferase & low                        & hf                         & NA                        \\\\\n",
       "\t Alanine\\_aminotransferase & center                     & hf                         & NA                        \\\\\n",
       "\t Alanine\\_aminotransferase & up                         & hm                         & NA                        \\\\\n",
       "\t Alanine\\_aminotransferase & low                        & hm                         & NA                        \\\\\n",
       "\t Alanine\\_aminotransferase & center                     & hm                         & NA                        \\\\\n",
       "\\end{tabular}\n"
      ],
      "text/markdown": [
       "\n",
       "trait | int | sex | value | \n",
       "|---|---|---|---|---|---|\n",
       "| Alanine_aminotransferase | up                       | hf                       | NA                       | \n",
       "| Alanine_aminotransferase | low                      | hf                       | NA                       | \n",
       "| Alanine_aminotransferase | center                   | hf                       | NA                       | \n",
       "| Alanine_aminotransferase | up                       | hm                       | NA                       | \n",
       "| Alanine_aminotransferase | low                      | hm                       | NA                       | \n",
       "| Alanine_aminotransferase | center                   | hm                       | NA                       | \n",
       "\n",
       "\n"
      ],
      "text/plain": [
       "  trait                    int    sex value\n",
       "1 Alanine_aminotransferase up     hf  NA   \n",
       "2 Alanine_aminotransferase low    hf  NA   \n",
       "3 Alanine_aminotransferase center hf  NA   \n",
       "4 Alanine_aminotransferase up     hm  NA   \n",
       "5 Alanine_aminotransferase low    hm  NA   \n",
       "6 Alanine_aminotransferase center hm  NA   "
      ]
     },
     "metadata": {},
     "output_type": "display_data"
    },
    {
     "data": {
      "text/html": [
       "38"
      ],
      "text/latex": [
       "38"
      ],
      "text/markdown": [
       "38"
      ],
      "text/plain": [
       "[1] 38"
      ]
     },
     "metadata": {},
     "output_type": "display_data"
    },
    {
     "data": {
      "text/html": [
       "39"
      ],
      "text/latex": [
       "39"
      ],
      "text/markdown": [
       "39"
      ],
      "text/plain": [
       "[1] 39"
      ]
     },
     "metadata": {},
     "output_type": "display_data"
    }
   ],
   "source": [
    "biomarker_err <- do.call(rbind, lapply(list.files(BIOMARKER.DIR, pattern=\"h_err*\")\n",
    ", function(f) \n",
    "    read_tsv(sprintf(\"%s/%s\", BIOMARKER.DIR, f))))\n",
    "head(biomarker_err)\n",
    "length(unique(biomarker_err$trait))\n",
    "length(biomarkers2)\n",
    "\n",
    "    \n"
   ]
  },
  {
   "cell_type": "code",
   "execution_count": 42,
   "metadata": {},
   "outputs": [
    {
     "name": "stderr",
     "output_type": "stream",
     "text": [
      "Joining, by = \"variable_name\"\n"
     ]
    }
   ],
   "source": [
    "biomarker_err_df <- right_join(phe_codes %>% select(trait, category, variable_name), biomarker_err %>% \n",
    "                               rename(variable_name=trait))\n",
    "biomarker_err_df2 <- biomarker_err_df %>% mutate( category=\"biomarker\", \n",
    "                            trait=ifelse(is.na(trait), variable_name, trait)) \n",
    "#biomarker_err_df[is.na(category)]$category <- \"biomarker\"\n",
    "#head(biomarker_err_df)\n"
   ]
  },
  {
   "cell_type": "code",
   "execution_count": 43,
   "metadata": {},
   "outputs": [
    {
     "data": {
      "text/plain": [
       "\n",
       "FALSE  TRUE \n",
       "  216    12 "
      ]
     },
     "metadata": {},
     "output_type": "display_data"
    }
   ],
   "source": [
    "table(is.na(biomarker_err$value))\n",
    "# TODO: these traits  do not have heritability estimates - what is going on?"
   ]
  },
  {
   "cell_type": "code",
   "execution_count": 44,
   "metadata": {
    "collapsed": true
   },
   "outputs": [],
   "source": [
    "# write out all the aggregated files\n",
    "\n",
    "biomarker_err_wide <- biomarker_err_df2 %>% \n",
    "mutate(\"h_type\"=paste(sex, substr(int, 1, 1), sep=\".\")) %>% \n",
    "select(-int, -sex) %>% spread(h_type, value) \n",
    "\n",
    "\n",
    "#alt_err_wide <- alt_err2 %>% \n",
    "#mutate(\"h_type\"=paste(sex, substr(int, 1, 1), sep=\".\")) %>% \n",
    "#select(-int, -sex) %>% spread(h_type, value) "
   ]
  },
  {
   "cell_type": "code",
   "execution_count": 45,
   "metadata": {},
   "outputs": [
    {
     "data": {
      "text/html": [
       "'biomarker'"
      ],
      "text/latex": [
       "'biomarker'"
      ],
      "text/markdown": [
       "'biomarker'"
      ],
      "text/plain": [
       "[1] \"biomarker\""
      ]
     },
     "metadata": {},
     "output_type": "display_data"
    }
   ],
   "source": [
    "#alt_full <- alt_df2 %>% rename(rg.c=rg) %>% \n",
    "#full_join(select(alt_err_wide, c(-category, -variable_name)), by=\"trait\") %>% unique()\n",
    "\n",
    "\n",
    "biomarker_full <- biomarker_df2 %>% rename(rg.c=rg) %>% \n",
    "full_join(select(biomarker_err_wide, c(-category, -variable_name)), by=\"trait\") %>% unique()\n",
    "\n",
    "m1_full <- biomarker_full #rbind(biomarker_full, alt_full)\n",
    "unique(m1_full$category)\n",
    "m1_full$category[m1_full$category==\"fat distribution\"] <- \"anthropometric\"\n",
    "m1_full$category[m1_full$category==\"anthropometric traits\"] <- \"anthropometric\"\n",
    "m1_full$category[m1_full$category==\"urinalysis\"] <- \"biomarker\"\n",
    "m1_full$category[m1_full$category %in% c(\"breathing\", \"hearing test\", \"lab test\", \"physical test\")] <- \"other\"\n",
    "\n",
    "#write_csv(biomarker_full, \"../../data/aggreg_results_1011/m1_biomarker.txt\")\n",
    "#write_csv(m1_full, \"../../data/aggreg_results_1011/m1_full.txt\")\n",
    "\n"
   ]
  },
  {
   "cell_type": "markdown",
   "metadata": {},
   "source": [
    "### CHECKING FAILED RUNS"
   ]
  },
  {
   "cell_type": "code",
   "execution_count": 46,
   "metadata": {},
   "outputs": [
    {
     "data": {
      "text/html": [
       "<ol class=list-inline>\n",
       "\t<li>'Fasting_glucose'</li>\n",
       "\t<li>'Microalbumin_in_urine'</li>\n",
       "\t<li>'Rheumatoid_factor'</li>\n",
       "</ol>\n"
      ],
      "text/latex": [
       "\\begin{enumerate*}\n",
       "\\item 'Fasting\\_glucose'\n",
       "\\item 'Microalbumin\\_in\\_urine'\n",
       "\\item 'Rheumatoid\\_factor'\n",
       "\\end{enumerate*}\n"
      ],
      "text/markdown": [
       "1. 'Fasting_glucose'\n",
       "2. 'Microalbumin_in_urine'\n",
       "3. 'Rheumatoid_factor'\n",
       "\n",
       "\n"
      ],
      "text/plain": [
       "[1] \"Fasting_glucose\"       \"Microalbumin_in_urine\" \"Rheumatoid_factor\"    "
      ]
     },
     "metadata": {},
     "output_type": "display_data"
    },
    {
     "data": {
      "text/html": [
       "<ol class=list-inline>\n",
       "\t<li>'Alanine_aminotransferase'</li>\n",
       "\t<li>'Aspartate_aminotransferase'</li>\n",
       "\t<li>'Fasting_glucose'</li>\n",
       "</ol>\n"
      ],
      "text/latex": [
       "\\begin{enumerate*}\n",
       "\\item 'Alanine\\_aminotransferase'\n",
       "\\item 'Aspartate\\_aminotransferase'\n",
       "\\item 'Fasting\\_glucose'\n",
       "\\end{enumerate*}\n"
      ],
      "text/markdown": [
       "1. 'Alanine_aminotransferase'\n",
       "2. 'Aspartate_aminotransferase'\n",
       "3. 'Fasting_glucose'\n",
       "\n",
       "\n"
      ],
      "text/plain": [
       "[1] \"Alanine_aminotransferase\"   \"Aspartate_aminotransferase\"\n",
       "[3] \"Fasting_glucose\"           "
      ]
     },
     "metadata": {},
     "output_type": "display_data"
    }
   ],
   "source": [
    " \n",
    "\n",
    "# which are NAs?\n",
    "# which have crazy CIs?\n",
    "# do we have an intuition for why this is?\n",
    "rg_bad <- m1_full %>% filter(rg.u > 1 | rg.l <  0) %>% select(variable_name)\n",
    "rg_bad$variable_name\n",
    "h_bad <- m1_full[apply(m1_full, 1, function(x) any(is.na(x)) | any(is.na(x))),] %>% select(variable_name)\n",
    "h_bad$variable_name\n"
   ]
  },
  {
   "cell_type": "code",
   "execution_count": 47,
   "metadata": {},
   "outputs": [
    {
     "data": {
      "text/html": [
       "<table>\n",
       "<thead><tr><th scope=col>trait</th><th scope=col>category</th><th scope=col>variable_name</th><th scope=col>n</th><th scope=col>pi[1]</th><th scope=col>pi[2]</th><th scope=col>Sigma[1,1]</th><th scope=col>Sigma[1,2]</th><th scope=col>Sigma[2,1]</th><th scope=col>Sigma[2,2]</th><th scope=col>rg.c</th><th scope=col>rg.l</th><th scope=col>rg.u</th><th scope=col>hf.c</th><th scope=col>hf.l</th><th scope=col>hf.u</th><th scope=col>hm.c</th><th scope=col>hm.l</th><th scope=col>hm.u</th></tr></thead>\n",
       "<tbody>\n",
       "</tbody>\n",
       "</table>\n"
      ],
      "text/latex": [
       "\\begin{tabular}{r|lllllllllllllllllll}\n",
       " trait & category & variable\\_name & n & pi{[}1{]} & pi{[}2{]} & Sigma{[}1,1{]} & Sigma{[}1,2{]} & Sigma{[}2,1{]} & Sigma{[}2,2{]} & rg.c & rg.l & rg.u & hf.c & hf.l & hf.u & hm.c & hm.l & hm.u\\\\\n",
       "\\hline\n",
       "\\end{tabular}\n"
      ],
      "text/markdown": [
       "\n",
       "trait | category | variable_name | n | pi[1] | pi[2] | Sigma[1,1] | Sigma[1,2] | Sigma[2,1] | Sigma[2,2] | rg.c | rg.l | rg.u | hf.c | hf.l | hf.u | hm.c | hm.l | hm.u | \n",
       "||\n",
       "\n",
       "\n"
      ],
      "text/plain": [
       "     trait category variable_name n pi[1] pi[2] Sigma[1,1] Sigma[1,2]\n",
       "     Sigma[2,1] Sigma[2,2] rg.c rg.l rg.u hf.c hf.l hf.u hm.c hm.l hm.u"
      ]
     },
     "metadata": {},
     "output_type": "display_data"
    }
   ],
   "source": [
    "\n",
    "m1_full %>% \n",
    "filter(trait %in% m1_full[duplicated(m1_full$trait),]$trait) %>% \n",
    "arrange(trait)\n",
    " # no duplicates"
   ]
  },
  {
   "cell_type": "code",
   "execution_count": 57,
   "metadata": {},
   "outputs": [
    {
     "data": {
      "text/html": [
       "<ol class=list-inline>\n",
       "\t<li>3</li>\n",
       "\t<li>19</li>\n",
       "</ol>\n"
      ],
      "text/latex": [
       "\\begin{enumerate*}\n",
       "\\item 3\n",
       "\\item 19\n",
       "\\end{enumerate*}\n"
      ],
      "text/markdown": [
       "1. 3\n",
       "2. 19\n",
       "\n",
       "\n"
      ],
      "text/plain": [
       "[1]  3 19"
      ]
     },
     "metadata": {},
     "output_type": "display_data"
    },
    {
     "data": {
      "text/html": [
       "<table>\n",
       "<thead><tr><th scope=col>trait</th><th scope=col>category</th><th scope=col>variable_name</th><th scope=col>n</th><th scope=col>pi[1]</th><th scope=col>pi[2]</th><th scope=col>Sigma[1,1]</th><th scope=col>Sigma[1,2]</th><th scope=col>Sigma[2,1]</th><th scope=col>Sigma[2,2]</th><th scope=col>rg.c</th><th scope=col>rg.l</th><th scope=col>rg.u</th><th scope=col>hf.c</th><th scope=col>hf.l</th><th scope=col>hf.u</th><th scope=col>hm.c</th><th scope=col>hm.l</th><th scope=col>hm.u</th></tr></thead>\n",
       "<tbody>\n",
       "\t<tr><td>eGFR             </td><td>biomarker        </td><td>eGFR             </td><td>186055           </td><td>0.809403         </td><td>0.190597         </td><td>4.8273e-05       </td><td>4.210828e-05     </td><td>4.210828e-05     </td><td>4.354333e-05     </td><td>0.9185215        </td><td>0.8993869        </td><td>0.9380572        </td><td>0.215340595195289</td><td>0.201009248881113</td><td>0.226333726211856</td><td>0.173998666689131</td><td>0.175667252341022</td><td>0.180281674505046</td></tr>\n",
       "</tbody>\n",
       "</table>\n"
      ],
      "text/latex": [
       "\\begin{tabular}{r|lllllllllllllllllll}\n",
       " trait & category & variable\\_name & n & pi{[}1{]} & pi{[}2{]} & Sigma{[}1,1{]} & Sigma{[}1,2{]} & Sigma{[}2,1{]} & Sigma{[}2,2{]} & rg.c & rg.l & rg.u & hf.c & hf.l & hf.u & hm.c & hm.l & hm.u\\\\\n",
       "\\hline\n",
       "\t eGFR              & biomarker         & eGFR              & 186055            & 0.809403          & 0.190597          & 4.8273e-05        & 4.210828e-05      & 4.210828e-05      & 4.354333e-05      & 0.9185215         & 0.8993869         & 0.9380572         & 0.215340595195289 & 0.201009248881113 & 0.226333726211856 & 0.173998666689131 & 0.175667252341022 & 0.180281674505046\\\\\n",
       "\\end{tabular}\n"
      ],
      "text/markdown": [
       "\n",
       "trait | category | variable_name | n | pi[1] | pi[2] | Sigma[1,1] | Sigma[1,2] | Sigma[2,1] | Sigma[2,2] | rg.c | rg.l | rg.u | hf.c | hf.l | hf.u | hm.c | hm.l | hm.u | \n",
       "|---|\n",
       "| eGFR              | biomarker         | eGFR              | 186055            | 0.809403          | 0.190597          | 4.8273e-05        | 4.210828e-05      | 4.210828e-05      | 4.354333e-05      | 0.9185215         | 0.8993869         | 0.9380572         | 0.215340595195289 | 0.201009248881113 | 0.226333726211856 | 0.173998666689131 | 0.175667252341022 | 0.180281674505046 | \n",
       "\n",
       "\n"
      ],
      "text/plain": [
       "  trait category  variable_name n      pi[1]    pi[2]    Sigma[1,1]\n",
       "1 eGFR  biomarker eGFR          186055 0.809403 0.190597 4.8273e-05\n",
       "  Sigma[1,2]   Sigma[2,1]   Sigma[2,2]   rg.c      rg.l      rg.u     \n",
       "1 4.210828e-05 4.210828e-05 4.354333e-05 0.9185215 0.8993869 0.9380572\n",
       "  hf.c              hf.l              hf.u              hm.c             \n",
       "1 0.215340595195289 0.201009248881113 0.226333726211856 0.173998666689131\n",
       "  hm.l              hm.u             \n",
       "1 0.175667252341022 0.180281674505046"
      ]
     },
     "metadata": {},
     "output_type": "display_data"
    }
   ],
   "source": [
    "bad_ci <- m1_full %>% filter(\n",
    "hf.u < hf.c |\n",
    "hf.c < hf.l |\n",
    "hm.u < hm.c |\n",
    "hm.c < hm.l) \n",
    "dim(bad_ci)\n",
    "bad_ci2 <- bad_ci %>% filter(!hf.u < hf.l & ! hm.u < hm.l)\n",
    "bad_ci2\n",
    "\n",
    "hmc <- m1_filt[m1_filt$trait==\"eGFR\",]$hm.c \n",
    "hml <- m1_filt[m1_filt$trait==\"eGFR\",]$hm.l\n",
    "\n",
    "m1_filt[m1_filt$trait==\"eGFR\",]$hm.c <- hml\n",
    "m1_filt[m1_filt$trait==\"eGFR\",]$hm.l <- hmc\n"
   ]
  },
  {
   "cell_type": "code",
   "execution_count": 48,
   "metadata": {},
   "outputs": [
    {
     "data": {
      "text/html": [
       "35"
      ],
      "text/latex": [
       "35"
      ],
      "text/markdown": [
       "35"
      ],
      "text/plain": [
       "[1] 35"
      ]
     },
     "metadata": {},
     "output_type": "display_data"
    }
   ],
   "source": [
    "biomarkers.poor <- c(\"Oestradiol\", \"Fasting_glucose\", \"Microalbumin_in_urine\", \"Rheumatoid_factor\")\n",
    "m1_filt <- m1_full %>% filter(!variable_name %in% biomarkers.poor)\n",
    "length(unique(m1_filt$variable_name))"
   ]
  },
  {
   "cell_type": "markdown",
   "metadata": {},
   "source": [
    "### PLOTTING NOW"
   ]
  },
  {
   "cell_type": "code",
   "execution_count": 49,
   "metadata": {},
   "outputs": [
    {
     "data": {
      "text/html": [
       "<table>\n",
       "<thead><tr><th scope=col>trait</th><th scope=col>category</th><th scope=col>variable_name</th><th scope=col>n</th><th scope=col>pi[1]</th><th scope=col>pi[2]</th><th scope=col>Sigma[1,1]</th><th scope=col>Sigma[1,2]</th><th scope=col>Sigma[2,1]</th><th scope=col>Sigma[2,2]</th><th scope=col>rg.c</th><th scope=col>rg.l</th><th scope=col>rg.u</th><th scope=col>hf.c</th><th scope=col>hf.l</th><th scope=col>hf.u</th><th scope=col>hm.c</th><th scope=col>hm.l</th><th scope=col>hm.u</th></tr></thead>\n",
       "<tbody>\n",
       "\t<tr><td>30610               </td><td>biomarker           </td><td>Alkaline_phosphatase</td><td>185835              </td><td>0.9919450           </td><td>0.0080549937        </td><td>0.0092690054        </td><td>0.0105080142        </td><td>0.0105080142        </td><td>0.011945614         </td><td>0.9986591           </td><td>0.9981819           </td><td>0.9990334           </td><td>0.18495289237796    </td><td>0.154888652869398   </td><td>0.213670592464987   </td><td>0.196016606676001   </td><td>0.167148558609726   </td><td>0.234350510189517   </td></tr>\n",
       "\t<tr><td>30640               </td><td>biomarker           </td><td>Apolipoprotein_B    </td><td>185793              </td><td>0.9913960           </td><td>0.0086039865        </td><td>0.0014096421        </td><td>0.0011813215        </td><td>0.0011813215        </td><td>0.001015093         </td><td>0.9875976           </td><td>0.9830573           </td><td>0.9915109           </td><td>0.0915667326916914  </td><td>0.0765811670665453  </td><td>0.106311805681689   </td><td>0.0604904244938026  </td><td>0.0499037389802593  </td><td>0.0672680622570202  </td></tr>\n",
       "\t<tr><td>30660               </td><td>biomarker           </td><td>Direct_bilirubin    </td><td>184755              </td><td>0.9981770           </td><td>0.0018230252        </td><td>0.0090162621        </td><td>0.0088131271        </td><td>0.0088131271        </td><td>0.008676078         </td><td>0.9964994           </td><td>0.9946432           </td><td>0.9979949           </td><td>0.0330915812509303  </td><td>0.027456956100671   </td><td>0.0350610876822557  </td><td>0.0311158299813006  </td><td>0.0267916308395546  </td><td>0.0339019097184237  </td></tr>\n",
       "\t<tr><td>30780               </td><td>biomarker           </td><td>LDL_direct          </td><td>185866              </td><td>0.9906170           </td><td>0.0093830058        </td><td>0.0009594104        </td><td>0.0007407035        </td><td>0.0007407035        </td><td>0.000598921         </td><td>0.9771746           </td><td>0.9684706           </td><td>0.9840960           </td><td>0.102747014553716   </td><td>0.0830414471062926  </td><td>0.121965615909705   </td><td>0.0579119095587373  </td><td>0.0462190596988514  </td><td>0.069132222229162   </td></tr>\n",
       "\t<tr><td>30790               </td><td>biomarker           </td><td>Lipoprotein_A       </td><td>184054              </td><td>0.9992051           </td><td>0.0007949098        </td><td>0.0790652957        </td><td>0.0779270863        </td><td>0.0779270863        </td><td>0.077398559         </td><td>0.9961706           </td><td>0.9934165           </td><td>0.9979622           </td><td>0.0549515146607531  </td><td>0.0364861255785844  </td><td>0.0827239355098562  </td><td>0.04373657954773    </td><td>0.0297278293406762  </td><td>0.0651990833173467  </td></tr>\n",
       "\t<tr><td>30840               </td><td>biomarker           </td><td>Total_bilirubin     </td><td>185769              </td><td>0.9968331           </td><td>0.0031668897        </td><td>0.0067545100        </td><td>0.0066787923        </td><td>0.0066787923        </td><td>0.006621970         </td><td>0.9986612           </td><td>0.9978405           </td><td>0.9993305           </td><td>0.0475403078229668  </td><td>0.0471860169667326  </td><td>0.0642871891072465  </td><td>0.0422981642152302  </td><td>0.039468419837877   </td><td>0.0558649574903968  </td></tr>\n",
       "</tbody>\n",
       "</table>\n"
      ],
      "text/latex": [
       "\\begin{tabular}{r|lllllllllllllllllll}\n",
       " trait & category & variable\\_name & n & pi{[}1{]} & pi{[}2{]} & Sigma{[}1,1{]} & Sigma{[}1,2{]} & Sigma{[}2,1{]} & Sigma{[}2,2{]} & rg.c & rg.l & rg.u & hf.c & hf.l & hf.u & hm.c & hm.l & hm.u\\\\\n",
       "\\hline\n",
       "\t 30610                  & biomarker              & Alkaline\\_phosphatase & 185835                 & 0.9919450              & 0.0080549937           & 0.0092690054           & 0.0105080142           & 0.0105080142           & 0.011945614            & 0.9986591              & 0.9981819              & 0.9990334              & 0.18495289237796       & 0.154888652869398      & 0.213670592464987      & 0.196016606676001      & 0.167148558609726      & 0.234350510189517     \\\\\n",
       "\t 30640                  & biomarker              & Apolipoprotein\\_B     & 185793                 & 0.9913960              & 0.0086039865           & 0.0014096421           & 0.0011813215           & 0.0011813215           & 0.001015093            & 0.9875976              & 0.9830573              & 0.9915109              & 0.0915667326916914     & 0.0765811670665453     & 0.106311805681689      & 0.0604904244938026     & 0.0499037389802593     & 0.0672680622570202    \\\\\n",
       "\t 30660                  & biomarker              & Direct\\_bilirubin     & 184755                 & 0.9981770              & 0.0018230252           & 0.0090162621           & 0.0088131271           & 0.0088131271           & 0.008676078            & 0.9964994              & 0.9946432              & 0.9979949              & 0.0330915812509303     & 0.027456956100671      & 0.0350610876822557     & 0.0311158299813006     & 0.0267916308395546     & 0.0339019097184237    \\\\\n",
       "\t 30780                  & biomarker              & LDL\\_direct           & 185866                 & 0.9906170              & 0.0093830058           & 0.0009594104           & 0.0007407035           & 0.0007407035           & 0.000598921            & 0.9771746              & 0.9684706              & 0.9840960              & 0.102747014553716      & 0.0830414471062926     & 0.121965615909705      & 0.0579119095587373     & 0.0462190596988514     & 0.069132222229162     \\\\\n",
       "\t 30790                  & biomarker              & Lipoprotein\\_A        & 184054                 & 0.9992051              & 0.0007949098           & 0.0790652957           & 0.0779270863           & 0.0779270863           & 0.077398559            & 0.9961706              & 0.9934165              & 0.9979622              & 0.0549515146607531     & 0.0364861255785844     & 0.0827239355098562     & 0.04373657954773       & 0.0297278293406762     & 0.0651990833173467    \\\\\n",
       "\t 30840                  & biomarker              & Total\\_bilirubin      & 185769                 & 0.9968331              & 0.0031668897           & 0.0067545100           & 0.0066787923           & 0.0066787923           & 0.006621970            & 0.9986612              & 0.9978405              & 0.9993305              & 0.0475403078229668     & 0.0471860169667326     & 0.0642871891072465     & 0.0422981642152302     & 0.039468419837877      & 0.0558649574903968    \\\\\n",
       "\\end{tabular}\n"
      ],
      "text/markdown": [
       "\n",
       "trait | category | variable_name | n | pi[1] | pi[2] | Sigma[1,1] | Sigma[1,2] | Sigma[2,1] | Sigma[2,2] | rg.c | rg.l | rg.u | hf.c | hf.l | hf.u | hm.c | hm.l | hm.u | \n",
       "|---|---|---|---|---|---|\n",
       "| 30610                | biomarker            | Alkaline_phosphatase | 185835               | 0.9919450            | 0.0080549937         | 0.0092690054         | 0.0105080142         | 0.0105080142         | 0.011945614          | 0.9986591            | 0.9981819            | 0.9990334            | 0.18495289237796     | 0.154888652869398    | 0.213670592464987    | 0.196016606676001    | 0.167148558609726    | 0.234350510189517    | \n",
       "| 30640                | biomarker            | Apolipoprotein_B     | 185793               | 0.9913960            | 0.0086039865         | 0.0014096421         | 0.0011813215         | 0.0011813215         | 0.001015093          | 0.9875976            | 0.9830573            | 0.9915109            | 0.0915667326916914   | 0.0765811670665453   | 0.106311805681689    | 0.0604904244938026   | 0.0499037389802593   | 0.0672680622570202   | \n",
       "| 30660                | biomarker            | Direct_bilirubin     | 184755               | 0.9981770            | 0.0018230252         | 0.0090162621         | 0.0088131271         | 0.0088131271         | 0.008676078          | 0.9964994            | 0.9946432            | 0.9979949            | 0.0330915812509303   | 0.027456956100671    | 0.0350610876822557   | 0.0311158299813006   | 0.0267916308395546   | 0.0339019097184237   | \n",
       "| 30780                | biomarker            | LDL_direct           | 185866               | 0.9906170            | 0.0093830058         | 0.0009594104         | 0.0007407035         | 0.0007407035         | 0.000598921          | 0.9771746            | 0.9684706            | 0.9840960            | 0.102747014553716    | 0.0830414471062926   | 0.121965615909705    | 0.0579119095587373   | 0.0462190596988514   | 0.069132222229162    | \n",
       "| 30790                | biomarker            | Lipoprotein_A        | 184054               | 0.9992051            | 0.0007949098         | 0.0790652957         | 0.0779270863         | 0.0779270863         | 0.077398559          | 0.9961706            | 0.9934165            | 0.9979622            | 0.0549515146607531   | 0.0364861255785844   | 0.0827239355098562   | 0.04373657954773     | 0.0297278293406762   | 0.0651990833173467   | \n",
       "| 30840                | biomarker            | Total_bilirubin      | 185769               | 0.9968331            | 0.0031668897         | 0.0067545100         | 0.0066787923         | 0.0066787923         | 0.006621970          | 0.9986612            | 0.9978405            | 0.9993305            | 0.0475403078229668   | 0.0471860169667326   | 0.0642871891072465   | 0.0422981642152302   | 0.039468419837877    | 0.0558649574903968   | \n",
       "\n",
       "\n"
      ],
      "text/plain": [
       "  trait category  variable_name        n      pi[1]     pi[2]       \n",
       "1 30610 biomarker Alkaline_phosphatase 185835 0.9919450 0.0080549937\n",
       "2 30640 biomarker Apolipoprotein_B     185793 0.9913960 0.0086039865\n",
       "3 30660 biomarker Direct_bilirubin     184755 0.9981770 0.0018230252\n",
       "4 30780 biomarker LDL_direct           185866 0.9906170 0.0093830058\n",
       "5 30790 biomarker Lipoprotein_A        184054 0.9992051 0.0007949098\n",
       "6 30840 biomarker Total_bilirubin      185769 0.9968331 0.0031668897\n",
       "  Sigma[1,1]   Sigma[1,2]   Sigma[2,1]   Sigma[2,2]  rg.c      rg.l     \n",
       "1 0.0092690054 0.0105080142 0.0105080142 0.011945614 0.9986591 0.9981819\n",
       "2 0.0014096421 0.0011813215 0.0011813215 0.001015093 0.9875976 0.9830573\n",
       "3 0.0090162621 0.0088131271 0.0088131271 0.008676078 0.9964994 0.9946432\n",
       "4 0.0009594104 0.0007407035 0.0007407035 0.000598921 0.9771746 0.9684706\n",
       "5 0.0790652957 0.0779270863 0.0779270863 0.077398559 0.9961706 0.9934165\n",
       "6 0.0067545100 0.0066787923 0.0066787923 0.006621970 0.9986612 0.9978405\n",
       "  rg.u      hf.c               hf.l               hf.u              \n",
       "1 0.9990334 0.18495289237796   0.154888652869398  0.213670592464987 \n",
       "2 0.9915109 0.0915667326916914 0.0765811670665453 0.106311805681689 \n",
       "3 0.9979949 0.0330915812509303 0.027456956100671  0.0350610876822557\n",
       "4 0.9840960 0.102747014553716  0.0830414471062926 0.121965615909705 \n",
       "5 0.9979622 0.0549515146607531 0.0364861255785844 0.0827239355098562\n",
       "6 0.9993305 0.0475403078229668 0.0471860169667326 0.0642871891072465\n",
       "  hm.c               hm.l               hm.u              \n",
       "1 0.196016606676001  0.167148558609726  0.234350510189517 \n",
       "2 0.0604904244938026 0.0499037389802593 0.0672680622570202\n",
       "3 0.0311158299813006 0.0267916308395546 0.0339019097184237\n",
       "4 0.0579119095587373 0.0462190596988514 0.069132222229162 \n",
       "5 0.04373657954773   0.0297278293406762 0.0651990833173467\n",
       "6 0.0422981642152302 0.039468419837877  0.0558649574903968"
      ]
     },
     "metadata": {},
     "output_type": "display_data"
    }
   ],
   "source": [
    "# what are the pis ?\n",
    "m1_filt%>% filter(`pi[1]` > 0.99) # should we remove these?"
   ]
  },
  {
   "cell_type": "code",
   "execution_count": 18,
   "metadata": {},
   "outputs": [
    {
     "data": {},
     "metadata": {},
     "output_type": "display_data"
    },
    {
     "data": {
      "image/png": "[encoded data removed]",
      "text/plain": [
       "plot without title"
      ]
     },
     "metadata": {},
     "output_type": "display_data"
    }
   ],
   "source": [
    "ggplot(m1_filt, aes(x=`pi[1]`, y=`rg.c`))+geom_point()"
   ]
  },
  {
   "cell_type": "code",
   "execution_count": 91,
   "metadata": {},
   "outputs": [
    {
     "name": "stderr",
     "output_type": "stream",
     "text": [
      "`stat_bin()` using `bins = 30`. Pick better value with `binwidth`.\n"
     ]
    },
    {
     "data": {},
     "metadata": {},
     "output_type": "display_data"
    },
    {
     "data": {
      "image/png": "[encoded data removed]",
      "text/plain": [
       "plot without title"
      ]
     },
     "metadata": {},
     "output_type": "display_data"
    }
   ],
   "source": [
    "ggplot(m1_filt, aes(x=`pi[1]`))+geom_histogram()"
   ]
  },
  {
   "cell_type": "code",
   "execution_count": 51,
   "metadata": {},
   "outputs": [
    {
     "data": {},
     "metadata": {},
     "output_type": "display_data"
    },
    {
     "data": {
      "image/png": "[encoded data removed]",
      "text/plain": [
       "plot without title"
      ]
     },
     "metadata": {},
     "output_type": "display_data"
    }
   ],
   "source": [
    "# plot the pis\n",
    "# plot the genetic correlations\n",
    "\n",
    "m1_filt <- m1_filt %>% mutate(variable_name=str_replace_all(variable_name, \"_\", \" \"))\n",
    "ggplot(m1_filt, aes(x=variable_name, y=rg.c))+geom_errorbar(aes(ymin=rg.l, ymax=rg.u)) + \n",
    "theme(axis.text.x=element_text(angle=90,hjust=1, vjust=0.5)) +ylab(\"Genetic Correlation\")+xlab(\"Trait\") + \n",
    "facet_grid(. ~ category,  scales=\"free\", space=\"free\")"
   ]
  },
  {
   "cell_type": "code",
   "execution_count": 58,
   "metadata": {
    "collapsed": true
   },
   "outputs": [],
   "source": [
    "m1_full2 <- m1_filt %>% select(variable_name, category, c('hf.c','hm.c', 'hf.l', 'hf.u' ,'hm.l' ,'hm.u')) %>% \n",
    "gather(key=\"h_type\", value=\"val\", -variable_name, -category) \n",
    "m1_full2$sex <-sapply(m1_full2$h_type, function(x) strsplit(as.character(x), \".\", fixed=TRUE)[[1]][[1]])\n",
    "m1_full2$int <- sapply(m1_full2$h_type, function(x) strsplit(as.character(x), \".\", fixed=TRUE)[[1]][[2]])\n",
    "m1_full3 <- m1_full2 %>% select(-h_type) %>% unique() %>% filter(!is.na(val)) %>% mutate(val=as.numeric(val)) \n"
   ]
  },
  {
   "cell_type": "code",
   "execution_count": 59,
   "metadata": {},
   "outputs": [
    {
     "name": "stderr",
     "output_type": "stream",
     "text": [
      "Warning message in .fun(.value[0], ...):\n",
      "“no non-missing arguments to min; returning Inf”"
     ]
    }
   ],
   "source": [
    "\n",
    "m1_full4 <- dcast(m1_full3, variable_name + category + sex ~ int, value.var=\"val\", fun.aggregate = min, na.rm = TRUE)"
   ]
  },
  {
   "cell_type": "code",
   "execution_count": 60,
   "metadata": {
    "collapsed": true
   },
   "outputs": [],
   "source": [
    "herit_df <- m1_full4 %>% rename(mid=c, low=l, up=u)  %>% \n",
    "mutate(sex=ifelse(sex==\"hf\", \"female\", ifelse(sex==\"hm\", \"male\", NA))) %>%\n",
    "mutate(variable_name=str_replace_all(variable_name, \"_\", \" \"))"
   ]
  },
  {
   "cell_type": "code",
   "execution_count": 61,
   "metadata": {},
   "outputs": [
    {
     "data": {},
     "metadata": {},
     "output_type": "display_data"
    },
    {
     "data": {
      "image/png": "[encoded data removed]",
      "text/plain": [
       "plot without title"
      ]
     },
     "metadata": {},
     "output_type": "display_data"
    }
   ],
   "source": [
    "ggplot(filter(herit_df, category==\"biomarker\"), aes(x=variable_name, y=mid, fill=sex))+\n",
    "geom_bar(stat=\"identity\", position=position_dodge())+\n",
    "geom_errorbar(aes(ymin=low, ymax=up), position=position_dodge(0.9), color=\"black\", width=0.5) + \n",
    "theme(axis.text.x=element_text(angle=90,hjust=1, vjust=0.5),\n",
    "     axis.title.x = element_text(margin = margin(t = 0, r = 0, b = 10, l = 0))) +ylab(\"Heritability\")+xlab(\"Trait\") + \n",
    "facet_grid(. ~ category,  scales=\"free\", space=\"free\")"
   ]
  },
  {
   "cell_type": "code",
   "execution_count": 102,
   "metadata": {
    "collapsed": true
   },
   "outputs": [],
   "source": [
    "# what is missing? what are we suspicious of?\n",
    "\n",
    "# find all the ones with weird h.f / r.g confidence intervals\n",
    "#   what is going on here?\n",
    "\n"
   ]
  },
  {
   "cell_type": "code",
   "execution_count": null,
   "metadata": {
    "collapsed": true
   },
   "outputs": [],
   "source": []
  }
 ],
 "metadata": {
  "kernelspec": {
   "display_name": "R",
   "language": "R",
   "name": "ir"
  },
  "language_info": {
   "codemirror_mode": "r",
   "file_extension": ".r",
   "mimetype": "text/x-r-source",
   "name": "R",
   "pygments_lexer": "r",
   "version": "3.4.0"
  }
 },
 "nbformat": 4,
 "nbformat_minor": 2
}
