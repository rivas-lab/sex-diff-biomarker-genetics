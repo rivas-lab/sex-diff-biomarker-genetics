{
 "cells": [
  {
   "cell_type": "markdown",
   "metadata": {},
   "source": [
    "Examine the odd case that the value for the heritability estimate can be higher than the upper error bar."
   ]
  },
  {
   "cell_type": "code",
   "execution_count": null,
   "metadata": {
    "collapsed": true
   },
   "outputs": [],
   "source": [
    "source(\"/scratch/PI/mrivas/users/erflynn/sex_div_gwas/mixture_model_scripts/heritability_utils.R\")\n",
    " source(\"/scratch/PI/mrivas/users/erflynn/sex_div_gwas/mixture_model_scripts/model_utils.R\")\n",
    "    DATA.FOLDER <- \"/scratch/PI/mrivas/users/erflynn/sex_div_gwas/data/1009\"\n"
   ]
  },
  {
   "cell_type": "code",
   "execution_count": null,
   "metadata": {
    "collapsed": true
   },
   "outputs": [],
   "source": [
    "trait <- \"arm_fp\"\n",
    "\n",
    "  load(sprintf(\"%s/f_%s.RData\", DATA.FOLDER, trait))\n",
    "  load(sprintf(\"%s/dat_%s.RData\", DATA.FOLDER, trait))\n",
    "\n",
    "        # extract all estimate\n",
    "        list_of_draws <- rstan::extract(fit1)\n",
    "        pi.draws <- list_of_draws$pi\n",
    "        p <- pi.draws\n",
    "        s.draws <- list_of_draws$Sigma\n",
    "        Sigma <- s.draws\n",
    "\n",
    "        # extract lower + upper pi\n",
    "        ordered.p <- p[order(p[,2]),] # ordering p by the non-null component \n",
    "        p.lower <- ordered.p[0.025*nrow(ordered.p),]\n",
    "        p.upper <- ordered.p[0.975*nrow(ordered.p),]\n",
    "        p.center <- ordered.p[0.50*nrow(ordered.p),]\n",
    "    \n",
    "        # extract lower + upper sigma\n",
    "        ordered.S <- Sigma[order(Sigma[,1,1]),,]\n",
    "        s.upper <- ordered.S[0.975*dim(Sigma)[1],,]\n",
    "        s.lower <- ordered.S[0.025*dim(Sigma)[1],,]\n",
    "        s.center <- ordered.S[0.50*dim(Sigma)[1],,]"
   ]
  },
  {
   "cell_type": "code",
   "execution_count": null,
   "metadata": {
    "collapsed": true
   },
   "outputs": [],
   "source": [
    "# pi and Sigma estimates - also match what is written by the summary\n",
    "p.lower\n",
    "p.center\n",
    "p.upper\n",
    "\n",
    "s.lower\n",
    "s.center\n",
    "s.upper\n",
    "\n",
    "print(fit1, pars=c(\"Sigma\", \"pi\"), probs=c(0.025, 0.5, 0.975), digits_summary=7)"
   ]
  },
  {
   "cell_type": "code",
   "execution_count": null,
   "metadata": {
    "collapsed": true
   },
   "outputs": [],
   "source": [
    "\n",
    "dat2 <- dat\n",
    "# assign snps to components \n",
    "        dat2$categories <- NULL\n",
    "        dat.u <- labelCategories(dat2, s.upper, p.upper) # implemented in heritability_utils\n",
    "        dat.l <- labelCategories(dat2, s.lower, p.lower)\n",
    "        dat.c <- labelCategories(dat2, s.center, p.center)\n"
   ]
  },
  {
   "cell_type": "code",
   "execution_count": null,
   "metadata": {
    "collapsed": true
   },
   "outputs": [],
   "source": [
    "# number per category\n",
    "table(dat.l$categories)\n",
    "table(dat.c$categories)\n",
    "table(dat.u$categories)"
   ]
  },
  {
   "cell_type": "code",
   "execution_count": null,
   "metadata": {
    "collapsed": true
   },
   "outputs": [],
   "source": [
    "# ok estimate heritability (this function is implemented in heritability_utils)     \n",
    "h.up <- overallHeritability(dat.u, s.upper, p.upper)\n",
    "        h.low <- overallHeritability(dat.l, s.lower, p.lower)\n",
    "        h.center <- overallHeritability(dat.c, s.center, p.center)\n"
   ]
  },
  {
   "cell_type": "code",
   "execution_count": null,
   "metadata": {
    "collapsed": true
   },
   "outputs": [],
   "source": [
    "h.up\n",
    "h.center\n",
    "h.low"
   ]
  },
  {
   "cell_type": "code",
   "execution_count": null,
   "metadata": {
    "collapsed": true
   },
   "outputs": [],
   "source": [
    "# look at the calc for upper (this is inside overall_heritability)\n",
    "se.p2 <- dat.u$dat$SE[dat.u$categories==2,]\n",
    "n <- nrow(se.p2)\n",
    "num_i <- n*(p.upper[2])*s.upper[1,1]\n",
    "    \n",
    "h_i <- num_i/(num_i + sum(se.p2[,1]))\n",
    "sum(se.p2[,1])\n",
    "num_i\n",
    "h_i\n",
    "num_i <- n*(p.upper[2])*s.upper[2,2]\n",
    "    \n",
    "h_2 <- num_i/(num_i + sum(se.p2[,2]))\n",
    "sum(se.p2[,2])\n",
    "num_i\n",
    "h_2"
   ]
  },
  {
   "cell_type": "code",
   "execution_count": null,
   "metadata": {
    "collapsed": true
   },
   "outputs": [],
   "source": [
    "# look at the calc for center (this is inside overall_heritability)\n",
    "se.p2 <- dat.u$dat$SE[dat.c$categories==2,]\n",
    "n <- nrow(se.p2)\n",
    "num_i <- n*(p.center[2])*s.center[1,1]\n",
    "    \n",
    "h_i <- num_i/(num_i + sum(se.p2[,1]))\n",
    "sum(se.p2[,1])\n",
    "num_i\n",
    "h_i\n",
    "num_i <- n*(p.center[2])*s.center[2,2]\n",
    "    \n",
    "h_2 <- num_i/(num_i + sum(se.p2[,2]))\n",
    "sum(se.p2[,2])\n",
    "num_i\n",
    "h_2"
   ]
  },
  {
   "cell_type": "code",
   "execution_count": null,
   "metadata": {
    "collapsed": true
   },
   "outputs": [],
   "source": [
    "\n",
    "# how do we see this swap\n",
    "0.09/(0.26+0.09) # higher input --> lower output\n",
    "0.064/(0.182+0.064) # lower input --> higher output"
   ]
  }
 ],
 "metadata": {
  "kernelspec": {
   "display_name": "R",
   "language": "R",
   "name": "ir"
  },
  "language_info": {
   "codemirror_mode": "r",
   "file_extension": ".r",
   "mimetype": "text/x-r-source",
   "name": "R",
   "pygments_lexer": "r",
   "version": "3.4.0"
  }
 },
 "nbformat": 4,
 "nbformat_minor": 2
}
