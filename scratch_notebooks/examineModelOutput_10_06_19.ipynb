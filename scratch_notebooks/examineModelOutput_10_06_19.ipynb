{
 "cells": [
  {
   "cell_type": "markdown",
   "metadata": {},
   "source": [
    "# Examine Model Output\n",
    "\n",
    "10/16/2019\n",
    "\n",
    "Code for examining model output from the \"frozen\" run."
   ]
  },
  {
   "cell_type": "code",
   "execution_count": 1,
   "metadata": {},
   "outputs": [
    {
     "name": "stderr",
     "output_type": "stream",
     "text": [
      "Loading required package: rstan\n",
      "Loading required package: ggplot2\n",
      "Loading required package: StanHeaders\n",
      "rstan (Version 2.17.3, GitRev: 2e1f913d3ca3)\n",
      "For execution on a local, multicore CPU with excess RAM we recommend calling\n",
      "options(mc.cores = parallel::detectCores()).\n",
      "To avoid recompilation of unchanged Stan programs, we recommend calling\n",
      "rstan_options(auto_write = TRUE)\n",
      "Loading required package: tidyverse\n",
      "── Attaching packages ─────────────────────────────────────── tidyverse 1.2.1 ──\n",
      "✔ tibble  1.4.2     ✔ purrr   0.2.4\n",
      "✔ tidyr   0.8.1     ✔ dplyr   0.7.4\n",
      "✔ readr   1.1.1     ✔ stringr 1.3.0\n",
      "✔ tibble  1.4.2     ✔ forcats 0.3.0\n",
      "── Conflicts ────────────────────────────────────────── tidyverse_conflicts() ──\n",
      "✖ tidyr::extract() masks rstan::extract()\n",
      "✖ dplyr::filter()  masks stats::filter()\n",
      "✖ dplyr::lag()     masks stats::lag()\n"
     ]
    }
   ],
   "source": [
    "require('rstan')\n",
    "require('tidyverse')"
   ]
  },
  {
   "cell_type": "code",
   "execution_count": 2,
   "metadata": {
    "collapsed": true
   },
   "outputs": [],
   "source": [
    "BIOMARKER_DIR <- \"/scratch/PI/mrivas/users/erflynn/sex_div_gwas/data/biomarker\"\n"
   ]
  },
  {
   "cell_type": "markdown",
   "metadata": {},
   "source": [
    "## load M1 output"
   ]
  },
  {
   "cell_type": "code",
   "execution_count": 20,
   "metadata": {},
   "outputs": [],
   "source": [
    "# load a particular trait - let's try WHR\n",
    "trait <- \"whr\"\n",
    "load(sprintf(\"%s/f_%s.RData\", BIOMARKER_DIR, trait)) # --> fit1\n",
    "load(sprintf(\"%s/dat_%s.RData\", BIOMARKER_DIR, trait)) # --> dat\n",
    "\n",
    "trait_summary <- read.delim(sprintf(\"%s/summary_dat_%s_2_.txt\", BIOMARKER_DIR, trait),sep=\" \")\n",
    "\n",
    "# column names depend on the dimension\n",
    "# t(c(trait, dat$dat$N, unlist(m1.pi), unlist(m1.Sigma), unlist(rg), unlist(rg.c$l), unlist(rg.c$u), unlist(h)))\n",
    "# rg.l and rg.u are the 95% CI for rg\n",
    "m1.cols <-  c(\"trait\", \"n\", \"pi[1]\", \"pi[2]\", \"Sigma[1,1]\", \"Sigma[1,2]\", \"Sigma[2,1]\", \"Sigma[2,2]\", \"rg\", \"rg.l\", \"rg.u\", \"h.f\", \"h.m\")\n",
    "colnames(trait_summary) <- m1.cols"
   ]
  },
  {
   "cell_type": "code",
   "execution_count": 13,
   "metadata": {},
   "outputs": [
    {
     "data": {
      "text/html": [
       "<table>\n",
       "<thead><tr><th scope=col>trait</th><th scope=col>n</th><th scope=col>pi[1]</th><th scope=col>pi[2]</th><th scope=col>Sigma[1,1]</th><th scope=col>Sigma[1,2]</th><th scope=col>Sigma[2,1]</th><th scope=col>Sigma[2,2]</th><th scope=col>rg</th><th scope=col>rg.l</th><th scope=col>rg.u</th><th scope=col>h.f</th><th scope=col>h.m</th></tr></thead>\n",
       "<tbody>\n",
       "\t<tr><td>whr         </td><td>330090      </td><td>0.6899581   </td><td>0.3100419   </td><td>3.871568e-05</td><td>2.551954e-05</td><td>2.551954e-05</td><td>2.997884e-05</td><td>0.7491182   </td><td>0.731743    </td><td>0.7668564   </td><td>0.2109145   </td><td>0.1717543   </td></tr>\n",
       "</tbody>\n",
       "</table>\n"
      ],
      "text/latex": [
       "\\begin{tabular}{r|lllllllllllll}\n",
       " trait & n & pi{[}1{]} & pi{[}2{]} & Sigma{[}1,1{]} & Sigma{[}1,2{]} & Sigma{[}2,1{]} & Sigma{[}2,2{]} & rg & rg.l & rg.u & h.f & h.m\\\\\n",
       "\\hline\n",
       "\t whr          & 330090       & 0.6899581    & 0.3100419    & 3.871568e-05 & 2.551954e-05 & 2.551954e-05 & 2.997884e-05 & 0.7491182    & 0.731743     & 0.7668564    & 0.2109145    & 0.1717543   \\\\\n",
       "\\end{tabular}\n"
      ],
      "text/markdown": [
       "\n",
       "trait | n | pi[1] | pi[2] | Sigma[1,1] | Sigma[1,2] | Sigma[2,1] | Sigma[2,2] | rg | rg.l | rg.u | h.f | h.m | \n",
       "|---|\n",
       "| whr          | 330090       | 0.6899581    | 0.3100419    | 3.871568e-05 | 2.551954e-05 | 2.551954e-05 | 2.997884e-05 | 0.7491182    | 0.731743     | 0.7668564    | 0.2109145    | 0.1717543    | \n",
       "\n",
       "\n"
      ],
      "text/plain": [
       "  trait n      pi[1]     pi[2]     Sigma[1,1]   Sigma[1,2]   Sigma[2,1]  \n",
       "1 whr   330090 0.6899581 0.3100419 3.871568e-05 2.551954e-05 2.551954e-05\n",
       "  Sigma[2,2]   rg        rg.l     rg.u      h.f       h.m      \n",
       "1 2.997884e-05 0.7491182 0.731743 0.7668564 0.2109145 0.1717543"
      ]
     },
     "metadata": {},
     "output_type": "display_data"
    },
    {
     "name": "stdout",
     "output_type": "stream",
     "text": [
      "List of 3\n",
      " $ dat:List of 5\n",
      "  ..$ N : int 330090\n",
      "  ..$ M : int 2\n",
      "  ..$ B : num [1:330090, 1:2] 0.00892 -0.0058 0.0075 0.00118 0.03992 ...\n",
      "  ..$ SE: num [1:330090, 1:2] 7.27e-03 3.32e-05 2.80e-05 2.15e-04 8.80e-03 ...\n",
      "  ..$ K : num 2\n",
      " $ snp: Named chr [1:330090] \"rs115991721\" \"rs12562034\" \"rs4040617\" \"rs79373928\" ...\n",
      "  ..- attr(*, \"names\")= chr [1:330090] \"rs115991721\" \"rs12562034\" \"rs4040617\" \"rs79373928\" ...\n",
      " $ chr: Named chr [1:330090] \"1\" \"1\" \"1\" \"1\" ...\n",
      "  ..- attr(*, \"names\")= chr [1:330090] \"1\" \"1\" \"1\" \"1\" ...\n",
      "Formal class 'stanfit' [package \"rstan\"] with 10 slots\n",
      "  ..@ model_name: chr \"model1_no_loglik\"\n",
      "  ..@ model_pars: chr [1:7] \"pi\" \"L_Omega\" \"tau\" \"Sigma\" ...\n",
      "  ..@ par_dims  :List of 7\n",
      "  ..@ mode      : int 0\n",
      "  ..@ sim       :List of 12\n",
      "  ..@ inits     :List of 4\n",
      "  ..@ stan_args :List of 4\n",
      "  ..@ stanmodel :Formal class 'stanmodel' [package \"rstan\"] with 5 slots\n",
      "  ..@ date      : chr \"Thu Jun  6 02:15:15 2019\"\n",
      "  ..@ .MISC     :<environment: 0x963aeb8> \n"
     ]
    }
   ],
   "source": [
    "trait_summary %>% head()\n",
    "str(dat, 2)\n",
    "str(fit1, 2)"
   ]
  },
  {
   "cell_type": "code",
   "execution_count": 25,
   "metadata": {},
   "outputs": [
    {
     "name": "stderr",
     "output_type": "stream",
     "text": [
      "Parsed with column specification:\n",
      "cols(\n",
      "  trait = col_character(),\n",
      "  category = col_character(),\n",
      "  variable_name = col_character(),\n",
      "  readable_name = col_character()\n",
      ")\n",
      "Joining, by = \"trait\"\n"
     ]
    },
    {
     "data": {
      "text/html": [
       "<table>\n",
       "<thead><tr><th scope=col>trait</th><th scope=col>category</th><th scope=col>variable_name</th><th scope=col>readable_name</th><th scope=col>n</th><th scope=col>pi[1]</th><th scope=col>pi[2]</th><th scope=col>Sigma[1,1]</th><th scope=col>Sigma[1,2]</th><th scope=col>Sigma[2,1]</th><th scope=col>Sigma[2,2]</th><th scope=col>rg</th><th scope=col>rg.l</th><th scope=col>rg.u</th><th scope=col>h.f</th><th scope=col>h.m</th></tr></thead>\n",
       "<tbody>\n",
       "\t<tr><td>21001                   </td><td>anthropometric traits   </td><td>BMI                     </td><td>BMI                     </td><td>330093                  </td><td>0.6122799               </td><td>0.387720076             </td><td>3.554217e-05            </td><td>3.594623e-05            </td><td>3.594623e-05            </td><td>3.900294e-05            </td><td>0.9655049               </td><td>0.9534735               </td><td>0.9796680               </td><td>0.2172363               </td><td>0.2321698               </td></tr>\n",
       "\t<tr><td>30600                   </td><td>biomarker               </td><td>Albumin                 </td><td>NA                      </td><td>329257                  </td><td>0.9081278               </td><td>0.091872193             </td><td>9.482733e-05            </td><td>9.336865e-05            </td><td>9.336865e-05            </td><td>9.498615e-05            </td><td>0.9838577               </td><td>0.9696727               </td><td>0.9964139               </td><td>0.1278487               </td><td>0.1375049               </td></tr>\n",
       "\t<tr><td>30610                   </td><td>biomarker               </td><td>Alkaline phosphatase    </td><td>NA                      </td><td>330011                  </td><td>0.9730553               </td><td>0.026944659             </td><td>6.440879e-04            </td><td>7.865322e-04            </td><td>7.865322e-04            </td><td>9.831660e-04            </td><td>0.9884096               </td><td>0.9854120               </td><td>0.9912018               </td><td>0.1218310               </td><td>0.1594359               </td></tr>\n",
       "\t<tr><td>30620                   </td><td>biomarker               </td><td>Alanine aminotransferase</td><td>NA                      </td><td>329746                  </td><td>0.8947739               </td><td>0.105226063             </td><td>7.172421e-05            </td><td>6.960079e-05            </td><td>6.960079e-05            </td><td>7.873114e-05            </td><td>0.9262760               </td><td>0.9077810               </td><td>0.9433732               </td><td>       NA               </td><td>       NA               </td></tr>\n",
       "\t<tr><td>30630                   </td><td>biomarker               </td><td>Apolipoprotein A        </td><td>NA                      </td><td>329094                  </td><td>0.9582231               </td><td>0.041776899             </td><td>3.451655e-04            </td><td>3.526252e-04            </td><td>3.526252e-04            </td><td>3.808396e-04            </td><td>0.9726059               </td><td>0.9654149               </td><td>0.9790811               </td><td>0.1216364               </td><td>0.1351325               </td></tr>\n",
       "\t<tr><td>30640                   </td><td>biomarker               </td><td>Apolipoprotein B        </td><td>NA                      </td><td>329722                  </td><td>0.9919588               </td><td>0.008041158             </td><td>2.344222e-03            </td><td>2.028669e-03            </td><td>2.028669e-03            </td><td>1.809115e-03            </td><td>0.9851004               </td><td>0.9816250               </td><td>0.9880179               </td><td>0.1419184               </td><td>0.1100582               </td></tr>\n",
       "</tbody>\n",
       "</table>\n"
      ],
      "text/latex": [
       "\\begin{tabular}{r|llllllllllllllll}\n",
       " trait & category & variable\\_name & readable\\_name & n & pi{[}1{]} & pi{[}2{]} & Sigma{[}1,1{]} & Sigma{[}1,2{]} & Sigma{[}2,1{]} & Sigma{[}2,2{]} & rg & rg.l & rg.u & h.f & h.m\\\\\n",
       "\\hline\n",
       "\t 21001                    & anthropometric traits    & BMI                      & BMI                      & 330093                   & 0.6122799                & 0.387720076              & 3.554217e-05             & 3.594623e-05             & 3.594623e-05             & 3.900294e-05             & 0.9655049                & 0.9534735                & 0.9796680                & 0.2172363                & 0.2321698               \\\\\n",
       "\t 30600                    & biomarker                & Albumin                  & NA                       & 329257                   & 0.9081278                & 0.091872193              & 9.482733e-05             & 9.336865e-05             & 9.336865e-05             & 9.498615e-05             & 0.9838577                & 0.9696727                & 0.9964139                & 0.1278487                & 0.1375049               \\\\\n",
       "\t 30610                    & biomarker                & Alkaline phosphatase     & NA                       & 330011                   & 0.9730553                & 0.026944659              & 6.440879e-04             & 7.865322e-04             & 7.865322e-04             & 9.831660e-04             & 0.9884096                & 0.9854120                & 0.9912018                & 0.1218310                & 0.1594359               \\\\\n",
       "\t 30620                    & biomarker                & Alanine aminotransferase & NA                       & 329746                   & 0.8947739                & 0.105226063              & 7.172421e-05             & 6.960079e-05             & 6.960079e-05             & 7.873114e-05             & 0.9262760                & 0.9077810                & 0.9433732                &        NA                &        NA               \\\\\n",
       "\t 30630                    & biomarker                & Apolipoprotein A         & NA                       & 329094                   & 0.9582231                & 0.041776899              & 3.451655e-04             & 3.526252e-04             & 3.526252e-04             & 3.808396e-04             & 0.9726059                & 0.9654149                & 0.9790811                & 0.1216364                & 0.1351325               \\\\\n",
       "\t 30640                    & biomarker                & Apolipoprotein B         & NA                       & 329722                   & 0.9919588                & 0.008041158              & 2.344222e-03             & 2.028669e-03             & 2.028669e-03             & 1.809115e-03             & 0.9851004                & 0.9816250                & 0.9880179                & 0.1419184                & 0.1100582               \\\\\n",
       "\\end{tabular}\n"
      ],
      "text/markdown": [
       "\n",
       "trait | category | variable_name | readable_name | n | pi[1] | pi[2] | Sigma[1,1] | Sigma[1,2] | Sigma[2,1] | Sigma[2,2] | rg | rg.l | rg.u | h.f | h.m | \n",
       "|---|---|---|---|---|---|\n",
       "| 21001                    | anthropometric traits    | BMI                      | BMI                      | 330093                   | 0.6122799                | 0.387720076              | 3.554217e-05             | 3.594623e-05             | 3.594623e-05             | 3.900294e-05             | 0.9655049                | 0.9534735                | 0.9796680                | 0.2172363                | 0.2321698                | \n",
       "| 30600                    | biomarker                | Albumin                  | NA                       | 329257                   | 0.9081278                | 0.091872193              | 9.482733e-05             | 9.336865e-05             | 9.336865e-05             | 9.498615e-05             | 0.9838577                | 0.9696727                | 0.9964139                | 0.1278487                | 0.1375049                | \n",
       "| 30610                    | biomarker                | Alkaline phosphatase     | NA                       | 330011                   | 0.9730553                | 0.026944659              | 6.440879e-04             | 7.865322e-04             | 7.865322e-04             | 9.831660e-04             | 0.9884096                | 0.9854120                | 0.9912018                | 0.1218310                | 0.1594359                | \n",
       "| 30620                    | biomarker                | Alanine aminotransferase | NA                       | 329746                   | 0.8947739                | 0.105226063              | 7.172421e-05             | 6.960079e-05             | 6.960079e-05             | 7.873114e-05             | 0.9262760                | 0.9077810                | 0.9433732                |        NA                |        NA                | \n",
       "| 30630                    | biomarker                | Apolipoprotein A         | NA                       | 329094                   | 0.9582231                | 0.041776899              | 3.451655e-04             | 3.526252e-04             | 3.526252e-04             | 3.808396e-04             | 0.9726059                | 0.9654149                | 0.9790811                | 0.1216364                | 0.1351325                | \n",
       "| 30640                    | biomarker                | Apolipoprotein B         | NA                       | 329722                   | 0.9919588                | 0.008041158              | 2.344222e-03             | 2.028669e-03             | 2.028669e-03             | 1.809115e-03             | 0.9851004                | 0.9816250                | 0.9880179                | 0.1419184                | 0.1100582                | \n",
       "\n",
       "\n"
      ],
      "text/plain": [
       "  trait category              variable_name            readable_name n     \n",
       "1 21001 anthropometric traits BMI                      BMI           330093\n",
       "2 30600 biomarker             Albumin                  NA            329257\n",
       "3 30610 biomarker             Alkaline phosphatase     NA            330011\n",
       "4 30620 biomarker             Alanine aminotransferase NA            329746\n",
       "5 30630 biomarker             Apolipoprotein A         NA            329094\n",
       "6 30640 biomarker             Apolipoprotein B         NA            329722\n",
       "  pi[1]     pi[2]       Sigma[1,1]   Sigma[1,2]   Sigma[2,1]   Sigma[2,2]  \n",
       "1 0.6122799 0.387720076 3.554217e-05 3.594623e-05 3.594623e-05 3.900294e-05\n",
       "2 0.9081278 0.091872193 9.482733e-05 9.336865e-05 9.336865e-05 9.498615e-05\n",
       "3 0.9730553 0.026944659 6.440879e-04 7.865322e-04 7.865322e-04 9.831660e-04\n",
       "4 0.8947739 0.105226063 7.172421e-05 6.960079e-05 6.960079e-05 7.873114e-05\n",
       "5 0.9582231 0.041776899 3.451655e-04 3.526252e-04 3.526252e-04 3.808396e-04\n",
       "6 0.9919588 0.008041158 2.344222e-03 2.028669e-03 2.028669e-03 1.809115e-03\n",
       "  rg        rg.l      rg.u      h.f       h.m      \n",
       "1 0.9655049 0.9534735 0.9796680 0.2172363 0.2321698\n",
       "2 0.9838577 0.9696727 0.9964139 0.1278487 0.1375049\n",
       "3 0.9884096 0.9854120 0.9912018 0.1218310 0.1594359\n",
       "4 0.9262760 0.9077810 0.9433732        NA        NA\n",
       "5 0.9726059 0.9654149 0.9790811 0.1216364 0.1351325\n",
       "6 0.9851004 0.9816250 0.9880179 0.1419184 0.1100582"
      ]
     },
     "metadata": {},
     "output_type": "display_data"
    }
   ],
   "source": [
    "# grab all the pi, rg, h values --> write to a csv\n",
    "summary_file_list <- list.files(BIOMARKER_DIR, pattern=\".txt$\")\n",
    "summary_df <- do.call(rbind, lapply(summary_file_list, function(x) {\n",
    "    read.delim(sprintf(\"%s/%s\", BIOMARKER_DIR, x), header=TRUE, sep=\" \")}))\n",
    "colnames(summary_df) <- m1.cols\n",
    "\n",
    "list_traits <- read_csv(\"/scratch/PI/mrivas/users/erflynn/sex_div_gwas/data/ListPheCodes.csv\")\n",
    "\n",
    "summary_df2 <- right_join(list_traits, summary_df)\n",
    "summary_df2 %>% head()"
   ]
  },
  {
   "cell_type": "code",
   "execution_count": 27,
   "metadata": {},
   "outputs": [],
   "source": [
    "write_csv(summary_df2, \"/scratch/PI/mrivas/users/erflynn/sex_div_gwas/data/m1_output_10_06.csv\")"
   ]
  },
  {
   "cell_type": "code",
   "execution_count": 40,
   "metadata": {},
   "outputs": [
    {
     "data": {
      "text/html": [
       "<table>\n",
       "<thead><tr><th scope=col>trait</th><th scope=col>int_type</th><th scope=col>h_type</th><th scope=col>val</th></tr></thead>\n",
       "<tbody>\n",
       "\t<tr><td>Alanine_aminotransferase</td><td>up                      </td><td>hf                      </td><td>NA                      </td></tr>\n",
       "\t<tr><td>Alanine_aminotransferase</td><td>low                     </td><td>hf                      </td><td>NA                      </td></tr>\n",
       "\t<tr><td>Alanine_aminotransferase</td><td>up                      </td><td>hm                      </td><td>NA                      </td></tr>\n",
       "\t<tr><td>Alanine_aminotransferase</td><td>low                     </td><td>hm                      </td><td>NA                      </td></tr>\n",
       "\t<tr><td>Albumin                 </td><td>up                      </td><td>hf                      </td><td>0.128502190797067       </td></tr>\n",
       "\t<tr><td>Albumin                 </td><td>low                     </td><td>hf                      </td><td>0.111511078152825       </td></tr>\n",
       "</tbody>\n",
       "</table>\n"
      ],
      "text/latex": [
       "\\begin{tabular}{r|llll}\n",
       " trait & int\\_type & h\\_type & val\\\\\n",
       "\\hline\n",
       "\t Alanine\\_aminotransferase & up                         & hf                         & NA                        \\\\\n",
       "\t Alanine\\_aminotransferase & low                        & hf                         & NA                        \\\\\n",
       "\t Alanine\\_aminotransferase & up                         & hm                         & NA                        \\\\\n",
       "\t Alanine\\_aminotransferase & low                        & hm                         & NA                        \\\\\n",
       "\t Albumin                  & up                       & hf                       & 0.128502190797067       \\\\\n",
       "\t Albumin                  & low                      & hf                       & 0.111511078152825       \\\\\n",
       "\\end{tabular}\n"
      ],
      "text/markdown": [
       "\n",
       "trait | int_type | h_type | val | \n",
       "|---|---|---|---|---|---|\n",
       "| Alanine_aminotransferase | up                       | hf                       | NA                       | \n",
       "| Alanine_aminotransferase | low                      | hf                       | NA                       | \n",
       "| Alanine_aminotransferase | up                       | hm                       | NA                       | \n",
       "| Alanine_aminotransferase | low                      | hm                       | NA                       | \n",
       "| Albumin                  | up                       | hf                       | 0.128502190797067        | \n",
       "| Albumin                  | low                      | hf                       | 0.111511078152825        | \n",
       "\n",
       "\n"
      ],
      "text/plain": [
       "  trait                    int_type h_type val              \n",
       "1 Alanine_aminotransferase up       hf     NA               \n",
       "2 Alanine_aminotransferase low      hf     NA               \n",
       "3 Alanine_aminotransferase up       hm     NA               \n",
       "4 Alanine_aminotransferase low      hm     NA               \n",
       "5 Albumin                  up       hf     0.128502190797067\n",
       "6 Albumin                  low      hf     0.111511078152825"
      ]
     },
     "metadata": {},
     "output_type": "display_data"
    }
   ],
   "source": [
    "# read in error bars\n",
    "\n",
    "err_bar_list <- list.files(sprintf(\"%s/herit/\", BIOMARKER_DIR), pattern=\".txt$\")\n",
    "err_bars <- do.call(rbind, lapply(err_bar_list, function(x) {\n",
    "    read.delim(sprintf(\"%s/herit/%s\",BIOMARKER_DIR, x), header=FALSE, sep=\" \")}))\n",
    "colnames(err_bars) <- c(\"trait\", \"int_type\", \"h_type\", \"val\")\n",
    "err_bars %>% head()"
   ]
  },
  {
   "cell_type": "markdown",
   "metadata": {},
   "source": [
    "## load M2 output"
   ]
  },
  {
   "cell_type": "code",
   "execution_count": 31,
   "metadata": {},
   "outputs": [
    {
     "name": "stdout",
     "output_type": "stream",
     "text": [
      "Formal class 'stanfit' [package \"rstan\"] with 10 slots\n",
      "  ..@ model_name: chr \"model2\"\n",
      "  ..@ model_pars: chr [1:7] \"pi\" \"sigmasq\" \"Sigma\" \"a\" ...\n",
      "  ..@ par_dims  :List of 7\n",
      "  ..@ mode      : int 0\n",
      "  ..@ sim       :List of 12\n",
      "  ..@ inits     :List of 4\n",
      "  ..@ stan_args :List of 4\n",
      "  ..@ stanmodel :Formal class 'stanmodel' [package \"rstan\"] with 5 slots\n",
      "  ..@ date      : chr \"Wed Jun  5 09:33:20 2019\"\n",
      "  ..@ .MISC     :<environment: 0x144f2d78> \n",
      "List of 3\n",
      " $ dat:List of 5\n",
      "  ..$ N : int 330090\n",
      "  ..$ M : int 2\n",
      "  ..$ B : num [1:330090, 1:2] 0.00892 -0.0058 0.0075 0.00118 0.03992 ...\n",
      "  ..$ SE: num [1:330090, 1:2] 7.27e-03 3.32e-05 2.80e-05 2.15e-04 8.80e-03 ...\n",
      "  ..$ K : num 4\n",
      " $ snp: Named chr [1:330090] \"rs115991721\" \"rs12562034\" \"rs4040617\" \"rs79373928\" ...\n",
      "  ..- attr(*, \"names\")= chr [1:330090] \"rs115991721\" \"rs12562034\" \"rs4040617\" \"rs79373928\" ...\n",
      " $ chr: Named chr [1:330090] \"1\" \"1\" \"1\" \"1\" ...\n",
      "  ..- attr(*, \"names\")= chr [1:330090] \"1\" \"1\" \"1\" \"1\" ...\n"
     ]
    }
   ],
   "source": [
    "# load a particular trait\n",
    "load(sprintf(\"%s/m2/f_m2_%s.RData\", BIOMARKER_DIR, trait)) # --> fit2\n",
    "load(sprintf(\"%s/m2/dat_%s.RData\", BIOMARKER_DIR, trait)) # --> dat\n",
    "str(fit2,2)\n",
    "str(dat,2)"
   ]
  },
  {
   "cell_type": "code",
   "execution_count": 33,
   "metadata": {},
   "outputs": [],
   "source": [
    "snp_tab <- read.delim(sprintf(\"%s/m2/snp_table_%s.txt\", BIOMARKER_DIR, trait), sep=\" \")"
   ]
  },
  {
   "cell_type": "code",
   "execution_count": 34,
   "metadata": {},
   "outputs": [
    {
     "data": {
      "text/html": [
       "<table>\n",
       "<thead><tr><th scope=col>p1</th><th scope=col>p2</th><th scope=col>p3</th><th scope=col>p4</th><th scope=col>category</th><th scope=col>SNP</th></tr></thead>\n",
       "<tbody>\n",
       "\t<tr><td>0.9985514   </td><td>9.079257e-05</td><td>1.316094e-07</td><td>1.357635e-03</td><td>1           </td><td>rs115991721 </td></tr>\n",
       "\t<tr><td>0.9997258   </td><td>1.015015e-05</td><td>9.637125e-08</td><td>2.639836e-04</td><td>1           </td><td>rs12562034  </td></tr>\n",
       "\t<tr><td>0.9999540   </td><td>1.533586e-05</td><td>7.317822e-09</td><td>3.067382e-05</td><td>1           </td><td>rs4040617   </td></tr>\n",
       "\t<tr><td>0.9998536   </td><td>1.561317e-05</td><td>3.201489e-08</td><td>1.307959e-04</td><td>1           </td><td>rs79373928  </td></tr>\n",
       "\t<tr><td>0.9980572   </td><td>1.085985e-04</td><td>2.340372e-07</td><td>1.834009e-03</td><td>1           </td><td>rs59771807  </td></tr>\n",
       "\t<tr><td>0.9988991   </td><td>1.301999e-04</td><td>3.312901e-08</td><td>9.706451e-04</td><td>1           </td><td>rs116452738 </td></tr>\n",
       "</tbody>\n",
       "</table>\n"
      ],
      "text/latex": [
       "\\begin{tabular}{r|llllll}\n",
       " p1 & p2 & p3 & p4 & category & SNP\\\\\n",
       "\\hline\n",
       "\t 0.9985514    & 9.079257e-05 & 1.316094e-07 & 1.357635e-03 & 1            & rs115991721 \\\\\n",
       "\t 0.9997258    & 1.015015e-05 & 9.637125e-08 & 2.639836e-04 & 1            & rs12562034  \\\\\n",
       "\t 0.9999540    & 1.533586e-05 & 7.317822e-09 & 3.067382e-05 & 1            & rs4040617   \\\\\n",
       "\t 0.9998536    & 1.561317e-05 & 3.201489e-08 & 1.307959e-04 & 1            & rs79373928  \\\\\n",
       "\t 0.9980572    & 1.085985e-04 & 2.340372e-07 & 1.834009e-03 & 1            & rs59771807  \\\\\n",
       "\t 0.9988991    & 1.301999e-04 & 3.312901e-08 & 9.706451e-04 & 1            & rs116452738 \\\\\n",
       "\\end{tabular}\n"
      ],
      "text/markdown": [
       "\n",
       "p1 | p2 | p3 | p4 | category | SNP | \n",
       "|---|---|---|---|---|---|\n",
       "| 0.9985514    | 9.079257e-05 | 1.316094e-07 | 1.357635e-03 | 1            | rs115991721  | \n",
       "| 0.9997258    | 1.015015e-05 | 9.637125e-08 | 2.639836e-04 | 1            | rs12562034   | \n",
       "| 0.9999540    | 1.533586e-05 | 7.317822e-09 | 3.067382e-05 | 1            | rs4040617    | \n",
       "| 0.9998536    | 1.561317e-05 | 3.201489e-08 | 1.307959e-04 | 1            | rs79373928   | \n",
       "| 0.9980572    | 1.085985e-04 | 2.340372e-07 | 1.834009e-03 | 1            | rs59771807   | \n",
       "| 0.9988991    | 1.301999e-04 | 3.312901e-08 | 9.706451e-04 | 1            | rs116452738  | \n",
       "\n",
       "\n"
      ],
      "text/plain": [
       "  p1        p2           p3           p4           category SNP        \n",
       "1 0.9985514 9.079257e-05 1.316094e-07 1.357635e-03 1        rs115991721\n",
       "2 0.9997258 1.015015e-05 9.637125e-08 2.639836e-04 1        rs12562034 \n",
       "3 0.9999540 1.533586e-05 7.317822e-09 3.067382e-05 1        rs4040617  \n",
       "4 0.9998536 1.561317e-05 3.201489e-08 1.307959e-04 1        rs79373928 \n",
       "5 0.9980572 1.085985e-04 2.340372e-07 1.834009e-03 1        rs59771807 \n",
       "6 0.9988991 1.301999e-04 3.312901e-08 9.706451e-04 1        rs116452738"
      ]
     },
     "metadata": {},
     "output_type": "display_data"
    }
   ],
   "source": [
    "snp_tab %>% head()"
   ]
  }
 ],
 "metadata": {
  "kernelspec": {
   "display_name": "R",
   "language": "R",
   "name": "ir"
  },
  "language_info": {
   "codemirror_mode": "r",
   "file_extension": ".r",
   "mimetype": "text/x-r-source",
   "name": "R",
   "pygments_lexer": "r",
   "version": "3.4.0"
  }
 },
 "nbformat": 4,
 "nbformat_minor": 2
}
