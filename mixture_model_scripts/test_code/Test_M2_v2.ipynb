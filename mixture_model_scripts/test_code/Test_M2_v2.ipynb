{
 "cells": [
  {
   "cell_type": "markdown",
   "metadata": {},
   "source": [
    "### Test M2_v2 with simulations\n",
    "### E Flynn\n",
    "### 1/17/2018\n",
    "\n",
    "I updated model2 to include a variance-covariance matrix in the non-sex-specific component.\n",
    "This is code that I used to test the updated model 2 and to examine some of the initial results.\n",
    "\n",
    "In summary:\n",
    "\n",
    "Simulations: \n",
    "- (1) It appears that if the values of the sex-specific variances are similar to the values in the variance-covariance matrix, there is some sort of identifiability issue. The estimates of the sex-specific variances get blown up, and we do not retrieve the true values for the parameters, specifically the estimates for the sex-specific components are smaller in addition to having blown up variance estimates (ex. 6-7 instead of 0.01, and with a very wide sd). \n",
    "- (2) If the values are somewhat different between the sex-specific variances and the variance-covariance matrix, we retrieve good estimates. \n",
    "\n",
    "The key question is whether the data we are looking at falls into category 1 or 2 - I expect it to be in between the two and hopefully closer to 2, but this is a concern. \n",
    "\n",
    "Application to real data: \n",
    "- (1) As a test case, I applied it to only chromosome 15 of trunk fat ratio data, which was seen by Rask-Andersen et al. to have three sex-specific SNPs in females. We retrieve four sex-specific SNPs for females and none for males. Two of these SNPs map to two of the three genes with SNPs identified by Rask-Andersen, and the other two SNPs map to a gene not identified. The estimate of the male sex-specific variance is high, with a large CI, but there are no male-specific SNPs, so this makes sense. The female sex-specific variance is also high with a large-ish CI.\n",
    "- (2) I applied it to all chromosomes for leg fat ratio. We retrieve 2 male sex-specific SNPs and 42 female sex-specific SNPs, many of which overlap with Rask-Andersen et al. The estimates appear to be reasonable, although on the higher side for the sex-specific variances. \n",
    "\n",
    "We will see if this generalizes to other traits. \n"
   ]
  },
  {
   "attachments": {},
   "cell_type": "markdown",
   "metadata": {},
   "source": [
    "#### Description of Model 2 \n",
    "\n",
    " \n",
    "![image.png](image.png)"
   ]
  },
  {
   "cell_type": "markdown",
   "metadata": {},
   "source": [
    "## SIMULATIONS"
   ]
  },
  {
   "cell_type": "code",
   "execution_count": 1,
   "metadata": {},
   "outputs": [
    {
     "name": "stderr",
     "output_type": "stream",
     "text": [
      "Loading required package: MASS\n",
      "Loading required package: Matrix\n",
      "Loading required package: mnormt\n"
     ]
    }
   ],
   "source": [
    "source(\"project_utils.R\")\n",
    "set.seed(607)"
   ]
  },
  {
   "cell_type": "code",
   "execution_count": 2,
   "metadata": {
    "collapsed": true
   },
   "outputs": [],
   "source": [
    "\n",
    "model2Simv2 <- function(N, p, sigmasq, S){\n",
    "    # sigmasq is a vector of two variances\n",
    "    # S is a variance-covariance matrix\n",
    "    \n",
    "    Sigma <- nearPD(S)$mat # nearest positive definite matrix\n",
    "    zeros <- c(0,0)\n",
    "    \n",
    "    # sample squared SEs\n",
    "    se2 <- simSE2(N)\n",
    "\n",
    "    ### SAMPLE BETAS\n",
    "    # M0\n",
    "    n.m0 <- round(p[1]*N)\n",
    "    se.m0 <- matrix(se2[1:(2*n.m0)], n.m0, 2)\n",
    "    betas.m0 <- do.call(rbind, lapply(1:n.m0, function(x) mvrnorm(1, zeros, diag(se.m0[x,]))))\n",
    "\n",
    "    # M1 \n",
    "    n.m1 <- round(p[2]*N)\n",
    "    se.m1 <- matrix(se2[(2*n.m0+1):(2*(n.m0+n.m1))], n.m1, 2)\n",
    "    betas.m1 <- do.call(rbind, lapply(1:n.m1, function(x) \n",
    "        mvrnorm(1, zeros, diag(se.m1[x,])+diag(c(sigmasq[1], 0)))))\n",
    "\n",
    "    # M2\n",
    "    n.m2 <- round(p[3]*N)    \n",
    "    se.m2 <- matrix(se2[(2*(n.m0+n.m1)+1):(2*(n.m0+n.m1+n.m2))], n.m2, 2)\n",
    "    betas.m2 <- do.call(rbind, lapply(1:n.m2, function(x) \n",
    "        mvrnorm(1, zeros, diag(se.m2[x,])+diag(c(0,sigmasq[2])))))\n",
    "\n",
    "    # M3\n",
    "    n.m3 <- N-(n.m0+n.m1 + n.m2)\n",
    "    se.m3 <- matrix(se2[(2*(n.m0+n.m1+n.m2)+1):(2*N)], n.m3, 2)\n",
    "    betas.m3 <- do.call(rbind, lapply(1:n.m3, function(x) \n",
    "        mvrnorm(1, zeros, diag(se.m3[x,])+Sigma)))\n",
    "\n",
    "\n",
    "    # put together\n",
    "    betas <- do.call(rbind, list(betas.m0, betas.m1, betas.m2, betas.m3))\n",
    "    ses <- do.call(rbind, list(se.m0, se.m1, se.m2, se.m3))\n",
    "        \n",
    "    cov.data.k4.sim <- list(\n",
    "        N = N,\n",
    "        M = 2,\n",
    "        B = betas,\n",
    "        SE = ses,\n",
    "        K = 4\n",
    "    )\n",
    "    return(cov.data.k4.sim)\n",
    "}                                                 \n"
   ]
  },
  {
   "cell_type": "code",
   "execution_count": 3,
   "metadata": {
    "collapsed": true
   },
   "outputs": [],
   "source": [
    "N <- 1000\n",
    "p <- c(0.5, 0.05, 0.1, 0.25)\n",
    "sigmasq <- c(0.02, 0.01)\n",
    "S <- matrix(c(0.012,0.005, 0.005, 0.010),2,2)\n",
    "cov.data.M2.sim <- model2Simv2(N, p, sigmasq, S)"
   ]
  },
  {
   "cell_type": "code",
   "execution_count": 4,
   "metadata": {},
   "outputs": [
    {
     "name": "stderr",
     "output_type": "stream",
     "text": [
      "Loading required package: ggplot2\n",
      "Loading required package: StanHeaders\n",
      "rstan (Version 2.16.2, packaged: 2017-07-03 09:24:58 UTC, GitRev: 2e1f913d3ca3)\n",
      "For execution on a local, multicore CPU with excess RAM we recommend calling\n",
      "rstan_options(auto_write = TRUE)\n",
      "options(mc.cores = parallel::detectCores())\n"
     ]
    },
    {
     "name": "stdout",
     "output_type": "stream",
     "text": [
      "In file included from /home/erflynn/R/x86_64-pc-linux-gnu-library/3.3/BH/include/boost/config.hpp:39:0,\n",
      "                 from /home/erflynn/R/x86_64-pc-linux-gnu-library/3.3/BH/include/boost/math/tools/config.hpp:13,\n",
      "                 from /home/erflynn/R/x86_64-pc-linux-gnu-library/3.3/StanHeaders/include/stan/math/rev/core/var.hpp:7,\n",
      "                 from /home/erflynn/R/x86_64-pc-linux-gnu-library/3.3/StanHeaders/include/stan/math/rev/core/gevv_vvv_vari.hpp:5,\n",
      "                 from /home/erflynn/R/x86_64-pc-linux-gnu-library/3.3/StanHeaders/include/stan/math/rev/core.hpp:12,\n",
      "                 from /home/erflynn/R/x86_64-pc-linux-gnu-library/3.3/StanHeaders/include/stan/math/rev/mat.hpp:4,\n",
      "                 from /home/erflynn/R/x86_64-pc-linux-gnu-library/3.3/StanHeaders/include/stan/math.hpp:4,\n",
      "                 from /home/erflynn/R/x86_64-pc-linux-gnu-library/3.3/StanHeaders/include/src/stan/model/model_header.hpp:4,\n",
      "                 from fileb6f74dcd3e72.cpp:8:\n",
      "/home/erflynn/R/x86_64-pc-linux-gnu-library/3.3/BH/include/boost/config/compiler/gcc.hpp:186:0: warning: \"BOOST_NO_CXX11_RVALUE_REFERENCES\" redefined [enabled by default]\n",
      " #  define BOOST_NO_CXX11_RVALUE_REFERENCES\n",
      " ^\n",
      "<command-line>:0:0: note: this is the location of the previous definition\n"
     ]
    }
   ],
   "source": [
    "# run stan to estimate the covariance\n",
    "library(rstan)\n",
    "options(warn=-1)\n",
    "fit2_sim <- stan(\n",
    "  file = \"../models/model2_v2.stan\",  # Stan program\n",
    "  data = cov.data.M2.sim,    # named list of data\n",
    "  chains = 4,             # number of Markov chains\n",
    "  warmup = 200,          # number of warmup iterations per chain\n",
    "  iter = 400,            # total number of iterations per chain\n",
    "  cores = 2,              \n",
    "  refresh = 1000          # show progress every 'refresh' iterations\n",
    "  )\n"
   ]
  },
  {
   "cell_type": "code",
   "execution_count": 5,
   "metadata": {
    "collapsed": true
   },
   "outputs": [],
   "source": [
    "save(fit2_sim, cov.data.M2.sim, file=\"sim2.RData\")"
   ]
  },
  {
   "cell_type": "code",
   "execution_count": 6,
   "metadata": {},
   "outputs": [
    {
     "name": "stdout",
     "output_type": "stream",
     "text": [
      "Inference for Stan model: model2_v2.\n",
      "4 chains, each with iter=400; warmup=200; thin=1; \n",
      "post-warmup draws per chain=200, total post-warmup draws=800.\n",
      "\n",
      "                 mean se_mean       sd        10%       2.5%      97.5% n_eff\n",
      "sigmasq[1]    0.85865 0.10238  2.22493    0.18060    0.12662    4.56756   472\n",
      "sigmasq[2]    6.00192 2.10802 38.25005    0.30764    0.20914   23.30767   329\n",
      "Sigma[1,1]    0.01158 0.00004  0.00094    0.01040    0.00977    0.01346   643\n",
      "Sigma[1,2]    0.00423 0.00002  0.00059    0.00349    0.00310    0.00545   584\n",
      "Sigma[2,1]    0.00423 0.00002  0.00059    0.00349    0.00310    0.00545   584\n",
      "Sigma[2,2]    0.01110 0.00003  0.00075    0.01019    0.00975    0.01258   738\n",
      "pi[1]         0.54842 0.00073  0.01799    0.52605    0.51225    0.58382   613\n",
      "pi[2]         0.00584 0.00021  0.00510    0.00093    0.00025    0.01875   607\n",
      "pi[3]         0.00171 0.00007  0.00195    0.00018    0.00006    0.00668   800\n",
      "pi[4]         0.44402 0.00069  0.01771    0.42170    0.41105    0.47939   651\n",
      "lp__       3070.67057 0.11964  2.22456 3067.88321 3065.17443 3073.77267   346\n",
      "              Rhat\n",
      "sigmasq[1] 1.00186\n",
      "sigmasq[2] 1.00654\n",
      "Sigma[1,1] 1.00130\n",
      "Sigma[1,2] 1.00070\n",
      "Sigma[2,1] 1.00070\n",
      "Sigma[2,2] 1.00004\n",
      "pi[1]      0.99804\n",
      "pi[2]      1.00080\n",
      "pi[3]      1.00177\n",
      "pi[4]      0.99694\n",
      "lp__       1.00860\n",
      "\n",
      "Samples were drawn using NUTS(diag_e) at Fri Jan 19 14:42:04 2018.\n",
      "For each parameter, n_eff is a crude measure of effective sample size,\n",
      "and Rhat is the potential scale reduction factor on split chains (at \n",
      "convergence, Rhat=1).\n"
     ]
    }
   ],
   "source": [
    "print(fit2_sim, pars=c(\"sigmasq\", \"Sigma\", \"pi\", \"lp__\"), probs=c(0.1, 0.025, 0.975), digits_summary = 5)\n"
   ]
  },
  {
   "cell_type": "markdown",
   "metadata": {},
   "source": [
    "If we try on a simulated sample where the true values for S vs. sigmasq differ a lot, we get much closer estimates of the proportion in each component and variances. "
   ]
  },
  {
   "cell_type": "code",
   "execution_count": 7,
   "metadata": {
    "collapsed": true
   },
   "outputs": [],
   "source": [
    "N <- 1000\n",
    "p <- c(0.5, 0.05, 0.1, 0.25)\n",
    "sigmasq <- c(0.2, 0.1)\n",
    "S <- matrix(c(0.012,0.005, 0.005, 0.010),2,2)\n",
    "cov.data.M2.sim <- model2Simv2(N, p, sigmasq, S)"
   ]
  },
  {
   "cell_type": "code",
   "execution_count": 8,
   "metadata": {
    "collapsed": true
   },
   "outputs": [],
   "source": [
    "# run stan to estimate the covariance\n",
    "library(rstan)\n",
    "options(warn=-1)\n",
    "fit2_sim <- stan(\n",
    "  file = \"../models/model2_v2.stan\",  # Stan program\n",
    "  data = cov.data.M2.sim,    # named list of data\n",
    "  chains = 4,             # number of Markov chains\n",
    "  warmup = 200,          # number of warmup iterations per chain\n",
    "  iter = 400,            # total number of iterations per chain\n",
    "  cores = 2,              \n",
    "  refresh = 1000          # show progress every 'refresh' iterations\n",
    "  )\n"
   ]
  },
  {
   "cell_type": "code",
   "execution_count": 9,
   "metadata": {
    "collapsed": true
   },
   "outputs": [],
   "source": [
    "save(fit2_sim, cov.data.M2.sim, file=\"sim2_2.RData\")"
   ]
  },
  {
   "cell_type": "code",
   "execution_count": 10,
   "metadata": {},
   "outputs": [
    {
     "name": "stdout",
     "output_type": "stream",
     "text": [
      "Inference for Stan model: model2_v2.\n",
      "4 chains, each with iter=400; warmup=200; thin=1; \n",
      "post-warmup draws per chain=200, total post-warmup draws=800.\n",
      "\n",
      "                 mean se_mean      sd        10%       2.5%      97.5% n_eff\n",
      "sigmasq[1]    0.25081 0.00223 0.06304    0.18376    0.16190    0.40352   800\n",
      "sigmasq[2]    0.09610 0.00056 0.01570    0.07713    0.07009    0.13507   800\n",
      "Sigma[1,1]    0.01162 0.00004 0.00113    0.01020    0.00955    0.01394   800\n",
      "Sigma[1,2]    0.00456 0.00003 0.00078    0.00359    0.00309    0.00615   800\n",
      "Sigma[2,1]    0.00456 0.00003 0.00078    0.00359    0.00309    0.00615   800\n",
      "Sigma[2,2]    0.01155 0.00004 0.00113    0.01012    0.00956    0.01403   800\n",
      "pi[1]         0.49776 0.00067 0.01888    0.47189    0.46024    0.53325   800\n",
      "pi[2]         0.05323 0.00033 0.00920    0.04177    0.03631    0.07237   800\n",
      "pi[3]         0.11465 0.00053 0.01511    0.09547    0.08778    0.14617   800\n",
      "pi[4]         0.33436 0.00073 0.02054    0.30844    0.29267    0.37346   800\n",
      "lp__       2729.63479 0.11269 2.11527 2726.79196 2724.51721 2732.69719   352\n",
      "              Rhat\n",
      "sigmasq[1] 0.99621\n",
      "sigmasq[2] 0.99982\n",
      "Sigma[1,1] 0.99732\n",
      "Sigma[1,2] 0.99715\n",
      "Sigma[2,1] 0.99715\n",
      "Sigma[2,2] 0.99905\n",
      "pi[1]      0.99682\n",
      "pi[2]      0.99763\n",
      "pi[3]      1.00269\n",
      "pi[4]      0.99740\n",
      "lp__       1.01297\n",
      "\n",
      "Samples were drawn using NUTS(diag_e) at Fri Jan 19 14:52:57 2018.\n",
      "For each parameter, n_eff is a crude measure of effective sample size,\n",
      "and Rhat is the potential scale reduction factor on split chains (at \n",
      "convergence, Rhat=1).\n"
     ]
    }
   ],
   "source": [
    "print(fit2_sim, pars=c(\"sigmasq\", \"Sigma\", \"pi\", \"lp__\"), probs=c(0.1, 0.025, 0.975), digits_summary = 5)\n"
   ]
  },
  {
   "cell_type": "markdown",
   "metadata": {},
   "source": [
    "## M2 Results on real data"
   ]
  },
  {
   "cell_type": "code",
   "execution_count": 17,
   "metadata": {},
   "outputs": [
    {
     "name": "stdout",
     "output_type": "stream",
     "text": [
      "Inference for Stan model: model2_v2.\n",
      "4 chains, each with iter=600; warmup=200; thin=1; \n",
      "post-warmup draws per chain=400, total post-warmup draws=1600.\n",
      "\n",
      "                   mean se_mean       sd          10%         2.5%        97.5%\n",
      "sigmasq[1]      0.56288 0.02951  0.74906      0.18353      0.13064      2.11144\n",
      "sigmasq[2]      7.60067 1.66098 60.31899      0.43282      0.28258     32.29296\n",
      "Sigma[1,1]      0.00008 0.00000  0.00001      0.00007      0.00007      0.00010\n",
      "Sigma[1,2]      0.00002 0.00000  0.00000      0.00002      0.00001      0.00002\n",
      "Sigma[2,1]      0.00002 0.00000  0.00000      0.00002      0.00001      0.00002\n",
      "Sigma[2,2]      0.00002 0.00000  0.00000      0.00002      0.00002      0.00002\n",
      "pi[1]           0.76514 0.00068  0.02148      0.73748      0.72028      0.80514\n",
      "pi[2]           0.00028 0.00000  0.00015      0.00010      0.00006      0.00064\n",
      "pi[3]           0.00005 0.00000  0.00006      0.00001      0.00000      0.00021\n",
      "pi[4]           0.23453 0.00068  0.02144      0.20687      0.19460      0.27940\n",
      "lp__       120026.50823 0.08176  2.04398 120023.78376 120021.62556 120029.43989\n",
      "           n_eff    Rhat\n",
      "sigmasq[1]   644 1.00283\n",
      "sigmasq[2]  1319 1.00090\n",
      "Sigma[1,1]  1081 1.00156\n",
      "Sigma[1,2]  1118 1.00017\n",
      "Sigma[2,1]  1118 1.00017\n",
      "Sigma[2,2]  1113 0.99942\n",
      "pi[1]        985 1.00034\n",
      "pi[2]       1158 1.00157\n",
      "pi[3]       1141 1.00098\n",
      "pi[4]        988 1.00035\n",
      "lp__         625 1.00028\n",
      "\n",
      "Samples were drawn using NUTS(diag_e) at Wed Jan 17 11:10:36 2018.\n",
      "For each parameter, n_eff is a crude measure of effective sample size,\n",
      "and Rhat is the potential scale reduction factor on split chains (at \n",
      "convergence, Rhat=1).\n"
     ]
    }
   ],
   "source": [
    "### -- chromosome 15 for trunk_fp -- ###\n",
    "# We identify known sex-specific SNPs. \n",
    "# The estimate of the male sex-specific variance is high, with a large CI, but there are no male-specific SNPs.\n",
    "load('../../data/m2_v3/f_m2_trunk_fp.RData')\n",
    "f.spec.trunk15 <- read.table(\"../../data/m2_v3/f_spec_snp_tab_trunk_fp.txt\", header=TRUE)\n",
    "m.spec.trunk15 <- read.table(\"../../data/m2_v3/m_spec_snp_tab_trunk_fp.txt\", header=TRUE)\n",
    "\n",
    "print(fit2, pars=c(\"sigmasq\", \"Sigma\", \"pi\", \"lp__\"), probs=c(0.1, 0.025, 0.975), digits_summary = 5)\n"
   ]
  },
  {
   "cell_type": "code",
   "execution_count": 19,
   "metadata": {},
   "outputs": [
    {
     "data": {
      "text/html": [
       "4"
      ],
      "text/latex": [
       "4"
      ],
      "text/markdown": [
       "4"
      ],
      "text/plain": [
       "[1] 4"
      ]
     },
     "metadata": {},
     "output_type": "display_data"
    },
    {
     "data": {
      "text/html": [
       "0"
      ],
      "text/latex": [
       "0"
      ],
      "text/markdown": [
       "0"
      ],
      "text/plain": [
       "[1] 0"
      ]
     },
     "metadata": {},
     "output_type": "display_data"
    },
    {
     "data": {
      "text/html": [
       "<table>\n",
       "<thead><tr><th scope=col>SNP</th><th scope=col>CHR</th><th scope=col>BP</th><th scope=col>B_f</th><th scope=col>B_m</th><th scope=col>SE_f</th><th scope=col>SE_m</th><th scope=col>p_m</th><th scope=col>p_f</th><th scope=col>gene</th></tr></thead>\n",
       "<tbody>\n",
       "\t<tr><td>rs16942341 </td><td>15         </td><td> 89388905  </td><td>-0.1097100 </td><td> 0.0125846 </td><td>0.01077650 </td><td>0.01040210 </td><td>0.22635300 </td><td>2.46732e-24</td><td>ACAN       </td></tr>\n",
       "\t<tr><td>rs35874463 </td><td>15         </td><td> 67457698  </td><td> 0.0615468 </td><td> 0.0200622 </td><td>0.00775777 </td><td>0.00747630 </td><td>0.00728773 </td><td>2.14362e-15</td><td>SMAD3      </td></tr>\n",
       "\t<tr><td>rs3817428  </td><td>15         </td><td> 89415247  </td><td>-0.0540360 </td><td>-0.0112301 </td><td>0.00408460 </td><td>0.00397892 </td><td>0.00476737 </td><td>6.26032e-40</td><td>ACAN       </td></tr>\n",
       "\t<tr><td>rs72770234 </td><td>15         </td><td>100660989  </td><td>-0.0667568 </td><td>-0.0131039 </td><td>0.00742902 </td><td>0.00723172 </td><td>0.06998780 </td><td>2.59333e-19</td><td>ADAMTS17   </td></tr>\n",
       "</tbody>\n",
       "</table>\n"
      ],
      "text/latex": [
       "\\begin{tabular}{r|llllllllll}\n",
       " SNP & CHR & BP & B\\_f & B\\_m & SE\\_f & SE\\_m & p\\_m & p\\_f & gene\\\\\n",
       "\\hline\n",
       "\t rs16942341  & 15          &  89388905   & -0.1097100  &  0.0125846  & 0.01077650  & 0.01040210  & 0.22635300  & 2.46732e-24 & ACAN       \\\\\n",
       "\t rs35874463  & 15          &  67457698   &  0.0615468  &  0.0200622  & 0.00775777  & 0.00747630  & 0.00728773  & 2.14362e-15 & SMAD3      \\\\\n",
       "\t rs3817428   & 15          &  89415247   & -0.0540360  & -0.0112301  & 0.00408460  & 0.00397892  & 0.00476737  & 6.26032e-40 & ACAN       \\\\\n",
       "\t rs72770234  & 15          & 100660989   & -0.0667568  & -0.0131039  & 0.00742902  & 0.00723172  & 0.06998780  & 2.59333e-19 & ADAMTS17   \\\\\n",
       "\\end{tabular}\n"
      ],
      "text/markdown": [
       "\n",
       "SNP | CHR | BP | B_f | B_m | SE_f | SE_m | p_m | p_f | gene | \n",
       "|---|---|---|---|\n",
       "| rs16942341  | 15          |  89388905   | -0.1097100  |  0.0125846  | 0.01077650  | 0.01040210  | 0.22635300  | 2.46732e-24 | ACAN        | \n",
       "| rs35874463  | 15          |  67457698   |  0.0615468  |  0.0200622  | 0.00775777  | 0.00747630  | 0.00728773  | 2.14362e-15 | SMAD3       | \n",
       "| rs3817428   | 15          |  89415247   | -0.0540360  | -0.0112301  | 0.00408460  | 0.00397892  | 0.00476737  | 6.26032e-40 | ACAN        | \n",
       "| rs72770234  | 15          | 100660989   | -0.0667568  | -0.0131039  | 0.00742902  | 0.00723172  | 0.06998780  | 2.59333e-19 | ADAMTS17    | \n",
       "\n",
       "\n"
      ],
      "text/plain": [
       "  SNP        CHR BP        B_f        B_m        SE_f       SE_m      \n",
       "1 rs16942341 15   89388905 -0.1097100  0.0125846 0.01077650 0.01040210\n",
       "2 rs35874463 15   67457698  0.0615468  0.0200622 0.00775777 0.00747630\n",
       "3 rs3817428  15   89415247 -0.0540360 -0.0112301 0.00408460 0.00397892\n",
       "4 rs72770234 15  100660989 -0.0667568 -0.0131039 0.00742902 0.00723172\n",
       "  p_m        p_f         gene    \n",
       "1 0.22635300 2.46732e-24 ACAN    \n",
       "2 0.00728773 2.14362e-15 SMAD3   \n",
       "3 0.00476737 6.26032e-40 ACAN    \n",
       "4 0.06998780 2.59333e-19 ADAMTS17"
      ]
     },
     "metadata": {},
     "output_type": "display_data"
    }
   ],
   "source": [
    "nrow(f.spec.trunk15)\n",
    "nrow(m.spec.trunk15) # none\n",
    "f.spec.trunk15"
   ]
  },
  {
   "cell_type": "code",
   "execution_count": 21,
   "metadata": {},
   "outputs": [
    {
     "name": "stdout",
     "output_type": "stream",
     "text": [
      "Inference for Stan model: model2_v2.\n",
      "4 chains, each with iter=600; warmup=200; thin=1; \n",
      "post-warmup draws per chain=400, total post-warmup draws=1600.\n",
      "\n",
      "                   mean se_mean      sd          10%         2.5%        97.5%\n",
      "sigmasq[1] 3.572000e-02 0.00025 0.00823 2.661000e-02 2.327000e-02 5.553000e-02\n",
      "sigmasq[2] 1.133310e+00 0.11424 3.29385 2.410000e-01 1.695300e-01 4.287440e+00\n",
      "Sigma[1,1] 5.000000e-05 0.00000 0.00000 4.000000e-05 4.000000e-05 5.000000e-05\n",
      "Sigma[1,2] 1.000000e-05 0.00000 0.00000 1.000000e-05 1.000000e-05 1.000000e-05\n",
      "Sigma[2,1] 1.000000e-05 0.00000 0.00000 1.000000e-05 1.000000e-05 1.000000e-05\n",
      "Sigma[2,2] 2.000000e-05 0.00000 0.00000 2.000000e-05 2.000000e-05 2.000000e-05\n",
      "pi[1]      7.260400e-01 0.00028 0.00772 7.158800e-01 7.107900e-01 7.402000e-01\n",
      "pi[2]      2.400000e-04 0.00000 0.00004 1.900000e-04 1.600000e-04 3.300000e-04\n",
      "pi[3]      1.000000e-05 0.00000 0.00001 0.000000e+00 0.000000e+00 3.000000e-05\n",
      "pi[4]      2.737100e-01 0.00028 0.00771 2.636200e-01 2.595000e-01 2.889400e-01\n",
      "lp__       1.753048e+06 0.07437 2.05716 1.753045e+06 1.753043e+06 1.753051e+06\n",
      "           n_eff    Rhat\n",
      "sigmasq[1]  1124 0.99903\n",
      "sigmasq[2]   831 1.00166\n",
      "Sigma[1,1]   801 1.00553\n",
      "Sigma[1,2]   963 1.00358\n",
      "Sigma[2,1]   963 1.00358\n",
      "Sigma[2,2]   930 1.00023\n",
      "pi[1]        765 1.00227\n",
      "pi[2]       1105 1.00014\n",
      "pi[3]       1600 1.00047\n",
      "pi[4]        767 1.00225\n",
      "lp__         765 1.00292\n",
      "\n",
      "Samples were drawn using NUTS(diag_e) at Wed Jan 17 11:50:05 2018.\n",
      "For each parameter, n_eff is a crude measure of effective sample size,\n",
      "and Rhat is the potential scale reduction factor on split chains (at \n",
      "convergence, Rhat=1).\n"
     ]
    }
   ],
   "source": [
    "### -- all chromosomes for leg_fp -- ###\n",
    "## This looks better in terms of the estimates of sex-specific variances than the partial one for trunk fp \n",
    "## I am running more traits now to see if this is consistent.\n",
    "load('../../data/m2_v2/f_m2_leg_fp.RData')\n",
    "f.spec.leg <- read.table(\"../../data/m2_v3/f_spec_snp_tab_leg_fp.txt\", header=TRUE)\n",
    "m.spec.leg <- read.table(\"../../data/m2_v3/m_spec_snp_tab_leg_fp.txt\", header=TRUE)\n",
    "\n",
    "print(fit2, pars=c(\"sigmasq\", \"Sigma\", \"pi\", \"lp__\"), probs=c(0.1, 0.025, 0.975), digits_summary = 5)"
   ]
  },
  {
   "cell_type": "code",
   "execution_count": 23,
   "metadata": {},
   "outputs": [
    {
     "data": {
      "text/html": [
       "<table>\n",
       "<thead><tr><th scope=col>SNP</th><th scope=col>CHR</th><th scope=col>BP</th><th scope=col>B_f</th><th scope=col>B_m</th><th scope=col>SE_f</th><th scope=col>SE_m</th><th scope=col>p_m</th><th scope=col>p_f</th><th scope=col>gene</th></tr></thead>\n",
       "<tbody>\n",
       "\t<tr><td>rs507666   </td><td>9          </td><td>136149399  </td><td>-0.0173947 </td><td>-0.0465847 </td><td>0.00469994 </td><td>0.00462964 </td><td>8.25130e-24</td><td>2.14782e-04</td><td>ABO        </td></tr>\n",
       "\t<tr><td>rs72702209 </td><td>1          </td><td>154848581  </td><td> 0.0545399 </td><td> 0.0803379 </td><td>0.01206570 </td><td>0.01191980 </td><td>1.59118e-11</td><td>6.18173e-06</td><td>KCNN3      </td></tr>\n",
       "</tbody>\n",
       "</table>\n"
      ],
      "text/latex": [
       "\\begin{tabular}{r|llllllllll}\n",
       " SNP & CHR & BP & B\\_f & B\\_m & SE\\_f & SE\\_m & p\\_m & p\\_f & gene\\\\\n",
       "\\hline\n",
       "\t rs507666    & 9           & 136149399   & -0.0173947  & -0.0465847  & 0.00469994  & 0.00462964  & 8.25130e-24 & 2.14782e-04 & ABO        \\\\\n",
       "\t rs72702209  & 1           & 154848581   &  0.0545399  &  0.0803379  & 0.01206570  & 0.01191980  & 1.59118e-11 & 6.18173e-06 & KCNN3      \\\\\n",
       "\\end{tabular}\n"
      ],
      "text/markdown": [
       "\n",
       "SNP | CHR | BP | B_f | B_m | SE_f | SE_m | p_m | p_f | gene | \n",
       "|---|---|\n",
       "| rs507666    | 9           | 136149399   | -0.0173947  | -0.0465847  | 0.00469994  | 0.00462964  | 8.25130e-24 | 2.14782e-04 | ABO         | \n",
       "| rs72702209  | 1           | 154848581   |  0.0545399  |  0.0803379  | 0.01206570  | 0.01191980  | 1.59118e-11 | 6.18173e-06 | KCNN3       | \n",
       "\n",
       "\n"
      ],
      "text/plain": [
       "  SNP        CHR BP        B_f        B_m        SE_f       SE_m      \n",
       "1 rs507666   9   136149399 -0.0173947 -0.0465847 0.00469994 0.00462964\n",
       "2 rs72702209 1   154848581  0.0545399  0.0803379 0.01206570 0.01191980\n",
       "  p_m         p_f         gene \n",
       "1 8.25130e-24 2.14782e-04 ABO  \n",
       "2 1.59118e-11 6.18173e-06 KCNN3"
      ]
     },
     "metadata": {},
     "output_type": "display_data"
    },
    {
     "data": {
      "text/html": [
       "<table>\n",
       "<thead><tr><th scope=col>SNP</th><th scope=col>CHR</th><th scope=col>BP</th><th scope=col>B_f</th><th scope=col>B_m</th><th scope=col>SE_f</th><th scope=col>SE_m</th><th scope=col>p_m</th><th scope=col>p_f</th><th scope=col>gene</th></tr></thead>\n",
       "<tbody>\n",
       "\t<tr><td>Affx-35293625</td><td>16           </td><td> 89986117    </td><td> 0.0409299   </td><td> 9.37974e-04 </td><td>0.00589032   </td><td>0.00585062   </td><td>8.72629e-01  </td><td>3.70214e-12  </td><td>NA           </td></tr>\n",
       "\t<tr><td>rs11144688   </td><td> 9           </td><td> 78542286    </td><td> 0.0424127   </td><td> 9.69475e-03 </td><td>0.00559059   </td><td>0.00553198   </td><td>7.96912e-02  </td><td>3.30644e-14  </td><td>PCSK5        </td></tr>\n",
       "\t<tr><td>rs112018183  </td><td>15           </td><td> 88907630    </td><td> 0.0775193   </td><td>-2.31691e-02 </td><td>0.01669570   </td><td>0.01662820   </td><td>1.63512e-01  </td><td>3.43543e-06  </td><td>MRPL46       </td></tr>\n",
       "\t<tr><td>rs112594996  </td><td> 9           </td><td> 96914890    </td><td>-0.0502847   </td><td> 3.15634e-03 </td><td>0.00870149   </td><td>0.00858952   </td><td>7.13273e-01  </td><td>7.53514e-09  </td><td>PTPDC1       </td></tr>\n",
       "\t<tr><td>rs115254649  </td><td> 6           </td><td> 30152130    </td><td>-0.0820249   </td><td> 7.19545e-03 </td><td>0.01584400   </td><td>0.01614460   </td><td>6.55823e-01  </td><td>2.25727e-07  </td><td>TRIM15       </td></tr>\n",
       "\t<tr><td>rs115584674  </td><td> 1           </td><td>150346106    </td><td> 0.0516200   </td><td> 1.38558e-02 </td><td>0.00761956   </td><td>0.00757495   </td><td>6.73767e-02  </td><td>1.25136e-11  </td><td>RPRD2        </td></tr>\n",
       "\t<tr><td>rs11580946   </td><td> 1           </td><td>150551327    </td><td>-0.0892288   </td><td>-1.08593e-02 </td><td>0.01431730   </td><td>0.01394740   </td><td>4.36223e-01  </td><td>4.61020e-10  </td><td>MCL1         </td></tr>\n",
       "\t<tr><td>rs116320423  </td><td> 6           </td><td> 30067427    </td><td>-0.0804078   </td><td> 6.96762e-03 </td><td>0.01583050   </td><td>0.01624320   </td><td>6.67955e-01  </td><td>3.79259e-07  </td><td>TRIM31       </td></tr>\n",
       "\t<tr><td>rs117187575  </td><td>20           </td><td> 33171268    </td><td>-0.0646845   </td><td> 7.27433e-03 </td><td>0.01046970   </td><td>0.01044520   </td><td>4.86162e-01  </td><td>6.49661e-10  </td><td>PIGU         </td></tr>\n",
       "\t<tr><td>rs11729800   </td><td> 4           </td><td> 73541684    </td><td>-0.0584492   </td><td>-8.99124e-03 </td><td>0.00740436   </td><td>0.00736709   </td><td>2.22292e-01  </td><td>2.94845e-15  </td><td>ADAMTS3      </td></tr>\n",
       "\t<tr><td>rs117362888  </td><td>20           </td><td> 34374006    </td><td>-0.0551720   </td><td> 1.60916e-04 </td><td>0.00890935   </td><td>0.00884396   </td><td>9.85483e-01  </td><td>5.93326e-10  </td><td>PHF20        </td></tr>\n",
       "\t<tr><td>rs118063812  </td><td>12           </td><td> 50880516    </td><td>-0.0652861   </td><td>-2.60896e-04 </td><td>0.01328440   </td><td>0.01296520   </td><td>9.83945e-01  </td><td>8.91013e-07  </td><td>LARP4        </td></tr>\n",
       "\t<tr><td>rs12795957   </td><td>11           </td><td> 67242216    </td><td> 0.0609429   </td><td> 5.22538e-03 </td><td>0.00777792   </td><td>0.00778050   </td><td>5.01840e-01  </td><td>4.70395e-15  </td><td>AIP          </td></tr>\n",
       "\t<tr><td>rs1326122    </td><td>13           </td><td> 50722895    </td><td>-0.0758672   </td><td>-3.00829e-03 </td><td>0.01253050   </td><td>0.01243670   </td><td>8.08868e-01  </td><td>1.41072e-09  </td><td>DLEU1        </td></tr>\n",
       "\t<tr><td>rs16942341   </td><td>15           </td><td> 89388905    </td><td> 0.0863827   </td><td>-1.61961e-02 </td><td>0.01078450   </td><td>0.01062410   </td><td>1.27393e-01  </td><td>1.15623e-15  </td><td>ACAN         </td></tr>\n",
       "\t<tr><td>rs28929474   </td><td>14           </td><td> 94844947    </td><td>-0.0960923   </td><td>-4.55591e-02 </td><td>0.01281710   </td><td>0.01274360   </td><td>3.50259e-04  </td><td>6.55371e-14  </td><td>SERPINA1     </td></tr>\n",
       "\t<tr><td>rs34419890   </td><td>11           </td><td> 66501624    </td><td> 0.0557946   </td><td> 7.07832e-03 </td><td>0.00685498   </td><td>0.00685676   </td><td>3.01927e-01  </td><td>4.00571e-16  </td><td>SPTBN2       </td></tr>\n",
       "\t<tr><td>rs34672415   </td><td> 6           </td><td> 34839644    </td><td> 0.0794915   </td><td> 3.93382e-02 </td><td>0.01455710   </td><td>0.01455260   </td><td>6.86865e-03  </td><td>4.75088e-08  </td><td>UHRF1BP1     </td></tr>\n",
       "\t<tr><td>rs3817428    </td><td>15           </td><td> 89415247    </td><td> 0.0466495   </td><td> 4.36492e-03 </td><td>0.00408792   </td><td>0.00406374   </td><td>2.82774e-01  </td><td>3.76631e-30  </td><td>ACAN         </td></tr>\n",
       "\t<tr><td>rs41271299   </td><td> 6           </td><td> 19839415    </td><td>-0.0792629   </td><td> 4.57144e-03 </td><td>0.00817117   </td><td>0.00808716   </td><td>5.71890e-01  </td><td>3.05022e-22  </td><td>ID4          </td></tr>\n",
       "\t<tr><td>rs56090944   </td><td>20           </td><td> 33813993    </td><td>-0.0534572   </td><td> 1.12489e-02 </td><td>0.00888120   </td><td>0.00884278   </td><td>2.03339e-01  </td><td>1.75736e-09  </td><td>NA           </td></tr>\n",
       "\t<tr><td>rs56228576   </td><td> 1           </td><td>150530548    </td><td> 0.0581020   </td><td> 1.17544e-02 </td><td>0.01041310   </td><td>0.01042130   </td><td>2.59355e-01  </td><td>2.41363e-08  </td><td>ADAMTSL4     </td></tr>\n",
       "\t<tr><td>rs59595954   </td><td> 6           </td><td> 35614328    </td><td>-0.0770096   </td><td>-1.32350e-02 </td><td>0.01216350   </td><td>0.01203520   </td><td>2.71470e-01  </td><td>2.43922e-10  </td><td>FKBP5        </td></tr>\n",
       "\t<tr><td>rs61734601   </td><td>11           </td><td> 67184725    </td><td> 0.0573658   </td><td> 9.75229e-03 </td><td>0.00650592   </td><td>0.00648911   </td><td>1.32875e-01  </td><td>1.18256e-18  </td><td>CARNS1       </td></tr>\n",
       "\t<tr><td>rs61749613   </td><td> 5           </td><td> 82815170    </td><td> 0.0760204   </td><td> 2.26638e-02 </td><td>0.00909668   </td><td>0.00901711   </td><td>1.19576e-02  </td><td>6.48955e-17  </td><td>VCAN         </td></tr>\n",
       "\t<tr><td>rs72704117   </td><td> 1           </td><td>155175089    </td><td> 0.0789390   </td><td> 8.18094e-02 </td><td>0.01212590   </td><td>0.01194510   </td><td>7.47732e-12  </td><td>7.54189e-11  </td><td>THBS3        </td></tr>\n",
       "\t<tr><td>rs72704192   </td><td> 1           </td><td>155501548    </td><td> 0.0731985   </td><td> 5.92972e-02 </td><td>0.01090330   </td><td>0.01074320   </td><td>3.40502e-08  </td><td>1.90763e-11  </td><td>ASH1L        </td></tr>\n",
       "\t<tr><td>rs72767253   </td><td> 5           </td><td> 51090842    </td><td> 0.0511546   </td><td>-4.05071e-03 </td><td>0.00905046   </td><td>0.00892894   </td><td>6.50073e-01  </td><td>1.58729e-08  </td><td>LOC100506329 </td></tr>\n",
       "\t<tr><td>rs72770234   </td><td>15           </td><td>100660989    </td><td> 0.0569890   </td><td> 4.77398e-03 </td><td>0.00743463   </td><td>0.00738636   </td><td>5.18071e-01  </td><td>1.79381e-14  </td><td>ADAMTS17     </td></tr>\n",
       "\t<tr><td>rs74293938   </td><td> 6           </td><td> 26109268    </td><td> 0.0454283   </td><td> 6.10281e-04 </td><td>0.00519937   </td><td>0.00522115   </td><td>9.06950e-01  </td><td>2.41428e-18  </td><td>HIST1H2BG    </td></tr>\n",
       "\t<tr><td>rs75223147   </td><td> 6           </td><td> 19831020    </td><td>-0.0916829   </td><td> 2.54006e-03 </td><td>0.01257350   </td><td>0.01240360   </td><td>8.37741e-01  </td><td>3.07388e-13  </td><td>NA           </td></tr>\n",
       "\t<tr><td>rs75385537   </td><td> 4           </td><td>145706070    </td><td> 0.0494964   </td><td> 1.14421e-02 </td><td>0.00598230   </td><td>0.00596446   </td><td>5.50658e-02  </td><td>1.30769e-16  </td><td>HHIP         </td></tr>\n",
       "\t<tr><td>rs75397441   </td><td> 6           </td><td> 26022392    </td><td> 0.0533562   </td><td> 3.62195e-03 </td><td>0.00632447   </td><td>0.00627078   </td><td>5.63540e-01  </td><td>3.29850e-17  </td><td>HIST1H4I     </td></tr>\n",
       "\t<tr><td>rs76803230   </td><td> 2           </td><td>232928700    </td><td> 0.0692624   </td><td> 2.76659e-02 </td><td>0.01345520   </td><td>0.01330800   </td><td>3.76279e-02  </td><td>2.64121e-07  </td><td>DIS3L2       </td></tr>\n",
       "\t<tr><td>rs76917354   </td><td> 6           </td><td> 35694245    </td><td>-0.0469240   </td><td> 4.23576e-03 </td><td>0.00741331   </td><td>0.00736216   </td><td>5.65061e-01  </td><td>2.46311e-10  </td><td>FKBP5        </td></tr>\n",
       "\t<tr><td>rs77146408   </td><td> 6           </td><td> 34116469    </td><td>-0.0878309   </td><td>-1.94064e-03 </td><td>0.01285600   </td><td>0.01263910   </td><td>8.77971e-01  </td><td>8.40985e-12  </td><td>GRM4         </td></tr>\n",
       "\t<tr><td>rs7761870    </td><td> 6           </td><td> 35423886    </td><td> 0.0854274   </td><td> 3.94855e-02 </td><td>0.01421990   </td><td>0.01421780   </td><td>5.48391e-03  </td><td>1.88723e-09  </td><td>FANCE        </td></tr>\n",
       "\t<tr><td>rs77870445   </td><td> 6           </td><td> 26477025    </td><td>-0.0810406   </td><td> 2.49770e-02 </td><td>0.01539230   </td><td>0.01576080   </td><td>1.13024e-01  </td><td>1.40363e-07  </td><td>BTN1A1       </td></tr>\n",
       "\t<tr><td>rs78844280   </td><td>13           </td><td> 50349898    </td><td>-0.0772042   </td><td>-1.32700e-02 </td><td>0.01225610   </td><td>0.01216850   </td><td>2.75484e-01  </td><td>2.99920e-10  </td><td>KPNA3        </td></tr>\n",
       "\t<tr><td>rs80356191   </td><td> 6           </td><td> 35034758    </td><td>-0.0904845   </td><td>-2.85611e-02 </td><td>0.01306090   </td><td>0.01286700   </td><td>2.64398e-02  </td><td>4.28864e-12  </td><td>ANKS1A       </td></tr>\n",
       "\t<tr><td>rs806970     </td><td> 6           </td><td> 26141375    </td><td> 0.0467040   </td><td> 5.51579e-05 </td><td>0.00701758   </td><td>0.00697490   </td><td>9.93690e-01  </td><td>2.83683e-11  </td><td>HIST1H1E     </td></tr>\n",
       "\t<tr><td>rs9358913    </td><td> 6           </td><td> 26239404    </td><td> 0.0551953   </td><td> 1.81148e-03 </td><td>0.00412211   </td><td>0.00410084   </td><td>6.58683e-01  </td><td>7.28762e-41  </td><td>HIST1H1D     </td></tr>\n",
       "</tbody>\n",
       "</table>\n"
      ],
      "text/latex": [
       "\\begin{tabular}{r|llllllllll}\n",
       " SNP & CHR & BP & B\\_f & B\\_m & SE\\_f & SE\\_m & p\\_m & p\\_f & gene\\\\\n",
       "\\hline\n",
       "\t Affx-35293625 & 16            &  89986117     &  0.0409299    &  9.37974e-04  & 0.00589032    & 0.00585062    & 8.72629e-01   & 3.70214e-12   & NA           \\\\\n",
       "\t rs11144688    &  9            &  78542286     &  0.0424127    &  9.69475e-03  & 0.00559059    & 0.00553198    & 7.96912e-02   & 3.30644e-14   & PCSK5        \\\\\n",
       "\t rs112018183   & 15            &  88907630     &  0.0775193    & -2.31691e-02  & 0.01669570    & 0.01662820    & 1.63512e-01   & 3.43543e-06   & MRPL46       \\\\\n",
       "\t rs112594996   &  9            &  96914890     & -0.0502847    &  3.15634e-03  & 0.00870149    & 0.00858952    & 7.13273e-01   & 7.53514e-09   & PTPDC1       \\\\\n",
       "\t rs115254649   &  6            &  30152130     & -0.0820249    &  7.19545e-03  & 0.01584400    & 0.01614460    & 6.55823e-01   & 2.25727e-07   & TRIM15       \\\\\n",
       "\t rs115584674   &  1            & 150346106     &  0.0516200    &  1.38558e-02  & 0.00761956    & 0.00757495    & 6.73767e-02   & 1.25136e-11   & RPRD2        \\\\\n",
       "\t rs11580946    &  1            & 150551327     & -0.0892288    & -1.08593e-02  & 0.01431730    & 0.01394740    & 4.36223e-01   & 4.61020e-10   & MCL1         \\\\\n",
       "\t rs116320423   &  6            &  30067427     & -0.0804078    &  6.96762e-03  & 0.01583050    & 0.01624320    & 6.67955e-01   & 3.79259e-07   & TRIM31       \\\\\n",
       "\t rs117187575   & 20            &  33171268     & -0.0646845    &  7.27433e-03  & 0.01046970    & 0.01044520    & 4.86162e-01   & 6.49661e-10   & PIGU         \\\\\n",
       "\t rs11729800    &  4            &  73541684     & -0.0584492    & -8.99124e-03  & 0.00740436    & 0.00736709    & 2.22292e-01   & 2.94845e-15   & ADAMTS3      \\\\\n",
       "\t rs117362888   & 20            &  34374006     & -0.0551720    &  1.60916e-04  & 0.00890935    & 0.00884396    & 9.85483e-01   & 5.93326e-10   & PHF20        \\\\\n",
       "\t rs118063812   & 12            &  50880516     & -0.0652861    & -2.60896e-04  & 0.01328440    & 0.01296520    & 9.83945e-01   & 8.91013e-07   & LARP4        \\\\\n",
       "\t rs12795957    & 11            &  67242216     &  0.0609429    &  5.22538e-03  & 0.00777792    & 0.00778050    & 5.01840e-01   & 4.70395e-15   & AIP          \\\\\n",
       "\t rs1326122     & 13            &  50722895     & -0.0758672    & -3.00829e-03  & 0.01253050    & 0.01243670    & 8.08868e-01   & 1.41072e-09   & DLEU1        \\\\\n",
       "\t rs16942341    & 15            &  89388905     &  0.0863827    & -1.61961e-02  & 0.01078450    & 0.01062410    & 1.27393e-01   & 1.15623e-15   & ACAN         \\\\\n",
       "\t rs28929474    & 14            &  94844947     & -0.0960923    & -4.55591e-02  & 0.01281710    & 0.01274360    & 3.50259e-04   & 6.55371e-14   & SERPINA1     \\\\\n",
       "\t rs34419890    & 11            &  66501624     &  0.0557946    &  7.07832e-03  & 0.00685498    & 0.00685676    & 3.01927e-01   & 4.00571e-16   & SPTBN2       \\\\\n",
       "\t rs34672415    &  6            &  34839644     &  0.0794915    &  3.93382e-02  & 0.01455710    & 0.01455260    & 6.86865e-03   & 4.75088e-08   & UHRF1BP1     \\\\\n",
       "\t rs3817428     & 15            &  89415247     &  0.0466495    &  4.36492e-03  & 0.00408792    & 0.00406374    & 2.82774e-01   & 3.76631e-30   & ACAN         \\\\\n",
       "\t rs41271299    &  6            &  19839415     & -0.0792629    &  4.57144e-03  & 0.00817117    & 0.00808716    & 5.71890e-01   & 3.05022e-22   & ID4          \\\\\n",
       "\t rs56090944    & 20            &  33813993     & -0.0534572    &  1.12489e-02  & 0.00888120    & 0.00884278    & 2.03339e-01   & 1.75736e-09   & NA           \\\\\n",
       "\t rs56228576    &  1            & 150530548     &  0.0581020    &  1.17544e-02  & 0.01041310    & 0.01042130    & 2.59355e-01   & 2.41363e-08   & ADAMTSL4     \\\\\n",
       "\t rs59595954    &  6            &  35614328     & -0.0770096    & -1.32350e-02  & 0.01216350    & 0.01203520    & 2.71470e-01   & 2.43922e-10   & FKBP5        \\\\\n",
       "\t rs61734601    & 11            &  67184725     &  0.0573658    &  9.75229e-03  & 0.00650592    & 0.00648911    & 1.32875e-01   & 1.18256e-18   & CARNS1       \\\\\n",
       "\t rs61749613    &  5            &  82815170     &  0.0760204    &  2.26638e-02  & 0.00909668    & 0.00901711    & 1.19576e-02   & 6.48955e-17   & VCAN         \\\\\n",
       "\t rs72704117    &  1            & 155175089     &  0.0789390    &  8.18094e-02  & 0.01212590    & 0.01194510    & 7.47732e-12   & 7.54189e-11   & THBS3        \\\\\n",
       "\t rs72704192    &  1            & 155501548     &  0.0731985    &  5.92972e-02  & 0.01090330    & 0.01074320    & 3.40502e-08   & 1.90763e-11   & ASH1L        \\\\\n",
       "\t rs72767253    &  5            &  51090842     &  0.0511546    & -4.05071e-03  & 0.00905046    & 0.00892894    & 6.50073e-01   & 1.58729e-08   & LOC100506329 \\\\\n",
       "\t rs72770234    & 15            & 100660989     &  0.0569890    &  4.77398e-03  & 0.00743463    & 0.00738636    & 5.18071e-01   & 1.79381e-14   & ADAMTS17     \\\\\n",
       "\t rs74293938    &  6            &  26109268     &  0.0454283    &  6.10281e-04  & 0.00519937    & 0.00522115    & 9.06950e-01   & 2.41428e-18   & HIST1H2BG    \\\\\n",
       "\t rs75223147    &  6            &  19831020     & -0.0916829    &  2.54006e-03  & 0.01257350    & 0.01240360    & 8.37741e-01   & 3.07388e-13   & NA           \\\\\n",
       "\t rs75385537    &  4            & 145706070     &  0.0494964    &  1.14421e-02  & 0.00598230    & 0.00596446    & 5.50658e-02   & 1.30769e-16   & HHIP         \\\\\n",
       "\t rs75397441    &  6            &  26022392     &  0.0533562    &  3.62195e-03  & 0.00632447    & 0.00627078    & 5.63540e-01   & 3.29850e-17   & HIST1H4I     \\\\\n",
       "\t rs76803230    &  2            & 232928700     &  0.0692624    &  2.76659e-02  & 0.01345520    & 0.01330800    & 3.76279e-02   & 2.64121e-07   & DIS3L2       \\\\\n",
       "\t rs76917354    &  6            &  35694245     & -0.0469240    &  4.23576e-03  & 0.00741331    & 0.00736216    & 5.65061e-01   & 2.46311e-10   & FKBP5        \\\\\n",
       "\t rs77146408    &  6            &  34116469     & -0.0878309    & -1.94064e-03  & 0.01285600    & 0.01263910    & 8.77971e-01   & 8.40985e-12   & GRM4         \\\\\n",
       "\t rs7761870     &  6            &  35423886     &  0.0854274    &  3.94855e-02  & 0.01421990    & 0.01421780    & 5.48391e-03   & 1.88723e-09   & FANCE        \\\\\n",
       "\t rs77870445    &  6            &  26477025     & -0.0810406    &  2.49770e-02  & 0.01539230    & 0.01576080    & 1.13024e-01   & 1.40363e-07   & BTN1A1       \\\\\n",
       "\t rs78844280    & 13            &  50349898     & -0.0772042    & -1.32700e-02  & 0.01225610    & 0.01216850    & 2.75484e-01   & 2.99920e-10   & KPNA3        \\\\\n",
       "\t rs80356191    &  6            &  35034758     & -0.0904845    & -2.85611e-02  & 0.01306090    & 0.01286700    & 2.64398e-02   & 4.28864e-12   & ANKS1A       \\\\\n",
       "\t rs806970      &  6            &  26141375     &  0.0467040    &  5.51579e-05  & 0.00701758    & 0.00697490    & 9.93690e-01   & 2.83683e-11   & HIST1H1E     \\\\\n",
       "\t rs9358913     &  6            &  26239404     &  0.0551953    &  1.81148e-03  & 0.00412211    & 0.00410084    & 6.58683e-01   & 7.28762e-41   & HIST1H1D     \\\\\n",
       "\\end{tabular}\n"
      ],
      "text/markdown": [
       "\n",
       "SNP | CHR | BP | B_f | B_m | SE_f | SE_m | p_m | p_f | gene | \n",
       "|---|---|---|---|---|---|---|---|---|---|---|---|---|---|---|---|---|---|---|---|---|---|---|---|---|---|---|---|---|---|---|---|---|---|---|---|---|---|---|---|---|---|\n",
       "| Affx-35293625 | 16            |  89986117     |  0.0409299    |  9.37974e-04  | 0.00589032    | 0.00585062    | 8.72629e-01   | 3.70214e-12   | NA            | \n",
       "| rs11144688    |  9            |  78542286     |  0.0424127    |  9.69475e-03  | 0.00559059    | 0.00553198    | 7.96912e-02   | 3.30644e-14   | PCSK5         | \n",
       "| rs112018183   | 15            |  88907630     |  0.0775193    | -2.31691e-02  | 0.01669570    | 0.01662820    | 1.63512e-01   | 3.43543e-06   | MRPL46        | \n",
       "| rs112594996   |  9            |  96914890     | -0.0502847    |  3.15634e-03  | 0.00870149    | 0.00858952    | 7.13273e-01   | 7.53514e-09   | PTPDC1        | \n",
       "| rs115254649   |  6            |  30152130     | -0.0820249    |  7.19545e-03  | 0.01584400    | 0.01614460    | 6.55823e-01   | 2.25727e-07   | TRIM15        | \n",
       "| rs115584674   |  1            | 150346106     |  0.0516200    |  1.38558e-02  | 0.00761956    | 0.00757495    | 6.73767e-02   | 1.25136e-11   | RPRD2         | \n",
       "| rs11580946    |  1            | 150551327     | -0.0892288    | -1.08593e-02  | 0.01431730    | 0.01394740    | 4.36223e-01   | 4.61020e-10   | MCL1          | \n",
       "| rs116320423   |  6            |  30067427     | -0.0804078    |  6.96762e-03  | 0.01583050    | 0.01624320    | 6.67955e-01   | 3.79259e-07   | TRIM31        | \n",
       "| rs117187575   | 20            |  33171268     | -0.0646845    |  7.27433e-03  | 0.01046970    | 0.01044520    | 4.86162e-01   | 6.49661e-10   | PIGU          | \n",
       "| rs11729800    |  4            |  73541684     | -0.0584492    | -8.99124e-03  | 0.00740436    | 0.00736709    | 2.22292e-01   | 2.94845e-15   | ADAMTS3       | \n",
       "| rs117362888   | 20            |  34374006     | -0.0551720    |  1.60916e-04  | 0.00890935    | 0.00884396    | 9.85483e-01   | 5.93326e-10   | PHF20         | \n",
       "| rs118063812   | 12            |  50880516     | -0.0652861    | -2.60896e-04  | 0.01328440    | 0.01296520    | 9.83945e-01   | 8.91013e-07   | LARP4         | \n",
       "| rs12795957    | 11            |  67242216     |  0.0609429    |  5.22538e-03  | 0.00777792    | 0.00778050    | 5.01840e-01   | 4.70395e-15   | AIP           | \n",
       "| rs1326122     | 13            |  50722895     | -0.0758672    | -3.00829e-03  | 0.01253050    | 0.01243670    | 8.08868e-01   | 1.41072e-09   | DLEU1         | \n",
       "| rs16942341    | 15            |  89388905     |  0.0863827    | -1.61961e-02  | 0.01078450    | 0.01062410    | 1.27393e-01   | 1.15623e-15   | ACAN          | \n",
       "| rs28929474    | 14            |  94844947     | -0.0960923    | -4.55591e-02  | 0.01281710    | 0.01274360    | 3.50259e-04   | 6.55371e-14   | SERPINA1      | \n",
       "| rs34419890    | 11            |  66501624     |  0.0557946    |  7.07832e-03  | 0.00685498    | 0.00685676    | 3.01927e-01   | 4.00571e-16   | SPTBN2        | \n",
       "| rs34672415    |  6            |  34839644     |  0.0794915    |  3.93382e-02  | 0.01455710    | 0.01455260    | 6.86865e-03   | 4.75088e-08   | UHRF1BP1      | \n",
       "| rs3817428     | 15            |  89415247     |  0.0466495    |  4.36492e-03  | 0.00408792    | 0.00406374    | 2.82774e-01   | 3.76631e-30   | ACAN          | \n",
       "| rs41271299    |  6            |  19839415     | -0.0792629    |  4.57144e-03  | 0.00817117    | 0.00808716    | 5.71890e-01   | 3.05022e-22   | ID4           | \n",
       "| rs56090944    | 20            |  33813993     | -0.0534572    |  1.12489e-02  | 0.00888120    | 0.00884278    | 2.03339e-01   | 1.75736e-09   | NA            | \n",
       "| rs56228576    |  1            | 150530548     |  0.0581020    |  1.17544e-02  | 0.01041310    | 0.01042130    | 2.59355e-01   | 2.41363e-08   | ADAMTSL4      | \n",
       "| rs59595954    |  6            |  35614328     | -0.0770096    | -1.32350e-02  | 0.01216350    | 0.01203520    | 2.71470e-01   | 2.43922e-10   | FKBP5         | \n",
       "| rs61734601    | 11            |  67184725     |  0.0573658    |  9.75229e-03  | 0.00650592    | 0.00648911    | 1.32875e-01   | 1.18256e-18   | CARNS1        | \n",
       "| rs61749613    |  5            |  82815170     |  0.0760204    |  2.26638e-02  | 0.00909668    | 0.00901711    | 1.19576e-02   | 6.48955e-17   | VCAN          | \n",
       "| rs72704117    |  1            | 155175089     |  0.0789390    |  8.18094e-02  | 0.01212590    | 0.01194510    | 7.47732e-12   | 7.54189e-11   | THBS3         | \n",
       "| rs72704192    |  1            | 155501548     |  0.0731985    |  5.92972e-02  | 0.01090330    | 0.01074320    | 3.40502e-08   | 1.90763e-11   | ASH1L         | \n",
       "| rs72767253    |  5            |  51090842     |  0.0511546    | -4.05071e-03  | 0.00905046    | 0.00892894    | 6.50073e-01   | 1.58729e-08   | LOC100506329  | \n",
       "| rs72770234    | 15            | 100660989     |  0.0569890    |  4.77398e-03  | 0.00743463    | 0.00738636    | 5.18071e-01   | 1.79381e-14   | ADAMTS17      | \n",
       "| rs74293938    |  6            |  26109268     |  0.0454283    |  6.10281e-04  | 0.00519937    | 0.00522115    | 9.06950e-01   | 2.41428e-18   | HIST1H2BG     | \n",
       "| rs75223147    |  6            |  19831020     | -0.0916829    |  2.54006e-03  | 0.01257350    | 0.01240360    | 8.37741e-01   | 3.07388e-13   | NA            | \n",
       "| rs75385537    |  4            | 145706070     |  0.0494964    |  1.14421e-02  | 0.00598230    | 0.00596446    | 5.50658e-02   | 1.30769e-16   | HHIP          | \n",
       "| rs75397441    |  6            |  26022392     |  0.0533562    |  3.62195e-03  | 0.00632447    | 0.00627078    | 5.63540e-01   | 3.29850e-17   | HIST1H4I      | \n",
       "| rs76803230    |  2            | 232928700     |  0.0692624    |  2.76659e-02  | 0.01345520    | 0.01330800    | 3.76279e-02   | 2.64121e-07   | DIS3L2        | \n",
       "| rs76917354    |  6            |  35694245     | -0.0469240    |  4.23576e-03  | 0.00741331    | 0.00736216    | 5.65061e-01   | 2.46311e-10   | FKBP5         | \n",
       "| rs77146408    |  6            |  34116469     | -0.0878309    | -1.94064e-03  | 0.01285600    | 0.01263910    | 8.77971e-01   | 8.40985e-12   | GRM4          | \n",
       "| rs7761870     |  6            |  35423886     |  0.0854274    |  3.94855e-02  | 0.01421990    | 0.01421780    | 5.48391e-03   | 1.88723e-09   | FANCE         | \n",
       "| rs77870445    |  6            |  26477025     | -0.0810406    |  2.49770e-02  | 0.01539230    | 0.01576080    | 1.13024e-01   | 1.40363e-07   | BTN1A1        | \n",
       "| rs78844280    | 13            |  50349898     | -0.0772042    | -1.32700e-02  | 0.01225610    | 0.01216850    | 2.75484e-01   | 2.99920e-10   | KPNA3         | \n",
       "| rs80356191    |  6            |  35034758     | -0.0904845    | -2.85611e-02  | 0.01306090    | 0.01286700    | 2.64398e-02   | 4.28864e-12   | ANKS1A        | \n",
       "| rs806970      |  6            |  26141375     |  0.0467040    |  5.51579e-05  | 0.00701758    | 0.00697490    | 9.93690e-01   | 2.83683e-11   | HIST1H1E      | \n",
       "| rs9358913     |  6            |  26239404     |  0.0551953    |  1.81148e-03  | 0.00412211    | 0.00410084    | 6.58683e-01   | 7.28762e-41   | HIST1H1D      | \n",
       "\n",
       "\n"
      ],
      "text/plain": [
       "   SNP           CHR BP        B_f        B_m          SE_f       SE_m      \n",
       "1  Affx-35293625 16   89986117  0.0409299  9.37974e-04 0.00589032 0.00585062\n",
       "2  rs11144688     9   78542286  0.0424127  9.69475e-03 0.00559059 0.00553198\n",
       "3  rs112018183   15   88907630  0.0775193 -2.31691e-02 0.01669570 0.01662820\n",
       "4  rs112594996    9   96914890 -0.0502847  3.15634e-03 0.00870149 0.00858952\n",
       "5  rs115254649    6   30152130 -0.0820249  7.19545e-03 0.01584400 0.01614460\n",
       "6  rs115584674    1  150346106  0.0516200  1.38558e-02 0.00761956 0.00757495\n",
       "7  rs11580946     1  150551327 -0.0892288 -1.08593e-02 0.01431730 0.01394740\n",
       "8  rs116320423    6   30067427 -0.0804078  6.96762e-03 0.01583050 0.01624320\n",
       "9  rs117187575   20   33171268 -0.0646845  7.27433e-03 0.01046970 0.01044520\n",
       "10 rs11729800     4   73541684 -0.0584492 -8.99124e-03 0.00740436 0.00736709\n",
       "11 rs117362888   20   34374006 -0.0551720  1.60916e-04 0.00890935 0.00884396\n",
       "12 rs118063812   12   50880516 -0.0652861 -2.60896e-04 0.01328440 0.01296520\n",
       "13 rs12795957    11   67242216  0.0609429  5.22538e-03 0.00777792 0.00778050\n",
       "14 rs1326122     13   50722895 -0.0758672 -3.00829e-03 0.01253050 0.01243670\n",
       "15 rs16942341    15   89388905  0.0863827 -1.61961e-02 0.01078450 0.01062410\n",
       "16 rs28929474    14   94844947 -0.0960923 -4.55591e-02 0.01281710 0.01274360\n",
       "17 rs34419890    11   66501624  0.0557946  7.07832e-03 0.00685498 0.00685676\n",
       "18 rs34672415     6   34839644  0.0794915  3.93382e-02 0.01455710 0.01455260\n",
       "19 rs3817428     15   89415247  0.0466495  4.36492e-03 0.00408792 0.00406374\n",
       "20 rs41271299     6   19839415 -0.0792629  4.57144e-03 0.00817117 0.00808716\n",
       "21 rs56090944    20   33813993 -0.0534572  1.12489e-02 0.00888120 0.00884278\n",
       "22 rs56228576     1  150530548  0.0581020  1.17544e-02 0.01041310 0.01042130\n",
       "23 rs59595954     6   35614328 -0.0770096 -1.32350e-02 0.01216350 0.01203520\n",
       "24 rs61734601    11   67184725  0.0573658  9.75229e-03 0.00650592 0.00648911\n",
       "25 rs61749613     5   82815170  0.0760204  2.26638e-02 0.00909668 0.00901711\n",
       "26 rs72704117     1  155175089  0.0789390  8.18094e-02 0.01212590 0.01194510\n",
       "27 rs72704192     1  155501548  0.0731985  5.92972e-02 0.01090330 0.01074320\n",
       "28 rs72767253     5   51090842  0.0511546 -4.05071e-03 0.00905046 0.00892894\n",
       "29 rs72770234    15  100660989  0.0569890  4.77398e-03 0.00743463 0.00738636\n",
       "30 rs74293938     6   26109268  0.0454283  6.10281e-04 0.00519937 0.00522115\n",
       "31 rs75223147     6   19831020 -0.0916829  2.54006e-03 0.01257350 0.01240360\n",
       "32 rs75385537     4  145706070  0.0494964  1.14421e-02 0.00598230 0.00596446\n",
       "33 rs75397441     6   26022392  0.0533562  3.62195e-03 0.00632447 0.00627078\n",
       "34 rs76803230     2  232928700  0.0692624  2.76659e-02 0.01345520 0.01330800\n",
       "35 rs76917354     6   35694245 -0.0469240  4.23576e-03 0.00741331 0.00736216\n",
       "36 rs77146408     6   34116469 -0.0878309 -1.94064e-03 0.01285600 0.01263910\n",
       "37 rs7761870      6   35423886  0.0854274  3.94855e-02 0.01421990 0.01421780\n",
       "38 rs77870445     6   26477025 -0.0810406  2.49770e-02 0.01539230 0.01576080\n",
       "39 rs78844280    13   50349898 -0.0772042 -1.32700e-02 0.01225610 0.01216850\n",
       "40 rs80356191     6   35034758 -0.0904845 -2.85611e-02 0.01306090 0.01286700\n",
       "41 rs806970       6   26141375  0.0467040  5.51579e-05 0.00701758 0.00697490\n",
       "42 rs9358913      6   26239404  0.0551953  1.81148e-03 0.00412211 0.00410084\n",
       "   p_m         p_f         gene        \n",
       "1  8.72629e-01 3.70214e-12 NA          \n",
       "2  7.96912e-02 3.30644e-14 PCSK5       \n",
       "3  1.63512e-01 3.43543e-06 MRPL46      \n",
       "4  7.13273e-01 7.53514e-09 PTPDC1      \n",
       "5  6.55823e-01 2.25727e-07 TRIM15      \n",
       "6  6.73767e-02 1.25136e-11 RPRD2       \n",
       "7  4.36223e-01 4.61020e-10 MCL1        \n",
       "8  6.67955e-01 3.79259e-07 TRIM31      \n",
       "9  4.86162e-01 6.49661e-10 PIGU        \n",
       "10 2.22292e-01 2.94845e-15 ADAMTS3     \n",
       "11 9.85483e-01 5.93326e-10 PHF20       \n",
       "12 9.83945e-01 8.91013e-07 LARP4       \n",
       "13 5.01840e-01 4.70395e-15 AIP         \n",
       "14 8.08868e-01 1.41072e-09 DLEU1       \n",
       "15 1.27393e-01 1.15623e-15 ACAN        \n",
       "16 3.50259e-04 6.55371e-14 SERPINA1    \n",
       "17 3.01927e-01 4.00571e-16 SPTBN2      \n",
       "18 6.86865e-03 4.75088e-08 UHRF1BP1    \n",
       "19 2.82774e-01 3.76631e-30 ACAN        \n",
       "20 5.71890e-01 3.05022e-22 ID4         \n",
       "21 2.03339e-01 1.75736e-09 NA          \n",
       "22 2.59355e-01 2.41363e-08 ADAMTSL4    \n",
       "23 2.71470e-01 2.43922e-10 FKBP5       \n",
       "24 1.32875e-01 1.18256e-18 CARNS1      \n",
       "25 1.19576e-02 6.48955e-17 VCAN        \n",
       "26 7.47732e-12 7.54189e-11 THBS3       \n",
       "27 3.40502e-08 1.90763e-11 ASH1L       \n",
       "28 6.50073e-01 1.58729e-08 LOC100506329\n",
       "29 5.18071e-01 1.79381e-14 ADAMTS17    \n",
       "30 9.06950e-01 2.41428e-18 HIST1H2BG   \n",
       "31 8.37741e-01 3.07388e-13 NA          \n",
       "32 5.50658e-02 1.30769e-16 HHIP        \n",
       "33 5.63540e-01 3.29850e-17 HIST1H4I    \n",
       "34 3.76279e-02 2.64121e-07 DIS3L2      \n",
       "35 5.65061e-01 2.46311e-10 FKBP5       \n",
       "36 8.77971e-01 8.40985e-12 GRM4        \n",
       "37 5.48391e-03 1.88723e-09 FANCE       \n",
       "38 1.13024e-01 1.40363e-07 BTN1A1      \n",
       "39 2.75484e-01 2.99920e-10 KPNA3       \n",
       "40 2.64398e-02 4.28864e-12 ANKS1A      \n",
       "41 9.93690e-01 2.83683e-11 HIST1H1E    \n",
       "42 6.58683e-01 7.28762e-41 HIST1H1D    "
      ]
     },
     "metadata": {},
     "output_type": "display_data"
    }
   ],
   "source": [
    "m.spec.leg\n",
    "f.spec.leg"
   ]
  }
 ],
 "metadata": {
  "kernelspec": {
   "display_name": "R",
   "language": "R",
   "name": "ir"
  },
  "language_info": {
   "codemirror_mode": "r",
   "file_extension": ".r",
   "mimetype": "text/x-r-source",
   "name": "R",
   "pygments_lexer": "r",
   "version": "3.3.0"
  }
 },
 "nbformat": 4,
 "nbformat_minor": 2
}
