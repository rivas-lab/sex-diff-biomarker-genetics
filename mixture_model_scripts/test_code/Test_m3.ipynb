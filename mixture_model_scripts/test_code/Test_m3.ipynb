{
 "cells": [
  {
   "cell_type": "markdown",
   "metadata": {},
   "source": [
    "### Test M3 with simulations\n",
    "#### E Flynn\n",
    "#### 6/10/2019\n",
    "\n",
    "I updated the model to allow for effects that are sex-differential (rather than sex-specific)."
   ]
  },
  {
   "cell_type": "code",
   "execution_count": 1,
   "metadata": {},
   "outputs": [
    {
     "name": "stderr",
     "output_type": "stream",
     "text": [
      "Loading required package: MASS\n",
      "Loading required package: Matrix\n",
      "Loading required package: mnormt\n",
      "Loading required package: ggplot2\n",
      "Loading required package: StanHeaders\n",
      "rstan (Version 2.17.3, GitRev: 2e1f913d3ca3)\n",
      "For execution on a local, multicore CPU with excess RAM we recommend calling\n",
      "options(mc.cores = parallel::detectCores()).\n",
      "To avoid recompilation of unchanged Stan programs, we recommend calling\n",
      "rstan_options(auto_write = TRUE)\n"
     ]
    }
   ],
   "source": [
    "source(\"project_utils.R\")\n",
    "library(rstan)\n",
    "set.seed(610)"
   ]
  },
  {
   "cell_type": "markdown",
   "metadata": {
    "collapsed": true
   },
   "source": [
    "Below is a function that simulates a five-component model - with fourth component w var-covar matrix, and fifth component containing half scaled 1.1 for f and half scaled 1.1 for m."
   ]
  },
  {
   "cell_type": "code",
   "execution_count": 9,
   "metadata": {},
   "outputs": [],
   "source": [
    "model3sim <- function(N, p, sigmasq, S, s){\n",
    "    # sigmasq is a vector of three variances\n",
    "    # S is a variance-covariance matrix\n",
    "    # s is the scaling parameter\n",
    "    \n",
    "    Sigma <- nearPD(S)$mat # nearest positive definite matrix\n",
    "    zeros <- c(0,0)\n",
    "    \n",
    "    # sample squared SEs\n",
    "    se2 <- simSE2(N)\n",
    "\n",
    "    ### SAMPLE BETAS\n",
    "    # M0\n",
    "    n.m0 <- round(p[1]*N)\n",
    "    se.m0 <- matrix(se2[1:(2*n.m0)], n.m0, 2)\n",
    "    betas.m0 <- do.call(rbind, lapply(1:n.m0, function(x) mvrnorm(1, zeros, diag(se.m0[x,]))))\n",
    "\n",
    "    # M1 \n",
    "    n.m1 <- round(p[2]*N)\n",
    "    se.m1 <- matrix(se2[(2*n.m0+1):(2*(n.m0+n.m1))], n.m1, 2)\n",
    "    betas.m1 <- do.call(rbind, lapply(1:n.m1, function(x) \n",
    "        mvrnorm(1, zeros, diag(se.m1[x,])+diag(c(sigmasq[1], 0)))))\n",
    "\n",
    "    # M2\n",
    "    n.m2 <- round(p[3]*N)    \n",
    "    se.m2 <- matrix(se2[(2*(n.m0+n.m1)+1):(2*(n.m0+n.m1+n.m2))], n.m2, 2)\n",
    "    betas.m2 <- do.call(rbind, lapply(1:n.m2, function(x) \n",
    "        mvrnorm(1, zeros, diag(se.m2[x,])+diag(c(0,sigmasq[2])))))\n",
    "\n",
    "    # M3\n",
    "    n.m3 <- round(p[4]*N)   \n",
    "    se.m3 <- matrix(se2[(2*(n.m0+n.m1+n.m2)+1):(2*(n.m0+n.m1 + n.m2 + n.m3))], n.m3, 2)\n",
    "    betas.m3 <- do.call(rbind, lapply(1:n.m3, function(x) \n",
    "        mvrnorm(1, zeros, diag(se.m3[x,])+Sigma))) # variance-cov matrix\n",
    "\n",
    "    #  scaling component - do half from f scaled + half from m scaled\n",
    "    n.m4.1 <- round(p[5]*N*0.5)\n",
    "    prev.count <- n.m0+n.m1 + n.m2 + n.m3 + n.m4.1\n",
    "    n.m4.2 <-  N-prev.count\n",
    "    se.m4.1 <- matrix(se2[(2*(n.m0+n.m1 + n.m2 + n.m3)+1):(2*prev.count)], n.m4.1, 2)\n",
    "\n",
    "    se.m4.2 <- matrix(se2[(2*(prev.count)+1):(2*N)], n.m4.2, 2)\n",
    "    betas.m4.1 <- do.call(rbind, lapply(1:n.m4.1, function(x) \n",
    "        mvrnorm(1, zeros, diag(se.m4.1[x,])+diag(c((s**2)*sigmasq[3], sigmasq[3]))))) # TODO - make sure correct\n",
    "\n",
    "    # half up in female\n",
    "    betas.m4.2 <- do.call(rbind, lapply(1:(n.m4.2), function(x) \n",
    "        mvrnorm(1, zeros, diag(se.m4.2[x,])+diag(c(sigmasq[3], (s**2)*sigmasq[3])))))\n",
    "    \n",
    "\n",
    "    # put together\n",
    "    betas <- do.call(rbind, list(betas.m0, betas.m1, betas.m2, betas.m3, betas.m4.1, betas.m4.2))\n",
    "    ses <- do.call(rbind, list(se.m0, se.m1, se.m2, se.m3, se.m4.1, se.m4.2))\n",
    "        \n",
    "    cov.data.k4.sim <- list(\n",
    "        N = N,\n",
    "        M = 2,\n",
    "        B = betas,\n",
    "        SE = ses,\n",
    "        K = 5\n",
    "    )\n",
    "    return(cov.data.k4.sim)\n",
    "}                                                 \n"
   ]
  },
  {
   "cell_type": "code",
   "execution_count": 10,
   "metadata": {},
   "outputs": [],
   "source": [
    "N <- 2000\n",
    "p <- c(0.5, 0.05, 0.1, 0.15, 0.1)\n",
    "sigmasq <- c(0.02, 0.01, 0.03)\n",
    "S <- matrix(c(0.012,0.005, 0.005, 0.010),2,2)\n",
    "cov.data.M3.sim <- model3sim(N, p, sigmasq, S, 1.1)"
   ]
  },
  {
   "cell_type": "code",
   "execution_count": null,
   "metadata": {
    "collapsed": true
   },
   "outputs": [],
   "source": [
    "options(warn=-1)\n",
    "fit3_sim <- stan(\n",
    "  file =   # Stan program - TODO: fill in - don't have a model working for this yet\n",
    "  data = cov.data.M3.sim,    # named list of data\n",
    "  chains = 4,             # number of Markov chains\n",
    "  warmup = 200,          # number of warmup iterations per chain\n",
    "  iter = 400,            # total number of iterations per chain\n",
    "  cores = 2,              \n",
    "  refresh = 1000          # show progress every 'refresh' iterations\n",
    "  )"
   ]
  },
  {
   "cell_type": "code",
   "execution_count": null,
   "metadata": {
    "collapsed": true
   },
   "outputs": [],
   "source": [
    "print(fit3_sim, pars=c(\"sigmasq\", \"Sigma\", \"pi\", \"lp__\"), probs=c(0.1, 0.025, 0.975), digits_summary = 5)"
   ]
  },
  {
   "cell_type": "markdown",
   "metadata": {
    "collapsed": true
   },
   "source": [
    "OTHER MODELS\n",
    "- model2 <- model2Sim\n",
    "- model2 with variance covariance matrix <- model2Simv2\n",
    "- mvpmm model\n",
    "- mvpmm + k4 mat (3 component)\n",
    "- mvpmm + var-cov mat (3 component)\n",
    "- m2 with mvpmm as k4 (4 component)\n",
    "- m2 with var-cov + mvpmm sigma mat (5 component) <- above\n",
    "- m2 with k4 + mvpmm sigma mat (5 component)\n"
   ]
  },
  {
   "cell_type": "code",
   "execution_count": null,
   "metadata": {
    "collapsed": true
   },
   "outputs": [],
   "source": [
    "m2.sim <- model2sim(N, p, sigmasq) # where sigmasq is a vector of FOUR variances - function is in project_utils.R\n",
    "# the fourth component has zero off-diagonals"
   ]
  },
  {
   "cell_type": "code",
   "execution_count": null,
   "metadata": {
    "collapsed": true
   },
   "outputs": [],
   "source": [
    "model2Simv2 <- function(N, p, sigmasq, S){ # fourth component HAS offdiagonals, this is from S matrix\n",
    "    # sigmasq is a vector of two variances\n",
    "    # S is a variance-covariance matrix\n",
    "    \n",
    "    Sigma <- nearPD(S)$mat # nearest positive definite matrix\n",
    "    zeros <- c(0,0)\n",
    "    \n",
    "    # sample squared SEs\n",
    "    se2 <- simSE2(N)\n",
    "\n",
    "    ### SAMPLE BETAS\n",
    "    # M0\n",
    "    n.m0 <- round(p[1]*N)\n",
    "    se.m0 <- matrix(se2[1:(2*n.m0)], n.m0, 2)\n",
    "    betas.m0 <- do.call(rbind, lapply(1:n.m0, function(x) mvrnorm(1, zeros, diag(se.m0[x,]))))\n",
    "\n",
    "    # M1 \n",
    "    n.m1 <- round(p[2]*N)\n",
    "    se.m1 <- matrix(se2[(2*n.m0+1):(2*(n.m0+n.m1))], n.m1, 2)\n",
    "    betas.m1 <- do.call(rbind, lapply(1:n.m1, function(x) \n",
    "        mvrnorm(1, zeros, diag(se.m1[x,])+diag(c(sigmasq[1], 0)))))\n",
    "\n",
    "    # M2\n",
    "    n.m2 <- round(p[3]*N)    \n",
    "    se.m2 <- matrix(se2[(2*(n.m0+n.m1)+1):(2*(n.m0+n.m1+n.m2))], n.m2, 2)\n",
    "    betas.m2 <- do.call(rbind, lapply(1:n.m2, function(x) \n",
    "        mvrnorm(1, zeros, diag(se.m2[x,])+diag(c(0,sigmasq[2])))))\n",
    "\n",
    "    # M3\n",
    "    n.m3 <- N-(n.m0+n.m1 + n.m2)\n",
    "    se.m3 <- matrix(se2[(2*(n.m0+n.m1+n.m2)+1):(2*N)], n.m3, 2)\n",
    "    betas.m3 <- do.call(rbind, lapply(1:n.m3, function(x) \n",
    "        mvrnorm(1, zeros, diag(se.m3[x,])+Sigma)))\n",
    "\n",
    "\n",
    "    # put together\n",
    "    betas <- do.call(rbind, list(betas.m0, betas.m1, betas.m2, betas.m3))\n",
    "    ses <- do.call(rbind, list(se.m0, se.m1, se.m2, se.m3))\n",
    "        \n",
    "    cov.data.k4.sim <- list(\n",
    "        N = N,\n",
    "        M = 2,\n",
    "        B = betas,\n",
    "        SE = ses,\n",
    "        K = 4\n",
    "    )\n",
    "    return(cov.data.k4.sim)\n",
    "}               "
   ]
  },
  {
   "cell_type": "code",
   "execution_count": null,
   "metadata": {
    "collapsed": true
   },
   "outputs": [],
   "source": []
  }
 ],
 "metadata": {
  "kernelspec": {
   "display_name": "R",
   "language": "R",
   "name": "ir"
  },
  "language_info": {
   "codemirror_mode": "r",
   "file_extension": ".r",
   "mimetype": "text/x-r-source",
   "name": "R",
   "pygments_lexer": "r",
   "version": "3.4.0"
  }
 },
 "nbformat": 4,
 "nbformat_minor": 2
}
