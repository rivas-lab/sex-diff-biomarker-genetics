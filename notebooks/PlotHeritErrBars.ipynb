{
 "cells": [
  {
   "cell_type": "markdown",
   "metadata": {},
   "source": [
    "## Code for plotting heritability error bars.\n",
    "#### E Flynn\n",
    "#### 5/28/2018"
   ]
  },
  {
   "cell_type": "code",
   "execution_count": 1,
   "metadata": {},
   "outputs": [
    {
     "name": "stderr",
     "output_type": "stream",
     "text": [
      "Loading required package: ggplot2\n",
      "Loading required package: stringr\n",
      "Loading required package: tidyr\n",
      "Loading required package: MASS\n",
      "Loading required package: Matrix\n",
      "\n",
      "Attaching package: ‘Matrix’\n",
      "\n",
      "The following object is masked from ‘package:tidyr’:\n",
      "\n",
      "    expand\n",
      "\n",
      "Loading required package: mnormt\n",
      "Loading required package: qqman\n",
      "\n",
      "For example usage please run: vignette('qqman')\n",
      "\n",
      "Citation appreciated but not required:\n",
      "Turner, S.D. qqman: an R package for visualizing GWAS results using Q-Q and manhattan plots. biorXiv DOI: 10.1101/005165 (2014).\n",
      "\n",
      "Loading required package: rstan\n",
      "Loading required package: StanHeaders\n",
      "rstan (Version 2.17.3, GitRev: 2e1f913d3ca3)\n",
      "For execution on a local, multicore CPU with excess RAM we recommend calling\n",
      "options(mc.cores = parallel::detectCores()).\n",
      "To avoid recompilation of unchanged Stan programs, we recommend calling\n",
      "rstan_options(auto_write = TRUE)\n",
      "\n",
      "Attaching package: ‘rstan’\n",
      "\n",
      "The following object is masked from ‘package:tidyr’:\n",
      "\n",
      "    extract\n",
      "\n"
     ]
    }
   ],
   "source": [
    "require('ggplot2')\n",
    "require('stringr')\n",
    "require('tidyr')\n",
    "\n",
    "source('/scratch/PI/mrivas/users/erflynn/sex_div_gwas/mixture_model_scripts/model_utils.R')\n",
    "source('/scratch/PI/mrivas/users/erflynn/sex_div_gwas/mixture_model_scripts/heritability_utils.R')\n",
    "DATA.FOLDER <- \"/scratch/PI/mrivas/users/erflynn/sex_div_gwas/data/\""
   ]
  },
  {
   "cell_type": "code",
   "execution_count": 2,
   "metadata": {
    "collapsed": true
   },
   "outputs": [],
   "source": [
    "setwd(\"data/dat_set/\")\n",
    "\n",
    "summary_files <- list.files(pattern=\".txt$\")\n",
    "v2.files <- list.files(pattern=\"v2.txt$\")\n",
    "v1.files <- setdiff(summary_files, v2.files)\n",
    "v1.only <- setdiff(v1.files,\"ref_data.txt\")\n",
    "s <- lapply(v1.only, function(x) {read.table(x, header=TRUE)})\n",
    "s.tab <- do.call(rbind, s)\n",
    "s.tab <- s.tab[s.tab$rg > 0,]\n",
    "\n",
    "### need to filter out last two - appears they didn't converge (\"nucleated ...\")\n",
    "\n",
    "#s.tab$trait <- factor(s.tab$trait, levels=s.tab$trait[order(-s.tab$rg)])\n",
    "#ggplot(s.tab, aes(x=trait, y=rg))+geom_errorbar(aes(ymin=rg.l, ymax=rg.u)) + geom_point(fill=\"white\")\n",
    "ref <- read.delim(\"../multi_run_gwas_input.txt\", header=FALSE)\n",
    "ref2 <- read.delim(\"../set_traits2.txt\", header=FALSE)\n",
    "ref2$trait.name <- gsub(\" \", \"_\", str_trim(ref2$V3))\n",
    "ref2$trait <- sapply(ref2$V2, as.character)\n",
    "ref$trait.name <- gsub(\" \", \"_\", str_trim(paste(ref$V4, ref$V5)))\n",
    "ref$trait <- sapply(ref$V1, as.character)\n",
    "\n",
    "ref.total <- rbind(ref[,c(\"trait\", \"trait.name\")], ref2[,c(\"trait\", \"trait.name\")])\n",
    "\n",
    "s.tab$trait <- sapply(s.tab$trait, as.character)\n",
    "\n",
    "s.tab2 <- merge(ref.total[,c(\"trait\", \"trait.name\")], s.tab, by=\"trait\")\n",
    "s.tab2$trait.name <- factor(s.tab2$trait.name, levels=s.tab2$trait.name[order(-s.tab2$rg)])\n"
   ]
  },
  {
   "cell_type": "markdown",
   "metadata": {},
   "source": [
    "Load the literature reference data - we want to look for comparisons"
   ]
  },
  {
   "cell_type": "code",
   "execution_count": 3,
   "metadata": {
    "collapsed": true
   },
   "outputs": [],
   "source": [
    "lit <- read.table(\"ref_data.txt\", header=TRUE)\n",
    "lit$source <- \"literature\"\n",
    "s.tab2$source <- \"estimated\" \n",
    "\n",
    "ref.lit <- merge(lit[,c(\"rg\", \"rg.l\", \"rg.u\", \"trait.name\")], s.tab2[,c(\"trait.name\", \"rg\", \"rg.l\", \"rg.u\")], by=\"trait.name\")\n",
    "\n",
    "ref.lit2 <- rbind(lit[lit$trait.name %in% ref.lit$trait.name,c(\"trait.name\", \"rg\", \"rg.l\", \"rg.u\", \"source\")], s.tab2[ s.tab2$trait.name %in% ref.lit$trait.name,c(\"trait.name\", \"rg\", \"rg.l\", \"rg.u\", \"source\")])\n",
    "\n",
    "res <- s.tab2[,c(\"trait.name\", \"rg\", \"rg.l\", \"rg.u\", \"source\")]\n",
    "ref.lit3 <- rbind(ref.lit2, res)\n",
    "ref.lit3 <- ref.lit3[!duplicated(ref.lit3),]\n",
    "\n",
    "# do some fake filtering\n",
    "to.skip <- sapply(ref.lit3$trait.name, function(x){x <- strsplit(as.character(x), \"_\", fixed=TRUE)[[1]];  x[[length(x)]] %in% c(\"volume\", \n",
    "\t\"count\", \"fraction\", \"concentration\", \"width\", \"measure\", \"mass\", \"haemoglobin\", \"crit\", \"urine\", \"body\", \"percentage\")})\n",
    "ref.lit4 <- ref.lit3[!to.skip,]\n",
    "to.skip2 <- sapply(ref.lit4$trait.name, function(x){x <- strsplit(as.character(x), \"_\", fixed=TRUE)[[1]];  ifelse(length(x) > 1, x[[(length(x)-1)]] %in% c(\"leg\", \"arm\", \"percentage\"), FALSE)})\n",
    "ref.lit4 <- ref.lit4[!to.skip2,]\n",
    "ref.lit4$trait.name <- gsub(\"_\", \" \", ref.lit4$trait.name)\n",
    "ref.lit4$trait.name[ref.lit4$trait.name==\"FEV-1\"] <- \"forced expiratory vol\"\n",
    "ref.lit4$trait.name[ref.lit4$trait.name==\"PEF\"] <- \"peak expiratory flow\"\n",
    "ref.lit4$trait.name[ref.lit4$trait.name==\"FVC\"] <- \"forced vital capacity\"\n",
    "ref.lit4$trait.name[ref.lit4$trait.name==\"Hand grip strength (right)\"] <- \"grip strength (r)\"\n",
    "\n",
    "ref.lit4est <- ref.lit4[ref.lit4$source==\"estimated\",]\n",
    "\n",
    "ref.lit4$trait.name <- factor(ref.lit4$trait.name, levels=ref.lit4est$trait.name[order(-ref.lit4est$rg)])\n"
   ]
  },
  {
   "cell_type": "code",
   "execution_count": 4,
   "metadata": {},
   "outputs": [
    {
     "name": "stderr",
     "output_type": "stream",
     "text": [
      "Loading required package: plyr\n"
     ]
    }
   ],
   "source": [
    "require('plyr')\n",
    "setwd(\"../herit\")\n",
    "herit_files <- list.files(pattern=\".txt$\")\n",
    "herit.df = ldply(herit_files, read.table) \n"
   ]
  },
  {
   "cell_type": "code",
   "execution_count": 5,
   "metadata": {},
   "outputs": [
    {
     "data": {
      "text/html": [
       "<ol class=list-inline>\n",
       "\t<li>343</li>\n",
       "\t<li>4</li>\n",
       "</ol>\n"
      ],
      "text/latex": [
       "\\begin{enumerate*}\n",
       "\\item 343\n",
       "\\item 4\n",
       "\\end{enumerate*}\n"
      ],
      "text/markdown": [
       "1. 343\n",
       "2. 4\n",
       "\n",
       "\n"
      ],
      "text/plain": [
       "[1] 343   4"
      ]
     },
     "metadata": {},
     "output_type": "display_data"
    }
   ],
   "source": [
    "colnames(herit.df) <- c(\"value\", \"trait\", \"int\", \"sex\")\n",
    "dim(herit.df)\n",
    "herit.df$sex[herit.df$sex==1] <- \"h.f\"\n",
    "herit.df$sex[herit.df$sex==2] <- \"h.m\"\n",
    "herit.df2 <- herit.df[complete.cases(herit.df),]"
   ]
  },
  {
   "cell_type": "code",
   "execution_count": 6,
   "metadata": {
    "collapsed": true
   },
   "outputs": [],
   "source": [
    "herit.est <- s.tab2[,c(\"trait\", \"trait.name\", \"h.f\", \"h.m\")]\n",
    "herit.est1 <- herit.est[!duplicated(herit.est$trait),]"
   ]
  },
  {
   "cell_type": "code",
   "execution_count": 7,
   "metadata": {},
   "outputs": [
    {
     "name": "stderr",
     "output_type": "stream",
     "text": [
      "Loading required package: reshape2\n",
      "\n",
      "Attaching package: ‘reshape2’\n",
      "\n",
      "The following object is masked from ‘package:tidyr’:\n",
      "\n",
      "    smiths\n",
      "\n"
     ]
    },
    {
     "data": {
      "text/html": [
       "<ol class=list-inline>\n",
       "\t<li>884</li>\n",
       "\t<li>5</li>\n",
       "</ol>\n"
      ],
      "text/latex": [
       "\\begin{enumerate*}\n",
       "\\item 884\n",
       "\\item 5\n",
       "\\end{enumerate*}\n"
      ],
      "text/markdown": [
       "1. 884\n",
       "2. 5\n",
       "\n",
       "\n"
      ],
      "text/plain": [
       "[1] 884   5"
      ]
     },
     "metadata": {},
     "output_type": "display_data"
    },
    {
     "data": {
      "text/html": [
       "<ol class=list-inline>\n",
       "\t<li>402</li>\n",
       "\t<li>5</li>\n",
       "</ol>\n"
      ],
      "text/latex": [
       "\\begin{enumerate*}\n",
       "\\item 402\n",
       "\\item 5\n",
       "\\end{enumerate*}\n"
      ],
      "text/markdown": [
       "1. 402\n",
       "2. 5\n",
       "\n",
       "\n"
      ],
      "text/plain": [
       "[1] 402   5"
      ]
     },
     "metadata": {},
     "output_type": "display_data"
    },
    {
     "data": {
      "text/html": [
       "<table>\n",
       "<thead><tr><th scope=col>trait</th><th scope=col>trait.name</th><th scope=col>int</th><th scope=col>sex</th><th scope=col>value</th></tr></thead>\n",
       "<tbody>\n",
       "\t<tr><td>20015         </td><td>Sitting_height</td><td>up            </td><td>h.f           </td><td>0.2830188     </td></tr>\n",
       "\t<tr><td>20015         </td><td>Sitting_height</td><td>val           </td><td>h.m           </td><td>0.3217220     </td></tr>\n",
       "\t<tr><td>20015         </td><td>Sitting_height</td><td>up            </td><td>h.m           </td><td>0.2908920     </td></tr>\n",
       "\t<tr><td>20015         </td><td>Sitting_height</td><td>low           </td><td>h.f           </td><td>0.2694423     </td></tr>\n",
       "\t<tr><td>20015         </td><td>Sitting_height</td><td>val           </td><td>h.f           </td><td>0.3104602     </td></tr>\n",
       "\t<tr><td>20015         </td><td>Sitting_height</td><td>low           </td><td>h.m           </td><td>0.2794687     </td></tr>\n",
       "</tbody>\n",
       "</table>\n"
      ],
      "text/latex": [
       "\\begin{tabular}{r|lllll}\n",
       " trait & trait.name & int & sex & value\\\\\n",
       "\\hline\n",
       "\t 20015            & Sitting\\_height & up               & h.f              & 0.2830188       \\\\\n",
       "\t 20015            & Sitting\\_height & val              & h.m              & 0.3217220       \\\\\n",
       "\t 20015            & Sitting\\_height & up               & h.m              & 0.2908920       \\\\\n",
       "\t 20015            & Sitting\\_height & low              & h.f              & 0.2694423       \\\\\n",
       "\t 20015            & Sitting\\_height & val              & h.f              & 0.3104602       \\\\\n",
       "\t 20015            & Sitting\\_height & low              & h.m              & 0.2794687       \\\\\n",
       "\\end{tabular}\n"
      ],
      "text/markdown": [
       "\n",
       "trait | trait.name | int | sex | value | \n",
       "|---|---|---|---|---|---|\n",
       "| 20015          | Sitting_height | up             | h.f            | 0.2830188      | \n",
       "| 20015          | Sitting_height | val            | h.m            | 0.3217220      | \n",
       "| 20015          | Sitting_height | up             | h.m            | 0.2908920      | \n",
       "| 20015          | Sitting_height | low            | h.f            | 0.2694423      | \n",
       "| 20015          | Sitting_height | val            | h.f            | 0.3104602      | \n",
       "| 20015          | Sitting_height | low            | h.m            | 0.2794687      | \n",
       "\n",
       "\n"
      ],
      "text/plain": [
       "  trait trait.name     int sex value    \n",
       "1 20015 Sitting_height up  h.f 0.2830188\n",
       "2 20015 Sitting_height val h.m 0.3217220\n",
       "3 20015 Sitting_height up  h.m 0.2908920\n",
       "4 20015 Sitting_height low h.f 0.2694423\n",
       "5 20015 Sitting_height val h.f 0.3104602\n",
       "6 20015 Sitting_height low h.m 0.2794687"
      ]
     },
     "metadata": {},
     "output_type": "display_data"
    }
   ],
   "source": [
    "require('reshape2')\n",
    "herit.est2 <- melt(herit.est1, id.vars=c(\"trait\", \"trait.name\"))\n",
    "colnames(herit.est2)[3] <- \"sex\"\n",
    "herit.est2$int <- \"val\"\n",
    "\n",
    "herit.full.df <- rbind(herit.est2[,c(\"trait\", \"int\", \"sex\", \"value\")], \n",
    "                       herit.df2[,c(\"trait\", \"int\", \"sex\", \"value\")])\n",
    "herit.full.df2 <-merge(herit.est2[,c(\"trait\", \"trait.name\")], herit.full.df)\n",
    "dim(herit.full.df2)\n",
    "herit.full.df3 <- (herit.full.df2[!duplicated(herit.full.df2),])\n",
    "dim(herit.full.df3)\n",
    "head(herit.full.df3)"
   ]
  },
  {
   "cell_type": "code",
   "execution_count": 20,
   "metadata": {},
   "outputs": [
    {
     "data": {
      "text/html": [
       "<table>\n",
       "<thead><tr><th scope=col>trait</th><th scope=col>trait.name</th><th scope=col>sex</th><th scope=col>low</th><th scope=col>up</th><th scope=col>val</th></tr></thead>\n",
       "<tbody>\n",
       "\t<tr><td>20015         </td><td>Sitting_height</td><td>h.f           </td><td>0.26944235    </td><td>0.2830188     </td><td>0.3104602     </td></tr>\n",
       "\t<tr><td>20015         </td><td>Sitting_height</td><td>h.m           </td><td>0.27946874    </td><td>0.2908920     </td><td>0.3217220     </td></tr>\n",
       "\t<tr><td>20022         </td><td>Birth_weight  </td><td>h.f           </td><td>0.11783449    </td><td>0.1518512     </td><td>0.1531801     </td></tr>\n",
       "\t<tr><td>20022         </td><td>Birth_weight  </td><td>h.m           </td><td>0.08733553    </td><td>0.1014882     </td><td>0.1085615     </td></tr>\n",
       "\t<tr><td>20150         </td><td>FEV-1         </td><td>h.f           </td><td>0.19522586    </td><td>0.2081775     </td><td>0.2395176     </td></tr>\n",
       "\t<tr><td>20150         </td><td>FEV-1         </td><td>h.m           </td><td>0.19362649    </td><td>0.1975599     </td><td>0.2342194     </td></tr>\n",
       "</tbody>\n",
       "</table>\n"
      ],
      "text/latex": [
       "\\begin{tabular}{r|llllll}\n",
       " trait & trait.name & sex & low & up & val\\\\\n",
       "\\hline\n",
       "\t 20015            & Sitting\\_height & h.f              & 0.26944235       & 0.2830188        & 0.3104602       \\\\\n",
       "\t 20015            & Sitting\\_height & h.m              & 0.27946874       & 0.2908920        & 0.3217220       \\\\\n",
       "\t 20022            & Birth\\_weight   & h.f              & 0.11783449       & 0.1518512        & 0.1531801       \\\\\n",
       "\t 20022            & Birth\\_weight   & h.m              & 0.08733553       & 0.1014882        & 0.1085615       \\\\\n",
       "\t 20150          & FEV-1          & h.f            & 0.19522586     & 0.2081775      & 0.2395176     \\\\\n",
       "\t 20150          & FEV-1          & h.m            & 0.19362649     & 0.1975599      & 0.2342194     \\\\\n",
       "\\end{tabular}\n"
      ],
      "text/markdown": [
       "\n",
       "trait | trait.name | sex | low | up | val | \n",
       "|---|---|---|---|---|---|\n",
       "| 20015          | Sitting_height | h.f            | 0.26944235     | 0.2830188      | 0.3104602      | \n",
       "| 20015          | Sitting_height | h.m            | 0.27946874     | 0.2908920      | 0.3217220      | \n",
       "| 20022          | Birth_weight   | h.f            | 0.11783449     | 0.1518512      | 0.1531801      | \n",
       "| 20022          | Birth_weight   | h.m            | 0.08733553     | 0.1014882      | 0.1085615      | \n",
       "| 20150          | FEV-1          | h.f            | 0.19522586     | 0.2081775      | 0.2395176      | \n",
       "| 20150          | FEV-1          | h.m            | 0.19362649     | 0.1975599      | 0.2342194      | \n",
       "\n",
       "\n"
      ],
      "text/plain": [
       "  trait trait.name     sex low        up        val      \n",
       "1 20015 Sitting_height h.f 0.26944235 0.2830188 0.3104602\n",
       "2 20015 Sitting_height h.m 0.27946874 0.2908920 0.3217220\n",
       "3 20022 Birth_weight   h.f 0.11783449 0.1518512 0.1531801\n",
       "4 20022 Birth_weight   h.m 0.08733553 0.1014882 0.1085615\n",
       "5 20150 FEV-1          h.f 0.19522586 0.2081775 0.2395176\n",
       "6 20150 FEV-1          h.m 0.19362649 0.1975599 0.2342194"
      ]
     },
     "metadata": {},
     "output_type": "display_data"
    }
   ],
   "source": [
    "herit.full.df3.wide <- dcast(herit.full.df3, trait + trait.name + sex ~ int, value.var=\"value\")\n",
    "head(herit.full.df3.wide)\n",
    "\n",
    "# ruh-roh - the val is high. I think because it was estimated previously? \n",
    "# But even so, going to skip using this for now, and stick to my new estimates."
   ]
  },
  {
   "cell_type": "code",
   "execution_count": 10,
   "metadata": {},
   "outputs": [
    {
     "data": {
      "text/html": [
       "<table>\n",
       "<thead><tr><th scope=col>trait</th><th scope=col>trait.name</th><th scope=col>h.f.x</th><th scope=col>h.m.x</th><th scope=col>h.f.y</th><th scope=col>h.m.y</th></tr></thead>\n",
       "<tbody>\n",
       "\t<tr><td>20015                                    </td><td>Sitting_height                           </td><td>0.2694423                                </td><td>0.27946874                               </td><td>0.2830188                                </td><td>0.2908920                                </td></tr>\n",
       "\t<tr><td>20022                                    </td><td>Birth_weight                             </td><td>0.1178345                                </td><td>0.08733553                               </td><td>0.1518512                                </td><td>0.1014882                                </td></tr>\n",
       "\t<tr><td>20150                                    </td><td>FEV-1                                    </td><td>0.1952259                                </td><td>0.19362649                               </td><td>0.2081775                                </td><td>0.1975599                                </td></tr>\n",
       "\t<tr><td>20151                                    </td><td>Forced_vital_capacity_(FVC),_Best_measure</td><td>0.2029411                                </td><td>0.20254618                               </td><td>0.2179172                                </td><td>0.2157856                                </td></tr>\n",
       "\t<tr><td>21001                                    </td><td>BMI                                      </td><td>0.2287786                                </td><td>0.22536318                               </td><td>0.2384327                                </td><td>0.2318960                                </td></tr>\n",
       "\t<tr><td>30000                                    </td><td>White_blood_cell_(leukocyte)_count       </td><td>0.1981338                                </td><td>0.18843632                               </td><td>0.2144482                                </td><td>0.2005440                                </td></tr>\n",
       "</tbody>\n",
       "</table>\n"
      ],
      "text/latex": [
       "\\begin{tabular}{r|llllll}\n",
       " trait & trait.name & h.f.x & h.m.x & h.f.y & h.m.y\\\\\n",
       "\\hline\n",
       "\t 20015                                       & Sitting\\_height                            & 0.2694423                                   & 0.27946874                                  & 0.2830188                                   & 0.2908920                                  \\\\\n",
       "\t 20022                                       & Birth\\_weight                              & 0.1178345                                   & 0.08733553                                  & 0.1518512                                   & 0.1014882                                  \\\\\n",
       "\t 20150                                     & FEV-1                                     & 0.1952259                                 & 0.19362649                                & 0.2081775                                 & 0.1975599                                \\\\\n",
       "\t 20151                                               & Forced\\_vital\\_capacity\\_(FVC),\\_Best\\_measure & 0.2029411                                           & 0.20254618                                          & 0.2179172                                           & 0.2157856                                          \\\\\n",
       "\t 21001                                     & BMI                                       & 0.2287786                                 & 0.22536318                                & 0.2384327                                 & 0.2318960                                \\\\\n",
       "\t 30000                                             & White\\_blood\\_cell\\_(leukocyte)\\_count        & 0.1981338                                         & 0.18843632                                        & 0.2144482                                         & 0.2005440                                        \\\\\n",
       "\\end{tabular}\n"
      ],
      "text/markdown": [
       "\n",
       "trait | trait.name | h.f.x | h.m.x | h.f.y | h.m.y | \n",
       "|---|---|---|---|---|---|\n",
       "| 20015                                     | Sitting_height                            | 0.2694423                                 | 0.27946874                                | 0.2830188                                 | 0.2908920                                 | \n",
       "| 20022                                     | Birth_weight                              | 0.1178345                                 | 0.08733553                                | 0.1518512                                 | 0.1014882                                 | \n",
       "| 20150                                     | FEV-1                                     | 0.1952259                                 | 0.19362649                                | 0.2081775                                 | 0.1975599                                 | \n",
       "| 20151                                     | Forced_vital_capacity_(FVC),_Best_measure | 0.2029411                                 | 0.20254618                                | 0.2179172                                 | 0.2157856                                 | \n",
       "| 21001                                     | BMI                                       | 0.2287786                                 | 0.22536318                                | 0.2384327                                 | 0.2318960                                 | \n",
       "| 30000                                     | White_blood_cell_(leukocyte)_count        | 0.1981338                                 | 0.18843632                                | 0.2144482                                 | 0.2005440                                 | \n",
       "\n",
       "\n"
      ],
      "text/plain": [
       "  trait trait.name                                h.f.x     h.m.x     \n",
       "1 20015 Sitting_height                            0.2694423 0.27946874\n",
       "2 20022 Birth_weight                              0.1178345 0.08733553\n",
       "3 20150 FEV-1                                     0.1952259 0.19362649\n",
       "4 20151 Forced_vital_capacity_(FVC),_Best_measure 0.2029411 0.20254618\n",
       "5 21001 BMI                                       0.2287786 0.22536318\n",
       "6 30000 White_blood_cell_(leukocyte)_count        0.1981338 0.18843632\n",
       "  h.f.y     h.m.y    \n",
       "1 0.2830188 0.2908920\n",
       "2 0.1518512 0.1014882\n",
       "3 0.2081775 0.1975599\n",
       "4 0.2179172 0.2157856\n",
       "5 0.2384327 0.2318960\n",
       "6 0.2144482 0.2005440"
      ]
     },
     "metadata": {},
     "output_type": "display_data"
    }
   ],
   "source": [
    "low.df <- dcast(herit.full.df3.wide, trait + trait.name ~ sex, value.var=\"low\")\n",
    "high.df <- dcast(herit.full.df3.wide, trait + trait.name ~ sex, value.var=\"up\")\n",
    "\n",
    "combined.df <- merge(low.df, high.df, by=c(\"trait\", \"trait.name\"))\n",
    "head(combined.df)\n",
    "#apply(combined.df, 1, function(x) if (x[3] < x[4] & )"
   ]
  },
  {
   "cell_type": "code",
   "execution_count": 11,
   "metadata": {},
   "outputs": [
    {
     "data": {
      "text/html": [
       "<table>\n",
       "<thead><tr><th scope=col>trait.name</th><th scope=col>h.f</th><th scope=col>h.m</th><th scope=col>trait</th><th scope=col>h.f.x</th><th scope=col>h.m.x</th><th scope=col>h.f.y</th><th scope=col>h.m.y</th></tr></thead>\n",
       "<tbody>\n",
       "\t<tr><td>basal_metabolic_rate</td><td>0.30                </td><td>0.36                </td><td>INI23105            </td><td>0.2366266           </td><td>0.2653440           </td><td>0.2495692           </td><td>0.2722908           </td></tr>\n",
       "\t<tr><td>BMI                 </td><td>0.26                </td><td>0.27                </td><td>21001               </td><td>0.2287786           </td><td>0.2253632           </td><td>0.2384327           </td><td>0.2318960           </td></tr>\n",
       "\t<tr><td>body_fat_percentage </td><td>0.26                </td><td>0.27                </td><td>INI23099            </td><td>0.2051935           </td><td>0.2236070           </td><td>0.2154693           </td><td>0.2320675           </td></tr>\n",
       "\t<tr><td>BP-diastolic        </td><td>0.20                </td><td>0.18                </td><td>4079                </td><td>0.1895562           </td><td>0.1422455           </td><td>0.2077569           </td><td>0.1552478           </td></tr>\n",
       "\t<tr><td>BP-systolic         </td><td>0.20                </td><td>0.17                </td><td>4080                </td><td>0.1875399           </td><td>0.1407815           </td><td>0.2040562           </td><td>0.1489388           </td></tr>\n",
       "\t<tr><td>FEV-1               </td><td>0.27                </td><td>0.28                </td><td>20150               </td><td>0.1952259           </td><td>0.1936265           </td><td>0.2081775           </td><td>0.1975599           </td></tr>\n",
       "\t<tr><td>FVC                 </td><td>0.26                </td><td>0.26                </td><td>3063                </td><td>0.2153124           </td><td>0.2027530           </td><td>0.2291620           </td><td>0.2069454           </td></tr>\n",
       "\t<tr><td>height              </td><td>0.54                </td><td>0.53                </td><td>50                  </td><td>0.3637281           </td><td>0.3354551           </td><td>0.3752590           </td><td>0.3449360           </td></tr>\n",
       "\t<tr><td>hip_circum          </td><td>0.24                </td><td>0.27                </td><td>49                  </td><td>0.2026588           </td><td>0.2309332           </td><td>0.2172998           </td><td>0.2324851           </td></tr>\n",
       "\t<tr><td>PEF                 </td><td>0.23                </td><td>0.23                </td><td>3064                </td><td>0.1583237           </td><td>0.1609273           </td><td>0.1745391           </td><td>0.1711910           </td></tr>\n",
       "\t<tr><td>waist_circum        </td><td>0.23                </td><td>0.24                </td><td>48                  </td><td>0.1996171           </td><td>0.2047182           </td><td>0.2106164           </td><td>0.2185757           </td></tr>\n",
       "\t<tr><td>waist-hip-ratio     </td><td>0.25                </td><td>0.19                </td><td>whr                 </td><td>0.2418546           </td><td>0.1791825           </td><td>0.2608714           </td><td>0.1833282           </td></tr>\n",
       "</tbody>\n",
       "</table>\n"
      ],
      "text/latex": [
       "\\begin{tabular}{r|llllllll}\n",
       " trait.name & h.f & h.m & trait & h.f.x & h.m.x & h.f.y & h.m.y\\\\\n",
       "\\hline\n",
       "\t basal\\_metabolic\\_rate & 0.30                     & 0.36                     & INI23105                 & 0.2366266                & 0.2653440                & 0.2495692                & 0.2722908               \\\\\n",
       "\t BMI                  & 0.26                 & 0.27                 & 21001                & 0.2287786            & 0.2253632            & 0.2384327            & 0.2318960           \\\\\n",
       "\t body\\_fat\\_percentage  & 0.26                     & 0.27                     & INI23099                 & 0.2051935                & 0.2236070                & 0.2154693                & 0.2320675               \\\\\n",
       "\t BP-diastolic         & 0.20                 & 0.18                 & 4079                 & 0.1895562            & 0.1422455            & 0.2077569            & 0.1552478           \\\\\n",
       "\t BP-systolic          & 0.20                 & 0.17                 & 4080                 & 0.1875399            & 0.1407815            & 0.2040562            & 0.1489388           \\\\\n",
       "\t FEV-1                & 0.27                 & 0.28                 & 20150                & 0.1952259            & 0.1936265            & 0.2081775            & 0.1975599           \\\\\n",
       "\t FVC                  & 0.26                 & 0.26                 & 3063                 & 0.2153124            & 0.2027530            & 0.2291620            & 0.2069454           \\\\\n",
       "\t height               & 0.54                 & 0.53                 & 50                   & 0.3637281            & 0.3354551            & 0.3752590            & 0.3449360           \\\\\n",
       "\t hip\\_circum           & 0.24                   & 0.27                   & 49                     & 0.2026588              & 0.2309332              & 0.2172998              & 0.2324851             \\\\\n",
       "\t PEF                  & 0.23                 & 0.23                 & 3064                 & 0.1583237            & 0.1609273            & 0.1745391            & 0.1711910           \\\\\n",
       "\t waist\\_circum         & 0.23                   & 0.24                   & 48                     & 0.1996171              & 0.2047182              & 0.2106164              & 0.2185757             \\\\\n",
       "\t waist-hip-ratio      & 0.25                 & 0.19                 & whr                  & 0.2418546            & 0.1791825            & 0.2608714            & 0.1833282           \\\\\n",
       "\\end{tabular}\n"
      ],
      "text/markdown": [
       "\n",
       "trait.name | h.f | h.m | trait | h.f.x | h.m.x | h.f.y | h.m.y | \n",
       "|---|---|---|---|---|---|---|---|---|---|---|---|\n",
       "| basal_metabolic_rate | 0.30                 | 0.36                 | INI23105             | 0.2366266            | 0.2653440            | 0.2495692            | 0.2722908            | \n",
       "| BMI                  | 0.26                 | 0.27                 | 21001                | 0.2287786            | 0.2253632            | 0.2384327            | 0.2318960            | \n",
       "| body_fat_percentage  | 0.26                 | 0.27                 | INI23099             | 0.2051935            | 0.2236070            | 0.2154693            | 0.2320675            | \n",
       "| BP-diastolic         | 0.20                 | 0.18                 | 4079                 | 0.1895562            | 0.1422455            | 0.2077569            | 0.1552478            | \n",
       "| BP-systolic          | 0.20                 | 0.17                 | 4080                 | 0.1875399            | 0.1407815            | 0.2040562            | 0.1489388            | \n",
       "| FEV-1                | 0.27                 | 0.28                 | 20150                | 0.1952259            | 0.1936265            | 0.2081775            | 0.1975599            | \n",
       "| FVC                  | 0.26                 | 0.26                 | 3063                 | 0.2153124            | 0.2027530            | 0.2291620            | 0.2069454            | \n",
       "| height               | 0.54                 | 0.53                 | 50                   | 0.3637281            | 0.3354551            | 0.3752590            | 0.3449360            | \n",
       "| hip_circum           | 0.24                 | 0.27                 | 49                   | 0.2026588            | 0.2309332            | 0.2172998            | 0.2324851            | \n",
       "| PEF                  | 0.23                 | 0.23                 | 3064                 | 0.1583237            | 0.1609273            | 0.1745391            | 0.1711910            | \n",
       "| waist_circum         | 0.23                 | 0.24                 | 48                   | 0.1996171            | 0.2047182            | 0.2106164            | 0.2185757            | \n",
       "| waist-hip-ratio      | 0.25                 | 0.19                 | whr                  | 0.2418546            | 0.1791825            | 0.2608714            | 0.1833282            | \n",
       "\n",
       "\n"
      ],
      "text/plain": [
       "   trait.name           h.f  h.m  trait    h.f.x     h.m.x     h.f.y    \n",
       "1  basal_metabolic_rate 0.30 0.36 INI23105 0.2366266 0.2653440 0.2495692\n",
       "2  BMI                  0.26 0.27 21001    0.2287786 0.2253632 0.2384327\n",
       "3  body_fat_percentage  0.26 0.27 INI23099 0.2051935 0.2236070 0.2154693\n",
       "4  BP-diastolic         0.20 0.18 4079     0.1895562 0.1422455 0.2077569\n",
       "5  BP-systolic          0.20 0.17 4080     0.1875399 0.1407815 0.2040562\n",
       "6  FEV-1                0.27 0.28 20150    0.1952259 0.1936265 0.2081775\n",
       "7  FVC                  0.26 0.26 3063     0.2153124 0.2027530 0.2291620\n",
       "8  height               0.54 0.53 50       0.3637281 0.3354551 0.3752590\n",
       "9  hip_circum           0.24 0.27 49       0.2026588 0.2309332 0.2172998\n",
       "10 PEF                  0.23 0.23 3064     0.1583237 0.1609273 0.1745391\n",
       "11 waist_circum         0.23 0.24 48       0.1996171 0.2047182 0.2106164\n",
       "12 waist-hip-ratio      0.25 0.19 whr      0.2418546 0.1791825 0.2608714\n",
       "   h.m.y    \n",
       "1  0.2722908\n",
       "2  0.2318960\n",
       "3  0.2320675\n",
       "4  0.1552478\n",
       "5  0.1489388\n",
       "6  0.1975599\n",
       "7  0.2069454\n",
       "8  0.3449360\n",
       "9  0.2324851\n",
       "10 0.1711910\n",
       "11 0.2185757\n",
       "12 0.1833282"
      ]
     },
     "metadata": {},
     "output_type": "display_data"
    }
   ],
   "source": [
    "#Compare to literature\n",
    "ref.lit.mat <- merge(lit[,c(\"trait.name\", \"h.f\", \"h.m\")], combined.df, by=\"trait.name\")\n",
    "ref.lit.mat\n",
    "\n",
    "## - as compared to the literature, these are a little low... vs. what was before.\n",
    "## however, I think I'm just going to go with the estimates I have - this is all I can do"
   ]
  },
  {
   "cell_type": "code",
   "execution_count": 32,
   "metadata": {},
   "outputs": [
    {
     "data": {},
     "metadata": {},
     "output_type": "display_data"
    },
    {
     "data": {
      "image/png": "[encoded data removed]",
      "text/plain": [
       "plot without title"
      ]
     },
     "metadata": {},
     "output_type": "display_data"
    }
   ],
   "source": [
    "herit.full.df3.wide$trait.name <- factor(herit.full.df3.wide$trait.name, levels=herit.est1$trait.name[order(-herit.est1$h.f)])\n",
    "herit.full.df3.wide$mid <- rowMeans(herit.full.df3.wide[,c(4,5)])\n",
    "#herit.full.df3.wide$mid <- data.frame(apply(herit.full.df3.wide, 1, function(x) mean(x[5],x[4])))\n",
    "ggplot(herit.full.df3.wide, aes(x=trait.name, y=mid, fill=sex, color=sex))+geom_bar(stat=\"identity\", \n",
    "           position=position_dodge())+geom_errorbar(aes(ymin=low, ymax=up), position=position_dodge(), color=\"black\") + theme(axis.text.x=element_text(angle=90,hjust=1)) +ylab(\"Heritability\")+xlab(\"Trait\")\n",
    "\n",
    "# this looks pretty but I want it to be a bar-chart"
   ]
  },
  {
   "cell_type": "code",
   "execution_count": 33,
   "metadata": {
    "collapsed": true
   },
   "outputs": [],
   "source": [
    "list.traits <- read.delim(sprintf(\"%s/list_traits_run_lab.txt\", DATA.FOLDER), stringsAsFactors=FALSE)\n",
    "keep.traits <- data.frame(apply(list.traits, c(1,2), function(x) str_trim(x)))\n",
    "keep.traits2 <- keep.traits[!is.na(keep.traits$readable.name) & keep.traits$readable.name!=\"NA\",]"
   ]
  },
  {
   "cell_type": "code",
   "execution_count": 79,
   "metadata": {},
   "outputs": [
    {
     "data": {
      "text/html": [
       "<table>\n",
       "<thead><tr><th scope=col>trait</th><th scope=col>trait.1</th><th scope=col>readable.name</th><th scope=col>category</th></tr></thead>\n",
       "<tbody>\n",
       "\t<tr><td>whr                  </td><td>waist-hip-ratio      </td><td>waist-hip ratio      </td><td>anthropometric traits</td></tr>\n",
       "\t<tr><td>21001                </td><td>BMI                  </td><td>BMI                  </td><td>anthropometric traits</td></tr>\n",
       "\t<tr><td>50                   </td><td>height               </td><td>height               </td><td>anthropometric traits</td></tr>\n",
       "\t<tr><td>48                   </td><td>waist_circum         </td><td>waist circum         </td><td>anthropometric traits</td></tr>\n",
       "\t<tr><td>49                   </td><td>hip_circum           </td><td>hip circum           </td><td>anthropometric traits</td></tr>\n",
       "\t<tr><td>4079                 </td><td>BP-diastolic         </td><td>BP-diastolic         </td><td>lab test             </td></tr>\n",
       "</tbody>\n",
       "</table>\n"
      ],
      "text/latex": [
       "\\begin{tabular}{r|llll}\n",
       " trait & trait.1 & readable.name & category\\\\\n",
       "\\hline\n",
       "\t whr                   & waist-hip-ratio       & waist-hip ratio       & anthropometric traits\\\\\n",
       "\t 21001                 & BMI                   & BMI                   & anthropometric traits\\\\\n",
       "\t 50                    & height                & height                & anthropometric traits\\\\\n",
       "\t 48                    & waist\\_circum        & waist circum          & anthropometric traits\\\\\n",
       "\t 49                    & hip\\_circum          & hip circum            & anthropometric traits\\\\\n",
       "\t 4079                  & BP-diastolic          & BP-diastolic          & lab test             \\\\\n",
       "\\end{tabular}\n"
      ],
      "text/markdown": [
       "\n",
       "trait | trait.1 | readable.name | category | \n",
       "|---|---|---|---|---|---|\n",
       "| whr                   | waist-hip-ratio       | waist-hip ratio       | anthropometric traits | \n",
       "| 21001                 | BMI                   | BMI                   | anthropometric traits | \n",
       "| 50                    | height                | height                | anthropometric traits | \n",
       "| 48                    | waist_circum          | waist circum          | anthropometric traits | \n",
       "| 49                    | hip_circum            | hip circum            | anthropometric traits | \n",
       "| 4079                  | BP-diastolic          | BP-diastolic          | lab test              | \n",
       "\n",
       "\n"
      ],
      "text/plain": [
       "  trait trait.1         readable.name   category             \n",
       "1 whr   waist-hip-ratio waist-hip ratio anthropometric traits\n",
       "2 21001 BMI             BMI             anthropometric traits\n",
       "3 50    height          height          anthropometric traits\n",
       "4 48    waist_circum    waist circum    anthropometric traits\n",
       "5 49    hip_circum      hip circum      anthropometric traits\n",
       "6 4079  BP-diastolic    BP-diastolic    lab test             "
      ]
     },
     "metadata": {},
     "output_type": "display_data"
    },
    {
     "data": {
      "text/html": [
       "<table>\n",
       "<thead><tr><th scope=col>trait</th><th scope=col>trait.name</th><th scope=col>sex</th><th scope=col>low</th><th scope=col>up</th><th scope=col>val</th><th scope=col>mid</th><th scope=col>readable.name</th><th scope=col>category</th></tr></thead>\n",
       "<tbody>\n",
       "\t<tr><td>20015                   </td><td>Sitting_height          </td><td>h.m                     </td><td>0.27946874              </td><td>0.2908920               </td><td>0.3217220               </td><td>0.28518035              </td><td>sitting height          </td><td>anthropometric traits   </td></tr>\n",
       "\t<tr><td>20015                   </td><td>Sitting_height          </td><td>h.f                     </td><td>0.26944235              </td><td>0.2830188               </td><td>0.3104602               </td><td>0.27623059              </td><td>sitting height          </td><td>anthropometric traits   </td></tr>\n",
       "\t<tr><td>20022                   </td><td>Birth_weight            </td><td>h.m                     </td><td>0.08733553              </td><td>0.1014882               </td><td>0.1085615               </td><td>0.09441187              </td><td>birth weight            </td><td>anthropometric traits   </td></tr>\n",
       "\t<tr><td>20022                   </td><td>Birth_weight            </td><td>h.f                     </td><td>0.11783449              </td><td>0.1518512               </td><td>0.1531801               </td><td>0.13484284              </td><td>birth weight            </td><td>anthropometric traits   </td></tr>\n",
       "\t<tr><td>20150                   </td><td>FEV-1                   </td><td>h.f                     </td><td>0.19522586              </td><td>0.2081775               </td><td>0.2395176               </td><td>0.20170166              </td><td>forced expiratory volume</td><td>breathing               </td></tr>\n",
       "\t<tr><td>20150                   </td><td>FEV-1                   </td><td>h.m                     </td><td>0.19362649              </td><td>0.1975599               </td><td>0.2342194               </td><td>0.19559318              </td><td>forced expiratory volume</td><td>breathing               </td></tr>\n",
       "</tbody>\n",
       "</table>\n"
      ],
      "text/latex": [
       "\\begin{tabular}{r|lllllllll}\n",
       " trait & trait.name & sex & low & up & val & mid & readable.name & category\\\\\n",
       "\\hline\n",
       "\t 20015                    & Sitting\\_height         & h.m                      & 0.27946874               & 0.2908920                & 0.3217220                & 0.28518035               & sitting height           & anthropometric traits   \\\\\n",
       "\t 20015                    & Sitting\\_height         & h.f                      & 0.26944235               & 0.2830188                & 0.3104602                & 0.27623059               & sitting height           & anthropometric traits   \\\\\n",
       "\t 20022                    & Birth\\_weight           & h.m                      & 0.08733553               & 0.1014882                & 0.1085615                & 0.09441187               & birth weight             & anthropometric traits   \\\\\n",
       "\t 20022                    & Birth\\_weight           & h.f                      & 0.11783449               & 0.1518512                & 0.1531801                & 0.13484284               & birth weight             & anthropometric traits   \\\\\n",
       "\t 20150                    & FEV-1                    & h.f                      & 0.19522586               & 0.2081775                & 0.2395176                & 0.20170166               & forced expiratory volume & breathing               \\\\\n",
       "\t 20150                    & FEV-1                    & h.m                      & 0.19362649               & 0.1975599                & 0.2342194                & 0.19559318               & forced expiratory volume & breathing               \\\\\n",
       "\\end{tabular}\n"
      ],
      "text/markdown": [
       "\n",
       "trait | trait.name | sex | low | up | val | mid | readable.name | category | \n",
       "|---|---|---|---|---|---|\n",
       "| 20015                    | Sitting_height           | h.m                      | 0.27946874               | 0.2908920                | 0.3217220                | 0.28518035               | sitting height           | anthropometric traits    | \n",
       "| 20015                    | Sitting_height           | h.f                      | 0.26944235               | 0.2830188                | 0.3104602                | 0.27623059               | sitting height           | anthropometric traits    | \n",
       "| 20022                    | Birth_weight             | h.m                      | 0.08733553               | 0.1014882                | 0.1085615                | 0.09441187               | birth weight             | anthropometric traits    | \n",
       "| 20022                    | Birth_weight             | h.f                      | 0.11783449               | 0.1518512                | 0.1531801                | 0.13484284               | birth weight             | anthropometric traits    | \n",
       "| 20150                    | FEV-1                    | h.f                      | 0.19522586               | 0.2081775                | 0.2395176                | 0.20170166               | forced expiratory volume | breathing                | \n",
       "| 20150                    | FEV-1                    | h.m                      | 0.19362649               | 0.1975599                | 0.2342194                | 0.19559318               | forced expiratory volume | breathing                | \n",
       "\n",
       "\n"
      ],
      "text/plain": [
       "  trait trait.name     sex low        up        val       mid       \n",
       "1 20015 Sitting_height h.m 0.27946874 0.2908920 0.3217220 0.28518035\n",
       "2 20015 Sitting_height h.f 0.26944235 0.2830188 0.3104602 0.27623059\n",
       "3 20022 Birth_weight   h.m 0.08733553 0.1014882 0.1085615 0.09441187\n",
       "4 20022 Birth_weight   h.f 0.11783449 0.1518512 0.1531801 0.13484284\n",
       "5 20150 FEV-1          h.f 0.19522586 0.2081775 0.2395176 0.20170166\n",
       "6 20150 FEV-1          h.m 0.19362649 0.1975599 0.2342194 0.19559318\n",
       "  readable.name            category             \n",
       "1 sitting height           anthropometric traits\n",
       "2 sitting height           anthropometric traits\n",
       "3 birth weight             anthropometric traits\n",
       "4 birth weight             anthropometric traits\n",
       "5 forced expiratory volume breathing            \n",
       "6 forced expiratory volume breathing            "
      ]
     },
     "metadata": {},
     "output_type": "display_data"
    },
    {
     "data": {
      "text/plain": [
       "\n",
       "FALSE  TRUE \n",
       "   82    52 "
      ]
     },
     "metadata": {},
     "output_type": "display_data"
    },
    {
     "data": {},
     "metadata": {},
     "output_type": "display_data"
    },
    {
     "data": {
      "image/png": "[encoded data removed]",
      "text/plain": [
       "plot without title"
      ]
     },
     "metadata": {},
     "output_type": "display_data"
    }
   ],
   "source": [
    "# rename - and group by category\n",
    "head(keep.traits2)\n",
    "\n",
    "herit.full.df4 <- merge(herit.full.df3.wide, keep.traits2[,c(\"trait\",\"readable.name\", \"category\")], by=\"trait\", all.x=TRUE)\n",
    "head(herit.full.df4)\n",
    "\n",
    "# rename - and group by category\n",
    "table(is.na(herit.full.df4$readable.name))\n",
    "\n",
    "ggplot(herit.full.df4[!is.na(herit.full.df4$readable.name),], aes(x=readable.name, y=mid, fill=sex))+geom_bar(stat=\"identity\",\n",
    "           position=position_dodge())+geom_errorbar(aes(ymin=low, ymax=up), position=position_dodge(0.9), color=\"black\", width=0.5) + theme(axis.text.x=element_text(angle=90,hjust=1)) +ylab(\"Heritability\")+xlab(\"Trait\")\n"
   ]
  },
  {
   "cell_type": "code",
   "execution_count": 72,
   "metadata": {},
   "outputs": [
    {
     "data": {
      "text/html": [
       "<ol class=list-inline>\n",
       "\t<li>'anthropometric traits'</li>\n",
       "\t<li>'blood composition'</li>\n",
       "\t<li>'breathing'</li>\n",
       "\t<li>'fat distribution'</li>\n",
       "\t<li>'hearing test'</li>\n",
       "\t<li>'lab test'</li>\n",
       "\t<li>'physical test'</li>\n",
       "\t<li>'urinalysis'</li>\n",
       "</ol>\n"
      ],
      "text/latex": [
       "\\begin{enumerate*}\n",
       "\\item 'anthropometric traits'\n",
       "\\item 'blood composition'\n",
       "\\item 'breathing'\n",
       "\\item 'fat distribution'\n",
       "\\item 'hearing test'\n",
       "\\item 'lab test'\n",
       "\\item 'physical test'\n",
       "\\item 'urinalysis'\n",
       "\\end{enumerate*}\n"
      ],
      "text/markdown": [
       "1. 'anthropometric traits'\n",
       "2. 'blood composition'\n",
       "3. 'breathing'\n",
       "4. 'fat distribution'\n",
       "5. 'hearing test'\n",
       "6. 'lab test'\n",
       "7. 'physical test'\n",
       "8. 'urinalysis'\n",
       "\n",
       "\n"
      ],
      "text/plain": [
       "[1] \"anthropometric traits\" \"blood composition\"     \"breathing\"            \n",
       "[4] \"fat distribution\"      \"hearing test\"          \"lab test\"             \n",
       "[7] \"physical test\"         \"urinalysis\"           "
      ]
     },
     "metadata": {},
     "output_type": "display_data"
    }
   ],
   "source": [
    "levels(herit.full.df4$category)"
   ]
  },
  {
   "cell_type": "code",
   "execution_count": 80,
   "metadata": {},
   "outputs": [
    {
     "data": {},
     "metadata": {},
     "output_type": "display_data"
    },
    {
     "data": {
      "image/png": "[encoded data removed]",
      "text/plain": [
       "plot without title"
      ]
     },
     "metadata": {},
     "output_type": "display_data"
    }
   ],
   "source": [
    "herit.full.df4$category <- sapply(herit.full.df4$category, as.character)\n",
    "herit.full.df4$category[herit.full.df4$category==\"fat distribution\"] <-\"anthropometric traits\"\n",
    "herit.full.df4$category[herit.full.df4$category==\"breathing\"] <-\"lab test\"\n",
    "herit.full.df4$category[herit.full.df4$category==\"urinalysis\"] <-\"lab test\"\n",
    "herit.full.df4$category[herit.full.df4$category==\"physical test\"] <-\"lab test\"\n",
    "herit.full.df4$category[herit.full.df4$category==\"lab test\"] <- \"other tests\"\n",
    "\n",
    "herit.full.df4$category <- as.factor(herit.full.df4$category)\n",
    "herit.full.df4$readable.name <- factor(herit.full.df4$readable.name, levels=herit.full.df4[herit.full.df4$sex==\"h.f\",]$readable.name[order(-herit.full.df4[herit.full.df4$sex==\"h.f\",]$mid)])\n",
    "herit.full.df4[!is.na(herit.full.df4$readable.name), ] %>% \n",
    "ggplot( aes(x=readable.name, y=mid, fill=sex))+geom_bar(stat=\"identity\",\n",
    "           position=position_dodge())+geom_errorbar(aes(ymin=low, ymax=up), position=position_dodge(0.9), color=\"black\", width=0.5) + theme(axis.text.x=element_text(angle=90,hjust=1)) +ylab(\"Heritability\")+xlab(\"Trait\")+ facet_grid(. ~ category,  scales=\"free\", space=\"free\")"
   ]
  },
  {
   "cell_type": "code",
   "execution_count": 84,
   "metadata": {},
   "outputs": [
    {
     "data": {},
     "metadata": {},
     "output_type": "display_data"
    },
    {
     "data": {
      "text/html": [
       "<strong>png:</strong> 2"
      ],
      "text/latex": [
       "\\textbf{png:} 2"
      ],
      "text/markdown": [
       "**png:** 2"
      ],
      "text/plain": [
       "png \n",
       "  2 "
      ]
     },
     "metadata": {},
     "output_type": "display_data"
    },
    {
     "data": {
      "image/png": "[encoded data removed]",
      "text/plain": [
       "plot without title"
      ]
     },
     "metadata": {},
     "output_type": "display_data"
    }
   ],
   "source": [
    "plot.new() \n",
    "pdf( \"herit_bars.pdf\", width=14, height=8)\n",
    "herit.full.df4[!is.na(herit.full.df4$readable.name), ] %>% \n",
    "ggplot( aes(x=readable.name, y=mid, fill=sex))+geom_bar(stat=\"identity\",\n",
    "           position=position_dodge())+geom_errorbar(aes(ymin=low, ymax=up), position=position_dodge(0.9), color=\"black\", width=0.5) + theme(axis.text.x=element_text(angle=90,hjust=1)) +ylab(\"Heritability\")+xlab(\"Trait\")+ facet_grid(. ~ category,  scales=\"free\", space=\"free\")\n",
    "dev.off()\n"
   ]
  },
  {
   "cell_type": "code",
   "execution_count": 13,
   "metadata": {},
   "outputs": [
    {
     "name": "stdout",
     "output_type": "stream",
     "text": [
      "[1] whr\n",
      "77 Levels: 20015 20019 20021 20022 20150 20151 21001 21021 30000 ... whr\n",
      "$`1`\n",
      "[1] 0.2497339\n",
      "\n",
      "$`2`\n",
      "[1] 0.1803766\n",
      "\n",
      "[1] 21001\n",
      "77 Levels: 20015 20019 20021 20022 20150 20151 21001 21021 30000 ... whr\n",
      "$`1`\n",
      "[1] 0.2334193\n",
      "\n",
      "$`2`\n",
      "[1] 0.2264415\n",
      "\n",
      "[1] 50\n",
      "77 Levels: 20015 20019 20021 20022 20150 20151 21001 21021 30000 ... whr\n",
      "$`1`\n",
      "[1] 0.3676052\n",
      "\n",
      "$`2`\n",
      "[1] 0.3398053\n",
      "\n",
      "[1] 48\n",
      "77 Levels: 20015 20019 20021 20022 20150 20151 21001 21021 30000 ... whr\n",
      "$`1`\n",
      "[1] 0.2024033\n",
      "\n",
      "$`2`\n",
      "[1] 0.2140873\n",
      "\n",
      "[1] 49\n",
      "77 Levels: 20015 20019 20021 20022 20150 20151 21001 21021 30000 ... whr\n",
      "$`1`\n",
      "[1] 0.2093903\n",
      "\n",
      "$`2`\n",
      "[1] 0.2276336\n",
      "\n",
      "[1] 4079\n",
      "77 Levels: 20015 20019 20021 20022 20150 20151 21001 21021 30000 ... whr\n",
      "$`1`\n",
      "[1] 0.1958336\n",
      "\n",
      "$`2`\n",
      "[1] 0.1460049\n",
      "\n",
      "[1] 4080\n",
      "77 Levels: 20015 20019 20021 20022 20150 20151 21001 21021 30000 ... whr\n",
      "$`1`\n",
      "[1] 0.1914024\n",
      "\n",
      "$`2`\n",
      "[1] 0.1457408\n",
      "\n",
      "[1] 20150\n",
      "77 Levels: 20015 20019 20021 20022 20150 20151 21001 21021 30000 ... whr\n",
      "$`1`\n",
      "[1] 0.2003369\n",
      "\n",
      "$`2`\n",
      "[1] 0.1946581\n",
      "\n",
      "[1] 3063\n",
      "77 Levels: 20015 20019 20021 20022 20150 20151 21001 21021 30000 ... whr\n",
      "$`1`\n",
      "[1] 0.2199633\n",
      "\n",
      "$`2`\n",
      "[1] 0.2054575\n",
      "\n",
      "[1] 3064\n",
      "77 Levels: 20015 20019 20021 20022 20150 20151 21001 21021 30000 ... whr\n",
      "$`1`\n",
      "[1] 0.1641774\n",
      "\n",
      "$`2`\n",
      "[1] 0.1621996\n",
      "\n",
      "[1] FEV_FVC\n",
      "77 Levels: 20015 20019 20021 20022 20150 20151 21001 21021 30000 ... whr\n",
      "$`1`\n",
      "[1] NaN\n",
      "\n",
      "$`2`\n",
      "[1] NaN\n",
      "\n",
      "[1] INI23100\n",
      "77 Levels: 20015 20019 20021 20022 20150 20151 21001 21021 30000 ... whr\n",
      "$`1`\n",
      "[1] 0.2154397\n",
      "\n",
      "$`2`\n",
      "[1] 0.2202703\n",
      "\n",
      "[1] INI23116\n",
      "77 Levels: 20015 20019 20021 20022 20150 20151 21001 21021 30000 ... whr\n",
      "$`1`\n",
      "[1] 0.2129466\n",
      "\n",
      "$`2`\n",
      "[1] 0.2251238\n",
      "\n",
      "[1] INI23112\n",
      "77 Levels: 20015 20019 20021 20022 20150 20151 21001 21021 30000 ... whr\n",
      "[1] INI23124\n",
      "77 Levels: 20015 20019 20021 20022 20150 20151 21001 21021 30000 ... whr\n",
      "$`1`\n",
      "[1] 0.2086031\n",
      "\n",
      "$`2`\n",
      "[1] 0.2215488\n",
      "\n",
      "[1] INI23120\n",
      "77 Levels: 20015 20019 20021 20022 20150 20151 21001 21021 30000 ... whr\n",
      "$`1`\n",
      "[1] 0.2091742\n",
      "\n",
      "$`2`\n",
      "[1] 0.2226832\n",
      "\n",
      "[1] INI23128\n",
      "77 Levels: 20015 20019 20021 20022 20150 20151 21001 21021 30000 ... whr\n",
      "[1] INI23099\n",
      "77 Levels: 20015 20019 20021 20022 20150 20151 21001 21021 30000 ... whr\n",
      "$`1`\n",
      "[1] 0.210079\n",
      "\n",
      "$`2`\n",
      "[1] 0.2258779\n",
      "\n",
      "[1] INI23105\n",
      "77 Levels: 20015 20019 20021 20022 20150 20151 21001 21021 30000 ... whr\n",
      "$`1`\n",
      "[1] 0.2417864\n",
      "\n",
      "$`2`\n",
      "[1] 0.2660814\n",
      "\n",
      "[1] INI23115\n",
      "77 Levels: 20015 20019 20021 20022 20150 20151 21001 21021 30000 ... whr\n",
      "$`1`\n",
      "[1] 0.2117293\n",
      "\n",
      "$`2`\n",
      "[1] 0.2219884\n",
      "\n",
      "[1] INI23111\n",
      "77 Levels: 20015 20019 20021 20022 20150 20151 21001 21021 30000 ... whr\n",
      "$`1`\n",
      "[1] 0.2117621\n",
      "\n",
      "$`2`\n",
      "[1] 0.2199299\n",
      "\n",
      "[1] INI23123\n",
      "77 Levels: 20015 20019 20021 20022 20150 20151 21001 21021 30000 ... whr\n",
      "$`1`\n",
      "[1] 0.2167554\n",
      "\n",
      "$`2`\n",
      "[1] 0.2182732\n",
      "\n",
      "[1] INI23119\n",
      "77 Levels: 20015 20019 20021 20022 20150 20151 21001 21021 30000 ... whr\n",
      "$`1`\n",
      "[1] 0.2160316\n",
      "\n",
      "$`2`\n",
      "[1] 0.2203188\n",
      "\n",
      "[1] INI23127\n",
      "77 Levels: 20015 20019 20021 20022 20150 20151 21001 21021 30000 ... whr\n",
      "$`1`\n",
      "[1] 0.2117581\n",
      "\n",
      "$`2`\n",
      "[1] 0.2228779\n",
      "\n",
      "[1] INI23100\n",
      "77 Levels: 20015 20019 20021 20022 20150 20151 21001 21021 30000 ... whr\n",
      "$`1`\n",
      "[1] 0.2154397\n",
      "\n",
      "$`2`\n",
      "[1] 0.2202703\n",
      "\n",
      "[1] INI23101\n",
      "77 Levels: 20015 20019 20021 20022 20150 20151 21001 21021 30000 ... whr\n",
      "$`1`\n",
      "[1] 0.2516556\n",
      "\n",
      "$`2`\n",
      "[1] 0.2704642\n",
      "\n",
      "[1] INI23102\n",
      "77 Levels: 20015 20019 20021 20022 20150 20151 21001 21021 30000 ... whr\n",
      "$`1`\n",
      "[1] 0.2515579\n",
      "\n",
      "$`2`\n",
      "[1] 0.2701724\n",
      "\n",
      "[1] INI23106\n",
      "77 Levels: 20015 20019 20021 20022 20150 20151 21001 21021 30000 ... whr\n",
      "$`1`\n",
      "[1] 0.2247849\n",
      "\n",
      "$`2`\n",
      "[1] 0.2381513\n",
      "\n",
      "[1] INI23107\n",
      "77 Levels: 20015 20019 20021 20022 20150 20151 21001 21021 30000 ... whr\n",
      "$`1`\n",
      "[1] 0.2201317\n",
      "\n",
      "$`2`\n",
      "[1] 0.2222342\n",
      "\n",
      "[1] INI23108\n",
      "77 Levels: 20015 20019 20021 20022 20150 20151 21001 21021 30000 ... whr\n",
      "$`1`\n",
      "[1] 0.2199936\n",
      "\n",
      "$`2`\n",
      "[1] 0.2212691\n",
      "\n",
      "[1] INI23109\n",
      "77 Levels: 20015 20019 20021 20022 20150 20151 21001 21021 30000 ... whr\n",
      "$`1`\n",
      "[1] 0.2189246\n",
      "\n",
      "$`2`\n",
      "[1] 0.2348146\n",
      "\n",
      "[1] INI23110\n",
      "77 Levels: 20015 20019 20021 20022 20150 20151 21001 21021 30000 ... whr\n",
      "$`1`\n",
      "[1] 0.2150603\n",
      "\n",
      "$`2`\n",
      "[1] 0.2369277\n",
      "\n",
      "[1] trunk_fp\n",
      "77 Levels: 20015 20019 20021 20022 20150 20151 21001 21021 30000 ... whr\n",
      "$`1`\n",
      "[1] 0.2668681\n",
      "\n",
      "$`2`\n",
      "[1] 0.1134166\n",
      "\n",
      "[1] leg_fp\n",
      "77 Levels: 20015 20019 20021 20022 20150 20151 21001 21021 30000 ... whr\n",
      "$`1`\n",
      "[1] 0.2591021\n",
      "\n",
      "$`2`\n",
      "[1] 0.1385013\n",
      "\n",
      "[1] arm_fp\n",
      "77 Levels: 20015 20019 20021 20022 20150 20151 21001 21021 30000 ... whr\n",
      "$`1`\n",
      "[1] 0.2671386\n",
      "\n",
      "$`2`\n",
      "[1] 0.1743199\n",
      "\n",
      "[1] 46\n",
      "77 Levels: 20015 20019 20021 20022 20150 20151 21001 21021 30000 ... whr\n",
      "[1] 47\n",
      "77 Levels: 20015 20019 20021 20022 20150 20151 21001 21021 30000 ... whr\n",
      "$`1`\n",
      "[1] 0.1768678\n",
      "\n",
      "$`2`\n",
      "[1] 0.189471\n",
      "\n",
      "[1] 20015\n",
      "77 Levels: 20015 20019 20021 20022 20150 20151 21001 21021 30000 ... whr\n",
      "$`1`\n",
      "[1] 0.2740717\n",
      "\n",
      "$`2`\n",
      "[1] 0.2842938\n",
      "\n",
      "[1] 20019\n",
      "77 Levels: 20015 20019 20021 20022 20150 20151 21001 21021 30000 ... whr\n",
      "$`1`\n",
      "[1] NaN\n",
      "\n",
      "$`2`\n",
      "[1] NaN\n",
      "\n",
      "[1] 20021\n",
      "77 Levels: 20015 20019 20021 20022 20150 20151 21001 21021 30000 ... whr\n",
      "$`1`\n",
      "[1] NaN\n",
      "\n",
      "$`2`\n",
      "[1] NaN\n",
      "\n",
      "[1] 20022\n",
      "77 Levels: 20015 20019 20021 20022 20150 20151 21001 21021 30000 ... whr\n",
      "$`1`\n",
      "[1] 0.1302956\n",
      "\n",
      "$`2`\n",
      "[1] 0.09067103\n",
      "\n",
      "[1] 20150\n",
      "77 Levels: 20015 20019 20021 20022 20150 20151 21001 21021 30000 ... whr\n",
      "$`1`\n",
      "[1] 0.2003369\n",
      "\n",
      "$`2`\n",
      "[1] 0.1946581\n",
      "\n",
      "[1] 20151\n",
      "77 Levels: 20015 20019 20021 20022 20150 20151 21001 21021 30000 ... whr\n",
      "$`1`\n",
      "[1] 0.2089336\n",
      "\n",
      "$`2`\n",
      "[1] 0.2070845\n",
      "\n",
      "[1] 21021\n",
      "77 Levels: 20015 20019 20021 20022 20150 20151 21001 21021 30000 ... whr\n",
      "$`1`\n",
      "[1] NaN\n",
      "\n",
      "$`2`\n",
      "[1] NaN\n",
      "\n",
      "[1] 30000\n",
      "77 Levels: 20015 20019 20021 20022 20150 20151 21001 21021 30000 ... whr\n",
      "$`1`\n",
      "[1] 0.2044727\n",
      "\n",
      "$`2`\n",
      "[1] 0.1944564\n",
      "\n",
      "[1] 30010\n",
      "77 Levels: 20015 20019 20021 20022 20150 20151 21001 21021 30000 ... whr\n",
      "$`1`\n",
      "[1] 0.2074792\n",
      "\n",
      "$`2`\n",
      "[1] 0.2084337\n",
      "\n",
      "[1] 30020\n",
      "77 Levels: 20015 20019 20021 20022 20150 20151 21001 21021 30000 ... whr\n",
      "$`1`\n",
      "[1] 0.183017\n",
      "\n",
      "$`2`\n",
      "[1] 0.1807887\n",
      "\n",
      "[1] 30030\n",
      "77 Levels: 20015 20019 20021 20022 20150 20151 21001 21021 30000 ... whr\n",
      "$`1`\n",
      "[1] 0.173691\n",
      "\n",
      "$`2`\n",
      "[1] 0.1766165\n",
      "\n",
      "[1] 30040\n",
      "77 Levels: 20015 20019 20021 20022 20150 20151 21001 21021 30000 ... whr\n",
      "$`1`\n",
      "[1] 0.2129461\n",
      "\n",
      "$`2`\n",
      "[1] 0.2279606\n",
      "\n",
      "[1] 30050\n",
      "77 Levels: 20015 20019 20021 20022 20150 20151 21001 21021 30000 ... whr\n",
      "$`1`\n",
      "[1] 0.2175545\n",
      "\n",
      "$`2`\n",
      "[1] 0.2311658\n",
      "\n",
      "[1] 30060\n",
      "77 Levels: 20015 20019 20021 20022 20150 20151 21001 21021 30000 ... whr\n",
      "$`1`\n",
      "[1] 0.07795652\n",
      "\n",
      "$`2`\n",
      "[1] 0.07047489\n",
      "\n",
      "[1] 30070\n",
      "77 Levels: 20015 20019 20021 20022 20150 20151 21001 21021 30000 ... whr\n",
      "$`1`\n",
      "[1] 0.1754432\n",
      "\n",
      "$`2`\n",
      "[1] 0.1837032\n",
      "\n",
      "[1] 30080\n",
      "77 Levels: 20015 20019 20021 20022 20150 20151 21001 21021 30000 ... whr\n",
      "$`1`\n",
      "[1] 0.2288284\n",
      "\n",
      "$`2`\n",
      "[1] 0.2255254\n",
      "\n",
      "[1] 30090\n",
      "77 Levels: 20015 20019 20021 20022 20150 20151 21001 21021 30000 ... whr\n",
      "$`1`\n",
      "[1] 0.2065064\n",
      "\n",
      "$`2`\n",
      "[1] 0.2057018\n",
      "\n",
      "[1] 30100\n",
      "77 Levels: 20015 20019 20021 20022 20150 20151 21001 21021 30000 ... whr\n",
      "$`1`\n",
      "[1] 0.258767\n",
      "\n",
      "$`2`\n",
      "[1] 0.2566778\n",
      "\n",
      "[1] 30110\n",
      "77 Levels: 20015 20019 20021 20022 20150 20151 21001 21021 30000 ... whr\n",
      "$`1`\n",
      "[1] 0.1885675\n",
      "\n",
      "$`2`\n",
      "[1] 0.1920801\n",
      "\n",
      "[1] 30120\n",
      "77 Levels: 20015 20019 20021 20022 20150 20151 21001 21021 30000 ... whr\n",
      "$`1`\n",
      "[1] 0.2023698\n",
      "\n",
      "$`2`\n",
      "[1] 0.1841012\n",
      "\n",
      "[1] 30130\n",
      "77 Levels: 20015 20019 20021 20022 20150 20151 21001 21021 30000 ... whr\n",
      "$`1`\n",
      "[1] 0.1815278\n",
      "\n",
      "$`2`\n",
      "[1] 0.1852417\n",
      "\n",
      "[1] 30140\n",
      "77 Levels: 20015 20019 20021 20022 20150 20151 21001 21021 30000 ... whr\n",
      "$`1`\n",
      "[1] 0.1732623\n",
      "\n",
      "$`2`\n",
      "[1] 0.1654423\n",
      "\n",
      "[1] 30150\n",
      "77 Levels: 20015 20019 20021 20022 20150 20151 21001 21021 30000 ... whr\n",
      "$`1`\n",
      "[1] 0.1692737\n",
      "\n",
      "$`2`\n",
      "[1] 0.1989152\n",
      "\n",
      "[1] 30160\n",
      "77 Levels: 20015 20019 20021 20022 20150 20151 21001 21021 30000 ... whr\n",
      "$`1`\n",
      "[1] 0.1001334\n",
      "\n",
      "$`2`\n",
      "[1] 0.1091588\n",
      "\n",
      "[1] 30170\n",
      "77 Levels: 20015 20019 20021 20022 20150 20151 21001 21021 30000 ... whr\n",
      "$`1`\n",
      "[1] NaN\n",
      "\n",
      "$`2`\n",
      "[1] NaN\n",
      "\n",
      "[1] 30180\n",
      "77 Levels: 20015 20019 20021 20022 20150 20151 21001 21021 30000 ... whr\n",
      "$`1`\n",
      "[1] 0.1565554\n",
      "\n",
      "$`2`\n",
      "[1] 0.1483803\n",
      "\n",
      "[1] 30190\n",
      "77 Levels: 20015 20019 20021 20022 20150 20151 21001 21021 30000 ... whr\n",
      "$`1`\n",
      "[1] 0.1603005\n",
      "\n",
      "$`2`\n",
      "[1] 0.1577113\n",
      "\n",
      "[1] 30200\n",
      "77 Levels: 20015 20019 20021 20022 20150 20151 21001 21021 30000 ... whr\n",
      "$`1`\n",
      "[1] 0.1574759\n",
      "\n",
      "$`2`\n",
      "[1] 0.1502314\n",
      "\n",
      "[1] 30210\n",
      "77 Levels: 20015 20019 20021 20022 20150 20151 21001 21021 30000 ... whr\n",
      "$`1`\n",
      "[1] 0.1699156\n",
      "\n",
      "$`2`\n",
      "[1] 0.1852795\n",
      "\n",
      "[1] 30220\n",
      "77 Levels: 20015 20019 20021 20022 20150 20151 21001 21021 30000 ... whr\n",
      "$`1`\n",
      "[1] 0.03699474\n",
      "\n",
      "$`2`\n",
      "[1] 0.03641288\n",
      "\n",
      "[1] 30230\n",
      "77 Levels: 20015 20019 20021 20022 20150 20151 21001 21021 30000 ... whr\n"
     ]
    },
    {
     "ename": "ERROR",
     "evalue": "Error in se.p2[, 1]: incorrect number of dimensions\n",
     "output_type": "error",
     "traceback": [
      "Error in se.p2[, 1]: incorrect number of dimensions\nTraceback:\n",
      "1. lapply(keep.traits$trait, function(trait) {\n .     fit.file = sprintf(\"%s/dat_set/f_%s.RData\", DATA.FOLDER, \n .         trait)\n .     print(trait)\n .     if (!file.exists(fit.file)) {\n .         return(list(`1` = NA, `2` = NA))\n .     }\n .     load(file = fit.file)\n .     load(file = sprintf(\"%s/dat_set/dat_%s.RData\", DATA.FOLDER, \n .         trait))\n .     dat <- labelCategories(dat, getSigma(fit1), getPi(fit1))\n .     h <- overallHeritability(dat, getSigma(fit1), getPi(fit1))\n .     print(h)\n .     return(h)\n . })",
      "2. FUN(X[[i]], ...)",
      "3. overallHeritability(dat, getSigma(fit1), getPi(fit1))   # at line 13 of file <text>",
      "4. calcHeritability(se.p2, Sigma, p)"
     ]
    }
   ],
   "source": [
    "\n",
    "herit.vals <- lapply(keep.traits$trait, function(trait){\n",
    "    fit.file=sprintf(\"%s/dat_set/f_%s.RData\", DATA.FOLDER, trait)\n",
    "    print(trait)\n",
    "\n",
    "    if (!file.exists(fit.file) | as.charcter(trait)==\"30230\"){\n",
    "        return(list(\"1\"=NA, \"2\"=NA))\n",
    "\n",
    "    }\n",
    "    load(file=fit.file)\n",
    "    load(file=sprintf(\"%s/dat_set/dat_%s.RData\", DATA.FOLDER, trait))\n",
    "\n",
    "    dat <- labelCategories(dat, getSigma(fit1), getPi(fit1))\n",
    "    h <- overallHeritability(dat, getSigma(fit1), getPi(fit1))\n",
    "    print(h) \n",
    "    return(h)\n",
    "})"
   ]
  },
  {
   "cell_type": "code",
   "execution_count": 14,
   "metadata": {},
   "outputs": [
    {
     "ename": "ERROR",
     "evalue": "Error in save(herit.vals, file = \"herit.RData\"): object ‘herit.vals’ not found\n",
     "output_type": "error",
     "traceback": [
      "Error in save(herit.vals, file = \"herit.RData\"): object ‘herit.vals’ not found\nTraceback:\n",
      "1. save(herit.vals, file = \"herit.RData\")",
      "2. stop(sprintf(ngettext(n, \"object %s not found\", \"objects %s not found\"), \n .     paste(sQuote(list[!ok]), collapse = \", \")), domain = NA)"
     ]
    }
   ],
   "source": [
    "save(herit.vals, file=\"herit.RData\")"
   ]
  },
  {
   "cell_type": "code",
   "execution_count": 38,
   "metadata": {},
   "outputs": [
    {
     "data": {
      "text/html": [
       "<dl>\n",
       "\t<dt>$`1`</dt>\n",
       "\t\t<dd>0.249733901415226</dd>\n",
       "\t<dt>$`2`</dt>\n",
       "\t\t<dd>0.180376630255132</dd>\n",
       "</dl>\n"
      ],
      "text/latex": [
       "\\begin{description}\n",
       "\\item[\\$`1`] 0.249733901415226\n",
       "\\item[\\$`2`] 0.180376630255132\n",
       "\\end{description}\n"
      ],
      "text/markdown": [
       "$`1`\n",
       ":   0.249733901415226\n",
       "$`2`\n",
       ":   0.180376630255132\n",
       "\n",
       "\n"
      ],
      "text/plain": [
       "$`1`\n",
       "[1] 0.2497339\n",
       "\n",
       "$`2`\n",
       "[1] 0.1803766\n"
      ]
     },
     "metadata": {},
     "output_type": "display_data"
    }
   ],
   "source": [
    "# options: \n",
    "# - recalculate heritability\n",
    "\n",
    "trait <- 'whr'\n",
    "load(file=sprintf(\"%s/dat_set/dat_%s.RData\", DATA.FOLDER, trait))\n",
    "load(file=sprintf(\"%s/dat_set/f_%s.RData\", DATA.FOLDER, trait))\n",
    "\n",
    "dat <- labelCategories(dat, getSigma(fit1), getPi(fit1))\n",
    "overallHeritability(dat, getSigma(fit1), getPi(fit1))"
   ]
  },
  {
   "cell_type": "code",
   "execution_count": 29,
   "metadata": {
    "collapsed": true
   },
   "outputs": [],
   "source": [
    "B_dat <- dat$dat$B\n",
    "SE_dat <- dat$dat$SE\n",
    "N <- dat$dat$N\n",
    "\n",
    "posteriors <- sapply(1:N, function(i) getPosterior(B_dat[i,], SE_dat[i,], getPi(fit1), getSigma(fit1)))\n",
    "dat$posteriors <- posteriors\n",
    "categories <- sapply(posteriors, getCategory)"
   ]
  },
  {
   "cell_type": "code",
   "execution_count": 35,
   "metadata": {
    "collapsed": true
   },
   "outputs": [],
   "source": [
    "dat$categories <- categories"
   ]
  },
  {
   "cell_type": "code",
   "execution_count": 36,
   "metadata": {},
   "outputs": [
    {
     "data": {
      "text/plain": [
       "\n",
       "     1      2 \n",
       "275903   5887 "
      ]
     },
     "metadata": {},
     "output_type": "display_data"
    }
   ],
   "source": [
    "table(dat$categories)"
   ]
  },
  {
   "cell_type": "code",
   "execution_count": 60,
   "metadata": {
    "collapsed": true
   },
   "outputs": [],
   "source": [
    "list.traits <- read.delim(sprintf(\"%s/list_traits_run_lab.txt\", DATA.FOLDER), stringsAsFactors=FALSE)"
   ]
  },
  {
   "cell_type": "code",
   "execution_count": 61,
   "metadata": {
    "collapsed": true
   },
   "outputs": [],
   "source": []
  },
  {
   "cell_type": "code",
   "execution_count": 62,
   "metadata": {
    "collapsed": true
   },
   "outputs": [],
   "source": [
    "new.traits <- merge(traits[,c(\"trait\", \"readable.name\", \"category\")], herit.full.df3.wide, by=\"trait\")"
   ]
  },
  {
   "cell_type": "code",
   "execution_count": 68,
   "metadata": {
    "collapsed": true
   },
   "outputs": [],
   "source": [
    "new.traits2 <- data.frame(apply(new.traits, c(1,2), function(x) str_trim(x)))"
   ]
  },
  {
   "cell_type": "code",
   "execution_count": 71,
   "metadata": {
    "collapsed": true
   },
   "outputs": [],
   "source": [
    "new.traits3 <- new.traits2[new.traits2$readable.name!=\"NA\",]"
   ]
  },
  {
   "cell_type": "code",
   "execution_count": 72,
   "metadata": {},
   "outputs": [
    {
     "data": {
      "text/html": [
       "<table>\n",
       "<thead><tr><th></th><th scope=col>trait</th><th scope=col>readable.name</th><th scope=col>category</th><th scope=col>trait.name</th><th scope=col>sex</th><th scope=col>low</th><th scope=col>up</th><th scope=col>val</th></tr></thead>\n",
       "<tbody>\n",
       "\t<tr><th scope=row>1</th><td>INI23099            </td><td>body fat percentage </td><td>fat distribution    </td><td>body_fat_percentage </td><td>h.f                 </td><td>0.2051935           </td><td>0.2154693           </td><td>0.2532213           </td></tr>\n",
       "\t<tr><th scope=row>2</th><td>INI23099            </td><td>body fat percentage </td><td>fat distribution    </td><td>body_fat_percentage </td><td>h.m                 </td><td>0.2236070           </td><td>0.2320675           </td><td>0.2718347           </td></tr>\n",
       "\t<tr><th scope=row>11</th><td>INI23105            </td><td>basal metabolic rate</td><td>lab test            </td><td>basal_metabolic_rate</td><td>h.m                 </td><td>0.2653440           </td><td>0.2722908           </td><td>0.3080162           </td></tr>\n",
       "\t<tr><th scope=row>12</th><td>INI23105            </td><td>basal metabolic rate</td><td>lab test            </td><td>basal_metabolic_rate</td><td>h.f                 </td><td>0.2366266           </td><td>0.2495692           </td><td>0.2813215           </td></tr>\n",
       "\t<tr><th scope=row>39</th><td>trunk_fp            </td><td>trunk fat ratio     </td><td>fat distribution    </td><td>trunk_fatio_ratio   </td><td>h.f                 </td><td>0.2577097           </td><td>0.2794347           </td><td>0.3077835           </td></tr>\n",
       "\t<tr><th scope=row>40</th><td>trunk_fp            </td><td>trunk fat ratio     </td><td>fat distribution    </td><td>trunk_fatio_ratio   </td><td>h.m                 </td><td>0.1117804           </td><td>0.1199040           </td><td>0.1358248           </td></tr>\n",
       "</tbody>\n",
       "</table>\n"
      ],
      "text/latex": [
       "\\begin{tabular}{r|llllllll}\n",
       "  & trait & readable.name & category & trait.name & sex & low & up & val\\\\\n",
       "\\hline\n",
       "\t1 & INI23099                 & body fat percentage      & fat distribution         & body\\_fat\\_percentage  & h.f                      & 0.2051935                & 0.2154693                & 0.2532213               \\\\\n",
       "\t2 & INI23099                 & body fat percentage      & fat distribution         & body\\_fat\\_percentage  & h.m                      & 0.2236070                & 0.2320675                & 0.2718347               \\\\\n",
       "\t11 & INI23105                 & basal metabolic rate     & lab test                 & basal\\_metabolic\\_rate & h.m                      & 0.2653440                & 0.2722908                & 0.3080162               \\\\\n",
       "\t12 & INI23105                 & basal metabolic rate     & lab test                 & basal\\_metabolic\\_rate & h.f                      & 0.2366266                & 0.2495692                & 0.2813215               \\\\\n",
       "\t39 & trunk\\_fp               & trunk fat ratio          & fat distribution         & trunk\\_fatio\\_ratio    & h.f                      & 0.2577097                & 0.2794347                & 0.3077835               \\\\\n",
       "\t40 & trunk\\_fp               & trunk fat ratio          & fat distribution         & trunk\\_fatio\\_ratio    & h.m                      & 0.1117804                & 0.1199040                & 0.1358248               \\\\\n",
       "\\end{tabular}\n"
      ],
      "text/markdown": [
       "\n",
       "| <!--/--> | trait | readable.name | category | trait.name | sex | low | up | val | \n",
       "|---|---|---|---|---|---|\n",
       "| 1 | INI23099             | body fat percentage  | fat distribution     | body_fat_percentage  | h.f                  | 0.2051935            | 0.2154693            | 0.2532213            | \n",
       "| 2 | INI23099             | body fat percentage  | fat distribution     | body_fat_percentage  | h.m                  | 0.2236070            | 0.2320675            | 0.2718347            | \n",
       "| 11 | INI23105             | basal metabolic rate | lab test             | basal_metabolic_rate | h.m                  | 0.2653440            | 0.2722908            | 0.3080162            | \n",
       "| 12 | INI23105             | basal metabolic rate | lab test             | basal_metabolic_rate | h.f                  | 0.2366266            | 0.2495692            | 0.2813215            | \n",
       "| 39 | trunk_fp             | trunk fat ratio      | fat distribution     | trunk_fatio_ratio    | h.f                  | 0.2577097            | 0.2794347            | 0.3077835            | \n",
       "| 40 | trunk_fp             | trunk fat ratio      | fat distribution     | trunk_fatio_ratio    | h.m                  | 0.1117804            | 0.1199040            | 0.1358248            | \n",
       "\n",
       "\n"
      ],
      "text/plain": [
       "   trait    readable.name        category         trait.name           sex\n",
       "1  INI23099 body fat percentage  fat distribution body_fat_percentage  h.f\n",
       "2  INI23099 body fat percentage  fat distribution body_fat_percentage  h.m\n",
       "11 INI23105 basal metabolic rate lab test         basal_metabolic_rate h.m\n",
       "12 INI23105 basal metabolic rate lab test         basal_metabolic_rate h.f\n",
       "39 trunk_fp trunk fat ratio      fat distribution trunk_fatio_ratio    h.f\n",
       "40 trunk_fp trunk fat ratio      fat distribution trunk_fatio_ratio    h.m\n",
       "   low       up        val      \n",
       "1  0.2051935 0.2154693 0.2532213\n",
       "2  0.2236070 0.2320675 0.2718347\n",
       "11 0.2653440 0.2722908 0.3080162\n",
       "12 0.2366266 0.2495692 0.2813215\n",
       "39 0.2577097 0.2794347 0.3077835\n",
       "40 0.1117804 0.1199040 0.1358248"
      ]
     },
     "metadata": {},
     "output_type": "display_data"
    }
   ],
   "source": [
    "new.traits3 ### GAH I LABELED THE WRONG THING"
   ]
  }
 ],
 "metadata": {
  "kernelspec": {
   "display_name": "R",
   "language": "R",
   "name": "ir"
  },
  "language_info": {
   "codemirror_mode": "r",
   "file_extension": ".r",
   "mimetype": "text/x-r-source",
   "name": "R",
   "pygments_lexer": "r",
   "version": "3.4.0"
  }
 },
 "nbformat": 4,
 "nbformat_minor": 2
}
