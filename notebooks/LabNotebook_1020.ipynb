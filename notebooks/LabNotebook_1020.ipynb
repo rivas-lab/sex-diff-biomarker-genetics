{
 "cells": [
  {
   "cell_type": "markdown",
   "metadata": {},
   "source": [
    "### M2 tables"
   ]
  },
  {
   "cell_type": "code",
   "execution_count": 1,
   "metadata": {},
   "outputs": [
    {
     "name": "stderr",
     "output_type": "stream",
     "text": [
      "Loading required package: tidyverse\n",
      "── Attaching packages ─────────────────────────────────────── tidyverse 1.2.1 ──\n",
      "✔ ggplot2 2.2.1     ✔ purrr   0.2.4\n",
      "✔ tibble  1.4.2     ✔ dplyr   0.7.4\n",
      "✔ tidyr   0.8.1     ✔ stringr 1.3.0\n",
      "✔ readr   1.1.1     ✔ forcats 0.3.0\n",
      "── Conflicts ────────────────────────────────────────── tidyverse_conflicts() ──\n",
      "✖ dplyr::filter() masks stats::filter()\n",
      "✖ dplyr::lag()    masks stats::lag()\n",
      "Loading required package: data.table\n",
      "\n",
      "Attaching package: ‘data.table’\n",
      "\n",
      "The following objects are masked from ‘package:dplyr’:\n",
      "\n",
      "    between, first, last\n",
      "\n",
      "The following object is masked from ‘package:purrr’:\n",
      "\n",
      "    transpose\n",
      "\n"
     ]
    }
   ],
   "source": [
    "require('tidyverse')\n",
    "require('data.table')\n",
    "options(stringsAsFactors=FALSE)"
   ]
  },
  {
   "cell_type": "code",
   "execution_count": 10,
   "metadata": {},
   "outputs": [
    {
     "data": {
      "text/html": [
       "<table>\n",
       "<thead><tr><th scope=col>CHROM</th><th scope=col>POS</th><th scope=col>REF</th><th scope=col>ALT</th><th scope=col>ID</th><th scope=col>Gene</th><th scope=col>Consequence</th><th scope=col>HGVSp</th><th scope=col>LoF</th><th scope=col>LoF_filter</th><th scope=col>⋯</th><th scope=col>bileve_only</th><th scope=col>filter</th><th scope=col>missingness</th><th scope=col>hwe</th><th scope=col>mcpi</th><th scope=col>gnomad_af</th><th scope=col>mgi</th><th scope=col>mgi_notes</th><th scope=col>all_filters</th><th scope=col>Gene_symbol</th></tr></thead>\n",
       "<tbody>\n",
       "\t<tr><td>1                    </td><td>723307               </td><td>C                    </td><td>G                    </td><td>rs28659788           </td><td>ENSG00000237491      </td><td>intron_variant       </td><td>                     </td><td>                     </td><td>                     </td><td>⋯                    </td><td> TRUE                </td><td>NA                   </td><td>1                    </td><td>1                    </td><td>0                    </td><td>                     </td><td>                     </td><td>                     </td><td>2                    </td><td>AL669831.5           </td></tr>\n",
       "\t<tr><td>1                    </td><td>727841               </td><td>G                    </td><td>A                    </td><td>rs116587930          </td><td>ENSG00000237491      </td><td>intron_variant       </td><td>                     </td><td>                     </td><td>                     </td><td>⋯                    </td><td>FALSE                </td><td>NA                   </td><td>1                    </td><td>1                    </td><td>0                    </td><td>                     </td><td>                     </td><td>                     </td><td>2                    </td><td>AL669831.5           </td></tr>\n",
       "\t<tr><td>1                    </td><td>729632               </td><td>C                    </td><td>T                    </td><td>rs116720794          </td><td>ENSG00000237491      </td><td>intron_variant       </td><td>                     </td><td>                     </td><td>                     </td><td>⋯                    </td><td>FALSE                </td><td>NA                   </td><td>1                    </td><td>1                    </td><td>0                    </td><td>                     </td><td>                     </td><td>                     </td><td>2                    </td><td>AL669831.5           </td></tr>\n",
       "\t<tr><td>1                    </td><td>752721               </td><td>A                    </td><td>G                    </td><td>rs3131972            </td><td>ENSG00000240453      </td><td>intron_variant       </td><td>                     </td><td>                     </td><td>                     </td><td>⋯                    </td><td>FALSE                </td><td>NA                   </td><td>0                    </td><td>1                    </td><td>0                    </td><td>                     </td><td>                     </td><td>                     </td><td>1                    </td><td>RP11-206L10.10       </td></tr>\n",
       "\t<tr><td>1                    </td><td>754105               </td><td>C                    </td><td>T                    </td><td>rs12184325           </td><td>ENSG00000177757      </td><td>splice_region_variant</td><td>                     </td><td>                     </td><td>                     </td><td>⋯                    </td><td>FALSE                </td><td>NA                   </td><td>0                    </td><td>1                    </td><td>0                    </td><td>                     </td><td>                     </td><td>                     </td><td>1                    </td><td>FAM87B               </td></tr>\n",
       "\t<tr><td>1                    </td><td>756604               </td><td>A                    </td><td>G                    </td><td>rs3131962            </td><td>ENSG00000240453      </td><td>upstream_gene_variant</td><td>                     </td><td>                     </td><td>                     </td><td>⋯                    </td><td>FALSE                </td><td>NA                   </td><td>0                    </td><td>0                    </td><td>0                    </td><td>                     </td><td>                     </td><td>                     </td><td>0                    </td><td>RP11-206L10.10       </td></tr>\n",
       "</tbody>\n",
       "</table>\n"
      ],
      "text/latex": [
       "\\begin{tabular}{r|lllllllllllllllllllllllllllllll}\n",
       " CHROM & POS & REF & ALT & ID & Gene & Consequence & HGVSp & LoF & LoF\\_filter & ⋯ & bileve\\_only & filter & missingness & hwe & mcpi & gnomad\\_af & mgi & mgi\\_notes & all\\_filters & Gene\\_symbol\\\\\n",
       "\\hline\n",
       "\t 1                       & 723307                  & C                       & G                       & rs28659788              & ENSG00000237491         & intron\\_variant        &                         &                         &                         & ⋯                       &  TRUE                   & NA                      & 1                       & 1                       & 0                       &                         &                         &                         & 2                       & AL669831.5             \\\\\n",
       "\t 1                       & 727841                  & G                       & A                       & rs116587930             & ENSG00000237491         & intron\\_variant        &                         &                         &                         & ⋯                       & FALSE                   & NA                      & 1                       & 1                       & 0                       &                         &                         &                         & 2                       & AL669831.5             \\\\\n",
       "\t 1                       & 729632                  & C                       & T                       & rs116720794             & ENSG00000237491         & intron\\_variant        &                         &                         &                         & ⋯                       & FALSE                   & NA                      & 1                       & 1                       & 0                       &                         &                         &                         & 2                       & AL669831.5             \\\\\n",
       "\t 1                       & 752721                  & A                       & G                       & rs3131972               & ENSG00000240453         & intron\\_variant        &                         &                         &                         & ⋯                       & FALSE                   & NA                      & 0                       & 1                       & 0                       &                         &                         &                         & 1                       & RP11-206L10.10         \\\\\n",
       "\t 1                         & 754105                    & C                         & T                         & rs12184325                & ENSG00000177757           & splice\\_region\\_variant &                           &                           &                           & ⋯                         & FALSE                     & NA                        & 0                         & 1                         & 0                         &                           &                           &                           & 1                         & FAM87B                   \\\\\n",
       "\t 1                         & 756604                    & A                         & G                         & rs3131962                 & ENSG00000240453           & upstream\\_gene\\_variant &                           &                           &                           & ⋯                         & FALSE                     & NA                        & 0                         & 0                         & 0                         &                           &                           &                           & 0                         & RP11-206L10.10           \\\\\n",
       "\\end{tabular}\n"
      ],
      "text/markdown": [
       "\n",
       "CHROM | POS | REF | ALT | ID | Gene | Consequence | HGVSp | LoF | LoF_filter | ⋯ | bileve_only | filter | missingness | hwe | mcpi | gnomad_af | mgi | mgi_notes | all_filters | Gene_symbol | \n",
       "|---|---|---|---|---|---|\n",
       "| 1                     | 723307                | C                     | G                     | rs28659788            | ENSG00000237491       | intron_variant        |                       |                       |                       | ⋯                     |  TRUE                 | NA                    | 1                     | 1                     | 0                     |                       |                       |                       | 2                     | AL669831.5            | \n",
       "| 1                     | 727841                | G                     | A                     | rs116587930           | ENSG00000237491       | intron_variant        |                       |                       |                       | ⋯                     | FALSE                 | NA                    | 1                     | 1                     | 0                     |                       |                       |                       | 2                     | AL669831.5            | \n",
       "| 1                     | 729632                | C                     | T                     | rs116720794           | ENSG00000237491       | intron_variant        |                       |                       |                       | ⋯                     | FALSE                 | NA                    | 1                     | 1                     | 0                     |                       |                       |                       | 2                     | AL669831.5            | \n",
       "| 1                     | 752721                | A                     | G                     | rs3131972             | ENSG00000240453       | intron_variant        |                       |                       |                       | ⋯                     | FALSE                 | NA                    | 0                     | 1                     | 0                     |                       |                       |                       | 1                     | RP11-206L10.10        | \n",
       "| 1                     | 754105                | C                     | T                     | rs12184325            | ENSG00000177757       | splice_region_variant |                       |                       |                       | ⋯                     | FALSE                 | NA                    | 0                     | 1                     | 0                     |                       |                       |                       | 1                     | FAM87B                | \n",
       "| 1                     | 756604                | A                     | G                     | rs3131962             | ENSG00000240453       | upstream_gene_variant |                       |                       |                       | ⋯                     | FALSE                 | NA                    | 0                     | 0                     | 0                     |                       |                       |                       | 0                     | RP11-206L10.10        | \n",
       "\n",
       "\n"
      ],
      "text/plain": [
       "  CHROM POS    REF ALT ID          Gene            Consequence           HGVSp\n",
       "1 1     723307 C   G   rs28659788  ENSG00000237491 intron_variant             \n",
       "2 1     727841 G   A   rs116587930 ENSG00000237491 intron_variant             \n",
       "3 1     729632 C   T   rs116720794 ENSG00000237491 intron_variant             \n",
       "4 1     752721 A   G   rs3131972   ENSG00000240453 intron_variant             \n",
       "5 1     754105 C   T   rs12184325  ENSG00000177757 splice_region_variant      \n",
       "6 1     756604 A   G   rs3131962   ENSG00000240453 upstream_gene_variant      \n",
       "  LoF LoF_filter ⋯ bileve_only filter missingness hwe mcpi gnomad_af mgi\n",
       "1                ⋯  TRUE       NA     1           1   0                 \n",
       "2                ⋯ FALSE       NA     1           1   0                 \n",
       "3                ⋯ FALSE       NA     1           1   0                 \n",
       "4                ⋯ FALSE       NA     0           1   0                 \n",
       "5                ⋯ FALSE       NA     0           1   0                 \n",
       "6                ⋯ FALSE       NA     0           0   0                 \n",
       "  mgi_notes all_filters Gene_symbol   \n",
       "1           2           AL669831.5    \n",
       "2           2           AL669831.5    \n",
       "3           2           AL669831.5    \n",
       "4           1           RP11-206L10.10\n",
       "5           1           FAM87B        \n",
       "6           0           RP11-206L10.10"
      ]
     },
     "metadata": {},
     "output_type": "display_data"
    }
   ],
   "source": [
    "variant_tab <- fread('/oak/stanford/groups/mrivas/private_data/ukbb/variant_filtering/variant_filter_table.new.tsv.gz', data.table=FALSE)\n",
    "head(variant_tab)"
   ]
  },
  {
   "cell_type": "code",
   "execution_count": 11,
   "metadata": {},
   "outputs": [
    {
     "data": {
      "text/html": [
       "<ol class=list-inline>\n",
       "\t<li>'CHROM'</li>\n",
       "\t<li>'POS'</li>\n",
       "\t<li>'REF'</li>\n",
       "\t<li>'ALT'</li>\n",
       "\t<li>'ID'</li>\n",
       "\t<li>'Gene'</li>\n",
       "\t<li>'Consequence'</li>\n",
       "\t<li>'HGVSp'</li>\n",
       "\t<li>'LoF'</li>\n",
       "\t<li>'LoF_filter'</li>\n",
       "\t<li>'LoF_flags'</li>\n",
       "\t<li>'LoF_info'</li>\n",
       "\t<li>'consequence_field'</li>\n",
       "\t<li>'f_miss'</li>\n",
       "\t<li>'f_miss_bileve'</li>\n",
       "\t<li>'f_miss_wcsg'</li>\n",
       "\t<li>'freq'</li>\n",
       "\t<li>'hwe_p'</li>\n",
       "\t<li>'maf'</li>\n",
       "\t<li>'ld_indep'</li>\n",
       "\t<li>'wcsg_only'</li>\n",
       "\t<li>'bileve_only'</li>\n",
       "\t<li>'filter'</li>\n",
       "\t<li>'missingness'</li>\n",
       "\t<li>'hwe'</li>\n",
       "\t<li>'mcpi'</li>\n",
       "\t<li>'gnomad_af'</li>\n",
       "\t<li>'mgi'</li>\n",
       "\t<li>'mgi_notes'</li>\n",
       "\t<li>'all_filters'</li>\n",
       "\t<li>'Gene_symbol'</li>\n",
       "</ol>\n"
      ],
      "text/latex": [
       "\\begin{enumerate*}\n",
       "\\item 'CHROM'\n",
       "\\item 'POS'\n",
       "\\item 'REF'\n",
       "\\item 'ALT'\n",
       "\\item 'ID'\n",
       "\\item 'Gene'\n",
       "\\item 'Consequence'\n",
       "\\item 'HGVSp'\n",
       "\\item 'LoF'\n",
       "\\item 'LoF\\_filter'\n",
       "\\item 'LoF\\_flags'\n",
       "\\item 'LoF\\_info'\n",
       "\\item 'consequence\\_field'\n",
       "\\item 'f\\_miss'\n",
       "\\item 'f\\_miss\\_bileve'\n",
       "\\item 'f\\_miss\\_wcsg'\n",
       "\\item 'freq'\n",
       "\\item 'hwe\\_p'\n",
       "\\item 'maf'\n",
       "\\item 'ld\\_indep'\n",
       "\\item 'wcsg\\_only'\n",
       "\\item 'bileve\\_only'\n",
       "\\item 'filter'\n",
       "\\item 'missingness'\n",
       "\\item 'hwe'\n",
       "\\item 'mcpi'\n",
       "\\item 'gnomad\\_af'\n",
       "\\item 'mgi'\n",
       "\\item 'mgi\\_notes'\n",
       "\\item 'all\\_filters'\n",
       "\\item 'Gene\\_symbol'\n",
       "\\end{enumerate*}\n"
      ],
      "text/markdown": [
       "1. 'CHROM'\n",
       "2. 'POS'\n",
       "3. 'REF'\n",
       "4. 'ALT'\n",
       "5. 'ID'\n",
       "6. 'Gene'\n",
       "7. 'Consequence'\n",
       "8. 'HGVSp'\n",
       "9. 'LoF'\n",
       "10. 'LoF_filter'\n",
       "11. 'LoF_flags'\n",
       "12. 'LoF_info'\n",
       "13. 'consequence_field'\n",
       "14. 'f_miss'\n",
       "15. 'f_miss_bileve'\n",
       "16. 'f_miss_wcsg'\n",
       "17. 'freq'\n",
       "18. 'hwe_p'\n",
       "19. 'maf'\n",
       "20. 'ld_indep'\n",
       "21. 'wcsg_only'\n",
       "22. 'bileve_only'\n",
       "23. 'filter'\n",
       "24. 'missingness'\n",
       "25. 'hwe'\n",
       "26. 'mcpi'\n",
       "27. 'gnomad_af'\n",
       "28. 'mgi'\n",
       "29. 'mgi_notes'\n",
       "30. 'all_filters'\n",
       "31. 'Gene_symbol'\n",
       "\n",
       "\n"
      ],
      "text/plain": [
       " [1] \"CHROM\"             \"POS\"               \"REF\"              \n",
       " [4] \"ALT\"               \"ID\"                \"Gene\"             \n",
       " [7] \"Consequence\"       \"HGVSp\"             \"LoF\"              \n",
       "[10] \"LoF_filter\"        \"LoF_flags\"         \"LoF_info\"         \n",
       "[13] \"consequence_field\" \"f_miss\"            \"f_miss_bileve\"    \n",
       "[16] \"f_miss_wcsg\"       \"freq\"              \"hwe_p\"            \n",
       "[19] \"maf\"               \"ld_indep\"          \"wcsg_only\"        \n",
       "[22] \"bileve_only\"       \"filter\"            \"missingness\"      \n",
       "[25] \"hwe\"               \"mcpi\"              \"gnomad_af\"        \n",
       "[28] \"mgi\"               \"mgi_notes\"         \"all_filters\"      \n",
       "[31] \"Gene_symbol\"      "
      ]
     },
     "metadata": {},
     "output_type": "display_data"
    },
    {
     "data": {
      "text/html": [
       "<table>\n",
       "<thead><tr><th scope=col>ID</th><th scope=col>POS</th><th scope=col>REF</th><th scope=col>ALT</th><th scope=col>Gene_symbol</th><th scope=col>maf</th><th scope=col>Consequence</th><th scope=col>LoF</th><th scope=col>HGVSp</th></tr></thead>\n",
       "<tbody>\n",
       "\t<tr><td>rs28659788           </td><td>723307               </td><td>C                    </td><td>G                    </td><td>AL669831.5           </td><td>0.03614952           </td><td>intron_variant       </td><td>                     </td><td>                     </td></tr>\n",
       "\t<tr><td>rs116587930          </td><td>727841               </td><td>G                    </td><td>A                    </td><td>AL669831.5           </td><td>0.05360614           </td><td>intron_variant       </td><td>                     </td><td>                     </td></tr>\n",
       "\t<tr><td>rs116720794          </td><td>729632               </td><td>C                    </td><td>T                    </td><td>AL669831.5           </td><td>0.03658726           </td><td>intron_variant       </td><td>                     </td><td>                     </td></tr>\n",
       "\t<tr><td>rs3131972            </td><td>752721               </td><td>A                    </td><td>G                    </td><td>RP11-206L10.10       </td><td>0.15681154           </td><td>intron_variant       </td><td>                     </td><td>                     </td></tr>\n",
       "\t<tr><td>rs12184325           </td><td>754105               </td><td>C                    </td><td>T                    </td><td>FAM87B               </td><td>0.03652657           </td><td>splice_region_variant</td><td>                     </td><td>                     </td></tr>\n",
       "\t<tr><td>rs3131962            </td><td>756604               </td><td>A                    </td><td>G                    </td><td>RP11-206L10.10       </td><td>0.12983398           </td><td>upstream_gene_variant</td><td>                     </td><td>                     </td></tr>\n",
       "</tbody>\n",
       "</table>\n"
      ],
      "text/latex": [
       "\\begin{tabular}{r|lllllllll}\n",
       " ID & POS & REF & ALT & Gene\\_symbol & maf & Consequence & LoF & HGVSp\\\\\n",
       "\\hline\n",
       "\t rs28659788              & 723307                  & C                       & G                       & AL669831.5              & 0.03614952              & intron\\_variant        &                         &                        \\\\\n",
       "\t rs116587930             & 727841                  & G                       & A                       & AL669831.5              & 0.05360614              & intron\\_variant        &                         &                        \\\\\n",
       "\t rs116720794             & 729632                  & C                       & T                       & AL669831.5              & 0.03658726              & intron\\_variant        &                         &                        \\\\\n",
       "\t rs3131972               & 752721                  & A                       & G                       & RP11-206L10.10          & 0.15681154              & intron\\_variant        &                         &                        \\\\\n",
       "\t rs12184325                & 754105                    & C                         & T                         & FAM87B                    & 0.03652657                & splice\\_region\\_variant &                           &                          \\\\\n",
       "\t rs3131962                 & 756604                    & A                         & G                         & RP11-206L10.10            & 0.12983398                & upstream\\_gene\\_variant &                           &                          \\\\\n",
       "\\end{tabular}\n"
      ],
      "text/markdown": [
       "\n",
       "ID | POS | REF | ALT | Gene_symbol | maf | Consequence | LoF | HGVSp | \n",
       "|---|---|---|---|---|---|\n",
       "| rs28659788            | 723307                | C                     | G                     | AL669831.5            | 0.03614952            | intron_variant        |                       |                       | \n",
       "| rs116587930           | 727841                | G                     | A                     | AL669831.5            | 0.05360614            | intron_variant        |                       |                       | \n",
       "| rs116720794           | 729632                | C                     | T                     | AL669831.5            | 0.03658726            | intron_variant        |                       |                       | \n",
       "| rs3131972             | 752721                | A                     | G                     | RP11-206L10.10        | 0.15681154            | intron_variant        |                       |                       | \n",
       "| rs12184325            | 754105                | C                     | T                     | FAM87B                | 0.03652657            | splice_region_variant |                       |                       | \n",
       "| rs3131962             | 756604                | A                     | G                     | RP11-206L10.10        | 0.12983398            | upstream_gene_variant |                       |                       | \n",
       "\n",
       "\n"
      ],
      "text/plain": [
       "  ID          POS    REF ALT Gene_symbol    maf        Consequence          \n",
       "1 rs28659788  723307 C   G   AL669831.5     0.03614952 intron_variant       \n",
       "2 rs116587930 727841 G   A   AL669831.5     0.05360614 intron_variant       \n",
       "3 rs116720794 729632 C   T   AL669831.5     0.03658726 intron_variant       \n",
       "4 rs3131972   752721 A   G   RP11-206L10.10 0.15681154 intron_variant       \n",
       "5 rs12184325  754105 C   T   FAM87B         0.03652657 splice_region_variant\n",
       "6 rs3131962   756604 A   G   RP11-206L10.10 0.12983398 upstream_gene_variant\n",
       "  LoF HGVSp\n",
       "1          \n",
       "2          \n",
       "3          \n",
       "4          \n",
       "5          \n",
       "6          "
      ]
     },
     "metadata": {},
     "output_type": "display_data"
    },
    {
     "data": {
      "text/html": [
       "<table>\n",
       "<thead><tr><th></th><th scope=col>Consequence</th></tr></thead>\n",
       "<tbody>\n",
       "\t<tr><th scope=row>1</th><td>intron_variant                    </td></tr>\n",
       "\t<tr><th scope=row>5</th><td>splice_region_variant             </td></tr>\n",
       "\t<tr><th scope=row>6</th><td>upstream_gene_variant             </td></tr>\n",
       "\t<tr><th scope=row>13</th><td>downstream_gene_variant           </td></tr>\n",
       "\t<tr><th scope=row>15</th><td>non_coding_transcript_exon_variant</td></tr>\n",
       "\t<tr><th scope=row>17</th><td>intergenic_variant                </td></tr>\n",
       "\t<tr><th scope=row>32</th><td>missense_variant                  </td></tr>\n",
       "\t<tr><th scope=row>38</th><td>stop_gained                       </td></tr>\n",
       "\t<tr><th scope=row>41</th><td>frameshift_variant                </td></tr>\n",
       "\t<tr><th scope=row>48</th><td>synonymous_variant                </td></tr>\n",
       "\t<tr><th scope=row>50</th><td>splice_acceptor_variant           </td></tr>\n",
       "\t<tr><th scope=row>72</th><td>inframe_insertion                 </td></tr>\n",
       "\t<tr><th scope=row>94</th><td>splice_donor_variant              </td></tr>\n",
       "\t<tr><th scope=row>101</th><td>3_prime_UTR_variant               </td></tr>\n",
       "\t<tr><th scope=row>206</th><td>regulatory_region_variant         </td></tr>\n",
       "\t<tr><th scope=row>340</th><td>5_prime_UTR_variant               </td></tr>\n",
       "\t<tr><th scope=row>2215</th><td>TF_binding_site_variant           </td></tr>\n",
       "\t<tr><th scope=row>3095</th><td>inframe_deletion                  </td></tr>\n",
       "\t<tr><th scope=row>4492</th><td>stop_lost                         </td></tr>\n",
       "\t<tr><th scope=row>4816</th><td>start_lost                        </td></tr>\n",
       "\t<tr><th scope=row>4944</th><td>stop_retained_variant             </td></tr>\n",
       "\t<tr><th scope=row>73733</th><td>mature_miRNA_variant              </td></tr>\n",
       "\t<tr><th scope=row>148547</th><td>protein_altering_variant          </td></tr>\n",
       "\t<tr><th scope=row>200594</th><td>incomplete_terminal_codon_variant </td></tr>\n",
       "\t<tr><th scope=row>616400</th><td>coding_sequence_variant           </td></tr>\n",
       "</tbody>\n",
       "</table>\n"
      ],
      "text/latex": [
       "\\begin{tabular}{r|l}\n",
       "  & Consequence\\\\\n",
       "\\hline\n",
       "\t1 & intron\\_variant                    \\\\\n",
       "\t5 & splice\\_region\\_variant             \\\\\n",
       "\t6 & upstream\\_gene\\_variant             \\\\\n",
       "\t13 & downstream\\_gene\\_variant           \\\\\n",
       "\t15 & non\\_coding\\_transcript\\_exon\\_variant\\\\\n",
       "\t17 & intergenic\\_variant                \\\\\n",
       "\t32 & missense\\_variant                  \\\\\n",
       "\t38 & stop\\_gained                       \\\\\n",
       "\t41 & frameshift\\_variant                \\\\\n",
       "\t48 & synonymous\\_variant                \\\\\n",
       "\t50 & splice\\_acceptor\\_variant           \\\\\n",
       "\t72 & inframe\\_insertion                 \\\\\n",
       "\t94 & splice\\_donor\\_variant              \\\\\n",
       "\t101 & 3\\_prime\\_UTR\\_variant               \\\\\n",
       "\t206 & regulatory\\_region\\_variant         \\\\\n",
       "\t340 & 5\\_prime\\_UTR\\_variant               \\\\\n",
       "\t2215 & TF\\_binding\\_site\\_variant           \\\\\n",
       "\t3095 & inframe\\_deletion                  \\\\\n",
       "\t4492 & stop\\_lost                         \\\\\n",
       "\t4816 & start\\_lost                        \\\\\n",
       "\t4944 & stop\\_retained\\_variant             \\\\\n",
       "\t73733 & mature\\_miRNA\\_variant              \\\\\n",
       "\t148547 & protein\\_altering\\_variant          \\\\\n",
       "\t200594 & incomplete\\_terminal\\_codon\\_variant \\\\\n",
       "\t616400 & coding\\_sequence\\_variant           \\\\\n",
       "\\end{tabular}\n"
      ],
      "text/markdown": [
       "\n",
       "| <!--/--> | Consequence | \n",
       "|---|---|---|---|---|---|---|---|---|---|---|---|---|---|---|---|---|---|---|---|---|---|---|---|---|\n",
       "| 1 | intron_variant                     | \n",
       "| 5 | splice_region_variant              | \n",
       "| 6 | upstream_gene_variant              | \n",
       "| 13 | downstream_gene_variant            | \n",
       "| 15 | non_coding_transcript_exon_variant | \n",
       "| 17 | intergenic_variant                 | \n",
       "| 32 | missense_variant                   | \n",
       "| 38 | stop_gained                        | \n",
       "| 41 | frameshift_variant                 | \n",
       "| 48 | synonymous_variant                 | \n",
       "| 50 | splice_acceptor_variant            | \n",
       "| 72 | inframe_insertion                  | \n",
       "| 94 | splice_donor_variant               | \n",
       "| 101 | 3_prime_UTR_variant                | \n",
       "| 206 | regulatory_region_variant          | \n",
       "| 340 | 5_prime_UTR_variant                | \n",
       "| 2215 | TF_binding_site_variant            | \n",
       "| 3095 | inframe_deletion                   | \n",
       "| 4492 | stop_lost                          | \n",
       "| 4816 | start_lost                         | \n",
       "| 4944 | stop_retained_variant              | \n",
       "| 73733 | mature_miRNA_variant               | \n",
       "| 148547 | protein_altering_variant           | \n",
       "| 200594 | incomplete_terminal_codon_variant  | \n",
       "| 616400 | coding_sequence_variant            | \n",
       "\n",
       "\n"
      ],
      "text/plain": [
       "       Consequence                       \n",
       "1      intron_variant                    \n",
       "5      splice_region_variant             \n",
       "6      upstream_gene_variant             \n",
       "13     downstream_gene_variant           \n",
       "15     non_coding_transcript_exon_variant\n",
       "17     intergenic_variant                \n",
       "32     missense_variant                  \n",
       "38     stop_gained                       \n",
       "41     frameshift_variant                \n",
       "48     synonymous_variant                \n",
       "50     splice_acceptor_variant           \n",
       "72     inframe_insertion                 \n",
       "94     splice_donor_variant              \n",
       "101    3_prime_UTR_variant               \n",
       "206    regulatory_region_variant         \n",
       "340    5_prime_UTR_variant               \n",
       "2215   TF_binding_site_variant           \n",
       "3095   inframe_deletion                  \n",
       "4492   stop_lost                         \n",
       "4816   start_lost                        \n",
       "4944   stop_retained_variant             \n",
       "73733  mature_miRNA_variant              \n",
       "148547 protein_altering_variant          \n",
       "200594 incomplete_terminal_codon_variant \n",
       "616400 coding_sequence_variant           "
      ]
     },
     "metadata": {},
     "output_type": "display_data"
    },
    {
     "data": {
      "text/html": [
       "<table>\n",
       "<thead><tr><th></th><th scope=col>LoF</th></tr></thead>\n",
       "<tbody>\n",
       "\t<tr><th scope=row>1</th><td>  </td></tr>\n",
       "\t<tr><th scope=row>38</th><td>HC</td></tr>\n",
       "\t<tr><th scope=row>317</th><td>LC</td></tr>\n",
       "</tbody>\n",
       "</table>\n"
      ],
      "text/latex": [
       "\\begin{tabular}{r|l}\n",
       "  & LoF\\\\\n",
       "\\hline\n",
       "\t1 &   \\\\\n",
       "\t38 & HC\\\\\n",
       "\t317 & LC\\\\\n",
       "\\end{tabular}\n"
      ],
      "text/markdown": [
       "\n",
       "| <!--/--> | LoF | \n",
       "|---|---|---|\n",
       "| 1 |    | \n",
       "| 38 | HC | \n",
       "| 317 | LC | \n",
       "\n",
       "\n"
      ],
      "text/plain": [
       "    LoF\n",
       "1      \n",
       "38  HC \n",
       "317 LC "
      ]
     },
     "metadata": {},
     "output_type": "display_data"
    }
   ],
   "source": [
    "colnames(variant_tab)\n",
    "variant_sm <- variant_tab %>% select(ID, POS, REF, ALT, Gene_symbol, maf,  Consequence, LoF, HGVSp) \n",
    "variant_sm %>% head()\n",
    "variant_sm %>% select(Consequence) %>% unique\n",
    "variant_sm %>% select(LoF) %>% unique"
   ]
  },
  {
   "cell_type": "code",
   "execution_count": 1,
   "metadata": {
    "collapsed": true
   },
   "outputs": [],
   "source": [
    "M2.DIR <- \"../data/1020/m2/\"\n",
    "\n",
    "# read in all files\n",
    "my_files <- list.files(M2.DIR, pattern=\"snps4_*\")\n",
    "m2_biomarkers <- sapply(my_files, function(x) strsplit(strsplit(x, \"snps4_\",fixed=TRUE)[[1]][[2]], \".txt\")[[1]][[1]])\n",
    "\n",
    "snps <- do.call(rbind, lapply(m2_biomarkers, function(x) {\n",
    "    df <- read.table(sprintf(\"%s/snps4_%s.txt\", M2.DIR, x), sep=\" \", header=TRUE); \n",
    "    df$trait <- rep(x, nrow(df)); \n",
    "    return(df)}))\n",
    "\n",
    "# filter variant data to speed up\n",
    "\n",
    "\n"
   ]
  },
  {
   "cell_type": "code",
   "execution_count": 3,
   "metadata": {},
   "outputs": [
    {
     "data": {
      "text/html": [],
      "text/latex": [],
      "text/markdown": [],
      "text/plain": [
       "character(0)"
      ]
     },
     "metadata": {},
     "output_type": "display_data"
    },
    {
     "data": {
      "text/html": [
       "0"
      ],
      "text/latex": [
       "0"
      ],
      "text/markdown": [
       "0"
      ],
      "text/plain": [
       "[1] 0"
      ]
     },
     "metadata": {},
     "output_type": "display_data"
    },
    {
     "data": {
      "text/plain": [
       "NULL"
      ]
     },
     "metadata": {},
     "output_type": "display_data"
    }
   ],
   "source": [
    "variant_short <- variant_sm %>% filter(ID %in% snps$SNP)\n"
   ]
  },
  {
   "cell_type": "code",
   "execution_count": 13,
   "metadata": {},
   "outputs": [
    {
     "data": {
      "text/html": [
       "<table>\n",
       "<thead><tr><th scope=col>ID</th><th scope=col>CHR</th><th scope=col>POS</th><th scope=col>REF</th><th scope=col>ALT</th></tr></thead>\n",
       "<tbody>\n",
       "\t<tr><td>rs34557243 </td><td>XY         </td><td> 60425     </td><td>C          </td><td>A          </td></tr>\n",
       "\t<tr><td>rs28494123 </td><td>XY         </td><td> 60454     </td><td>A          </td><td>G          </td></tr>\n",
       "\t<tr><td>rs28590175 </td><td>XY         </td><td> 61067     </td><td>A          </td><td>G          </td></tr>\n",
       "\t<tr><td>rs117654552</td><td>XY         </td><td> 62079     </td><td>C          </td><td>G          </td></tr>\n",
       "\t<tr><td>rs28491545 </td><td>XY         </td><td> 62615     </td><td>A          </td><td>C          </td></tr>\n",
       "\t<tr><td>rs73174453 </td><td>XY         </td><td>167755     </td><td>G          </td><td>T          </td></tr>\n",
       "</tbody>\n",
       "</table>\n"
      ],
      "text/latex": [
       "\\begin{tabular}{r|lllll}\n",
       " ID & CHR & POS & REF & ALT\\\\\n",
       "\\hline\n",
       "\t rs34557243  & XY          &  60425      & C           & A          \\\\\n",
       "\t rs28494123  & XY          &  60454      & A           & G          \\\\\n",
       "\t rs28590175  & XY          &  61067      & A           & G          \\\\\n",
       "\t rs117654552 & XY          &  62079      & C           & G          \\\\\n",
       "\t rs28491545  & XY          &  62615      & A           & C          \\\\\n",
       "\t rs73174453  & XY          & 167755      & G           & T          \\\\\n",
       "\\end{tabular}\n"
      ],
      "text/markdown": [
       "\n",
       "ID | CHR | POS | REF | ALT | \n",
       "|---|---|---|---|---|---|\n",
       "| rs34557243  | XY          |  60425      | C           | A           | \n",
       "| rs28494123  | XY          |  60454      | A           | G           | \n",
       "| rs28590175  | XY          |  61067      | A           | G           | \n",
       "| rs117654552 | XY          |  62079      | C           | G           | \n",
       "| rs28491545  | XY          |  62615      | A           | C           | \n",
       "| rs73174453  | XY          | 167755      | G           | T           | \n",
       "\n",
       "\n"
      ],
      "text/plain": [
       "  ID          CHR POS    REF ALT\n",
       "1 rs34557243  XY   60425 C   A  \n",
       "2 rs28494123  XY   60454 A   G  \n",
       "3 rs28590175  XY   61067 A   G  \n",
       "4 rs117654552 XY   62079 C   G  \n",
       "5 rs28491545  XY   62615 A   C  \n",
       "6 rs73174453  XY  167755 G   T  "
      ]
     },
     "metadata": {},
     "output_type": "display_data"
    }
   ],
   "source": [
    "# we're missing X chromosome annotations!\n",
    "gwas_file <- fread(\"../gwas1015_ss/ukb24983_v2_hg19.Alanine_aminotransferase_onesex.genotyped.glm.linear\", data.table=FALSE)\n",
    "x_pos <- gwas_file %>% rename(\"CHR\"=\"#CHROM\") %>% filter(CHR %in% c(\"X\", \"XY\")) %>% select(ID, CHR, POS, REF, ALT)\n",
    "x_pos %>% head()\n"
   ]
  },
  {
   "cell_type": "code",
   "execution_count": 14,
   "metadata": {},
   "outputs": [
    {
     "data": {
      "text/html": [
       "<table>\n",
       "<thead><tr><th scope=col>SNP</th><th scope=col>MAF</th></tr></thead>\n",
       "<tbody>\n",
       "\t<tr><td>Affx-34464730</td><td>0.821453     </td></tr>\n",
       "\t<tr><td>Affx-34470541</td><td>0.998817     </td></tr>\n",
       "\t<tr><td>Affx-34480971</td><td>0.987194     </td></tr>\n",
       "\t<tr><td>Affx-34492707</td><td>0.988038     </td></tr>\n",
       "\t<tr><td>Affx-34492709</td><td>0.224857     </td></tr>\n",
       "\t<tr><td>Affx-34494619</td><td>0.767836     </td></tr>\n",
       "</tbody>\n",
       "</table>\n"
      ],
      "text/latex": [
       "\\begin{tabular}{r|ll}\n",
       " SNP & MAF\\\\\n",
       "\\hline\n",
       "\t Affx-34464730 & 0.821453     \\\\\n",
       "\t Affx-34470541 & 0.998817     \\\\\n",
       "\t Affx-34480971 & 0.987194     \\\\\n",
       "\t Affx-34492707 & 0.988038     \\\\\n",
       "\t Affx-34492709 & 0.224857     \\\\\n",
       "\t Affx-34494619 & 0.767836     \\\\\n",
       "\\end{tabular}\n"
      ],
      "text/markdown": [
       "\n",
       "SNP | MAF | \n",
       "|---|---|---|---|---|---|\n",
       "| Affx-34464730 | 0.821453      | \n",
       "| Affx-34470541 | 0.998817      | \n",
       "| Affx-34480971 | 0.987194      | \n",
       "| Affx-34492707 | 0.988038      | \n",
       "| Affx-34492709 | 0.224857      | \n",
       "| Affx-34494619 | 0.767836      | \n",
       "\n",
       "\n"
      ],
      "text/plain": [
       "  SNP           MAF     \n",
       "1 Affx-34464730 0.821453\n",
       "2 Affx-34470541 0.998817\n",
       "3 Affx-34480971 0.987194\n",
       "4 Affx-34492707 0.988038\n",
       "5 Affx-34492709 0.224857\n",
       "6 Affx-34494619 0.767836"
      ]
     },
     "metadata": {},
     "output_type": "display_data"
    }
   ],
   "source": [
    "# we can get MAF from my table, BP from a GWAS table, we have some gene symbol data?\n",
    "chrX <- read.table(\"../data/chr_qc/chrX_qc_table.txt\", header=TRUE)\n",
    "chrXY <- read.table(\"../data/chr_qc/chrXY_qc_table.txt\", header=TRUE)\n",
    "\n",
    "xxy_maf <- do.call(rbind, list(chrX %>% select(SNP, MAF), chrXY %>% select(SNP, MAF)))\n",
    "xxy_maf %>% head()\n"
   ]
  },
  {
   "cell_type": "code",
   "execution_count": 15,
   "metadata": {
    "collapsed": true
   },
   "outputs": [],
   "source": [
    "x_tab <- full_join(x_pos, xxy_maf, by=c(\"ID\"=\"SNP\"))\n",
    "write_tsv(x_tab, \"../data/x_variant_info.txt\")\n"
   ]
  },
  {
   "cell_type": "code",
   "execution_count": 16,
   "metadata": {},
   "outputs": [
    {
     "data": {
      "text/html": [
       "<table>\n",
       "<thead><tr><th scope=col>gene</th><th scope=col>snp</th></tr></thead>\n",
       "<tbody>\n",
       "\t<tr><td>BTK          </td><td>Affx-34464730</td></tr>\n",
       "\t<tr><td>GPRASP1      </td><td>Affx-34470541</td></tr>\n",
       "\t<tr><td>IL1RAPL2     </td><td>Affx-34480971</td></tr>\n",
       "\t<tr><td>COL4A6       </td><td>Affx-34492707</td></tr>\n",
       "\t<tr><td>COL4A6       </td><td>Affx-34492709</td></tr>\n",
       "\t<tr><td>IRS4         </td><td>Affx-34494619</td></tr>\n",
       "</tbody>\n",
       "</table>\n"
      ],
      "text/latex": [
       "\\begin{tabular}{r|ll}\n",
       " gene & snp\\\\\n",
       "\\hline\n",
       "\t BTK           & Affx-34464730\\\\\n",
       "\t GPRASP1       & Affx-34470541\\\\\n",
       "\t IL1RAPL2      & Affx-34480971\\\\\n",
       "\t COL4A6        & Affx-34492707\\\\\n",
       "\t COL4A6        & Affx-34492709\\\\\n",
       "\t IRS4          & Affx-34494619\\\\\n",
       "\\end{tabular}\n"
      ],
      "text/markdown": [
       "\n",
       "gene | snp | \n",
       "|---|---|---|---|---|---|\n",
       "| BTK           | Affx-34464730 | \n",
       "| GPRASP1       | Affx-34470541 | \n",
       "| IL1RAPL2      | Affx-34480971 | \n",
       "| COL4A6        | Affx-34492707 | \n",
       "| COL4A6        | Affx-34492709 | \n",
       "| IRS4          | Affx-34494619 | \n",
       "\n",
       "\n"
      ],
      "text/plain": [
       "  gene     snp          \n",
       "1 BTK      Affx-34464730\n",
       "2 GPRASP1  Affx-34470541\n",
       "3 IL1RAPL2 Affx-34480971\n",
       "4 COL4A6   Affx-34492707\n",
       "5 COL4A6   Affx-34492709\n",
       "6 IRS4     Affx-34494619"
      ]
     },
     "metadata": {},
     "output_type": "display_data"
    }
   ],
   "source": [
    "snp_gene <- read.table(\"../data/snp_gene_table.txt\", sep=\" \", header=TRUE)\n",
    "xxy_snp <- snp_gene %>% filter(snp %in% x_tab$ID)\n",
    "head(xxy_snp)"
   ]
  },
  {
   "cell_type": "code",
   "execution_count": 17,
   "metadata": {},
   "outputs": [
    {
     "data": {
      "text/html": [
       "<table>\n",
       "<thead><tr><th scope=col>CHR</th><th scope=col>n</th></tr></thead>\n",
       "<tbody>\n",
       "\t<tr><td>X   </td><td>6637</td></tr>\n",
       "\t<tr><td>XY  </td><td> 171</td></tr>\n",
       "</tbody>\n",
       "</table>\n"
      ],
      "text/latex": [
       "\\begin{tabular}{r|ll}\n",
       " CHR & n\\\\\n",
       "\\hline\n",
       "\t X    & 6637\\\\\n",
       "\t XY   &  171\\\\\n",
       "\\end{tabular}\n"
      ],
      "text/markdown": [
       "\n",
       "CHR | n | \n",
       "|---|---|\n",
       "| X    | 6637 | \n",
       "| XY   |  171 | \n",
       "\n",
       "\n"
      ],
      "text/plain": [
       "  CHR n   \n",
       "1 X   6637\n",
       "2 XY   171"
      ]
     },
     "metadata": {},
     "output_type": "display_data"
    },
    {
     "data": {
      "text/html": [
       "<table>\n",
       "<thead><tr><th scope=col>CHR</th><th scope=col>n</th></tr></thead>\n",
       "<tbody>\n",
       "\t<tr><td>X    </td><td>12220</td></tr>\n",
       "\t<tr><td>XY   </td><td> 1186</td></tr>\n",
       "</tbody>\n",
       "</table>\n"
      ],
      "text/latex": [
       "\\begin{tabular}{r|ll}\n",
       " CHR & n\\\\\n",
       "\\hline\n",
       "\t X     & 12220\\\\\n",
       "\t XY    &  1186\\\\\n",
       "\\end{tabular}\n"
      ],
      "text/markdown": [
       "\n",
       "CHR | n | \n",
       "|---|---|\n",
       "| X     | 12220 | \n",
       "| XY    |  1186 | \n",
       "\n",
       "\n"
      ],
      "text/plain": [
       "  CHR n    \n",
       "1 X   12220\n",
       "2 XY   1186"
      ]
     },
     "metadata": {},
     "output_type": "display_data"
    }
   ],
   "source": [
    "x_w_g <- left_join(x_tab, xxy_snp, by=c(\"ID\"=\"snp\"))\n",
    "\n",
    "x_w_g %>% filter(is.na(gene)) %>% group_by(CHR) %>% count()\n",
    "x_w_g %>% filter(!is.na(gene)) %>% group_by(CHR) %>% count()"
   ]
  },
  {
   "cell_type": "code",
   "execution_count": 19,
   "metadata": {},
   "outputs": [
    {
     "data": {
      "text/html": [
       "<table>\n",
       "<thead><tr><th scope=col>ID</th><th scope=col>CHR</th><th scope=col>POS</th><th scope=col>REF</th><th scope=col>ALT</th><th scope=col>MAF</th><th scope=col>gene</th></tr></thead>\n",
       "<tbody>\n",
       "\t<tr><td>rs34557243 </td><td>XY         </td><td> 60425     </td><td>C          </td><td>A          </td><td>0.961390   </td><td>NA         </td></tr>\n",
       "\t<tr><td>rs28494123 </td><td>XY         </td><td> 60454     </td><td>A          </td><td>G          </td><td>0.481242   </td><td>NA         </td></tr>\n",
       "\t<tr><td>rs28590175 </td><td>XY         </td><td> 61067     </td><td>A          </td><td>G          </td><td>0.953109   </td><td>NA         </td></tr>\n",
       "\t<tr><td>rs117654552</td><td>XY         </td><td> 62079     </td><td>C          </td><td>G          </td><td>0.960478   </td><td>NA         </td></tr>\n",
       "\t<tr><td>rs28491545 </td><td>XY         </td><td> 62615     </td><td>A          </td><td>C          </td><td>0.478833   </td><td>NA         </td></tr>\n",
       "\t<tr><td>rs73174453 </td><td>XY         </td><td>167755     </td><td>G          </td><td>T          </td><td>0.462018   </td><td>NA         </td></tr>\n",
       "</tbody>\n",
       "</table>\n"
      ],
      "text/latex": [
       "\\begin{tabular}{r|lllllll}\n",
       " ID & CHR & POS & REF & ALT & MAF & gene\\\\\n",
       "\\hline\n",
       "\t rs34557243  & XY          &  60425      & C           & A           & 0.961390    & NA         \\\\\n",
       "\t rs28494123  & XY          &  60454      & A           & G           & 0.481242    & NA         \\\\\n",
       "\t rs28590175  & XY          &  61067      & A           & G           & 0.953109    & NA         \\\\\n",
       "\t rs117654552 & XY          &  62079      & C           & G           & 0.960478    & NA         \\\\\n",
       "\t rs28491545  & XY          &  62615      & A           & C           & 0.478833    & NA         \\\\\n",
       "\t rs73174453  & XY          & 167755      & G           & T           & 0.462018    & NA         \\\\\n",
       "\\end{tabular}\n"
      ],
      "text/markdown": [
       "\n",
       "ID | CHR | POS | REF | ALT | MAF | gene | \n",
       "|---|---|---|---|---|---|\n",
       "| rs34557243  | XY          |  60425      | C           | A           | 0.961390    | NA          | \n",
       "| rs28494123  | XY          |  60454      | A           | G           | 0.481242    | NA          | \n",
       "| rs28590175  | XY          |  61067      | A           | G           | 0.953109    | NA          | \n",
       "| rs117654552 | XY          |  62079      | C           | G           | 0.960478    | NA          | \n",
       "| rs28491545  | XY          |  62615      | A           | C           | 0.478833    | NA          | \n",
       "| rs73174453  | XY          | 167755      | G           | T           | 0.462018    | NA          | \n",
       "\n",
       "\n"
      ],
      "text/plain": [
       "  ID          CHR POS    REF ALT MAF      gene\n",
       "1 rs34557243  XY   60425 C   A   0.961390 NA  \n",
       "2 rs28494123  XY   60454 A   G   0.481242 NA  \n",
       "3 rs28590175  XY   61067 A   G   0.953109 NA  \n",
       "4 rs117654552 XY   62079 C   G   0.960478 NA  \n",
       "5 rs28491545  XY   62615 A   C   0.478833 NA  \n",
       "6 rs73174453  XY  167755 G   T   0.462018 NA  "
      ]
     },
     "metadata": {},
     "output_type": "display_data"
    },
    {
     "data": {
      "text/html": [
       "<table>\n",
       "<thead><tr><th scope=col>ID</th><th scope=col>POS</th><th scope=col>REF</th><th scope=col>ALT</th><th scope=col>Gene_symbol</th><th scope=col>maf</th><th scope=col>Consequence</th><th scope=col>LoF</th><th scope=col>HGVSp</th></tr></thead>\n",
       "<tbody>\n",
       "\t<tr><td>rs4970383                                                                                                             </td><td>838555                                                                                                                </td><td>C                                                                                                                     </td><td>A                                                                                                                     </td><td>AL645608.6                                                                                                            </td><td>0.24553333                                                                                                            </td><td>upstream_gene_variant                                                                                                 </td><td>                                                                                                                      </td><td>                                                                                                                      </td></tr>\n",
       "\t<tr><td>rs13303065                                                                                                            </td><td>891059                                                                                                                </td><td>C                                                                                                                     </td><td>T                                                                                                                     </td><td>NOC2L                                                                                                                 </td><td>0.34523622                                                                                                            </td><td>intron_variant                                                                                                        </td><td>                                                                                                                      </td><td>                                                                                                                      </td></tr>\n",
       "\t<tr><td>rs3829740                                                                                                             </td><td>909238                                                                                                                </td><td>G                                                                                                                     </td><td>C                                                                                                                     </td><td>PLEKHN1                                                                                                               </td><td>0.43165099                                                                                                            </td><td>missense_variant                                                                                                      </td><td>                                                                                                                      </td><td>ENSP00000462558.1:p.Arg52Pro,ENSP00000368720.3:p.Arg487Pro,ENSP00000368719.2:p.Arg539Pro,ENSP00000368717.2:p.Arg452Pro</td></tr>\n",
       "\t<tr><td>rs28869591                                                                                                            </td><td>920640                                                                                                                </td><td>C                                                                                                                     </td><td>T                                                                                                                     </td><td>PERM1                                                                                                                 </td><td>0.16179403                                                                                                            </td><td>upstream_gene_variant                                                                                                 </td><td>                                                                                                                      </td><td>                                                                                                                      </td></tr>\n",
       "\t<tr><td>rs2710890                                                                                                             </td><td>958905                                                                                                                </td><td>A                                                                                                                     </td><td>G                                                                                                                     </td><td>AGRN                                                                                                                  </td><td>0.37017454                                                                                                            </td><td>intron_variant                                                                                                        </td><td>                                                                                                                      </td><td>                                                                                                                      </td></tr>\n",
       "\t<tr><td>rs2710887                                                                                                             </td><td>986443                                                                                                                </td><td>C                                                                                                                     </td><td>T                                                                                                                     </td><td>AGRN                                                                                                                  </td><td>0.08425568                                                                                                            </td><td>intron_variant                                                                                                        </td><td>                                                                                                                      </td><td>                                                                                                                      </td></tr>\n",
       "</tbody>\n",
       "</table>\n"
      ],
      "text/latex": [
       "\\begin{tabular}{r|lllllllll}\n",
       " ID & POS & REF & ALT & Gene\\_symbol & maf & Consequence & LoF & HGVSp\\\\\n",
       "\\hline\n",
       "\t rs4970383                                                                                                              & 838555                                                                                                                 & C                                                                                                                      & A                                                                                                                      & AL645608.6                                                                                                             & 0.24553333                                                                                                             & upstream\\_gene\\_variant                                                                                              &                                                                                                                        &                                                                                                                       \\\\\n",
       "\t rs13303065                                                                                                             & 891059                                                                                                                 & C                                                                                                                      & T                                                                                                                      & NOC2L                                                                                                                  & 0.34523622                                                                                                             & intron\\_variant                                                                                                       &                                                                                                                        &                                                                                                                       \\\\\n",
       "\t rs3829740                                                                                                              & 909238                                                                                                                 & G                                                                                                                      & C                                                                                                                      & PLEKHN1                                                                                                                & 0.43165099                                                                                                             & missense\\_variant                                                                                                     &                                                                                                                        & ENSP00000462558.1:p.Arg52Pro,ENSP00000368720.3:p.Arg487Pro,ENSP00000368719.2:p.Arg539Pro,ENSP00000368717.2:p.Arg452Pro\\\\\n",
       "\t rs28869591                                                                                                             & 920640                                                                                                                 & C                                                                                                                      & T                                                                                                                      & PERM1                                                                                                                  & 0.16179403                                                                                                             & upstream\\_gene\\_variant                                                                                              &                                                                                                                        &                                                                                                                       \\\\\n",
       "\t rs2710890                                                                                                              & 958905                                                                                                                 & A                                                                                                                      & G                                                                                                                      & AGRN                                                                                                                   & 0.37017454                                                                                                             & intron\\_variant                                                                                                       &                                                                                                                        &                                                                                                                       \\\\\n",
       "\t rs2710887                                                                                                              & 986443                                                                                                                 & C                                                                                                                      & T                                                                                                                      & AGRN                                                                                                                   & 0.08425568                                                                                                             & intron\\_variant                                                                                                       &                                                                                                                        &                                                                                                                       \\\\\n",
       "\\end{tabular}\n"
      ],
      "text/markdown": [
       "\n",
       "ID | POS | REF | ALT | Gene_symbol | maf | Consequence | LoF | HGVSp | \n",
       "|---|---|---|---|---|---|\n",
       "| rs4970383                                                                                                              | 838555                                                                                                                 | C                                                                                                                      | A                                                                                                                      | AL645608.6                                                                                                             | 0.24553333                                                                                                             | upstream_gene_variant                                                                                                  |                                                                                                                        |                                                                                                                        | \n",
       "| rs13303065                                                                                                             | 891059                                                                                                                 | C                                                                                                                      | T                                                                                                                      | NOC2L                                                                                                                  | 0.34523622                                                                                                             | intron_variant                                                                                                         |                                                                                                                        |                                                                                                                        | \n",
       "| rs3829740                                                                                                              | 909238                                                                                                                 | G                                                                                                                      | C                                                                                                                      | PLEKHN1                                                                                                                | 0.43165099                                                                                                             | missense_variant                                                                                                       |                                                                                                                        | ENSP00000462558.1:p.Arg52Pro,ENSP00000368720.3:p.Arg487Pro,ENSP00000368719.2:p.Arg539Pro,ENSP00000368717.2:p.Arg452Pro | \n",
       "| rs28869591                                                                                                             | 920640                                                                                                                 | C                                                                                                                      | T                                                                                                                      | PERM1                                                                                                                  | 0.16179403                                                                                                             | upstream_gene_variant                                                                                                  |                                                                                                                        |                                                                                                                        | \n",
       "| rs2710890                                                                                                              | 958905                                                                                                                 | A                                                                                                                      | G                                                                                                                      | AGRN                                                                                                                   | 0.37017454                                                                                                             | intron_variant                                                                                                         |                                                                                                                        |                                                                                                                        | \n",
       "| rs2710887                                                                                                              | 986443                                                                                                                 | C                                                                                                                      | T                                                                                                                      | AGRN                                                                                                                   | 0.08425568                                                                                                             | intron_variant                                                                                                         |                                                                                                                        |                                                                                                                        | \n",
       "\n",
       "\n"
      ],
      "text/plain": [
       "  ID         POS    REF ALT Gene_symbol maf        Consequence           LoF\n",
       "1 rs4970383  838555 C   A   AL645608.6  0.24553333 upstream_gene_variant    \n",
       "2 rs13303065 891059 C   T   NOC2L       0.34523622 intron_variant           \n",
       "3 rs3829740  909238 G   C   PLEKHN1     0.43165099 missense_variant         \n",
       "4 rs28869591 920640 C   T   PERM1       0.16179403 upstream_gene_variant    \n",
       "5 rs2710890  958905 A   G   AGRN        0.37017454 intron_variant           \n",
       "6 rs2710887  986443 C   T   AGRN        0.08425568 intron_variant           \n",
       "  HGVSp                                                                                                                 \n",
       "1                                                                                                                       \n",
       "2                                                                                                                       \n",
       "3 ENSP00000462558.1:p.Arg52Pro,ENSP00000368720.3:p.Arg487Pro,ENSP00000368719.2:p.Arg539Pro,ENSP00000368717.2:p.Arg452Pro\n",
       "4                                                                                                                       \n",
       "5                                                                                                                       \n",
       "6                                                                                                                       "
      ]
     },
     "metadata": {},
     "output_type": "display_data"
    }
   ],
   "source": [
    "head(x_w_g)\n",
    "head(variant_short)\n",
    "\n",
    "reform_x <- x_w_g %>% rename(Gene_symbol=gene, maf=MAF) %>% mutate(HGVSp=\"\", Consequence=\"\", LoF=\"\") %>% select(colnames(variant_short))\n",
    "var_w_x <- rbind(variant_short, reform_x)"
   ]
  },
  {
   "cell_type": "code",
   "execution_count": 20,
   "metadata": {},
   "outputs": [
    {
     "data": {
      "text/html": [
       "<table>\n",
       "<thead><tr><th scope=col>ID</th><th scope=col>POS</th><th scope=col>REF</th><th scope=col>ALT</th><th scope=col>Gene_symbol</th><th scope=col>maf</th><th scope=col>Consequence</th><th scope=col>LoF</th><th scope=col>HGVSp</th><th scope=col>CHR</th><th scope=col>⋯</th><th scope=col>SE.m</th><th scope=col>P.f</th><th scope=col>P.m</th><th scope=col>p1</th><th scope=col>p2</th><th scope=col>p3</th><th scope=col>p4</th><th scope=col>category</th><th scope=col>gene</th><th scope=col>trait</th></tr></thead>\n",
       "<tbody>\n",
       "\t<tr><td>Affx-15837191                </td><td> 3752874                     </td><td>A                            </td><td>G                            </td><td>APBA3                        </td><td>0.45243249                   </td><td>missense_variant             </td><td>                             </td><td>ENSP00000315136.2:p.Cys376Arg</td><td>19                           </td><td>⋯                            </td><td>1.388680e-05                 </td><td> 1.26170e-03                 </td><td> 1.67073e-09                 </td><td> 7.516764e-06                </td><td> 1.463738e-11                </td><td> 6.029481e-06                </td><td>0.9999865                    </td><td>4                            </td><td>APBA3                        </td><td>Alanine_aminotransferase     </td></tr>\n",
       "\t<tr><td>Affx-19716376                </td><td>44332888                     </td><td>T                            </td><td>TC                           </td><td>PNPLA3                       </td><td>0.16295230                   </td><td>intron_variant               </td><td>                             </td><td>                             </td><td>22                           </td><td>⋯                            </td><td>2.480588e-05                 </td><td>6.15256e-119                 </td><td>2.11911e-107                 </td><td>4.133258e-217                </td><td>5.073164e-108                </td><td>1.456869e-119                </td><td>1.0000000                    </td><td>4                            </td><td>PNPLA3                       </td><td>Alanine_aminotransferase     </td></tr>\n",
       "\t<tr><td>Affx-20090007                </td><td>44066247                     </td><td>G                            </td><td>C                            </td><td>ABCG8                        </td><td>0.06540481                   </td><td>missense_variant             </td><td>                             </td><td>ENSP00000272286.2:p.Asp19His </td><td>2                            </td><td>⋯                            </td><td>5.571264e-05                 </td><td> 2.44843e-17                 </td><td> 1.35421e-05                 </td><td> 8.457752e-16                </td><td> 6.971725e-08                </td><td> 2.269121e-19                </td><td>0.9999999                    </td><td>4                            </td><td>ABCG8                        </td><td>Alanine_aminotransferase     </td></tr>\n",
       "\t<tr><td>Affx-22413417                </td><td>50176739                     </td><td>C                            </td><td>A                            </td><td>SEMA3F-AS1                   </td><td>0.25722407                   </td><td>intron_variant               </td><td>                             </td><td>                             </td><td>3                            </td><td>⋯                            </td><td>1.781574e-05                 </td><td> 2.43861e-06                 </td><td> 6.95206e-02                 </td><td> 1.876171e-01                </td><td> 1.524191e-04                </td><td> 1.143639e-08                </td><td>0.8122305                    </td><td>4                            </td><td>LOC100129060                 </td><td>Alanine_aminotransferase     </td></tr>\n",
       "\t<tr><td>Affx-26682790                </td><td>52193237                     </td><td>A                            </td><td>G                            </td><td>ITGA1                        </td><td>0.08134591                   </td><td>intron_variant               </td><td>                             </td><td>                             </td><td>5                            </td><td>⋯                            </td><td>4.581774e-05                 </td><td> 4.52681e-03                 </td><td> 6.20354e-08                 </td><td> 2.804715e-04                </td><td> 3.072548e-10                </td><td> 1.217277e-05                </td><td>0.9997074                    </td><td>4                            </td><td>ITGA1                        </td><td>Alanine_aminotransferase     </td></tr>\n",
       "\t<tr><td>Affx-28463585                </td><td>31830593                     </td><td>A                            </td><td>C                            </td><td>NEU1                         </td><td>0.02988194                   </td><td>5_prime_UTR_variant          </td><td>                             </td><td>                             </td><td>6                            </td><td>⋯                            </td><td>1.199748e-04                 </td><td> 6.66880e-05                 </td><td> 1.56100e-03                 </td><td> 3.699061e-02                </td><td> 3.280478e-06                </td><td> 1.676937e-07                </td><td>0.9630059                    </td><td>4                            </td><td>NEU1                         </td><td>Alanine_aminotransferase     </td></tr>\n",
       "</tbody>\n",
       "</table>\n"
      ],
      "text/latex": [
       "\\begin{tabular}{r|lllllllllllllllllllllll}\n",
       " ID & POS & REF & ALT & Gene\\_symbol & maf & Consequence & LoF & HGVSp & CHR & ⋯ & SE.m & P.f & P.m & p1 & p2 & p3 & p4 & category & gene & trait\\\\\n",
       "\\hline\n",
       "\t Affx-15837191                 &  3752874                      & A                             & G                             & APBA3                         & 0.45243249                    & missense\\_variant            &                               & ENSP00000315136.2:p.Cys376Arg & 19                            & ⋯                             & 1.388680e-05                  &  1.26170e-03                  &  1.67073e-09                  &  7.516764e-06                 &  1.463738e-11                 &  6.029481e-06                 & 0.9999865                     & 4                             & APBA3                         & Alanine\\_aminotransferase   \\\\\n",
       "\t Affx-19716376                 & 44332888                      & T                             & TC                            & PNPLA3                        & 0.16295230                    & intron\\_variant              &                               &                               & 22                            & ⋯                             & 2.480588e-05                  & 6.15256e-119                  & 2.11911e-107                  & 4.133258e-217                 & 5.073164e-108                 & 1.456869e-119                 & 1.0000000                     & 4                             & PNPLA3                        & Alanine\\_aminotransferase   \\\\\n",
       "\t Affx-20090007                 & 44066247                      & G                             & C                             & ABCG8                         & 0.06540481                    & missense\\_variant            &                               & ENSP00000272286.2:p.Asp19His  & 2                             & ⋯                             & 5.571264e-05                  &  2.44843e-17                  &  1.35421e-05                  &  8.457752e-16                 &  6.971725e-08                 &  2.269121e-19                 & 0.9999999                     & 4                             & ABCG8                         & Alanine\\_aminotransferase   \\\\\n",
       "\t Affx-22413417                 & 50176739                      & C                             & A                             & SEMA3F-AS1                    & 0.25722407                    & intron\\_variant              &                               &                               & 3                             & ⋯                             & 1.781574e-05                  &  2.43861e-06                  &  6.95206e-02                  &  1.876171e-01                 &  1.524191e-04                 &  1.143639e-08                 & 0.8122305                     & 4                             & LOC100129060                  & Alanine\\_aminotransferase   \\\\\n",
       "\t Affx-26682790                 & 52193237                      & A                             & G                             & ITGA1                         & 0.08134591                    & intron\\_variant              &                               &                               & 5                             & ⋯                             & 4.581774e-05                  &  4.52681e-03                  &  6.20354e-08                  &  2.804715e-04                 &  3.072548e-10                 &  1.217277e-05                 & 0.9997074                     & 4                             & ITGA1                         & Alanine\\_aminotransferase   \\\\\n",
       "\t Affx-28463585                 & 31830593                      & A                             & C                             & NEU1                          & 0.02988194                    & 5\\_prime\\_UTR\\_variant     &                               &                               & 6                             & ⋯                             & 1.199748e-04                  &  6.66880e-05                  &  1.56100e-03                  &  3.699061e-02                 &  3.280478e-06                 &  1.676937e-07                 & 0.9630059                     & 4                             & NEU1                          & Alanine\\_aminotransferase   \\\\\n",
       "\\end{tabular}\n"
      ],
      "text/markdown": [
       "\n",
       "ID | POS | REF | ALT | Gene_symbol | maf | Consequence | LoF | HGVSp | CHR | ⋯ | SE.m | P.f | P.m | p1 | p2 | p3 | p4 | category | gene | trait | \n",
       "|---|---|---|---|---|---|\n",
       "| Affx-15837191                 |  3752874                      | A                             | G                             | APBA3                         | 0.45243249                    | missense_variant              |                               | ENSP00000315136.2:p.Cys376Arg | 19                            | ⋯                             | 1.388680e-05                  |  1.26170e-03                  |  1.67073e-09                  |  7.516764e-06                 |  1.463738e-11                 |  6.029481e-06                 | 0.9999865                     | 4                             | APBA3                         | Alanine_aminotransferase      | \n",
       "| Affx-19716376                 | 44332888                      | T                             | TC                            | PNPLA3                        | 0.16295230                    | intron_variant                |                               |                               | 22                            | ⋯                             | 2.480588e-05                  | 6.15256e-119                  | 2.11911e-107                  | 4.133258e-217                 | 5.073164e-108                 | 1.456869e-119                 | 1.0000000                     | 4                             | PNPLA3                        | Alanine_aminotransferase      | \n",
       "| Affx-20090007                 | 44066247                      | G                             | C                             | ABCG8                         | 0.06540481                    | missense_variant              |                               | ENSP00000272286.2:p.Asp19His  | 2                             | ⋯                             | 5.571264e-05                  |  2.44843e-17                  |  1.35421e-05                  |  8.457752e-16                 |  6.971725e-08                 |  2.269121e-19                 | 0.9999999                     | 4                             | ABCG8                         | Alanine_aminotransferase      | \n",
       "| Affx-22413417                 | 50176739                      | C                             | A                             | SEMA3F-AS1                    | 0.25722407                    | intron_variant                |                               |                               | 3                             | ⋯                             | 1.781574e-05                  |  2.43861e-06                  |  6.95206e-02                  |  1.876171e-01                 |  1.524191e-04                 |  1.143639e-08                 | 0.8122305                     | 4                             | LOC100129060                  | Alanine_aminotransferase      | \n",
       "| Affx-26682790                 | 52193237                      | A                             | G                             | ITGA1                         | 0.08134591                    | intron_variant                |                               |                               | 5                             | ⋯                             | 4.581774e-05                  |  4.52681e-03                  |  6.20354e-08                  |  2.804715e-04                 |  3.072548e-10                 |  1.217277e-05                 | 0.9997074                     | 4                             | ITGA1                         | Alanine_aminotransferase      | \n",
       "| Affx-28463585                 | 31830593                      | A                             | C                             | NEU1                          | 0.02988194                    | 5_prime_UTR_variant           |                               |                               | 6                             | ⋯                             | 1.199748e-04                  |  6.66880e-05                  |  1.56100e-03                  |  3.699061e-02                 |  3.280478e-06                 |  1.676937e-07                 | 0.9630059                     | 4                             | NEU1                          | Alanine_aminotransferase      | \n",
       "\n",
       "\n"
      ],
      "text/plain": [
       "  ID            POS      REF ALT Gene_symbol maf        Consequence         LoF\n",
       "1 Affx-15837191  3752874 A   G   APBA3       0.45243249 missense_variant       \n",
       "2 Affx-19716376 44332888 T   TC  PNPLA3      0.16295230 intron_variant         \n",
       "3 Affx-20090007 44066247 G   C   ABCG8       0.06540481 missense_variant       \n",
       "4 Affx-22413417 50176739 C   A   SEMA3F-AS1  0.25722407 intron_variant         \n",
       "5 Affx-26682790 52193237 A   G   ITGA1       0.08134591 intron_variant         \n",
       "6 Affx-28463585 31830593 A   C   NEU1        0.02988194 5_prime_UTR_variant    \n",
       "  HGVSp                         CHR ⋯ SE.m         P.f          P.m         \n",
       "1 ENSP00000315136.2:p.Cys376Arg 19  ⋯ 1.388680e-05  1.26170e-03  1.67073e-09\n",
       "2                               22  ⋯ 2.480588e-05 6.15256e-119 2.11911e-107\n",
       "3 ENSP00000272286.2:p.Asp19His  2   ⋯ 5.571264e-05  2.44843e-17  1.35421e-05\n",
       "4                               3   ⋯ 1.781574e-05  2.43861e-06  6.95206e-02\n",
       "5                               5   ⋯ 4.581774e-05  4.52681e-03  6.20354e-08\n",
       "6                               6   ⋯ 1.199748e-04  6.66880e-05  1.56100e-03\n",
       "  p1            p2            p3            p4        category gene        \n",
       "1  7.516764e-06  1.463738e-11  6.029481e-06 0.9999865 4        APBA3       \n",
       "2 4.133258e-217 5.073164e-108 1.456869e-119 1.0000000 4        PNPLA3      \n",
       "3  8.457752e-16  6.971725e-08  2.269121e-19 0.9999999 4        ABCG8       \n",
       "4  1.876171e-01  1.524191e-04  1.143639e-08 0.8122305 4        LOC100129060\n",
       "5  2.804715e-04  3.072548e-10  1.217277e-05 0.9997074 4        ITGA1       \n",
       "6  3.699061e-02  3.280478e-06  1.676937e-07 0.9630059 4        NEU1        \n",
       "  trait                   \n",
       "1 Alanine_aminotransferase\n",
       "2 Alanine_aminotransferase\n",
       "3 Alanine_aminotransferase\n",
       "4 Alanine_aminotransferase\n",
       "5 Alanine_aminotransferase\n",
       "6 Alanine_aminotransferase"
      ]
     },
     "metadata": {},
     "output_type": "display_data"
    }
   ],
   "source": [
    "# join\n",
    "comb_x <- right_join(var_w_x, snps, by=c(\"ID\"=\"SNP\")) \n",
    "head(comb_x)\n",
    "\n",
    "\n",
    "out_tab <- comb_x %>% \n",
    "    mutate(trait=str_replace_all(trait, \".adjust.statins\", \"\")) %>%\n",
    "      mutate(CHR=factor(CHR, levels=c(1:22, \"X\", \"XY\"))) %>% # do this to reorder properly\n",
    "      arrange(trait, CHR, POS) %>% \n",
    "      select(-gene) %>% \n",
    "      select(trait, ID, CHR, POS, everything()) %>% \n",
    "      select(-Consequence, -LoF, -HGVSp, Consequence, LoF, HGVSp) %>%\n",
    "     rename( \"MAF\"=\"maf\", \"GENE\"=\"Gene_symbol\")\n",
    "\n"
   ]
  },
  {
   "cell_type": "code",
   "execution_count": 21,
   "metadata": {
    "collapsed": true
   },
   "outputs": [],
   "source": [
    "out_tab_filt <- out_tab %>% filter((category==4 & p4 > 0.8)|(category==3 & p3 > 0.8)|(category==2 & p2 > 0.8))"
   ]
  },
  {
   "cell_type": "code",
   "execution_count": 22,
   "metadata": {},
   "outputs": [
    {
     "data": {
      "text/plain": [
       "                            \n",
       "                                2    3    4\n",
       "  Alanine_aminotransferase      1    1  526\n",
       "  Albumin                       0    0  401\n",
       "  Alkaline_phosphatase          4    5 1355\n",
       "  Apolipoprotein_A              0    1  958\n",
       "  Apolipoprotein_B              0    0 1225\n",
       "  arm_fp                      528   13    3\n",
       "  Aspartate_aminotransferase    2    0  856\n",
       "  C_reactive_protein            1    0  817\n",
       "  Calcium                       0    0  366\n",
       "  Cholesterol                   0    0 1473\n",
       "  Creatinine                    1    1 1376\n",
       "  Creatinine_in_urine           0    0    1\n",
       "  Cystatin_C                    1    1 1268\n",
       "  Direct_bilirubin              0    0  275\n",
       "  eGFR                          1    1 1153\n",
       "  Gamma_glutamyltransferase     0    0 1166\n",
       "  Glucose                       0    0  138\n",
       "  Glycated_haemoglobin_HbA1c    3    3 1409\n",
       "  HDL_cholesterol               4    1 1141\n",
       "  IGF_1                         0    0 1552\n",
       "  LDL_direct                    0    0 1255\n",
       "  leg_fp                      840    0   28\n",
       "  Lipoprotein_A                 0    0  209\n",
       "  Non_albumin_protein           1    0 1375\n",
       "  Phosphate                     1    1  316\n",
       "  Potassium_in_urine            0    0   39\n",
       "  SHBG                          0    1 1104\n",
       "  Sodium_in_urine               0    0    3\n",
       "  Testosterone                120  444   16\n",
       "  Total_bilirubin               0    0  460\n",
       "  Total_protein                 0    0 1040\n",
       "  Triglycerides                 4    1 1169\n",
       "  trunk_fp                   1222    0   33\n",
       "  Urate                         1    2 1002\n",
       "  Urea                          0    0  248\n",
       "  Vitamin_D                     0    0  187\n",
       "  whr                         371    0  101"
      ]
     },
     "metadata": {},
     "output_type": "display_data"
    }
   ],
   "source": [
    "table(out_tab_filt$trait, out_tab_filt$category)"
   ]
  },
  {
   "cell_type": "code",
   "execution_count": 23,
   "metadata": {
    "collapsed": true
   },
   "outputs": [],
   "source": [
    "fat_dist_traits <- c( \"whr\", \"trunk_fp\", \"arm_fp\", \"leg_fp\")\n",
    "count_tab <- out_tab_filt %>% group_by(trait) %>% summarize(n_f=sum(category==2), n_m=sum(category==3), n_s=sum(category==4))\n",
    "count_tab %>% filter(!trait %in% fat_dist_traits) %>%write_csv(\"../data/aggreg_1020/m2_count_by_trait.csv\")\n",
    "count_tab %>% filter(trait %in% fat_dist_traits) %>% write_csv(\"../data/aggreg_1020/m2_count_by_trait_anthro.csv\")"
   ]
  },
  {
   "cell_type": "code",
   "execution_count": 24,
   "metadata": {
    "collapsed": true
   },
   "outputs": [],
   "source": [
    "OUT.DIR <- \"../data/aggreg_1020\"\n",
    "\n",
    "out_tab_filt %>% filter(trait %in%  fat_dist_traits & category==2)  %>% select(-category) %>% arrange(trait, CHR) %>% write_csv(sprintf(\"%s/m2_anthro_1020_f_spec.csv\", OUT.DIR))\n",
    "out_tab_filt %>% filter(trait %in%  fat_dist_traits & category==3)   %>% select(-category) %>%  arrange(trait, CHR) %>% write_csv(sprintf(\"%s/m2_anthro_1020_m_spec.csv\", OUT.DIR))\n",
    "\n",
    "out_tab_filt %>% filter(trait %in% fat_dist_traits & category==4)   %>% select(-category) %>%  arrange(trait, CHR) %>% write_csv(sprintf(\"%s/m2_anthro_1020_shared.csv\", OUT.DIR))\n",
    "\n"
   ]
  },
  {
   "cell_type": "code",
   "execution_count": 25,
   "metadata": {
    "collapsed": true
   },
   "outputs": [],
   "source": [
    "\n",
    "out_tab_filt %>% filter(category==2 & (! trait %in% fat_dist_traits))  %>% select(-category) %>%  arrange(trait, CHR) %>% write_csv(sprintf(\"%s/m2_results_1020_f_spec.csv\", OUT.DIR))\n",
    "out_tab_filt %>% filter(category==3& (! trait %in% fat_dist_traits))  %>% select(-category) %>%  arrange(trait, CHR) %>% write_csv(sprintf(\"%s/m2_results_1020_m_spec.csv\", OUT.DIR))\n",
    "out_tab_filt %>% filter(category==4& (! trait %in% fat_dist_traits))  %>% select(-category) %>%  arrange(trait, CHR) %>% write_csv(sprintf(\"%s/m2_results_1020_shared.csv\", OUT.DIR))"
   ]
  },
  {
   "cell_type": "code",
   "execution_count": 26,
   "metadata": {},
   "outputs": [
    {
     "data": {
      "text/html": [
       "37"
      ],
      "text/latex": [
       "37"
      ],
      "text/markdown": [
       "37"
      ],
      "text/plain": [
       "[1] 37"
      ]
     },
     "metadata": {},
     "output_type": "display_data"
    },
    {
     "data": {
      "text/html": [
       "<table>\n",
       "<thead><tr><th scope=col>trait</th><th scope=col>ID</th><th scope=col>CHR</th><th scope=col>POS</th><th scope=col>REF</th><th scope=col>ALT</th><th scope=col>GENE</th><th scope=col>MAF</th><th scope=col>B.f</th><th scope=col>B.m</th><th scope=col>⋯</th><th scope=col>P.f</th><th scope=col>P.m</th><th scope=col>p1</th><th scope=col>p2</th><th scope=col>p3</th><th scope=col>p4</th><th scope=col>category</th><th scope=col>Consequence</th><th scope=col>LoF</th><th scope=col>HGVSp</th></tr></thead>\n",
       "<tbody>\n",
       "\t<tr><td>trunk_fp               </td><td>rs16839272             </td><td>1                      </td><td>4610733                </td><td>A                      </td><td>C                      </td><td>Z98747.1               </td><td>0.18340890             </td><td>-0.0169529             </td><td>-0.00941858            </td><td>⋯                      </td><td>9.49684e-05            </td><td>0.037907000            </td><td>9.875223e-02           </td><td>0.9010882              </td><td>3.562764e-09           </td><td>1.595559e-04           </td><td>2                      </td><td>downstream_gene_variant</td><td>                       </td><td>                       </td></tr>\n",
       "\t<tr><td>trunk_fp               </td><td>rs112284157            </td><td>1                      </td><td>5934380                </td><td>C                      </td><td>T                      </td><td>NPHP4                  </td><td>0.06047566             </td><td>-0.0276504             </td><td>-0.01202470            </td><td>⋯                      </td><td>8.66827e-05            </td><td>0.105216000            </td><td>8.107636e-02           </td><td>0.9187617              </td><td>2.061025e-09           </td><td>1.619608e-04           </td><td>2                      </td><td>intron_variant         </td><td>                       </td><td>                       </td></tr>\n",
       "\t<tr><td>trunk_fp               </td><td>rs10746487             </td><td>1                      </td><td>9338689                </td><td>T                      </td><td>C                      </td><td>Z98044.1               </td><td>0.27497433             </td><td> 0.0196931             </td><td> 0.00790709            </td><td>⋯                      </td><td>1.89253e-07            </td><td>0.045250600            </td><td>3.517056e-04           </td><td>0.9995057              </td><td>9.505793e-12           </td><td>1.425762e-04           </td><td>2                      </td><td>downstream_gene_variant</td><td>                       </td><td>                       </td></tr>\n",
       "\t<tr><td>trunk_fp               </td><td>rs75573311             </td><td>1                      </td><td>9352234                </td><td>G                      </td><td>A                      </td><td>SPSB1                  </td><td>0.04494055             </td><td> 0.0410276             </td><td> 0.00511548            </td><td>⋯                      </td><td>4.16906e-07            </td><td>0.545720000            </td><td>8.812502e-04           </td><td>0.9989970              </td><td>8.256466e-12           </td><td>1.217472e-04           </td><td>2                      </td><td>upstream_gene_variant  </td><td>                       </td><td>                       </td></tr>\n",
       "\t<tr><td>trunk_fp               </td><td>rs2072734              </td><td>1                      </td><td>9356065                </td><td>C                      </td><td>T                      </td><td>SPSB1                  </td><td>0.24872985             </td><td> 0.0222505             </td><td> 0.01548430            </td><td>⋯                      </td><td>1.05791e-08            </td><td>0.000136098            </td><td>2.194861e-05           </td><td>0.9700148              </td><td>1.189384e-10           </td><td>2.996327e-02           </td><td>2                      </td><td>intron_variant         </td><td>                       </td><td>                       </td></tr>\n",
       "\t<tr><td>trunk_fp               </td><td>rs75581935             </td><td>1                      </td><td>9364692                </td><td>C                      </td><td>T                      </td><td>SPSB1                  </td><td>0.07781401             </td><td>-0.0231063             </td><td>-0.00498054            </td><td>⋯                      </td><td>2.31657e-04            </td><td>0.447745000            </td><td>1.747307e-01           </td><td>0.8252300              </td><td>1.409832e-09           </td><td>3.929108e-05           </td><td>2                      </td><td>intron_variant         </td><td>                       </td><td>                       </td></tr>\n",
       "</tbody>\n",
       "</table>\n"
      ],
      "text/latex": [
       "\\begin{tabular}{r|llllllllllllllllllllll}\n",
       " trait & ID & CHR & POS & REF & ALT & GENE & MAF & B.f & B.m & ⋯ & P.f & P.m & p1 & p2 & p3 & p4 & category & Consequence & LoF & HGVSp\\\\\n",
       "\\hline\n",
       "\t trunk\\_fp                  & rs16839272                  & 1                           & 4610733                     & A                           & C                           & Z98747.1                    & 0.18340890                  & -0.0169529                  & -0.00941858                 & ⋯                           & 9.49684e-05                 & 0.037907000                 & 9.875223e-02                & 0.9010882                   & 3.562764e-09                & 1.595559e-04                & 2                           & downstream\\_gene\\_variant &                             &                            \\\\\n",
       "\t trunk\\_fp                & rs112284157               & 1                         & 5934380                   & C                         & T                         & NPHP4                     & 0.06047566                & -0.0276504                & -0.01202470               & ⋯                         & 8.66827e-05               & 0.105216000               & 8.107636e-02              & 0.9187617                 & 2.061025e-09              & 1.619608e-04              & 2                         & intron\\_variant          &                           &                          \\\\\n",
       "\t trunk\\_fp                  & rs10746487                  & 1                           & 9338689                     & T                           & C                           & Z98044.1                    & 0.27497433                  &  0.0196931                  &  0.00790709                 & ⋯                           & 1.89253e-07                 & 0.045250600                 & 3.517056e-04                & 0.9995057                   & 9.505793e-12                & 1.425762e-04                & 2                           & downstream\\_gene\\_variant &                             &                            \\\\\n",
       "\t trunk\\_fp                  & rs75573311                  & 1                           & 9352234                     & G                           & A                           & SPSB1                       & 0.04494055                  &  0.0410276                  &  0.00511548                 & ⋯                           & 4.16906e-07                 & 0.545720000                 & 8.812502e-04                & 0.9989970                   & 8.256466e-12                & 1.217472e-04                & 2                           & upstream\\_gene\\_variant   &                             &                            \\\\\n",
       "\t trunk\\_fp                & rs2072734                 & 1                         & 9356065                   & C                         & T                         & SPSB1                     & 0.24872985                &  0.0222505                &  0.01548430               & ⋯                         & 1.05791e-08               & 0.000136098               & 2.194861e-05              & 0.9700148                 & 1.189384e-10              & 2.996327e-02              & 2                         & intron\\_variant          &                           &                          \\\\\n",
       "\t trunk\\_fp                & rs75581935                & 1                         & 9364692                   & C                         & T                         & SPSB1                     & 0.07781401                & -0.0231063                & -0.00498054               & ⋯                         & 2.31657e-04               & 0.447745000               & 1.747307e-01              & 0.8252300                 & 1.409832e-09              & 3.929108e-05              & 2                         & intron\\_variant          &                           &                          \\\\\n",
       "\\end{tabular}\n"
      ],
      "text/markdown": [
       "\n",
       "trait | ID | CHR | POS | REF | ALT | GENE | MAF | B.f | B.m | ⋯ | P.f | P.m | p1 | p2 | p3 | p4 | category | Consequence | LoF | HGVSp | \n",
       "|---|---|---|---|---|---|\n",
       "| trunk_fp                | rs16839272              | 1                       | 4610733                 | A                       | C                       | Z98747.1                | 0.18340890              | -0.0169529              | -0.00941858             | ⋯                       | 9.49684e-05             | 0.037907000             | 9.875223e-02            | 0.9010882               | 3.562764e-09            | 1.595559e-04            | 2                       | downstream_gene_variant |                         |                         | \n",
       "| trunk_fp                | rs112284157             | 1                       | 5934380                 | C                       | T                       | NPHP4                   | 0.06047566              | -0.0276504              | -0.01202470             | ⋯                       | 8.66827e-05             | 0.105216000             | 8.107636e-02            | 0.9187617               | 2.061025e-09            | 1.619608e-04            | 2                       | intron_variant          |                         |                         | \n",
       "| trunk_fp                | rs10746487              | 1                       | 9338689                 | T                       | C                       | Z98044.1                | 0.27497433              |  0.0196931              |  0.00790709             | ⋯                       | 1.89253e-07             | 0.045250600             | 3.517056e-04            | 0.9995057               | 9.505793e-12            | 1.425762e-04            | 2                       | downstream_gene_variant |                         |                         | \n",
       "| trunk_fp                | rs75573311              | 1                       | 9352234                 | G                       | A                       | SPSB1                   | 0.04494055              |  0.0410276              |  0.00511548             | ⋯                       | 4.16906e-07             | 0.545720000             | 8.812502e-04            | 0.9989970               | 8.256466e-12            | 1.217472e-04            | 2                       | upstream_gene_variant   |                         |                         | \n",
       "| trunk_fp                | rs2072734               | 1                       | 9356065                 | C                       | T                       | SPSB1                   | 0.24872985              |  0.0222505              |  0.01548430             | ⋯                       | 1.05791e-08             | 0.000136098             | 2.194861e-05            | 0.9700148               | 1.189384e-10            | 2.996327e-02            | 2                       | intron_variant          |                         |                         | \n",
       "| trunk_fp                | rs75581935              | 1                       | 9364692                 | C                       | T                       | SPSB1                   | 0.07781401              | -0.0231063              | -0.00498054             | ⋯                       | 2.31657e-04             | 0.447745000             | 1.747307e-01            | 0.8252300               | 1.409832e-09            | 3.929108e-05            | 2                       | intron_variant          |                         |                         | \n",
       "\n",
       "\n"
      ],
      "text/plain": [
       "  trait    ID          CHR POS     REF ALT GENE     MAF        B.f       \n",
       "1 trunk_fp rs16839272  1   4610733 A   C   Z98747.1 0.18340890 -0.0169529\n",
       "2 trunk_fp rs112284157 1   5934380 C   T   NPHP4    0.06047566 -0.0276504\n",
       "3 trunk_fp rs10746487  1   9338689 T   C   Z98044.1 0.27497433  0.0196931\n",
       "4 trunk_fp rs75573311  1   9352234 G   A   SPSB1    0.04494055  0.0410276\n",
       "5 trunk_fp rs2072734   1   9356065 C   T   SPSB1    0.24872985  0.0222505\n",
       "6 trunk_fp rs75581935  1   9364692 C   T   SPSB1    0.07781401 -0.0231063\n",
       "  B.m         ⋯ P.f         P.m         p1           p2        p3          \n",
       "1 -0.00941858 ⋯ 9.49684e-05 0.037907000 9.875223e-02 0.9010882 3.562764e-09\n",
       "2 -0.01202470 ⋯ 8.66827e-05 0.105216000 8.107636e-02 0.9187617 2.061025e-09\n",
       "3  0.00790709 ⋯ 1.89253e-07 0.045250600 3.517056e-04 0.9995057 9.505793e-12\n",
       "4  0.00511548 ⋯ 4.16906e-07 0.545720000 8.812502e-04 0.9989970 8.256466e-12\n",
       "5  0.01548430 ⋯ 1.05791e-08 0.000136098 2.194861e-05 0.9700148 1.189384e-10\n",
       "6 -0.00498054 ⋯ 2.31657e-04 0.447745000 1.747307e-01 0.8252300 1.409832e-09\n",
       "  p4           category Consequence             LoF HGVSp\n",
       "1 1.595559e-04 2        downstream_gene_variant          \n",
       "2 1.619608e-04 2        intron_variant                   \n",
       "3 1.425762e-04 2        downstream_gene_variant          \n",
       "4 1.217472e-04 2        upstream_gene_variant            \n",
       "5 2.996327e-02 2        intron_variant                   \n",
       "6 3.929108e-05 2        intron_variant                   "
      ]
     },
     "metadata": {},
     "output_type": "display_data"
    }
   ],
   "source": [
    "length(unique(out_tab$trait))\n",
    "\n",
    "out_tab_filt %>% filter(trait==\"trunk_fp\" & category==2) %>% head()"
   ]
  },
  {
   "cell_type": "markdown",
   "metadata": {},
   "source": [
    "### Calculate FDR"
   ]
  },
  {
   "cell_type": "code",
   "execution_count": 3,
   "metadata": {
    "collapsed": true
   },
   "outputs": [],
   "source": [
    "rownames(snps) <- NULL"
   ]
  },
  {
   "cell_type": "code",
   "execution_count": 6,
   "metadata": {},
   "outputs": [
    {
     "name": "stderr",
     "output_type": "stream",
     "text": [
      "Loading required package: tidyverse\n",
      "── Attaching packages ─────────────────────────────────────── tidyverse 1.2.1 ──\n",
      "✔ ggplot2 2.2.1     ✔ purrr   0.2.4\n",
      "✔ tibble  1.4.2     ✔ dplyr   0.7.4\n",
      "✔ tidyr   0.8.1     ✔ stringr 1.3.0\n",
      "✔ readr   1.1.1     ✔ forcats 0.3.0\n",
      "── Conflicts ────────────────────────────────────────── tidyverse_conflicts() ──\n",
      "✖ dplyr::filter() masks stats::filter()\n",
      "✖ dplyr::lag()    masks stats::lag()\n"
     ]
    },
    {
     "data": {
      "text/html": [
       "<table>\n",
       "<thead><tr><th></th><th scope=col>trait</th><th scope=col>cutoff</th><th scope=col>f</th><th scope=col>m</th><th scope=col>s</th></tr></thead>\n",
       "<tbody>\n",
       "\t<tr><th scope=row>snps4_Alanine_aminotransferase.txt.1</th><td>Alanine_aminotransferase</td><td>0.5                     </td><td>NA                      </td><td>NA                      </td><td>0.10722329              </td></tr>\n",
       "\t<tr><th scope=row>snps4_Alanine_aminotransferase.txt.2</th><td>Alanine_aminotransferase</td><td>0.6                     </td><td>NA                      </td><td>NA                      </td><td>0.07667363              </td></tr>\n",
       "\t<tr><th scope=row>snps4_Alanine_aminotransferase.txt.3</th><td>Alanine_aminotransferase</td><td>0.7                     </td><td>NA                      </td><td>NA                      </td><td>0.05457251              </td></tr>\n",
       "\t<tr><th scope=row>snps4_Alanine_aminotransferase.txt.4</th><td>Alanine_aminotransferase</td><td>0.8                     </td><td>NA                      </td><td>NA                      </td><td>0.03163543              </td></tr>\n",
       "\t<tr><th scope=row>snps4_Alanine_aminotransferase.txt.5</th><td>Alanine_aminotransferase</td><td>0.9                     </td><td>NA                      </td><td>NA                      </td><td>0.01533603              </td></tr>\n",
       "\t<tr><th scope=row>snps4_Albumin.txt.1</th><td>Albumin                 </td><td>0.5                     </td><td>NA                      </td><td>NA                      </td><td>0.12555684              </td></tr>\n",
       "</tbody>\n",
       "</table>\n"
      ],
      "text/latex": [
       "\\begin{tabular}{r|lllll}\n",
       "  & trait & cutoff & f & m & s\\\\\n",
       "\\hline\n",
       "\tsnps4\\_Alanine\\_aminotransferase.txt.1 & Alanine\\_aminotransferase & 0.5                        & NA                         & NA                         & 0.10722329                \\\\\n",
       "\tsnps4\\_Alanine\\_aminotransferase.txt.2 & Alanine\\_aminotransferase & 0.6                        & NA                         & NA                         & 0.07667363                \\\\\n",
       "\tsnps4\\_Alanine\\_aminotransferase.txt.3 & Alanine\\_aminotransferase & 0.7                        & NA                         & NA                         & 0.05457251                \\\\\n",
       "\tsnps4\\_Alanine\\_aminotransferase.txt.4 & Alanine\\_aminotransferase & 0.8                        & NA                         & NA                         & 0.03163543                \\\\\n",
       "\tsnps4\\_Alanine\\_aminotransferase.txt.5 & Alanine\\_aminotransferase & 0.9                        & NA                         & NA                         & 0.01533603                \\\\\n",
       "\tsnps4\\_Albumin.txt.1 & Albumin                  & 0.5                      & NA                       & NA                       & 0.12555684              \\\\\n",
       "\\end{tabular}\n"
      ],
      "text/markdown": [
       "\n",
       "| <!--/--> | trait | cutoff | f | m | s | \n",
       "|---|---|---|---|---|---|\n",
       "| snps4_Alanine_aminotransferase.txt.1 | Alanine_aminotransferase | 0.5                      | NA                       | NA                       | 0.10722329               | \n",
       "| snps4_Alanine_aminotransferase.txt.2 | Alanine_aminotransferase | 0.6                      | NA                       | NA                       | 0.07667363               | \n",
       "| snps4_Alanine_aminotransferase.txt.3 | Alanine_aminotransferase | 0.7                      | NA                       | NA                       | 0.05457251               | \n",
       "| snps4_Alanine_aminotransferase.txt.4 | Alanine_aminotransferase | 0.8                      | NA                       | NA                       | 0.03163543               | \n",
       "| snps4_Alanine_aminotransferase.txt.5 | Alanine_aminotransferase | 0.9                      | NA                       | NA                       | 0.01533603               | \n",
       "| snps4_Albumin.txt.1 | Albumin                  | 0.5                      | NA                       | NA                       | 0.12555684               | \n",
       "\n",
       "\n"
      ],
      "text/plain": [
       "                                     trait                    cutoff f  m \n",
       "snps4_Alanine_aminotransferase.txt.1 Alanine_aminotransferase 0.5    NA NA\n",
       "snps4_Alanine_aminotransferase.txt.2 Alanine_aminotransferase 0.6    NA NA\n",
       "snps4_Alanine_aminotransferase.txt.3 Alanine_aminotransferase 0.7    NA NA\n",
       "snps4_Alanine_aminotransferase.txt.4 Alanine_aminotransferase 0.8    NA NA\n",
       "snps4_Alanine_aminotransferase.txt.5 Alanine_aminotransferase 0.9    NA NA\n",
       "snps4_Albumin.txt.1                  Albumin                  0.5    NA NA\n",
       "                                     s         \n",
       "snps4_Alanine_aminotransferase.txt.1 0.10722329\n",
       "snps4_Alanine_aminotransferase.txt.2 0.07667363\n",
       "snps4_Alanine_aminotransferase.txt.3 0.05457251\n",
       "snps4_Alanine_aminotransferase.txt.4 0.03163543\n",
       "snps4_Alanine_aminotransferase.txt.5 0.01533603\n",
       "snps4_Albumin.txt.1                  0.12555684"
      ]
     },
     "metadata": {},
     "output_type": "display_data"
    }
   ],
   "source": [
    "require('tidyverse')\n",
    "#fdr_traits <- c(fat_dist_traits, \"Testosterone\")\n",
    "cutoff <- 0.8\n",
    "calcFDRM2 <- function(trait.name, cutoff){\n",
    "    f_t <- snps %>% filter(trait==trait.name & category==2 & p2 > cutoff) \n",
    "    m_t <- snps %>% filter(trait==trait.name & category==3 & p3 > cutoff) \n",
    "    s_t <- snps %>% filter(trait==trait.name & category==4 & p4 > cutoff)\n",
    "    \n",
    "    f_fdr <- ifelse(length(f_t$p1) > 5, sum(f_t$p1)/(length(f_t$p2)), NA)\n",
    "    m_fdr <- ifelse(length(m_t$p1) > 5, sum(m_t$p1)/(length(m_t$p3)), NA)\n",
    "    s_fdr <- ifelse(length(s_t$p1) > 5, sum(s_t$p1)/(length(s_t$p4)), NA)\n",
    "\n",
    "    return(data.frame(list(\"trait\"=trait.name, \"cutoff\"=cutoff, \"f\"=f_fdr, \"m\"=m_fdr, \"s\"=s_fdr)))\n",
    "}\n",
    "\n",
    "fdr_tabs <- do.call(rbind, lapply(m2_biomarkers, function(trait) \n",
    "                   do.call(rbind, lapply(seq(0.5, 0.9, 0.1), \n",
    "                                         function(cutoff) calcFDRM2(trait, cutoff)))))\n",
    "fdr_tabs %>% head()\n",
    "                                             "
   ]
  },
  {
   "cell_type": "code",
   "execution_count": 8,
   "metadata": {
    "collapsed": true
   },
   "outputs": [],
   "source": [
    "rownames(fdr_tabs ) <- NULL\n",
    "fat_dist <- c(\"arm_fp\", \"leg_fp\", \"whr\", \"trunk_fp\")\n",
    "fdr_tabs %>% filter(trait %in% fat_dist) %>% write_csv(\"../data/res_1023/m2_fdr_anthro.csv\")\n",
    "fdr_tabs %>% filter(!trait %in% fat_dist) %>% write_csv(\"../data/res_1023/m2_fdr_biomarker.csv\")"
   ]
  },
  {
   "cell_type": "code",
   "execution_count": 29,
   "metadata": {},
   "outputs": [
    {
     "data": {
      "text/html": [
       "<table>\n",
       "<thead><tr><th scope=col>trait</th><th scope=col>cutoff</th><th scope=col>f</th><th scope=col>m</th><th scope=col>s</th></tr></thead>\n",
       "<tbody>\n",
       "\t<tr><td>whr         </td><td>0.5         </td><td>0.18546324  </td><td>       NaN  </td><td>6.695070e-02</td></tr>\n",
       "\t<tr><td>whr         </td><td>0.6         </td><td>0.13214246  </td><td>       NaN  </td><td>4.488596e-02</td></tr>\n",
       "\t<tr><td>whr         </td><td>0.7         </td><td>0.08610150  </td><td>       NaN  </td><td>3.132725e-02</td></tr>\n",
       "\t<tr><td>whr         </td><td>0.8         </td><td>0.04712693  </td><td>       NaN  </td><td>2.075673e-02</td></tr>\n",
       "\t<tr><td>whr         </td><td>0.9         </td><td>0.01986949  </td><td>       NaN  </td><td>8.998706e-03</td></tr>\n",
       "\t<tr><td>trunk_fp    </td><td>0.5         </td><td>0.20739610  </td><td>       NaN  </td><td>4.529693e-02</td></tr>\n",
       "\t<tr><td>trunk_fp    </td><td>0.6         </td><td>0.14850143  </td><td>       NaN  </td><td>3.158411e-02</td></tr>\n",
       "\t<tr><td>trunk_fp    </td><td>0.7         </td><td>0.10047712  </td><td>       NaN  </td><td>2.351658e-02</td></tr>\n",
       "\t<tr><td>trunk_fp    </td><td>0.8         </td><td>0.06172645  </td><td>       NaN  </td><td>7.780724e-03</td></tr>\n",
       "\t<tr><td>trunk_fp    </td><td>0.9         </td><td>0.02648289  </td><td>       NaN  </td><td>2.588807e-03</td></tr>\n",
       "\t<tr><td>arm_fp      </td><td>0.5         </td><td>0.22528083  </td><td>0.10796563  </td><td>1.334584e-05</td></tr>\n",
       "\t<tr><td>arm_fp      </td><td>0.6         </td><td>0.16566753  </td><td>0.08916391  </td><td>1.334584e-05</td></tr>\n",
       "\t<tr><td>arm_fp      </td><td>0.7         </td><td>0.12004397  </td><td>0.03187060  </td><td>1.044117e-05</td></tr>\n",
       "\t<tr><td>arm_fp      </td><td>0.8         </td><td>0.06608693  </td><td>0.01667469  </td><td>1.044117e-05</td></tr>\n",
       "\t<tr><td>arm_fp      </td><td>0.9         </td><td>0.03170622  </td><td>0.01667469  </td><td>1.044117e-05</td></tr>\n",
       "\t<tr><td>leg_fp      </td><td>0.5         </td><td>0.21069545  </td><td>       NaN  </td><td>5.312675e-02</td></tr>\n",
       "\t<tr><td>leg_fp      </td><td>0.6         </td><td>0.15409066  </td><td>       NaN  </td><td>3.723977e-02</td></tr>\n",
       "\t<tr><td>leg_fp      </td><td>0.7         </td><td>0.10466621  </td><td>       NaN  </td><td>3.687907e-02</td></tr>\n",
       "\t<tr><td>leg_fp      </td><td>0.8         </td><td>0.06130710  </td><td>       NaN  </td><td>1.484822e-02</td></tr>\n",
       "\t<tr><td>leg_fp      </td><td>0.9         </td><td>0.02827878  </td><td>       NaN  </td><td>5.568712e-03</td></tr>\n",
       "\t<tr><td>Testosterone</td><td>0.5         </td><td>0.10608815  </td><td>0.13550035  </td><td>6.124171e-03</td></tr>\n",
       "\t<tr><td>Testosterone</td><td>0.6         </td><td>0.07518936  </td><td>0.09478719  </td><td>6.484416e-03</td></tr>\n",
       "\t<tr><td>Testosterone</td><td>0.7         </td><td>0.04729180  </td><td>0.06725640  </td><td>6.484416e-03</td></tr>\n",
       "\t<tr><td>Testosterone</td><td>0.8         </td><td>0.02899058  </td><td>0.03873294  </td><td>6.889547e-03</td></tr>\n",
       "\t<tr><td>Testosterone</td><td>0.9         </td><td>0.01110733  </td><td>0.01705775  </td><td>1.592810e-03</td></tr>\n",
       "</tbody>\n",
       "</table>\n"
      ],
      "text/latex": [
       "\\begin{tabular}{r|lllll}\n",
       " trait & cutoff & f & m & s\\\\\n",
       "\\hline\n",
       "\t whr          & 0.5          & 0.18546324   &        NaN   & 6.695070e-02\\\\\n",
       "\t whr          & 0.6          & 0.13214246   &        NaN   & 4.488596e-02\\\\\n",
       "\t whr          & 0.7          & 0.08610150   &        NaN   & 3.132725e-02\\\\\n",
       "\t whr          & 0.8          & 0.04712693   &        NaN   & 2.075673e-02\\\\\n",
       "\t whr          & 0.9          & 0.01986949   &        NaN   & 8.998706e-03\\\\\n",
       "\t trunk\\_fp     & 0.5            & 0.20739610     &        NaN     & 4.529693e-02  \\\\\n",
       "\t trunk\\_fp     & 0.6            & 0.14850143     &        NaN     & 3.158411e-02  \\\\\n",
       "\t trunk\\_fp     & 0.7            & 0.10047712     &        NaN     & 2.351658e-02  \\\\\n",
       "\t trunk\\_fp     & 0.8            & 0.06172645     &        NaN     & 7.780724e-03  \\\\\n",
       "\t trunk\\_fp     & 0.9            & 0.02648289     &        NaN     & 2.588807e-03  \\\\\n",
       "\t arm\\_fp       & 0.5            & 0.22528083     & 0.10796563     & 1.334584e-05  \\\\\n",
       "\t arm\\_fp       & 0.6            & 0.16566753     & 0.08916391     & 1.334584e-05  \\\\\n",
       "\t arm\\_fp       & 0.7            & 0.12004397     & 0.03187060     & 1.044117e-05  \\\\\n",
       "\t arm\\_fp       & 0.8            & 0.06608693     & 0.01667469     & 1.044117e-05  \\\\\n",
       "\t arm\\_fp       & 0.9            & 0.03170622     & 0.01667469     & 1.044117e-05  \\\\\n",
       "\t leg\\_fp       & 0.5            & 0.21069545     &        NaN     & 5.312675e-02  \\\\\n",
       "\t leg\\_fp       & 0.6            & 0.15409066     &        NaN     & 3.723977e-02  \\\\\n",
       "\t leg\\_fp       & 0.7            & 0.10466621     &        NaN     & 3.687907e-02  \\\\\n",
       "\t leg\\_fp       & 0.8            & 0.06130710     &        NaN     & 1.484822e-02  \\\\\n",
       "\t leg\\_fp       & 0.9            & 0.02827878     &        NaN     & 5.568712e-03  \\\\\n",
       "\t Testosterone & 0.5          & 0.10608815   & 0.13550035   & 6.124171e-03\\\\\n",
       "\t Testosterone & 0.6          & 0.07518936   & 0.09478719   & 6.484416e-03\\\\\n",
       "\t Testosterone & 0.7          & 0.04729180   & 0.06725640   & 6.484416e-03\\\\\n",
       "\t Testosterone & 0.8          & 0.02899058   & 0.03873294   & 6.889547e-03\\\\\n",
       "\t Testosterone & 0.9          & 0.01110733   & 0.01705775   & 1.592810e-03\\\\\n",
       "\\end{tabular}\n"
      ],
      "text/markdown": [
       "\n",
       "trait | cutoff | f | m | s | \n",
       "|---|---|---|---|---|---|---|---|---|---|---|---|---|---|---|---|---|---|---|---|---|---|---|---|---|\n",
       "| whr          | 0.5          | 0.18546324   |        NaN   | 6.695070e-02 | \n",
       "| whr          | 0.6          | 0.13214246   |        NaN   | 4.488596e-02 | \n",
       "| whr          | 0.7          | 0.08610150   |        NaN   | 3.132725e-02 | \n",
       "| whr          | 0.8          | 0.04712693   |        NaN   | 2.075673e-02 | \n",
       "| whr          | 0.9          | 0.01986949   |        NaN   | 8.998706e-03 | \n",
       "| trunk_fp     | 0.5          | 0.20739610   |        NaN   | 4.529693e-02 | \n",
       "| trunk_fp     | 0.6          | 0.14850143   |        NaN   | 3.158411e-02 | \n",
       "| trunk_fp     | 0.7          | 0.10047712   |        NaN   | 2.351658e-02 | \n",
       "| trunk_fp     | 0.8          | 0.06172645   |        NaN   | 7.780724e-03 | \n",
       "| trunk_fp     | 0.9          | 0.02648289   |        NaN   | 2.588807e-03 | \n",
       "| arm_fp       | 0.5          | 0.22528083   | 0.10796563   | 1.334584e-05 | \n",
       "| arm_fp       | 0.6          | 0.16566753   | 0.08916391   | 1.334584e-05 | \n",
       "| arm_fp       | 0.7          | 0.12004397   | 0.03187060   | 1.044117e-05 | \n",
       "| arm_fp       | 0.8          | 0.06608693   | 0.01667469   | 1.044117e-05 | \n",
       "| arm_fp       | 0.9          | 0.03170622   | 0.01667469   | 1.044117e-05 | \n",
       "| leg_fp       | 0.5          | 0.21069545   |        NaN   | 5.312675e-02 | \n",
       "| leg_fp       | 0.6          | 0.15409066   |        NaN   | 3.723977e-02 | \n",
       "| leg_fp       | 0.7          | 0.10466621   |        NaN   | 3.687907e-02 | \n",
       "| leg_fp       | 0.8          | 0.06130710   |        NaN   | 1.484822e-02 | \n",
       "| leg_fp       | 0.9          | 0.02827878   |        NaN   | 5.568712e-03 | \n",
       "| Testosterone | 0.5          | 0.10608815   | 0.13550035   | 6.124171e-03 | \n",
       "| Testosterone | 0.6          | 0.07518936   | 0.09478719   | 6.484416e-03 | \n",
       "| Testosterone | 0.7          | 0.04729180   | 0.06725640   | 6.484416e-03 | \n",
       "| Testosterone | 0.8          | 0.02899058   | 0.03873294   | 6.889547e-03 | \n",
       "| Testosterone | 0.9          | 0.01110733   | 0.01705775   | 1.592810e-03 | \n",
       "\n",
       "\n"
      ],
      "text/plain": [
       "   trait        cutoff f          m          s           \n",
       "1  whr          0.5    0.18546324        NaN 6.695070e-02\n",
       "2  whr          0.6    0.13214246        NaN 4.488596e-02\n",
       "3  whr          0.7    0.08610150        NaN 3.132725e-02\n",
       "4  whr          0.8    0.04712693        NaN 2.075673e-02\n",
       "5  whr          0.9    0.01986949        NaN 8.998706e-03\n",
       "6  trunk_fp     0.5    0.20739610        NaN 4.529693e-02\n",
       "7  trunk_fp     0.6    0.14850143        NaN 3.158411e-02\n",
       "8  trunk_fp     0.7    0.10047712        NaN 2.351658e-02\n",
       "9  trunk_fp     0.8    0.06172645        NaN 7.780724e-03\n",
       "10 trunk_fp     0.9    0.02648289        NaN 2.588807e-03\n",
       "11 arm_fp       0.5    0.22528083 0.10796563 1.334584e-05\n",
       "12 arm_fp       0.6    0.16566753 0.08916391 1.334584e-05\n",
       "13 arm_fp       0.7    0.12004397 0.03187060 1.044117e-05\n",
       "14 arm_fp       0.8    0.06608693 0.01667469 1.044117e-05\n",
       "15 arm_fp       0.9    0.03170622 0.01667469 1.044117e-05\n",
       "16 leg_fp       0.5    0.21069545        NaN 5.312675e-02\n",
       "17 leg_fp       0.6    0.15409066        NaN 3.723977e-02\n",
       "18 leg_fp       0.7    0.10466621        NaN 3.687907e-02\n",
       "19 leg_fp       0.8    0.06130710        NaN 1.484822e-02\n",
       "20 leg_fp       0.9    0.02827878        NaN 5.568712e-03\n",
       "21 Testosterone 0.5    0.10608815 0.13550035 6.124171e-03\n",
       "22 Testosterone 0.6    0.07518936 0.09478719 6.484416e-03\n",
       "23 Testosterone 0.7    0.04729180 0.06725640 6.484416e-03\n",
       "24 Testosterone 0.8    0.02899058 0.03873294 6.889547e-03\n",
       "25 Testosterone 0.9    0.01110733 0.01705775 1.592810e-03"
      ]
     },
     "metadata": {},
     "output_type": "display_data"
    }
   ],
   "source": [
    "fdr_tabs %>% filter(trait %in% c(\"arm_fp\", \"leg_fp\", \"whr\", \"trunk_fp\", \"Testosterone\"))\n",
    "\n",
    "fdr_tabs %>% write_csv(\"../data/aggreg_1020/fdr_m2.csv\")"
   ]
  },
  {
   "cell_type": "markdown",
   "metadata": {},
   "source": [
    "### Look at GWAS output"
   ]
  },
  {
   "cell_type": "code",
   "execution_count": 83,
   "metadata": {},
   "outputs": [
    {
     "name": "stderr",
     "output_type": "stream",
     "text": [
      "Parsed with column specification:\n",
      "cols(\n",
      "  `#CHROM` = col_character(),\n",
      "  POS = col_integer(),\n",
      "  ID = col_character(),\n",
      "  REF = col_character(),\n",
      "  ALT = col_character(),\n",
      "  A1 = col_character(),\n",
      "  TEST = col_character(),\n",
      "  OBS_CT = col_integer(),\n",
      "  BETA = col_double(),\n",
      "  SE = col_double(),\n",
      "  T_STAT = col_double(),\n",
      "  P = col_double()\n",
      ")\n",
      "Parsed with column specification:\n",
      "cols(\n",
      "  `#CHROM` = col_character(),\n",
      "  POS = col_integer(),\n",
      "  ID = col_character(),\n",
      "  REF = col_character(),\n",
      "  ALT = col_character(),\n",
      "  A1 = col_character(),\n",
      "  TEST = col_character(),\n",
      "  OBS_CT = col_integer(),\n",
      "  BETA = col_double(),\n",
      "  SE = col_double(),\n",
      "  T_STAT = col_double(),\n",
      "  P = col_double()\n",
      ")\n"
     ]
    }
   ],
   "source": [
    "m_out <- read_tsv(\"../gwas_valid/ukb24983_v2_hg19.Testosterone_onesex.genotyped.glm.linear\")  # 9851\n",
    "f_out <- read_tsv(\"../gwas_valid/ukb24983_v2_hg19.Testosterone_zerosex.genotyped.glm.linear\") # 11388"
   ]
  },
  {
   "cell_type": "code",
   "execution_count": 88,
   "metadata": {},
   "outputs": [
    {
     "data": {
      "text/html": [
       "<table>\n",
       "<thead><tr><th scope=col>#CHROM</th><th scope=col>POS</th><th scope=col>ID</th><th scope=col>REF</th><th scope=col>ALT</th><th scope=col>A1</th><th scope=col>TEST</th><th scope=col>OBS_CT</th><th scope=col>BETA</th><th scope=col>SE</th><th scope=col>T_STAT</th><th scope=col>P</th></tr></thead>\n",
       "<tbody>\n",
       "\t<tr><td>XY         </td><td> 60425     </td><td>rs34557243 </td><td>C          </td><td>A          </td><td>A          </td><td>ADD        </td><td>9812       </td><td>-0.00940504</td><td>0.0398640  </td><td>-0.235928  </td><td>0.813493   </td></tr>\n",
       "\t<tr><td>XY         </td><td> 60454     </td><td>rs28494123 </td><td>A          </td><td>G          </td><td>G          </td><td>ADD        </td><td>9771       </td><td> 0.01182190</td><td>0.0140065  </td><td> 0.844029  </td><td>0.398674   </td></tr>\n",
       "\t<tr><td>XY         </td><td> 61067     </td><td>rs28590175 </td><td>A          </td><td>G          </td><td>G          </td><td>ADD        </td><td>9840       </td><td>-0.01526750</td><td>0.0392121  </td><td>-0.389356  </td><td>0.697021   </td></tr>\n",
       "\t<tr><td>XY         </td><td> 62079     </td><td>rs117654552</td><td>C          </td><td>G          </td><td>G          </td><td>ADD        </td><td>9833       </td><td>-0.01961520</td><td>0.0394599  </td><td>-0.497093  </td><td>0.619135   </td></tr>\n",
       "\t<tr><td>XY         </td><td> 62615     </td><td>rs28491545 </td><td>A          </td><td>C          </td><td>C          </td><td>ADD        </td><td>9836       </td><td> 0.00707210</td><td>0.0139789  </td><td> 0.505913  </td><td>0.612929   </td></tr>\n",
       "\t<tr><td>XY         </td><td>167755     </td><td>rs73174453 </td><td>G          </td><td>T          </td><td>T          </td><td>ADD        </td><td>9823       </td><td>-0.01837010</td><td>0.0141680  </td><td>-1.296590  </td><td>0.194803   </td></tr>\n",
       "</tbody>\n",
       "</table>\n"
      ],
      "text/latex": [
       "\\begin{tabular}{r|llllllllllll}\n",
       " \\#CHROM & POS & ID & REF & ALT & A1 & TEST & OBS\\_CT & BETA & SE & T\\_STAT & P\\\\\n",
       "\\hline\n",
       "\t XY          &  60425      & rs34557243  & C           & A           & A           & ADD         & 9812        & -0.00940504 & 0.0398640   & -0.235928   & 0.813493   \\\\\n",
       "\t XY          &  60454      & rs28494123  & A           & G           & G           & ADD         & 9771        &  0.01182190 & 0.0140065   &  0.844029   & 0.398674   \\\\\n",
       "\t XY          &  61067      & rs28590175  & A           & G           & G           & ADD         & 9840        & -0.01526750 & 0.0392121   & -0.389356   & 0.697021   \\\\\n",
       "\t XY          &  62079      & rs117654552 & C           & G           & G           & ADD         & 9833        & -0.01961520 & 0.0394599   & -0.497093   & 0.619135   \\\\\n",
       "\t XY          &  62615      & rs28491545  & A           & C           & C           & ADD         & 9836        &  0.00707210 & 0.0139789   &  0.505913   & 0.612929   \\\\\n",
       "\t XY          & 167755      & rs73174453  & G           & T           & T           & ADD         & 9823        & -0.01837010 & 0.0141680   & -1.296590   & 0.194803   \\\\\n",
       "\\end{tabular}\n"
      ],
      "text/markdown": [
       "\n",
       "#CHROM | POS | ID | REF | ALT | A1 | TEST | OBS_CT | BETA | SE | T_STAT | P | \n",
       "|---|---|---|---|---|---|\n",
       "| XY          |  60425      | rs34557243  | C           | A           | A           | ADD         | 9812        | -0.00940504 | 0.0398640   | -0.235928   | 0.813493    | \n",
       "| XY          |  60454      | rs28494123  | A           | G           | G           | ADD         | 9771        |  0.01182190 | 0.0140065   |  0.844029   | 0.398674    | \n",
       "| XY          |  61067      | rs28590175  | A           | G           | G           | ADD         | 9840        | -0.01526750 | 0.0392121   | -0.389356   | 0.697021    | \n",
       "| XY          |  62079      | rs117654552 | C           | G           | G           | ADD         | 9833        | -0.01961520 | 0.0394599   | -0.497093   | 0.619135    | \n",
       "| XY          |  62615      | rs28491545  | A           | C           | C           | ADD         | 9836        |  0.00707210 | 0.0139789   |  0.505913   | 0.612929    | \n",
       "| XY          | 167755      | rs73174453  | G           | T           | T           | ADD         | 9823        | -0.01837010 | 0.0141680   | -1.296590   | 0.194803    | \n",
       "\n",
       "\n"
      ],
      "text/plain": [
       "  #CHROM POS    ID          REF ALT A1 TEST OBS_CT BETA        SE       \n",
       "1 XY      60425 rs34557243  C   A   A  ADD  9812   -0.00940504 0.0398640\n",
       "2 XY      60454 rs28494123  A   G   G  ADD  9771    0.01182190 0.0140065\n",
       "3 XY      61067 rs28590175  A   G   G  ADD  9840   -0.01526750 0.0392121\n",
       "4 XY      62079 rs117654552 C   G   G  ADD  9833   -0.01961520 0.0394599\n",
       "5 XY      62615 rs28491545  A   C   C  ADD  9836    0.00707210 0.0139789\n",
       "6 XY     167755 rs73174453  G   T   T  ADD  9823   -0.01837010 0.0141680\n",
       "  T_STAT    P       \n",
       "1 -0.235928 0.813493\n",
       "2  0.844029 0.398674\n",
       "3 -0.389356 0.697021\n",
       "4 -0.497093 0.619135\n",
       "5  0.505913 0.612929\n",
       "6 -1.296590 0.194803"
      ]
     },
     "metadata": {},
     "output_type": "display_data"
    }
   ],
   "source": [
    "head(m_out)"
   ]
  },
  {
   "cell_type": "code",
   "execution_count": 84,
   "metadata": {
    "collapsed": true
   },
   "outputs": [],
   "source": [
    "f_test_d <- out_tab_filt %>% filter(trait == \"Testosterone\" & category==2) %>% select(-trait,  -MAF, -p1, -p2, -p3, -p4, -HGVSp, -GENE, -category)\n",
    "m_test_d <- out_tab_filt %>% filter(trait == \"Testosterone\" & category==3) %>% select(-trait,  -MAF, -p1, -p2, -p3, -p4, -HGVSp, -GENE, -category)"
   ]
  },
  {
   "cell_type": "code",
   "execution_count": 85,
   "metadata": {},
   "outputs": [
    {
     "data": {
      "text/html": [
       "<ol class=list-inline>\n",
       "\t<li>'ID'</li>\n",
       "\t<li>'CHR'</li>\n",
       "\t<li>'POS'</li>\n",
       "\t<li>'REF'</li>\n",
       "\t<li>'ALT'</li>\n",
       "\t<li>'B.f'</li>\n",
       "\t<li>'B.m'</li>\n",
       "\t<li>'SE.f'</li>\n",
       "\t<li>'SE.m'</li>\n",
       "\t<li>'P.f'</li>\n",
       "\t<li>'P.m'</li>\n",
       "</ol>\n"
      ],
      "text/latex": [
       "\\begin{enumerate*}\n",
       "\\item 'ID'\n",
       "\\item 'CHR'\n",
       "\\item 'POS'\n",
       "\\item 'REF'\n",
       "\\item 'ALT'\n",
       "\\item 'B.f'\n",
       "\\item 'B.m'\n",
       "\\item 'SE.f'\n",
       "\\item 'SE.m'\n",
       "\\item 'P.f'\n",
       "\\item 'P.m'\n",
       "\\end{enumerate*}\n"
      ],
      "text/markdown": [
       "1. 'ID'\n",
       "2. 'CHR'\n",
       "3. 'POS'\n",
       "4. 'REF'\n",
       "5. 'ALT'\n",
       "6. 'B.f'\n",
       "7. 'B.m'\n",
       "8. 'SE.f'\n",
       "9. 'SE.m'\n",
       "10. 'P.f'\n",
       "11. 'P.m'\n",
       "\n",
       "\n"
      ],
      "text/plain": [
       " [1] \"ID\"   \"CHR\"  \"POS\"  \"REF\"  \"ALT\"  \"B.f\"  \"B.m\"  \"SE.f\" \"SE.m\" \"P.f\" \n",
       "[11] \"P.m\" "
      ]
     },
     "metadata": {},
     "output_type": "display_data"
    },
    {
     "data": {
      "text/plain": [
       "\n",
       "  TRUE \n",
       "804470 "
      ]
     },
     "metadata": {},
     "output_type": "display_data"
    }
   ],
   "source": [
    "colnames(f_test_d)\n",
    "table(f_out$ID==m_out$ID)\n",
    "test_valid <- cbind( (f_out %>% select(`#CHROM`, BETA, SE, P) %>% rename(CHR=`#CHROM`, B.f=BETA, SE.f=SE, P.f=P)),\n",
    "    (m_out %>% select(ID, POS, REF, ALT, BETA, SE, P) %>% rename(B.m=BETA, SE.m=SE, P.m=P))) %>% \n",
    "                    select(colnames(f_test_d))"
   ]
  },
  {
   "cell_type": "code",
   "execution_count": 86,
   "metadata": {
    "collapsed": true
   },
   "outputs": [],
   "source": [
    "test_valid_filt <- test_valid %>% filter(ID %in% c(f_test_d$ID, m_test_d$ID)) %>% mutate(sex=ifelse(ID %in% f_test_d$ID, \"female\", \"male\"), dataset=\"validation\")\n",
    "test_disc <- rbind(f_test_d %>% mutate(sex=\"female\"), m_test_d %>% mutate(sex=\"male\")) %>% mutate(dataset=\"discovery\")\n",
    "comb_test <- rbind(test_disc, test_valid_filt)"
   ]
  },
  {
   "cell_type": "code",
   "execution_count": 92,
   "metadata": {
    "collapsed": true
   },
   "outputs": [],
   "source": [
    "# beta in the same direction\n",
    "train_valid_compare <- test_valid_filt %>% \n",
    "rename(B.f.v=B.f, B.m.v=B.m, SE.f.v=SE.f, SE.m.v=SE.m, P.f.v=P.f, P.m.v=P.m) %>% \n",
    "select(-dataset) %>%\n",
    "full_join(test_disc %>% select(ID, B.f, B.m, SE.f, SE.m, P.f, P.m), by=\"ID\")\n",
    "\n",
    "\n",
    "\n",
    "# P significant"
   ]
  },
  {
   "cell_type": "code",
   "execution_count": 109,
   "metadata": {},
   "outputs": [
    {
     "data": {
      "text/html": [
       "444"
      ],
      "text/latex": [
       "444"
      ],
      "text/markdown": [
       "444"
      ],
      "text/plain": [
       "[1] 444"
      ]
     },
     "metadata": {},
     "output_type": "display_data"
    },
    {
     "data": {
      "text/html": [
       "120"
      ],
      "text/latex": [
       "120"
      ],
      "text/markdown": [
       "120"
      ],
      "text/plain": [
       "[1] 120"
      ]
     },
     "metadata": {},
     "output_type": "display_data"
    },
    {
     "data": {
      "text/html": [
       "<table>\n",
       "<thead><tr><th scope=col>n</th></tr></thead>\n",
       "<tbody>\n",
       "\t<tr><td>159</td></tr>\n",
       "</tbody>\n",
       "</table>\n"
      ],
      "text/latex": [
       "\\begin{tabular}{r|l}\n",
       " n\\\\\n",
       "\\hline\n",
       "\t 159\\\\\n",
       "\\end{tabular}\n"
      ],
      "text/markdown": [
       "\n",
       "n | \n",
       "|---|\n",
       "| 159 | \n",
       "\n",
       "\n"
      ],
      "text/plain": [
       "  n  \n",
       "1 159"
      ]
     },
     "metadata": {},
     "output_type": "display_data"
    },
    {
     "data": {
      "text/html": [
       "<table>\n",
       "<thead><tr><th scope=col>n</th></tr></thead>\n",
       "<tbody>\n",
       "\t<tr><td>35</td></tr>\n",
       "</tbody>\n",
       "</table>\n"
      ],
      "text/latex": [
       "\\begin{tabular}{r|l}\n",
       " n\\\\\n",
       "\\hline\n",
       "\t 35\\\\\n",
       "\\end{tabular}\n"
      ],
      "text/markdown": [
       "\n",
       "n | \n",
       "|---|\n",
       "| 35 | \n",
       "\n",
       "\n"
      ],
      "text/plain": [
       "  n \n",
       "1 35"
      ]
     },
     "metadata": {},
     "output_type": "display_data"
    }
   ],
   "source": [
    "m_snps <- train_valid_compare %>% filter(sex==\"male\")\n",
    "f_snps <- train_valid_compare %>% filter(sex==\"female\")\n",
    "nrow(m_snps)\n",
    "nrow(f_snps)\n",
    "\n",
    "cutoff.p <- 0.05/564\n",
    "\n",
    "m_snps %>% filter(P.f.v < P.m.v) %>% count() # 159\n",
    "f_snps %>% filter(P.f.v  > P.m.v) %>% count() # 35\n",
    "\n"
   ]
  },
  {
   "cell_type": "code",
   "execution_count": 129,
   "metadata": {
    "collapsed": true
   },
   "outputs": [],
   "source": [
    "f_rep <- f_snps %>% filter(P.f.v < 10**-2)\n",
    "\n",
    "m_rep <- m_snps %>% filter(P.m.v < 10**-2)"
   ]
  },
  {
   "cell_type": "code",
   "execution_count": 130,
   "metadata": {},
   "outputs": [
    {
     "data": {
      "text/html": [
       "<table>\n",
       "<thead><tr><th scope=col>ID</th><th scope=col>CHR</th><th scope=col>POS</th><th scope=col>REF</th><th scope=col>ALT</th><th scope=col>B.f.v</th><th scope=col>B.m.v</th><th scope=col>SE.f.v</th><th scope=col>SE.m.v</th><th scope=col>P.f.v</th><th scope=col>P.m.v</th><th scope=col>sex</th><th scope=col>B.f</th><th scope=col>B.m</th><th scope=col>SE.f</th><th scope=col>SE.m</th><th scope=col>P.f</th><th scope=col>P.m</th></tr></thead>\n",
       "<tbody>\n",
       "\t<tr><td>rs55839709  </td><td>2           </td><td>103340233   </td><td>C           </td><td>A           </td><td>-0.2282350  </td><td>-0.124183000</td><td>0.0756743   </td><td>0.0791583   </td><td>2.56689e-03 </td><td>0.1167270   </td><td>female      </td><td>-0.1067320  </td><td> 1.88422e-02</td><td>5.153218e-04</td><td>4.859159e-04</td><td> 2.58228e-06</td><td>0.39267700  </td></tr>\n",
       "\t<tr><td>rs111643567 </td><td>7           </td><td> 98861216   </td><td>G           </td><td>T           </td><td>-0.2380770  </td><td>-0.049921600</td><td>0.0754103   </td><td>0.0737554   </td><td>1.59766e-03 </td><td>0.4985150   </td><td>female      </td><td>-0.2508250  </td><td> 1.53799e-02</td><td>5.162711e-04</td><td>4.500932e-04</td><td> 2.54266e-28</td><td>0.46849100  </td></tr>\n",
       "\t<tr><td>rs11769461  </td><td>7           </td><td> 98877267   </td><td>C           </td><td>A           </td><td>-0.1769540  </td><td>-0.030067700</td><td>0.0476770   </td><td>0.0480863   </td><td>2.07013e-04 </td><td>0.5317980   </td><td>female      </td><td>-0.1413610  </td><td> 7.18576e-03</td><td>1.819774e-04</td><td>1.665003e-04</td><td> 1.10210e-25</td><td>0.57760600  </td></tr>\n",
       "\t<tr><td>rs11761528  </td><td>7           </td><td> 99118801   </td><td>C           </td><td>T           </td><td>-0.1396620  </td><td> 0.006696170</td><td>0.0245934   </td><td>0.0256673   </td><td>1.38937e-08 </td><td>0.7941880   </td><td>female      </td><td>-0.1406280  </td><td> 1.44823e-02</td><td>4.663729e-05</td><td>4.279907e-05</td><td> 4.41141e-94</td><td>0.02684990  </td></tr>\n",
       "\t<tr><td>rs45446698  </td><td>7           </td><td> 99332948   </td><td>T           </td><td>G           </td><td>-0.3353970  </td><td> 0.040117000</td><td>0.0381115   </td><td>0.0376165   </td><td>1.55963e-18 </td><td>0.2862360   </td><td>female      </td><td>-0.3249290  </td><td> 1.86223e-02</td><td>9.649408e-05</td><td>8.336658e-05</td><td>5.02735e-239</td><td>0.04139560  </td></tr>\n",
       "\t<tr><td>rs11557154  </td><td>9           </td><td> 34107505   </td><td>C           </td><td>T           </td><td> 0.0632637  </td><td> 0.000333101</td><td>0.0193974   </td><td>0.0212157   </td><td>1.11169e-03 </td><td>0.9874730   </td><td>female      </td><td> 0.0312115  </td><td> 1.03698e-03</td><td>3.135776e-05</td><td>3.113149e-05</td><td> 2.49869e-08</td><td>0.85256000  </td></tr>\n",
       "\t<tr><td>rs35209863  </td><td>10          </td><td> 61450121   </td><td>T           </td><td>C           </td><td>-0.0515534  </td><td>-0.017531500</td><td>0.0186714   </td><td>0.0200459   </td><td>5.77014e-03 </td><td>0.3818320   </td><td>female      </td><td>-0.0430099  </td><td> 3.30636e-05</td><td>2.798897e-05</td><td>2.732142e-05</td><td> 4.33763e-16</td><td>0.99495300  </td></tr>\n",
       "\t<tr><td>rs3781931   </td><td>11          </td><td> 72327205   </td><td>C           </td><td>T           </td><td>-0.0581761  </td><td> 0.025017200</td><td>0.0179865   </td><td>0.0194254   </td><td>1.22236e-03 </td><td>0.1978250   </td><td>female      </td><td>-0.0333050  </td><td>-6.52240e-03</td><td>2.730888e-05</td><td>2.646454e-05</td><td> 1.85672e-10</td><td>0.20484600  </td></tr>\n",
       "\t<tr><td>rs9552597   </td><td>13          </td><td> 22690127   </td><td>G           </td><td>A           </td><td> 0.0456085  </td><td> 0.008863350</td><td>0.0167416   </td><td>0.0180594   </td><td>6.45430e-03 </td><td>0.6235860   </td><td>female      </td><td> 0.0386109  </td><td> 2.68691e-03</td><td>2.278153e-05</td><td>2.233007e-05</td><td> 6.04060e-16</td><td>0.56962700  </td></tr>\n",
       "\t<tr><td>rs77297149  </td><td>16          </td><td> 81603125   </td><td>C           </td><td>T           </td><td> 0.0706857  </td><td> 0.026920700</td><td>0.0274098   </td><td>0.0299568   </td><td>9.92564e-03 </td><td>0.3688600   </td><td>female      </td><td> 0.0608737  </td><td>-7.50583e-03</td><td>5.798198e-05</td><td>5.705733e-05</td><td> 1.31237e-15</td><td>0.32038400  </td></tr>\n",
       "\t<tr><td>rs4793788   </td><td>17          </td><td> 53381796   </td><td>C           </td><td>A           </td><td>-0.0364217  </td><td>-0.029399800</td><td>0.0136725   </td><td>0.0147703   </td><td>7.73594e-03 </td><td>0.0465663   </td><td>female      </td><td>-0.0213389  </td><td>-1.97206e-03</td><td>1.522295e-05</td><td>1.476189e-05</td><td> 4.52867e-08</td><td>0.60776000  </td></tr>\n",
       "\t<tr><td>rs12956893  </td><td>18          </td><td> 71894252   </td><td>T           </td><td>C           </td><td>-0.0633384  </td><td> 0.023988400</td><td>0.0236664   </td><td>0.0251992   </td><td>7.45451e-03 </td><td>0.3411450   </td><td>female      </td><td>-0.0443261  </td><td>-2.63897e-03</td><td>4.249123e-05</td><td>4.105260e-05</td><td> 1.05017e-11</td><td>0.68043300  </td></tr>\n",
       "\t<tr><td>rs7246440   </td><td>19          </td><td> 12505873   </td><td>A           </td><td>G           </td><td>-0.0460009  </td><td>-0.002150560</td><td>0.0152640   </td><td>0.0164291   </td><td>2.58659e-03 </td><td>0.8958570   </td><td>female      </td><td>-0.0287459  </td><td>-7.08715e-03</td><td>1.963323e-05</td><td>1.929432e-05</td><td> 8.75346e-11</td><td>0.10664800  </td></tr>\n",
       "\t<tr><td>rs6020423   </td><td>20          </td><td> 48909667   </td><td>C           </td><td>T           </td><td>-0.0584333  </td><td> 0.004070710</td><td>0.0156500   </td><td>0.0167150   </td><td>1.89568e-04 </td><td>0.8075960   </td><td>female      </td><td>-0.0328180  </td><td> 1.20329e-02</td><td>1.939768e-05</td><td>1.885548e-05</td><td> 9.28874e-14</td><td>0.00558765  </td></tr>\n",
       "</tbody>\n",
       "</table>\n"
      ],
      "text/latex": [
       "\\begin{tabular}{r|llllllllllllllllll}\n",
       " ID & CHR & POS & REF & ALT & B.f.v & B.m.v & SE.f.v & SE.m.v & P.f.v & P.m.v & sex & B.f & B.m & SE.f & SE.m & P.f & P.m\\\\\n",
       "\\hline\n",
       "\t rs55839709   & 2            & 103340233    & C            & A            & -0.2282350   & -0.124183000 & 0.0756743    & 0.0791583    & 2.56689e-03  & 0.1167270    & female       & -0.1067320   &  1.88422e-02 & 5.153218e-04 & 4.859159e-04 &  2.58228e-06 & 0.39267700  \\\\\n",
       "\t rs111643567  & 7            &  98861216    & G            & T            & -0.2380770   & -0.049921600 & 0.0754103    & 0.0737554    & 1.59766e-03  & 0.4985150    & female       & -0.2508250   &  1.53799e-02 & 5.162711e-04 & 4.500932e-04 &  2.54266e-28 & 0.46849100  \\\\\n",
       "\t rs11769461   & 7            &  98877267    & C            & A            & -0.1769540   & -0.030067700 & 0.0476770    & 0.0480863    & 2.07013e-04  & 0.5317980    & female       & -0.1413610   &  7.18576e-03 & 1.819774e-04 & 1.665003e-04 &  1.10210e-25 & 0.57760600  \\\\\n",
       "\t rs11761528   & 7            &  99118801    & C            & T            & -0.1396620   &  0.006696170 & 0.0245934    & 0.0256673    & 1.38937e-08  & 0.7941880    & female       & -0.1406280   &  1.44823e-02 & 4.663729e-05 & 4.279907e-05 &  4.41141e-94 & 0.02684990  \\\\\n",
       "\t rs45446698   & 7            &  99332948    & T            & G            & -0.3353970   &  0.040117000 & 0.0381115    & 0.0376165    & 1.55963e-18  & 0.2862360    & female       & -0.3249290   &  1.86223e-02 & 9.649408e-05 & 8.336658e-05 & 5.02735e-239 & 0.04139560  \\\\\n",
       "\t rs11557154   & 9            &  34107505    & C            & T            &  0.0632637   &  0.000333101 & 0.0193974    & 0.0212157    & 1.11169e-03  & 0.9874730    & female       &  0.0312115   &  1.03698e-03 & 3.135776e-05 & 3.113149e-05 &  2.49869e-08 & 0.85256000  \\\\\n",
       "\t rs35209863   & 10           &  61450121    & T            & C            & -0.0515534   & -0.017531500 & 0.0186714    & 0.0200459    & 5.77014e-03  & 0.3818320    & female       & -0.0430099   &  3.30636e-05 & 2.798897e-05 & 2.732142e-05 &  4.33763e-16 & 0.99495300  \\\\\n",
       "\t rs3781931    & 11           &  72327205    & C            & T            & -0.0581761   &  0.025017200 & 0.0179865    & 0.0194254    & 1.22236e-03  & 0.1978250    & female       & -0.0333050   & -6.52240e-03 & 2.730888e-05 & 2.646454e-05 &  1.85672e-10 & 0.20484600  \\\\\n",
       "\t rs9552597    & 13           &  22690127    & G            & A            &  0.0456085   &  0.008863350 & 0.0167416    & 0.0180594    & 6.45430e-03  & 0.6235860    & female       &  0.0386109   &  2.68691e-03 & 2.278153e-05 & 2.233007e-05 &  6.04060e-16 & 0.56962700  \\\\\n",
       "\t rs77297149   & 16           &  81603125    & C            & T            &  0.0706857   &  0.026920700 & 0.0274098    & 0.0299568    & 9.92564e-03  & 0.3688600    & female       &  0.0608737   & -7.50583e-03 & 5.798198e-05 & 5.705733e-05 &  1.31237e-15 & 0.32038400  \\\\\n",
       "\t rs4793788    & 17           &  53381796    & C            & A            & -0.0364217   & -0.029399800 & 0.0136725    & 0.0147703    & 7.73594e-03  & 0.0465663    & female       & -0.0213389   & -1.97206e-03 & 1.522295e-05 & 1.476189e-05 &  4.52867e-08 & 0.60776000  \\\\\n",
       "\t rs12956893   & 18           &  71894252    & T            & C            & -0.0633384   &  0.023988400 & 0.0236664    & 0.0251992    & 7.45451e-03  & 0.3411450    & female       & -0.0443261   & -2.63897e-03 & 4.249123e-05 & 4.105260e-05 &  1.05017e-11 & 0.68043300  \\\\\n",
       "\t rs7246440    & 19           &  12505873    & A            & G            & -0.0460009   & -0.002150560 & 0.0152640    & 0.0164291    & 2.58659e-03  & 0.8958570    & female       & -0.0287459   & -7.08715e-03 & 1.963323e-05 & 1.929432e-05 &  8.75346e-11 & 0.10664800  \\\\\n",
       "\t rs6020423    & 20           &  48909667    & C            & T            & -0.0584333   &  0.004070710 & 0.0156500    & 0.0167150    & 1.89568e-04  & 0.8075960    & female       & -0.0328180   &  1.20329e-02 & 1.939768e-05 & 1.885548e-05 &  9.28874e-14 & 0.00558765  \\\\\n",
       "\\end{tabular}\n"
      ],
      "text/markdown": [
       "\n",
       "ID | CHR | POS | REF | ALT | B.f.v | B.m.v | SE.f.v | SE.m.v | P.f.v | P.m.v | sex | B.f | B.m | SE.f | SE.m | P.f | P.m | \n",
       "|---|---|---|---|---|---|---|---|---|---|---|---|---|---|\n",
       "| rs55839709   | 2            | 103340233    | C            | A            | -0.2282350   | -0.124183000 | 0.0756743    | 0.0791583    | 2.56689e-03  | 0.1167270    | female       | -0.1067320   |  1.88422e-02 | 5.153218e-04 | 4.859159e-04 |  2.58228e-06 | 0.39267700   | \n",
       "| rs111643567  | 7            |  98861216    | G            | T            | -0.2380770   | -0.049921600 | 0.0754103    | 0.0737554    | 1.59766e-03  | 0.4985150    | female       | -0.2508250   |  1.53799e-02 | 5.162711e-04 | 4.500932e-04 |  2.54266e-28 | 0.46849100   | \n",
       "| rs11769461   | 7            |  98877267    | C            | A            | -0.1769540   | -0.030067700 | 0.0476770    | 0.0480863    | 2.07013e-04  | 0.5317980    | female       | -0.1413610   |  7.18576e-03 | 1.819774e-04 | 1.665003e-04 |  1.10210e-25 | 0.57760600   | \n",
       "| rs11761528   | 7            |  99118801    | C            | T            | -0.1396620   |  0.006696170 | 0.0245934    | 0.0256673    | 1.38937e-08  | 0.7941880    | female       | -0.1406280   |  1.44823e-02 | 4.663729e-05 | 4.279907e-05 |  4.41141e-94 | 0.02684990   | \n",
       "| rs45446698   | 7            |  99332948    | T            | G            | -0.3353970   |  0.040117000 | 0.0381115    | 0.0376165    | 1.55963e-18  | 0.2862360    | female       | -0.3249290   |  1.86223e-02 | 9.649408e-05 | 8.336658e-05 | 5.02735e-239 | 0.04139560   | \n",
       "| rs11557154   | 9            |  34107505    | C            | T            |  0.0632637   |  0.000333101 | 0.0193974    | 0.0212157    | 1.11169e-03  | 0.9874730    | female       |  0.0312115   |  1.03698e-03 | 3.135776e-05 | 3.113149e-05 |  2.49869e-08 | 0.85256000   | \n",
       "| rs35209863   | 10           |  61450121    | T            | C            | -0.0515534   | -0.017531500 | 0.0186714    | 0.0200459    | 5.77014e-03  | 0.3818320    | female       | -0.0430099   |  3.30636e-05 | 2.798897e-05 | 2.732142e-05 |  4.33763e-16 | 0.99495300   | \n",
       "| rs3781931    | 11           |  72327205    | C            | T            | -0.0581761   |  0.025017200 | 0.0179865    | 0.0194254    | 1.22236e-03  | 0.1978250    | female       | -0.0333050   | -6.52240e-03 | 2.730888e-05 | 2.646454e-05 |  1.85672e-10 | 0.20484600   | \n",
       "| rs9552597    | 13           |  22690127    | G            | A            |  0.0456085   |  0.008863350 | 0.0167416    | 0.0180594    | 6.45430e-03  | 0.6235860    | female       |  0.0386109   |  2.68691e-03 | 2.278153e-05 | 2.233007e-05 |  6.04060e-16 | 0.56962700   | \n",
       "| rs77297149   | 16           |  81603125    | C            | T            |  0.0706857   |  0.026920700 | 0.0274098    | 0.0299568    | 9.92564e-03  | 0.3688600    | female       |  0.0608737   | -7.50583e-03 | 5.798198e-05 | 5.705733e-05 |  1.31237e-15 | 0.32038400   | \n",
       "| rs4793788    | 17           |  53381796    | C            | A            | -0.0364217   | -0.029399800 | 0.0136725    | 0.0147703    | 7.73594e-03  | 0.0465663    | female       | -0.0213389   | -1.97206e-03 | 1.522295e-05 | 1.476189e-05 |  4.52867e-08 | 0.60776000   | \n",
       "| rs12956893   | 18           |  71894252    | T            | C            | -0.0633384   |  0.023988400 | 0.0236664    | 0.0251992    | 7.45451e-03  | 0.3411450    | female       | -0.0443261   | -2.63897e-03 | 4.249123e-05 | 4.105260e-05 |  1.05017e-11 | 0.68043300   | \n",
       "| rs7246440    | 19           |  12505873    | A            | G            | -0.0460009   | -0.002150560 | 0.0152640    | 0.0164291    | 2.58659e-03  | 0.8958570    | female       | -0.0287459   | -7.08715e-03 | 1.963323e-05 | 1.929432e-05 |  8.75346e-11 | 0.10664800   | \n",
       "| rs6020423    | 20           |  48909667    | C            | T            | -0.0584333   |  0.004070710 | 0.0156500    | 0.0167150    | 1.89568e-04  | 0.8075960    | female       | -0.0328180   |  1.20329e-02 | 1.939768e-05 | 1.885548e-05 |  9.28874e-14 | 0.00558765   | \n",
       "\n",
       "\n"
      ],
      "text/plain": [
       "   ID          CHR POS       REF ALT B.f.v      B.m.v        SE.f.v   \n",
       "1  rs55839709  2   103340233 C   A   -0.2282350 -0.124183000 0.0756743\n",
       "2  rs111643567 7    98861216 G   T   -0.2380770 -0.049921600 0.0754103\n",
       "3  rs11769461  7    98877267 C   A   -0.1769540 -0.030067700 0.0476770\n",
       "4  rs11761528  7    99118801 C   T   -0.1396620  0.006696170 0.0245934\n",
       "5  rs45446698  7    99332948 T   G   -0.3353970  0.040117000 0.0381115\n",
       "6  rs11557154  9    34107505 C   T    0.0632637  0.000333101 0.0193974\n",
       "7  rs35209863  10   61450121 T   C   -0.0515534 -0.017531500 0.0186714\n",
       "8  rs3781931   11   72327205 C   T   -0.0581761  0.025017200 0.0179865\n",
       "9  rs9552597   13   22690127 G   A    0.0456085  0.008863350 0.0167416\n",
       "10 rs77297149  16   81603125 C   T    0.0706857  0.026920700 0.0274098\n",
       "11 rs4793788   17   53381796 C   A   -0.0364217 -0.029399800 0.0136725\n",
       "12 rs12956893  18   71894252 T   C   -0.0633384  0.023988400 0.0236664\n",
       "13 rs7246440   19   12505873 A   G   -0.0460009 -0.002150560 0.0152640\n",
       "14 rs6020423   20   48909667 C   T   -0.0584333  0.004070710 0.0156500\n",
       "   SE.m.v    P.f.v       P.m.v     sex    B.f        B.m          SE.f        \n",
       "1  0.0791583 2.56689e-03 0.1167270 female -0.1067320  1.88422e-02 5.153218e-04\n",
       "2  0.0737554 1.59766e-03 0.4985150 female -0.2508250  1.53799e-02 5.162711e-04\n",
       "3  0.0480863 2.07013e-04 0.5317980 female -0.1413610  7.18576e-03 1.819774e-04\n",
       "4  0.0256673 1.38937e-08 0.7941880 female -0.1406280  1.44823e-02 4.663729e-05\n",
       "5  0.0376165 1.55963e-18 0.2862360 female -0.3249290  1.86223e-02 9.649408e-05\n",
       "6  0.0212157 1.11169e-03 0.9874730 female  0.0312115  1.03698e-03 3.135776e-05\n",
       "7  0.0200459 5.77014e-03 0.3818320 female -0.0430099  3.30636e-05 2.798897e-05\n",
       "8  0.0194254 1.22236e-03 0.1978250 female -0.0333050 -6.52240e-03 2.730888e-05\n",
       "9  0.0180594 6.45430e-03 0.6235860 female  0.0386109  2.68691e-03 2.278153e-05\n",
       "10 0.0299568 9.92564e-03 0.3688600 female  0.0608737 -7.50583e-03 5.798198e-05\n",
       "11 0.0147703 7.73594e-03 0.0465663 female -0.0213389 -1.97206e-03 1.522295e-05\n",
       "12 0.0251992 7.45451e-03 0.3411450 female -0.0443261 -2.63897e-03 4.249123e-05\n",
       "13 0.0164291 2.58659e-03 0.8958570 female -0.0287459 -7.08715e-03 1.963323e-05\n",
       "14 0.0167150 1.89568e-04 0.8075960 female -0.0328180  1.20329e-02 1.939768e-05\n",
       "   SE.m         P.f          P.m       \n",
       "1  4.859159e-04  2.58228e-06 0.39267700\n",
       "2  4.500932e-04  2.54266e-28 0.46849100\n",
       "3  1.665003e-04  1.10210e-25 0.57760600\n",
       "4  4.279907e-05  4.41141e-94 0.02684990\n",
       "5  8.336658e-05 5.02735e-239 0.04139560\n",
       "6  3.113149e-05  2.49869e-08 0.85256000\n",
       "7  2.732142e-05  4.33763e-16 0.99495300\n",
       "8  2.646454e-05  1.85672e-10 0.20484600\n",
       "9  2.233007e-05  6.04060e-16 0.56962700\n",
       "10 5.705733e-05  1.31237e-15 0.32038400\n",
       "11 1.476189e-05  4.52867e-08 0.60776000\n",
       "12 4.105260e-05  1.05017e-11 0.68043300\n",
       "13 1.929432e-05  8.75346e-11 0.10664800\n",
       "14 1.885548e-05  9.28874e-14 0.00558765"
      ]
     },
     "metadata": {},
     "output_type": "display_data"
    }
   ],
   "source": [
    "nrow(f_rep)\n",
    " out_tab_filt %>% filter(trait == \"Testosterone\" f_rep$ID"
   ]
  },
  {
   "cell_type": "code",
   "execution_count": 121,
   "metadata": {},
   "outputs": [
    {
     "data": {
      "text/html": [
       "<table>\n",
       "<thead><tr><th scope=col>n</th></tr></thead>\n",
       "<tbody>\n",
       "\t<tr><td>61</td></tr>\n",
       "</tbody>\n",
       "</table>\n"
      ],
      "text/latex": [
       "\\begin{tabular}{r|l}\n",
       " n\\\\\n",
       "\\hline\n",
       "\t 61\\\\\n",
       "\\end{tabular}\n"
      ],
      "text/markdown": [
       "\n",
       "n | \n",
       "|---|\n",
       "| 61 | \n",
       "\n",
       "\n"
      ],
      "text/plain": [
       "  n \n",
       "1 61"
      ]
     },
     "metadata": {},
     "output_type": "display_data"
    },
    {
     "data": {
      "text/html": [
       "<table>\n",
       "<thead><tr><th scope=col>n</th></tr></thead>\n",
       "<tbody>\n",
       "\t<tr><td>17</td></tr>\n",
       "</tbody>\n",
       "</table>\n"
      ],
      "text/latex": [
       "\\begin{tabular}{r|l}\n",
       " n\\\\\n",
       "\\hline\n",
       "\t 17\\\\\n",
       "\\end{tabular}\n"
      ],
      "text/markdown": [
       "\n",
       "n | \n",
       "|---|\n",
       "| 17 | \n",
       "\n",
       "\n"
      ],
      "text/plain": [
       "  n \n",
       "1 17"
      ]
     },
     "metadata": {},
     "output_type": "display_data"
    }
   ],
   "source": [
    "m_snps %>% filter(B.m.v*B.m<0) %>% count() # 61 are the wrong direction\n",
    "f_snps %>% filter(B.f.v*B.f<0) %>% count() # 17 are the wrong direction"
   ]
  },
  {
   "cell_type": "code",
   "execution_count": 119,
   "metadata": {},
   "outputs": [
    {
     "data": {},
     "metadata": {},
     "output_type": "display_data"
    },
    {
     "data": {
      "image/png": "[encoded data removed]",
      "text/plain": [
       "plot without title"
      ]
     },
     "metadata": {},
     "output_type": "display_data"
    }
   ],
   "source": [
    "ggplot(comb_test, aes(x=B.f, y=B.m, color=sex))+geom_point(alpha=0.4)+facet_wrap(~dataset)\n",
    "\n"
   ]
  },
  {
   "cell_type": "code",
   "execution_count": 120,
   "metadata": {},
   "outputs": [
    {
     "data": {},
     "metadata": {},
     "output_type": "display_data"
    },
    {
     "data": {},
     "metadata": {},
     "output_type": "display_data"
    },
    {
     "data": {
      "image/png": "[encoded data removed]",
      "text/plain": [
       "plot without title"
      ]
     },
     "metadata": {},
     "output_type": "display_data"
    },
    {
     "data": {
      "image/png": "[encoded data removed]",
      "text/plain": [
       "plot without title"
      ]
     },
     "metadata": {},
     "output_type": "display_data"
    }
   ],
   "source": [
    "ggplot(comb_test %>% filter(sex==\"female\"), aes(x=B.f, y=B.m, color=sex))+geom_point(alpha=0.4)+facet_wrap(~dataset)\n",
    "ggplot(comb_test %>% filter(sex==\"male\"), aes(x=B.f, y=B.m))+geom_point(alpha=0.4, color=\"cyan\")+facet_wrap(~dataset)"
   ]
  },
  {
   "cell_type": "markdown",
   "metadata": {},
   "source": [
    "### M1 tables"
   ]
  },
  {
   "cell_type": "code",
   "execution_count": 30,
   "metadata": {},
   "outputs": [
    {
     "data": {
      "text/html": [
       "48"
      ],
      "text/latex": [
       "48"
      ],
      "text/markdown": [
       "48"
      ],
      "text/plain": [
       "[1] 48"
      ]
     },
     "metadata": {},
     "output_type": "display_data"
    },
    {
     "data": {
      "text/html": [
       "<ol class=list-inline>\n",
       "\t<li>'Alanine_aminotransferase'</li>\n",
       "\t<li>'Albumin'</li>\n",
       "\t<li>'Alkaline_phosphatase'</li>\n",
       "\t<li>'Apolipoprotein_A'</li>\n",
       "\t<li>'Apolipoprotein_B.adjust.statins'</li>\n",
       "\t<li>'arm_fp'</li>\n",
       "\t<li>'Aspartate_aminotransferase'</li>\n",
       "\t<li>'C_reactive_protein'</li>\n",
       "\t<li>'Calcium'</li>\n",
       "\t<li>'Cholesterol.adjust.statins'</li>\n",
       "\t<li>'Creatinine'</li>\n",
       "\t<li>'Creatinine_in_urine'</li>\n",
       "\t<li>'Cystatin_C'</li>\n",
       "\t<li>'Direct_bilirubin'</li>\n",
       "\t<li>'eGFR'</li>\n",
       "\t<li>'Gamma_glutamyltransferase'</li>\n",
       "\t<li>'Glucose'</li>\n",
       "\t<li>'Glycated_haemoglobin_HbA1c'</li>\n",
       "\t<li>'HDL_cholesterol'</li>\n",
       "\t<li>'IGF_1'</li>\n",
       "\t<li>'INI20150'</li>\n",
       "\t<li>'INI21001'</li>\n",
       "\t<li>'INI23099'</li>\n",
       "\t<li>'INI23105'</li>\n",
       "\t<li>'INI3063'</li>\n",
       "\t<li>'INI3064'</li>\n",
       "\t<li>'INI4079'</li>\n",
       "\t<li>'INI4080'</li>\n",
       "\t<li>'INI48'</li>\n",
       "\t<li>'INI49'</li>\n",
       "\t<li>'INI50'</li>\n",
       "\t<li>'LDL_direct.adjust.statins'</li>\n",
       "\t<li>'leg_fp'</li>\n",
       "\t<li>'Lipoprotein_A'</li>\n",
       "\t<li>'Non_albumin_protein'</li>\n",
       "\t<li>'Phosphate'</li>\n",
       "\t<li>'Potassium_in_urine'</li>\n",
       "\t<li>'SHBG'</li>\n",
       "\t<li>'Sodium_in_urine'</li>\n",
       "\t<li>'Testosterone'</li>\n",
       "\t<li>'Total_bilirubin'</li>\n",
       "\t<li>'Total_protein'</li>\n",
       "\t<li>'Triglycerides'</li>\n",
       "\t<li>'trunk_fp'</li>\n",
       "\t<li>'Urate'</li>\n",
       "\t<li>'Urea'</li>\n",
       "\t<li>'Vitamin_D'</li>\n",
       "\t<li>'whr'</li>\n",
       "</ol>\n"
      ],
      "text/latex": [
       "\\begin{enumerate*}\n",
       "\\item 'Alanine\\_aminotransferase'\n",
       "\\item 'Albumin'\n",
       "\\item 'Alkaline\\_phosphatase'\n",
       "\\item 'Apolipoprotein\\_A'\n",
       "\\item 'Apolipoprotein\\_B.adjust.statins'\n",
       "\\item 'arm\\_fp'\n",
       "\\item 'Aspartate\\_aminotransferase'\n",
       "\\item 'C\\_reactive\\_protein'\n",
       "\\item 'Calcium'\n",
       "\\item 'Cholesterol.adjust.statins'\n",
       "\\item 'Creatinine'\n",
       "\\item 'Creatinine\\_in\\_urine'\n",
       "\\item 'Cystatin\\_C'\n",
       "\\item 'Direct\\_bilirubin'\n",
       "\\item 'eGFR'\n",
       "\\item 'Gamma\\_glutamyltransferase'\n",
       "\\item 'Glucose'\n",
       "\\item 'Glycated\\_haemoglobin\\_HbA1c'\n",
       "\\item 'HDL\\_cholesterol'\n",
       "\\item 'IGF\\_1'\n",
       "\\item 'INI20150'\n",
       "\\item 'INI21001'\n",
       "\\item 'INI23099'\n",
       "\\item 'INI23105'\n",
       "\\item 'INI3063'\n",
       "\\item 'INI3064'\n",
       "\\item 'INI4079'\n",
       "\\item 'INI4080'\n",
       "\\item 'INI48'\n",
       "\\item 'INI49'\n",
       "\\item 'INI50'\n",
       "\\item 'LDL\\_direct.adjust.statins'\n",
       "\\item 'leg\\_fp'\n",
       "\\item 'Lipoprotein\\_A'\n",
       "\\item 'Non\\_albumin\\_protein'\n",
       "\\item 'Phosphate'\n",
       "\\item 'Potassium\\_in\\_urine'\n",
       "\\item 'SHBG'\n",
       "\\item 'Sodium\\_in\\_urine'\n",
       "\\item 'Testosterone'\n",
       "\\item 'Total\\_bilirubin'\n",
       "\\item 'Total\\_protein'\n",
       "\\item 'Triglycerides'\n",
       "\\item 'trunk\\_fp'\n",
       "\\item 'Urate'\n",
       "\\item 'Urea'\n",
       "\\item 'Vitamin\\_D'\n",
       "\\item 'whr'\n",
       "\\end{enumerate*}\n"
      ],
      "text/markdown": [
       "1. 'Alanine_aminotransferase'\n",
       "2. 'Albumin'\n",
       "3. 'Alkaline_phosphatase'\n",
       "4. 'Apolipoprotein_A'\n",
       "5. 'Apolipoprotein_B.adjust.statins'\n",
       "6. 'arm_fp'\n",
       "7. 'Aspartate_aminotransferase'\n",
       "8. 'C_reactive_protein'\n",
       "9. 'Calcium'\n",
       "10. 'Cholesterol.adjust.statins'\n",
       "11. 'Creatinine'\n",
       "12. 'Creatinine_in_urine'\n",
       "13. 'Cystatin_C'\n",
       "14. 'Direct_bilirubin'\n",
       "15. 'eGFR'\n",
       "16. 'Gamma_glutamyltransferase'\n",
       "17. 'Glucose'\n",
       "18. 'Glycated_haemoglobin_HbA1c'\n",
       "19. 'HDL_cholesterol'\n",
       "20. 'IGF_1'\n",
       "21. 'INI20150'\n",
       "22. 'INI21001'\n",
       "23. 'INI23099'\n",
       "24. 'INI23105'\n",
       "25. 'INI3063'\n",
       "26. 'INI3064'\n",
       "27. 'INI4079'\n",
       "28. 'INI4080'\n",
       "29. 'INI48'\n",
       "30. 'INI49'\n",
       "31. 'INI50'\n",
       "32. 'LDL_direct.adjust.statins'\n",
       "33. 'leg_fp'\n",
       "34. 'Lipoprotein_A'\n",
       "35. 'Non_albumin_protein'\n",
       "36. 'Phosphate'\n",
       "37. 'Potassium_in_urine'\n",
       "38. 'SHBG'\n",
       "39. 'Sodium_in_urine'\n",
       "40. 'Testosterone'\n",
       "41. 'Total_bilirubin'\n",
       "42. 'Total_protein'\n",
       "43. 'Triglycerides'\n",
       "44. 'trunk_fp'\n",
       "45. 'Urate'\n",
       "46. 'Urea'\n",
       "47. 'Vitamin_D'\n",
       "48. 'whr'\n",
       "\n",
       "\n"
      ],
      "text/plain": [
       " [1] \"Alanine_aminotransferase\"        \"Albumin\"                        \n",
       " [3] \"Alkaline_phosphatase\"            \"Apolipoprotein_A\"               \n",
       " [5] \"Apolipoprotein_B.adjust.statins\" \"arm_fp\"                         \n",
       " [7] \"Aspartate_aminotransferase\"      \"C_reactive_protein\"             \n",
       " [9] \"Calcium\"                         \"Cholesterol.adjust.statins\"     \n",
       "[11] \"Creatinine\"                      \"Creatinine_in_urine\"            \n",
       "[13] \"Cystatin_C\"                      \"Direct_bilirubin\"               \n",
       "[15] \"eGFR\"                            \"Gamma_glutamyltransferase\"      \n",
       "[17] \"Glucose\"                         \"Glycated_haemoglobin_HbA1c\"     \n",
       "[19] \"HDL_cholesterol\"                 \"IGF_1\"                          \n",
       "[21] \"INI20150\"                        \"INI21001\"                       \n",
       "[23] \"INI23099\"                        \"INI23105\"                       \n",
       "[25] \"INI3063\"                         \"INI3064\"                        \n",
       "[27] \"INI4079\"                         \"INI4080\"                        \n",
       "[29] \"INI48\"                           \"INI49\"                          \n",
       "[31] \"INI50\"                           \"LDL_direct.adjust.statins\"      \n",
       "[33] \"leg_fp\"                          \"Lipoprotein_A\"                  \n",
       "[35] \"Non_albumin_protein\"             \"Phosphate\"                      \n",
       "[37] \"Potassium_in_urine\"              \"SHBG\"                           \n",
       "[39] \"Sodium_in_urine\"                 \"Testosterone\"                   \n",
       "[41] \"Total_bilirubin\"                 \"Total_protein\"                  \n",
       "[43] \"Triglycerides\"                   \"trunk_fp\"                       \n",
       "[45] \"Urate\"                           \"Urea\"                           \n",
       "[47] \"Vitamin_D\"                       \"whr\"                            "
      ]
     },
     "metadata": {},
     "output_type": "display_data"
    }
   ],
   "source": [
    "H_ERR_DIR <- \"../data/h_err_1021/\"\n",
    "\n",
    "\n",
    "# figure out what files are missing (just resubmitted)\n",
    "f.list <- list.files(H_ERR_DIR, pattern=\"*_1.txt\")\n",
    "traits <- str_replace_all(f.list, \"_1.txt\", \"\")\n",
    "length(f.list)\n",
    "traits\n",
    "\n",
    "numF <- lapply(traits, function(trait){\n",
    "    trait.files <- list.files(path=H_ERR_DIR, pattern=sprintf(\"%s_[0-9]+\",trait));\n",
    "    length(trait.files)\n",
    "    })"
   ]
  },
  {
   "cell_type": "code",
   "execution_count": 31,
   "metadata": {},
   "outputs": [
    {
     "data": {
      "text/plain": [
       "\n",
       "TRUE \n",
       "  48 "
      ]
     },
     "metadata": {},
     "output_type": "display_data"
    },
    {
     "data": {
      "text/html": [
       "<dl>\n",
       "</dl>\n"
      ],
      "text/latex": [
       "\\begin{description}\n",
       "\\end{description}\n"
      ],
      "text/markdown": [
       "\n",
       "\n"
      ],
      "text/plain": [
       "named list()"
      ]
     },
     "metadata": {},
     "output_type": "display_data"
    }
   ],
   "source": [
    "table(numF==100)\n",
    "names(numF) <- traits\n",
    "numF[numF != 100]"
   ]
  },
  {
   "cell_type": "code",
   "execution_count": 32,
   "metadata": {},
   "outputs": [
    {
     "data": {
      "text/html": [
       "<ol class=list-inline>\n",
       "\t<li>'f_Alanine_aminotransferase.RData'</li>\n",
       "\t<li>'f_Albumin.RData'</li>\n",
       "\t<li>'f_Alkaline_phosphatase.RData'</li>\n",
       "\t<li>'f_Apolipoprotein_A.RData'</li>\n",
       "\t<li>'f_Apolipoprotein_B.adjust.statins.RData'</li>\n",
       "\t<li>'f_Apolipoprotein_B.RData'</li>\n",
       "\t<li>'f_arm_fp.RData'</li>\n",
       "\t<li>'f_Aspartate_aminotransferase.RData'</li>\n",
       "\t<li>'f_C_reactive_protein.RData'</li>\n",
       "\t<li>'f_Calcium.RData'</li>\n",
       "\t<li>'f_Cholesterol.adjust.statins.RData'</li>\n",
       "\t<li>'f_Cholesterol.RData'</li>\n",
       "\t<li>'f_Creatinine_in_urine.RData'</li>\n",
       "\t<li>'f_Creatinine.RData'</li>\n",
       "\t<li>'f_Cystatin_C.RData'</li>\n",
       "\t<li>'f_Direct_bilirubin.RData'</li>\n",
       "\t<li>'f_eGFR.RData'</li>\n",
       "\t<li>'f_Fasting_glucose.RData'</li>\n",
       "\t<li>'f_Gamma_glutamyltransferase.RData'</li>\n",
       "\t<li>'f_Glucose.RData'</li>\n",
       "\t<li>'f_Glycated_haemoglobin_HbA1c.RData'</li>\n",
       "\t<li>'f_HDL_cholesterol.RData'</li>\n",
       "\t<li>'f_IGF_1.RData'</li>\n",
       "\t<li>'f_INI20150.RData'</li>\n",
       "\t<li>'f_INI21001.RData'</li>\n",
       "\t<li>'f_INI23099.RData'</li>\n",
       "\t<li>'f_INI23105.RData'</li>\n",
       "\t<li>'f_INI3063.RData'</li>\n",
       "\t<li>'f_INI3064.RData'</li>\n",
       "\t<li>'f_INI4079.RData'</li>\n",
       "\t<li>'f_INI4080.RData'</li>\n",
       "\t<li>'f_INI48.RData'</li>\n",
       "\t<li>'f_INI49.RData'</li>\n",
       "\t<li>'f_INI50.RData'</li>\n",
       "\t<li>'f_LDL_direct.adjust.statins.RData'</li>\n",
       "\t<li>'f_LDL_direct.RData'</li>\n",
       "\t<li>'f_leg_fp.RData'</li>\n",
       "\t<li>'f_Lipoprotein_A.RData'</li>\n",
       "\t<li>'f_Microalbumin_in_urine.RData'</li>\n",
       "\t<li>'f_Non_albumin_protein.RData'</li>\n",
       "\t<li>'f_Oestradiol.RData'</li>\n",
       "\t<li>'f_Phosphate.RData'</li>\n",
       "\t<li>'f_Potassium_in_urine.RData'</li>\n",
       "\t<li>'f_Rheumatoid_factor.RData'</li>\n",
       "\t<li>'f_SHBG.RData'</li>\n",
       "\t<li>'f_Sodium_in_urine.RData'</li>\n",
       "\t<li>'f_Testosterone.RData'</li>\n",
       "\t<li>'f_Total_bilirubin.RData'</li>\n",
       "\t<li>'f_Total_protein.RData'</li>\n",
       "\t<li>'f_Triglycerides.RData'</li>\n",
       "\t<li>'f_trunk_fp.RData'</li>\n",
       "\t<li>'f_Urate.RData'</li>\n",
       "\t<li>'f_Urea.RData'</li>\n",
       "\t<li>'f_Vitamin_D.RData'</li>\n",
       "\t<li>'f_whr.RData'</li>\n",
       "</ol>\n"
      ],
      "text/latex": [
       "\\begin{enumerate*}\n",
       "\\item 'f\\_Alanine\\_aminotransferase.RData'\n",
       "\\item 'f\\_Albumin.RData'\n",
       "\\item 'f\\_Alkaline\\_phosphatase.RData'\n",
       "\\item 'f\\_Apolipoprotein\\_A.RData'\n",
       "\\item 'f\\_Apolipoprotein\\_B.adjust.statins.RData'\n",
       "\\item 'f\\_Apolipoprotein\\_B.RData'\n",
       "\\item 'f\\_arm\\_fp.RData'\n",
       "\\item 'f\\_Aspartate\\_aminotransferase.RData'\n",
       "\\item 'f\\_C\\_reactive\\_protein.RData'\n",
       "\\item 'f\\_Calcium.RData'\n",
       "\\item 'f\\_Cholesterol.adjust.statins.RData'\n",
       "\\item 'f\\_Cholesterol.RData'\n",
       "\\item 'f\\_Creatinine\\_in\\_urine.RData'\n",
       "\\item 'f\\_Creatinine.RData'\n",
       "\\item 'f\\_Cystatin\\_C.RData'\n",
       "\\item 'f\\_Direct\\_bilirubin.RData'\n",
       "\\item 'f\\_eGFR.RData'\n",
       "\\item 'f\\_Fasting\\_glucose.RData'\n",
       "\\item 'f\\_Gamma\\_glutamyltransferase.RData'\n",
       "\\item 'f\\_Glucose.RData'\n",
       "\\item 'f\\_Glycated\\_haemoglobin\\_HbA1c.RData'\n",
       "\\item 'f\\_HDL\\_cholesterol.RData'\n",
       "\\item 'f\\_IGF\\_1.RData'\n",
       "\\item 'f\\_INI20150.RData'\n",
       "\\item 'f\\_INI21001.RData'\n",
       "\\item 'f\\_INI23099.RData'\n",
       "\\item 'f\\_INI23105.RData'\n",
       "\\item 'f\\_INI3063.RData'\n",
       "\\item 'f\\_INI3064.RData'\n",
       "\\item 'f\\_INI4079.RData'\n",
       "\\item 'f\\_INI4080.RData'\n",
       "\\item 'f\\_INI48.RData'\n",
       "\\item 'f\\_INI49.RData'\n",
       "\\item 'f\\_INI50.RData'\n",
       "\\item 'f\\_LDL\\_direct.adjust.statins.RData'\n",
       "\\item 'f\\_LDL\\_direct.RData'\n",
       "\\item 'f\\_leg\\_fp.RData'\n",
       "\\item 'f\\_Lipoprotein\\_A.RData'\n",
       "\\item 'f\\_Microalbumin\\_in\\_urine.RData'\n",
       "\\item 'f\\_Non\\_albumin\\_protein.RData'\n",
       "\\item 'f\\_Oestradiol.RData'\n",
       "\\item 'f\\_Phosphate.RData'\n",
       "\\item 'f\\_Potassium\\_in\\_urine.RData'\n",
       "\\item 'f\\_Rheumatoid\\_factor.RData'\n",
       "\\item 'f\\_SHBG.RData'\n",
       "\\item 'f\\_Sodium\\_in\\_urine.RData'\n",
       "\\item 'f\\_Testosterone.RData'\n",
       "\\item 'f\\_Total\\_bilirubin.RData'\n",
       "\\item 'f\\_Total\\_protein.RData'\n",
       "\\item 'f\\_Triglycerides.RData'\n",
       "\\item 'f\\_trunk\\_fp.RData'\n",
       "\\item 'f\\_Urate.RData'\n",
       "\\item 'f\\_Urea.RData'\n",
       "\\item 'f\\_Vitamin\\_D.RData'\n",
       "\\item 'f\\_whr.RData'\n",
       "\\end{enumerate*}\n"
      ],
      "text/markdown": [
       "1. 'f_Alanine_aminotransferase.RData'\n",
       "2. 'f_Albumin.RData'\n",
       "3. 'f_Alkaline_phosphatase.RData'\n",
       "4. 'f_Apolipoprotein_A.RData'\n",
       "5. 'f_Apolipoprotein_B.adjust.statins.RData'\n",
       "6. 'f_Apolipoprotein_B.RData'\n",
       "7. 'f_arm_fp.RData'\n",
       "8. 'f_Aspartate_aminotransferase.RData'\n",
       "9. 'f_C_reactive_protein.RData'\n",
       "10. 'f_Calcium.RData'\n",
       "11. 'f_Cholesterol.adjust.statins.RData'\n",
       "12. 'f_Cholesterol.RData'\n",
       "13. 'f_Creatinine_in_urine.RData'\n",
       "14. 'f_Creatinine.RData'\n",
       "15. 'f_Cystatin_C.RData'\n",
       "16. 'f_Direct_bilirubin.RData'\n",
       "17. 'f_eGFR.RData'\n",
       "18. 'f_Fasting_glucose.RData'\n",
       "19. 'f_Gamma_glutamyltransferase.RData'\n",
       "20. 'f_Glucose.RData'\n",
       "21. 'f_Glycated_haemoglobin_HbA1c.RData'\n",
       "22. 'f_HDL_cholesterol.RData'\n",
       "23. 'f_IGF_1.RData'\n",
       "24. 'f_INI20150.RData'\n",
       "25. 'f_INI21001.RData'\n",
       "26. 'f_INI23099.RData'\n",
       "27. 'f_INI23105.RData'\n",
       "28. 'f_INI3063.RData'\n",
       "29. 'f_INI3064.RData'\n",
       "30. 'f_INI4079.RData'\n",
       "31. 'f_INI4080.RData'\n",
       "32. 'f_INI48.RData'\n",
       "33. 'f_INI49.RData'\n",
       "34. 'f_INI50.RData'\n",
       "35. 'f_LDL_direct.adjust.statins.RData'\n",
       "36. 'f_LDL_direct.RData'\n",
       "37. 'f_leg_fp.RData'\n",
       "38. 'f_Lipoprotein_A.RData'\n",
       "39. 'f_Microalbumin_in_urine.RData'\n",
       "40. 'f_Non_albumin_protein.RData'\n",
       "41. 'f_Oestradiol.RData'\n",
       "42. 'f_Phosphate.RData'\n",
       "43. 'f_Potassium_in_urine.RData'\n",
       "44. 'f_Rheumatoid_factor.RData'\n",
       "45. 'f_SHBG.RData'\n",
       "46. 'f_Sodium_in_urine.RData'\n",
       "47. 'f_Testosterone.RData'\n",
       "48. 'f_Total_bilirubin.RData'\n",
       "49. 'f_Total_protein.RData'\n",
       "50. 'f_Triglycerides.RData'\n",
       "51. 'f_trunk_fp.RData'\n",
       "52. 'f_Urate.RData'\n",
       "53. 'f_Urea.RData'\n",
       "54. 'f_Vitamin_D.RData'\n",
       "55. 'f_whr.RData'\n",
       "\n",
       "\n"
      ],
      "text/plain": [
       " [1] \"f_Alanine_aminotransferase.RData\"       \n",
       " [2] \"f_Albumin.RData\"                        \n",
       " [3] \"f_Alkaline_phosphatase.RData\"           \n",
       " [4] \"f_Apolipoprotein_A.RData\"               \n",
       " [5] \"f_Apolipoprotein_B.adjust.statins.RData\"\n",
       " [6] \"f_Apolipoprotein_B.RData\"               \n",
       " [7] \"f_arm_fp.RData\"                         \n",
       " [8] \"f_Aspartate_aminotransferase.RData\"     \n",
       " [9] \"f_C_reactive_protein.RData\"             \n",
       "[10] \"f_Calcium.RData\"                        \n",
       "[11] \"f_Cholesterol.adjust.statins.RData\"     \n",
       "[12] \"f_Cholesterol.RData\"                    \n",
       "[13] \"f_Creatinine_in_urine.RData\"            \n",
       "[14] \"f_Creatinine.RData\"                     \n",
       "[15] \"f_Cystatin_C.RData\"                     \n",
       "[16] \"f_Direct_bilirubin.RData\"               \n",
       "[17] \"f_eGFR.RData\"                           \n",
       "[18] \"f_Fasting_glucose.RData\"                \n",
       "[19] \"f_Gamma_glutamyltransferase.RData\"      \n",
       "[20] \"f_Glucose.RData\"                        \n",
       "[21] \"f_Glycated_haemoglobin_HbA1c.RData\"     \n",
       "[22] \"f_HDL_cholesterol.RData\"                \n",
       "[23] \"f_IGF_1.RData\"                          \n",
       "[24] \"f_INI20150.RData\"                       \n",
       "[25] \"f_INI21001.RData\"                       \n",
       "[26] \"f_INI23099.RData\"                       \n",
       "[27] \"f_INI23105.RData\"                       \n",
       "[28] \"f_INI3063.RData\"                        \n",
       "[29] \"f_INI3064.RData\"                        \n",
       "[30] \"f_INI4079.RData\"                        \n",
       "[31] \"f_INI4080.RData\"                        \n",
       "[32] \"f_INI48.RData\"                          \n",
       "[33] \"f_INI49.RData\"                          \n",
       "[34] \"f_INI50.RData\"                          \n",
       "[35] \"f_LDL_direct.adjust.statins.RData\"      \n",
       "[36] \"f_LDL_direct.RData\"                     \n",
       "[37] \"f_leg_fp.RData\"                         \n",
       "[38] \"f_Lipoprotein_A.RData\"                  \n",
       "[39] \"f_Microalbumin_in_urine.RData\"          \n",
       "[40] \"f_Non_albumin_protein.RData\"            \n",
       "[41] \"f_Oestradiol.RData\"                     \n",
       "[42] \"f_Phosphate.RData\"                      \n",
       "[43] \"f_Potassium_in_urine.RData\"             \n",
       "[44] \"f_Rheumatoid_factor.RData\"              \n",
       "[45] \"f_SHBG.RData\"                           \n",
       "[46] \"f_Sodium_in_urine.RData\"                \n",
       "[47] \"f_Testosterone.RData\"                   \n",
       "[48] \"f_Total_bilirubin.RData\"                \n",
       "[49] \"f_Total_protein.RData\"                  \n",
       "[50] \"f_Triglycerides.RData\"                  \n",
       "[51] \"f_trunk_fp.RData\"                       \n",
       "[52] \"f_Urate.RData\"                          \n",
       "[53] \"f_Urea.RData\"                           \n",
       "[54] \"f_Vitamin_D.RData\"                      \n",
       "[55] \"f_whr.RData\"                            "
      ]
     },
     "metadata": {},
     "output_type": "display_data"
    },
    {
     "data": {
      "text/html": [
       "<ol class=list-inline>\n",
       "\t<li>'Apolipoprotein_B'</li>\n",
       "\t<li>'Cholesterol'</li>\n",
       "\t<li>'Fasting_glucose'</li>\n",
       "\t<li>'LDL_direct'</li>\n",
       "\t<li>'Microalbumin_in_urine'</li>\n",
       "\t<li>'Oestradiol'</li>\n",
       "\t<li>'Rheumatoid_factor'</li>\n",
       "</ol>\n"
      ],
      "text/latex": [
       "\\begin{enumerate*}\n",
       "\\item 'Apolipoprotein\\_B'\n",
       "\\item 'Cholesterol'\n",
       "\\item 'Fasting\\_glucose'\n",
       "\\item 'LDL\\_direct'\n",
       "\\item 'Microalbumin\\_in\\_urine'\n",
       "\\item 'Oestradiol'\n",
       "\\item 'Rheumatoid\\_factor'\n",
       "\\end{enumerate*}\n"
      ],
      "text/markdown": [
       "1. 'Apolipoprotein_B'\n",
       "2. 'Cholesterol'\n",
       "3. 'Fasting_glucose'\n",
       "4. 'LDL_direct'\n",
       "5. 'Microalbumin_in_urine'\n",
       "6. 'Oestradiol'\n",
       "7. 'Rheumatoid_factor'\n",
       "\n",
       "\n"
      ],
      "text/plain": [
       "[1] \"Apolipoprotein_B\"      \"Cholesterol\"           \"Fasting_glucose\"      \n",
       "[4] \"LDL_direct\"            \"Microalbumin_in_urine\" \"Oestradiol\"           \n",
       "[7] \"Rheumatoid_factor\"    "
      ]
     },
     "metadata": {},
     "output_type": "display_data"
    }
   ],
   "source": [
    "BIOMARKER.DIR <- \"../data/1019/m1/\"\n",
    "biomarker_traits <- list.files(BIOMARKER.DIR, pattern=\"*.RData\")\n",
    "biomarker_traits\n",
    "biomarkers <- sapply(biomarker_traits, function(x) strsplit(strsplit(x, \"f_\",fixed=TRUE)[[1]][[2]], \".RData\")[[1]][[1]])\n",
    "setdiff(biomarkers, traits) # this is good, these shouldnt be run! "
   ]
  },
  {
   "cell_type": "code",
   "execution_count": 25,
   "metadata": {},
   "outputs": [
    {
     "name": "stdout",
     "output_type": "stream",
     "text": [
      "[1] \"sbatch --array=63,64,65,66,67,68,69,70,85,86 submit_err_bars_c.sh Creatinine_in_urine 1;\"\n",
      "[1] \"sbatch --array=89,90 submit_err_bars_c.sh INI23105 1;\"\n",
      "[1] \"sbatch --array=76,77,78,79 submit_err_bars_c.sh trunk_fp 1;\"\n"
     ]
    },
    {
     "name": "stderr",
     "output_type": "stream",
     "text": [
      "ERROR while rich displaying an object: Error in vapply(seq_along(mapped), function(i) {: values must be length 1,\n",
      " but FUN(X[[1]]) result is length 0\n",
      "\n",
      "Traceback:\n",
      "1. FUN(X[[i]], ...)\n",
      "2. tryCatch(withCallingHandlers({\n",
      " .     rpr <- mime2repr[[mime]](obj)\n",
      " .     if (is.null(rpr)) \n",
      " .         return(NULL)\n",
      " .     prepare_content(is.raw(rpr), rpr)\n",
      " . }, error = error_handler), error = outer_handler)\n",
      "3. tryCatchList(expr, classes, parentenv, handlers)\n",
      "4. tryCatchOne(expr, names, parentenv, handlers[[1L]])\n",
      "5. doTryCatch(return(expr), name, parentenv, handler)\n",
      "6. withCallingHandlers({\n",
      " .     rpr <- mime2repr[[mime]](obj)\n",
      " .     if (is.null(rpr)) \n",
      " .         return(NULL)\n",
      " .     prepare_content(is.raw(rpr), rpr)\n",
      " . }, error = error_handler)\n",
      "7. mime2repr[[mime]](obj)\n",
      "8. repr_html.list(obj)\n",
      "9. repr_list_generic(obj, \"html\", \"\\t<li>%s</li>\\n\", \"\\t<dt>$%s</dt>\\n\\t\\t<dd>%s</dd>\\n\", \n",
      " .     \"<strong>$%s</strong> = %s\", \"<ol>\\n%s</ol>\\n\", \"<dl>\\n%s</dl>\\n\", \n",
      " .     numeric_item = \"\\t<dt>[[%s]]</dt>\\n\\t\\t<dd>%s</dd>\\n\", escape_fun = html_escape)\n",
      "10. vapply(seq_along(mapped), function(i) {\n",
      "  .     nm <- nms[[i]]\n",
      "  .     if (is.na(nm) || nchar(nm) == 0) {\n",
      "  .         sprintf(numeric_item, i, mapped[[i]])\n",
      "  .     }\n",
      "  .     else {\n",
      "  .         sprintf(named_item, nms[[i]], mapped[[i]])\n",
      "  .     }\n",
      "  . }, character(1))\n",
      "ERROR while rich displaying an object: Error in vapply(seq_along(mapped), function(i) {: values must be length 1,\n",
      " but FUN(X[[1]]) result is length 0\n",
      "\n",
      "Traceback:\n",
      "1. FUN(X[[i]], ...)\n",
      "2. tryCatch(withCallingHandlers({\n",
      " .     rpr <- mime2repr[[mime]](obj)\n",
      " .     if (is.null(rpr)) \n",
      " .         return(NULL)\n",
      " .     prepare_content(is.raw(rpr), rpr)\n",
      " . }, error = error_handler), error = outer_handler)\n",
      "3. tryCatchList(expr, classes, parentenv, handlers)\n",
      "4. tryCatchOne(expr, names, parentenv, handlers[[1L]])\n",
      "5. doTryCatch(return(expr), name, parentenv, handler)\n",
      "6. withCallingHandlers({\n",
      " .     rpr <- mime2repr[[mime]](obj)\n",
      " .     if (is.null(rpr)) \n",
      " .         return(NULL)\n",
      " .     prepare_content(is.raw(rpr), rpr)\n",
      " . }, error = error_handler)\n",
      "7. mime2repr[[mime]](obj)\n",
      "8. repr_markdown.list(obj)\n",
      "9. repr_list_generic(obj, \"markdown\", \"%s. %s\\n\", \"$%s\\n:   %s\\n\", \n",
      " .     \"**$%s** = %s\", \"%s\\n\\n\", numeric_item = \"[[%s]]\\n:   %s\\n\", \n",
      " .     item_uses_numbers = TRUE, escape_fun = html_escape)\n",
      "10. vapply(seq_along(mapped), function(i) {\n",
      "  .     nm <- nms[[i]]\n",
      "  .     if (is.na(nm) || nchar(nm) == 0) {\n",
      "  .         sprintf(numeric_item, i, mapped[[i]])\n",
      "  .     }\n",
      "  .     else {\n",
      "  .         sprintf(named_item, nms[[i]], mapped[[i]])\n",
      "  .     }\n",
      "  . }, character(1))\n",
      "ERROR while rich displaying an object: Error in vapply(seq_along(mapped), function(i) {: values must be length 1,\n",
      " but FUN(X[[1]]) result is length 0\n",
      "\n",
      "Traceback:\n",
      "1. FUN(X[[i]], ...)\n",
      "2. tryCatch(withCallingHandlers({\n",
      " .     rpr <- mime2repr[[mime]](obj)\n",
      " .     if (is.null(rpr)) \n",
      " .         return(NULL)\n",
      " .     prepare_content(is.raw(rpr), rpr)\n",
      " . }, error = error_handler), error = outer_handler)\n",
      "3. tryCatchList(expr, classes, parentenv, handlers)\n",
      "4. tryCatchOne(expr, names, parentenv, handlers[[1L]])\n",
      "5. doTryCatch(return(expr), name, parentenv, handler)\n",
      "6. withCallingHandlers({\n",
      " .     rpr <- mime2repr[[mime]](obj)\n",
      " .     if (is.null(rpr)) \n",
      " .         return(NULL)\n",
      " .     prepare_content(is.raw(rpr), rpr)\n",
      " . }, error = error_handler)\n",
      "7. mime2repr[[mime]](obj)\n",
      "8. repr_latex.list(obj)\n",
      "9. repr_list_generic(obj, \"latex\", \"\\\\item %s\\n\", \"\\\\item[\\\\$%s] %s\\n\", \n",
      " .     \"\\\\textbf{\\\\$%s} = %s\", enum_wrap = \"\\\\begin{enumerate}\\n%s\\\\end{enumerate}\\n\", \n",
      " .     named_wrap = \"\\\\begin{description}\\n%s\\\\end{description}\\n\", \n",
      " .     numeric_item = \"\\\\item[{[[%s]]}] %s\\n\", escape_fun = latex_escape)\n",
      "10. vapply(seq_along(mapped), function(i) {\n",
      "  .     nm <- nms[[i]]\n",
      "  .     if (is.na(nm) || nchar(nm) == 0) {\n",
      "  .         sprintf(numeric_item, i, mapped[[i]])\n",
      "  .     }\n",
      "  .     else {\n",
      "  .         sprintf(named_item, nms[[i]], mapped[[i]])\n",
      "  .     }\n",
      "  . }, character(1))\n"
     ]
    },
    {
     "data": {
      "text/plain": [
       "$Alanine_aminotransferase\n",
       "NULL\n",
       "\n",
       "$Albumin\n",
       "NULL\n",
       "\n",
       "$Alkaline_phosphatase\n",
       "NULL\n",
       "\n",
       "$Apolipoprotein_A\n",
       "NULL\n",
       "\n",
       "$Apolipoprotein_B.adjust.statins\n",
       "NULL\n",
       "\n",
       "$arm_fp\n",
       "NULL\n",
       "\n",
       "$Aspartate_aminotransferase\n",
       "NULL\n",
       "\n",
       "$C_reactive_protein\n",
       "NULL\n",
       "\n",
       "$Calcium\n",
       "NULL\n",
       "\n",
       "$Cholesterol.adjust.statins\n",
       "NULL\n",
       "\n",
       "$Creatinine\n",
       "NULL\n",
       "\n",
       "$Creatinine_in_urine\n",
       "[1] 0\n",
       "\n",
       "$Cystatin_C\n",
       "NULL\n",
       "\n",
       "$Direct_bilirubin\n",
       "NULL\n",
       "\n",
       "$eGFR\n",
       "NULL\n",
       "\n",
       "$Gamma_glutamyltransferase\n",
       "NULL\n",
       "\n",
       "$Glucose\n",
       "NULL\n",
       "\n",
       "$Glycated_haemoglobin_HbA1c\n",
       "NULL\n",
       "\n",
       "$HDL_cholesterol\n",
       "NULL\n",
       "\n",
       "$IGF_1\n",
       "NULL\n",
       "\n",
       "$INI20150\n",
       "NULL\n",
       "\n",
       "$INI21001\n",
       "NULL\n",
       "\n",
       "$INI23099\n",
       "NULL\n",
       "\n",
       "$INI23105\n",
       "[1] 0\n",
       "\n",
       "$INI3063\n",
       "NULL\n",
       "\n",
       "$INI3064\n",
       "NULL\n",
       "\n",
       "$INI4079\n",
       "NULL\n",
       "\n",
       "$INI4080\n",
       "NULL\n",
       "\n",
       "$INI48\n",
       "NULL\n",
       "\n",
       "$INI49\n",
       "NULL\n",
       "\n",
       "$INI50\n",
       "NULL\n",
       "\n",
       "$LDL_direct.adjust.statins\n",
       "NULL\n",
       "\n",
       "$leg_fp\n",
       "NULL\n",
       "\n",
       "$Lipoprotein_A\n",
       "NULL\n",
       "\n",
       "$Non_albumin_protein\n",
       "NULL\n",
       "\n",
       "$Phosphate\n",
       "NULL\n",
       "\n",
       "$Potassium_in_urine\n",
       "NULL\n",
       "\n",
       "$SHBG\n",
       "NULL\n",
       "\n",
       "$Sodium_in_urine\n",
       "NULL\n",
       "\n",
       "$Testosterone\n",
       "NULL\n",
       "\n",
       "$Total_bilirubin\n",
       "NULL\n",
       "\n",
       "$Total_protein\n",
       "NULL\n",
       "\n",
       "$Triglycerides\n",
       "NULL\n",
       "\n",
       "$trunk_fp\n",
       "[1] 0\n",
       "\n",
       "$Urate\n",
       "NULL\n",
       "\n",
       "$Urea\n",
       "NULL\n",
       "\n",
       "$Vitamin_D\n",
       "NULL\n",
       "\n",
       "$whr\n",
       "NULL\n"
      ]
     },
     "metadata": {},
     "output_type": "display_data"
    }
   ],
   "source": [
    "# go thru each and submit the missing ones\n",
    "setwd(\"../mixture_model_scripts/\")\n",
    "sapply(traits, function(trait) {\n",
    "    trait.files <- list.files(path=H_ERR_DIR, pattern=sprintf(\"%s_[0-9]+\",trait));\n",
    "    if (length(trait.files)!=100){\n",
    "            missing_n <- setdiff(sapply(1:100, as.character), str_replace_all(trait.files, sprintf(\".txt|%s_\", trait), \"\")) # this doesn't work for the INI files\n",
    "        missing_n_str <- paste(missing_n, collapse=\",\")\n",
    "        cmd <- sprintf(\"sbatch --array=%s submit_err_bars_c.sh %s 1;\", missing_n_str, trait)\n",
    "        print(cmd)\n",
    "        system(cmd)\n",
    "    }\n",
    "\n",
    "    })"
   ]
  },
  {
   "cell_type": "code",
   "execution_count": 33,
   "metadata": {
    "collapsed": true
   },
   "outputs": [],
   "source": [
    "OUT_DIR <- \"../data/aggreg_1021/\"\n",
    "\n",
    "num_draws <- 1600\n",
    "\n",
    "\n",
    "getInt <- function(vec_est){\n",
    "    vec_o <- vec_est[order(vec_est)]\n",
    "    return(vec_o[c(floor(num_draws*0.025),floor(num_draws*0.5),ceiling(num_draws*0.975)) ])\n",
    "}\n",
    "\n",
    "getHeritErr <- function(trait){\n",
    "    trait.files <- list.files(path=H_ERR_DIR, pattern=sprintf(\"%s_[0-9]+\",trait));\n",
    "    stopifnot(length(trait.files) == 100)\n",
    "    h_est <- do.call(rbind, lapply(trait.files, function(x) read.table(sprintf(\"%s/%s\", H_ERR_DIR, x), header=TRUE)))\n",
    "    stopifnot(nrow(h_est) == num_draws)   \n",
    "\n",
    "    value <- c(getInt(h_est$h_f), getInt(h_est$h_m))\n",
    "    sex <- c(rep(\"f\", 3), rep(\"m\", 3))\n",
    "    int <- c(\"l\", \"c\", \"u\", \"l\", \"c\", \"u\")\n",
    "    df <- data.frame(int, sex, value)\n",
    "    df$trait <- trait\n",
    "    return(df)\n",
    "}\n",
    "\n",
    "herit_err <- do.call(rbind, lapply(traits, getHeritErr))"
   ]
  },
  {
   "cell_type": "code",
   "execution_count": 34,
   "metadata": {
    "collapsed": true
   },
   "outputs": [],
   "source": [
    "write_csv(herit_err, \"../data/aggreg_1020/m1_herit.csv\")"
   ]
  },
  {
   "cell_type": "markdown",
   "metadata": {},
   "source": [
    "#### other M1 output\n"
   ]
  },
  {
   "cell_type": "code",
   "execution_count": 35,
   "metadata": {},
   "outputs": [
    {
     "data": {
      "text/html": [
       "<table>\n",
       "<thead><tr><th scope=col>int</th><th scope=col>sex</th><th scope=col>value</th><th scope=col>trait</th></tr></thead>\n",
       "<tbody>\n",
       "\t<tr><td>l                       </td><td>f                       </td><td>0.1338918               </td><td>Alanine_aminotransferase</td></tr>\n",
       "\t<tr><td>c                       </td><td>f                       </td><td>0.1389386               </td><td>Alanine_aminotransferase</td></tr>\n",
       "\t<tr><td>u                       </td><td>f                       </td><td>0.1433521               </td><td>Alanine_aminotransferase</td></tr>\n",
       "\t<tr><td>l                       </td><td>m                       </td><td>0.1342270               </td><td>Alanine_aminotransferase</td></tr>\n",
       "\t<tr><td>c                       </td><td>m                       </td><td>0.1389054               </td><td>Alanine_aminotransferase</td></tr>\n",
       "\t<tr><td>u                       </td><td>m                       </td><td>0.1439040               </td><td>Alanine_aminotransferase</td></tr>\n",
       "</tbody>\n",
       "</table>\n"
      ],
      "text/latex": [
       "\\begin{tabular}{r|llll}\n",
       " int & sex & value & trait\\\\\n",
       "\\hline\n",
       "\t l                          & f                          & 0.1338918                  & Alanine\\_aminotransferase\\\\\n",
       "\t c                          & f                          & 0.1389386                  & Alanine\\_aminotransferase\\\\\n",
       "\t u                          & f                          & 0.1433521                  & Alanine\\_aminotransferase\\\\\n",
       "\t l                          & m                          & 0.1342270                  & Alanine\\_aminotransferase\\\\\n",
       "\t c                          & m                          & 0.1389054                  & Alanine\\_aminotransferase\\\\\n",
       "\t u                          & m                          & 0.1439040                  & Alanine\\_aminotransferase\\\\\n",
       "\\end{tabular}\n"
      ],
      "text/markdown": [
       "\n",
       "int | sex | value | trait | \n",
       "|---|---|---|---|---|---|\n",
       "| l                        | f                        | 0.1338918                | Alanine_aminotransferase | \n",
       "| c                        | f                        | 0.1389386                | Alanine_aminotransferase | \n",
       "| u                        | f                        | 0.1433521                | Alanine_aminotransferase | \n",
       "| l                        | m                        | 0.1342270                | Alanine_aminotransferase | \n",
       "| c                        | m                        | 0.1389054                | Alanine_aminotransferase | \n",
       "| u                        | m                        | 0.1439040                | Alanine_aminotransferase | \n",
       "\n",
       "\n"
      ],
      "text/plain": [
       "  int sex value     trait                   \n",
       "1 l   f   0.1338918 Alanine_aminotransferase\n",
       "2 c   f   0.1389386 Alanine_aminotransferase\n",
       "3 u   f   0.1433521 Alanine_aminotransferase\n",
       "4 l   m   0.1342270 Alanine_aminotransferase\n",
       "5 c   m   0.1389054 Alanine_aminotransferase\n",
       "6 u   m   0.1439040 Alanine_aminotransferase"
      ]
     },
     "metadata": {},
     "output_type": "display_data"
    }
   ],
   "source": []
  },
  {
   "cell_type": "code",
   "execution_count": 27,
   "metadata": {},
   "outputs": [
    {
     "name": "stderr",
     "output_type": "stream",
     "text": [
      "Loading required package: rstan\n",
      "Warning message in library(package, lib.loc = lib.loc, character.only = TRUE, logical.return = TRUE, :\n",
      "“there is no package called ‘rstan’”Warning message:\n",
      "“namespace ‘rstan’ is not available and has been replaced\n",
      "by .GlobalEnv when processing object ‘fit1’”Loading required package: rstan\n",
      "Warning message in library(package, lib.loc = lib.loc, character.only = TRUE, logical.return = TRUE, :\n",
      "“there is no package called ‘rstan’”"
     ]
    },
    {
     "ename": "ERROR",
     "evalue": "Error in .requirePackage(package): unable to find required package ‘rstan’\n",
     "output_type": "error",
     "traceback": [
      "Error in .requirePackage(package): unable to find required package ‘rstan’\nTraceback:\n",
      "1. do.call(rbind, lapply(traits, getRgCorrect))",
      "2. lapply(traits, getRgCorrect)",
      "3. FUN(X[[i]], ...)",
      "4. summary(fit1, pars = c(\"Omegacor\"), probs = c(0.05, 0.5, 0.95))   # at line 11 of file <text>",
      "5. .extendsForS3(structure(\"stanfit\", package = \"rstan\"))",
      "6. extends(Class, maybe = FALSE)",
      "7. getClassDef(class1)",
      "8. .requirePackage(package)",
      "9. stop(gettextf(\"unable to find required package %s\", sQuote(package)), \n .     domain = NA)"
     ]
    }
   ],
   "source": [
    "#getRgMulti <- function(fit, ndim){\n",
    "    #rg <- cov2cor(S)\n",
    "    #return(rg[1,2])\n",
    "\n",
    "#    return(rg[upper.tri(rg, diag=FALSE)])\n",
    "#}\n",
    "require('rstan')\n",
    "ndim <- 2\n",
    "getRgCorrect <- function(trait){\n",
    "    load(sprintf(\"../data/1019/m1/f_%s.RData\", trait))\n",
    "    fit_summ_R <- summary(fit1, pars=c(\"Omegacor\"), probs=c(0.05, 0.50, 0.95))\n",
    "    rg <- matrix(fit_summ_R$summary[,c(\"50%\")], ndim, ndim)\n",
    "    rg.val <- rg[upper.tri(rg, diag=FALSE)]\n",
    "    data.frame(\"trait\"=trait, unlist(rg.val))\n",
    "}\n",
    "rg_tab <- do.call(rbind, lapply(traits, getRgCorrect))"
   ]
  },
  {
   "cell_type": "code",
   "execution_count": 22,
   "metadata": {},
   "outputs": [
    {
     "data": {
      "text/html": [
       "<table>\n",
       "<thead><tr><th scope=col>trait</th><th scope=col>rg</th></tr></thead>\n",
       "<tbody>\n",
       "\t<tr><td>Alanine_aminotransferase       </td><td>0.9308202                      </td></tr>\n",
       "\t<tr><td>Albumin                        </td><td>0.9811127                      </td></tr>\n",
       "\t<tr><td>Alkaline_phosphatase           </td><td>0.9889772                      </td></tr>\n",
       "\t<tr><td>Apolipoprotein_A               </td><td>0.9785261                      </td></tr>\n",
       "\t<tr><td>Apolipoprotein_B.adjust.statins</td><td>0.9871582                      </td></tr>\n",
       "\t<tr><td>arm_fp                         </td><td>0.4260306                      </td></tr>\n",
       "</tbody>\n",
       "</table>\n"
      ],
      "text/latex": [
       "\\begin{tabular}{r|ll}\n",
       " trait & rg\\\\\n",
       "\\hline\n",
       "\t Alanine\\_aminotransferase        & 0.9308202                        \\\\\n",
       "\t Albumin                         & 0.9811127                      \\\\\n",
       "\t Alkaline\\_phosphatase            & 0.9889772                        \\\\\n",
       "\t Apolipoprotein\\_A                & 0.9785261                        \\\\\n",
       "\t Apolipoprotein\\_B.adjust.statins & 0.9871582                        \\\\\n",
       "\t arm\\_fp                          & 0.4260306                        \\\\\n",
       "\\end{tabular}\n"
      ],
      "text/markdown": [
       "\n",
       "trait | rg | \n",
       "|---|---|---|---|---|---|\n",
       "| Alanine_aminotransferase        | 0.9308202                       | \n",
       "| Albumin                         | 0.9811127                       | \n",
       "| Alkaline_phosphatase            | 0.9889772                       | \n",
       "| Apolipoprotein_A                | 0.9785261                       | \n",
       "| Apolipoprotein_B.adjust.statins | 0.9871582                       | \n",
       "| arm_fp                          | 0.4260306                       | \n",
       "\n",
       "\n"
      ],
      "text/plain": [
       "  trait                           rg       \n",
       "1 Alanine_aminotransferase        0.9308202\n",
       "2 Albumin                         0.9811127\n",
       "3 Alkaline_phosphatase            0.9889772\n",
       "4 Apolipoprotein_A                0.9785261\n",
       "5 Apolipoprotein_B.adjust.statins 0.9871582\n",
       "6 arm_fp                          0.4260306"
      ]
     },
     "metadata": {},
     "output_type": "display_data"
    },
    {
     "data": {
      "text/html": [
       "<ol class=list-inline>\n",
       "\t<li>48</li>\n",
       "\t<li>2</li>\n",
       "</ol>\n"
      ],
      "text/latex": [
       "\\begin{enumerate*}\n",
       "\\item 48\n",
       "\\item 2\n",
       "\\end{enumerate*}\n"
      ],
      "text/markdown": [
       "1. 48\n",
       "2. 2\n",
       "\n",
       "\n"
      ],
      "text/plain": [
       "[1] 48  2"
      ]
     },
     "metadata": {},
     "output_type": "display_data"
    }
   ],
   "source": [
    "head(rg_tab)\n",
    "dim(rg_tab)"
   ]
  },
  {
   "cell_type": "code",
   "execution_count": 40,
   "metadata": {},
   "outputs": [
    {
     "name": "stderr",
     "output_type": "stream",
     "text": [
      "Parsed with column specification:\n",
      "cols(\n",
      "  X1 = col_character()\n",
      ")\n"
     ]
    }
   ],
   "source": [
    "anthro_traits <- read_tsv(\"../data/anthro_traits_supp.txt\", col_names=FALSE)\n"
   ]
  },
  {
   "cell_type": "code",
   "execution_count": 17,
   "metadata": {},
   "outputs": [
    {
     "name": "stderr",
     "output_type": "stream",
     "text": [
      "Parsed with column specification:\n",
      "cols(\n",
      "  X1 = col_character()\n",
      ")\n"
     ]
    },
    {
     "data": {
      "text/html": [
       "<ol class=list-inline>\n",
       "\t<li>'whr'</li>\n",
       "\t<li>'INI21001'</li>\n",
       "\t<li>'INI50'</li>\n",
       "\t<li>'INI48'</li>\n",
       "\t<li>'INI49'</li>\n",
       "\t<li>'INI4079'</li>\n",
       "\t<li>'INI4080'</li>\n",
       "\t<li>'INI20150'</li>\n",
       "\t<li>'INI3063'</li>\n",
       "\t<li>'INI3064'</li>\n",
       "\t<li>'INI23099'</li>\n",
       "\t<li>'INI23105'</li>\n",
       "\t<li>'trunk_fp'</li>\n",
       "\t<li>'leg_fp'</li>\n",
       "\t<li>'arm_fp'</li>\n",
       "</ol>\n"
      ],
      "text/latex": [
       "\\begin{enumerate*}\n",
       "\\item 'whr'\n",
       "\\item 'INI21001'\n",
       "\\item 'INI50'\n",
       "\\item 'INI48'\n",
       "\\item 'INI49'\n",
       "\\item 'INI4079'\n",
       "\\item 'INI4080'\n",
       "\\item 'INI20150'\n",
       "\\item 'INI3063'\n",
       "\\item 'INI3064'\n",
       "\\item 'INI23099'\n",
       "\\item 'INI23105'\n",
       "\\item 'trunk\\_fp'\n",
       "\\item 'leg\\_fp'\n",
       "\\item 'arm\\_fp'\n",
       "\\end{enumerate*}\n"
      ],
      "text/markdown": [
       "1. 'whr'\n",
       "2. 'INI21001'\n",
       "3. 'INI50'\n",
       "4. 'INI48'\n",
       "5. 'INI49'\n",
       "6. 'INI4079'\n",
       "7. 'INI4080'\n",
       "8. 'INI20150'\n",
       "9. 'INI3063'\n",
       "10. 'INI3064'\n",
       "11. 'INI23099'\n",
       "12. 'INI23105'\n",
       "13. 'trunk_fp'\n",
       "14. 'leg_fp'\n",
       "15. 'arm_fp'\n",
       "\n",
       "\n"
      ],
      "text/plain": [
       " [1] \"whr\"      \"INI21001\" \"INI50\"    \"INI48\"    \"INI49\"    \"INI4079\" \n",
       " [7] \"INI4080\"  \"INI20150\" \"INI3063\"  \"INI3064\"  \"INI23099\" \"INI23105\"\n",
       "[13] \"trunk_fp\" \"leg_fp\"   \"arm_fp\"  "
      ]
     },
     "metadata": {},
     "output_type": "display_data"
    },
    {
     "data": {
      "text/html": [
       "<ol class=list-inline>\n",
       "\t<li>'Alanine_aminotransferase'</li>\n",
       "\t<li>'Albumin'</li>\n",
       "\t<li>'Alkaline_phosphatase'</li>\n",
       "\t<li>'Apolipoprotein_A'</li>\n",
       "\t<li>'Apolipoprotein_B.adjust.statins'</li>\n",
       "\t<li>'Apolipoprotein_B'</li>\n",
       "\t<li>'Aspartate_aminotransferase'</li>\n",
       "\t<li>'C_reactive_protein'</li>\n",
       "\t<li>'Calcium'</li>\n",
       "\t<li>'Cholesterol.adjust.statins'</li>\n",
       "\t<li>'Cholesterol'</li>\n",
       "\t<li>'Creatinine_in_urine'</li>\n",
       "\t<li>'Creatinine'</li>\n",
       "\t<li>'Cystatin_C'</li>\n",
       "\t<li>'Direct_bilirubin'</li>\n",
       "\t<li>'eGFR'</li>\n",
       "\t<li>'Fasting_glucose'</li>\n",
       "\t<li>'Gamma_glutamyltransferase'</li>\n",
       "\t<li>'Glucose'</li>\n",
       "\t<li>'Glycated_haemoglobin_HbA1c'</li>\n",
       "\t<li>'HDL_cholesterol'</li>\n",
       "\t<li>'IGF_1'</li>\n",
       "\t<li>'LDL_direct.adjust.statins'</li>\n",
       "\t<li>'LDL_direct'</li>\n",
       "\t<li>'Lipoprotein_A'</li>\n",
       "\t<li>'Microalbumin_in_urine'</li>\n",
       "\t<li>'Non_albumin_protein'</li>\n",
       "\t<li>'Oestradiol'</li>\n",
       "\t<li>'Phosphate'</li>\n",
       "\t<li>'Potassium_in_urine'</li>\n",
       "\t<li>'Rheumatoid_factor'</li>\n",
       "\t<li>'SHBG'</li>\n",
       "\t<li>'Sodium_in_urine'</li>\n",
       "\t<li>'Testosterone'</li>\n",
       "\t<li>'Total_bilirubin'</li>\n",
       "\t<li>'Total_protein'</li>\n",
       "\t<li>'Triglycerides'</li>\n",
       "\t<li>'Urate'</li>\n",
       "\t<li>'Urea'</li>\n",
       "\t<li>'Vitamin_D'</li>\n",
       "</ol>\n"
      ],
      "text/latex": [
       "\\begin{enumerate*}\n",
       "\\item 'Alanine\\_aminotransferase'\n",
       "\\item 'Albumin'\n",
       "\\item 'Alkaline\\_phosphatase'\n",
       "\\item 'Apolipoprotein\\_A'\n",
       "\\item 'Apolipoprotein\\_B.adjust.statins'\n",
       "\\item 'Apolipoprotein\\_B'\n",
       "\\item 'Aspartate\\_aminotransferase'\n",
       "\\item 'C\\_reactive\\_protein'\n",
       "\\item 'Calcium'\n",
       "\\item 'Cholesterol.adjust.statins'\n",
       "\\item 'Cholesterol'\n",
       "\\item 'Creatinine\\_in\\_urine'\n",
       "\\item 'Creatinine'\n",
       "\\item 'Cystatin\\_C'\n",
       "\\item 'Direct\\_bilirubin'\n",
       "\\item 'eGFR'\n",
       "\\item 'Fasting\\_glucose'\n",
       "\\item 'Gamma\\_glutamyltransferase'\n",
       "\\item 'Glucose'\n",
       "\\item 'Glycated\\_haemoglobin\\_HbA1c'\n",
       "\\item 'HDL\\_cholesterol'\n",
       "\\item 'IGF\\_1'\n",
       "\\item 'LDL\\_direct.adjust.statins'\n",
       "\\item 'LDL\\_direct'\n",
       "\\item 'Lipoprotein\\_A'\n",
       "\\item 'Microalbumin\\_in\\_urine'\n",
       "\\item 'Non\\_albumin\\_protein'\n",
       "\\item 'Oestradiol'\n",
       "\\item 'Phosphate'\n",
       "\\item 'Potassium\\_in\\_urine'\n",
       "\\item 'Rheumatoid\\_factor'\n",
       "\\item 'SHBG'\n",
       "\\item 'Sodium\\_in\\_urine'\n",
       "\\item 'Testosterone'\n",
       "\\item 'Total\\_bilirubin'\n",
       "\\item 'Total\\_protein'\n",
       "\\item 'Triglycerides'\n",
       "\\item 'Urate'\n",
       "\\item 'Urea'\n",
       "\\item 'Vitamin\\_D'\n",
       "\\end{enumerate*}\n"
      ],
      "text/markdown": [
       "1. 'Alanine_aminotransferase'\n",
       "2. 'Albumin'\n",
       "3. 'Alkaline_phosphatase'\n",
       "4. 'Apolipoprotein_A'\n",
       "5. 'Apolipoprotein_B.adjust.statins'\n",
       "6. 'Apolipoprotein_B'\n",
       "7. 'Aspartate_aminotransferase'\n",
       "8. 'C_reactive_protein'\n",
       "9. 'Calcium'\n",
       "10. 'Cholesterol.adjust.statins'\n",
       "11. 'Cholesterol'\n",
       "12. 'Creatinine_in_urine'\n",
       "13. 'Creatinine'\n",
       "14. 'Cystatin_C'\n",
       "15. 'Direct_bilirubin'\n",
       "16. 'eGFR'\n",
       "17. 'Fasting_glucose'\n",
       "18. 'Gamma_glutamyltransferase'\n",
       "19. 'Glucose'\n",
       "20. 'Glycated_haemoglobin_HbA1c'\n",
       "21. 'HDL_cholesterol'\n",
       "22. 'IGF_1'\n",
       "23. 'LDL_direct.adjust.statins'\n",
       "24. 'LDL_direct'\n",
       "25. 'Lipoprotein_A'\n",
       "26. 'Microalbumin_in_urine'\n",
       "27. 'Non_albumin_protein'\n",
       "28. 'Oestradiol'\n",
       "29. 'Phosphate'\n",
       "30. 'Potassium_in_urine'\n",
       "31. 'Rheumatoid_factor'\n",
       "32. 'SHBG'\n",
       "33. 'Sodium_in_urine'\n",
       "34. 'Testosterone'\n",
       "35. 'Total_bilirubin'\n",
       "36. 'Total_protein'\n",
       "37. 'Triglycerides'\n",
       "38. 'Urate'\n",
       "39. 'Urea'\n",
       "40. 'Vitamin_D'\n",
       "\n",
       "\n"
      ],
      "text/plain": [
       " [1] \"Alanine_aminotransferase\"        \"Albumin\"                        \n",
       " [3] \"Alkaline_phosphatase\"            \"Apolipoprotein_A\"               \n",
       " [5] \"Apolipoprotein_B.adjust.statins\" \"Apolipoprotein_B\"               \n",
       " [7] \"Aspartate_aminotransferase\"      \"C_reactive_protein\"             \n",
       " [9] \"Calcium\"                         \"Cholesterol.adjust.statins\"     \n",
       "[11] \"Cholesterol\"                     \"Creatinine_in_urine\"            \n",
       "[13] \"Creatinine\"                      \"Cystatin_C\"                     \n",
       "[15] \"Direct_bilirubin\"                \"eGFR\"                           \n",
       "[17] \"Fasting_glucose\"                 \"Gamma_glutamyltransferase\"      \n",
       "[19] \"Glucose\"                         \"Glycated_haemoglobin_HbA1c\"     \n",
       "[21] \"HDL_cholesterol\"                 \"IGF_1\"                          \n",
       "[23] \"LDL_direct.adjust.statins\"       \"LDL_direct\"                     \n",
       "[25] \"Lipoprotein_A\"                   \"Microalbumin_in_urine\"          \n",
       "[27] \"Non_albumin_protein\"             \"Oestradiol\"                     \n",
       "[29] \"Phosphate\"                       \"Potassium_in_urine\"             \n",
       "[31] \"Rheumatoid_factor\"               \"SHBG\"                           \n",
       "[33] \"Sodium_in_urine\"                 \"Testosterone\"                   \n",
       "[35] \"Total_bilirubin\"                 \"Total_protein\"                  \n",
       "[37] \"Triglycerides\"                   \"Urate\"                          \n",
       "[39] \"Urea\"                            \"Vitamin_D\"                      "
      ]
     },
     "metadata": {},
     "output_type": "display_data"
    },
    {
     "data": {
      "text/html": [
       "40"
      ],
      "text/latex": [
       "40"
      ],
      "text/markdown": [
       "40"
      ],
      "text/plain": [
       "[1] 40"
      ]
     },
     "metadata": {},
     "output_type": "display_data"
    }
   ],
   "source": [
    "\n",
    "BIOMARKER.DIR <- \"../data/1019/m1/\"\n",
    "biomarker_traits <- list.files(BIOMARKER.DIR, pattern=\"f_\\\\D*\")\n",
    "\n",
    "biomarkers <- sapply(biomarker_traits, function(x) strsplit(strsplit(x, \"f_\",fixed=TRUE)[[1]][[2]], \".RData\")[[1]][[1]])\n",
    "\n",
    "anthro_traits <- read_tsv(\"../data/anthro_traits_supp.txt\", col_names=FALSE)\n",
    "anthro_traits$X1 \n",
    "biomarkers2 <- setdiff(biomarkers, anthro_traits$X1)\n",
    "biomarkers2\n",
    "length(biomarkers2) # 40 biomarkers, remove 30\n",
    "\n"
   ]
  },
  {
   "cell_type": "code",
   "execution_count": 18,
   "metadata": {},
   "outputs": [
    {
     "data": {
      "text/html": [
       "<table>\n",
       "<thead><tr><th scope=col>trait</th><th scope=col>n</th><th scope=col>pi[1]</th><th scope=col>pi[2]</th><th scope=col>Sigma[1,1]</th><th scope=col>Sigma[1,2]</th><th scope=col>Sigma[2,1]</th><th scope=col>Sigma[2,2]</th><th scope=col>rg</th><th scope=col>rg.l</th><th scope=col>rg.u</th><th scope=col>h.f</th><th scope=col>h.m</th></tr></thead>\n",
       "<tbody>\n",
       "\t<tr><td>Alanine_aminotransferase       </td><td>336495                         </td><td>0.9277890                      </td><td>0.07221100                     </td><td>1.060839e-04                   </td><td>1.060840e-04                   </td><td>1.060840e-04                   </td><td>1.224965e-04                   </td><td>0.9306593                      </td><td>0.9165751                      </td><td>0.9432209                      </td><td>NA                             </td><td>NA                             </td></tr>\n",
       "\t<tr><td>Albumin                        </td><td>335881                         </td><td>0.9256177                      </td><td>0.07438226                     </td><td>1.091857e-04                   </td><td>1.101772e-04                   </td><td>1.101772e-04                   </td><td>1.155363e-04                   </td><td>0.9810262                      </td><td>0.9685064                      </td><td>0.9934162                      </td><td>NA                             </td><td>NA                             </td></tr>\n",
       "\t<tr><td>Alkaline_phosphatase           </td><td>336498                         </td><td>0.9737869                      </td><td>0.02621309                     </td><td>8.047853e-04                   </td><td>9.024213e-04                   </td><td>9.024213e-04                   </td><td>1.034754e-03                   </td><td>0.9889042                      </td><td>0.9861880                      </td><td>0.9914036                      </td><td>NA                             </td><td>NA                             </td></tr>\n",
       "\t<tr><td>Apolipoprotein_A               </td><td>335858                         </td><td>0.9692790                      </td><td>0.03072104                     </td><td>4.745282e-04                   </td><td>4.894226e-04                   </td><td>4.894226e-04                   </td><td>5.273053e-04                   </td><td>0.9784318                      </td><td>0.9733557                      </td><td>0.9833054                      </td><td>NA                             </td><td>NA                             </td></tr>\n",
       "\t<tr><td>Apolipoprotein_B.adjust.statins</td><td>336457                         </td><td>0.9843837                      </td><td>0.01561627                     </td><td>2.024697e-03                   </td><td>1.846745e-03                   </td><td>1.846745e-03                   </td><td>1.728633e-03                   </td><td>0.9871378                      </td><td>0.9849994                      </td><td>0.9891888                      </td><td>NA                             </td><td>NA                             </td></tr>\n",
       "\t<tr><td>arm_fp                         </td><td>337391                         </td><td>0.6383849                      </td><td>0.36161509                     </td><td>3.522922e-05                   </td><td>1.083415e-05                   </td><td>1.083415e-05                   </td><td>1.834805e-05                   </td><td>0.4261650                      </td><td>0.4056503                      </td><td>0.4472745                      </td><td>NA                             </td><td>NA                             </td></tr>\n",
       "</tbody>\n",
       "</table>\n"
      ],
      "text/latex": [
       "\\begin{tabular}{r|lllllllllllll}\n",
       " trait & n & pi{[}1{]} & pi{[}2{]} & Sigma{[}1,1{]} & Sigma{[}1,2{]} & Sigma{[}2,1{]} & Sigma{[}2,2{]} & rg & rg.l & rg.u & h.f & h.m\\\\\n",
       "\\hline\n",
       "\t Alanine\\_aminotransferase        & 336495                            & 0.9277890                         & 0.07221100                        & 1.060839e-04                      & 1.060840e-04                      & 1.060840e-04                      & 1.224965e-04                      & 0.9306593                         & 0.9165751                         & 0.9432209                         & NA                                & NA                               \\\\\n",
       "\t Albumin                         & 335881                          & 0.9256177                       & 0.07438226                      & 1.091857e-04                    & 1.101772e-04                    & 1.101772e-04                    & 1.155363e-04                    & 0.9810262                       & 0.9685064                       & 0.9934162                       & NA                              & NA                             \\\\\n",
       "\t Alkaline\\_phosphatase            & 336498                            & 0.9737869                         & 0.02621309                        & 8.047853e-04                      & 9.024213e-04                      & 9.024213e-04                      & 1.034754e-03                      & 0.9889042                         & 0.9861880                         & 0.9914036                         & NA                                & NA                               \\\\\n",
       "\t Apolipoprotein\\_A                & 335858                            & 0.9692790                         & 0.03072104                        & 4.745282e-04                      & 4.894226e-04                      & 4.894226e-04                      & 5.273053e-04                      & 0.9784318                         & 0.9733557                         & 0.9833054                         & NA                                & NA                               \\\\\n",
       "\t Apolipoprotein\\_B.adjust.statins & 336457                            & 0.9843837                         & 0.01561627                        & 2.024697e-03                      & 1.846745e-03                      & 1.846745e-03                      & 1.728633e-03                      & 0.9871378                         & 0.9849994                         & 0.9891888                         & NA                                & NA                               \\\\\n",
       "\t arm\\_fp                          & 337391                            & 0.6383849                         & 0.36161509                        & 3.522922e-05                      & 1.083415e-05                      & 1.083415e-05                      & 1.834805e-05                      & 0.4261650                         & 0.4056503                         & 0.4472745                         & NA                                & NA                               \\\\\n",
       "\\end{tabular}\n"
      ],
      "text/markdown": [
       "\n",
       "trait | n | pi[1] | pi[2] | Sigma[1,1] | Sigma[1,2] | Sigma[2,1] | Sigma[2,2] | rg | rg.l | rg.u | h.f | h.m | \n",
       "|---|---|---|---|---|---|\n",
       "| Alanine_aminotransferase        | 336495                          | 0.9277890                       | 0.07221100                      | 1.060839e-04                    | 1.060840e-04                    | 1.060840e-04                    | 1.224965e-04                    | 0.9306593                       | 0.9165751                       | 0.9432209                       | NA                              | NA                              | \n",
       "| Albumin                         | 335881                          | 0.9256177                       | 0.07438226                      | 1.091857e-04                    | 1.101772e-04                    | 1.101772e-04                    | 1.155363e-04                    | 0.9810262                       | 0.9685064                       | 0.9934162                       | NA                              | NA                              | \n",
       "| Alkaline_phosphatase            | 336498                          | 0.9737869                       | 0.02621309                      | 8.047853e-04                    | 9.024213e-04                    | 9.024213e-04                    | 1.034754e-03                    | 0.9889042                       | 0.9861880                       | 0.9914036                       | NA                              | NA                              | \n",
       "| Apolipoprotein_A                | 335858                          | 0.9692790                       | 0.03072104                      | 4.745282e-04                    | 4.894226e-04                    | 4.894226e-04                    | 5.273053e-04                    | 0.9784318                       | 0.9733557                       | 0.9833054                       | NA                              | NA                              | \n",
       "| Apolipoprotein_B.adjust.statins | 336457                          | 0.9843837                       | 0.01561627                      | 2.024697e-03                    | 1.846745e-03                    | 1.846745e-03                    | 1.728633e-03                    | 0.9871378                       | 0.9849994                       | 0.9891888                       | NA                              | NA                              | \n",
       "| arm_fp                          | 337391                          | 0.6383849                       | 0.36161509                      | 3.522922e-05                    | 1.083415e-05                    | 1.083415e-05                    | 1.834805e-05                    | 0.4261650                       | 0.4056503                       | 0.4472745                       | NA                              | NA                              | \n",
       "\n",
       "\n"
      ],
      "text/plain": [
       "  trait                           n      pi[1]     pi[2]      Sigma[1,1]  \n",
       "1 Alanine_aminotransferase        336495 0.9277890 0.07221100 1.060839e-04\n",
       "2 Albumin                         335881 0.9256177 0.07438226 1.091857e-04\n",
       "3 Alkaline_phosphatase            336498 0.9737869 0.02621309 8.047853e-04\n",
       "4 Apolipoprotein_A                335858 0.9692790 0.03072104 4.745282e-04\n",
       "5 Apolipoprotein_B.adjust.statins 336457 0.9843837 0.01561627 2.024697e-03\n",
       "6 arm_fp                          337391 0.6383849 0.36161509 3.522922e-05\n",
       "  Sigma[1,2]   Sigma[2,1]   Sigma[2,2]   rg        rg.l      rg.u      h.f h.m\n",
       "1 1.060840e-04 1.060840e-04 1.224965e-04 0.9306593 0.9165751 0.9432209 NA  NA \n",
       "2 1.101772e-04 1.101772e-04 1.155363e-04 0.9810262 0.9685064 0.9934162 NA  NA \n",
       "3 9.024213e-04 9.024213e-04 1.034754e-03 0.9889042 0.9861880 0.9914036 NA  NA \n",
       "4 4.894226e-04 4.894226e-04 5.273053e-04 0.9784318 0.9733557 0.9833054 NA  NA \n",
       "5 1.846745e-03 1.846745e-03 1.728633e-03 0.9871378 0.9849994 0.9891888 NA  NA \n",
       "6 1.083415e-05 1.083415e-05 1.834805e-05 0.4261650 0.4056503 0.4472745 NA  NA "
      ]
     },
     "metadata": {},
     "output_type": "display_data"
    }
   ],
   "source": [
    "# column names depend on the dimension\n",
    "# t(c(trait, dat$dat$N, unlist(m1.pi), unlist(m1.Sigma), unlist(rg), unlist(rg.c$l), unlist(rg.c$u), unlist(h)))\n",
    "# rg.l and rg.u are the 95% CI for rg\n",
    "m1.cols <-  c(\"trait\", \"n\", \"pi[1]\", \"pi[2]\", \"Sigma[1,1]\", \"Sigma[1,2]\", \"Sigma[2,1]\", \"Sigma[2,2]\", \"rg\", \"rg.l\", \"rg.u\", \"h.f\", \"h.m\")\n",
    "\n",
    "biomarker_df <- do.call(rbind, lapply(traits, function(x) \n",
    "    read.table(sprintf(\"%s/summary_dat_%s_2_.txt\", BIOMARKER.DIR, x), sep=\" \", header=TRUE)))\n",
    "colnames(biomarker_df) <- m1.cols\n",
    "head(biomarker_df)\n",
    "    \n",
    "biomarker_df2 <- biomarker_df %>%\n",
    "    mutate(trait.name=case_when(\n",
    "    trait==\"INI21001\" ~ \"BMI\",\n",
    "    trait==\"INI20150\" ~ \"FEV-1\",\n",
    "      trait==\"INI23099\" ~ \"body fat percent\",\n",
    "      trait==\"INI23105\" ~ \"basal metabolic rate\",\n",
    "      trait==\"INI3063\" ~ \"FVC\",\n",
    "    trait==\"INI3064\" ~ \"PEF\",\n",
    "      trait==\"INI4079\" ~ \"BP-diastolic\",\n",
    "      trait==\"INI4080\" ~  \"BP-systolic\",\n",
    "      trait==\"INI49\" ~ \"hip circum\" ,\n",
    "      trait==\"INI50\" ~  \"height\",\n",
    "        TRUE ~ trait\n",
    ")) %>% mutate(trait.name=str_replace_all(trait.name, \"_\", \" \")) %>%\n",
    "    mutate(trait.name=str_replace_all(trait.name, \".adjust.statins\", \"\"))\n"
   ]
  },
  {
   "cell_type": "code",
   "execution_count": 36,
   "metadata": {},
   "outputs": [
    {
     "data": {
      "text/html": [
       "<table>\n",
       "<thead><tr><th scope=col>trait</th><th scope=col>hf.c</th><th scope=col>hf.l</th><th scope=col>hf.u</th><th scope=col>hm.c</th><th scope=col>hm.l</th><th scope=col>hm.u</th></tr></thead>\n",
       "<tbody>\n",
       "\t<tr><td>Alanine_aminotransferase       </td><td>0.1389386                      </td><td>0.1338918                      </td><td>0.1433521                      </td><td>0.1389054                      </td><td>0.1342270                      </td><td>0.1439040                      </td></tr>\n",
       "\t<tr><td>Albumin                        </td><td>0.1327255                      </td><td>0.1282340                      </td><td>0.1375733                      </td><td>0.1248897                      </td><td>0.1203465                      </td><td>0.1294614                      </td></tr>\n",
       "\t<tr><td>Alkaline_phosphatase           </td><td>0.1437741                      </td><td>0.1389733                      </td><td>0.1486797                      </td><td>0.1555044                      </td><td>0.1504265                      </td><td>0.1607400                      </td></tr>\n",
       "\t<tr><td>Apolipoprotein_A               </td><td>0.1250640                      </td><td>0.1203710                      </td><td>0.1303176                      </td><td>0.1243618                      </td><td>0.1199563                      </td><td>0.1293890                      </td></tr>\n",
       "\t<tr><td>Apolipoprotein_B.adjust.statins</td><td>0.2236730                      </td><td>0.2165964                      </td><td>0.2317237                      </td><td>0.1744254                      </td><td>0.1686695                      </td><td>0.1811951                      </td></tr>\n",
       "\t<tr><td>arm_fp                         </td><td>0.3151540                      </td><td>0.3106558                      </td><td>0.3200588                      </td><td>0.1866892                      </td><td>0.1809013                      </td><td>0.1928084                      </td></tr>\n",
       "</tbody>\n",
       "</table>\n"
      ],
      "text/latex": [
       "\\begin{tabular}{r|lllllll}\n",
       " trait & hf.c & hf.l & hf.u & hm.c & hm.l & hm.u\\\\\n",
       "\\hline\n",
       "\t Alanine\\_aminotransferase        & 0.1389386                         & 0.1338918                         & 0.1433521                         & 0.1389054                         & 0.1342270                         & 0.1439040                        \\\\\n",
       "\t Albumin                         & 0.1327255                       & 0.1282340                       & 0.1375733                       & 0.1248897                       & 0.1203465                       & 0.1294614                      \\\\\n",
       "\t Alkaline\\_phosphatase            & 0.1437741                         & 0.1389733                         & 0.1486797                         & 0.1555044                         & 0.1504265                         & 0.1607400                        \\\\\n",
       "\t Apolipoprotein\\_A                & 0.1250640                         & 0.1203710                         & 0.1303176                         & 0.1243618                         & 0.1199563                         & 0.1293890                        \\\\\n",
       "\t Apolipoprotein\\_B.adjust.statins & 0.2236730                         & 0.2165964                         & 0.2317237                         & 0.1744254                         & 0.1686695                         & 0.1811951                        \\\\\n",
       "\t arm\\_fp                          & 0.3151540                         & 0.3106558                         & 0.3200588                         & 0.1866892                         & 0.1809013                         & 0.1928084                        \\\\\n",
       "\\end{tabular}\n"
      ],
      "text/markdown": [
       "\n",
       "trait | hf.c | hf.l | hf.u | hm.c | hm.l | hm.u | \n",
       "|---|---|---|---|---|---|\n",
       "| Alanine_aminotransferase        | 0.1389386                       | 0.1338918                       | 0.1433521                       | 0.1389054                       | 0.1342270                       | 0.1439040                       | \n",
       "| Albumin                         | 0.1327255                       | 0.1282340                       | 0.1375733                       | 0.1248897                       | 0.1203465                       | 0.1294614                       | \n",
       "| Alkaline_phosphatase            | 0.1437741                       | 0.1389733                       | 0.1486797                       | 0.1555044                       | 0.1504265                       | 0.1607400                       | \n",
       "| Apolipoprotein_A                | 0.1250640                       | 0.1203710                       | 0.1303176                       | 0.1243618                       | 0.1199563                       | 0.1293890                       | \n",
       "| Apolipoprotein_B.adjust.statins | 0.2236730                       | 0.2165964                       | 0.2317237                       | 0.1744254                       | 0.1686695                       | 0.1811951                       | \n",
       "| arm_fp                          | 0.3151540                       | 0.3106558                       | 0.3200588                       | 0.1866892                       | 0.1809013                       | 0.1928084                       | \n",
       "\n",
       "\n"
      ],
      "text/plain": [
       "  trait                           hf.c      hf.l      hf.u      hm.c     \n",
       "1 Alanine_aminotransferase        0.1389386 0.1338918 0.1433521 0.1389054\n",
       "2 Albumin                         0.1327255 0.1282340 0.1375733 0.1248897\n",
       "3 Alkaline_phosphatase            0.1437741 0.1389733 0.1486797 0.1555044\n",
       "4 Apolipoprotein_A                0.1250640 0.1203710 0.1303176 0.1243618\n",
       "5 Apolipoprotein_B.adjust.statins 0.2236730 0.2165964 0.2317237 0.1744254\n",
       "6 arm_fp                          0.3151540 0.3106558 0.3200588 0.1866892\n",
       "  hm.l      hm.u     \n",
       "1 0.1342270 0.1439040\n",
       "2 0.1203465 0.1294614\n",
       "3 0.1504265 0.1607400\n",
       "4 0.1199563 0.1293890\n",
       "5 0.1686695 0.1811951\n",
       "6 0.1809013 0.1928084"
      ]
     },
     "metadata": {},
     "output_type": "display_data"
    }
   ],
   "source": [
    "# make the error bars wide\n",
    "err_wide <- herit_err%>% \n",
    "mutate(\"h_type\"=sprintf(\"h%s.%s\", sex, substr(int, 1, 1))) %>%\n",
    "select(-int, -sex) %>% spread(h_type, value) \n",
    "\n",
    "head(err_wide)"
   ]
  },
  {
   "cell_type": "code",
   "execution_count": 37,
   "metadata": {
    "collapsed": true
   },
   "outputs": [],
   "source": [
    "# add the err bars!\n",
    "biomarker_df3 <- rbind(m1_ant,m1_bio) %>% select(-hf.c, -hf.l, -hf.u, -hm.c, -hm.l, -hm.u)\n",
    "biomarker_df3 <- biomarker_df2 %>% \n",
    " select(-h.f, -h.m, -rg) %>% \n",
    " select(trait.name, everything()) %>% \n",
    " full_join(rg_tab) %>% rename(rg.c=rg)\n",
    "\n",
    "full_df <- full_join(biomarker_df3, err_wide, by=\"trait\") "
   ]
  },
  {
   "cell_type": "code",
   "execution_count": 38,
   "metadata": {},
   "outputs": [
    {
     "data": {
      "text/html": [
       "48"
      ],
      "text/latex": [
       "48"
      ],
      "text/markdown": [
       "48"
      ],
      "text/plain": [
       "[1] 48"
      ]
     },
     "metadata": {},
     "output_type": "display_data"
    }
   ],
   "source": [
    "length(unique(full_df$trait))"
   ]
  },
  {
   "cell_type": "code",
   "execution_count": 44,
   "metadata": {},
   "outputs": [
    {
     "data": {
      "text/html": [
       "<table>\n",
       "<thead><tr><th scope=col>trait.name</th><th scope=col>trait</th><th scope=col>n</th><th scope=col>pi[1]</th><th scope=col>pi[2]</th><th scope=col>Sigma[1,1]</th><th scope=col>Sigma[1,2]</th><th scope=col>Sigma[2,1]</th><th scope=col>Sigma[2,2]</th><th scope=col>rg.l</th><th scope=col>rg.u</th><th scope=col>rg.c</th><th scope=col>hf.c</th><th scope=col>hf.l</th><th scope=col>hf.u</th><th scope=col>hm.c</th><th scope=col>hm.l</th><th scope=col>hm.u</th></tr></thead>\n",
       "<tbody>\n",
       "\t<tr><td>height      </td><td>INI50       </td><td>337416      </td><td>0.6904397   </td><td>0.3095603   </td><td>0.0001326638</td><td>0.0001290502</td><td>0.0001290502</td><td>0.000128768 </td><td>0.9836437   </td><td>0.9910528   </td><td>0.9873626   </td><td>0.3854566   </td><td>0.382261    </td><td>0.3888615   </td><td>0.3448043   </td><td>0.3415691   </td><td>0.3480317   </td></tr>\n",
       "</tbody>\n",
       "</table>\n"
      ],
      "text/latex": [
       "\\begin{tabular}{r|llllllllllllllllll}\n",
       " trait.name & trait & n & pi{[}1{]} & pi{[}2{]} & Sigma{[}1,1{]} & Sigma{[}1,2{]} & Sigma{[}2,1{]} & Sigma{[}2,2{]} & rg.l & rg.u & rg.c & hf.c & hf.l & hf.u & hm.c & hm.l & hm.u\\\\\n",
       "\\hline\n",
       "\t height       & INI50        & 337416       & 0.6904397    & 0.3095603    & 0.0001326638 & 0.0001290502 & 0.0001290502 & 0.000128768  & 0.9836437    & 0.9910528    & 0.9873626    & 0.3854566    & 0.382261     & 0.3888615    & 0.3448043    & 0.3415691    & 0.3480317   \\\\\n",
       "\\end{tabular}\n"
      ],
      "text/markdown": [
       "\n",
       "trait.name | trait | n | pi[1] | pi[2] | Sigma[1,1] | Sigma[1,2] | Sigma[2,1] | Sigma[2,2] | rg.l | rg.u | rg.c | hf.c | hf.l | hf.u | hm.c | hm.l | hm.u | \n",
       "|---|\n",
       "| height       | INI50        | 337416       | 0.6904397    | 0.3095603    | 0.0001326638 | 0.0001290502 | 0.0001290502 | 0.000128768  | 0.9836437    | 0.9910528    | 0.9873626    | 0.3854566    | 0.382261     | 0.3888615    | 0.3448043    | 0.3415691    | 0.3480317    | \n",
       "\n",
       "\n"
      ],
      "text/plain": [
       "  trait.name trait n      pi[1]     pi[2]     Sigma[1,1]   Sigma[1,2]  \n",
       "1 height     INI50 337416 0.6904397 0.3095603 0.0001326638 0.0001290502\n",
       "  Sigma[2,1]   Sigma[2,2]  rg.l      rg.u      rg.c      hf.c      hf.l    \n",
       "1 0.0001290502 0.000128768 0.9836437 0.9910528 0.9873626 0.3854566 0.382261\n",
       "  hf.u      hm.c      hm.l      hm.u     \n",
       "1 0.3888615 0.3448043 0.3415691 0.3480317"
      ]
     },
     "metadata": {},
     "output_type": "display_data"
    }
   ],
   "source": [
    "full_df %>% filter(trait ==\"INI50\") %>%head()"
   ]
  },
  {
   "cell_type": "code",
   "execution_count": 45,
   "metadata": {
    "collapsed": true
   },
   "outputs": [],
   "source": [
    "# write it out\n",
    "full_df %>% filter(!trait %in% anthro_traits$X1) %>% write_csv(\"../data/aggreg_1020/m1_biomarker_1020.csv\")\n",
    "full_df %>% filter(trait %in% anthro_traits$X1) %>%write_csv(\"../data/aggreg_1020/m1_anthro_1020.csv\")"
   ]
  },
  {
   "cell_type": "code",
   "execution_count": null,
   "metadata": {
    "collapsed": true
   },
   "outputs": [],
   "source": [
    "getCategory2 <- function(posterior, cutoff){\n",
    "\t# get the category of a SNP given the posterior\n",
    "\t# we assign SNPs to the non-null component if the posterior probability is >= 0.6\n",
    "\n",
    "    category <- ifelse(posterior >= cutoff, 2, 1) # is poster\n",
    "    return(category)   \n",
    "}\n",
    "\n",
    "labelCategories2 <- function(dat, Sigma, p, cutoff){\n",
    "\t# update the dat list to contain posterior probabilities and categories\n",
    "\n",
    "    B_dat <- dat$dat$B\n",
    "    SE_dat <- dat$dat$SE\n",
    "    N <- dat$dat$N\n",
    "\n",
    "\tposteriors <- sapply(1:N, function(i) getPosterior(B_dat[i,], SE_dat[i,], p, Sigma))\n",
    "\tdat$posteriors <- posteriors\n",
    "    categories <- sapply(posteriors, function(x) getCategory2(x, cutoff))\n",
    "\tdat$categories <- categories\t\n",
    "\treturn(dat)\n",
    "}\n"
   ]
  },
  {
   "cell_type": "code",
   "execution_count": null,
   "metadata": {
    "collapsed": true
   },
   "outputs": [],
   "source": [
    "    require('rstan')\n",
    "    source(\"/scratch/PI/mrivas/users/erflynn/sex_div_gwas/mixture_model_scripts/model_utils.R\")\n",
    "    source(\"/scratch/PI/mrivas/users/erflynn/sex_div_gwas/mixture_model_scripts/heritability_utils.R\")\n",
    "    require('tidyverse')\n",
    "    ndim <- 2\n",
    "\n",
    "trait <- \"INI50\"\n",
    "    fit.file=sprintf(\"%s/m1/f_%s.RData\", indir, trait)\n",
    "        load(file=fit.file)\n",
    "        load(file=sprintf(\"%s/dat_%s.RData\", indir, trait))\n",
    "\t\n",
    "\n",
    "        # extract all estimate\n",
    "        p.i <- getPi(fit1)\n",
    "        s.i <- getSigma(fit1)\n",
    "\n",
    "\t#indices <- c((16*(idx-1)+1):(16*(idx)))\n",
    "\t#indices <- c(1,2)\n",
    "\t#res.df <- do.call(rbind, lapply(indices, function(i){ \n",
    "\n",
    "\t\tdat.i <- labelCategories2(dat, s.i, p.i, 0.6);\n",
    "        \th.i <- overallHeritability(dat.i, s.i, p.i);\n",
    "\t#}))\n",
    "\t"
   ]
  },
  {
   "cell_type": "code",
   "execution_count": null,
   "metadata": {
    "collapsed": true
   },
   "outputs": [],
   "source": []
  },
  {
   "cell_type": "markdown",
   "metadata": {},
   "source": [
    "### MENOPAUSE RESULTS"
   ]
  },
  {
   "cell_type": "markdown",
   "metadata": {},
   "source": [
    "### PHENOTYPING"
   ]
  },
  {
   "cell_type": "markdown",
   "metadata": {},
   "source": [
    "48 - WC cm\n",
    "30870 - TG mmol/L\n",
    "30760 - HDL mmol/L\n",
    "4079 - BP-d mmHg\n",
    "4080 - BP-s mmHg\n",
    "30740 - Glucose  mmol/L <-- this presents a problem\n",
    "\n",
    "74 - fasting time (needs to be at least 8h?)\n",
    "*To get fasting glucose it appears Nasa filtered for those who are fasting? lets check\n",
    "We need raw phenotypes! Double check units. \n",
    "(guidelines in proper units https://www.diabetes.co.uk/diabetes-and-metabolic-syndrome.html)\n",
    "\n",
    "30750 - hBA1c - maybe we can use this too? mmol/mol <-- need to convert to percentage"
   ]
  },
  {
   "cell_type": "code",
   "execution_count": 35,
   "metadata": {
    "collapsed": true
   },
   "outputs": [],
   "source": [
    "phe_codes <- c(\"INI48\", \"30870\", \"30760\", \"30740\", \"30750\", \"INI4079\", \"INI4080\")"
   ]
  },
  {
   "cell_type": "code",
   "execution_count": 36,
   "metadata": {
    "collapsed": true
   },
   "outputs": [],
   "source": [
    "PHE.DIR <- \"../phefiles/\"\n",
    "trait <- \"INI48\"\n",
    "\n",
    "phe_dat <- lapply(phe_codes, function(phe) {\n",
    "    df <- read.table(sprintf(\"%s/%s.phe\", PHE.DIR, phe), sep=\"\", header=FALSE);\n",
    "    colnames(df) <- c(\"FID\", \"IID\", phe) ;\n",
    "    df %>% select(-FID)\n",
    "    })\n"
   ]
  },
  {
   "cell_type": "code",
   "execution_count": 37,
   "metadata": {},
   "outputs": [
    {
     "data": {
      "text/html": [
       "<table>\n",
       "<thead><tr><th scope=col>IID</th><th scope=col>INI48</th></tr></thead>\n",
       "<tbody>\n",
       "\t<tr><td>4646215</td><td> 98.0  </td></tr>\n",
       "\t<tr><td>5007659</td><td>100.0  </td></tr>\n",
       "\t<tr><td>1038854</td><td> 75.5  </td></tr>\n",
       "\t<tr><td>5441319</td><td>106.0  </td></tr>\n",
       "\t<tr><td>5743544</td><td> 87.5  </td></tr>\n",
       "\t<tr><td>3266897</td><td>118.0  </td></tr>\n",
       "</tbody>\n",
       "</table>\n"
      ],
      "text/latex": [
       "\\begin{tabular}{r|ll}\n",
       " IID & INI48\\\\\n",
       "\\hline\n",
       "\t 4646215 &  98.0  \\\\\n",
       "\t 5007659 & 100.0  \\\\\n",
       "\t 1038854 &  75.5  \\\\\n",
       "\t 5441319 & 106.0  \\\\\n",
       "\t 5743544 &  87.5  \\\\\n",
       "\t 3266897 & 118.0  \\\\\n",
       "\\end{tabular}\n"
      ],
      "text/markdown": [
       "\n",
       "IID | INI48 | \n",
       "|---|---|---|---|---|---|\n",
       "| 4646215 |  98.0   | \n",
       "| 5007659 | 100.0   | \n",
       "| 1038854 |  75.5   | \n",
       "| 5441319 | 106.0   | \n",
       "| 5743544 |  87.5   | \n",
       "| 3266897 | 118.0   | \n",
       "\n",
       "\n"
      ],
      "text/plain": [
       "  IID     INI48\n",
       "1 4646215  98.0\n",
       "2 5007659 100.0\n",
       "3 1038854  75.5\n",
       "4 5441319 106.0\n",
       "5 5743544  87.5\n",
       "6 3266897 118.0"
      ]
     },
     "metadata": {},
     "output_type": "display_data"
    }
   ],
   "source": [
    "# put all of them together in a data frame\n",
    "head(phe_dat[[1]])\n",
    "phe_comb <-\n",
    " phe_dat %>%\n",
    "  reduce(full_join, by = \"IID\")\n",
    "\n",
    "# grab sex and fasting time\n",
    "\n",
    "# START DEFINING!"
   ]
  },
  {
   "cell_type": "code",
   "execution_count": 42,
   "metadata": {},
   "outputs": [
    {
     "data": {
      "text/html": [
       "<table>\n",
       "<thead><tr><th scope=col>IID</th><th scope=col>INI48</th><th scope=col>30870</th><th scope=col>30760</th><th scope=col>30740</th><th scope=col>30750</th><th scope=col>INI4079</th><th scope=col>INI4080</th></tr></thead>\n",
       "<tbody>\n",
       "\t<tr><td>4646215</td><td> 98.0  </td><td>1.735  </td><td>1.214  </td><td>5.494  </td><td>  NA   </td><td>96.0   </td><td>163.5  </td></tr>\n",
       "\t<tr><td>5007659</td><td>100.0  </td><td>1.155  </td><td>1.602  </td><td>4.817  </td><td>34.5   </td><td>85.0   </td><td>125.0  </td></tr>\n",
       "\t<tr><td>1038854</td><td> 75.5  </td><td>0.716  </td><td>1.821  </td><td>3.938  </td><td>26.2   </td><td>70.5   </td><td>116.0  </td></tr>\n",
       "\t<tr><td>5441319</td><td>106.0  </td><td>1.952  </td><td>0.698  </td><td>6.818  </td><td>56.8   </td><td>61.0   </td><td>125.0  </td></tr>\n",
       "\t<tr><td>5743544</td><td> 87.5  </td><td>2.419  </td><td>1.231  </td><td>6.993  </td><td>39.4   </td><td>87.5   </td><td>136.5  </td></tr>\n",
       "\t<tr><td>3266897</td><td>118.0  </td><td>2.027  </td><td>1.206  </td><td>4.342  </td><td>32.0   </td><td>93.0   </td><td>157.5  </td></tr>\n",
       "</tbody>\n",
       "</table>\n"
      ],
      "text/latex": [
       "\\begin{tabular}{r|llllllll}\n",
       " IID & INI48 & 30870 & 30760 & 30740 & 30750 & INI4079 & INI4080\\\\\n",
       "\\hline\n",
       "\t 4646215 &  98.0   & 1.735   & 1.214   & 5.494   &   NA    & 96.0    & 163.5  \\\\\n",
       "\t 5007659 & 100.0   & 1.155   & 1.602   & 4.817   & 34.5    & 85.0    & 125.0  \\\\\n",
       "\t 1038854 &  75.5   & 0.716   & 1.821   & 3.938   & 26.2    & 70.5    & 116.0  \\\\\n",
       "\t 5441319 & 106.0   & 1.952   & 0.698   & 6.818   & 56.8    & 61.0    & 125.0  \\\\\n",
       "\t 5743544 &  87.5   & 2.419   & 1.231   & 6.993   & 39.4    & 87.5    & 136.5  \\\\\n",
       "\t 3266897 & 118.0   & 2.027   & 1.206   & 4.342   & 32.0    & 93.0    & 157.5  \\\\\n",
       "\\end{tabular}\n"
      ],
      "text/markdown": [
       "\n",
       "IID | INI48 | 30870 | 30760 | 30740 | 30750 | INI4079 | INI4080 | \n",
       "|---|---|---|---|---|---|\n",
       "| 4646215 |  98.0   | 1.735   | 1.214   | 5.494   |   NA    | 96.0    | 163.5   | \n",
       "| 5007659 | 100.0   | 1.155   | 1.602   | 4.817   | 34.5    | 85.0    | 125.0   | \n",
       "| 1038854 |  75.5   | 0.716   | 1.821   | 3.938   | 26.2    | 70.5    | 116.0   | \n",
       "| 5441319 | 106.0   | 1.952   | 0.698   | 6.818   | 56.8    | 61.0    | 125.0   | \n",
       "| 5743544 |  87.5   | 2.419   | 1.231   | 6.993   | 39.4    | 87.5    | 136.5   | \n",
       "| 3266897 | 118.0   | 2.027   | 1.206   | 4.342   | 32.0    | 93.0    | 157.5   | \n",
       "\n",
       "\n"
      ],
      "text/plain": [
       "  IID     INI48 30870 30760 30740 30750 INI4079 INI4080\n",
       "1 4646215  98.0 1.735 1.214 5.494   NA  96.0    163.5  \n",
       "2 5007659 100.0 1.155 1.602 4.817 34.5  85.0    125.0  \n",
       "3 1038854  75.5 0.716 1.821 3.938 26.2  70.5    116.0  \n",
       "4 5441319 106.0 1.952 0.698 6.818 56.8  61.0    125.0  \n",
       "5 5743544  87.5 2.419 1.231 6.993 39.4  87.5    136.5  \n",
       "6 3266897 118.0 2.027 1.206 4.342 32.0  93.0    157.5  "
      ]
     },
     "metadata": {},
     "output_type": "display_data"
    },
    {
     "data": {
      "text/html": [
       "<table>\n",
       "<thead><tr><th scope=col>IID</th><th scope=col>meno</th><th scope=col>meno.age</th><th scope=col>age</th><th scope=col>sex</th><th scope=col>years.post</th></tr></thead>\n",
       "<tbody>\n",
       "\t<tr><td>1000010</td><td>   NA  </td><td>NA     </td><td>NA     </td><td>NA     </td><td>NA     </td></tr>\n",
       "\t<tr><td>1000028</td><td>FALSE  </td><td>NA     </td><td>54     </td><td> 0     </td><td>NA     </td></tr>\n",
       "\t<tr><td>1000034</td><td>   NA  </td><td>NA     </td><td>68     </td><td> 1     </td><td>NA     </td></tr>\n",
       "\t<tr><td>1000045</td><td> TRUE  </td><td>54     </td><td>79     </td><td> 0     </td><td>25     </td></tr>\n",
       "\t<tr><td>1000052</td><td> TRUE  </td><td>NA     </td><td>72     </td><td> 0     </td><td>NA     </td></tr>\n",
       "\t<tr><td>1000069</td><td> TRUE  </td><td>50     </td><td>75     </td><td> 0     </td><td>25     </td></tr>\n",
       "</tbody>\n",
       "</table>\n"
      ],
      "text/latex": [
       "\\begin{tabular}{r|llllll}\n",
       " IID & meno & meno.age & age & sex & years.post\\\\\n",
       "\\hline\n",
       "\t 1000010 &    NA   & NA      & NA      & NA      & NA     \\\\\n",
       "\t 1000028 & FALSE   & NA      & 54      &  0      & NA     \\\\\n",
       "\t 1000034 &    NA   & NA      & 68      &  1      & NA     \\\\\n",
       "\t 1000045 &  TRUE   & 54      & 79      &  0      & 25     \\\\\n",
       "\t 1000052 &  TRUE   & NA      & 72      &  0      & NA     \\\\\n",
       "\t 1000069 &  TRUE   & 50      & 75      &  0      & 25     \\\\\n",
       "\\end{tabular}\n"
      ],
      "text/markdown": [
       "\n",
       "IID | meno | meno.age | age | sex | years.post | \n",
       "|---|---|---|---|---|---|\n",
       "| 1000010 |    NA   | NA      | NA      | NA      | NA      | \n",
       "| 1000028 | FALSE   | NA      | 54      |  0      | NA      | \n",
       "| 1000034 |    NA   | NA      | 68      |  1      | NA      | \n",
       "| 1000045 |  TRUE   | 54      | 79      |  0      | 25      | \n",
       "| 1000052 |  TRUE   | NA      | 72      |  0      | NA      | \n",
       "| 1000069 |  TRUE   | 50      | 75      |  0      | 25      | \n",
       "\n",
       "\n"
      ],
      "text/plain": [
       "  IID     meno  meno.age age sex years.post\n",
       "1 1000010    NA NA       NA  NA  NA        \n",
       "2 1000028 FALSE NA       54   0  NA        \n",
       "3 1000034    NA NA       68   1  NA        \n",
       "4 1000045  TRUE 54       79   0  25        \n",
       "5 1000052  TRUE NA       72   0  NA        \n",
       "6 1000069  TRUE 50       75   0  25        "
      ]
     },
     "metadata": {},
     "output_type": "display_data"
    },
    {
     "data": {
      "text/html": [
       "<table>\n",
       "<thead><tr><th scope=col>f.eid</th><th scope=col>f.74.0.0</th></tr></thead>\n",
       "<tbody>\n",
       "\t<tr><td>4636366</td><td> 2     </td></tr>\n",
       "\t<tr><td>1206746</td><td>14     </td></tr>\n",
       "\t<tr><td>2392818</td><td> 1     </td></tr>\n",
       "\t<tr><td>3246828</td><td> 2     </td></tr>\n",
       "\t<tr><td>1415750</td><td> 4     </td></tr>\n",
       "\t<tr><td>5291978</td><td> 2     </td></tr>\n",
       "</tbody>\n",
       "</table>\n"
      ],
      "text/latex": [
       "\\begin{tabular}{r|ll}\n",
       " f.eid & f.74.0.0\\\\\n",
       "\\hline\n",
       "\t 4636366 &  2     \\\\\n",
       "\t 1206746 & 14     \\\\\n",
       "\t 2392818 &  1     \\\\\n",
       "\t 3246828 &  2     \\\\\n",
       "\t 1415750 &  4     \\\\\n",
       "\t 5291978 &  2     \\\\\n",
       "\\end{tabular}\n"
      ],
      "text/markdown": [
       "\n",
       "f.eid | f.74.0.0 | \n",
       "|---|---|---|---|---|---|\n",
       "| 4636366 |  2      | \n",
       "| 1206746 | 14      | \n",
       "| 2392818 |  1      | \n",
       "| 3246828 |  2      | \n",
       "| 1415750 |  4      | \n",
       "| 5291978 |  2      | \n",
       "\n",
       "\n"
      ],
      "text/plain": [
       "  f.eid   f.74.0.0\n",
       "1 4636366  2      \n",
       "2 1206746 14      \n",
       "3 2392818  1      \n",
       "4 3246828  2      \n",
       "5 1415750  4      \n",
       "6 5291978  2      "
      ]
     },
     "metadata": {},
     "output_type": "display_data"
    },
    {
     "name": "stderr",
     "output_type": "stream",
     "text": [
      "Joining, by = \"IID\"\n",
      "Joining, by = \"IID\"\n"
     ]
    }
   ],
   "source": [
    "head(phe_comb)\n",
    "\n",
    "meno_age_df <- read.table(\"../data/menopause_age_data.txt\", header=TRUE, sep=\"\") \n",
    "head(meno_age_df)\n",
    "\n",
    "fasting_time <- read.table(\"/oak/stanford/groups/mrivas/projects/biomarkers/covariate_corrected/covariates/fastingtime.phe\", sep=\"\",header=TRUE)\n",
    "head(fasting_time)\n",
    "colnames(fasting_time) <- c(\"IID\", \"Fasting\")\n",
    "phe_comb2 <- phe_comb %>% \n",
    "    full_join(meno_age_df %>% select(IID, sex)) %>%\n",
    "    full_join(fasting_time)"
   ]
  },
  {
   "cell_type": "code",
   "execution_count": 44,
   "metadata": {},
   "outputs": [
    {
     "data": {
      "text/html": [
       "<table>\n",
       "<thead><tr><th scope=col>IID</th><th scope=col>WC</th><th scope=col>TG</th><th scope=col>HDL</th><th scope=col>Glucose</th><th scope=col>HbA1c</th><th scope=col>BP_d</th><th scope=col>BP_s</th><th scope=col>sex</th><th scope=col>fasting_h</th></tr></thead>\n",
       "<tbody>\n",
       "\t<tr><td>4646215</td><td> 98.0  </td><td>1.735  </td><td>1.214  </td><td>5.494  </td><td>  NA   </td><td>96.0   </td><td>163.5  </td><td>1      </td><td>6      </td></tr>\n",
       "\t<tr><td>5007659</td><td>100.0  </td><td>1.155  </td><td>1.602  </td><td>4.817  </td><td>34.5   </td><td>85.0   </td><td>125.0  </td><td>1      </td><td>4      </td></tr>\n",
       "\t<tr><td>1038854</td><td> 75.5  </td><td>0.716  </td><td>1.821  </td><td>3.938  </td><td>26.2   </td><td>70.5   </td><td>116.0  </td><td>0      </td><td>3      </td></tr>\n",
       "\t<tr><td>5441319</td><td>106.0  </td><td>1.952  </td><td>0.698  </td><td>6.818  </td><td>56.8   </td><td>61.0   </td><td>125.0  </td><td>1      </td><td>4      </td></tr>\n",
       "\t<tr><td>5743544</td><td> 87.5  </td><td>2.419  </td><td>1.231  </td><td>6.993  </td><td>39.4   </td><td>87.5   </td><td>136.5  </td><td>0      </td><td>5      </td></tr>\n",
       "\t<tr><td>3266897</td><td>118.0  </td><td>2.027  </td><td>1.206  </td><td>4.342  </td><td>32.0   </td><td>93.0   </td><td>157.5  </td><td>1      </td><td>3      </td></tr>\n",
       "</tbody>\n",
       "</table>\n"
      ],
      "text/latex": [
       "\\begin{tabular}{r|llllllllll}\n",
       " IID & WC & TG & HDL & Glucose & HbA1c & BP\\_d & BP\\_s & sex & fasting\\_h\\\\\n",
       "\\hline\n",
       "\t 4646215 &  98.0   & 1.735   & 1.214   & 5.494   &   NA    & 96.0    & 163.5   & 1       & 6      \\\\\n",
       "\t 5007659 & 100.0   & 1.155   & 1.602   & 4.817   & 34.5    & 85.0    & 125.0   & 1       & 4      \\\\\n",
       "\t 1038854 &  75.5   & 0.716   & 1.821   & 3.938   & 26.2    & 70.5    & 116.0   & 0       & 3      \\\\\n",
       "\t 5441319 & 106.0   & 1.952   & 0.698   & 6.818   & 56.8    & 61.0    & 125.0   & 1       & 4      \\\\\n",
       "\t 5743544 &  87.5   & 2.419   & 1.231   & 6.993   & 39.4    & 87.5    & 136.5   & 0       & 5      \\\\\n",
       "\t 3266897 & 118.0   & 2.027   & 1.206   & 4.342   & 32.0    & 93.0    & 157.5   & 1       & 3      \\\\\n",
       "\\end{tabular}\n"
      ],
      "text/markdown": [
       "\n",
       "IID | WC | TG | HDL | Glucose | HbA1c | BP_d | BP_s | sex | fasting_h | \n",
       "|---|---|---|---|---|---|\n",
       "| 4646215 |  98.0   | 1.735   | 1.214   | 5.494   |   NA    | 96.0    | 163.5   | 1       | 6       | \n",
       "| 5007659 | 100.0   | 1.155   | 1.602   | 4.817   | 34.5    | 85.0    | 125.0   | 1       | 4       | \n",
       "| 1038854 |  75.5   | 0.716   | 1.821   | 3.938   | 26.2    | 70.5    | 116.0   | 0       | 3       | \n",
       "| 5441319 | 106.0   | 1.952   | 0.698   | 6.818   | 56.8    | 61.0    | 125.0   | 1       | 4       | \n",
       "| 5743544 |  87.5   | 2.419   | 1.231   | 6.993   | 39.4    | 87.5    | 136.5   | 0       | 5       | \n",
       "| 3266897 | 118.0   | 2.027   | 1.206   | 4.342   | 32.0    | 93.0    | 157.5   | 1       | 3       | \n",
       "\n",
       "\n"
      ],
      "text/plain": [
       "  IID     WC    TG    HDL   Glucose HbA1c BP_d BP_s  sex fasting_h\n",
       "1 4646215  98.0 1.735 1.214 5.494     NA  96.0 163.5 1   6        \n",
       "2 5007659 100.0 1.155 1.602 4.817   34.5  85.0 125.0 1   4        \n",
       "3 1038854  75.5 0.716 1.821 3.938   26.2  70.5 116.0 0   3        \n",
       "4 5441319 106.0 1.952 0.698 6.818   56.8  61.0 125.0 1   4        \n",
       "5 5743544  87.5 2.419 1.231 6.993   39.4  87.5 136.5 0   5        \n",
       "6 3266897 118.0 2.027 1.206 4.342   32.0  93.0 157.5 1   3        "
      ]
     },
     "metadata": {},
     "output_type": "display_data"
    }
   ],
   "source": [
    "colnames(phe_comb2) <- c(\"IID\", \"WC\", \"TG\", \"HDL\", \"Glucose\", \"HbA1c\", \"BP_d\",\"BP_s\", \"sex\", \"fasting_h\")\n",
    "\n",
    "head(phe_comb2)\n",
    "\n",
    "# add a fasting column\n",
    "phe_comb3 <- phe_comb2 %>% mutate(fasting=ifelse(fasting_h >=8, TRUE, FALSE)) %>% filter(!is.na(sex))\n"
   ]
  },
  {
   "cell_type": "code",
   "execution_count": 46,
   "metadata": {},
   "outputs": [
    {
     "data": {
      "text/html": [
       "<table>\n",
       "<thead><tr><th scope=col>IID</th><th scope=col>WC</th><th scope=col>TG</th><th scope=col>HDL</th><th scope=col>Glucose</th><th scope=col>HbA1c</th><th scope=col>BP_d</th><th scope=col>BP_s</th><th scope=col>sex</th><th scope=col>fasting_h</th><th scope=col>fasting</th></tr></thead>\n",
       "<tbody>\n",
       "\t<tr><td>6006366</td><td> 83.0  </td><td>1.541  </td><td>1.365  </td><td>6.990  </td><td>31.2   </td><td>77.0   </td><td>123.5  </td><td>0      </td><td>NA     </td><td>NA     </td></tr>\n",
       "\t<tr><td>3614647</td><td> 87.0  </td><td>2.240  </td><td>1.326  </td><td>4.432  </td><td>35.0   </td><td>  NA   </td><td>   NA  </td><td>0      </td><td>NA     </td><td>NA     </td></tr>\n",
       "\t<tr><td>1486186</td><td>100.0  </td><td>   NA  </td><td>   NA  </td><td>   NA  </td><td>  NA   </td><td>  NA   </td><td>   NA  </td><td>1      </td><td>NA     </td><td>NA     </td></tr>\n",
       "\t<tr><td>4800877</td><td> 85.0  </td><td>   NA  </td><td>   NA  </td><td>   NA  </td><td>  NA   </td><td>86.0   </td><td>140.0  </td><td>0      </td><td>NA     </td><td>NA     </td></tr>\n",
       "\t<tr><td>1274346</td><td> 74.0  </td><td>0.850  </td><td>2.381  </td><td>4.136  </td><td>28.9   </td><td>80.5   </td><td>113.5  </td><td>0      </td><td>NA     </td><td>NA     </td></tr>\n",
       "\t<tr><td>3644525</td><td> 81.0  </td><td>   NA  </td><td>   NA  </td><td>   NA  </td><td>  NA   </td><td>77.0   </td><td>140.0  </td><td>1      </td><td>NA     </td><td>NA     </td></tr>\n",
       "\t<tr><td>4159888</td><td>105.0  </td><td>   NA  </td><td>   NA  </td><td>   NA  </td><td>  NA   </td><td>74.0   </td><td>136.5  </td><td>1      </td><td>NA     </td><td>NA     </td></tr>\n",
       "\t<tr><td>4558881</td><td> 73.0  </td><td>0.828  </td><td>2.004  </td><td>5.017  </td><td>31.5   </td><td>98.0   </td><td>156.5  </td><td>0      </td><td>NA     </td><td>NA     </td></tr>\n",
       "\t<tr><td>5899885</td><td> 95.0  </td><td>4.464  </td><td>1.015  </td><td>5.100  </td><td>32.8   </td><td>76.0   </td><td>124.0  </td><td>1      </td><td>NA     </td><td>NA     </td></tr>\n",
       "\t<tr><td>5643002</td><td> 87.0  </td><td>   NA  </td><td>   NA  </td><td>   NA  </td><td>  NA   </td><td>86.0   </td><td>136.0  </td><td>1      </td><td>NA     </td><td>NA     </td></tr>\n",
       "\t<tr><td>1931631</td><td> 90.0  </td><td>2.442  </td><td>2.176  </td><td>6.872  </td><td>34.2   </td><td>83.0   </td><td>143.5  </td><td>0      </td><td>NA     </td><td>NA     </td></tr>\n",
       "\t<tr><td>4442322</td><td>107.5  </td><td>   NA  </td><td>   NA  </td><td>   NA  </td><td>  NA   </td><td>86.0   </td><td>148.0  </td><td>1      </td><td>NA     </td><td>NA     </td></tr>\n",
       "\t<tr><td>4942172</td><td> 98.0  </td><td>1.257  </td><td>2.420  </td><td>4.516  </td><td>35.2   </td><td>85.0   </td><td>132.0  </td><td>0      </td><td>NA     </td><td>NA     </td></tr>\n",
       "\t<tr><td>3454696</td><td>103.0  </td><td>0.841  </td><td>1.392  </td><td>4.771  </td><td>45.5   </td><td>85.5   </td><td>166.5  </td><td>0      </td><td>NA     </td><td>NA     </td></tr>\n",
       "\t<tr><td>3429071</td><td> 91.0  </td><td>2.104  </td><td>1.242  </td><td>6.993  </td><td>38.2   </td><td>74.5   </td><td>141.0  </td><td>1      </td><td>NA     </td><td>NA     </td></tr>\n",
       "\t<tr><td>2300759</td><td>102.0  </td><td>3.935  </td><td>0.994  </td><td>7.917  </td><td>49.9   </td><td>77.0   </td><td>160.5  </td><td>1      </td><td>NA     </td><td>NA     </td></tr>\n",
       "\t<tr><td>4614737</td><td> 82.0  </td><td>   NA  </td><td>   NA  </td><td>   NA  </td><td>  NA   </td><td>80.5   </td><td>139.5  </td><td>0      </td><td>NA     </td><td>NA     </td></tr>\n",
       "\t<tr><td>4000521</td><td> 90.0  </td><td>   NA  </td><td>   NA  </td><td>   NA  </td><td>  NA   </td><td>72.5   </td><td>117.0  </td><td>0      </td><td>NA     </td><td>NA     </td></tr>\n",
       "\t<tr><td>1291505</td><td> 89.0  </td><td>   NA  </td><td>   NA  </td><td>   NA  </td><td>  NA   </td><td>86.0   </td><td>145.5  </td><td>1      </td><td>NA     </td><td>NA     </td></tr>\n",
       "\t<tr><td>5365651</td><td> 65.0  </td><td>   NA  </td><td>   NA  </td><td>   NA  </td><td>  NA   </td><td>59.5   </td><td>144.5  </td><td>0      </td><td>NA     </td><td>NA     </td></tr>\n",
       "\t<tr><td>1335612</td><td> 96.0  </td><td>   NA  </td><td>   NA  </td><td>   NA  </td><td>  NA   </td><td>86.5   </td><td>132.5  </td><td>1      </td><td>NA     </td><td>NA     </td></tr>\n",
       "\t<tr><td>4400323</td><td> 83.0  </td><td>1.504  </td><td>1.586  </td><td>5.392  </td><td>31.3   </td><td>73.0   </td><td>113.0  </td><td>0      </td><td>NA     </td><td>NA     </td></tr>\n",
       "</tbody>\n",
       "</table>\n"
      ],
      "text/latex": [
       "\\begin{tabular}{r|lllllllllll}\n",
       " IID & WC & TG & HDL & Glucose & HbA1c & BP\\_d & BP\\_s & sex & fasting\\_h & fasting\\\\\n",
       "\\hline\n",
       "\t 6006366 &  83.0   & 1.541   & 1.365   & 6.990   & 31.2    & 77.0    & 123.5   & 0       & NA      & NA     \\\\\n",
       "\t 3614647 &  87.0   & 2.240   & 1.326   & 4.432   & 35.0    &   NA    &    NA   & 0       & NA      & NA     \\\\\n",
       "\t 1486186 & 100.0   &    NA   &    NA   &    NA   &   NA    &   NA    &    NA   & 1       & NA      & NA     \\\\\n",
       "\t 4800877 &  85.0   &    NA   &    NA   &    NA   &   NA    & 86.0    & 140.0   & 0       & NA      & NA     \\\\\n",
       "\t 1274346 &  74.0   & 0.850   & 2.381   & 4.136   & 28.9    & 80.5    & 113.5   & 0       & NA      & NA     \\\\\n",
       "\t 3644525 &  81.0   &    NA   &    NA   &    NA   &   NA    & 77.0    & 140.0   & 1       & NA      & NA     \\\\\n",
       "\t 4159888 & 105.0   &    NA   &    NA   &    NA   &   NA    & 74.0    & 136.5   & 1       & NA      & NA     \\\\\n",
       "\t 4558881 &  73.0   & 0.828   & 2.004   & 5.017   & 31.5    & 98.0    & 156.5   & 0       & NA      & NA     \\\\\n",
       "\t 5899885 &  95.0   & 4.464   & 1.015   & 5.100   & 32.8    & 76.0    & 124.0   & 1       & NA      & NA     \\\\\n",
       "\t 5643002 &  87.0   &    NA   &    NA   &    NA   &   NA    & 86.0    & 136.0   & 1       & NA      & NA     \\\\\n",
       "\t 1931631 &  90.0   & 2.442   & 2.176   & 6.872   & 34.2    & 83.0    & 143.5   & 0       & NA      & NA     \\\\\n",
       "\t 4442322 & 107.5   &    NA   &    NA   &    NA   &   NA    & 86.0    & 148.0   & 1       & NA      & NA     \\\\\n",
       "\t 4942172 &  98.0   & 1.257   & 2.420   & 4.516   & 35.2    & 85.0    & 132.0   & 0       & NA      & NA     \\\\\n",
       "\t 3454696 & 103.0   & 0.841   & 1.392   & 4.771   & 45.5    & 85.5    & 166.5   & 0       & NA      & NA     \\\\\n",
       "\t 3429071 &  91.0   & 2.104   & 1.242   & 6.993   & 38.2    & 74.5    & 141.0   & 1       & NA      & NA     \\\\\n",
       "\t 2300759 & 102.0   & 3.935   & 0.994   & 7.917   & 49.9    & 77.0    & 160.5   & 1       & NA      & NA     \\\\\n",
       "\t 4614737 &  82.0   &    NA   &    NA   &    NA   &   NA    & 80.5    & 139.5   & 0       & NA      & NA     \\\\\n",
       "\t 4000521 &  90.0   &    NA   &    NA   &    NA   &   NA    & 72.5    & 117.0   & 0       & NA      & NA     \\\\\n",
       "\t 1291505 &  89.0   &    NA   &    NA   &    NA   &   NA    & 86.0    & 145.5   & 1       & NA      & NA     \\\\\n",
       "\t 5365651 &  65.0   &    NA   &    NA   &    NA   &   NA    & 59.5    & 144.5   & 0       & NA      & NA     \\\\\n",
       "\t 1335612 &  96.0   &    NA   &    NA   &    NA   &   NA    & 86.5    & 132.5   & 1       & NA      & NA     \\\\\n",
       "\t 4400323 &  83.0   & 1.504   & 1.586   & 5.392   & 31.3    & 73.0    & 113.0   & 0       & NA      & NA     \\\\\n",
       "\\end{tabular}\n"
      ],
      "text/markdown": [
       "\n",
       "IID | WC | TG | HDL | Glucose | HbA1c | BP_d | BP_s | sex | fasting_h | fasting | \n",
       "|---|---|---|---|---|---|---|---|---|---|---|---|---|---|---|---|---|---|---|---|---|---|\n",
       "| 6006366 |  83.0   | 1.541   | 1.365   | 6.990   | 31.2    | 77.0    | 123.5   | 0       | NA      | NA      | \n",
       "| 3614647 |  87.0   | 2.240   | 1.326   | 4.432   | 35.0    |   NA    |    NA   | 0       | NA      | NA      | \n",
       "| 1486186 | 100.0   |    NA   |    NA   |    NA   |   NA    |   NA    |    NA   | 1       | NA      | NA      | \n",
       "| 4800877 |  85.0   |    NA   |    NA   |    NA   |   NA    | 86.0    | 140.0   | 0       | NA      | NA      | \n",
       "| 1274346 |  74.0   | 0.850   | 2.381   | 4.136   | 28.9    | 80.5    | 113.5   | 0       | NA      | NA      | \n",
       "| 3644525 |  81.0   |    NA   |    NA   |    NA   |   NA    | 77.0    | 140.0   | 1       | NA      | NA      | \n",
       "| 4159888 | 105.0   |    NA   |    NA   |    NA   |   NA    | 74.0    | 136.5   | 1       | NA      | NA      | \n",
       "| 4558881 |  73.0   | 0.828   | 2.004   | 5.017   | 31.5    | 98.0    | 156.5   | 0       | NA      | NA      | \n",
       "| 5899885 |  95.0   | 4.464   | 1.015   | 5.100   | 32.8    | 76.0    | 124.0   | 1       | NA      | NA      | \n",
       "| 5643002 |  87.0   |    NA   |    NA   |    NA   |   NA    | 86.0    | 136.0   | 1       | NA      | NA      | \n",
       "| 1931631 |  90.0   | 2.442   | 2.176   | 6.872   | 34.2    | 83.0    | 143.5   | 0       | NA      | NA      | \n",
       "| 4442322 | 107.5   |    NA   |    NA   |    NA   |   NA    | 86.0    | 148.0   | 1       | NA      | NA      | \n",
       "| 4942172 |  98.0   | 1.257   | 2.420   | 4.516   | 35.2    | 85.0    | 132.0   | 0       | NA      | NA      | \n",
       "| 3454696 | 103.0   | 0.841   | 1.392   | 4.771   | 45.5    | 85.5    | 166.5   | 0       | NA      | NA      | \n",
       "| 3429071 |  91.0   | 2.104   | 1.242   | 6.993   | 38.2    | 74.5    | 141.0   | 1       | NA      | NA      | \n",
       "| 2300759 | 102.0   | 3.935   | 0.994   | 7.917   | 49.9    | 77.0    | 160.5   | 1       | NA      | NA      | \n",
       "| 4614737 |  82.0   |    NA   |    NA   |    NA   |   NA    | 80.5    | 139.5   | 0       | NA      | NA      | \n",
       "| 4000521 |  90.0   |    NA   |    NA   |    NA   |   NA    | 72.5    | 117.0   | 0       | NA      | NA      | \n",
       "| 1291505 |  89.0   |    NA   |    NA   |    NA   |   NA    | 86.0    | 145.5   | 1       | NA      | NA      | \n",
       "| 5365651 |  65.0   |    NA   |    NA   |    NA   |   NA    | 59.5    | 144.5   | 0       | NA      | NA      | \n",
       "| 1335612 |  96.0   |    NA   |    NA   |    NA   |   NA    | 86.5    | 132.5   | 1       | NA      | NA      | \n",
       "| 4400323 |  83.0   | 1.504   | 1.586   | 5.392   | 31.3    | 73.0    | 113.0   | 0       | NA      | NA      | \n",
       "\n",
       "\n"
      ],
      "text/plain": [
       "   IID     WC    TG    HDL   Glucose HbA1c BP_d BP_s  sex fasting_h fasting\n",
       "1  6006366  83.0 1.541 1.365 6.990   31.2  77.0 123.5 0   NA        NA     \n",
       "2  3614647  87.0 2.240 1.326 4.432   35.0    NA    NA 0   NA        NA     \n",
       "3  1486186 100.0    NA    NA    NA     NA    NA    NA 1   NA        NA     \n",
       "4  4800877  85.0    NA    NA    NA     NA  86.0 140.0 0   NA        NA     \n",
       "5  1274346  74.0 0.850 2.381 4.136   28.9  80.5 113.5 0   NA        NA     \n",
       "6  3644525  81.0    NA    NA    NA     NA  77.0 140.0 1   NA        NA     \n",
       "7  4159888 105.0    NA    NA    NA     NA  74.0 136.5 1   NA        NA     \n",
       "8  4558881  73.0 0.828 2.004 5.017   31.5  98.0 156.5 0   NA        NA     \n",
       "9  5899885  95.0 4.464 1.015 5.100   32.8  76.0 124.0 1   NA        NA     \n",
       "10 5643002  87.0    NA    NA    NA     NA  86.0 136.0 1   NA        NA     \n",
       "11 1931631  90.0 2.442 2.176 6.872   34.2  83.0 143.5 0   NA        NA     \n",
       "12 4442322 107.5    NA    NA    NA     NA  86.0 148.0 1   NA        NA     \n",
       "13 4942172  98.0 1.257 2.420 4.516   35.2  85.0 132.0 0   NA        NA     \n",
       "14 3454696 103.0 0.841 1.392 4.771   45.5  85.5 166.5 0   NA        NA     \n",
       "15 3429071  91.0 2.104 1.242 6.993   38.2  74.5 141.0 1   NA        NA     \n",
       "16 2300759 102.0 3.935 0.994 7.917   49.9  77.0 160.5 1   NA        NA     \n",
       "17 4614737  82.0    NA    NA    NA     NA  80.5 139.5 0   NA        NA     \n",
       "18 4000521  90.0    NA    NA    NA     NA  72.5 117.0 0   NA        NA     \n",
       "19 1291505  89.0    NA    NA    NA     NA  86.0 145.5 1   NA        NA     \n",
       "20 5365651  65.0    NA    NA    NA     NA  59.5 144.5 0   NA        NA     \n",
       "21 1335612  96.0    NA    NA    NA     NA  86.5 132.5 1   NA        NA     \n",
       "22 4400323  83.0 1.504 1.586 5.392   31.3  73.0 113.0 0   NA        NA     "
      ]
     },
     "metadata": {},
     "output_type": "display_data"
    }
   ],
   "source": [
    "phe_comb3 %>% filter(is.na(fasting))"
   ]
  },
  {
   "cell_type": "code",
   "execution_count": 54,
   "metadata": {
    "collapsed": true
   },
   "outputs": [],
   "source": [
    "# count number of NAs per column\n",
    "phe_comb_complete <- phe_comb3[(complete.cases(phe_comb3)),]\n",
    "\n",
    "# now define the phenotype - https://www.diabetes.co.uk/diabetes-and-metabolic-syndrome.html\n",
    "phe_comb_d <- phe_comb_complete %>% \n",
    "mutate(wc.o=ifelse((WC >= 102 & sex==1) | (WC >= 88 & sex==0), 1, 0),\n",
    "       tg.o=ifelse(TG > 1.695, 1,0), \n",
    "       hdl.o=ifelse((HDL < 1.04 & sex==1) | (HDL < 1.30 & sex==0), 1, 0), \n",
    "       gluc.o=ifelse(!fasting, NA, ifelse(Glucose > 6.1, 1, 0)),\n",
    "       hba1c.o=ifelse(HbA1c >= 48, \"diabetic\", ifelse(HbA1c > 39, \"pre-d\", \"healthy\")), #  https://www.uptodate.com/contents/clinical-presentation-diagnosis-and-initial-evaluation-of-diabetes-mellitus-in-adults\n",
    "       bp.o=ifelse(BP_s > 130 & BP_d > 35, 1, 0))\n"
   ]
  },
  {
   "cell_type": "code",
   "execution_count": 56,
   "metadata": {},
   "outputs": [
    {
     "data": {
      "text/plain": [
       "\n",
       "     0      1 \n",
       "252889 128899 "
      ]
     },
     "metadata": {},
     "output_type": "display_data"
    },
    {
     "data": {
      "text/plain": [
       "\n",
       "     0      1 \n",
       "227765 154023 "
      ]
     },
     "metadata": {},
     "output_type": "display_data"
    },
    {
     "data": {
      "text/plain": [
       "\n",
       "     0      1 \n",
       "296422  85366 "
      ]
     },
     "metadata": {},
     "output_type": "display_data"
    },
    {
     "data": {
      "text/plain": [
       "\n",
       "    0     1 \n",
       "14496  1092 "
      ]
     },
     "metadata": {},
     "output_type": "display_data"
    },
    {
     "data": {
      "text/plain": [
       "\n",
       "diabetic  healthy    pre-d \n",
       "   14260   313861    53667 "
      ]
     },
     "metadata": {},
     "output_type": "display_data"
    },
    {
     "data": {
      "text/plain": [
       "\n",
       "     0      1 \n",
       "139533 242255 "
      ]
     },
     "metadata": {},
     "output_type": "display_data"
    }
   ],
   "source": [
    "table(phe_comb_d$wc.o)\n",
    "table(phe_comb_d$tg.o)\n",
    "table(phe_comb_d$hdl.o)\n",
    "table(phe_comb_d$gluc.o)\n",
    "table(phe_comb_d$hba1c.o)\n",
    "table(phe_comb_d$bp.o)\n"
   ]
  },
  {
   "cell_type": "code",
   "execution_count": 61,
   "metadata": {
    "collapsed": true
   },
   "outputs": [],
   "source": [
    "phe_metS <- phe_comb_d %>% group_by(IID) %>%\n",
    "mutate(MetS_trad=ifelse(sum(c(wc.o, tg.o, hdl.o, gluc.o, bp.o), na.rm=TRUE) >= 3, 1, 0)) %>%\n",
    "mutate(hba1c.od=ifelse(hba1c.o==\"diabetic\", 1, 0)) %>%\n",
    "mutate(MetS_hb=ifelse(sum(c(wc.o, tg.o, hdl.o, bp.o, hba1c.od), na.rm=TRUE)>= 3, 1, 0))"
   ]
  },
  {
   "cell_type": "code",
   "execution_count": 93,
   "metadata": {},
   "outputs": [
    {
     "data": {
      "text/plain": [
       "   \n",
       "         0      1\n",
       "  0 291869   3538\n",
       "  1    193  86188"
      ]
     },
     "metadata": {},
     "output_type": "display_data"
    },
    {
     "data": {
      "text/html": [
       "<table>\n",
       "<thead><tr><th scope=col>hba1c.o</th><th scope=col>n</th></tr></thead>\n",
       "<tbody>\n",
       "\t<tr><td>healthy</td><td>94     </td></tr>\n",
       "\t<tr><td>pre-d  </td><td>99     </td></tr>\n",
       "</tbody>\n",
       "</table>\n"
      ],
      "text/latex": [
       "\\begin{tabular}{r|ll}\n",
       " hba1c.o & n\\\\\n",
       "\\hline\n",
       "\t healthy & 94     \\\\\n",
       "\t pre-d   & 99     \\\\\n",
       "\\end{tabular}\n"
      ],
      "text/markdown": [
       "\n",
       "hba1c.o | n | \n",
       "|---|---|\n",
       "| healthy | 94      | \n",
       "| pre-d   | 99      | \n",
       "\n",
       "\n"
      ],
      "text/plain": [
       "  hba1c.o n \n",
       "1 healthy 94\n",
       "2 pre-d   99"
      ]
     },
     "metadata": {},
     "output_type": "display_data"
    },
    {
     "data": {
      "text/html": [
       "<table>\n",
       "<thead><tr><th scope=col>IID</th><th scope=col>WC</th><th scope=col>TG</th><th scope=col>HDL</th><th scope=col>Glucose</th><th scope=col>HbA1c</th><th scope=col>BP_d</th><th scope=col>BP_s</th><th scope=col>sex</th><th scope=col>fasting_h</th><th scope=col>fasting</th><th scope=col>wc.o</th><th scope=col>tg.o</th><th scope=col>hdl.o</th><th scope=col>gluc.o</th><th scope=col>hba1c.o</th><th scope=col>bp.o</th><th scope=col>MetS_trad</th><th scope=col>hba1c.od</th><th scope=col>MetS_hb</th></tr></thead>\n",
       "<tbody>\n",
       "\t<tr><td>2651143 </td><td>102     </td><td>1.689   </td><td>1.127   </td><td>7.088   </td><td>48.9    </td><td>85.0    </td><td>143.5   </td><td>1       </td><td>4       </td><td>FALSE   </td><td>1       </td><td>0       </td><td>0       </td><td>NA      </td><td>diabetic</td><td>1       </td><td>0       </td><td>1       </td><td>1       </td></tr>\n",
       "\t<tr><td>1896833 </td><td>108     </td><td>1.521   </td><td>0.945   </td><td>7.323   </td><td>51.3    </td><td>69.0    </td><td>114.0   </td><td>1       </td><td>4       </td><td>FALSE   </td><td>1       </td><td>0       </td><td>1       </td><td>NA      </td><td>diabetic</td><td>0       </td><td>0       </td><td>1       </td><td>1       </td></tr>\n",
       "\t<tr><td>3434962 </td><td>109     </td><td>0.691   </td><td>1.472   </td><td>4.623   </td><td>50.2    </td><td>79.0    </td><td>136.5   </td><td>1       </td><td>4       </td><td>FALSE   </td><td>1       </td><td>0       </td><td>0       </td><td>NA      </td><td>diabetic</td><td>1       </td><td>0       </td><td>1       </td><td>1       </td></tr>\n",
       "\t<tr><td>4704445 </td><td> 91     </td><td>1.299   </td><td>1.026   </td><td>6.689   </td><td>53.9    </td><td>98.5    </td><td>163.0   </td><td>1       </td><td>2       </td><td>FALSE   </td><td>0       </td><td>0       </td><td>1       </td><td>NA      </td><td>diabetic</td><td>1       </td><td>0       </td><td>1       </td><td>1       </td></tr>\n",
       "\t<tr><td>1017570 </td><td>120     </td><td>1.071   </td><td>1.170   </td><td>5.005   </td><td>49.1    </td><td>78.5    </td><td>132.5   </td><td>1       </td><td>4       </td><td>FALSE   </td><td>1       </td><td>0       </td><td>0       </td><td>NA      </td><td>diabetic</td><td>1       </td><td>0       </td><td>1       </td><td>1       </td></tr>\n",
       "\t<tr><td>3961867 </td><td> 95     </td><td>2.473   </td><td>1.280   </td><td>5.610   </td><td>50.8    </td><td>80.0    </td><td>147.5   </td><td>1       </td><td>4       </td><td>FALSE   </td><td>0       </td><td>1       </td><td>0       </td><td>NA      </td><td>diabetic</td><td>1       </td><td>0       </td><td>1       </td><td>1       </td></tr>\n",
       "</tbody>\n",
       "</table>\n"
      ],
      "text/latex": [
       "\\begin{tabular}{r|llllllllllllllllllll}\n",
       " IID & WC & TG & HDL & Glucose & HbA1c & BP\\_d & BP\\_s & sex & fasting\\_h & fasting & wc.o & tg.o & hdl.o & gluc.o & hba1c.o & bp.o & MetS\\_trad & hba1c.od & MetS\\_hb\\\\\n",
       "\\hline\n",
       "\t 2651143  & 102      & 1.689    & 1.127    & 7.088    & 48.9     & 85.0     & 143.5    & 1        & 4        & FALSE    & 1        & 0        & 0        & NA       & diabetic & 1        & 0        & 1        & 1       \\\\\n",
       "\t 1896833  & 108      & 1.521    & 0.945    & 7.323    & 51.3     & 69.0     & 114.0    & 1        & 4        & FALSE    & 1        & 0        & 1        & NA       & diabetic & 0        & 0        & 1        & 1       \\\\\n",
       "\t 3434962  & 109      & 0.691    & 1.472    & 4.623    & 50.2     & 79.0     & 136.5    & 1        & 4        & FALSE    & 1        & 0        & 0        & NA       & diabetic & 1        & 0        & 1        & 1       \\\\\n",
       "\t 4704445  &  91      & 1.299    & 1.026    & 6.689    & 53.9     & 98.5     & 163.0    & 1        & 2        & FALSE    & 0        & 0        & 1        & NA       & diabetic & 1        & 0        & 1        & 1       \\\\\n",
       "\t 1017570  & 120      & 1.071    & 1.170    & 5.005    & 49.1     & 78.5     & 132.5    & 1        & 4        & FALSE    & 1        & 0        & 0        & NA       & diabetic & 1        & 0        & 1        & 1       \\\\\n",
       "\t 3961867  &  95      & 2.473    & 1.280    & 5.610    & 50.8     & 80.0     & 147.5    & 1        & 4        & FALSE    & 0        & 1        & 0        & NA       & diabetic & 1        & 0        & 1        & 1       \\\\\n",
       "\\end{tabular}\n"
      ],
      "text/markdown": [
       "\n",
       "IID | WC | TG | HDL | Glucose | HbA1c | BP_d | BP_s | sex | fasting_h | fasting | wc.o | tg.o | hdl.o | gluc.o | hba1c.o | bp.o | MetS_trad | hba1c.od | MetS_hb | \n",
       "|---|---|---|---|---|---|\n",
       "| 2651143  | 102      | 1.689    | 1.127    | 7.088    | 48.9     | 85.0     | 143.5    | 1        | 4        | FALSE    | 1        | 0        | 0        | NA       | diabetic | 1        | 0        | 1        | 1        | \n",
       "| 1896833  | 108      | 1.521    | 0.945    | 7.323    | 51.3     | 69.0     | 114.0    | 1        | 4        | FALSE    | 1        | 0        | 1        | NA       | diabetic | 0        | 0        | 1        | 1        | \n",
       "| 3434962  | 109      | 0.691    | 1.472    | 4.623    | 50.2     | 79.0     | 136.5    | 1        | 4        | FALSE    | 1        | 0        | 0        | NA       | diabetic | 1        | 0        | 1        | 1        | \n",
       "| 4704445  |  91      | 1.299    | 1.026    | 6.689    | 53.9     | 98.5     | 163.0    | 1        | 2        | FALSE    | 0        | 0        | 1        | NA       | diabetic | 1        | 0        | 1        | 1        | \n",
       "| 1017570  | 120      | 1.071    | 1.170    | 5.005    | 49.1     | 78.5     | 132.5    | 1        | 4        | FALSE    | 1        | 0        | 0        | NA       | diabetic | 1        | 0        | 1        | 1        | \n",
       "| 3961867  |  95      | 2.473    | 1.280    | 5.610    | 50.8     | 80.0     | 147.5    | 1        | 4        | FALSE    | 0        | 1        | 0        | NA       | diabetic | 1        | 0        | 1        | 1        | \n",
       "\n",
       "\n"
      ],
      "text/plain": [
       "  IID     WC  TG    HDL   Glucose HbA1c BP_d BP_s  sex fasting_h fasting wc.o\n",
       "1 2651143 102 1.689 1.127 7.088   48.9  85.0 143.5 1   4         FALSE   1   \n",
       "2 1896833 108 1.521 0.945 7.323   51.3  69.0 114.0 1   4         FALSE   1   \n",
       "3 3434962 109 0.691 1.472 4.623   50.2  79.0 136.5 1   4         FALSE   1   \n",
       "4 4704445  91 1.299 1.026 6.689   53.9  98.5 163.0 1   2         FALSE   0   \n",
       "5 1017570 120 1.071 1.170 5.005   49.1  78.5 132.5 1   4         FALSE   1   \n",
       "6 3961867  95 2.473 1.280 5.610   50.8  80.0 147.5 1   4         FALSE   0   \n",
       "  tg.o hdl.o gluc.o hba1c.o  bp.o MetS_trad hba1c.od MetS_hb\n",
       "1 0    0     NA     diabetic 1    0         1        1      \n",
       "2 0    1     NA     diabetic 0    0         1        1      \n",
       "3 0    0     NA     diabetic 1    0         1        1      \n",
       "4 0    1     NA     diabetic 1    0         1        1      \n",
       "5 0    0     NA     diabetic 1    0         1        1      \n",
       "6 1    0     NA     diabetic 1    0         1        1      "
      ]
     },
     "metadata": {},
     "output_type": "display_data"
    },
    {
     "ename": "ERROR",
     "evalue": "Error in write_tsv(phe_metS, file = \"../data/metabolic_syndrome_df.txt\"): unused argument (file = \"../data/metabolic_syndrome_df.txt\")\n",
     "output_type": "error",
     "traceback": [
      "Error in write_tsv(phe_metS, file = \"../data/metabolic_syndrome_df.txt\"): unused argument (file = \"../data/metabolic_syndrome_df.txt\")\nTraceback:\n"
     ]
    }
   ],
   "source": [
    "# look at the two phenotypes\n",
    "phe_metS <- phe_metS %>% ungroup(IID)\n",
    "table(phe_metS$MetS_trad, phe_metS$MetS_hb)\n",
    "phe_metS %>% filter(MetS_trad == 1 & MetS_hb==0) %>% group_by(hba1c.o) %>% count() # 193 are traditional but not\n",
    "phe_metS %>% filter(MetS_trad == 0 & MetS_hb==1) %>% head()\n",
    "\n"
   ]
  },
  {
   "cell_type": "code",
   "execution_count": 94,
   "metadata": {
    "collapsed": true
   },
   "outputs": [],
   "source": [
    "write_tsv(phe_metS, \"../data/metabolic_syndrome_df.txt\")"
   ]
  },
  {
   "cell_type": "code",
   "execution_count": 23,
   "metadata": {
    "collapsed": true
   },
   "outputs": [],
   "source": [
    "BIOMARKER_PHE_DIR_f=\"/oak/stanford/groups/mrivas/projects/biomarkers/covariate_corrected/outputExtendedBMIreducedFemaleWhiteBritish/phenotypes/residual/\"\n",
    "fasting_gluc <- read.table(sprintf(\"%s/Fasting_glucose.phe\", BIOMARKER_PHE_DIR_f), header=TRUE)\n",
    "gluc <- read.table(sprintf(\"%s/Glucose.phe\", BIOMARKER_PHE_DIR_f), header=TRUE)"
   ]
  },
  {
   "cell_type": "code",
   "execution_count": 29,
   "metadata": {},
   "outputs": [
    {
     "data": {
      "text/plain": [
       "\n",
       "  TRUE \n",
       "219899 "
      ]
     },
     "metadata": {},
     "output_type": "display_data"
    },
    {
     "data": {
      "text/html": [
       "<table>\n",
       "<thead><tr><th scope=col>IID</th><th scope=col>Fasting_glucose</th><th scope=col>Glucose</th></tr></thead>\n",
       "<tbody>\n",
       "\t<tr><td>2314965     </td><td>NA          </td><td>          NA</td></tr>\n",
       "\t<tr><td>1142584     </td><td>NA          </td><td>-0.026686898</td></tr>\n",
       "\t<tr><td>3665122     </td><td>NA          </td><td>-0.007772672</td></tr>\n",
       "\t<tr><td>4377492     </td><td>NA          </td><td> 0.021119123</td></tr>\n",
       "\t<tr><td>4015997     </td><td>NA          </td><td>-0.013720449</td></tr>\n",
       "\t<tr><td>2076736     </td><td>NA          </td><td>-0.023485829</td></tr>\n",
       "</tbody>\n",
       "</table>\n"
      ],
      "text/latex": [
       "\\begin{tabular}{r|lll}\n",
       " IID & Fasting\\_glucose & Glucose\\\\\n",
       "\\hline\n",
       "\t 2314965      & NA           &           NA\\\\\n",
       "\t 1142584      & NA           & -0.026686898\\\\\n",
       "\t 3665122      & NA           & -0.007772672\\\\\n",
       "\t 4377492      & NA           &  0.021119123\\\\\n",
       "\t 4015997      & NA           & -0.013720449\\\\\n",
       "\t 2076736      & NA           & -0.023485829\\\\\n",
       "\\end{tabular}\n"
      ],
      "text/markdown": [
       "\n",
       "IID | Fasting_glucose | Glucose | \n",
       "|---|---|---|---|---|---|\n",
       "| 2314965      | NA           |           NA | \n",
       "| 1142584      | NA           | -0.026686898 | \n",
       "| 3665122      | NA           | -0.007772672 | \n",
       "| 4377492      | NA           |  0.021119123 | \n",
       "| 4015997      | NA           | -0.013720449 | \n",
       "| 2076736      | NA           | -0.023485829 | \n",
       "\n",
       "\n"
      ],
      "text/plain": [
       "  IID     Fasting_glucose Glucose     \n",
       "1 2314965 NA                        NA\n",
       "2 1142584 NA              -0.026686898\n",
       "3 3665122 NA              -0.007772672\n",
       "4 4377492 NA               0.021119123\n",
       "5 4015997 NA              -0.013720449\n",
       "6 2076736 NA              -0.023485829"
      ]
     },
     "metadata": {},
     "output_type": "display_data"
    },
    {
     "data": {
      "text/html": [
       "<table>\n",
       "<thead><tr><th scope=col>n</th></tr></thead>\n",
       "<tbody>\n",
       "\t<tr><td>193161</td></tr>\n",
       "</tbody>\n",
       "</table>\n"
      ],
      "text/latex": [
       "\\begin{tabular}{r|l}\n",
       " n\\\\\n",
       "\\hline\n",
       "\t 193161\\\\\n",
       "\\end{tabular}\n"
      ],
      "text/markdown": [
       "\n",
       "n | \n",
       "|---|\n",
       "| 193161 | \n",
       "\n",
       "\n"
      ],
      "text/plain": [
       "  n     \n",
       "1 193161"
      ]
     },
     "metadata": {},
     "output_type": "display_data"
    },
    {
     "data": {
      "text/plain": [
       "\n",
       " FALSE   TRUE \n",
       "  6280 213619 "
      ]
     },
     "metadata": {},
     "output_type": "display_data"
    },
    {
     "data": {
      "text/plain": [
       "\n",
       " FALSE   TRUE \n",
       "199441  20458 "
      ]
     },
     "metadata": {},
     "output_type": "display_data"
    },
    {
     "data": {
      "image/png": "[encoded data removed]",
      "text/plain": [
       "Plot with title “density.default(x = comb_gluc$Fasting_glucose, na.rm = TRUE)”"
      ]
     },
     "metadata": {},
     "output_type": "display_data"
    }
   ],
   "source": [
    "table(fasting_gluc$IID == gluc$IID)\n",
    "\n",
    "comb_gluc <- cbind(fasting_gluc %>% select(IID, Fasting_glucose), gluc %>% select(Glucose))\n",
    "head(comb_gluc)\n",
    "comb_gluc %>% filter(is.na(Fasting_glucose) & !is.na(Glucose)) %>% count()\n",
    "table(is.na(comb_gluc$Fasting_glucose))\n",
    "table(is.na(comb_gluc$Glucose))\n",
    "\n",
    "plot(density(comb_gluc$Fasting_glucose, na.rm=TRUE))"
   ]
  },
  {
   "cell_type": "code",
   "execution_count": null,
   "metadata": {
    "collapsed": true
   },
   "outputs": [],
   "source": [
    "# grab these phe codes <-- looks like I already have all but fasting time\n",
    "\n"
   ]
  },
  {
   "cell_type": "code",
   "execution_count": null,
   "metadata": {
    "collapsed": true
   },
   "outputs": [],
   "source": [
    "\n"
   ]
  }
 ],
 "metadata": {
  "kernelspec": {
   "display_name": "R",
   "language": "R",
   "name": "ir"
  },
  "language_info": {
   "codemirror_mode": "r",
   "file_extension": ".r",
   "mimetype": "text/x-r-source",
   "name": "R",
   "pygments_lexer": "r",
   "version": "3.4.0"
  }
 },
 "nbformat": 4,
 "nbformat_minor": 2
}
