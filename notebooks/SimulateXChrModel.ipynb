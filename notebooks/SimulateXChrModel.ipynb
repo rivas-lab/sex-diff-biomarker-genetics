{
 "cells": [
  {
   "cell_type": "code",
   "execution_count": null,
   "metadata": {
    "collapsed": true
   },
   "outputs": [],
   "source": [
    "# SimulateXChrModel\n",
    "# E Flynn\n",
    "# 2/12/2018\n",
    "# Goal - simulate x chromosome data from a couple different models:\n",
    "#  random XCI, escape XCI, skewed XCI\n",
    "#\n",
    "# Try common methods (Plink, Clayton, Wang, etc...) - what works best?\n",
    "# Can we get the method we tried to work with these data?"
   ]
  },
  {
   "cell_type": "code",
   "execution_count": 1,
   "metadata": {},
   "outputs": [
    {
     "name": "stderr",
     "output_type": "stream",
     "text": [
      "Loading required package: hapsim\n",
      "Loading required package: MASS\n"
     ]
    }
   ],
   "source": [
    "require('hapsim')"
   ]
  },
  {
   "cell_type": "code",
   "execution_count": 2,
   "metadata": {},
   "outputs": [
    {
     "data": {
      "text/plain": [
       "No vignettes or demos or help files found with alias or concept or\n",
       "title matching ‘hapsim’ using fuzzy matching."
      ]
     },
     "metadata": {},
     "output_type": "display_data"
    }
   ],
   "source": [
    "??hapsim"
   ]
  },
  {
   "cell_type": "code",
   "execution_count": 32,
   "metadata": {
    "collapsed": true
   },
   "outputs": [],
   "source": [
    "num.f = 5000\n",
    "num.m = 5000\n",
    "maf= 0.4\n",
    "beta1=0.1\n",
    "beta2=0\n",
    "\n",
    "\n",
    "# sample alleles\n",
    "f.alleles <- sample(c(0,1), size=num.f*2, prob=c(maf, 1-maf), replace=TRUE)\n",
    "f.alleles <- matrix(f.alleles, nrow=num.f, ncol=2)\n",
    "m.alleles <- sample(c(0,1), size=num.m, prob=c(maf, 1-maf), replace=TRUE)\n",
    "qs <- rnorm(num.f + num.m, 0, 1)\n",
    "\n",
    "# standard XCI model\n",
    "beta_adj.f <- sapply(rowSums(f.alleles), function(x) ifelse(x==0, beta1, ifelse(x==1, beta1/2, 0)))\n",
    "q.f <- qs[1:num.f] + beta_adj.f\n",
    "q.m <- qs[(num.f+1):num.m] + sapply(m.alleles, function(x) ifelse(x==0, beta1, 0))\n",
    "\n",
    "# escape from XCI    \n",
    "beta_adj.f2 <- sapply(rowSums(f.alleles), function(x) ifelse(x==0, beta1*2, ifelse(x==1, beta1, 0)))\n",
    "q.f2 <- qs[1:num.f] + beta_adj.f2\n",
    "\n",
    "# random XCI\n",
    "#probs <- sample(c(0,1), size=num.f, prob=c(0.5, 0.5), replace=TRUE)\n",
    "beta_adj.f3 <- sapply(rowSums(f.alleles), function(x) ifelse(x==0, beta1, ifelse(x==1, beta1*(sample(c(0,1),1)), 0)))\n",
    "q.f3 <- qs[1:num.f] + beta_adj.f3\n",
    "    \n",
    "# X skewing \n",
    "gamma <- 0.3\n",
    "beta_adj.f4 <- sapply(rowSums(f.alleles), function(x) ifelse(x==0, beta1, \n",
    "                                                             ifelse(x==1, beta1*(sample(c(0,1),1, prob=c(gamma, 1-gamma))), 0)))\n",
    "q.f4 <- qs[1:num.f] + beta_adj.f4"
   ]
  },
  {
   "cell_type": "code",
   "execution_count": 37,
   "metadata": {},
   "outputs": [
    {
     "data": {
      "text/html": [
       "<ol class=list-inline>\n",
       "\t<li>0.647258511286231</li>\n",
       "\t<li>0.471152693234266</li>\n",
       "\t<li>0.326260958243554</li>\n",
       "\t<li>0.162846151447171</li>\n",
       "\t<li>-1.1625156215496</li>\n",
       "\t<li>-0.509936454659742</li>\n",
       "</ol>\n"
      ],
      "text/latex": [
       "\\begin{enumerate*}\n",
       "\\item 0.647258511286231\n",
       "\\item 0.471152693234266\n",
       "\\item 0.326260958243554\n",
       "\\item 0.162846151447171\n",
       "\\item -1.1625156215496\n",
       "\\item -0.509936454659742\n",
       "\\end{enumerate*}\n"
      ],
      "text/markdown": [
       "1. 0.647258511286231\n",
       "2. 0.471152693234266\n",
       "3. 0.326260958243554\n",
       "4. 0.162846151447171\n",
       "5. -1.1625156215496\n",
       "6. -0.509936454659742\n",
       "\n",
       "\n"
      ],
      "text/plain": [
       "[1]  0.6472585  0.4711527  0.3262610  0.1628462 -1.1625156 -0.5099365"
      ]
     },
     "metadata": {},
     "output_type": "display_data"
    },
    {
     "data": {
      "text/html": [
       "<ol class=list-inline>\n",
       "\t<li>0.647258511286231</li>\n",
       "\t<li>0.371152693234266</li>\n",
       "\t<li>0.326260958243554</li>\n",
       "\t<li>0.262846151447171</li>\n",
       "\t<li>-1.1625156215496</li>\n",
       "\t<li>-0.609936454659742</li>\n",
       "</ol>\n"
      ],
      "text/latex": [
       "\\begin{enumerate*}\n",
       "\\item 0.647258511286231\n",
       "\\item 0.371152693234266\n",
       "\\item 0.326260958243554\n",
       "\\item 0.262846151447171\n",
       "\\item -1.1625156215496\n",
       "\\item -0.609936454659742\n",
       "\\end{enumerate*}\n"
      ],
      "text/markdown": [
       "1. 0.647258511286231\n",
       "2. 0.371152693234266\n",
       "3. 0.326260958243554\n",
       "4. 0.262846151447171\n",
       "5. -1.1625156215496\n",
       "6. -0.609936454659742\n",
       "\n",
       "\n"
      ],
      "text/plain": [
       "[1]  0.6472585  0.3711527  0.3262610  0.2628462 -1.1625156 -0.6099365"
      ]
     },
     "metadata": {},
     "output_type": "display_data"
    },
    {
     "data": {
      "text/html": [
       "<ol class=list-inline>\n",
       "\t<li>0.647258511286231</li>\n",
       "\t<li>0.471152693234266</li>\n",
       "\t<li>0.326260958243554</li>\n",
       "\t<li>0.262846151447171</li>\n",
       "\t<li>-1.0625156215496</li>\n",
       "\t<li>-0.509936454659742</li>\n",
       "</ol>\n"
      ],
      "text/latex": [
       "\\begin{enumerate*}\n",
       "\\item 0.647258511286231\n",
       "\\item 0.471152693234266\n",
       "\\item 0.326260958243554\n",
       "\\item 0.262846151447171\n",
       "\\item -1.0625156215496\n",
       "\\item -0.509936454659742\n",
       "\\end{enumerate*}\n"
      ],
      "text/markdown": [
       "1. 0.647258511286231\n",
       "2. 0.471152693234266\n",
       "3. 0.326260958243554\n",
       "4. 0.262846151447171\n",
       "5. -1.0625156215496\n",
       "6. -0.509936454659742\n",
       "\n",
       "\n"
      ],
      "text/plain": [
       "[1]  0.6472585  0.4711527  0.3262610  0.2628462 -1.0625156 -0.5099365"
      ]
     },
     "metadata": {},
     "output_type": "display_data"
    },
    {
     "data": {
      "text/html": [
       "<ol class=list-inline>\n",
       "\t<li>0.647258511286231</li>\n",
       "\t<li>0.421152693234266</li>\n",
       "\t<li>0.326260958243554</li>\n",
       "\t<li>0.212846151447171</li>\n",
       "\t<li>-1.1125156215496</li>\n",
       "\t<li>-0.559936454659742</li>\n",
       "</ol>\n"
      ],
      "text/latex": [
       "\\begin{enumerate*}\n",
       "\\item 0.647258511286231\n",
       "\\item 0.421152693234266\n",
       "\\item 0.326260958243554\n",
       "\\item 0.212846151447171\n",
       "\\item -1.1125156215496\n",
       "\\item -0.559936454659742\n",
       "\\end{enumerate*}\n"
      ],
      "text/markdown": [
       "1. 0.647258511286231\n",
       "2. 0.421152693234266\n",
       "3. 0.326260958243554\n",
       "4. 0.212846151447171\n",
       "5. -1.1125156215496\n",
       "6. -0.559936454659742\n",
       "\n",
       "\n"
      ],
      "text/plain": [
       "[1]  0.6472585  0.4211527  0.3262610  0.2128462 -1.1125156 -0.5599365"
      ]
     },
     "metadata": {},
     "output_type": "display_data"
    },
    {
     "data": {
      "text/html": [
       "<ol class=list-inline>\n",
       "\t<li>-0.258528551979203</li>\n",
       "\t<li>-0.430683588159484</li>\n",
       "\t<li>-0.158528551979203</li>\n",
       "\t<li>-0.430683588159484</li>\n",
       "\t<li>-0.158528551979203</li>\n",
       "\t<li>-0.330683588159484</li>\n",
       "</ol>\n"
      ],
      "text/latex": [
       "\\begin{enumerate*}\n",
       "\\item -0.258528551979203\n",
       "\\item -0.430683588159484\n",
       "\\item -0.158528551979203\n",
       "\\item -0.430683588159484\n",
       "\\item -0.158528551979203\n",
       "\\item -0.330683588159484\n",
       "\\end{enumerate*}\n"
      ],
      "text/markdown": [
       "1. -0.258528551979203\n",
       "2. -0.430683588159484\n",
       "3. -0.158528551979203\n",
       "4. -0.430683588159484\n",
       "5. -0.158528551979203\n",
       "6. -0.330683588159484\n",
       "\n",
       "\n"
      ],
      "text/plain": [
       "[1] -0.2585286 -0.4306836 -0.1585286 -0.4306836 -0.1585286 -0.3306836"
      ]
     },
     "metadata": {},
     "output_type": "display_data"
    }
   ],
   "source": [
    "head(q.f4)\n",
    "head(q.f3)\n",
    "head(q.f2)\n",
    "head(q.f)\n",
    "head(q.m)\n",
    "\n",
    "\n",
    "# issue - we did not take into account correlation M/F - or did we? same beta?\n",
    "# each is a person, phenotype -- all for one SNP!"
   ]
  },
  {
   "cell_type": "code",
   "execution_count": null,
   "metadata": {
    "collapsed": true
   },
   "outputs": [],
   "source": [
    "# NEXT STEP -- run tests!"
   ]
  }
 ],
 "metadata": {
  "kernelspec": {
   "display_name": "R",
   "language": "R",
   "name": "ir"
  },
  "language_info": {
   "codemirror_mode": "r",
   "file_extension": ".r",
   "mimetype": "text/x-r-source",
   "name": "R",
   "pygments_lexer": "r",
   "version": "3.3.0"
  }
 },
 "nbformat": 4,
 "nbformat_minor": 2
}
