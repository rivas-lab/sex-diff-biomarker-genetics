{
 "cells": [
  {
   "cell_type": "code",
   "execution_count": 1,
   "metadata": {},
   "outputs": [
    {
     "name": "stderr",
     "output_type": "stream",
     "text": [
      "Loading required package: rstan\n",
      "Loading required package: ggplot2\n",
      "Loading required package: StanHeaders\n",
      "rstan (Version 2.17.3, GitRev: 2e1f913d3ca3)\n",
      "For execution on a local, multicore CPU with excess RAM we recommend calling\n",
      "options(mc.cores = parallel::detectCores()).\n",
      "To avoid recompilation of unchanged Stan programs, we recommend calling\n",
      "rstan_options(auto_write = TRUE)\n",
      "Loading required package: tidyverse\n",
      "── Attaching packages ─────────────────────────────────────── tidyverse 1.2.1 ──\n",
      "✔ tibble  1.4.2     ✔ purrr   0.2.4\n",
      "✔ tidyr   0.8.1     ✔ dplyr   0.7.4\n",
      "✔ readr   1.1.1     ✔ stringr 1.3.0\n",
      "✔ tibble  1.4.2     ✔ forcats 0.3.0\n",
      "── Conflicts ────────────────────────────────────────── tidyverse_conflicts() ──\n",
      "✖ tidyr::extract() masks rstan::extract()\n",
      "✖ dplyr::filter()  masks stats::filter()\n",
      "✖ dplyr::lag()     masks stats::lag()\n"
     ]
    }
   ],
   "source": [
    "require('rstan')\n",
    "require('tidyverse')"
   ]
  },
  {
   "cell_type": "code",
   "execution_count": 2,
   "metadata": {},
   "outputs": [],
   "source": [
    "OUT_DIR <- \"/scratch/PI/mrivas/users/erflynn/sex_div_gwas/data/biomarker/m2\"\n",
    "trait <- '30690'\n",
    "snp_table <- read.table(sprintf(\"%s/snp_table_%s.txt\", OUT_DIR, trait), header=TRUE, stringsAsFactors=FALSE)\n",
    "load(sprintf(\"%s/f_m2_%s.RData\", OUT_DIR, trait))\n",
    "load(sprintf(\"%s/dat_%s.RData\", OUT_DIR, trait))"
   ]
  },
  {
   "cell_type": "code",
   "execution_count": 3,
   "metadata": {},
   "outputs": [
    {
     "data": {
      "text/html": [
       "<table>\n",
       "<thead><tr><th scope=col>p1</th><th scope=col>p2</th><th scope=col>p3</th><th scope=col>p4</th><th scope=col>category</th><th scope=col>SNP</th></tr></thead>\n",
       "<tbody>\n",
       "\t<tr><td>0.9969247   </td><td>1.550932e-07</td><td>1.502403e-07</td><td>3.074973e-03</td><td>1           </td><td>rs115991721 </td></tr>\n",
       "\t<tr><td>0.9999621   </td><td>9.932949e-09</td><td>7.410937e-09</td><td>3.790801e-05</td><td>1           </td><td>rs12562034  </td></tr>\n",
       "\t<tr><td>0.9998767   </td><td>3.481458e-08</td><td>6.924291e-09</td><td>1.232162e-04</td><td>1           </td><td>rs4040617   </td></tr>\n",
       "\t<tr><td>0.9995720   </td><td>2.294900e-08</td><td>3.950168e-08</td><td>4.279499e-04</td><td>1           </td><td>rs79373928  </td></tr>\n",
       "\t<tr><td>0.9967512   </td><td>1.904420e-07</td><td>1.544838e-07</td><td>3.248425e-03</td><td>1           </td><td>rs59771807  </td></tr>\n",
       "\t<tr><td>0.9993333   </td><td>4.385339e-08</td><td>3.452234e-08</td><td>6.665831e-04</td><td>1           </td><td>rs116452738 </td></tr>\n",
       "</tbody>\n",
       "</table>\n"
      ],
      "text/latex": [
       "\\begin{tabular}{r|llllll}\n",
       " p1 & p2 & p3 & p4 & category & SNP\\\\\n",
       "\\hline\n",
       "\t 0.9969247    & 1.550932e-07 & 1.502403e-07 & 3.074973e-03 & 1            & rs115991721 \\\\\n",
       "\t 0.9999621    & 9.932949e-09 & 7.410937e-09 & 3.790801e-05 & 1            & rs12562034  \\\\\n",
       "\t 0.9998767    & 3.481458e-08 & 6.924291e-09 & 1.232162e-04 & 1            & rs4040617   \\\\\n",
       "\t 0.9995720    & 2.294900e-08 & 3.950168e-08 & 4.279499e-04 & 1            & rs79373928  \\\\\n",
       "\t 0.9967512    & 1.904420e-07 & 1.544838e-07 & 3.248425e-03 & 1            & rs59771807  \\\\\n",
       "\t 0.9993333    & 4.385339e-08 & 3.452234e-08 & 6.665831e-04 & 1            & rs116452738 \\\\\n",
       "\\end{tabular}\n"
      ],
      "text/markdown": [
       "\n",
       "p1 | p2 | p3 | p4 | category | SNP | \n",
       "|---|---|---|---|---|---|\n",
       "| 0.9969247    | 1.550932e-07 | 1.502403e-07 | 3.074973e-03 | 1            | rs115991721  | \n",
       "| 0.9999621    | 9.932949e-09 | 7.410937e-09 | 3.790801e-05 | 1            | rs12562034   | \n",
       "| 0.9998767    | 3.481458e-08 | 6.924291e-09 | 1.232162e-04 | 1            | rs4040617    | \n",
       "| 0.9995720    | 2.294900e-08 | 3.950168e-08 | 4.279499e-04 | 1            | rs79373928   | \n",
       "| 0.9967512    | 1.904420e-07 | 1.544838e-07 | 3.248425e-03 | 1            | rs59771807   | \n",
       "| 0.9993333    | 4.385339e-08 | 3.452234e-08 | 6.665831e-04 | 1            | rs116452738  | \n",
       "\n",
       "\n"
      ],
      "text/plain": [
       "  p1        p2           p3           p4           category SNP        \n",
       "1 0.9969247 1.550932e-07 1.502403e-07 3.074973e-03 1        rs115991721\n",
       "2 0.9999621 9.932949e-09 7.410937e-09 3.790801e-05 1        rs12562034 \n",
       "3 0.9998767 3.481458e-08 6.924291e-09 1.232162e-04 1        rs4040617  \n",
       "4 0.9995720 2.294900e-08 3.950168e-08 4.279499e-04 1        rs79373928 \n",
       "5 0.9967512 1.904420e-07 1.544838e-07 3.248425e-03 1        rs59771807 \n",
       "6 0.9993333 4.385339e-08 3.452234e-08 6.665831e-04 1        rs116452738"
      ]
     },
     "metadata": {},
     "output_type": "display_data"
    },
    {
     "data": {
      "text/html": [
       "<ol class=list-inline>\n",
       "\t<li>'chr'</li>\n",
       "\t<li>'dat'</li>\n",
       "\t<li>'snp'</li>\n",
       "</ol>\n"
      ],
      "text/latex": [
       "\\begin{enumerate*}\n",
       "\\item 'chr'\n",
       "\\item 'dat'\n",
       "\\item 'snp'\n",
       "\\end{enumerate*}\n"
      ],
      "text/markdown": [
       "1. 'chr'\n",
       "2. 'dat'\n",
       "3. 'snp'\n",
       "\n",
       "\n"
      ],
      "text/plain": [
       "[1] \"chr\" \"dat\" \"snp\""
      ]
     },
     "metadata": {},
     "output_type": "display_data"
    },
    {
     "name": "stdout",
     "output_type": "stream",
     "text": [
      "\n",
      "     1      4 \n",
      "329036    836 \n"
     ]
    }
   ],
   "source": [
    "head(snp_table)\n",
    "ls(dat)\n",
    "print(table(snp_table$category))\n"
   ]
  },
  {
   "cell_type": "code",
   "execution_count": 4,
   "metadata": {},
   "outputs": [
    {
     "ename": "ERROR",
     "evalue": "Error in beta_se_df$SNP: $ operator is invalid for atomic vectors\n",
     "output_type": "error",
     "traceback": [
      "Error in beta_se_df$SNP: $ operator is invalid for atomic vectors\nTraceback:\n"
     ]
    }
   ],
   "source": [
    "betas <- dat$dat$B\n",
    "ses <- dat$dat$SE\n",
    "beta_se_df <- cbind(betas, ses)\n",
    "colnames(beta_se_df) <- c(\"B_f\", \"B_m\", \"SE_f\", \"SE_m\")\n",
    "\n",
    "rownames(beta_se_df) <- beta_se_df$SNP"
   ]
  },
  {
   "cell_type": "code",
   "execution_count": null,
   "metadata": {},
   "outputs": [],
   "source": [
    "snp_tab2 <- filter(snp_table, category != 1) \n"
   ]
  },
  {
   "cell_type": "code",
   "execution_count": null,
   "metadata": {},
   "outputs": [],
   "source": []
  },
  {
   "cell_type": "code",
   "execution_count": null,
   "metadata": {
    "collapsed": true
   },
   "outputs": [],
   "source": []
  }
 ],
 "metadata": {
  "kernelspec": {
   "display_name": "R",
   "language": "R",
   "name": "ir"
  },
  "language_info": {
   "codemirror_mode": "r",
   "file_extension": ".r",
   "mimetype": "text/x-r-source",
   "name": "R",
   "pygments_lexer": "r",
   "version": "3.4.0"
  }
 },
 "nbformat": 4,
 "nbformat_minor": 2
}
