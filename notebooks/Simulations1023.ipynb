{
 "cells": [
  {
   "cell_type": "code",
   "execution_count": 1,
   "metadata": {},
   "outputs": [
    {
     "name": "stderr",
     "output_type": "stream",
     "text": [
      "Loading required package: rstan\n",
      "Loading required package: ggplot2\n",
      "Loading required package: StanHeaders\n",
      "rstan (Version 2.17.3, GitRev: 2e1f913d3ca3)\n",
      "For execution on a local, multicore CPU with excess RAM we recommend calling\n",
      "options(mc.cores = parallel::detectCores()).\n",
      "To avoid recompilation of unchanged Stan programs, we recommend calling\n",
      "rstan_options(auto_write = TRUE)\n",
      "Loading required package: tidyverse\n",
      "── Attaching packages ─────────────────────────────────────── tidyverse 1.2.1 ──\n",
      "✔ tibble  1.4.2     ✔ purrr   0.2.4\n",
      "✔ tidyr   0.8.1     ✔ dplyr   0.7.4\n",
      "✔ readr   1.1.1     ✔ stringr 1.3.0\n",
      "✔ tibble  1.4.2     ✔ forcats 0.3.0\n",
      "── Conflicts ────────────────────────────────────────── tidyverse_conflicts() ──\n",
      "✖ tidyr::extract() masks rstan::extract()\n",
      "✖ dplyr::filter()  masks stats::filter()\n",
      "✖ dplyr::lag()     masks stats::lag()\n",
      "Loading required package: MASS\n",
      "\n",
      "Attaching package: ‘MASS’\n",
      "\n",
      "The following object is masked from ‘package:dplyr’:\n",
      "\n",
      "    select\n",
      "\n",
      "Loading required package: Matrix\n",
      "\n",
      "Attaching package: ‘Matrix’\n",
      "\n",
      "The following object is masked from ‘package:tidyr’:\n",
      "\n",
      "    expand\n",
      "\n",
      "Loading required package: mnormt\n"
     ]
    }
   ],
   "source": [
    "require('rstan')\n",
    "require('tidyverse')\n",
    "source(\"../mixture_model_scripts/test_code/project_utils.R\")\n"
   ]
  },
  {
   "cell_type": "code",
   "execution_count": 2,
   "metadata": {
    "collapsed": true
   },
   "outputs": [],
   "source": [
    "model1Sim <- function(N, p, Sigma){\n",
    "    zeros <- c(0,0)\n",
    "\n",
    "    # sample squared SEs\n",
    "    se2 <- simSE2(N)\n",
    "\n",
    "    ### SAMPLE BETAS FOR EACH MODEL\n",
    "    # M0\n",
    "    n.m0 <- floor(p[1]*N)\n",
    "    se.m0 <- matrix(se2[1:(2*n.m0)], n.m0, 2)\n",
    "    betas.m0 <- do.call(rbind, lapply(1:n.m0, function(x) mvrnorm(1, zeros, diag(se.m0[x,]))))\n",
    "\n",
    "    # M1\n",
    "    n.m1 <- N - n.m0\n",
    "    se.m1 <- matrix(se2[(2*n.m0+1):(2*N)], n.m1, 2)\n",
    "    betas.m1 <- do.call(rbind, lapply(1:n.m1, function(x) mvrnorm(1, zeros, diag(se.m1[x,])+Sigma)))\n",
    "\n",
    "    # put together\n",
    "    betas <- rbind(betas.m0, betas.m1)\n",
    "    ses <- rbind(se.m0, se.m1)\n",
    "\n",
    "    cov.data.sim <- list(\n",
    "        N = N,\n",
    "        M = 2,\n",
    "        B = betas,\n",
    "        SE = ses,\n",
    "        K = 2\n",
    "    )\n",
    "    return(cov.data.sim)\n",
    "}\n"
   ]
  },
  {
   "cell_type": "code",
   "execution_count": 3,
   "metadata": {
    "collapsed": true
   },
   "outputs": [],
   "source": [
    "N <- 1000 # number of samples\n",
    "p <- c(0.5, 0.5) # fraction in each component (null, non-null)\n",
    "S <- matrix(c(0.0012,0.0005, 0.0005, 0.0010),2,2)\n",
    "fixS <- nearPD(S)$mat # nearest positive definite matrix\n",
    "cov.data.M1.sim <- model1Sim(N, p, fixS)"
   ]
  },
  {
   "cell_type": "code",
   "execution_count": 29,
   "metadata": {},
   "outputs": [
    {
     "data": {
      "text/html": [
       "<table>\n",
       "<tbody>\n",
       "\t<tr><td> 0.0091354820</td><td> 0.002921427 </td></tr>\n",
       "\t<tr><td> 0.0240111108</td><td>-0.034645727 </td></tr>\n",
       "\t<tr><td>-0.0000396624</td><td> 0.012718491 </td></tr>\n",
       "\t<tr><td>-0.0043253014</td><td> 0.005404966 </td></tr>\n",
       "\t<tr><td>-0.0985884878</td><td>-0.027911855 </td></tr>\n",
       "\t<tr><td>-0.0274276218</td><td>-0.072320116 </td></tr>\n",
       "</tbody>\n",
       "</table>\n"
      ],
      "text/latex": [
       "\\begin{tabular}{ll}\n",
       "\t  0.0091354820 &  0.002921427 \\\\\n",
       "\t  0.0240111108 & -0.034645727 \\\\\n",
       "\t -0.0000396624 &  0.012718491 \\\\\n",
       "\t -0.0043253014 &  0.005404966 \\\\\n",
       "\t -0.0985884878 & -0.027911855 \\\\\n",
       "\t -0.0274276218 & -0.072320116 \\\\\n",
       "\\end{tabular}\n"
      ],
      "text/markdown": [
       "\n",
       "|  0.0091354820 |  0.002921427  | \n",
       "|  0.0240111108 | -0.034645727  | \n",
       "| -0.0000396624 |  0.012718491  | \n",
       "| -0.0043253014 |  0.005404966  | \n",
       "| -0.0985884878 | -0.027911855  | \n",
       "| -0.0274276218 | -0.072320116  | \n",
       "\n",
       "\n"
      ],
      "text/plain": [
       "     [,1]          [,2]        \n",
       "[1,]  0.0091354820  0.002921427\n",
       "[2,]  0.0240111108 -0.034645727\n",
       "[3,] -0.0000396624  0.012718491\n",
       "[4,] -0.0043253014  0.005404966\n",
       "[5,] -0.0985884878 -0.027911855\n",
       "[6,] -0.0274276218 -0.072320116"
      ]
     },
     "metadata": {},
     "output_type": "display_data"
    }
   ],
   "source": [
    "head(cov.data.M1.sim$B)"
   ]
  },
  {
   "cell_type": "code",
   "execution_count": 5,
   "metadata": {},
   "outputs": [
    {
     "data": {
      "text/plain": [
       "Time difference of 1.444946 mins"
      ]
     },
     "metadata": {},
     "output_type": "display_data"
    }
   ],
   "source": [
    "start.time <- Sys.time()\n",
    "# run stan to estimate the covariance\n",
    "library(rstan)\n",
    "options(warn=-1)\n",
    "options(mc.cores = parallel::detectCores())\n",
    "fit1_sim <- stan(\n",
    "  file = \"../mixture_model_scripts/models/model1_no_loglik.stan\",  # Stan program\n",
    "  data = cov.data.M1.sim,    # named list of data\n",
    "  chains = 4,             # number of Markov chains\n",
    "  warmup = 200,          # number of warmup iterations per chain\n",
    "  iter = 600,            # total number of iterations per chain\n",
    "  cores = 4,              \n",
    "  refresh = 200          # show progress every 'refresh' iterations\n",
    "  )\n",
    "end.time <- Sys.time()\n",
    "time.taken <- end.time - start.time\n",
    "time.taken\n"
   ]
  },
  {
   "cell_type": "code",
   "execution_count": 25,
   "metadata": {
    "collapsed": true
   },
   "outputs": [],
   "source": [
    "simRun <- function(N, p_nn, S, simID){\n",
    "    p <- c(1-p_nn, p_nn)\n",
    "    \n",
    "    fixS <- nearPD(S)$mat # nearest positive definite matrix\n",
    "    cov.data.M1.sim <- model1Sim(N, p, fixS)\n",
    "    fit1_sim <- stan(\n",
    "      file = \"../mixture_model_scripts/models/model1_no_loglik.stan\",  # Stan program\n",
    "      data = cov.data.M1.sim,    # named list of data\n",
    "      chains = 4,             # number of Markov chains\n",
    "      warmup = 200,          # number of warmup iterations per chain\n",
    "      iter = 600,            # total number of iterations per chain\n",
    "      cores = 4,              \n",
    "      refresh = 200          # show progress every 'refresh' iterations\n",
    "      )\n",
    "    p.est <- getPi(fit1_sim)\n",
    "    s.est <- getSigma(fit1_sim)\n",
    "    \n",
    "    # calculate posteriors\n",
    "    B_dat <- cov.data.M1.sim$B\n",
    "    SE_dat <- cov.data.M1.sim$SE\n",
    "\n",
    "    N <- cov.data.M1.sim$N\n",
    "    posteriors <- sapply(1:N, function(i) getPosterior2(B_dat[i,], SE_dat[i,], p.est, s.est))\n",
    "    \n",
    "    list.params <- list(\"p\"=p_nn, \"S\"=fixS, \"p.est\"=p.est[[2]], \"S.est\"=s.est)\n",
    "    save(posteriors, list.params, file=sprintf(\"../data/tmp_posteriors/sim/sim%s.RData\", simID))\n",
    "}"
   ]
  },
  {
   "cell_type": "code",
   "execution_count": 26,
   "metadata": {
    "collapsed": true
   },
   "outputs": [],
   "source": [
    "N <- 1000 # number of samples\n",
    "S <- matrix(c(0.0012,0.0005, 0.0005, 0.0010),2,2)\n",
    "\n",
    "simRes <- simRun(N, 0.8, S)"
   ]
  },
  {
   "cell_type": "code",
   "execution_count": 27,
   "metadata": {},
   "outputs": [
    {
     "data": {
      "text/plain": [
       "$p\n",
       "[1] 0.8\n",
       "\n",
       "$S\n",
       "2 x 2 Matrix of class \"dpoMatrix\"\n",
       "       [,1]  [,2]\n",
       "[1,] 0.0012 5e-04\n",
       "[2,] 0.0005 1e-03\n",
       "\n",
       "$p.est\n",
       "[1] 0.7859769\n",
       "\n",
       "$S.est\n",
       "            [,1]        [,2]\n",
       "[1,] 0.001110560 0.000448642\n",
       "[2,] 0.000448642 0.001079766\n"
      ]
     },
     "metadata": {},
     "output_type": "display_data"
    }
   ],
   "source": [
    "simRes"
   ]
  },
  {
   "cell_type": "code",
   "execution_count": null,
   "metadata": {
    "collapsed": true
   },
   "outputs": [],
   "source": [
    "# how do we estimate which fraction are assigned to the proper component?\n",
    "getPosterior2 <- function(B, SE, p, Sigma){\n",
    "        # get the posterior probability for a SNP\n",
    "\n",
    "    zeros <- rep(0, length(SE)) #c(0,0)\n",
    "    SE_mat <- diag(SE) #matrix(c(SE[1], 0, 0, SE[2]), 2, 2)\n",
    "    p_1 = p[1]*dmnorm(B, zeros, SE_mat)\n",
    "    p_2 = p[2]*dmnorm(B, zeros, SE_mat + Sigma)\n",
    "    prob_1 = log(p_1) - log(p_1 + p_2)\n",
    "    prob_2 = log(p_2) - log(p_1 + p_2)\n",
    "    return(exp(prob_2))\n",
    "}\n",
    "\n",
    "posteriors <- sapply(1:N, function(i) getPosterior2(B_dat[i,], SE_dat[i,], p, Sigma))\n",
    " "
   ]
  },
  {
   "cell_type": "code",
   "execution_count": 28,
   "metadata": {},
   "outputs": [
    {
     "ename": "ERROR",
     "evalue": "Error in eval(expr, envir, enclos): object 'covDatM1Sim' not found\n",
     "output_type": "error",
     "traceback": [
      "Error in eval(expr, envir, enclos): object 'covDatM1Sim' not found\nTraceback:\n"
     ]
    }
   ],
   "source": [
    "# calculate the difference\n",
    "covDatM1Sim\n",
    "\n",
    "(p.est - p[2])**2/p[2]\n",
    "mean(sum((s.est-fixS)**2/fixS))\n",
    "\n",
    "(s.est-fixS)/fixS"
   ]
  },
  {
   "cell_type": "code",
   "execution_count": 9,
   "metadata": {
    "collapsed": true
   },
   "outputs": [],
   "source": [
    "# try a range of pi\n",
    "range.pi <- seq(0.1, 0.9, 0.1)\n"
   ]
  },
  {
   "cell_type": "code",
   "execution_count": 8,
   "metadata": {},
   "outputs": [
    {
     "data": {
      "text/html": [
       "0.540232175029814"
      ],
      "text/latex": [
       "0.540232175029814"
      ],
      "text/markdown": [
       "0.540232175029814"
      ],
      "text/plain": [
       "[1] 0.5402322"
      ]
     },
     "metadata": {},
     "output_type": "display_data"
    },
    {
     "data": {
      "text/html": [
       "0.0614187462696684"
      ],
      "text/latex": [
       "0.0614187462696684"
      ],
      "text/markdown": [
       "0.0614187462696684"
      ],
      "text/plain": [
       "[1] 0.06141875"
      ]
     },
     "metadata": {},
     "output_type": "display_data"
    },
    {
     "data": {
      "text/html": [
       "0.175164957508576"
      ],
      "text/latex": [
       "0.175164957508576"
      ],
      "text/markdown": [
       "0.175164957508576"
      ],
      "text/plain": [
       "[1] 0.175165"
      ]
     },
     "metadata": {},
     "output_type": "display_data"
    },
    {
     "data": {
      "text/html": [
       "0.223184121191941"
      ],
      "text/latex": [
       "0.223184121191941"
      ],
      "text/markdown": [
       "0.223184121191941"
      ],
      "text/plain": [
       "[1] 0.2231841"
      ]
     },
     "metadata": {},
     "output_type": "display_data"
    }
   ],
   "source": [
    "# try a range of sigmasq\n",
    "a <- runif(1, 0, 1)\n",
    "b <- runif(1, 0, (1-a)/2)\n",
    "c <- runif(1, 0, (1-a)/2)\n",
    "d <- 1-a-b-c\n",
    "\n",
    "samplePi <- function(){\n",
    "    a <- runif(1, 0, 1)\n",
    "    b <- runif(1, 0, (1-a)/2)\n",
    "    c <- runif(1, 0, (1-a)/2)\n",
    "    d <- 1-a-b-c\n",
    "    return(c(d, b, c, a))\n",
    "}"
   ]
  },
  {
   "cell_type": "code",
   "execution_count": null,
   "metadata": {
    "collapsed": true
   },
   "outputs": [],
   "source": [
    "#### SIMULATIONS FOR M2\n",
    "\n",
    "N <- 1000\n",
    "p <- c(0.5, 0.2, 0.1, 0.2)\n",
    "sigmasq <- c(0.005, 0.001, 0.002, 0.004) \n",
    "cov.data.M2.sim <- model2Sim(N, p, sigmasq)"
   ]
  },
  {
   "cell_type": "code",
   "execution_count": 9,
   "metadata": {
    "collapsed": true
   },
   "outputs": [],
   "source": [
    "#### What do I do with the simulated data?\n",
    "simID <- \"1_1\"\n"
   ]
  },
  {
   "cell_type": "code",
   "execution_count": 11,
   "metadata": {},
   "outputs": [
    {
     "name": "stderr",
     "output_type": "stream",
     "text": [
      "Loading required package: Matrix\n"
     ]
    },
    {
     "data": {
      "text/plain": [
       "$p\n",
       "[1] 0.1\n",
       "\n",
       "$S\n",
       "2 x 2 Matrix of class \"dpoMatrix\"\n",
       "       [,1]  [,2]\n",
       "[1,] 0.0023 3e-04\n",
       "[2,] 0.0003 3e-04\n",
       "\n",
       "$p.est\n",
       "[1] 0.09463933\n",
       "\n",
       "$S.est\n",
       "             [,1]         [,2]\n",
       "[1,] 0.0025457773 0.0003377431\n",
       "[2,] 0.0003377431 0.0003072101\n"
      ]
     },
     "metadata": {},
     "output_type": "display_data"
    },
    {
     "data": {
      "text/html": [
       "<ol class=list-inline>\n",
       "\t<li>0.00917534014596046</li>\n",
       "\t<li>0.665182863847187</li>\n",
       "\t<li>0.0230896585538044</li>\n",
       "\t<li>0.0352917800722279</li>\n",
       "\t<li>0.0573557039561586</li>\n",
       "\t<li>0.0647540805439306</li>\n",
       "</ol>\n"
      ],
      "text/latex": [
       "\\begin{enumerate*}\n",
       "\\item 0.00917534014596046\n",
       "\\item 0.665182863847187\n",
       "\\item 0.0230896585538044\n",
       "\\item 0.0352917800722279\n",
       "\\item 0.0573557039561586\n",
       "\\item 0.0647540805439306\n",
       "\\end{enumerate*}\n"
      ],
      "text/markdown": [
       "1. 0.00917534014596046\n",
       "2. 0.665182863847187\n",
       "3. 0.0230896585538044\n",
       "4. 0.0352917800722279\n",
       "5. 0.0573557039561586\n",
       "6. 0.0647540805439306\n",
       "\n",
       "\n"
      ],
      "text/plain": [
       "[1] 0.00917534 0.66518286 0.02308966 0.03529178 0.05735570 0.06475408"
      ]
     },
     "metadata": {},
     "output_type": "display_data"
    }
   ],
   "source": [
    "list.params\n",
    "head(posteriors)"
   ]
  },
  {
   "cell_type": "code",
   "execution_count": 63,
   "metadata": {
    "collapsed": true
   },
   "outputs": [],
   "source": [
    "N <- 1000\n",
    "getSumStats <- function(simID, cutoff){\n",
    "    load(sprintf(\"../data/tmp_posteriors/sim/sim%s.RData\", simID))\n",
    "    cut <- N-(list.params$p*N)\n",
    "    null.comp <- 1:cut\n",
    "    non.null.comp <- cut:N\n",
    "    null.corr <- sum(posteriors[null.comp]<cutoff)\n",
    "    non.null.corr <- sum(posteriors[non.null.comp]>=cutoff)\n",
    "\n",
    "    p.err <- abs(list.params$p-list.params$p.est) \n",
    "    s.mean.err <- mean(abs(list.params$S-list.params$S.est)) \n",
    "    return(data.frame(t(list(\"pi\"=list.params$p, \"cutoff\"=cutoff, \"pi_err\"=p.err, \n",
    "                             \"Sigma_me\"=s.mean.err, \"pct_null\"=null.corr/cut, \"pct_non\"=non.null.corr/(N-cut)))))\n",
    "}\n"
   ]
  },
  {
   "cell_type": "code",
   "execution_count": 64,
   "metadata": {
    "collapsed": true
   },
   "outputs": [],
   "source": [
    "sim_res <- do.call(rbind, \n",
    "                   lapply(1:9, function(x) do.call(rbind, \n",
    "                                                   lapply(1:10, function(y) do.call(rbind, \n",
    "                                                                                    lapply(seq(0.5, 0.9, 0.1), function(z) getSumStats(sprintf(\"%s_%s\", x, y), z)))))))"
   ]
  },
  {
   "cell_type": "code",
   "execution_count": 66,
   "metadata": {},
   "outputs": [
    {
     "data": {
      "text/html": [
       "<table>\n",
       "<thead><tr><th scope=col>pi</th><th scope=col>cutoff</th><th scope=col>pi_err</th><th scope=col>Sigma_me</th><th scope=col>pct_null</th><th scope=col>pct_non</th></tr></thead>\n",
       "<tbody>\n",
       "\t<tr><td>0.1         </td><td>0.5         </td><td>0.005360671 </td><td>8.211837e-05</td><td>0.9944444   </td><td>0.36        </td></tr>\n",
       "\t<tr><td>0.1         </td><td>0.6         </td><td>0.005360671 </td><td>8.211837e-05</td><td>0.9966667   </td><td>0.34        </td></tr>\n",
       "\t<tr><td>0.1         </td><td>0.7         </td><td>0.005360671 </td><td>8.211837e-05</td><td>0.9988889   </td><td>0.33        </td></tr>\n",
       "\t<tr><td>0.1         </td><td>0.8         </td><td>0.005360671 </td><td>8.211837e-05</td><td>0.9988889   </td><td>0.31        </td></tr>\n",
       "\t<tr><td>0.1         </td><td>0.9         </td><td>0.005360671 </td><td>8.211837e-05</td><td>0.9988889   </td><td>0.26        </td></tr>\n",
       "\t<tr><td>0.1         </td><td>0.5         </td><td>0.0008510198</td><td>0.0003995539</td><td>0.9966667   </td><td>0.56        </td></tr>\n",
       "</tbody>\n",
       "</table>\n"
      ],
      "text/latex": [
       "\\begin{tabular}{r|llllll}\n",
       " pi & cutoff & pi\\_err & Sigma\\_me & pct\\_null & pct\\_non\\\\\n",
       "\\hline\n",
       "\t 0.1          & 0.5          & 0.005360671  & 8.211837e-05 & 0.9944444    & 0.36        \\\\\n",
       "\t 0.1          & 0.6          & 0.005360671  & 8.211837e-05 & 0.9966667    & 0.34        \\\\\n",
       "\t 0.1          & 0.7          & 0.005360671  & 8.211837e-05 & 0.9988889    & 0.33        \\\\\n",
       "\t 0.1          & 0.8          & 0.005360671  & 8.211837e-05 & 0.9988889    & 0.31        \\\\\n",
       "\t 0.1          & 0.9          & 0.005360671  & 8.211837e-05 & 0.9988889    & 0.26        \\\\\n",
       "\t 0.1          & 0.5          & 0.0008510198 & 0.0003995539 & 0.9966667    & 0.56        \\\\\n",
       "\\end{tabular}\n"
      ],
      "text/markdown": [
       "\n",
       "pi | cutoff | pi_err | Sigma_me | pct_null | pct_non | \n",
       "|---|---|---|---|---|---|\n",
       "| 0.1          | 0.5          | 0.005360671  | 8.211837e-05 | 0.9944444    | 0.36         | \n",
       "| 0.1          | 0.6          | 0.005360671  | 8.211837e-05 | 0.9966667    | 0.34         | \n",
       "| 0.1          | 0.7          | 0.005360671  | 8.211837e-05 | 0.9988889    | 0.33         | \n",
       "| 0.1          | 0.8          | 0.005360671  | 8.211837e-05 | 0.9988889    | 0.31         | \n",
       "| 0.1          | 0.9          | 0.005360671  | 8.211837e-05 | 0.9988889    | 0.26         | \n",
       "| 0.1          | 0.5          | 0.0008510198 | 0.0003995539 | 0.9966667    | 0.56         | \n",
       "\n",
       "\n"
      ],
      "text/plain": [
       "  pi  cutoff pi_err       Sigma_me     pct_null  pct_non\n",
       "1 0.1 0.5    0.005360671  8.211837e-05 0.9944444 0.36   \n",
       "2 0.1 0.6    0.005360671  8.211837e-05 0.9966667 0.34   \n",
       "3 0.1 0.7    0.005360671  8.211837e-05 0.9988889 0.33   \n",
       "4 0.1 0.8    0.005360671  8.211837e-05 0.9988889 0.31   \n",
       "5 0.1 0.9    0.005360671  8.211837e-05 0.9988889 0.26   \n",
       "6 0.1 0.5    0.0008510198 0.0003995539 0.9966667 0.56   "
      ]
     },
     "metadata": {},
     "output_type": "display_data"
    },
    {
     "data": {
      "text/html": [
       "<table>\n",
       "<thead><tr><th scope=col>pi</th><th scope=col>cutoff</th><th scope=col>pi_err</th><th scope=col>Sigma_me</th><th scope=col>pct_null</th><th scope=col>pct_non</th></tr></thead>\n",
       "<tbody>\n",
       "\t<tr><td>0.5         </td><td>0.7         </td><td>0.015798    </td><td>0.0001229868</td><td>0.8682794   </td><td>0.5936241   </td></tr>\n",
       "</tbody>\n",
       "</table>\n"
      ],
      "text/latex": [
       "\\begin{tabular}{r|llllll}\n",
       " pi & cutoff & pi\\_err & Sigma\\_me & pct\\_null & pct\\_non\\\\\n",
       "\\hline\n",
       "\t 0.5          & 0.7          & 0.015798     & 0.0001229868 & 0.8682794    & 0.5936241   \\\\\n",
       "\\end{tabular}\n"
      ],
      "text/markdown": [
       "\n",
       "pi | cutoff | pi_err | Sigma_me | pct_null | pct_non | \n",
       "|---|\n",
       "| 0.5          | 0.7          | 0.015798     | 0.0001229868 | 0.8682794    | 0.5936241    | \n",
       "\n",
       "\n"
      ],
      "text/plain": [
       "  pi  cutoff pi_err   Sigma_me     pct_null  pct_non  \n",
       "1 0.5 0.7    0.015798 0.0001229868 0.8682794 0.5936241"
      ]
     },
     "metadata": {},
     "output_type": "display_data"
    }
   ],
   "source": [
    "require('tidyverse')\n",
    "sim_res %>% head()\n",
    "sim_res <- data.frame(apply(sim_res, c(1,2), as.numeric))\n",
    "\n",
    "sim_res %>% summarize_all(mean, na.rm=TRUE)\n",
    "\n"
   ]
  },
  {
   "cell_type": "code",
   "execution_count": 67,
   "metadata": {
    "collapsed": true
   },
   "outputs": [],
   "source": [
    "sim_res %>% write_csv(\"../data/res_1028/sim_res_m1.csv\")"
   ]
  },
  {
   "cell_type": "code",
   "execution_count": 72,
   "metadata": {},
   "outputs": [
    {
     "data": {},
     "metadata": {},
     "output_type": "display_data"
    },
    {
     "data": {
      "image/png": "[encoded data removed]",
      "text/plain": [
       "plot without title"
      ]
     },
     "metadata": {},
     "output_type": "display_data"
    }
   ],
   "source": [
    "ggplot(sim_res %>% filter(cutoff==0.5), aes(x=factor(`pi`), y=pi_pct_err))+geom_boxplot()+geom_point()"
   ]
  },
  {
   "cell_type": "code",
   "execution_count": 73,
   "metadata": {},
   "outputs": [
    {
     "data": {},
     "metadata": {},
     "output_type": "display_data"
    },
    {
     "data": {
      "image/png": "[encoded data removed]",
      "text/plain": [
       "plot without title"
      ]
     },
     "metadata": {},
     "output_type": "display_data"
    }
   ],
   "source": [
    "ggplot(sim_res %>% filter(cutoff==0.5), aes(x=factor(`pi`), y=Sigma_mpe))+geom_boxplot()+geom_point()\n"
   ]
  },
  {
   "cell_type": "code",
   "execution_count": 81,
   "metadata": {},
   "outputs": [
    {
     "data": {},
     "metadata": {},
     "output_type": "display_data"
    },
    {
     "data": {},
     "metadata": {},
     "output_type": "display_data"
    },
    {
     "data": {
      "image/png": "[encoded data removed]",
      "text/plain": [
       "plot without title"
      ]
     },
     "metadata": {},
     "output_type": "display_data"
    },
    {
     "data": {
      "image/png": "[encoded data removed]",
      "text/plain": [
       "plot without title"
      ]
     },
     "metadata": {},
     "output_type": "display_data"
    }
   ],
   "source": [
    "ggplot(sim_res, aes(x=factor(cutoff), y=pct_non))+geom_point()+geom_boxplot()\n",
    "ggplot(sim_res, aes(x=factor(cutoff), y=pct_null))+geom_point()+geom_boxplot()"
   ]
  },
  {
   "cell_type": "code",
   "execution_count": 80,
   "metadata": {},
   "outputs": [
    {
     "name": "stderr",
     "output_type": "stream",
     "text": [
      "`geom_smooth()` using method = 'loess'\n"
     ]
    },
    {
     "data": {},
     "metadata": {},
     "output_type": "display_data"
    },
    {
     "data": {
      "image/png": "[encoded data removed]",
      "text/plain": [
       "plot without title"
      ]
     },
     "metadata": {},
     "output_type": "display_data"
    }
   ],
   "source": [
    "ggplot(sim_res, aes(y=pct_null, x=1-pct_non, group=factor(cutoff)))+geom_point(aes(color=factor(cutoff)))+\n",
    "geom_smooth(se=FALSE, aes(color=factor(cutoff)))"
   ]
  },
  {
   "cell_type": "markdown",
   "metadata": {},
   "source": [
    "#### FOR M2"
   ]
  },
  {
   "cell_type": "code",
   "execution_count": 3,
   "metadata": {},
   "outputs": [
    {
     "data": {
      "text/html": [
       "<dl>\n",
       "\t<dt>$p</dt>\n",
       "\t\t<dd><ol class=list-inline>\n",
       "\t<li>0.733441531117003</li>\n",
       "\t<li>0.0163329255611626</li>\n",
       "\t<li>0.106544555907861</li>\n",
       "\t<li>0.143680987413973</li>\n",
       "</ol>\n",
       "</dd>\n",
       "\t<dt>$s</dt>\n",
       "\t\t<dd><ol class=list-inline>\n",
       "\t<li>0.0569973798468709</li>\n",
       "\t<li>0.0764345543757081</li>\n",
       "\t<li>0.0613167396076024</li>\n",
       "\t<li>0.0613167396076024</li>\n",
       "</ol>\n",
       "</dd>\n",
       "\t<dt>$p.est</dt>\n",
       "\t\t<dd><ol class=list-inline>\n",
       "\t<li>0.685894589082653</li>\n",
       "\t<li>0.123827759119825</li>\n",
       "\t<li>0.000370695841628382</li>\n",
       "\t<li>0.189906955955894</li>\n",
       "</ol>\n",
       "</dd>\n",
       "\t<dt>$sigmasq.est</dt>\n",
       "\t\t<dd><ol class=list-inline>\n",
       "\t<li>0.0354832762003598</li>\n",
       "\t<li>7.00735766829139</li>\n",
       "\t<li>0.0163887008953433</li>\n",
       "\t<li>0.00961040546633201</li>\n",
       "</ol>\n",
       "</dd>\n",
       "</dl>\n"
      ],
      "text/latex": [
       "\\begin{description}\n",
       "\\item[\\$p] \\begin{enumerate*}\n",
       "\\item 0.733441531117003\n",
       "\\item 0.0163329255611626\n",
       "\\item 0.106544555907861\n",
       "\\item 0.143680987413973\n",
       "\\end{enumerate*}\n",
       "\n",
       "\\item[\\$s] \\begin{enumerate*}\n",
       "\\item 0.0569973798468709\n",
       "\\item 0.0764345543757081\n",
       "\\item 0.0613167396076024\n",
       "\\item 0.0613167396076024\n",
       "\\end{enumerate*}\n",
       "\n",
       "\\item[\\$p.est] \\begin{enumerate*}\n",
       "\\item 0.685894589082653\n",
       "\\item 0.123827759119825\n",
       "\\item 0.000370695841628382\n",
       "\\item 0.189906955955894\n",
       "\\end{enumerate*}\n",
       "\n",
       "\\item[\\$sigmasq.est] \\begin{enumerate*}\n",
       "\\item 0.0354832762003598\n",
       "\\item 7.00735766829139\n",
       "\\item 0.0163887008953433\n",
       "\\item 0.00961040546633201\n",
       "\\end{enumerate*}\n",
       "\n",
       "\\end{description}\n"
      ],
      "text/markdown": [
       "$p\n",
       ":   1. 0.733441531117003\n",
       "2. 0.0163329255611626\n",
       "3. 0.106544555907861\n",
       "4. 0.143680987413973\n",
       "\n",
       "\n",
       "\n",
       "$s\n",
       ":   1. 0.0569973798468709\n",
       "2. 0.0764345543757081\n",
       "3. 0.0613167396076024\n",
       "4. 0.0613167396076024\n",
       "\n",
       "\n",
       "\n",
       "$p.est\n",
       ":   1. 0.685894589082653\n",
       "2. 0.123827759119825\n",
       "3. 0.000370695841628382\n",
       "4. 0.189906955955894\n",
       "\n",
       "\n",
       "\n",
       "$sigmasq.est\n",
       ":   1. 0.0354832762003598\n",
       "2. 7.00735766829139\n",
       "3. 0.0163887008953433\n",
       "4. 0.00961040546633201\n",
       "\n",
       "\n",
       "\n",
       "\n",
       "\n"
      ],
      "text/plain": [
       "$p\n",
       "[1] 0.73344153 0.01633293 0.10654456 0.14368099\n",
       "\n",
       "$s\n",
       "[1] 0.05699738 0.07643455 0.06131674 0.06131674\n",
       "\n",
       "$p.est\n",
       "[1] 0.6858945891 0.1238277591 0.0003706958 0.1899069560\n",
       "\n",
       "$sigmasq.est\n",
       "[1] 0.035483276 7.007357668 0.016388701 0.009610405\n"
      ]
     },
     "metadata": {},
     "output_type": "display_data"
    },
    {
     "data": {
      "text/html": [
       "<table>\n",
       "<thead><tr><th scope=col>X1</th><th scope=col>X2</th><th scope=col>X3</th><th scope=col>X4</th></tr></thead>\n",
       "<tbody>\n",
       "\t<tr><td>0.9929411   </td><td>0.005897722 </td><td>1.738897e-06</td><td>0.001159466 </td></tr>\n",
       "\t<tr><td>0.9528304   </td><td>0.0219675   </td><td>1.138342e-05</td><td>0.02519075  </td></tr>\n",
       "\t<tr><td>0.5369297  </td><td>0.1729391  </td><td>9.97403e-06</td><td>0.2901212  </td></tr>\n",
       "\t<tr><td>0.9883124   </td><td>0.00655912  </td><td>7.297655e-06</td><td>0.005121221 </td></tr>\n",
       "\t<tr><td>0.6301074   </td><td>0.2442085   </td><td>3.189962e-06</td><td>0.1256809   </td></tr>\n",
       "\t<tr><td>0.6928787   </td><td>0.1541409   </td><td>6.735613e-06</td><td>0.1529736   </td></tr>\n",
       "</tbody>\n",
       "</table>\n"
      ],
      "text/latex": [
       "\\begin{tabular}{r|llll}\n",
       " X1 & X2 & X3 & X4\\\\\n",
       "\\hline\n",
       "\t 0.9929411    & 0.005897722  & 1.738897e-06 & 0.001159466 \\\\\n",
       "\t 0.9528304    & 0.0219675    & 1.138342e-05 & 0.02519075  \\\\\n",
       "\t 0.5369297   & 0.1729391   & 9.97403e-06 & 0.2901212  \\\\\n",
       "\t 0.9883124    & 0.00655912   & 7.297655e-06 & 0.005121221 \\\\\n",
       "\t 0.6301074    & 0.2442085    & 3.189962e-06 & 0.1256809   \\\\\n",
       "\t 0.6928787    & 0.1541409    & 6.735613e-06 & 0.1529736   \\\\\n",
       "\\end{tabular}\n"
      ],
      "text/markdown": [
       "\n",
       "X1 | X2 | X3 | X4 | \n",
       "|---|---|---|---|---|---|\n",
       "| 0.9929411    | 0.005897722  | 1.738897e-06 | 0.001159466  | \n",
       "| 0.9528304    | 0.0219675    | 1.138342e-05 | 0.02519075   | \n",
       "| 0.5369297   | 0.1729391   | 9.97403e-06 | 0.2901212   | \n",
       "| 0.9883124    | 0.00655912   | 7.297655e-06 | 0.005121221  | \n",
       "| 0.6301074    | 0.2442085    | 3.189962e-06 | 0.1256809    | \n",
       "| 0.6928787    | 0.1541409    | 6.735613e-06 | 0.1529736    | \n",
       "\n",
       "\n"
      ],
      "text/plain": [
       "  X1        X2          X3           X4         \n",
       "1 0.9929411 0.005897722 1.738897e-06 0.001159466\n",
       "2 0.9528304 0.0219675   1.138342e-05 0.02519075 \n",
       "3 0.5369297 0.1729391   9.97403e-06  0.2901212  \n",
       "4 0.9883124 0.00655912  7.297655e-06 0.005121221\n",
       "5 0.6301074 0.2442085   3.189962e-06 0.1256809  \n",
       "6 0.6928787 0.1541409   6.735613e-06 0.1529736  "
      ]
     },
     "metadata": {},
     "output_type": "display_data"
    }
   ],
   "source": [
    "simID <- c(\"1_9\")\n",
    "    load(\"../data/sim2_1028/m2sim_10_1.RData\")\n",
    "list.params\n",
    "\n",
    "head(posterior.df)"
   ]
  },
  {
   "cell_type": "code",
   "execution_count": null,
   "metadata": {
    "collapsed": true
   },
   "outputs": [],
   "source": [
    "getSumStats <- function(simID, cutoff){\n",
    "\n",
    "    cut <- N-(list.params$p*N)\n",
    "    null.comp <- 1:cut\n",
    "    non.null.comp <- cut:N\n",
    "    null.corr <- sum(posteriors[null.comp]<cutoff)\n",
    "    non.null.corr <- sum(posteriors[non.null.comp]>=cutoff)\n",
    "\n",
    "    p.err <- abs(list.params$p-list.params$p.est) \n",
    "    s.mean.pct.err <- sum((list.params$S-list.params$S.est)**2)/(sum(list.params$S**2)) # mean percent error\n",
    "    return(data.frame(t(list(\"pi\"=list.params$p, \"cutoff\"=cutoff, \"pi_pct_err\"=p.pct.err, \n",
    "                             \"Sigma_mpe\"=s.mean.pct.err, \"pct_null\"=null.corr/cut, \"pct_non\"=non.null.corr/(N-cut)))))\n",
    "}\n"
   ]
  },
  {
   "cell_type": "code",
   "execution_count": 41,
   "metadata": {
    "collapsed": true
   },
   "outputs": [],
   "source": [
    "N <- 3000\n",
    "getSumStatsM2 <- function(simID, cutoff){\n",
    "    res = tryCatch({\n",
    "          load(sprintf(\"../data/sim2_1028/m2sim_%s.RData\", simID))\n",
    "  p <- list.params$p\n",
    "    p.est<- list.params$p.est\n",
    "\n",
    "    # look at vars\n",
    "    p_err <- mean(abs(list.params$p-list.params$p.est))\n",
    "\n",
    "    s1_err <- abs(list.params$sigmasq.est[[1]] - list.params$s[[1]])\n",
    "    s2_err <- abs(list.params$sigmasq.est[[2]] - list.params$s[[2]])\n",
    "    s3_err <- abs(list.params$sigmasq.est[[3]] - list.params$s[[3]])\n",
    "    \n",
    "    \n",
    "    # figure out assignment\n",
    "    n_p1 <- round(N*list.params$p[[1]])\n",
    "    n_p2 <- round(N*list.params$p[[2]])\n",
    "    n_p3 <- round(N*list.params$p[[3]])\n",
    "    n_p4 <- N-(n_p1+n_p2+n_p3)\n",
    "\n",
    "    p1_vars <- 1:n_p1\n",
    "    p2_vars <- (n_p1+1):(n_p1+n_p2)\n",
    "    p3_vars <- (n_p1+n_p2+1):(n_p1+n_p2+n_p3)\n",
    "    p4_vars <- (n_p1+n_p2+n_p3+1):N\n",
    "    colnames(posterior.df) <- c(\"p1\", \"p2\", \"p3\", \"p4\")\n",
    "    posterior.df2 <- posterior.df %>% mutate(category=case_when(\n",
    "    p2 > cutoff ~ 2, p3 > cutoff ~ 3, p4 > cutoff ~ 4, TRUE ~ 1))\n",
    "    \n",
    "    # calculate the incorrect assignment for each\n",
    "    p3_tp <- sum(posterior.df2[p3_vars,]$category==3)\n",
    "    p3_fp <- sum(posterior.df2[!p3_vars,]$category==3)\n",
    "    p3_fn <- sum(posterior.df2[p3_vars,]$category!=3)\n",
    "    p4_tp <- sum(posterior.df2[p4_vars,]$category==4)\n",
    "    p4_fp <- sum(posterior.df2[!p4_vars,]$category==4)\n",
    "    p4_fn <- sum(posterior.df2[p4_vars,]$category!=4)\n",
    "    p2_tp <- sum(posterior.df2[p2_vars,]$category==2)\n",
    "    p2_fp <- sum(posterior.df2[!p2_vars,]$category==2)\n",
    "    p2_fn <- sum(posterior.df2[p2_vars,]$category!=2)\n",
    "    \n",
    "    df <- data.frame(simID, cutoff, p[[1]], p[[2]], p[[3]], p[[4]], p.est[[1]], p.est[[2]], p.est[[3]], p.est[[4]], p2_tp, p2_fp, p2_fn, p3_tp, p3_fp, p3_fn, p4_tp, p4_fp, p4_fn)\n",
    "        return(df)\n",
    "    }, error = function(e) {\n",
    "        print(\"file missing\")\n",
    "        df <- data.frame(simID, cutoff, t(unlist(rep(NA, 17))))\n",
    "        colnames(df) <- my_cols\n",
    "        return(df)\n",
    "    })\n",
    "    \n",
    "    \n",
    "}\n",
    " "
   ]
  },
  {
   "cell_type": "code",
   "execution_count": 40,
   "metadata": {},
   "outputs": [],
   "source": [
    "my_cols <- colnames(getSumStatsM2(\"1_2\", 0.8))"
   ]
  },
  {
   "cell_type": "code",
   "execution_count": 42,
   "metadata": {},
   "outputs": [
    {
     "name": "stderr",
     "output_type": "stream",
     "text": [
      "Warning message in readChar(con, 5L, useBytes = TRUE):\n",
      "“cannot open compressed file '../data/sim2_1028/m2sim_1_8.RData', probable reason 'No such file or directory'”"
     ]
    },
    {
     "name": "stdout",
     "output_type": "stream",
     "text": [
      "[1] \"file missing\"\n"
     ]
    },
    {
     "name": "stderr",
     "output_type": "stream",
     "text": [
      "Warning message in readChar(con, 5L, useBytes = TRUE):\n",
      "“cannot open compressed file '../data/sim2_1028/m2sim_1_8.RData', probable reason 'No such file or directory'”"
     ]
    },
    {
     "name": "stdout",
     "output_type": "stream",
     "text": [
      "[1] \"file missing\"\n"
     ]
    },
    {
     "name": "stderr",
     "output_type": "stream",
     "text": [
      "Warning message in readChar(con, 5L, useBytes = TRUE):\n",
      "“cannot open compressed file '../data/sim2_1028/m2sim_1_8.RData', probable reason 'No such file or directory'”"
     ]
    },
    {
     "name": "stdout",
     "output_type": "stream",
     "text": [
      "[1] \"file missing\"\n"
     ]
    },
    {
     "name": "stderr",
     "output_type": "stream",
     "text": [
      "Warning message in readChar(con, 5L, useBytes = TRUE):\n",
      "“cannot open compressed file '../data/sim2_1028/m2sim_1_8.RData', probable reason 'No such file or directory'”"
     ]
    },
    {
     "name": "stdout",
     "output_type": "stream",
     "text": [
      "[1] \"file missing\"\n"
     ]
    },
    {
     "name": "stderr",
     "output_type": "stream",
     "text": [
      "Warning message in readChar(con, 5L, useBytes = TRUE):\n",
      "“cannot open compressed file '../data/sim2_1028/m2sim_1_8.RData', probable reason 'No such file or directory'”"
     ]
    },
    {
     "name": "stdout",
     "output_type": "stream",
     "text": [
      "[1] \"file missing\"\n"
     ]
    },
    {
     "name": "stderr",
     "output_type": "stream",
     "text": [
      "Warning message in readChar(con, 5L, useBytes = TRUE):\n",
      "“cannot open compressed file '../data/sim2_1028/m2sim_1_9.RData', probable reason 'No such file or directory'”"
     ]
    },
    {
     "name": "stdout",
     "output_type": "stream",
     "text": [
      "[1] \"file missing\"\n"
     ]
    },
    {
     "name": "stderr",
     "output_type": "stream",
     "text": [
      "Warning message in readChar(con, 5L, useBytes = TRUE):\n",
      "“cannot open compressed file '../data/sim2_1028/m2sim_1_9.RData', probable reason 'No such file or directory'”"
     ]
    },
    {
     "name": "stdout",
     "output_type": "stream",
     "text": [
      "[1] \"file missing\"\n"
     ]
    },
    {
     "name": "stderr",
     "output_type": "stream",
     "text": [
      "Warning message in readChar(con, 5L, useBytes = TRUE):\n",
      "“cannot open compressed file '../data/sim2_1028/m2sim_1_9.RData', probable reason 'No such file or directory'”"
     ]
    },
    {
     "name": "stdout",
     "output_type": "stream",
     "text": [
      "[1] \"file missing\"\n"
     ]
    },
    {
     "name": "stderr",
     "output_type": "stream",
     "text": [
      "Warning message in readChar(con, 5L, useBytes = TRUE):\n",
      "“cannot open compressed file '../data/sim2_1028/m2sim_1_9.RData', probable reason 'No such file or directory'”"
     ]
    },
    {
     "name": "stdout",
     "output_type": "stream",
     "text": [
      "[1] \"file missing\"\n"
     ]
    },
    {
     "name": "stderr",
     "output_type": "stream",
     "text": [
      "Warning message in readChar(con, 5L, useBytes = TRUE):\n",
      "“cannot open compressed file '../data/sim2_1028/m2sim_1_9.RData', probable reason 'No such file or directory'”"
     ]
    },
    {
     "name": "stdout",
     "output_type": "stream",
     "text": [
      "[1] \"file missing\"\n"
     ]
    },
    {
     "name": "stderr",
     "output_type": "stream",
     "text": [
      "Warning message in readChar(con, 5L, useBytes = TRUE):\n",
      "“cannot open compressed file '../data/sim2_1028/m2sim_1_10.RData', probable reason 'No such file or directory'”"
     ]
    },
    {
     "name": "stdout",
     "output_type": "stream",
     "text": [
      "[1] \"file missing\"\n"
     ]
    },
    {
     "name": "stderr",
     "output_type": "stream",
     "text": [
      "Warning message in readChar(con, 5L, useBytes = TRUE):\n",
      "“cannot open compressed file '../data/sim2_1028/m2sim_1_10.RData', probable reason 'No such file or directory'”"
     ]
    },
    {
     "name": "stdout",
     "output_type": "stream",
     "text": [
      "[1] \"file missing\"\n"
     ]
    },
    {
     "name": "stderr",
     "output_type": "stream",
     "text": [
      "Warning message in readChar(con, 5L, useBytes = TRUE):\n",
      "“cannot open compressed file '../data/sim2_1028/m2sim_1_10.RData', probable reason 'No such file or directory'”"
     ]
    },
    {
     "name": "stdout",
     "output_type": "stream",
     "text": [
      "[1] \"file missing\"\n"
     ]
    },
    {
     "name": "stderr",
     "output_type": "stream",
     "text": [
      "Warning message in readChar(con, 5L, useBytes = TRUE):\n",
      "“cannot open compressed file '../data/sim2_1028/m2sim_1_10.RData', probable reason 'No such file or directory'”"
     ]
    },
    {
     "name": "stdout",
     "output_type": "stream",
     "text": [
      "[1] \"file missing\"\n"
     ]
    },
    {
     "name": "stderr",
     "output_type": "stream",
     "text": [
      "Warning message in readChar(con, 5L, useBytes = TRUE):\n",
      "“cannot open compressed file '../data/sim2_1028/m2sim_1_10.RData', probable reason 'No such file or directory'”"
     ]
    },
    {
     "name": "stdout",
     "output_type": "stream",
     "text": [
      "[1] \"file missing\"\n"
     ]
    },
    {
     "name": "stderr",
     "output_type": "stream",
     "text": [
      "Warning message in readChar(con, 5L, useBytes = TRUE):\n",
      "“cannot open compressed file '../data/sim2_1028/m2sim_2_10.RData', probable reason 'No such file or directory'”"
     ]
    },
    {
     "name": "stdout",
     "output_type": "stream",
     "text": [
      "[1] \"file missing\"\n"
     ]
    },
    {
     "name": "stderr",
     "output_type": "stream",
     "text": [
      "Warning message in readChar(con, 5L, useBytes = TRUE):\n",
      "“cannot open compressed file '../data/sim2_1028/m2sim_2_10.RData', probable reason 'No such file or directory'”"
     ]
    },
    {
     "name": "stdout",
     "output_type": "stream",
     "text": [
      "[1] \"file missing\"\n"
     ]
    },
    {
     "name": "stderr",
     "output_type": "stream",
     "text": [
      "Warning message in readChar(con, 5L, useBytes = TRUE):\n",
      "“cannot open compressed file '../data/sim2_1028/m2sim_2_10.RData', probable reason 'No such file or directory'”"
     ]
    },
    {
     "name": "stdout",
     "output_type": "stream",
     "text": [
      "[1] \"file missing\"\n"
     ]
    },
    {
     "name": "stderr",
     "output_type": "stream",
     "text": [
      "Warning message in readChar(con, 5L, useBytes = TRUE):\n",
      "“cannot open compressed file '../data/sim2_1028/m2sim_2_10.RData', probable reason 'No such file or directory'”"
     ]
    },
    {
     "name": "stdout",
     "output_type": "stream",
     "text": [
      "[1] \"file missing\"\n"
     ]
    },
    {
     "name": "stderr",
     "output_type": "stream",
     "text": [
      "Warning message in readChar(con, 5L, useBytes = TRUE):\n",
      "“cannot open compressed file '../data/sim2_1028/m2sim_2_10.RData', probable reason 'No such file or directory'”"
     ]
    },
    {
     "name": "stdout",
     "output_type": "stream",
     "text": [
      "[1] \"file missing\"\n"
     ]
    },
    {
     "name": "stderr",
     "output_type": "stream",
     "text": [
      "Warning message in readChar(con, 5L, useBytes = TRUE):\n",
      "“cannot open compressed file '../data/sim2_1028/m2sim_3_8.RData', probable reason 'No such file or directory'”"
     ]
    },
    {
     "name": "stdout",
     "output_type": "stream",
     "text": [
      "[1] \"file missing\"\n"
     ]
    },
    {
     "name": "stderr",
     "output_type": "stream",
     "text": [
      "Warning message in readChar(con, 5L, useBytes = TRUE):\n",
      "“cannot open compressed file '../data/sim2_1028/m2sim_3_8.RData', probable reason 'No such file or directory'”"
     ]
    },
    {
     "name": "stdout",
     "output_type": "stream",
     "text": [
      "[1] \"file missing\"\n"
     ]
    },
    {
     "name": "stderr",
     "output_type": "stream",
     "text": [
      "Warning message in readChar(con, 5L, useBytes = TRUE):\n",
      "“cannot open compressed file '../data/sim2_1028/m2sim_3_8.RData', probable reason 'No such file or directory'”"
     ]
    },
    {
     "name": "stdout",
     "output_type": "stream",
     "text": [
      "[1] \"file missing\"\n"
     ]
    },
    {
     "name": "stderr",
     "output_type": "stream",
     "text": [
      "Warning message in readChar(con, 5L, useBytes = TRUE):\n",
      "“cannot open compressed file '../data/sim2_1028/m2sim_3_8.RData', probable reason 'No such file or directory'”"
     ]
    },
    {
     "name": "stdout",
     "output_type": "stream",
     "text": [
      "[1] \"file missing\"\n"
     ]
    },
    {
     "name": "stderr",
     "output_type": "stream",
     "text": [
      "Warning message in readChar(con, 5L, useBytes = TRUE):\n",
      "“cannot open compressed file '../data/sim2_1028/m2sim_3_8.RData', probable reason 'No such file or directory'”"
     ]
    },
    {
     "name": "stdout",
     "output_type": "stream",
     "text": [
      "[1] \"file missing\"\n"
     ]
    },
    {
     "name": "stderr",
     "output_type": "stream",
     "text": [
      "Warning message in readChar(con, 5L, useBytes = TRUE):\n",
      "“cannot open compressed file '../data/sim2_1028/m2sim_3_9.RData', probable reason 'No such file or directory'”"
     ]
    },
    {
     "name": "stdout",
     "output_type": "stream",
     "text": [
      "[1] \"file missing\"\n"
     ]
    },
    {
     "name": "stderr",
     "output_type": "stream",
     "text": [
      "Warning message in readChar(con, 5L, useBytes = TRUE):\n",
      "“cannot open compressed file '../data/sim2_1028/m2sim_3_9.RData', probable reason 'No such file or directory'”"
     ]
    },
    {
     "name": "stdout",
     "output_type": "stream",
     "text": [
      "[1] \"file missing\"\n"
     ]
    },
    {
     "name": "stderr",
     "output_type": "stream",
     "text": [
      "Warning message in readChar(con, 5L, useBytes = TRUE):\n",
      "“cannot open compressed file '../data/sim2_1028/m2sim_3_9.RData', probable reason 'No such file or directory'”"
     ]
    },
    {
     "name": "stdout",
     "output_type": "stream",
     "text": [
      "[1] \"file missing\"\n"
     ]
    },
    {
     "name": "stderr",
     "output_type": "stream",
     "text": [
      "Warning message in readChar(con, 5L, useBytes = TRUE):\n",
      "“cannot open compressed file '../data/sim2_1028/m2sim_3_9.RData', probable reason 'No such file or directory'”"
     ]
    },
    {
     "name": "stdout",
     "output_type": "stream",
     "text": [
      "[1] \"file missing\"\n"
     ]
    },
    {
     "name": "stderr",
     "output_type": "stream",
     "text": [
      "Warning message in readChar(con, 5L, useBytes = TRUE):\n",
      "“cannot open compressed file '../data/sim2_1028/m2sim_3_9.RData', probable reason 'No such file or directory'”"
     ]
    },
    {
     "name": "stdout",
     "output_type": "stream",
     "text": [
      "[1] \"file missing\"\n"
     ]
    },
    {
     "name": "stderr",
     "output_type": "stream",
     "text": [
      "Warning message in readChar(con, 5L, useBytes = TRUE):\n",
      "“cannot open compressed file '../data/sim2_1028/m2sim_3_10.RData', probable reason 'No such file or directory'”"
     ]
    },
    {
     "name": "stdout",
     "output_type": "stream",
     "text": [
      "[1] \"file missing\"\n"
     ]
    },
    {
     "name": "stderr",
     "output_type": "stream",
     "text": [
      "Warning message in readChar(con, 5L, useBytes = TRUE):\n",
      "“cannot open compressed file '../data/sim2_1028/m2sim_3_10.RData', probable reason 'No such file or directory'”"
     ]
    },
    {
     "name": "stdout",
     "output_type": "stream",
     "text": [
      "[1] \"file missing\"\n"
     ]
    },
    {
     "name": "stderr",
     "output_type": "stream",
     "text": [
      "Warning message in readChar(con, 5L, useBytes = TRUE):\n",
      "“cannot open compressed file '../data/sim2_1028/m2sim_3_10.RData', probable reason 'No such file or directory'”"
     ]
    },
    {
     "name": "stdout",
     "output_type": "stream",
     "text": [
      "[1] \"file missing\"\n"
     ]
    },
    {
     "name": "stderr",
     "output_type": "stream",
     "text": [
      "Warning message in readChar(con, 5L, useBytes = TRUE):\n",
      "“cannot open compressed file '../data/sim2_1028/m2sim_3_10.RData', probable reason 'No such file or directory'”"
     ]
    },
    {
     "name": "stdout",
     "output_type": "stream",
     "text": [
      "[1] \"file missing\"\n"
     ]
    },
    {
     "name": "stderr",
     "output_type": "stream",
     "text": [
      "Warning message in readChar(con, 5L, useBytes = TRUE):\n",
      "“cannot open compressed file '../data/sim2_1028/m2sim_3_10.RData', probable reason 'No such file or directory'”"
     ]
    },
    {
     "name": "stdout",
     "output_type": "stream",
     "text": [
      "[1] \"file missing\"\n"
     ]
    },
    {
     "name": "stderr",
     "output_type": "stream",
     "text": [
      "Warning message in readChar(con, 5L, useBytes = TRUE):\n",
      "“cannot open compressed file '../data/sim2_1028/m2sim_4_9.RData', probable reason 'No such file or directory'”"
     ]
    },
    {
     "name": "stdout",
     "output_type": "stream",
     "text": [
      "[1] \"file missing\"\n"
     ]
    },
    {
     "name": "stderr",
     "output_type": "stream",
     "text": [
      "Warning message in readChar(con, 5L, useBytes = TRUE):\n",
      "“cannot open compressed file '../data/sim2_1028/m2sim_4_9.RData', probable reason 'No such file or directory'”"
     ]
    },
    {
     "name": "stdout",
     "output_type": "stream",
     "text": [
      "[1] \"file missing\"\n"
     ]
    },
    {
     "name": "stderr",
     "output_type": "stream",
     "text": [
      "Warning message in readChar(con, 5L, useBytes = TRUE):\n",
      "“cannot open compressed file '../data/sim2_1028/m2sim_4_9.RData', probable reason 'No such file or directory'”"
     ]
    },
    {
     "name": "stdout",
     "output_type": "stream",
     "text": [
      "[1] \"file missing\"\n"
     ]
    },
    {
     "name": "stderr",
     "output_type": "stream",
     "text": [
      "Warning message in readChar(con, 5L, useBytes = TRUE):\n",
      "“cannot open compressed file '../data/sim2_1028/m2sim_4_9.RData', probable reason 'No such file or directory'”"
     ]
    },
    {
     "name": "stdout",
     "output_type": "stream",
     "text": [
      "[1] \"file missing\"\n"
     ]
    },
    {
     "name": "stderr",
     "output_type": "stream",
     "text": [
      "Warning message in readChar(con, 5L, useBytes = TRUE):\n",
      "“cannot open compressed file '../data/sim2_1028/m2sim_4_9.RData', probable reason 'No such file or directory'”"
     ]
    },
    {
     "name": "stdout",
     "output_type": "stream",
     "text": [
      "[1] \"file missing\"\n"
     ]
    },
    {
     "name": "stderr",
     "output_type": "stream",
     "text": [
      "Warning message in readChar(con, 5L, useBytes = TRUE):\n",
      "“cannot open compressed file '../data/sim2_1028/m2sim_4_10.RData', probable reason 'No such file or directory'”"
     ]
    },
    {
     "name": "stdout",
     "output_type": "stream",
     "text": [
      "[1] \"file missing\"\n"
     ]
    },
    {
     "name": "stderr",
     "output_type": "stream",
     "text": [
      "Warning message in readChar(con, 5L, useBytes = TRUE):\n",
      "“cannot open compressed file '../data/sim2_1028/m2sim_4_10.RData', probable reason 'No such file or directory'”"
     ]
    },
    {
     "name": "stdout",
     "output_type": "stream",
     "text": [
      "[1] \"file missing\"\n"
     ]
    },
    {
     "name": "stderr",
     "output_type": "stream",
     "text": [
      "Warning message in readChar(con, 5L, useBytes = TRUE):\n",
      "“cannot open compressed file '../data/sim2_1028/m2sim_4_10.RData', probable reason 'No such file or directory'”"
     ]
    },
    {
     "name": "stdout",
     "output_type": "stream",
     "text": [
      "[1] \"file missing\"\n"
     ]
    },
    {
     "name": "stderr",
     "output_type": "stream",
     "text": [
      "Warning message in readChar(con, 5L, useBytes = TRUE):\n",
      "“cannot open compressed file '../data/sim2_1028/m2sim_4_10.RData', probable reason 'No such file or directory'”"
     ]
    },
    {
     "name": "stdout",
     "output_type": "stream",
     "text": [
      "[1] \"file missing\"\n"
     ]
    },
    {
     "name": "stderr",
     "output_type": "stream",
     "text": [
      "Warning message in readChar(con, 5L, useBytes = TRUE):\n",
      "“cannot open compressed file '../data/sim2_1028/m2sim_4_10.RData', probable reason 'No such file or directory'”"
     ]
    },
    {
     "name": "stdout",
     "output_type": "stream",
     "text": [
      "[1] \"file missing\"\n"
     ]
    },
    {
     "name": "stderr",
     "output_type": "stream",
     "text": [
      "Warning message in readChar(con, 5L, useBytes = TRUE):\n",
      "“cannot open compressed file '../data/sim2_1028/m2sim_5_8.RData', probable reason 'No such file or directory'”"
     ]
    },
    {
     "name": "stdout",
     "output_type": "stream",
     "text": [
      "[1] \"file missing\"\n"
     ]
    },
    {
     "name": "stderr",
     "output_type": "stream",
     "text": [
      "Warning message in readChar(con, 5L, useBytes = TRUE):\n",
      "“cannot open compressed file '../data/sim2_1028/m2sim_5_8.RData', probable reason 'No such file or directory'”"
     ]
    },
    {
     "name": "stdout",
     "output_type": "stream",
     "text": [
      "[1] \"file missing\"\n"
     ]
    },
    {
     "name": "stderr",
     "output_type": "stream",
     "text": [
      "Warning message in readChar(con, 5L, useBytes = TRUE):\n",
      "“cannot open compressed file '../data/sim2_1028/m2sim_5_8.RData', probable reason 'No such file or directory'”"
     ]
    },
    {
     "name": "stdout",
     "output_type": "stream",
     "text": [
      "[1] \"file missing\"\n"
     ]
    },
    {
     "name": "stderr",
     "output_type": "stream",
     "text": [
      "Warning message in readChar(con, 5L, useBytes = TRUE):\n",
      "“cannot open compressed file '../data/sim2_1028/m2sim_5_8.RData', probable reason 'No such file or directory'”"
     ]
    },
    {
     "name": "stdout",
     "output_type": "stream",
     "text": [
      "[1] \"file missing\"\n"
     ]
    },
    {
     "name": "stderr",
     "output_type": "stream",
     "text": [
      "Warning message in readChar(con, 5L, useBytes = TRUE):\n",
      "“cannot open compressed file '../data/sim2_1028/m2sim_5_8.RData', probable reason 'No such file or directory'”"
     ]
    },
    {
     "name": "stdout",
     "output_type": "stream",
     "text": [
      "[1] \"file missing\"\n"
     ]
    },
    {
     "name": "stderr",
     "output_type": "stream",
     "text": [
      "Warning message in readChar(con, 5L, useBytes = TRUE):\n",
      "“cannot open compressed file '../data/sim2_1028/m2sim_5_9.RData', probable reason 'No such file or directory'”"
     ]
    },
    {
     "name": "stdout",
     "output_type": "stream",
     "text": [
      "[1] \"file missing\"\n"
     ]
    },
    {
     "name": "stderr",
     "output_type": "stream",
     "text": [
      "Warning message in readChar(con, 5L, useBytes = TRUE):\n",
      "“cannot open compressed file '../data/sim2_1028/m2sim_5_9.RData', probable reason 'No such file or directory'”"
     ]
    },
    {
     "name": "stdout",
     "output_type": "stream",
     "text": [
      "[1] \"file missing\"\n"
     ]
    },
    {
     "name": "stderr",
     "output_type": "stream",
     "text": [
      "Warning message in readChar(con, 5L, useBytes = TRUE):\n",
      "“cannot open compressed file '../data/sim2_1028/m2sim_5_9.RData', probable reason 'No such file or directory'”"
     ]
    },
    {
     "name": "stdout",
     "output_type": "stream",
     "text": [
      "[1] \"file missing\"\n"
     ]
    },
    {
     "name": "stderr",
     "output_type": "stream",
     "text": [
      "Warning message in readChar(con, 5L, useBytes = TRUE):\n",
      "“cannot open compressed file '../data/sim2_1028/m2sim_5_9.RData', probable reason 'No such file or directory'”"
     ]
    },
    {
     "name": "stdout",
     "output_type": "stream",
     "text": [
      "[1] \"file missing\"\n"
     ]
    },
    {
     "name": "stderr",
     "output_type": "stream",
     "text": [
      "Warning message in readChar(con, 5L, useBytes = TRUE):\n",
      "“cannot open compressed file '../data/sim2_1028/m2sim_5_9.RData', probable reason 'No such file or directory'”"
     ]
    },
    {
     "name": "stdout",
     "output_type": "stream",
     "text": [
      "[1] \"file missing\"\n"
     ]
    },
    {
     "name": "stderr",
     "output_type": "stream",
     "text": [
      "Warning message in readChar(con, 5L, useBytes = TRUE):\n",
      "“cannot open compressed file '../data/sim2_1028/m2sim_5_10.RData', probable reason 'No such file or directory'”"
     ]
    },
    {
     "name": "stdout",
     "output_type": "stream",
     "text": [
      "[1] \"file missing\"\n"
     ]
    },
    {
     "name": "stderr",
     "output_type": "stream",
     "text": [
      "Warning message in readChar(con, 5L, useBytes = TRUE):\n",
      "“cannot open compressed file '../data/sim2_1028/m2sim_5_10.RData', probable reason 'No such file or directory'”"
     ]
    },
    {
     "name": "stdout",
     "output_type": "stream",
     "text": [
      "[1] \"file missing\"\n"
     ]
    },
    {
     "name": "stderr",
     "output_type": "stream",
     "text": [
      "Warning message in readChar(con, 5L, useBytes = TRUE):\n",
      "“cannot open compressed file '../data/sim2_1028/m2sim_5_10.RData', probable reason 'No such file or directory'”"
     ]
    },
    {
     "name": "stdout",
     "output_type": "stream",
     "text": [
      "[1] \"file missing\"\n"
     ]
    },
    {
     "name": "stderr",
     "output_type": "stream",
     "text": [
      "Warning message in readChar(con, 5L, useBytes = TRUE):\n",
      "“cannot open compressed file '../data/sim2_1028/m2sim_5_10.RData', probable reason 'No such file or directory'”"
     ]
    },
    {
     "name": "stdout",
     "output_type": "stream",
     "text": [
      "[1] \"file missing\"\n"
     ]
    },
    {
     "name": "stderr",
     "output_type": "stream",
     "text": [
      "Warning message in readChar(con, 5L, useBytes = TRUE):\n",
      "“cannot open compressed file '../data/sim2_1028/m2sim_5_10.RData', probable reason 'No such file or directory'”"
     ]
    },
    {
     "name": "stdout",
     "output_type": "stream",
     "text": [
      "[1] \"file missing\"\n"
     ]
    },
    {
     "name": "stderr",
     "output_type": "stream",
     "text": [
      "Warning message in readChar(con, 5L, useBytes = TRUE):\n",
      "“cannot open compressed file '../data/sim2_1028/m2sim_6_8.RData', probable reason 'No such file or directory'”"
     ]
    },
    {
     "name": "stdout",
     "output_type": "stream",
     "text": [
      "[1] \"file missing\"\n"
     ]
    },
    {
     "name": "stderr",
     "output_type": "stream",
     "text": [
      "Warning message in readChar(con, 5L, useBytes = TRUE):\n",
      "“cannot open compressed file '../data/sim2_1028/m2sim_6_8.RData', probable reason 'No such file or directory'”"
     ]
    },
    {
     "name": "stdout",
     "output_type": "stream",
     "text": [
      "[1] \"file missing\"\n"
     ]
    },
    {
     "name": "stderr",
     "output_type": "stream",
     "text": [
      "Warning message in readChar(con, 5L, useBytes = TRUE):\n",
      "“cannot open compressed file '../data/sim2_1028/m2sim_6_8.RData', probable reason 'No such file or directory'”"
     ]
    },
    {
     "name": "stdout",
     "output_type": "stream",
     "text": [
      "[1] \"file missing\"\n"
     ]
    },
    {
     "name": "stderr",
     "output_type": "stream",
     "text": [
      "Warning message in readChar(con, 5L, useBytes = TRUE):\n",
      "“cannot open compressed file '../data/sim2_1028/m2sim_6_8.RData', probable reason 'No such file or directory'”"
     ]
    },
    {
     "name": "stdout",
     "output_type": "stream",
     "text": [
      "[1] \"file missing\"\n"
     ]
    },
    {
     "name": "stderr",
     "output_type": "stream",
     "text": [
      "Warning message in readChar(con, 5L, useBytes = TRUE):\n",
      "“cannot open compressed file '../data/sim2_1028/m2sim_6_8.RData', probable reason 'No such file or directory'”"
     ]
    },
    {
     "name": "stdout",
     "output_type": "stream",
     "text": [
      "[1] \"file missing\"\n"
     ]
    },
    {
     "name": "stderr",
     "output_type": "stream",
     "text": [
      "Warning message in readChar(con, 5L, useBytes = TRUE):\n",
      "“cannot open compressed file '../data/sim2_1028/m2sim_6_9.RData', probable reason 'No such file or directory'”"
     ]
    },
    {
     "name": "stdout",
     "output_type": "stream",
     "text": [
      "[1] \"file missing\"\n"
     ]
    },
    {
     "name": "stderr",
     "output_type": "stream",
     "text": [
      "Warning message in readChar(con, 5L, useBytes = TRUE):\n",
      "“cannot open compressed file '../data/sim2_1028/m2sim_6_9.RData', probable reason 'No such file or directory'”"
     ]
    },
    {
     "name": "stdout",
     "output_type": "stream",
     "text": [
      "[1] \"file missing\"\n"
     ]
    },
    {
     "name": "stderr",
     "output_type": "stream",
     "text": [
      "Warning message in readChar(con, 5L, useBytes = TRUE):\n",
      "“cannot open compressed file '../data/sim2_1028/m2sim_6_9.RData', probable reason 'No such file or directory'”"
     ]
    },
    {
     "name": "stdout",
     "output_type": "stream",
     "text": [
      "[1] \"file missing\"\n"
     ]
    },
    {
     "name": "stderr",
     "output_type": "stream",
     "text": [
      "Warning message in readChar(con, 5L, useBytes = TRUE):\n",
      "“cannot open compressed file '../data/sim2_1028/m2sim_6_9.RData', probable reason 'No such file or directory'”"
     ]
    },
    {
     "name": "stdout",
     "output_type": "stream",
     "text": [
      "[1] \"file missing\"\n"
     ]
    },
    {
     "name": "stderr",
     "output_type": "stream",
     "text": [
      "Warning message in readChar(con, 5L, useBytes = TRUE):\n",
      "“cannot open compressed file '../data/sim2_1028/m2sim_6_9.RData', probable reason 'No such file or directory'”"
     ]
    },
    {
     "name": "stdout",
     "output_type": "stream",
     "text": [
      "[1] \"file missing\"\n"
     ]
    },
    {
     "name": "stderr",
     "output_type": "stream",
     "text": [
      "Warning message in readChar(con, 5L, useBytes = TRUE):\n",
      "“cannot open compressed file '../data/sim2_1028/m2sim_6_10.RData', probable reason 'No such file or directory'”"
     ]
    },
    {
     "name": "stdout",
     "output_type": "stream",
     "text": [
      "[1] \"file missing\"\n"
     ]
    },
    {
     "name": "stderr",
     "output_type": "stream",
     "text": [
      "Warning message in readChar(con, 5L, useBytes = TRUE):\n",
      "“cannot open compressed file '../data/sim2_1028/m2sim_6_10.RData', probable reason 'No such file or directory'”"
     ]
    },
    {
     "name": "stdout",
     "output_type": "stream",
     "text": [
      "[1] \"file missing\"\n"
     ]
    },
    {
     "name": "stderr",
     "output_type": "stream",
     "text": [
      "Warning message in readChar(con, 5L, useBytes = TRUE):\n",
      "“cannot open compressed file '../data/sim2_1028/m2sim_6_10.RData', probable reason 'No such file or directory'”"
     ]
    },
    {
     "name": "stdout",
     "output_type": "stream",
     "text": [
      "[1] \"file missing\"\n"
     ]
    },
    {
     "name": "stderr",
     "output_type": "stream",
     "text": [
      "Warning message in readChar(con, 5L, useBytes = TRUE):\n",
      "“cannot open compressed file '../data/sim2_1028/m2sim_6_10.RData', probable reason 'No such file or directory'”"
     ]
    },
    {
     "name": "stdout",
     "output_type": "stream",
     "text": [
      "[1] \"file missing\"\n"
     ]
    },
    {
     "name": "stderr",
     "output_type": "stream",
     "text": [
      "Warning message in readChar(con, 5L, useBytes = TRUE):\n",
      "“cannot open compressed file '../data/sim2_1028/m2sim_6_10.RData', probable reason 'No such file or directory'”"
     ]
    },
    {
     "name": "stdout",
     "output_type": "stream",
     "text": [
      "[1] \"file missing\"\n"
     ]
    },
    {
     "name": "stderr",
     "output_type": "stream",
     "text": [
      "Warning message in readChar(con, 5L, useBytes = TRUE):\n",
      "“cannot open compressed file '../data/sim2_1028/m2sim_7_10.RData', probable reason 'No such file or directory'”"
     ]
    },
    {
     "name": "stdout",
     "output_type": "stream",
     "text": [
      "[1] \"file missing\"\n"
     ]
    },
    {
     "name": "stderr",
     "output_type": "stream",
     "text": [
      "Warning message in readChar(con, 5L, useBytes = TRUE):\n",
      "“cannot open compressed file '../data/sim2_1028/m2sim_7_10.RData', probable reason 'No such file or directory'”"
     ]
    },
    {
     "name": "stdout",
     "output_type": "stream",
     "text": [
      "[1] \"file missing\"\n"
     ]
    },
    {
     "name": "stderr",
     "output_type": "stream",
     "text": [
      "Warning message in readChar(con, 5L, useBytes = TRUE):\n",
      "“cannot open compressed file '../data/sim2_1028/m2sim_7_10.RData', probable reason 'No such file or directory'”"
     ]
    },
    {
     "name": "stdout",
     "output_type": "stream",
     "text": [
      "[1] \"file missing\"\n"
     ]
    },
    {
     "name": "stderr",
     "output_type": "stream",
     "text": [
      "Warning message in readChar(con, 5L, useBytes = TRUE):\n",
      "“cannot open compressed file '../data/sim2_1028/m2sim_7_10.RData', probable reason 'No such file or directory'”"
     ]
    },
    {
     "name": "stdout",
     "output_type": "stream",
     "text": [
      "[1] \"file missing\"\n"
     ]
    },
    {
     "name": "stderr",
     "output_type": "stream",
     "text": [
      "Warning message in readChar(con, 5L, useBytes = TRUE):\n",
      "“cannot open compressed file '../data/sim2_1028/m2sim_7_10.RData', probable reason 'No such file or directory'”"
     ]
    },
    {
     "name": "stdout",
     "output_type": "stream",
     "text": [
      "[1] \"file missing\"\n"
     ]
    },
    {
     "name": "stderr",
     "output_type": "stream",
     "text": [
      "Warning message in readChar(con, 5L, useBytes = TRUE):\n",
      "“cannot open compressed file '../data/sim2_1028/m2sim_8_2.RData', probable reason 'No such file or directory'”"
     ]
    },
    {
     "name": "stdout",
     "output_type": "stream",
     "text": [
      "[1] \"file missing\"\n"
     ]
    },
    {
     "name": "stderr",
     "output_type": "stream",
     "text": [
      "Warning message in readChar(con, 5L, useBytes = TRUE):\n",
      "“cannot open compressed file '../data/sim2_1028/m2sim_8_2.RData', probable reason 'No such file or directory'”"
     ]
    },
    {
     "name": "stdout",
     "output_type": "stream",
     "text": [
      "[1] \"file missing\"\n"
     ]
    },
    {
     "name": "stderr",
     "output_type": "stream",
     "text": [
      "Warning message in readChar(con, 5L, useBytes = TRUE):\n",
      "“cannot open compressed file '../data/sim2_1028/m2sim_8_2.RData', probable reason 'No such file or directory'”"
     ]
    },
    {
     "name": "stdout",
     "output_type": "stream",
     "text": [
      "[1] \"file missing\"\n"
     ]
    },
    {
     "name": "stderr",
     "output_type": "stream",
     "text": [
      "Warning message in readChar(con, 5L, useBytes = TRUE):\n",
      "“cannot open compressed file '../data/sim2_1028/m2sim_8_2.RData', probable reason 'No such file or directory'”"
     ]
    },
    {
     "name": "stdout",
     "output_type": "stream",
     "text": [
      "[1] \"file missing\"\n"
     ]
    },
    {
     "name": "stderr",
     "output_type": "stream",
     "text": [
      "Warning message in readChar(con, 5L, useBytes = TRUE):\n",
      "“cannot open compressed file '../data/sim2_1028/m2sim_8_2.RData', probable reason 'No such file or directory'”"
     ]
    },
    {
     "name": "stdout",
     "output_type": "stream",
     "text": [
      "[1] \"file missing\"\n"
     ]
    },
    {
     "name": "stderr",
     "output_type": "stream",
     "text": [
      "Warning message in readChar(con, 5L, useBytes = TRUE):\n",
      "“cannot open compressed file '../data/sim2_1028/m2sim_8_3.RData', probable reason 'No such file or directory'”"
     ]
    },
    {
     "name": "stdout",
     "output_type": "stream",
     "text": [
      "[1] \"file missing\"\n"
     ]
    },
    {
     "name": "stderr",
     "output_type": "stream",
     "text": [
      "Warning message in readChar(con, 5L, useBytes = TRUE):\n",
      "“cannot open compressed file '../data/sim2_1028/m2sim_8_3.RData', probable reason 'No such file or directory'”"
     ]
    },
    {
     "name": "stdout",
     "output_type": "stream",
     "text": [
      "[1] \"file missing\"\n"
     ]
    },
    {
     "name": "stderr",
     "output_type": "stream",
     "text": [
      "Warning message in readChar(con, 5L, useBytes = TRUE):\n",
      "“cannot open compressed file '../data/sim2_1028/m2sim_8_3.RData', probable reason 'No such file or directory'”"
     ]
    },
    {
     "name": "stdout",
     "output_type": "stream",
     "text": [
      "[1] \"file missing\"\n"
     ]
    },
    {
     "name": "stderr",
     "output_type": "stream",
     "text": [
      "Warning message in readChar(con, 5L, useBytes = TRUE):\n",
      "“cannot open compressed file '../data/sim2_1028/m2sim_8_3.RData', probable reason 'No such file or directory'”"
     ]
    },
    {
     "name": "stdout",
     "output_type": "stream",
     "text": [
      "[1] \"file missing\"\n"
     ]
    },
    {
     "name": "stderr",
     "output_type": "stream",
     "text": [
      "Warning message in readChar(con, 5L, useBytes = TRUE):\n",
      "“cannot open compressed file '../data/sim2_1028/m2sim_8_3.RData', probable reason 'No such file or directory'”"
     ]
    },
    {
     "name": "stdout",
     "output_type": "stream",
     "text": [
      "[1] \"file missing\"\n"
     ]
    },
    {
     "name": "stderr",
     "output_type": "stream",
     "text": [
      "Warning message in readChar(con, 5L, useBytes = TRUE):\n",
      "“cannot open compressed file '../data/sim2_1028/m2sim_8_4.RData', probable reason 'No such file or directory'”"
     ]
    },
    {
     "name": "stdout",
     "output_type": "stream",
     "text": [
      "[1] \"file missing\"\n"
     ]
    },
    {
     "name": "stderr",
     "output_type": "stream",
     "text": [
      "Warning message in readChar(con, 5L, useBytes = TRUE):\n",
      "“cannot open compressed file '../data/sim2_1028/m2sim_8_4.RData', probable reason 'No such file or directory'”"
     ]
    },
    {
     "name": "stdout",
     "output_type": "stream",
     "text": [
      "[1] \"file missing\"\n"
     ]
    },
    {
     "name": "stderr",
     "output_type": "stream",
     "text": [
      "Warning message in readChar(con, 5L, useBytes = TRUE):\n",
      "“cannot open compressed file '../data/sim2_1028/m2sim_8_4.RData', probable reason 'No such file or directory'”"
     ]
    },
    {
     "name": "stdout",
     "output_type": "stream",
     "text": [
      "[1] \"file missing\"\n"
     ]
    },
    {
     "name": "stderr",
     "output_type": "stream",
     "text": [
      "Warning message in readChar(con, 5L, useBytes = TRUE):\n",
      "“cannot open compressed file '../data/sim2_1028/m2sim_8_4.RData', probable reason 'No such file or directory'”"
     ]
    },
    {
     "name": "stdout",
     "output_type": "stream",
     "text": [
      "[1] \"file missing\"\n"
     ]
    },
    {
     "name": "stderr",
     "output_type": "stream",
     "text": [
      "Warning message in readChar(con, 5L, useBytes = TRUE):\n",
      "“cannot open compressed file '../data/sim2_1028/m2sim_8_4.RData', probable reason 'No such file or directory'”"
     ]
    },
    {
     "name": "stdout",
     "output_type": "stream",
     "text": [
      "[1] \"file missing\"\n"
     ]
    },
    {
     "name": "stderr",
     "output_type": "stream",
     "text": [
      "Warning message in readChar(con, 5L, useBytes = TRUE):\n",
      "“cannot open compressed file '../data/sim2_1028/m2sim_8_5.RData', probable reason 'No such file or directory'”"
     ]
    },
    {
     "name": "stdout",
     "output_type": "stream",
     "text": [
      "[1] \"file missing\"\n"
     ]
    },
    {
     "name": "stderr",
     "output_type": "stream",
     "text": [
      "Warning message in readChar(con, 5L, useBytes = TRUE):\n",
      "“cannot open compressed file '../data/sim2_1028/m2sim_8_5.RData', probable reason 'No such file or directory'”"
     ]
    },
    {
     "name": "stdout",
     "output_type": "stream",
     "text": [
      "[1] \"file missing\"\n"
     ]
    },
    {
     "name": "stderr",
     "output_type": "stream",
     "text": [
      "Warning message in readChar(con, 5L, useBytes = TRUE):\n",
      "“cannot open compressed file '../data/sim2_1028/m2sim_8_5.RData', probable reason 'No such file or directory'”"
     ]
    },
    {
     "name": "stdout",
     "output_type": "stream",
     "text": [
      "[1] \"file missing\"\n"
     ]
    },
    {
     "name": "stderr",
     "output_type": "stream",
     "text": [
      "Warning message in readChar(con, 5L, useBytes = TRUE):\n",
      "“cannot open compressed file '../data/sim2_1028/m2sim_8_5.RData', probable reason 'No such file or directory'”"
     ]
    },
    {
     "name": "stdout",
     "output_type": "stream",
     "text": [
      "[1] \"file missing\"\n"
     ]
    },
    {
     "name": "stderr",
     "output_type": "stream",
     "text": [
      "Warning message in readChar(con, 5L, useBytes = TRUE):\n",
      "“cannot open compressed file '../data/sim2_1028/m2sim_8_5.RData', probable reason 'No such file or directory'”"
     ]
    },
    {
     "name": "stdout",
     "output_type": "stream",
     "text": [
      "[1] \"file missing\"\n"
     ]
    },
    {
     "name": "stderr",
     "output_type": "stream",
     "text": [
      "Warning message in readChar(con, 5L, useBytes = TRUE):\n",
      "“cannot open compressed file '../data/sim2_1028/m2sim_8_6.RData', probable reason 'No such file or directory'”"
     ]
    },
    {
     "name": "stdout",
     "output_type": "stream",
     "text": [
      "[1] \"file missing\"\n"
     ]
    },
    {
     "name": "stderr",
     "output_type": "stream",
     "text": [
      "Warning message in readChar(con, 5L, useBytes = TRUE):\n",
      "“cannot open compressed file '../data/sim2_1028/m2sim_8_6.RData', probable reason 'No such file or directory'”"
     ]
    },
    {
     "name": "stdout",
     "output_type": "stream",
     "text": [
      "[1] \"file missing\"\n"
     ]
    },
    {
     "name": "stderr",
     "output_type": "stream",
     "text": [
      "Warning message in readChar(con, 5L, useBytes = TRUE):\n",
      "“cannot open compressed file '../data/sim2_1028/m2sim_8_6.RData', probable reason 'No such file or directory'”"
     ]
    },
    {
     "name": "stdout",
     "output_type": "stream",
     "text": [
      "[1] \"file missing\"\n"
     ]
    },
    {
     "name": "stderr",
     "output_type": "stream",
     "text": [
      "Warning message in readChar(con, 5L, useBytes = TRUE):\n",
      "“cannot open compressed file '../data/sim2_1028/m2sim_8_6.RData', probable reason 'No such file or directory'”"
     ]
    },
    {
     "name": "stdout",
     "output_type": "stream",
     "text": [
      "[1] \"file missing\"\n"
     ]
    },
    {
     "name": "stderr",
     "output_type": "stream",
     "text": [
      "Warning message in readChar(con, 5L, useBytes = TRUE):\n",
      "“cannot open compressed file '../data/sim2_1028/m2sim_8_6.RData', probable reason 'No such file or directory'”"
     ]
    },
    {
     "name": "stdout",
     "output_type": "stream",
     "text": [
      "[1] \"file missing\"\n"
     ]
    },
    {
     "name": "stderr",
     "output_type": "stream",
     "text": [
      "Warning message in readChar(con, 5L, useBytes = TRUE):\n",
      "“cannot open compressed file '../data/sim2_1028/m2sim_8_7.RData', probable reason 'No such file or directory'”"
     ]
    },
    {
     "name": "stdout",
     "output_type": "stream",
     "text": [
      "[1] \"file missing\"\n"
     ]
    },
    {
     "name": "stderr",
     "output_type": "stream",
     "text": [
      "Warning message in readChar(con, 5L, useBytes = TRUE):\n",
      "“cannot open compressed file '../data/sim2_1028/m2sim_8_7.RData', probable reason 'No such file or directory'”"
     ]
    },
    {
     "name": "stdout",
     "output_type": "stream",
     "text": [
      "[1] \"file missing\"\n"
     ]
    },
    {
     "name": "stderr",
     "output_type": "stream",
     "text": [
      "Warning message in readChar(con, 5L, useBytes = TRUE):\n",
      "“cannot open compressed file '../data/sim2_1028/m2sim_8_7.RData', probable reason 'No such file or directory'”"
     ]
    },
    {
     "name": "stdout",
     "output_type": "stream",
     "text": [
      "[1] \"file missing\"\n"
     ]
    },
    {
     "name": "stderr",
     "output_type": "stream",
     "text": [
      "Warning message in readChar(con, 5L, useBytes = TRUE):\n",
      "“cannot open compressed file '../data/sim2_1028/m2sim_8_7.RData', probable reason 'No such file or directory'”"
     ]
    },
    {
     "name": "stdout",
     "output_type": "stream",
     "text": [
      "[1] \"file missing\"\n"
     ]
    },
    {
     "name": "stderr",
     "output_type": "stream",
     "text": [
      "Warning message in readChar(con, 5L, useBytes = TRUE):\n",
      "“cannot open compressed file '../data/sim2_1028/m2sim_8_7.RData', probable reason 'No such file or directory'”"
     ]
    },
    {
     "name": "stdout",
     "output_type": "stream",
     "text": [
      "[1] \"file missing\"\n"
     ]
    },
    {
     "name": "stderr",
     "output_type": "stream",
     "text": [
      "Warning message in readChar(con, 5L, useBytes = TRUE):\n",
      "“cannot open compressed file '../data/sim2_1028/m2sim_8_8.RData', probable reason 'No such file or directory'”"
     ]
    },
    {
     "name": "stdout",
     "output_type": "stream",
     "text": [
      "[1] \"file missing\"\n"
     ]
    },
    {
     "name": "stderr",
     "output_type": "stream",
     "text": [
      "Warning message in readChar(con, 5L, useBytes = TRUE):\n",
      "“cannot open compressed file '../data/sim2_1028/m2sim_8_8.RData', probable reason 'No such file or directory'”"
     ]
    },
    {
     "name": "stdout",
     "output_type": "stream",
     "text": [
      "[1] \"file missing\"\n"
     ]
    },
    {
     "name": "stderr",
     "output_type": "stream",
     "text": [
      "Warning message in readChar(con, 5L, useBytes = TRUE):\n",
      "“cannot open compressed file '../data/sim2_1028/m2sim_8_8.RData', probable reason 'No such file or directory'”"
     ]
    },
    {
     "name": "stdout",
     "output_type": "stream",
     "text": [
      "[1] \"file missing\"\n"
     ]
    },
    {
     "name": "stderr",
     "output_type": "stream",
     "text": [
      "Warning message in readChar(con, 5L, useBytes = TRUE):\n",
      "“cannot open compressed file '../data/sim2_1028/m2sim_8_8.RData', probable reason 'No such file or directory'”"
     ]
    },
    {
     "name": "stdout",
     "output_type": "stream",
     "text": [
      "[1] \"file missing\"\n"
     ]
    },
    {
     "name": "stderr",
     "output_type": "stream",
     "text": [
      "Warning message in readChar(con, 5L, useBytes = TRUE):\n",
      "“cannot open compressed file '../data/sim2_1028/m2sim_8_8.RData', probable reason 'No such file or directory'”"
     ]
    },
    {
     "name": "stdout",
     "output_type": "stream",
     "text": [
      "[1] \"file missing\"\n"
     ]
    },
    {
     "name": "stderr",
     "output_type": "stream",
     "text": [
      "Warning message in readChar(con, 5L, useBytes = TRUE):\n",
      "“cannot open compressed file '../data/sim2_1028/m2sim_8_9.RData', probable reason 'No such file or directory'”"
     ]
    },
    {
     "name": "stdout",
     "output_type": "stream",
     "text": [
      "[1] \"file missing\"\n"
     ]
    },
    {
     "name": "stderr",
     "output_type": "stream",
     "text": [
      "Warning message in readChar(con, 5L, useBytes = TRUE):\n",
      "“cannot open compressed file '../data/sim2_1028/m2sim_8_9.RData', probable reason 'No such file or directory'”"
     ]
    },
    {
     "name": "stdout",
     "output_type": "stream",
     "text": [
      "[1] \"file missing\"\n"
     ]
    },
    {
     "name": "stderr",
     "output_type": "stream",
     "text": [
      "Warning message in readChar(con, 5L, useBytes = TRUE):\n",
      "“cannot open compressed file '../data/sim2_1028/m2sim_8_9.RData', probable reason 'No such file or directory'”"
     ]
    },
    {
     "name": "stdout",
     "output_type": "stream",
     "text": [
      "[1] \"file missing\"\n"
     ]
    },
    {
     "name": "stderr",
     "output_type": "stream",
     "text": [
      "Warning message in readChar(con, 5L, useBytes = TRUE):\n",
      "“cannot open compressed file '../data/sim2_1028/m2sim_8_9.RData', probable reason 'No such file or directory'”"
     ]
    },
    {
     "name": "stdout",
     "output_type": "stream",
     "text": [
      "[1] \"file missing\"\n"
     ]
    },
    {
     "name": "stderr",
     "output_type": "stream",
     "text": [
      "Warning message in readChar(con, 5L, useBytes = TRUE):\n",
      "“cannot open compressed file '../data/sim2_1028/m2sim_8_9.RData', probable reason 'No such file or directory'”"
     ]
    },
    {
     "name": "stdout",
     "output_type": "stream",
     "text": [
      "[1] \"file missing\"\n"
     ]
    },
    {
     "name": "stderr",
     "output_type": "stream",
     "text": [
      "Warning message in readChar(con, 5L, useBytes = TRUE):\n",
      "“cannot open compressed file '../data/sim2_1028/m2sim_8_10.RData', probable reason 'No such file or directory'”"
     ]
    },
    {
     "name": "stdout",
     "output_type": "stream",
     "text": [
      "[1] \"file missing\"\n"
     ]
    },
    {
     "name": "stderr",
     "output_type": "stream",
     "text": [
      "Warning message in readChar(con, 5L, useBytes = TRUE):\n",
      "“cannot open compressed file '../data/sim2_1028/m2sim_8_10.RData', probable reason 'No such file or directory'”"
     ]
    },
    {
     "name": "stdout",
     "output_type": "stream",
     "text": [
      "[1] \"file missing\"\n"
     ]
    },
    {
     "name": "stderr",
     "output_type": "stream",
     "text": [
      "Warning message in readChar(con, 5L, useBytes = TRUE):\n",
      "“cannot open compressed file '../data/sim2_1028/m2sim_8_10.RData', probable reason 'No such file or directory'”"
     ]
    },
    {
     "name": "stdout",
     "output_type": "stream",
     "text": [
      "[1] \"file missing\"\n"
     ]
    },
    {
     "name": "stderr",
     "output_type": "stream",
     "text": [
      "Warning message in readChar(con, 5L, useBytes = TRUE):\n",
      "“cannot open compressed file '../data/sim2_1028/m2sim_8_10.RData', probable reason 'No such file or directory'”"
     ]
    },
    {
     "name": "stdout",
     "output_type": "stream",
     "text": [
      "[1] \"file missing\"\n"
     ]
    },
    {
     "name": "stderr",
     "output_type": "stream",
     "text": [
      "Warning message in readChar(con, 5L, useBytes = TRUE):\n",
      "“cannot open compressed file '../data/sim2_1028/m2sim_8_10.RData', probable reason 'No such file or directory'”"
     ]
    },
    {
     "name": "stdout",
     "output_type": "stream",
     "text": [
      "[1] \"file missing\"\n"
     ]
    },
    {
     "name": "stderr",
     "output_type": "stream",
     "text": [
      "Warning message in readChar(con, 5L, useBytes = TRUE):\n",
      "“cannot open compressed file '../data/sim2_1028/m2sim_9_10.RData', probable reason 'No such file or directory'”"
     ]
    },
    {
     "name": "stdout",
     "output_type": "stream",
     "text": [
      "[1] \"file missing\"\n"
     ]
    },
    {
     "name": "stderr",
     "output_type": "stream",
     "text": [
      "Warning message in readChar(con, 5L, useBytes = TRUE):\n",
      "“cannot open compressed file '../data/sim2_1028/m2sim_9_10.RData', probable reason 'No such file or directory'”"
     ]
    },
    {
     "name": "stdout",
     "output_type": "stream",
     "text": [
      "[1] \"file missing\"\n"
     ]
    },
    {
     "name": "stderr",
     "output_type": "stream",
     "text": [
      "Warning message in readChar(con, 5L, useBytes = TRUE):\n",
      "“cannot open compressed file '../data/sim2_1028/m2sim_9_10.RData', probable reason 'No such file or directory'”"
     ]
    },
    {
     "name": "stdout",
     "output_type": "stream",
     "text": [
      "[1] \"file missing\"\n"
     ]
    },
    {
     "name": "stderr",
     "output_type": "stream",
     "text": [
      "Warning message in readChar(con, 5L, useBytes = TRUE):\n",
      "“cannot open compressed file '../data/sim2_1028/m2sim_9_10.RData', probable reason 'No such file or directory'”"
     ]
    },
    {
     "name": "stdout",
     "output_type": "stream",
     "text": [
      "[1] \"file missing\"\n"
     ]
    },
    {
     "name": "stderr",
     "output_type": "stream",
     "text": [
      "Warning message in readChar(con, 5L, useBytes = TRUE):\n",
      "“cannot open compressed file '../data/sim2_1028/m2sim_9_10.RData', probable reason 'No such file or directory'”"
     ]
    },
    {
     "name": "stdout",
     "output_type": "stream",
     "text": [
      "[1] \"file missing\"\n"
     ]
    }
   ],
   "source": [
    "sim_res_m2 <- do.call(rbind, \n",
    "                   lapply(1:10, function(x) do.call(rbind, \n",
    "                                                   lapply(1:10, function(y) do.call(rbind, \n",
    "                                                                                    lapply(seq(0.5, 0.9, 0.1), function(z) getSumStatsM2(sprintf(\"%s_%s\", x, y), z)))))))"
   ]
  },
  {
   "cell_type": "code",
   "execution_count": 43,
   "metadata": {},
   "outputs": [
    {
     "data": {
      "text/plain": [
       "     simID         cutoff        p..1..           p..2..       \n",
       " 1_1    :  5   Min.   :0.5   Min.   :0.5052   Min.   :0.00402  \n",
       " 1_2    :  5   1st Qu.:0.6   1st Qu.:0.5525   1st Qu.:0.01772  \n",
       " 1_3    :  5   Median :0.7   Median :0.5934   Median :0.05403  \n",
       " 1_4    :  5   Mean   :0.7   Mean   :0.6167   Mean   :0.06895  \n",
       " 1_5    :  5   3rd Qu.:0.8   3rd Qu.:0.6664   3rd Qu.:0.11328  \n",
       " 1_6    :  5   Max.   :0.9   Max.   :0.8271   Max.   :0.21954  \n",
       " (Other):470                 NA's   :130      NA's   :130      \n",
       "     p..3..            p..4..          p.est..1..       p.est..2..     \n",
       " Min.   :0.00297   Min.   :0.00076   Min.   :0.3822   Min.   :0.00034  \n",
       " 1st Qu.:0.01991   1st Qu.:0.12229   1st Qu.:0.5037   1st Qu.:0.00037  \n",
       " Median :0.04960   Median :0.24473   Median :0.5523   Median :0.00041  \n",
       " Mean   :0.06820   Mean   :0.24620   Mean   :0.5690   Mean   :0.04834  \n",
       " 3rd Qu.:0.09980   3rd Qu.:0.36883   3rd Qu.:0.6243   3rd Qu.:0.08568  \n",
       " Max.   :0.21635   Max.   :0.48322   Max.   :0.8065   Max.   :0.29604  \n",
       " NA's   :130       NA's   :130       NA's   :130      NA's   :130      \n",
       "   p.est..3..        p.est..4..          p2_tp            p2_fp    \n",
       " Min.   :0.00034   Min.   :0.00034   Min.   :  0.00   Min.   :0    \n",
       " 1st Qu.:0.00036   1st Qu.:0.19487   1st Qu.:  0.00   1st Qu.:0    \n",
       " Median :0.00039   Median :0.39858   Median :  0.00   Median :0    \n",
       " Mean   :0.04768   Mean   :0.33496   Mean   : 75.56   Mean   :0    \n",
       " 3rd Qu.:0.07338   3rd Qu.:0.47989   3rd Qu.: 92.75   3rd Qu.:0    \n",
       " Max.   :0.29305   Max.   :0.56525   Max.   :653.00   Max.   :0    \n",
       " NA's   :130       NA's   :130       NA's   :130      NA's   :130  \n",
       "     p2_fn           p3_tp            p3_fp         p3_fn      \n",
       " Min.   :  5.0   Min.   :  0.00   Min.   :0     Min.   :  4.0  \n",
       " 1st Qu.: 40.0   1st Qu.:  0.00   1st Qu.:0     1st Qu.: 45.0  \n",
       " Median : 92.0   Median :  0.00   Median :0     Median :112.0  \n",
       " Mean   :131.3   Mean   : 72.81   Mean   :0     Mean   :131.8  \n",
       " 3rd Qu.:176.0   3rd Qu.: 52.75   3rd Qu.:0     3rd Qu.:183.8  \n",
       " Max.   :499.0   Max.   :549.00   Max.   :0     Max.   :498.0  \n",
       " NA's   :130     NA's   :130      NA's   :130   NA's   :130    \n",
       "     p4_tp            p4_fp         p4_fn       \n",
       " Min.   :   0.0   Min.   :0     Min.   :  0.00  \n",
       " 1st Qu.: 303.2   1st Qu.:0     1st Qu.:  1.00  \n",
       " Median : 733.0   Median :0     Median : 10.00  \n",
       " Mean   : 707.5   Mean   :0     Mean   : 31.14  \n",
       " 3rd Qu.:1095.5   3rd Qu.:0     3rd Qu.: 42.50  \n",
       " Max.   :1447.0   Max.   :0     Max.   :259.00  \n",
       " NA's   :130      NA's   :130   NA's   :130     "
      ]
     },
     "metadata": {},
     "output_type": "display_data"
    }
   ],
   "source": [
    "summary(sim_res_m2)"
   ]
  },
  {
   "cell_type": "code",
   "execution_count": 44,
   "metadata": {},
   "outputs": [],
   "source": [
    "write_csv(sim_res_m2, \"../data/res_1028/sim_res_m2v2.csv\")\n"
   ]
  },
  {
   "cell_type": "code",
   "execution_count": 24,
   "metadata": {
    "collapsed": true
   },
   "outputs": [],
   "source": [
    "colnames(posterior.df) <- c(\"p1\", \"p2\", \"p3\", \"p4\")\n",
    "cutoff <- 0.8\n",
    "posterior.df2 <- posterior.df %>% mutate(category=case_when(\n",
    "    p2 > cutoff ~ 2, p3 > cutoff ~ 3, p4 > cutoff ~ 4, TRUE ~ 1))"
   ]
  },
  {
   "cell_type": "code",
   "execution_count": 47,
   "metadata": {},
   "outputs": [
    {
     "ename": "ERROR",
     "evalue": "Error in parse(text = x, srcfile = src): <text>:17:6: unexpected ','\n16: \n17: p2_tp,\n         ^\n",
     "output_type": "error",
     "traceback": [
      "Error in parse(text = x, srcfile = src): <text>:17:6: unexpected ','\n16: \n17: p2_tp,\n         ^\nTraceback:\n"
     ]
    }
   ],
   "source": [
    "# calculate the incorrect fraction for each?\n",
    "\n",
    "p3_tp <- sum(posterior.df2[p3_vars,]$category==3)\n",
    "p3_fp <- sum(posterior.df2[!p3_vars,]$category==3)\n",
    "p3_fn <- sum(posterior.df2[p3_vars,]$category!=3)\n",
    "\n",
    "\n",
    "p4_tp <- sum(posterior.df2[p4_vars,]$category==4)\n",
    "p4_fp <- sum(posterior.df2[!p4_vars,]$category==4)\n",
    "p4_fn <- sum(posterior.df2[p4_vars,]$category!=4)\n",
    "\n",
    "\n",
    "p2_tp <- sum(posterior.df2[p2_vars,]$category==2)\n",
    "p2_fp <- sum(posterior.df2[!p2_vars,]$category==2)\n",
    "p2_fn <- sum(posterior.df2[p2_vars,]$category!=2)\n",
    "\n"
   ]
  },
  {
   "cell_type": "code",
   "execution_count": 46,
   "metadata": {},
   "outputs": [
    {
     "data": {
      "text/html": [
       "5.65143366754016"
      ],
      "text/latex": [
       "5.65143366754016"
      ],
      "text/markdown": [
       "5.65143366754016"
      ],
      "text/plain": [
       "[1] 5.651434"
      ]
     },
     "metadata": {},
     "output_type": "display_data"
    },
    {
     "data": {
      "text/html": [
       "0.0327086213423733"
      ],
      "text/latex": [
       "0.0327086213423733"
      ],
      "text/markdown": [
       "0.0327086213423733"
      ],
      "text/plain": [
       "[1] 0.03270862"
      ]
     },
     "metadata": {},
     "output_type": "display_data"
    },
    {
     "data": {
      "text/html": [
       "0.000244632735695385"
      ],
      "text/latex": [
       "0.000244632735695385"
      ],
      "text/markdown": [
       "0.000244632735695385"
      ],
      "text/plain": [
       "[1] 0.0002446327"
      ]
     },
     "metadata": {},
     "output_type": "display_data"
    }
   ],
   "source": [
    "p_err <- mean(abs(list.params$p-list.params$p.est))\n",
    "\n",
    "s1_err <- abs(list.params$sigmasq.est[[1]] - list.params$s[[1]])\n",
    "s2_err <- abs(list.params$sigmasq.est[[2]] - list.params$s[[2]])\n",
    "s3_err <- abs(list.params$sigmasq.est[[3]] - list.params$s[[3]])\n",
    "\n",
    "s1_err\n",
    "s2_err\n",
    "s3_err"
   ]
  },
  {
   "cell_type": "code",
   "execution_count": 50,
   "metadata": {},
   "outputs": [
    {
     "data": {
      "text/html": [
       "<table>\n",
       "<thead><tr><th scope=col>simID</th><th scope=col>cutoff</th><th scope=col>p_err</th><th scope=col>s1_err</th><th scope=col>s2_err</th><th scope=col>s3_err</th><th scope=col>p2_tp</th><th scope=col>p2_fp</th><th scope=col>p2_fn</th><th scope=col>p3_tp</th><th scope=col>p3_fp</th><th scope=col>p3_fn</th><th scope=col>p4_tp</th><th scope=col>p4_fp</th><th scope=col>p4_fn</th></tr></thead>\n",
       "<tbody>\n",
       "\t<tr><td>1_1         </td><td>0.8         </td><td>0.002059371 </td><td>5.651434    </td><td>0.03270862  </td><td>0.0002446327</td><td>0           </td><td>0           </td><td>12          </td><td>7           </td><td>0           </td><td>106         </td><td>878         </td><td>0           </td><td>200         </td></tr>\n",
       "</tbody>\n",
       "</table>\n"
      ],
      "text/latex": [
       "\\begin{tabular}{r|lllllllllllllll}\n",
       " simID & cutoff & p\\_err & s1\\_err & s2\\_err & s3\\_err & p2\\_tp & p2\\_fp & p2\\_fn & p3\\_tp & p3\\_fp & p3\\_fn & p4\\_tp & p4\\_fp & p4\\_fn\\\\\n",
       "\\hline\n",
       "\t 1\\_1        & 0.8          & 0.002059371  & 5.651434     & 0.03270862   & 0.0002446327 & 0            & 0            & 12           & 7            & 0            & 106          & 878          & 0            & 200         \\\\\n",
       "\\end{tabular}\n"
      ],
      "text/markdown": [
       "\n",
       "simID | cutoff | p_err | s1_err | s2_err | s3_err | p2_tp | p2_fp | p2_fn | p3_tp | p3_fp | p3_fn | p4_tp | p4_fp | p4_fn | \n",
       "|---|\n",
       "| 1_1          | 0.8          | 0.002059371  | 5.651434     | 0.03270862   | 0.0002446327 | 0            | 0            | 12           | 7            | 0            | 106          | 878          | 0            | 200          | \n",
       "\n",
       "\n"
      ],
      "text/plain": [
       "  simID cutoff p_err       s1_err   s2_err     s3_err       p2_tp p2_fp p2_fn\n",
       "1 1_1   0.8    0.002059371 5.651434 0.03270862 0.0002446327 0     0     12   \n",
       "  p3_tp p3_fp p3_fn p4_tp p4_fp p4_fn\n",
       "1 7     0     106   878   0     200  "
      ]
     },
     "metadata": {},
     "output_type": "display_data"
    }
   ],
   "source": [
    "df <- data.frame(simID, cutoff, p_err, s1_err, s2_err, s3_err, p2_tp, p2_fp, p2_fn, p3_tp, p3_fp, p3_fn, p4_tp, p4_fp, p4_fn)\n",
    "df"
   ]
  },
  {
   "cell_type": "code",
   "execution_count": null,
   "metadata": {
    "collapsed": true
   },
   "outputs": [],
   "source": []
  }
 ],
 "metadata": {
  "kernelspec": {
   "display_name": "R",
   "language": "R",
   "name": "ir"
  },
  "language_info": {
   "codemirror_mode": "r",
   "file_extension": ".r",
   "mimetype": "text/x-r-source",
   "name": "R",
   "pygments_lexer": "r",
   "version": "3.4.0"
  }
 },
 "nbformat": 4,
 "nbformat_minor": 2
}
