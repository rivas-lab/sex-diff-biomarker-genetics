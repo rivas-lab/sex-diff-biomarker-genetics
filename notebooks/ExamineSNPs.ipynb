{
 "cells": [
  {
   "cell_type": "markdown",
   "metadata": {},
   "source": [
    "### Code for examining Sex-specific SNPs\n",
    "##### E Flynn\n",
    "##### 5/28/2018\n",
    "\n",
    "Look at the sex-specific SNPs - what is the overlap with the literature SNPs?\n",
    "What about with sex-biased SNPs in adipose tissue? (Gershoni & Pietrokovski)"
   ]
  },
  {
   "cell_type": "code",
   "execution_count": 1,
   "metadata": {
    "collapsed": true
   },
   "outputs": [],
   "source": [
    "DATA.FOLDER <- \"/scratch/PI/mrivas/users/erflynn/sex_div_gwas/data/\""
   ]
  },
  {
   "cell_type": "code",
   "execution_count": 2,
   "metadata": {
    "collapsed": true
   },
   "outputs": [],
   "source": [
    "trunk_f <- read.table(sprintf(\"%s/m2_v4/f_spec_snp_tab_trunk_fp.txt\", DATA.FOLDER), header=TRUE, stringsAsFactors=FALSE)\n",
    "leg_f <- read.table(sprintf(\"%s/m2_v4/f_spec_snp_tab_leg_fp.txt\", DATA.FOLDER), header=TRUE, stringsAsFactors=FALSE)\n",
    "arm_f <- read.table(sprintf(\"%s/m2_v4/f_spec_snp_tab_arm_fp.txt\", DATA.FOLDER), header=TRUE, stringsAsFactors=FALSE)\n",
    "arm_m <- read.table(sprintf(\"%s/m2_v4/m_spec_snp_tab_arm_fp.txt\", DATA.FOLDER), header=TRUE, stringsAsFactors=FALSE)\n",
    "whr_f <- read.table(sprintf(\"%s/m2_v4/f_spec_snp_tab_whr.txt\", DATA.FOLDER), header=TRUE, stringsAsFactors=FALSE)\n"
   ]
  },
  {
   "cell_type": "code",
   "execution_count": 3,
   "metadata": {},
   "outputs": [
    {
     "data": {
      "text/html": [
       "<table>\n",
       "<thead><tr><th scope=col>SNP</th><th scope=col>CHR</th><th scope=col>BP</th><th scope=col>B_f</th><th scope=col>B_m</th><th scope=col>SE_f</th><th scope=col>SE_m</th><th scope=col>p_m</th><th scope=col>p_f</th><th scope=col>post</th><th scope=col>gene</th></tr></thead>\n",
       "<tbody>\n",
       "\t<tr><td>rs10046368  </td><td> 6          </td><td> 43788415   </td><td>-0.0274643  </td><td>-2.00734e-04</td><td>0.00355923  </td><td>0.00383364  </td><td>0.958241    </td><td>1.20313e-14 </td><td>0.5565957   </td><td>VEGFA       </td></tr>\n",
       "\t<tr><td>rs12206376  </td><td> 6          </td><td> 34048416   </td><td> 0.0182100  </td><td> 2.03658e-03</td><td>0.00374165  </td><td>0.00401444  </td><td>0.611935    </td><td>1.13486e-06 </td><td>0.3518922   </td><td>GRM4        </td></tr>\n",
       "\t<tr><td>rs1377290   </td><td> 4          </td><td> 89719368   </td><td> 0.0364338  </td><td>-9.11006e-04</td><td>0.00328740  </td><td>0.00354270  </td><td>0.797063    </td><td>1.55185e-28 </td><td>0.5791955   </td><td>FAM13A      </td></tr>\n",
       "\t<tr><td>rs1415991   </td><td> 1          </td><td>219798632   </td><td>-0.0304567  </td><td> 1.91112e-03</td><td>0.00367087  </td><td>0.00395005  </td><td>0.628513    </td><td>1.07613e-16 </td><td>0.5239403   </td><td>NA          </td></tr>\n",
       "\t<tr><td>rs2042901   </td><td>19          </td><td>  7204394   </td><td>-0.0205258  </td><td>-2.51247e-05</td><td>0.00373044  </td><td>0.00400708  </td><td>0.994997    </td><td>3.75507e-08 </td><td>0.5303452   </td><td>INSR        </td></tr>\n",
       "\t<tr><td>rs2048508   </td><td> 4          </td><td> 26079994   </td><td> 0.0360328  </td><td> 1.60377e-03</td><td>0.00432327  </td><td>0.00464222  </td><td>0.729739    </td><td>7.82829e-17 </td><td>0.5054075   </td><td>NA          </td></tr>\n",
       "\t<tr><td>rs2292137   </td><td>12          </td><td>123339358   </td><td> 0.0186794  </td><td> 1.67556e-03</td><td>0.00337638  </td><td>0.00363551  </td><td>0.644881    </td><td>3.16365e-08 </td><td>0.5273733   </td><td>HIP1R       </td></tr>\n",
       "\t<tr><td>rs2741366   </td><td>20          </td><td> 51702000   </td><td>-0.0248890  </td><td>-1.13514e-03</td><td>0.00459034  </td><td>0.00457690  </td><td>0.804124    </td><td>5.90129e-08 </td><td>0.4928203   </td><td>TSHZ2       </td></tr>\n",
       "\t<tr><td>rs2925979   </td><td>16          </td><td> 81534790   </td><td>-0.0396885  </td><td> 1.37926e-03</td><td>0.00356661  </td><td>0.00384026  </td><td>0.719478    </td><td>9.38898e-29 </td><td>0.5565741   </td><td>CMIP        </td></tr>\n",
       "\t<tr><td>rs3729931   </td><td> 3          </td><td> 12626516   </td><td>-0.0203135  </td><td>-2.21206e-03</td><td>0.00340832  </td><td>0.00366090  </td><td>0.545686    </td><td>2.52756e-09 </td><td>0.5157161   </td><td>RAF1        </td></tr>\n",
       "\t<tr><td>rs6102059   </td><td>20          </td><td> 39228784   </td><td>-0.0201632  </td><td>-1.13183e-03</td><td>0.00379687  </td><td>0.00378478  </td><td>0.764903    </td><td>1.09481e-07 </td><td>0.5173614   </td><td>MAFB        </td></tr>\n",
       "\t<tr><td>rs62022813  </td><td>16          </td><td> 11632804   </td><td> 0.0178501  </td><td>-1.63778e-03</td><td>0.00363787  </td><td>0.00391578  </td><td>0.675764    </td><td>9.26896e-07 </td><td>0.3776871   </td><td>LITAF       </td></tr>\n",
       "\t<tr><td>rs632057    </td><td> 6          </td><td>139834012   </td><td>-0.0331110  </td><td>-8.86715e-04</td><td>0.00339905  </td><td>0.00364643  </td><td>0.807872    </td><td>2.03659e-22 </td><td>0.5685707   </td><td>NA          </td></tr>\n",
       "\t<tr><td>rs6999737   </td><td> 8          </td><td> 23617380   </td><td>-0.0256215  </td><td> 3.25368e-04</td><td>0.00375292  </td><td>0.00403951  </td><td>0.935803    </td><td>8.69373e-12 </td><td>0.5413310   </td><td>NA          </td></tr>\n",
       "\t<tr><td>rs724448    </td><td> 3          </td><td> 46935734   </td><td> 0.0177701  </td><td> 7.87653e-04</td><td>0.00334780  </td><td>0.00359371  </td><td>0.826514    </td><td>1.10960e-07 </td><td>0.5282386   </td><td>PTH1R       </td></tr>\n",
       "\t<tr><td>rs72976928  </td><td> 6          </td><td>139836272   </td><td>-0.0237708  </td><td> 1.17343e-03</td><td>0.00409336  </td><td>0.00439865  </td><td>0.789647    </td><td>6.36434e-09 </td><td>0.5090299   </td><td>NA          </td></tr>\n",
       "\t<tr><td>rs7977713   </td><td>12          </td><td>124332956   </td><td>-0.0228882  </td><td>-2.68062e-04</td><td>0.00335296  </td><td>0.00358784  </td><td>0.940443    </td><td>8.74290e-12 </td><td>0.5680268   </td><td>DNAH10      </td></tr>\n",
       "</tbody>\n",
       "</table>\n"
      ],
      "text/latex": [
       "\\begin{tabular}{r|lllllllllll}\n",
       " SNP & CHR & BP & B\\_f & B\\_m & SE\\_f & SE\\_m & p\\_m & p\\_f & post & gene\\\\\n",
       "\\hline\n",
       "\t rs10046368   &  6           &  43788415    & -0.0274643   & -2.00734e-04 & 0.00355923   & 0.00383364   & 0.958241     & 1.20313e-14  & 0.5565957    & VEGFA       \\\\\n",
       "\t rs12206376   &  6           &  34048416    &  0.0182100   &  2.03658e-03 & 0.00374165   & 0.00401444   & 0.611935     & 1.13486e-06  & 0.3518922    & GRM4        \\\\\n",
       "\t rs1377290    &  4           &  89719368    &  0.0364338   & -9.11006e-04 & 0.00328740   & 0.00354270   & 0.797063     & 1.55185e-28  & 0.5791955    & FAM13A      \\\\\n",
       "\t rs1415991    &  1           & 219798632    & -0.0304567   &  1.91112e-03 & 0.00367087   & 0.00395005   & 0.628513     & 1.07613e-16  & 0.5239403    & NA          \\\\\n",
       "\t rs2042901    & 19           &   7204394    & -0.0205258   & -2.51247e-05 & 0.00373044   & 0.00400708   & 0.994997     & 3.75507e-08  & 0.5303452    & INSR        \\\\\n",
       "\t rs2048508    &  4           &  26079994    &  0.0360328   &  1.60377e-03 & 0.00432327   & 0.00464222   & 0.729739     & 7.82829e-17  & 0.5054075    & NA          \\\\\n",
       "\t rs2292137    & 12           & 123339358    &  0.0186794   &  1.67556e-03 & 0.00337638   & 0.00363551   & 0.644881     & 3.16365e-08  & 0.5273733    & HIP1R       \\\\\n",
       "\t rs2741366    & 20           &  51702000    & -0.0248890   & -1.13514e-03 & 0.00459034   & 0.00457690   & 0.804124     & 5.90129e-08  & 0.4928203    & TSHZ2       \\\\\n",
       "\t rs2925979    & 16           &  81534790    & -0.0396885   &  1.37926e-03 & 0.00356661   & 0.00384026   & 0.719478     & 9.38898e-29  & 0.5565741    & CMIP        \\\\\n",
       "\t rs3729931    &  3           &  12626516    & -0.0203135   & -2.21206e-03 & 0.00340832   & 0.00366090   & 0.545686     & 2.52756e-09  & 0.5157161    & RAF1        \\\\\n",
       "\t rs6102059    & 20           &  39228784    & -0.0201632   & -1.13183e-03 & 0.00379687   & 0.00378478   & 0.764903     & 1.09481e-07  & 0.5173614    & MAFB        \\\\\n",
       "\t rs62022813   & 16           &  11632804    &  0.0178501   & -1.63778e-03 & 0.00363787   & 0.00391578   & 0.675764     & 9.26896e-07  & 0.3776871    & LITAF       \\\\\n",
       "\t rs632057     &  6           & 139834012    & -0.0331110   & -8.86715e-04 & 0.00339905   & 0.00364643   & 0.807872     & 2.03659e-22  & 0.5685707    & NA          \\\\\n",
       "\t rs6999737    &  8           &  23617380    & -0.0256215   &  3.25368e-04 & 0.00375292   & 0.00403951   & 0.935803     & 8.69373e-12  & 0.5413310    & NA          \\\\\n",
       "\t rs724448     &  3           &  46935734    &  0.0177701   &  7.87653e-04 & 0.00334780   & 0.00359371   & 0.826514     & 1.10960e-07  & 0.5282386    & PTH1R       \\\\\n",
       "\t rs72976928   &  6           & 139836272    & -0.0237708   &  1.17343e-03 & 0.00409336   & 0.00439865   & 0.789647     & 6.36434e-09  & 0.5090299    & NA          \\\\\n",
       "\t rs7977713    & 12           & 124332956    & -0.0228882   & -2.68062e-04 & 0.00335296   & 0.00358784   & 0.940443     & 8.74290e-12  & 0.5680268    & DNAH10      \\\\\n",
       "\\end{tabular}\n"
      ],
      "text/markdown": [
       "\n",
       "SNP | CHR | BP | B_f | B_m | SE_f | SE_m | p_m | p_f | post | gene | \n",
       "|---|---|---|---|---|---|---|---|---|---|---|---|---|---|---|---|---|\n",
       "| rs10046368   |  6           |  43788415    | -0.0274643   | -2.00734e-04 | 0.00355923   | 0.00383364   | 0.958241     | 1.20313e-14  | 0.5565957    | VEGFA        | \n",
       "| rs12206376   |  6           |  34048416    |  0.0182100   |  2.03658e-03 | 0.00374165   | 0.00401444   | 0.611935     | 1.13486e-06  | 0.3518922    | GRM4         | \n",
       "| rs1377290    |  4           |  89719368    |  0.0364338   | -9.11006e-04 | 0.00328740   | 0.00354270   | 0.797063     | 1.55185e-28  | 0.5791955    | FAM13A       | \n",
       "| rs1415991    |  1           | 219798632    | -0.0304567   |  1.91112e-03 | 0.00367087   | 0.00395005   | 0.628513     | 1.07613e-16  | 0.5239403    | NA           | \n",
       "| rs2042901    | 19           |   7204394    | -0.0205258   | -2.51247e-05 | 0.00373044   | 0.00400708   | 0.994997     | 3.75507e-08  | 0.5303452    | INSR         | \n",
       "| rs2048508    |  4           |  26079994    |  0.0360328   |  1.60377e-03 | 0.00432327   | 0.00464222   | 0.729739     | 7.82829e-17  | 0.5054075    | NA           | \n",
       "| rs2292137    | 12           | 123339358    |  0.0186794   |  1.67556e-03 | 0.00337638   | 0.00363551   | 0.644881     | 3.16365e-08  | 0.5273733    | HIP1R        | \n",
       "| rs2741366    | 20           |  51702000    | -0.0248890   | -1.13514e-03 | 0.00459034   | 0.00457690   | 0.804124     | 5.90129e-08  | 0.4928203    | TSHZ2        | \n",
       "| rs2925979    | 16           |  81534790    | -0.0396885   |  1.37926e-03 | 0.00356661   | 0.00384026   | 0.719478     | 9.38898e-29  | 0.5565741    | CMIP         | \n",
       "| rs3729931    |  3           |  12626516    | -0.0203135   | -2.21206e-03 | 0.00340832   | 0.00366090   | 0.545686     | 2.52756e-09  | 0.5157161    | RAF1         | \n",
       "| rs6102059    | 20           |  39228784    | -0.0201632   | -1.13183e-03 | 0.00379687   | 0.00378478   | 0.764903     | 1.09481e-07  | 0.5173614    | MAFB         | \n",
       "| rs62022813   | 16           |  11632804    |  0.0178501   | -1.63778e-03 | 0.00363787   | 0.00391578   | 0.675764     | 9.26896e-07  | 0.3776871    | LITAF        | \n",
       "| rs632057     |  6           | 139834012    | -0.0331110   | -8.86715e-04 | 0.00339905   | 0.00364643   | 0.807872     | 2.03659e-22  | 0.5685707    | NA           | \n",
       "| rs6999737    |  8           |  23617380    | -0.0256215   |  3.25368e-04 | 0.00375292   | 0.00403951   | 0.935803     | 8.69373e-12  | 0.5413310    | NA           | \n",
       "| rs724448     |  3           |  46935734    |  0.0177701   |  7.87653e-04 | 0.00334780   | 0.00359371   | 0.826514     | 1.10960e-07  | 0.5282386    | PTH1R        | \n",
       "| rs72976928   |  6           | 139836272    | -0.0237708   |  1.17343e-03 | 0.00409336   | 0.00439865   | 0.789647     | 6.36434e-09  | 0.5090299    | NA           | \n",
       "| rs7977713    | 12           | 124332956    | -0.0228882   | -2.68062e-04 | 0.00335296   | 0.00358784   | 0.940443     | 8.74290e-12  | 0.5680268    | DNAH10       | \n",
       "\n",
       "\n"
      ],
      "text/plain": [
       "   SNP        CHR BP        B_f        B_m          SE_f       SE_m      \n",
       "1  rs10046368  6   43788415 -0.0274643 -2.00734e-04 0.00355923 0.00383364\n",
       "2  rs12206376  6   34048416  0.0182100  2.03658e-03 0.00374165 0.00401444\n",
       "3  rs1377290   4   89719368  0.0364338 -9.11006e-04 0.00328740 0.00354270\n",
       "4  rs1415991   1  219798632 -0.0304567  1.91112e-03 0.00367087 0.00395005\n",
       "5  rs2042901  19    7204394 -0.0205258 -2.51247e-05 0.00373044 0.00400708\n",
       "6  rs2048508   4   26079994  0.0360328  1.60377e-03 0.00432327 0.00464222\n",
       "7  rs2292137  12  123339358  0.0186794  1.67556e-03 0.00337638 0.00363551\n",
       "8  rs2741366  20   51702000 -0.0248890 -1.13514e-03 0.00459034 0.00457690\n",
       "9  rs2925979  16   81534790 -0.0396885  1.37926e-03 0.00356661 0.00384026\n",
       "10 rs3729931   3   12626516 -0.0203135 -2.21206e-03 0.00340832 0.00366090\n",
       "11 rs6102059  20   39228784 -0.0201632 -1.13183e-03 0.00379687 0.00378478\n",
       "12 rs62022813 16   11632804  0.0178501 -1.63778e-03 0.00363787 0.00391578\n",
       "13 rs632057    6  139834012 -0.0331110 -8.86715e-04 0.00339905 0.00364643\n",
       "14 rs6999737   8   23617380 -0.0256215  3.25368e-04 0.00375292 0.00403951\n",
       "15 rs724448    3   46935734  0.0177701  7.87653e-04 0.00334780 0.00359371\n",
       "16 rs72976928  6  139836272 -0.0237708  1.17343e-03 0.00409336 0.00439865\n",
       "17 rs7977713  12  124332956 -0.0228882 -2.68062e-04 0.00335296 0.00358784\n",
       "   p_m      p_f         post      gene  \n",
       "1  0.958241 1.20313e-14 0.5565957 VEGFA \n",
       "2  0.611935 1.13486e-06 0.3518922 GRM4  \n",
       "3  0.797063 1.55185e-28 0.5791955 FAM13A\n",
       "4  0.628513 1.07613e-16 0.5239403 NA    \n",
       "5  0.994997 3.75507e-08 0.5303452 INSR  \n",
       "6  0.729739 7.82829e-17 0.5054075 NA    \n",
       "7  0.644881 3.16365e-08 0.5273733 HIP1R \n",
       "8  0.804124 5.90129e-08 0.4928203 TSHZ2 \n",
       "9  0.719478 9.38898e-29 0.5565741 CMIP  \n",
       "10 0.545686 2.52756e-09 0.5157161 RAF1  \n",
       "11 0.764903 1.09481e-07 0.5173614 MAFB  \n",
       "12 0.675764 9.26896e-07 0.3776871 LITAF \n",
       "13 0.807872 2.03659e-22 0.5685707 NA    \n",
       "14 0.935803 8.69373e-12 0.5413310 NA    \n",
       "15 0.826514 1.10960e-07 0.5282386 PTH1R \n",
       "16 0.789647 6.36434e-09 0.5090299 NA    \n",
       "17 0.940443 8.74290e-12 0.5680268 DNAH10"
      ]
     },
     "metadata": {},
     "output_type": "display_data"
    }
   ],
   "source": [
    "whr_f"
   ]
  },
  {
   "cell_type": "code",
   "execution_count": 3,
   "metadata": {
    "collapsed": true
   },
   "outputs": [],
   "source": [
    "gp.sde <- read.csv(sprintf(\"%s/gershoni_pietr_sde.csv\", DATA.FOLDER))"
   ]
  },
  {
   "cell_type": "code",
   "execution_count": 4,
   "metadata": {
    "collapsed": true
   },
   "outputs": [],
   "source": [
    "gp.fat <- gp.sde[,1:3]\n",
    "gp.fat$GeneID <- sapply(gp.fat$Gene, function(x) strsplit(as.character(x), \"_\", fixed=TRUE)[[1]][1])"
   ]
  },
  {
   "cell_type": "code",
   "execution_count": 5,
   "metadata": {
    "collapsed": true
   },
   "outputs": [],
   "source": [
    "gp.fatS <- gp.fat[gp.fat$Adipose.Subcutaneous!=0,]"
   ]
  },
  {
   "cell_type": "code",
   "execution_count": 19,
   "metadata": {},
   "outputs": [
    {
     "data": {
      "text/html": [
       "<ol class=list-inline>\n",
       "\t<li>259</li>\n",
       "\t<li>11</li>\n",
       "</ol>\n"
      ],
      "text/latex": [
       "\\begin{enumerate*}\n",
       "\\item 259\n",
       "\\item 11\n",
       "\\end{enumerate*}\n"
      ],
      "text/markdown": [
       "1. 259\n",
       "2. 11\n",
       "\n",
       "\n"
      ],
      "text/plain": [
       "[1] 259  11"
      ]
     },
     "metadata": {},
     "output_type": "display_data"
    },
    {
     "data": {
      "text/html": [
       "<ol class=list-inline>\n",
       "\t<li>151</li>\n",
       "\t<li>11</li>\n",
       "</ol>\n"
      ],
      "text/latex": [
       "\\begin{enumerate*}\n",
       "\\item 151\n",
       "\\item 11\n",
       "\\end{enumerate*}\n"
      ],
      "text/markdown": [
       "1. 151\n",
       "2. 11\n",
       "\n",
       "\n"
      ],
      "text/plain": [
       "[1] 151  11"
      ]
     },
     "metadata": {},
     "output_type": "display_data"
    },
    {
     "data": {
      "text/html": [
       "<ol class=list-inline>\n",
       "\t<li>16</li>\n",
       "\t<li>11</li>\n",
       "</ol>\n"
      ],
      "text/latex": [
       "\\begin{enumerate*}\n",
       "\\item 16\n",
       "\\item 11\n",
       "\\end{enumerate*}\n"
      ],
      "text/markdown": [
       "1. 16\n",
       "2. 11\n",
       "\n",
       "\n"
      ],
      "text/plain": [
       "[1] 16 11"
      ]
     },
     "metadata": {},
     "output_type": "display_data"
    },
    {
     "data": {
      "text/html": [
       "<ol class=list-inline>\n",
       "\t<li>338</li>\n",
       "\t<li>11</li>\n",
       "</ol>\n"
      ],
      "text/latex": [
       "\\begin{enumerate*}\n",
       "\\item 338\n",
       "\\item 11\n",
       "\\end{enumerate*}\n"
      ],
      "text/markdown": [
       "1. 338\n",
       "2. 11\n",
       "\n",
       "\n"
      ],
      "text/plain": [
       "[1] 338  11"
      ]
     },
     "metadata": {},
     "output_type": "display_data"
    },
    {
     "data": {
      "text/html": [
       "<ol class=list-inline>\n",
       "\t<li>17</li>\n",
       "\t<li>11</li>\n",
       "</ol>\n"
      ],
      "text/latex": [
       "\\begin{enumerate*}\n",
       "\\item 17\n",
       "\\item 11\n",
       "\\end{enumerate*}\n"
      ],
      "text/markdown": [
       "1. 17\n",
       "2. 11\n",
       "\n",
       "\n"
      ],
      "text/plain": [
       "[1] 17 11"
      ]
     },
     "metadata": {},
     "output_type": "display_data"
    }
   ],
   "source": [
    "leg_f2 <- leg_f[leg_f$p_f < (10**-5),]\n",
    "dim(leg_f2)\n",
    "arm_f2 <- arm_f[arm_f$p_f < (10**-5),]\n",
    "dim(arm_f2)\n",
    "arm_m2 <- arm_m[arm_m$p_m < (10**-5),]\n",
    "dim(arm_m2)\n",
    "trunk_f2 <- trunk_f[trunk_f$p_f < (10**-5),]\n",
    "dim(trunk_f2)\n",
    "whr_f2 <- whr_f[whr_f$p_f < (10**-5),]\n",
    "dim(whr_f2)"
   ]
  },
  {
   "cell_type": "code",
   "execution_count": 24,
   "metadata": {},
   "outputs": [
    {
     "data": {
      "text/html": [
       "<ol class=list-inline>\n",
       "\t<li>92</li>\n",
       "\t<li>11</li>\n",
       "</ol>\n"
      ],
      "text/latex": [
       "\\begin{enumerate*}\n",
       "\\item 92\n",
       "\\item 11\n",
       "\\end{enumerate*}\n"
      ],
      "text/markdown": [
       "1. 92\n",
       "2. 11\n",
       "\n",
       "\n"
      ],
      "text/plain": [
       "[1] 92 11"
      ]
     },
     "metadata": {},
     "output_type": "display_data"
    },
    {
     "data": {
      "text/html": [
       "<ol class=list-inline>\n",
       "\t<li>40</li>\n",
       "\t<li>11</li>\n",
       "</ol>\n"
      ],
      "text/latex": [
       "\\begin{enumerate*}\n",
       "\\item 40\n",
       "\\item 11\n",
       "\\end{enumerate*}\n"
      ],
      "text/markdown": [
       "1. 40\n",
       "2. 11\n",
       "\n",
       "\n"
      ],
      "text/plain": [
       "[1] 40 11"
      ]
     },
     "metadata": {},
     "output_type": "display_data"
    },
    {
     "data": {
      "text/html": [
       "<ol class=list-inline>\n",
       "\t<li>13</li>\n",
       "\t<li>11</li>\n",
       "</ol>\n"
      ],
      "text/latex": [
       "\\begin{enumerate*}\n",
       "\\item 13\n",
       "\\item 11\n",
       "\\end{enumerate*}\n"
      ],
      "text/markdown": [
       "1. 13\n",
       "2. 11\n",
       "\n",
       "\n"
      ],
      "text/plain": [
       "[1] 13 11"
      ]
     },
     "metadata": {},
     "output_type": "display_data"
    },
    {
     "data": {
      "text/html": [
       "<ol class=list-inline>\n",
       "\t<li>128</li>\n",
       "\t<li>11</li>\n",
       "</ol>\n"
      ],
      "text/latex": [
       "\\begin{enumerate*}\n",
       "\\item 128\n",
       "\\item 11\n",
       "\\end{enumerate*}\n"
      ],
      "text/markdown": [
       "1. 128\n",
       "2. 11\n",
       "\n",
       "\n"
      ],
      "text/plain": [
       "[1] 128  11"
      ]
     },
     "metadata": {},
     "output_type": "display_data"
    },
    {
     "data": {
      "text/html": [
       "<ol class=list-inline>\n",
       "\t<li>12</li>\n",
       "\t<li>11</li>\n",
       "</ol>\n"
      ],
      "text/latex": [
       "\\begin{enumerate*}\n",
       "\\item 12\n",
       "\\item 11\n",
       "\\end{enumerate*}\n"
      ],
      "text/markdown": [
       "1. 12\n",
       "2. 11\n",
       "\n",
       "\n"
      ],
      "text/plain": [
       "[1] 12 11"
      ]
     },
     "metadata": {},
     "output_type": "display_data"
    }
   ],
   "source": [
    "leg_f3 <- leg_f[leg_f$p_f < (5*(10**-8)),]\n",
    "dim(leg_f3)\n",
    "arm_f3 <- arm_f[arm_f$p_f < (5*(10**-8)),]\n",
    "dim(arm_f3)\n",
    "arm_m3 <- arm_m[arm_m$p_m < (5*(10**-8)),]\n",
    "dim(arm_m3)\n",
    "trunk_f3 <- trunk_f[trunk_f$p_f < (5*(10**-8)),]\n",
    "dim(trunk_f3)\n",
    "whr_f3 <- whr_f[whr_f$p_f < (5*(10**-8)),]\n",
    "dim(whr_f3)"
   ]
  },
  {
   "cell_type": "code",
   "execution_count": 28,
   "metadata": {},
   "outputs": [
    {
     "data": {
      "text/html": [
       "<ol class=list-inline>\n",
       "\t<li>'ABHD15'</li>\n",
       "\t<li>'ACAN'</li>\n",
       "\t<li>'ADAMTS14'</li>\n",
       "\t<li>'ADAMTS17'</li>\n",
       "\t<li>'ADAMTS3'</li>\n",
       "\t<li>'ADAMTSL3'</li>\n",
       "\t<li>'ADAMTSL4'</li>\n",
       "\t<li>'AIP'</li>\n",
       "\t<li>'ANKRD11'</li>\n",
       "\t<li>'ANKS1A'</li>\n",
       "\t<li>'BAHCC1'</li>\n",
       "\t<li>'BOLA1'</li>\n",
       "\t<li>'BSN-AS2'</li>\n",
       "\t<li>'BTN1A1'</li>\n",
       "\t<li>'BTN2A2'</li>\n",
       "\t<li>'BTN3A3'</li>\n",
       "\t<li>'C4orf36'</li>\n",
       "\t<li>'CABLES1'</li>\n",
       "\t<li>'CAPZA1'</li>\n",
       "\t<li>'CARNS1'</li>\n",
       "\t<li>'CCDC71'</li>\n",
       "\t<li>'CCDC91'</li>\n",
       "\t<li>'CDC42BPA'</li>\n",
       "\t<li>'CDK10'</li>\n",
       "\t<li>'CHSY1'</li>\n",
       "\t<li>'CWC27'</li>\n",
       "\t<li>'DALRD3'</li>\n",
       "\t<li>'DIP2B'</li>\n",
       "\t<li>'DIS3L2'</li>\n",
       "\t<li>'DLEU1'</li>\n",
       "\t<li>'DNAJC27'</li>\n",
       "\t<li>'DNM3'</li>\n",
       "\t<li>'DNMT3A'</li>\n",
       "\t<li>'EFEMP1'</li>\n",
       "\t<li>'FAM134A'</li>\n",
       "\t<li>'FANCA'</li>\n",
       "\t<li>'FANCE'</li>\n",
       "\t<li>'FKBP5'</li>\n",
       "\t<li>'FLJ40194'</li>\n",
       "\t<li>'GPR126'</li>\n",
       "\t<li>'GRM4'</li>\n",
       "\t<li>'GYPA'</li>\n",
       "\t<li>'HHIP'</li>\n",
       "\t<li>'HIST1H1D'</li>\n",
       "\t<li>'HIST1H1E'</li>\n",
       "\t<li>'HIST1H2BG'</li>\n",
       "\t<li>'HIST1H4I'</li>\n",
       "\t<li>'HTRA1'</li>\n",
       "\t<li>'ID4'</li>\n",
       "\t<li>'JAZF1'</li>\n",
       "\t<li>'KANSL1'</li>\n",
       "\t<li>'KIF5B'</li>\n",
       "\t<li>'KPNA3'</li>\n",
       "\t<li>'LARP4'</li>\n",
       "\t<li>'LOC100506329'</li>\n",
       "\t<li>'LOC153910'</li>\n",
       "\t<li>'LOXL1'</li>\n",
       "\t<li>'LTBP2'</li>\n",
       "\t<li>'MAU2'</li>\n",
       "\t<li>'MCL1'</li>\n",
       "\t<li>'MDC1'</li>\n",
       "\t<li>'NSF'</li>\n",
       "\t<li>'OSBPL7'</li>\n",
       "\t<li>'PCSK5'</li>\n",
       "\t<li>'PFKM'</li>\n",
       "\t<li>'PHF20'</li>\n",
       "\t<li>'PHF7'</li>\n",
       "\t<li>'PIGU'</li>\n",
       "\t<li>'PRSS38'</li>\n",
       "\t<li>'PTPDC1'</li>\n",
       "\t<li>'RASA2'</li>\n",
       "\t<li>'RBM39'</li>\n",
       "\t<li>'RNY5'</li>\n",
       "\t<li>'RPRD2'</li>\n",
       "\t<li>'RYBP'</li>\n",
       "\t<li>'SAMD4A'</li>\n",
       "\t<li>'SERPINH1'</li>\n",
       "\t<li>'SETD9'</li>\n",
       "\t<li>'SLC23A3'</li>\n",
       "\t<li>'SMAD3'</li>\n",
       "\t<li>'SMC1B'</li>\n",
       "\t<li>'SMEK2'</li>\n",
       "\t<li>'SMOX'</li>\n",
       "\t<li>'SPSB1'</li>\n",
       "\t<li>'SPTBN2'</li>\n",
       "\t<li>'STOML1'</li>\n",
       "\t<li>'SV2A'</li>\n",
       "\t<li>'TGFB3'</li>\n",
       "\t<li>'TM6SF2'</li>\n",
       "\t<li>'TRIP11'</li>\n",
       "\t<li>'UHRF1BP1'</li>\n",
       "\t<li>'WNT3'</li>\n",
       "\t<li>'ZNF592'</li>\n",
       "\t<li>NA</li>\n",
       "</ol>\n"
      ],
      "text/latex": [
       "\\begin{enumerate*}\n",
       "\\item 'ABHD15'\n",
       "\\item 'ACAN'\n",
       "\\item 'ADAMTS14'\n",
       "\\item 'ADAMTS17'\n",
       "\\item 'ADAMTS3'\n",
       "\\item 'ADAMTSL3'\n",
       "\\item 'ADAMTSL4'\n",
       "\\item 'AIP'\n",
       "\\item 'ANKRD11'\n",
       "\\item 'ANKS1A'\n",
       "\\item 'BAHCC1'\n",
       "\\item 'BOLA1'\n",
       "\\item 'BSN-AS2'\n",
       "\\item 'BTN1A1'\n",
       "\\item 'BTN2A2'\n",
       "\\item 'BTN3A3'\n",
       "\\item 'C4orf36'\n",
       "\\item 'CABLES1'\n",
       "\\item 'CAPZA1'\n",
       "\\item 'CARNS1'\n",
       "\\item 'CCDC71'\n",
       "\\item 'CCDC91'\n",
       "\\item 'CDC42BPA'\n",
       "\\item 'CDK10'\n",
       "\\item 'CHSY1'\n",
       "\\item 'CWC27'\n",
       "\\item 'DALRD3'\n",
       "\\item 'DIP2B'\n",
       "\\item 'DIS3L2'\n",
       "\\item 'DLEU1'\n",
       "\\item 'DNAJC27'\n",
       "\\item 'DNM3'\n",
       "\\item 'DNMT3A'\n",
       "\\item 'EFEMP1'\n",
       "\\item 'FAM134A'\n",
       "\\item 'FANCA'\n",
       "\\item 'FANCE'\n",
       "\\item 'FKBP5'\n",
       "\\item 'FLJ40194'\n",
       "\\item 'GPR126'\n",
       "\\item 'GRM4'\n",
       "\\item 'GYPA'\n",
       "\\item 'HHIP'\n",
       "\\item 'HIST1H1D'\n",
       "\\item 'HIST1H1E'\n",
       "\\item 'HIST1H2BG'\n",
       "\\item 'HIST1H4I'\n",
       "\\item 'HTRA1'\n",
       "\\item 'ID4'\n",
       "\\item 'JAZF1'\n",
       "\\item 'KANSL1'\n",
       "\\item 'KIF5B'\n",
       "\\item 'KPNA3'\n",
       "\\item 'LARP4'\n",
       "\\item 'LOC100506329'\n",
       "\\item 'LOC153910'\n",
       "\\item 'LOXL1'\n",
       "\\item 'LTBP2'\n",
       "\\item 'MAU2'\n",
       "\\item 'MCL1'\n",
       "\\item 'MDC1'\n",
       "\\item 'NSF'\n",
       "\\item 'OSBPL7'\n",
       "\\item 'PCSK5'\n",
       "\\item 'PFKM'\n",
       "\\item 'PHF20'\n",
       "\\item 'PHF7'\n",
       "\\item 'PIGU'\n",
       "\\item 'PRSS38'\n",
       "\\item 'PTPDC1'\n",
       "\\item 'RASA2'\n",
       "\\item 'RBM39'\n",
       "\\item 'RNY5'\n",
       "\\item 'RPRD2'\n",
       "\\item 'RYBP'\n",
       "\\item 'SAMD4A'\n",
       "\\item 'SERPINH1'\n",
       "\\item 'SETD9'\n",
       "\\item 'SLC23A3'\n",
       "\\item 'SMAD3'\n",
       "\\item 'SMC1B'\n",
       "\\item 'SMEK2'\n",
       "\\item 'SMOX'\n",
       "\\item 'SPSB1'\n",
       "\\item 'SPTBN2'\n",
       "\\item 'STOML1'\n",
       "\\item 'SV2A'\n",
       "\\item 'TGFB3'\n",
       "\\item 'TM6SF2'\n",
       "\\item 'TRIP11'\n",
       "\\item 'UHRF1BP1'\n",
       "\\item 'WNT3'\n",
       "\\item 'ZNF592'\n",
       "\\item NA\n",
       "\\end{enumerate*}\n"
      ],
      "text/markdown": [
       "1. 'ABHD15'\n",
       "2. 'ACAN'\n",
       "3. 'ADAMTS14'\n",
       "4. 'ADAMTS17'\n",
       "5. 'ADAMTS3'\n",
       "6. 'ADAMTSL3'\n",
       "7. 'ADAMTSL4'\n",
       "8. 'AIP'\n",
       "9. 'ANKRD11'\n",
       "10. 'ANKS1A'\n",
       "11. 'BAHCC1'\n",
       "12. 'BOLA1'\n",
       "13. 'BSN-AS2'\n",
       "14. 'BTN1A1'\n",
       "15. 'BTN2A2'\n",
       "16. 'BTN3A3'\n",
       "17. 'C4orf36'\n",
       "18. 'CABLES1'\n",
       "19. 'CAPZA1'\n",
       "20. 'CARNS1'\n",
       "21. 'CCDC71'\n",
       "22. 'CCDC91'\n",
       "23. 'CDC42BPA'\n",
       "24. 'CDK10'\n",
       "25. 'CHSY1'\n",
       "26. 'CWC27'\n",
       "27. 'DALRD3'\n",
       "28. 'DIP2B'\n",
       "29. 'DIS3L2'\n",
       "30. 'DLEU1'\n",
       "31. 'DNAJC27'\n",
       "32. 'DNM3'\n",
       "33. 'DNMT3A'\n",
       "34. 'EFEMP1'\n",
       "35. 'FAM134A'\n",
       "36. 'FANCA'\n",
       "37. 'FANCE'\n",
       "38. 'FKBP5'\n",
       "39. 'FLJ40194'\n",
       "40. 'GPR126'\n",
       "41. 'GRM4'\n",
       "42. 'GYPA'\n",
       "43. 'HHIP'\n",
       "44. 'HIST1H1D'\n",
       "45. 'HIST1H1E'\n",
       "46. 'HIST1H2BG'\n",
       "47. 'HIST1H4I'\n",
       "48. 'HTRA1'\n",
       "49. 'ID4'\n",
       "50. 'JAZF1'\n",
       "51. 'KANSL1'\n",
       "52. 'KIF5B'\n",
       "53. 'KPNA3'\n",
       "54. 'LARP4'\n",
       "55. 'LOC100506329'\n",
       "56. 'LOC153910'\n",
       "57. 'LOXL1'\n",
       "58. 'LTBP2'\n",
       "59. 'MAU2'\n",
       "60. 'MCL1'\n",
       "61. 'MDC1'\n",
       "62. 'NSF'\n",
       "63. 'OSBPL7'\n",
       "64. 'PCSK5'\n",
       "65. 'PFKM'\n",
       "66. 'PHF20'\n",
       "67. 'PHF7'\n",
       "68. 'PIGU'\n",
       "69. 'PRSS38'\n",
       "70. 'PTPDC1'\n",
       "71. 'RASA2'\n",
       "72. 'RBM39'\n",
       "73. 'RNY5'\n",
       "74. 'RPRD2'\n",
       "75. 'RYBP'\n",
       "76. 'SAMD4A'\n",
       "77. 'SERPINH1'\n",
       "78. 'SETD9'\n",
       "79. 'SLC23A3'\n",
       "80. 'SMAD3'\n",
       "81. 'SMC1B'\n",
       "82. 'SMEK2'\n",
       "83. 'SMOX'\n",
       "84. 'SPSB1'\n",
       "85. 'SPTBN2'\n",
       "86. 'STOML1'\n",
       "87. 'SV2A'\n",
       "88. 'TGFB3'\n",
       "89. 'TM6SF2'\n",
       "90. 'TRIP11'\n",
       "91. 'UHRF1BP1'\n",
       "92. 'WNT3'\n",
       "93. 'ZNF592'\n",
       "94. NA\n",
       "\n",
       "\n"
      ],
      "text/plain": [
       " [1] \"ABHD15\"       \"ACAN\"         \"ADAMTS14\"     \"ADAMTS17\"     \"ADAMTS3\"     \n",
       " [6] \"ADAMTSL3\"     \"ADAMTSL4\"     \"AIP\"          \"ANKRD11\"      \"ANKS1A\"      \n",
       "[11] \"BAHCC1\"       \"BOLA1\"        \"BSN-AS2\"      \"BTN1A1\"       \"BTN2A2\"      \n",
       "[16] \"BTN3A3\"       \"C4orf36\"      \"CABLES1\"      \"CAPZA1\"       \"CARNS1\"      \n",
       "[21] \"CCDC71\"       \"CCDC91\"       \"CDC42BPA\"     \"CDK10\"        \"CHSY1\"       \n",
       "[26] \"CWC27\"        \"DALRD3\"       \"DIP2B\"        \"DIS3L2\"       \"DLEU1\"       \n",
       "[31] \"DNAJC27\"      \"DNM3\"         \"DNMT3A\"       \"EFEMP1\"       \"FAM134A\"     \n",
       "[36] \"FANCA\"        \"FANCE\"        \"FKBP5\"        \"FLJ40194\"     \"GPR126\"      \n",
       "[41] \"GRM4\"         \"GYPA\"         \"HHIP\"         \"HIST1H1D\"     \"HIST1H1E\"    \n",
       "[46] \"HIST1H2BG\"    \"HIST1H4I\"     \"HTRA1\"        \"ID4\"          \"JAZF1\"       \n",
       "[51] \"KANSL1\"       \"KIF5B\"        \"KPNA3\"        \"LARP4\"        \"LOC100506329\"\n",
       "[56] \"LOC153910\"    \"LOXL1\"        \"LTBP2\"        \"MAU2\"         \"MCL1\"        \n",
       "[61] \"MDC1\"         \"NSF\"          \"OSBPL7\"       \"PCSK5\"        \"PFKM\"        \n",
       "[66] \"PHF20\"        \"PHF7\"         \"PIGU\"         \"PRSS38\"       \"PTPDC1\"      \n",
       "[71] \"RASA2\"        \"RBM39\"        \"RNY5\"         \"RPRD2\"        \"RYBP\"        \n",
       "[76] \"SAMD4A\"       \"SERPINH1\"     \"SETD9\"        \"SLC23A3\"      \"SMAD3\"       \n",
       "[81] \"SMC1B\"        \"SMEK2\"        \"SMOX\"         \"SPSB1\"        \"SPTBN2\"      \n",
       "[86] \"STOML1\"       \"SV2A\"         \"TGFB3\"        \"TM6SF2\"       \"TRIP11\"      \n",
       "[91] \"UHRF1BP1\"     \"WNT3\"         \"ZNF592\"       NA            "
      ]
     },
     "metadata": {},
     "output_type": "display_data"
    }
   ],
   "source": [
    "\n",
    "genes.tf <- unique(trunk_f3[order(trunk_f3$p_f),]$gene)\n",
    "genes.tf[order(genes.tf)]"
   ]
  },
  {
   "cell_type": "code",
   "execution_count": 32,
   "metadata": {},
   "outputs": [
    {
     "data": {
      "text/html": [
       "<ol class=list-inline>\n",
       "\t<li>'ACAN'</li>\n",
       "\t<li>'ADCY3'</li>\n",
       "\t<li>'ANAPC4'</li>\n",
       "\t<li>'BAD'</li>\n",
       "\t<li>'BANK1'</li>\n",
       "\t<li>'BCDIN3D'</li>\n",
       "\t<li>'BDNF'</li>\n",
       "\t<li>'BNC2'</li>\n",
       "\t<li>'DNMT3A'</li>\n",
       "\t<li>'ETV5'</li>\n",
       "\t<li>'FBXL17'</li>\n",
       "\t<li>'FTO'</li>\n",
       "\t<li>'GIPR'</li>\n",
       "\t<li>'ITSN2'</li>\n",
       "\t<li>'JAZF1'</li>\n",
       "\t<li>'LOXL4'</li>\n",
       "\t<li>'MAD1L1'</li>\n",
       "\t<li>'MAU2'</li>\n",
       "\t<li>'MC4R'</li>\n",
       "\t<li>'NTNG1'</li>\n",
       "\t<li>'PHACTR1'</li>\n",
       "\t<li>'POMC'</li>\n",
       "\t<li>'PPP1R13B'</li>\n",
       "\t<li>'PPP1R3B'</li>\n",
       "\t<li>'SBK1'</li>\n",
       "\t<li>'SLC39A8'</li>\n",
       "\t<li>'SNX14'</li>\n",
       "\t<li>'STOML1'</li>\n",
       "\t<li>'TFAP2D'</li>\n",
       "\t<li>'XKR6'</li>\n",
       "\t<li>NA</li>\n",
       "</ol>\n"
      ],
      "text/latex": [
       "\\begin{enumerate*}\n",
       "\\item 'ACAN'\n",
       "\\item 'ADCY3'\n",
       "\\item 'ANAPC4'\n",
       "\\item 'BAD'\n",
       "\\item 'BANK1'\n",
       "\\item 'BCDIN3D'\n",
       "\\item 'BDNF'\n",
       "\\item 'BNC2'\n",
       "\\item 'DNMT3A'\n",
       "\\item 'ETV5'\n",
       "\\item 'FBXL17'\n",
       "\\item 'FTO'\n",
       "\\item 'GIPR'\n",
       "\\item 'ITSN2'\n",
       "\\item 'JAZF1'\n",
       "\\item 'LOXL4'\n",
       "\\item 'MAD1L1'\n",
       "\\item 'MAU2'\n",
       "\\item 'MC4R'\n",
       "\\item 'NTNG1'\n",
       "\\item 'PHACTR1'\n",
       "\\item 'POMC'\n",
       "\\item 'PPP1R13B'\n",
       "\\item 'PPP1R3B'\n",
       "\\item 'SBK1'\n",
       "\\item 'SLC39A8'\n",
       "\\item 'SNX14'\n",
       "\\item 'STOML1'\n",
       "\\item 'TFAP2D'\n",
       "\\item 'XKR6'\n",
       "\\item NA\n",
       "\\end{enumerate*}\n"
      ],
      "text/markdown": [
       "1. 'ACAN'\n",
       "2. 'ADCY3'\n",
       "3. 'ANAPC4'\n",
       "4. 'BAD'\n",
       "5. 'BANK1'\n",
       "6. 'BCDIN3D'\n",
       "7. 'BDNF'\n",
       "8. 'BNC2'\n",
       "9. 'DNMT3A'\n",
       "10. 'ETV5'\n",
       "11. 'FBXL17'\n",
       "12. 'FTO'\n",
       "13. 'GIPR'\n",
       "14. 'ITSN2'\n",
       "15. 'JAZF1'\n",
       "16. 'LOXL4'\n",
       "17. 'MAD1L1'\n",
       "18. 'MAU2'\n",
       "19. 'MC4R'\n",
       "20. 'NTNG1'\n",
       "21. 'PHACTR1'\n",
       "22. 'POMC'\n",
       "23. 'PPP1R13B'\n",
       "24. 'PPP1R3B'\n",
       "25. 'SBK1'\n",
       "26. 'SLC39A8'\n",
       "27. 'SNX14'\n",
       "28. 'STOML1'\n",
       "29. 'TFAP2D'\n",
       "30. 'XKR6'\n",
       "31. NA\n",
       "\n",
       "\n"
      ],
      "text/plain": [
       " [1] \"ACAN\"     \"ADCY3\"    \"ANAPC4\"   \"BAD\"      \"BANK1\"    \"BCDIN3D\" \n",
       " [7] \"BDNF\"     \"BNC2\"     \"DNMT3A\"   \"ETV5\"     \"FBXL17\"   \"FTO\"     \n",
       "[13] \"GIPR\"     \"ITSN2\"    \"JAZF1\"    \"LOXL4\"    \"MAD1L1\"   \"MAU2\"    \n",
       "[19] \"MC4R\"     \"NTNG1\"    \"PHACTR1\"  \"POMC\"     \"PPP1R13B\" \"PPP1R3B\" \n",
       "[25] \"SBK1\"     \"SLC39A8\"  \"SNX14\"    \"STOML1\"   \"TFAP2D\"   \"XKR6\"    \n",
       "[31] NA        "
      ]
     },
     "metadata": {},
     "output_type": "display_data"
    },
    {
     "data": {
      "text/html": [
       "<ol class=list-inline>\n",
       "\t<li>'ACAN'</li>\n",
       "\t<li>'ADAMTS14'</li>\n",
       "\t<li>'ADAMTS17'</li>\n",
       "\t<li>'ADAMTS3'</li>\n",
       "\t<li>'ADAMTSL3'</li>\n",
       "\t<li>'ADAMTSL4'</li>\n",
       "\t<li>'AIP'</li>\n",
       "\t<li>'ANKRD11'</li>\n",
       "\t<li>'ANKS1A'</li>\n",
       "\t<li>'BTN1A1'</li>\n",
       "\t<li>'BTN2A2'</li>\n",
       "\t<li>'BTN3A3'</li>\n",
       "\t<li>'CAPZA1'</li>\n",
       "\t<li>'CARNS1'</li>\n",
       "\t<li>'CCDC91'</li>\n",
       "\t<li>'CDK10'</li>\n",
       "\t<li>'CLIP1'</li>\n",
       "\t<li>'COBLL1'</li>\n",
       "\t<li>'CTU2'</li>\n",
       "\t<li>'DLEU1'</li>\n",
       "\t<li>'DNM3'</li>\n",
       "\t<li>'DNMT3A'</li>\n",
       "\t<li>'EFEMP1'</li>\n",
       "\t<li>'FAM134A'</li>\n",
       "\t<li>'FANCA'</li>\n",
       "\t<li>'FANCE'</li>\n",
       "\t<li>'FKBP5'</li>\n",
       "\t<li>'FLJ40194'</li>\n",
       "\t<li>'FTO'</li>\n",
       "\t<li>'GIPC2'</li>\n",
       "\t<li>'GPR126'</li>\n",
       "\t<li>'GRM4'</li>\n",
       "\t<li>'GYPA'</li>\n",
       "\t<li>'HHIP'</li>\n",
       "\t<li>'HIST1H1D'</li>\n",
       "\t<li>'HIST1H1E'</li>\n",
       "\t<li>'HIST1H2BG'</li>\n",
       "\t<li>'HIST1H4I'</li>\n",
       "\t<li>'HOXA1'</li>\n",
       "\t<li>'HTRA1'</li>\n",
       "\t<li>'ID4'</li>\n",
       "\t<li>'JAZF1'</li>\n",
       "\t<li>'KANSL1'</li>\n",
       "\t<li>'KIF5B'</li>\n",
       "\t<li>'KPNA3'</li>\n",
       "\t<li>'LOC100506329'</li>\n",
       "\t<li>'LOXL1'</li>\n",
       "\t<li>'LTBP2'</li>\n",
       "\t<li>'MCL1'</li>\n",
       "\t<li>'OSBPL7'</li>\n",
       "\t<li>'PCSK5'</li>\n",
       "\t<li>'PHF20'</li>\n",
       "\t<li>'PIGU'</li>\n",
       "\t<li>'PPARD'</li>\n",
       "\t<li>'PTPDC1'</li>\n",
       "\t<li>'RASA2'</li>\n",
       "\t<li>'RNY5'</li>\n",
       "\t<li>'RPRD2'</li>\n",
       "\t<li>'SBK1'</li>\n",
       "\t<li>'SERPINH1'</li>\n",
       "\t<li>'SMAD3'</li>\n",
       "\t<li>'SPTBN2'</li>\n",
       "\t<li>'STOML1'</li>\n",
       "\t<li>'SV2A'</li>\n",
       "\t<li>'TGFB3'</li>\n",
       "\t<li>'UHRF1BP1'</li>\n",
       "\t<li>'VCAN'</li>\n",
       "\t<li>'WNT3'</li>\n",
       "\t<li>'ZNF101'</li>\n",
       "\t<li>'ZNF592'</li>\n",
       "\t<li>'ZNF664'</li>\n",
       "\t<li>NA</li>\n",
       "</ol>\n"
      ],
      "text/latex": [
       "\\begin{enumerate*}\n",
       "\\item 'ACAN'\n",
       "\\item 'ADAMTS14'\n",
       "\\item 'ADAMTS17'\n",
       "\\item 'ADAMTS3'\n",
       "\\item 'ADAMTSL3'\n",
       "\\item 'ADAMTSL4'\n",
       "\\item 'AIP'\n",
       "\\item 'ANKRD11'\n",
       "\\item 'ANKS1A'\n",
       "\\item 'BTN1A1'\n",
       "\\item 'BTN2A2'\n",
       "\\item 'BTN3A3'\n",
       "\\item 'CAPZA1'\n",
       "\\item 'CARNS1'\n",
       "\\item 'CCDC91'\n",
       "\\item 'CDK10'\n",
       "\\item 'CLIP1'\n",
       "\\item 'COBLL1'\n",
       "\\item 'CTU2'\n",
       "\\item 'DLEU1'\n",
       "\\item 'DNM3'\n",
       "\\item 'DNMT3A'\n",
       "\\item 'EFEMP1'\n",
       "\\item 'FAM134A'\n",
       "\\item 'FANCA'\n",
       "\\item 'FANCE'\n",
       "\\item 'FKBP5'\n",
       "\\item 'FLJ40194'\n",
       "\\item 'FTO'\n",
       "\\item 'GIPC2'\n",
       "\\item 'GPR126'\n",
       "\\item 'GRM4'\n",
       "\\item 'GYPA'\n",
       "\\item 'HHIP'\n",
       "\\item 'HIST1H1D'\n",
       "\\item 'HIST1H1E'\n",
       "\\item 'HIST1H2BG'\n",
       "\\item 'HIST1H4I'\n",
       "\\item 'HOXA1'\n",
       "\\item 'HTRA1'\n",
       "\\item 'ID4'\n",
       "\\item 'JAZF1'\n",
       "\\item 'KANSL1'\n",
       "\\item 'KIF5B'\n",
       "\\item 'KPNA3'\n",
       "\\item 'LOC100506329'\n",
       "\\item 'LOXL1'\n",
       "\\item 'LTBP2'\n",
       "\\item 'MCL1'\n",
       "\\item 'OSBPL7'\n",
       "\\item 'PCSK5'\n",
       "\\item 'PHF20'\n",
       "\\item 'PIGU'\n",
       "\\item 'PPARD'\n",
       "\\item 'PTPDC1'\n",
       "\\item 'RASA2'\n",
       "\\item 'RNY5'\n",
       "\\item 'RPRD2'\n",
       "\\item 'SBK1'\n",
       "\\item 'SERPINH1'\n",
       "\\item 'SMAD3'\n",
       "\\item 'SPTBN2'\n",
       "\\item 'STOML1'\n",
       "\\item 'SV2A'\n",
       "\\item 'TGFB3'\n",
       "\\item 'UHRF1BP1'\n",
       "\\item 'VCAN'\n",
       "\\item 'WNT3'\n",
       "\\item 'ZNF101'\n",
       "\\item 'ZNF592'\n",
       "\\item 'ZNF664'\n",
       "\\item NA\n",
       "\\end{enumerate*}\n"
      ],
      "text/markdown": [
       "1. 'ACAN'\n",
       "2. 'ADAMTS14'\n",
       "3. 'ADAMTS17'\n",
       "4. 'ADAMTS3'\n",
       "5. 'ADAMTSL3'\n",
       "6. 'ADAMTSL4'\n",
       "7. 'AIP'\n",
       "8. 'ANKRD11'\n",
       "9. 'ANKS1A'\n",
       "10. 'BTN1A1'\n",
       "11. 'BTN2A2'\n",
       "12. 'BTN3A3'\n",
       "13. 'CAPZA1'\n",
       "14. 'CARNS1'\n",
       "15. 'CCDC91'\n",
       "16. 'CDK10'\n",
       "17. 'CLIP1'\n",
       "18. 'COBLL1'\n",
       "19. 'CTU2'\n",
       "20. 'DLEU1'\n",
       "21. 'DNM3'\n",
       "22. 'DNMT3A'\n",
       "23. 'EFEMP1'\n",
       "24. 'FAM134A'\n",
       "25. 'FANCA'\n",
       "26. 'FANCE'\n",
       "27. 'FKBP5'\n",
       "28. 'FLJ40194'\n",
       "29. 'FTO'\n",
       "30. 'GIPC2'\n",
       "31. 'GPR126'\n",
       "32. 'GRM4'\n",
       "33. 'GYPA'\n",
       "34. 'HHIP'\n",
       "35. 'HIST1H1D'\n",
       "36. 'HIST1H1E'\n",
       "37. 'HIST1H2BG'\n",
       "38. 'HIST1H4I'\n",
       "39. 'HOXA1'\n",
       "40. 'HTRA1'\n",
       "41. 'ID4'\n",
       "42. 'JAZF1'\n",
       "43. 'KANSL1'\n",
       "44. 'KIF5B'\n",
       "45. 'KPNA3'\n",
       "46. 'LOC100506329'\n",
       "47. 'LOXL1'\n",
       "48. 'LTBP2'\n",
       "49. 'MCL1'\n",
       "50. 'OSBPL7'\n",
       "51. 'PCSK5'\n",
       "52. 'PHF20'\n",
       "53. 'PIGU'\n",
       "54. 'PPARD'\n",
       "55. 'PTPDC1'\n",
       "56. 'RASA2'\n",
       "57. 'RNY5'\n",
       "58. 'RPRD2'\n",
       "59. 'SBK1'\n",
       "60. 'SERPINH1'\n",
       "61. 'SMAD3'\n",
       "62. 'SPTBN2'\n",
       "63. 'STOML1'\n",
       "64. 'SV2A'\n",
       "65. 'TGFB3'\n",
       "66. 'UHRF1BP1'\n",
       "67. 'VCAN'\n",
       "68. 'WNT3'\n",
       "69. 'ZNF101'\n",
       "70. 'ZNF592'\n",
       "71. 'ZNF664'\n",
       "72. NA\n",
       "\n",
       "\n"
      ],
      "text/plain": [
       " [1] \"ACAN\"         \"ADAMTS14\"     \"ADAMTS17\"     \"ADAMTS3\"      \"ADAMTSL3\"    \n",
       " [6] \"ADAMTSL4\"     \"AIP\"          \"ANKRD11\"      \"ANKS1A\"       \"BTN1A1\"      \n",
       "[11] \"BTN2A2\"       \"BTN3A3\"       \"CAPZA1\"       \"CARNS1\"       \"CCDC91\"      \n",
       "[16] \"CDK10\"        \"CLIP1\"        \"COBLL1\"       \"CTU2\"         \"DLEU1\"       \n",
       "[21] \"DNM3\"         \"DNMT3A\"       \"EFEMP1\"       \"FAM134A\"      \"FANCA\"       \n",
       "[26] \"FANCE\"        \"FKBP5\"        \"FLJ40194\"     \"FTO\"          \"GIPC2\"       \n",
       "[31] \"GPR126\"       \"GRM4\"         \"GYPA\"         \"HHIP\"         \"HIST1H1D\"    \n",
       "[36] \"HIST1H1E\"     \"HIST1H2BG\"    \"HIST1H4I\"     \"HOXA1\"        \"HTRA1\"       \n",
       "[41] \"ID4\"          \"JAZF1\"        \"KANSL1\"       \"KIF5B\"        \"KPNA3\"       \n",
       "[46] \"LOC100506329\" \"LOXL1\"        \"LTBP2\"        \"MCL1\"         \"OSBPL7\"      \n",
       "[51] \"PCSK5\"        \"PHF20\"        \"PIGU\"         \"PPARD\"        \"PTPDC1\"      \n",
       "[56] \"RASA2\"        \"RNY5\"         \"RPRD2\"        \"SBK1\"         \"SERPINH1\"    \n",
       "[61] \"SMAD3\"        \"SPTBN2\"       \"STOML1\"       \"SV2A\"         \"TGFB3\"       \n",
       "[66] \"UHRF1BP1\"     \"VCAN\"         \"WNT3\"         \"ZNF101\"       \"ZNF592\"      \n",
       "[71] \"ZNF664\"       NA            "
      ]
     },
     "metadata": {},
     "output_type": "display_data"
    }
   ],
   "source": [
    "genes.af <- unique(arm_f3[order(arm_f3$p_f),]$gene)\n",
    "genes.af[order(genes.af)]\n",
    "genes.lf <- unique(leg_f3[order(leg_f3$p_f),]$gene)\n",
    "genes.lf[order(genes.lf)]"
   ]
  },
  {
   "cell_type": "code",
   "execution_count": 37,
   "metadata": {},
   "outputs": [
    {
     "data": {
      "text/html": [
       "<table>\n",
       "<thead><tr><th></th><th scope=col>SNP</th><th scope=col>CHR</th><th scope=col>BP</th></tr></thead>\n",
       "<tbody>\n",
       "\t<tr><th scope=row>29</th><td>rs10881467</td><td> 1        </td><td>107990347 </td></tr>\n",
       "\t<tr><th scope=row>445</th><td>rs72717429</td><td> 1        </td><td>177769090 </td></tr>\n",
       "\t<tr><th scope=row>491</th><td>rs7564235 </td><td> 2        </td><td>   374483 </td></tr>\n",
       "\t<tr><th scope=row>473</th><td>rs74495980</td><td> 2        </td><td>   375873 </td></tr>\n",
       "\t<tr><th scope=row>362</th><td>rs56046241</td><td> 2        </td><td>   557624 </td></tr>\n",
       "\t<tr><th scope=row>360</th><td>rs55807698</td><td> 2        </td><td> 24712627 </td></tr>\n",
       "\t<tr><th scope=row>388</th><td>rs61732745</td><td> 2        </td><td> 25141434 </td></tr>\n",
       "\t<tr><th scope=row>586</th><td>rs934778  </td><td> 2        </td><td> 25389224 </td></tr>\n",
       "\t<tr><th scope=row>238</th><td>rs2289195 </td><td> 2        </td><td> 25463483 </td></tr>\n",
       "\t<tr><th scope=row>318</th><td>rs4077189 </td><td> 3        </td><td>185796785 </td></tr>\n",
       "\t<tr><th scope=row>293</th><td>rs34811474</td><td> 4        </td><td> 25408838 </td></tr>\n",
       "\t<tr><th scope=row>286</th><td>rs34592089</td><td> 4        </td><td>102926923 </td></tr>\n",
       "\t<tr><th scope=row>282</th><td>rs34333163</td><td> 4        </td><td>103283117 </td></tr>\n",
       "\t<tr><th scope=row>515</th><td>rs7702020 </td><td> 5        </td><td> 88880147 </td></tr>\n",
       "\t<tr><th scope=row>602</th><td>rs988437  </td><td> 5        </td><td>107680687 </td></tr>\n",
       "\t<tr><th scope=row>588</th><td>rs9381818 </td><td> 6        </td><td> 13191767 </td></tr>\n",
       "\t<tr><th scope=row>141</th><td>rs12527048</td><td> 6        </td><td> 50666968 </td></tr>\n",
       "\t<tr><th scope=row>321</th><td>rs41271629</td><td> 6        </td><td> 86257229 </td></tr>\n",
       "\t<tr><th scope=row>366</th><td>rs56226325</td><td> 7        </td><td>  2078981 </td></tr>\n",
       "\t<tr><th scope=row>354</th><td>rs520161  </td><td> 7        </td><td> 28210660 </td></tr>\n",
       "\t<tr><th scope=row>363</th><td>rs56135405</td><td> 8        </td><td>  8974673 </td></tr>\n",
       "\t<tr><th scope=row>266</th><td>rs2898261 </td><td> 8        </td><td> 10958539 </td></tr>\n",
       "\t<tr><th scope=row>33</th><td>rs10962549</td><td> 9        </td><td> 16719445 </td></tr>\n",
       "\t<tr><th scope=row>214</th><td>rs1983864 </td><td>10        </td><td>100017453 </td></tr>\n",
       "\t<tr><th scope=row>218</th><td>rs2049045 </td><td>11        </td><td> 27694241 </td></tr>\n",
       "\t<tr><th scope=row>186</th><td>rs17309930</td><td>11        </td><td> 27748493 </td></tr>\n",
       "\t<tr><th scope=row>345</th><td>rs477895  </td><td>11        </td><td> 64048912 </td></tr>\n",
       "\t<tr><th scope=row>427</th><td>rs7138803 </td><td>12        </td><td> 50247468 </td></tr>\n",
       "\t<tr><th scope=row>596</th><td>rs9563574 </td><td>13        </td><td> 58656599 </td></tr>\n",
       "\t<tr><th scope=row>359</th><td>rs55798317</td><td>14        </td><td>104312542 </td></tr>\n",
       "\t<tr><th scope=row>373</th><td>rs5742914 </td><td>15        </td><td> 74286929 </td></tr>\n",
       "\t<tr><th scope=row>177</th><td>rs16942341</td><td>15        </td><td> 89388905 </td></tr>\n",
       "\t<tr><th scope=row>252</th><td>rs2726032 </td><td>16        </td><td> 28338043 </td></tr>\n",
       "\t<tr><th scope=row>206</th><td>rs1861868 </td><td>16        </td><td> 53790402 </td></tr>\n",
       "\t<tr><th scope=row>459</th><td>rs72989246</td><td>18        </td><td> 57721198 </td></tr>\n",
       "\t<tr><th scope=row>231</th><td>rs2229616 </td><td>18        </td><td> 58039276 </td></tr>\n",
       "\t<tr><th scope=row>509</th><td>rs76543614</td><td>18        </td><td> 58139203 </td></tr>\n",
       "\t<tr><th scope=row>269</th><td>rs2965190 </td><td>19        </td><td> 19451591 </td></tr>\n",
       "\t<tr><th scope=row>292</th><td>rs34783010</td><td>19        </td><td> 46180414 </td></tr>\n",
       "\t<tr><th scope=row>225</th><td>rs2145270 </td><td>20        </td><td>  6621685 </td></tr>\n",
       "</tbody>\n",
       "</table>\n"
      ],
      "text/latex": [
       "\\begin{tabular}{r|lll}\n",
       "  & SNP & CHR & BP\\\\\n",
       "\\hline\n",
       "\t29 & rs10881467 &  1         & 107990347 \\\\\n",
       "\t445 & rs72717429 &  1         & 177769090 \\\\\n",
       "\t491 & rs7564235  &  2         &    374483 \\\\\n",
       "\t473 & rs74495980 &  2         &    375873 \\\\\n",
       "\t362 & rs56046241 &  2         &    557624 \\\\\n",
       "\t360 & rs55807698 &  2         &  24712627 \\\\\n",
       "\t388 & rs61732745 &  2         &  25141434 \\\\\n",
       "\t586 & rs934778   &  2         &  25389224 \\\\\n",
       "\t238 & rs2289195  &  2         &  25463483 \\\\\n",
       "\t318 & rs4077189  &  3         & 185796785 \\\\\n",
       "\t293 & rs34811474 &  4         &  25408838 \\\\\n",
       "\t286 & rs34592089 &  4         & 102926923 \\\\\n",
       "\t282 & rs34333163 &  4         & 103283117 \\\\\n",
       "\t515 & rs7702020  &  5         &  88880147 \\\\\n",
       "\t602 & rs988437   &  5         & 107680687 \\\\\n",
       "\t588 & rs9381818  &  6         &  13191767 \\\\\n",
       "\t141 & rs12527048 &  6         &  50666968 \\\\\n",
       "\t321 & rs41271629 &  6         &  86257229 \\\\\n",
       "\t366 & rs56226325 &  7         &   2078981 \\\\\n",
       "\t354 & rs520161   &  7         &  28210660 \\\\\n",
       "\t363 & rs56135405 &  8         &   8974673 \\\\\n",
       "\t266 & rs2898261  &  8         &  10958539 \\\\\n",
       "\t33 & rs10962549 &  9         &  16719445 \\\\\n",
       "\t214 & rs1983864  & 10         & 100017453 \\\\\n",
       "\t218 & rs2049045  & 11         &  27694241 \\\\\n",
       "\t186 & rs17309930 & 11         &  27748493 \\\\\n",
       "\t345 & rs477895   & 11         &  64048912 \\\\\n",
       "\t427 & rs7138803  & 12         &  50247468 \\\\\n",
       "\t596 & rs9563574  & 13         &  58656599 \\\\\n",
       "\t359 & rs55798317 & 14         & 104312542 \\\\\n",
       "\t373 & rs5742914  & 15         &  74286929 \\\\\n",
       "\t177 & rs16942341 & 15         &  89388905 \\\\\n",
       "\t252 & rs2726032  & 16         &  28338043 \\\\\n",
       "\t206 & rs1861868  & 16         &  53790402 \\\\\n",
       "\t459 & rs72989246 & 18         &  57721198 \\\\\n",
       "\t231 & rs2229616  & 18         &  58039276 \\\\\n",
       "\t509 & rs76543614 & 18         &  58139203 \\\\\n",
       "\t269 & rs2965190  & 19         &  19451591 \\\\\n",
       "\t292 & rs34783010 & 19         &  46180414 \\\\\n",
       "\t225 & rs2145270  & 20         &   6621685 \\\\\n",
       "\\end{tabular}\n"
      ],
      "text/markdown": [
       "\n",
       "| <!--/--> | SNP | CHR | BP | \n",
       "|---|---|---|---|---|---|---|---|---|---|---|---|---|---|---|---|---|---|---|---|---|---|---|---|---|---|---|---|---|---|---|---|---|---|---|---|---|---|---|---|\n",
       "| 29 | rs10881467 |  1         | 107990347  | \n",
       "| 445 | rs72717429 |  1         | 177769090  | \n",
       "| 491 | rs7564235  |  2         |    374483  | \n",
       "| 473 | rs74495980 |  2         |    375873  | \n",
       "| 362 | rs56046241 |  2         |    557624  | \n",
       "| 360 | rs55807698 |  2         |  24712627  | \n",
       "| 388 | rs61732745 |  2         |  25141434  | \n",
       "| 586 | rs934778   |  2         |  25389224  | \n",
       "| 238 | rs2289195  |  2         |  25463483  | \n",
       "| 318 | rs4077189  |  3         | 185796785  | \n",
       "| 293 | rs34811474 |  4         |  25408838  | \n",
       "| 286 | rs34592089 |  4         | 102926923  | \n",
       "| 282 | rs34333163 |  4         | 103283117  | \n",
       "| 515 | rs7702020  |  5         |  88880147  | \n",
       "| 602 | rs988437   |  5         | 107680687  | \n",
       "| 588 | rs9381818  |  6         |  13191767  | \n",
       "| 141 | rs12527048 |  6         |  50666968  | \n",
       "| 321 | rs41271629 |  6         |  86257229  | \n",
       "| 366 | rs56226325 |  7         |   2078981  | \n",
       "| 354 | rs520161   |  7         |  28210660  | \n",
       "| 363 | rs56135405 |  8         |   8974673  | \n",
       "| 266 | rs2898261  |  8         |  10958539  | \n",
       "| 33 | rs10962549 |  9         |  16719445  | \n",
       "| 214 | rs1983864  | 10         | 100017453  | \n",
       "| 218 | rs2049045  | 11         |  27694241  | \n",
       "| 186 | rs17309930 | 11         |  27748493  | \n",
       "| 345 | rs477895   | 11         |  64048912  | \n",
       "| 427 | rs7138803  | 12         |  50247468  | \n",
       "| 596 | rs9563574  | 13         |  58656599  | \n",
       "| 359 | rs55798317 | 14         | 104312542  | \n",
       "| 373 | rs5742914  | 15         |  74286929  | \n",
       "| 177 | rs16942341 | 15         |  89388905  | \n",
       "| 252 | rs2726032  | 16         |  28338043  | \n",
       "| 206 | rs1861868  | 16         |  53790402  | \n",
       "| 459 | rs72989246 | 18         |  57721198  | \n",
       "| 231 | rs2229616  | 18         |  58039276  | \n",
       "| 509 | rs76543614 | 18         |  58139203  | \n",
       "| 269 | rs2965190  | 19         |  19451591  | \n",
       "| 292 | rs34783010 | 19         |  46180414  | \n",
       "| 225 | rs2145270  | 20         |   6621685  | \n",
       "\n",
       "\n"
      ],
      "text/plain": [
       "    SNP        CHR BP       \n",
       "29  rs10881467  1  107990347\n",
       "445 rs72717429  1  177769090\n",
       "491 rs7564235   2     374483\n",
       "473 rs74495980  2     375873\n",
       "362 rs56046241  2     557624\n",
       "360 rs55807698  2   24712627\n",
       "388 rs61732745  2   25141434\n",
       "586 rs934778    2   25389224\n",
       "238 rs2289195   2   25463483\n",
       "318 rs4077189   3  185796785\n",
       "293 rs34811474  4   25408838\n",
       "286 rs34592089  4  102926923\n",
       "282 rs34333163  4  103283117\n",
       "515 rs7702020   5   88880147\n",
       "602 rs988437    5  107680687\n",
       "588 rs9381818   6   13191767\n",
       "141 rs12527048  6   50666968\n",
       "321 rs41271629  6   86257229\n",
       "366 rs56226325  7    2078981\n",
       "354 rs520161    7   28210660\n",
       "363 rs56135405  8    8974673\n",
       "266 rs2898261   8   10958539\n",
       "33  rs10962549  9   16719445\n",
       "214 rs1983864  10  100017453\n",
       "218 rs2049045  11   27694241\n",
       "186 rs17309930 11   27748493\n",
       "345 rs477895   11   64048912\n",
       "427 rs7138803  12   50247468\n",
       "596 rs9563574  13   58656599\n",
       "359 rs55798317 14  104312542\n",
       "373 rs5742914  15   74286929\n",
       "177 rs16942341 15   89388905\n",
       "252 rs2726032  16   28338043\n",
       "206 rs1861868  16   53790402\n",
       "459 rs72989246 18   57721198\n",
       "231 rs2229616  18   58039276\n",
       "509 rs76543614 18   58139203\n",
       "269 rs2965190  19   19451591\n",
       "292 rs34783010 19   46180414\n",
       "225 rs2145270  20    6621685"
      ]
     },
     "metadata": {},
     "output_type": "display_data"
    }
   ],
   "source": [
    "arm_f3[order(arm_f3$CHR, arm_f3$BP),c(\"SNP\", \"CHR\", \"BP\")]\n",
    "arm_f3[order(arm_f3$CHR, arm_f3$BP),c(\"SNP\", \"CHR\", \"BP\")]"
   ]
  },
  {
   "cell_type": "code",
   "execution_count": 12,
   "metadata": {},
   "outputs": [
    {
     "data": {
      "text/html": [
       "<ol class=list-inline>\n",
       "\t<li>'SPSB1'</li>\n",
       "\t<li>'PLA2G1B'</li>\n",
       "\t<li>'CTIF'</li>\n",
       "\t<li>'SPSB1'</li>\n",
       "\t<li>'HTRA1'</li>\n",
       "</ol>\n"
      ],
      "text/latex": [
       "\\begin{enumerate*}\n",
       "\\item 'SPSB1'\n",
       "\\item 'PLA2G1B'\n",
       "\\item 'CTIF'\n",
       "\\item 'SPSB1'\n",
       "\\item 'HTRA1'\n",
       "\\end{enumerate*}\n"
      ],
      "text/markdown": [
       "1. 'SPSB1'\n",
       "2. 'PLA2G1B'\n",
       "3. 'CTIF'\n",
       "4. 'SPSB1'\n",
       "5. 'HTRA1'\n",
       "\n",
       "\n"
      ],
      "text/plain": [
       "[1] \"SPSB1\"   \"PLA2G1B\" \"CTIF\"    \"SPSB1\"   \"HTRA1\"  "
      ]
     },
     "metadata": {},
     "output_type": "display_data"
    },
    {
     "data": {
      "text/html": [],
      "text/latex": [],
      "text/markdown": [],
      "text/plain": [
       "character(0)"
      ]
     },
     "metadata": {},
     "output_type": "display_data"
    },
    {
     "data": {
      "text/html": [],
      "text/latex": [],
      "text/markdown": [],
      "text/plain": [
       "character(0)"
      ]
     },
     "metadata": {},
     "output_type": "display_data"
    },
    {
     "data": {
      "text/html": [
       "<ol class=list-inline>\n",
       "\t<li>'SPSB1'</li>\n",
       "\t<li>'SPSB1'</li>\n",
       "\t<li>'PLA2G6'</li>\n",
       "\t<li>'HTRA1'</li>\n",
       "</ol>\n"
      ],
      "text/latex": [
       "\\begin{enumerate*}\n",
       "\\item 'SPSB1'\n",
       "\\item 'SPSB1'\n",
       "\\item 'PLA2G6'\n",
       "\\item 'HTRA1'\n",
       "\\end{enumerate*}\n"
      ],
      "text/markdown": [
       "1. 'SPSB1'\n",
       "2. 'SPSB1'\n",
       "3. 'PLA2G6'\n",
       "4. 'HTRA1'\n",
       "\n",
       "\n"
      ],
      "text/plain": [
       "[1] \"SPSB1\"  \"SPSB1\"  \"PLA2G6\" \"HTRA1\" "
      ]
     },
     "metadata": {},
     "output_type": "display_data"
    },
    {
     "data": {
      "text/html": [],
      "text/latex": [],
      "text/markdown": [],
      "text/plain": [
       "character(0)"
      ]
     },
     "metadata": {},
     "output_type": "display_data"
    }
   ],
   "source": [
    "leg_f2$gene[leg_f2$gene %in% gp.fatS$GeneID]\n",
    "arm_f2$gene[arm_f2$gene %in% gp.fatS$GeneID]\n",
    "arm_m2$gene[arm_m2$gene %in% gp.fatS$GeneID]\n",
    "trunk_f2$gene[trunk_f2$gene %in% gp.fatS$GeneID]\n",
    "whr_f2$gene[whr_f2$gene %in% gp.fatS$GeneID]"
   ]
  },
  {
   "cell_type": "code",
   "execution_count": 15,
   "metadata": {},
   "outputs": [
    {
     "data": {
      "text/html": [
       "<table>\n",
       "<thead><tr><th></th><th scope=col>SNP</th><th scope=col>CHR</th><th scope=col>BP</th><th scope=col>B_f</th><th scope=col>B_m</th><th scope=col>SE_f</th><th scope=col>SE_m</th><th scope=col>p_m</th><th scope=col>p_f</th><th scope=col>post</th><th scope=col>gene</th></tr></thead>\n",
       "<tbody>\n",
       "\t<tr><th scope=row>31</th><td>rs10746487 </td><td>1          </td><td>9338689    </td><td>-0.0218265 </td><td>-0.00930773</td><td>0.00407025 </td><td>0.00403131 </td><td>0.02095260 </td><td>8.22270e-08</td><td>0.9989350  </td><td>SPSB1      </td></tr>\n",
       "\t<tr><th scope=row>404</th><td>rs2072734  </td><td>1          </td><td>9356065    </td><td>-0.0214171 </td><td>-0.01537870</td><td>0.00418081 </td><td>0.00414350 </td><td>0.00020609 </td><td>3.01531e-07</td><td>0.9565235  </td><td>SPSB1      </td></tr>\n",
       "</tbody>\n",
       "</table>\n"
      ],
      "text/latex": [
       "\\begin{tabular}{r|lllllllllll}\n",
       "  & SNP & CHR & BP & B\\_f & B\\_m & SE\\_f & SE\\_m & p\\_m & p\\_f & post & gene\\\\\n",
       "\\hline\n",
       "\t31 & rs10746487  & 1           & 9338689     & -0.0218265  & -0.00930773 & 0.00407025  & 0.00403131  & 0.02095260  & 8.22270e-08 & 0.9989350   & SPSB1      \\\\\n",
       "\t404 & rs2072734   & 1           & 9356065     & -0.0214171  & -0.01537870 & 0.00418081  & 0.00414350  & 0.00020609  & 3.01531e-07 & 0.9565235   & SPSB1      \\\\\n",
       "\\end{tabular}\n"
      ],
      "text/markdown": [
       "\n",
       "| <!--/--> | SNP | CHR | BP | B_f | B_m | SE_f | SE_m | p_m | p_f | post | gene | \n",
       "|---|---|\n",
       "| 31 | rs10746487  | 1           | 9338689     | -0.0218265  | -0.00930773 | 0.00407025  | 0.00403131  | 0.02095260  | 8.22270e-08 | 0.9989350   | SPSB1       | \n",
       "| 404 | rs2072734   | 1           | 9356065     | -0.0214171  | -0.01537870 | 0.00418081  | 0.00414350  | 0.00020609  | 3.01531e-07 | 0.9565235   | SPSB1       | \n",
       "\n",
       "\n"
      ],
      "text/plain": [
       "    SNP        CHR BP      B_f        B_m         SE_f       SE_m      \n",
       "31  rs10746487 1   9338689 -0.0218265 -0.00930773 0.00407025 0.00403131\n",
       "404 rs2072734  1   9356065 -0.0214171 -0.01537870 0.00418081 0.00414350\n",
       "    p_m        p_f         post      gene \n",
       "31  0.02095260 8.22270e-08 0.9989350 SPSB1\n",
       "404 0.00020609 3.01531e-07 0.9565235 SPSB1"
      ]
     },
     "metadata": {},
     "output_type": "display_data"
    },
    {
     "data": {
      "text/html": [
       "<table>\n",
       "<thead><tr><th scope=col>SNP</th><th scope=col>CHR</th><th scope=col>BP</th><th scope=col>B_f</th><th scope=col>B_m</th><th scope=col>SE_f</th><th scope=col>SE_m</th><th scope=col>p_m</th><th scope=col>p_f</th><th scope=col>post</th><th scope=col>gene</th></tr></thead>\n",
       "<tbody>\n",
       "</tbody>\n",
       "</table>\n"
      ],
      "text/latex": [
       "\\begin{tabular}{r|lllllllllll}\n",
       " SNP & CHR & BP & B\\_f & B\\_m & SE\\_f & SE\\_m & p\\_m & p\\_f & post & gene\\\\\n",
       "\\hline\n",
       "\\end{tabular}\n"
      ],
      "text/markdown": [
       "\n",
       "SNP | CHR | BP | B_f | B_m | SE_f | SE_m | p_m | p_f | post | gene | \n",
       "||\n",
       "\n",
       "\n"
      ],
      "text/plain": [
       "     SNP CHR BP B_f B_m SE_f SE_m p_m p_f post gene"
      ]
     },
     "metadata": {},
     "output_type": "display_data"
    },
    {
     "data": {
      "text/html": [
       "<table>\n",
       "<thead><tr><th></th><th scope=col>SNP</th><th scope=col>CHR</th><th scope=col>BP</th><th scope=col>B_f</th><th scope=col>B_m</th><th scope=col>SE_f</th><th scope=col>SE_m</th><th scope=col>p_m</th><th scope=col>p_f</th><th scope=col>post</th><th scope=col>gene</th></tr></thead>\n",
       "<tbody>\n",
       "\t<tr><th scope=row>56</th><td>rs10746487 </td><td>1          </td><td>9338689    </td><td>0.0226966  </td><td>0.00777508 </td><td>0.00406788 </td><td>0.00394741 </td><td>0.048878600</td><td>2.41675e-08</td><td>0.9997287  </td><td>SPSB1      </td></tr>\n",
       "\t<tr><th scope=row>615</th><td>rs2072734  </td><td>1          </td><td>9356065    </td><td>0.0248014  </td><td>0.01530680 </td><td>0.00417818 </td><td>0.00405692 </td><td>0.000161349</td><td>2.92814e-09</td><td>0.9641257  </td><td>SPSB1      </td></tr>\n",
       "</tbody>\n",
       "</table>\n"
      ],
      "text/latex": [
       "\\begin{tabular}{r|lllllllllll}\n",
       "  & SNP & CHR & BP & B\\_f & B\\_m & SE\\_f & SE\\_m & p\\_m & p\\_f & post & gene\\\\\n",
       "\\hline\n",
       "\t56 & rs10746487  & 1           & 9338689     & 0.0226966   & 0.00777508  & 0.00406788  & 0.00394741  & 0.048878600 & 2.41675e-08 & 0.9997287   & SPSB1      \\\\\n",
       "\t615 & rs2072734   & 1           & 9356065     & 0.0248014   & 0.01530680  & 0.00417818  & 0.00405692  & 0.000161349 & 2.92814e-09 & 0.9641257   & SPSB1      \\\\\n",
       "\\end{tabular}\n"
      ],
      "text/markdown": [
       "\n",
       "| <!--/--> | SNP | CHR | BP | B_f | B_m | SE_f | SE_m | p_m | p_f | post | gene | \n",
       "|---|---|\n",
       "| 56 | rs10746487  | 1           | 9338689     | 0.0226966   | 0.00777508  | 0.00406788  | 0.00394741  | 0.048878600 | 2.41675e-08 | 0.9997287   | SPSB1       | \n",
       "| 615 | rs2072734   | 1           | 9356065     | 0.0248014   | 0.01530680  | 0.00417818  | 0.00405692  | 0.000161349 | 2.92814e-09 | 0.9641257   | SPSB1       | \n",
       "\n",
       "\n"
      ],
      "text/plain": [
       "    SNP        CHR BP      B_f       B_m        SE_f       SE_m      \n",
       "56  rs10746487 1   9338689 0.0226966 0.00777508 0.00406788 0.00394741\n",
       "615 rs2072734  1   9356065 0.0248014 0.01530680 0.00417818 0.00405692\n",
       "    p_m         p_f         post      gene \n",
       "56  0.048878600 2.41675e-08 0.9997287 SPSB1\n",
       "615 0.000161349 2.92814e-09 0.9641257 SPSB1"
      ]
     },
     "metadata": {},
     "output_type": "display_data"
    },
    {
     "data": {
      "text/html": [
       "<table>\n",
       "<thead><tr><th scope=col>SNP</th><th scope=col>CHR</th><th scope=col>BP</th><th scope=col>B_f</th><th scope=col>B_m</th><th scope=col>SE_f</th><th scope=col>SE_m</th><th scope=col>p_m</th><th scope=col>p_f</th><th scope=col>post</th><th scope=col>gene</th></tr></thead>\n",
       "<tbody>\n",
       "</tbody>\n",
       "</table>\n"
      ],
      "text/latex": [
       "\\begin{tabular}{r|lllllllllll}\n",
       " SNP & CHR & BP & B\\_f & B\\_m & SE\\_f & SE\\_m & p\\_m & p\\_f & post & gene\\\\\n",
       "\\hline\n",
       "\\end{tabular}\n"
      ],
      "text/markdown": [
       "\n",
       "SNP | CHR | BP | B_f | B_m | SE_f | SE_m | p_m | p_f | post | gene | \n",
       "||\n",
       "\n",
       "\n"
      ],
      "text/plain": [
       "     SNP CHR BP B_f B_m SE_f SE_m p_m p_f post gene"
      ]
     },
     "metadata": {},
     "output_type": "display_data"
    }
   ],
   "source": [
    "leg_f2[!is.na(leg_f2$gene) & leg_f2$gene ==\"SPSB1\",]\n",
    "arm_f2[!is.na(arm_f2$gene) & arm_f2$gene ==\"SPSB1\",]\n",
    "trunk_f2[!is.na(trunk_f2$gene) & trunk_f2$gene ==\"SPSB1\",]\n",
    "whr_f2[!is.na(whr_f2$gene) & whr_f2$gene ==\"SPSB1\",]"
   ]
  },
  {
   "cell_type": "code",
   "execution_count": 16,
   "metadata": {},
   "outputs": [
    {
     "data": {
      "text/html": [
       "<table>\n",
       "<thead><tr><th></th><th scope=col>SNP</th><th scope=col>CHR</th><th scope=col>BP</th><th scope=col>B_f</th><th scope=col>B_m</th><th scope=col>SE_f</th><th scope=col>SE_m</th><th scope=col>p_m</th><th scope=col>p_f</th><th scope=col>post</th><th scope=col>gene</th></tr></thead>\n",
       "<tbody>\n",
       "\t<tr><th scope=row>928</th><td>rs78973239 </td><td>10         </td><td>124217414  </td><td>0.0331834  </td><td>-0.00102368</td><td>0.0058132  </td><td>0.00574742 </td><td>0.858635   </td><td>1.14327e-08</td><td>0.9998593  </td><td>HTRA1      </td></tr>\n",
       "</tbody>\n",
       "</table>\n"
      ],
      "text/latex": [
       "\\begin{tabular}{r|lllllllllll}\n",
       "  & SNP & CHR & BP & B\\_f & B\\_m & SE\\_f & SE\\_m & p\\_m & p\\_f & post & gene\\\\\n",
       "\\hline\n",
       "\t928 & rs78973239  & 10          & 124217414   & 0.0331834   & -0.00102368 & 0.0058132   & 0.00574742  & 0.858635    & 1.14327e-08 & 0.9998593   & HTRA1      \\\\\n",
       "\\end{tabular}\n"
      ],
      "text/markdown": [
       "\n",
       "| <!--/--> | SNP | CHR | BP | B_f | B_m | SE_f | SE_m | p_m | p_f | post | gene | \n",
       "|---|\n",
       "| 928 | rs78973239  | 10          | 124217414   | 0.0331834   | -0.00102368 | 0.0058132   | 0.00574742  | 0.858635    | 1.14327e-08 | 0.9998593   | HTRA1       | \n",
       "\n",
       "\n"
      ],
      "text/plain": [
       "    SNP        CHR BP        B_f       B_m         SE_f      SE_m      \n",
       "928 rs78973239 10  124217414 0.0331834 -0.00102368 0.0058132 0.00574742\n",
       "    p_m      p_f         post      gene \n",
       "928 0.858635 1.14327e-08 0.9998593 HTRA1"
      ]
     },
     "metadata": {},
     "output_type": "display_data"
    },
    {
     "data": {
      "text/html": [
       "<table>\n",
       "<thead><tr><th scope=col>SNP</th><th scope=col>CHR</th><th scope=col>BP</th><th scope=col>B_f</th><th scope=col>B_m</th><th scope=col>SE_f</th><th scope=col>SE_m</th><th scope=col>p_m</th><th scope=col>p_f</th><th scope=col>post</th><th scope=col>gene</th></tr></thead>\n",
       "<tbody>\n",
       "</tbody>\n",
       "</table>\n"
      ],
      "text/latex": [
       "\\begin{tabular}{r|lllllllllll}\n",
       " SNP & CHR & BP & B\\_f & B\\_m & SE\\_f & SE\\_m & p\\_m & p\\_f & post & gene\\\\\n",
       "\\hline\n",
       "\\end{tabular}\n"
      ],
      "text/markdown": [
       "\n",
       "SNP | CHR | BP | B_f | B_m | SE_f | SE_m | p_m | p_f | post | gene | \n",
       "||\n",
       "\n",
       "\n"
      ],
      "text/plain": [
       "     SNP CHR BP B_f B_m SE_f SE_m p_m p_f post gene"
      ]
     },
     "metadata": {},
     "output_type": "display_data"
    },
    {
     "data": {
      "text/html": [
       "<table>\n",
       "<thead><tr><th></th><th scope=col>SNP</th><th scope=col>CHR</th><th scope=col>BP</th><th scope=col>B_f</th><th scope=col>B_m</th><th scope=col>SE_f</th><th scope=col>SE_m</th><th scope=col>p_m</th><th scope=col>p_f</th><th scope=col>post</th><th scope=col>gene</th></tr></thead>\n",
       "<tbody>\n",
       "\t<tr><th scope=row>1434</th><td>rs78973239 </td><td>10         </td><td>124217414  </td><td>-0.0316806 </td><td>0.00340001 </td><td>0.00580996 </td><td>0.00562776 </td><td>0.545744   </td><td>4.96591e-08</td><td>0.9997941  </td><td>HTRA1      </td></tr>\n",
       "</tbody>\n",
       "</table>\n"
      ],
      "text/latex": [
       "\\begin{tabular}{r|lllllllllll}\n",
       "  & SNP & CHR & BP & B\\_f & B\\_m & SE\\_f & SE\\_m & p\\_m & p\\_f & post & gene\\\\\n",
       "\\hline\n",
       "\t1434 & rs78973239  & 10          & 124217414   & -0.0316806  & 0.00340001  & 0.00580996  & 0.00562776  & 0.545744    & 4.96591e-08 & 0.9997941   & HTRA1      \\\\\n",
       "\\end{tabular}\n"
      ],
      "text/markdown": [
       "\n",
       "| <!--/--> | SNP | CHR | BP | B_f | B_m | SE_f | SE_m | p_m | p_f | post | gene | \n",
       "|---|\n",
       "| 1434 | rs78973239  | 10          | 124217414   | -0.0316806  | 0.00340001  | 0.00580996  | 0.00562776  | 0.545744    | 4.96591e-08 | 0.9997941   | HTRA1       | \n",
       "\n",
       "\n"
      ],
      "text/plain": [
       "     SNP        CHR BP        B_f        B_m        SE_f       SE_m      \n",
       "1434 rs78973239 10  124217414 -0.0316806 0.00340001 0.00580996 0.00562776\n",
       "     p_m      p_f         post      gene \n",
       "1434 0.545744 4.96591e-08 0.9997941 HTRA1"
      ]
     },
     "metadata": {},
     "output_type": "display_data"
    },
    {
     "data": {
      "text/html": [
       "<table>\n",
       "<thead><tr><th scope=col>SNP</th><th scope=col>CHR</th><th scope=col>BP</th><th scope=col>B_f</th><th scope=col>B_m</th><th scope=col>SE_f</th><th scope=col>SE_m</th><th scope=col>p_m</th><th scope=col>p_f</th><th scope=col>post</th><th scope=col>gene</th></tr></thead>\n",
       "<tbody>\n",
       "</tbody>\n",
       "</table>\n"
      ],
      "text/latex": [
       "\\begin{tabular}{r|lllllllllll}\n",
       " SNP & CHR & BP & B\\_f & B\\_m & SE\\_f & SE\\_m & p\\_m & p\\_f & post & gene\\\\\n",
       "\\hline\n",
       "\\end{tabular}\n"
      ],
      "text/markdown": [
       "\n",
       "SNP | CHR | BP | B_f | B_m | SE_f | SE_m | p_m | p_f | post | gene | \n",
       "||\n",
       "\n",
       "\n"
      ],
      "text/plain": [
       "     SNP CHR BP B_f B_m SE_f SE_m p_m p_f post gene"
      ]
     },
     "metadata": {},
     "output_type": "display_data"
    }
   ],
   "source": [
    "leg_f2[!is.na(leg_f2$gene) & leg_f2$gene ==\"HTRA1\",]\n",
    "arm_f2[!is.na(arm_f2$gene) & arm_f2$gene ==\"HTRA1\",]\n",
    "trunk_f2[!is.na(trunk_f2$gene) & trunk_f2$gene ==\"HTRA1\",]\n",
    "whr_f2[!is.na(whr_f2$gene) & whr_f2$gene ==\"HTRA1\",]"
   ]
  }
 ],
 "metadata": {
  "kernelspec": {
   "display_name": "R",
   "language": "R",
   "name": "ir"
  },
  "language_info": {
   "codemirror_mode": "r",
   "file_extension": ".r",
   "mimetype": "text/x-r-source",
   "name": "R",
   "pygments_lexer": "r",
   "version": "3.4.0"
  }
 },
 "nbformat": 4,
 "nbformat_minor": 2
}
