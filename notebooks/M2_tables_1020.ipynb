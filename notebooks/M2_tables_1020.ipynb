{
 "cells": [
  {
   "cell_type": "markdown",
   "metadata": {},
   "source": [
    "### M2 tables"
   ]
  },
  {
   "cell_type": "code",
   "execution_count": 4,
   "metadata": {
    "collapsed": true
   },
   "outputs": [],
   "source": [
    "require('tidyverse')\n",
    "require('data.table')\n",
    "options(stringsAsFactors=FALSE)"
   ]
  },
  {
   "cell_type": "code",
   "execution_count": 5,
   "metadata": {},
   "outputs": [
    {
     "data": {
      "text/html": [
       "<table>\n",
       "<thead><tr><th scope=col>CHROM</th><th scope=col>POS</th><th scope=col>REF</th><th scope=col>ALT</th><th scope=col>ID</th><th scope=col>Gene</th><th scope=col>Consequence</th><th scope=col>HGVSp</th><th scope=col>LoF</th><th scope=col>LoF_filter</th><th scope=col>⋯</th><th scope=col>bileve_only</th><th scope=col>filter</th><th scope=col>missingness</th><th scope=col>hwe</th><th scope=col>mcpi</th><th scope=col>gnomad_af</th><th scope=col>mgi</th><th scope=col>mgi_notes</th><th scope=col>all_filters</th><th scope=col>Gene_symbol</th></tr></thead>\n",
       "<tbody>\n",
       "\t<tr><td>1                    </td><td>723307               </td><td>C                    </td><td>G                    </td><td>rs28659788           </td><td>ENSG00000237491      </td><td>intron_variant       </td><td>                     </td><td>                     </td><td>                     </td><td>⋯                    </td><td> TRUE                </td><td>NA                   </td><td>1                    </td><td>1                    </td><td>0                    </td><td>                     </td><td>                     </td><td>                     </td><td>2                    </td><td>AL669831.5           </td></tr>\n",
       "\t<tr><td>1                    </td><td>727841               </td><td>G                    </td><td>A                    </td><td>rs116587930          </td><td>ENSG00000237491      </td><td>intron_variant       </td><td>                     </td><td>                     </td><td>                     </td><td>⋯                    </td><td>FALSE                </td><td>NA                   </td><td>1                    </td><td>1                    </td><td>0                    </td><td>                     </td><td>                     </td><td>                     </td><td>2                    </td><td>AL669831.5           </td></tr>\n",
       "\t<tr><td>1                    </td><td>729632               </td><td>C                    </td><td>T                    </td><td>rs116720794          </td><td>ENSG00000237491      </td><td>intron_variant       </td><td>                     </td><td>                     </td><td>                     </td><td>⋯                    </td><td>FALSE                </td><td>NA                   </td><td>1                    </td><td>1                    </td><td>0                    </td><td>                     </td><td>                     </td><td>                     </td><td>2                    </td><td>AL669831.5           </td></tr>\n",
       "\t<tr><td>1                    </td><td>752721               </td><td>A                    </td><td>G                    </td><td>rs3131972            </td><td>ENSG00000240453      </td><td>intron_variant       </td><td>                     </td><td>                     </td><td>                     </td><td>⋯                    </td><td>FALSE                </td><td>NA                   </td><td>0                    </td><td>1                    </td><td>0                    </td><td>                     </td><td>                     </td><td>                     </td><td>1                    </td><td>RP11-206L10.10       </td></tr>\n",
       "\t<tr><td>1                    </td><td>754105               </td><td>C                    </td><td>T                    </td><td>rs12184325           </td><td>ENSG00000177757      </td><td>splice_region_variant</td><td>                     </td><td>                     </td><td>                     </td><td>⋯                    </td><td>FALSE                </td><td>NA                   </td><td>0                    </td><td>1                    </td><td>0                    </td><td>                     </td><td>                     </td><td>                     </td><td>1                    </td><td>FAM87B               </td></tr>\n",
       "\t<tr><td>1                    </td><td>756604               </td><td>A                    </td><td>G                    </td><td>rs3131962            </td><td>ENSG00000240453      </td><td>upstream_gene_variant</td><td>                     </td><td>                     </td><td>                     </td><td>⋯                    </td><td>FALSE                </td><td>NA                   </td><td>0                    </td><td>0                    </td><td>0                    </td><td>                     </td><td>                     </td><td>                     </td><td>0                    </td><td>RP11-206L10.10       </td></tr>\n",
       "</tbody>\n",
       "</table>\n"
      ],
      "text/latex": [
       "\\begin{tabular}{r|lllllllllllllllllllllllllllllll}\n",
       " CHROM & POS & REF & ALT & ID & Gene & Consequence & HGVSp & LoF & LoF\\_filter & ⋯ & bileve\\_only & filter & missingness & hwe & mcpi & gnomad\\_af & mgi & mgi\\_notes & all\\_filters & Gene\\_symbol\\\\\n",
       "\\hline\n",
       "\t 1                       & 723307                  & C                       & G                       & rs28659788              & ENSG00000237491         & intron\\_variant        &                         &                         &                         & ⋯                       &  TRUE                   & NA                      & 1                       & 1                       & 0                       &                         &                         &                         & 2                       & AL669831.5             \\\\\n",
       "\t 1                       & 727841                  & G                       & A                       & rs116587930             & ENSG00000237491         & intron\\_variant        &                         &                         &                         & ⋯                       & FALSE                   & NA                      & 1                       & 1                       & 0                       &                         &                         &                         & 2                       & AL669831.5             \\\\\n",
       "\t 1                       & 729632                  & C                       & T                       & rs116720794             & ENSG00000237491         & intron\\_variant        &                         &                         &                         & ⋯                       & FALSE                   & NA                      & 1                       & 1                       & 0                       &                         &                         &                         & 2                       & AL669831.5             \\\\\n",
       "\t 1                       & 752721                  & A                       & G                       & rs3131972               & ENSG00000240453         & intron\\_variant        &                         &                         &                         & ⋯                       & FALSE                   & NA                      & 0                       & 1                       & 0                       &                         &                         &                         & 1                       & RP11-206L10.10         \\\\\n",
       "\t 1                         & 754105                    & C                         & T                         & rs12184325                & ENSG00000177757           & splice\\_region\\_variant &                           &                           &                           & ⋯                         & FALSE                     & NA                        & 0                         & 1                         & 0                         &                           &                           &                           & 1                         & FAM87B                   \\\\\n",
       "\t 1                         & 756604                    & A                         & G                         & rs3131962                 & ENSG00000240453           & upstream\\_gene\\_variant &                           &                           &                           & ⋯                         & FALSE                     & NA                        & 0                         & 0                         & 0                         &                           &                           &                           & 0                         & RP11-206L10.10           \\\\\n",
       "\\end{tabular}\n"
      ],
      "text/markdown": [
       "\n",
       "CHROM | POS | REF | ALT | ID | Gene | Consequence | HGVSp | LoF | LoF_filter | ⋯ | bileve_only | filter | missingness | hwe | mcpi | gnomad_af | mgi | mgi_notes | all_filters | Gene_symbol | \n",
       "|---|---|---|---|---|---|\n",
       "| 1                     | 723307                | C                     | G                     | rs28659788            | ENSG00000237491       | intron_variant        |                       |                       |                       | ⋯                     |  TRUE                 | NA                    | 1                     | 1                     | 0                     |                       |                       |                       | 2                     | AL669831.5            | \n",
       "| 1                     | 727841                | G                     | A                     | rs116587930           | ENSG00000237491       | intron_variant        |                       |                       |                       | ⋯                     | FALSE                 | NA                    | 1                     | 1                     | 0                     |                       |                       |                       | 2                     | AL669831.5            | \n",
       "| 1                     | 729632                | C                     | T                     | rs116720794           | ENSG00000237491       | intron_variant        |                       |                       |                       | ⋯                     | FALSE                 | NA                    | 1                     | 1                     | 0                     |                       |                       |                       | 2                     | AL669831.5            | \n",
       "| 1                     | 752721                | A                     | G                     | rs3131972             | ENSG00000240453       | intron_variant        |                       |                       |                       | ⋯                     | FALSE                 | NA                    | 0                     | 1                     | 0                     |                       |                       |                       | 1                     | RP11-206L10.10        | \n",
       "| 1                     | 754105                | C                     | T                     | rs12184325            | ENSG00000177757       | splice_region_variant |                       |                       |                       | ⋯                     | FALSE                 | NA                    | 0                     | 1                     | 0                     |                       |                       |                       | 1                     | FAM87B                | \n",
       "| 1                     | 756604                | A                     | G                     | rs3131962             | ENSG00000240453       | upstream_gene_variant |                       |                       |                       | ⋯                     | FALSE                 | NA                    | 0                     | 0                     | 0                     |                       |                       |                       | 0                     | RP11-206L10.10        | \n",
       "\n",
       "\n"
      ],
      "text/plain": [
       "  CHROM POS    REF ALT ID          Gene            Consequence           HGVSp\n",
       "1 1     723307 C   G   rs28659788  ENSG00000237491 intron_variant             \n",
       "2 1     727841 G   A   rs116587930 ENSG00000237491 intron_variant             \n",
       "3 1     729632 C   T   rs116720794 ENSG00000237491 intron_variant             \n",
       "4 1     752721 A   G   rs3131972   ENSG00000240453 intron_variant             \n",
       "5 1     754105 C   T   rs12184325  ENSG00000177757 splice_region_variant      \n",
       "6 1     756604 A   G   rs3131962   ENSG00000240453 upstream_gene_variant      \n",
       "  LoF LoF_filter ⋯ bileve_only filter missingness hwe mcpi gnomad_af mgi\n",
       "1                ⋯  TRUE       NA     1           1   0                 \n",
       "2                ⋯ FALSE       NA     1           1   0                 \n",
       "3                ⋯ FALSE       NA     1           1   0                 \n",
       "4                ⋯ FALSE       NA     0           1   0                 \n",
       "5                ⋯ FALSE       NA     0           1   0                 \n",
       "6                ⋯ FALSE       NA     0           0   0                 \n",
       "  mgi_notes all_filters Gene_symbol   \n",
       "1           2           AL669831.5    \n",
       "2           2           AL669831.5    \n",
       "3           2           AL669831.5    \n",
       "4           1           RP11-206L10.10\n",
       "5           1           FAM87B        \n",
       "6           0           RP11-206L10.10"
      ]
     },
     "metadata": {},
     "output_type": "display_data"
    }
   ],
   "source": [
    "variant_tab <- fread('/oak/stanford/groups/mrivas/private_data/ukbb/variant_filtering/variant_filter_table.new.tsv.gz', data.table=FALSE)\n",
    "head(variant_tab)"
   ]
  },
  {
   "cell_type": "code",
   "execution_count": 17,
   "metadata": {},
   "outputs": [
    {
     "data": {
      "text/html": [
       "<ol class=list-inline>\n",
       "\t<li>'CHROM'</li>\n",
       "\t<li>'POS'</li>\n",
       "\t<li>'REF'</li>\n",
       "\t<li>'ALT'</li>\n",
       "\t<li>'ID'</li>\n",
       "\t<li>'Gene'</li>\n",
       "\t<li>'Consequence'</li>\n",
       "\t<li>'HGVSp'</li>\n",
       "\t<li>'LoF'</li>\n",
       "\t<li>'LoF_filter'</li>\n",
       "\t<li>'LoF_flags'</li>\n",
       "\t<li>'LoF_info'</li>\n",
       "\t<li>'consequence_field'</li>\n",
       "\t<li>'f_miss'</li>\n",
       "\t<li>'f_miss_bileve'</li>\n",
       "\t<li>'f_miss_wcsg'</li>\n",
       "\t<li>'freq'</li>\n",
       "\t<li>'hwe_p'</li>\n",
       "\t<li>'maf'</li>\n",
       "\t<li>'ld_indep'</li>\n",
       "\t<li>'wcsg_only'</li>\n",
       "\t<li>'bileve_only'</li>\n",
       "\t<li>'filter'</li>\n",
       "\t<li>'missingness'</li>\n",
       "\t<li>'hwe'</li>\n",
       "\t<li>'mcpi'</li>\n",
       "\t<li>'gnomad_af'</li>\n",
       "\t<li>'mgi'</li>\n",
       "\t<li>'mgi_notes'</li>\n",
       "\t<li>'all_filters'</li>\n",
       "\t<li>'Gene_symbol'</li>\n",
       "</ol>\n"
      ],
      "text/latex": [
       "\\begin{enumerate*}\n",
       "\\item 'CHROM'\n",
       "\\item 'POS'\n",
       "\\item 'REF'\n",
       "\\item 'ALT'\n",
       "\\item 'ID'\n",
       "\\item 'Gene'\n",
       "\\item 'Consequence'\n",
       "\\item 'HGVSp'\n",
       "\\item 'LoF'\n",
       "\\item 'LoF\\_filter'\n",
       "\\item 'LoF\\_flags'\n",
       "\\item 'LoF\\_info'\n",
       "\\item 'consequence\\_field'\n",
       "\\item 'f\\_miss'\n",
       "\\item 'f\\_miss\\_bileve'\n",
       "\\item 'f\\_miss\\_wcsg'\n",
       "\\item 'freq'\n",
       "\\item 'hwe\\_p'\n",
       "\\item 'maf'\n",
       "\\item 'ld\\_indep'\n",
       "\\item 'wcsg\\_only'\n",
       "\\item 'bileve\\_only'\n",
       "\\item 'filter'\n",
       "\\item 'missingness'\n",
       "\\item 'hwe'\n",
       "\\item 'mcpi'\n",
       "\\item 'gnomad\\_af'\n",
       "\\item 'mgi'\n",
       "\\item 'mgi\\_notes'\n",
       "\\item 'all\\_filters'\n",
       "\\item 'Gene\\_symbol'\n",
       "\\end{enumerate*}\n"
      ],
      "text/markdown": [
       "1. 'CHROM'\n",
       "2. 'POS'\n",
       "3. 'REF'\n",
       "4. 'ALT'\n",
       "5. 'ID'\n",
       "6. 'Gene'\n",
       "7. 'Consequence'\n",
       "8. 'HGVSp'\n",
       "9. 'LoF'\n",
       "10. 'LoF_filter'\n",
       "11. 'LoF_flags'\n",
       "12. 'LoF_info'\n",
       "13. 'consequence_field'\n",
       "14. 'f_miss'\n",
       "15. 'f_miss_bileve'\n",
       "16. 'f_miss_wcsg'\n",
       "17. 'freq'\n",
       "18. 'hwe_p'\n",
       "19. 'maf'\n",
       "20. 'ld_indep'\n",
       "21. 'wcsg_only'\n",
       "22. 'bileve_only'\n",
       "23. 'filter'\n",
       "24. 'missingness'\n",
       "25. 'hwe'\n",
       "26. 'mcpi'\n",
       "27. 'gnomad_af'\n",
       "28. 'mgi'\n",
       "29. 'mgi_notes'\n",
       "30. 'all_filters'\n",
       "31. 'Gene_symbol'\n",
       "\n",
       "\n"
      ],
      "text/plain": [
       " [1] \"CHROM\"             \"POS\"               \"REF\"              \n",
       " [4] \"ALT\"               \"ID\"                \"Gene\"             \n",
       " [7] \"Consequence\"       \"HGVSp\"             \"LoF\"              \n",
       "[10] \"LoF_filter\"        \"LoF_flags\"         \"LoF_info\"         \n",
       "[13] \"consequence_field\" \"f_miss\"            \"f_miss_bileve\"    \n",
       "[16] \"f_miss_wcsg\"       \"freq\"              \"hwe_p\"            \n",
       "[19] \"maf\"               \"ld_indep\"          \"wcsg_only\"        \n",
       "[22] \"bileve_only\"       \"filter\"            \"missingness\"      \n",
       "[25] \"hwe\"               \"mcpi\"              \"gnomad_af\"        \n",
       "[28] \"mgi\"               \"mgi_notes\"         \"all_filters\"      \n",
       "[31] \"Gene_symbol\"      "
      ]
     },
     "metadata": {},
     "output_type": "display_data"
    }
   ],
   "source": [
    "colnames(variant_tab)\n",
    "variant_sm <- variant_tab %>% select(ID, POS, REF, ALT, Gene_symbol, maf, HGVSp) \n"
   ]
  },
  {
   "cell_type": "code",
   "execution_count": 34,
   "metadata": {},
   "outputs": [
    {
     "data": {
      "text/html": [
       "<table>\n",
       "<thead><tr><th scope=col>ID</th><th scope=col>POS</th><th scope=col>REF</th><th scope=col>ALT</th><th scope=col>Gene_symbol</th><th scope=col>maf</th><th scope=col>HGVSp</th><th scope=col>CHR</th><th scope=col>B.f</th><th scope=col>B.m</th><th scope=col>⋯</th><th scope=col>SE.m</th><th scope=col>P.f</th><th scope=col>P.m</th><th scope=col>p1</th><th scope=col>p2</th><th scope=col>p3</th><th scope=col>p4</th><th scope=col>category</th><th scope=col>gene</th><th scope=col>trait</th></tr></thead>\n",
       "<tbody>\n",
       "\t<tr><td>Affx-15837191                </td><td> 3752874                     </td><td>A                            </td><td>G                            </td><td>APBA3                        </td><td>0.45243249                   </td><td>ENSP00000315136.2:p.Cys376Arg</td><td>19                           </td><td>-0.0111695                   </td><td>-0.02246090                  </td><td>⋯                            </td><td>1.388680e-05                 </td><td> 1.26170e-03                 </td><td> 1.67073e-09                 </td><td> 7.516764e-06                </td><td> 1.463738e-11                </td><td> 6.029481e-06                </td><td>0.9999865                    </td><td>4                            </td><td>APBA3                        </td><td>Alanine_aminotransferase     </td></tr>\n",
       "\t<tr><td>Affx-19716376                </td><td>44332888                     </td><td>T                            </td><td>TC                           </td><td>PNPLA3                       </td><td>0.16295230                   </td><td>                             </td><td>22                           </td><td> 0.1077040                   </td><td> 0.10973200                  </td><td>⋯                            </td><td>2.480588e-05                 </td><td>6.15256e-119                 </td><td>2.11911e-107                 </td><td>4.133258e-217                </td><td>5.073164e-108                </td><td>1.456869e-119                </td><td>1.0000000                    </td><td>4                            </td><td>PNPLA3                       </td><td>Alanine_aminotransferase     </td></tr>\n",
       "\t<tr><td>Affx-20090007                </td><td>44066247                     </td><td>G                            </td><td>C                            </td><td>ABCG8                        </td><td>0.06540481                   </td><td>ENSP00000272286.2:p.Asp19His </td><td>2                            </td><td> 0.0588241                   </td><td> 0.03247850                  </td><td>⋯                            </td><td>5.571264e-05                 </td><td> 2.44843e-17                 </td><td> 1.35421e-05                 </td><td> 8.457752e-16                </td><td> 6.971725e-08                </td><td> 2.269121e-19                </td><td>0.9999999                    </td><td>4                            </td><td>ABCG8                        </td><td>Alanine_aminotransferase     </td></tr>\n",
       "\t<tr><td>Affx-22413417                </td><td>50176739                     </td><td>C                            </td><td>A                            </td><td>SEMA3F-AS1                   </td><td>0.25722407                   </td><td>                             </td><td>3                            </td><td>-0.0184957                   </td><td>-0.00766103                  </td><td>⋯                            </td><td>1.781574e-05                 </td><td> 2.43861e-06                 </td><td> 6.95206e-02                 </td><td> 1.876171e-01                </td><td> 1.524191e-04                </td><td> 1.143639e-08                </td><td>0.8122305                    </td><td>4                            </td><td>LOC100129060                 </td><td>Alanine_aminotransferase     </td></tr>\n",
       "\t<tr><td>Affx-26682790                </td><td>52193237                     </td><td>A                            </td><td>G                            </td><td>ITGA1                        </td><td>0.08134591                   </td><td>                             </td><td>5                            </td><td> 0.0178112                   </td><td> 0.03664070                  </td><td>⋯                            </td><td>4.581774e-05                 </td><td> 4.52681e-03                 </td><td> 6.20354e-08                 </td><td> 2.804715e-04                </td><td> 3.072548e-10                </td><td> 1.217277e-05                </td><td>0.9997074                    </td><td>4                            </td><td>ITGA1                        </td><td>Alanine_aminotransferase     </td></tr>\n",
       "\t<tr><td>Affx-28463585                </td><td>31830593                     </td><td>A                            </td><td>C                            </td><td>NEU1                         </td><td>0.02988194                   </td><td>                             </td><td>6                            </td><td> 0.0401167                   </td><td> 0.03464710                  </td><td>⋯                            </td><td>1.199748e-04                 </td><td> 6.66880e-05                 </td><td> 1.56100e-03                 </td><td> 3.699061e-02                </td><td> 3.280478e-06                </td><td> 1.676937e-07                </td><td>0.9630059                    </td><td>4                            </td><td>NEU1                         </td><td>Alanine_aminotransferase     </td></tr>\n",
       "</tbody>\n",
       "</table>\n"
      ],
      "text/latex": [
       "\\begin{tabular}{r|lllllllllllllllllllll}\n",
       " ID & POS & REF & ALT & Gene\\_symbol & maf & HGVSp & CHR & B.f & B.m & ⋯ & SE.m & P.f & P.m & p1 & p2 & p3 & p4 & category & gene & trait\\\\\n",
       "\\hline\n",
       "\t Affx-15837191                 &  3752874                      & A                             & G                             & APBA3                         & 0.45243249                    & ENSP00000315136.2:p.Cys376Arg & 19                            & -0.0111695                    & -0.02246090                   & ⋯                             & 1.388680e-05                  &  1.26170e-03                  &  1.67073e-09                  &  7.516764e-06                 &  1.463738e-11                 &  6.029481e-06                 & 0.9999865                     & 4                             & APBA3                         & Alanine\\_aminotransferase   \\\\\n",
       "\t Affx-19716376                 & 44332888                      & T                             & TC                            & PNPLA3                        & 0.16295230                    &                               & 22                            &  0.1077040                    &  0.10973200                   & ⋯                             & 2.480588e-05                  & 6.15256e-119                  & 2.11911e-107                  & 4.133258e-217                 & 5.073164e-108                 & 1.456869e-119                 & 1.0000000                     & 4                             & PNPLA3                        & Alanine\\_aminotransferase   \\\\\n",
       "\t Affx-20090007                 & 44066247                      & G                             & C                             & ABCG8                         & 0.06540481                    & ENSP00000272286.2:p.Asp19His  & 2                             &  0.0588241                    &  0.03247850                   & ⋯                             & 5.571264e-05                  &  2.44843e-17                  &  1.35421e-05                  &  8.457752e-16                 &  6.971725e-08                 &  2.269121e-19                 & 0.9999999                     & 4                             & ABCG8                         & Alanine\\_aminotransferase   \\\\\n",
       "\t Affx-22413417                 & 50176739                      & C                             & A                             & SEMA3F-AS1                    & 0.25722407                    &                               & 3                             & -0.0184957                    & -0.00766103                   & ⋯                             & 1.781574e-05                  &  2.43861e-06                  &  6.95206e-02                  &  1.876171e-01                 &  1.524191e-04                 &  1.143639e-08                 & 0.8122305                     & 4                             & LOC100129060                  & Alanine\\_aminotransferase   \\\\\n",
       "\t Affx-26682790                 & 52193237                      & A                             & G                             & ITGA1                         & 0.08134591                    &                               & 5                             &  0.0178112                    &  0.03664070                   & ⋯                             & 4.581774e-05                  &  4.52681e-03                  &  6.20354e-08                  &  2.804715e-04                 &  3.072548e-10                 &  1.217277e-05                 & 0.9997074                     & 4                             & ITGA1                         & Alanine\\_aminotransferase   \\\\\n",
       "\t Affx-28463585                 & 31830593                      & A                             & C                             & NEU1                          & 0.02988194                    &                               & 6                             &  0.0401167                    &  0.03464710                   & ⋯                             & 1.199748e-04                  &  6.66880e-05                  &  1.56100e-03                  &  3.699061e-02                 &  3.280478e-06                 &  1.676937e-07                 & 0.9630059                     & 4                             & NEU1                          & Alanine\\_aminotransferase   \\\\\n",
       "\\end{tabular}\n"
      ],
      "text/markdown": [
       "\n",
       "ID | POS | REF | ALT | Gene_symbol | maf | HGVSp | CHR | B.f | B.m | ⋯ | SE.m | P.f | P.m | p1 | p2 | p3 | p4 | category | gene | trait | \n",
       "|---|---|---|---|---|---|\n",
       "| Affx-15837191                 |  3752874                      | A                             | G                             | APBA3                         | 0.45243249                    | ENSP00000315136.2:p.Cys376Arg | 19                            | -0.0111695                    | -0.02246090                   | ⋯                             | 1.388680e-05                  |  1.26170e-03                  |  1.67073e-09                  |  7.516764e-06                 |  1.463738e-11                 |  6.029481e-06                 | 0.9999865                     | 4                             | APBA3                         | Alanine_aminotransferase      | \n",
       "| Affx-19716376                 | 44332888                      | T                             | TC                            | PNPLA3                        | 0.16295230                    |                               | 22                            |  0.1077040                    |  0.10973200                   | ⋯                             | 2.480588e-05                  | 6.15256e-119                  | 2.11911e-107                  | 4.133258e-217                 | 5.073164e-108                 | 1.456869e-119                 | 1.0000000                     | 4                             | PNPLA3                        | Alanine_aminotransferase      | \n",
       "| Affx-20090007                 | 44066247                      | G                             | C                             | ABCG8                         | 0.06540481                    | ENSP00000272286.2:p.Asp19His  | 2                             |  0.0588241                    |  0.03247850                   | ⋯                             | 5.571264e-05                  |  2.44843e-17                  |  1.35421e-05                  |  8.457752e-16                 |  6.971725e-08                 |  2.269121e-19                 | 0.9999999                     | 4                             | ABCG8                         | Alanine_aminotransferase      | \n",
       "| Affx-22413417                 | 50176739                      | C                             | A                             | SEMA3F-AS1                    | 0.25722407                    |                               | 3                             | -0.0184957                    | -0.00766103                   | ⋯                             | 1.781574e-05                  |  2.43861e-06                  |  6.95206e-02                  |  1.876171e-01                 |  1.524191e-04                 |  1.143639e-08                 | 0.8122305                     | 4                             | LOC100129060                  | Alanine_aminotransferase      | \n",
       "| Affx-26682790                 | 52193237                      | A                             | G                             | ITGA1                         | 0.08134591                    |                               | 5                             |  0.0178112                    |  0.03664070                   | ⋯                             | 4.581774e-05                  |  4.52681e-03                  |  6.20354e-08                  |  2.804715e-04                 |  3.072548e-10                 |  1.217277e-05                 | 0.9997074                     | 4                             | ITGA1                         | Alanine_aminotransferase      | \n",
       "| Affx-28463585                 | 31830593                      | A                             | C                             | NEU1                          | 0.02988194                    |                               | 6                             |  0.0401167                    |  0.03464710                   | ⋯                             | 1.199748e-04                  |  6.66880e-05                  |  1.56100e-03                  |  3.699061e-02                 |  3.280478e-06                 |  1.676937e-07                 | 0.9630059                     | 4                             | NEU1                          | Alanine_aminotransferase      | \n",
       "\n",
       "\n"
      ],
      "text/plain": [
       "  ID            POS      REF ALT Gene_symbol maf       \n",
       "1 Affx-15837191  3752874 A   G   APBA3       0.45243249\n",
       "2 Affx-19716376 44332888 T   TC  PNPLA3      0.16295230\n",
       "3 Affx-20090007 44066247 G   C   ABCG8       0.06540481\n",
       "4 Affx-22413417 50176739 C   A   SEMA3F-AS1  0.25722407\n",
       "5 Affx-26682790 52193237 A   G   ITGA1       0.08134591\n",
       "6 Affx-28463585 31830593 A   C   NEU1        0.02988194\n",
       "  HGVSp                         CHR B.f        B.m         ⋯ SE.m        \n",
       "1 ENSP00000315136.2:p.Cys376Arg 19  -0.0111695 -0.02246090 ⋯ 1.388680e-05\n",
       "2                               22   0.1077040  0.10973200 ⋯ 2.480588e-05\n",
       "3 ENSP00000272286.2:p.Asp19His  2    0.0588241  0.03247850 ⋯ 5.571264e-05\n",
       "4                               3   -0.0184957 -0.00766103 ⋯ 1.781574e-05\n",
       "5                               5    0.0178112  0.03664070 ⋯ 4.581774e-05\n",
       "6                               6    0.0401167  0.03464710 ⋯ 1.199748e-04\n",
       "  P.f          P.m          p1            p2            p3            p4       \n",
       "1  1.26170e-03  1.67073e-09  7.516764e-06  1.463738e-11  6.029481e-06 0.9999865\n",
       "2 6.15256e-119 2.11911e-107 4.133258e-217 5.073164e-108 1.456869e-119 1.0000000\n",
       "3  2.44843e-17  1.35421e-05  8.457752e-16  6.971725e-08  2.269121e-19 0.9999999\n",
       "4  2.43861e-06  6.95206e-02  1.876171e-01  1.524191e-04  1.143639e-08 0.8122305\n",
       "5  4.52681e-03  6.20354e-08  2.804715e-04  3.072548e-10  1.217277e-05 0.9997074\n",
       "6  6.66880e-05  1.56100e-03  3.699061e-02  3.280478e-06  1.676937e-07 0.9630059\n",
       "  category gene         trait                   \n",
       "1 4        APBA3        Alanine_aminotransferase\n",
       "2 4        PNPLA3       Alanine_aminotransferase\n",
       "3 4        ABCG8        Alanine_aminotransferase\n",
       "4 4        LOC100129060 Alanine_aminotransferase\n",
       "5 4        ITGA1        Alanine_aminotransferase\n",
       "6 4        NEU1         Alanine_aminotransferase"
      ]
     },
     "metadata": {},
     "output_type": "display_data"
    }
   ],
   "source": [
    "M2.DIR <- \"../data/1020/m2/\"\n",
    "\n",
    "# read in all files\n",
    "my_files <- list.files(M2.DIR, pattern=\"snps4_*\")\n",
    "m2_biomarkers <- sapply(my_files, function(x) strsplit(strsplit(x, \"snps4_\",fixed=TRUE)[[1]][[2]], \".txt\")[[1]][[1]])\n",
    "\n",
    "snps <- do.call(rbind, lapply(m2_biomarkers, function(x) {\n",
    "    df <- read.table(sprintf(\"%s/snps4_%s.txt\", M2.DIR, x), sep=\" \", header=TRUE); \n",
    "    df$trait <- rep(x, nrow(df)); \n",
    "    return(df)}))\n",
    "\n",
    "# filter variant data to speed up\n",
    "variant_short <- variant_sm %>% filter(ID %in% snps$SNP)\n",
    "\n"
   ]
  },
  {
   "cell_type": "code",
   "execution_count": 46,
   "metadata": {},
   "outputs": [
    {
     "data": {
      "text/html": [
       "<table>\n",
       "<thead><tr><th scope=col>ID</th><th scope=col>CHR</th><th scope=col>POS</th><th scope=col>REF</th><th scope=col>ALT</th></tr></thead>\n",
       "<tbody>\n",
       "\t<tr><td>rs34557243 </td><td>XY         </td><td> 60425     </td><td>C          </td><td>A          </td></tr>\n",
       "\t<tr><td>rs28494123 </td><td>XY         </td><td> 60454     </td><td>A          </td><td>G          </td></tr>\n",
       "\t<tr><td>rs28590175 </td><td>XY         </td><td> 61067     </td><td>A          </td><td>G          </td></tr>\n",
       "\t<tr><td>rs117654552</td><td>XY         </td><td> 62079     </td><td>C          </td><td>G          </td></tr>\n",
       "\t<tr><td>rs28491545 </td><td>XY         </td><td> 62615     </td><td>A          </td><td>C          </td></tr>\n",
       "\t<tr><td>rs73174453 </td><td>XY         </td><td>167755     </td><td>G          </td><td>T          </td></tr>\n",
       "</tbody>\n",
       "</table>\n"
      ],
      "text/latex": [
       "\\begin{tabular}{r|lllll}\n",
       " ID & CHR & POS & REF & ALT\\\\\n",
       "\\hline\n",
       "\t rs34557243  & XY          &  60425      & C           & A          \\\\\n",
       "\t rs28494123  & XY          &  60454      & A           & G          \\\\\n",
       "\t rs28590175  & XY          &  61067      & A           & G          \\\\\n",
       "\t rs117654552 & XY          &  62079      & C           & G          \\\\\n",
       "\t rs28491545  & XY          &  62615      & A           & C          \\\\\n",
       "\t rs73174453  & XY          & 167755      & G           & T          \\\\\n",
       "\\end{tabular}\n"
      ],
      "text/markdown": [
       "\n",
       "ID | CHR | POS | REF | ALT | \n",
       "|---|---|---|---|---|---|\n",
       "| rs34557243  | XY          |  60425      | C           | A           | \n",
       "| rs28494123  | XY          |  60454      | A           | G           | \n",
       "| rs28590175  | XY          |  61067      | A           | G           | \n",
       "| rs117654552 | XY          |  62079      | C           | G           | \n",
       "| rs28491545  | XY          |  62615      | A           | C           | \n",
       "| rs73174453  | XY          | 167755      | G           | T           | \n",
       "\n",
       "\n"
      ],
      "text/plain": [
       "  ID          CHR POS    REF ALT\n",
       "1 rs34557243  XY   60425 C   A  \n",
       "2 rs28494123  XY   60454 A   G  \n",
       "3 rs28590175  XY   61067 A   G  \n",
       "4 rs117654552 XY   62079 C   G  \n",
       "5 rs28491545  XY   62615 A   C  \n",
       "6 rs73174453  XY  167755 G   T  "
      ]
     },
     "metadata": {},
     "output_type": "display_data"
    }
   ],
   "source": [
    "# we're missing X chromosome annotations!\n",
    "gwas_file <- fread(\"../gwas1015_ss/ukb24983_v2_hg19.Alanine_aminotransferase_onesex.genotyped.glm.linear\", data.table=FALSE)\n",
    "x_pos <- gwas_file %>% rename(\"CHR\"=\"#CHROM\") %>% filter(CHR %in% c(\"X\", \"XY\")) %>% select(ID, CHR, POS, REF, ALT)\n",
    "x_pos %>% head()\n"
   ]
  },
  {
   "cell_type": "code",
   "execution_count": 57,
   "metadata": {},
   "outputs": [
    {
     "data": {
      "text/html": [
       "<table>\n",
       "<thead><tr><th scope=col>SNP</th><th scope=col>MAF</th></tr></thead>\n",
       "<tbody>\n",
       "\t<tr><td>Affx-34464730</td><td>0.821453     </td></tr>\n",
       "\t<tr><td>Affx-34470541</td><td>0.998817     </td></tr>\n",
       "\t<tr><td>Affx-34480971</td><td>0.987194     </td></tr>\n",
       "\t<tr><td>Affx-34492707</td><td>0.988038     </td></tr>\n",
       "\t<tr><td>Affx-34492709</td><td>0.224857     </td></tr>\n",
       "\t<tr><td>Affx-34494619</td><td>0.767836     </td></tr>\n",
       "</tbody>\n",
       "</table>\n"
      ],
      "text/latex": [
       "\\begin{tabular}{r|ll}\n",
       " SNP & MAF\\\\\n",
       "\\hline\n",
       "\t Affx-34464730 & 0.821453     \\\\\n",
       "\t Affx-34470541 & 0.998817     \\\\\n",
       "\t Affx-34480971 & 0.987194     \\\\\n",
       "\t Affx-34492707 & 0.988038     \\\\\n",
       "\t Affx-34492709 & 0.224857     \\\\\n",
       "\t Affx-34494619 & 0.767836     \\\\\n",
       "\\end{tabular}\n"
      ],
      "text/markdown": [
       "\n",
       "SNP | MAF | \n",
       "|---|---|---|---|---|---|\n",
       "| Affx-34464730 | 0.821453      | \n",
       "| Affx-34470541 | 0.998817      | \n",
       "| Affx-34480971 | 0.987194      | \n",
       "| Affx-34492707 | 0.988038      | \n",
       "| Affx-34492709 | 0.224857      | \n",
       "| Affx-34494619 | 0.767836      | \n",
       "\n",
       "\n"
      ],
      "text/plain": [
       "  SNP           MAF     \n",
       "1 Affx-34464730 0.821453\n",
       "2 Affx-34470541 0.998817\n",
       "3 Affx-34480971 0.987194\n",
       "4 Affx-34492707 0.988038\n",
       "5 Affx-34492709 0.224857\n",
       "6 Affx-34494619 0.767836"
      ]
     },
     "metadata": {},
     "output_type": "display_data"
    }
   ],
   "source": [
    "# we can get MAF from my table, BP from a GWAS table, we have some gene symbol data?\n",
    "chrX <- read.table(\"../data/chr_qc/chrX_qc_table.txt\", header=TRUE)\n",
    "chrXY <- read.table(\"../data/chr_qc/chrXY_qc_table.txt\", header=TRUE)\n",
    "\n",
    "xxy_maf <- do.call(rbind, list(chrX %>% select(SNP, MAF), chrXY %>% select(SNP, MAF)))\n",
    "xxy_maf %>% head()\n"
   ]
  },
  {
   "cell_type": "code",
   "execution_count": 59,
   "metadata": {
    "collapsed": true
   },
   "outputs": [],
   "source": [
    "x_tab <- full_join(x_pos, xxy_maf, by=c(\"ID\"=\"SNP\"))\n",
    "write_tsv(x_tab, \"../data/x_variant_info.txt\")\n"
   ]
  },
  {
   "cell_type": "code",
   "execution_count": 64,
   "metadata": {},
   "outputs": [
    {
     "data": {
      "text/html": [
       "<table>\n",
       "<thead><tr><th scope=col>gene</th><th scope=col>snp</th></tr></thead>\n",
       "<tbody>\n",
       "\t<tr><td>BTK          </td><td>Affx-34464730</td></tr>\n",
       "\t<tr><td>GPRASP1      </td><td>Affx-34470541</td></tr>\n",
       "\t<tr><td>IL1RAPL2     </td><td>Affx-34480971</td></tr>\n",
       "\t<tr><td>COL4A6       </td><td>Affx-34492707</td></tr>\n",
       "\t<tr><td>COL4A6       </td><td>Affx-34492709</td></tr>\n",
       "\t<tr><td>IRS4         </td><td>Affx-34494619</td></tr>\n",
       "</tbody>\n",
       "</table>\n"
      ],
      "text/latex": [
       "\\begin{tabular}{r|ll}\n",
       " gene & snp\\\\\n",
       "\\hline\n",
       "\t BTK           & Affx-34464730\\\\\n",
       "\t GPRASP1       & Affx-34470541\\\\\n",
       "\t IL1RAPL2      & Affx-34480971\\\\\n",
       "\t COL4A6        & Affx-34492707\\\\\n",
       "\t COL4A6        & Affx-34492709\\\\\n",
       "\t IRS4          & Affx-34494619\\\\\n",
       "\\end{tabular}\n"
      ],
      "text/markdown": [
       "\n",
       "gene | snp | \n",
       "|---|---|---|---|---|---|\n",
       "| BTK           | Affx-34464730 | \n",
       "| GPRASP1       | Affx-34470541 | \n",
       "| IL1RAPL2      | Affx-34480971 | \n",
       "| COL4A6        | Affx-34492707 | \n",
       "| COL4A6        | Affx-34492709 | \n",
       "| IRS4          | Affx-34494619 | \n",
       "\n",
       "\n"
      ],
      "text/plain": [
       "  gene     snp          \n",
       "1 BTK      Affx-34464730\n",
       "2 GPRASP1  Affx-34470541\n",
       "3 IL1RAPL2 Affx-34480971\n",
       "4 COL4A6   Affx-34492707\n",
       "5 COL4A6   Affx-34492709\n",
       "6 IRS4     Affx-34494619"
      ]
     },
     "metadata": {},
     "output_type": "display_data"
    }
   ],
   "source": [
    "snp_gene <- read.table(\"../data/snp_gene_table.txt\", sep=\" \", header=TRUE)\n",
    "xxy_snp <- snp_gene %>% filter(snp %in% x_tab$ID)\n",
    "head(xxy_snp)"
   ]
  },
  {
   "cell_type": "code",
   "execution_count": 70,
   "metadata": {},
   "outputs": [
    {
     "data": {
      "text/html": [
       "<table>\n",
       "<thead><tr><th scope=col>CHR</th><th scope=col>n</th></tr></thead>\n",
       "<tbody>\n",
       "\t<tr><td>X   </td><td>6637</td></tr>\n",
       "\t<tr><td>XY  </td><td> 171</td></tr>\n",
       "</tbody>\n",
       "</table>\n"
      ],
      "text/latex": [
       "\\begin{tabular}{r|ll}\n",
       " CHR & n\\\\\n",
       "\\hline\n",
       "\t X    & 6637\\\\\n",
       "\t XY   &  171\\\\\n",
       "\\end{tabular}\n"
      ],
      "text/markdown": [
       "\n",
       "CHR | n | \n",
       "|---|---|\n",
       "| X    | 6637 | \n",
       "| XY   |  171 | \n",
       "\n",
       "\n"
      ],
      "text/plain": [
       "  CHR n   \n",
       "1 X   6637\n",
       "2 XY   171"
      ]
     },
     "metadata": {},
     "output_type": "display_data"
    },
    {
     "data": {
      "text/html": [
       "<table>\n",
       "<thead><tr><th scope=col>CHR</th><th scope=col>n</th></tr></thead>\n",
       "<tbody>\n",
       "\t<tr><td>X    </td><td>12220</td></tr>\n",
       "\t<tr><td>XY   </td><td> 1186</td></tr>\n",
       "</tbody>\n",
       "</table>\n"
      ],
      "text/latex": [
       "\\begin{tabular}{r|ll}\n",
       " CHR & n\\\\\n",
       "\\hline\n",
       "\t X     & 12220\\\\\n",
       "\t XY    &  1186\\\\\n",
       "\\end{tabular}\n"
      ],
      "text/markdown": [
       "\n",
       "CHR | n | \n",
       "|---|---|\n",
       "| X     | 12220 | \n",
       "| XY    |  1186 | \n",
       "\n",
       "\n"
      ],
      "text/plain": [
       "  CHR n    \n",
       "1 X   12220\n",
       "2 XY   1186"
      ]
     },
     "metadata": {},
     "output_type": "display_data"
    }
   ],
   "source": [
    "x_w_g <- left_join(x_tab, xxy_snp, by=c(\"ID\"=\"snp\"))\n",
    "\n",
    "x_w_g %>% filter(is.na(gene)) %>% group_by(CHR) %>% count()\n",
    "x_w_g %>% filter(!is.na(gene)) %>% group_by(CHR) %>% count()"
   ]
  },
  {
   "cell_type": "code",
   "execution_count": 73,
   "metadata": {},
   "outputs": [
    {
     "data": {
      "text/html": [
       "<table>\n",
       "<thead><tr><th scope=col>ID</th><th scope=col>CHR</th><th scope=col>POS</th><th scope=col>REF</th><th scope=col>ALT</th><th scope=col>MAF</th><th scope=col>gene</th></tr></thead>\n",
       "<tbody>\n",
       "\t<tr><td>rs34557243 </td><td>XY         </td><td> 60425     </td><td>C          </td><td>A          </td><td>0.961390   </td><td>NA         </td></tr>\n",
       "\t<tr><td>rs28494123 </td><td>XY         </td><td> 60454     </td><td>A          </td><td>G          </td><td>0.481242   </td><td>NA         </td></tr>\n",
       "\t<tr><td>rs28590175 </td><td>XY         </td><td> 61067     </td><td>A          </td><td>G          </td><td>0.953109   </td><td>NA         </td></tr>\n",
       "\t<tr><td>rs117654552</td><td>XY         </td><td> 62079     </td><td>C          </td><td>G          </td><td>0.960478   </td><td>NA         </td></tr>\n",
       "\t<tr><td>rs28491545 </td><td>XY         </td><td> 62615     </td><td>A          </td><td>C          </td><td>0.478833   </td><td>NA         </td></tr>\n",
       "\t<tr><td>rs73174453 </td><td>XY         </td><td>167755     </td><td>G          </td><td>T          </td><td>0.462018   </td><td>NA         </td></tr>\n",
       "</tbody>\n",
       "</table>\n"
      ],
      "text/latex": [
       "\\begin{tabular}{r|lllllll}\n",
       " ID & CHR & POS & REF & ALT & MAF & gene\\\\\n",
       "\\hline\n",
       "\t rs34557243  & XY          &  60425      & C           & A           & 0.961390    & NA         \\\\\n",
       "\t rs28494123  & XY          &  60454      & A           & G           & 0.481242    & NA         \\\\\n",
       "\t rs28590175  & XY          &  61067      & A           & G           & 0.953109    & NA         \\\\\n",
       "\t rs117654552 & XY          &  62079      & C           & G           & 0.960478    & NA         \\\\\n",
       "\t rs28491545  & XY          &  62615      & A           & C           & 0.478833    & NA         \\\\\n",
       "\t rs73174453  & XY          & 167755      & G           & T           & 0.462018    & NA         \\\\\n",
       "\\end{tabular}\n"
      ],
      "text/markdown": [
       "\n",
       "ID | CHR | POS | REF | ALT | MAF | gene | \n",
       "|---|---|---|---|---|---|\n",
       "| rs34557243  | XY          |  60425      | C           | A           | 0.961390    | NA          | \n",
       "| rs28494123  | XY          |  60454      | A           | G           | 0.481242    | NA          | \n",
       "| rs28590175  | XY          |  61067      | A           | G           | 0.953109    | NA          | \n",
       "| rs117654552 | XY          |  62079      | C           | G           | 0.960478    | NA          | \n",
       "| rs28491545  | XY          |  62615      | A           | C           | 0.478833    | NA          | \n",
       "| rs73174453  | XY          | 167755      | G           | T           | 0.462018    | NA          | \n",
       "\n",
       "\n"
      ],
      "text/plain": [
       "  ID          CHR POS    REF ALT MAF      gene\n",
       "1 rs34557243  XY   60425 C   A   0.961390 NA  \n",
       "2 rs28494123  XY   60454 A   G   0.481242 NA  \n",
       "3 rs28590175  XY   61067 A   G   0.953109 NA  \n",
       "4 rs117654552 XY   62079 C   G   0.960478 NA  \n",
       "5 rs28491545  XY   62615 A   C   0.478833 NA  \n",
       "6 rs73174453  XY  167755 G   T   0.462018 NA  "
      ]
     },
     "metadata": {},
     "output_type": "display_data"
    },
    {
     "data": {
      "text/html": [
       "<table>\n",
       "<thead><tr><th scope=col>ID</th><th scope=col>POS</th><th scope=col>REF</th><th scope=col>ALT</th><th scope=col>Gene_symbol</th><th scope=col>maf</th><th scope=col>HGVSp</th></tr></thead>\n",
       "<tbody>\n",
       "\t<tr><td>rs4970383                                                                                                             </td><td> 838555                                                                                                               </td><td>C                                                                                                                     </td><td>A                                                                                                                     </td><td>AL645608.6                                                                                                            </td><td>0.24553333                                                                                                            </td><td>                                                                                                                      </td></tr>\n",
       "\t<tr><td>rs13303065                                                                                                            </td><td> 891059                                                                                                               </td><td>C                                                                                                                     </td><td>T                                                                                                                     </td><td>NOC2L                                                                                                                 </td><td>0.34523622                                                                                                            </td><td>                                                                                                                      </td></tr>\n",
       "\t<tr><td>rs3829740                                                                                                             </td><td> 909238                                                                                                               </td><td>G                                                                                                                     </td><td>C                                                                                                                     </td><td>PLEKHN1                                                                                                               </td><td>0.43165099                                                                                                            </td><td>ENSP00000462558.1:p.Arg52Pro,ENSP00000368720.3:p.Arg487Pro,ENSP00000368719.2:p.Arg539Pro,ENSP00000368717.2:p.Arg452Pro</td></tr>\n",
       "\t<tr><td>rs28869591                                                                                                            </td><td> 920640                                                                                                               </td><td>C                                                                                                                     </td><td>T                                                                                                                     </td><td>PERM1                                                                                                                 </td><td>0.16179403                                                                                                            </td><td>                                                                                                                      </td></tr>\n",
       "\t<tr><td>rs2710887                                                                                                             </td><td> 986443                                                                                                               </td><td>C                                                                                                                     </td><td>T                                                                                                                     </td><td>AGRN                                                                                                                  </td><td>0.08425568                                                                                                            </td><td>                                                                                                                      </td></tr>\n",
       "\t<tr><td>rs9651273                                                                                                             </td><td>1031540                                                                                                               </td><td>A                                                                                                                     </td><td>G                                                                                                                     </td><td>C1orf159                                                                                                              </td><td>0.27136542                                                                                                            </td><td>                                                                                                                      </td></tr>\n",
       "</tbody>\n",
       "</table>\n"
      ],
      "text/latex": [
       "\\begin{tabular}{r|lllllll}\n",
       " ID & POS & REF & ALT & Gene\\_symbol & maf & HGVSp\\\\\n",
       "\\hline\n",
       "\t rs4970383                                                                                                              &  838555                                                                                                                & C                                                                                                                      & A                                                                                                                      & AL645608.6                                                                                                             & 0.24553333                                                                                                             &                                                                                                                       \\\\\n",
       "\t rs13303065                                                                                                             &  891059                                                                                                                & C                                                                                                                      & T                                                                                                                      & NOC2L                                                                                                                  & 0.34523622                                                                                                             &                                                                                                                       \\\\\n",
       "\t rs3829740                                                                                                              &  909238                                                                                                                & G                                                                                                                      & C                                                                                                                      & PLEKHN1                                                                                                                & 0.43165099                                                                                                             & ENSP00000462558.1:p.Arg52Pro,ENSP00000368720.3:p.Arg487Pro,ENSP00000368719.2:p.Arg539Pro,ENSP00000368717.2:p.Arg452Pro\\\\\n",
       "\t rs28869591                                                                                                             &  920640                                                                                                                & C                                                                                                                      & T                                                                                                                      & PERM1                                                                                                                  & 0.16179403                                                                                                             &                                                                                                                       \\\\\n",
       "\t rs2710887                                                                                                              &  986443                                                                                                                & C                                                                                                                      & T                                                                                                                      & AGRN                                                                                                                   & 0.08425568                                                                                                             &                                                                                                                       \\\\\n",
       "\t rs9651273                                                                                                              & 1031540                                                                                                                & A                                                                                                                      & G                                                                                                                      & C1orf159                                                                                                               & 0.27136542                                                                                                             &                                                                                                                       \\\\\n",
       "\\end{tabular}\n"
      ],
      "text/markdown": [
       "\n",
       "ID | POS | REF | ALT | Gene_symbol | maf | HGVSp | \n",
       "|---|---|---|---|---|---|\n",
       "| rs4970383                                                                                                              |  838555                                                                                                                | C                                                                                                                      | A                                                                                                                      | AL645608.6                                                                                                             | 0.24553333                                                                                                             |                                                                                                                        | \n",
       "| rs13303065                                                                                                             |  891059                                                                                                                | C                                                                                                                      | T                                                                                                                      | NOC2L                                                                                                                  | 0.34523622                                                                                                             |                                                                                                                        | \n",
       "| rs3829740                                                                                                              |  909238                                                                                                                | G                                                                                                                      | C                                                                                                                      | PLEKHN1                                                                                                                | 0.43165099                                                                                                             | ENSP00000462558.1:p.Arg52Pro,ENSP00000368720.3:p.Arg487Pro,ENSP00000368719.2:p.Arg539Pro,ENSP00000368717.2:p.Arg452Pro | \n",
       "| rs28869591                                                                                                             |  920640                                                                                                                | C                                                                                                                      | T                                                                                                                      | PERM1                                                                                                                  | 0.16179403                                                                                                             |                                                                                                                        | \n",
       "| rs2710887                                                                                                              |  986443                                                                                                                | C                                                                                                                      | T                                                                                                                      | AGRN                                                                                                                   | 0.08425568                                                                                                             |                                                                                                                        | \n",
       "| rs9651273                                                                                                              | 1031540                                                                                                                | A                                                                                                                      | G                                                                                                                      | C1orf159                                                                                                               | 0.27136542                                                                                                             |                                                                                                                        | \n",
       "\n",
       "\n"
      ],
      "text/plain": [
       "  ID         POS     REF ALT Gene_symbol maf       \n",
       "1 rs4970383   838555 C   A   AL645608.6  0.24553333\n",
       "2 rs13303065  891059 C   T   NOC2L       0.34523622\n",
       "3 rs3829740   909238 G   C   PLEKHN1     0.43165099\n",
       "4 rs28869591  920640 C   T   PERM1       0.16179403\n",
       "5 rs2710887   986443 C   T   AGRN        0.08425568\n",
       "6 rs9651273  1031540 A   G   C1orf159    0.27136542\n",
       "  HGVSp                                                                                                                 \n",
       "1                                                                                                                       \n",
       "2                                                                                                                       \n",
       "3 ENSP00000462558.1:p.Arg52Pro,ENSP00000368720.3:p.Arg487Pro,ENSP00000368719.2:p.Arg539Pro,ENSP00000368717.2:p.Arg452Pro\n",
       "4                                                                                                                       \n",
       "5                                                                                                                       \n",
       "6                                                                                                                       "
      ]
     },
     "metadata": {},
     "output_type": "display_data"
    }
   ],
   "source": [
    "head(x_w_g)\n",
    "head(variant_short)\n",
    "\n",
    "reform_x <- x_w_g %>% rename(Gene_symbol=gene, maf=MAF) %>% mutate(HGVSp=NA) %>% select(colnames(variant_short))\n",
    "var_w_x <- rbind(variant_short, reform_x)"
   ]
  },
  {
   "cell_type": "code",
   "execution_count": 77,
   "metadata": {},
   "outputs": [
    {
     "data": {
      "text/html": [
       "<table>\n",
       "<thead><tr><th scope=col>ID</th><th scope=col>POS</th><th scope=col>REF</th><th scope=col>ALT</th><th scope=col>Gene_symbol</th><th scope=col>maf</th><th scope=col>HGVSp</th><th scope=col>CHR</th><th scope=col>B.f</th><th scope=col>B.m</th><th scope=col>⋯</th><th scope=col>SE.m</th><th scope=col>P.f</th><th scope=col>P.m</th><th scope=col>p1</th><th scope=col>p2</th><th scope=col>p3</th><th scope=col>p4</th><th scope=col>category</th><th scope=col>gene</th><th scope=col>trait</th></tr></thead>\n",
       "<tbody>\n",
       "\t<tr><td>Affx-15837191                </td><td> 3752874                     </td><td>A                            </td><td>G                            </td><td>APBA3                        </td><td>0.45243249                   </td><td>ENSP00000315136.2:p.Cys376Arg</td><td>19                           </td><td>-0.0111695                   </td><td>-0.02246090                  </td><td>⋯                            </td><td>1.388680e-05                 </td><td> 1.26170e-03                 </td><td> 1.67073e-09                 </td><td> 7.516764e-06                </td><td> 1.463738e-11                </td><td> 6.029481e-06                </td><td>0.9999865                    </td><td>4                            </td><td>APBA3                        </td><td>Alanine_aminotransferase     </td></tr>\n",
       "\t<tr><td>Affx-19716376                </td><td>44332888                     </td><td>T                            </td><td>TC                           </td><td>PNPLA3                       </td><td>0.16295230                   </td><td>                             </td><td>22                           </td><td> 0.1077040                   </td><td> 0.10973200                  </td><td>⋯                            </td><td>2.480588e-05                 </td><td>6.15256e-119                 </td><td>2.11911e-107                 </td><td>4.133258e-217                </td><td>5.073164e-108                </td><td>1.456869e-119                </td><td>1.0000000                    </td><td>4                            </td><td>PNPLA3                       </td><td>Alanine_aminotransferase     </td></tr>\n",
       "\t<tr><td>Affx-20090007                </td><td>44066247                     </td><td>G                            </td><td>C                            </td><td>ABCG8                        </td><td>0.06540481                   </td><td>ENSP00000272286.2:p.Asp19His </td><td>2                            </td><td> 0.0588241                   </td><td> 0.03247850                  </td><td>⋯                            </td><td>5.571264e-05                 </td><td> 2.44843e-17                 </td><td> 1.35421e-05                 </td><td> 8.457752e-16                </td><td> 6.971725e-08                </td><td> 2.269121e-19                </td><td>0.9999999                    </td><td>4                            </td><td>ABCG8                        </td><td>Alanine_aminotransferase     </td></tr>\n",
       "\t<tr><td>Affx-22413417                </td><td>50176739                     </td><td>C                            </td><td>A                            </td><td>SEMA3F-AS1                   </td><td>0.25722407                   </td><td>                             </td><td>3                            </td><td>-0.0184957                   </td><td>-0.00766103                  </td><td>⋯                            </td><td>1.781574e-05                 </td><td> 2.43861e-06                 </td><td> 6.95206e-02                 </td><td> 1.876171e-01                </td><td> 1.524191e-04                </td><td> 1.143639e-08                </td><td>0.8122305                    </td><td>4                            </td><td>LOC100129060                 </td><td>Alanine_aminotransferase     </td></tr>\n",
       "\t<tr><td>Affx-26682790                </td><td>52193237                     </td><td>A                            </td><td>G                            </td><td>ITGA1                        </td><td>0.08134591                   </td><td>                             </td><td>5                            </td><td> 0.0178112                   </td><td> 0.03664070                  </td><td>⋯                            </td><td>4.581774e-05                 </td><td> 4.52681e-03                 </td><td> 6.20354e-08                 </td><td> 2.804715e-04                </td><td> 3.072548e-10                </td><td> 1.217277e-05                </td><td>0.9997074                    </td><td>4                            </td><td>ITGA1                        </td><td>Alanine_aminotransferase     </td></tr>\n",
       "\t<tr><td>Affx-28463585                </td><td>31830593                     </td><td>A                            </td><td>C                            </td><td>NEU1                         </td><td>0.02988194                   </td><td>                             </td><td>6                            </td><td> 0.0401167                   </td><td> 0.03464710                  </td><td>⋯                            </td><td>1.199748e-04                 </td><td> 6.66880e-05                 </td><td> 1.56100e-03                 </td><td> 3.699061e-02                </td><td> 3.280478e-06                </td><td> 1.676937e-07                </td><td>0.9630059                    </td><td>4                            </td><td>NEU1                         </td><td>Alanine_aminotransferase     </td></tr>\n",
       "</tbody>\n",
       "</table>\n"
      ],
      "text/latex": [
       "\\begin{tabular}{r|lllllllllllllllllllll}\n",
       " ID & POS & REF & ALT & Gene\\_symbol & maf & HGVSp & CHR & B.f & B.m & ⋯ & SE.m & P.f & P.m & p1 & p2 & p3 & p4 & category & gene & trait\\\\\n",
       "\\hline\n",
       "\t Affx-15837191                 &  3752874                      & A                             & G                             & APBA3                         & 0.45243249                    & ENSP00000315136.2:p.Cys376Arg & 19                            & -0.0111695                    & -0.02246090                   & ⋯                             & 1.388680e-05                  &  1.26170e-03                  &  1.67073e-09                  &  7.516764e-06                 &  1.463738e-11                 &  6.029481e-06                 & 0.9999865                     & 4                             & APBA3                         & Alanine\\_aminotransferase   \\\\\n",
       "\t Affx-19716376                 & 44332888                      & T                             & TC                            & PNPLA3                        & 0.16295230                    &                               & 22                            &  0.1077040                    &  0.10973200                   & ⋯                             & 2.480588e-05                  & 6.15256e-119                  & 2.11911e-107                  & 4.133258e-217                 & 5.073164e-108                 & 1.456869e-119                 & 1.0000000                     & 4                             & PNPLA3                        & Alanine\\_aminotransferase   \\\\\n",
       "\t Affx-20090007                 & 44066247                      & G                             & C                             & ABCG8                         & 0.06540481                    & ENSP00000272286.2:p.Asp19His  & 2                             &  0.0588241                    &  0.03247850                   & ⋯                             & 5.571264e-05                  &  2.44843e-17                  &  1.35421e-05                  &  8.457752e-16                 &  6.971725e-08                 &  2.269121e-19                 & 0.9999999                     & 4                             & ABCG8                         & Alanine\\_aminotransferase   \\\\\n",
       "\t Affx-22413417                 & 50176739                      & C                             & A                             & SEMA3F-AS1                    & 0.25722407                    &                               & 3                             & -0.0184957                    & -0.00766103                   & ⋯                             & 1.781574e-05                  &  2.43861e-06                  &  6.95206e-02                  &  1.876171e-01                 &  1.524191e-04                 &  1.143639e-08                 & 0.8122305                     & 4                             & LOC100129060                  & Alanine\\_aminotransferase   \\\\\n",
       "\t Affx-26682790                 & 52193237                      & A                             & G                             & ITGA1                         & 0.08134591                    &                               & 5                             &  0.0178112                    &  0.03664070                   & ⋯                             & 4.581774e-05                  &  4.52681e-03                  &  6.20354e-08                  &  2.804715e-04                 &  3.072548e-10                 &  1.217277e-05                 & 0.9997074                     & 4                             & ITGA1                         & Alanine\\_aminotransferase   \\\\\n",
       "\t Affx-28463585                 & 31830593                      & A                             & C                             & NEU1                          & 0.02988194                    &                               & 6                             &  0.0401167                    &  0.03464710                   & ⋯                             & 1.199748e-04                  &  6.66880e-05                  &  1.56100e-03                  &  3.699061e-02                 &  3.280478e-06                 &  1.676937e-07                 & 0.9630059                     & 4                             & NEU1                          & Alanine\\_aminotransferase   \\\\\n",
       "\\end{tabular}\n"
      ],
      "text/markdown": [
       "\n",
       "ID | POS | REF | ALT | Gene_symbol | maf | HGVSp | CHR | B.f | B.m | ⋯ | SE.m | P.f | P.m | p1 | p2 | p3 | p4 | category | gene | trait | \n",
       "|---|---|---|---|---|---|\n",
       "| Affx-15837191                 |  3752874                      | A                             | G                             | APBA3                         | 0.45243249                    | ENSP00000315136.2:p.Cys376Arg | 19                            | -0.0111695                    | -0.02246090                   | ⋯                             | 1.388680e-05                  |  1.26170e-03                  |  1.67073e-09                  |  7.516764e-06                 |  1.463738e-11                 |  6.029481e-06                 | 0.9999865                     | 4                             | APBA3                         | Alanine_aminotransferase      | \n",
       "| Affx-19716376                 | 44332888                      | T                             | TC                            | PNPLA3                        | 0.16295230                    |                               | 22                            |  0.1077040                    |  0.10973200                   | ⋯                             | 2.480588e-05                  | 6.15256e-119                  | 2.11911e-107                  | 4.133258e-217                 | 5.073164e-108                 | 1.456869e-119                 | 1.0000000                     | 4                             | PNPLA3                        | Alanine_aminotransferase      | \n",
       "| Affx-20090007                 | 44066247                      | G                             | C                             | ABCG8                         | 0.06540481                    | ENSP00000272286.2:p.Asp19His  | 2                             |  0.0588241                    |  0.03247850                   | ⋯                             | 5.571264e-05                  |  2.44843e-17                  |  1.35421e-05                  |  8.457752e-16                 |  6.971725e-08                 |  2.269121e-19                 | 0.9999999                     | 4                             | ABCG8                         | Alanine_aminotransferase      | \n",
       "| Affx-22413417                 | 50176739                      | C                             | A                             | SEMA3F-AS1                    | 0.25722407                    |                               | 3                             | -0.0184957                    | -0.00766103                   | ⋯                             | 1.781574e-05                  |  2.43861e-06                  |  6.95206e-02                  |  1.876171e-01                 |  1.524191e-04                 |  1.143639e-08                 | 0.8122305                     | 4                             | LOC100129060                  | Alanine_aminotransferase      | \n",
       "| Affx-26682790                 | 52193237                      | A                             | G                             | ITGA1                         | 0.08134591                    |                               | 5                             |  0.0178112                    |  0.03664070                   | ⋯                             | 4.581774e-05                  |  4.52681e-03                  |  6.20354e-08                  |  2.804715e-04                 |  3.072548e-10                 |  1.217277e-05                 | 0.9997074                     | 4                             | ITGA1                         | Alanine_aminotransferase      | \n",
       "| Affx-28463585                 | 31830593                      | A                             | C                             | NEU1                          | 0.02988194                    |                               | 6                             |  0.0401167                    |  0.03464710                   | ⋯                             | 1.199748e-04                  |  6.66880e-05                  |  1.56100e-03                  |  3.699061e-02                 |  3.280478e-06                 |  1.676937e-07                 | 0.9630059                     | 4                             | NEU1                          | Alanine_aminotransferase      | \n",
       "\n",
       "\n"
      ],
      "text/plain": [
       "  ID            POS      REF ALT Gene_symbol maf       \n",
       "1 Affx-15837191  3752874 A   G   APBA3       0.45243249\n",
       "2 Affx-19716376 44332888 T   TC  PNPLA3      0.16295230\n",
       "3 Affx-20090007 44066247 G   C   ABCG8       0.06540481\n",
       "4 Affx-22413417 50176739 C   A   SEMA3F-AS1  0.25722407\n",
       "5 Affx-26682790 52193237 A   G   ITGA1       0.08134591\n",
       "6 Affx-28463585 31830593 A   C   NEU1        0.02988194\n",
       "  HGVSp                         CHR B.f        B.m         ⋯ SE.m        \n",
       "1 ENSP00000315136.2:p.Cys376Arg 19  -0.0111695 -0.02246090 ⋯ 1.388680e-05\n",
       "2                               22   0.1077040  0.10973200 ⋯ 2.480588e-05\n",
       "3 ENSP00000272286.2:p.Asp19His  2    0.0588241  0.03247850 ⋯ 5.571264e-05\n",
       "4                               3   -0.0184957 -0.00766103 ⋯ 1.781574e-05\n",
       "5                               5    0.0178112  0.03664070 ⋯ 4.581774e-05\n",
       "6                               6    0.0401167  0.03464710 ⋯ 1.199748e-04\n",
       "  P.f          P.m          p1            p2            p3            p4       \n",
       "1  1.26170e-03  1.67073e-09  7.516764e-06  1.463738e-11  6.029481e-06 0.9999865\n",
       "2 6.15256e-119 2.11911e-107 4.133258e-217 5.073164e-108 1.456869e-119 1.0000000\n",
       "3  2.44843e-17  1.35421e-05  8.457752e-16  6.971725e-08  2.269121e-19 0.9999999\n",
       "4  2.43861e-06  6.95206e-02  1.876171e-01  1.524191e-04  1.143639e-08 0.8122305\n",
       "5  4.52681e-03  6.20354e-08  2.804715e-04  3.072548e-10  1.217277e-05 0.9997074\n",
       "6  6.66880e-05  1.56100e-03  3.699061e-02  3.280478e-06  1.676937e-07 0.9630059\n",
       "  category gene         trait                   \n",
       "1 4        APBA3        Alanine_aminotransferase\n",
       "2 4        PNPLA3       Alanine_aminotransferase\n",
       "3 4        ABCG8        Alanine_aminotransferase\n",
       "4 4        LOC100129060 Alanine_aminotransferase\n",
       "5 4        ITGA1        Alanine_aminotransferase\n",
       "6 4        NEU1         Alanine_aminotransferase"
      ]
     },
     "metadata": {},
     "output_type": "display_data"
    }
   ],
   "source": [
    "# join\n",
    "comb_x <- right_join(var_w_x, snps, by=c(\"ID\"=\"SNP\")) \n",
    "head(comb_x)\n",
    "\n",
    "\n",
    "out_tab <- comb_x %>% \n",
    "      mutate(CHR=factor(CHR, levels=c(1:22, \"X\", \"XY\"))) %>% # do this to reorder properly\n",
    "      arrange(trait, CHR, POS) %>% \n",
    "      select(-gene) %>% \n",
    "      select(trait, ID, CHR, POS, everything()) %>% \n",
    "      select(-HGVSp, HGVSp) %>%\n",
    "     rename( \"MAF\"=\"maf\", \"GENE\"=\"Gene_symbol\")\n",
    "    "
   ]
  },
  {
   "cell_type": "code",
   "execution_count": 78,
   "metadata": {},
   "outputs": [
    {
     "data": {
      "text/html": [
       "<table>\n",
       "<thead><tr><th scope=col>trait</th><th scope=col>ID</th><th scope=col>CHR</th><th scope=col>POS</th><th scope=col>REF</th><th scope=col>ALT</th><th scope=col>GENE</th><th scope=col>MAF</th><th scope=col>B.f</th><th scope=col>B.m</th><th scope=col>SE.f</th><th scope=col>SE.m</th><th scope=col>P.f</th><th scope=col>P.m</th><th scope=col>p1</th><th scope=col>p2</th><th scope=col>p3</th><th scope=col>p4</th><th scope=col>category</th><th scope=col>HGVSp</th></tr></thead>\n",
       "<tbody>\n",
       "\t<tr><td>Alanine_aminotransferase</td><td>rs263526                </td><td>1                       </td><td> 2173504                </td><td>T                       </td><td>C                       </td><td>SKI                     </td><td>0.38452375              </td><td>-0.0107959              </td><td>-0.0140366              </td><td>1.246062e-05            </td><td>1.444448e-05            </td><td>2.22582e-03             </td><td>2.21468e-04             </td><td>0.49807778              </td><td>5.863270e-07            </td><td>4.823192e-06            </td><td>0.5019168               </td><td>4                       </td><td>                        </td></tr>\n",
       "\t<tr><td>Alanine_aminotransferase</td><td>rs77797313              </td><td>1                       </td><td> 2186115                </td><td>G                       </td><td>A                       </td><td>SKI                     </td><td>0.03826131              </td><td> 0.0258035              </td><td> 0.0395107              </td><td>7.992843e-05            </td><td>9.296026e-05            </td><td>3.89956e-03             </td><td>4.17058e-05             </td><td>0.06336973              </td><td>1.132540e-07            </td><td>7.529861e-06            </td><td>0.9366226               </td><td>4                       </td><td>                        </td></tr>\n",
       "\t<tr><td>Alanine_aminotransferase</td><td>rs72646048              </td><td>1                       </td><td> 2723193                </td><td>G                       </td><td>T                       </td><td>TTC34                   </td><td>0.04009857              </td><td> 0.0356744              </td><td> 0.0173326              </td><td>7.528651e-05            </td><td>8.845421e-05            </td><td>3.93329e-05             </td><td>6.53435e-02             </td><td>0.42464970              </td><td>5.358132e-05            </td><td>6.069179e-08            </td><td>0.5752967               </td><td>4                       </td><td>                        </td></tr>\n",
       "\t<tr><td>Alanine_aminotransferase</td><td>rs1884429               </td><td>1                       </td><td>11112836                </td><td>T                       </td><td>C                       </td><td>SRM                     </td><td>0.23407125              </td><td> 0.0172101              </td><td> 0.0151433              </td><td>1.820703e-05            </td><td>2.153693e-05            </td><td>5.50205e-05             </td><td>1.10234e-03             </td><td>0.08856655              </td><td>3.998032e-06            </td><td>2.345487e-07            </td><td>0.9114292               </td><td>4                       </td><td>                        </td></tr>\n",
       "\t<tr><td>Alanine_aminotransferase</td><td>rs2982372               </td><td>1                       </td><td>11372913                </td><td>T                       </td><td>C                       </td><td>                        </td><td>0.24767370              </td><td>-0.0162248              </td><td>-0.0128728              </td><td>1.589370e-05            </td><td>1.847822e-05            </td><td>4.70851e-05             </td><td>2.74821e-03             </td><td>0.18148320              </td><td>8.871068e-06            </td><td>1.921977e-07            </td><td>0.8185077               </td><td>4                       </td><td>                        </td></tr>\n",
       "\t<tr><td>Alanine_aminotransferase</td><td>rs79757554              </td><td>1                       </td><td>16067710                </td><td>C                       </td><td>T                       </td><td>SLC25A34                </td><td>0.05112729              </td><td> 0.0359501              </td><td> 0.0109642              </td><td>6.007692e-05            </td><td>7.013460e-05            </td><td>3.51776e-06             </td><td>1.90462e-01             </td><td>0.17364802              </td><td>1.960343e-04            </td><td>9.529805e-09            </td><td>0.8261559               </td><td>4                       </td><td>                        </td></tr>\n",
       "</tbody>\n",
       "</table>\n"
      ],
      "text/latex": [
       "\\begin{tabular}{r|llllllllllllllllllll}\n",
       " trait & ID & CHR & POS & REF & ALT & GENE & MAF & B.f & B.m & SE.f & SE.m & P.f & P.m & p1 & p2 & p3 & p4 & category & HGVSp\\\\\n",
       "\\hline\n",
       "\t Alanine\\_aminotransferase & rs263526                   & 1                          &  2173504                   & T                          & C                          & SKI                        & 0.38452375                 & -0.0107959                 & -0.0140366                 & 1.246062e-05               & 1.444448e-05               & 2.22582e-03                & 2.21468e-04                & 0.49807778                 & 5.863270e-07               & 4.823192e-06               & 0.5019168                  & 4                          &                           \\\\\n",
       "\t Alanine\\_aminotransferase & rs77797313                 & 1                          &  2186115                   & G                          & A                          & SKI                        & 0.03826131                 &  0.0258035                 &  0.0395107                 & 7.992843e-05               & 9.296026e-05               & 3.89956e-03                & 4.17058e-05                & 0.06336973                 & 1.132540e-07               & 7.529861e-06               & 0.9366226                  & 4                          &                           \\\\\n",
       "\t Alanine\\_aminotransferase & rs72646048                 & 1                          &  2723193                   & G                          & T                          & TTC34                      & 0.04009857                 &  0.0356744                 &  0.0173326                 & 7.528651e-05               & 8.845421e-05               & 3.93329e-05                & 6.53435e-02                & 0.42464970                 & 5.358132e-05               & 6.069179e-08               & 0.5752967                  & 4                          &                           \\\\\n",
       "\t Alanine\\_aminotransferase & rs1884429                  & 1                          & 11112836                   & T                          & C                          & SRM                        & 0.23407125                 &  0.0172101                 &  0.0151433                 & 1.820703e-05               & 2.153693e-05               & 5.50205e-05                & 1.10234e-03                & 0.08856655                 & 3.998032e-06               & 2.345487e-07               & 0.9114292                  & 4                          &                           \\\\\n",
       "\t Alanine\\_aminotransferase & rs2982372                  & 1                          & 11372913                   & T                          & C                          &                            & 0.24767370                 & -0.0162248                 & -0.0128728                 & 1.589370e-05               & 1.847822e-05               & 4.70851e-05                & 2.74821e-03                & 0.18148320                 & 8.871068e-06               & 1.921977e-07               & 0.8185077                  & 4                          &                           \\\\\n",
       "\t Alanine\\_aminotransferase & rs79757554                 & 1                          & 16067710                   & C                          & T                          & SLC25A34                   & 0.05112729                 &  0.0359501                 &  0.0109642                 & 6.007692e-05               & 7.013460e-05               & 3.51776e-06                & 1.90462e-01                & 0.17364802                 & 1.960343e-04               & 9.529805e-09               & 0.8261559                  & 4                          &                           \\\\\n",
       "\\end{tabular}\n"
      ],
      "text/markdown": [
       "\n",
       "trait | ID | CHR | POS | REF | ALT | GENE | MAF | B.f | B.m | SE.f | SE.m | P.f | P.m | p1 | p2 | p3 | p4 | category | HGVSp | \n",
       "|---|---|---|---|---|---|\n",
       "| Alanine_aminotransferase | rs263526                 | 1                        |  2173504                 | T                        | C                        | SKI                      | 0.38452375               | -0.0107959               | -0.0140366               | 1.246062e-05             | 1.444448e-05             | 2.22582e-03              | 2.21468e-04              | 0.49807778               | 5.863270e-07             | 4.823192e-06             | 0.5019168                | 4                        |                          | \n",
       "| Alanine_aminotransferase | rs77797313               | 1                        |  2186115                 | G                        | A                        | SKI                      | 0.03826131               |  0.0258035               |  0.0395107               | 7.992843e-05             | 9.296026e-05             | 3.89956e-03              | 4.17058e-05              | 0.06336973               | 1.132540e-07             | 7.529861e-06             | 0.9366226                | 4                        |                          | \n",
       "| Alanine_aminotransferase | rs72646048               | 1                        |  2723193                 | G                        | T                        | TTC34                    | 0.04009857               |  0.0356744               |  0.0173326               | 7.528651e-05             | 8.845421e-05             | 3.93329e-05              | 6.53435e-02              | 0.42464970               | 5.358132e-05             | 6.069179e-08             | 0.5752967                | 4                        |                          | \n",
       "| Alanine_aminotransferase | rs1884429                | 1                        | 11112836                 | T                        | C                        | SRM                      | 0.23407125               |  0.0172101               |  0.0151433               | 1.820703e-05             | 2.153693e-05             | 5.50205e-05              | 1.10234e-03              | 0.08856655               | 3.998032e-06             | 2.345487e-07             | 0.9114292                | 4                        |                          | \n",
       "| Alanine_aminotransferase | rs2982372                | 1                        | 11372913                 | T                        | C                        |                          | 0.24767370               | -0.0162248               | -0.0128728               | 1.589370e-05             | 1.847822e-05             | 4.70851e-05              | 2.74821e-03              | 0.18148320               | 8.871068e-06             | 1.921977e-07             | 0.8185077                | 4                        |                          | \n",
       "| Alanine_aminotransferase | rs79757554               | 1                        | 16067710                 | C                        | T                        | SLC25A34                 | 0.05112729               |  0.0359501               |  0.0109642               | 6.007692e-05             | 7.013460e-05             | 3.51776e-06              | 1.90462e-01              | 0.17364802               | 1.960343e-04             | 9.529805e-09             | 0.8261559                | 4                        |                          | \n",
       "\n",
       "\n"
      ],
      "text/plain": [
       "  trait                    ID         CHR POS      REF ALT GENE     MAF       \n",
       "1 Alanine_aminotransferase rs263526   1    2173504 T   C   SKI      0.38452375\n",
       "2 Alanine_aminotransferase rs77797313 1    2186115 G   A   SKI      0.03826131\n",
       "3 Alanine_aminotransferase rs72646048 1    2723193 G   T   TTC34    0.04009857\n",
       "4 Alanine_aminotransferase rs1884429  1   11112836 T   C   SRM      0.23407125\n",
       "5 Alanine_aminotransferase rs2982372  1   11372913 T   C            0.24767370\n",
       "6 Alanine_aminotransferase rs79757554 1   16067710 C   T   SLC25A34 0.05112729\n",
       "  B.f        B.m        SE.f         SE.m         P.f         P.m        \n",
       "1 -0.0107959 -0.0140366 1.246062e-05 1.444448e-05 2.22582e-03 2.21468e-04\n",
       "2  0.0258035  0.0395107 7.992843e-05 9.296026e-05 3.89956e-03 4.17058e-05\n",
       "3  0.0356744  0.0173326 7.528651e-05 8.845421e-05 3.93329e-05 6.53435e-02\n",
       "4  0.0172101  0.0151433 1.820703e-05 2.153693e-05 5.50205e-05 1.10234e-03\n",
       "5 -0.0162248 -0.0128728 1.589370e-05 1.847822e-05 4.70851e-05 2.74821e-03\n",
       "6  0.0359501  0.0109642 6.007692e-05 7.013460e-05 3.51776e-06 1.90462e-01\n",
       "  p1         p2           p3           p4        category HGVSp\n",
       "1 0.49807778 5.863270e-07 4.823192e-06 0.5019168 4             \n",
       "2 0.06336973 1.132540e-07 7.529861e-06 0.9366226 4             \n",
       "3 0.42464970 5.358132e-05 6.069179e-08 0.5752967 4             \n",
       "4 0.08856655 3.998032e-06 2.345487e-07 0.9114292 4             \n",
       "5 0.18148320 8.871068e-06 1.921977e-07 0.8185077 4             \n",
       "6 0.17364802 1.960343e-04 9.529805e-09 0.8261559 4             "
      ]
     },
     "metadata": {},
     "output_type": "display_data"
    }
   ],
   "source": [
    "head(out_tab)"
   ]
  },
  {
   "cell_type": "code",
   "execution_count": 79,
   "metadata": {
    "collapsed": true
   },
   "outputs": [],
   "source": [
    "OUT.DIR <- \"../data/aggreg_1020\"\n",
    "\n",
    "out_tab %>% filter(category==2) %>% arrange(trait, CHR) %>% write_csv(sprintf(\"%s/m2_results_1020_f_spec.csv\", OUT.DIR))\n",
    "out_tab %>% filter(category==3) %>% arrange(trait, CHR) %>% write_csv(sprintf(\"%s/m2_results_1020_m_spec.csv\", OUT.DIR))\n",
    "out_tab %>% filter(category==4) %>% arrange(trait, CHR) %>% write_csv(sprintf(\"%s/m2_results_1020_shared.csv\", OUT.DIR))"
   ]
  },
  {
   "cell_type": "code",
   "execution_count": 80,
   "metadata": {},
   "outputs": [
    {
     "data": {
      "text/plain": [
       "                            \n",
       "                                2    3    4\n",
       "  Alanine_aminotransferase      1    1  691\n",
       "  Albumin                       0    0  557\n",
       "  Alkaline_phosphatase          4    5 1725\n",
       "  C_reactive_protein            1    0  997\n",
       "  Creatinine                    2    1 2062\n",
       "  Creatinine_in_urine           0    0    1\n",
       "  Cystatin_C                    1    1 1833\n",
       "  Direct_bilirubin              0    0  314\n",
       "  Glucose                       0    0  165\n",
       "  Glycated_haemoglobin_HbA1c    3    3 1956\n",
       "  HDL_cholesterol               7    2 1448\n",
       "  Phosphate                     1    1  431\n",
       "  Sodium_in_urine               0    0    4\n",
       "  Testosterone                161  651   18"
      ]
     },
     "metadata": {},
     "output_type": "display_data"
    }
   ],
   "source": [
    "table(out_tab$trait, out_tab$category)"
   ]
  },
  {
   "cell_type": "code",
   "execution_count": 81,
   "metadata": {},
   "outputs": [
    {
     "data": {
      "text/html": [
       "14"
      ],
      "text/latex": [
       "14"
      ],
      "text/markdown": [
       "14"
      ],
      "text/plain": [
       "[1] 14"
      ]
     },
     "metadata": {},
     "output_type": "display_data"
    }
   ],
   "source": [
    "length(unique(out_tab$trait))"
   ]
  },
  {
   "cell_type": "code",
   "execution_count": null,
   "metadata": {
    "collapsed": true
   },
   "outputs": [],
   "source": []
  }
 ],
 "metadata": {
  "kernelspec": {
   "display_name": "R",
   "language": "R",
   "name": "ir"
  },
  "language_info": {
   "codemirror_mode": "r",
   "file_extension": ".r",
   "mimetype": "text/x-r-source",
   "name": "R",
   "pygments_lexer": "r",
   "version": "3.4.0"
  }
 },
 "nbformat": 4,
 "nbformat_minor": 2
}
