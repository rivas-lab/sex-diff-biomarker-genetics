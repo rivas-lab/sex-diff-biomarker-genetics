{
 "cells": [
  {
   "cell_type": "code",
   "execution_count": 1,
   "metadata": {},
   "outputs": [
    {
     "name": "stderr",
     "output_type": "stream",
     "text": [
      "Loading required package: tidyverse\n",
      "── Attaching packages ─────────────────────────────────────── tidyverse 1.2.1 ──\n",
      "✔ ggplot2 2.2.1     ✔ purrr   0.2.4\n",
      "✔ tibble  1.4.2     ✔ dplyr   0.7.4\n",
      "✔ tidyr   0.8.1     ✔ stringr 1.3.0\n",
      "✔ readr   1.1.1     ✔ forcats 0.3.0\n",
      "── Conflicts ────────────────────────────────────────── tidyverse_conflicts() ──\n",
      "✖ dplyr::filter() masks stats::filter()\n",
      "✖ dplyr::lag()    masks stats::lag()\n"
     ]
    }
   ],
   "source": [
    "require('tidyverse')"
   ]
  },
  {
   "cell_type": "code",
   "execution_count": null,
   "metadata": {
    "collapsed": true
   },
   "outputs": [],
   "source": [
    "## Look at the CIs that come out of the heritability estimation"
   ]
  },
  {
   "cell_type": "code",
   "execution_count": 19,
   "metadata": {},
   "outputs": [
    {
     "data": {
      "text/html": [
       "<table>\n",
       "<thead><tr><th scope=col>int</th><th scope=col>sex</th><th scope=col>value</th><th scope=col>trait</th></tr></thead>\n",
       "<tbody>\n",
       "\t<tr><td>l        </td><td>f        </td><td>0.2477077</td><td>whr      </td></tr>\n",
       "\t<tr><td>c        </td><td>f        </td><td>0.2539318</td><td>whr      </td></tr>\n",
       "\t<tr><td>u        </td><td>f        </td><td>0.2597223</td><td>whr      </td></tr>\n",
       "\t<tr><td>l        </td><td>m        </td><td>0.1764495</td><td>whr      </td></tr>\n",
       "\t<tr><td>c        </td><td>m        </td><td>0.1828305</td><td>whr      </td></tr>\n",
       "\t<tr><td>u        </td><td>m        </td><td>0.1890179</td><td>whr      </td></tr>\n",
       "</tbody>\n",
       "</table>\n"
      ],
      "text/latex": [
       "\\begin{tabular}{r|llll}\n",
       " int & sex & value & trait\\\\\n",
       "\\hline\n",
       "\t l         & f         & 0.2477077 & whr      \\\\\n",
       "\t c         & f         & 0.2539318 & whr      \\\\\n",
       "\t u         & f         & 0.2597223 & whr      \\\\\n",
       "\t l         & m         & 0.1764495 & whr      \\\\\n",
       "\t c         & m         & 0.1828305 & whr      \\\\\n",
       "\t u         & m         & 0.1890179 & whr      \\\\\n",
       "\\end{tabular}\n"
      ],
      "text/markdown": [
       "\n",
       "int | sex | value | trait | \n",
       "|---|---|---|---|---|---|\n",
       "| l         | f         | 0.2477077 | whr       | \n",
       "| c         | f         | 0.2539318 | whr       | \n",
       "| u         | f         | 0.2597223 | whr       | \n",
       "| l         | m         | 0.1764495 | whr       | \n",
       "| c         | m         | 0.1828305 | whr       | \n",
       "| u         | m         | 0.1890179 | whr       | \n",
       "\n",
       "\n"
      ],
      "text/plain": [
       "  int sex value     trait\n",
       "1 l   f   0.2477077 whr  \n",
       "2 c   f   0.2539318 whr  \n",
       "3 u   f   0.2597223 whr  \n",
       "4 l   m   0.1764495 whr  \n",
       "5 c   m   0.1828305 whr  \n",
       "6 u   m   0.1890179 whr  "
      ]
     },
     "metadata": {},
     "output_type": "display_data"
    }
   ],
   "source": [
    "H_ERR_OUT <- \"../data/h_err_complete/\"\n",
    "trait <- \"Testosterone\"\n",
    "OUT_DIR <- \"../data/h_err_complete/derived/\"\n",
    "\n",
    "num_draws <- 1600\n",
    "\n",
    "\n",
    "getInt <- function(vec_est){\n",
    "    vec_o <- vec_est[order(vec_est)]\n",
    "    return(vec_o[c(floor(num_draws*0.025),floor(num_draws*0.5),ceiling(num_draws*0.975)) ])\n",
    "}\n",
    "\n",
    "getHeritErr <- function(trait){\n",
    "    trait.files <- list.files(path=H_ERR_OUT, pattern=trait)\n",
    "    stopifnot(length(trait.files) == 100)\n",
    "    h_est <- do.call(rbind, lapply(trait.files, function(x) read.table(sprintf(\"%s/%s\", H_ERR_OUT, x), header=TRUE)))\n",
    "    stopifnot(nrow(h_est) == num_draws)   \n",
    "\n",
    "    value <- c(getInt(h_est$h_f), getInt(h_est$h_m))\n",
    "    sex <- c(rep(\"f\", 3), rep(\"m\", 3))\n",
    "    int <- c(\"l\", \"c\", \"u\", \"l\", \"c\", \"u\")\n",
    "    df <- data.frame(int, sex, value)\n",
    "    df$trait <- trait\n",
    "    return(df)\n",
    "}\n",
    "\n",
    "getHeritErr(\"whr\")                                   \n",
    "#write.table(df, sprintf(\"%s/h_err_%s.txt\", OUT_DIR, trait), sep=\" \", row.names=FALSE, quote=FALSE)\n",
    "#trait  int  sex  value\n",
    "                                   \n",
    "### TODO - figure out how to do this for pre- + post- meno data!"
   ]
  },
  {
   "cell_type": "code",
   "execution_count": 11,
   "metadata": {},
   "outputs": [
    {
     "data": {
      "text/html": [
       "<ol class=list-inline>\n",
       "\t<li>1600</li>\n",
       "\t<li>3</li>\n",
       "</ol>\n"
      ],
      "text/latex": [
       "\\begin{enumerate*}\n",
       "\\item 1600\n",
       "\\item 3\n",
       "\\end{enumerate*}\n"
      ],
      "text/markdown": [
       "1. 1600\n",
       "2. 3\n",
       "\n",
       "\n"
      ],
      "text/plain": [
       "[1] 1600    3"
      ]
     },
     "metadata": {},
     "output_type": "display_data"
    },
    {
     "data": {
      "text/html": [
       "<table>\n",
       "<thead><tr><th scope=col>draw</th><th scope=col>h_f</th><th scope=col>h_m</th></tr></thead>\n",
       "<tbody>\n",
       "\t<tr><td>1         </td><td>0.04844267</td><td>0.1568889 </td></tr>\n",
       "\t<tr><td>2         </td><td>0.04681773</td><td>0.1465196 </td></tr>\n",
       "\t<tr><td>3         </td><td>0.05016884</td><td>0.1425336 </td></tr>\n",
       "\t<tr><td>4         </td><td>0.05102726</td><td>0.1512451 </td></tr>\n",
       "\t<tr><td>5         </td><td>0.04973950</td><td>0.1439954 </td></tr>\n",
       "\t<tr><td>6         </td><td>0.04870458</td><td>0.1465122 </td></tr>\n",
       "</tbody>\n",
       "</table>\n"
      ],
      "text/latex": [
       "\\begin{tabular}{r|lll}\n",
       " draw & h\\_f & h\\_m\\\\\n",
       "\\hline\n",
       "\t 1          & 0.04844267 & 0.1568889 \\\\\n",
       "\t 2          & 0.04681773 & 0.1465196 \\\\\n",
       "\t 3          & 0.05016884 & 0.1425336 \\\\\n",
       "\t 4          & 0.05102726 & 0.1512451 \\\\\n",
       "\t 5          & 0.04973950 & 0.1439954 \\\\\n",
       "\t 6          & 0.04870458 & 0.1465122 \\\\\n",
       "\\end{tabular}\n"
      ],
      "text/markdown": [
       "\n",
       "draw | h_f | h_m | \n",
       "|---|---|---|---|---|---|\n",
       "| 1          | 0.04844267 | 0.1568889  | \n",
       "| 2          | 0.04681773 | 0.1465196  | \n",
       "| 3          | 0.05016884 | 0.1425336  | \n",
       "| 4          | 0.05102726 | 0.1512451  | \n",
       "| 5          | 0.04973950 | 0.1439954  | \n",
       "| 6          | 0.04870458 | 0.1465122  | \n",
       "\n",
       "\n"
      ],
      "text/plain": [
       "  draw h_f        h_m      \n",
       "1 1    0.04844267 0.1568889\n",
       "2 2    0.04681773 0.1465196\n",
       "3 3    0.05016884 0.1425336\n",
       "4 4    0.05102726 0.1512451\n",
       "5 5    0.04973950 0.1439954\n",
       "6 6    0.04870458 0.1465122"
      ]
     },
     "metadata": {},
     "output_type": "display_data"
    },
    {
     "data": {
      "text/html": [
       "0.0428578744988143"
      ],
      "text/latex": [
       "0.0428578744988143"
      ],
      "text/markdown": [
       "0.0428578744988143"
      ],
      "text/plain": [
       "[1] 0.04285787"
      ]
     },
     "metadata": {},
     "output_type": "display_data"
    },
    {
     "data": {
      "text/html": [
       "0.0479318809778383"
      ],
      "text/latex": [
       "0.0479318809778383"
      ],
      "text/markdown": [
       "0.0479318809778383"
      ],
      "text/plain": [
       "[1] 0.04793188"
      ]
     },
     "metadata": {},
     "output_type": "display_data"
    },
    {
     "data": {
      "text/html": [
       "0.0537092360584466"
      ],
      "text/latex": [
       "0.0537092360584466"
      ],
      "text/markdown": [
       "0.0537092360584466"
      ],
      "text/plain": [
       "[1] 0.05370924"
      ]
     },
     "metadata": {},
     "output_type": "display_data"
    },
    {
     "data": {
      "image/png": "[encoded data removed]",
      "text/plain": [
       "Plot with title “density.default(x = h.f.o)”"
      ]
     },
     "metadata": {},
     "output_type": "display_data"
    }
   ],
   "source": [
    "dim(h_est)\n",
    "\n",
    "\n",
    "\n",
    "head(h_est)\n",
    "\n",
    "\n",
    "plot(density(h.f.o))"
   ]
  },
  {
   "cell_type": "code",
   "execution_count": 25,
   "metadata": {},
   "outputs": [
    {
     "data": {
      "text/html": [
       "10"
      ],
      "text/latex": [
       "10"
      ],
      "text/markdown": [
       "10"
      ],
      "text/plain": [
       "[1] 10"
      ]
     },
     "metadata": {},
     "output_type": "display_data"
    },
    {
     "data": {
      "text/html": [
       "10"
      ],
      "text/latex": [
       "10"
      ],
      "text/markdown": [
       "10"
      ],
      "text/plain": [
       "[1] 10"
      ]
     },
     "metadata": {},
     "output_type": "display_data"
    }
   ],
   "source": [
    "## Create MR phenotypes - irregular periods, metformin, MetS\n",
    "\n",
    "nchar(\"1000000023\")\n",
    "nchar(\"1140884600\")"
   ]
  },
  {
   "cell_type": "code",
   "execution_count": 38,
   "metadata": {},
   "outputs": [
    {
     "data": {
      "text/html": [
       "<table>\n",
       "<thead><tr><th scope=col>IID</th><th scope=col>sex</th><th scope=col>age</th><th scope=col>preg</th><th scope=col>pill</th><th scope=col>hrt</th><th scope=col>meno.label</th><th scope=col>period_today</th><th scope=col>irregular</th><th scope=col>normalized_day_in_cycle</th><th scope=col>⋯</th><th scope=col>Oestradiol</th><th scope=col>Phosphate</th><th scope=col>Rheumatoid factor</th><th scope=col>SHBG</th><th scope=col>Total bilirubin</th><th scope=col>Testosterone</th><th scope=col>Total protein</th><th scope=col>Triglycerides</th><th scope=col>Urate</th><th scope=col>Vitamin D</th></tr></thead>\n",
       "<tbody>\n",
       "\t<tr><td>2314965      </td><td>0            </td><td>55           </td><td>0            </td><td> 0           </td><td>NA           </td><td>missing      </td><td> 0           </td><td>NA           </td><td>NA           </td><td>⋯            </td><td>NA           </td><td>   NA        </td><td>  NA         </td><td>   NA        </td><td>3.81         </td><td>0.947        </td><td>   NA        </td><td>3.386        </td><td>   NA        </td><td>  NA         </td></tr>\n",
       "\t<tr><td>1142584      </td><td>0            </td><td>60           </td><td>0            </td><td> 0           </td><td> 0           </td><td>post         </td><td>NA           </td><td>NA           </td><td>NA           </td><td>⋯            </td><td>NA           </td><td>1.316        </td><td>  NA         </td><td>62.54        </td><td>8.19         </td><td>0.754        </td><td>72.76        </td><td>1.671        </td><td>266.6        </td><td>55.1         </td></tr>\n",
       "\t<tr><td>3665122      </td><td>0            </td><td>74           </td><td>0            </td><td>NA           </td><td> 0           </td><td>surgical_meno</td><td>NA           </td><td>NA           </td><td>NA           </td><td>⋯            </td><td>NA           </td><td>1.245        </td><td>  NA         </td><td>51.03        </td><td>9.27         </td><td>1.015        </td><td>76.86        </td><td>1.311        </td><td>290.2        </td><td>73.6         </td></tr>\n",
       "\t<tr><td>4377492      </td><td>0            </td><td>65           </td><td>0            </td><td> 0           </td><td>NA           </td><td>post         </td><td>NA           </td><td>NA           </td><td>NA           </td><td>⋯            </td><td>NA           </td><td>1.165        </td><td>22.5         </td><td>45.99        </td><td>6.14         </td><td>0.519        </td><td>71.06        </td><td>2.506        </td><td>312.3        </td><td>51.9         </td></tr>\n",
       "\t<tr><td>4015997      </td><td>0            </td><td>50           </td><td>0            </td><td> 0           </td><td>NA           </td><td>pre          </td><td> 1           </td><td> 0           </td><td> 0           </td><td>⋯            </td><td>NA           </td><td>1.146        </td><td>  NA         </td><td>66.75        </td><td>7.52         </td><td>0.946        </td><td>73.14        </td><td>0.780        </td><td>306.9        </td><td>56.5         </td></tr>\n",
       "\t<tr><td>2076736      </td><td>0            </td><td>60           </td><td>0            </td><td> 0           </td><td>NA           </td><td>post         </td><td>NA           </td><td>NA           </td><td>NA           </td><td>⋯            </td><td>NA           </td><td>1.357        </td><td>  NA         </td><td>65.68        </td><td>6.30         </td><td>0.506        </td><td>71.27        </td><td>0.871        </td><td>   NA        </td><td>84.2         </td></tr>\n",
       "</tbody>\n",
       "</table>\n"
      ],
      "text/latex": [
       "\\begin{tabular}{r|lllllllllllllllllllllllllllllllllllllllllllll}\n",
       " IID & sex & age & preg & pill & hrt & meno.label & period\\_today & irregular & normalized\\_day\\_in\\_cycle & ⋯ & Oestradiol & Phosphate & Rheumatoid factor & SHBG & Total bilirubin & Testosterone & Total protein & Triglycerides & Urate & Vitamin D\\\\\n",
       "\\hline\n",
       "\t 2314965       & 0             & 55            & 0             &  0            & NA            & missing       &  0            & NA            & NA            & ⋯             & NA            &    NA         &   NA          &    NA         & 3.81          & 0.947         &    NA         & 3.386         &    NA         &   NA         \\\\\n",
       "\t 1142584       & 0             & 60            & 0             &  0            &  0            & post          & NA            & NA            & NA            & ⋯             & NA            & 1.316         &   NA          & 62.54         & 8.19          & 0.754         & 72.76         & 1.671         & 266.6         & 55.1         \\\\\n",
       "\t 3665122         & 0               & 74              & 0               & NA              &  0              & surgical\\_meno & NA              & NA              & NA              & ⋯               & NA              & 1.245           &   NA            & 51.03           & 9.27            & 1.015           & 76.86           & 1.311           & 290.2           & 73.6           \\\\\n",
       "\t 4377492       & 0             & 65            & 0             &  0            & NA            & post          & NA            & NA            & NA            & ⋯             & NA            & 1.165         & 22.5          & 45.99         & 6.14          & 0.519         & 71.06         & 2.506         & 312.3         & 51.9         \\\\\n",
       "\t 4015997       & 0             & 50            & 0             &  0            & NA            & pre           &  1            &  0            &  0            & ⋯             & NA            & 1.146         &   NA          & 66.75         & 7.52          & 0.946         & 73.14         & 0.780         & 306.9         & 56.5         \\\\\n",
       "\t 2076736       & 0             & 60            & 0             &  0            & NA            & post          & NA            & NA            & NA            & ⋯             & NA            & 1.357         &   NA          & 65.68         & 6.30          & 0.506         & 71.27         & 0.871         &    NA         & 84.2         \\\\\n",
       "\\end{tabular}\n"
      ],
      "text/markdown": [
       "\n",
       "IID | sex | age | preg | pill | hrt | meno.label | period_today | irregular | normalized_day_in_cycle | ⋯ | Oestradiol | Phosphate | Rheumatoid factor | SHBG | Total bilirubin | Testosterone | Total protein | Triglycerides | Urate | Vitamin D | \n",
       "|---|---|---|---|---|---|\n",
       "| 2314965       | 0             | 55            | 0             |  0            | NA            | missing       |  0            | NA            | NA            | ⋯             | NA            |    NA         |   NA          |    NA         | 3.81          | 0.947         |    NA         | 3.386         |    NA         |   NA          | \n",
       "| 1142584       | 0             | 60            | 0             |  0            |  0            | post          | NA            | NA            | NA            | ⋯             | NA            | 1.316         |   NA          | 62.54         | 8.19          | 0.754         | 72.76         | 1.671         | 266.6         | 55.1          | \n",
       "| 3665122       | 0             | 74            | 0             | NA            |  0            | surgical_meno | NA            | NA            | NA            | ⋯             | NA            | 1.245         |   NA          | 51.03         | 9.27          | 1.015         | 76.86         | 1.311         | 290.2         | 73.6          | \n",
       "| 4377492       | 0             | 65            | 0             |  0            | NA            | post          | NA            | NA            | NA            | ⋯             | NA            | 1.165         | 22.5          | 45.99         | 6.14          | 0.519         | 71.06         | 2.506         | 312.3         | 51.9          | \n",
       "| 4015997       | 0             | 50            | 0             |  0            | NA            | pre           |  1            |  0            |  0            | ⋯             | NA            | 1.146         |   NA          | 66.75         | 7.52          | 0.946         | 73.14         | 0.780         | 306.9         | 56.5          | \n",
       "| 2076736       | 0             | 60            | 0             |  0            | NA            | post          | NA            | NA            | NA            | ⋯             | NA            | 1.357         |   NA          | 65.68         | 6.30          | 0.506         | 71.27         | 0.871         |    NA         | 84.2          | \n",
       "\n",
       "\n"
      ],
      "text/plain": [
       "  IID     sex age preg pill hrt meno.label    period_today irregular\n",
       "1 2314965 0   55  0     0   NA  missing        0           NA       \n",
       "2 1142584 0   60  0     0    0  post          NA           NA       \n",
       "3 3665122 0   74  0    NA    0  surgical_meno NA           NA       \n",
       "4 4377492 0   65  0     0   NA  post          NA           NA       \n",
       "5 4015997 0   50  0     0   NA  pre            1            0       \n",
       "6 2076736 0   60  0     0   NA  post          NA           NA       \n",
       "  normalized_day_in_cycle ⋯ Oestradiol Phosphate Rheumatoid factor SHBG \n",
       "1 NA                      ⋯ NA            NA       NA                 NA\n",
       "2 NA                      ⋯ NA         1.316       NA              62.54\n",
       "3 NA                      ⋯ NA         1.245       NA              51.03\n",
       "4 NA                      ⋯ NA         1.165     22.5              45.99\n",
       "5  0                      ⋯ NA         1.146       NA              66.75\n",
       "6 NA                      ⋯ NA         1.357       NA              65.68\n",
       "  Total bilirubin Testosterone Total protein Triglycerides Urate Vitamin D\n",
       "1 3.81            0.947           NA         3.386            NA   NA     \n",
       "2 8.19            0.754        72.76         1.671         266.6 55.1     \n",
       "3 9.27            1.015        76.86         1.311         290.2 73.6     \n",
       "4 6.14            0.519        71.06         2.506         312.3 51.9     \n",
       "5 7.52            0.946        73.14         0.780         306.9 56.5     \n",
       "6 6.30            0.506        71.27         0.871            NA 84.2     "
      ]
     },
     "metadata": {},
     "output_type": "display_data"
    },
    {
     "data": {
      "text/html": [
       "<ol class=list-inline>\n",
       "\t<li>&lt;NA&gt;</li>\n",
       "\t<li>0</li>\n",
       "\t<li>1</li>\n",
       "</ol>\n"
      ],
      "text/latex": [
       "\\begin{enumerate*}\n",
       "\\item <NA>\n",
       "\\item 0\n",
       "\\item 1\n",
       "\\end{enumerate*}\n"
      ],
      "text/markdown": [
       "1. &lt;NA&gt;\n",
       "2. 0\n",
       "3. 1\n",
       "\n",
       "\n"
      ],
      "text/plain": [
       "[1] NA  0  1"
      ]
     },
     "metadata": {},
     "output_type": "display_data"
    },
    {
     "data": {
      "text/plain": [
       "\n",
       " FALSE   TRUE \n",
       " 60221 389614 "
      ]
     },
     "metadata": {},
     "output_type": "display_data"
    },
    {
     "data": {
      "text/plain": [
       "\n",
       "    0     1 \n",
       "48978 11243 "
      ]
     },
     "metadata": {},
     "output_type": "display_data"
    }
   ],
   "source": [
    "require('data.table')\n",
    "pheno_df <- fread(\"../data/hormone_drug_biomarker_df.txt\", header=TRUE, sep=\"\\t\", data.table=FALSE) \n",
    "head(pheno_df)\n",
    "unique(pheno_df$irregular)\n",
    "table(is.na(pheno_df$irregular))\n",
    "table(pheno_df$irregular)\n",
    "\n"
   ]
  },
  {
   "cell_type": "code",
   "execution_count": 47,
   "metadata": {},
   "outputs": [
    {
     "data": {
      "text/plain": [
       "      age          preg         pill              meno.label  \n",
       " Min.   :47.00   0   :11183   -9  : 763   likely_meno  :1849  \n",
       " 1st Qu.:53.00   1   :   32   0   :8485   male         :   1  \n",
       " Median :57.00   NA's:   28   1   : 975   missing      : 334  \n",
       " Mean   :56.54                NA's:1020   post         :   2  \n",
       " 3rd Qu.:59.00                            pre          :9030  \n",
       " Max.   :79.00                            surgical_meno:  27  \n",
       " NA's   :3705                                                 "
      ]
     },
     "metadata": {},
     "output_type": "display_data"
    },
    {
     "data": {
      "text/html": [
       "181037"
      ],
      "text/latex": [
       "181037"
      ],
      "text/markdown": [
       "181037"
      ],
      "text/plain": [
       "[1] 181037"
      ]
     },
     "metadata": {},
     "output_type": "display_data"
    },
    {
     "data": {
      "text/html": [
       "181831"
      ],
      "text/latex": [
       "181831"
      ],
      "text/markdown": [
       "181831"
      ],
      "text/plain": [
       "[1] 181831"
      ]
     },
     "metadata": {},
     "output_type": "display_data"
    }
   ],
   "source": [
    "irreg <- pheno_df %>% filter(irregular==1 & !is.na(irregular)) \n",
    "irreg %>% select(age, preg, pill, meno.label) %>% \n",
    "    mutate(pill=as.factor(pill), meno.label=as.factor(meno.label), preg=as.factor(preg)) %>% \n",
    "    summary()\n",
    "\n",
    "irreg_phe <- pheno_df %>% filter(sex==0) %>% select(IID, IID, irregular) %>% \n",
    "mutate(irregular= ifelse(is.na(irregular), 0, irregular)) %>% unique()\n",
    "\n",
    "length(unique(irreg_phe$IID))\n",
    "sum(table(irreg_phe$irregular))"
   ]
  },
  {
   "cell_type": "code",
   "execution_count": null,
   "metadata": {
    "collapsed": true
   },
   "outputs": [],
   "source": [
    "## Write code to extract output"
   ]
  },
  {
   "cell_type": "code",
   "execution_count": null,
   "metadata": {
    "collapsed": true
   },
   "outputs": [],
   "source": [
    "## Simulations"
   ]
  }
 ],
 "metadata": {
  "kernelspec": {
   "display_name": "R",
   "language": "R",
   "name": "ir"
  },
  "language_info": {
   "codemirror_mode": "r",
   "file_extension": ".r",
   "mimetype": "text/x-r-source",
   "name": "R",
   "pygments_lexer": "r",
   "version": "3.4.0"
  }
 },
 "nbformat": 4,
 "nbformat_minor": 2
}
