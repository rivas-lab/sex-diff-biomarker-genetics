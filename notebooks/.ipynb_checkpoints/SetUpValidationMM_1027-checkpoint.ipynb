{
 "cells": [
  {
   "cell_type": "code",
   "execution_count": 1,
   "metadata": {},
   "outputs": [
    {
     "name": "stderr",
     "output_type": "stream",
     "text": [
      "Loading required package: tidyverse\n",
      "── Attaching packages ─────────────────────────────────────── tidyverse 1.2.1 ──\n",
      "✔ ggplot2 2.2.1     ✔ purrr   0.2.4\n",
      "✔ tibble  1.4.2     ✔ dplyr   0.7.4\n",
      "✔ tidyr   0.8.1     ✔ stringr 1.3.0\n",
      "✔ readr   1.1.1     ✔ forcats 0.3.0\n",
      "── Conflicts ────────────────────────────────────────── tidyverse_conflicts() ──\n",
      "✖ dplyr::filter() masks stats::filter()\n",
      "✖ dplyr::lag()    masks stats::lag()\n"
     ]
    }
   ],
   "source": [
    "require('tidyverse')"
   ]
  },
  {
   "cell_type": "code",
   "execution_count": null,
   "metadata": {
    "collapsed": true
   },
   "outputs": [],
   "source": [
    "# need to sample a bunch of null variants to get this set up"
   ]
  },
  {
   "cell_type": "code",
   "execution_count": 2,
   "metadata": {},
   "outputs": [
    {
     "name": "stderr",
     "output_type": "stream",
     "text": [
      "Parsed with column specification:\n",
      "cols(\n",
      "  `#CHROM` = col_character(),\n",
      "  POS = col_integer(),\n",
      "  ID = col_character(),\n",
      "  REF = col_character(),\n",
      "  ALT = col_character(),\n",
      "  A1 = col_character(),\n",
      "  TEST = col_character(),\n",
      "  OBS_CT = col_integer(),\n",
      "  BETA = col_double(),\n",
      "  SE = col_double(),\n",
      "  T_STAT = col_double(),\n",
      "  P = col_double()\n",
      ")\n",
      "Parsed with column specification:\n",
      "cols(\n",
      "  `#CHROM` = col_character(),\n",
      "  POS = col_integer(),\n",
      "  ID = col_character(),\n",
      "  REF = col_character(),\n",
      "  ALT = col_character(),\n",
      "  A1 = col_character(),\n",
      "  TEST = col_character(),\n",
      "  OBS_CT = col_integer(),\n",
      "  BETA = col_double(),\n",
      "  SE = col_double(),\n",
      "  T_STAT = col_double(),\n",
      "  P = col_double()\n",
      ")\n"
     ]
    }
   ],
   "source": [
    "trait <- \"Testosterone\"\n",
    "m_v <- read_tsv(sprintf(\"../gwas_valid/ukb24983_v2_hg19.%s_onesex.genotyped.glm.linear\", trait) ) \n",
    "f_v <- read_tsv(sprintf(\"../gwas_valid/ukb24983_v2_hg19.%s_zerosex.genotyped.glm.linear\", trait))\n",
    "\n",
    "df_t_train <- read.table(sprintf(\"../data/1020/m2/snps4_%s.txt\", trait), sep=\" \", header=TRUE); \n",
    "m_train <- df_t_train %>% filter(category==3) %>% select( -p1, -p2, -p4, -category) %>% rename(post=p3, ID=SNP)\n",
    "f_train <- df_t_train %>% filter(category==2) %>% select( -p1, -p3, -p4, -category)%>% rename(post=p2, ID=SNP)\n",
    "    \n",
    "load(sprintf(\"../data/1020/dat_%s.RData\", trait))"
   ]
  },
  {
   "cell_type": "code",
   "execution_count": 3,
   "metadata": {
    "collapsed": true
   },
   "outputs": [],
   "source": [
    "# sample a bunch of null variants\n",
    "\n",
    "NUM.NULL <- 10000\n",
    "null_vars <- setdiff(dat$snp, df_t_train$SNP)\n"
   ]
  },
  {
   "cell_type": "code",
   "execution_count": 5,
   "metadata": {},
   "outputs": [
    {
     "data": {
      "text/html": [
       "<ol class=list-inline>\n",
       "\t<li>'rs6649864'</li>\n",
       "\t<li>'rs56328755'</li>\n",
       "\t<li>'rs28669107'</li>\n",
       "\t<li>'rs148672604'</li>\n",
       "\t<li>'rs146939120'</li>\n",
       "\t<li>'rs28510852'</li>\n",
       "</ol>\n"
      ],
      "text/latex": [
       "\\begin{enumerate*}\n",
       "\\item 'rs6649864'\n",
       "\\item 'rs56328755'\n",
       "\\item 'rs28669107'\n",
       "\\item 'rs148672604'\n",
       "\\item 'rs146939120'\n",
       "\\item 'rs28510852'\n",
       "\\end{enumerate*}\n"
      ],
      "text/markdown": [
       "1. 'rs6649864'\n",
       "2. 'rs56328755'\n",
       "3. 'rs28669107'\n",
       "4. 'rs148672604'\n",
       "5. 'rs146939120'\n",
       "6. 'rs28510852'\n",
       "\n",
       "\n"
      ],
      "text/plain": [
       "[1] \"rs6649864\"   \"rs56328755\"  \"rs28669107\"  \"rs148672604\" \"rs146939120\"\n",
       "[6] \"rs28510852\" "
      ]
     },
     "metadata": {},
     "output_type": "display_data"
    }
   ],
   "source": [
    "head(null_vars)"
   ]
  },
  {
   "cell_type": "code",
   "execution_count": 4,
   "metadata": {
    "collapsed": true
   },
   "outputs": [],
   "source": [
    "null_idx <- sample(1:length(null_vars), NUM.NULL, replace=FALSE)\n",
    "sampled_null_vars <- null_vars[null_idx]"
   ]
  },
  {
   "cell_type": "code",
   "execution_count": 7,
   "metadata": {},
   "outputs": [
    {
     "data": {
      "text/html": [
       "<ol class=list-inline>\n",
       "\t<li>'rs2794841'</li>\n",
       "\t<li>'rs11792136'</li>\n",
       "\t<li>'rs78248542'</li>\n",
       "\t<li>'rs116241669'</li>\n",
       "\t<li>'rs73580526'</li>\n",
       "\t<li>'rs78855577'</li>\n",
       "</ol>\n"
      ],
      "text/latex": [
       "\\begin{enumerate*}\n",
       "\\item 'rs2794841'\n",
       "\\item 'rs11792136'\n",
       "\\item 'rs78248542'\n",
       "\\item 'rs116241669'\n",
       "\\item 'rs73580526'\n",
       "\\item 'rs78855577'\n",
       "\\end{enumerate*}\n"
      ],
      "text/markdown": [
       "1. 'rs2794841'\n",
       "2. 'rs11792136'\n",
       "3. 'rs78248542'\n",
       "4. 'rs116241669'\n",
       "5. 'rs73580526'\n",
       "6. 'rs78855577'\n",
       "\n",
       "\n"
      ],
      "text/plain": [
       "[1] \"rs2794841\"   \"rs11792136\"  \"rs78248542\"  \"rs116241669\" \"rs73580526\" \n",
       "[6] \"rs78855577\" "
      ]
     },
     "metadata": {},
     "output_type": "display_data"
    }
   ],
   "source": [
    "head(sampled_null_vars)"
   ]
  },
  {
   "cell_type": "code",
   "execution_count": 5,
   "metadata": {
    "collapsed": true
   },
   "outputs": [],
   "source": [
    "# get the non-null data from both disc and valid\n",
    "sel_rows <- which(dat$snp %in% sampled_null_vars)\n",
    "null_B_disc <- dat$dat$B[sel_rows,]\n",
    "null_SE_disc <- dat$dat$SE[sel_rows,]\n",
    "snp_ids <- dat$snp[sel_rows]\n",
    "pvals <- dat$p[sel_rows]"
   ]
  },
  {
   "cell_type": "code",
   "execution_count": 6,
   "metadata": {},
   "outputs": [
    {
     "name": "stderr",
     "output_type": "stream",
     "text": [
      "Warning message:\n",
      "“Setting row names on a tibble is deprecated.”Warning message:\n",
      "“Setting row names on a tibble is deprecated.”"
     ]
    }
   ],
   "source": [
    "\n",
    "rownames(m_v) <- m_v$ID\n",
    "rownames(f_v) <- f_v$ID\n",
    "null_m_v <- m_v[snp_ids,]\n",
    "null_f_v <- f_v[snp_ids,]\n",
    "\n",
    "null_B_val <- cbind(null_f_v$BETA, null_m_v$BETA)\n",
    "null_SE_val <- cbind(null_f_v$SE, null_m_v$SE)"
   ]
  },
  {
   "cell_type": "code",
   "execution_count": null,
   "metadata": {
    "collapsed": true
   },
   "outputs": [],
   "source": [
    "setupGenCorr <- function(B, SE){\n",
    "    dat <- list(\"K\"=2, \"M\"=2, \"N\"=nrow(B), \"B\"=B, \"SE\"=SE)\n",
    "  \n",
    "}\n"
   ]
  },
  {
   "cell_type": "code",
   "execution_count": null,
   "metadata": {
    "collapsed": true
   },
   "outputs": [],
   "source": []
  },
  {
   "cell_type": "code",
   "execution_count": 16,
   "metadata": {},
   "outputs": [
    {
     "data": {
      "text/html": [
       "<table>\n",
       "<tbody>\n",
       "\t<tr><td>-0.018988000</td><td>-0.00323531 </td></tr>\n",
       "\t<tr><td>-0.136829000</td><td> 0.02442560 </td></tr>\n",
       "\t<tr><td>-0.018341800</td><td> 0.01253180 </td></tr>\n",
       "\t<tr><td>-0.022472100</td><td>-0.00341843 </td></tr>\n",
       "\t<tr><td>-0.000481456</td><td>-0.01517620 </td></tr>\n",
       "\t<tr><td> 0.039261000</td><td> 0.03506360 </td></tr>\n",
       "</tbody>\n",
       "</table>\n"
      ],
      "text/latex": [
       "\\begin{tabular}{ll}\n",
       "\t -0.018988000 & -0.00323531 \\\\\n",
       "\t -0.136829000 &  0.02442560 \\\\\n",
       "\t -0.018341800 &  0.01253180 \\\\\n",
       "\t -0.022472100 & -0.00341843 \\\\\n",
       "\t -0.000481456 & -0.01517620 \\\\\n",
       "\t  0.039261000 &  0.03506360 \\\\\n",
       "\\end{tabular}\n"
      ],
      "text/markdown": [
       "\n",
       "| -0.018988000 | -0.00323531  | \n",
       "| -0.136829000 |  0.02442560  | \n",
       "| -0.018341800 |  0.01253180  | \n",
       "| -0.022472100 | -0.00341843  | \n",
       "| -0.000481456 | -0.01517620  | \n",
       "|  0.039261000 |  0.03506360  | \n",
       "\n",
       "\n"
      ],
      "text/plain": [
       "     [,1]         [,2]       \n",
       "[1,] -0.018988000 -0.00323531\n",
       "[2,] -0.136829000  0.02442560\n",
       "[3,] -0.018341800  0.01253180\n",
       "[4,] -0.022472100 -0.00341843\n",
       "[5,] -0.000481456 -0.01517620\n",
       "[6,]  0.039261000  0.03506360"
      ]
     },
     "metadata": {},
     "output_type": "display_data"
    }
   ],
   "source": [
    "    \n",
    "######## F-SPECIFIC #########    \n",
    "f.vars <- compare_df %>% filter(sex==\"female\")\n",
    "\n",
    "# ---- b_f, b_f_v ---- #\n",
    "      B_FF <- cbind(f.vars$B.f, f.vars$B.f.v)\n",
    "      SE_FF <- cbind(f.vars$SE.f, f.vars$SE.f.v)\n",
    "       b_null_f <-  cbind(null_B_disc[,1], null_B_val[,1])\n",
    "       se_null_f <-  cbind(null_SE_disc[,1], null_SE_val[,1])\n",
    "\n",
    "    g1 <- setupGenCorr(rbind(B_FF, b_null_f), rbind(SE_FF, se_null_f))\n",
    "     \n",
    "\n",
    "# ---- b_m, b_m_v ---- #\n",
    "      B_FM <- cbind(f.vars$B.m, f.vars$B.m.v)\n",
    "      SE_FM <- cbind(f.vars$SE.m, f.vars$SE.m.v) \n",
    "       b_null_m <-  cbind(null_B_disc[,2], null_B_val[,2])\n",
    "       se_null_m <-  cbind(null_SE_disc[,2], null_SE_val[,2])\n",
    " g2 <- setupGenCorr(rbind(B_FM, b_null_m), rbind(SE_FM, se_null_m))\n",
    "\n",
    "\n",
    "######## M-SPECIFIC #########    \n",
    "m.vars <- compare_df %>% filter(sex==\"male\")\n",
    "\n",
    "# ---- b_f, b_f_v ---- #\n",
    "      B_MF <- cbind(m.vars$B.f, m.vars$B.f.v)\n",
    "      SE_MF <- cbind(m.vars$SE.f, m.vars$SE.f.v)\n",
    "    g3 <- setupGenCorr(rbind(B_MF, b_null_f), rbind(SE_MF, se_null_f))\n",
    "\n",
    "# ---- b_m, b_m_v ---- #\n",
    "      B_MM <- cbind(m.vars$B.m, m.vars$B.m.v)\n",
    "      SE_MM <- cbind(m.vars$SE.m, m.vars$SE.m.v) \n",
    "\n",
    " g4 <- setupGenCorr(rbind(B_MM, b_null_m), rbind(SE_MM, se_null_m))\n"
   ]
  },
  {
   "cell_type": "code",
   "execution_count": null,
   "metadata": {
    "collapsed": true
   },
   "outputs": [],
   "source": []
  }
 ],
 "metadata": {
  "kernelspec": {
   "display_name": "R",
   "language": "R",
   "name": "ir"
  },
  "language_info": {
   "codemirror_mode": "r",
   "file_extension": ".r",
   "mimetype": "text/x-r-source",
   "name": "R",
   "pygments_lexer": "r",
   "version": "3.4.0"
  }
 },
 "nbformat": 4,
 "nbformat_minor": 2
}
