{
 "cells": [
  {
   "cell_type": "markdown",
   "metadata": {},
   "source": [
    "### Use M1 to calculate the validation stats\n",
    "\n"
   ]
  },
  {
   "cell_type": "code",
   "execution_count": 6,
   "metadata": {},
   "outputs": [
    {
     "name": "stderr",
     "output_type": "stream",
     "text": [
      "Loading required package: rstan\n",
      "Warning message in library(package, lib.loc = lib.loc, character.only = TRUE, logical.return = TRUE, :\n",
      "“there is no package called ‘rstan’”"
     ]
    }
   ],
   "source": [
    "require('rstan')\n",
    "require('tidyverse')\n",
    "options(stringsAsFactors=FALSE)"
   ]
  },
  {
   "cell_type": "code",
   "execution_count": 2,
   "metadata": {
    "collapsed": true
   },
   "outputs": [],
   "source": [
    "createCompareDf <- function(trait){\n",
    "    m_v <- read_tsv(sprintf(\"../gwas_valid/ukb24983_v2_hg19.%s_onesex.genotyped.glm.linear\", trait) ) \n",
    "    f_v <- read_tsv(sprintf(\"../gwas_valid/ukb24983_v2_hg19.%s_zerosex.genotyped.glm.linear\", trait))\n",
    "\n",
    "    \n",
    "    df_t_train <- read.table(sprintf(\"../data/1020/m2/snps4_%s.txt\", trait), sep=\" \", header=TRUE); \n",
    "    m_train <- df_t_train %>% filter(category==3) %>% select( -p1, -p2, -p4, -category) %>% rename(post=p3, ID=SNP)\n",
    "    f_train <- df_t_train %>% filter(category==2) %>% select( -p1, -p3, -p4, -category)%>% rename(post=p2, ID=SNP)\n",
    "    \n",
    "    test_valid <- cbind( (f_v %>% select(`#CHROM`, BETA, SE, P) %>% rename(CHR=`#CHROM`, B.f=BETA, SE.f=SE, P.f=P)),\n",
    "        (m_v %>% select(ID, POS, REF, ALT, BETA, SE, P) %>% rename(B.m=BETA, SE.m=SE, P.m=P)))\n",
    "\n",
    "    test_valid_filt <- test_valid %>% filter(ID %in% c(f_train$ID, m_train$ID)) %>% \n",
    "    mutate(sex=ifelse(ID %in% f_train$ID, \"female\", \"male\"), dataset=\"validation\")\n",
    "\n",
    "    test_valid_filt2 <- test_valid_filt %>% select(-POS, -REF, -ALT)\n",
    "    test_disc <- rbind(f_train %>% mutate(sex=\"female\"), m_train %>% mutate(sex=\"male\")) %>% mutate(dataset=\"discovery\")\n",
    "\n",
    "\n",
    "    test_valid_filt3 <- test_valid_filt2 %>% \n",
    "    rename(B.f.v=B.f, B.m.v=B.m, SE.f.v=SE.f, SE.m.v=SE.m, P.f.v=P.f, P.m.v=P.m) %>% \n",
    "    select(-dataset) \n",
    "\n",
    "    train_valid_compare <- full_join(test_disc %>% select(-sex, -dataset), test_valid_filt3 %>% select( -CHR), by=\"ID\")\n",
    "    return(train_valid_compare)\n",
    "}\n",
    "\n",
    "\n"
   ]
  },
  {
   "cell_type": "code",
   "execution_count": null,
   "metadata": {
    "collapsed": true
   },
   "outputs": [],
   "source": [
    "createInput <- function(trait){\n",
    "    \n",
    "    # for f vars:\n",
    "    f.vars <- train_valid_compare %>% filter(sex==\"female\")\n",
    "      # b_f, b_f_v\n",
    "      B_FF <- cbind(f.vars$B.f, f.vars$B.f.v)\n",
    "      SE_FF <- cbind(f.vars$SE.f, f.vars$SE.f.v)\n",
    "    \n",
    "      # b_m, b_m_v\n",
    "      B_FM <- cbind(f.vars$B.m, f.vars$B.m.v)\n",
    "      SE_FM <- cbind(f.vars$SE.m, f.vars$SE.m.v)    \n",
    "\n",
    "   \n",
    "}"
   ]
  },
  {
   "cell_type": "code",
   "execution_count": 7,
   "metadata": {},
   "outputs": [
    {
     "name": "stderr",
     "output_type": "stream",
     "text": [
      "Parsed with column specification:\n",
      "cols(\n",
      "  `#CHROM` = col_character(),\n",
      "  POS = col_integer(),\n",
      "  ID = col_character(),\n",
      "  REF = col_character(),\n",
      "  ALT = col_character(),\n",
      "  A1 = col_character(),\n",
      "  TEST = col_character(),\n",
      "  OBS_CT = col_integer(),\n",
      "  BETA = col_double(),\n",
      "  SE = col_double(),\n",
      "  T_STAT = col_double(),\n",
      "  P = col_double()\n",
      ")\n",
      "Parsed with column specification:\n",
      "cols(\n",
      "  `#CHROM` = col_character(),\n",
      "  POS = col_integer(),\n",
      "  ID = col_character(),\n",
      "  REF = col_character(),\n",
      "  ALT = col_character(),\n",
      "  A1 = col_character(),\n",
      "  TEST = col_character(),\n",
      "  OBS_CT = col_integer(),\n",
      "  BETA = col_double(),\n",
      "  SE = col_double(),\n",
      "  T_STAT = col_double(),\n",
      "  P = col_double()\n",
      ")\n"
     ]
    }
   ],
   "source": [
    "whr_valid <- createCompareDf(\"whr\")\n"
   ]
  },
  {
   "cell_type": "code",
   "execution_count": 8,
   "metadata": {},
   "outputs": [
    {
     "data": {
      "text/html": [
       "<table>\n",
       "<thead><tr><th scope=col>ID</th><th scope=col>CHR</th><th scope=col>B.f</th><th scope=col>B.m</th><th scope=col>SE.f</th><th scope=col>SE.m</th><th scope=col>P.f</th><th scope=col>P.m</th><th scope=col>post</th><th scope=col>gene</th><th scope=col>B.f.v</th><th scope=col>SE.f.v</th><th scope=col>P.f.v</th><th scope=col>B.m.v</th><th scope=col>SE.m.v</th><th scope=col>P.m.v</th><th scope=col>sex</th></tr></thead>\n",
       "<tbody>\n",
       "\t<tr><td>Affx-13930511</td><td>17           </td><td> 0.0212895   </td><td> 0.01416970  </td><td>1.568192e-05 </td><td>1.813210e-05 </td><td>7.62251e-08  </td><td>0.00087601   </td><td>0.7033433    </td><td>KANSL1       </td><td> 0.00487449  </td><td>0.0144590    </td><td>0.7360280    </td><td>-0.004448610 </td><td>0.0164368    </td><td>0.7866670    </td><td>female       </td></tr>\n",
       "\t<tr><td>Affx-14156332</td><td>17           </td><td>-0.0162519   </td><td>-0.01236360  </td><td>1.769010e-05 </td><td>2.042986e-05 </td><td>1.11574e-04  </td><td>0.00623222   </td><td>0.5728301    </td><td>SCN4A        </td><td>-0.01208120  </td><td>0.0144030    </td><td>0.4015970    </td><td>-0.015715000 </td><td>0.0168903    </td><td>0.3521770    </td><td>female       </td></tr>\n",
       "\t<tr><td>Affx-18721333</td><td>2            </td><td> 0.0289729   </td><td> 0.00141626  </td><td>5.845505e-05 </td><td>6.722704e-05 </td><td>1.51007e-04  </td><td>0.86286300   </td><td>0.6227576    </td><td>NABP1        </td><td>-0.04384840  </td><td>0.0247723    </td><td>0.0767383    </td><td> 0.041595000 </td><td>0.0294328    </td><td>0.1576210    </td><td>female       </td></tr>\n",
       "\t<tr><td>Affx-21039812</td><td>3            </td><td>-0.0306894   </td><td>-0.00361323  </td><td>2.866371e-05 </td><td>3.283496e-05 </td><td>9.92864e-09  </td><td>0.52832900   </td><td>0.9967649    </td><td>SYN2         </td><td>-0.04988340  </td><td>0.0203876    </td><td>0.0144269    </td><td> 0.042934100 </td><td>0.0241009    </td><td>0.0748707    </td><td>female       </td></tr>\n",
       "\t<tr><td>Affx-35919687</td><td>14           </td><td> 0.0338067   </td><td>-0.00188247  </td><td>8.623184e-05 </td><td>9.897464e-05 </td><td>2.72109e-04  </td><td>0.84992100   </td><td>0.5106273    </td><td>NA           </td><td>-0.02414630  </td><td>0.0324515    </td><td>0.4568430    </td><td>-0.027144800 </td><td>0.0387568    </td><td>0.4837000    </td><td>female       </td></tr>\n",
       "\t<tr><td>Affx-36182531</td><td>18           </td><td>-0.0177698   </td><td>-0.00483165  </td><td>1.846937e-05 </td><td>2.120492e-05 </td><td>3.55387e-05  </td><td>0.29406700   </td><td>0.8125626    </td><td>SLC14A2      </td><td>-0.03378170  </td><td>0.0153149    </td><td>0.0274138    </td><td>-0.000877599 </td><td>0.0176111    </td><td>0.9602570    </td><td>female       </td></tr>\n",
       "</tbody>\n",
       "</table>\n"
      ],
      "text/latex": [
       "\\begin{tabular}{r|lllllllllllllllll}\n",
       " ID & CHR & B.f & B.m & SE.f & SE.m & P.f & P.m & post & gene & B.f.v & SE.f.v & P.f.v & B.m.v & SE.m.v & P.m.v & sex\\\\\n",
       "\\hline\n",
       "\t Affx-13930511 & 17            &  0.0212895    &  0.01416970   & 1.568192e-05  & 1.813210e-05  & 7.62251e-08   & 0.00087601    & 0.7033433     & KANSL1        &  0.00487449   & 0.0144590     & 0.7360280     & -0.004448610  & 0.0164368     & 0.7866670     & female       \\\\\n",
       "\t Affx-14156332 & 17            & -0.0162519    & -0.01236360   & 1.769010e-05  & 2.042986e-05  & 1.11574e-04   & 0.00623222    & 0.5728301     & SCN4A         & -0.01208120   & 0.0144030     & 0.4015970     & -0.015715000  & 0.0168903     & 0.3521770     & female       \\\\\n",
       "\t Affx-18721333 & 2             &  0.0289729    &  0.00141626   & 5.845505e-05  & 6.722704e-05  & 1.51007e-04   & 0.86286300    & 0.6227576     & NABP1         & -0.04384840   & 0.0247723     & 0.0767383     &  0.041595000  & 0.0294328     & 0.1576210     & female       \\\\\n",
       "\t Affx-21039812 & 3             & -0.0306894    & -0.00361323   & 2.866371e-05  & 3.283496e-05  & 9.92864e-09   & 0.52832900    & 0.9967649     & SYN2          & -0.04988340   & 0.0203876     & 0.0144269     &  0.042934100  & 0.0241009     & 0.0748707     & female       \\\\\n",
       "\t Affx-35919687 & 14            &  0.0338067    & -0.00188247   & 8.623184e-05  & 9.897464e-05  & 2.72109e-04   & 0.84992100    & 0.5106273     & NA            & -0.02414630   & 0.0324515     & 0.4568430     & -0.027144800  & 0.0387568     & 0.4837000     & female       \\\\\n",
       "\t Affx-36182531 & 18            & -0.0177698    & -0.00483165   & 1.846937e-05  & 2.120492e-05  & 3.55387e-05   & 0.29406700    & 0.8125626     & SLC14A2       & -0.03378170   & 0.0153149     & 0.0274138     & -0.000877599  & 0.0176111     & 0.9602570     & female       \\\\\n",
       "\\end{tabular}\n"
      ],
      "text/markdown": [
       "\n",
       "ID | CHR | B.f | B.m | SE.f | SE.m | P.f | P.m | post | gene | B.f.v | SE.f.v | P.f.v | B.m.v | SE.m.v | P.m.v | sex | \n",
       "|---|---|---|---|---|---|\n",
       "| Affx-13930511 | 17            |  0.0212895    |  0.01416970   | 1.568192e-05  | 1.813210e-05  | 7.62251e-08   | 0.00087601    | 0.7033433     | KANSL1        |  0.00487449   | 0.0144590     | 0.7360280     | -0.004448610  | 0.0164368     | 0.7866670     | female        | \n",
       "| Affx-14156332 | 17            | -0.0162519    | -0.01236360   | 1.769010e-05  | 2.042986e-05  | 1.11574e-04   | 0.00623222    | 0.5728301     | SCN4A         | -0.01208120   | 0.0144030     | 0.4015970     | -0.015715000  | 0.0168903     | 0.3521770     | female        | \n",
       "| Affx-18721333 | 2             |  0.0289729    |  0.00141626   | 5.845505e-05  | 6.722704e-05  | 1.51007e-04   | 0.86286300    | 0.6227576     | NABP1         | -0.04384840   | 0.0247723     | 0.0767383     |  0.041595000  | 0.0294328     | 0.1576210     | female        | \n",
       "| Affx-21039812 | 3             | -0.0306894    | -0.00361323   | 2.866371e-05  | 3.283496e-05  | 9.92864e-09   | 0.52832900    | 0.9967649     | SYN2          | -0.04988340   | 0.0203876     | 0.0144269     |  0.042934100  | 0.0241009     | 0.0748707     | female        | \n",
       "| Affx-35919687 | 14            |  0.0338067    | -0.00188247   | 8.623184e-05  | 9.897464e-05  | 2.72109e-04   | 0.84992100    | 0.5106273     | NA            | -0.02414630   | 0.0324515     | 0.4568430     | -0.027144800  | 0.0387568     | 0.4837000     | female        | \n",
       "| Affx-36182531 | 18            | -0.0177698    | -0.00483165   | 1.846937e-05  | 2.120492e-05  | 3.55387e-05   | 0.29406700    | 0.8125626     | SLC14A2       | -0.03378170   | 0.0153149     | 0.0274138     | -0.000877599  | 0.0176111     | 0.9602570     | female        | \n",
       "\n",
       "\n"
      ],
      "text/plain": [
       "  ID            CHR B.f        B.m         SE.f         SE.m        \n",
       "1 Affx-13930511 17   0.0212895  0.01416970 1.568192e-05 1.813210e-05\n",
       "2 Affx-14156332 17  -0.0162519 -0.01236360 1.769010e-05 2.042986e-05\n",
       "3 Affx-18721333 2    0.0289729  0.00141626 5.845505e-05 6.722704e-05\n",
       "4 Affx-21039812 3   -0.0306894 -0.00361323 2.866371e-05 3.283496e-05\n",
       "5 Affx-35919687 14   0.0338067 -0.00188247 8.623184e-05 9.897464e-05\n",
       "6 Affx-36182531 18  -0.0177698 -0.00483165 1.846937e-05 2.120492e-05\n",
       "  P.f         P.m        post      gene    B.f.v       SE.f.v    P.f.v    \n",
       "1 7.62251e-08 0.00087601 0.7033433 KANSL1   0.00487449 0.0144590 0.7360280\n",
       "2 1.11574e-04 0.00623222 0.5728301 SCN4A   -0.01208120 0.0144030 0.4015970\n",
       "3 1.51007e-04 0.86286300 0.6227576 NABP1   -0.04384840 0.0247723 0.0767383\n",
       "4 9.92864e-09 0.52832900 0.9967649 SYN2    -0.04988340 0.0203876 0.0144269\n",
       "5 2.72109e-04 0.84992100 0.5106273 NA      -0.02414630 0.0324515 0.4568430\n",
       "6 3.55387e-05 0.29406700 0.8125626 SLC14A2 -0.03378170 0.0153149 0.0274138\n",
       "  B.m.v        SE.m.v    P.m.v     sex   \n",
       "1 -0.004448610 0.0164368 0.7866670 female\n",
       "2 -0.015715000 0.0168903 0.3521770 female\n",
       "3  0.041595000 0.0294328 0.1576210 female\n",
       "4  0.042934100 0.0241009 0.0748707 female\n",
       "5 -0.027144800 0.0387568 0.4837000 female\n",
       "6 -0.000877599 0.0176111 0.9602570 female"
      ]
     },
     "metadata": {},
     "output_type": "display_data"
    }
   ],
   "source": [
    "head(whr_valid)"
   ]
  },
  {
   "cell_type": "code",
   "execution_count": null,
   "metadata": {
    "collapsed": true
   },
   "outputs": [],
   "source": []
  }
 ],
 "metadata": {
  "kernelspec": {
   "display_name": "R",
   "language": "R",
   "name": "ir"
  },
  "language_info": {
   "codemirror_mode": "r",
   "file_extension": ".r",
   "mimetype": "text/x-r-source",
   "name": "R",
   "pygments_lexer": "r",
   "version": "3.4.0"
  }
 },
 "nbformat": 4,
 "nbformat_minor": 2
}
