{
 "cells": [
  {
   "cell_type": "markdown",
   "metadata": {},
   "source": [
    "### ExamineAgeMenopause\n",
    "##### E Flynn\n",
    "##### 7/2/2018\n",
    "\n",
    "The goal of this notebook is to bin the data by age, and then also into pre-post menopause, and examine these differences. \n",
    "\n",
    "Then, we will set up the phenotype definition for menopause:\n",
    "* Pre-menopause: stated they have not reached menopause -AND- are less than 70 years old\n",
    "* Post-menopause: >2 years post menopause -AND- had menopause after age 40\n",
    "\n",
    "Excluded others"
   ]
  },
  {
   "cell_type": "code",
   "execution_count": 1,
   "metadata": {},
   "outputs": [
    {
     "name": "stderr",
     "output_type": "stream",
     "text": [
      "Loading required package: tidyverse\n",
      "── Attaching packages ─────────────────────────────────────── tidyverse 1.2.1 ──\n",
      "✔ ggplot2 2.2.1     ✔ purrr   0.2.4\n",
      "✔ tibble  1.4.2     ✔ dplyr   0.7.4\n",
      "✔ tidyr   0.8.1     ✔ stringr 1.3.0\n",
      "✔ readr   1.1.1     ✔ forcats 0.3.0\n",
      "── Conflicts ────────────────────────────────────────── tidyverse_conflicts() ──\n",
      "✖ dplyr::filter() masks stats::filter()\n",
      "✖ dplyr::lag()    masks stats::lag()\n"
     ]
    }
   ],
   "source": [
    "require('tidyverse')"
   ]
  },
  {
   "cell_type": "code",
   "execution_count": 2,
   "metadata": {
    "collapsed": true
   },
   "outputs": [],
   "source": [
    "target_dir <- '/oak/stanford/groups/mrivas/ukbb/24983/'\n",
    "covar_file <- 'phe_qc/ukb24983_GWAS_covar.phe'\n",
    "\n",
    "\n",
    "covar_data <- read.table(sprintf(\"%s/%s\", target_dir, covar_file), header=TRUE, stringsAsFactors=FALSE)"
   ]
  },
  {
   "cell_type": "code",
   "execution_count": 3,
   "metadata": {
    "collapsed": true
   },
   "outputs": [],
   "source": [
    "menopause_bin <- read.table(\"../phefiles/ss/BIN_FC1002724.phe\")\n",
    "menopause_age <- read.table(\"../phefiles/ss/INI3581.phe\")"
   ]
  },
  {
   "cell_type": "code",
   "execution_count": 5,
   "metadata": {},
   "outputs": [
    {
     "data": {
      "text/html": [
       "<table>\n",
       "<thead><tr><th scope=col>ID</th><th scope=col>ID2</th><th scope=col>val</th></tr></thead>\n",
       "<tbody>\n",
       "\t<tr><td>6016674</td><td>6016674</td><td>-9     </td></tr>\n",
       "\t<tr><td>3717852</td><td>3717852</td><td> 2     </td></tr>\n",
       "\t<tr><td>1028557</td><td>1028557</td><td>-9     </td></tr>\n",
       "\t<tr><td>6005719</td><td>6005719</td><td> 2     </td></tr>\n",
       "\t<tr><td>1409072</td><td>1409072</td><td> 1     </td></tr>\n",
       "\t<tr><td>1059353</td><td>1059353</td><td> 1     </td></tr>\n",
       "</tbody>\n",
       "</table>\n"
      ],
      "text/latex": [
       "\\begin{tabular}{r|lll}\n",
       " ID & ID2 & val\\\\\n",
       "\\hline\n",
       "\t 6016674 & 6016674 & -9     \\\\\n",
       "\t 3717852 & 3717852 &  2     \\\\\n",
       "\t 1028557 & 1028557 & -9     \\\\\n",
       "\t 6005719 & 6005719 &  2     \\\\\n",
       "\t 1409072 & 1409072 &  1     \\\\\n",
       "\t 1059353 & 1059353 &  1     \\\\\n",
       "\\end{tabular}\n"
      ],
      "text/markdown": [
       "\n",
       "ID | ID2 | val | \n",
       "|---|---|---|---|---|---|\n",
       "| 6016674 | 6016674 | -9      | \n",
       "| 3717852 | 3717852 |  2      | \n",
       "| 1028557 | 1028557 | -9      | \n",
       "| 6005719 | 6005719 |  2      | \n",
       "| 1409072 | 1409072 |  1      | \n",
       "| 1059353 | 1059353 |  1      | \n",
       "\n",
       "\n"
      ],
      "text/plain": [
       "  ID      ID2     val\n",
       "1 6016674 6016674 -9 \n",
       "2 3717852 3717852  2 \n",
       "3 1028557 1028557 -9 \n",
       "4 6005719 6005719  2 \n",
       "5 1409072 1409072  1 \n",
       "6 1059353 1059353  1 "
      ]
     },
     "metadata": {},
     "output_type": "display_data"
    },
    {
     "data": {
      "text/plain": [
       "\n",
       "    -9      1      2 \n",
       "272068  62462 168092 "
      ]
     },
     "metadata": {},
     "output_type": "display_data"
    },
    {
     "data": {
      "text/html": [
       "<table>\n",
       "<thead><tr><th scope=col>ID</th><th scope=col>ID2</th><th scope=col>val</th></tr></thead>\n",
       "<tbody>\n",
       "\t<tr><td>6016674</td><td>6016674</td><td>-9     </td></tr>\n",
       "\t<tr><td>3717852</td><td>3717852</td><td>45     </td></tr>\n",
       "\t<tr><td>1028557</td><td>1028557</td><td>-9     </td></tr>\n",
       "\t<tr><td>6005719</td><td>6005719</td><td>52     </td></tr>\n",
       "\t<tr><td>1409072</td><td>1409072</td><td>-9     </td></tr>\n",
       "\t<tr><td>1059353</td><td>1059353</td><td>-9     </td></tr>\n",
       "</tbody>\n",
       "</table>\n"
      ],
      "text/latex": [
       "\\begin{tabular}{r|lll}\n",
       " ID & ID2 & val\\\\\n",
       "\\hline\n",
       "\t 6016674 & 6016674 & -9     \\\\\n",
       "\t 3717852 & 3717852 & 45     \\\\\n",
       "\t 1028557 & 1028557 & -9     \\\\\n",
       "\t 6005719 & 6005719 & 52     \\\\\n",
       "\t 1409072 & 1409072 & -9     \\\\\n",
       "\t 1059353 & 1059353 & -9     \\\\\n",
       "\\end{tabular}\n"
      ],
      "text/markdown": [
       "\n",
       "ID | ID2 | val | \n",
       "|---|---|---|---|---|---|\n",
       "| 6016674 | 6016674 | -9      | \n",
       "| 3717852 | 3717852 | 45      | \n",
       "| 1028557 | 1028557 | -9      | \n",
       "| 6005719 | 6005719 | 52      | \n",
       "| 1409072 | 1409072 | -9      | \n",
       "| 1059353 | 1059353 | -9      | \n",
       "\n",
       "\n"
      ],
      "text/plain": [
       "  ID      ID2     val\n",
       "1 6016674 6016674 -9 \n",
       "2 3717852 3717852 45 \n",
       "3 1028557 1028557 -9 \n",
       "4 6005719 6005719 52 \n",
       "5 1409072 1409072 -9 \n",
       "6 1059353 1059353 -9 "
      ]
     },
     "metadata": {},
     "output_type": "display_data"
    },
    {
     "data": {
      "text/html": [
       "<table>\n",
       "<thead><tr><th scope=col>ID</th><th scope=col>val</th></tr></thead>\n",
       "<tbody>\n",
       "\t<tr><td>3717852</td><td>2      </td></tr>\n",
       "\t<tr><td>6005719</td><td>2      </td></tr>\n",
       "\t<tr><td>1409072</td><td>1      </td></tr>\n",
       "\t<tr><td>1059353</td><td>1      </td></tr>\n",
       "\t<tr><td>4600492</td><td>1      </td></tr>\n",
       "\t<tr><td>4557372</td><td>2      </td></tr>\n",
       "</tbody>\n",
       "</table>\n"
      ],
      "text/latex": [
       "\\begin{tabular}{r|ll}\n",
       " ID & val\\\\\n",
       "\\hline\n",
       "\t 3717852 & 2      \\\\\n",
       "\t 6005719 & 2      \\\\\n",
       "\t 1409072 & 1      \\\\\n",
       "\t 1059353 & 1      \\\\\n",
       "\t 4600492 & 1      \\\\\n",
       "\t 4557372 & 2      \\\\\n",
       "\\end{tabular}\n"
      ],
      "text/markdown": [
       "\n",
       "ID | val | \n",
       "|---|---|---|---|---|---|\n",
       "| 3717852 | 2       | \n",
       "| 6005719 | 2       | \n",
       "| 1409072 | 1       | \n",
       "| 1059353 | 1       | \n",
       "| 4600492 | 1       | \n",
       "| 4557372 | 2       | \n",
       "\n",
       "\n"
      ],
      "text/plain": [
       "  ID      val\n",
       "1 3717852 2  \n",
       "2 6005719 2  \n",
       "3 1409072 1  \n",
       "4 1059353 1  \n",
       "5 4600492 1  \n",
       "6 4557372 2  "
      ]
     },
     "metadata": {},
     "output_type": "display_data"
    }
   ],
   "source": [
    "colnames(menopause_bin) <- c(\"ID\", \"ID2\", \"val\")\n",
    "colnames(menopause_age) <- c(\"ID\", \"ID2\", \"val\")\n",
    "\n",
    "head(menopause_bin)\n",
    "    # 1 = no, 2 = yes, -9 = missing/male/prefer not to answer\n",
    "    # inferring recoding from counts, should double check\n",
    "table(menopause_bin$val)\n",
    "menopause_bin_present <- filter(menopause_bin, val !=-9)\n",
    "head(menopause_age)\n",
    "menopause_age_present <- filter(menopause_age, val !=-9)\n",
    "\n",
    "\n",
    "head(select(menopause_bin_present, -ID2))"
   ]
  },
  {
   "cell_type": "code",
   "execution_count": 26,
   "metadata": {},
   "outputs": [
    {
     "data": {
      "text/html": [
       "<table>\n",
       "<thead><tr><th scope=col>FID</th><th scope=col>IID</th><th scope=col>age</th><th scope=col>sex</th><th scope=col>Array</th><th scope=col>PC1</th><th scope=col>PC2</th><th scope=col>PC3</th></tr></thead>\n",
       "<tbody>\n",
       "\t<tr><td>2502845  </td><td>2502845  </td><td>50       </td><td>1        </td><td>1        </td><td>-12.1725 </td><td>5.39163  </td><td>-1.281030</td></tr>\n",
       "\t<tr><td>2314965  </td><td>2314965  </td><td>55       </td><td>0        </td><td>1        </td><td>-13.0245 </td><td>6.41514  </td><td>-0.183365</td></tr>\n",
       "\t<tr><td>1142584  </td><td>1142584  </td><td>60       </td><td>0        </td><td>1        </td><td>-11.4712 </td><td>3.48383  </td><td>-1.154580</td></tr>\n",
       "\t<tr><td>3665122  </td><td>3665122  </td><td>74       </td><td>0        </td><td>1        </td><td>-12.1327 </td><td>4.02976  </td><td>-0.988080</td></tr>\n",
       "\t<tr><td>4377492  </td><td>4377492  </td><td>65       </td><td>0        </td><td>1        </td><td>-12.2171 </td><td>3.50821  </td><td>-1.625990</td></tr>\n",
       "\t<tr><td>2652670  </td><td>2652670  </td><td>58       </td><td>1        </td><td>1        </td><td>-11.5847 </td><td>5.41131  </td><td> 0.785815</td></tr>\n",
       "</tbody>\n",
       "</table>\n"
      ],
      "text/latex": [
       "\\begin{tabular}{r|llllllll}\n",
       " FID & IID & age & sex & Array & PC1 & PC2 & PC3\\\\\n",
       "\\hline\n",
       "\t 2502845   & 2502845   & 50        & 1         & 1         & -12.1725  & 5.39163   & -1.281030\\\\\n",
       "\t 2314965   & 2314965   & 55        & 0         & 1         & -13.0245  & 6.41514   & -0.183365\\\\\n",
       "\t 1142584   & 1142584   & 60        & 0         & 1         & -11.4712  & 3.48383   & -1.154580\\\\\n",
       "\t 3665122   & 3665122   & 74        & 0         & 1         & -12.1327  & 4.02976   & -0.988080\\\\\n",
       "\t 4377492   & 4377492   & 65        & 0         & 1         & -12.2171  & 3.50821   & -1.625990\\\\\n",
       "\t 2652670   & 2652670   & 58        & 1         & 1         & -11.5847  & 5.41131   &  0.785815\\\\\n",
       "\\end{tabular}\n"
      ],
      "text/markdown": [
       "\n",
       "FID | IID | age | sex | Array | PC1 | PC2 | PC3 | \n",
       "|---|---|---|---|---|---|\n",
       "| 2502845   | 2502845   | 50        | 1         | 1         | -12.1725  | 5.39163   | -1.281030 | \n",
       "| 2314965   | 2314965   | 55        | 0         | 1         | -13.0245  | 6.41514   | -0.183365 | \n",
       "| 1142584   | 1142584   | 60        | 0         | 1         | -11.4712  | 3.48383   | -1.154580 | \n",
       "| 3665122   | 3665122   | 74        | 0         | 1         | -12.1327  | 4.02976   | -0.988080 | \n",
       "| 4377492   | 4377492   | 65        | 0         | 1         | -12.2171  | 3.50821   | -1.625990 | \n",
       "| 2652670   | 2652670   | 58        | 1         | 1         | -11.5847  | 5.41131   |  0.785815 | \n",
       "\n",
       "\n"
      ],
      "text/plain": [
       "  FID     IID     age sex Array PC1      PC2     PC3      \n",
       "1 2502845 2502845 50  1   1     -12.1725 5.39163 -1.281030\n",
       "2 2314965 2314965 55  0   1     -13.0245 6.41514 -0.183365\n",
       "3 1142584 1142584 60  0   1     -11.4712 3.48383 -1.154580\n",
       "4 3665122 3665122 74  0   1     -12.1327 4.02976 -0.988080\n",
       "5 4377492 4377492 65  0   1     -12.2171 3.50821 -1.625990\n",
       "6 2652670 2652670 58  1   1     -11.5847 5.41131  0.785815"
      ]
     },
     "metadata": {},
     "output_type": "display_data"
    },
    {
     "data": {
      "text/html": [
       "<table>\n",
       "<thead><tr><th scope=col>IID</th><th scope=col>meno</th><th scope=col>meno.age</th></tr></thead>\n",
       "<tbody>\n",
       "\t<tr><td>3717852</td><td>2      </td><td>45     </td></tr>\n",
       "\t<tr><td>6005719</td><td>2      </td><td>52     </td></tr>\n",
       "\t<tr><td>1409072</td><td>1      </td><td>NA     </td></tr>\n",
       "\t<tr><td>1059353</td><td>1      </td><td>NA     </td></tr>\n",
       "\t<tr><td>4600492</td><td>1      </td><td>NA     </td></tr>\n",
       "\t<tr><td>4557372</td><td>2      </td><td>52     </td></tr>\n",
       "</tbody>\n",
       "</table>\n"
      ],
      "text/latex": [
       "\\begin{tabular}{r|lll}\n",
       " IID & meno & meno.age\\\\\n",
       "\\hline\n",
       "\t 3717852 & 2       & 45     \\\\\n",
       "\t 6005719 & 2       & 52     \\\\\n",
       "\t 1409072 & 1       & NA     \\\\\n",
       "\t 1059353 & 1       & NA     \\\\\n",
       "\t 4600492 & 1       & NA     \\\\\n",
       "\t 4557372 & 2       & 52     \\\\\n",
       "\\end{tabular}\n"
      ],
      "text/markdown": [
       "\n",
       "IID | meno | meno.age | \n",
       "|---|---|---|---|---|---|\n",
       "| 3717852 | 2       | 45      | \n",
       "| 6005719 | 2       | 52      | \n",
       "| 1409072 | 1       | NA      | \n",
       "| 1059353 | 1       | NA      | \n",
       "| 4600492 | 1       | NA      | \n",
       "| 4557372 | 2       | 52      | \n",
       "\n",
       "\n"
      ],
      "text/plain": [
       "  IID     meno meno.age\n",
       "1 3717852 2    45      \n",
       "2 6005719 2    52      \n",
       "3 1409072 1    NA      \n",
       "4 1059353 1    NA      \n",
       "5 4600492 1    NA      \n",
       "6 4557372 2    52      "
      ]
     },
     "metadata": {},
     "output_type": "display_data"
    }
   ],
   "source": [
    "meno_combined <- full_join(select(menopause_bin_present, -ID2), select(menopause_age_present, -ID2),by=\"ID\", suffix=c(\".bin\", \".age\"))\n",
    "colnames(meno_combined) <- c(\"IID\", \"meno\", \"meno.age\") # rename the menoapuse columns\n",
    "head(covar_data[,1:8])\n",
    "head(meno_combined)\n",
    "combined_age_dat <- left_join(meno_combined,select(covar_data, c(IID, age, sex)), by=\"IID\" ) # combine the data frames\n",
    "\n",
    "combined_age_dat <- mutate(combined_age_dat, years.post=ifelse(meno.age<0, NA, age - meno.age)) # compute the years since menopause\n",
    "combined_age_dat <- mutate(combined_age_dat, meno=(meno!=1)) # convert the menopause coding to TRUE and FALSE"
   ]
  },
  {
   "cell_type": "code",
   "execution_count": null,
   "metadata": {
    "collapsed": true
   },
   "outputs": [],
   "source": [
    "table(meno_combined$meno)\n",
    "table(combined_age_dat$meno)"
   ]
  },
  {
   "cell_type": "code",
   "execution_count": 8,
   "metadata": {
    "collapsed": true
   },
   "outputs": [],
   "source": [
    "write.table(combined_age_dat, file=\"../data/menopause_age_data.txt\", row.names=FALSE, quote=FALSE )"
   ]
  },
  {
   "cell_type": "code",
   "execution_count": 27,
   "metadata": {},
   "outputs": [
    {
     "data": {
      "text/html": [
       "<table>\n",
       "<thead><tr><th scope=col>IID</th><th scope=col>meno</th><th scope=col>meno.age</th><th scope=col>age</th><th scope=col>sex</th><th scope=col>years.post</th></tr></thead>\n",
       "<tbody>\n",
       "\t<tr><td>3717852</td><td> TRUE  </td><td>45     </td><td>64     </td><td>0      </td><td>19     </td></tr>\n",
       "\t<tr><td>6005719</td><td> TRUE  </td><td>52     </td><td>78     </td><td>0      </td><td>26     </td></tr>\n",
       "\t<tr><td>1409072</td><td>FALSE  </td><td>NA     </td><td>51     </td><td>0      </td><td>NA     </td></tr>\n",
       "\t<tr><td>1059353</td><td>FALSE  </td><td>NA     </td><td>53     </td><td>0      </td><td>NA     </td></tr>\n",
       "\t<tr><td>4600492</td><td>FALSE  </td><td>NA     </td><td>55     </td><td>0      </td><td>NA     </td></tr>\n",
       "\t<tr><td>4557372</td><td> TRUE  </td><td>52     </td><td>71     </td><td>0      </td><td>19     </td></tr>\n",
       "</tbody>\n",
       "</table>\n"
      ],
      "text/latex": [
       "\\begin{tabular}{r|llllll}\n",
       " IID & meno & meno.age & age & sex & years.post\\\\\n",
       "\\hline\n",
       "\t 3717852 &  TRUE   & 45      & 64      & 0       & 19     \\\\\n",
       "\t 6005719 &  TRUE   & 52      & 78      & 0       & 26     \\\\\n",
       "\t 1409072 & FALSE   & NA      & 51      & 0       & NA     \\\\\n",
       "\t 1059353 & FALSE   & NA      & 53      & 0       & NA     \\\\\n",
       "\t 4600492 & FALSE   & NA      & 55      & 0       & NA     \\\\\n",
       "\t 4557372 &  TRUE   & 52      & 71      & 0       & 19     \\\\\n",
       "\\end{tabular}\n"
      ],
      "text/markdown": [
       "\n",
       "IID | meno | meno.age | age | sex | years.post | \n",
       "|---|---|---|---|---|---|\n",
       "| 3717852 |  TRUE   | 45      | 64      | 0       | 19      | \n",
       "| 6005719 |  TRUE   | 52      | 78      | 0       | 26      | \n",
       "| 1409072 | FALSE   | NA      | 51      | 0       | NA      | \n",
       "| 1059353 | FALSE   | NA      | 53      | 0       | NA      | \n",
       "| 4600492 | FALSE   | NA      | 55      | 0       | NA      | \n",
       "| 4557372 |  TRUE   | 52      | 71      | 0       | 19      | \n",
       "\n",
       "\n"
      ],
      "text/plain": [
       "  IID     meno  meno.age age sex years.post\n",
       "1 3717852  TRUE 45       64  0   19        \n",
       "2 6005719  TRUE 52       78  0   26        \n",
       "3 1409072 FALSE NA       51  0   NA        \n",
       "4 1059353 FALSE NA       53  0   NA        \n",
       "5 4600492 FALSE NA       55  0   NA        \n",
       "6 4557372  TRUE 52       71  0   19        "
      ]
     },
     "metadata": {},
     "output_type": "display_data"
    },
    {
     "name": "stderr",
     "output_type": "stream",
     "text": [
      "`stat_bin()` using `bins = 30`. Pick better value with `binwidth`.\n"
     ]
    },
    {
     "data": {},
     "metadata": {},
     "output_type": "display_data"
    },
    {
     "data": {
      "image/png": "[encoded data removed]",
      "text/plain": [
       "plot without title"
      ]
     },
     "metadata": {},
     "output_type": "display_data"
    }
   ],
   "source": [
    "# separate people into post-menopause (>2years), peri-menopause (0-2years), pre-menopause\n",
    "# -- reason to do this\n",
    "# how many fall in each category?\n",
    "head(combined_age_dat)\n",
    "ggplot(data=combined_age_dat[!is.na(combined_age_dat$years.post),], aes(years.post)) +geom_histogram()"
   ]
  },
  {
   "cell_type": "code",
   "execution_count": 32,
   "metadata": {},
   "outputs": [
    {
     "data": {
      "text/html": [
       "<table>\n",
       "<thead><tr><th scope=col>IID</th><th scope=col>meno</th><th scope=col>meno.age</th><th scope=col>age</th><th scope=col>sex</th><th scope=col>years.post</th></tr></thead>\n",
       "<tbody>\n",
       "\t<tr><td>2547259</td><td>TRUE   </td><td>51     </td><td>52     </td><td>0      </td><td>1      </td></tr>\n",
       "\t<tr><td>5201600</td><td>TRUE   </td><td>50     </td><td>51     </td><td>0      </td><td>1      </td></tr>\n",
       "\t<tr><td>1130479</td><td>TRUE   </td><td>56     </td><td>57     </td><td>0      </td><td>1      </td></tr>\n",
       "\t<tr><td>1789309</td><td>TRUE   </td><td>57     </td><td>58     </td><td>0      </td><td>1      </td></tr>\n",
       "\t<tr><td>1253936</td><td>TRUE   </td><td>52     </td><td>53     </td><td>0      </td><td>1      </td></tr>\n",
       "\t<tr><td>4977117</td><td>TRUE   </td><td>56     </td><td>57     </td><td>0      </td><td>1      </td></tr>\n",
       "\t<tr><td>3674349</td><td>TRUE   </td><td>53     </td><td>54     </td><td>0      </td><td>1      </td></tr>\n",
       "\t<tr><td>5516743</td><td>TRUE   </td><td>53     </td><td>54     </td><td>0      </td><td>1      </td></tr>\n",
       "\t<tr><td>3596107</td><td>TRUE   </td><td>54     </td><td>55     </td><td>0      </td><td>1      </td></tr>\n",
       "\t<tr><td>2435982</td><td>TRUE   </td><td>51     </td><td>52     </td><td>0      </td><td>1      </td></tr>\n",
       "\t<tr><td>3378068</td><td>TRUE   </td><td>56     </td><td>57     </td><td>0      </td><td>1      </td></tr>\n",
       "\t<tr><td>5999736</td><td>TRUE   </td><td>49     </td><td>50     </td><td>0      </td><td>1      </td></tr>\n",
       "\t<tr><td>2495035</td><td>TRUE   </td><td>51     </td><td>52     </td><td>0      </td><td>1      </td></tr>\n",
       "\t<tr><td>1698340</td><td>TRUE   </td><td>49     </td><td>50     </td><td>0      </td><td>1      </td></tr>\n",
       "\t<tr><td>3309493</td><td>TRUE   </td><td>53     </td><td>54     </td><td>0      </td><td>1      </td></tr>\n",
       "</tbody>\n",
       "</table>\n"
      ],
      "text/latex": [
       "\\begin{tabular}{r|llllll}\n",
       " IID & meno & meno.age & age & sex & years.post\\\\\n",
       "\\hline\n",
       "\t 2547259 & TRUE    & 51      & 52      & 0       & 1      \\\\\n",
       "\t 5201600 & TRUE    & 50      & 51      & 0       & 1      \\\\\n",
       "\t 1130479 & TRUE    & 56      & 57      & 0       & 1      \\\\\n",
       "\t 1789309 & TRUE    & 57      & 58      & 0       & 1      \\\\\n",
       "\t 1253936 & TRUE    & 52      & 53      & 0       & 1      \\\\\n",
       "\t 4977117 & TRUE    & 56      & 57      & 0       & 1      \\\\\n",
       "\t 3674349 & TRUE    & 53      & 54      & 0       & 1      \\\\\n",
       "\t 5516743 & TRUE    & 53      & 54      & 0       & 1      \\\\\n",
       "\t 3596107 & TRUE    & 54      & 55      & 0       & 1      \\\\\n",
       "\t 2435982 & TRUE    & 51      & 52      & 0       & 1      \\\\\n",
       "\t 3378068 & TRUE    & 56      & 57      & 0       & 1      \\\\\n",
       "\t 5999736 & TRUE    & 49      & 50      & 0       & 1      \\\\\n",
       "\t 2495035 & TRUE    & 51      & 52      & 0       & 1      \\\\\n",
       "\t 1698340 & TRUE    & 49      & 50      & 0       & 1      \\\\\n",
       "\t 3309493 & TRUE    & 53      & 54      & 0       & 1      \\\\\n",
       "\\end{tabular}\n"
      ],
      "text/markdown": [
       "\n",
       "IID | meno | meno.age | age | sex | years.post | \n",
       "|---|---|---|---|---|---|---|---|---|---|---|---|---|---|---|\n",
       "| 2547259 | TRUE    | 51      | 52      | 0       | 1       | \n",
       "| 5201600 | TRUE    | 50      | 51      | 0       | 1       | \n",
       "| 1130479 | TRUE    | 56      | 57      | 0       | 1       | \n",
       "| 1789309 | TRUE    | 57      | 58      | 0       | 1       | \n",
       "| 1253936 | TRUE    | 52      | 53      | 0       | 1       | \n",
       "| 4977117 | TRUE    | 56      | 57      | 0       | 1       | \n",
       "| 3674349 | TRUE    | 53      | 54      | 0       | 1       | \n",
       "| 5516743 | TRUE    | 53      | 54      | 0       | 1       | \n",
       "| 3596107 | TRUE    | 54      | 55      | 0       | 1       | \n",
       "| 2435982 | TRUE    | 51      | 52      | 0       | 1       | \n",
       "| 3378068 | TRUE    | 56      | 57      | 0       | 1       | \n",
       "| 5999736 | TRUE    | 49      | 50      | 0       | 1       | \n",
       "| 2495035 | TRUE    | 51      | 52      | 0       | 1       | \n",
       "| 1698340 | TRUE    | 49      | 50      | 0       | 1       | \n",
       "| 3309493 | TRUE    | 53      | 54      | 0       | 1       | \n",
       "\n",
       "\n"
      ],
      "text/plain": [
       "   IID     meno meno.age age sex years.post\n",
       "1  2547259 TRUE 51       52  0   1         \n",
       "2  5201600 TRUE 50       51  0   1         \n",
       "3  1130479 TRUE 56       57  0   1         \n",
       "4  1789309 TRUE 57       58  0   1         \n",
       "5  1253936 TRUE 52       53  0   1         \n",
       "6  4977117 TRUE 56       57  0   1         \n",
       "7  3674349 TRUE 53       54  0   1         \n",
       "8  5516743 TRUE 53       54  0   1         \n",
       "9  3596107 TRUE 54       55  0   1         \n",
       "10 2435982 TRUE 51       52  0   1         \n",
       "11 3378068 TRUE 56       57  0   1         \n",
       "12 5999736 TRUE 49       50  0   1         \n",
       "13 2495035 TRUE 51       52  0   1         \n",
       "14 1698340 TRUE 49       50  0   1         \n",
       "15 3309493 TRUE 53       54  0   1         "
      ]
     },
     "metadata": {},
     "output_type": "display_data"
    }
   ],
   "source": []
  },
  {
   "cell_type": "code",
   "execution_count": 47,
   "metadata": {},
   "outputs": [
    {
     "data": {
      "text/html": [
       "15"
      ],
      "text/latex": [
       "15"
      ],
      "text/markdown": [
       "15"
      ],
      "text/plain": [
       "[1] 15"
      ]
     },
     "metadata": {},
     "output_type": "display_data"
    },
    {
     "data": {
      "text/html": [
       "6750"
      ],
      "text/latex": [
       "6750"
      ],
      "text/markdown": [
       "6750"
      ],
      "text/plain": [
       "[1] 6750"
      ]
     },
     "metadata": {},
     "output_type": "display_data"
    },
    {
     "data": {
      "text/html": [
       "1202"
      ],
      "text/latex": [
       "1202"
      ],
      "text/markdown": [
       "1202"
      ],
      "text/plain": [
       "[1] 1202"
      ]
     },
     "metadata": {},
     "output_type": "display_data"
    },
    {
     "data": {
      "text/html": [
       "145812"
      ],
      "text/latex": [
       "145812"
      ],
      "text/markdown": [
       "145812"
      ],
      "text/plain": [
       "[1] 145812"
      ]
     },
     "metadata": {},
     "output_type": "display_data"
    }
   ],
   "source": [
    "\n",
    "nrow(filter(combined_age_dat, years.post < 2 & !is.na(years.post))) # 15 \n",
    "\n",
    "# premature menopause - occuring in a woman younger than 40 years\n",
    "nrow(filter(combined_age_dat, meno.age < 40 & !is.na(years.post)))\n",
    "nrow(filter(combined_age_dat, meno.age < 30 & !is.na(years.post)))\n",
    "\n",
    "nrow(filter(combined_age_dat, meno.age >= 40 & years.post >=2 & !is.na(years.post))) # 145,812\n"
   ]
  },
  {
   "cell_type": "code",
   "execution_count": 73,
   "metadata": {},
   "outputs": [
    {
     "data": {
      "text/html": [
       "582"
      ],
      "text/latex": [
       "582"
      ],
      "text/markdown": [
       "582"
      ],
      "text/plain": [
       "[1] 582"
      ]
     },
     "metadata": {},
     "output_type": "display_data"
    },
    {
     "data": {
      "text/html": [
       "59908"
      ],
      "text/latex": [
       "59908"
      ],
      "text/markdown": [
       "59908"
      ],
      "text/plain": [
       "[1] 59908"
      ]
     },
     "metadata": {},
     "output_type": "display_data"
    }
   ],
   "source": [
    "nrow(filter(combined_age_dat, !meno & age > 70))\n",
    "nrow(filter(combined_age_dat, !meno & age <= 70))\n",
    "\n",
    "# there are a lot of people over 65 who have not had menopause... this is surprising to me"
   ]
  },
  {
   "cell_type": "code",
   "execution_count": 77,
   "metadata": {},
   "outputs": [
    {
     "data": {
      "text/html": [
       "1972"
      ],
      "text/latex": [
       "1972"
      ],
      "text/markdown": [
       "1972"
      ],
      "text/plain": [
       "[1] 1972"
      ]
     },
     "metadata": {},
     "output_type": "display_data"
    }
   ],
   "source": [
    "nrow(filter(combined_age_dat, !meno & is.na(age))) # some are missing age data"
   ]
  },
  {
   "cell_type": "code",
   "execution_count": 71,
   "metadata": {},
   "outputs": [
    {
     "data": {
      "text/plain": [
       "\n",
       "     0      1 \n",
       " 59908 145812 "
      ]
     },
     "metadata": {},
     "output_type": "display_data"
    }
   ],
   "source": [
    "# phenotype-label\n",
    "# 1 = menopause, 0 = pre-menopause, NA = QC removed\n",
    "combined_age_dat2 <- mutate(combined_age_dat, \n",
    "                            phe.label=ifelse(meno.age >= 40 & years.post >=2 & !is.na(years.post), 1,\n",
    "                                             ifelse(!meno & age <= 70, 0, NA)))\n",
    "\n",
    "table(combined_age_dat2$phe.label)"
   ]
  },
  {
   "cell_type": "code",
   "execution_count": 74,
   "metadata": {},
   "outputs": [
    {
     "data": {
      "text/html": [
       "62462"
      ],
      "text/latex": [
       "62462"
      ],
      "text/markdown": [
       "62462"
      ],
      "text/plain": [
       "[1] 62462"
      ]
     },
     "metadata": {},
     "output_type": "display_data"
    },
    {
     "data": {},
     "metadata": {},
     "output_type": "display_data"
    },
    {
     "data": {
      "image/png": "[encoded data removed]",
      "text/plain": [
       "plot without title"
      ]
     },
     "metadata": {},
     "output_type": "display_data"
    }
   ],
   "source": [
    "nrow(filter(combined_age_dat, !meno)) # 62,462\n",
    "\n",
    "combined_age_dat3 <- combined_age_dat2[!is.na(combined_age_dat2$phe.label),]\n",
    "combined_age_dat3$phe.label <- as.factor(combined_age_dat3$phe.label)\n",
    "ggplot(data=combined_age_dat3, aes(age, colour=phe.label, fill=phe.label)) +geom_density(alpha=0.1)\n",
    "\n",
    "# this really divides the group by age <-- although some of this is by definition\n"
   ]
  },
  {
   "cell_type": "code",
   "execution_count": 76,
   "metadata": {
    "collapsed": true
   },
   "outputs": [],
   "source": [
    "# write out the labels as phe files\n",
    "pre_meno <- filter(combined_age_dat3, phe.label == 0 )\n",
    "write.table(select(pre_meno, IID), file=\"../phefiles/pre_meno.keep\", quote=FALSE, row.names=FALSE, col.names=FALSE)\n",
    "post_meno <- filter(combined_age_dat3, phe.label == 1 )\n",
    "write.table(select(post_meno, IID), file=\"../phefiles/post_meno.keep\", quote=FALSE, row.names=FALSE, col.names=FALSE)\n",
    "\n",
    "# Qs to ask:\n",
    "# - does age affect this?\n",
    "# - does the label imbalance affect things?"
   ]
  }
 ],
 "metadata": {
  "kernelspec": {
   "display_name": "R",
   "language": "R",
   "name": "ir"
  },
  "language_info": {
   "codemirror_mode": "r",
   "file_extension": ".r",
   "mimetype": "text/x-r-source",
   "name": "R",
   "pygments_lexer": "r",
   "version": "3.4.0"
  }
 },
 "nbformat": 4,
 "nbformat_minor": 2
}
