{
 "cells": [
  {
   "cell_type": "markdown",
   "metadata": {},
   "source": [
    "### ExamineAgeMenopause\n",
    "##### E Flynn\n",
    "##### 7/2/2018\n",
    "\n",
    "The goal of this notebook is to bin the data by age, and then also into pre-post menopause, and examine these differences. \n",
    "\n",
    "Then, we will set up the phenotype definition for females and menopause:\n",
    "* Pre-menopause: stated they have not reached menopause -AND- are less than 70 years old\n",
    "* Post-menopause: >2 years post menopause -AND- had menopause after age 40\n",
    "\n",
    "Excluded others"
   ]
  },
  {
   "cell_type": "code",
   "execution_count": 1,
   "metadata": {},
   "outputs": [
    {
     "name": "stderr",
     "output_type": "stream",
     "text": [
      "Loading required package: tidyverse\n",
      "── Attaching packages ─────────────────────────────────────── tidyverse 1.2.1 ──\n",
      "✔ ggplot2 2.2.1     ✔ purrr   0.2.4\n",
      "✔ tibble  1.4.2     ✔ dplyr   0.7.4\n",
      "✔ tidyr   0.8.1     ✔ stringr 1.3.0\n",
      "✔ readr   1.1.1     ✔ forcats 0.3.0\n",
      "── Conflicts ────────────────────────────────────────── tidyverse_conflicts() ──\n",
      "✖ dplyr::filter() masks stats::filter()\n",
      "✖ dplyr::lag()    masks stats::lag()\n"
     ]
    }
   ],
   "source": [
    "require('tidyverse')"
   ]
  },
  {
   "cell_type": "code",
   "execution_count": 2,
   "metadata": {
    "collapsed": true
   },
   "outputs": [],
   "source": [
    "target_dir <- '/oak/stanford/groups/mrivas/ukbb/24983/'\n",
    "covar_file <- 'phe_qc/ukb24983_GWAS_covar.phe'\n",
    "\n",
    "\n",
    "covar_data <- read.table(sprintf(\"%s/%s\", target_dir, covar_file), header=TRUE, stringsAsFactors=FALSE)"
   ]
  },
  {
   "cell_type": "code",
   "execution_count": 3,
   "metadata": {
    "collapsed": true
   },
   "outputs": [],
   "source": [
    "menopause_bin <- read.table(\"../phefiles/ss/BIN_FC1002724.phe\")\n",
    "menopause_age <- read.table(\"../phefiles/ss/INI3581.phe\")"
   ]
  },
  {
   "cell_type": "code",
   "execution_count": 4,
   "metadata": {},
   "outputs": [
    {
     "data": {
      "text/html": [
       "<table>\n",
       "<thead><tr><th scope=col>ID</th><th scope=col>ID2</th><th scope=col>val</th></tr></thead>\n",
       "<tbody>\n",
       "\t<tr><td>6016674</td><td>6016674</td><td>-9     </td></tr>\n",
       "\t<tr><td>3717852</td><td>3717852</td><td> 2     </td></tr>\n",
       "\t<tr><td>1028557</td><td>1028557</td><td>-9     </td></tr>\n",
       "\t<tr><td>6005719</td><td>6005719</td><td> 2     </td></tr>\n",
       "\t<tr><td>1409072</td><td>1409072</td><td> 1     </td></tr>\n",
       "\t<tr><td>1059353</td><td>1059353</td><td> 1     </td></tr>\n",
       "</tbody>\n",
       "</table>\n"
      ],
      "text/latex": [
       "\\begin{tabular}{r|lll}\n",
       " ID & ID2 & val\\\\\n",
       "\\hline\n",
       "\t 6016674 & 6016674 & -9     \\\\\n",
       "\t 3717852 & 3717852 &  2     \\\\\n",
       "\t 1028557 & 1028557 & -9     \\\\\n",
       "\t 6005719 & 6005719 &  2     \\\\\n",
       "\t 1409072 & 1409072 &  1     \\\\\n",
       "\t 1059353 & 1059353 &  1     \\\\\n",
       "\\end{tabular}\n"
      ],
      "text/markdown": [
       "\n",
       "ID | ID2 | val | \n",
       "|---|---|---|---|---|---|\n",
       "| 6016674 | 6016674 | -9      | \n",
       "| 3717852 | 3717852 |  2      | \n",
       "| 1028557 | 1028557 | -9      | \n",
       "| 6005719 | 6005719 |  2      | \n",
       "| 1409072 | 1409072 |  1      | \n",
       "| 1059353 | 1059353 |  1      | \n",
       "\n",
       "\n"
      ],
      "text/plain": [
       "  ID      ID2     val\n",
       "1 6016674 6016674 -9 \n",
       "2 3717852 3717852  2 \n",
       "3 1028557 1028557 -9 \n",
       "4 6005719 6005719  2 \n",
       "5 1409072 1409072  1 \n",
       "6 1059353 1059353  1 "
      ]
     },
     "metadata": {},
     "output_type": "display_data"
    },
    {
     "data": {
      "text/plain": [
       "\n",
       "    -9      1      2 \n",
       "272068  62462 168092 "
      ]
     },
     "metadata": {},
     "output_type": "display_data"
    },
    {
     "data": {
      "text/html": [
       "<table>\n",
       "<thead><tr><th scope=col>ID</th><th scope=col>ID2</th><th scope=col>val</th></tr></thead>\n",
       "<tbody>\n",
       "\t<tr><td>6016674</td><td>6016674</td><td>-9     </td></tr>\n",
       "\t<tr><td>3717852</td><td>3717852</td><td>45     </td></tr>\n",
       "\t<tr><td>1028557</td><td>1028557</td><td>-9     </td></tr>\n",
       "\t<tr><td>6005719</td><td>6005719</td><td>52     </td></tr>\n",
       "\t<tr><td>1409072</td><td>1409072</td><td>-9     </td></tr>\n",
       "\t<tr><td>1059353</td><td>1059353</td><td>-9     </td></tr>\n",
       "</tbody>\n",
       "</table>\n"
      ],
      "text/latex": [
       "\\begin{tabular}{r|lll}\n",
       " ID & ID2 & val\\\\\n",
       "\\hline\n",
       "\t 6016674 & 6016674 & -9     \\\\\n",
       "\t 3717852 & 3717852 & 45     \\\\\n",
       "\t 1028557 & 1028557 & -9     \\\\\n",
       "\t 6005719 & 6005719 & 52     \\\\\n",
       "\t 1409072 & 1409072 & -9     \\\\\n",
       "\t 1059353 & 1059353 & -9     \\\\\n",
       "\\end{tabular}\n"
      ],
      "text/markdown": [
       "\n",
       "ID | ID2 | val | \n",
       "|---|---|---|---|---|---|\n",
       "| 6016674 | 6016674 | -9      | \n",
       "| 3717852 | 3717852 | 45      | \n",
       "| 1028557 | 1028557 | -9      | \n",
       "| 6005719 | 6005719 | 52      | \n",
       "| 1409072 | 1409072 | -9      | \n",
       "| 1059353 | 1059353 | -9      | \n",
       "\n",
       "\n"
      ],
      "text/plain": [
       "  ID      ID2     val\n",
       "1 6016674 6016674 -9 \n",
       "2 3717852 3717852 45 \n",
       "3 1028557 1028557 -9 \n",
       "4 6005719 6005719 52 \n",
       "5 1409072 1409072 -9 \n",
       "6 1059353 1059353 -9 "
      ]
     },
     "metadata": {},
     "output_type": "display_data"
    },
    {
     "data": {
      "text/html": [
       "<table>\n",
       "<thead><tr><th scope=col>ID</th><th scope=col>val</th></tr></thead>\n",
       "<tbody>\n",
       "\t<tr><td>3717852</td><td>2      </td></tr>\n",
       "\t<tr><td>6005719</td><td>2      </td></tr>\n",
       "\t<tr><td>1409072</td><td>1      </td></tr>\n",
       "\t<tr><td>1059353</td><td>1      </td></tr>\n",
       "\t<tr><td>4600492</td><td>1      </td></tr>\n",
       "\t<tr><td>4557372</td><td>2      </td></tr>\n",
       "</tbody>\n",
       "</table>\n"
      ],
      "text/latex": [
       "\\begin{tabular}{r|ll}\n",
       " ID & val\\\\\n",
       "\\hline\n",
       "\t 3717852 & 2      \\\\\n",
       "\t 6005719 & 2      \\\\\n",
       "\t 1409072 & 1      \\\\\n",
       "\t 1059353 & 1      \\\\\n",
       "\t 4600492 & 1      \\\\\n",
       "\t 4557372 & 2      \\\\\n",
       "\\end{tabular}\n"
      ],
      "text/markdown": [
       "\n",
       "ID | val | \n",
       "|---|---|---|---|---|---|\n",
       "| 3717852 | 2       | \n",
       "| 6005719 | 2       | \n",
       "| 1409072 | 1       | \n",
       "| 1059353 | 1       | \n",
       "| 4600492 | 1       | \n",
       "| 4557372 | 2       | \n",
       "\n",
       "\n"
      ],
      "text/plain": [
       "  ID      val\n",
       "1 3717852 2  \n",
       "2 6005719 2  \n",
       "3 1409072 1  \n",
       "4 1059353 1  \n",
       "5 4600492 1  \n",
       "6 4557372 2  "
      ]
     },
     "metadata": {},
     "output_type": "display_data"
    }
   ],
   "source": [
    "colnames(menopause_bin) <- c(\"ID\", \"ID2\", \"val\")\n",
    "colnames(menopause_age) <- c(\"ID\", \"ID2\", \"val\")\n",
    "\n",
    "head(menopause_bin)\n",
    "    # 1 = no, 2 = yes, -9 = missing/male/prefer not to answer\n",
    "    # inferring recoding from counts, should double check\n",
    "table(menopause_bin$val)\n",
    "menopause_bin_present <- filter(menopause_bin, val !=-9)\n",
    "head(menopause_age)\n",
    "menopause_age_present <- filter(menopause_age, val !=-9)\n",
    "\n",
    "\n",
    "head(select(menopause_bin_present, -ID2))"
   ]
  },
  {
   "cell_type": "code",
   "execution_count": 5,
   "metadata": {},
   "outputs": [
    {
     "data": {
      "text/html": [
       "<table>\n",
       "<thead><tr><th scope=col>FID</th><th scope=col>IID</th><th scope=col>age</th><th scope=col>sex</th><th scope=col>Array</th><th scope=col>PC1</th><th scope=col>PC2</th><th scope=col>PC3</th></tr></thead>\n",
       "<tbody>\n",
       "\t<tr><td>2502845  </td><td>2502845  </td><td>50       </td><td>1        </td><td>1        </td><td>-12.1725 </td><td>5.39163  </td><td>-1.281030</td></tr>\n",
       "\t<tr><td>2314965  </td><td>2314965  </td><td>55       </td><td>0        </td><td>1        </td><td>-13.0245 </td><td>6.41514  </td><td>-0.183365</td></tr>\n",
       "\t<tr><td>1142584  </td><td>1142584  </td><td>60       </td><td>0        </td><td>1        </td><td>-11.4712 </td><td>3.48383  </td><td>-1.154580</td></tr>\n",
       "\t<tr><td>3665122  </td><td>3665122  </td><td>74       </td><td>0        </td><td>1        </td><td>-12.1327 </td><td>4.02976  </td><td>-0.988080</td></tr>\n",
       "\t<tr><td>4377492  </td><td>4377492  </td><td>65       </td><td>0        </td><td>1        </td><td>-12.2171 </td><td>3.50821  </td><td>-1.625990</td></tr>\n",
       "\t<tr><td>2652670  </td><td>2652670  </td><td>58       </td><td>1        </td><td>1        </td><td>-11.5847 </td><td>5.41131  </td><td> 0.785815</td></tr>\n",
       "</tbody>\n",
       "</table>\n"
      ],
      "text/latex": [
       "\\begin{tabular}{r|llllllll}\n",
       " FID & IID & age & sex & Array & PC1 & PC2 & PC3\\\\\n",
       "\\hline\n",
       "\t 2502845   & 2502845   & 50        & 1         & 1         & -12.1725  & 5.39163   & -1.281030\\\\\n",
       "\t 2314965   & 2314965   & 55        & 0         & 1         & -13.0245  & 6.41514   & -0.183365\\\\\n",
       "\t 1142584   & 1142584   & 60        & 0         & 1         & -11.4712  & 3.48383   & -1.154580\\\\\n",
       "\t 3665122   & 3665122   & 74        & 0         & 1         & -12.1327  & 4.02976   & -0.988080\\\\\n",
       "\t 4377492   & 4377492   & 65        & 0         & 1         & -12.2171  & 3.50821   & -1.625990\\\\\n",
       "\t 2652670   & 2652670   & 58        & 1         & 1         & -11.5847  & 5.41131   &  0.785815\\\\\n",
       "\\end{tabular}\n"
      ],
      "text/markdown": [
       "\n",
       "FID | IID | age | sex | Array | PC1 | PC2 | PC3 | \n",
       "|---|---|---|---|---|---|\n",
       "| 2502845   | 2502845   | 50        | 1         | 1         | -12.1725  | 5.39163   | -1.281030 | \n",
       "| 2314965   | 2314965   | 55        | 0         | 1         | -13.0245  | 6.41514   | -0.183365 | \n",
       "| 1142584   | 1142584   | 60        | 0         | 1         | -11.4712  | 3.48383   | -1.154580 | \n",
       "| 3665122   | 3665122   | 74        | 0         | 1         | -12.1327  | 4.02976   | -0.988080 | \n",
       "| 4377492   | 4377492   | 65        | 0         | 1         | -12.2171  | 3.50821   | -1.625990 | \n",
       "| 2652670   | 2652670   | 58        | 1         | 1         | -11.5847  | 5.41131   |  0.785815 | \n",
       "\n",
       "\n"
      ],
      "text/plain": [
       "  FID     IID     age sex Array PC1      PC2     PC3      \n",
       "1 2502845 2502845 50  1   1     -12.1725 5.39163 -1.281030\n",
       "2 2314965 2314965 55  0   1     -13.0245 6.41514 -0.183365\n",
       "3 1142584 1142584 60  0   1     -11.4712 3.48383 -1.154580\n",
       "4 3665122 3665122 74  0   1     -12.1327 4.02976 -0.988080\n",
       "5 4377492 4377492 65  0   1     -12.2171 3.50821 -1.625990\n",
       "6 2652670 2652670 58  1   1     -11.5847 5.41131  0.785815"
      ]
     },
     "metadata": {},
     "output_type": "display_data"
    },
    {
     "data": {
      "text/html": [
       "<table>\n",
       "<thead><tr><th scope=col>IID</th><th scope=col>meno</th><th scope=col>meno.age</th></tr></thead>\n",
       "<tbody>\n",
       "\t<tr><td>3717852</td><td>2      </td><td>45     </td></tr>\n",
       "\t<tr><td>6005719</td><td>2      </td><td>52     </td></tr>\n",
       "\t<tr><td>1409072</td><td>1      </td><td>NA     </td></tr>\n",
       "\t<tr><td>1059353</td><td>1      </td><td>NA     </td></tr>\n",
       "\t<tr><td>4600492</td><td>1      </td><td>NA     </td></tr>\n",
       "\t<tr><td>4557372</td><td>2      </td><td>52     </td></tr>\n",
       "</tbody>\n",
       "</table>\n"
      ],
      "text/latex": [
       "\\begin{tabular}{r|lll}\n",
       " IID & meno & meno.age\\\\\n",
       "\\hline\n",
       "\t 3717852 & 2       & 45     \\\\\n",
       "\t 6005719 & 2       & 52     \\\\\n",
       "\t 1409072 & 1       & NA     \\\\\n",
       "\t 1059353 & 1       & NA     \\\\\n",
       "\t 4600492 & 1       & NA     \\\\\n",
       "\t 4557372 & 2       & 52     \\\\\n",
       "\\end{tabular}\n"
      ],
      "text/markdown": [
       "\n",
       "IID | meno | meno.age | \n",
       "|---|---|---|---|---|---|\n",
       "| 3717852 | 2       | 45      | \n",
       "| 6005719 | 2       | 52      | \n",
       "| 1409072 | 1       | NA      | \n",
       "| 1059353 | 1       | NA      | \n",
       "| 4600492 | 1       | NA      | \n",
       "| 4557372 | 2       | 52      | \n",
       "\n",
       "\n"
      ],
      "text/plain": [
       "  IID     meno meno.age\n",
       "1 3717852 2    45      \n",
       "2 6005719 2    52      \n",
       "3 1409072 1    NA      \n",
       "4 1059353 1    NA      \n",
       "5 4600492 1    NA      \n",
       "6 4557372 2    52      "
      ]
     },
     "metadata": {},
     "output_type": "display_data"
    }
   ],
   "source": [
    "meno_combined <- full_join(select(menopause_bin_present, -ID2), select(menopause_age_present, -ID2),by=\"ID\", suffix=c(\".bin\", \".age\"))\n",
    "colnames(meno_combined) <- c(\"IID\", \"meno\", \"meno.age\") # rename the menoapuse columns\n",
    "head(covar_data[,1:8])\n",
    "covar_data_f <- filter(covar_data, sex==0)\n",
    "head(meno_combined)\n",
    "combined_age_dat <- left_join(meno_combined,select(covar_data_f, c(IID, age, sex)), by=\"IID\" ) # combine the data frames\n",
    "\n",
    "combined_age_dat <- mutate(combined_age_dat, years.post=ifelse(meno.age<0, NA, age - meno.age)) # compute the years since menopause\n",
    "combined_age_dat <- mutate(combined_age_dat, meno=(meno!=1)) # convert the menopause coding to TRUE and FALSE"
   ]
  },
  {
   "cell_type": "code",
   "execution_count": 6,
   "metadata": {},
   "outputs": [
    {
     "data": {
      "text/plain": [
       "\n",
       "     1      2 \n",
       " 62462 168092 "
      ]
     },
     "metadata": {},
     "output_type": "display_data"
    },
    {
     "data": {
      "text/plain": [
       "\n",
       " FALSE   TRUE \n",
       " 62462 168092 "
      ]
     },
     "metadata": {},
     "output_type": "display_data"
    }
   ],
   "source": [
    "table(meno_combined$meno)\n",
    "table(combined_age_dat$meno)"
   ]
  },
  {
   "cell_type": "code",
   "execution_count": 7,
   "metadata": {},
   "outputs": [
    {
     "data": {
      "text/plain": [
       "\n",
       "     0 \n",
       "223433 "
      ]
     },
     "metadata": {},
     "output_type": "display_data"
    }
   ],
   "source": [
    "# make sure there are no males!\n",
    "table(combined_age_dat$sex)"
   ]
  },
  {
   "cell_type": "code",
   "execution_count": 8,
   "metadata": {
    "collapsed": true
   },
   "outputs": [],
   "source": [
    "write.table(combined_age_dat, file=\"../data/menopause_age_data.txt\", row.names=FALSE, quote=FALSE )"
   ]
  },
  {
   "cell_type": "code",
   "execution_count": 9,
   "metadata": {},
   "outputs": [
    {
     "data": {
      "text/html": [
       "<table>\n",
       "<thead><tr><th scope=col>IID</th><th scope=col>meno</th><th scope=col>meno.age</th><th scope=col>age</th><th scope=col>sex</th><th scope=col>years.post</th></tr></thead>\n",
       "<tbody>\n",
       "\t<tr><td>3717852</td><td> TRUE  </td><td>45     </td><td>64     </td><td>0      </td><td>19     </td></tr>\n",
       "\t<tr><td>6005719</td><td> TRUE  </td><td>52     </td><td>78     </td><td>0      </td><td>26     </td></tr>\n",
       "\t<tr><td>1409072</td><td>FALSE  </td><td>NA     </td><td>51     </td><td>0      </td><td>NA     </td></tr>\n",
       "\t<tr><td>1059353</td><td>FALSE  </td><td>NA     </td><td>53     </td><td>0      </td><td>NA     </td></tr>\n",
       "\t<tr><td>4600492</td><td>FALSE  </td><td>NA     </td><td>55     </td><td>0      </td><td>NA     </td></tr>\n",
       "\t<tr><td>4557372</td><td> TRUE  </td><td>52     </td><td>71     </td><td>0      </td><td>19     </td></tr>\n",
       "</tbody>\n",
       "</table>\n"
      ],
      "text/latex": [
       "\\begin{tabular}{r|llllll}\n",
       " IID & meno & meno.age & age & sex & years.post\\\\\n",
       "\\hline\n",
       "\t 3717852 &  TRUE   & 45      & 64      & 0       & 19     \\\\\n",
       "\t 6005719 &  TRUE   & 52      & 78      & 0       & 26     \\\\\n",
       "\t 1409072 & FALSE   & NA      & 51      & 0       & NA     \\\\\n",
       "\t 1059353 & FALSE   & NA      & 53      & 0       & NA     \\\\\n",
       "\t 4600492 & FALSE   & NA      & 55      & 0       & NA     \\\\\n",
       "\t 4557372 &  TRUE   & 52      & 71      & 0       & 19     \\\\\n",
       "\\end{tabular}\n"
      ],
      "text/markdown": [
       "\n",
       "IID | meno | meno.age | age | sex | years.post | \n",
       "|---|---|---|---|---|---|\n",
       "| 3717852 |  TRUE   | 45      | 64      | 0       | 19      | \n",
       "| 6005719 |  TRUE   | 52      | 78      | 0       | 26      | \n",
       "| 1409072 | FALSE   | NA      | 51      | 0       | NA      | \n",
       "| 1059353 | FALSE   | NA      | 53      | 0       | NA      | \n",
       "| 4600492 | FALSE   | NA      | 55      | 0       | NA      | \n",
       "| 4557372 |  TRUE   | 52      | 71      | 0       | 19      | \n",
       "\n",
       "\n"
      ],
      "text/plain": [
       "  IID     meno  meno.age age sex years.post\n",
       "1 3717852  TRUE 45       64  0   19        \n",
       "2 6005719  TRUE 52       78  0   26        \n",
       "3 1409072 FALSE NA       51  0   NA        \n",
       "4 1059353 FALSE NA       53  0   NA        \n",
       "5 4600492 FALSE NA       55  0   NA        \n",
       "6 4557372  TRUE 52       71  0   19        "
      ]
     },
     "metadata": {},
     "output_type": "display_data"
    },
    {
     "name": "stderr",
     "output_type": "stream",
     "text": [
      "`stat_bin()` using `bins = 30`. Pick better value with `binwidth`.\n"
     ]
    },
    {
     "data": {},
     "metadata": {},
     "output_type": "display_data"
    },
    {
     "data": {
      "image/png": "[encoded data removed]",
      "text/plain": [
       "plot without title"
      ]
     },
     "metadata": {},
     "output_type": "display_data"
    }
   ],
   "source": [
    "# separate people into post-menopause (>2years), peri-menopause (0-2years), pre-menopause\n",
    "# -- reason to do this\n",
    "# how many fall in each category?\n",
    "head(combined_age_dat)\n",
    "ggplot(data=combined_age_dat[!is.na(combined_age_dat$years.post),], aes(years.post)) +geom_histogram()"
   ]
  },
  {
   "cell_type": "code",
   "execution_count": 10,
   "metadata": {},
   "outputs": [
    {
     "data": {
      "text/html": [
       "15"
      ],
      "text/latex": [
       "15"
      ],
      "text/markdown": [
       "15"
      ],
      "text/plain": [
       "[1] 15"
      ]
     },
     "metadata": {},
     "output_type": "display_data"
    },
    {
     "data": {
      "text/html": [
       "6746"
      ],
      "text/latex": [
       "6746"
      ],
      "text/markdown": [
       "6746"
      ],
      "text/plain": [
       "[1] 6746"
      ]
     },
     "metadata": {},
     "output_type": "display_data"
    },
    {
     "data": {
      "text/html": [
       "1201"
      ],
      "text/latex": [
       "1201"
      ],
      "text/markdown": [
       "1201"
      ],
      "text/plain": [
       "[1] 1201"
      ]
     },
     "metadata": {},
     "output_type": "display_data"
    },
    {
     "data": {
      "text/html": [
       "145796"
      ],
      "text/latex": [
       "145796"
      ],
      "text/markdown": [
       "145796"
      ],
      "text/plain": [
       "[1] 145796"
      ]
     },
     "metadata": {},
     "output_type": "display_data"
    }
   ],
   "source": [
    "\n",
    "nrow(filter(combined_age_dat, years.post < 2 & !is.na(years.post))) # 15 \n",
    "\n",
    "# premature menopause - occuring in a woman younger than 40 years\n",
    "nrow(filter(combined_age_dat, meno.age < 40 & !is.na(years.post)))\n",
    "nrow(filter(combined_age_dat, meno.age < 30 & !is.na(years.post)))\n",
    "\n",
    "nrow(filter(combined_age_dat, meno.age >= 40 & years.post >=2 & !is.na(years.post))) # 145,812\n"
   ]
  },
  {
   "cell_type": "code",
   "execution_count": 11,
   "metadata": {},
   "outputs": [
    {
     "data": {
      "text/html": [
       "579"
      ],
      "text/latex": [
       "579"
      ],
      "text/markdown": [
       "579"
      ],
      "text/plain": [
       "[1] 579"
      ]
     },
     "metadata": {},
     "output_type": "display_data"
    },
    {
     "data": {
      "text/html": [
       "59895"
      ],
      "text/latex": [
       "59895"
      ],
      "text/markdown": [
       "59895"
      ],
      "text/plain": [
       "[1] 59895"
      ]
     },
     "metadata": {},
     "output_type": "display_data"
    }
   ],
   "source": [
    "nrow(filter(combined_age_dat, !meno & age > 70))\n",
    "nrow(filter(combined_age_dat, !meno & age <= 70))\n",
    "\n",
    "# there are a lot of people over 65 who have not had menopause... this is surprising to me"
   ]
  },
  {
   "cell_type": "code",
   "execution_count": 12,
   "metadata": {},
   "outputs": [
    {
     "data": {
      "text/html": [
       "1988"
      ],
      "text/latex": [
       "1988"
      ],
      "text/markdown": [
       "1988"
      ],
      "text/plain": [
       "[1] 1988"
      ]
     },
     "metadata": {},
     "output_type": "display_data"
    }
   ],
   "source": [
    "nrow(filter(combined_age_dat, !meno & is.na(age))) # some are missing age data"
   ]
  },
  {
   "cell_type": "code",
   "execution_count": 13,
   "metadata": {},
   "outputs": [
    {
     "data": {
      "text/plain": [
       "\n",
       "     0      1 \n",
       " 59895 145796 "
      ]
     },
     "metadata": {},
     "output_type": "display_data"
    }
   ],
   "source": [
    "# phenotype-label\n",
    "# 1 = menopause, 0 = pre-menopause, NA = QC removed\n",
    "combined_age_dat2 <- mutate(combined_age_dat, \n",
    "                            phe.label=ifelse(meno.age >= 40 & years.post >=2 & !is.na(years.post), 1,\n",
    "                                             ifelse(!meno & age <= 70, 0, NA)))\n",
    "\n",
    "table(combined_age_dat2$phe.label)"
   ]
  },
  {
   "cell_type": "code",
   "execution_count": 14,
   "metadata": {},
   "outputs": [
    {
     "data": {
      "text/html": [
       "62462"
      ],
      "text/latex": [
       "62462"
      ],
      "text/markdown": [
       "62462"
      ],
      "text/plain": [
       "[1] 62462"
      ]
     },
     "metadata": {},
     "output_type": "display_data"
    },
    {
     "data": {},
     "metadata": {},
     "output_type": "display_data"
    },
    {
     "data": {
      "image/png": "[encoded data removed]",
      "text/plain": [
       "plot without title"
      ]
     },
     "metadata": {},
     "output_type": "display_data"
    }
   ],
   "source": [
    "nrow(filter(combined_age_dat, !meno)) # 62,462\n",
    "\n",
    "combined_age_dat3 <- combined_age_dat2[!is.na(combined_age_dat2$phe.label),]\n",
    "combined_age_dat3$phe.label <- as.factor(combined_age_dat3$phe.label)\n",
    "ggplot(data=combined_age_dat3, aes(age, colour=phe.label, fill=phe.label)) +geom_density(alpha=0.1)\n",
    "\n",
    "# this really divides the group by age <-- although some of this is by definition\n"
   ]
  },
  {
   "cell_type": "code",
   "execution_count": 15,
   "metadata": {
    "collapsed": true
   },
   "outputs": [],
   "source": [
    "# write out the labels as phe files\n",
    "pre_meno <- filter(combined_age_dat3, phe.label == 0 )\n",
    "#write.table(select(pre_meno, IID), file=\"../phefiles/pre_meno.keep\", quote=FALSE, row.names=FALSE, col.names=FALSE)\n",
    "post_meno <- filter(combined_age_dat3, phe.label == 1 )\n",
    "#write.table(select(post_meno, IID), file=\"../phefiles/post_meno.keep\", quote=FALSE, row.names=FALSE, col.names=FALSE)\n",
    "\n",
    "# Qs to ask:\n",
    "# - does age affect this?\n"
   ]
  },
  {
   "cell_type": "code",
   "execution_count": 22,
   "metadata": {},
   "outputs": [
    {
     "data": {
      "text/html": [
       "156135"
      ],
      "text/latex": [
       "156135"
      ],
      "text/markdown": [
       "156135"
      ],
      "text/plain": [
       "[1] 156135"
      ]
     },
     "metadata": {},
     "output_type": "display_data"
    },
    {
     "data": {
      "text/html": [
       "181064"
      ],
      "text/latex": [
       "181064"
      ],
      "text/markdown": [
       "181064"
      ],
      "text/plain": [
       "[1] 181064"
      ]
     },
     "metadata": {},
     "output_type": "display_data"
    }
   ],
   "source": [
    "# how do I have more females than I thought?\n",
    "# - are we removing the appropriate samples?\n",
    "onesex.tab <- read.table(\"../phefiles/old_sex_labels/onesex.keep\") # 156k\n",
    "nrow(onesex.tab)\n",
    "\n",
    "zerosex.tab <- read.table(\"../phefiles/old_sex_labels/zerosex.keep\") # 181k\n",
    "nrow(zerosex.tab)\n",
    "\n",
    "# - yet somehow I have 168+62 :/ \n",
    "\n",
    "# oh whoops - forgot to remove data \n",
    "removal_file_one <- '/oak/stanford/groups/mrivas/ukbb/24983/sqc/ukb24983_remove.phe'\n",
    "removal_file_two <- '/oak/stanford/groups/mrivas/ukbb/24983/sqc/w2498_20170726.phe'\n",
    "remove1 <- read.table(removal_file_one, header=FALSE)\n",
    "remove2 <- read.table(removal_file_two, header=FALSE) # this file is messy b/c of meta characters - only has three people in it tho\n",
    "ids.to.remove <- c(remove1[,1], unique(remove2[,1]))\n"
   ]
  },
  {
   "cell_type": "code",
   "execution_count": 30,
   "metadata": {},
   "outputs": [
    {
     "data": {
      "text/html": [
       "<ol class=list-inline>\n",
       "\t<li>2652670</li>\n",
       "\t<li>2850227</li>\n",
       "\t<li>3946352</li>\n",
       "\t<li>3073546</li>\n",
       "\t<li>2063443</li>\n",
       "\t<li>4144793</li>\n",
       "</ol>\n"
      ],
      "text/latex": [
       "\\begin{enumerate*}\n",
       "\\item 2652670\n",
       "\\item 2850227\n",
       "\\item 3946352\n",
       "\\item 3073546\n",
       "\\item 2063443\n",
       "\\item 4144793\n",
       "\\end{enumerate*}\n"
      ],
      "text/markdown": [
       "1. 2652670\n",
       "2. 2850227\n",
       "3. 3946352\n",
       "4. 3073546\n",
       "5. 2063443\n",
       "6. 4144793\n",
       "\n",
       "\n"
      ],
      "text/plain": [
       "[1] 2652670 2850227 3946352 3073546 2063443 4144793"
      ]
     },
     "metadata": {},
     "output_type": "display_data"
    },
    {
     "data": {
      "text/html": [
       "38945"
      ],
      "text/latex": [
       "38945"
      ],
      "text/markdown": [
       "38945"
      ],
      "text/plain": [
       "[1] 38945"
      ]
     },
     "metadata": {},
     "output_type": "display_data"
    },
    {
     "data": {
      "text/html": [
       "101586"
      ],
      "text/latex": [
       "101586"
      ],
      "text/markdown": [
       "101586"
      ],
      "text/plain": [
       "[1] 101586"
      ]
     },
     "metadata": {},
     "output_type": "display_data"
    }
   ],
   "source": [
    "head(ids.to.remove)\n",
    "pre_meno2 <- pre_meno[!(pre_meno$IID %in% ids.to.remove),] # 38,945\n",
    "(num.pre <- nrow(pre_meno2))\n",
    "post_meno2 <- post_meno[!(post_meno$IID %in% ids.to.remove),] # 101,586\n",
    "(num.post <- nrow(post_meno2))\n",
    "\n",
    "# ok this is more reasonable\n",
    "\n",
    "# re-write the files\n",
    "write.table(select(pre_meno2, IID), file=\"../phefiles/pre_meno.keep\", quote=FALSE, row.names=FALSE, col.names=FALSE)\n",
    "write.table(select(post_meno2, IID), file=\"../phefiles/post_meno.keep\", quote=FALSE, row.names=FALSE, col.names=FALSE)\n"
   ]
  },
  {
   "cell_type": "code",
   "execution_count": 35,
   "metadata": {},
   "outputs": [],
   "source": [
    "# down-sample\n",
    "# - does the label imbalance affect things?\n",
    "\n",
    "# what if we downsample post_meno to 38k? (is this too small)\n",
    "\n",
    "# also downsample males\n",
    "\n",
    "set.seed(724)\n",
    "keep_rows_post <- sample(1:num.post, num.pre, replace=FALSE)\n",
    "onesex.tab <- read.table(\"../phefiles/old_sex_labels/onesex.keep\") # 156k\n",
    "colnames(onesex.tab) <- \"IID\"\n",
    "num.m <- nrow(onesex.tab)\n",
    "keep_rows_male <- sample(1:num.m, num.pre, replace=FALSE)\n",
    "post_meno_down <- post_meno2[keep_rows_post,]\n",
    "onesex_down <- onesex.tab[keep_rows_male,]\n",
    "\n",
    "# write these out\n",
    "write.table(select(pre_meno2, IID), file=\"../pr\")\n",
    "write.table(select(post_meno_down, IID), file=\"../phefiles/post_meno_d.keep\", quote=FALSE, row.names=FALSE, col.names=FALSE)\n",
    "#write.table(select(onesex_down, IID), file=\"../phefiles/onesex_d.keep\", quote=FALSE, row.names=FALSE, col.names=FALSE)\n",
    "write.table(onesex_down, file=\"../phefiles/onesex_d.keep\", quote=FALSE, row.names=FALSE, col.names=FALSE)"
   ]
  },
  {
   "cell_type": "code",
   "execution_count": 48,
   "metadata": {},
   "outputs": [
    {
     "data": {
      "text/html": [
       "<table>\n",
       "<thead><tr><th scope=col>FID</th><th scope=col>IID</th><th scope=col>age</th><th scope=col>sex</th><th scope=col>Array</th></tr></thead>\n",
       "<tbody>\n",
       "\t<tr><td>2502845</td><td>2502845</td><td>50     </td><td>1      </td><td>1      </td></tr>\n",
       "\t<tr><td>2314965</td><td>2314965</td><td>55     </td><td>0      </td><td>1      </td></tr>\n",
       "\t<tr><td>1142584</td><td>1142584</td><td>60     </td><td>0      </td><td>1      </td></tr>\n",
       "\t<tr><td>3665122</td><td>3665122</td><td>74     </td><td>0      </td><td>1      </td></tr>\n",
       "\t<tr><td>4377492</td><td>4377492</td><td>65     </td><td>0      </td><td>1      </td></tr>\n",
       "\t<tr><td>2652670</td><td>2652670</td><td>58     </td><td>1      </td><td>1      </td></tr>\n",
       "</tbody>\n",
       "</table>\n"
      ],
      "text/latex": [
       "\\begin{tabular}{r|lllll}\n",
       " FID & IID & age & sex & Array\\\\\n",
       "\\hline\n",
       "\t 2502845 & 2502845 & 50      & 1       & 1      \\\\\n",
       "\t 2314965 & 2314965 & 55      & 0       & 1      \\\\\n",
       "\t 1142584 & 1142584 & 60      & 0       & 1      \\\\\n",
       "\t 3665122 & 3665122 & 74      & 0       & 1      \\\\\n",
       "\t 4377492 & 4377492 & 65      & 0       & 1      \\\\\n",
       "\t 2652670 & 2652670 & 58      & 1       & 1      \\\\\n",
       "\\end{tabular}\n"
      ],
      "text/markdown": [
       "\n",
       "FID | IID | age | sex | Array | \n",
       "|---|---|---|---|---|---|\n",
       "| 2502845 | 2502845 | 50      | 1       | 1       | \n",
       "| 2314965 | 2314965 | 55      | 0       | 1       | \n",
       "| 1142584 | 1142584 | 60      | 0       | 1       | \n",
       "| 3665122 | 3665122 | 74      | 0       | 1       | \n",
       "| 4377492 | 4377492 | 65      | 0       | 1       | \n",
       "| 2652670 | 2652670 | 58      | 1       | 1       | \n",
       "\n",
       "\n"
      ],
      "text/plain": [
       "  FID     IID     age sex Array\n",
       "1 2502845 2502845 50  1   1    \n",
       "2 2314965 2314965 55  0   1    \n",
       "3 1142584 1142584 60  0   1    \n",
       "4 3665122 3665122 74  0   1    \n",
       "5 4377492 4377492 65  0   1    \n",
       "6 2652670 2652670 58  1   1    "
      ]
     },
     "metadata": {},
     "output_type": "display_data"
    },
    {
     "data": {
      "text/html": [
       "<table>\n",
       "<thead><tr><th scope=col>sex</th><th scope=col>median(age)</th></tr></thead>\n",
       "<tbody>\n",
       "\t<tr><td>0 </td><td>67</td></tr>\n",
       "\t<tr><td>1 </td><td>68</td></tr>\n",
       "</tbody>\n",
       "</table>\n"
      ],
      "text/latex": [
       "\\begin{tabular}{r|ll}\n",
       " sex & median(age)\\\\\n",
       "\\hline\n",
       "\t 0  & 67\\\\\n",
       "\t 1  & 68\\\\\n",
       "\\end{tabular}\n"
      ],
      "text/markdown": [
       "\n",
       "sex | median(age) | \n",
       "|---|---|\n",
       "| 0  | 67 | \n",
       "| 1  | 68 | \n",
       "\n",
       "\n"
      ],
      "text/plain": [
       "  sex median(age)\n",
       "1 0   67         \n",
       "2 1   68         "
      ]
     },
     "metadata": {},
     "output_type": "display_data"
    },
    {
     "data": {
      "text/plain": [
       "\n",
       "   0    1 \n",
       "2207 1990 "
      ]
     },
     "metadata": {},
     "output_type": "display_data"
    }
   ],
   "source": [
    "# age-divide the data\n",
    "# at what cut-point? we could do over + under 65\n",
    "\n",
    "head(covar_data[,1:5])\n",
    "covar_data_keep <- covar_data[!(covar_data$IID %in% ids.to.remove),]\n",
    "covar_data_keep %>% group_by(sex) %>% summarize(median(age)) # mean age is ~65\n",
    "\n",
    "table(covar_data_keep[covar_data_keep$age < 50,]$sex) # only 2k in each --> POOR CHOICE"
   ]
  },
  {
   "cell_type": "code",
   "execution_count": 49,
   "metadata": {
    "collapsed": true
   },
   "outputs": [],
   "source": [
    "over65.f <- covar_data_keep$IID[covar_data_keep$age > 65 & covar_data_keep$sex == 0]\n",
    "over65.m <- covar_data_keep$IID[covar_data_keep$age > 65 & covar_data_keep$sex == 1]\n",
    "under65.f <- covar_data_keep$IID[covar_data_keep$age <= 65 & covar_data_keep$sex == 0]\n",
    "under65.m <- covar_data_keep$IID[covar_data_keep$age <= 65 & covar_data_keep$sex == 1]"
   ]
  },
  {
   "cell_type": "code",
   "execution_count": 53,
   "metadata": {},
   "outputs": [
    {
     "data": {
      "text/html": [
       "99571"
      ],
      "text/latex": [
       "99571"
      ],
      "text/markdown": [
       "99571"
      ],
      "text/plain": [
       "[1] 99571"
      ]
     },
     "metadata": {},
     "output_type": "display_data"
    },
    {
     "data": {
      "text/html": [
       "90319"
      ],
      "text/latex": [
       "90319"
      ],
      "text/markdown": [
       "90319"
      ],
      "text/plain": [
       "[1] 90319"
      ]
     },
     "metadata": {},
     "output_type": "display_data"
    },
    {
     "data": {
      "text/html": [
       "81496"
      ],
      "text/latex": [
       "81496"
      ],
      "text/markdown": [
       "81496"
      ],
      "text/plain": [
       "[1] 81496"
      ]
     },
     "metadata": {},
     "output_type": "display_data"
    },
    {
     "data": {
      "text/html": [
       "65820"
      ],
      "text/latex": [
       "65820"
      ],
      "text/markdown": [
       "65820"
      ],
      "text/plain": [
       "[1] 65820"
      ]
     },
     "metadata": {},
     "output_type": "display_data"
    }
   ],
   "source": [
    "length(over65.f) # 99571\n",
    "length(over65.m) # 90319\n",
    "length(under65.f) # 81496\n",
    "length(under65.m) # 65820 -- huh this is less!\n",
    "\n",
    "# for now - just run with all\n",
    "# next time --> we will try downsampling\n",
    "\n",
    "write.table(over65.f, file=\"../phefiles/over65_f.keep\", quote=FALSE, row.names=FALSE, col.names=FALSE)\n",
    "write.table(over65.m, file=\"../phefiles/over65_m.keep\", quote=FALSE, row.names=FALSE, col.names=FALSE)\n",
    "write.table(under65.f, file=\"../phefiles/under65_f.keep\", quote=FALSE, row.names=FALSE, col.names=FALSE)\n",
    "write.table(under65.m, file=\"../phefiles/under65_m.keep\", quote=FALSE, row.names=FALSE, col.names=FALSE)"
   ]
  }
 ],
 "metadata": {
  "kernelspec": {
   "display_name": "R",
   "language": "R",
   "name": "ir"
  },
  "language_info": {
   "codemirror_mode": "r",
   "file_extension": ".r",
   "mimetype": "text/x-r-source",
   "name": "R",
   "pygments_lexer": "r",
   "version": "3.4.0"
  }
 },
 "nbformat": 4,
 "nbformat_minor": 2
}
