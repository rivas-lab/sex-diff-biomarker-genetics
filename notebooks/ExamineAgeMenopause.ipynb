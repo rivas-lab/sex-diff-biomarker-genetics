{
 "cells": [
  {
   "cell_type": "markdown",
   "metadata": {},
   "source": [
    "### ExamineAgeMenopause\n",
    "##### E Flynn\n",
    "##### 7/2/2018\n",
    "\n",
    "The goal of this notebook is to bin the data by age, and then also into pre-post menopause, and examine these differences. \n",
    "\n",
    "Then, we will set up the phenotype definition for females and menopause:\n",
    "* Pre-menopause: stated they have not reached menopause -AND- are less than 60 years old\n",
    "* Post-menopause: >2 years post menopause -AND- had menopause after age 40\n",
    "\n",
    "Others:\n",
    "* Peri-menopause: w/in 2y menopause\n",
    "* Premature_menopause: menopause less than age 40\n",
    "* Unlikely_pre: greater than 60y and says that not reached menopause\n",
    "* Missing: prefer not to answer or missing"
   ]
  },
  {
   "cell_type": "code",
   "execution_count": 1,
   "metadata": {},
   "outputs": [
    {
     "name": "stderr",
     "output_type": "stream",
     "text": [
      "Loading required package: tidyverse\n",
      "── Attaching packages ─────────────────────────────────────── tidyverse 1.2.1 ──\n",
      "✔ ggplot2 2.2.1     ✔ purrr   0.2.4\n",
      "✔ tibble  1.4.2     ✔ dplyr   0.7.4\n",
      "✔ tidyr   0.8.1     ✔ stringr 1.3.0\n",
      "✔ readr   1.1.1     ✔ forcats 0.3.0\n",
      "── Conflicts ────────────────────────────────────────── tidyverse_conflicts() ──\n",
      "✖ dplyr::filter() masks stats::filter()\n",
      "✖ dplyr::lag()    masks stats::lag()\n"
     ]
    }
   ],
   "source": [
    "require('tidyverse')"
   ]
  },
  {
   "cell_type": "code",
   "execution_count": 2,
   "metadata": {
    "collapsed": true
   },
   "outputs": [],
   "source": [
    "#target_dir <- '/oak/stanford/groups/mrivas/ukbb/24983/'\n",
    "#covar_file <- 'phe_qc/ukb24983_GWAS_covar.phe'\n",
    "\n",
    "\n",
    "COVARIATE_MATRIX <- '/oak/stanford/groups/mrivas/ukbb24983/sqc/ukb24983_GWAS_covar.phe'\n",
    "cov_mat <- read.table(COVARIATE_MATRIX, header=TRUE, stringsAsFactors=FALSE)\n",
    "covar_data <- cov_mat[,c(\"IID\",\"age\", \"sex\")]\n",
    "\n",
    "#covar_data <- read.table(sprintf(\"%s/%s\", target_dir, covar_file), header=TRUE, stringsAsFactors=FALSE)"
   ]
  },
  {
   "cell_type": "code",
   "execution_count": 3,
   "metadata": {
    "collapsed": true
   },
   "outputs": [],
   "source": [
    "menopause_bin <- read.table(\"../phefiles/ss/BIN_FC1002724.phe\")\n",
    "menopause_age <- read.table(\"../phefiles/ss/INI3581.phe\")"
   ]
  },
  {
   "cell_type": "code",
   "execution_count": 4,
   "metadata": {},
   "outputs": [
    {
     "data": {
      "text/html": [
       "<table>\n",
       "<thead><tr><th scope=col>IID</th><th scope=col>meno</th><th scope=col>meno.age</th></tr></thead>\n",
       "<tbody>\n",
       "\t<tr><td>1000010</td><td>NA     </td><td>NA     </td></tr>\n",
       "\t<tr><td>1000028</td><td> 1     </td><td>NA     </td></tr>\n",
       "\t<tr><td>1000034</td><td>NA     </td><td>NA     </td></tr>\n",
       "\t<tr><td>1000045</td><td> 2     </td><td>54     </td></tr>\n",
       "\t<tr><td>1000052</td><td> 2     </td><td>NA     </td></tr>\n",
       "\t<tr><td>1000069</td><td> 2     </td><td>50     </td></tr>\n",
       "</tbody>\n",
       "</table>\n"
      ],
      "text/latex": [
       "\\begin{tabular}{r|lll}\n",
       " IID & meno & meno.age\\\\\n",
       "\\hline\n",
       "\t 1000010 & NA      & NA     \\\\\n",
       "\t 1000028 &  1      & NA     \\\\\n",
       "\t 1000034 & NA      & NA     \\\\\n",
       "\t 1000045 &  2      & 54     \\\\\n",
       "\t 1000052 &  2      & NA     \\\\\n",
       "\t 1000069 &  2      & 50     \\\\\n",
       "\\end{tabular}\n"
      ],
      "text/markdown": [
       "\n",
       "IID | meno | meno.age | \n",
       "|---|---|---|---|---|---|\n",
       "| 1000010 | NA      | NA      | \n",
       "| 1000028 |  1      | NA      | \n",
       "| 1000034 | NA      | NA      | \n",
       "| 1000045 |  2      | 54      | \n",
       "| 1000052 |  2      | NA      | \n",
       "| 1000069 |  2      | 50      | \n",
       "\n",
       "\n"
      ],
      "text/plain": [
       "  IID     meno meno.age\n",
       "1 1000010 NA   NA      \n",
       "2 1000028  1   NA      \n",
       "3 1000034 NA   NA      \n",
       "4 1000045  2   54      \n",
       "5 1000052  2   NA      \n",
       "6 1000069  2   50      "
      ]
     },
     "metadata": {},
     "output_type": "display_data"
    }
   ],
   "source": [
    "colnames(menopause_bin) <- c(\"ID\", \"ID2\", \"val\")\n",
    "colnames(menopause_age) <- c(\"ID\", \"ID2\", \"val\")\n",
    "\n",
    "menopause_bin$val[menopause_bin$val==-9] <- NA\n",
    "menopause_age$val[menopause_age$val==-9] <- NA\n",
    "\n",
    "meno_combined <- full_join(select(menopause_bin, -ID2), select(menopause_age, -ID2),by=\"ID\", suffix=c(\".bin\", \".age\"))\n",
    "colnames(meno_combined) <- c(\"IID\", \"meno\", \"meno.age\") # rename the menoapuse columns\n",
    "\n",
    "head(meno_combined)\n"
   ]
  },
  {
   "cell_type": "code",
   "execution_count": 5,
   "metadata": {
    "collapsed": true
   },
   "outputs": [],
   "source": [
    "combined_age_dat <- left_join(meno_combined,select(covar_data, c(IID, age, sex)), by=\"IID\" ) # combine the data frames\n",
    "\n",
    "combined_age_dat <- mutate(combined_age_dat, years.post=ifelse(meno.age<0, NA, age - meno.age)) # compute the years since menopause\n",
    "combined_age_dat <- mutate(combined_age_dat, meno=(meno!=1)) # convert the menopause coding to TRUE and FALSE"
   ]
  },
  {
   "cell_type": "code",
   "execution_count": 6,
   "metadata": {},
   "outputs": [
    {
     "data": {
      "text/html": [
       "<table>\n",
       "<thead><tr><th scope=col>IID</th><th scope=col>meno</th><th scope=col>meno.age</th><th scope=col>age</th><th scope=col>sex</th><th scope=col>years.post</th></tr></thead>\n",
       "<tbody>\n",
       "\t<tr><td>1000010</td><td>   NA  </td><td>NA     </td><td>NA     </td><td>NA     </td><td>NA     </td></tr>\n",
       "\t<tr><td>1000028</td><td>FALSE  </td><td>NA     </td><td>54     </td><td> 0     </td><td>NA     </td></tr>\n",
       "\t<tr><td>1000034</td><td>   NA  </td><td>NA     </td><td>68     </td><td> 1     </td><td>NA     </td></tr>\n",
       "\t<tr><td>1000045</td><td> TRUE  </td><td>54     </td><td>79     </td><td> 0     </td><td>25     </td></tr>\n",
       "\t<tr><td>1000052</td><td> TRUE  </td><td>NA     </td><td>72     </td><td> 0     </td><td>NA     </td></tr>\n",
       "\t<tr><td>1000069</td><td> TRUE  </td><td>50     </td><td>75     </td><td> 0     </td><td>25     </td></tr>\n",
       "</tbody>\n",
       "</table>\n"
      ],
      "text/latex": [
       "\\begin{tabular}{r|llllll}\n",
       " IID & meno & meno.age & age & sex & years.post\\\\\n",
       "\\hline\n",
       "\t 1000010 &    NA   & NA      & NA      & NA      & NA     \\\\\n",
       "\t 1000028 & FALSE   & NA      & 54      &  0      & NA     \\\\\n",
       "\t 1000034 &    NA   & NA      & 68      &  1      & NA     \\\\\n",
       "\t 1000045 &  TRUE   & 54      & 79      &  0      & 25     \\\\\n",
       "\t 1000052 &  TRUE   & NA      & 72      &  0      & NA     \\\\\n",
       "\t 1000069 &  TRUE   & 50      & 75      &  0      & 25     \\\\\n",
       "\\end{tabular}\n"
      ],
      "text/markdown": [
       "\n",
       "IID | meno | meno.age | age | sex | years.post | \n",
       "|---|---|---|---|---|---|\n",
       "| 1000010 |    NA   | NA      | NA      | NA      | NA      | \n",
       "| 1000028 | FALSE   | NA      | 54      |  0      | NA      | \n",
       "| 1000034 |    NA   | NA      | 68      |  1      | NA      | \n",
       "| 1000045 |  TRUE   | 54      | 79      |  0      | 25      | \n",
       "| 1000052 |  TRUE   | NA      | 72      |  0      | NA      | \n",
       "| 1000069 |  TRUE   | 50      | 75      |  0      | 25      | \n",
       "\n",
       "\n"
      ],
      "text/plain": [
       "  IID     meno  meno.age age sex years.post\n",
       "1 1000010    NA NA       NA  NA  NA        \n",
       "2 1000028 FALSE NA       54   0  NA        \n",
       "3 1000034    NA NA       68   1  NA        \n",
       "4 1000045  TRUE 54       79   0  25        \n",
       "5 1000052  TRUE NA       72   0  NA        \n",
       "6 1000069  TRUE 50       75   0  25        "
      ]
     },
     "metadata": {},
     "output_type": "display_data"
    }
   ],
   "source": [
    "head(combined_age_dat)"
   ]
  },
  {
   "cell_type": "code",
   "execution_count": 7,
   "metadata": {},
   "outputs": [
    {
     "data": {
      "text/plain": [
       "\n",
       "     1      2 \n",
       " 60725 170356 "
      ]
     },
     "metadata": {},
     "output_type": "display_data"
    },
    {
     "data": {
      "text/plain": [
       "\n",
       " FALSE   TRUE \n",
       " 60725 170356 "
      ]
     },
     "metadata": {},
     "output_type": "display_data"
    }
   ],
   "source": [
    "table(meno_combined$meno)\n",
    "table(combined_age_dat$meno)"
   ]
  },
  {
   "cell_type": "code",
   "execution_count": 8,
   "metadata": {},
   "outputs": [
    {
     "data": {
      "text/plain": [
       "   meno\n",
       "sex  FALSE   TRUE\n",
       "  0  58794 165143\n",
       "  1     16     28"
      ]
     },
     "metadata": {},
     "output_type": "display_data"
    }
   ],
   "source": [
    "# make sure there are no males!\n",
    "table(combined_age_dat[,c(\"sex\", \"meno\")]) # hmmm what is going on with these 28 males? are they trans folks and does UKB stink at this?"
   ]
  },
  {
   "cell_type": "code",
   "execution_count": 9,
   "metadata": {
    "collapsed": true
   },
   "outputs": [],
   "source": [
    "# menopause derived phenotypes?\n",
    "\n",
    "label_col <- function(meno, meno.age, age, sex, years.post){\n",
    "(if (sex==1 & !is.na(sex)){\n",
    "        \"male\"\n",
    "} else if (any(sapply(c(meno, age, sex), is.na))){\n",
    "    \"missing\"\n",
    "} else if (!meno){\n",
    "    ifelse(age > 60, \"unlikely\", \"pre\")\n",
    "} else {\n",
    "    if (is.na(meno.age)) {\n",
    "        \"missing_age\"\n",
    "    } else{\n",
    "           ifelse(meno.age <= 40, \"premature\",\n",
    "           ifelse(years.post < 2 | is.na(years.post), \"peri\", \"post\")\n",
    "          ) \n",
    "    }\n",
    "\n",
    "\n",
    "})}\n",
    " \n",
    "\n",
    "\n",
    "df <- combined_age_dat \n",
    "combined_age_dat2 <- combined_age_dat\n",
    "combined_age_dat2$meno.label <- mapply(label_col, df$meno, df$meno.age, df$age, df$sex, df$years.post)\n",
    "\n",
    "\n",
    "\n",
    "#if (meno.age >=40 & years.post >=2 & sex==0{})\n",
    "\n",
    "\n",
    "#combined_age_dat2 <- mutate(combined_age_dat, \n",
    "#                            phe.label=ifelse(meno.age >= 40 & years.post >=2 & sex==0, 1,\n",
    "#                                             ifelse(!meno & age <= 60, 0, NA)))\n"
   ]
  },
  {
   "cell_type": "code",
   "execution_count": 10,
   "metadata": {},
   "outputs": [
    {
     "data": {
      "text/html": [
       "<table>\n",
       "<thead><tr><th scope=col>IID</th><th scope=col>meno</th><th scope=col>meno.age</th><th scope=col>age</th><th scope=col>sex</th><th scope=col>years.post</th><th scope=col>meno.label</th></tr></thead>\n",
       "<tbody>\n",
       "\t<tr><td>1000010    </td><td>   NA      </td><td>NA         </td><td>NA         </td><td>NA         </td><td>NA         </td><td>missing    </td></tr>\n",
       "\t<tr><td>1000028    </td><td>FALSE      </td><td>NA         </td><td>54         </td><td> 0         </td><td>NA         </td><td>pre        </td></tr>\n",
       "\t<tr><td>1000034    </td><td>   NA      </td><td>NA         </td><td>68         </td><td> 1         </td><td>NA         </td><td>male       </td></tr>\n",
       "\t<tr><td>1000045    </td><td> TRUE      </td><td>54         </td><td>79         </td><td> 0         </td><td>25         </td><td>post       </td></tr>\n",
       "\t<tr><td>1000052    </td><td> TRUE      </td><td>NA         </td><td>72         </td><td> 0         </td><td>NA         </td><td>missing_age</td></tr>\n",
       "\t<tr><td>1000069    </td><td> TRUE      </td><td>50         </td><td>75         </td><td> 0         </td><td>25         </td><td>post       </td></tr>\n",
       "</tbody>\n",
       "</table>\n"
      ],
      "text/latex": [
       "\\begin{tabular}{r|lllllll}\n",
       " IID & meno & meno.age & age & sex & years.post & meno.label\\\\\n",
       "\\hline\n",
       "\t 1000010     &    NA       & NA          & NA          & NA          & NA          & missing    \\\\\n",
       "\t 1000028     & FALSE       & NA          & 54          &  0          & NA          & pre        \\\\\n",
       "\t 1000034     &    NA       & NA          & 68          &  1          & NA          & male       \\\\\n",
       "\t 1000045     &  TRUE       & 54          & 79          &  0          & 25          & post       \\\\\n",
       "\t 1000052       &  TRUE         & NA            & 72            &  0            & NA            & missing\\_age\\\\\n",
       "\t 1000069     &  TRUE       & 50          & 75          &  0          & 25          & post       \\\\\n",
       "\\end{tabular}\n"
      ],
      "text/markdown": [
       "\n",
       "IID | meno | meno.age | age | sex | years.post | meno.label | \n",
       "|---|---|---|---|---|---|\n",
       "| 1000010     |    NA       | NA          | NA          | NA          | NA          | missing     | \n",
       "| 1000028     | FALSE       | NA          | 54          |  0          | NA          | pre         | \n",
       "| 1000034     |    NA       | NA          | 68          |  1          | NA          | male        | \n",
       "| 1000045     |  TRUE       | 54          | 79          |  0          | 25          | post        | \n",
       "| 1000052     |  TRUE       | NA          | 72          |  0          | NA          | missing_age | \n",
       "| 1000069     |  TRUE       | 50          | 75          |  0          | 25          | post        | \n",
       "\n",
       "\n"
      ],
      "text/plain": [
       "  IID     meno  meno.age age sex years.post meno.label \n",
       "1 1000010    NA NA       NA  NA  NA         missing    \n",
       "2 1000028 FALSE NA       54   0  NA         pre        \n",
       "3 1000034    NA NA       68   1  NA         male       \n",
       "4 1000045  TRUE 54       79   0  25         post       \n",
       "5 1000052  TRUE NA       72   0  NA         missing_age\n",
       "6 1000069  TRUE 50       75   0  25         post       "
      ]
     },
     "metadata": {},
     "output_type": "display_data"
    },
    {
     "data": {
      "text/plain": [
       "\n",
       "       male     missing missing_age        peri        post         pre \n",
       "     223481       55125       10399         292      144693       53005 \n",
       "  premature    unlikely \n",
       "       9759        5789 "
      ]
     },
     "metadata": {},
     "output_type": "display_data"
    }
   ],
   "source": [
    "head(combined_age_dat2)\n",
    "table(combined_age_dat2$meno.label)"
   ]
  },
  {
   "cell_type": "code",
   "execution_count": 42,
   "metadata": {
    "collapsed": true
   },
   "outputs": [],
   "source": [
    "write.table(combined_age_dat2, file=\"../data/menopause_age_data_pheno.txt\", row.names=FALSE, quote=FALSE )"
   ]
  },
  {
   "cell_type": "markdown",
   "metadata": {},
   "source": [
    "# MENSTRUAL PHASE"
   ]
  },
  {
   "cell_type": "code",
   "execution_count": 26,
   "metadata": {
    "collapsed": true
   },
   "outputs": [],
   "source": [
    "# NOTE - these questions are poorly worded and have strange cutoffs...\n",
    "\n",
    "# time since last period: 3700 http://biobank.ndph.ox.ac.uk/showcase/field.cgi?id=3700\n",
    "# length of menstrual cycle: 3710\n",
    "# menstruating today: 3720\n",
    "\n",
    "# We may need to go back to original data\n",
    "\n",
    "meno_today <- read.table(\"../phefiles/ss/BIN_FC10003720.phe\")\n",
    "meno_length <- read.table(\"../phefiles/ss/INI3710.phe\")\n",
    "meno_time <- read.table(\"../phefiles/ss/INI3700.phe\")\n",
    "\n",
    "colnames(meno_time) <- c(\"ID\", \"ID2\", \"day_in_cycle\")\n",
    "colnames(meno_length) <- c(\"ID\", \"ID2\", \"cycle_length\")\n",
    "colnames(meno_today) <- c(\"ID\", \"ID2\", \"meno_today\")\n"
   ]
  },
  {
   "cell_type": "code",
   "execution_count": 27,
   "metadata": {
    "collapsed": true
   },
   "outputs": [],
   "source": [
    "length_time <- full_join(meno_time %>% select(-ID2), meno_length %>% select(-ID2), by=\"ID\")\n",
    "cycle_info <- full_join(length_time, meno_today %>% select(-ID2), by=\"ID\")"
   ]
  },
  {
   "cell_type": "code",
   "execution_count": 30,
   "metadata": {},
   "outputs": [
    {
     "data": {
      "text/html": [
       "<table>\n",
       "<thead><tr><th scope=col>ID</th><th scope=col>day_in_cycle</th><th scope=col>cycle_length</th><th scope=col>meno_today</th></tr></thead>\n",
       "<tbody>\n",
       "\t<tr><td>4646215</td><td>-9     </td><td>-9     </td><td>-9     </td></tr>\n",
       "\t<tr><td>5007659</td><td>-9     </td><td>-9     </td><td>-9     </td></tr>\n",
       "\t<tr><td>1038854</td><td>24     </td><td>24     </td><td> 1     </td></tr>\n",
       "\t<tr><td>5441319</td><td>-9     </td><td>-9     </td><td>-9     </td></tr>\n",
       "\t<tr><td>5743544</td><td>-9     </td><td>-9     </td><td>-9     </td></tr>\n",
       "\t<tr><td>3266897</td><td>-9     </td><td>-9     </td><td>-9     </td></tr>\n",
       "</tbody>\n",
       "</table>\n"
      ],
      "text/latex": [
       "\\begin{tabular}{r|llll}\n",
       " ID & day\\_in\\_cycle & cycle\\_length & meno\\_today\\\\\n",
       "\\hline\n",
       "\t 4646215 & -9      & -9      & -9     \\\\\n",
       "\t 5007659 & -9      & -9      & -9     \\\\\n",
       "\t 1038854 & 24      & 24      &  1     \\\\\n",
       "\t 5441319 & -9      & -9      & -9     \\\\\n",
       "\t 5743544 & -9      & -9      & -9     \\\\\n",
       "\t 3266897 & -9      & -9      & -9     \\\\\n",
       "\\end{tabular}\n"
      ],
      "text/markdown": [
       "\n",
       "ID | day_in_cycle | cycle_length | meno_today | \n",
       "|---|---|---|---|---|---|\n",
       "| 4646215 | -9      | -9      | -9      | \n",
       "| 5007659 | -9      | -9      | -9      | \n",
       "| 1038854 | 24      | 24      |  1      | \n",
       "| 5441319 | -9      | -9      | -9      | \n",
       "| 5743544 | -9      | -9      | -9      | \n",
       "| 3266897 | -9      | -9      | -9      | \n",
       "\n",
       "\n"
      ],
      "text/plain": [
       "  ID      day_in_cycle cycle_length meno_today\n",
       "1 4646215 -9           -9           -9        \n",
       "2 5007659 -9           -9           -9        \n",
       "3 1038854 24           24            1        \n",
       "4 5441319 -9           -9           -9        \n",
       "5 5743544 -9           -9           -9        \n",
       "6 3266897 -9           -9           -9        "
      ]
     },
     "metadata": {},
     "output_type": "display_data"
    },
    {
     "data": {
      "text/plain": [
       "\n",
       " FALSE   TRUE \n",
       " 48523 454020 "
      ]
     },
     "metadata": {},
     "output_type": "display_data"
    },
    {
     "data": {
      "text/plain": [
       "\n",
       " FALSE   TRUE \n",
       " 75020 427523 "
      ]
     },
     "metadata": {},
     "output_type": "display_data"
    },
    {
     "data": {
      "text/plain": [
       "\n",
       " FALSE   TRUE \n",
       " 56369 446174 "
      ]
     },
     "metadata": {},
     "output_type": "display_data"
    }
   ],
   "source": [
    "head(cycle_info)\n",
    "table(cycle_info$cycle_length==-9)\n",
    "table(cycle_info$meno_today==-9)\n",
    "\n",
    "table(cycle_info$day_in_cycle==-9)\n",
    "\n",
    "cycle_present <- filter(cycle_info, cycle_length!=-9 & day_in_cycle!=-9 & meno_today !=-9)"
   ]
  },
  {
   "cell_type": "code",
   "execution_count": 34,
   "metadata": {},
   "outputs": [
    {
     "data": {
      "text/html": [
       "<table>\n",
       "<thead><tr><th scope=col>ID</th><th scope=col>day_in_cycle</th><th scope=col>cycle_length</th><th scope=col>meno_today</th></tr></thead>\n",
       "<tbody>\n",
       "\t<tr><td>1038854</td><td>24     </td><td>24     </td><td>1      </td></tr>\n",
       "\t<tr><td>5044418</td><td>22     </td><td>29     </td><td>1      </td></tr>\n",
       "\t<tr><td>5031984</td><td> 9     </td><td>35     </td><td>1      </td></tr>\n",
       "\t<tr><td>1356470</td><td>10     </td><td>30     </td><td>1      </td></tr>\n",
       "\t<tr><td>1175053</td><td>21     </td><td>28     </td><td>1      </td></tr>\n",
       "\t<tr><td>1924613</td><td>21     </td><td>28     </td><td>1      </td></tr>\n",
       "</tbody>\n",
       "</table>\n"
      ],
      "text/latex": [
       "\\begin{tabular}{r|llll}\n",
       " ID & day\\_in\\_cycle & cycle\\_length & meno\\_today\\\\\n",
       "\\hline\n",
       "\t 1038854 & 24      & 24      & 1      \\\\\n",
       "\t 5044418 & 22      & 29      & 1      \\\\\n",
       "\t 5031984 &  9      & 35      & 1      \\\\\n",
       "\t 1356470 & 10      & 30      & 1      \\\\\n",
       "\t 1175053 & 21      & 28      & 1      \\\\\n",
       "\t 1924613 & 21      & 28      & 1      \\\\\n",
       "\\end{tabular}\n"
      ],
      "text/markdown": [
       "\n",
       "ID | day_in_cycle | cycle_length | meno_today | \n",
       "|---|---|---|---|---|---|\n",
       "| 1038854 | 24      | 24      | 1       | \n",
       "| 5044418 | 22      | 29      | 1       | \n",
       "| 5031984 |  9      | 35      | 1       | \n",
       "| 1356470 | 10      | 30      | 1       | \n",
       "| 1175053 | 21      | 28      | 1       | \n",
       "| 1924613 | 21      | 28      | 1       | \n",
       "\n",
       "\n"
      ],
      "text/plain": [
       "  ID      day_in_cycle cycle_length meno_today\n",
       "1 1038854 24           24           1         \n",
       "2 5044418 22           29           1         \n",
       "3 5031984  9           35           1         \n",
       "4 1356470 10           30           1         \n",
       "5 1175053 21           28           1         \n",
       "6 1924613 21           28           1         "
      ]
     },
     "metadata": {},
     "output_type": "display_data"
    },
    {
     "data": {
      "text/plain": [
       "\n",
       "    1     2 \n",
       "36842  8687 "
      ]
     },
     "metadata": {},
     "output_type": "display_data"
    },
    {
     "data": {
      "text/html": [
       "<table>\n",
       "<thead><tr><th scope=col>ID</th><th scope=col>day_in_cycle</th><th scope=col>cycle_length</th><th scope=col>meno_today</th></tr></thead>\n",
       "<tbody>\n",
       "\t<tr><td>4039288</td><td>0      </td><td>25     </td><td>2      </td></tr>\n",
       "\t<tr><td>4501489</td><td>0      </td><td>28     </td><td>2      </td></tr>\n",
       "\t<tr><td>2423214</td><td>0      </td><td>30     </td><td>2      </td></tr>\n",
       "\t<tr><td>2295542</td><td>0      </td><td>28     </td><td>2      </td></tr>\n",
       "\t<tr><td>4007318</td><td>0      </td><td>28     </td><td>2      </td></tr>\n",
       "\t<tr><td>3710308</td><td>5      </td><td>28     </td><td>2      </td></tr>\n",
       "</tbody>\n",
       "</table>\n"
      ],
      "text/latex": [
       "\\begin{tabular}{r|llll}\n",
       " ID & day\\_in\\_cycle & cycle\\_length & meno\\_today\\\\\n",
       "\\hline\n",
       "\t 4039288 & 0       & 25      & 2      \\\\\n",
       "\t 4501489 & 0       & 28      & 2      \\\\\n",
       "\t 2423214 & 0       & 30      & 2      \\\\\n",
       "\t 2295542 & 0       & 28      & 2      \\\\\n",
       "\t 4007318 & 0       & 28      & 2      \\\\\n",
       "\t 3710308 & 5       & 28      & 2      \\\\\n",
       "\\end{tabular}\n"
      ],
      "text/markdown": [
       "\n",
       "ID | day_in_cycle | cycle_length | meno_today | \n",
       "|---|---|---|---|---|---|\n",
       "| 4039288 | 0       | 25      | 2       | \n",
       "| 4501489 | 0       | 28      | 2       | \n",
       "| 2423214 | 0       | 30      | 2       | \n",
       "| 2295542 | 0       | 28      | 2       | \n",
       "| 4007318 | 0       | 28      | 2       | \n",
       "| 3710308 | 5       | 28      | 2       | \n",
       "\n",
       "\n"
      ],
      "text/plain": [
       "  ID      day_in_cycle cycle_length meno_today\n",
       "1 4039288 0            25           2         \n",
       "2 4501489 0            28           2         \n",
       "3 2423214 0            30           2         \n",
       "4 2295542 0            28           2         \n",
       "5 4007318 0            28           2         \n",
       "6 3710308 5            28           2         "
      ]
     },
     "metadata": {},
     "output_type": "display_data"
    }
   ],
   "source": [
    "head(cycle_present)\n",
    "table(cycle_present$meno_today) # 2 == yes, 1 == no\n",
    "\n",
    "# HOWEVER - for a subset, we are fairly confident\n",
    "# meno_length < 60 & meno_length > 14\n",
    "range_filt <- cycle_present %>% filter(cycle_length <= 60 & cycle_length > 14)"
   ]
  },
  {
   "cell_type": "code",
   "execution_count": 38,
   "metadata": {
    "collapsed": true
   },
   "outputs": [],
   "source": [
    "cycle_labeled <- range_filt %>% mutate(approx_ov = cycle_length/2) %>% \n",
    "mutate(phase=ifelse(meno_today==2, \"menstrual\", ifelse(day_in_cycle < approx_ov, \"follicular\", \"luteal\")))"
   ]
  },
  {
   "cell_type": "code",
   "execution_count": 40,
   "metadata": {},
   "outputs": [
    {
     "data": {
      "text/html": [
       "<table>\n",
       "<thead><tr><th scope=col>ID</th><th scope=col>day_in_cycle</th><th scope=col>cycle_length</th><th scope=col>meno_today</th><th scope=col>approx_ov</th><th scope=col>phase</th></tr></thead>\n",
       "<tbody>\n",
       "\t<tr><td>1038854   </td><td>24        </td><td>24        </td><td>1         </td><td>12.0      </td><td>luteal    </td></tr>\n",
       "\t<tr><td>5044418   </td><td>22        </td><td>29        </td><td>1         </td><td>14.5      </td><td>luteal    </td></tr>\n",
       "\t<tr><td>5031984   </td><td> 9        </td><td>35        </td><td>1         </td><td>17.5      </td><td>follicular</td></tr>\n",
       "\t<tr><td>1356470   </td><td>10        </td><td>30        </td><td>1         </td><td>15.0      </td><td>follicular</td></tr>\n",
       "\t<tr><td>1175053   </td><td>21        </td><td>28        </td><td>1         </td><td>14.0      </td><td>luteal    </td></tr>\n",
       "\t<tr><td>1924613   </td><td>21        </td><td>28        </td><td>1         </td><td>14.0      </td><td>luteal    </td></tr>\n",
       "</tbody>\n",
       "</table>\n"
      ],
      "text/latex": [
       "\\begin{tabular}{r|llllll}\n",
       " ID & day\\_in\\_cycle & cycle\\_length & meno\\_today & approx\\_ov & phase\\\\\n",
       "\\hline\n",
       "\t 1038854    & 24         & 24         & 1          & 12.0       & luteal    \\\\\n",
       "\t 5044418    & 22         & 29         & 1          & 14.5       & luteal    \\\\\n",
       "\t 5031984    &  9         & 35         & 1          & 17.5       & follicular\\\\\n",
       "\t 1356470    & 10         & 30         & 1          & 15.0       & follicular\\\\\n",
       "\t 1175053    & 21         & 28         & 1          & 14.0       & luteal    \\\\\n",
       "\t 1924613    & 21         & 28         & 1          & 14.0       & luteal    \\\\\n",
       "\\end{tabular}\n"
      ],
      "text/markdown": [
       "\n",
       "ID | day_in_cycle | cycle_length | meno_today | approx_ov | phase | \n",
       "|---|---|---|---|---|---|\n",
       "| 1038854    | 24         | 24         | 1          | 12.0       | luteal     | \n",
       "| 5044418    | 22         | 29         | 1          | 14.5       | luteal     | \n",
       "| 5031984    |  9         | 35         | 1          | 17.5       | follicular | \n",
       "| 1356470    | 10         | 30         | 1          | 15.0       | follicular | \n",
       "| 1175053    | 21         | 28         | 1          | 14.0       | luteal     | \n",
       "| 1924613    | 21         | 28         | 1          | 14.0       | luteal     | \n",
       "\n",
       "\n"
      ],
      "text/plain": [
       "  ID      day_in_cycle cycle_length meno_today approx_ov phase     \n",
       "1 1038854 24           24           1          12.0      luteal    \n",
       "2 5044418 22           29           1          14.5      luteal    \n",
       "3 5031984  9           35           1          17.5      follicular\n",
       "4 1356470 10           30           1          15.0      follicular\n",
       "5 1175053 21           28           1          14.0      luteal    \n",
       "6 1924613 21           28           1          14.0      luteal    "
      ]
     },
     "metadata": {},
     "output_type": "display_data"
    },
    {
     "data": {
      "text/plain": [
       "\n",
       "follicular     luteal  menstrual \n",
       "     15395      20897       8512 "
      ]
     },
     "metadata": {},
     "output_type": "display_data"
    }
   ],
   "source": [
    "head(cycle_labeled)\n",
    "table(cycle_labeled$phase)\n",
    "write.table(cycle_labeled, file=\"../data/menstrual_phase.txt\", sep=\"\\t\", row.names=FALSE, quote=FALSE)"
   ]
  },
  {
   "cell_type": "code",
   "execution_count": null,
   "metadata": {
    "collapsed": true
   },
   "outputs": [],
   "source": [
    "\n",
    "# sanity check this\n",
    "filter(range_filt, meno_today==2) %>% head()\n"
   ]
  },
  {
   "cell_type": "code",
   "execution_count": 37,
   "metadata": {},
   "outputs": [
    {
     "data": {},
     "metadata": {},
     "output_type": "display_data"
    },
    {
     "data": {
      "image/png": "[encoded data removed]",
      "text/plain": [
       "plot without title"
      ]
     },
     "metadata": {},
     "output_type": "display_data"
    }
   ],
   "source": [
    "#meno_today and meno_time to validate - should be a distribution\n",
    "ggplot(filter(range_filt, meno_today==2), aes(day_in_cycle))+geom_histogram(binwidth=1)\n",
    "### disproportionately day 0! I think ppl are mis-interpreting, estimate this"
   ]
  },
  {
   "cell_type": "code",
   "execution_count": 36,
   "metadata": {},
   "outputs": [
    {
     "data": {},
     "metadata": {},
     "output_type": "display_data"
    },
    {
     "data": {},
     "metadata": {},
     "output_type": "display_data"
    },
    {
     "data": {
      "image/png": "[encoded data removed]",
      "text/plain": [
       "plot without title"
      ]
     },
     "metadata": {},
     "output_type": "display_data"
    },
    {
     "data": {
      "image/png": "[encoded data removed]",
      "text/plain": [
       "plot without title"
      ]
     },
     "metadata": {},
     "output_type": "display_data"
    }
   ],
   "source": [
    "ggplot(range_filt, aes(cycle_length))+geom_histogram(binwidth=5)\n",
    "ggplot(range_filt, aes(day_in_cycle))+geom_histogram(binwidth=5)"
   ]
  },
  {
   "cell_type": "code",
   "execution_count": 25,
   "metadata": {},
   "outputs": [
    {
     "data": {
      "text/html": [
       "<table>\n",
       "<thead><tr><th scope=col>ID</th><th scope=col>ID2</th><th scope=col>val</th></tr></thead>\n",
       "<tbody>\n",
       "\t<tr><td>4646215</td><td>4646215</td><td>-9     </td></tr>\n",
       "\t<tr><td>5007659</td><td>5007659</td><td>-9     </td></tr>\n",
       "\t<tr><td>5441319</td><td>5441319</td><td>-9     </td></tr>\n",
       "\t<tr><td>5743544</td><td>5743544</td><td>-9     </td></tr>\n",
       "\t<tr><td>3266897</td><td>3266897</td><td>-9     </td></tr>\n",
       "\t<tr><td>3990694</td><td>3990694</td><td>-9     </td></tr>\n",
       "</tbody>\n",
       "</table>\n"
      ],
      "text/latex": [
       "\\begin{tabular}{r|lll}\n",
       " ID & ID2 & val\\\\\n",
       "\\hline\n",
       "\t 4646215 & 4646215 & -9     \\\\\n",
       "\t 5007659 & 5007659 & -9     \\\\\n",
       "\t 5441319 & 5441319 & -9     \\\\\n",
       "\t 5743544 & 5743544 & -9     \\\\\n",
       "\t 3266897 & 3266897 & -9     \\\\\n",
       "\t 3990694 & 3990694 & -9     \\\\\n",
       "\\end{tabular}\n"
      ],
      "text/markdown": [
       "\n",
       "ID | ID2 | val | \n",
       "|---|---|---|---|---|---|\n",
       "| 4646215 | 4646215 | -9      | \n",
       "| 5007659 | 5007659 | -9      | \n",
       "| 5441319 | 5441319 | -9      | \n",
       "| 5743544 | 5743544 | -9      | \n",
       "| 3266897 | 3266897 | -9      | \n",
       "| 3990694 | 3990694 | -9      | \n",
       "\n",
       "\n"
      ],
      "text/plain": [
       "  ID      ID2     val\n",
       "1 4646215 4646215 -9 \n",
       "2 5007659 5007659 -9 \n",
       "3 5441319 5441319 -9 \n",
       "4 5743544 5743544 -9 \n",
       "5 3266897 3266897 -9 \n",
       "6 3990694 3990694 -9 "
      ]
     },
     "metadata": {},
     "output_type": "display_data"
    },
    {
     "data": {
      "text/html": [
       "<table>\n",
       "<thead><tr><th scope=col>ID</th><th scope=col>ID2</th><th scope=col>val</th></tr></thead>\n",
       "<tbody>\n",
       "\t<tr><td>4646215</td><td>4646215</td><td>-9     </td></tr>\n",
       "\t<tr><td>5007659</td><td>5007659</td><td>-9     </td></tr>\n",
       "\t<tr><td>5441319</td><td>5441319</td><td>-9     </td></tr>\n",
       "\t<tr><td>5743544</td><td>5743544</td><td>-9     </td></tr>\n",
       "\t<tr><td>3266897</td><td>3266897</td><td>-9     </td></tr>\n",
       "\t<tr><td>3990694</td><td>3990694</td><td>-9     </td></tr>\n",
       "</tbody>\n",
       "</table>\n"
      ],
      "text/latex": [
       "\\begin{tabular}{r|lll}\n",
       " ID & ID2 & val\\\\\n",
       "\\hline\n",
       "\t 4646215 & 4646215 & -9     \\\\\n",
       "\t 5007659 & 5007659 & -9     \\\\\n",
       "\t 5441319 & 5441319 & -9     \\\\\n",
       "\t 5743544 & 5743544 & -9     \\\\\n",
       "\t 3266897 & 3266897 & -9     \\\\\n",
       "\t 3990694 & 3990694 & -9     \\\\\n",
       "\\end{tabular}\n"
      ],
      "text/markdown": [
       "\n",
       "ID | ID2 | val | \n",
       "|---|---|---|---|---|---|\n",
       "| 4646215 | 4646215 | -9      | \n",
       "| 5007659 | 5007659 | -9      | \n",
       "| 5441319 | 5441319 | -9      | \n",
       "| 5743544 | 5743544 | -9      | \n",
       "| 3266897 | 3266897 | -9      | \n",
       "| 3990694 | 3990694 | -9      | \n",
       "\n",
       "\n"
      ],
      "text/plain": [
       "  ID      ID2     val\n",
       "1 4646215 4646215 -9 \n",
       "2 5007659 5007659 -9 \n",
       "3 5441319 5441319 -9 \n",
       "4 5743544 5743544 -9 \n",
       "5 3266897 3266897 -9 \n",
       "6 3990694 3990694 -9 "
      ]
     },
     "metadata": {},
     "output_type": "display_data"
    },
    {
     "data": {
      "text/plain": [
       "\n",
       "    -9      1      2 \n",
       "427523  63468  11552 "
      ]
     },
     "metadata": {},
     "output_type": "display_data"
    }
   ],
   "source": [
    "filter(meno_time, val < 0) %>% head()\n",
    "filter(meno_length, val < 0) %>% head()\n",
    "table(meno_today$val)"
   ]
  },
  {
   "cell_type": "code",
   "execution_count": 20,
   "metadata": {
    "scrolled": true
   },
   "outputs": [
    {
     "name": "stderr",
     "output_type": "stream",
     "text": [
      "Warning message:\n",
      "“Removed 896 rows containing non-finite values (stat_bin).”Warning message:\n",
      "“Removed 8 rows containing missing values (geom_bar).”"
     ]
    },
    {
     "data": {},
     "metadata": {},
     "output_type": "display_data"
    },
    {
     "data": {
      "image/png": "[encoded data removed]",
      "text/plain": [
       "plot without title"
      ]
     },
     "metadata": {},
     "output_type": "display_data"
    }
   ],
   "source": [
    "ggplot(meno_time, aes(val))+geom_histogram(binwidth=5)+xlim(-10, 60)+ylim(0, 1000)"
   ]
  },
  {
   "cell_type": "markdown",
   "metadata": {},
   "source": [
    "#### Look at repeat visits"
   ]
  },
  {
   "cell_type": "code",
   "execution_count": null,
   "metadata": {
    "collapsed": true
   },
   "outputs": [],
   "source": [
    "# 2nd visit\n",
    "\n",
    "# how many are still pre-menopause?\n",
    "\n",
    "# phase information"
   ]
  },
  {
   "cell_type": "markdown",
   "metadata": {},
   "source": [
    "# DEPRECATED"
   ]
  },
  {
   "cell_type": "code",
   "execution_count": 56,
   "metadata": {},
   "outputs": [
    {
     "data": {
      "text/html": [
       "<table>\n",
       "<thead><tr><th scope=col>IID</th><th scope=col>meno</th><th scope=col>meno.age</th><th scope=col>age</th><th scope=col>sex</th><th scope=col>years.post</th><th scope=col>meno.label</th></tr></thead>\n",
       "<tbody>\n",
       "\t<tr><td>1000028 </td><td>FALSE   </td><td>NA      </td><td>54      </td><td>0       </td><td>NA      </td><td>pre     </td></tr>\n",
       "\t<tr><td>1000254 </td><td>FALSE   </td><td>NA      </td><td>57      </td><td>0       </td><td>NA      </td><td>pre     </td></tr>\n",
       "\t<tr><td>1000353 </td><td>FALSE   </td><td>NA      </td><td>50      </td><td>0       </td><td>NA      </td><td>pre     </td></tr>\n",
       "\t<tr><td>1000384 </td><td>FALSE   </td><td>NA      </td><td>53      </td><td>0       </td><td>NA      </td><td>pre     </td></tr>\n",
       "\t<tr><td>1000430 </td><td>FALSE   </td><td>NA      </td><td>62      </td><td>0       </td><td>NA      </td><td>unlikely</td></tr>\n",
       "\t<tr><td>1000465 </td><td>FALSE   </td><td>NA      </td><td>52      </td><td>0       </td><td>NA      </td><td>pre     </td></tr>\n",
       "</tbody>\n",
       "</table>\n"
      ],
      "text/latex": [
       "\\begin{tabular}{r|lllllll}\n",
       " IID & meno & meno.age & age & sex & years.post & meno.label\\\\\n",
       "\\hline\n",
       "\t 1000028  & FALSE    & NA       & 54       & 0        & NA       & pre     \\\\\n",
       "\t 1000254  & FALSE    & NA       & 57       & 0        & NA       & pre     \\\\\n",
       "\t 1000353  & FALSE    & NA       & 50       & 0        & NA       & pre     \\\\\n",
       "\t 1000384  & FALSE    & NA       & 53       & 0        & NA       & pre     \\\\\n",
       "\t 1000430  & FALSE    & NA       & 62       & 0        & NA       & unlikely\\\\\n",
       "\t 1000465  & FALSE    & NA       & 52       & 0        & NA       & pre     \\\\\n",
       "\\end{tabular}\n"
      ],
      "text/markdown": [
       "\n",
       "IID | meno | meno.age | age | sex | years.post | meno.label | \n",
       "|---|---|---|---|---|---|\n",
       "| 1000028  | FALSE    | NA       | 54       | 0        | NA       | pre      | \n",
       "| 1000254  | FALSE    | NA       | 57       | 0        | NA       | pre      | \n",
       "| 1000353  | FALSE    | NA       | 50       | 0        | NA       | pre      | \n",
       "| 1000384  | FALSE    | NA       | 53       | 0        | NA       | pre      | \n",
       "| 1000430  | FALSE    | NA       | 62       | 0        | NA       | unlikely | \n",
       "| 1000465  | FALSE    | NA       | 52       | 0        | NA       | pre      | \n",
       "\n",
       "\n"
      ],
      "text/plain": [
       "  IID     meno  meno.age age sex years.post meno.label\n",
       "1 1000028 FALSE NA       54  0   NA         pre       \n",
       "2 1000254 FALSE NA       57  0   NA         pre       \n",
       "3 1000353 FALSE NA       50  0   NA         pre       \n",
       "4 1000384 FALSE NA       53  0   NA         pre       \n",
       "5 1000430 FALSE NA       62  0   NA         unlikely  \n",
       "6 1000465 FALSE NA       52  0   NA         pre       "
      ]
     },
     "metadata": {},
     "output_type": "display_data"
    }
   ],
   "source": [
    "head(filter(combined_age_dat2, !meno))"
   ]
  },
  {
   "cell_type": "code",
   "execution_count": 20,
   "metadata": {},
   "outputs": [
    {
     "data": {
      "text/plain": [
       "\n",
       "     0      1 \n",
       "     9 148196 "
      ]
     },
     "metadata": {},
     "output_type": "display_data"
    }
   ],
   "source": [
    "table(combined_age_dat2$phe.label)"
   ]
  },
  {
   "cell_type": "code",
   "execution_count": 11,
   "metadata": {
    "collapsed": true
   },
   "outputs": [],
   "source": [
    "write.table(combined_age_dat, file=\"../data/menopause_age_data.txt\", row.names=FALSE, quote=FALSE )"
   ]
  },
  {
   "cell_type": "code",
   "execution_count": 12,
   "metadata": {},
   "outputs": [
    {
     "data": {
      "text/html": [
       "<table>\n",
       "<thead><tr><th scope=col>IID</th><th scope=col>meno</th><th scope=col>meno.age</th><th scope=col>age</th><th scope=col>sex</th><th scope=col>years.post</th></tr></thead>\n",
       "<tbody>\n",
       "\t<tr><td>1000010</td><td>   NA  </td><td>NA     </td><td>NA     </td><td>NA     </td><td>NA     </td></tr>\n",
       "\t<tr><td>1000028</td><td>FALSE  </td><td>NA     </td><td>54     </td><td> 0     </td><td>NA     </td></tr>\n",
       "\t<tr><td>1000034</td><td>   NA  </td><td>NA     </td><td>68     </td><td> 1     </td><td>NA     </td></tr>\n",
       "\t<tr><td>1000045</td><td> TRUE  </td><td>54     </td><td>79     </td><td> 0     </td><td>25     </td></tr>\n",
       "\t<tr><td>1000052</td><td> TRUE  </td><td>NA     </td><td>72     </td><td> 0     </td><td>NA     </td></tr>\n",
       "\t<tr><td>1000069</td><td> TRUE  </td><td>50     </td><td>75     </td><td> 0     </td><td>25     </td></tr>\n",
       "</tbody>\n",
       "</table>\n"
      ],
      "text/latex": [
       "\\begin{tabular}{r|llllll}\n",
       " IID & meno & meno.age & age & sex & years.post\\\\\n",
       "\\hline\n",
       "\t 1000010 &    NA   & NA      & NA      & NA      & NA     \\\\\n",
       "\t 1000028 & FALSE   & NA      & 54      &  0      & NA     \\\\\n",
       "\t 1000034 &    NA   & NA      & 68      &  1      & NA     \\\\\n",
       "\t 1000045 &  TRUE   & 54      & 79      &  0      & 25     \\\\\n",
       "\t 1000052 &  TRUE   & NA      & 72      &  0      & NA     \\\\\n",
       "\t 1000069 &  TRUE   & 50      & 75      &  0      & 25     \\\\\n",
       "\\end{tabular}\n"
      ],
      "text/markdown": [
       "\n",
       "IID | meno | meno.age | age | sex | years.post | \n",
       "|---|---|---|---|---|---|\n",
       "| 1000010 |    NA   | NA      | NA      | NA      | NA      | \n",
       "| 1000028 | FALSE   | NA      | 54      |  0      | NA      | \n",
       "| 1000034 |    NA   | NA      | 68      |  1      | NA      | \n",
       "| 1000045 |  TRUE   | 54      | 79      |  0      | 25      | \n",
       "| 1000052 |  TRUE   | NA      | 72      |  0      | NA      | \n",
       "| 1000069 |  TRUE   | 50      | 75      |  0      | 25      | \n",
       "\n",
       "\n"
      ],
      "text/plain": [
       "  IID     meno  meno.age age sex years.post\n",
       "1 1000010    NA NA       NA  NA  NA        \n",
       "2 1000028 FALSE NA       54   0  NA        \n",
       "3 1000034    NA NA       68   1  NA        \n",
       "4 1000045  TRUE 54       79   0  25        \n",
       "5 1000052  TRUE NA       72   0  NA        \n",
       "6 1000069  TRUE 50       75   0  25        "
      ]
     },
     "metadata": {},
     "output_type": "display_data"
    },
    {
     "name": "stderr",
     "output_type": "stream",
     "text": [
      "`stat_bin()` using `bins = 30`. Pick better value with `binwidth`.\n"
     ]
    },
    {
     "data": {},
     "metadata": {},
     "output_type": "display_data"
    },
    {
     "data": {
      "image/png": "[encoded data removed]",
      "text/plain": [
       "plot without title"
      ]
     },
     "metadata": {},
     "output_type": "display_data"
    }
   ],
   "source": [
    "# separate people into post-menopause (>2years), peri-menopause (0-2years), pre-menopause\n",
    "# -- reason to do this\n",
    "# how many fall in each category?\n",
    "head(combined_age_dat)\n",
    "ggplot(data=combined_age_dat[!is.na(combined_age_dat$years.post),], aes(years.post)) +geom_histogram()"
   ]
  },
  {
   "cell_type": "code",
   "execution_count": 10,
   "metadata": {},
   "outputs": [
    {
     "data": {
      "text/html": [
       "15"
      ],
      "text/latex": [
       "15"
      ],
      "text/markdown": [
       "15"
      ],
      "text/plain": [
       "[1] 15"
      ]
     },
     "metadata": {},
     "output_type": "display_data"
    },
    {
     "data": {
      "text/html": [
       "6746"
      ],
      "text/latex": [
       "6746"
      ],
      "text/markdown": [
       "6746"
      ],
      "text/plain": [
       "[1] 6746"
      ]
     },
     "metadata": {},
     "output_type": "display_data"
    },
    {
     "data": {
      "text/html": [
       "1201"
      ],
      "text/latex": [
       "1201"
      ],
      "text/markdown": [
       "1201"
      ],
      "text/plain": [
       "[1] 1201"
      ]
     },
     "metadata": {},
     "output_type": "display_data"
    },
    {
     "data": {
      "text/html": [
       "145796"
      ],
      "text/latex": [
       "145796"
      ],
      "text/markdown": [
       "145796"
      ],
      "text/plain": [
       "[1] 145796"
      ]
     },
     "metadata": {},
     "output_type": "display_data"
    }
   ],
   "source": [
    "\n",
    "nrow(filter(combined_age_dat, years.post < 2 & !is.na(years.post))) # 15 \n",
    "\n",
    "# premature menopause - occuring in a woman younger than 40 years\n",
    "nrow(filter(combined_age_dat, meno.age < 40 & !is.na(years.post)))\n",
    "nrow(filter(combined_age_dat, meno.age < 30 & !is.na(years.post)))\n",
    "\n",
    "nrow(filter(combined_age_dat, meno.age >= 40 & years.post >=2 & !is.na(years.post))) # 145,812\n"
   ]
  },
  {
   "cell_type": "code",
   "execution_count": 11,
   "metadata": {},
   "outputs": [
    {
     "data": {
      "text/html": [
       "579"
      ],
      "text/latex": [
       "579"
      ],
      "text/markdown": [
       "579"
      ],
      "text/plain": [
       "[1] 579"
      ]
     },
     "metadata": {},
     "output_type": "display_data"
    },
    {
     "data": {
      "text/html": [
       "59895"
      ],
      "text/latex": [
       "59895"
      ],
      "text/markdown": [
       "59895"
      ],
      "text/plain": [
       "[1] 59895"
      ]
     },
     "metadata": {},
     "output_type": "display_data"
    }
   ],
   "source": [
    "nrow(filter(combined_age_dat, !meno & age > 70))\n",
    "nrow(filter(combined_age_dat, !meno & age <= 70))\n",
    "\n",
    "# there are a lot of people over 65 who have not had menopause... this is surprising to me"
   ]
  },
  {
   "cell_type": "code",
   "execution_count": 12,
   "metadata": {},
   "outputs": [
    {
     "data": {
      "text/html": [
       "1988"
      ],
      "text/latex": [
       "1988"
      ],
      "text/markdown": [
       "1988"
      ],
      "text/plain": [
       "[1] 1988"
      ]
     },
     "metadata": {},
     "output_type": "display_data"
    }
   ],
   "source": [
    "nrow(filter(combined_age_dat, !meno & is.na(age))) # some are missing age data"
   ]
  },
  {
   "cell_type": "code",
   "execution_count": 13,
   "metadata": {},
   "outputs": [
    {
     "data": {
      "text/plain": [
       "\n",
       "     0      1 \n",
       " 59895 145796 "
      ]
     },
     "metadata": {},
     "output_type": "display_data"
    }
   ],
   "source": [
    "# phenotype-label\n",
    "# 1 = menopause, 0 = pre-menopause, NA = QC removed\n",
    "combined_age_dat2 <- mutate(combined_age_dat, \n",
    "                            phe.label=ifelse(meno.age >= 40 & years.post >=2 & !is.na(years.post), 1,\n",
    "                                             ifelse(!meno & age <= 70, 0, NA)))\n",
    "\n",
    "table(combined_age_dat2$phe.label)"
   ]
  },
  {
   "cell_type": "code",
   "execution_count": 14,
   "metadata": {},
   "outputs": [
    {
     "data": {
      "text/html": [
       "62462"
      ],
      "text/latex": [
       "62462"
      ],
      "text/markdown": [
       "62462"
      ],
      "text/plain": [
       "[1] 62462"
      ]
     },
     "metadata": {},
     "output_type": "display_data"
    },
    {
     "data": {},
     "metadata": {},
     "output_type": "display_data"
    },
    {
     "data": {
      "image/png": "[encoded data removed]",
      "text/plain": [
       "plot without title"
      ]
     },
     "metadata": {},
     "output_type": "display_data"
    }
   ],
   "source": [
    "nrow(filter(combined_age_dat, !meno)) # 62,462\n",
    "\n",
    "combined_age_dat3 <- combined_age_dat2[!is.na(combined_age_dat2$phe.label),]\n",
    "combined_age_dat3$phe.label <- as.factor(combined_age_dat3$phe.label)\n",
    "ggplot(data=combined_age_dat3, aes(age, colour=phe.label, fill=phe.label)) +geom_density(alpha=0.1)\n",
    "\n",
    "# this really divides the group by age <-- although some of this is by definition\n"
   ]
  },
  {
   "cell_type": "code",
   "execution_count": 15,
   "metadata": {
    "collapsed": true
   },
   "outputs": [],
   "source": [
    "# write out the labels as phe files\n",
    "pre_meno <- filter(combined_age_dat3, phe.label == 0 )\n",
    "#write.table(select(pre_meno, IID), file=\"../phefiles/pre_meno.keep\", quote=FALSE, row.names=FALSE, col.names=FALSE)\n",
    "post_meno <- filter(combined_age_dat3, phe.label == 1 )\n",
    "#write.table(select(post_meno, IID), file=\"../phefiles/post_meno.keep\", quote=FALSE, row.names=FALSE, col.names=FALSE)\n",
    "\n",
    "# Qs to ask:\n",
    "# - does age affect this?\n"
   ]
  },
  {
   "cell_type": "code",
   "execution_count": 22,
   "metadata": {},
   "outputs": [
    {
     "data": {
      "text/html": [
       "156135"
      ],
      "text/latex": [
       "156135"
      ],
      "text/markdown": [
       "156135"
      ],
      "text/plain": [
       "[1] 156135"
      ]
     },
     "metadata": {},
     "output_type": "display_data"
    },
    {
     "data": {
      "text/html": [
       "181064"
      ],
      "text/latex": [
       "181064"
      ],
      "text/markdown": [
       "181064"
      ],
      "text/plain": [
       "[1] 181064"
      ]
     },
     "metadata": {},
     "output_type": "display_data"
    }
   ],
   "source": [
    "# how do I have more females than I thought?\n",
    "# - are we removing the appropriate samples?\n",
    "onesex.tab <- read.table(\"../phefiles/old_sex_labels/onesex.keep\") # 156k\n",
    "nrow(onesex.tab)\n",
    "\n",
    "zerosex.tab <- read.table(\"../phefiles/old_sex_labels/zerosex.keep\") # 181k\n",
    "nrow(zerosex.tab)\n",
    "\n",
    "# - yet somehow I have 168+62 :/ \n",
    "\n",
    "# oh whoops - forgot to remove data \n",
    "removal_file_one <- '/oak/stanford/groups/mrivas/ukbb/24983/sqc/ukb24983_remove.phe'\n",
    "removal_file_two <- '/oak/stanford/groups/mrivas/ukbb/24983/sqc/w2498_20170726.phe'\n",
    "remove1 <- read.table(removal_file_one, header=FALSE)\n",
    "remove2 <- read.table(removal_file_two, header=FALSE) # this file is messy b/c of meta characters - only has three people in it tho\n",
    "ids.to.remove <- c(remove1[,1], unique(remove2[,1]))\n"
   ]
  },
  {
   "cell_type": "code",
   "execution_count": 30,
   "metadata": {},
   "outputs": [
    {
     "data": {
      "text/html": [
       "<ol class=list-inline>\n",
       "\t<li>2652670</li>\n",
       "\t<li>2850227</li>\n",
       "\t<li>3946352</li>\n",
       "\t<li>3073546</li>\n",
       "\t<li>2063443</li>\n",
       "\t<li>4144793</li>\n",
       "</ol>\n"
      ],
      "text/latex": [
       "\\begin{enumerate*}\n",
       "\\item 2652670\n",
       "\\item 2850227\n",
       "\\item 3946352\n",
       "\\item 3073546\n",
       "\\item 2063443\n",
       "\\item 4144793\n",
       "\\end{enumerate*}\n"
      ],
      "text/markdown": [
       "1. 2652670\n",
       "2. 2850227\n",
       "3. 3946352\n",
       "4. 3073546\n",
       "5. 2063443\n",
       "6. 4144793\n",
       "\n",
       "\n"
      ],
      "text/plain": [
       "[1] 2652670 2850227 3946352 3073546 2063443 4144793"
      ]
     },
     "metadata": {},
     "output_type": "display_data"
    },
    {
     "data": {
      "text/html": [
       "38945"
      ],
      "text/latex": [
       "38945"
      ],
      "text/markdown": [
       "38945"
      ],
      "text/plain": [
       "[1] 38945"
      ]
     },
     "metadata": {},
     "output_type": "display_data"
    },
    {
     "data": {
      "text/html": [
       "101586"
      ],
      "text/latex": [
       "101586"
      ],
      "text/markdown": [
       "101586"
      ],
      "text/plain": [
       "[1] 101586"
      ]
     },
     "metadata": {},
     "output_type": "display_data"
    }
   ],
   "source": [
    "head(ids.to.remove)\n",
    "pre_meno2 <- pre_meno[!(pre_meno$IID %in% ids.to.remove),] # 38,945\n",
    "(num.pre <- nrow(pre_meno2))\n",
    "post_meno2 <- post_meno[!(post_meno$IID %in% ids.to.remove),] # 101,586\n",
    "(num.post <- nrow(post_meno2))\n",
    "\n",
    "# ok this is more reasonable\n",
    "\n",
    "# re-write the files\n",
    "write.table(select(pre_meno2, IID), file=\"../phefiles/pre_meno.keep\", quote=FALSE, row.names=FALSE, col.names=FALSE)\n",
    "write.table(select(post_meno2, IID), file=\"../phefiles/post_meno.keep\", quote=FALSE, row.names=FALSE, col.names=FALSE)\n"
   ]
  },
  {
   "cell_type": "code",
   "execution_count": 35,
   "metadata": {
    "collapsed": true
   },
   "outputs": [],
   "source": [
    "# down-sample\n",
    "# - does the label imbalance affect things?\n",
    "\n",
    "# what if we downsample post_meno to 38k? (is this too small)\n",
    "\n",
    "# also downsample males\n",
    "\n",
    "set.seed(724)\n",
    "keep_rows_post <- sample(1:num.post, num.pre, replace=FALSE)\n",
    "onesex.tab <- read.table(\"../phefiles/old_sex_labels/onesex.keep\") # 156k\n",
    "colnames(onesex.tab) <- \"IID\"\n",
    "num.m <- nrow(onesex.tab)\n",
    "keep_rows_male <- sample(1:num.m, num.pre, replace=FALSE)\n",
    "post_meno_down <- post_meno2[keep_rows_post,]\n",
    "onesex_down <- onesex.tab[keep_rows_male,]\n",
    "\n",
    "# write these out\n",
    "write.table(select(pre_meno2, IID), file=\"../pr\")\n",
    "write.table(select(post_meno_down, IID), file=\"../phefiles/post_meno_d.keep\", quote=FALSE, row.names=FALSE, col.names=FALSE)\n",
    "#write.table(select(onesex_down, IID), file=\"../phefiles/onesex_d.keep\", quote=FALSE, row.names=FALSE, col.names=FALSE)\n",
    "write.table(onesex_down, file=\"../phefiles/onesex_d.keep\", quote=FALSE, row.names=FALSE, col.names=FALSE)"
   ]
  },
  {
   "cell_type": "code",
   "execution_count": 48,
   "metadata": {},
   "outputs": [
    {
     "data": {
      "text/html": [
       "<table>\n",
       "<thead><tr><th scope=col>FID</th><th scope=col>IID</th><th scope=col>age</th><th scope=col>sex</th><th scope=col>Array</th></tr></thead>\n",
       "<tbody>\n",
       "\t<tr><td>2502845</td><td>2502845</td><td>50     </td><td>1      </td><td>1      </td></tr>\n",
       "\t<tr><td>2314965</td><td>2314965</td><td>55     </td><td>0      </td><td>1      </td></tr>\n",
       "\t<tr><td>1142584</td><td>1142584</td><td>60     </td><td>0      </td><td>1      </td></tr>\n",
       "\t<tr><td>3665122</td><td>3665122</td><td>74     </td><td>0      </td><td>1      </td></tr>\n",
       "\t<tr><td>4377492</td><td>4377492</td><td>65     </td><td>0      </td><td>1      </td></tr>\n",
       "\t<tr><td>2652670</td><td>2652670</td><td>58     </td><td>1      </td><td>1      </td></tr>\n",
       "</tbody>\n",
       "</table>\n"
      ],
      "text/latex": [
       "\\begin{tabular}{r|lllll}\n",
       " FID & IID & age & sex & Array\\\\\n",
       "\\hline\n",
       "\t 2502845 & 2502845 & 50      & 1       & 1      \\\\\n",
       "\t 2314965 & 2314965 & 55      & 0       & 1      \\\\\n",
       "\t 1142584 & 1142584 & 60      & 0       & 1      \\\\\n",
       "\t 3665122 & 3665122 & 74      & 0       & 1      \\\\\n",
       "\t 4377492 & 4377492 & 65      & 0       & 1      \\\\\n",
       "\t 2652670 & 2652670 & 58      & 1       & 1      \\\\\n",
       "\\end{tabular}\n"
      ],
      "text/markdown": [
       "\n",
       "FID | IID | age | sex | Array | \n",
       "|---|---|---|---|---|---|\n",
       "| 2502845 | 2502845 | 50      | 1       | 1       | \n",
       "| 2314965 | 2314965 | 55      | 0       | 1       | \n",
       "| 1142584 | 1142584 | 60      | 0       | 1       | \n",
       "| 3665122 | 3665122 | 74      | 0       | 1       | \n",
       "| 4377492 | 4377492 | 65      | 0       | 1       | \n",
       "| 2652670 | 2652670 | 58      | 1       | 1       | \n",
       "\n",
       "\n"
      ],
      "text/plain": [
       "  FID     IID     age sex Array\n",
       "1 2502845 2502845 50  1   1    \n",
       "2 2314965 2314965 55  0   1    \n",
       "3 1142584 1142584 60  0   1    \n",
       "4 3665122 3665122 74  0   1    \n",
       "5 4377492 4377492 65  0   1    \n",
       "6 2652670 2652670 58  1   1    "
      ]
     },
     "metadata": {},
     "output_type": "display_data"
    },
    {
     "data": {
      "text/html": [
       "<table>\n",
       "<thead><tr><th scope=col>sex</th><th scope=col>median(age)</th></tr></thead>\n",
       "<tbody>\n",
       "\t<tr><td>0 </td><td>67</td></tr>\n",
       "\t<tr><td>1 </td><td>68</td></tr>\n",
       "</tbody>\n",
       "</table>\n"
      ],
      "text/latex": [
       "\\begin{tabular}{r|ll}\n",
       " sex & median(age)\\\\\n",
       "\\hline\n",
       "\t 0  & 67\\\\\n",
       "\t 1  & 68\\\\\n",
       "\\end{tabular}\n"
      ],
      "text/markdown": [
       "\n",
       "sex | median(age) | \n",
       "|---|---|\n",
       "| 0  | 67 | \n",
       "| 1  | 68 | \n",
       "\n",
       "\n"
      ],
      "text/plain": [
       "  sex median(age)\n",
       "1 0   67         \n",
       "2 1   68         "
      ]
     },
     "metadata": {},
     "output_type": "display_data"
    },
    {
     "data": {
      "text/plain": [
       "\n",
       "   0    1 \n",
       "2207 1990 "
      ]
     },
     "metadata": {},
     "output_type": "display_data"
    }
   ],
   "source": [
    "# age-divide the data\n",
    "# at what cut-point? we could do over + under 65\n",
    "\n",
    "head(covar_data[,1:5])\n",
    "covar_data_keep <- covar_data[!(covar_data$IID %in% ids.to.remove),]\n",
    "covar_data_keep %>% group_by(sex) %>% summarize(median(age)) # mean age is ~65\n",
    "\n",
    "table(covar_data_keep[covar_data_keep$age < 50,]$sex) # only 2k in each --> POOR CHOICE"
   ]
  },
  {
   "cell_type": "code",
   "execution_count": 49,
   "metadata": {
    "collapsed": true
   },
   "outputs": [],
   "source": [
    "over65.f <- covar_data_keep$IID[covar_data_keep$age > 65 & covar_data_keep$sex == 0]\n",
    "over65.m <- covar_data_keep$IID[covar_data_keep$age > 65 & covar_data_keep$sex == 1]\n",
    "under65.f <- covar_data_keep$IID[covar_data_keep$age <= 65 & covar_data_keep$sex == 0]\n",
    "under65.m <- covar_data_keep$IID[covar_data_keep$age <= 65 & covar_data_keep$sex == 1]"
   ]
  },
  {
   "cell_type": "code",
   "execution_count": 53,
   "metadata": {},
   "outputs": [
    {
     "data": {
      "text/html": [
       "99571"
      ],
      "text/latex": [
       "99571"
      ],
      "text/markdown": [
       "99571"
      ],
      "text/plain": [
       "[1] 99571"
      ]
     },
     "metadata": {},
     "output_type": "display_data"
    },
    {
     "data": {
      "text/html": [
       "90319"
      ],
      "text/latex": [
       "90319"
      ],
      "text/markdown": [
       "90319"
      ],
      "text/plain": [
       "[1] 90319"
      ]
     },
     "metadata": {},
     "output_type": "display_data"
    },
    {
     "data": {
      "text/html": [
       "81496"
      ],
      "text/latex": [
       "81496"
      ],
      "text/markdown": [
       "81496"
      ],
      "text/plain": [
       "[1] 81496"
      ]
     },
     "metadata": {},
     "output_type": "display_data"
    },
    {
     "data": {
      "text/html": [
       "65820"
      ],
      "text/latex": [
       "65820"
      ],
      "text/markdown": [
       "65820"
      ],
      "text/plain": [
       "[1] 65820"
      ]
     },
     "metadata": {},
     "output_type": "display_data"
    }
   ],
   "source": [
    "length(over65.f) # 99571\n",
    "length(over65.m) # 90319\n",
    "length(under65.f) # 81496\n",
    "length(under65.m) # 65820 -- huh this is less!\n",
    "\n",
    "# for now - just run with all\n",
    "# next time --> we will try downsampling\n",
    "\n",
    "write.table(over65.f, file=\"../phefiles/over65_f.keep\", quote=FALSE, row.names=FALSE, col.names=FALSE)\n",
    "write.table(over65.m, file=\"../phefiles/over65_m.keep\", quote=FALSE, row.names=FALSE, col.names=FALSE)\n",
    "write.table(under65.f, file=\"../phefiles/under65_f.keep\", quote=FALSE, row.names=FALSE, col.names=FALSE)\n",
    "write.table(under65.m, file=\"../phefiles/under65_m.keep\", quote=FALSE, row.names=FALSE, col.names=FALSE)"
   ]
  }
 ],
 "metadata": {
  "kernelspec": {
   "display_name": "R",
   "language": "R",
   "name": "ir"
  },
  "language_info": {
   "codemirror_mode": "r",
   "file_extension": ".r",
   "mimetype": "text/x-r-source",
   "name": "R",
   "pygments_lexer": "r",
   "version": "3.4.0"
  }
 },
 "nbformat": 4,
 "nbformat_minor": 2
}
