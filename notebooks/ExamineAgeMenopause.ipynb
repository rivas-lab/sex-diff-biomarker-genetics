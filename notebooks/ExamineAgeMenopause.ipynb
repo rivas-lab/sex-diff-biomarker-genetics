{
 "cells": [
  {
   "cell_type": "markdown",
   "metadata": {},
   "source": [
    "### ExamineAgeMenopause\n",
    "##### E Flynn\n",
    "##### 7/2/2018\n",
    "\n",
    "The goal of this notebook is to bin the data by age, and then also into pre-post menopause, and examine these differences. \n",
    "\n",
    "Then, we will set up the phenotype definition for females and menopause:\n",
    "* Pre-menopause: stated they have not reached menopause -AND- are less than 60 years old\n",
    "* Post-menopause: >2 years post menopause -AND- had menopause after age 40\n",
    "\n",
    "Others:\n",
    "* Peri-menopause: w/in 2y menopause\n",
    "* Premature_menopause: menopause less than age 40\n",
    "* Unlikely_pre: greater than 60y and says that not reached menopause\n",
    "* Missing: prefer not to answer or missing"
   ]
  },
  {
   "cell_type": "code",
   "execution_count": 7,
   "metadata": {},
   "outputs": [],
   "source": [
    "require('tidyverse')\n",
    "options(stringsAsFactors=FALSE)\n",
    "require('dplyr')\n",
    "require('reshape2')"
   ]
  },
  {
   "cell_type": "code",
   "execution_count": 2,
   "metadata": {
    "collapsed": true
   },
   "outputs": [],
   "source": [
    "ss_phe <- read.table(\"../phe_extraction/sex_spec_pheno.txt\", header=TRUE)\n",
    "\n"
   ]
  },
  {
   "cell_type": "code",
   "execution_count": null,
   "metadata": {},
   "outputs": [],
   "source": [
    "head(ss_phe)"
   ]
  },
  {
   "cell_type": "code",
   "execution_count": 5,
   "metadata": {},
   "outputs": [
    {
     "data": {
      "text/html": [
       "<table>\n",
       "<thead><tr><th scope=col>IID</th><th scope=col>age</th><th scope=col>sex</th><th scope=col>variable</th><th scope=col>value</th></tr></thead>\n",
       "<tbody>\n",
       "\t<tr><td>2502845   </td><td>50        </td><td>1         </td><td>f.3140.0.0</td><td>NA        </td></tr>\n",
       "\t<tr><td>2314965   </td><td>55        </td><td>0         </td><td>f.3140.0.0</td><td> 0        </td></tr>\n",
       "\t<tr><td>1142584   </td><td>60        </td><td>0         </td><td>f.3140.0.0</td><td> 0        </td></tr>\n",
       "\t<tr><td>3665122   </td><td>74        </td><td>0         </td><td>f.3140.0.0</td><td> 0        </td></tr>\n",
       "\t<tr><td>4377492   </td><td>65        </td><td>0         </td><td>f.3140.0.0</td><td> 0        </td></tr>\n",
       "\t<tr><td>2652670   </td><td>58        </td><td>1         </td><td>f.3140.0.0</td><td>NA        </td></tr>\n",
       "</tbody>\n",
       "</table>\n"
      ],
      "text/latex": [
       "\\begin{tabular}{r|lllll}\n",
       " IID & age & sex & variable & value\\\\\n",
       "\\hline\n",
       "\t 2502845    & 50         & 1          & f.3140.0.0 & NA        \\\\\n",
       "\t 2314965    & 55         & 0          & f.3140.0.0 &  0        \\\\\n",
       "\t 1142584    & 60         & 0          & f.3140.0.0 &  0        \\\\\n",
       "\t 3665122    & 74         & 0          & f.3140.0.0 &  0        \\\\\n",
       "\t 4377492    & 65         & 0          & f.3140.0.0 &  0        \\\\\n",
       "\t 2652670    & 58         & 1          & f.3140.0.0 & NA        \\\\\n",
       "\\end{tabular}\n"
      ],
      "text/markdown": [
       "\n",
       "IID | age | sex | variable | value | \n",
       "|---|---|---|---|---|---|\n",
       "| 2502845    | 50         | 1          | f.3140.0.0 | NA         | \n",
       "| 2314965    | 55         | 0          | f.3140.0.0 |  0         | \n",
       "| 1142584    | 60         | 0          | f.3140.0.0 |  0         | \n",
       "| 3665122    | 74         | 0          | f.3140.0.0 |  0         | \n",
       "| 4377492    | 65         | 0          | f.3140.0.0 |  0         | \n",
       "| 2652670    | 58         | 1          | f.3140.0.0 | NA         | \n",
       "\n",
       "\n"
      ],
      "text/plain": [
       "  IID     age sex variable   value\n",
       "1 2502845 50  1   f.3140.0.0 NA   \n",
       "2 2314965 55  0   f.3140.0.0  0   \n",
       "3 1142584 60  0   f.3140.0.0  0   \n",
       "4 3665122 74  0   f.3140.0.0  0   \n",
       "5 4377492 65  0   f.3140.0.0  0   \n",
       "6 2652670 58  1   f.3140.0.0 NA   "
      ]
     },
     "metadata": {},
     "output_type": "display_data"
    }
   ],
   "source": [
    "ss_phe_long <- melt(ss_phe, id.vars=c(\"IID\", \"age\", \"sex\"))\n",
    "head(ss_phe_long)"
   ]
  },
  {
   "cell_type": "code",
   "execution_count": 6,
   "metadata": {
    "collapsed": true
   },
   "outputs": [],
   "source": [
    "ss_phe_long$variable <- as.character(ss_phe_long$variable)"
   ]
  },
  {
   "cell_type": "code",
   "execution_count": 7,
   "metadata": {
    "scrolled": true
   },
   "outputs": [
    {
     "data": {
      "text/html": [
       "<table>\n",
       "<thead><tr><th scope=col>IID</th><th scope=col>age</th><th scope=col>sex</th><th scope=col>NA</th><th scope=col>trait</th><th scope=col>visit</th><th scope=col>NA</th><th scope=col>value</th></tr></thead>\n",
       "<tbody>\n",
       "\t<tr><td>2502845</td><td>50     </td><td>1      </td><td>f      </td><td>3140   </td><td>0      </td><td>0      </td><td>NA     </td></tr>\n",
       "\t<tr><td>2314965</td><td>55     </td><td>0      </td><td>f      </td><td>3140   </td><td>0      </td><td>0      </td><td> 0     </td></tr>\n",
       "\t<tr><td>1142584</td><td>60     </td><td>0      </td><td>f      </td><td>3140   </td><td>0      </td><td>0      </td><td> 0     </td></tr>\n",
       "\t<tr><td>3665122</td><td>74     </td><td>0      </td><td>f      </td><td>3140   </td><td>0      </td><td>0      </td><td> 0     </td></tr>\n",
       "\t<tr><td>4377492</td><td>65     </td><td>0      </td><td>f      </td><td>3140   </td><td>0      </td><td>0      </td><td> 0     </td></tr>\n",
       "\t<tr><td>2652670</td><td>58     </td><td>1      </td><td>f      </td><td>3140   </td><td>0      </td><td>0      </td><td>NA     </td></tr>\n",
       "</tbody>\n",
       "</table>\n"
      ],
      "text/latex": [
       "\\begin{tabular}{r|llllllll}\n",
       " IID & age & sex & NA & trait & visit & NA & value\\\\\n",
       "\\hline\n",
       "\t 2502845 & 50      & 1       & f       & 3140    & 0       & 0       & NA     \\\\\n",
       "\t 2314965 & 55      & 0       & f       & 3140    & 0       & 0       &  0     \\\\\n",
       "\t 1142584 & 60      & 0       & f       & 3140    & 0       & 0       &  0     \\\\\n",
       "\t 3665122 & 74      & 0       & f       & 3140    & 0       & 0       &  0     \\\\\n",
       "\t 4377492 & 65      & 0       & f       & 3140    & 0       & 0       &  0     \\\\\n",
       "\t 2652670 & 58      & 1       & f       & 3140    & 0       & 0       & NA     \\\\\n",
       "\\end{tabular}\n"
      ],
      "text/markdown": [
       "\n",
       "IID | age | sex | NA | trait | visit | NA | value | \n",
       "|---|---|---|---|---|---|\n",
       "| 2502845 | 50      | 1       | f       | 3140    | 0       | 0       | NA      | \n",
       "| 2314965 | 55      | 0       | f       | 3140    | 0       | 0       |  0      | \n",
       "| 1142584 | 60      | 0       | f       | 3140    | 0       | 0       |  0      | \n",
       "| 3665122 | 74      | 0       | f       | 3140    | 0       | 0       |  0      | \n",
       "| 4377492 | 65      | 0       | f       | 3140    | 0       | 0       |  0      | \n",
       "| 2652670 | 58      | 1       | f       | 3140    | 0       | 0       | NA      | \n",
       "\n",
       "\n"
      ],
      "text/plain": [
       "  IID     age sex <NA> trait visit <NA> value\n",
       "1 2502845 50  1   f    3140  0     0    NA   \n",
       "2 2314965 55  0   f    3140  0     0     0   \n",
       "3 1142584 60  0   f    3140  0     0     0   \n",
       "4 3665122 74  0   f    3140  0     0     0   \n",
       "5 4377492 65  0   f    3140  0     0     0   \n",
       "6 2652670 58  1   f    3140  0     0    NA   "
      ]
     },
     "metadata": {},
     "output_type": "display_data"
    }
   ],
   "source": [
    "ss_phe_long2 <- ss_phe_long %>% separate(variable, c(NA, \"trait\", \"visit\", NA))\n",
    "head(ss_phe_long2)"
   ]
  },
  {
   "cell_type": "code",
   "execution_count": null,
   "metadata": {
    "collapsed": true
   },
   "outputs": [],
   "source": []
  },
  {
   "cell_type": "code",
   "execution_count": 8,
   "metadata": {
    "collapsed": true,
    "scrolled": true
   },
   "outputs": [],
   "source": [
    "ss_mat <- dcast(ss_phe_long2,  IID + visit ~ trait, value.var=\"value\")"
   ]
  },
  {
   "cell_type": "code",
   "execution_count": 10,
   "metadata": {},
   "outputs": [
    {
     "data": {
      "text/plain": [
       "keep.rows\n",
       "  FALSE    TRUE \n",
       "1212655  295235 "
      ]
     },
     "metadata": {},
     "output_type": "display_data"
    }
   ],
   "source": [
    "# remove rows w all NAsz\n",
    "keep.rows <- apply(ss_mat[,3:ncol(ss_mat)], 1, function(x) any(!is.na(x)))\n",
    "table(keep.rows)\n",
    "ss_mat2 <- ss_mat[keep.rows,]\n",
    "\n"
   ]
  },
  {
   "cell_type": "code",
   "execution_count": 12,
   "metadata": {},
   "outputs": [
    {
     "data": {
      "text/html": [
       "<table>\n",
       "<thead><tr><th scope=col>IID</th><th scope=col>visit</th><th scope=col>2724</th><th scope=col>2804</th><th scope=col>2834</th><th scope=col>3140</th><th scope=col>3546</th><th scope=col>3581</th><th scope=col>3591</th><th scope=col>3700</th><th scope=col>3710</th><th scope=col>3720</th></tr></thead>\n",
       "<tbody>\n",
       "\t<tr><td>1000028</td><td>0      </td><td>0      </td><td>26     </td><td>0      </td><td>0      </td><td>NA     </td><td>NA     </td><td>0      </td><td>20     </td><td>28     </td><td> 0     </td></tr>\n",
       "\t<tr><td>1000045</td><td>0      </td><td>1      </td><td>-1     </td><td>0      </td><td>0      </td><td>60     </td><td>54     </td><td>0      </td><td>NA     </td><td>NA     </td><td>NA     </td></tr>\n",
       "\t<tr><td>1000052</td><td>0      </td><td>1      </td><td>-1     </td><td>0      </td><td>0      </td><td>-1     </td><td>-1     </td><td>0      </td><td>NA     </td><td>NA     </td><td>NA     </td></tr>\n",
       "\t<tr><td>1000069</td><td>0      </td><td>1      </td><td>26     </td><td>0      </td><td>0      </td><td>NA     </td><td>-1     </td><td>1      </td><td>NA     </td><td>NA     </td><td>NA     </td></tr>\n",
       "\t<tr><td>1000087</td><td>0      </td><td>1      </td><td>NA     </td><td>0      </td><td>0      </td><td>NA     </td><td>50     </td><td>0      </td><td>NA     </td><td>NA     </td><td>NA     </td></tr>\n",
       "\t<tr><td>1000118</td><td>0      </td><td>1      </td><td>-1     </td><td>0      </td><td>0      </td><td>-1     </td><td>53     </td><td>0      </td><td>NA     </td><td>NA     </td><td>NA     </td></tr>\n",
       "</tbody>\n",
       "</table>\n"
      ],
      "text/latex": [
       "\\begin{tabular}{r|llllllllllll}\n",
       " IID & visit & 2724 & 2804 & 2834 & 3140 & 3546 & 3581 & 3591 & 3700 & 3710 & 3720\\\\\n",
       "\\hline\n",
       "\t 1000028 & 0       & 0       & 26      & 0       & 0       & NA      & NA      & 0       & 20      & 28      &  0     \\\\\n",
       "\t 1000045 & 0       & 1       & -1      & 0       & 0       & 60      & 54      & 0       & NA      & NA      & NA     \\\\\n",
       "\t 1000052 & 0       & 1       & -1      & 0       & 0       & -1      & -1      & 0       & NA      & NA      & NA     \\\\\n",
       "\t 1000069 & 0       & 1       & 26      & 0       & 0       & NA      & -1      & 1       & NA      & NA      & NA     \\\\\n",
       "\t 1000087 & 0       & 1       & NA      & 0       & 0       & NA      & 50      & 0       & NA      & NA      & NA     \\\\\n",
       "\t 1000118 & 0       & 1       & -1      & 0       & 0       & -1      & 53      & 0       & NA      & NA      & NA     \\\\\n",
       "\\end{tabular}\n"
      ],
      "text/markdown": [
       "\n",
       "IID | visit | 2724 | 2804 | 2834 | 3140 | 3546 | 3581 | 3591 | 3700 | 3710 | 3720 | \n",
       "|---|---|---|---|---|---|\n",
       "| 1000028 | 0       | 0       | 26      | 0       | 0       | NA      | NA      | 0       | 20      | 28      |  0      | \n",
       "| 1000045 | 0       | 1       | -1      | 0       | 0       | 60      | 54      | 0       | NA      | NA      | NA      | \n",
       "| 1000052 | 0       | 1       | -1      | 0       | 0       | -1      | -1      | 0       | NA      | NA      | NA      | \n",
       "| 1000069 | 0       | 1       | 26      | 0       | 0       | NA      | -1      | 1       | NA      | NA      | NA      | \n",
       "| 1000087 | 0       | 1       | NA      | 0       | 0       | NA      | 50      | 0       | NA      | NA      | NA      | \n",
       "| 1000118 | 0       | 1       | -1      | 0       | 0       | -1      | 53      | 0       | NA      | NA      | NA      | \n",
       "\n",
       "\n"
      ],
      "text/plain": [
       "  IID     visit 2724 2804 2834 3140 3546 3581 3591 3700 3710 3720\n",
       "1 1000028 0     0    26   0    0    NA   NA   0    20   28    0  \n",
       "2 1000045 0     1    -1   0    0    60   54   0    NA   NA   NA  \n",
       "3 1000052 0     1    -1   0    0    -1   -1   0    NA   NA   NA  \n",
       "4 1000069 0     1    26   0    0    NA   -1   1    NA   NA   NA  \n",
       "5 1000087 0     1    NA   0    0    NA   50   0    NA   NA   NA  \n",
       "6 1000118 0     1    -1   0    0    -1   53   0    NA   NA   NA  "
      ]
     },
     "metadata": {},
     "output_type": "display_data"
    },
    {
     "name": "stderr",
     "output_type": "stream",
     "text": [
      "Joining, by = \"IID\"\n"
     ]
    }
   ],
   "source": [
    "# remove rows w IID < 0\n",
    "ss_mat3 <- filter(ss_mat2, IID >= 0)\n",
    "head(ss_mat3)\n",
    "\n",
    "ss_mat4 <- full_join(select(ss_phe, IID, sex, age), ss_mat3)"
   ]
  },
  {
   "cell_type": "code",
   "execution_count": 15,
   "metadata": {
    "collapsed": true
   },
   "outputs": [],
   "source": [
    "# TODO - age is age at visit 0\n",
    "# TOOD - change coluymn names\n",
    "write.table(ss_mat4, file=\"../data/sex_spec_factor_mat.txt\", row.names=FALSE, quote=FALSE, sep=\"\\t\")"
   ]
  },
  {
   "cell_type": "code",
   "execution_count": 5,
   "metadata": {},
   "outputs": [
    {
     "data": {
      "text/html": [
       "<table>\n",
       "<thead><tr><th scope=col>IID</th><th scope=col>sex</th><th scope=col>age</th><th scope=col>visit</th><th scope=col>X2724</th><th scope=col>X2804</th><th scope=col>X2834</th><th scope=col>X3140</th><th scope=col>X3546</th><th scope=col>X3581</th><th scope=col>X3591</th><th scope=col>X3700</th><th scope=col>X3710</th><th scope=col>X3720</th></tr></thead>\n",
       "<tbody>\n",
       "\t<tr><td>2502845</td><td>1      </td><td>50     </td><td>NA     </td><td>NA     </td><td>NA     </td><td>NA     </td><td>NA     </td><td>NA     </td><td>NA     </td><td>NA     </td><td>NA     </td><td>NA     </td><td>NA     </td></tr>\n",
       "\t<tr><td>2314965</td><td>0      </td><td>55     </td><td> 0     </td><td> 3     </td><td>27     </td><td> 0     </td><td> 0     </td><td>NA     </td><td>NA     </td><td> 0     </td><td>NA     </td><td>NA     </td><td> 0     </td></tr>\n",
       "\t<tr><td>1142584</td><td>0      </td><td>60     </td><td> 0     </td><td> 1     </td><td>35     </td><td> 0     </td><td> 0     </td><td>52     </td><td>45     </td><td> 0     </td><td>NA     </td><td>NA     </td><td>NA     </td></tr>\n",
       "\t<tr><td>3665122</td><td>0      </td><td>74     </td><td> 0     </td><td> 1     </td><td>NA     </td><td> 0     </td><td> 0     </td><td>55     </td><td>42     </td><td> 1     </td><td>NA     </td><td>NA     </td><td>NA     </td></tr>\n",
       "\t<tr><td>4377492</td><td>0      </td><td>65     </td><td> 0     </td><td> 1     </td><td>52     </td><td> 0     </td><td> 0     </td><td>NA     </td><td>52     </td><td> 0     </td><td>NA     </td><td>NA     </td><td>NA     </td></tr>\n",
       "\t<tr><td>2652670</td><td>1      </td><td>58     </td><td>NA     </td><td>NA     </td><td>NA     </td><td>NA     </td><td>NA     </td><td>NA     </td><td>NA     </td><td>NA     </td><td>NA     </td><td>NA     </td><td>NA     </td></tr>\n",
       "</tbody>\n",
       "</table>\n"
      ],
      "text/latex": [
       "\\begin{tabular}{r|llllllllllllll}\n",
       " IID & sex & age & visit & X2724 & X2804 & X2834 & X3140 & X3546 & X3581 & X3591 & X3700 & X3710 & X3720\\\\\n",
       "\\hline\n",
       "\t 2502845 & 1       & 50      & NA      & NA      & NA      & NA      & NA      & NA      & NA      & NA      & NA      & NA      & NA     \\\\\n",
       "\t 2314965 & 0       & 55      &  0      &  3      & 27      &  0      &  0      & NA      & NA      &  0      & NA      & NA      &  0     \\\\\n",
       "\t 1142584 & 0       & 60      &  0      &  1      & 35      &  0      &  0      & 52      & 45      &  0      & NA      & NA      & NA     \\\\\n",
       "\t 3665122 & 0       & 74      &  0      &  1      & NA      &  0      &  0      & 55      & 42      &  1      & NA      & NA      & NA     \\\\\n",
       "\t 4377492 & 0       & 65      &  0      &  1      & 52      &  0      &  0      & NA      & 52      &  0      & NA      & NA      & NA     \\\\\n",
       "\t 2652670 & 1       & 58      & NA      & NA      & NA      & NA      & NA      & NA      & NA      & NA      & NA      & NA      & NA     \\\\\n",
       "\\end{tabular}\n"
      ],
      "text/markdown": [
       "\n",
       "IID | sex | age | visit | X2724 | X2804 | X2834 | X3140 | X3546 | X3581 | X3591 | X3700 | X3710 | X3720 | \n",
       "|---|---|---|---|---|---|\n",
       "| 2502845 | 1       | 50      | NA      | NA      | NA      | NA      | NA      | NA      | NA      | NA      | NA      | NA      | NA      | \n",
       "| 2314965 | 0       | 55      |  0      |  3      | 27      |  0      |  0      | NA      | NA      |  0      | NA      | NA      |  0      | \n",
       "| 1142584 | 0       | 60      |  0      |  1      | 35      |  0      |  0      | 52      | 45      |  0      | NA      | NA      | NA      | \n",
       "| 3665122 | 0       | 74      |  0      |  1      | NA      |  0      |  0      | 55      | 42      |  1      | NA      | NA      | NA      | \n",
       "| 4377492 | 0       | 65      |  0      |  1      | 52      |  0      |  0      | NA      | 52      |  0      | NA      | NA      | NA      | \n",
       "| 2652670 | 1       | 58      | NA      | NA      | NA      | NA      | NA      | NA      | NA      | NA      | NA      | NA      | NA      | \n",
       "\n",
       "\n"
      ],
      "text/plain": [
       "  IID     sex age visit X2724 X2804 X2834 X3140 X3546 X3581 X3591 X3700 X3710\n",
       "1 2502845 1   50  NA    NA    NA    NA    NA    NA    NA    NA    NA    NA   \n",
       "2 2314965 0   55   0     3    27     0     0    NA    NA     0    NA    NA   \n",
       "3 1142584 0   60   0     1    35     0     0    52    45     0    NA    NA   \n",
       "4 3665122 0   74   0     1    NA     0     0    55    42     1    NA    NA   \n",
       "5 4377492 0   65   0     1    52     0     0    NA    52     0    NA    NA   \n",
       "6 2652670 1   58  NA    NA    NA    NA    NA    NA    NA    NA    NA    NA   \n",
       "  X3720\n",
       "1 NA   \n",
       "2  0   \n",
       "3 NA   \n",
       "4 NA   \n",
       "5 NA   \n",
       "6 NA   "
      ]
     },
     "metadata": {},
     "output_type": "display_data"
    },
    {
     "data": {
      "text/html": [
       "<ol class=list-inline>\n",
       "\t<li>'IID'</li>\n",
       "\t<li>'sex'</li>\n",
       "\t<li>'age'</li>\n",
       "\t<li>'visit'</li>\n",
       "\t<li>'X2724'</li>\n",
       "\t<li>'X2804'</li>\n",
       "\t<li>'X2834'</li>\n",
       "\t<li>'X3140'</li>\n",
       "\t<li>'X3546'</li>\n",
       "\t<li>'X3581'</li>\n",
       "\t<li>'X3591'</li>\n",
       "\t<li>'X3700'</li>\n",
       "\t<li>'X3710'</li>\n",
       "\t<li>'X3720'</li>\n",
       "</ol>\n"
      ],
      "text/latex": [
       "\\begin{enumerate*}\n",
       "\\item 'IID'\n",
       "\\item 'sex'\n",
       "\\item 'age'\n",
       "\\item 'visit'\n",
       "\\item 'X2724'\n",
       "\\item 'X2804'\n",
       "\\item 'X2834'\n",
       "\\item 'X3140'\n",
       "\\item 'X3546'\n",
       "\\item 'X3581'\n",
       "\\item 'X3591'\n",
       "\\item 'X3700'\n",
       "\\item 'X3710'\n",
       "\\item 'X3720'\n",
       "\\end{enumerate*}\n"
      ],
      "text/markdown": [
       "1. 'IID'\n",
       "2. 'sex'\n",
       "3. 'age'\n",
       "4. 'visit'\n",
       "5. 'X2724'\n",
       "6. 'X2804'\n",
       "7. 'X2834'\n",
       "8. 'X3140'\n",
       "9. 'X3546'\n",
       "10. 'X3581'\n",
       "11. 'X3591'\n",
       "12. 'X3700'\n",
       "13. 'X3710'\n",
       "14. 'X3720'\n",
       "\n",
       "\n"
      ],
      "text/plain": [
       " [1] \"IID\"   \"sex\"   \"age\"   \"visit\" \"X2724\" \"X2804\" \"X2834\" \"X3140\" \"X3546\"\n",
       "[10] \"X3581\" \"X3591\" \"X3700\" \"X3710\" \"X3720\""
      ]
     },
     "metadata": {},
     "output_type": "display_data"
    },
    {
     "data": {
      "text/plain": [
       "     X3140\n",
       "visit      0      1      2\n",
       "    0 272246    150    222\n",
       "    1  10399      1      1\n",
       "    2  11312      1      5"
      ]
     },
     "metadata": {},
     "output_type": "display_data"
    }
   ],
   "source": [
    "ss_mat4 <- read.delim(file=\"../data/sex_spec_factor_mat.txt\")\n",
    "\n",
    "head(ss_mat4)\n",
    "counts <- sapply(ss_mat4[,2:ncol(ss_mat4)], table)\n",
    "colnames(ss_mat4)\n",
    "table(ss_mat4[,c(\"visit\", \"X3140\")])"
   ]
  },
  {
   "cell_type": "code",
   "execution_count": 9,
   "metadata": {},
   "outputs": [
    {
     "data": {
      "text/html": [
       "<table>\n",
       "<thead><tr><th scope=col>trait</th><th scope=col>category</th><th scope=col>variable_name</th><th scope=col>readable_name</th></tr></thead>\n",
       "<tbody>\n",
       "\t<tr><td>3140                            </td><td>sex specific                    </td><td>pregnant                        </td><td>pregnant                        </td></tr>\n",
       "\t<tr><td>2724                            </td><td>sex specific                    </td><td>menopause                       </td><td>menopause                       </td></tr>\n",
       "\t<tr><td>3581                            </td><td>sex specific                    </td><td>menopause_age                   </td><td>age menopause                   </td></tr>\n",
       "\t<tr><td>3591                            </td><td>sex specific                    </td><td>hysterectomy                    </td><td>hysterectomy                    </td></tr>\n",
       "\t<tr><td>2834                            </td><td>sex specific                    </td><td>oophorectomy                    </td><td>oophorectomy                    </td></tr>\n",
       "\t<tr><td>3700                            </td><td>sex specific                    </td><td>time_since_period               </td><td>time since last menstrual period</td></tr>\n",
       "\t<tr><td>3710                            </td><td>sex specific                    </td><td>menstrual_length                </td><td>length of menstrual cycle       </td></tr>\n",
       "\t<tr><td>3720                            </td><td>sex specific                    </td><td>menstruating                    </td><td>menstruating today              </td></tr>\n",
       "\t<tr><td>2804                            </td><td>sex specific                    </td><td>birth_control                   </td><td>age when last used the pill     </td></tr>\n",
       "\t<tr><td>3546                            </td><td>sex specific                    </td><td>HRT                             </td><td>age when last used HRT          </td></tr>\n",
       "</tbody>\n",
       "</table>\n"
      ],
      "text/latex": [
       "\\begin{tabular}{r|llll}\n",
       " trait & category & variable\\_name & readable\\_name\\\\\n",
       "\\hline\n",
       "\t 3140                             & sex specific                     & pregnant                         & pregnant                        \\\\\n",
       "\t 2724                             & sex specific                     & menopause                        & menopause                       \\\\\n",
       "\t 3581                             & sex specific                     & menopause\\_age                  & age menopause                   \\\\\n",
       "\t 3591                             & sex specific                     & hysterectomy                     & hysterectomy                    \\\\\n",
       "\t 2834                             & sex specific                     & oophorectomy                     & oophorectomy                    \\\\\n",
       "\t 3700                             & sex specific                     & time\\_since\\_period            & time since last menstrual period\\\\\n",
       "\t 3710                             & sex specific                     & menstrual\\_length               & length of menstrual cycle       \\\\\n",
       "\t 3720                             & sex specific                     & menstruating                     & menstruating today              \\\\\n",
       "\t 2804                             & sex specific                     & birth\\_control                  & age when last used the pill     \\\\\n",
       "\t 3546                             & sex specific                     & HRT                              & age when last used HRT          \\\\\n",
       "\\end{tabular}\n"
      ],
      "text/markdown": [
       "\n",
       "trait | category | variable_name | readable_name | \n",
       "|---|---|---|---|---|---|---|---|---|---|\n",
       "| 3140                             | sex specific                     | pregnant                         | pregnant                         | \n",
       "| 2724                             | sex specific                     | menopause                        | menopause                        | \n",
       "| 3581                             | sex specific                     | menopause_age                    | age menopause                    | \n",
       "| 3591                             | sex specific                     | hysterectomy                     | hysterectomy                     | \n",
       "| 2834                             | sex specific                     | oophorectomy                     | oophorectomy                     | \n",
       "| 3700                             | sex specific                     | time_since_period                | time since last menstrual period | \n",
       "| 3710                             | sex specific                     | menstrual_length                 | length of menstrual cycle        | \n",
       "| 3720                             | sex specific                     | menstruating                     | menstruating today               | \n",
       "| 2804                             | sex specific                     | birth_control                    | age when last used the pill      | \n",
       "| 3546                             | sex specific                     | HRT                              | age when last used HRT           | \n",
       "\n",
       "\n"
      ],
      "text/plain": [
       "   trait category     variable_name     readable_name                   \n",
       "1  3140  sex specific pregnant          pregnant                        \n",
       "2  2724  sex specific menopause         menopause                       \n",
       "3  3581  sex specific menopause_age     age menopause                   \n",
       "4  3591  sex specific hysterectomy      hysterectomy                    \n",
       "5  2834  sex specific oophorectomy      oophorectomy                    \n",
       "6  3700  sex specific time_since_period time since last menstrual period\n",
       "7  3710  sex specific menstrual_length  length of menstrual cycle       \n",
       "8  3720  sex specific menstruating      menstruating today              \n",
       "9  2804  sex specific birth_control     age when last used the pill     \n",
       "10 3546  sex specific HRT               age when last used HRT          "
      ]
     },
     "metadata": {},
     "output_type": "display_data"
    }
   ],
   "source": [
    "phe_codes <- read.csv(\"../phe_extraction/ListPheCodes.csv\", stringsAsFactors=FALSE)\n",
    "phe_codes$X <- NULL\n",
    "\n",
    "sex_spec <- filter(phe_codes, category == \"sex specific\")\n",
    "sex_spec\n",
    "\n",
    "#trait_to_name <- split(sex_spec$variable_name, sex_spec$trait)\n"
   ]
  },
  {
   "cell_type": "markdown",
   "metadata": {},
   "source": [
    "## CREATE DERIVED PHENOTYPES"
   ]
  },
  {
   "cell_type": "markdown",
   "metadata": {},
   "source": [
    "### Pregnant, Pill, or HRT"
   ]
  },
  {
   "cell_type": "code",
   "execution_count": 12,
   "metadata": {},
   "outputs": [
    {
     "data": {
      "text/html": [
       "<table>\n",
       "<thead><tr><th scope=col>IID</th><th scope=col>sex</th><th scope=col>age</th><th scope=col>visit</th><th scope=col>X2724</th><th scope=col>X2804</th><th scope=col>X2834</th><th scope=col>X3140</th><th scope=col>X3546</th><th scope=col>X3581</th><th scope=col>X3591</th><th scope=col>X3700</th><th scope=col>X3710</th><th scope=col>X3720</th></tr></thead>\n",
       "<tbody>\n",
       "\t<tr><td>2314965</td><td>0      </td><td>55     </td><td>0      </td><td>3      </td><td>27     </td><td>0      </td><td>0      </td><td>NA     </td><td>NA     </td><td>0      </td><td>NA     </td><td>NA     </td><td> 0     </td></tr>\n",
       "\t<tr><td>1142584</td><td>0      </td><td>60     </td><td>0      </td><td>1      </td><td>35     </td><td>0      </td><td>0      </td><td>52     </td><td>45     </td><td>0      </td><td>NA     </td><td>NA     </td><td>NA     </td></tr>\n",
       "\t<tr><td>3665122</td><td>0      </td><td>74     </td><td>0      </td><td>1      </td><td>NA     </td><td>0      </td><td>0      </td><td>55     </td><td>42     </td><td>1      </td><td>NA     </td><td>NA     </td><td>NA     </td></tr>\n",
       "\t<tr><td>4377492</td><td>0      </td><td>65     </td><td>0      </td><td>1      </td><td>52     </td><td>0      </td><td>0      </td><td>NA     </td><td>52     </td><td>0      </td><td>NA     </td><td>NA     </td><td>NA     </td></tr>\n",
       "\t<tr><td>4015997</td><td>0      </td><td>50     </td><td>0      </td><td>0      </td><td>33     </td><td>0      </td><td>0      </td><td>NA     </td><td>NA     </td><td>0      </td><td> 0     </td><td>28     </td><td> 1     </td></tr>\n",
       "\t<tr><td>2076736</td><td>0      </td><td>60     </td><td>0      </td><td>1      </td><td>45     </td><td>0      </td><td>0      </td><td>NA     </td><td>45     </td><td>0      </td><td>NA     </td><td>NA     </td><td>NA     </td></tr>\n",
       "</tbody>\n",
       "</table>\n"
      ],
      "text/latex": [
       "\\begin{tabular}{r|llllllllllllll}\n",
       " IID & sex & age & visit & X2724 & X2804 & X2834 & X3140 & X3546 & X3581 & X3591 & X3700 & X3710 & X3720\\\\\n",
       "\\hline\n",
       "\t 2314965 & 0       & 55      & 0       & 3       & 27      & 0       & 0       & NA      & NA      & 0       & NA      & NA      &  0     \\\\\n",
       "\t 1142584 & 0       & 60      & 0       & 1       & 35      & 0       & 0       & 52      & 45      & 0       & NA      & NA      & NA     \\\\\n",
       "\t 3665122 & 0       & 74      & 0       & 1       & NA      & 0       & 0       & 55      & 42      & 1       & NA      & NA      & NA     \\\\\n",
       "\t 4377492 & 0       & 65      & 0       & 1       & 52      & 0       & 0       & NA      & 52      & 0       & NA      & NA      & NA     \\\\\n",
       "\t 4015997 & 0       & 50      & 0       & 0       & 33      & 0       & 0       & NA      & NA      & 0       &  0      & 28      &  1     \\\\\n",
       "\t 2076736 & 0       & 60      & 0       & 1       & 45      & 0       & 0       & NA      & 45      & 0       & NA      & NA      & NA     \\\\\n",
       "\\end{tabular}\n"
      ],
      "text/markdown": [
       "\n",
       "IID | sex | age | visit | X2724 | X2804 | X2834 | X3140 | X3546 | X3581 | X3591 | X3700 | X3710 | X3720 | \n",
       "|---|---|---|---|---|---|\n",
       "| 2314965 | 0       | 55      | 0       | 3       | 27      | 0       | 0       | NA      | NA      | 0       | NA      | NA      |  0      | \n",
       "| 1142584 | 0       | 60      | 0       | 1       | 35      | 0       | 0       | 52      | 45      | 0       | NA      | NA      | NA      | \n",
       "| 3665122 | 0       | 74      | 0       | 1       | NA      | 0       | 0       | 55      | 42      | 1       | NA      | NA      | NA      | \n",
       "| 4377492 | 0       | 65      | 0       | 1       | 52      | 0       | 0       | NA      | 52      | 0       | NA      | NA      | NA      | \n",
       "| 4015997 | 0       | 50      | 0       | 0       | 33      | 0       | 0       | NA      | NA      | 0       |  0      | 28      |  1      | \n",
       "| 2076736 | 0       | 60      | 0       | 1       | 45      | 0       | 0       | NA      | 45      | 0       | NA      | NA      | NA      | \n",
       "\n",
       "\n"
      ],
      "text/plain": [
       "  IID     sex age visit X2724 X2804 X2834 X3140 X3546 X3581 X3591 X3700 X3710\n",
       "1 2314965 0   55  0     3     27    0     0     NA    NA    0     NA    NA   \n",
       "2 1142584 0   60  0     1     35    0     0     52    45    0     NA    NA   \n",
       "3 3665122 0   74  0     1     NA    0     0     55    42    1     NA    NA   \n",
       "4 4377492 0   65  0     1     52    0     0     NA    52    0     NA    NA   \n",
       "5 4015997 0   50  0     0     33    0     0     NA    NA    0      0    28   \n",
       "6 2076736 0   60  0     1     45    0     0     NA    45    0     NA    NA   \n",
       "  X3720\n",
       "1  0   \n",
       "2 NA   \n",
       "3 NA   \n",
       "4 NA   \n",
       "5  1   \n",
       "6 NA   "
      ]
     },
     "metadata": {},
     "output_type": "display_data"
    },
    {
     "data": {
      "text/plain": [
       "\n",
       " FALSE   TRUE \n",
       "294337 230245 "
      ]
     },
     "metadata": {},
     "output_type": "display_data"
    }
   ],
   "source": [
    "head(filter(ss_mat4, X3140==0))\n",
    "table(is.na(ss_mat4$X3140) )"
   ]
  },
  {
   "cell_type": "code",
   "execution_count": 24,
   "metadata": {},
   "outputs": [
    {
     "data": {
      "text/plain": [
       "\n",
       "     0      1 \n",
       "293957    380 "
      ]
     },
     "metadata": {},
     "output_type": "display_data"
    },
    {
     "data": {
      "text/plain": [
       "\n",
       "   -9     0     1 \n",
       "11233 83604 17571 "
      ]
     },
     "metadata": {},
     "output_type": "display_data"
    },
    {
     "data": {
      "text/plain": [
       "\n",
       "    -9      0      1 \n",
       " 24424 208828   5099 "
      ]
     },
     "metadata": {},
     "output_type": "display_data"
    }
   ],
   "source": [
    "# DERIVED PHENOTYPES:\n",
    "#    preg: 1 = possibly or confirmed pregnant (exclude!), 0 = not pregnant, NA = did not answer \n",
    "#    hrt / pill:  1= still taking, 0 = not still taking, -1 = time not known, NA = did not answer\n",
    "ss_mat5 <- ss_mat4 %>% mutate(\n",
    "    preg=ifelse(X3140==1 | X3140==2, 1, X3140),\n",
    "    pill=ifelse(X2804==-11, 1, ifelse(X2804 == -3 | X2804==-1,-9, 0)),\n",
    "    hrt=ifelse(X3546==-11, 1, ifelse(X3546 == -3 | X3546==-1, -9, 0)))\n",
    "table(ss_mat5$preg)\n",
    "table(ss_mat5$hrt)\n",
    "table(ss_mat5$pill)"
   ]
  },
  {
   "cell_type": "markdown",
   "metadata": {},
   "source": [
    "### Menopause"
   ]
  },
  {
   "cell_type": "code",
   "execution_count": 32,
   "metadata": {},
   "outputs": [
    {
     "data": {
      "text/html": [
       "<table>\n",
       "<thead><tr><th scope=col>IID</th><th scope=col>sex</th><th scope=col>age</th><th scope=col>visit</th><th scope=col>X2724</th><th scope=col>X2804</th><th scope=col>X2834</th><th scope=col>X3140</th><th scope=col>X3546</th><th scope=col>X3581</th><th scope=col>⋯</th><th scope=col>X3710</th><th scope=col>X3720</th><th scope=col>preg</th><th scope=col>pill</th><th scope=col>hrt</th><th scope=col>ooph</th><th scope=col>hyster</th><th scope=col>meno</th><th scope=col>hyster2</th><th scope=col>meno.age</th></tr></thead>\n",
       "<tbody>\n",
       "\t<tr><td>2502845</td><td>1      </td><td>50     </td><td>NA     </td><td>NA     </td><td>NA     </td><td>NA     </td><td>NA     </td><td>NA     </td><td>NA     </td><td>⋯      </td><td>NA     </td><td>NA     </td><td>NA     </td><td>NA     </td><td>NA     </td><td>NA     </td><td>NA     </td><td>NA     </td><td>NA     </td><td>NA     </td></tr>\n",
       "\t<tr><td>2314965</td><td>0      </td><td>55     </td><td> 0     </td><td> 3     </td><td>27     </td><td> 0     </td><td> 0     </td><td>NA     </td><td>NA     </td><td>⋯      </td><td>NA     </td><td> 0     </td><td> 0     </td><td> 0     </td><td>NA     </td><td> 0     </td><td> 0     </td><td>NA     </td><td> 0     </td><td>NA     </td></tr>\n",
       "\t<tr><td>1142584</td><td>0      </td><td>60     </td><td> 0     </td><td> 1     </td><td>35     </td><td> 0     </td><td> 0     </td><td>52     </td><td>45     </td><td>⋯      </td><td>NA     </td><td>NA     </td><td> 0     </td><td> 0     </td><td> 0     </td><td> 0     </td><td> 0     </td><td> 1     </td><td> 0     </td><td>45     </td></tr>\n",
       "\t<tr><td>3665122</td><td>0      </td><td>74     </td><td> 0     </td><td> 1     </td><td>NA     </td><td> 0     </td><td> 0     </td><td>55     </td><td>42     </td><td>⋯      </td><td>NA     </td><td>NA     </td><td> 0     </td><td>NA     </td><td> 0     </td><td> 0     </td><td> 1     </td><td> 1     </td><td> 0     </td><td>42     </td></tr>\n",
       "\t<tr><td>4377492</td><td>0      </td><td>65     </td><td> 0     </td><td> 1     </td><td>52     </td><td> 0     </td><td> 0     </td><td>NA     </td><td>52     </td><td>⋯      </td><td>NA     </td><td>NA     </td><td> 0     </td><td> 0     </td><td>NA     </td><td> 0     </td><td> 0     </td><td> 1     </td><td> 0     </td><td>52     </td></tr>\n",
       "\t<tr><td>2652670</td><td>1      </td><td>58     </td><td>NA     </td><td>NA     </td><td>NA     </td><td>NA     </td><td>NA     </td><td>NA     </td><td>NA     </td><td>⋯      </td><td>NA     </td><td>NA     </td><td>NA     </td><td>NA     </td><td>NA     </td><td>NA     </td><td>NA     </td><td>NA     </td><td>NA     </td><td>NA     </td></tr>\n",
       "</tbody>\n",
       "</table>\n"
      ],
      "text/latex": [
       "\\begin{tabular}{r|llllllllllllllllllllll}\n",
       " IID & sex & age & visit & X2724 & X2804 & X2834 & X3140 & X3546 & X3581 & ⋯ & X3710 & X3720 & preg & pill & hrt & ooph & hyster & meno & hyster2 & meno.age\\\\\n",
       "\\hline\n",
       "\t 2502845 & 1       & 50      & NA      & NA      & NA      & NA      & NA      & NA      & NA      & ⋯       & NA      & NA      & NA      & NA      & NA      & NA      & NA      & NA      & NA      & NA     \\\\\n",
       "\t 2314965 & 0       & 55      &  0      &  3      & 27      &  0      &  0      & NA      & NA      & ⋯       & NA      &  0      &  0      &  0      & NA      &  0      &  0      & NA      &  0      & NA     \\\\\n",
       "\t 1142584 & 0       & 60      &  0      &  1      & 35      &  0      &  0      & 52      & 45      & ⋯       & NA      & NA      &  0      &  0      &  0      &  0      &  0      &  1      &  0      & 45     \\\\\n",
       "\t 3665122 & 0       & 74      &  0      &  1      & NA      &  0      &  0      & 55      & 42      & ⋯       & NA      & NA      &  0      & NA      &  0      &  0      &  1      &  1      &  0      & 42     \\\\\n",
       "\t 4377492 & 0       & 65      &  0      &  1      & 52      &  0      &  0      & NA      & 52      & ⋯       & NA      & NA      &  0      &  0      & NA      &  0      &  0      &  1      &  0      & 52     \\\\\n",
       "\t 2652670 & 1       & 58      & NA      & NA      & NA      & NA      & NA      & NA      & NA      & ⋯       & NA      & NA      & NA      & NA      & NA      & NA      & NA      & NA      & NA      & NA     \\\\\n",
       "\\end{tabular}\n"
      ],
      "text/markdown": [
       "\n",
       "IID | sex | age | visit | X2724 | X2804 | X2834 | X3140 | X3546 | X3581 | ⋯ | X3710 | X3720 | preg | pill | hrt | ooph | hyster | meno | hyster2 | meno.age | \n",
       "|---|---|---|---|---|---|\n",
       "| 2502845 | 1       | 50      | NA      | NA      | NA      | NA      | NA      | NA      | NA      | ⋯       | NA      | NA      | NA      | NA      | NA      | NA      | NA      | NA      | NA      | NA      | \n",
       "| 2314965 | 0       | 55      |  0      |  3      | 27      |  0      |  0      | NA      | NA      | ⋯       | NA      |  0      |  0      |  0      | NA      |  0      |  0      | NA      |  0      | NA      | \n",
       "| 1142584 | 0       | 60      |  0      |  1      | 35      |  0      |  0      | 52      | 45      | ⋯       | NA      | NA      |  0      |  0      |  0      |  0      |  0      |  1      |  0      | 45      | \n",
       "| 3665122 | 0       | 74      |  0      |  1      | NA      |  0      |  0      | 55      | 42      | ⋯       | NA      | NA      |  0      | NA      |  0      |  0      |  1      |  1      |  0      | 42      | \n",
       "| 4377492 | 0       | 65      |  0      |  1      | 52      |  0      |  0      | NA      | 52      | ⋯       | NA      | NA      |  0      |  0      | NA      |  0      |  0      |  1      |  0      | 52      | \n",
       "| 2652670 | 1       | 58      | NA      | NA      | NA      | NA      | NA      | NA      | NA      | ⋯       | NA      | NA      | NA      | NA      | NA      | NA      | NA      | NA      | NA      | NA      | \n",
       "\n",
       "\n"
      ],
      "text/plain": [
       "  IID     sex age visit X2724 X2804 X2834 X3140 X3546 X3581 ⋯ X3710 X3720 preg\n",
       "1 2502845 1   50  NA    NA    NA    NA    NA    NA    NA    ⋯ NA    NA    NA  \n",
       "2 2314965 0   55   0     3    27     0     0    NA    NA    ⋯ NA     0     0  \n",
       "3 1142584 0   60   0     1    35     0     0    52    45    ⋯ NA    NA     0  \n",
       "4 3665122 0   74   0     1    NA     0     0    55    42    ⋯ NA    NA     0  \n",
       "5 4377492 0   65   0     1    52     0     0    NA    52    ⋯ NA    NA     0  \n",
       "6 2652670 1   58  NA    NA    NA    NA    NA    NA    NA    ⋯ NA    NA    NA  \n",
       "  pill hrt ooph hyster meno hyster2 meno.age\n",
       "1 NA   NA  NA   NA     NA   NA      NA      \n",
       "2  0   NA   0    0     NA    0      NA      \n",
       "3  0    0   0    0      1    0      45      \n",
       "4 NA    0   0    1      1    0      42      \n",
       "5  0   NA   0    0      1    0      52      \n",
       "6 NA   NA  NA   NA     NA   NA      NA      "
      ]
     },
     "metadata": {},
     "output_type": "display_data"
    }
   ],
   "source": [
    "#head(ss_mat5)\n",
    "\n",
    "ss_mat6 <- ss_mat5 %>% mutate(\n",
    "    ooph= ifelse(X2834 == -3 | X2834==-5,-9, X2834),\n",
    "    hyster= ifelse(X3591 == -3 | X3591==-5,-9, X3591),\n",
    "    meno = ifelse(X2724 ==-3 | X2724==3,NA, ifelse(X2724 == 2 | X2724== 1, 1, X2724)), # hysterectomy / yes --> yes; not sure/prefer not --> -9\n",
    "    hyster2= ifelse(X2724==2, 1, 0),\n",
    "    meno.age=ifelse(X3581 == -3 | X3581==-1,-9, X3581)\n",
    "    )\n",
    "\n",
    "head(ss_mat6)\n",
    "ss_mat7 <- mutate(ss_mat6, \n",
    "                  years.post=ifelse(meno.age<0, NA, age - meno.age),# compute the years since menopause\n",
    "                  surgical.meno=ifelse(ooph == 1 | hyster==1 | hyster2 == 1,1,ifelse(X2834 == -9 & X3591==-9, NA, 0))\n",
    "                 ) \n",
    "\n"
   ]
  },
  {
   "cell_type": "code",
   "execution_count": 40,
   "metadata": {},
   "outputs": [],
   "source": [
    "label_col <- function(meno, meno.age, age, sex, years.post, surgical.meno){\n",
    "(if (sex==1 & !is.na(sex)){\n",
    "    \"male\"\n",
    "} else if (any(sapply(c(meno, age, sex), is.na))){\n",
    "    \"missing\"\n",
    "} else if (surgical.meno==1){\n",
    "    \"surgical_meno\"\n",
    "} else if (meno==0){\n",
    "    ifelse(age > 60, \"likely_meno\", \"pre\")\n",
    "} else {\n",
    "    if (is.na(meno.age)) {\n",
    "        \"missing_age\"\n",
    "    } else{\n",
    "           ifelse(meno.age <= 40, \"premature\",\n",
    "           ifelse(years.post < 2 | is.na(years.post), \"peri\", \"post\")\n",
    "          ) \n",
    "    }\n",
    "\n",
    "\n",
    "})}\n",
    " \n",
    "\n",
    "\n",
    "df <- ss_mat7\n",
    "df2 <- df\n",
    "df2$meno.label <- mapply(label_col, df$meno, df$meno.age, df$age, df$sex, df$years.post, df$surgical.meno)\n",
    "meno_df <- df2 %>% select(IID, sex, age, visit, preg, pill, hrt, ooph, hyster, meno, hyster2, meno.age, years.post, surgical.meno, meno.label)"
   ]
  },
  {
   "cell_type": "code",
   "execution_count": 42,
   "metadata": {},
   "outputs": [
    {
     "data": {
      "text/plain": [
       "\n",
       "  likely_meno          male       missing   missing_age          peri \n",
       "         6333        223531         27851            37           125 \n",
       "         post           pre     premature surgical_meno \n",
       "       140462         57225         14673         54345 "
      ]
     },
     "metadata": {},
     "output_type": "display_data"
    },
    {
     "data": {
      "text/html": [
       "<table>\n",
       "<thead><tr><th scope=col>IID</th><th scope=col>sex</th><th scope=col>age_v0</th><th scope=col>visit</th><th scope=col>preg</th><th scope=col>pill</th><th scope=col>hrt</th><th scope=col>ooph</th><th scope=col>hyster</th><th scope=col>meno</th><th scope=col>hyster2</th><th scope=col>meno.age</th><th scope=col>years.post</th><th scope=col>surgical.meno</th><th scope=col>meno.label</th></tr></thead>\n",
       "<tbody>\n",
       "\t<tr><td>2502845      </td><td>1            </td><td>50           </td><td>NA           </td><td>NA           </td><td>NA           </td><td>NA           </td><td>NA           </td><td>NA           </td><td>NA           </td><td>NA           </td><td>NA           </td><td>NA           </td><td>NA           </td><td>male         </td></tr>\n",
       "\t<tr><td>2314965      </td><td>0            </td><td>55           </td><td> 0           </td><td> 0           </td><td> 0           </td><td>NA           </td><td> 0           </td><td> 0           </td><td>NA           </td><td> 0           </td><td>NA           </td><td>NA           </td><td> 0           </td><td>missing      </td></tr>\n",
       "\t<tr><td>1142584      </td><td>0            </td><td>60           </td><td> 0           </td><td> 0           </td><td> 0           </td><td> 0           </td><td> 0           </td><td> 0           </td><td> 1           </td><td> 0           </td><td>45           </td><td>15           </td><td> 0           </td><td>post         </td></tr>\n",
       "\t<tr><td>3665122      </td><td>0            </td><td>74           </td><td> 0           </td><td> 0           </td><td>NA           </td><td> 0           </td><td> 0           </td><td> 1           </td><td> 1           </td><td> 0           </td><td>42           </td><td>32           </td><td> 1           </td><td>surgical_meno</td></tr>\n",
       "\t<tr><td>4377492      </td><td>0            </td><td>65           </td><td> 0           </td><td> 0           </td><td> 0           </td><td>NA           </td><td> 0           </td><td> 0           </td><td> 1           </td><td> 0           </td><td>52           </td><td>13           </td><td> 0           </td><td>post         </td></tr>\n",
       "\t<tr><td>2652670      </td><td>1            </td><td>58           </td><td>NA           </td><td>NA           </td><td>NA           </td><td>NA           </td><td>NA           </td><td>NA           </td><td>NA           </td><td>NA           </td><td>NA           </td><td>NA           </td><td>NA           </td><td>male         </td></tr>\n",
       "</tbody>\n",
       "</table>\n"
      ],
      "text/latex": [
       "\\begin{tabular}{r|lllllllllllllll}\n",
       " IID & sex & age\\_v0 & visit & preg & pill & hrt & ooph & hyster & meno & hyster2 & meno.age & years.post & surgical.meno & meno.label\\\\\n",
       "\\hline\n",
       "\t 2502845       & 1             & 50            & NA            & NA            & NA            & NA            & NA            & NA            & NA            & NA            & NA            & NA            & NA            & male         \\\\\n",
       "\t 2314965       & 0             & 55            &  0            &  0            &  0            & NA            &  0            &  0            & NA            &  0            & NA            & NA            &  0            & missing      \\\\\n",
       "\t 1142584       & 0             & 60            &  0            &  0            &  0            &  0            &  0            &  0            &  1            &  0            & 45            & 15            &  0            & post         \\\\\n",
       "\t 3665122         & 0               & 74              &  0              &  0              & NA              &  0              &  0              &  1              &  1              &  0              & 42              & 32              &  1              & surgical\\_meno\\\\\n",
       "\t 4377492       & 0             & 65            &  0            &  0            &  0            & NA            &  0            &  0            &  1            &  0            & 52            & 13            &  0            & post         \\\\\n",
       "\t 2652670       & 1             & 58            & NA            & NA            & NA            & NA            & NA            & NA            & NA            & NA            & NA            & NA            & NA            & male         \\\\\n",
       "\\end{tabular}\n"
      ],
      "text/markdown": [
       "\n",
       "IID | sex | age_v0 | visit | preg | pill | hrt | ooph | hyster | meno | hyster2 | meno.age | years.post | surgical.meno | meno.label | \n",
       "|---|---|---|---|---|---|\n",
       "| 2502845       | 1             | 50            | NA            | NA            | NA            | NA            | NA            | NA            | NA            | NA            | NA            | NA            | NA            | male          | \n",
       "| 2314965       | 0             | 55            |  0            |  0            |  0            | NA            |  0            |  0            | NA            |  0            | NA            | NA            |  0            | missing       | \n",
       "| 1142584       | 0             | 60            |  0            |  0            |  0            |  0            |  0            |  0            |  1            |  0            | 45            | 15            |  0            | post          | \n",
       "| 3665122       | 0             | 74            |  0            |  0            | NA            |  0            |  0            |  1            |  1            |  0            | 42            | 32            |  1            | surgical_meno | \n",
       "| 4377492       | 0             | 65            |  0            |  0            |  0            | NA            |  0            |  0            |  1            |  0            | 52            | 13            |  0            | post          | \n",
       "| 2652670       | 1             | 58            | NA            | NA            | NA            | NA            | NA            | NA            | NA            | NA            | NA            | NA            | NA            | male          | \n",
       "\n",
       "\n"
      ],
      "text/plain": [
       "  IID     sex age_v0 visit preg pill hrt ooph hyster meno hyster2 meno.age\n",
       "1 2502845 1   50     NA    NA   NA   NA  NA   NA     NA   NA      NA      \n",
       "2 2314965 0   55      0     0    0   NA   0    0     NA    0      NA      \n",
       "3 1142584 0   60      0     0    0    0   0    0      1    0      45      \n",
       "4 3665122 0   74      0     0   NA    0   0    1      1    0      42      \n",
       "5 4377492 0   65      0     0    0   NA   0    0      1    0      52      \n",
       "6 2652670 1   58     NA    NA   NA   NA  NA   NA     NA   NA      NA      \n",
       "  years.post surgical.meno meno.label   \n",
       "1 NA         NA            male         \n",
       "2 NA          0            missing      \n",
       "3 15          0            post         \n",
       "4 32          1            surgical_meno\n",
       "5 13          0            post         \n",
       "6 NA         NA            male         "
      ]
     },
     "metadata": {},
     "output_type": "display_data"
    }
   ],
   "source": [
    "table(meno_df$meno.label)\n",
    "meno_df <- rename(meno_df, \"age_v0\" =\"age\")\n",
    "head(meno_df)"
   ]
  },
  {
   "cell_type": "code",
   "execution_count": 43,
   "metadata": {},
   "outputs": [],
   "source": [
    "write.table(meno_df, file=\"../phe_extraction/menopause_phe_table.txt\", sep=\"\\t\", quote=FALSE, row.names=FALSE)"
   ]
  },
  {
   "cell_type": "markdown",
   "metadata": {},
   "source": [
    "## SANITY CHECKING"
   ]
  },
  {
   "cell_type": "code",
   "execution_count": null,
   "metadata": {
    "collapsed": true
   },
   "outputs": [],
   "source": [
    "\n",
    "# FOR EACH VISIT\n",
    "\n",
    "# 1) hysterectomy == menopause due to hysterectomy\n",
    "\n",
    "# 2) oophorectomy == menopause\n",
    "\n",
    "# 3) menopause, oophorectomy, hysterectomy, pregnant != menstruating, menstrual period recently \n",
    "\n",
    "# 4) hysterectomy != pregnant\n",
    "\n",
    "# 5) HRT vs menopause (expect mostly post-menopausal)\n",
    "\n",
    "# 6) time_since_period <= menstrual_length + 3\n",
    "\n",
    "# 7) 10 < cycle_length < 60\n",
    "\n",
    "# 8) birth_control == pre_menopause\n",
    "\n",
    "# [ age at menopause < current age  for first visit ]\n",
    "\n",
    "\n",
    "# EXPLORATORY\n",
    "# - what do irregular cycles look like?\n",
    "# - does anyone report irregular cycles on the pill?"
   ]
  },
  {
   "cell_type": "markdown",
   "metadata": {},
   "source": [
    "# MENSTRUAL PHASE"
   ]
  },
  {
   "cell_type": "code",
   "execution_count": null,
   "metadata": {
    "collapsed": true
   },
   "outputs": [],
   "source": [
    "# NOTE - these questions are poorly worded and have strange cutoffs...\n",
    "\n",
    "# time since last period: 3700 http://biobank.ndph.ox.ac.uk/showcase/field.cgi?id=3700\n",
    "# length of menstrual cycle: 3710\n",
    "# menstruating today: 3720\n",
    "\n",
    "# We may need to go back to original data\n",
    "\n",
    "meno_today <- read.table(\"../phefiles/ss/BIN_FC10003720.phe\")\n",
    "meno_length <- read.table(\"../phefiles/ss/INI3710.phe\")\n",
    "meno_time <- read.table(\"../phefiles/ss/INI3700.phe\")\n",
    "\n",
    "colnames(meno_time) <- c(\"ID\", \"ID2\", \"day_in_cycle\")\n",
    "colnames(meno_length) <- c(\"ID\", \"ID2\", \"cycle_length\")\n",
    "colnames(meno_today) <- c(\"ID\", \"ID2\", \"meno_today\")\n"
   ]
  },
  {
   "cell_type": "code",
   "execution_count": null,
   "metadata": {
    "collapsed": true
   },
   "outputs": [],
   "source": [
    "length_time <- full_join(meno_time %>% select(-ID2), meno_length %>% select(-ID2), by=\"ID\")\n",
    "cycle_info <- full_join(length_time, meno_today %>% select(-ID2), by=\"ID\")"
   ]
  },
  {
   "cell_type": "code",
   "execution_count": null,
   "metadata": {
    "collapsed": true
   },
   "outputs": [],
   "source": [
    "head(cycle_info)\n",
    "table(cycle_info$cycle_length==-9)\n",
    "table(cycle_info$meno_today==-9)\n",
    "\n",
    "table(cycle_info$day_in_cycle==-9)\n",
    "\n",
    "cycle_present <- filter(cycle_info, cycle_length!=-9 & day_in_cycle!=-9 & meno_today !=-9)"
   ]
  },
  {
   "cell_type": "code",
   "execution_count": null,
   "metadata": {
    "collapsed": true
   },
   "outputs": [],
   "source": [
    "head(cycle_present)\n",
    "table(cycle_present$meno_today) # 2 == yes, 1 == no\n",
    "\n",
    "# HOWEVER - for a subset, we are fairly confident\n",
    "# meno_length < 60 & meno_length > 14\n",
    "range_filt <- cycle_present %>% filter(cycle_length <= 60 & cycle_length > 14)"
   ]
  },
  {
   "cell_type": "code",
   "execution_count": null,
   "metadata": {
    "collapsed": true
   },
   "outputs": [],
   "source": [
    "cycle_labeled <- range_filt %>% mutate(approx_ov = cycle_length/2) %>% \n",
    "mutate(phase=ifelse(meno_today==2, \"menstrual\", ifelse(day_in_cycle < approx_ov, \"follicular\", \"luteal\")))"
   ]
  },
  {
   "cell_type": "code",
   "execution_count": null,
   "metadata": {
    "collapsed": true
   },
   "outputs": [],
   "source": [
    "head(cycle_labeled)\n",
    "table(cycle_labeled$phase)\n",
    "write.table(cycle_labeled, file=\"../data/menstrual_phase.txt\", sep=\"\\t\", row.names=FALSE, quote=FALSE)"
   ]
  },
  {
   "cell_type": "code",
   "execution_count": null,
   "metadata": {
    "collapsed": true
   },
   "outputs": [],
   "source": [
    "\n",
    "# sanity check this\n",
    "filter(range_filt, meno_today==2) %>% head()\n"
   ]
  },
  {
   "cell_type": "code",
   "execution_count": null,
   "metadata": {
    "collapsed": true
   },
   "outputs": [],
   "source": [
    "#meno_today and meno_time to validate - should be a distribution\n",
    "ggplot(filter(range_filt, meno_today==2), aes(day_in_cycle))+geom_histogram(binwidth=1)\n",
    "### disproportionately day 0! I think ppl are mis-interpreting, estimate this"
   ]
  },
  {
   "cell_type": "code",
   "execution_count": null,
   "metadata": {
    "collapsed": true
   },
   "outputs": [],
   "source": [
    "ggplot(range_filt, aes(cycle_length))+geom_histogram(binwidth=5)\n",
    "ggplot(range_filt, aes(day_in_cycle))+geom_histogram(binwidth=5)"
   ]
  },
  {
   "cell_type": "code",
   "execution_count": null,
   "metadata": {
    "collapsed": true
   },
   "outputs": [],
   "source": [
    "filter(meno_time, val < 0) %>% head()\n",
    "filter(meno_length, val < 0) %>% head()\n",
    "table(meno_today$val)"
   ]
  },
  {
   "cell_type": "code",
   "execution_count": null,
   "metadata": {
    "collapsed": true,
    "scrolled": true
   },
   "outputs": [],
   "source": [
    "ggplot(meno_time, aes(val))+geom_histogram(binwidth=5)+xlim(-10, 60)+ylim(0, 1000)"
   ]
  },
  {
   "cell_type": "markdown",
   "metadata": {},
   "source": [
    "#### Look at repeat visits"
   ]
  },
  {
   "cell_type": "code",
   "execution_count": null,
   "metadata": {
    "collapsed": true
   },
   "outputs": [],
   "source": [
    "# 2nd visit\n",
    "\n",
    "# how many are still pre-menopause?\n",
    "\n",
    "# phase information"
   ]
  }
 ],
 "metadata": {
  "kernelspec": {
   "display_name": "R",
   "language": "R",
   "name": "ir"
  },
  "language_info": {
   "codemirror_mode": "r",
   "file_extension": ".r",
   "mimetype": "text/x-r-source",
   "name": "R",
   "pygments_lexer": "r",
   "version": "3.4.0"
  }
 },
 "nbformat": 4,
 "nbformat_minor": 2
}
