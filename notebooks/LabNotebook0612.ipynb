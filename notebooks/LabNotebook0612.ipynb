{
 "cells": [
  {
   "cell_type": "code",
   "execution_count": 9,
   "metadata": {},
   "outputs": [
    {
     "name": "stderr",
     "output_type": "stream",
     "text": [
      "Loading required package: tidyverse\n",
      "── Attaching packages ─────────────────────────────────────── tidyverse 1.2.1 ──\n",
      "✔ ggplot2 2.2.1     ✔ purrr   0.2.4\n",
      "✔ tibble  1.4.2     ✔ dplyr   0.7.4\n",
      "✔ tidyr   0.8.1     ✔ stringr 1.3.0\n",
      "✔ readr   1.1.1     ✔ forcats 0.3.0\n",
      "── Conflicts ────────────────────────────────────────── tidyverse_conflicts() ──\n",
      "✖ dplyr::between()   masks data.table::between()\n",
      "✖ dplyr::filter()    masks stats::filter()\n",
      "✖ dplyr::first()     masks data.table::first()\n",
      "✖ dplyr::lag()       masks stats::lag()\n",
      "✖ dplyr::last()      masks data.table::last()\n",
      "✖ purrr::transpose() masks data.table::transpose()\n"
     ]
    }
   ],
   "source": [
    "require('tidyverse')"
   ]
  },
  {
   "cell_type": "code",
   "execution_count": 1,
   "metadata": {
    "collapsed": true
   },
   "outputs": [],
   "source": []
  },
  {
   "cell_type": "code",
   "execution_count": 4,
   "metadata": {},
   "outputs": [
    {
     "name": "stderr",
     "output_type": "stream",
     "text": [
      "Loading required package: data.table\n"
     ]
    }
   ],
   "source": [
    "# find REPEAT visits\n",
    "require('data.table')\n",
    "\n",
    "phase_meno <- fread(\"../data/phase_meno_qc.txt\", header=TRUE, data.table=FALSE)\n",
    "hormone_drug <- fread(\"../data/id_to_hormone_drug.txt\", header=TRUE, data.table=FALSE)"
   ]
  },
  {
   "cell_type": "code",
   "execution_count": 10,
   "metadata": {},
   "outputs": [
    {
     "data": {
      "text/html": [
       "19104"
      ],
      "text/latex": [
       "19104"
      ],
      "text/markdown": [
       "19104"
      ],
      "text/plain": [
       "[1] 19104"
      ]
     },
     "metadata": {},
     "output_type": "display_data"
    }
   ],
   "source": [
    "repeat_visit <- unique(filter(phase_meno, (! is.na(visit)) &( visit %in% c(1,2)))$IID)\n",
    "length(repeat_visit)"
   ]
  },
  {
   "cell_type": "code",
   "execution_count": 18,
   "metadata": {},
   "outputs": [],
   "source": [
    "# 19104 individuals have multiple visits\n",
    "repeat_ppl <- filter(phase_meno, IID %in% repeat_visit) %>% unique()"
   ]
  },
  {
   "cell_type": "code",
   "execution_count": 22,
   "metadata": {},
   "outputs": [
    {
     "data": {
      "text/html": [
       "<ol class=list-inline>\n",
       "\t<li>54998</li>\n",
       "\t<li>23</li>\n",
       "</ol>\n"
      ],
      "text/latex": [
       "\\begin{enumerate*}\n",
       "\\item 54998\n",
       "\\item 23\n",
       "\\end{enumerate*}\n"
      ],
      "text/markdown": [
       "1. 54998\n",
       "2. 23\n",
       "\n",
       "\n"
      ],
      "text/plain": [
       "[1] 54998    23"
      ]
     },
     "metadata": {},
     "output_type": "display_data"
    },
    {
     "data": {
      "text/html": [
       "<ol class=list-inline>\n",
       "\t<li>52514</li>\n",
       "\t<li>23</li>\n",
       "</ol>\n"
      ],
      "text/latex": [
       "\\begin{enumerate*}\n",
       "\\item 52514\n",
       "\\item 23\n",
       "\\end{enumerate*}\n"
      ],
      "text/markdown": [
       "1. 52514\n",
       "2. 23\n",
       "\n",
       "\n"
      ],
      "text/plain": [
       "[1] 52514    23"
      ]
     },
     "metadata": {},
     "output_type": "display_data"
    },
    {
     "data": {
      "text/plain": [
       "               \n",
       "                   0    1    2\n",
       "  likely_meno   1024   57   19\n",
       "  male            22   17    9\n",
       "  missing       2076  852 1420\n",
       "  missing_age      3    2    0\n",
       "  peri             0    0  256\n",
       "  post          9120 6973 8584\n",
       "  pre           8024 2256 1716\n",
       "  premature      834  680  858\n",
       "  surgical_meno 3286 2187 2239"
      ]
     },
     "metadata": {},
     "output_type": "display_data"
    }
   ],
   "source": [
    "dim(repeat_ppl)\n",
    "repeat_ppl2 <- filter(repeat_ppl, preg == 0 & qc_fail==0)\n",
    "dim(repeat_ppl2)\n",
    "table(repeat_ppl2$meno.label, repeat_ppl2$visit)"
   ]
  },
  {
   "cell_type": "code",
   "execution_count": 27,
   "metadata": {},
   "outputs": [
    {
     "data": {
      "text/html": [
       "165"
      ],
      "text/latex": [
       "165"
      ],
      "text/markdown": [
       "165"
      ],
      "text/plain": [
       "[1] 165"
      ]
     },
     "metadata": {},
     "output_type": "display_data"
    },
    {
     "data": {
      "text/html": [
       "1626"
      ],
      "text/latex": [
       "1626"
      ],
      "text/markdown": [
       "1626"
      ],
      "text/plain": [
       "[1] 1626"
      ]
     },
     "metadata": {},
     "output_type": "display_data"
    },
    {
     "data": {
      "text/html": [
       "1573"
      ],
      "text/latex": [
       "1573"
      ],
      "text/markdown": [
       "1573"
      ],
      "text/plain": [
       "[1] 1573"
      ]
     },
     "metadata": {},
     "output_type": "display_data"
    }
   ],
   "source": [
    "pre_meno <- filter(repeat_ppl2, meno.label==\"pre\")\n",
    "v0 <- unique(filter(pre_meno, visit==0)$IID)\n",
    "v1 <- unique(filter(pre_meno, visit==1)$IID)\n",
    "v2 <- unique(filter(pre_meno, visit==2)$IID)\n",
    "\n",
    "v1_v2_i <- intersect(intersect(v1, v2), v0)\n",
    "length(v1_v2_i)\n",
    "v1_v2_u <- union(v1, v2)\n",
    "length(v1_v2_u)\n",
    "mult_v <- intersect(v0, v1_v2_u)\n",
    "length(mult_v)\n",
    "\n",
    "# cycle info\n",
    "# normalized day in cycle"
   ]
  },
  {
   "cell_type": "code",
   "execution_count": 35,
   "metadata": {},
   "outputs": [
    {
     "data": {
      "text/html": [
       "<ol class=list-inline>\n",
       "\t<li>5311</li>\n",
       "\t<li>23</li>\n",
       "</ol>\n"
      ],
      "text/latex": [
       "\\begin{enumerate*}\n",
       "\\item 5311\n",
       "\\item 23\n",
       "\\end{enumerate*}\n"
      ],
      "text/markdown": [
       "1. 5311\n",
       "2. 23\n",
       "\n",
       "\n"
      ],
      "text/plain": [
       "[1] 5311   23"
      ]
     },
     "metadata": {},
     "output_type": "display_data"
    },
    {
     "data": {
      "text/plain": [
       "\n",
       "  -9    0    1 \n",
       " 184 4147  287 "
      ]
     },
     "metadata": {},
     "output_type": "display_data"
    },
    {
     "data": {
      "text/plain": [
       "\n",
       "-9  0  1 \n",
       " 4 70 66 "
      ]
     },
     "metadata": {},
     "output_type": "display_data"
    }
   ],
   "source": [
    "mult_v_dat <- filter(repeat_ppl2, IID %in% mult_v)\n",
    "\n",
    "# look at inter-individual variability\n",
    "menstrual_dat <- filter(mult_v_dat, !is.na(menstrual_phase))\n",
    "\n",
    "dim(menstrual_dat) # 5311 \n",
    "table(menstrual_dat$pill)\n",
    "table(menstrual_dat$hrt)"
   ]
  },
  {
   "cell_type": "code",
   "execution_count": 39,
   "metadata": {},
   "outputs": [
    {
     "data": {
      "text/html": [
       "<table>\n",
       "<thead><tr><th scope=col>f.eid</th><th scope=col>30600</th><th scope=col>30610</th><th scope=col>30620</th><th scope=col>30630</th><th scope=col>30640</th><th scope=col>30650</th><th scope=col>30660</th><th scope=col>30670</th><th scope=col>30680</th><th scope=col>⋯</th><th scope=col>30800</th><th scope=col>30810</th><th scope=col>30820</th><th scope=col>30830</th><th scope=col>30840</th><th scope=col>30850</th><th scope=col>30860</th><th scope=col>30870</th><th scope=col>30880</th><th scope=col>30890</th></tr></thead>\n",
       "<tbody>\n",
       "\t<tr><td>5586147</td><td>   NA  </td><td>114.3  </td><td>100.78 </td><td>   NA  </td><td>0.807  </td><td>57.4   </td><td>2.24   </td><td>6.19   </td><td>   NA  </td><td>⋯      </td><td>NA     </td><td>   NA  </td><td>  NA   </td><td>   NA  </td><td> 8.88  </td><td>11.419 </td><td>   NA  </td><td>2.509  </td><td>350.3  </td><td>67.8   </td></tr>\n",
       "\t<tr><td>5144865</td><td>   NA  </td><td> 59.6  </td><td> 20.66 </td><td>   NA  </td><td>0.850  </td><td>15.6   </td><td>1.40   </td><td>4.38   </td><td>   NA  </td><td>⋯      </td><td>NA     </td><td>   NA  </td><td>  NA   </td><td>   NA  </td><td> 7.80  </td><td>11.395 </td><td>   NA  </td><td>4.416  </td><td>414.2  </td><td>26.2   </td></tr>\n",
       "\t<tr><td>2845962</td><td>46.07  </td><td> 83.4  </td><td> 43.99 </td><td>1.300  </td><td>1.180  </td><td>33.1   </td><td>2.09   </td><td>6.61   </td><td>2.395  </td><td>⋯      </td><td>NA     </td><td>1.045  </td><td>12.7   </td><td>36.27  </td><td>12.13  </td><td>12.911 </td><td>75.09  </td><td>1.792  </td><td>422.2  </td><td>56.6   </td></tr>\n",
       "\t<tr><td>3390045</td><td>47.45  </td><td> 41.4  </td><td> 35.54 </td><td>1.840  </td><td>1.335  </td><td>28.0   </td><td>  NA   </td><td>4.22   </td><td>2.342  </td><td>⋯      </td><td>NA     </td><td>1.068  </td><td>  NA   </td><td>24.22  </td><td> 4.43  </td><td> 8.204 </td><td>72.45  </td><td>1.460  </td><td>524.3  </td><td>77.8   </td></tr>\n",
       "\t<tr><td>4264965</td><td>45.75  </td><td> 61.1  </td><td> 18.10 </td><td>1.985  </td><td>1.022  </td><td>23.8   </td><td>1.59   </td><td>3.90   </td><td>2.505  </td><td>⋯      </td><td>NA     </td><td>1.201  </td><td>  NA   </td><td>89.68  </td><td> 8.26  </td><td> 0.675 </td><td>78.93  </td><td>1.200  </td><td>191.2  </td><td>12.1   </td></tr>\n",
       "\t<tr><td>3131746</td><td>49.71  </td><td>108.5  </td><td> 21.24 </td><td>1.679  </td><td>1.057  </td><td>  NA   </td><td>  NA   </td><td>5.51   </td><td>2.576  </td><td>⋯      </td><td>NA     </td><td>1.430  </td><td>  NA   </td><td>38.54  </td><td>   NA  </td><td> 0.986 </td><td>82.51  </td><td>2.215  </td><td>368.9  </td><td>58.9   </td></tr>\n",
       "</tbody>\n",
       "</table>\n"
      ],
      "text/latex": [
       "\\begin{tabular}{r|lllllllllllllllllllllllllllllll}\n",
       " f.eid & 30600 & 30610 & 30620 & 30630 & 30640 & 30650 & 30660 & 30670 & 30680 & ⋯ & 30800 & 30810 & 30820 & 30830 & 30840 & 30850 & 30860 & 30870 & 30880 & 30890\\\\\n",
       "\\hline\n",
       "\t 5586147 &    NA   & 114.3   & 100.78  &    NA   & 0.807   & 57.4    & 2.24    & 6.19    &    NA   & ⋯       & NA      &    NA   &   NA    &    NA   &  8.88   & 11.419  &    NA   & 2.509   & 350.3   & 67.8   \\\\\n",
       "\t 5144865 &    NA   &  59.6   &  20.66  &    NA   & 0.850   & 15.6    & 1.40    & 4.38    &    NA   & ⋯       & NA      &    NA   &   NA    &    NA   &  7.80   & 11.395  &    NA   & 4.416   & 414.2   & 26.2   \\\\\n",
       "\t 2845962 & 46.07   &  83.4   &  43.99  & 1.300   & 1.180   & 33.1    & 2.09    & 6.61    & 2.395   & ⋯       & NA      & 1.045   & 12.7    & 36.27   & 12.13   & 12.911  & 75.09   & 1.792   & 422.2   & 56.6   \\\\\n",
       "\t 3390045 & 47.45   &  41.4   &  35.54  & 1.840   & 1.335   & 28.0    &   NA    & 4.22    & 2.342   & ⋯       & NA      & 1.068   &   NA    & 24.22   &  4.43   &  8.204  & 72.45   & 1.460   & 524.3   & 77.8   \\\\\n",
       "\t 4264965 & 45.75   &  61.1   &  18.10  & 1.985   & 1.022   & 23.8    & 1.59    & 3.90    & 2.505   & ⋯       & NA      & 1.201   &   NA    & 89.68   &  8.26   &  0.675  & 78.93   & 1.200   & 191.2   & 12.1   \\\\\n",
       "\t 3131746 & 49.71   & 108.5   &  21.24  & 1.679   & 1.057   &   NA    &   NA    & 5.51    & 2.576   & ⋯       & NA      & 1.430   &   NA    & 38.54   &    NA   &  0.986  & 82.51   & 2.215   & 368.9   & 58.9   \\\\\n",
       "\\end{tabular}\n"
      ],
      "text/markdown": [
       "\n",
       "f.eid | 30600 | 30610 | 30620 | 30630 | 30640 | 30650 | 30660 | 30670 | 30680 | ⋯ | 30800 | 30810 | 30820 | 30830 | 30840 | 30850 | 30860 | 30870 | 30880 | 30890 | \n",
       "|---|---|---|---|---|---|\n",
       "| 5586147 |    NA   | 114.3   | 100.78  |    NA   | 0.807   | 57.4    | 2.24    | 6.19    |    NA   | ⋯       | NA      |    NA   |   NA    |    NA   |  8.88   | 11.419  |    NA   | 2.509   | 350.3   | 67.8    | \n",
       "| 5144865 |    NA   |  59.6   |  20.66  |    NA   | 0.850   | 15.6    | 1.40    | 4.38    |    NA   | ⋯       | NA      |    NA   |   NA    |    NA   |  7.80   | 11.395  |    NA   | 4.416   | 414.2   | 26.2    | \n",
       "| 2845962 | 46.07   |  83.4   |  43.99  | 1.300   | 1.180   | 33.1    | 2.09    | 6.61    | 2.395   | ⋯       | NA      | 1.045   | 12.7    | 36.27   | 12.13   | 12.911  | 75.09   | 1.792   | 422.2   | 56.6    | \n",
       "| 3390045 | 47.45   |  41.4   |  35.54  | 1.840   | 1.335   | 28.0    |   NA    | 4.22    | 2.342   | ⋯       | NA      | 1.068   |   NA    | 24.22   |  4.43   |  8.204  | 72.45   | 1.460   | 524.3   | 77.8    | \n",
       "| 4264965 | 45.75   |  61.1   |  18.10  | 1.985   | 1.022   | 23.8    | 1.59    | 3.90    | 2.505   | ⋯       | NA      | 1.201   |   NA    | 89.68   |  8.26   |  0.675  | 78.93   | 1.200   | 191.2   | 12.1    | \n",
       "| 3131746 | 49.71   | 108.5   |  21.24  | 1.679   | 1.057   |   NA    |   NA    | 5.51    | 2.576   | ⋯       | NA      | 1.430   |   NA    | 38.54   |    NA   |  0.986  | 82.51   | 2.215   | 368.9   | 58.9    | \n",
       "\n",
       "\n"
      ],
      "text/plain": [
       "  f.eid   30600 30610 30620  30630 30640 30650 30660 30670 30680 ⋯ 30800 30810\n",
       "1 5586147    NA 114.3 100.78    NA 0.807 57.4  2.24  6.19     NA ⋯ NA       NA\n",
       "2 5144865    NA  59.6  20.66    NA 0.850 15.6  1.40  4.38     NA ⋯ NA       NA\n",
       "3 2845962 46.07  83.4  43.99 1.300 1.180 33.1  2.09  6.61  2.395 ⋯ NA    1.045\n",
       "4 3390045 47.45  41.4  35.54 1.840 1.335 28.0    NA  4.22  2.342 ⋯ NA    1.068\n",
       "5 4264965 45.75  61.1  18.10 1.985 1.022 23.8  1.59  3.90  2.505 ⋯ NA    1.201\n",
       "6 3131746 49.71 108.5  21.24 1.679 1.057   NA    NA  5.51  2.576 ⋯ NA    1.430\n",
       "  30820 30830 30840 30850  30860 30870 30880 30890\n",
       "1   NA     NA  8.88 11.419    NA 2.509 350.3 67.8 \n",
       "2   NA     NA  7.80 11.395    NA 4.416 414.2 26.2 \n",
       "3 12.7  36.27 12.13 12.911 75.09 1.792 422.2 56.6 \n",
       "4   NA  24.22  4.43  8.204 72.45 1.460 524.3 77.8 \n",
       "5   NA  89.68  8.26  0.675 78.93 1.200 191.2 12.1 \n",
       "6   NA  38.54    NA  0.986 82.51 2.215 368.9 58.9 "
      ]
     },
     "metadata": {},
     "output_type": "display_data"
    }
   ],
   "source": [
    "\n",
    "biomarker_phe <- fread(\"../phe_extraction/sm_biomarker_tab.txt\", data.table=FALSE)\n",
    "head(biomarker_phe)\n",
    "filt_biom <- filter(biomarker_phe, f.eid %in% menstrual_dat$IID)"
   ]
  },
  {
   "cell_type": "code",
   "execution_count": 43,
   "metadata": {},
   "outputs": [
    {
     "data": {
      "text/html": [
       "<table>\n",
       "<thead><tr><th scope=col>IID</th><th scope=col>Albumin </th><th scope=col>Alkaline phosphatase</th><th scope=col>Alanine aminotransferase</th><th scope=col>Apolipoprotein A</th><th scope=col>Apolipoprotein B</th><th scope=col>Aspartate aminotransferase</th><th scope=col>Direct bilirubin</th><th scope=col>Urea </th><th scope=col>Calcium </th><th scope=col>⋯</th><th scope=col>Oestradiol </th><th scope=col>Phosphate </th><th scope=col>Rheumatoid factor</th><th scope=col>SHBG </th><th scope=col>Total bilirubin</th><th scope=col>Testosterone </th><th scope=col>Total protein</th><th scope=col>Triglycerides </th><th scope=col>Urate </th><th scope=col>Vitamin D</th></tr></thead>\n",
       "<tbody>\n",
       "\t<tr><td>4264965</td><td>45.75  </td><td>61.1   </td><td>18.10  </td><td>1.985  </td><td>1.022  </td><td>23.8   </td><td>1.59   </td><td>3.90   </td><td>2.505  </td><td>⋯      </td><td>   NA  </td><td>1.201  </td><td>NA     </td><td> 89.68 </td><td> 8.26  </td><td>0.675  </td><td>78.93  </td><td>1.200  </td><td>191.2  </td><td>12.1   </td></tr>\n",
       "\t<tr><td>2331876</td><td>40.44  </td><td>49.4   </td><td>13.32  </td><td>1.811  </td><td>0.949  </td><td>22.4   </td><td>1.85   </td><td>3.98   </td><td>2.221  </td><td>⋯      </td><td>447.5  </td><td>1.033  </td><td>NA     </td><td>141.93 </td><td> 9.66  </td><td>   NA  </td><td>69.20  </td><td>0.969  </td><td>247.6  </td><td>89.9   </td></tr>\n",
       "\t<tr><td>1289179</td><td>44.38  </td><td>75.0   </td><td> 9.95  </td><td>1.364  </td><td>0.672  </td><td>15.9   </td><td>1.27   </td><td>3.18   </td><td>2.350  </td><td>⋯      </td><td>   NA  </td><td>1.203  </td><td>NA     </td><td> 73.49 </td><td> 6.01  </td><td>0.787  </td><td>70.27  </td><td>1.214  </td><td>277.1  </td><td>28.0   </td></tr>\n",
       "\t<tr><td>1964158</td><td>42.76  </td><td>66.3   </td><td>12.43  </td><td>1.680  </td><td>0.929  </td><td>16.8   </td><td>  NA   </td><td>3.67   </td><td>2.433  </td><td>⋯      </td><td>931.1  </td><td>1.296  </td><td>NA     </td><td> 41.77 </td><td> 4.03  </td><td>   NA  </td><td>68.45  </td><td>0.915  </td><td>194.3  </td><td>64.7   </td></tr>\n",
       "\t<tr><td>2124623</td><td>43.51  </td><td>61.2   </td><td>15.51  </td><td>1.340  </td><td>0.995  </td><td>17.0   </td><td>2.23   </td><td>3.89   </td><td>2.315  </td><td>⋯      </td><td>326.2  </td><td>1.076  </td><td>NA     </td><td> 46.87 </td><td>11.09  </td><td>0.805  </td><td>78.90  </td><td>0.627  </td><td>310.8  </td><td>14.9   </td></tr>\n",
       "\t<tr><td>1248443</td><td>44.13  </td><td>91.8   </td><td>13.75  </td><td>1.399  </td><td>0.819  </td><td>15.2   </td><td>1.57   </td><td>2.44   </td><td>2.271  </td><td>⋯      </td><td>589.2  </td><td>0.975  </td><td>NA     </td><td> 95.59 </td><td> 7.76  </td><td>1.554  </td><td>70.30  </td><td>0.660  </td><td>203.1  </td><td>68.1   </td></tr>\n",
       "</tbody>\n",
       "</table>\n"
      ],
      "text/latex": [
       "\\begin{tabular}{r|lllllllllllllllllllllllllllllll}\n",
       " IID & Albumin  & Alkaline phosphatase & Alanine aminotransferase & Apolipoprotein A & Apolipoprotein B & Aspartate aminotransferase & Direct bilirubin & Urea  & Calcium  & ⋯ & Oestradiol  & Phosphate  & Rheumatoid factor & SHBG  & Total bilirubin & Testosterone  & Total protein & Triglycerides  & Urate  & Vitamin D\\\\\n",
       "\\hline\n",
       "\t 4264965 & 45.75   & 61.1    & 18.10   & 1.985   & 1.022   & 23.8    & 1.59    & 3.90    & 2.505   & ⋯       &    NA   & 1.201   & NA      &  89.68  &  8.26   & 0.675   & 78.93   & 1.200   & 191.2   & 12.1   \\\\\n",
       "\t 2331876 & 40.44   & 49.4    & 13.32   & 1.811   & 0.949   & 22.4    & 1.85    & 3.98    & 2.221   & ⋯       & 447.5   & 1.033   & NA      & 141.93  &  9.66   &    NA   & 69.20   & 0.969   & 247.6   & 89.9   \\\\\n",
       "\t 1289179 & 44.38   & 75.0    &  9.95   & 1.364   & 0.672   & 15.9    & 1.27    & 3.18    & 2.350   & ⋯       &    NA   & 1.203   & NA      &  73.49  &  6.01   & 0.787   & 70.27   & 1.214   & 277.1   & 28.0   \\\\\n",
       "\t 1964158 & 42.76   & 66.3    & 12.43   & 1.680   & 0.929   & 16.8    &   NA    & 3.67    & 2.433   & ⋯       & 931.1   & 1.296   & NA      &  41.77  &  4.03   &    NA   & 68.45   & 0.915   & 194.3   & 64.7   \\\\\n",
       "\t 2124623 & 43.51   & 61.2    & 15.51   & 1.340   & 0.995   & 17.0    & 2.23    & 3.89    & 2.315   & ⋯       & 326.2   & 1.076   & NA      &  46.87  & 11.09   & 0.805   & 78.90   & 0.627   & 310.8   & 14.9   \\\\\n",
       "\t 1248443 & 44.13   & 91.8    & 13.75   & 1.399   & 0.819   & 15.2    & 1.57    & 2.44    & 2.271   & ⋯       & 589.2   & 0.975   & NA      &  95.59  &  7.76   & 1.554   & 70.30   & 0.660   & 203.1   & 68.1   \\\\\n",
       "\\end{tabular}\n"
      ],
      "text/markdown": [
       "\n",
       "IID | Albumin  | Alkaline phosphatase | Alanine aminotransferase | Apolipoprotein A | Apolipoprotein B | Aspartate aminotransferase | Direct bilirubin | Urea  | Calcium  | ⋯ | Oestradiol  | Phosphate  | Rheumatoid factor | SHBG  | Total bilirubin | Testosterone  | Total protein | Triglycerides  | Urate  | Vitamin D | \n",
       "|---|---|---|---|---|---|\n",
       "| 4264965 | 45.75   | 61.1    | 18.10   | 1.985   | 1.022   | 23.8    | 1.59    | 3.90    | 2.505   | ⋯       |    NA   | 1.201   | NA      |  89.68  |  8.26   | 0.675   | 78.93   | 1.200   | 191.2   | 12.1    | \n",
       "| 2331876 | 40.44   | 49.4    | 13.32   | 1.811   | 0.949   | 22.4    | 1.85    | 3.98    | 2.221   | ⋯       | 447.5   | 1.033   | NA      | 141.93  |  9.66   |    NA   | 69.20   | 0.969   | 247.6   | 89.9    | \n",
       "| 1289179 | 44.38   | 75.0    |  9.95   | 1.364   | 0.672   | 15.9    | 1.27    | 3.18    | 2.350   | ⋯       |    NA   | 1.203   | NA      |  73.49  |  6.01   | 0.787   | 70.27   | 1.214   | 277.1   | 28.0    | \n",
       "| 1964158 | 42.76   | 66.3    | 12.43   | 1.680   | 0.929   | 16.8    |   NA    | 3.67    | 2.433   | ⋯       | 931.1   | 1.296   | NA      |  41.77  |  4.03   |    NA   | 68.45   | 0.915   | 194.3   | 64.7    | \n",
       "| 2124623 | 43.51   | 61.2    | 15.51   | 1.340   | 0.995   | 17.0    | 2.23    | 3.89    | 2.315   | ⋯       | 326.2   | 1.076   | NA      |  46.87  | 11.09   | 0.805   | 78.90   | 0.627   | 310.8   | 14.9    | \n",
       "| 1248443 | 44.13   | 91.8    | 13.75   | 1.399   | 0.819   | 15.2    | 1.57    | 2.44    | 2.271   | ⋯       | 589.2   | 0.975   | NA      |  95.59  |  7.76   | 1.554   | 70.30   | 0.660   | 203.1   | 68.1    | \n",
       "\n",
       "\n"
      ],
      "text/plain": [
       "  IID     Albumin  Alkaline phosphatase Alanine aminotransferase\n",
       "1 4264965 45.75    61.1                 18.10                   \n",
       "2 2331876 40.44    49.4                 13.32                   \n",
       "3 1289179 44.38    75.0                  9.95                   \n",
       "4 1964158 42.76    66.3                 12.43                   \n",
       "5 2124623 43.51    61.2                 15.51                   \n",
       "6 1248443 44.13    91.8                 13.75                   \n",
       "  Apolipoprotein A Apolipoprotein B Aspartate aminotransferase Direct bilirubin\n",
       "1 1.985            1.022            23.8                       1.59            \n",
       "2 1.811            0.949            22.4                       1.85            \n",
       "3 1.364            0.672            15.9                       1.27            \n",
       "4 1.680            0.929            16.8                         NA            \n",
       "5 1.340            0.995            17.0                       2.23            \n",
       "6 1.399            0.819            15.2                       1.57            \n",
       "  Urea  Calcium  ⋯ Oestradiol  Phosphate  Rheumatoid factor SHBG  \n",
       "1 3.90  2.505    ⋯    NA       1.201      NA                 89.68\n",
       "2 3.98  2.221    ⋯ 447.5       1.033      NA                141.93\n",
       "3 3.18  2.350    ⋯    NA       1.203      NA                 73.49\n",
       "4 3.67  2.433    ⋯ 931.1       1.296      NA                 41.77\n",
       "5 3.89  2.315    ⋯ 326.2       1.076      NA                 46.87\n",
       "6 2.44  2.271    ⋯ 589.2       0.975      NA                 95.59\n",
       "  Total bilirubin Testosterone  Total protein Triglycerides  Urate  Vitamin D\n",
       "1  8.26           0.675         78.93         1.200          191.2  12.1     \n",
       "2  9.66              NA         69.20         0.969          247.6  89.9     \n",
       "3  6.01           0.787         70.27         1.214          277.1  28.0     \n",
       "4  4.03              NA         68.45         0.915          194.3  64.7     \n",
       "5 11.09           0.805         78.90         0.627          310.8  14.9     \n",
       "6  7.76           1.554         70.30         0.660          203.1  68.1     "
      ]
     },
     "metadata": {},
     "output_type": "display_data"
    },
    {
     "data": {
      "text/html": [
       "<table>\n",
       "<thead><tr><th scope=col>f.eid</th><th scope=col>30600</th><th scope=col>30610</th><th scope=col>30620</th><th scope=col>30630</th><th scope=col>30640</th><th scope=col>30650</th><th scope=col>30660</th><th scope=col>30670</th><th scope=col>30680</th><th scope=col>⋯</th><th scope=col>30800</th><th scope=col>30810</th><th scope=col>30820</th><th scope=col>30830</th><th scope=col>30840</th><th scope=col>30850</th><th scope=col>30860</th><th scope=col>30870</th><th scope=col>30880</th><th scope=col>30890</th></tr></thead>\n",
       "<tbody>\n",
       "\t<tr><td>4264965</td><td>45.75  </td><td>61.1   </td><td>18.10  </td><td>1.985  </td><td>1.022  </td><td>23.8   </td><td>1.59   </td><td>3.90   </td><td>2.505  </td><td>⋯      </td><td>   NA  </td><td>1.201  </td><td>NA     </td><td> 89.68 </td><td> 8.26  </td><td>0.675  </td><td>78.93  </td><td>1.200  </td><td>191.2  </td><td>12.1   </td></tr>\n",
       "\t<tr><td>2331876</td><td>40.44  </td><td>49.4   </td><td>13.32  </td><td>1.811  </td><td>0.949  </td><td>22.4   </td><td>1.85   </td><td>3.98   </td><td>2.221  </td><td>⋯      </td><td>447.5  </td><td>1.033  </td><td>NA     </td><td>141.93 </td><td> 9.66  </td><td>   NA  </td><td>69.20  </td><td>0.969  </td><td>247.6  </td><td>89.9   </td></tr>\n",
       "\t<tr><td>1289179</td><td>44.38  </td><td>75.0   </td><td> 9.95  </td><td>1.364  </td><td>0.672  </td><td>15.9   </td><td>1.27   </td><td>3.18   </td><td>2.350  </td><td>⋯      </td><td>   NA  </td><td>1.203  </td><td>NA     </td><td> 73.49 </td><td> 6.01  </td><td>0.787  </td><td>70.27  </td><td>1.214  </td><td>277.1  </td><td>28.0   </td></tr>\n",
       "\t<tr><td>1964158</td><td>42.76  </td><td>66.3   </td><td>12.43  </td><td>1.680  </td><td>0.929  </td><td>16.8   </td><td>  NA   </td><td>3.67   </td><td>2.433  </td><td>⋯      </td><td>931.1  </td><td>1.296  </td><td>NA     </td><td> 41.77 </td><td> 4.03  </td><td>   NA  </td><td>68.45  </td><td>0.915  </td><td>194.3  </td><td>64.7   </td></tr>\n",
       "\t<tr><td>2124623</td><td>43.51  </td><td>61.2   </td><td>15.51  </td><td>1.340  </td><td>0.995  </td><td>17.0   </td><td>2.23   </td><td>3.89   </td><td>2.315  </td><td>⋯      </td><td>326.2  </td><td>1.076  </td><td>NA     </td><td> 46.87 </td><td>11.09  </td><td>0.805  </td><td>78.90  </td><td>0.627  </td><td>310.8  </td><td>14.9   </td></tr>\n",
       "\t<tr><td>1248443</td><td>44.13  </td><td>91.8   </td><td>13.75  </td><td>1.399  </td><td>0.819  </td><td>15.2   </td><td>1.57   </td><td>2.44   </td><td>2.271  </td><td>⋯      </td><td>589.2  </td><td>0.975  </td><td>NA     </td><td> 95.59 </td><td> 7.76  </td><td>1.554  </td><td>70.30  </td><td>0.660  </td><td>203.1  </td><td>68.1   </td></tr>\n",
       "</tbody>\n",
       "</table>\n"
      ],
      "text/latex": [
       "\\begin{tabular}{r|lllllllllllllllllllllllllllllll}\n",
       " f.eid & 30600 & 30610 & 30620 & 30630 & 30640 & 30650 & 30660 & 30670 & 30680 & ⋯ & 30800 & 30810 & 30820 & 30830 & 30840 & 30850 & 30860 & 30870 & 30880 & 30890\\\\\n",
       "\\hline\n",
       "\t 4264965 & 45.75   & 61.1    & 18.10   & 1.985   & 1.022   & 23.8    & 1.59    & 3.90    & 2.505   & ⋯       &    NA   & 1.201   & NA      &  89.68  &  8.26   & 0.675   & 78.93   & 1.200   & 191.2   & 12.1   \\\\\n",
       "\t 2331876 & 40.44   & 49.4    & 13.32   & 1.811   & 0.949   & 22.4    & 1.85    & 3.98    & 2.221   & ⋯       & 447.5   & 1.033   & NA      & 141.93  &  9.66   &    NA   & 69.20   & 0.969   & 247.6   & 89.9   \\\\\n",
       "\t 1289179 & 44.38   & 75.0    &  9.95   & 1.364   & 0.672   & 15.9    & 1.27    & 3.18    & 2.350   & ⋯       &    NA   & 1.203   & NA      &  73.49  &  6.01   & 0.787   & 70.27   & 1.214   & 277.1   & 28.0   \\\\\n",
       "\t 1964158 & 42.76   & 66.3    & 12.43   & 1.680   & 0.929   & 16.8    &   NA    & 3.67    & 2.433   & ⋯       & 931.1   & 1.296   & NA      &  41.77  &  4.03   &    NA   & 68.45   & 0.915   & 194.3   & 64.7   \\\\\n",
       "\t 2124623 & 43.51   & 61.2    & 15.51   & 1.340   & 0.995   & 17.0    & 2.23    & 3.89    & 2.315   & ⋯       & 326.2   & 1.076   & NA      &  46.87  & 11.09   & 0.805   & 78.90   & 0.627   & 310.8   & 14.9   \\\\\n",
       "\t 1248443 & 44.13   & 91.8    & 13.75   & 1.399   & 0.819   & 15.2    & 1.57    & 2.44    & 2.271   & ⋯       & 589.2   & 0.975   & NA      &  95.59  &  7.76   & 1.554   & 70.30   & 0.660   & 203.1   & 68.1   \\\\\n",
       "\\end{tabular}\n"
      ],
      "text/markdown": [
       "\n",
       "f.eid | 30600 | 30610 | 30620 | 30630 | 30640 | 30650 | 30660 | 30670 | 30680 | ⋯ | 30800 | 30810 | 30820 | 30830 | 30840 | 30850 | 30860 | 30870 | 30880 | 30890 | \n",
       "|---|---|---|---|---|---|\n",
       "| 4264965 | 45.75   | 61.1    | 18.10   | 1.985   | 1.022   | 23.8    | 1.59    | 3.90    | 2.505   | ⋯       |    NA   | 1.201   | NA      |  89.68  |  8.26   | 0.675   | 78.93   | 1.200   | 191.2   | 12.1    | \n",
       "| 2331876 | 40.44   | 49.4    | 13.32   | 1.811   | 0.949   | 22.4    | 1.85    | 3.98    | 2.221   | ⋯       | 447.5   | 1.033   | NA      | 141.93  |  9.66   |    NA   | 69.20   | 0.969   | 247.6   | 89.9    | \n",
       "| 1289179 | 44.38   | 75.0    |  9.95   | 1.364   | 0.672   | 15.9    | 1.27    | 3.18    | 2.350   | ⋯       |    NA   | 1.203   | NA      |  73.49  |  6.01   | 0.787   | 70.27   | 1.214   | 277.1   | 28.0    | \n",
       "| 1964158 | 42.76   | 66.3    | 12.43   | 1.680   | 0.929   | 16.8    |   NA    | 3.67    | 2.433   | ⋯       | 931.1   | 1.296   | NA      |  41.77  |  4.03   |    NA   | 68.45   | 0.915   | 194.3   | 64.7    | \n",
       "| 2124623 | 43.51   | 61.2    | 15.51   | 1.340   | 0.995   | 17.0    | 2.23    | 3.89    | 2.315   | ⋯       | 326.2   | 1.076   | NA      |  46.87  | 11.09   | 0.805   | 78.90   | 0.627   | 310.8   | 14.9    | \n",
       "| 1248443 | 44.13   | 91.8    | 13.75   | 1.399   | 0.819   | 15.2    | 1.57    | 2.44    | 2.271   | ⋯       | 589.2   | 0.975   | NA      |  95.59  |  7.76   | 1.554   | 70.30   | 0.660   | 203.1   | 68.1    | \n",
       "\n",
       "\n"
      ],
      "text/plain": [
       "  f.eid   30600 30610 30620 30630 30640 30650 30660 30670 30680 ⋯ 30800 30810\n",
       "1 4264965 45.75 61.1  18.10 1.985 1.022 23.8  1.59  3.90  2.505 ⋯    NA 1.201\n",
       "2 2331876 40.44 49.4  13.32 1.811 0.949 22.4  1.85  3.98  2.221 ⋯ 447.5 1.033\n",
       "3 1289179 44.38 75.0   9.95 1.364 0.672 15.9  1.27  3.18  2.350 ⋯    NA 1.203\n",
       "4 1964158 42.76 66.3  12.43 1.680 0.929 16.8    NA  3.67  2.433 ⋯ 931.1 1.296\n",
       "5 2124623 43.51 61.2  15.51 1.340 0.995 17.0  2.23  3.89  2.315 ⋯ 326.2 1.076\n",
       "6 1248443 44.13 91.8  13.75 1.399 0.819 15.2  1.57  2.44  2.271 ⋯ 589.2 0.975\n",
       "  30820 30830  30840 30850 30860 30870 30880 30890\n",
       "1 NA     89.68  8.26 0.675 78.93 1.200 191.2 12.1 \n",
       "2 NA    141.93  9.66    NA 69.20 0.969 247.6 89.9 \n",
       "3 NA     73.49  6.01 0.787 70.27 1.214 277.1 28.0 \n",
       "4 NA     41.77  4.03    NA 68.45 0.915 194.3 64.7 \n",
       "5 NA     46.87 11.09 0.805 78.90 0.627 310.8 14.9 \n",
       "6 NA     95.59  7.76 1.554 70.30 0.660 203.1 68.1 "
      ]
     },
     "metadata": {},
     "output_type": "display_data"
    }
   ],
   "source": [
    "# NEED THE BIOMARKER TAB WITH THE FULL DATASET\n",
    "biomarker <- read.table(\"../phe_extraction/list_biomarker.txt\", header=TRUE)\n",
    "rownames(biomarker) <- biomarker$Field\n",
    "combined_mat2 <- filt_biom\n",
    "colnames(combined_mat2) <- c(\"IID\", sapply(biomarker[colnames(combined_mat2)[2:ncol(combined_mat2)],]$name, as.character))\n",
    "head(combined_mat2)\n"
   ]
  },
  {
   "cell_type": "code",
   "execution_count": 49,
   "metadata": {},
   "outputs": [
    {
     "name": "stderr",
     "output_type": "stream",
     "text": [
      "Joining, by = \"IID\"\n"
     ]
    },
    {
     "data": {
      "text/html": [
       "<table>\n",
       "<thead><tr><th scope=col>IID</th><th scope=col>visit</th><th scope=col>menstrual_phase</th><th scope=col>Albumin </th><th scope=col>Alkaline phosphatase</th><th scope=col>Alanine aminotransferase</th><th scope=col>Apolipoprotein A</th><th scope=col>Apolipoprotein B</th><th scope=col>Aspartate aminotransferase</th><th scope=col>Direct bilirubin</th><th scope=col>⋯</th><th scope=col>Oestradiol </th><th scope=col>Phosphate </th><th scope=col>Rheumatoid factor</th><th scope=col>SHBG </th><th scope=col>Total bilirubin</th><th scope=col>Testosterone </th><th scope=col>Total protein</th><th scope=col>Triglycerides </th><th scope=col>Urate </th><th scope=col>Vitamin D</th></tr></thead>\n",
       "<tbody>\n",
       "\t<tr><td>5733299   </td><td>0         </td><td>luteal    </td><td>   NA     </td><td>  NA      </td><td>   NA     </td><td>  NA      </td><td>   NA     </td><td>  NA      </td><td>  NA      </td><td>⋯         </td><td>   NA     </td><td>   NA     </td><td>NA        </td><td>   NA     </td><td>  NA      </td><td>NA        </td><td>   NA     </td><td>   NA     </td><td>   NA     </td><td>  NA      </td></tr>\n",
       "\t<tr><td>5733299   </td><td>0         </td><td>follicular</td><td>   NA     </td><td>  NA      </td><td>   NA     </td><td>  NA      </td><td>   NA     </td><td>  NA      </td><td>  NA      </td><td>⋯         </td><td>   NA     </td><td>   NA     </td><td>NA        </td><td>   NA     </td><td>  NA      </td><td>NA        </td><td>   NA     </td><td>   NA     </td><td>   NA     </td><td>  NA      </td></tr>\n",
       "\t<tr><td>5733299   </td><td>1         </td><td>luteal    </td><td>   NA     </td><td>  NA      </td><td>   NA     </td><td>  NA      </td><td>   NA     </td><td>  NA      </td><td>  NA      </td><td>⋯         </td><td>   NA     </td><td>   NA     </td><td>NA        </td><td>   NA     </td><td>  NA      </td><td>NA        </td><td>   NA     </td><td>   NA     </td><td>   NA     </td><td>  NA      </td></tr>\n",
       "\t<tr><td>5733299   </td><td>1         </td><td>follicular</td><td>   NA     </td><td>  NA      </td><td>   NA     </td><td>  NA      </td><td>   NA     </td><td>  NA      </td><td>  NA      </td><td>⋯         </td><td>   NA     </td><td>   NA     </td><td>NA        </td><td>   NA     </td><td>  NA      </td><td>NA        </td><td>   NA     </td><td>   NA     </td><td>   NA     </td><td>  NA      </td></tr>\n",
       "\t<tr><td>2070311   </td><td>0         </td><td>follicular</td><td>39.04     </td><td>65.9      </td><td>15.15     </td><td>1.21      </td><td>1.047     </td><td>21.2      </td><td>1.09      </td><td>⋯         </td><td>552.5     </td><td>1.213     </td><td>NA        </td><td>35.24     </td><td>5.62      </td><td>NA        </td><td>66.95     </td><td>1.372     </td><td>269.4     </td><td>52.4      </td></tr>\n",
       "\t<tr><td>2070311   </td><td>1         </td><td>follicular</td><td>39.04     </td><td>65.9      </td><td>15.15     </td><td>1.21      </td><td>1.047     </td><td>21.2      </td><td>1.09      </td><td>⋯         </td><td>552.5     </td><td>1.213     </td><td>NA        </td><td>35.24     </td><td>5.62      </td><td>NA        </td><td>66.95     </td><td>1.372     </td><td>269.4     </td><td>52.4      </td></tr>\n",
       "</tbody>\n",
       "</table>\n"
      ],
      "text/latex": [
       "\\begin{tabular}{r|lllllllllllllllllllllllllllllllll}\n",
       " IID & visit & menstrual\\_phase & Albumin  & Alkaline phosphatase & Alanine aminotransferase & Apolipoprotein A & Apolipoprotein B & Aspartate aminotransferase & Direct bilirubin & ⋯ & Oestradiol  & Phosphate  & Rheumatoid factor & SHBG  & Total bilirubin & Testosterone  & Total protein & Triglycerides  & Urate  & Vitamin D\\\\\n",
       "\\hline\n",
       "\t 5733299    & 0          & luteal     &    NA      &   NA       &    NA      &   NA       &    NA      &   NA       &   NA       & ⋯          &    NA      &    NA      & NA         &    NA      &   NA       & NA         &    NA      &    NA      &    NA      &   NA      \\\\\n",
       "\t 5733299    & 0          & follicular &    NA      &   NA       &    NA      &   NA       &    NA      &   NA       &   NA       & ⋯          &    NA      &    NA      & NA         &    NA      &   NA       & NA         &    NA      &    NA      &    NA      &   NA      \\\\\n",
       "\t 5733299    & 1          & luteal     &    NA      &   NA       &    NA      &   NA       &    NA      &   NA       &   NA       & ⋯          &    NA      &    NA      & NA         &    NA      &   NA       & NA         &    NA      &    NA      &    NA      &   NA      \\\\\n",
       "\t 5733299    & 1          & follicular &    NA      &   NA       &    NA      &   NA       &    NA      &   NA       &   NA       & ⋯          &    NA      &    NA      & NA         &    NA      &   NA       & NA         &    NA      &    NA      &    NA      &   NA      \\\\\n",
       "\t 2070311    & 0          & follicular & 39.04      & 65.9       & 15.15      & 1.21       & 1.047      & 21.2       & 1.09       & ⋯          & 552.5      & 1.213      & NA         & 35.24      & 5.62       & NA         & 66.95      & 1.372      & 269.4      & 52.4      \\\\\n",
       "\t 2070311    & 1          & follicular & 39.04      & 65.9       & 15.15      & 1.21       & 1.047      & 21.2       & 1.09       & ⋯          & 552.5      & 1.213      & NA         & 35.24      & 5.62       & NA         & 66.95      & 1.372      & 269.4      & 52.4      \\\\\n",
       "\\end{tabular}\n"
      ],
      "text/markdown": [
       "\n",
       "IID | visit | menstrual_phase | Albumin  | Alkaline phosphatase | Alanine aminotransferase | Apolipoprotein A | Apolipoprotein B | Aspartate aminotransferase | Direct bilirubin | ⋯ | Oestradiol  | Phosphate  | Rheumatoid factor | SHBG  | Total bilirubin | Testosterone  | Total protein | Triglycerides  | Urate  | Vitamin D | \n",
       "|---|---|---|---|---|---|\n",
       "| 5733299    | 0          | luteal     |    NA      |   NA       |    NA      |   NA       |    NA      |   NA       |   NA       | ⋯          |    NA      |    NA      | NA         |    NA      |   NA       | NA         |    NA      |    NA      |    NA      |   NA       | \n",
       "| 5733299    | 0          | follicular |    NA      |   NA       |    NA      |   NA       |    NA      |   NA       |   NA       | ⋯          |    NA      |    NA      | NA         |    NA      |   NA       | NA         |    NA      |    NA      |    NA      |   NA       | \n",
       "| 5733299    | 1          | luteal     |    NA      |   NA       |    NA      |   NA       |    NA      |   NA       |   NA       | ⋯          |    NA      |    NA      | NA         |    NA      |   NA       | NA         |    NA      |    NA      |    NA      |   NA       | \n",
       "| 5733299    | 1          | follicular |    NA      |   NA       |    NA      |   NA       |    NA      |   NA       |   NA       | ⋯          |    NA      |    NA      | NA         |    NA      |   NA       | NA         |    NA      |    NA      |    NA      |   NA       | \n",
       "| 2070311    | 0          | follicular | 39.04      | 65.9       | 15.15      | 1.21       | 1.047      | 21.2       | 1.09       | ⋯          | 552.5      | 1.213      | NA         | 35.24      | 5.62       | NA         | 66.95      | 1.372      | 269.4      | 52.4       | \n",
       "| 2070311    | 1          | follicular | 39.04      | 65.9       | 15.15      | 1.21       | 1.047      | 21.2       | 1.09       | ⋯          | 552.5      | 1.213      | NA         | 35.24      | 5.62       | NA         | 66.95      | 1.372      | 269.4      | 52.4       | \n",
       "\n",
       "\n"
      ],
      "text/plain": [
       "  IID     visit menstrual_phase Albumin  Alkaline phosphatase\n",
       "1 5733299 0     luteal             NA      NA                \n",
       "2 5733299 0     follicular         NA      NA                \n",
       "3 5733299 1     luteal             NA      NA                \n",
       "4 5733299 1     follicular         NA      NA                \n",
       "5 2070311 0     follicular      39.04    65.9                \n",
       "6 2070311 1     follicular      39.04    65.9                \n",
       "  Alanine aminotransferase Apolipoprotein A Apolipoprotein B\n",
       "1    NA                      NA                NA           \n",
       "2    NA                      NA                NA           \n",
       "3    NA                      NA                NA           \n",
       "4    NA                      NA                NA           \n",
       "5 15.15                    1.21             1.047           \n",
       "6 15.15                    1.21             1.047           \n",
       "  Aspartate aminotransferase Direct bilirubin ⋯ Oestradiol  Phosphate \n",
       "1   NA                         NA             ⋯    NA          NA     \n",
       "2   NA                         NA             ⋯    NA          NA     \n",
       "3   NA                         NA             ⋯    NA          NA     \n",
       "4   NA                         NA             ⋯    NA          NA     \n",
       "5 21.2                       1.09             ⋯ 552.5       1.213     \n",
       "6 21.2                       1.09             ⋯ 552.5       1.213     \n",
       "  Rheumatoid factor SHBG  Total bilirubin Testosterone  Total protein\n",
       "1 NA                   NA   NA            NA               NA        \n",
       "2 NA                   NA   NA            NA               NA        \n",
       "3 NA                   NA   NA            NA               NA        \n",
       "4 NA                   NA   NA            NA               NA        \n",
       "5 NA                35.24 5.62            NA            66.95        \n",
       "6 NA                35.24 5.62            NA            66.95        \n",
       "  Triglycerides  Urate  Vitamin D\n",
       "1    NA             NA    NA     \n",
       "2    NA             NA    NA     \n",
       "3    NA             NA    NA     \n",
       "4    NA             NA    NA     \n",
       "5 1.372          269.4  52.4     \n",
       "6 1.372          269.4  52.4     "
      ]
     },
     "metadata": {},
     "output_type": "display_data"
    },
    {
     "data": {
      "text/html": [
       "<ol class=list-inline>\n",
       "\t<li>5311</li>\n",
       "\t<li>33</li>\n",
       "</ol>\n"
      ],
      "text/latex": [
       "\\begin{enumerate*}\n",
       "\\item 5311\n",
       "\\item 33\n",
       "\\end{enumerate*}\n"
      ],
      "text/markdown": [
       "1. 5311\n",
       "2. 33\n",
       "\n",
       "\n"
      ],
      "text/plain": [
       "[1] 5311   33"
      ]
     },
     "metadata": {},
     "output_type": "display_data"
    }
   ],
   "source": [
    "comb_dat <- inner_join(select(menstrual_dat, IID, visit, menstrual_phase), combined_mat2)\n",
    "\n",
    "comb_dat2 <- filter(comb_dat, !is.na(\"Albumin \"))\n",
    "head(comb_dat2)\n",
    "dim(comb_dat2)"
   ]
  },
  {
   "cell_type": "code",
   "execution_count": null,
   "metadata": {
    "collapsed": true
   },
   "outputs": [],
   "source": [
    "com"
   ]
  }
 ],
 "metadata": {
  "kernelspec": {
   "display_name": "R",
   "language": "R",
   "name": "ir"
  },
  "language_info": {
   "codemirror_mode": "r",
   "file_extension": ".r",
   "mimetype": "text/x-r-source",
   "name": "R",
   "pygments_lexer": "r",
   "version": "3.4.0"
  }
 },
 "nbformat": 4,
 "nbformat_minor": 2
}
