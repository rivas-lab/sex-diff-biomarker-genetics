{
 "cells": [
  {
   "cell_type": "code",
   "execution_count": 1,
   "metadata": {
    "collapsed": true
   },
   "outputs": [],
   "source": [
    "# TODO:\n",
    "#  -check X chr qc\n",
    "#  -generated quantities\n",
    "#  -speed up"
   ]
  },
  {
   "cell_type": "code",
   "execution_count": 2,
   "metadata": {},
   "outputs": [
    {
     "name": "stderr",
     "output_type": "stream",
     "text": [
      "Loading required package: rstan\n",
      "Loading required package: ggplot2\n",
      "Loading required package: StanHeaders\n",
      "rstan (Version 2.17.3, GitRev: 2e1f913d3ca3)\n",
      "For execution on a local, multicore CPU with excess RAM we recommend calling\n",
      "options(mc.cores = parallel::detectCores()).\n",
      "To avoid recompilation of unchanged Stan programs, we recommend calling\n",
      "rstan_options(auto_write = TRUE)\n",
      "Loading required package: tidyverse\n",
      "── Attaching packages ─────────────────────────────────────── tidyverse 1.2.1 ──\n",
      "✔ tibble  1.4.2     ✔ purrr   0.2.4\n",
      "✔ tidyr   0.8.1     ✔ dplyr   0.7.4\n",
      "✔ readr   1.1.1     ✔ stringr 1.3.0\n",
      "✔ tibble  1.4.2     ✔ forcats 0.3.0\n",
      "── Conflicts ────────────────────────────────────────── tidyverse_conflicts() ──\n",
      "✖ tidyr::extract() masks rstan::extract()\n",
      "✖ dplyr::filter()  masks stats::filter()\n",
      "✖ dplyr::lag()     masks stats::lag()\n"
     ]
    }
   ],
   "source": [
    "require('rstan')\n",
    "require('tidyverse')"
   ]
  },
  {
   "cell_type": "markdown",
   "metadata": {},
   "source": [
    "### Extract Testosterone SNP of interest"
   ]
  },
  {
   "cell_type": "code",
   "execution_count": 8,
   "metadata": {},
   "outputs": [
    {
     "name": "stderr",
     "output_type": "stream",
     "text": [
      "Parsed with column specification:\n",
      "cols(\n",
      "  `#CHROM` = col_integer(),\n",
      "  POS = col_integer(),\n",
      "  ID = col_character(),\n",
      "  REF = col_character(),\n",
      "  ALT = col_character(),\n",
      "  TEST = col_character(),\n",
      "  OBS_CT = col_integer(),\n",
      "  BETA = col_double(),\n",
      "  SE = col_double(),\n",
      "  T_STAT = col_double(),\n",
      "  P = col_double()\n",
      ")\n",
      "Parsed with column specification:\n",
      "cols(\n",
      "  `#CHROM` = col_integer(),\n",
      "  POS = col_integer(),\n",
      "  ID = col_character(),\n",
      "  REF = col_character(),\n",
      "  ALT = col_character(),\n",
      "  TEST = col_character(),\n",
      "  OBS_CT = col_integer(),\n",
      "  BETA = col_double(),\n",
      "  SE = col_double(),\n",
      "  T_STAT = col_double(),\n",
      "  P = col_double()\n",
      ")\n",
      "Parsed with column specification:\n",
      "cols(\n",
      "  `#CHROM` = col_integer(),\n",
      "  POS = col_integer(),\n",
      "  ID = col_character(),\n",
      "  REF = col_character(),\n",
      "  ALT = col_character(),\n",
      "  TEST = col_character(),\n",
      "  OBS_CT = col_integer(),\n",
      "  BETA = col_double(),\n",
      "  SE = col_double(),\n",
      "  T_STAT = col_double(),\n",
      "  P = col_double()\n",
      ")\n",
      "Parsed with column specification:\n",
      "cols(\n",
      "  `#CHROM` = col_integer(),\n",
      "  POS = col_integer(),\n",
      "  ID = col_character(),\n",
      "  REF = col_character(),\n",
      "  ALT = col_character(),\n",
      "  TEST = col_character(),\n",
      "  OBS_CT = col_integer(),\n",
      "  BETA = col_double(),\n",
      "  SE = col_double(),\n",
      "  T_STAT = col_double(),\n",
      "  P = col_double()\n",
      ")\n"
     ]
    }
   ],
   "source": [
    "\n",
    "# read in the testosterone files\n",
    "c1.m <- read_tsv(\"/scratch/groups/mrivas/users/erflynn/sex_div_gwas/gwas_age_sex/ukb24893_v2_c1.Testosterone.onesex.Testosterone.glm.linear\")\n",
    "c1.f <- read_tsv(\"/scratch/groups/mrivas/users/erflynn/sex_div_gwas/gwas_age_sex/ukb24893_v2_c1.Testosterone.zerosex.Testosterone.glm.linear\")\n",
    "c1.pre <- read_tsv(\"/scratch/groups/mrivas/users/erflynn/sex_div_gwas/gwas_age_sex/ukb24893_v2_c1.Testosterone.pre_meno.Testosterone.glm.linear\")\n",
    "c1.post <- read_tsv(\"/scratch/groups/mrivas/users/erflynn/sex_div_gwas/gwas_age_sex/ukb24893_v2_c1.Testosterone.post_meno.Testosterone.glm.linear\")\n"
   ]
  },
  {
   "cell_type": "code",
   "execution_count": 13,
   "metadata": {},
   "outputs": [
    {
     "data": {
      "text/html": [
       "<table>\n",
       "<thead><tr><th scope=col>#CHROM</th><th scope=col>POS</th><th scope=col>ID</th><th scope=col>REF</th><th scope=col>ALT</th><th scope=col>TEST</th><th scope=col>OBS_CT</th><th scope=col>BETA</th><th scope=col>SE</th><th scope=col>T_STAT</th><th scope=col>P</th><th scope=col>pop</th></tr></thead>\n",
       "<tbody>\n",
       "\t<tr><td>1           </td><td>204438643   </td><td>rs1553921   </td><td>T           </td><td>G           </td><td>ADD         </td><td>122906      </td><td> 0.045803200</td><td>0.017091200 </td><td> 2.679930   </td><td>7.36478e-03 </td><td>female      </td></tr>\n",
       "\t<tr><td>1           </td><td>204438643   </td><td>rs1553921   </td><td>T           </td><td>G           </td><td>ADD         </td><td>146149      </td><td> 0.002088240</td><td>0.015825500 </td><td> 0.131954   </td><td>8.95021e-01 </td><td>male        </td></tr>\n",
       "\t<tr><td>1           </td><td>204438643   </td><td>rs1553921   </td><td>T           </td><td>G           </td><td>ADD         </td><td>102361      </td><td> 0.070860800</td><td>0.012631500 </td><td> 5.609840   </td><td>2.03034e-08 </td><td>post_meno   </td></tr>\n",
       "\t<tr><td>1           </td><td>204438643   </td><td>rs1553921   </td><td>T           </td><td>G           </td><td>ADD         </td><td> 47771      </td><td>-0.069506300</td><td>0.014299200 </td><td>-4.860840   </td><td>1.17261e-06 </td><td>pre_meno    </td></tr>\n",
       "\t<tr><td>1           </td><td>204438643   </td><td>rs1553921   </td><td>T           </td><td>G           </td><td>age         </td><td>122906      </td><td> 0.000529176</td><td>0.000356689 </td><td> 1.483580   </td><td>1.37923e-01 </td><td>female      </td></tr>\n",
       "\t<tr><td>1           </td><td>204438643   </td><td>rs1553921   </td><td>T           </td><td>G           </td><td>age         </td><td>146149      </td><td> 0.001360850</td><td>0.000323272 </td><td> 4.209610   </td><td>2.55964e-05 </td><td>male        </td></tr>\n",
       "\t<tr><td>1           </td><td>204438643   </td><td>rs1553921   </td><td>T           </td><td>G           </td><td>age         </td><td>102361      </td><td> 0.004951610</td><td>0.000557807 </td><td> 8.876920   </td><td>6.98134e-19 </td><td>post_meno   </td></tr>\n",
       "\t<tr><td>1           </td><td>204438643   </td><td>rs1553921   </td><td>T           </td><td>G           </td><td>age         </td><td> 47771      </td><td> 0.005661810</td><td>0.001427120 </td><td> 3.967310   </td><td>7.27945e-05 </td><td>pre_meno    </td></tr>\n",
       "</tbody>\n",
       "</table>\n"
      ],
      "text/latex": [
       "\\begin{tabular}{r|llllllllllll}\n",
       " \\#CHROM & POS & ID & REF & ALT & TEST & OBS\\_CT & BETA & SE & T\\_STAT & P & pop\\\\\n",
       "\\hline\n",
       "\t 1            & 204438643    & rs1553921    & T            & G            & ADD          & 122906       &  0.045803200 & 0.017091200  &  2.679930    & 7.36478e-03  & female      \\\\\n",
       "\t 1            & 204438643    & rs1553921    & T            & G            & ADD          & 146149       &  0.002088240 & 0.015825500  &  0.131954    & 8.95021e-01  & male        \\\\\n",
       "\t 1            & 204438643    & rs1553921    & T            & G            & ADD          & 102361       &  0.070860800 & 0.012631500  &  5.609840    & 2.03034e-08  & post\\_meno \\\\\n",
       "\t 1            & 204438643    & rs1553921    & T            & G            & ADD          &  47771       & -0.069506300 & 0.014299200  & -4.860840    & 1.17261e-06  & pre\\_meno  \\\\\n",
       "\t 1            & 204438643    & rs1553921    & T            & G            & age          & 122906       &  0.000529176 & 0.000356689  &  1.483580    & 1.37923e-01  & female      \\\\\n",
       "\t 1            & 204438643    & rs1553921    & T            & G            & age          & 146149       &  0.001360850 & 0.000323272  &  4.209610    & 2.55964e-05  & male        \\\\\n",
       "\t 1            & 204438643    & rs1553921    & T            & G            & age          & 102361       &  0.004951610 & 0.000557807  &  8.876920    & 6.98134e-19  & post\\_meno \\\\\n",
       "\t 1            & 204438643    & rs1553921    & T            & G            & age          &  47771       &  0.005661810 & 0.001427120  &  3.967310    & 7.27945e-05  & pre\\_meno  \\\\\n",
       "\\end{tabular}\n"
      ],
      "text/markdown": [
       "\n",
       "#CHROM | POS | ID | REF | ALT | TEST | OBS_CT | BETA | SE | T_STAT | P | pop | \n",
       "|---|---|---|---|---|---|---|---|\n",
       "| 1            | 204438643    | rs1553921    | T            | G            | ADD          | 122906       |  0.045803200 | 0.017091200  |  2.679930    | 7.36478e-03  | female       | \n",
       "| 1            | 204438643    | rs1553921    | T            | G            | ADD          | 146149       |  0.002088240 | 0.015825500  |  0.131954    | 8.95021e-01  | male         | \n",
       "| 1            | 204438643    | rs1553921    | T            | G            | ADD          | 102361       |  0.070860800 | 0.012631500  |  5.609840    | 2.03034e-08  | post_meno    | \n",
       "| 1            | 204438643    | rs1553921    | T            | G            | ADD          |  47771       | -0.069506300 | 0.014299200  | -4.860840    | 1.17261e-06  | pre_meno     | \n",
       "| 1            | 204438643    | rs1553921    | T            | G            | age          | 122906       |  0.000529176 | 0.000356689  |  1.483580    | 1.37923e-01  | female       | \n",
       "| 1            | 204438643    | rs1553921    | T            | G            | age          | 146149       |  0.001360850 | 0.000323272  |  4.209610    | 2.55964e-05  | male         | \n",
       "| 1            | 204438643    | rs1553921    | T            | G            | age          | 102361       |  0.004951610 | 0.000557807  |  8.876920    | 6.98134e-19  | post_meno    | \n",
       "| 1            | 204438643    | rs1553921    | T            | G            | age          |  47771       |  0.005661810 | 0.001427120  |  3.967310    | 7.27945e-05  | pre_meno     | \n",
       "\n",
       "\n"
      ],
      "text/plain": [
       "  #CHROM POS       ID        REF ALT TEST OBS_CT BETA         SE         \n",
       "1 1      204438643 rs1553921 T   G   ADD  122906  0.045803200 0.017091200\n",
       "2 1      204438643 rs1553921 T   G   ADD  146149  0.002088240 0.015825500\n",
       "3 1      204438643 rs1553921 T   G   ADD  102361  0.070860800 0.012631500\n",
       "4 1      204438643 rs1553921 T   G   ADD   47771 -0.069506300 0.014299200\n",
       "5 1      204438643 rs1553921 T   G   age  122906  0.000529176 0.000356689\n",
       "6 1      204438643 rs1553921 T   G   age  146149  0.001360850 0.000323272\n",
       "7 1      204438643 rs1553921 T   G   age  102361  0.004951610 0.000557807\n",
       "8 1      204438643 rs1553921 T   G   age   47771  0.005661810 0.001427120\n",
       "  T_STAT    P           pop      \n",
       "1  2.679930 7.36478e-03 female   \n",
       "2  0.131954 8.95021e-01 male     \n",
       "3  5.609840 2.03034e-08 post_meno\n",
       "4 -4.860840 1.17261e-06 pre_meno \n",
       "5  1.483580 1.37923e-01 female   \n",
       "6  4.209610 2.55964e-05 male     \n",
       "7  8.876920 6.98134e-19 post_meno\n",
       "8  3.967310 7.27945e-05 pre_meno "
      ]
     },
     "metadata": {},
     "output_type": "display_data"
    }
   ],
   "source": [
    "# filter for the variant\n",
    "m <- c1.m %>% filter(ID == \"rs1553921\" & TEST %in% c(\"ADD\", \"age\") ) %>% mutate(pop=\"male\")\n",
    "f <- c1.f %>% filter(ID == \"rs1553921\" & TEST %in% c(\"ADD\", \"age\")) %>% mutate(pop=\"female\")\n",
    "pre <- c1.pre %>% filter(ID == \"rs1553921\" & TEST %in% c(\"ADD\", \"age\")) %>% mutate(pop=\"pre_meno\")\n",
    "post <- c1.post %>% filter(ID == \"rs1553921\" & TEST %in% c(\"ADD\", \"age\"))%>% mutate(pop=\"post_meno\")\n",
    "\n",
    "snp_df <- do.call(rbind, list(m, f, pre, post))\n",
    "snp_df %>% arrange(TEST, pop)"
   ]
  },
  {
   "cell_type": "markdown",
   "metadata": {},
   "source": [
    "### X Chromosome QC"
   ]
  },
  {
   "cell_type": "code",
   "execution_count": 10,
   "metadata": {},
   "outputs": [
    {
     "data": {
      "text/html": [
       "<table>\n",
       "<thead><tr><th scope=col>SNP</th><th scope=col>CHR</th><th scope=col>A1</th><th scope=col>A2</th><th scope=col>MAF</th><th scope=col>F_MISS</th><th scope=col>LD</th><th scope=col>keep</th></tr></thead>\n",
       "<tbody>\n",
       "\t<tr><td>Affx-34464730</td><td>X            </td><td>A            </td><td>G            </td><td>0.821453     </td><td>0.000683898  </td><td>0            </td><td>0            </td></tr>\n",
       "\t<tr><td>Affx-34470541</td><td>X            </td><td>T            </td><td>G            </td><td>0.998817     </td><td>0.001566410  </td><td>1            </td><td>1            </td></tr>\n",
       "\t<tr><td>Affx-34480971</td><td>X            </td><td>A            </td><td>C            </td><td>0.987194     </td><td>0.010207300  </td><td>1            </td><td>1            </td></tr>\n",
       "\t<tr><td>Affx-34492707</td><td>X            </td><td>T            </td><td>C            </td><td>0.988038     </td><td>0.002023030  </td><td>1            </td><td>1            </td></tr>\n",
       "\t<tr><td>Affx-34492709</td><td>X            </td><td>G            </td><td>A            </td><td>0.224857     </td><td>0.000788325  </td><td>0            </td><td>0            </td></tr>\n",
       "\t<tr><td>Affx-34494619</td><td>X            </td><td>C            </td><td>G            </td><td>0.767836     </td><td>0.001820320  </td><td>0            </td><td>0            </td></tr>\n",
       "</tbody>\n",
       "</table>\n"
      ],
      "text/latex": [
       "\\begin{tabular}{r|llllllll}\n",
       " SNP & CHR & A1 & A2 & MAF & F\\_MISS & LD & keep\\\\\n",
       "\\hline\n",
       "\t Affx-34464730 & X             & A             & G             & 0.821453      & 0.000683898   & 0             & 0            \\\\\n",
       "\t Affx-34470541 & X             & T             & G             & 0.998817      & 0.001566410   & 1             & 1            \\\\\n",
       "\t Affx-34480971 & X             & A             & C             & 0.987194      & 0.010207300   & 1             & 1            \\\\\n",
       "\t Affx-34492707 & X             & T             & C             & 0.988038      & 0.002023030   & 1             & 1            \\\\\n",
       "\t Affx-34492709 & X             & G             & A             & 0.224857      & 0.000788325   & 0             & 0            \\\\\n",
       "\t Affx-34494619 & X             & C             & G             & 0.767836      & 0.001820320   & 0             & 0            \\\\\n",
       "\\end{tabular}\n"
      ],
      "text/markdown": [
       "\n",
       "SNP | CHR | A1 | A2 | MAF | F_MISS | LD | keep | \n",
       "|---|---|---|---|---|---|\n",
       "| Affx-34464730 | X             | A             | G             | 0.821453      | 0.000683898   | 0             | 0             | \n",
       "| Affx-34470541 | X             | T             | G             | 0.998817      | 0.001566410   | 1             | 1             | \n",
       "| Affx-34480971 | X             | A             | C             | 0.987194      | 0.010207300   | 1             | 1             | \n",
       "| Affx-34492707 | X             | T             | C             | 0.988038      | 0.002023030   | 1             | 1             | \n",
       "| Affx-34492709 | X             | G             | A             | 0.224857      | 0.000788325   | 0             | 0             | \n",
       "| Affx-34494619 | X             | C             | G             | 0.767836      | 0.001820320   | 0             | 0             | \n",
       "\n",
       "\n"
      ],
      "text/plain": [
       "  SNP           CHR A1 A2 MAF      F_MISS      LD keep\n",
       "1 Affx-34464730 X   A  G  0.821453 0.000683898 0  0   \n",
       "2 Affx-34470541 X   T  G  0.998817 0.001566410 1  1   \n",
       "3 Affx-34480971 X   A  C  0.987194 0.010207300 1  1   \n",
       "4 Affx-34492707 X   T  C  0.988038 0.002023030 1  1   \n",
       "5 Affx-34492709 X   G  A  0.224857 0.000788325 0  0   \n",
       "6 Affx-34494619 X   C  G  0.767836 0.001820320 0  0   "
      ]
     },
     "metadata": {},
     "output_type": "display_data"
    },
    {
     "data": {
      "text/html": [
       "<table>\n",
       "<thead><tr><th scope=col>SNP</th><th scope=col>CHR</th><th scope=col>A1</th><th scope=col>A2</th><th scope=col>MAF</th><th scope=col>F_MISS</th><th scope=col>LD</th><th scope=col>keep</th></tr></thead>\n",
       "<tbody>\n",
       "\t<tr><td>Affx-34637689</td><td>XY           </td><td>T            </td><td>C            </td><td>0.701461     </td><td>0.003255680  </td><td>0            </td><td>0            </td></tr>\n",
       "\t<tr><td>Affx-34642957</td><td>XY           </td><td>T            </td><td>G            </td><td>0.925713     </td><td>0.000702326  </td><td>0            </td><td>0            </td></tr>\n",
       "\t<tr><td>Affx-34660664</td><td>XY           </td><td>A            </td><td>T            </td><td>0.978064     </td><td>0.002043500  </td><td>0            </td><td>0            </td></tr>\n",
       "\t<tr><td>Affx-34691882</td><td>XY           </td><td>T            </td><td>C            </td><td>0.418119     </td><td>0.001973880  </td><td>0            </td><td>0            </td></tr>\n",
       "\t<tr><td>Affx-34729416</td><td>XY           </td><td>T            </td><td>C            </td><td>0.896423     </td><td>0.835355000  </td><td>0            </td><td>0            </td></tr>\n",
       "\t<tr><td>Affx-34734836</td><td>XY           </td><td>G            </td><td>A            </td><td>0.189222     </td><td>0.067742700  </td><td>0            </td><td>0            </td></tr>\n",
       "</tbody>\n",
       "</table>\n"
      ],
      "text/latex": [
       "\\begin{tabular}{r|llllllll}\n",
       " SNP & CHR & A1 & A2 & MAF & F\\_MISS & LD & keep\\\\\n",
       "\\hline\n",
       "\t Affx-34637689 & XY            & T             & C             & 0.701461      & 0.003255680   & 0             & 0            \\\\\n",
       "\t Affx-34642957 & XY            & T             & G             & 0.925713      & 0.000702326   & 0             & 0            \\\\\n",
       "\t Affx-34660664 & XY            & A             & T             & 0.978064      & 0.002043500   & 0             & 0            \\\\\n",
       "\t Affx-34691882 & XY            & T             & C             & 0.418119      & 0.001973880   & 0             & 0            \\\\\n",
       "\t Affx-34729416 & XY            & T             & C             & 0.896423      & 0.835355000   & 0             & 0            \\\\\n",
       "\t Affx-34734836 & XY            & G             & A             & 0.189222      & 0.067742700   & 0             & 0            \\\\\n",
       "\\end{tabular}\n"
      ],
      "text/markdown": [
       "\n",
       "SNP | CHR | A1 | A2 | MAF | F_MISS | LD | keep | \n",
       "|---|---|---|---|---|---|\n",
       "| Affx-34637689 | XY            | T             | C             | 0.701461      | 0.003255680   | 0             | 0             | \n",
       "| Affx-34642957 | XY            | T             | G             | 0.925713      | 0.000702326   | 0             | 0             | \n",
       "| Affx-34660664 | XY            | A             | T             | 0.978064      | 0.002043500   | 0             | 0             | \n",
       "| Affx-34691882 | XY            | T             | C             | 0.418119      | 0.001973880   | 0             | 0             | \n",
       "| Affx-34729416 | XY            | T             | C             | 0.896423      | 0.835355000   | 0             | 0             | \n",
       "| Affx-34734836 | XY            | G             | A             | 0.189222      | 0.067742700   | 0             | 0             | \n",
       "\n",
       "\n"
      ],
      "text/plain": [
       "  SNP           CHR A1 A2 MAF      F_MISS      LD keep\n",
       "1 Affx-34637689 XY  T  C  0.701461 0.003255680 0  0   \n",
       "2 Affx-34642957 XY  T  G  0.925713 0.000702326 0  0   \n",
       "3 Affx-34660664 XY  A  T  0.978064 0.002043500 0  0   \n",
       "4 Affx-34691882 XY  T  C  0.418119 0.001973880 0  0   \n",
       "5 Affx-34729416 XY  T  C  0.896423 0.835355000 0  0   \n",
       "6 Affx-34734836 XY  G  A  0.189222 0.067742700 0  0   "
      ]
     },
     "metadata": {},
     "output_type": "display_data"
    },
    {
     "data": {
      "text/plain": [
       "\n",
       "FALSE  TRUE \n",
       "13045  5812 "
      ]
     },
     "metadata": {},
     "output_type": "display_data"
    },
    {
     "data": {
      "text/plain": [
       "\n",
       "FALSE  TRUE \n",
       "  829   528 "
      ]
     },
     "metadata": {},
     "output_type": "display_data"
    }
   ],
   "source": [
    "chrX <- read.delim(\"../data/chr_qc/chrX_qc_table.txt\", sep=\" \", header=TRUE)\n",
    "\n",
    "head(chrX)\n",
    "\n",
    "chrXY <- read.delim(\"../data/chr_qc/chrXY_qc_table.txt\", sep=\" \", header=TRUE)\n",
    "head(chrXY)\n",
    "\n",
    "table(chrX$keep==1)\n",
    "table(chrXY$keep==1)\n",
    "\n",
    "\n",
    "# XY should be HWE same\n",
    "# why is there a variant filter for X chromosome and not the others?"
   ]
  },
  {
   "cell_type": "markdown",
   "metadata": {},
   "source": [
    "From plink2 help:\n",
    "    chrom: Chromosome ID.\n",
    "    pos: Base-pair coordinate.\n",
    "    (ID is always present, and positioned here.)\n",
    "    ref: Reference allele.\n",
    "    alt1: Alternate allele 1.\n",
    "    alt: All alternate alleles, comma-separated.\n",
    "    gcounts: Hom-ref count, total number of ref-altx heterozygous calls, and\n",
    "             total number of nonmissing calls with no reference allele.  On\n",
    "             chrX, these are followed by male ref and male alt counts.\n",
    "    gcount1col: gcounts values in a single comma-separated column.\n",
    "    hetfreq: Observed and expected heterozygote frequencies.\n",
    "    sexaf: Female and male ref allele frequencies (chrX only).\n",
    "    femalep: Female-only p/midp-value (chrX only).\n",
    "    p: Hardy-Weinberg equilibrium exact test p/midp-value."
   ]
  },
  {
   "cell_type": "code",
   "execution_count": 20,
   "metadata": {},
   "outputs": [
    {
     "data": {
      "text/html": [
       "<table>\n",
       "<thead><tr><th scope=col>V1</th><th scope=col>V2</th><th scope=col>V3</th><th scope=col>V4</th><th scope=col>V5</th><th scope=col>V6</th><th scope=col>V7</th><th scope=col>V8</th><th scope=col>V9</th><th scope=col>V10</th><th scope=col>V11</th><th scope=col>V12</th><th scope=col>V13</th><th scope=col>V14</th></tr></thead>\n",
       "<tbody>\n",
       "\t<tr><td>X            </td><td>rs60075487   </td><td>A            </td><td>G            </td><td>  7340       </td><td> 72122       </td><td>185023       </td><td> 36077       </td><td>186736       </td><td>2.72688e-01  </td><td>2.74337e-01  </td><td>1.64096e-01  </td><td>0.1619160    </td><td>5.58886e-04  </td></tr>\n",
       "\t<tr><td>X            </td><td>rs2306736    </td><td>C            </td><td>T            </td><td> 75908       </td><td>130843       </td><td> 56870       </td><td>118635       </td><td>103318       </td><td>4.96330e-01  </td><td>4.97392e-01  </td><td>5.36109e-01  </td><td>0.5345050    </td><td>2.44207e-01  </td></tr>\n",
       "\t<tr><td>X            </td><td>Affx-92044070</td><td>AT           </td><td>A            </td><td>     0       </td><td>    20       </td><td>237148       </td><td>     0       </td><td>196223       </td><td>8.43284e-05  </td><td>8.43249e-05  </td><td>4.21642e-05  </td><td>0.0000000    </td><td>2.17114e-03  </td></tr>\n",
       "\t<tr><td>X            </td><td>rs5939320    </td><td>G            </td><td>A            </td><td> 26848       </td><td>114413       </td><td>122715       </td><td> 70724       </td><td>151757       </td><td>4.33422e-01  </td><td>4.34055e-01  </td><td>3.18417e-01  </td><td>0.3178880    </td><td>6.81506e-01  </td></tr>\n",
       "\t<tr><td>X            </td><td>rs146462965  </td><td>T            </td><td>C            </td><td>     5       </td><td>  6222       </td><td>258426       </td><td>  2581       </td><td>220674       </td><td>2.35100e-02  </td><td>2.32706e-02  </td><td>1.17739e-02  </td><td>0.0115608    </td><td>4.90229e-10  </td></tr>\n",
       "\t<tr><td>X            </td><td>rs1970797    </td><td>T            </td><td>C            </td><td>198341       </td><td> 60873       </td><td>  4852       </td><td>192439       </td><td> 30333       </td><td>2.30522e-01  </td><td>2.31554e-01  </td><td>8.66365e-01  </td><td>0.8638380    </td><td>1.00389e-03  </td></tr>\n",
       "</tbody>\n",
       "</table>\n"
      ],
      "text/latex": [
       "\\begin{tabular}{r|llllllllllllll}\n",
       " V1 & V2 & V3 & V4 & V5 & V6 & V7 & V8 & V9 & V10 & V11 & V12 & V13 & V14\\\\\n",
       "\\hline\n",
       "\t X             & rs60075487    & A             & G             &   7340        &  72122        & 185023        &  36077        & 186736        & 2.72688e-01   & 2.74337e-01   & 1.64096e-01   & 0.1619160     & 5.58886e-04  \\\\\n",
       "\t X             & rs2306736     & C             & T             &  75908        & 130843        &  56870        & 118635        & 103318        & 4.96330e-01   & 4.97392e-01   & 5.36109e-01   & 0.5345050     & 2.44207e-01  \\\\\n",
       "\t X             & Affx-92044070 & AT            & A             &      0        &     20        & 237148        &      0        & 196223        & 8.43284e-05   & 8.43249e-05   & 4.21642e-05   & 0.0000000     & 2.17114e-03  \\\\\n",
       "\t X             & rs5939320     & G             & A             &  26848        & 114413        & 122715        &  70724        & 151757        & 4.33422e-01   & 4.34055e-01   & 3.18417e-01   & 0.3178880     & 6.81506e-01  \\\\\n",
       "\t X             & rs146462965   & T             & C             &      5        &   6222        & 258426        &   2581        & 220674        & 2.35100e-02   & 2.32706e-02   & 1.17739e-02   & 0.0115608     & 4.90229e-10  \\\\\n",
       "\t X             & rs1970797     & T             & C             & 198341        &  60873        &   4852        & 192439        &  30333        & 2.30522e-01   & 2.31554e-01   & 8.66365e-01   & 0.8638380     & 1.00389e-03  \\\\\n",
       "\\end{tabular}\n"
      ],
      "text/markdown": [
       "\n",
       "V1 | V2 | V3 | V4 | V5 | V6 | V7 | V8 | V9 | V10 | V11 | V12 | V13 | V14 | \n",
       "|---|---|---|---|---|---|\n",
       "| X             | rs60075487    | A             | G             |   7340        |  72122        | 185023        |  36077        | 186736        | 2.72688e-01   | 2.74337e-01   | 1.64096e-01   | 0.1619160     | 5.58886e-04   | \n",
       "| X             | rs2306736     | C             | T             |  75908        | 130843        |  56870        | 118635        | 103318        | 4.96330e-01   | 4.97392e-01   | 5.36109e-01   | 0.5345050     | 2.44207e-01   | \n",
       "| X             | Affx-92044070 | AT            | A             |      0        |     20        | 237148        |      0        | 196223        | 8.43284e-05   | 8.43249e-05   | 4.21642e-05   | 0.0000000     | 2.17114e-03   | \n",
       "| X             | rs5939320     | G             | A             |  26848        | 114413        | 122715        |  70724        | 151757        | 4.33422e-01   | 4.34055e-01   | 3.18417e-01   | 0.3178880     | 6.81506e-01   | \n",
       "| X             | rs146462965   | T             | C             |      5        |   6222        | 258426        |   2581        | 220674        | 2.35100e-02   | 2.32706e-02   | 1.17739e-02   | 0.0115608     | 4.90229e-10   | \n",
       "| X             | rs1970797     | T             | C             | 198341        |  60873        |   4852        | 192439        |  30333        | 2.30522e-01   | 2.31554e-01   | 8.66365e-01   | 0.8638380     | 1.00389e-03   | \n",
       "\n",
       "\n"
      ],
      "text/plain": [
       "  V1 V2            V3 V4 V5     V6     V7     V8     V9     V10        \n",
       "1 X  rs60075487    A  G    7340  72122 185023  36077 186736 2.72688e-01\n",
       "2 X  rs2306736     C  T   75908 130843  56870 118635 103318 4.96330e-01\n",
       "3 X  Affx-92044070 AT A       0     20 237148      0 196223 8.43284e-05\n",
       "4 X  rs5939320     G  A   26848 114413 122715  70724 151757 4.33422e-01\n",
       "5 X  rs146462965   T  C       5   6222 258426   2581 220674 2.35100e-02\n",
       "6 X  rs1970797     T  C  198341  60873   4852 192439  30333 2.30522e-01\n",
       "  V11         V12         V13       V14        \n",
       "1 2.74337e-01 1.64096e-01 0.1619160 5.58886e-04\n",
       "2 4.97392e-01 5.36109e-01 0.5345050 2.44207e-01\n",
       "3 8.43249e-05 4.21642e-05 0.0000000 2.17114e-03\n",
       "4 4.34055e-01 3.18417e-01 0.3178880 6.81506e-01\n",
       "5 2.32706e-02 1.17739e-02 0.0115608 4.90229e-10\n",
       "6 2.31554e-01 8.66365e-01 0.8638380 1.00389e-03"
      ]
     },
     "metadata": {},
     "output_type": "display_data"
    },
    {
     "data": {
      "text/html": [
       "<table>\n",
       "<thead><tr><th scope=col>V1</th><th scope=col>V2</th><th scope=col>V3</th><th scope=col>V4</th><th scope=col>V5</th><th scope=col>V6</th><th scope=col>V7</th><th scope=col>V8</th><th scope=col>V9</th><th scope=col>V10</th></tr></thead>\n",
       "<tbody>\n",
       "\t<tr><td>XY          </td><td>rs34557243  </td><td>A           </td><td>C           </td><td>  1526      </td><td> 34508      </td><td>450367      </td><td>0.0709456   </td><td>0.0742388   </td><td>1.15550e-163</td></tr>\n",
       "\t<tr><td>XY          </td><td>rs28494123  </td><td>G           </td><td>A           </td><td>136003      </td><td>230107      </td><td>117847      </td><td>0.4754700   </td><td>0.4992960   </td><td>1.04200e-241</td></tr>\n",
       "\t<tr><td>XY          </td><td>rs28590175  </td><td>G           </td><td>A           </td><td>  4117      </td><td> 37497      </td><td>446013      </td><td>0.0768969   </td><td>0.0893851   </td><td> 0.00000e+00</td></tr>\n",
       "\t<tr><td>XY          </td><td>rs117654552 </td><td>G           </td><td>C           </td><td>  1714      </td><td> 35077      </td><td>450347      </td><td>0.0720063   </td><td>0.0759194   </td><td>3.85634e-215</td></tr>\n",
       "\t<tr><td>XY          </td><td>rs28491545  </td><td>C           </td><td>A           </td><td>136946      </td><td>233527      </td><td>116337      </td><td>0.4797090   </td><td>0.4991040   </td><td>6.63162e-162</td></tr>\n",
       "\t<tr><td>XY          </td><td>rs73174453  </td><td>T           </td><td>G           </td><td>141590      </td><td>240549      </td><td>104614      </td><td>0.4941910   </td><td>0.4971150   </td><td> 4.07944e-05</td></tr>\n",
       "</tbody>\n",
       "</table>\n"
      ],
      "text/latex": [
       "\\begin{tabular}{r|llllllllll}\n",
       " V1 & V2 & V3 & V4 & V5 & V6 & V7 & V8 & V9 & V10\\\\\n",
       "\\hline\n",
       "\t XY           & rs34557243   & A            & C            &   1526       &  34508       & 450367       & 0.0709456    & 0.0742388    & 1.15550e-163\\\\\n",
       "\t XY           & rs28494123   & G            & A            & 136003       & 230107       & 117847       & 0.4754700    & 0.4992960    & 1.04200e-241\\\\\n",
       "\t XY           & rs28590175   & G            & A            &   4117       &  37497       & 446013       & 0.0768969    & 0.0893851    &  0.00000e+00\\\\\n",
       "\t XY           & rs117654552  & G            & C            &   1714       &  35077       & 450347       & 0.0720063    & 0.0759194    & 3.85634e-215\\\\\n",
       "\t XY           & rs28491545   & C            & A            & 136946       & 233527       & 116337       & 0.4797090    & 0.4991040    & 6.63162e-162\\\\\n",
       "\t XY           & rs73174453   & T            & G            & 141590       & 240549       & 104614       & 0.4941910    & 0.4971150    &  4.07944e-05\\\\\n",
       "\\end{tabular}\n"
      ],
      "text/markdown": [
       "\n",
       "V1 | V2 | V3 | V4 | V5 | V6 | V7 | V8 | V9 | V10 | \n",
       "|---|---|---|---|---|---|\n",
       "| XY           | rs34557243   | A            | C            |   1526       |  34508       | 450367       | 0.0709456    | 0.0742388    | 1.15550e-163 | \n",
       "| XY           | rs28494123   | G            | A            | 136003       | 230107       | 117847       | 0.4754700    | 0.4992960    | 1.04200e-241 | \n",
       "| XY           | rs28590175   | G            | A            |   4117       |  37497       | 446013       | 0.0768969    | 0.0893851    |  0.00000e+00 | \n",
       "| XY           | rs117654552  | G            | C            |   1714       |  35077       | 450347       | 0.0720063    | 0.0759194    | 3.85634e-215 | \n",
       "| XY           | rs28491545   | C            | A            | 136946       | 233527       | 116337       | 0.4797090    | 0.4991040    | 6.63162e-162 | \n",
       "| XY           | rs73174453   | T            | G            | 141590       | 240549       | 104614       | 0.4941910    | 0.4971150    |  4.07944e-05 | \n",
       "\n",
       "\n"
      ],
      "text/plain": [
       "  V1 V2          V3 V4 V5     V6     V7     V8        V9        V10         \n",
       "1 XY rs34557243  A  C    1526  34508 450367 0.0709456 0.0742388 1.15550e-163\n",
       "2 XY rs28494123  G  A  136003 230107 117847 0.4754700 0.4992960 1.04200e-241\n",
       "3 XY rs28590175  G  A    4117  37497 446013 0.0768969 0.0893851  0.00000e+00\n",
       "4 XY rs117654552 G  C    1714  35077 450347 0.0720063 0.0759194 3.85634e-215\n",
       "5 XY rs28491545  C  A  136946 233527 116337 0.4797090 0.4991040 6.63162e-162\n",
       "6 XY rs73174453  T  G  141590 240549 104614 0.4941910 0.4971150  4.07944e-05"
      ]
     },
     "metadata": {},
     "output_type": "display_data"
    }
   ],
   "source": [
    "hardyX <- read.table(\"../data/chr_qc/hardy_X.out.hardy.x\", sep=\"\", header=FALSE)\n",
    "colnames(hardyX) <- c(\"chr\", \"ID\", \"ref\", \"alt\", \"hom-ref_count\", \"ref-alt_het\", \"nmiss\", \"male_ref_count\", \"male_alt_count\", \n",
    "                        \"hetfreq\",\"sexaf\", \"femalep\", \"p\")\n",
    "head(hardyX)\n",
    "\n",
    "hardyXY <- read.table(\"../data/chr_qc/hardy_XY.out.hardy\", sep=\"\", header=FALSE)\n",
    "colnames(hardyXY) <- c(\"chr\", \"ID\", \"ref\", \"alt\", \"hom-ref_count\", \"ref-alt_het\", \"nmiss\", \"hetfreq\", \"p\")\n",
    "\n",
    "head(hardyXY)\n"
   ]
  },
  {
   "cell_type": "markdown",
   "metadata": {},
   "source": [
    "### GENERATED QUANTITIES"
   ]
  },
  {
   "cell_type": "code",
   "execution_count": null,
   "metadata": {
    "collapsed": true
   },
   "outputs": [],
   "source": []
  }
 ],
 "metadata": {
  "kernelspec": {
   "display_name": "R",
   "language": "R",
   "name": "ir"
  },
  "language_info": {
   "codemirror_mode": "r",
   "file_extension": ".r",
   "mimetype": "text/x-r-source",
   "name": "R",
   "pygments_lexer": "r",
   "version": "3.4.0"
  }
 },
 "nbformat": 4,
 "nbformat_minor": 2
}
