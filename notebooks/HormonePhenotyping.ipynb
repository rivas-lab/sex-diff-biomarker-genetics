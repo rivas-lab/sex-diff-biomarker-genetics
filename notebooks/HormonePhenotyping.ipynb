{
 "cells": [
  {
   "cell_type": "markdown",
   "metadata": {},
   "source": [
    "### Hormone phenotyping\n",
    "##### E Flynn\n",
    "##### Last updated: 6/5/2019\n",
    "\n",
    "The goal of this notebook is to extract the hormone-related phenotypes. These include:\n",
    "* pregnancy\n",
    "* menopause status\n",
    "* pill/HRT\n",
    "* menstrual phase\n",
    "\n",
    "\n",
    "We also set up the phenotype definition for menopause:\n",
    "* Pre-menopause: stated they have not reached menopause -AND- are less than 60 years old\n",
    "* Post-menopause: >2 years post menopause -AND- had menopause after age 40\n",
    "* Peri-menopause: w/in 2y menopause\n",
    "* Premature_menopause: menopause less than age 40\n",
    "* Unlikely_pre: greater than 60y and says that not reached menopause\n",
    "* Missing: prefer not to answer or missing\n",
    "\n",
    "TODO: age is age at visit 0! fix menopause determination for later visits based on this"
   ]
  },
  {
   "cell_type": "code",
   "execution_count": 1,
   "metadata": {},
   "outputs": [
    {
     "name": "stderr",
     "output_type": "stream",
     "text": [
      "Loading required package: tidyverse\n",
      "── Attaching packages ─────────────────────────────────────── tidyverse 1.2.1 ──\n",
      "✔ ggplot2 2.2.1     ✔ purrr   0.2.4\n",
      "✔ tibble  1.4.2     ✔ dplyr   0.7.4\n",
      "✔ tidyr   0.8.1     ✔ stringr 1.3.0\n",
      "✔ readr   1.1.1     ✔ forcats 0.3.0\n",
      "── Conflicts ────────────────────────────────────────── tidyverse_conflicts() ──\n",
      "✖ dplyr::filter() masks stats::filter()\n",
      "✖ dplyr::lag()    masks stats::lag()\n",
      "Loading required package: reshape2\n",
      "\n",
      "Attaching package: ‘reshape2’\n",
      "\n",
      "The following object is masked from ‘package:tidyr’:\n",
      "\n",
      "    smiths\n",
      "\n"
     ]
    }
   ],
   "source": [
    "require('tidyverse')\n",
    "require('dplyr')\n",
    "require('reshape2')\n",
    "options(stringsAsFactors=FALSE)\n"
   ]
  },
  {
   "cell_type": "code",
   "execution_count": 2,
   "metadata": {
    "collapsed": true
   },
   "outputs": [],
   "source": [
    "ss_phe <- read.table(\"../phe_extraction/sex_spec_pheno.txt\", header=TRUE)"
   ]
  },
  {
   "cell_type": "code",
   "execution_count": 3,
   "metadata": {},
   "outputs": [
    {
     "data": {
      "text/html": [
       "<table>\n",
       "<thead><tr><th scope=col>IID</th><th scope=col>age</th><th scope=col>sex</th><th scope=col>f.3140.0.0</th><th scope=col>f.3140.1.0</th><th scope=col>f.3140.2.0</th><th scope=col>f.2724.0.0</th><th scope=col>f.2724.1.0</th><th scope=col>f.2724.2.0</th><th scope=col>f.2804.0.0</th><th scope=col>⋯</th><th scope=col>f.3591.2.0</th><th scope=col>f.3700.0.0</th><th scope=col>f.3700.1.0</th><th scope=col>f.3700.2.0</th><th scope=col>f.3710.0.0</th><th scope=col>f.3710.1.0</th><th scope=col>f.3710.2.0</th><th scope=col>f.3720.0.0</th><th scope=col>f.3720.1.0</th><th scope=col>f.3720.2.0</th></tr></thead>\n",
       "<tbody>\n",
       "\t<tr><td>2502845</td><td>50     </td><td>1      </td><td>NA     </td><td>NA     </td><td>NA     </td><td>NA     </td><td>NA     </td><td>NA     </td><td>NA     </td><td>⋯      </td><td>NA     </td><td>NA     </td><td>NA     </td><td>NA     </td><td>NA     </td><td>NA     </td><td>NA     </td><td>NA     </td><td>NA     </td><td>NA     </td></tr>\n",
       "\t<tr><td>2314965</td><td>55     </td><td>0      </td><td> 0     </td><td>NA     </td><td>NA     </td><td> 3     </td><td>NA     </td><td>NA     </td><td>27     </td><td>⋯      </td><td>NA     </td><td>NA     </td><td>NA     </td><td>NA     </td><td>NA     </td><td>NA     </td><td>NA     </td><td> 0     </td><td>NA     </td><td>NA     </td></tr>\n",
       "\t<tr><td>1142584</td><td>60     </td><td>0      </td><td> 0     </td><td>NA     </td><td>NA     </td><td> 1     </td><td>NA     </td><td>NA     </td><td>35     </td><td>⋯      </td><td>NA     </td><td>NA     </td><td>NA     </td><td>NA     </td><td>NA     </td><td>NA     </td><td>NA     </td><td>NA     </td><td>NA     </td><td>NA     </td></tr>\n",
       "\t<tr><td>3665122</td><td>74     </td><td>0      </td><td> 0     </td><td>NA     </td><td>NA     </td><td> 1     </td><td>NA     </td><td>NA     </td><td>NA     </td><td>⋯      </td><td>NA     </td><td>NA     </td><td>NA     </td><td>NA     </td><td>NA     </td><td>NA     </td><td>NA     </td><td>NA     </td><td>NA     </td><td>NA     </td></tr>\n",
       "\t<tr><td>4377492</td><td>65     </td><td>0      </td><td> 0     </td><td>NA     </td><td>NA     </td><td> 1     </td><td>NA     </td><td>NA     </td><td>52     </td><td>⋯      </td><td>NA     </td><td>NA     </td><td>NA     </td><td>NA     </td><td>NA     </td><td>NA     </td><td>NA     </td><td>NA     </td><td>NA     </td><td>NA     </td></tr>\n",
       "\t<tr><td>2652670</td><td>58     </td><td>1      </td><td>NA     </td><td>NA     </td><td>NA     </td><td>NA     </td><td>NA     </td><td>NA     </td><td>NA     </td><td>⋯      </td><td>NA     </td><td>NA     </td><td>NA     </td><td>NA     </td><td>NA     </td><td>NA     </td><td>NA     </td><td>NA     </td><td>NA     </td><td>NA     </td></tr>\n",
       "</tbody>\n",
       "</table>\n"
      ],
      "text/latex": [
       "\\begin{tabular}{r|lllllllllllllllllllllllllllllllll}\n",
       " IID & age & sex & f.3140.0.0 & f.3140.1.0 & f.3140.2.0 & f.2724.0.0 & f.2724.1.0 & f.2724.2.0 & f.2804.0.0 & ⋯ & f.3591.2.0 & f.3700.0.0 & f.3700.1.0 & f.3700.2.0 & f.3710.0.0 & f.3710.1.0 & f.3710.2.0 & f.3720.0.0 & f.3720.1.0 & f.3720.2.0\\\\\n",
       "\\hline\n",
       "\t 2502845 & 50      & 1       & NA      & NA      & NA      & NA      & NA      & NA      & NA      & ⋯       & NA      & NA      & NA      & NA      & NA      & NA      & NA      & NA      & NA      & NA     \\\\\n",
       "\t 2314965 & 55      & 0       &  0      & NA      & NA      &  3      & NA      & NA      & 27      & ⋯       & NA      & NA      & NA      & NA      & NA      & NA      & NA      &  0      & NA      & NA     \\\\\n",
       "\t 1142584 & 60      & 0       &  0      & NA      & NA      &  1      & NA      & NA      & 35      & ⋯       & NA      & NA      & NA      & NA      & NA      & NA      & NA      & NA      & NA      & NA     \\\\\n",
       "\t 3665122 & 74      & 0       &  0      & NA      & NA      &  1      & NA      & NA      & NA      & ⋯       & NA      & NA      & NA      & NA      & NA      & NA      & NA      & NA      & NA      & NA     \\\\\n",
       "\t 4377492 & 65      & 0       &  0      & NA      & NA      &  1      & NA      & NA      & 52      & ⋯       & NA      & NA      & NA      & NA      & NA      & NA      & NA      & NA      & NA      & NA     \\\\\n",
       "\t 2652670 & 58      & 1       & NA      & NA      & NA      & NA      & NA      & NA      & NA      & ⋯       & NA      & NA      & NA      & NA      & NA      & NA      & NA      & NA      & NA      & NA     \\\\\n",
       "\\end{tabular}\n"
      ],
      "text/markdown": [
       "\n",
       "IID | age | sex | f.3140.0.0 | f.3140.1.0 | f.3140.2.0 | f.2724.0.0 | f.2724.1.0 | f.2724.2.0 | f.2804.0.0 | ⋯ | f.3591.2.0 | f.3700.0.0 | f.3700.1.0 | f.3700.2.0 | f.3710.0.0 | f.3710.1.0 | f.3710.2.0 | f.3720.0.0 | f.3720.1.0 | f.3720.2.0 | \n",
       "|---|---|---|---|---|---|\n",
       "| 2502845 | 50      | 1       | NA      | NA      | NA      | NA      | NA      | NA      | NA      | ⋯       | NA      | NA      | NA      | NA      | NA      | NA      | NA      | NA      | NA      | NA      | \n",
       "| 2314965 | 55      | 0       |  0      | NA      | NA      |  3      | NA      | NA      | 27      | ⋯       | NA      | NA      | NA      | NA      | NA      | NA      | NA      |  0      | NA      | NA      | \n",
       "| 1142584 | 60      | 0       |  0      | NA      | NA      |  1      | NA      | NA      | 35      | ⋯       | NA      | NA      | NA      | NA      | NA      | NA      | NA      | NA      | NA      | NA      | \n",
       "| 3665122 | 74      | 0       |  0      | NA      | NA      |  1      | NA      | NA      | NA      | ⋯       | NA      | NA      | NA      | NA      | NA      | NA      | NA      | NA      | NA      | NA      | \n",
       "| 4377492 | 65      | 0       |  0      | NA      | NA      |  1      | NA      | NA      | 52      | ⋯       | NA      | NA      | NA      | NA      | NA      | NA      | NA      | NA      | NA      | NA      | \n",
       "| 2652670 | 58      | 1       | NA      | NA      | NA      | NA      | NA      | NA      | NA      | ⋯       | NA      | NA      | NA      | NA      | NA      | NA      | NA      | NA      | NA      | NA      | \n",
       "\n",
       "\n"
      ],
      "text/plain": [
       "  IID     age sex f.3140.0.0 f.3140.1.0 f.3140.2.0 f.2724.0.0 f.2724.1.0\n",
       "1 2502845 50  1   NA         NA         NA         NA         NA        \n",
       "2 2314965 55  0    0         NA         NA          3         NA        \n",
       "3 1142584 60  0    0         NA         NA          1         NA        \n",
       "4 3665122 74  0    0         NA         NA          1         NA        \n",
       "5 4377492 65  0    0         NA         NA          1         NA        \n",
       "6 2652670 58  1   NA         NA         NA         NA         NA        \n",
       "  f.2724.2.0 f.2804.0.0 ⋯ f.3591.2.0 f.3700.0.0 f.3700.1.0 f.3700.2.0\n",
       "1 NA         NA         ⋯ NA         NA         NA         NA        \n",
       "2 NA         27         ⋯ NA         NA         NA         NA        \n",
       "3 NA         35         ⋯ NA         NA         NA         NA        \n",
       "4 NA         NA         ⋯ NA         NA         NA         NA        \n",
       "5 NA         52         ⋯ NA         NA         NA         NA        \n",
       "6 NA         NA         ⋯ NA         NA         NA         NA        \n",
       "  f.3710.0.0 f.3710.1.0 f.3710.2.0 f.3720.0.0 f.3720.1.0 f.3720.2.0\n",
       "1 NA         NA         NA         NA         NA         NA        \n",
       "2 NA         NA         NA          0         NA         NA        \n",
       "3 NA         NA         NA         NA         NA         NA        \n",
       "4 NA         NA         NA         NA         NA         NA        \n",
       "5 NA         NA         NA         NA         NA         NA        \n",
       "6 NA         NA         NA         NA         NA         NA        "
      ]
     },
     "metadata": {},
     "output_type": "display_data"
    }
   ],
   "source": [
    "head(ss_phe)"
   ]
  },
  {
   "cell_type": "code",
   "execution_count": null,
   "metadata": {
    "collapsed": true
   },
   "outputs": [],
   "source": [
    "# TODO - parse out correct AGE variable\n"
   ]
  },
  {
   "cell_type": "code",
   "execution_count": 3,
   "metadata": {},
   "outputs": [
    {
     "data": {
      "text/html": [
       "<table>\n",
       "<thead><tr><th scope=col>IID</th><th scope=col>age</th><th scope=col>sex</th><th scope=col>variable</th><th scope=col>value</th></tr></thead>\n",
       "<tbody>\n",
       "\t<tr><td>2502845   </td><td>50        </td><td>1         </td><td>f.3140.0.0</td><td>NA        </td></tr>\n",
       "\t<tr><td>2314965   </td><td>55        </td><td>0         </td><td>f.3140.0.0</td><td> 0        </td></tr>\n",
       "\t<tr><td>1142584   </td><td>60        </td><td>0         </td><td>f.3140.0.0</td><td> 0        </td></tr>\n",
       "\t<tr><td>3665122   </td><td>74        </td><td>0         </td><td>f.3140.0.0</td><td> 0        </td></tr>\n",
       "\t<tr><td>4377492   </td><td>65        </td><td>0         </td><td>f.3140.0.0</td><td> 0        </td></tr>\n",
       "\t<tr><td>2652670   </td><td>58        </td><td>1         </td><td>f.3140.0.0</td><td>NA        </td></tr>\n",
       "</tbody>\n",
       "</table>\n"
      ],
      "text/latex": [
       "\\begin{tabular}{r|lllll}\n",
       " IID & age & sex & variable & value\\\\\n",
       "\\hline\n",
       "\t 2502845    & 50         & 1          & f.3140.0.0 & NA        \\\\\n",
       "\t 2314965    & 55         & 0          & f.3140.0.0 &  0        \\\\\n",
       "\t 1142584    & 60         & 0          & f.3140.0.0 &  0        \\\\\n",
       "\t 3665122    & 74         & 0          & f.3140.0.0 &  0        \\\\\n",
       "\t 4377492    & 65         & 0          & f.3140.0.0 &  0        \\\\\n",
       "\t 2652670    & 58         & 1          & f.3140.0.0 & NA        \\\\\n",
       "\\end{tabular}\n"
      ],
      "text/markdown": [
       "\n",
       "IID | age | sex | variable | value | \n",
       "|---|---|---|---|---|---|\n",
       "| 2502845    | 50         | 1          | f.3140.0.0 | NA         | \n",
       "| 2314965    | 55         | 0          | f.3140.0.0 |  0         | \n",
       "| 1142584    | 60         | 0          | f.3140.0.0 |  0         | \n",
       "| 3665122    | 74         | 0          | f.3140.0.0 |  0         | \n",
       "| 4377492    | 65         | 0          | f.3140.0.0 |  0         | \n",
       "| 2652670    | 58         | 1          | f.3140.0.0 | NA         | \n",
       "\n",
       "\n"
      ],
      "text/plain": [
       "  IID     age sex variable   value\n",
       "1 2502845 50  1   f.3140.0.0 NA   \n",
       "2 2314965 55  0   f.3140.0.0  0   \n",
       "3 1142584 60  0   f.3140.0.0  0   \n",
       "4 3665122 74  0   f.3140.0.0  0   \n",
       "5 4377492 65  0   f.3140.0.0  0   \n",
       "6 2652670 58  1   f.3140.0.0 NA   "
      ]
     },
     "metadata": {},
     "output_type": "display_data"
    }
   ],
   "source": [
    "ss_phe_long <- melt(ss_phe, id.vars=c(\"IID\", \"age\", \"sex\"))\n",
    "head(ss_phe_long)"
   ]
  },
  {
   "cell_type": "code",
   "execution_count": 4,
   "metadata": {
    "collapsed": true
   },
   "outputs": [],
   "source": [
    "ss_phe_long$variable <- as.character(ss_phe_long$variable)"
   ]
  },
  {
   "cell_type": "code",
   "execution_count": 5,
   "metadata": {
    "scrolled": true
   },
   "outputs": [
    {
     "data": {
      "text/html": [
       "<table>\n",
       "<thead><tr><th scope=col>IID</th><th scope=col>age</th><th scope=col>sex</th><th scope=col>NA</th><th scope=col>trait</th><th scope=col>visit</th><th scope=col>NA</th><th scope=col>value</th></tr></thead>\n",
       "<tbody>\n",
       "\t<tr><td>2502845</td><td>50     </td><td>1      </td><td>f      </td><td>3140   </td><td>0      </td><td>0      </td><td>NA     </td></tr>\n",
       "\t<tr><td>2314965</td><td>55     </td><td>0      </td><td>f      </td><td>3140   </td><td>0      </td><td>0      </td><td> 0     </td></tr>\n",
       "\t<tr><td>1142584</td><td>60     </td><td>0      </td><td>f      </td><td>3140   </td><td>0      </td><td>0      </td><td> 0     </td></tr>\n",
       "\t<tr><td>3665122</td><td>74     </td><td>0      </td><td>f      </td><td>3140   </td><td>0      </td><td>0      </td><td> 0     </td></tr>\n",
       "\t<tr><td>4377492</td><td>65     </td><td>0      </td><td>f      </td><td>3140   </td><td>0      </td><td>0      </td><td> 0     </td></tr>\n",
       "\t<tr><td>2652670</td><td>58     </td><td>1      </td><td>f      </td><td>3140   </td><td>0      </td><td>0      </td><td>NA     </td></tr>\n",
       "</tbody>\n",
       "</table>\n"
      ],
      "text/latex": [
       "\\begin{tabular}{r|llllllll}\n",
       " IID & age & sex & NA & trait & visit & NA & value\\\\\n",
       "\\hline\n",
       "\t 2502845 & 50      & 1       & f       & 3140    & 0       & 0       & NA     \\\\\n",
       "\t 2314965 & 55      & 0       & f       & 3140    & 0       & 0       &  0     \\\\\n",
       "\t 1142584 & 60      & 0       & f       & 3140    & 0       & 0       &  0     \\\\\n",
       "\t 3665122 & 74      & 0       & f       & 3140    & 0       & 0       &  0     \\\\\n",
       "\t 4377492 & 65      & 0       & f       & 3140    & 0       & 0       &  0     \\\\\n",
       "\t 2652670 & 58      & 1       & f       & 3140    & 0       & 0       & NA     \\\\\n",
       "\\end{tabular}\n"
      ],
      "text/markdown": [
       "\n",
       "IID | age | sex | NA | trait | visit | NA | value | \n",
       "|---|---|---|---|---|---|\n",
       "| 2502845 | 50      | 1       | f       | 3140    | 0       | 0       | NA      | \n",
       "| 2314965 | 55      | 0       | f       | 3140    | 0       | 0       |  0      | \n",
       "| 1142584 | 60      | 0       | f       | 3140    | 0       | 0       |  0      | \n",
       "| 3665122 | 74      | 0       | f       | 3140    | 0       | 0       |  0      | \n",
       "| 4377492 | 65      | 0       | f       | 3140    | 0       | 0       |  0      | \n",
       "| 2652670 | 58      | 1       | f       | 3140    | 0       | 0       | NA      | \n",
       "\n",
       "\n"
      ],
      "text/plain": [
       "  IID     age sex <NA> trait visit <NA> value\n",
       "1 2502845 50  1   f    3140  0     0    NA   \n",
       "2 2314965 55  0   f    3140  0     0     0   \n",
       "3 1142584 60  0   f    3140  0     0     0   \n",
       "4 3665122 74  0   f    3140  0     0     0   \n",
       "5 4377492 65  0   f    3140  0     0     0   \n",
       "6 2652670 58  1   f    3140  0     0    NA   "
      ]
     },
     "metadata": {},
     "output_type": "display_data"
    }
   ],
   "source": [
    "ss_phe_long2 <- ss_phe_long %>% separate(variable, c(NA, \"trait\", \"visit\", NA))\n",
    "head(ss_phe_long2)"
   ]
  },
  {
   "cell_type": "code",
   "execution_count": 8,
   "metadata": {
    "collapsed": true,
    "scrolled": true
   },
   "outputs": [],
   "source": [
    "ss_mat <- dcast(ss_phe_long2,  IID + visit ~ trait, value.var=\"value\")"
   ]
  },
  {
   "cell_type": "code",
   "execution_count": 10,
   "metadata": {},
   "outputs": [
    {
     "data": {
      "text/plain": [
       "keep.rows\n",
       "  FALSE    TRUE \n",
       "1212655  295235 "
      ]
     },
     "metadata": {},
     "output_type": "display_data"
    }
   ],
   "source": [
    "# remove rows w all NAsz\n",
    "keep.rows <- apply(ss_mat[,3:ncol(ss_mat)], 1, function(x) any(!is.na(x)))\n",
    "table(keep.rows)\n",
    "ss_mat2 <- ss_mat[keep.rows,]\n",
    "\n"
   ]
  },
  {
   "cell_type": "code",
   "execution_count": 12,
   "metadata": {},
   "outputs": [
    {
     "data": {
      "text/html": [
       "<table>\n",
       "<thead><tr><th scope=col>IID</th><th scope=col>visit</th><th scope=col>2724</th><th scope=col>2804</th><th scope=col>2834</th><th scope=col>3140</th><th scope=col>3546</th><th scope=col>3581</th><th scope=col>3591</th><th scope=col>3700</th><th scope=col>3710</th><th scope=col>3720</th></tr></thead>\n",
       "<tbody>\n",
       "\t<tr><td>1000028</td><td>0      </td><td>0      </td><td>26     </td><td>0      </td><td>0      </td><td>NA     </td><td>NA     </td><td>0      </td><td>20     </td><td>28     </td><td> 0     </td></tr>\n",
       "\t<tr><td>1000045</td><td>0      </td><td>1      </td><td>-1     </td><td>0      </td><td>0      </td><td>60     </td><td>54     </td><td>0      </td><td>NA     </td><td>NA     </td><td>NA     </td></tr>\n",
       "\t<tr><td>1000052</td><td>0      </td><td>1      </td><td>-1     </td><td>0      </td><td>0      </td><td>-1     </td><td>-1     </td><td>0      </td><td>NA     </td><td>NA     </td><td>NA     </td></tr>\n",
       "\t<tr><td>1000069</td><td>0      </td><td>1      </td><td>26     </td><td>0      </td><td>0      </td><td>NA     </td><td>-1     </td><td>1      </td><td>NA     </td><td>NA     </td><td>NA     </td></tr>\n",
       "\t<tr><td>1000087</td><td>0      </td><td>1      </td><td>NA     </td><td>0      </td><td>0      </td><td>NA     </td><td>50     </td><td>0      </td><td>NA     </td><td>NA     </td><td>NA     </td></tr>\n",
       "\t<tr><td>1000118</td><td>0      </td><td>1      </td><td>-1     </td><td>0      </td><td>0      </td><td>-1     </td><td>53     </td><td>0      </td><td>NA     </td><td>NA     </td><td>NA     </td></tr>\n",
       "</tbody>\n",
       "</table>\n"
      ],
      "text/latex": [
       "\\begin{tabular}{r|llllllllllll}\n",
       " IID & visit & 2724 & 2804 & 2834 & 3140 & 3546 & 3581 & 3591 & 3700 & 3710 & 3720\\\\\n",
       "\\hline\n",
       "\t 1000028 & 0       & 0       & 26      & 0       & 0       & NA      & NA      & 0       & 20      & 28      &  0     \\\\\n",
       "\t 1000045 & 0       & 1       & -1      & 0       & 0       & 60      & 54      & 0       & NA      & NA      & NA     \\\\\n",
       "\t 1000052 & 0       & 1       & -1      & 0       & 0       & -1      & -1      & 0       & NA      & NA      & NA     \\\\\n",
       "\t 1000069 & 0       & 1       & 26      & 0       & 0       & NA      & -1      & 1       & NA      & NA      & NA     \\\\\n",
       "\t 1000087 & 0       & 1       & NA      & 0       & 0       & NA      & 50      & 0       & NA      & NA      & NA     \\\\\n",
       "\t 1000118 & 0       & 1       & -1      & 0       & 0       & -1      & 53      & 0       & NA      & NA      & NA     \\\\\n",
       "\\end{tabular}\n"
      ],
      "text/markdown": [
       "\n",
       "IID | visit | 2724 | 2804 | 2834 | 3140 | 3546 | 3581 | 3591 | 3700 | 3710 | 3720 | \n",
       "|---|---|---|---|---|---|\n",
       "| 1000028 | 0       | 0       | 26      | 0       | 0       | NA      | NA      | 0       | 20      | 28      |  0      | \n",
       "| 1000045 | 0       | 1       | -1      | 0       | 0       | 60      | 54      | 0       | NA      | NA      | NA      | \n",
       "| 1000052 | 0       | 1       | -1      | 0       | 0       | -1      | -1      | 0       | NA      | NA      | NA      | \n",
       "| 1000069 | 0       | 1       | 26      | 0       | 0       | NA      | -1      | 1       | NA      | NA      | NA      | \n",
       "| 1000087 | 0       | 1       | NA      | 0       | 0       | NA      | 50      | 0       | NA      | NA      | NA      | \n",
       "| 1000118 | 0       | 1       | -1      | 0       | 0       | -1      | 53      | 0       | NA      | NA      | NA      | \n",
       "\n",
       "\n"
      ],
      "text/plain": [
       "  IID     visit 2724 2804 2834 3140 3546 3581 3591 3700 3710 3720\n",
       "1 1000028 0     0    26   0    0    NA   NA   0    20   28    0  \n",
       "2 1000045 0     1    -1   0    0    60   54   0    NA   NA   NA  \n",
       "3 1000052 0     1    -1   0    0    -1   -1   0    NA   NA   NA  \n",
       "4 1000069 0     1    26   0    0    NA   -1   1    NA   NA   NA  \n",
       "5 1000087 0     1    NA   0    0    NA   50   0    NA   NA   NA  \n",
       "6 1000118 0     1    -1   0    0    -1   53   0    NA   NA   NA  "
      ]
     },
     "metadata": {},
     "output_type": "display_data"
    },
    {
     "name": "stderr",
     "output_type": "stream",
     "text": [
      "Joining, by = \"IID\"\n"
     ]
    }
   ],
   "source": [
    "# remove rows w IID < 0\n",
    "ss_mat3 <- filter(ss_mat2, IID >= 0)\n",
    "head(ss_mat3)\n",
    "\n",
    "ss_mat4 <- full_join(select(ss_phe, IID, sex, age), ss_mat3)"
   ]
  },
  {
   "cell_type": "code",
   "execution_count": 15,
   "metadata": {
    "collapsed": true
   },
   "outputs": [],
   "source": [
    "# TODO - age is age at visit 0\n",
    "# TOOD - change coluymn names\n",
    "write.table(ss_mat4, file=\"../data/sex_spec_factor_mat.txt\", row.names=FALSE, quote=FALSE, sep=\"\\t\")"
   ]
  },
  {
   "cell_type": "code",
   "execution_count": 5,
   "metadata": {},
   "outputs": [
    {
     "data": {
      "text/html": [
       "<table>\n",
       "<thead><tr><th scope=col>IID</th><th scope=col>sex</th><th scope=col>age</th><th scope=col>visit</th><th scope=col>X2724</th><th scope=col>X2804</th><th scope=col>X2834</th><th scope=col>X3140</th><th scope=col>X3546</th><th scope=col>X3581</th><th scope=col>X3591</th><th scope=col>X3700</th><th scope=col>X3710</th><th scope=col>X3720</th></tr></thead>\n",
       "<tbody>\n",
       "\t<tr><td>2502845</td><td>1      </td><td>50     </td><td>NA     </td><td>NA     </td><td>NA     </td><td>NA     </td><td>NA     </td><td>NA     </td><td>NA     </td><td>NA     </td><td>NA     </td><td>NA     </td><td>NA     </td></tr>\n",
       "\t<tr><td>2314965</td><td>0      </td><td>55     </td><td> 0     </td><td> 3     </td><td>27     </td><td> 0     </td><td> 0     </td><td>NA     </td><td>NA     </td><td> 0     </td><td>NA     </td><td>NA     </td><td> 0     </td></tr>\n",
       "\t<tr><td>1142584</td><td>0      </td><td>60     </td><td> 0     </td><td> 1     </td><td>35     </td><td> 0     </td><td> 0     </td><td>52     </td><td>45     </td><td> 0     </td><td>NA     </td><td>NA     </td><td>NA     </td></tr>\n",
       "\t<tr><td>3665122</td><td>0      </td><td>74     </td><td> 0     </td><td> 1     </td><td>NA     </td><td> 0     </td><td> 0     </td><td>55     </td><td>42     </td><td> 1     </td><td>NA     </td><td>NA     </td><td>NA     </td></tr>\n",
       "\t<tr><td>4377492</td><td>0      </td><td>65     </td><td> 0     </td><td> 1     </td><td>52     </td><td> 0     </td><td> 0     </td><td>NA     </td><td>52     </td><td> 0     </td><td>NA     </td><td>NA     </td><td>NA     </td></tr>\n",
       "\t<tr><td>2652670</td><td>1      </td><td>58     </td><td>NA     </td><td>NA     </td><td>NA     </td><td>NA     </td><td>NA     </td><td>NA     </td><td>NA     </td><td>NA     </td><td>NA     </td><td>NA     </td><td>NA     </td></tr>\n",
       "</tbody>\n",
       "</table>\n"
      ],
      "text/latex": [
       "\\begin{tabular}{r|llllllllllllll}\n",
       " IID & sex & age & visit & X2724 & X2804 & X2834 & X3140 & X3546 & X3581 & X3591 & X3700 & X3710 & X3720\\\\\n",
       "\\hline\n",
       "\t 2502845 & 1       & 50      & NA      & NA      & NA      & NA      & NA      & NA      & NA      & NA      & NA      & NA      & NA     \\\\\n",
       "\t 2314965 & 0       & 55      &  0      &  3      & 27      &  0      &  0      & NA      & NA      &  0      & NA      & NA      &  0     \\\\\n",
       "\t 1142584 & 0       & 60      &  0      &  1      & 35      &  0      &  0      & 52      & 45      &  0      & NA      & NA      & NA     \\\\\n",
       "\t 3665122 & 0       & 74      &  0      &  1      & NA      &  0      &  0      & 55      & 42      &  1      & NA      & NA      & NA     \\\\\n",
       "\t 4377492 & 0       & 65      &  0      &  1      & 52      &  0      &  0      & NA      & 52      &  0      & NA      & NA      & NA     \\\\\n",
       "\t 2652670 & 1       & 58      & NA      & NA      & NA      & NA      & NA      & NA      & NA      & NA      & NA      & NA      & NA     \\\\\n",
       "\\end{tabular}\n"
      ],
      "text/markdown": [
       "\n",
       "IID | sex | age | visit | X2724 | X2804 | X2834 | X3140 | X3546 | X3581 | X3591 | X3700 | X3710 | X3720 | \n",
       "|---|---|---|---|---|---|\n",
       "| 2502845 | 1       | 50      | NA      | NA      | NA      | NA      | NA      | NA      | NA      | NA      | NA      | NA      | NA      | \n",
       "| 2314965 | 0       | 55      |  0      |  3      | 27      |  0      |  0      | NA      | NA      |  0      | NA      | NA      |  0      | \n",
       "| 1142584 | 0       | 60      |  0      |  1      | 35      |  0      |  0      | 52      | 45      |  0      | NA      | NA      | NA      | \n",
       "| 3665122 | 0       | 74      |  0      |  1      | NA      |  0      |  0      | 55      | 42      |  1      | NA      | NA      | NA      | \n",
       "| 4377492 | 0       | 65      |  0      |  1      | 52      |  0      |  0      | NA      | 52      |  0      | NA      | NA      | NA      | \n",
       "| 2652670 | 1       | 58      | NA      | NA      | NA      | NA      | NA      | NA      | NA      | NA      | NA      | NA      | NA      | \n",
       "\n",
       "\n"
      ],
      "text/plain": [
       "  IID     sex age visit X2724 X2804 X2834 X3140 X3546 X3581 X3591 X3700 X3710\n",
       "1 2502845 1   50  NA    NA    NA    NA    NA    NA    NA    NA    NA    NA   \n",
       "2 2314965 0   55   0     3    27     0     0    NA    NA     0    NA    NA   \n",
       "3 1142584 0   60   0     1    35     0     0    52    45     0    NA    NA   \n",
       "4 3665122 0   74   0     1    NA     0     0    55    42     1    NA    NA   \n",
       "5 4377492 0   65   0     1    52     0     0    NA    52     0    NA    NA   \n",
       "6 2652670 1   58  NA    NA    NA    NA    NA    NA    NA    NA    NA    NA   \n",
       "  X3720\n",
       "1 NA   \n",
       "2  0   \n",
       "3 NA   \n",
       "4 NA   \n",
       "5 NA   \n",
       "6 NA   "
      ]
     },
     "metadata": {},
     "output_type": "display_data"
    },
    {
     "data": {
      "text/html": [
       "<ol class=list-inline>\n",
       "\t<li>'IID'</li>\n",
       "\t<li>'sex'</li>\n",
       "\t<li>'age'</li>\n",
       "\t<li>'visit'</li>\n",
       "\t<li>'X2724'</li>\n",
       "\t<li>'X2804'</li>\n",
       "\t<li>'X2834'</li>\n",
       "\t<li>'X3140'</li>\n",
       "\t<li>'X3546'</li>\n",
       "\t<li>'X3581'</li>\n",
       "\t<li>'X3591'</li>\n",
       "\t<li>'X3700'</li>\n",
       "\t<li>'X3710'</li>\n",
       "\t<li>'X3720'</li>\n",
       "</ol>\n"
      ],
      "text/latex": [
       "\\begin{enumerate*}\n",
       "\\item 'IID'\n",
       "\\item 'sex'\n",
       "\\item 'age'\n",
       "\\item 'visit'\n",
       "\\item 'X2724'\n",
       "\\item 'X2804'\n",
       "\\item 'X2834'\n",
       "\\item 'X3140'\n",
       "\\item 'X3546'\n",
       "\\item 'X3581'\n",
       "\\item 'X3591'\n",
       "\\item 'X3700'\n",
       "\\item 'X3710'\n",
       "\\item 'X3720'\n",
       "\\end{enumerate*}\n"
      ],
      "text/markdown": [
       "1. 'IID'\n",
       "2. 'sex'\n",
       "3. 'age'\n",
       "4. 'visit'\n",
       "5. 'X2724'\n",
       "6. 'X2804'\n",
       "7. 'X2834'\n",
       "8. 'X3140'\n",
       "9. 'X3546'\n",
       "10. 'X3581'\n",
       "11. 'X3591'\n",
       "12. 'X3700'\n",
       "13. 'X3710'\n",
       "14. 'X3720'\n",
       "\n",
       "\n"
      ],
      "text/plain": [
       " [1] \"IID\"   \"sex\"   \"age\"   \"visit\" \"X2724\" \"X2804\" \"X2834\" \"X3140\" \"X3546\"\n",
       "[10] \"X3581\" \"X3591\" \"X3700\" \"X3710\" \"X3720\""
      ]
     },
     "metadata": {},
     "output_type": "display_data"
    },
    {
     "data": {
      "text/plain": [
       "     X3140\n",
       "visit      0      1      2\n",
       "    0 272246    150    222\n",
       "    1  10399      1      1\n",
       "    2  11312      1      5"
      ]
     },
     "metadata": {},
     "output_type": "display_data"
    }
   ],
   "source": [
    "ss_mat4 <- read.delim(file=\"../data/sex_spec_factor_mat.txt\")\n",
    "\n",
    "head(ss_mat4)\n",
    "counts <- sapply(ss_mat4[,2:ncol(ss_mat4)], table)\n",
    "colnames(ss_mat4)\n",
    "table(ss_mat4[,c(\"visit\", \"X3140\")])"
   ]
  },
  {
   "cell_type": "code",
   "execution_count": 9,
   "metadata": {},
   "outputs": [
    {
     "data": {
      "text/html": [
       "<table>\n",
       "<thead><tr><th scope=col>trait</th><th scope=col>category</th><th scope=col>variable_name</th><th scope=col>readable_name</th></tr></thead>\n",
       "<tbody>\n",
       "\t<tr><td>3140                            </td><td>sex specific                    </td><td>pregnant                        </td><td>pregnant                        </td></tr>\n",
       "\t<tr><td>2724                            </td><td>sex specific                    </td><td>menopause                       </td><td>menopause                       </td></tr>\n",
       "\t<tr><td>3581                            </td><td>sex specific                    </td><td>menopause_age                   </td><td>age menopause                   </td></tr>\n",
       "\t<tr><td>3591                            </td><td>sex specific                    </td><td>hysterectomy                    </td><td>hysterectomy                    </td></tr>\n",
       "\t<tr><td>2834                            </td><td>sex specific                    </td><td>oophorectomy                    </td><td>oophorectomy                    </td></tr>\n",
       "\t<tr><td>3700                            </td><td>sex specific                    </td><td>time_since_period               </td><td>time since last menstrual period</td></tr>\n",
       "\t<tr><td>3710                            </td><td>sex specific                    </td><td>menstrual_length                </td><td>length of menstrual cycle       </td></tr>\n",
       "\t<tr><td>3720                            </td><td>sex specific                    </td><td>menstruating                    </td><td>menstruating today              </td></tr>\n",
       "\t<tr><td>2804                            </td><td>sex specific                    </td><td>birth_control                   </td><td>age when last used the pill     </td></tr>\n",
       "\t<tr><td>3546                            </td><td>sex specific                    </td><td>HRT                             </td><td>age when last used HRT          </td></tr>\n",
       "</tbody>\n",
       "</table>\n"
      ],
      "text/latex": [
       "\\begin{tabular}{r|llll}\n",
       " trait & category & variable\\_name & readable\\_name\\\\\n",
       "\\hline\n",
       "\t 3140                             & sex specific                     & pregnant                         & pregnant                        \\\\\n",
       "\t 2724                             & sex specific                     & menopause                        & menopause                       \\\\\n",
       "\t 3581                             & sex specific                     & menopause\\_age                  & age menopause                   \\\\\n",
       "\t 3591                             & sex specific                     & hysterectomy                     & hysterectomy                    \\\\\n",
       "\t 2834                             & sex specific                     & oophorectomy                     & oophorectomy                    \\\\\n",
       "\t 3700                             & sex specific                     & time\\_since\\_period            & time since last menstrual period\\\\\n",
       "\t 3710                             & sex specific                     & menstrual\\_length               & length of menstrual cycle       \\\\\n",
       "\t 3720                             & sex specific                     & menstruating                     & menstruating today              \\\\\n",
       "\t 2804                             & sex specific                     & birth\\_control                  & age when last used the pill     \\\\\n",
       "\t 3546                             & sex specific                     & HRT                              & age when last used HRT          \\\\\n",
       "\\end{tabular}\n"
      ],
      "text/markdown": [
       "\n",
       "trait | category | variable_name | readable_name | \n",
       "|---|---|---|---|---|---|---|---|---|---|\n",
       "| 3140                             | sex specific                     | pregnant                         | pregnant                         | \n",
       "| 2724                             | sex specific                     | menopause                        | menopause                        | \n",
       "| 3581                             | sex specific                     | menopause_age                    | age menopause                    | \n",
       "| 3591                             | sex specific                     | hysterectomy                     | hysterectomy                     | \n",
       "| 2834                             | sex specific                     | oophorectomy                     | oophorectomy                     | \n",
       "| 3700                             | sex specific                     | time_since_period                | time since last menstrual period | \n",
       "| 3710                             | sex specific                     | menstrual_length                 | length of menstrual cycle        | \n",
       "| 3720                             | sex specific                     | menstruating                     | menstruating today               | \n",
       "| 2804                             | sex specific                     | birth_control                    | age when last used the pill      | \n",
       "| 3546                             | sex specific                     | HRT                              | age when last used HRT           | \n",
       "\n",
       "\n"
      ],
      "text/plain": [
       "   trait category     variable_name     readable_name                   \n",
       "1  3140  sex specific pregnant          pregnant                        \n",
       "2  2724  sex specific menopause         menopause                       \n",
       "3  3581  sex specific menopause_age     age menopause                   \n",
       "4  3591  sex specific hysterectomy      hysterectomy                    \n",
       "5  2834  sex specific oophorectomy      oophorectomy                    \n",
       "6  3700  sex specific time_since_period time since last menstrual period\n",
       "7  3710  sex specific menstrual_length  length of menstrual cycle       \n",
       "8  3720  sex specific menstruating      menstruating today              \n",
       "9  2804  sex specific birth_control     age when last used the pill     \n",
       "10 3546  sex specific HRT               age when last used HRT          "
      ]
     },
     "metadata": {},
     "output_type": "display_data"
    }
   ],
   "source": [
    "phe_codes <- read.csv(\"../phe_extraction/ListPheCodes.csv\", stringsAsFactors=FALSE)\n",
    "phe_codes$X <- NULL\n",
    "\n",
    "sex_spec <- filter(phe_codes, category == \"sex specific\")\n",
    "sex_spec\n",
    "\n",
    "#trait_to_name <- split(sex_spec$variable_name, sex_spec$trait)\n"
   ]
  },
  {
   "cell_type": "markdown",
   "metadata": {},
   "source": [
    "## CREATE DERIVED PHENOTYPES"
   ]
  },
  {
   "cell_type": "markdown",
   "metadata": {},
   "source": [
    "### Pregnant, Pill, or HRT"
   ]
  },
  {
   "cell_type": "code",
   "execution_count": 12,
   "metadata": {},
   "outputs": [
    {
     "data": {
      "text/html": [
       "<table>\n",
       "<thead><tr><th scope=col>IID</th><th scope=col>sex</th><th scope=col>age</th><th scope=col>visit</th><th scope=col>X2724</th><th scope=col>X2804</th><th scope=col>X2834</th><th scope=col>X3140</th><th scope=col>X3546</th><th scope=col>X3581</th><th scope=col>X3591</th><th scope=col>X3700</th><th scope=col>X3710</th><th scope=col>X3720</th></tr></thead>\n",
       "<tbody>\n",
       "\t<tr><td>2314965</td><td>0      </td><td>55     </td><td>0      </td><td>3      </td><td>27     </td><td>0      </td><td>0      </td><td>NA     </td><td>NA     </td><td>0      </td><td>NA     </td><td>NA     </td><td> 0     </td></tr>\n",
       "\t<tr><td>1142584</td><td>0      </td><td>60     </td><td>0      </td><td>1      </td><td>35     </td><td>0      </td><td>0      </td><td>52     </td><td>45     </td><td>0      </td><td>NA     </td><td>NA     </td><td>NA     </td></tr>\n",
       "\t<tr><td>3665122</td><td>0      </td><td>74     </td><td>0      </td><td>1      </td><td>NA     </td><td>0      </td><td>0      </td><td>55     </td><td>42     </td><td>1      </td><td>NA     </td><td>NA     </td><td>NA     </td></tr>\n",
       "\t<tr><td>4377492</td><td>0      </td><td>65     </td><td>0      </td><td>1      </td><td>52     </td><td>0      </td><td>0      </td><td>NA     </td><td>52     </td><td>0      </td><td>NA     </td><td>NA     </td><td>NA     </td></tr>\n",
       "\t<tr><td>4015997</td><td>0      </td><td>50     </td><td>0      </td><td>0      </td><td>33     </td><td>0      </td><td>0      </td><td>NA     </td><td>NA     </td><td>0      </td><td> 0     </td><td>28     </td><td> 1     </td></tr>\n",
       "\t<tr><td>2076736</td><td>0      </td><td>60     </td><td>0      </td><td>1      </td><td>45     </td><td>0      </td><td>0      </td><td>NA     </td><td>45     </td><td>0      </td><td>NA     </td><td>NA     </td><td>NA     </td></tr>\n",
       "</tbody>\n",
       "</table>\n"
      ],
      "text/latex": [
       "\\begin{tabular}{r|llllllllllllll}\n",
       " IID & sex & age & visit & X2724 & X2804 & X2834 & X3140 & X3546 & X3581 & X3591 & X3700 & X3710 & X3720\\\\\n",
       "\\hline\n",
       "\t 2314965 & 0       & 55      & 0       & 3       & 27      & 0       & 0       & NA      & NA      & 0       & NA      & NA      &  0     \\\\\n",
       "\t 1142584 & 0       & 60      & 0       & 1       & 35      & 0       & 0       & 52      & 45      & 0       & NA      & NA      & NA     \\\\\n",
       "\t 3665122 & 0       & 74      & 0       & 1       & NA      & 0       & 0       & 55      & 42      & 1       & NA      & NA      & NA     \\\\\n",
       "\t 4377492 & 0       & 65      & 0       & 1       & 52      & 0       & 0       & NA      & 52      & 0       & NA      & NA      & NA     \\\\\n",
       "\t 4015997 & 0       & 50      & 0       & 0       & 33      & 0       & 0       & NA      & NA      & 0       &  0      & 28      &  1     \\\\\n",
       "\t 2076736 & 0       & 60      & 0       & 1       & 45      & 0       & 0       & NA      & 45      & 0       & NA      & NA      & NA     \\\\\n",
       "\\end{tabular}\n"
      ],
      "text/markdown": [
       "\n",
       "IID | sex | age | visit | X2724 | X2804 | X2834 | X3140 | X3546 | X3581 | X3591 | X3700 | X3710 | X3720 | \n",
       "|---|---|---|---|---|---|\n",
       "| 2314965 | 0       | 55      | 0       | 3       | 27      | 0       | 0       | NA      | NA      | 0       | NA      | NA      |  0      | \n",
       "| 1142584 | 0       | 60      | 0       | 1       | 35      | 0       | 0       | 52      | 45      | 0       | NA      | NA      | NA      | \n",
       "| 3665122 | 0       | 74      | 0       | 1       | NA      | 0       | 0       | 55      | 42      | 1       | NA      | NA      | NA      | \n",
       "| 4377492 | 0       | 65      | 0       | 1       | 52      | 0       | 0       | NA      | 52      | 0       | NA      | NA      | NA      | \n",
       "| 4015997 | 0       | 50      | 0       | 0       | 33      | 0       | 0       | NA      | NA      | 0       |  0      | 28      |  1      | \n",
       "| 2076736 | 0       | 60      | 0       | 1       | 45      | 0       | 0       | NA      | 45      | 0       | NA      | NA      | NA      | \n",
       "\n",
       "\n"
      ],
      "text/plain": [
       "  IID     sex age visit X2724 X2804 X2834 X3140 X3546 X3581 X3591 X3700 X3710\n",
       "1 2314965 0   55  0     3     27    0     0     NA    NA    0     NA    NA   \n",
       "2 1142584 0   60  0     1     35    0     0     52    45    0     NA    NA   \n",
       "3 3665122 0   74  0     1     NA    0     0     55    42    1     NA    NA   \n",
       "4 4377492 0   65  0     1     52    0     0     NA    52    0     NA    NA   \n",
       "5 4015997 0   50  0     0     33    0     0     NA    NA    0      0    28   \n",
       "6 2076736 0   60  0     1     45    0     0     NA    45    0     NA    NA   \n",
       "  X3720\n",
       "1  0   \n",
       "2 NA   \n",
       "3 NA   \n",
       "4 NA   \n",
       "5  1   \n",
       "6 NA   "
      ]
     },
     "metadata": {},
     "output_type": "display_data"
    },
    {
     "data": {
      "text/plain": [
       "\n",
       " FALSE   TRUE \n",
       "294337 230245 "
      ]
     },
     "metadata": {},
     "output_type": "display_data"
    }
   ],
   "source": [
    "head(filter(ss_mat4, X3140==0))\n",
    "table(is.na(ss_mat4$X3140) )"
   ]
  },
  {
   "cell_type": "code",
   "execution_count": 24,
   "metadata": {},
   "outputs": [
    {
     "data": {
      "text/plain": [
       "\n",
       "     0      1 \n",
       "293957    380 "
      ]
     },
     "metadata": {},
     "output_type": "display_data"
    },
    {
     "data": {
      "text/plain": [
       "\n",
       "   -9     0     1 \n",
       "11233 83604 17571 "
      ]
     },
     "metadata": {},
     "output_type": "display_data"
    },
    {
     "data": {
      "text/plain": [
       "\n",
       "    -9      0      1 \n",
       " 24424 208828   5099 "
      ]
     },
     "metadata": {},
     "output_type": "display_data"
    }
   ],
   "source": [
    "# DERIVED PHENOTYPES:\n",
    "#    preg: 1 = possibly or confirmed pregnant (exclude!), 0 = not pregnant, NA = did not answer \n",
    "#    hrt / pill:  1= still taking, 0 = not still taking, -1 = time not known, NA = did not answer\n",
    "ss_mat5 <- ss_mat4 %>% mutate(\n",
    "    preg=ifelse(X3140==1 | X3140==2, 1, X3140),\n",
    "    pill=ifelse(X2804==-11, 1, ifelse(X2804 == -3 | X2804==-1,-9, 0)),\n",
    "    hrt=ifelse(X3546==-11, 1, ifelse(X3546 == -3 | X3546==-1, -9, 0)))\n",
    "table(ss_mat5$preg)\n",
    "table(ss_mat5$hrt)\n",
    "table(ss_mat5$pill)"
   ]
  },
  {
   "cell_type": "markdown",
   "metadata": {},
   "source": [
    "### Menopause"
   ]
  },
  {
   "cell_type": "code",
   "execution_count": 32,
   "metadata": {},
   "outputs": [
    {
     "data": {
      "text/html": [
       "<table>\n",
       "<thead><tr><th scope=col>IID</th><th scope=col>sex</th><th scope=col>age</th><th scope=col>visit</th><th scope=col>X2724</th><th scope=col>X2804</th><th scope=col>X2834</th><th scope=col>X3140</th><th scope=col>X3546</th><th scope=col>X3581</th><th scope=col>⋯</th><th scope=col>X3710</th><th scope=col>X3720</th><th scope=col>preg</th><th scope=col>pill</th><th scope=col>hrt</th><th scope=col>ooph</th><th scope=col>hyster</th><th scope=col>meno</th><th scope=col>hyster2</th><th scope=col>meno.age</th></tr></thead>\n",
       "<tbody>\n",
       "\t<tr><td>2502845</td><td>1      </td><td>50     </td><td>NA     </td><td>NA     </td><td>NA     </td><td>NA     </td><td>NA     </td><td>NA     </td><td>NA     </td><td>⋯      </td><td>NA     </td><td>NA     </td><td>NA     </td><td>NA     </td><td>NA     </td><td>NA     </td><td>NA     </td><td>NA     </td><td>NA     </td><td>NA     </td></tr>\n",
       "\t<tr><td>2314965</td><td>0      </td><td>55     </td><td> 0     </td><td> 3     </td><td>27     </td><td> 0     </td><td> 0     </td><td>NA     </td><td>NA     </td><td>⋯      </td><td>NA     </td><td> 0     </td><td> 0     </td><td> 0     </td><td>NA     </td><td> 0     </td><td> 0     </td><td>NA     </td><td> 0     </td><td>NA     </td></tr>\n",
       "\t<tr><td>1142584</td><td>0      </td><td>60     </td><td> 0     </td><td> 1     </td><td>35     </td><td> 0     </td><td> 0     </td><td>52     </td><td>45     </td><td>⋯      </td><td>NA     </td><td>NA     </td><td> 0     </td><td> 0     </td><td> 0     </td><td> 0     </td><td> 0     </td><td> 1     </td><td> 0     </td><td>45     </td></tr>\n",
       "\t<tr><td>3665122</td><td>0      </td><td>74     </td><td> 0     </td><td> 1     </td><td>NA     </td><td> 0     </td><td> 0     </td><td>55     </td><td>42     </td><td>⋯      </td><td>NA     </td><td>NA     </td><td> 0     </td><td>NA     </td><td> 0     </td><td> 0     </td><td> 1     </td><td> 1     </td><td> 0     </td><td>42     </td></tr>\n",
       "\t<tr><td>4377492</td><td>0      </td><td>65     </td><td> 0     </td><td> 1     </td><td>52     </td><td> 0     </td><td> 0     </td><td>NA     </td><td>52     </td><td>⋯      </td><td>NA     </td><td>NA     </td><td> 0     </td><td> 0     </td><td>NA     </td><td> 0     </td><td> 0     </td><td> 1     </td><td> 0     </td><td>52     </td></tr>\n",
       "\t<tr><td>2652670</td><td>1      </td><td>58     </td><td>NA     </td><td>NA     </td><td>NA     </td><td>NA     </td><td>NA     </td><td>NA     </td><td>NA     </td><td>⋯      </td><td>NA     </td><td>NA     </td><td>NA     </td><td>NA     </td><td>NA     </td><td>NA     </td><td>NA     </td><td>NA     </td><td>NA     </td><td>NA     </td></tr>\n",
       "</tbody>\n",
       "</table>\n"
      ],
      "text/latex": [
       "\\begin{tabular}{r|llllllllllllllllllllll}\n",
       " IID & sex & age & visit & X2724 & X2804 & X2834 & X3140 & X3546 & X3581 & ⋯ & X3710 & X3720 & preg & pill & hrt & ooph & hyster & meno & hyster2 & meno.age\\\\\n",
       "\\hline\n",
       "\t 2502845 & 1       & 50      & NA      & NA      & NA      & NA      & NA      & NA      & NA      & ⋯       & NA      & NA      & NA      & NA      & NA      & NA      & NA      & NA      & NA      & NA     \\\\\n",
       "\t 2314965 & 0       & 55      &  0      &  3      & 27      &  0      &  0      & NA      & NA      & ⋯       & NA      &  0      &  0      &  0      & NA      &  0      &  0      & NA      &  0      & NA     \\\\\n",
       "\t 1142584 & 0       & 60      &  0      &  1      & 35      &  0      &  0      & 52      & 45      & ⋯       & NA      & NA      &  0      &  0      &  0      &  0      &  0      &  1      &  0      & 45     \\\\\n",
       "\t 3665122 & 0       & 74      &  0      &  1      & NA      &  0      &  0      & 55      & 42      & ⋯       & NA      & NA      &  0      & NA      &  0      &  0      &  1      &  1      &  0      & 42     \\\\\n",
       "\t 4377492 & 0       & 65      &  0      &  1      & 52      &  0      &  0      & NA      & 52      & ⋯       & NA      & NA      &  0      &  0      & NA      &  0      &  0      &  1      &  0      & 52     \\\\\n",
       "\t 2652670 & 1       & 58      & NA      & NA      & NA      & NA      & NA      & NA      & NA      & ⋯       & NA      & NA      & NA      & NA      & NA      & NA      & NA      & NA      & NA      & NA     \\\\\n",
       "\\end{tabular}\n"
      ],
      "text/markdown": [
       "\n",
       "IID | sex | age | visit | X2724 | X2804 | X2834 | X3140 | X3546 | X3581 | ⋯ | X3710 | X3720 | preg | pill | hrt | ooph | hyster | meno | hyster2 | meno.age | \n",
       "|---|---|---|---|---|---|\n",
       "| 2502845 | 1       | 50      | NA      | NA      | NA      | NA      | NA      | NA      | NA      | ⋯       | NA      | NA      | NA      | NA      | NA      | NA      | NA      | NA      | NA      | NA      | \n",
       "| 2314965 | 0       | 55      |  0      |  3      | 27      |  0      |  0      | NA      | NA      | ⋯       | NA      |  0      |  0      |  0      | NA      |  0      |  0      | NA      |  0      | NA      | \n",
       "| 1142584 | 0       | 60      |  0      |  1      | 35      |  0      |  0      | 52      | 45      | ⋯       | NA      | NA      |  0      |  0      |  0      |  0      |  0      |  1      |  0      | 45      | \n",
       "| 3665122 | 0       | 74      |  0      |  1      | NA      |  0      |  0      | 55      | 42      | ⋯       | NA      | NA      |  0      | NA      |  0      |  0      |  1      |  1      |  0      | 42      | \n",
       "| 4377492 | 0       | 65      |  0      |  1      | 52      |  0      |  0      | NA      | 52      | ⋯       | NA      | NA      |  0      |  0      | NA      |  0      |  0      |  1      |  0      | 52      | \n",
       "| 2652670 | 1       | 58      | NA      | NA      | NA      | NA      | NA      | NA      | NA      | ⋯       | NA      | NA      | NA      | NA      | NA      | NA      | NA      | NA      | NA      | NA      | \n",
       "\n",
       "\n"
      ],
      "text/plain": [
       "  IID     sex age visit X2724 X2804 X2834 X3140 X3546 X3581 ⋯ X3710 X3720 preg\n",
       "1 2502845 1   50  NA    NA    NA    NA    NA    NA    NA    ⋯ NA    NA    NA  \n",
       "2 2314965 0   55   0     3    27     0     0    NA    NA    ⋯ NA     0     0  \n",
       "3 1142584 0   60   0     1    35     0     0    52    45    ⋯ NA    NA     0  \n",
       "4 3665122 0   74   0     1    NA     0     0    55    42    ⋯ NA    NA     0  \n",
       "5 4377492 0   65   0     1    52     0     0    NA    52    ⋯ NA    NA     0  \n",
       "6 2652670 1   58  NA    NA    NA    NA    NA    NA    NA    ⋯ NA    NA    NA  \n",
       "  pill hrt ooph hyster meno hyster2 meno.age\n",
       "1 NA   NA  NA   NA     NA   NA      NA      \n",
       "2  0   NA   0    0     NA    0      NA      \n",
       "3  0    0   0    0      1    0      45      \n",
       "4 NA    0   0    1      1    0      42      \n",
       "5  0   NA   0    0      1    0      52      \n",
       "6 NA   NA  NA   NA     NA   NA      NA      "
      ]
     },
     "metadata": {},
     "output_type": "display_data"
    }
   ],
   "source": [
    "#head(ss_mat5)\n",
    "\n",
    "ss_mat6 <- ss_mat5 %>% mutate(\n",
    "    ooph= ifelse(X2834 == -3 | X2834==-5,-9, X2834),\n",
    "    hyster= ifelse(X3591 == -3 | X3591==-5,-9, X3591),\n",
    "    meno = ifelse(X2724 ==-3 | X2724==3,NA, ifelse(X2724 == 2 | X2724== 1, 1, X2724)), # hysterectomy / yes --> yes; not sure/prefer not --> -9\n",
    "    hyster2= ifelse(X2724==2, 1, 0),\n",
    "    meno.age=ifelse(X3581 == -3 | X3581==-1,-9, X3581)\n",
    "    )\n",
    "\n",
    "head(ss_mat6)\n",
    "ss_mat7 <- mutate(ss_mat6, \n",
    "                  years.post=ifelse(meno.age<0, NA, age - meno.age),# compute the years since menopause\n",
    "                  surgical.meno=ifelse(ooph == 1 | hyster==1 | hyster2 == 1,1,ifelse(X2834 == -9 & X3591==-9, NA, 0))\n",
    "                 ) \n",
    "\n"
   ]
  },
  {
   "cell_type": "code",
   "execution_count": 40,
   "metadata": {
    "collapsed": true
   },
   "outputs": [],
   "source": [
    "label_col <- function(meno, meno.age, age, sex, years.post, surgical.meno){\n",
    "(if (sex==1 & !is.na(sex)){\n",
    "    \"male\"\n",
    "} else if (any(sapply(c(meno, age, sex), is.na))){\n",
    "    \"missing\"\n",
    "} else if (surgical.meno==1){\n",
    "    \"surgical_meno\"\n",
    "} else if (meno==0){\n",
    "    ifelse(age > 60, \"likely_meno\", \"pre\")\n",
    "} else {\n",
    "    if (is.na(meno.age)) {\n",
    "        \"missing_age\"\n",
    "    } else{\n",
    "           ifelse(meno.age <= 40, \"premature\",\n",
    "           ifelse(years.post < 2 | is.na(years.post), \"peri\", \"post\")\n",
    "          ) \n",
    "    }\n",
    "\n",
    "\n",
    "})}\n",
    " \n",
    "\n",
    "\n",
    "df <- ss_mat7\n",
    "df2 <- df\n",
    "df2$meno.label <- mapply(label_col, df$meno, df$meno.age, df$age, df$sex, df$years.post, df$surgical.meno)\n",
    "meno_df <- df2 %>% select(IID, sex, age, visit, preg, pill, hrt, ooph, hyster, meno, hyster2, meno.age, years.post, surgical.meno, meno.label)"
   ]
  },
  {
   "cell_type": "code",
   "execution_count": 42,
   "metadata": {},
   "outputs": [
    {
     "data": {
      "text/plain": [
       "\n",
       "  likely_meno          male       missing   missing_age          peri \n",
       "         6333        223531         27851            37           125 \n",
       "         post           pre     premature surgical_meno \n",
       "       140462         57225         14673         54345 "
      ]
     },
     "metadata": {},
     "output_type": "display_data"
    },
    {
     "data": {
      "text/html": [
       "<table>\n",
       "<thead><tr><th scope=col>IID</th><th scope=col>sex</th><th scope=col>age_v0</th><th scope=col>visit</th><th scope=col>preg</th><th scope=col>pill</th><th scope=col>hrt</th><th scope=col>ooph</th><th scope=col>hyster</th><th scope=col>meno</th><th scope=col>hyster2</th><th scope=col>meno.age</th><th scope=col>years.post</th><th scope=col>surgical.meno</th><th scope=col>meno.label</th></tr></thead>\n",
       "<tbody>\n",
       "\t<tr><td>2502845      </td><td>1            </td><td>50           </td><td>NA           </td><td>NA           </td><td>NA           </td><td>NA           </td><td>NA           </td><td>NA           </td><td>NA           </td><td>NA           </td><td>NA           </td><td>NA           </td><td>NA           </td><td>male         </td></tr>\n",
       "\t<tr><td>2314965      </td><td>0            </td><td>55           </td><td> 0           </td><td> 0           </td><td> 0           </td><td>NA           </td><td> 0           </td><td> 0           </td><td>NA           </td><td> 0           </td><td>NA           </td><td>NA           </td><td> 0           </td><td>missing      </td></tr>\n",
       "\t<tr><td>1142584      </td><td>0            </td><td>60           </td><td> 0           </td><td> 0           </td><td> 0           </td><td> 0           </td><td> 0           </td><td> 0           </td><td> 1           </td><td> 0           </td><td>45           </td><td>15           </td><td> 0           </td><td>post         </td></tr>\n",
       "\t<tr><td>3665122      </td><td>0            </td><td>74           </td><td> 0           </td><td> 0           </td><td>NA           </td><td> 0           </td><td> 0           </td><td> 1           </td><td> 1           </td><td> 0           </td><td>42           </td><td>32           </td><td> 1           </td><td>surgical_meno</td></tr>\n",
       "\t<tr><td>4377492      </td><td>0            </td><td>65           </td><td> 0           </td><td> 0           </td><td> 0           </td><td>NA           </td><td> 0           </td><td> 0           </td><td> 1           </td><td> 0           </td><td>52           </td><td>13           </td><td> 0           </td><td>post         </td></tr>\n",
       "\t<tr><td>2652670      </td><td>1            </td><td>58           </td><td>NA           </td><td>NA           </td><td>NA           </td><td>NA           </td><td>NA           </td><td>NA           </td><td>NA           </td><td>NA           </td><td>NA           </td><td>NA           </td><td>NA           </td><td>male         </td></tr>\n",
       "</tbody>\n",
       "</table>\n"
      ],
      "text/latex": [
       "\\begin{tabular}{r|lllllllllllllll}\n",
       " IID & sex & age\\_v0 & visit & preg & pill & hrt & ooph & hyster & meno & hyster2 & meno.age & years.post & surgical.meno & meno.label\\\\\n",
       "\\hline\n",
       "\t 2502845       & 1             & 50            & NA            & NA            & NA            & NA            & NA            & NA            & NA            & NA            & NA            & NA            & NA            & male         \\\\\n",
       "\t 2314965       & 0             & 55            &  0            &  0            &  0            & NA            &  0            &  0            & NA            &  0            & NA            & NA            &  0            & missing      \\\\\n",
       "\t 1142584       & 0             & 60            &  0            &  0            &  0            &  0            &  0            &  0            &  1            &  0            & 45            & 15            &  0            & post         \\\\\n",
       "\t 3665122         & 0               & 74              &  0              &  0              & NA              &  0              &  0              &  1              &  1              &  0              & 42              & 32              &  1              & surgical\\_meno\\\\\n",
       "\t 4377492       & 0             & 65            &  0            &  0            &  0            & NA            &  0            &  0            &  1            &  0            & 52            & 13            &  0            & post         \\\\\n",
       "\t 2652670       & 1             & 58            & NA            & NA            & NA            & NA            & NA            & NA            & NA            & NA            & NA            & NA            & NA            & male         \\\\\n",
       "\\end{tabular}\n"
      ],
      "text/markdown": [
       "\n",
       "IID | sex | age_v0 | visit | preg | pill | hrt | ooph | hyster | meno | hyster2 | meno.age | years.post | surgical.meno | meno.label | \n",
       "|---|---|---|---|---|---|\n",
       "| 2502845       | 1             | 50            | NA            | NA            | NA            | NA            | NA            | NA            | NA            | NA            | NA            | NA            | NA            | male          | \n",
       "| 2314965       | 0             | 55            |  0            |  0            |  0            | NA            |  0            |  0            | NA            |  0            | NA            | NA            |  0            | missing       | \n",
       "| 1142584       | 0             | 60            |  0            |  0            |  0            |  0            |  0            |  0            |  1            |  0            | 45            | 15            |  0            | post          | \n",
       "| 3665122       | 0             | 74            |  0            |  0            | NA            |  0            |  0            |  1            |  1            |  0            | 42            | 32            |  1            | surgical_meno | \n",
       "| 4377492       | 0             | 65            |  0            |  0            |  0            | NA            |  0            |  0            |  1            |  0            | 52            | 13            |  0            | post          | \n",
       "| 2652670       | 1             | 58            | NA            | NA            | NA            | NA            | NA            | NA            | NA            | NA            | NA            | NA            | NA            | male          | \n",
       "\n",
       "\n"
      ],
      "text/plain": [
       "  IID     sex age_v0 visit preg pill hrt ooph hyster meno hyster2 meno.age\n",
       "1 2502845 1   50     NA    NA   NA   NA  NA   NA     NA   NA      NA      \n",
       "2 2314965 0   55      0     0    0   NA   0    0     NA    0      NA      \n",
       "3 1142584 0   60      0     0    0    0   0    0      1    0      45      \n",
       "4 3665122 0   74      0     0   NA    0   0    1      1    0      42      \n",
       "5 4377492 0   65      0     0    0   NA   0    0      1    0      52      \n",
       "6 2652670 1   58     NA    NA   NA   NA  NA   NA     NA   NA      NA      \n",
       "  years.post surgical.meno meno.label   \n",
       "1 NA         NA            male         \n",
       "2 NA          0            missing      \n",
       "3 15          0            post         \n",
       "4 32          1            surgical_meno\n",
       "5 13          0            post         \n",
       "6 NA         NA            male         "
      ]
     },
     "metadata": {},
     "output_type": "display_data"
    }
   ],
   "source": [
    "table(meno_df$meno.label)\n",
    "meno_df <- rename(meno_df, \"age_v0\" =\"age\")\n",
    "head(meno_df)"
   ]
  },
  {
   "cell_type": "code",
   "execution_count": 43,
   "metadata": {
    "collapsed": true
   },
   "outputs": [],
   "source": [
    "write.table(meno_df, file=\"../phe_extraction/menopause_phe_table.txt\", sep=\"\\t\", quote=FALSE, row.names=FALSE)\n",
    "\n",
    "\n",
    "# write out the PHE FILES\n",
    "\n",
    "phe_lab <- meno_df %>% select(IID, sex, age_v0, meno.label)\n",
    "pre_meno <- phe_lab %>% filter(meno.label==\"pre\") %>% select(\"IID\") # 57,225\n",
    "post_meno <- phe_lab %>% filter(meno.label==\"post\") %>% select(\"IID\") # 140,462\n",
    "write_tsv(post_meno, \"../phefiles/post_meno.keep\")\n",
    "write_tsv(pre_meno, \"../phefiles/pre_meno.keep\")\n",
    "\n",
    "over65_m <- phe_lab %>% filter(age_v0 > 65 & sex==1) %>% select(\"IID\")  #124,403\n",
    "over65_m %>% write_tsv(\"../phefiles/over65_m.keep\")\n",
    "over65_f <- phe_lab %>% filter(age_v0 > 65 & sex==0) %>% select(\"IID\") # 151,672\n",
    "over65_f %>% write_tsv(\"../phefiles/over65_f.keep\")\n",
    "under65_m <- phe_lab %>% filter(age_v0 < 65 & sex==1) %>% select(\"IID\") # 91,798\n",
    "under65_m %>% write_tsv(\"../phefiles/under65_m.keep\")\n",
    "under65_f <- phe_lab %>% filter(age_v0 < 65 & sex==0) %>% select(\"IID\") # 124,205\n",
    "under65_f %>% write_tsv(\"../phefiles/under65_f.keep\")\n",
    "\n",
    "# 10 year bin??\n"
   ]
  },
  {
   "cell_type": "markdown",
   "metadata": {},
   "source": [
    "# MENSTRUAL PHASE"
   ]
  },
  {
   "cell_type": "code",
   "execution_count": 3,
   "metadata": {
    "collapsed": true
   },
   "outputs": [],
   "source": [
    "# NOTE - these questions are poorly worded and have strange cutoffs...\n",
    "# time since last period: 3700 http://biobank.ndph.ox.ac.uk/showcase/field.cgi?id=3700\n",
    "# length of menstrual cycle: 3710\n",
    "# menstruating today: 3720\n",
    "\n",
    "\n",
    "ss_mat4 <- read.delim(file=\"../data/sex_spec_factor_mat.txt\")\n"
   ]
  },
  {
   "cell_type": "code",
   "execution_count": 19,
   "metadata": {},
   "outputs": [
    {
     "data": {
      "text/plain": [
       "\n",
       "   -3    -1     0     1 \n",
       "  389  1118 66065 11596 "
      ]
     },
     "metadata": {},
     "output_type": "display_data"
    }
   ],
   "source": [
    "table(ss_mat4$X3720)\n"
   ]
  },
  {
   "cell_type": "code",
   "execution_count": 5,
   "metadata": {},
   "outputs": [
    {
     "data": {
      "text/html": [
       "<table>\n",
       "<thead><tr><th scope=col>IID</th><th scope=col>sex</th><th scope=col>age</th><th scope=col>visit</th><th scope=col>X2724</th><th scope=col>X2804</th><th scope=col>X2834</th><th scope=col>X3140</th><th scope=col>X3546</th><th scope=col>X3581</th><th scope=col>X3591</th><th scope=col>X3700</th><th scope=col>X3710</th><th scope=col>X3720</th></tr></thead>\n",
       "<tbody>\n",
       "\t<tr><td>2502845</td><td>1      </td><td>50     </td><td>NA     </td><td>NA     </td><td>NA     </td><td>NA     </td><td>NA     </td><td>NA     </td><td>NA     </td><td>NA     </td><td>NA     </td><td>NA     </td><td>NA     </td></tr>\n",
       "\t<tr><td>2314965</td><td>0      </td><td>55     </td><td> 0     </td><td> 3     </td><td>27     </td><td> 0     </td><td> 0     </td><td>NA     </td><td>NA     </td><td> 0     </td><td>NA     </td><td>NA     </td><td> 0     </td></tr>\n",
       "\t<tr><td>1142584</td><td>0      </td><td>60     </td><td> 0     </td><td> 1     </td><td>35     </td><td> 0     </td><td> 0     </td><td>52     </td><td>45     </td><td> 0     </td><td>NA     </td><td>NA     </td><td>NA     </td></tr>\n",
       "\t<tr><td>3665122</td><td>0      </td><td>74     </td><td> 0     </td><td> 1     </td><td>NA     </td><td> 0     </td><td> 0     </td><td>55     </td><td>42     </td><td> 1     </td><td>NA     </td><td>NA     </td><td>NA     </td></tr>\n",
       "\t<tr><td>4377492</td><td>0      </td><td>65     </td><td> 0     </td><td> 1     </td><td>52     </td><td> 0     </td><td> 0     </td><td>NA     </td><td>52     </td><td> 0     </td><td>NA     </td><td>NA     </td><td>NA     </td></tr>\n",
       "\t<tr><td>2652670</td><td>1      </td><td>58     </td><td>NA     </td><td>NA     </td><td>NA     </td><td>NA     </td><td>NA     </td><td>NA     </td><td>NA     </td><td>NA     </td><td>NA     </td><td>NA     </td><td>NA     </td></tr>\n",
       "</tbody>\n",
       "</table>\n"
      ],
      "text/latex": [
       "\\begin{tabular}{r|llllllllllllll}\n",
       " IID & sex & age & visit & X2724 & X2804 & X2834 & X3140 & X3546 & X3581 & X3591 & X3700 & X3710 & X3720\\\\\n",
       "\\hline\n",
       "\t 2502845 & 1       & 50      & NA      & NA      & NA      & NA      & NA      & NA      & NA      & NA      & NA      & NA      & NA     \\\\\n",
       "\t 2314965 & 0       & 55      &  0      &  3      & 27      &  0      &  0      & NA      & NA      &  0      & NA      & NA      &  0     \\\\\n",
       "\t 1142584 & 0       & 60      &  0      &  1      & 35      &  0      &  0      & 52      & 45      &  0      & NA      & NA      & NA     \\\\\n",
       "\t 3665122 & 0       & 74      &  0      &  1      & NA      &  0      &  0      & 55      & 42      &  1      & NA      & NA      & NA     \\\\\n",
       "\t 4377492 & 0       & 65      &  0      &  1      & 52      &  0      &  0      & NA      & 52      &  0      & NA      & NA      & NA     \\\\\n",
       "\t 2652670 & 1       & 58      & NA      & NA      & NA      & NA      & NA      & NA      & NA      & NA      & NA      & NA      & NA     \\\\\n",
       "\\end{tabular}\n"
      ],
      "text/markdown": [
       "\n",
       "IID | sex | age | visit | X2724 | X2804 | X2834 | X3140 | X3546 | X3581 | X3591 | X3700 | X3710 | X3720 | \n",
       "|---|---|---|---|---|---|\n",
       "| 2502845 | 1       | 50      | NA      | NA      | NA      | NA      | NA      | NA      | NA      | NA      | NA      | NA      | NA      | \n",
       "| 2314965 | 0       | 55      |  0      |  3      | 27      |  0      |  0      | NA      | NA      |  0      | NA      | NA      |  0      | \n",
       "| 1142584 | 0       | 60      |  0      |  1      | 35      |  0      |  0      | 52      | 45      |  0      | NA      | NA      | NA      | \n",
       "| 3665122 | 0       | 74      |  0      |  1      | NA      |  0      |  0      | 55      | 42      |  1      | NA      | NA      | NA      | \n",
       "| 4377492 | 0       | 65      |  0      |  1      | 52      |  0      |  0      | NA      | 52      |  0      | NA      | NA      | NA      | \n",
       "| 2652670 | 1       | 58      | NA      | NA      | NA      | NA      | NA      | NA      | NA      | NA      | NA      | NA      | NA      | \n",
       "\n",
       "\n"
      ],
      "text/plain": [
       "  IID     sex age visit X2724 X2804 X2834 X3140 X3546 X3581 X3591 X3700 X3710\n",
       "1 2502845 1   50  NA    NA    NA    NA    NA    NA    NA    NA    NA    NA   \n",
       "2 2314965 0   55   0     3    27     0     0    NA    NA     0    NA    NA   \n",
       "3 1142584 0   60   0     1    35     0     0    52    45     0    NA    NA   \n",
       "4 3665122 0   74   0     1    NA     0     0    55    42     1    NA    NA   \n",
       "5 4377492 0   65   0     1    52     0     0    NA    52     0    NA    NA   \n",
       "6 2652670 1   58  NA    NA    NA    NA    NA    NA    NA    NA    NA    NA   \n",
       "  X3720\n",
       "1 NA   \n",
       "2  0   \n",
       "3 NA   \n",
       "4 NA   \n",
       "5 NA   \n",
       "6 NA   "
      ]
     },
     "metadata": {},
     "output_type": "display_data"
    },
    {
     "data": {
      "text/plain": [
       "\n",
       "   -3    -1     0     1 \n",
       "  389  1118 66065 11596 "
      ]
     },
     "metadata": {},
     "output_type": "display_data"
    },
    {
     "data": {
      "image/png": "[encoded data removed]",
      "text/plain": [
       "Plot with title “Histogram of ss_mat4$X3710”"
      ]
     },
     "metadata": {},
     "output_type": "display_data"
    },
    {
     "data": {
      "text/plain": [
       "\n",
       "  -3   -1 \n",
       " 772 7365 "
      ]
     },
     "metadata": {},
     "output_type": "display_data"
    },
    {
     "data": {
      "text/plain": [
       "\n",
       "   -6    -3    -1 \n",
       "11395   777  4178 "
      ]
     },
     "metadata": {},
     "output_type": "display_data"
    },
    {
     "data": {
      "image/png": "[encoded data removed]",
      "text/plain": [
       "Plot with title “Histogram of ss_mat4$X3700”"
      ]
     },
     "metadata": {},
     "output_type": "display_data"
    }
   ],
   "source": [
    "head(ss_mat4)\n",
    "hist(ss_mat4$X3710)\n",
    "hist(ss_mat4$X3700)\n",
    "table(filter(ss_mat4, X3700 < 0)$X3700)\n",
    "table(filter(ss_mat4, X3710 < 0)$X3710)\n",
    "\n",
    "#table(ss_mat4$X3700)"
   ]
  },
  {
   "cell_type": "code",
   "execution_count": 12,
   "metadata": {},
   "outputs": [
    {
     "data": {
      "text/plain": [
       "\n",
       "    0     1 \n",
       "48102  1020 "
      ]
     },
     "metadata": {},
     "output_type": "display_data"
    },
    {
     "data": {
      "image/png": "[encoded data removed]",
      "text/plain": [
       "Plot with title “Histogram of ss_mat4.2$day_in_cycle”"
      ]
     },
     "metadata": {},
     "output_type": "display_data"
    }
   ],
   "source": [
    "# derived cycle phenotypes\n",
    "\n",
    "# cycle length must be between 12 and 60\n",
    "# identify folks who are outside their cycle length by a lot\n",
    "\n",
    "\n",
    "ss_mat4.2 <- ss_mat4 %>% mutate(\n",
    "    period_today=ifelse(X3720 == -3 | X3720==-1,NA,X3720),\n",
    "    irregular=ifelse(X3710 == -3 | X3710==-1,NA, ifelse(X3710==-6, 1, 0)), # -6 --> irregular\n",
    "    cycle_length = ifelse(X3710 < 12, NA, ifelse(X3710 > 60, NA, X3710)) # filter > 60d\n",
    "    ) %>% mutate(\n",
    "    outside_cycle =ifelse(is.na(cycle_length), NA, ifelse(X3700 > 1.5*cycle_length, 1, 0))) %>% mutate(\n",
    "        day_in_cycle = ifelse(X3700 <0 , NA, ifelse(X3700 > 60 | \n",
    "                                                    (!is.na(outside_cycle) & outside_cycle==1), NA, X3700)))\n",
    "\n",
    "hist(ss_mat4.2$day_in_cycle)\n",
    "table(ss_mat4.2$outside_cycle)"
   ]
  },
  {
   "cell_type": "code",
   "execution_count": 25,
   "metadata": {},
   "outputs": [
    {
     "data": {
      "text/html": [
       "<table>\n",
       "<thead><tr><th scope=col>IID</th><th scope=col>sex</th><th scope=col>age</th><th scope=col>visit</th><th scope=col>X2724</th><th scope=col>X2804</th><th scope=col>X2834</th><th scope=col>X3140</th><th scope=col>X3546</th><th scope=col>X3581</th><th scope=col>⋯</th><th scope=col>X3700</th><th scope=col>X3710</th><th scope=col>X3720</th><th scope=col>period_today</th><th scope=col>irregular</th><th scope=col>cycle_length</th><th scope=col>outside_cycle</th><th scope=col>day_in_cycle</th><th scope=col>normalized_day_in_cycle</th><th scope=col>menstrual_phase</th></tr></thead>\n",
       "<tbody>\n",
       "\t<tr><td>2502845</td><td>1      </td><td>50     </td><td>NA     </td><td>NA     </td><td>NA     </td><td>NA     </td><td>NA     </td><td>NA     </td><td>NA     </td><td>⋯      </td><td>NA     </td><td>NA     </td><td>NA     </td><td>NA     </td><td>NA     </td><td>NA     </td><td>NA     </td><td>NA     </td><td>NA     </td><td>NA     </td></tr>\n",
       "\t<tr><td>2314965</td><td>0      </td><td>55     </td><td> 0     </td><td> 3     </td><td>27     </td><td> 0     </td><td> 0     </td><td>NA     </td><td>NA     </td><td>⋯      </td><td>NA     </td><td>NA     </td><td> 0     </td><td> 0     </td><td>NA     </td><td>NA     </td><td>NA     </td><td>NA     </td><td>NA     </td><td>NA     </td></tr>\n",
       "\t<tr><td>1142584</td><td>0      </td><td>60     </td><td> 0     </td><td> 1     </td><td>35     </td><td> 0     </td><td> 0     </td><td>52     </td><td>45     </td><td>⋯      </td><td>NA     </td><td>NA     </td><td>NA     </td><td>NA     </td><td>NA     </td><td>NA     </td><td>NA     </td><td>NA     </td><td>NA     </td><td>NA     </td></tr>\n",
       "\t<tr><td>3665122</td><td>0      </td><td>74     </td><td> 0     </td><td> 1     </td><td>NA     </td><td> 0     </td><td> 0     </td><td>55     </td><td>42     </td><td>⋯      </td><td>NA     </td><td>NA     </td><td>NA     </td><td>NA     </td><td>NA     </td><td>NA     </td><td>NA     </td><td>NA     </td><td>NA     </td><td>NA     </td></tr>\n",
       "\t<tr><td>4377492</td><td>0      </td><td>65     </td><td> 0     </td><td> 1     </td><td>52     </td><td> 0     </td><td> 0     </td><td>NA     </td><td>52     </td><td>⋯      </td><td>NA     </td><td>NA     </td><td>NA     </td><td>NA     </td><td>NA     </td><td>NA     </td><td>NA     </td><td>NA     </td><td>NA     </td><td>NA     </td></tr>\n",
       "\t<tr><td>2652670</td><td>1      </td><td>58     </td><td>NA     </td><td>NA     </td><td>NA     </td><td>NA     </td><td>NA     </td><td>NA     </td><td>NA     </td><td>⋯      </td><td>NA     </td><td>NA     </td><td>NA     </td><td>NA     </td><td>NA     </td><td>NA     </td><td>NA     </td><td>NA     </td><td>NA     </td><td>NA     </td></tr>\n",
       "</tbody>\n",
       "</table>\n"
      ],
      "text/latex": [
       "\\begin{tabular}{r|lllllllllllllllllllll}\n",
       " IID & sex & age & visit & X2724 & X2804 & X2834 & X3140 & X3546 & X3581 & ⋯ & X3700 & X3710 & X3720 & period\\_today & irregular & cycle\\_length & outside\\_cycle & day\\_in\\_cycle & normalized\\_day\\_in\\_cycle & menstrual\\_phase\\\\\n",
       "\\hline\n",
       "\t 2502845 & 1       & 50      & NA      & NA      & NA      & NA      & NA      & NA      & NA      & ⋯       & NA      & NA      & NA      & NA      & NA      & NA      & NA      & NA      & NA      & NA     \\\\\n",
       "\t 2314965 & 0       & 55      &  0      &  3      & 27      &  0      &  0      & NA      & NA      & ⋯       & NA      & NA      &  0      &  0      & NA      & NA      & NA      & NA      & NA      & NA     \\\\\n",
       "\t 1142584 & 0       & 60      &  0      &  1      & 35      &  0      &  0      & 52      & 45      & ⋯       & NA      & NA      & NA      & NA      & NA      & NA      & NA      & NA      & NA      & NA     \\\\\n",
       "\t 3665122 & 0       & 74      &  0      &  1      & NA      &  0      &  0      & 55      & 42      & ⋯       & NA      & NA      & NA      & NA      & NA      & NA      & NA      & NA      & NA      & NA     \\\\\n",
       "\t 4377492 & 0       & 65      &  0      &  1      & 52      &  0      &  0      & NA      & 52      & ⋯       & NA      & NA      & NA      & NA      & NA      & NA      & NA      & NA      & NA      & NA     \\\\\n",
       "\t 2652670 & 1       & 58      & NA      & NA      & NA      & NA      & NA      & NA      & NA      & ⋯       & NA      & NA      & NA      & NA      & NA      & NA      & NA      & NA      & NA      & NA     \\\\\n",
       "\\end{tabular}\n"
      ],
      "text/markdown": [
       "\n",
       "IID | sex | age | visit | X2724 | X2804 | X2834 | X3140 | X3546 | X3581 | ⋯ | X3700 | X3710 | X3720 | period_today | irregular | cycle_length | outside_cycle | day_in_cycle | normalized_day_in_cycle | menstrual_phase | \n",
       "|---|---|---|---|---|---|\n",
       "| 2502845 | 1       | 50      | NA      | NA      | NA      | NA      | NA      | NA      | NA      | ⋯       | NA      | NA      | NA      | NA      | NA      | NA      | NA      | NA      | NA      | NA      | \n",
       "| 2314965 | 0       | 55      |  0      |  3      | 27      |  0      |  0      | NA      | NA      | ⋯       | NA      | NA      |  0      |  0      | NA      | NA      | NA      | NA      | NA      | NA      | \n",
       "| 1142584 | 0       | 60      |  0      |  1      | 35      |  0      |  0      | 52      | 45      | ⋯       | NA      | NA      | NA      | NA      | NA      | NA      | NA      | NA      | NA      | NA      | \n",
       "| 3665122 | 0       | 74      |  0      |  1      | NA      |  0      |  0      | 55      | 42      | ⋯       | NA      | NA      | NA      | NA      | NA      | NA      | NA      | NA      | NA      | NA      | \n",
       "| 4377492 | 0       | 65      |  0      |  1      | 52      |  0      |  0      | NA      | 52      | ⋯       | NA      | NA      | NA      | NA      | NA      | NA      | NA      | NA      | NA      | NA      | \n",
       "| 2652670 | 1       | 58      | NA      | NA      | NA      | NA      | NA      | NA      | NA      | ⋯       | NA      | NA      | NA      | NA      | NA      | NA      | NA      | NA      | NA      | NA      | \n",
       "\n",
       "\n"
      ],
      "text/plain": [
       "  IID     sex age visit X2724 X2804 X2834 X3140 X3546 X3581 ⋯ X3700 X3710 X3720\n",
       "1 2502845 1   50  NA    NA    NA    NA    NA    NA    NA    ⋯ NA    NA    NA   \n",
       "2 2314965 0   55   0     3    27     0     0    NA    NA    ⋯ NA    NA     0   \n",
       "3 1142584 0   60   0     1    35     0     0    52    45    ⋯ NA    NA    NA   \n",
       "4 3665122 0   74   0     1    NA     0     0    55    42    ⋯ NA    NA    NA   \n",
       "5 4377492 0   65   0     1    52     0     0    NA    52    ⋯ NA    NA    NA   \n",
       "6 2652670 1   58  NA    NA    NA    NA    NA    NA    NA    ⋯ NA    NA    NA   \n",
       "  period_today irregular cycle_length outside_cycle day_in_cycle\n",
       "1 NA           NA        NA           NA            NA          \n",
       "2  0           NA        NA           NA            NA          \n",
       "3 NA           NA        NA           NA            NA          \n",
       "4 NA           NA        NA           NA            NA          \n",
       "5 NA           NA        NA           NA            NA          \n",
       "6 NA           NA        NA           NA            NA          \n",
       "  normalized_day_in_cycle menstrual_phase\n",
       "1 NA                      NA             \n",
       "2 NA                      NA             \n",
       "3 NA                      NA             \n",
       "4 NA                      NA             \n",
       "5 NA                      NA             \n",
       "6 NA                      NA             "
      ]
     },
     "metadata": {},
     "output_type": "display_data"
    },
    {
     "data": {
      "text/plain": [
       "\n",
       " follicular late-luteal      luteal   menstrual     peri-ov \n",
       "      10829        3505       11161       11596       11028 "
      ]
     },
     "metadata": {},
     "output_type": "display_data"
    }
   ],
   "source": [
    "# add menstrual_phase\n",
    "ss_mat4.3 <- ss_mat4.2 %>% mutate(\n",
    "    normalized_day_in_cycle=ifelse(irregular | is.na(cycle_length) | is.na(day_in_cycle), NA,\n",
    "                                   day_in_cycle/cycle_length*28)) %>% mutate(\n",
    "    menstrual_phase=ifelse(period_today, \"menstrual\",\n",
    "                            ifelse(is.na(normalized_day_in_cycle) | normalized_day_in_cycle > 15 & period_today == 1, NA, \n",
    "                                   ifelse(normalized_day_in_cycle < 10, \"follicular\",\n",
    "                                        ifelse(normalized_day_in_cycle < 17, \"peri-ov\",\n",
    "                                            ifelse(normalized_day_in_cycle < 26, \"luteal\", \"late-luteal\"))))))\n",
    "head(ss_mat4.3)\n",
    "table(ss_mat4.3$menstrual_phase)"
   ]
  },
  {
   "cell_type": "code",
   "execution_count": 28,
   "metadata": {},
   "outputs": [
    {
     "data": {
      "text/html": [
       "<table>\n",
       "<thead><tr><th scope=col>IID</th><th scope=col>sex</th><th scope=col>age_v0</th><th scope=col>visit</th><th scope=col>preg</th><th scope=col>pill</th><th scope=col>hrt</th><th scope=col>ooph</th><th scope=col>hyster</th><th scope=col>meno</th><th scope=col>hyster2</th><th scope=col>meno.age</th><th scope=col>years.post</th><th scope=col>surgical.meno</th><th scope=col>meno.label</th></tr></thead>\n",
       "<tbody>\n",
       "\t<tr><td>2502845      </td><td>1            </td><td>50           </td><td>NA           </td><td>NA           </td><td>NA           </td><td>NA           </td><td>NA           </td><td>NA           </td><td>NA           </td><td>NA           </td><td>NA           </td><td>NA           </td><td>NA           </td><td>male         </td></tr>\n",
       "\t<tr><td>2314965      </td><td>0            </td><td>55           </td><td> 0           </td><td> 0           </td><td> 0           </td><td>NA           </td><td> 0           </td><td> 0           </td><td>NA           </td><td> 0           </td><td>NA           </td><td>NA           </td><td> 0           </td><td>missing      </td></tr>\n",
       "\t<tr><td>1142584      </td><td>0            </td><td>60           </td><td> 0           </td><td> 0           </td><td> 0           </td><td> 0           </td><td> 0           </td><td> 0           </td><td> 1           </td><td> 0           </td><td>45           </td><td>15           </td><td> 0           </td><td>post         </td></tr>\n",
       "\t<tr><td>3665122      </td><td>0            </td><td>74           </td><td> 0           </td><td> 0           </td><td>NA           </td><td> 0           </td><td> 0           </td><td> 1           </td><td> 1           </td><td> 0           </td><td>42           </td><td>32           </td><td> 1           </td><td>surgical_meno</td></tr>\n",
       "\t<tr><td>4377492      </td><td>0            </td><td>65           </td><td> 0           </td><td> 0           </td><td> 0           </td><td>NA           </td><td> 0           </td><td> 0           </td><td> 1           </td><td> 0           </td><td>52           </td><td>13           </td><td> 0           </td><td>post         </td></tr>\n",
       "\t<tr><td>2652670      </td><td>1            </td><td>58           </td><td>NA           </td><td>NA           </td><td>NA           </td><td>NA           </td><td>NA           </td><td>NA           </td><td>NA           </td><td>NA           </td><td>NA           </td><td>NA           </td><td>NA           </td><td>male         </td></tr>\n",
       "</tbody>\n",
       "</table>\n"
      ],
      "text/latex": [
       "\\begin{tabular}{r|lllllllllllllll}\n",
       " IID & sex & age\\_v0 & visit & preg & pill & hrt & ooph & hyster & meno & hyster2 & meno.age & years.post & surgical.meno & meno.label\\\\\n",
       "\\hline\n",
       "\t 2502845       & 1             & 50            & NA            & NA            & NA            & NA            & NA            & NA            & NA            & NA            & NA            & NA            & NA            & male         \\\\\n",
       "\t 2314965       & 0             & 55            &  0            &  0            &  0            & NA            &  0            &  0            & NA            &  0            & NA            & NA            &  0            & missing      \\\\\n",
       "\t 1142584       & 0             & 60            &  0            &  0            &  0            &  0            &  0            &  0            &  1            &  0            & 45            & 15            &  0            & post         \\\\\n",
       "\t 3665122         & 0               & 74              &  0              &  0              & NA              &  0              &  0              &  1              &  1              &  0              & 42              & 32              &  1              & surgical\\_meno\\\\\n",
       "\t 4377492       & 0             & 65            &  0            &  0            &  0            & NA            &  0            &  0            &  1            &  0            & 52            & 13            &  0            & post         \\\\\n",
       "\t 2652670       & 1             & 58            & NA            & NA            & NA            & NA            & NA            & NA            & NA            & NA            & NA            & NA            & NA            & male         \\\\\n",
       "\\end{tabular}\n"
      ],
      "text/markdown": [
       "\n",
       "IID | sex | age_v0 | visit | preg | pill | hrt | ooph | hyster | meno | hyster2 | meno.age | years.post | surgical.meno | meno.label | \n",
       "|---|---|---|---|---|---|\n",
       "| 2502845       | 1             | 50            | NA            | NA            | NA            | NA            | NA            | NA            | NA            | NA            | NA            | NA            | NA            | male          | \n",
       "| 2314965       | 0             | 55            |  0            |  0            |  0            | NA            |  0            |  0            | NA            |  0            | NA            | NA            |  0            | missing       | \n",
       "| 1142584       | 0             | 60            |  0            |  0            |  0            |  0            |  0            |  0            |  1            |  0            | 45            | 15            |  0            | post          | \n",
       "| 3665122       | 0             | 74            |  0            |  0            | NA            |  0            |  0            |  1            |  1            |  0            | 42            | 32            |  1            | surgical_meno | \n",
       "| 4377492       | 0             | 65            |  0            |  0            |  0            | NA            |  0            |  0            |  1            |  0            | 52            | 13            |  0            | post          | \n",
       "| 2652670       | 1             | 58            | NA            | NA            | NA            | NA            | NA            | NA            | NA            | NA            | NA            | NA            | NA            | male          | \n",
       "\n",
       "\n"
      ],
      "text/plain": [
       "  IID     sex age_v0 visit preg pill hrt ooph hyster meno hyster2 meno.age\n",
       "1 2502845 1   50     NA    NA   NA   NA  NA   NA     NA   NA      NA      \n",
       "2 2314965 0   55      0     0    0   NA   0    0     NA    0      NA      \n",
       "3 1142584 0   60      0     0    0    0   0    0      1    0      45      \n",
       "4 3665122 0   74      0     0   NA    0   0    1      1    0      42      \n",
       "5 4377492 0   65      0     0    0   NA   0    0      1    0      52      \n",
       "6 2652670 1   58     NA    NA   NA   NA  NA   NA     NA   NA      NA      \n",
       "  years.post surgical.meno meno.label   \n",
       "1 NA         NA            male         \n",
       "2 NA          0            missing      \n",
       "3 15          0            post         \n",
       "4 32          1            surgical_meno\n",
       "5 13          0            post         \n",
       "6 NA         NA            male         "
      ]
     },
     "metadata": {},
     "output_type": "display_data"
    },
    {
     "name": "stderr",
     "output_type": "stream",
     "text": [
      "Joining, by = \"IID\"\n"
     ]
    }
   ],
   "source": [
    "meno_df <- read.table(\"../phe_extraction/menopause_phe_table.txt\", header=TRUE)\n",
    "head(meno_df)\n",
    "meno_df2 <- full_join(meno_df, select(ss_mat4.3, c(\"IID\", \"period_today\", \"irregular\", \"cycle_length\", \"outside_cycle\", \"day_in_cycle\", \"normalized_day_in_cycle\", \"menstrual_phase\")))"
   ]
  },
  {
   "cell_type": "code",
   "execution_count": 30,
   "metadata": {},
   "outputs": [
    {
     "data": {
      "text/html": [
       "<table>\n",
       "<thead><tr><th scope=col>IID</th><th scope=col>sex</th><th scope=col>age_v0</th><th scope=col>visit</th><th scope=col>preg</th><th scope=col>pill</th><th scope=col>hrt</th><th scope=col>ooph</th><th scope=col>hyster</th><th scope=col>meno</th><th scope=col>⋯</th><th scope=col>years.post</th><th scope=col>surgical.meno</th><th scope=col>meno.label</th><th scope=col>period_today</th><th scope=col>irregular</th><th scope=col>cycle_length</th><th scope=col>outside_cycle</th><th scope=col>day_in_cycle</th><th scope=col>normalized_day_in_cycle</th><th scope=col>menstrual_phase</th></tr></thead>\n",
       "<tbody>\n",
       "\t<tr><td>2502845      </td><td>1            </td><td>50           </td><td>NA           </td><td>NA           </td><td>NA           </td><td>NA           </td><td>NA           </td><td>NA           </td><td>NA           </td><td>⋯            </td><td>NA           </td><td>NA           </td><td>male         </td><td>NA           </td><td>NA           </td><td>NA           </td><td>NA           </td><td>NA           </td><td>NA           </td><td>NA           </td></tr>\n",
       "\t<tr><td>2314965      </td><td>0            </td><td>55           </td><td> 0           </td><td> 0           </td><td> 0           </td><td>NA           </td><td> 0           </td><td> 0           </td><td>NA           </td><td>⋯            </td><td>NA           </td><td> 0           </td><td>missing      </td><td> 0           </td><td>NA           </td><td>NA           </td><td>NA           </td><td>NA           </td><td>NA           </td><td>NA           </td></tr>\n",
       "\t<tr><td>1142584      </td><td>0            </td><td>60           </td><td> 0           </td><td> 0           </td><td> 0           </td><td> 0           </td><td> 0           </td><td> 0           </td><td> 1           </td><td>⋯            </td><td>15           </td><td> 0           </td><td>post         </td><td>NA           </td><td>NA           </td><td>NA           </td><td>NA           </td><td>NA           </td><td>NA           </td><td>NA           </td></tr>\n",
       "\t<tr><td>3665122      </td><td>0            </td><td>74           </td><td> 0           </td><td> 0           </td><td>NA           </td><td> 0           </td><td> 0           </td><td> 1           </td><td> 1           </td><td>⋯            </td><td>32           </td><td> 1           </td><td>surgical_meno</td><td>NA           </td><td>NA           </td><td>NA           </td><td>NA           </td><td>NA           </td><td>NA           </td><td>NA           </td></tr>\n",
       "\t<tr><td>4377492      </td><td>0            </td><td>65           </td><td> 0           </td><td> 0           </td><td> 0           </td><td>NA           </td><td> 0           </td><td> 0           </td><td> 1           </td><td>⋯            </td><td>13           </td><td> 0           </td><td>post         </td><td>NA           </td><td>NA           </td><td>NA           </td><td>NA           </td><td>NA           </td><td>NA           </td><td>NA           </td></tr>\n",
       "\t<tr><td>2652670      </td><td>1            </td><td>58           </td><td>NA           </td><td>NA           </td><td>NA           </td><td>NA           </td><td>NA           </td><td>NA           </td><td>NA           </td><td>⋯            </td><td>NA           </td><td>NA           </td><td>male         </td><td>NA           </td><td>NA           </td><td>NA           </td><td>NA           </td><td>NA           </td><td>NA           </td><td>NA           </td></tr>\n",
       "</tbody>\n",
       "</table>\n"
      ],
      "text/latex": [
       "\\begin{tabular}{r|llllllllllllllllllllll}\n",
       " IID & sex & age\\_v0 & visit & preg & pill & hrt & ooph & hyster & meno & ⋯ & years.post & surgical.meno & meno.label & period\\_today & irregular & cycle\\_length & outside\\_cycle & day\\_in\\_cycle & normalized\\_day\\_in\\_cycle & menstrual\\_phase\\\\\n",
       "\\hline\n",
       "\t 2502845       & 1             & 50            & NA            & NA            & NA            & NA            & NA            & NA            & NA            & ⋯             & NA            & NA            & male          & NA            & NA            & NA            & NA            & NA            & NA            & NA           \\\\\n",
       "\t 2314965       & 0             & 55            &  0            &  0            &  0            & NA            &  0            &  0            & NA            & ⋯             & NA            &  0            & missing       &  0            & NA            & NA            & NA            & NA            & NA            & NA           \\\\\n",
       "\t 1142584       & 0             & 60            &  0            &  0            &  0            &  0            &  0            &  0            &  1            & ⋯             & 15            &  0            & post          & NA            & NA            & NA            & NA            & NA            & NA            & NA           \\\\\n",
       "\t 3665122         & 0               & 74              &  0              &  0              & NA              &  0              &  0              &  1              &  1              & ⋯               & 32              &  1              & surgical\\_meno & NA              & NA              & NA              & NA              & NA              & NA              & NA             \\\\\n",
       "\t 4377492       & 0             & 65            &  0            &  0            &  0            & NA            &  0            &  0            &  1            & ⋯             & 13            &  0            & post          & NA            & NA            & NA            & NA            & NA            & NA            & NA           \\\\\n",
       "\t 2652670       & 1             & 58            & NA            & NA            & NA            & NA            & NA            & NA            & NA            & ⋯             & NA            & NA            & male          & NA            & NA            & NA            & NA            & NA            & NA            & NA           \\\\\n",
       "\\end{tabular}\n"
      ],
      "text/markdown": [
       "\n",
       "IID | sex | age_v0 | visit | preg | pill | hrt | ooph | hyster | meno | ⋯ | years.post | surgical.meno | meno.label | period_today | irregular | cycle_length | outside_cycle | day_in_cycle | normalized_day_in_cycle | menstrual_phase | \n",
       "|---|---|---|---|---|---|\n",
       "| 2502845       | 1             | 50            | NA            | NA            | NA            | NA            | NA            | NA            | NA            | ⋯             | NA            | NA            | male          | NA            | NA            | NA            | NA            | NA            | NA            | NA            | \n",
       "| 2314965       | 0             | 55            |  0            |  0            |  0            | NA            |  0            |  0            | NA            | ⋯             | NA            |  0            | missing       |  0            | NA            | NA            | NA            | NA            | NA            | NA            | \n",
       "| 1142584       | 0             | 60            |  0            |  0            |  0            |  0            |  0            |  0            |  1            | ⋯             | 15            |  0            | post          | NA            | NA            | NA            | NA            | NA            | NA            | NA            | \n",
       "| 3665122       | 0             | 74            |  0            |  0            | NA            |  0            |  0            |  1            |  1            | ⋯             | 32            |  1            | surgical_meno | NA            | NA            | NA            | NA            | NA            | NA            | NA            | \n",
       "| 4377492       | 0             | 65            |  0            |  0            |  0            | NA            |  0            |  0            |  1            | ⋯             | 13            |  0            | post          | NA            | NA            | NA            | NA            | NA            | NA            | NA            | \n",
       "| 2652670       | 1             | 58            | NA            | NA            | NA            | NA            | NA            | NA            | NA            | ⋯             | NA            | NA            | male          | NA            | NA            | NA            | NA            | NA            | NA            | NA            | \n",
       "\n",
       "\n"
      ],
      "text/plain": [
       "  IID     sex age_v0 visit preg pill hrt ooph hyster meno ⋯ years.post\n",
       "1 2502845 1   50     NA    NA   NA   NA  NA   NA     NA   ⋯ NA        \n",
       "2 2314965 0   55      0     0    0   NA   0    0     NA   ⋯ NA        \n",
       "3 1142584 0   60      0     0    0    0   0    0      1   ⋯ 15        \n",
       "4 3665122 0   74      0     0   NA    0   0    1      1   ⋯ 32        \n",
       "5 4377492 0   65      0     0    0   NA   0    0      1   ⋯ 13        \n",
       "6 2652670 1   58     NA    NA   NA   NA  NA   NA     NA   ⋯ NA        \n",
       "  surgical.meno meno.label    period_today irregular cycle_length outside_cycle\n",
       "1 NA            male          NA           NA        NA           NA           \n",
       "2  0            missing        0           NA        NA           NA           \n",
       "3  0            post          NA           NA        NA           NA           \n",
       "4  1            surgical_meno NA           NA        NA           NA           \n",
       "5  0            post          NA           NA        NA           NA           \n",
       "6 NA            male          NA           NA        NA           NA           \n",
       "  day_in_cycle normalized_day_in_cycle menstrual_phase\n",
       "1 NA           NA                      NA             \n",
       "2 NA           NA                      NA             \n",
       "3 NA           NA                      NA             \n",
       "4 NA           NA                      NA             \n",
       "5 NA           NA                      NA             \n",
       "6 NA           NA                      NA             "
      ]
     },
     "metadata": {},
     "output_type": "display_data"
    }
   ],
   "source": [
    "head(meno_df2)\n",
    "write.table(meno_df2, file=\"../data/phase_meno.txt\", sep=\"\\t\", quote=FALSE, row.names=FALSE)"
   ]
  },
  {
   "cell_type": "code",
   "execution_count": 18,
   "metadata": {},
   "outputs": [
    {
     "data": {
      "image/png": "[encoded data removed]",
      "text/plain": [
       "Plot with title “Histogram of ss_mat4.3$normalized_day_in_cycle”"
      ]
     },
     "metadata": {},
     "output_type": "display_data"
    }
   ],
   "source": [
    "hist(ss_mat4.3$normalized_day_in_cycle)"
   ]
  },
  {
   "cell_type": "code",
   "execution_count": 23,
   "metadata": {},
   "outputs": [
    {
     "name": "stderr",
     "output_type": "stream",
     "text": [
      "Warning message:\n",
      "“Removed 1136 rows containing non-finite values (stat_bin).”"
     ]
    },
    {
     "data": {},
     "metadata": {},
     "output_type": "display_data"
    },
    {
     "name": "stderr",
     "output_type": "stream",
     "text": [
      "Warning message:\n",
      "“Removed 3095 rows containing non-finite values (stat_bin).”"
     ]
    },
    {
     "data": {},
     "metadata": {},
     "output_type": "display_data"
    },
    {
     "data": {
      "image/png": "[encoded data removed]",
      "text/plain": [
       "plot without title"
      ]
     },
     "metadata": {},
     "output_type": "display_data"
    },
    {
     "data": {
      "image/png": "[encoded data removed]",
      "text/plain": [
       "plot without title"
      ]
     },
     "metadata": {},
     "output_type": "display_data"
    }
   ],
   "source": [
    "#meno_today and meno_time to validate - should be a distribution\n",
    "ggplot(filter(ss_mat4.3, period_today==1), aes(day_in_cycle))+geom_histogram(binwidth=1)\n",
    "### disproportionately day 0! I think ppl are mis-interpreting, estimate this\n",
    "ggplot(filter(ss_mat4.3, period_today==1), aes(normalized_day_in_cycle))+geom_histogram(binwidth=1)\n"
   ]
  },
  {
   "cell_type": "code",
   "execution_count": 20,
   "metadata": {},
   "outputs": [
    {
     "name": "stderr",
     "output_type": "stream",
     "text": [
      "Warning message:\n",
      "“Removed 475460 rows containing non-finite values (stat_bin).”"
     ]
    },
    {
     "data": {},
     "metadata": {},
     "output_type": "display_data"
    },
    {
     "name": "stderr",
     "output_type": "stream",
     "text": [
      "Warning message:\n",
      "“Removed 468310 rows containing non-finite values (stat_bin).”"
     ]
    },
    {
     "data": {},
     "metadata": {},
     "output_type": "display_data"
    },
    {
     "data": {
      "image/png": "[encoded data removed]",
      "text/plain": [
       "plot without title"
      ]
     },
     "metadata": {},
     "output_type": "display_data"
    },
    {
     "data": {
      "image/png": "[encoded data removed]",
      "text/plain": [
       "plot without title"
      ]
     },
     "metadata": {},
     "output_type": "display_data"
    }
   ],
   "source": [
    "ggplot(ss_mat4.3, aes(cycle_length))+geom_histogram(binwidth=5)\n",
    "ggplot(ss_mat4.3, aes(day_in_cycle))+geom_histogram(binwidth=5)"
   ]
  },
  {
   "cell_type": "markdown",
   "metadata": {},
   "source": [
    "## SANITY CHECKING"
   ]
  },
  {
   "cell_type": "code",
   "execution_count": 33,
   "metadata": {},
   "outputs": [
    {
     "data": {
      "text/html": [
       "<table>\n",
       "<thead><tr><th scope=col>IID</th><th scope=col>sex</th><th scope=col>age_v0</th><th scope=col>visit</th><th scope=col>preg</th><th scope=col>pill</th><th scope=col>hrt</th><th scope=col>ooph</th><th scope=col>hyster</th><th scope=col>meno</th><th scope=col>⋯</th><th scope=col>years.post</th><th scope=col>surgical.meno</th><th scope=col>meno.label</th><th scope=col>period_today</th><th scope=col>irregular</th><th scope=col>cycle_length</th><th scope=col>outside_cycle</th><th scope=col>day_in_cycle</th><th scope=col>normalized_day_in_cycle</th><th scope=col>menstrual_phase</th></tr></thead>\n",
       "<tbody>\n",
       "\t<tr><td>2502845      </td><td>1            </td><td>50           </td><td>NA           </td><td>NA           </td><td>NA           </td><td>NA           </td><td>NA           </td><td>NA           </td><td>NA           </td><td>⋯            </td><td>NA           </td><td>NA           </td><td>male         </td><td>NA           </td><td>NA           </td><td>NA           </td><td>NA           </td><td>NA           </td><td>NA           </td><td>NA           </td></tr>\n",
       "\t<tr><td>2314965      </td><td>0            </td><td>55           </td><td> 0           </td><td> 0           </td><td> 0           </td><td>NA           </td><td> 0           </td><td> 0           </td><td>NA           </td><td>⋯            </td><td>NA           </td><td> 0           </td><td>missing      </td><td> 0           </td><td>NA           </td><td>NA           </td><td>NA           </td><td>NA           </td><td>NA           </td><td>NA           </td></tr>\n",
       "\t<tr><td>1142584      </td><td>0            </td><td>60           </td><td> 0           </td><td> 0           </td><td> 0           </td><td> 0           </td><td> 0           </td><td> 0           </td><td> 1           </td><td>⋯            </td><td>15           </td><td> 0           </td><td>post         </td><td>NA           </td><td>NA           </td><td>NA           </td><td>NA           </td><td>NA           </td><td>NA           </td><td>NA           </td></tr>\n",
       "\t<tr><td>3665122      </td><td>0            </td><td>74           </td><td> 0           </td><td> 0           </td><td>NA           </td><td> 0           </td><td> 0           </td><td> 1           </td><td> 1           </td><td>⋯            </td><td>32           </td><td> 1           </td><td>surgical_meno</td><td>NA           </td><td>NA           </td><td>NA           </td><td>NA           </td><td>NA           </td><td>NA           </td><td>NA           </td></tr>\n",
       "\t<tr><td>4377492      </td><td>0            </td><td>65           </td><td> 0           </td><td> 0           </td><td> 0           </td><td>NA           </td><td> 0           </td><td> 0           </td><td> 1           </td><td>⋯            </td><td>13           </td><td> 0           </td><td>post         </td><td>NA           </td><td>NA           </td><td>NA           </td><td>NA           </td><td>NA           </td><td>NA           </td><td>NA           </td></tr>\n",
       "\t<tr><td>2652670      </td><td>1            </td><td>58           </td><td>NA           </td><td>NA           </td><td>NA           </td><td>NA           </td><td>NA           </td><td>NA           </td><td>NA           </td><td>⋯            </td><td>NA           </td><td>NA           </td><td>male         </td><td>NA           </td><td>NA           </td><td>NA           </td><td>NA           </td><td>NA           </td><td>NA           </td><td>NA           </td></tr>\n",
       "</tbody>\n",
       "</table>\n"
      ],
      "text/latex": [
       "\\begin{tabular}{r|llllllllllllllllllllll}\n",
       " IID & sex & age\\_v0 & visit & preg & pill & hrt & ooph & hyster & meno & ⋯ & years.post & surgical.meno & meno.label & period\\_today & irregular & cycle\\_length & outside\\_cycle & day\\_in\\_cycle & normalized\\_day\\_in\\_cycle & menstrual\\_phase\\\\\n",
       "\\hline\n",
       "\t 2502845       & 1             & 50            & NA            & NA            & NA            & NA            & NA            & NA            & NA            & ⋯             & NA            & NA            & male          & NA            & NA            & NA            & NA            & NA            & NA            & NA           \\\\\n",
       "\t 2314965       & 0             & 55            &  0            &  0            &  0            & NA            &  0            &  0            & NA            & ⋯             & NA            &  0            & missing       &  0            & NA            & NA            & NA            & NA            & NA            & NA           \\\\\n",
       "\t 1142584       & 0             & 60            &  0            &  0            &  0            &  0            &  0            &  0            &  1            & ⋯             & 15            &  0            & post          & NA            & NA            & NA            & NA            & NA            & NA            & NA           \\\\\n",
       "\t 3665122         & 0               & 74              &  0              &  0              & NA              &  0              &  0              &  1              &  1              & ⋯               & 32              &  1              & surgical\\_meno & NA              & NA              & NA              & NA              & NA              & NA              & NA             \\\\\n",
       "\t 4377492       & 0             & 65            &  0            &  0            &  0            & NA            &  0            &  0            &  1            & ⋯             & 13            &  0            & post          & NA            & NA            & NA            & NA            & NA            & NA            & NA           \\\\\n",
       "\t 2652670       & 1             & 58            & NA            & NA            & NA            & NA            & NA            & NA            & NA            & ⋯             & NA            & NA            & male          & NA            & NA            & NA            & NA            & NA            & NA            & NA           \\\\\n",
       "\\end{tabular}\n"
      ],
      "text/markdown": [
       "\n",
       "IID | sex | age_v0 | visit | preg | pill | hrt | ooph | hyster | meno | ⋯ | years.post | surgical.meno | meno.label | period_today | irregular | cycle_length | outside_cycle | day_in_cycle | normalized_day_in_cycle | menstrual_phase | \n",
       "|---|---|---|---|---|---|\n",
       "| 2502845       | 1             | 50            | NA            | NA            | NA            | NA            | NA            | NA            | NA            | ⋯             | NA            | NA            | male          | NA            | NA            | NA            | NA            | NA            | NA            | NA            | \n",
       "| 2314965       | 0             | 55            |  0            |  0            |  0            | NA            |  0            |  0            | NA            | ⋯             | NA            |  0            | missing       |  0            | NA            | NA            | NA            | NA            | NA            | NA            | \n",
       "| 1142584       | 0             | 60            |  0            |  0            |  0            |  0            |  0            |  0            |  1            | ⋯             | 15            |  0            | post          | NA            | NA            | NA            | NA            | NA            | NA            | NA            | \n",
       "| 3665122       | 0             | 74            |  0            |  0            | NA            |  0            |  0            |  1            |  1            | ⋯             | 32            |  1            | surgical_meno | NA            | NA            | NA            | NA            | NA            | NA            | NA            | \n",
       "| 4377492       | 0             | 65            |  0            |  0            |  0            | NA            |  0            |  0            |  1            | ⋯             | 13            |  0            | post          | NA            | NA            | NA            | NA            | NA            | NA            | NA            | \n",
       "| 2652670       | 1             | 58            | NA            | NA            | NA            | NA            | NA            | NA            | NA            | ⋯             | NA            | NA            | male          | NA            | NA            | NA            | NA            | NA            | NA            | NA            | \n",
       "\n",
       "\n"
      ],
      "text/plain": [
       "  IID     sex age_v0 visit preg pill hrt ooph hyster meno ⋯ years.post\n",
       "1 2502845 1   50     NA    NA   NA   NA  NA   NA     NA   ⋯ NA        \n",
       "2 2314965 0   55      0     0    0   NA   0    0     NA   ⋯ NA        \n",
       "3 1142584 0   60      0     0    0    0   0    0      1   ⋯ 15        \n",
       "4 3665122 0   74      0     0   NA    0   0    1      1   ⋯ 32        \n",
       "5 4377492 0   65      0     0    0   NA   0    0      1   ⋯ 13        \n",
       "6 2652670 1   58     NA    NA   NA   NA  NA   NA     NA   ⋯ NA        \n",
       "  surgical.meno meno.label    period_today irregular cycle_length outside_cycle\n",
       "1 NA            male          NA           NA        NA           NA           \n",
       "2  0            missing        0           NA        NA           NA           \n",
       "3  0            post          NA           NA        NA           NA           \n",
       "4  1            surgical_meno NA           NA        NA           NA           \n",
       "5  0            post          NA           NA        NA           NA           \n",
       "6 NA            male          NA           NA        NA           NA           \n",
       "  day_in_cycle normalized_day_in_cycle menstrual_phase\n",
       "1 NA           NA                      NA             \n",
       "2 NA           NA                      NA             \n",
       "3 NA           NA                      NA             \n",
       "4 NA           NA                      NA             \n",
       "5 NA           NA                      NA             \n",
       "6 NA           NA                      NA             "
      ]
     },
     "metadata": {},
     "output_type": "display_data"
    },
    {
     "data": {
      "text/html": [
       "<ol class=list-inline>\n",
       "\t<li>'IID'</li>\n",
       "\t<li>'sex'</li>\n",
       "\t<li>'age_v0'</li>\n",
       "\t<li>'visit'</li>\n",
       "\t<li>'preg'</li>\n",
       "\t<li>'pill'</li>\n",
       "\t<li>'hrt'</li>\n",
       "\t<li>'ooph'</li>\n",
       "\t<li>'hyster'</li>\n",
       "\t<li>'meno'</li>\n",
       "\t<li>'hyster2'</li>\n",
       "\t<li>'meno.age'</li>\n",
       "\t<li>'years.post'</li>\n",
       "\t<li>'surgical.meno'</li>\n",
       "\t<li>'meno.label'</li>\n",
       "\t<li>'period_today'</li>\n",
       "\t<li>'irregular'</li>\n",
       "\t<li>'cycle_length'</li>\n",
       "\t<li>'outside_cycle'</li>\n",
       "\t<li>'day_in_cycle'</li>\n",
       "\t<li>'normalized_day_in_cycle'</li>\n",
       "\t<li>'menstrual_phase'</li>\n",
       "</ol>\n"
      ],
      "text/latex": [
       "\\begin{enumerate*}\n",
       "\\item 'IID'\n",
       "\\item 'sex'\n",
       "\\item 'age\\_v0'\n",
       "\\item 'visit'\n",
       "\\item 'preg'\n",
       "\\item 'pill'\n",
       "\\item 'hrt'\n",
       "\\item 'ooph'\n",
       "\\item 'hyster'\n",
       "\\item 'meno'\n",
       "\\item 'hyster2'\n",
       "\\item 'meno.age'\n",
       "\\item 'years.post'\n",
       "\\item 'surgical.meno'\n",
       "\\item 'meno.label'\n",
       "\\item 'period\\_today'\n",
       "\\item 'irregular'\n",
       "\\item 'cycle\\_length'\n",
       "\\item 'outside\\_cycle'\n",
       "\\item 'day\\_in\\_cycle'\n",
       "\\item 'normalized\\_day\\_in\\_cycle'\n",
       "\\item 'menstrual\\_phase'\n",
       "\\end{enumerate*}\n"
      ],
      "text/markdown": [
       "1. 'IID'\n",
       "2. 'sex'\n",
       "3. 'age_v0'\n",
       "4. 'visit'\n",
       "5. 'preg'\n",
       "6. 'pill'\n",
       "7. 'hrt'\n",
       "8. 'ooph'\n",
       "9. 'hyster'\n",
       "10. 'meno'\n",
       "11. 'hyster2'\n",
       "12. 'meno.age'\n",
       "13. 'years.post'\n",
       "14. 'surgical.meno'\n",
       "15. 'meno.label'\n",
       "16. 'period_today'\n",
       "17. 'irregular'\n",
       "18. 'cycle_length'\n",
       "19. 'outside_cycle'\n",
       "20. 'day_in_cycle'\n",
       "21. 'normalized_day_in_cycle'\n",
       "22. 'menstrual_phase'\n",
       "\n",
       "\n"
      ],
      "text/plain": [
       " [1] \"IID\"                     \"sex\"                    \n",
       " [3] \"age_v0\"                  \"visit\"                  \n",
       " [5] \"preg\"                    \"pill\"                   \n",
       " [7] \"hrt\"                     \"ooph\"                   \n",
       " [9] \"hyster\"                  \"meno\"                   \n",
       "[11] \"hyster2\"                 \"meno.age\"               \n",
       "[13] \"years.post\"              \"surgical.meno\"          \n",
       "[15] \"meno.label\"              \"period_today\"           \n",
       "[17] \"irregular\"               \"cycle_length\"           \n",
       "[19] \"outside_cycle\"           \"day_in_cycle\"           \n",
       "[21] \"normalized_day_in_cycle\" \"menstrual_phase\"        "
      ]
     },
     "metadata": {},
     "output_type": "display_data"
    }
   ],
   "source": [
    "head(meno_df2)\n",
    "colnames(meno_df2)"
   ]
  },
  {
   "cell_type": "code",
   "execution_count": null,
   "metadata": {
    "collapsed": true
   },
   "outputs": [],
   "source": [
    "meno_df2$qc_fail <- 0"
   ]
  },
  {
   "cell_type": "code",
   "execution_count": 51,
   "metadata": {},
   "outputs": [
    {
     "name": "stdout",
     "output_type": "stream",
     "text": [
      "[1] \"Removed 32 b/c pregnant post-menopause\"\n"
     ]
    }
   ],
   "source": [
    "\n",
    "# 1) pregnant post-menopause\n",
    "preg_post_meno = (meno_df2$meno.label %in% c(\"post\", \"surgical_meno\") & meno_df2$preg==1)\n",
    "print(sprintf(\"Removed %s b/c pregnant post-menopause\",sum(preg_post_meno[!is.na(preg_post_meno)])))\n",
    "meno_df2[preg_post_meno[!is.na(preg_post_meno)],]$qc_fail <- 1\n",
    "\n"
   ]
  },
  {
   "cell_type": "code",
   "execution_count": 54,
   "metadata": {},
   "outputs": [
    {
     "name": "stdout",
     "output_type": "stream",
     "text": [
      "[1] \"Removed 0 b/c pre-menopausal and had an oophorectomy\"\n"
     ]
    }
   ],
   "source": [
    "# 2) pre-menopausal and had an oophorectomy\n",
    "pre_meno_oo <- (meno_df2$meno.label==\"pre\" & meno_df2$ooph==1) \n",
    "pre_meno_oo <- pre_meno_oo[!is.na(pre_meno_oo)]\n",
    "print(sprintf(\"Removed %s b/c pre-menopausal and had an oophorectomy\",sum(pre_meno_oo)))\n",
    "\n",
    "#meno_df2[pre_meno_oo,]$qc_fail <- 1\n",
    "\n"
   ]
  },
  {
   "cell_type": "code",
   "execution_count": 55,
   "metadata": {},
   "outputs": [
    {
     "name": "stdout",
     "output_type": "stream",
     "text": [
      "[1] \"Removed 7 b/c pregnant and had surgical menopause\"\n"
     ]
    }
   ],
   "source": [
    "# 3) hysterectomy or ooph and pregnant\n",
    "\n",
    "preg_and_surg <- ((meno_df2$hyster==1 & meno_df2$preg==1) | (meno_df2$ooph==1 & meno_df2$preg==1) | \n",
    "                  (meno_df2$meno.label==\"surgical_meno\" & meno_df2$preg==1))\n",
    "preg_and_surg <- preg_and_surg[!is.na(preg_and_surg)]\n",
    "print(sprintf(\"Removed %s b/c pregnant and had surgical menopause\",sum(preg_and_surg)))\n",
    "meno_df2[preg_and_surg,]$qc_fail <- 1"
   ]
  },
  {
   "cell_type": "code",
   "execution_count": 62,
   "metadata": {},
   "outputs": [
    {
     "data": {
      "text/plain": [
       "\n",
       " FALSE   TRUE \n",
       "409719    472 "
      ]
     },
     "metadata": {},
     "output_type": "display_data"
    },
    {
     "data": {
      "text/plain": [
       "\n",
       " FALSE   TRUE \n",
       "511377     69 "
      ]
     },
     "metadata": {},
     "output_type": "display_data"
    },
    {
     "data": {
      "text/plain": [
       "\n",
       " FALSE   TRUE \n",
       "317144     48 "
      ]
     },
     "metadata": {},
     "output_type": "display_data"
    },
    {
     "data": {
      "text/plain": [
       "\n",
       " FALSE   TRUE \n",
       "280776     38 "
      ]
     },
     "metadata": {},
     "output_type": "display_data"
    },
    {
     "data": {
      "text/plain": [
       "\n",
       " FALSE   TRUE \n",
       "343856     11 "
      ]
     },
     "metadata": {},
     "output_type": "display_data"
    }
   ],
   "source": [
    "# 4) menopause, oophorectomy, hysterectomy, pregnant != menstruating\n",
    "table(meno_df2$meno.label==\"post\" & meno_df2$period_today==1)\n",
    "table(meno_df2$meno.label==\"surgical_meno\" & meno_df2$period_today==1)\n",
    "table(meno_df2$ooph==1 & meno_df2$period_today==1)\n",
    "table(meno_df2$hyster==1 & meno_df2$period_today==1)\n",
    "table(meno_df2$preg==1 & meno_df2$period_today==1)\n",
    "\n",
    "\n",
    "qc_fails <- ((meno_df2$meno.label==\"post\" & meno_df2$period_today==1) |\n",
    "(meno_df2$meno.label==\"surgical_meno\" & meno_df2$period_today==1) |\n",
    "(meno_df2$ooph==1 & meno_df2$period_today==1) |\n",
    "(meno_df2$hyster==1 & meno_df2$period_today==1) |\n",
    "(meno_df2$preg==1 & meno_df2$period_today==1))\n",
    "\n",
    "meno_df2[qc_fails[!is.na(qc_fails)],]$qc_fail <- 1\n",
    "\n",
    "\n"
   ]
  },
  {
   "cell_type": "code",
   "execution_count": 68,
   "metadata": {},
   "outputs": [
    {
     "data": {
      "text/plain": [
       "\n",
       "     0      1 \n",
       "571326   2864 "
      ]
     },
     "metadata": {},
     "output_type": "display_data"
    }
   ],
   "source": [
    "table(meno_df2$qc_fail)"
   ]
  },
  {
   "cell_type": "code",
   "execution_count": 70,
   "metadata": {},
   "outputs": [
    {
     "data": {
      "text/plain": [
       "\n",
       " FALSE   TRUE \n",
       "571846   2344 "
      ]
     },
     "metadata": {},
     "output_type": "display_data"
    },
    {
     "data": {
      "text/plain": [
       "\n",
       " FALSE   TRUE \n",
       "573841    349 "
      ]
     },
     "metadata": {},
     "output_type": "display_data"
    },
    {
     "data": {
      "text/plain": [
       "\n",
       " FALSE   TRUE \n",
       "573986    194 "
      ]
     },
     "metadata": {},
     "output_type": "display_data"
    },
    {
     "data": {
      "text/plain": [
       "\n",
       " FALSE   TRUE \n",
       "573861    179 "
      ]
     },
     "metadata": {},
     "output_type": "display_data"
    },
    {
     "data": {
      "text/plain": [
       "\n",
       "     0      1 \n",
       "568637   5553 "
      ]
     },
     "metadata": {},
     "output_type": "display_data"
    }
   ],
   "source": [
    "# menstrual period recently - less sure about this\n",
    "table(meno_df2$meno.label==\"post\" & !(is.na(meno_df2$day_in_cycle) ) )\n",
    "table(meno_df2$meno.label==\"surgical_meno\" & !is.na(meno_df2$day_in_cycle))\n",
    "table(meno_df2$ooph==1 & !is.na(meno_df2$day_in_cycle))\n",
    "table(meno_df2$hyster==1 & !is.na(meno_df2$day_in_cycle))\n",
    "#table(meno_df2$preg==1 & meno_df2$day_in_cycle < 14)\n",
    "\n",
    "      \n",
    "qc_fails2 <- ((meno_df2$meno.label==\"post\" & !(is.na(meno_df2$day_in_cycle)) ) |  \n",
    "(meno_df2$meno.label==\"surgical_meno\" & !is.na(meno_df2$day_in_cycle)) |\n",
    "(meno_df2$ooph==1 & !is.na(meno_df2$day_in_cycle)) | \n",
    "(meno_df2$hyster==1 & !is.na(meno_df2$day_in_cycle)))\n",
    "      \n",
    "meno_df2[qc_fails2[!is.na(qc_fails2)],]$qc_fail <- 1\n",
    "\n",
    "table(meno_df2$qc_fail)\n",
    "#hist(filter(meno_df2, meno.label==\"post\")$day_in_cycle)\n",
    "                                      "
   ]
  },
  {
   "cell_type": "code",
   "execution_count": 71,
   "metadata": {
    "collapsed": true
   },
   "outputs": [],
   "source": [
    "write.table(meno_df2, file=\"../data/phase_meno_qc.txt\", sep=\"\\t\", quote=FALSE, row.names=FALSE)"
   ]
  },
  {
   "cell_type": "code",
   "execution_count": 41,
   "metadata": {},
   "outputs": [
    {
     "data": {
      "text/plain": [
       "               \n",
       "                FALSE  TRUE\n",
       "  likely_meno     634   466\n",
       "  male             37   115\n",
       "  missing        4269  2218\n",
       "  missing_age      17     7\n",
       "  peri             22    22\n",
       "  post          60166  7104\n",
       "  pre             918   540\n",
       "  premature      9412  1513\n",
       "  surgical_meno 34967  8512"
      ]
     },
     "metadata": {},
     "output_type": "display_data"
    },
    {
     "data": {
      "text/plain": [
       "               \n",
       "                 FALSE   TRUE\n",
       "  likely_meno     5890    158\n",
       "  male              50      5\n",
       "  missing        19501   1006\n",
       "  missing_age       23      0\n",
       "  peri             239      0\n",
       "  post          132783    146\n",
       "  pre            52784   4405\n",
       "  premature      13255     44\n",
       "  surgical_meno  49498     24"
      ]
     },
     "metadata": {},
     "output_type": "display_data"
    }
   ],
   "source": [
    "# HRT vs menopause (expect mostly post-menopausal)\n",
    "table(meno_df2$meno.label, meno_df2$hrt==1)\n",
    "\n",
    "# birth_control: expect mostly pre-menopausal\n",
    "table(meno_df2$meno.label, meno_df2$pill==1)\n"
   ]
  },
  {
   "cell_type": "code",
   "execution_count": 42,
   "metadata": {},
   "outputs": [
    {
     "data": {
      "text/plain": [
       "       \n",
       "        FALSE  TRUE\n",
       "  FALSE 46004  2811\n",
       "  TRUE  10885  1055"
      ]
     },
     "metadata": {},
     "output_type": "display_data"
    }
   ],
   "source": [
    "# [ age at menopause < current age  for first visit ]\n",
    "\n",
    "# if late / outside_cycle == menopause later?\n",
    "# EXPLORATORY\n",
    "# - what do irregular cycles look like?\n",
    "# - does anyone report irregular cycles on the pill? yupppp\n",
    "table(meno_df2$irregular==1, meno_df2$pill==1)"
   ]
  },
  {
   "cell_type": "markdown",
   "metadata": {},
   "source": [
    "#### Look at repeat visits"
   ]
  },
  {
   "cell_type": "code",
   "execution_count": null,
   "metadata": {
    "collapsed": true
   },
   "outputs": [],
   "source": [
    "# 2nd visit\n",
    "\n",
    "# how many are still pre-menopause?\n",
    "\n",
    "# phase information"
   ]
  }
 ],
 "metadata": {
  "kernelspec": {
   "display_name": "R",
   "language": "R",
   "name": "ir"
  },
  "language_info": {
   "codemirror_mode": "r",
   "file_extension": ".r",
   "mimetype": "text/x-r-source",
   "name": "R",
   "pygments_lexer": "r",
   "version": "3.4.0"
  }
 },
 "nbformat": 4,
 "nbformat_minor": 2
}
