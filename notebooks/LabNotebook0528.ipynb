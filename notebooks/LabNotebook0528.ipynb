{
 "cells": [
  {
   "cell_type": "code",
   "execution_count": 1,
   "metadata": {},
   "outputs": [
    {
     "name": "stderr",
     "output_type": "stream",
     "text": [
      "Loading required package: tidyverse\n",
      "── Attaching packages ─────────────────────────────────────── tidyverse 1.2.1 ──\n",
      "✔ ggplot2 2.2.1     ✔ purrr   0.2.4\n",
      "✔ tibble  1.4.2     ✔ dplyr   0.7.4\n",
      "✔ tidyr   0.8.1     ✔ stringr 1.3.0\n",
      "✔ readr   1.1.1     ✔ forcats 0.3.0\n",
      "── Conflicts ────────────────────────────────────────── tidyverse_conflicts() ──\n",
      "✖ dplyr::filter() masks stats::filter()\n",
      "✖ dplyr::lag()    masks stats::lag()\n"
     ]
    }
   ],
   "source": [
    "require('tidyverse')\n",
    "options(stringsAsFactors=FALSE)"
   ]
  },
  {
   "cell_type": "code",
   "execution_count": 2,
   "metadata": {
    "collapsed": true
   },
   "outputs": [],
   "source": [
    "SNP.DIR <- '../data/biomarker/m2'"
   ]
  },
  {
   "cell_type": "code",
   "execution_count": 4,
   "metadata": {
    "collapsed": true
   },
   "outputs": [],
   "source": [
    "f.list <- list.files(pattern=\"*.txt\", SNP.DIR)"
   ]
  },
  {
   "cell_type": "code",
   "execution_count": 3,
   "metadata": {},
   "outputs": [
    {
     "data": {
      "text/html": [
       "<table>\n",
       "<thead><tr><th scope=col>Field</th><th scope=col>name</th></tr></thead>\n",
       "<tbody>\n",
       "\t<tr><td>30620                     </td><td>Alanine aminotransferase  </td></tr>\n",
       "\t<tr><td>30600                     </td><td>Albumin                   </td></tr>\n",
       "\t<tr><td>30610                     </td><td>Alkaline phosphatase      </td></tr>\n",
       "\t<tr><td>30630                     </td><td>Apolipoprotein A          </td></tr>\n",
       "\t<tr><td>30640                     </td><td>Apolipoprotein B          </td></tr>\n",
       "\t<tr><td>30650                     </td><td>Aspartate aminotransferase</td></tr>\n",
       "</tbody>\n",
       "</table>\n"
      ],
      "text/latex": [
       "\\begin{tabular}{r|ll}\n",
       " Field & name\\\\\n",
       "\\hline\n",
       "\t 30620                      & Alanine aminotransferase  \\\\\n",
       "\t 30600                      & Albumin                   \\\\\n",
       "\t 30610                      & Alkaline phosphatase      \\\\\n",
       "\t 30630                      & Apolipoprotein A          \\\\\n",
       "\t 30640                      & Apolipoprotein B          \\\\\n",
       "\t 30650                      & Aspartate aminotransferase\\\\\n",
       "\\end{tabular}\n"
      ],
      "text/markdown": [
       "\n",
       "Field | name | \n",
       "|---|---|---|---|---|---|\n",
       "| 30620                      | Alanine aminotransferase   | \n",
       "| 30600                      | Albumin                    | \n",
       "| 30610                      | Alkaline phosphatase       | \n",
       "| 30630                      | Apolipoprotein A           | \n",
       "| 30640                      | Apolipoprotein B           | \n",
       "| 30650                      | Aspartate aminotransferase | \n",
       "\n",
       "\n"
      ],
      "text/plain": [
       "  Field name                      \n",
       "1 30620 Alanine aminotransferase  \n",
       "2 30600 Albumin                   \n",
       "3 30610 Alkaline phosphatase      \n",
       "4 30630 Apolipoprotein A          \n",
       "5 30640 Apolipoprotein B          \n",
       "6 30650 Aspartate aminotransferase"
      ]
     },
     "metadata": {},
     "output_type": "display_data"
    }
   ],
   "source": [
    "biomarker <- read.table(\"../phe_extraction/list_biomarker.txt\", header=TRUE, stringsAsFactors=FALSE)\n",
    "head(biomarker)\n",
    "biomarker$Field <- sapply(biomarker$Field, as.character)"
   ]
  },
  {
   "cell_type": "code",
   "execution_count": 4,
   "metadata": {
    "collapsed": true
   },
   "outputs": [],
   "source": [
    "example_trait <- '30620'\n",
    "example_tab <- read.delim(sprintf(\"%s/both_%s.txt\", SNP.DIR, example_trait), sep=\" \")\n",
    "COLUMN_NAMES <- c(colnames(example_tab), \"category\")"
   ]
  },
  {
   "cell_type": "code",
   "execution_count": 22,
   "metadata": {
    "collapsed": true
   },
   "outputs": [],
   "source": [
    "\n",
    "reformTabs <- function(trait){\n",
    "       print(trait)\n",
    "    snp_file <- sprintf(\"%s/snp_table_%s.txt\", SNP.DIR, trait)\n",
    "    if (!file.exists(snp_file)){\n",
    "        print(sprintf(\"Error, run did not complete for trait %s\", trait))\n",
    "        return(NA)\n",
    "    }\n",
    "    snp_tab <- read.delim(snp_file, sep=\" \")\n",
    "   \n",
    "    # load f and m and both files\n",
    "    f_file <- sprintf(\"%s/f_spec_%s.txt\", SNP.DIR, trait)\n",
    "    m_file <- sprintf(\"%s/m_spec_%s.txt\", SNP.DIR, trait)\n",
    "    both_file <- sprintf(\"%s/both_%s.txt\", SNP.DIR, trait)\n",
    "    \n",
    "    f_tab2 = NA # initialize\n",
    "    m_tab2 = NA # initialize\n",
    "    both_tab2 = NA # initialize\n",
    "\n",
    "    \n",
    "    if (file.exists(f_file)){\n",
    "        f_tab <- read.delim(f_file, sep=\" \")\n",
    "        if (nrow(f_tab)!=0){\n",
    "         f_tab2 <- left_join(select(data.frame(f_tab), -post), snp_tab, by=\"SNP\")[,COLUMN_NAMES]\n",
    "        }\n",
    "    }\n",
    "    \n",
    "    if (file.exists(m_file)){\n",
    "        m_tab <- read.delim(m_file, sep=\" \")\n",
    "        if (nrow(m_tab)!=0){\n",
    "\n",
    "            m_tab2 <- left_join(select(data.frame(m_tab),-post), snp_tab, by=\"SNP\")[,COLUMN_NAMES]\n",
    "        }\n",
    "    }\n",
    "    \n",
    "    if (file.exists(both_file)){\n",
    "        both_tab <- read.delim(both_file, sep=\" \")\n",
    "        both_tab2 <- left_join(data.frame(both_tab), select(snp_tab, SNP, category), by=\"SNP\")[,COLUMN_NAMES]\n",
    "    }\n",
    "    \n",
    "    # put together\n",
    "    list_tabs <- list(\"f\"=f_tab2, \"m\"=m_tab2, \"b\"=both_tab2)\n",
    "        \n",
    "    list_tabs_loaded <- list_tabs[!is.na(list_tabs)]\n",
    "\n",
    "    if (length(list_tabs_loaded)==0){\n",
    "        return(NA)\n",
    "    } else if (length(list_tabs_loaded)==1){\n",
    "        df <- list_tabs_loaded[[1]]\n",
    "\n",
    "\n",
    "    } else {\n",
    "         df <- do.call(rbind, list_tabs_loaded)\n",
    "\n",
    "    }\n",
    "   df2 <- cbind(df, rep(trait, nrow(df)))\n",
    "    return(df2)\n",
    "}\n",
    "\n",
    "\n",
    "#list_res <- lapply(biomarker$Field, reformTabs)\n"
   ]
  },
  {
   "cell_type": "code",
   "execution_count": 23,
   "metadata": {},
   "outputs": [
    {
     "name": "stdout",
     "output_type": "stream",
     "text": [
      "[1] \"30620\"\n",
      "[1] \"30600\"\n",
      "[1] \"30610\"\n",
      "[1] \"30630\"\n",
      "[1] \"30640\"\n",
      "[1] \"30650\"\n",
      "[1] \"30710\"\n",
      "[1] \"30680\"\n",
      "[1] \"30690\"\n",
      "[1] \"30700\"\n",
      "[1] \"30720\"\n",
      "[1] \"30660\"\n",
      "[1] \"30730\"\n",
      "[1] \"30740\"\n",
      "[1] \"30750\"\n",
      "[1] \"30760\"\n",
      "[1] \"30770\"\n",
      "[1] \"30780\"\n",
      "[1] \"30790\"\n",
      "[1] \"30800\"\n",
      "[1] \"30810\"\n",
      "[1] \"30820\"\n",
      "[1] \"30830\"\n",
      "[1] \"30850\"\n",
      "[1] \"30840\"\n",
      "[1] \"30860\"\n",
      "[1] \"30870\"\n",
      "[1] \"30880\"\n",
      "[1] \"30670\"\n",
      "[1] \"30890\"\n"
     ]
    }
   ],
   "source": [
    "list_res <- lapply(biomarker$Field, reformTabs)"
   ]
  },
  {
   "cell_type": "code",
   "execution_count": 24,
   "metadata": {},
   "outputs": [
    {
     "data": {
      "text/html": [
       "25"
      ],
      "text/latex": [
       "25"
      ],
      "text/markdown": [
       "25"
      ],
      "text/plain": [
       "[1] 25"
      ]
     },
     "metadata": {},
     "output_type": "display_data"
    }
   ],
   "source": [
    "list_res2<- list_res[!is.na(list_res)]\n",
    "length(list_res2)\n"
   ]
  },
  {
   "cell_type": "code",
   "execution_count": 27,
   "metadata": {},
   "outputs": [
    {
     "data": {
      "text/html": [
       "<table>\n",
       "<thead><tr><th></th><th scope=col>SNP</th><th scope=col>CHR</th><th scope=col>BP</th><th scope=col>B_f</th><th scope=col>B_m</th><th scope=col>SE_f</th><th scope=col>SE_m</th><th scope=col>p_m</th><th scope=col>p_f</th><th scope=col>p1</th><th scope=col>p2</th><th scope=col>p3</th><th scope=col>p4</th><th scope=col>gene</th><th scope=col>category</th><th scope=col>rep(trait, nrow(df))</th></tr></thead>\n",
       "<tbody>\n",
       "\t<tr><th scope=row>m</th><td>rs145331563  </td><td> 8           </td><td>145729793    </td><td>-1.2353400   </td><td>-1.2306800   </td><td>0.10272400   </td><td>0.09692910   </td><td>6.44686e-37  </td><td>2.69515e-33  </td><td> 3.483756e-29</td><td>1.100450e-04 </td><td>9.998864e-01 </td><td>3.604242e-06 </td><td>GPT          </td><td>3            </td><td>30620        </td></tr>\n",
       "\t<tr><th scope=row>b.1</th><td>Affx-15837191</td><td>19           </td><td>  3752874    </td><td>-0.0089499   </td><td>-0.0223548   </td><td>0.00365519   </td><td>0.00366267   </td><td>1.04082e-09  </td><td>1.43446e-02  </td><td> 9.821041e-05</td><td>9.882935e-12 </td><td>1.631090e-04 </td><td>9.997387e-01 </td><td>APBA3        </td><td>4            </td><td>30620        </td></tr>\n",
       "\t<tr><th scope=row>b.2</th><td>Affx-19716376</td><td>22           </td><td> 44332888    </td><td> 0.0930435   </td><td> 0.0926454   </td><td>0.00489690   </td><td>0.00489773   </td><td>1.04555e-79  </td><td>2.10594e-80  </td><td>4.033083e-151</td><td>6.720372e-81 </td><td>3.638836e-81 </td><td>1.000000e+00 </td><td>PNPLA3       </td><td>4            </td><td>30620        </td></tr>\n",
       "\t<tr><th scope=row>b.3</th><td>Affx-20090007</td><td> 2           </td><td> 44066247    </td><td> 0.0487479   </td><td> 0.0241566   </td><td>0.00732244   </td><td>0.00734086   </td><td>9.99596e-04  </td><td>2.79812e-11  </td><td> 7.716685e-08</td><td>3.265266e-06 </td><td>4.699158e-13 </td><td>9.999967e-01 </td><td>ABCG8        </td><td>4            </td><td>30620        </td></tr>\n",
       "\t<tr><th scope=row>b.4</th><td>Affx-26682790</td><td> 5           </td><td> 52193237    </td><td> 0.0158860   </td><td> 0.0370083   </td><td>0.00661660   </td><td>0.00665250   </td><td>2.65530e-08  </td><td>1.63543e-02  </td><td> 8.538231e-04</td><td>1.385713e-10 </td><td>1.101344e-04 </td><td>9.990360e-01 </td><td>ITGA1        </td><td>4            </td><td>30620        </td></tr>\n",
       "\t<tr><th scope=row>b.5</th><td>Affx-28463585</td><td> 6           </td><td> 31830593    </td><td> 0.0431294   </td><td> 0.0397117   </td><td>0.01062330   </td><td>0.01076600   </td><td>2.25553e-04  </td><td>4.91248e-05  </td><td> 1.037415e-02</td><td>5.744525e-07 </td><td>3.713973e-07 </td><td>9.896249e-01 </td><td>NEU1         </td><td>4            </td><td>30620        </td></tr>\n",
       "</tbody>\n",
       "</table>\n"
      ],
      "text/latex": [
       "\\begin{tabular}{r|llllllllllllllll}\n",
       "  & SNP & CHR & BP & B\\_f & B\\_m & SE\\_f & SE\\_m & p\\_m & p\\_f & p1 & p2 & p3 & p4 & gene & category & rep(trait, nrow(df))\\\\\n",
       "\\hline\n",
       "\tm & rs145331563   &  8            & 145729793     & -1.2353400    & -1.2306800    & 0.10272400    & 0.09692910    & 6.44686e-37   & 2.69515e-33   &  3.483756e-29 & 1.100450e-04  & 9.998864e-01  & 3.604242e-06  & GPT           & 3             & 30620        \\\\\n",
       "\tb.1 & Affx-15837191 & 19            &   3752874     & -0.0089499    & -0.0223548    & 0.00365519    & 0.00366267    & 1.04082e-09   & 1.43446e-02   &  9.821041e-05 & 9.882935e-12  & 1.631090e-04  & 9.997387e-01  & APBA3         & 4             & 30620        \\\\\n",
       "\tb.2 & Affx-19716376 & 22            &  44332888     &  0.0930435    &  0.0926454    & 0.00489690    & 0.00489773    & 1.04555e-79   & 2.10594e-80   & 4.033083e-151 & 6.720372e-81  & 3.638836e-81  & 1.000000e+00  & PNPLA3        & 4             & 30620        \\\\\n",
       "\tb.3 & Affx-20090007 &  2            &  44066247     &  0.0487479    &  0.0241566    & 0.00732244    & 0.00734086    & 9.99596e-04   & 2.79812e-11   &  7.716685e-08 & 3.265266e-06  & 4.699158e-13  & 9.999967e-01  & ABCG8         & 4             & 30620        \\\\\n",
       "\tb.4 & Affx-26682790 &  5            &  52193237     &  0.0158860    &  0.0370083    & 0.00661660    & 0.00665250    & 2.65530e-08   & 1.63543e-02   &  8.538231e-04 & 1.385713e-10  & 1.101344e-04  & 9.990360e-01  & ITGA1         & 4             & 30620        \\\\\n",
       "\tb.5 & Affx-28463585 &  6            &  31830593     &  0.0431294    &  0.0397117    & 0.01062330    & 0.01076600    & 2.25553e-04   & 4.91248e-05   &  1.037415e-02 & 5.744525e-07  & 3.713973e-07  & 9.896249e-01  & NEU1          & 4             & 30620        \\\\\n",
       "\\end{tabular}\n"
      ],
      "text/markdown": [
       "\n",
       "| <!--/--> | SNP | CHR | BP | B_f | B_m | SE_f | SE_m | p_m | p_f | p1 | p2 | p3 | p4 | gene | category | rep(trait, nrow(df)) | \n",
       "|---|---|---|---|---|---|\n",
       "| m | rs145331563   |  8            | 145729793     | -1.2353400    | -1.2306800    | 0.10272400    | 0.09692910    | 6.44686e-37   | 2.69515e-33   |  3.483756e-29 | 1.100450e-04  | 9.998864e-01  | 3.604242e-06  | GPT           | 3             | 30620         | \n",
       "| b.1 | Affx-15837191 | 19            |   3752874     | -0.0089499    | -0.0223548    | 0.00365519    | 0.00366267    | 1.04082e-09   | 1.43446e-02   |  9.821041e-05 | 9.882935e-12  | 1.631090e-04  | 9.997387e-01  | APBA3         | 4             | 30620         | \n",
       "| b.2 | Affx-19716376 | 22            |  44332888     |  0.0930435    |  0.0926454    | 0.00489690    | 0.00489773    | 1.04555e-79   | 2.10594e-80   | 4.033083e-151 | 6.720372e-81  | 3.638836e-81  | 1.000000e+00  | PNPLA3        | 4             | 30620         | \n",
       "| b.3 | Affx-20090007 |  2            |  44066247     |  0.0487479    |  0.0241566    | 0.00732244    | 0.00734086    | 9.99596e-04   | 2.79812e-11   |  7.716685e-08 | 3.265266e-06  | 4.699158e-13  | 9.999967e-01  | ABCG8         | 4             | 30620         | \n",
       "| b.4 | Affx-26682790 |  5            |  52193237     |  0.0158860    |  0.0370083    | 0.00661660    | 0.00665250    | 2.65530e-08   | 1.63543e-02   |  8.538231e-04 | 1.385713e-10  | 1.101344e-04  | 9.990360e-01  | ITGA1         | 4             | 30620         | \n",
       "| b.5 | Affx-28463585 |  6            |  31830593     |  0.0431294    |  0.0397117    | 0.01062330    | 0.01076600    | 2.25553e-04   | 4.91248e-05   |  1.037415e-02 | 5.744525e-07  | 3.713973e-07  | 9.896249e-01  | NEU1          | 4             | 30620         | \n",
       "\n",
       "\n"
      ],
      "text/plain": [
       "    SNP           CHR BP        B_f        B_m        SE_f       SE_m      \n",
       "m   rs145331563    8  145729793 -1.2353400 -1.2306800 0.10272400 0.09692910\n",
       "b.1 Affx-15837191 19    3752874 -0.0089499 -0.0223548 0.00365519 0.00366267\n",
       "b.2 Affx-19716376 22   44332888  0.0930435  0.0926454 0.00489690 0.00489773\n",
       "b.3 Affx-20090007  2   44066247  0.0487479  0.0241566 0.00732244 0.00734086\n",
       "b.4 Affx-26682790  5   52193237  0.0158860  0.0370083 0.00661660 0.00665250\n",
       "b.5 Affx-28463585  6   31830593  0.0431294  0.0397117 0.01062330 0.01076600\n",
       "    p_m         p_f         p1            p2           p3          \n",
       "m   6.44686e-37 2.69515e-33  3.483756e-29 1.100450e-04 9.998864e-01\n",
       "b.1 1.04082e-09 1.43446e-02  9.821041e-05 9.882935e-12 1.631090e-04\n",
       "b.2 1.04555e-79 2.10594e-80 4.033083e-151 6.720372e-81 3.638836e-81\n",
       "b.3 9.99596e-04 2.79812e-11  7.716685e-08 3.265266e-06 4.699158e-13\n",
       "b.4 2.65530e-08 1.63543e-02  8.538231e-04 1.385713e-10 1.101344e-04\n",
       "b.5 2.25553e-04 4.91248e-05  1.037415e-02 5.744525e-07 3.713973e-07\n",
       "    p4           gene   category rep(trait, nrow(df))\n",
       "m   3.604242e-06 GPT    3        30620               \n",
       "b.1 9.997387e-01 APBA3  4        30620               \n",
       "b.2 1.000000e+00 PNPLA3 4        30620               \n",
       "b.3 9.999967e-01 ABCG8  4        30620               \n",
       "b.4 9.990360e-01 ITGA1  4        30620               \n",
       "b.5 9.896249e-01 NEU1   4        30620               "
      ]
     },
     "metadata": {},
     "output_type": "display_data"
    }
   ],
   "source": [
    "full_df <- do.call(rbind, list_res2)\n",
    "head(full_df)\n",
    "colnames(full_df)[ncol(full_df)] <- \"trait\""
   ]
  },
  {
   "cell_type": "code",
   "execution_count": 29,
   "metadata": {},
   "outputs": [
    {
     "data": {
      "text/html": [
       "<table>\n",
       "<thead><tr><th scope=col>SNP</th><th scope=col>CHR</th><th scope=col>BP</th><th scope=col>B_f</th><th scope=col>B_m</th><th scope=col>SE_f</th><th scope=col>SE_m</th><th scope=col>p_m</th><th scope=col>p_f</th><th scope=col>p1</th><th scope=col>p2</th><th scope=col>p3</th><th scope=col>p4</th><th scope=col>gene</th><th scope=col>category</th><th scope=col>trait</th><th scope=col>name</th></tr></thead>\n",
       "<tbody>\n",
       "\t<tr><td>rs145331563             </td><td> 8                      </td><td>145729793               </td><td>-1.2353400              </td><td>-1.2306800              </td><td>0.10272400              </td><td>0.09692910              </td><td>6.44686e-37             </td><td>2.69515e-33             </td><td> 3.483756e-29           </td><td>1.100450e-04            </td><td>9.998864e-01            </td><td>3.604242e-06            </td><td>GPT                     </td><td>3                       </td><td>30620                   </td><td>Alanine aminotransferase</td></tr>\n",
       "\t<tr><td>Affx-15837191           </td><td>19                      </td><td>  3752874               </td><td>-0.0089499              </td><td>-0.0223548              </td><td>0.00365519              </td><td>0.00366267              </td><td>1.04082e-09             </td><td>1.43446e-02             </td><td> 9.821041e-05           </td><td>9.882935e-12            </td><td>1.631090e-04            </td><td>9.997387e-01            </td><td>APBA3                   </td><td>4                       </td><td>30620                   </td><td>Alanine aminotransferase</td></tr>\n",
       "\t<tr><td>Affx-19716376           </td><td>22                      </td><td> 44332888               </td><td> 0.0930435              </td><td> 0.0926454              </td><td>0.00489690              </td><td>0.00489773              </td><td>1.04555e-79             </td><td>2.10594e-80             </td><td>4.033083e-151           </td><td>6.720372e-81            </td><td>3.638836e-81            </td><td>1.000000e+00            </td><td>PNPLA3                  </td><td>4                       </td><td>30620                   </td><td>Alanine aminotransferase</td></tr>\n",
       "\t<tr><td>Affx-20090007           </td><td> 2                      </td><td> 44066247               </td><td> 0.0487479              </td><td> 0.0241566              </td><td>0.00732244              </td><td>0.00734086              </td><td>9.99596e-04             </td><td>2.79812e-11             </td><td> 7.716685e-08           </td><td>3.265266e-06            </td><td>4.699158e-13            </td><td>9.999967e-01            </td><td>ABCG8                   </td><td>4                       </td><td>30620                   </td><td>Alanine aminotransferase</td></tr>\n",
       "\t<tr><td>Affx-26682790           </td><td> 5                      </td><td> 52193237               </td><td> 0.0158860              </td><td> 0.0370083              </td><td>0.00661660              </td><td>0.00665250              </td><td>2.65530e-08             </td><td>1.63543e-02             </td><td> 8.538231e-04           </td><td>1.385713e-10            </td><td>1.101344e-04            </td><td>9.990360e-01            </td><td>ITGA1                   </td><td>4                       </td><td>30620                   </td><td>Alanine aminotransferase</td></tr>\n",
       "\t<tr><td>Affx-28463585           </td><td> 6                      </td><td> 31830593               </td><td> 0.0431294              </td><td> 0.0397117              </td><td>0.01062330              </td><td>0.01076600              </td><td>2.25553e-04             </td><td>4.91248e-05             </td><td> 1.037415e-02           </td><td>5.744525e-07            </td><td>3.713973e-07            </td><td>9.896249e-01            </td><td>NEU1                    </td><td>4                       </td><td>30620                   </td><td>Alanine aminotransferase</td></tr>\n",
       "</tbody>\n",
       "</table>\n"
      ],
      "text/latex": [
       "\\begin{tabular}{r|lllllllllllllllll}\n",
       " SNP & CHR & BP & B\\_f & B\\_m & SE\\_f & SE\\_m & p\\_m & p\\_f & p1 & p2 & p3 & p4 & gene & category & trait & name\\\\\n",
       "\\hline\n",
       "\t rs145331563              &  8                       & 145729793                & -1.2353400               & -1.2306800               & 0.10272400               & 0.09692910               & 6.44686e-37              & 2.69515e-33              &  3.483756e-29            & 1.100450e-04             & 9.998864e-01             & 3.604242e-06             & GPT                      & 3                        & 30620                    & Alanine aminotransferase\\\\\n",
       "\t Affx-15837191            & 19                       &   3752874                & -0.0089499               & -0.0223548               & 0.00365519               & 0.00366267               & 1.04082e-09              & 1.43446e-02              &  9.821041e-05            & 9.882935e-12             & 1.631090e-04             & 9.997387e-01             & APBA3                    & 4                        & 30620                    & Alanine aminotransferase\\\\\n",
       "\t Affx-19716376            & 22                       &  44332888                &  0.0930435               &  0.0926454               & 0.00489690               & 0.00489773               & 1.04555e-79              & 2.10594e-80              & 4.033083e-151            & 6.720372e-81             & 3.638836e-81             & 1.000000e+00             & PNPLA3                   & 4                        & 30620                    & Alanine aminotransferase\\\\\n",
       "\t Affx-20090007            &  2                       &  44066247                &  0.0487479               &  0.0241566               & 0.00732244               & 0.00734086               & 9.99596e-04              & 2.79812e-11              &  7.716685e-08            & 3.265266e-06             & 4.699158e-13             & 9.999967e-01             & ABCG8                    & 4                        & 30620                    & Alanine aminotransferase\\\\\n",
       "\t Affx-26682790            &  5                       &  52193237                &  0.0158860               &  0.0370083               & 0.00661660               & 0.00665250               & 2.65530e-08              & 1.63543e-02              &  8.538231e-04            & 1.385713e-10             & 1.101344e-04             & 9.990360e-01             & ITGA1                    & 4                        & 30620                    & Alanine aminotransferase\\\\\n",
       "\t Affx-28463585            &  6                       &  31830593                &  0.0431294               &  0.0397117               & 0.01062330               & 0.01076600               & 2.25553e-04              & 4.91248e-05              &  1.037415e-02            & 5.744525e-07             & 3.713973e-07             & 9.896249e-01             & NEU1                     & 4                        & 30620                    & Alanine aminotransferase\\\\\n",
       "\\end{tabular}\n"
      ],
      "text/markdown": [
       "\n",
       "SNP | CHR | BP | B_f | B_m | SE_f | SE_m | p_m | p_f | p1 | p2 | p3 | p4 | gene | category | trait | name | \n",
       "|---|---|---|---|---|---|\n",
       "| rs145331563              |  8                       | 145729793                | -1.2353400               | -1.2306800               | 0.10272400               | 0.09692910               | 6.44686e-37              | 2.69515e-33              |  3.483756e-29            | 1.100450e-04             | 9.998864e-01             | 3.604242e-06             | GPT                      | 3                        | 30620                    | Alanine aminotransferase | \n",
       "| Affx-15837191            | 19                       |   3752874                | -0.0089499               | -0.0223548               | 0.00365519               | 0.00366267               | 1.04082e-09              | 1.43446e-02              |  9.821041e-05            | 9.882935e-12             | 1.631090e-04             | 9.997387e-01             | APBA3                    | 4                        | 30620                    | Alanine aminotransferase | \n",
       "| Affx-19716376            | 22                       |  44332888                |  0.0930435               |  0.0926454               | 0.00489690               | 0.00489773               | 1.04555e-79              | 2.10594e-80              | 4.033083e-151            | 6.720372e-81             | 3.638836e-81             | 1.000000e+00             | PNPLA3                   | 4                        | 30620                    | Alanine aminotransferase | \n",
       "| Affx-20090007            |  2                       |  44066247                |  0.0487479               |  0.0241566               | 0.00732244               | 0.00734086               | 9.99596e-04              | 2.79812e-11              |  7.716685e-08            | 3.265266e-06             | 4.699158e-13             | 9.999967e-01             | ABCG8                    | 4                        | 30620                    | Alanine aminotransferase | \n",
       "| Affx-26682790            |  5                       |  52193237                |  0.0158860               |  0.0370083               | 0.00661660               | 0.00665250               | 2.65530e-08              | 1.63543e-02              |  8.538231e-04            | 1.385713e-10             | 1.101344e-04             | 9.990360e-01             | ITGA1                    | 4                        | 30620                    | Alanine aminotransferase | \n",
       "| Affx-28463585            |  6                       |  31830593                |  0.0431294               |  0.0397117               | 0.01062330               | 0.01076600               | 2.25553e-04              | 4.91248e-05              |  1.037415e-02            | 5.744525e-07             | 3.713973e-07             | 9.896249e-01             | NEU1                     | 4                        | 30620                    | Alanine aminotransferase | \n",
       "\n",
       "\n"
      ],
      "text/plain": [
       "  SNP           CHR BP        B_f        B_m        SE_f       SE_m      \n",
       "1 rs145331563    8  145729793 -1.2353400 -1.2306800 0.10272400 0.09692910\n",
       "2 Affx-15837191 19    3752874 -0.0089499 -0.0223548 0.00365519 0.00366267\n",
       "3 Affx-19716376 22   44332888  0.0930435  0.0926454 0.00489690 0.00489773\n",
       "4 Affx-20090007  2   44066247  0.0487479  0.0241566 0.00732244 0.00734086\n",
       "5 Affx-26682790  5   52193237  0.0158860  0.0370083 0.00661660 0.00665250\n",
       "6 Affx-28463585  6   31830593  0.0431294  0.0397117 0.01062330 0.01076600\n",
       "  p_m         p_f         p1            p2           p3           p4          \n",
       "1 6.44686e-37 2.69515e-33  3.483756e-29 1.100450e-04 9.998864e-01 3.604242e-06\n",
       "2 1.04082e-09 1.43446e-02  9.821041e-05 9.882935e-12 1.631090e-04 9.997387e-01\n",
       "3 1.04555e-79 2.10594e-80 4.033083e-151 6.720372e-81 3.638836e-81 1.000000e+00\n",
       "4 9.99596e-04 2.79812e-11  7.716685e-08 3.265266e-06 4.699158e-13 9.999967e-01\n",
       "5 2.65530e-08 1.63543e-02  8.538231e-04 1.385713e-10 1.101344e-04 9.990360e-01\n",
       "6 2.25553e-04 4.91248e-05  1.037415e-02 5.744525e-07 3.713973e-07 9.896249e-01\n",
       "  gene   category trait name                    \n",
       "1 GPT    3        30620 Alanine aminotransferase\n",
       "2 APBA3  4        30620 Alanine aminotransferase\n",
       "3 PNPLA3 4        30620 Alanine aminotransferase\n",
       "4 ABCG8  4        30620 Alanine aminotransferase\n",
       "5 ITGA1  4        30620 Alanine aminotransferase\n",
       "6 NEU1   4        30620 Alanine aminotransferase"
      ]
     },
     "metadata": {},
     "output_type": "display_data"
    },
    {
     "data": {
      "text/html": [
       "<ol class=list-inline>\n",
       "\t<li>19143</li>\n",
       "\t<li>17</li>\n",
       "</ol>\n"
      ],
      "text/latex": [
       "\\begin{enumerate*}\n",
       "\\item 19143\n",
       "\\item 17\n",
       "\\end{enumerate*}\n"
      ],
      "text/markdown": [
       "1. 19143\n",
       "2. 17\n",
       "\n",
       "\n"
      ],
      "text/plain": [
       "[1] 19143    17"
      ]
     },
     "metadata": {},
     "output_type": "display_data"
    }
   ],
   "source": [
    "tab_w_names <- left_join(full_df, biomarker, by=c(\"trait\"=\"Field\"))\n",
    "head(tab_w_names)\n",
    "dim(tab_w_names)\n"
   ]
  },
  {
   "cell_type": "code",
   "execution_count": 31,
   "metadata": {
    "collapsed": true
   },
   "outputs": [],
   "source": [
    "write.table(tab_w_names, file=sprintf(\"%s/full_snp_tab.txt\", SNP.DIR), sep=\"\\t\", row.names=FALSE)"
   ]
  },
  {
   "cell_type": "code",
   "execution_count": 37,
   "metadata": {},
   "outputs": [
    {
     "name": "stderr",
     "output_type": "stream",
     "text": [
      "Loading required package: reshape2\n",
      "\n",
      "Attaching package: ‘reshape2’\n",
      "\n",
      "The following object is masked from ‘package:tidyr’:\n",
      "\n",
      "    smiths\n",
      "\n",
      "Using Freq as value column: use value.var to override.\n"
     ]
    },
    {
     "data": {
      "text/html": [
       "<table>\n",
       "<thead><tr><th scope=col>name</th><th scope=col>2</th><th scope=col>3</th><th scope=col>4</th></tr></thead>\n",
       "<tbody>\n",
       "\t<tr><td>Alanine aminotransferase  </td><td>0                         </td><td>1                         </td><td> 439                      </td></tr>\n",
       "\t<tr><td>Albumin                   </td><td>0                         </td><td>0                         </td><td> 451                      </td></tr>\n",
       "\t<tr><td>Alkaline phosphatase      </td><td>1                         </td><td>8                         </td><td>1571                      </td></tr>\n",
       "\t<tr><td>Apolipoprotein A          </td><td>1                         </td><td>2                         </td><td>1088                      </td></tr>\n",
       "\t<tr><td>Apolipoprotein B          </td><td>0                         </td><td>0                         </td><td> 716                      </td></tr>\n",
       "\t<tr><td>Aspartate aminotransferase</td><td>2                         </td><td>0                         </td><td>1003                      </td></tr>\n",
       "</tbody>\n",
       "</table>\n"
      ],
      "text/latex": [
       "\\begin{tabular}{r|llll}\n",
       " name & 2 & 3 & 4\\\\\n",
       "\\hline\n",
       "\t Alanine aminotransferase   & 0                          & 1                          &  439                      \\\\\n",
       "\t Albumin                    & 0                          & 0                          &  451                      \\\\\n",
       "\t Alkaline phosphatase       & 1                          & 8                          & 1571                      \\\\\n",
       "\t Apolipoprotein A           & 1                          & 2                          & 1088                      \\\\\n",
       "\t Apolipoprotein B           & 0                          & 0                          &  716                      \\\\\n",
       "\t Aspartate aminotransferase & 2                          & 0                          & 1003                      \\\\\n",
       "\\end{tabular}\n"
      ],
      "text/markdown": [
       "\n",
       "name | 2 | 3 | 4 | \n",
       "|---|---|---|---|---|---|\n",
       "| Alanine aminotransferase   | 0                          | 1                          |  439                       | \n",
       "| Albumin                    | 0                          | 0                          |  451                       | \n",
       "| Alkaline phosphatase       | 1                          | 8                          | 1571                       | \n",
       "| Apolipoprotein A           | 1                          | 2                          | 1088                       | \n",
       "| Apolipoprotein B           | 0                          | 0                          |  716                       | \n",
       "| Aspartate aminotransferase | 2                          | 0                          | 1003                       | \n",
       "\n",
       "\n"
      ],
      "text/plain": [
       "  name                       2 3 4   \n",
       "1 Alanine aminotransferase   0 1  439\n",
       "2 Albumin                    0 0  451\n",
       "3 Alkaline phosphatase       1 8 1571\n",
       "4 Apolipoprotein A           1 2 1088\n",
       "5 Apolipoprotein B           0 0  716\n",
       "6 Aspartate aminotransferase 2 0 1003"
      ]
     },
     "metadata": {},
     "output_type": "display_data"
    }
   ],
   "source": [
    "require('reshape2')\n",
    "\n",
    "df_counts <- data.frame(table(tab_w_names[,c(\"name\", \"category\")]))\n",
    "df_counts_short <- dcast(df_counts, name ~ category)\n",
    "head(df_counts_short)\n",
    "colnames(df_counts_short) <- c(\"trait\", \"f_spec\", \"m_spec\", \"both\")\n",
    "write.table()"
   ]
  },
  {
   "cell_type": "code",
   "execution_count": 33,
   "metadata": {
    "collapsed": true
   },
   "outputs": [],
   "source": [
    "write.table(filter(tab_w_names, category == 2), file=sprintf(\"%s/all_f_spec_tab.txt\", SNP.DIR), sep=\"\\t\", row.names=FALSE)\n",
    "write.table(filter(tab_w_names, category == 3), file=sprintf(\"%s/all_m_spec_tab.txt\", SNP.DIR), sep=\"\\t\", row.names=FALSE)\n",
    "write.table(filter(tab_w_names, category == 4), file=sprintf(\"%s/all_cat4_tab.txt\", SNP.DIR), sep=\"\\t\", row.names=FALSE)"
   ]
  },
  {
   "cell_type": "code",
   "execution_count": null,
   "metadata": {
    "collapsed": true
   },
   "outputs": [],
   "source": [
    "# put all SNPs together w probabilities\n",
    "\n",
    "# add the trait ID and name\n",
    "\n",
    "# create a meta-table of counts of all of traits"
   ]
  },
  {
   "cell_type": "code",
   "execution_count": 37,
   "metadata": {},
   "outputs": [
    {
     "name": "stdout",
     "output_type": "stream",
     "text": [
      "[1] \"30620\"\n"
     ]
    },
    {
     "data": {
      "text/html": [
       "<table>\n",
       "<thead><tr><th scope=col>p1</th><th scope=col>p2</th><th scope=col>p3</th><th scope=col>p4</th><th scope=col>category</th><th scope=col>SNP</th></tr></thead>\n",
       "<tbody>\n",
       "\t<tr><td>0.9980048   </td><td>3.844641e-07</td><td>3.597754e-07</td><td>1.994453e-03</td><td>1           </td><td>rs115991721 </td></tr>\n",
       "\t<tr><td>0.9999466   </td><td>1.162119e-08</td><td>7.276292e-08</td><td>5.326779e-05</td><td>1           </td><td>rs12562034  </td></tr>\n",
       "</tbody>\n",
       "</table>\n"
      ],
      "text/latex": [
       "\\begin{tabular}{r|llllll}\n",
       " p1 & p2 & p3 & p4 & category & SNP\\\\\n",
       "\\hline\n",
       "\t 0.9980048    & 3.844641e-07 & 3.597754e-07 & 1.994453e-03 & 1            & rs115991721 \\\\\n",
       "\t 0.9999466    & 1.162119e-08 & 7.276292e-08 & 5.326779e-05 & 1            & rs12562034  \\\\\n",
       "\\end{tabular}\n"
      ],
      "text/markdown": [
       "\n",
       "p1 | p2 | p3 | p4 | category | SNP | \n",
       "|---|---|\n",
       "| 0.9980048    | 3.844641e-07 | 3.597754e-07 | 1.994453e-03 | 1            | rs115991721  | \n",
       "| 0.9999466    | 1.162119e-08 | 7.276292e-08 | 5.326779e-05 | 1            | rs12562034   | \n",
       "\n",
       "\n"
      ],
      "text/plain": [
       "  p1        p2           p3           p4           category SNP        \n",
       "1 0.9980048 3.844641e-07 3.597754e-07 1.994453e-03 1        rs115991721\n",
       "2 0.9999466 1.162119e-08 7.276292e-08 5.326779e-05 1        rs12562034 "
      ]
     },
     "metadata": {},
     "output_type": "display_data"
    },
    {
     "name": "stdout",
     "output_type": "stream",
     "text": [
      "[1] 0 1\n"
     ]
    },
    {
     "ename": "ERROR",
     "evalue": "Error: `by` can't contain join column `SNP` which is missing from LHS\n",
     "output_type": "error",
     "traceback": [
      "Error: `by` can't contain join column `SNP` which is missing from LHS\nTraceback:\n",
      "1. left_join(f_tab, snp_tab, by = \"SNP\")   # at line 24 of file <text>",
      "2. left_join.data.frame(f_tab, snp_tab, by = \"SNP\")",
      "3. as.data.frame(left_join(tbl_df(x), y, by = by, copy = copy, ...))",
      "4. left_join(tbl_df(x), y, by = by, copy = copy, ...)",
      "5. left_join.tbl_df(tbl_df(x), y, by = by, copy = copy, ...)",
      "6. common_by(by, x, y)",
      "7. common_by.character(by, x, y)",
      "8. common_by.list(by, x, y)",
      "9. bad_args(\"by\", \"can't contain join column {missing} which is missing from LHS\", \n .     missing = fmt_obj(setdiff(by$x, x_vars)))",
      "10. glubort(fmt_args(args), ..., .envir = .envir)",
      "11. .abort(text)"
     ]
    }
   ],
   "source": [
    " trait <- '30620'\n",
    "\n",
    "    "
   ]
  },
  {
   "cell_type": "code",
   "execution_count": 16,
   "metadata": {},
   "outputs": [
    {
     "name": "stderr",
     "output_type": "stream",
     "text": [
      "Joining, by = \"SNP\"\n",
      "Joining, by = \"SNP\"\n"
     ]
    },
    {
     "data": {
      "text/html": [
       "<table>\n",
       "<thead><tr><th scope=col>SNP</th><th scope=col>CHR</th><th scope=col>BP</th><th scope=col>B_f</th><th scope=col>B_m</th><th scope=col>SE_f</th><th scope=col>SE_m</th><th scope=col>p_m</th><th scope=col>p_f</th><th scope=col>post</th><th scope=col>gene</th><th scope=col>p1</th><th scope=col>p2</th><th scope=col>p3</th><th scope=col>p4</th><th scope=col>category</th></tr></thead>\n",
       "<tbody>\n",
       "\t<tr><td>Affx-52354612</td><td>15           </td><td>58838103     </td><td>0.640991     </td><td>0.453777     </td><td>0.0849286    </td><td>0.0819133    </td><td>3.03517e-08  </td><td>4.46767e-14  </td><td>0.9993879    </td><td>LIPC         </td><td>3.550410e-07 </td><td>0.9993879    </td><td>1.194965e-06 </td><td>0.0006105524 </td><td>2            </td></tr>\n",
       "\t<tr><td>rs150090666  </td><td>11           </td><td>14865399     </td><td>0.527802     </td><td>0.271883     </td><td>0.0595380    </td><td>0.0574659    </td><td>2.23413e-06  </td><td>7.74324e-19  </td><td>0.9997144    </td><td>PDE3B        </td><td>9.396419e-12 </td><td>0.9997144    </td><td>3.635398e-13 </td><td>0.0002855505 </td><td>2            </td></tr>\n",
       "</tbody>\n",
       "</table>\n"
      ],
      "text/latex": [
       "\\begin{tabular}{r|llllllllllllllll}\n",
       " SNP & CHR & BP & B\\_f & B\\_m & SE\\_f & SE\\_m & p\\_m & p\\_f & post & gene & p1 & p2 & p3 & p4 & category\\\\\n",
       "\\hline\n",
       "\t Affx-52354612 & 15            & 58838103      & 0.640991      & 0.453777      & 0.0849286     & 0.0819133     & 3.03517e-08   & 4.46767e-14   & 0.9993879     & LIPC          & 3.550410e-07  & 0.9993879     & 1.194965e-06  & 0.0006105524  & 2            \\\\\n",
       "\t rs150090666   & 11            & 14865399      & 0.527802      & 0.271883      & 0.0595380     & 0.0574659     & 2.23413e-06   & 7.74324e-19   & 0.9997144     & PDE3B         & 9.396419e-12  & 0.9997144     & 3.635398e-13  & 0.0002855505  & 2            \\\\\n",
       "\\end{tabular}\n"
      ],
      "text/markdown": [
       "\n",
       "SNP | CHR | BP | B_f | B_m | SE_f | SE_m | p_m | p_f | post | gene | p1 | p2 | p3 | p4 | category | \n",
       "|---|---|\n",
       "| Affx-52354612 | 15            | 58838103      | 0.640991      | 0.453777      | 0.0849286     | 0.0819133     | 3.03517e-08   | 4.46767e-14   | 0.9993879     | LIPC          | 3.550410e-07  | 0.9993879     | 1.194965e-06  | 0.0006105524  | 2             | \n",
       "| rs150090666   | 11            | 14865399      | 0.527802      | 0.271883      | 0.0595380     | 0.0574659     | 2.23413e-06   | 7.74324e-19   | 0.9997144     | PDE3B         | 9.396419e-12  | 0.9997144     | 3.635398e-13  | 0.0002855505  | 2             | \n",
       "\n",
       "\n"
      ],
      "text/plain": [
       "  SNP           CHR BP       B_f      B_m      SE_f      SE_m      p_m        \n",
       "1 Affx-52354612 15  58838103 0.640991 0.453777 0.0849286 0.0819133 3.03517e-08\n",
       "2 rs150090666   11  14865399 0.527802 0.271883 0.0595380 0.0574659 2.23413e-06\n",
       "  p_f         post      gene  p1           p2        p3           p4          \n",
       "1 4.46767e-14 0.9993879 LIPC  3.550410e-07 0.9993879 1.194965e-06 0.0006105524\n",
       "2 7.74324e-19 0.9997144 PDE3B 9.396419e-12 0.9997144 3.635398e-13 0.0002855505\n",
       "  category\n",
       "1 2       \n",
       "2 2       "
      ]
     },
     "metadata": {},
     "output_type": "display_data"
    },
    {
     "data": {
      "text/html": [
       "<table>\n",
       "<thead><tr><th scope=col>SNP</th><th scope=col>CHR</th><th scope=col>BP</th><th scope=col>B_f</th><th scope=col>B_m</th><th scope=col>SE_f</th><th scope=col>SE_m</th><th scope=col>p_m</th><th scope=col>p_f</th><th scope=col>post</th><th scope=col>gene</th><th scope=col>p1</th><th scope=col>p2</th><th scope=col>p3</th><th scope=col>p4</th><th scope=col>category</th></tr></thead>\n",
       "<tbody>\n",
       "\t<tr><td>rs118204057 </td><td> 8          </td><td>19811733    </td><td>-0.739822   </td><td>-1.064340   </td><td>0.0895957   </td><td>0.0835498   </td><td>3.77036e-37 </td><td>1.50280e-16 </td><td>1.0000000   </td><td>LPL         </td><td>1.024458e-29</td><td>7.638022e-21</td><td>1.0000000   </td><td>1.079524e-17</td><td>3           </td></tr>\n",
       "\t<tr><td>rs61731956  </td><td>11          </td><td>47290147    </td><td> 0.461415   </td><td> 0.521687   </td><td>0.0722075   </td><td>0.0737037   </td><td>1.46768e-12 </td><td>1.66284e-10 </td><td>0.5359848   </td><td>NR1H3       </td><td>1.099584e-05</td><td>9.357140e-03</td><td>0.5359848   </td><td>4.546471e-01</td><td>3           </td></tr>\n",
       "</tbody>\n",
       "</table>\n"
      ],
      "text/latex": [
       "\\begin{tabular}{r|llllllllllllllll}\n",
       " SNP & CHR & BP & B\\_f & B\\_m & SE\\_f & SE\\_m & p\\_m & p\\_f & post & gene & p1 & p2 & p3 & p4 & category\\\\\n",
       "\\hline\n",
       "\t rs118204057  &  8           & 19811733     & -0.739822    & -1.064340    & 0.0895957    & 0.0835498    & 3.77036e-37  & 1.50280e-16  & 1.0000000    & LPL          & 1.024458e-29 & 7.638022e-21 & 1.0000000    & 1.079524e-17 & 3           \\\\\n",
       "\t rs61731956   & 11           & 47290147     &  0.461415    &  0.521687    & 0.0722075    & 0.0737037    & 1.46768e-12  & 1.66284e-10  & 0.5359848    & NR1H3        & 1.099584e-05 & 9.357140e-03 & 0.5359848    & 4.546471e-01 & 3           \\\\\n",
       "\\end{tabular}\n"
      ],
      "text/markdown": [
       "\n",
       "SNP | CHR | BP | B_f | B_m | SE_f | SE_m | p_m | p_f | post | gene | p1 | p2 | p3 | p4 | category | \n",
       "|---|---|\n",
       "| rs118204057  |  8           | 19811733     | -0.739822    | -1.064340    | 0.0895957    | 0.0835498    | 3.77036e-37  | 1.50280e-16  | 1.0000000    | LPL          | 1.024458e-29 | 7.638022e-21 | 1.0000000    | 1.079524e-17 | 3            | \n",
       "| rs61731956   | 11           | 47290147     |  0.461415    |  0.521687    | 0.0722075    | 0.0737037    | 1.46768e-12  | 1.66284e-10  | 0.5359848    | NR1H3        | 1.099584e-05 | 9.357140e-03 | 0.5359848    | 4.546471e-01 | 3            | \n",
       "\n",
       "\n"
      ],
      "text/plain": [
       "  SNP         CHR BP       B_f       B_m       SE_f      SE_m      p_m        \n",
       "1 rs118204057  8  19811733 -0.739822 -1.064340 0.0895957 0.0835498 3.77036e-37\n",
       "2 rs61731956  11  47290147  0.461415  0.521687 0.0722075 0.0737037 1.46768e-12\n",
       "  p_f         post      gene  p1           p2           p3        p4          \n",
       "1 1.50280e-16 1.0000000 LPL   1.024458e-29 7.638022e-21 1.0000000 1.079524e-17\n",
       "2 1.66284e-10 0.5359848 NR1H3 1.099584e-05 9.357140e-03 0.5359848 4.546471e-01\n",
       "  category\n",
       "1 3       \n",
       "2 3       "
      ]
     },
     "metadata": {},
     "output_type": "display_data"
    }
   ],
   "source": [
    "# add p1...p4 + category to f_tab, m_tab\n",
    "f_tab_w_more <- left_join(f_tab, snp_tab)\n",
    "m_tab_w_more <- left_join(m_tab, snp_tab)\n",
    "#b\n",
    "# SHIT need to compute posterior\n",
    "\n",
    "\n",
    "head(f_tab_w_more, 2)\n",
    "head(m_tab_w_more, 2)"
   ]
  },
  {
   "cell_type": "code",
   "execution_count": 22,
   "metadata": {},
   "outputs": [
    {
     "name": "stderr",
     "output_type": "stream",
     "text": [
      "Joining, by = \"SNP\"\n"
     ]
    },
    {
     "data": {
      "text/html": [
       "<ol class=list-inline>\n",
       "\t<li>1287</li>\n",
       "\t<li>15</li>\n",
       "</ol>\n"
      ],
      "text/latex": [
       "\\begin{enumerate*}\n",
       "\\item 1287\n",
       "\\item 15\n",
       "\\end{enumerate*}\n"
      ],
      "text/markdown": [
       "1. 1287\n",
       "2. 15\n",
       "\n",
       "\n"
      ],
      "text/plain": [
       "[1] 1287   15"
      ]
     },
     "metadata": {},
     "output_type": "display_data"
    },
    {
     "data": {
      "text/html": [
       "<table>\n",
       "<thead><tr><th scope=col>SNP</th><th scope=col>CHR</th><th scope=col>BP</th><th scope=col>B_f</th><th scope=col>B_m</th><th scope=col>SE_f</th><th scope=col>SE_m</th><th scope=col>p_m</th><th scope=col>p_f</th><th scope=col>p1</th><th scope=col>p2</th><th scope=col>p3</th><th scope=col>p4</th><th scope=col>gene</th><th scope=col>category</th></tr></thead>\n",
       "<tbody>\n",
       "\t<tr><td>Affx-52354612</td><td>15           </td><td> 58838103    </td><td> 0.640991    </td><td> 0.453777    </td><td>0.0849286    </td><td>0.0819133    </td><td>3.03517e-08  </td><td>4.46767e-14  </td><td>3.550410e-07 </td><td>9.993879e-01 </td><td>1.194965e-06 </td><td>6.105524e-04 </td><td>LIPC         </td><td>2            </td></tr>\n",
       "\t<tr><td>rs150090666  </td><td>11           </td><td> 14865399    </td><td> 0.527802    </td><td> 0.271883    </td><td>0.0595380    </td><td>0.0574659    </td><td>2.23413e-06  </td><td>7.74324e-19  </td><td>9.396419e-12 </td><td>9.997144e-01 </td><td>3.635398e-13 </td><td>2.855505e-04 </td><td>PDE3B        </td><td>2            </td></tr>\n",
       "\t<tr><td>rs188308962  </td><td> 9           </td><td>107620797    </td><td>-0.540755    </td><td>-0.395215    </td><td>0.0469161    </td><td>0.0487080    </td><td>4.93934e-16  </td><td>1.00853e-30  </td><td>1.809682e-23 </td><td>9.124556e-01 </td><td>1.578385e-15 </td><td>8.754435e-02 </td><td>ABCA1        </td><td>2            </td></tr>\n",
       "\t<tr><td>rs201079485  </td><td>11           </td><td>116661656    </td><td>-0.618141    </td><td>-0.592974    </td><td>0.1108420    </td><td>0.1090520    </td><td>5.41078e-08  </td><td>2.45494e-08  </td><td>6.898847e-02 </td><td>6.234499e-01 </td><td>1.686357e-01 </td><td>1.389259e-01 </td><td>APOA5        </td><td>2            </td></tr>\n",
       "\t<tr><td>rs118204057  </td><td> 8           </td><td> 19811733    </td><td>-0.739822    </td><td>-1.064340    </td><td>0.0895957    </td><td>0.0835498    </td><td>3.77036e-37  </td><td>1.50280e-16  </td><td>1.024458e-29 </td><td>7.638022e-21 </td><td>1.000000e+00 </td><td>1.079524e-17 </td><td>LPL          </td><td>3            </td></tr>\n",
       "\t<tr><td>rs61731956   </td><td>11           </td><td> 47290147    </td><td> 0.461415    </td><td> 0.521687    </td><td>0.0722075    </td><td>0.0737037    </td><td>1.46768e-12  </td><td>1.66284e-10  </td><td>1.099584e-05 </td><td>9.357140e-03 </td><td>5.359848e-01 </td><td>4.546471e-01 </td><td>NR1H3        </td><td>3            </td></tr>\n",
       "</tbody>\n",
       "</table>\n"
      ],
      "text/latex": [
       "\\begin{tabular}{r|lllllllllllllll}\n",
       " SNP & CHR & BP & B\\_f & B\\_m & SE\\_f & SE\\_m & p\\_m & p\\_f & p1 & p2 & p3 & p4 & gene & category\\\\\n",
       "\\hline\n",
       "\t Affx-52354612 & 15            &  58838103     &  0.640991     &  0.453777     & 0.0849286     & 0.0819133     & 3.03517e-08   & 4.46767e-14   & 3.550410e-07  & 9.993879e-01  & 1.194965e-06  & 6.105524e-04  & LIPC          & 2            \\\\\n",
       "\t rs150090666   & 11            &  14865399     &  0.527802     &  0.271883     & 0.0595380     & 0.0574659     & 2.23413e-06   & 7.74324e-19   & 9.396419e-12  & 9.997144e-01  & 3.635398e-13  & 2.855505e-04  & PDE3B         & 2            \\\\\n",
       "\t rs188308962   &  9            & 107620797     & -0.540755     & -0.395215     & 0.0469161     & 0.0487080     & 4.93934e-16   & 1.00853e-30   & 1.809682e-23  & 9.124556e-01  & 1.578385e-15  & 8.754435e-02  & ABCA1         & 2            \\\\\n",
       "\t rs201079485   & 11            & 116661656     & -0.618141     & -0.592974     & 0.1108420     & 0.1090520     & 5.41078e-08   & 2.45494e-08   & 6.898847e-02  & 6.234499e-01  & 1.686357e-01  & 1.389259e-01  & APOA5         & 2            \\\\\n",
       "\t rs118204057   &  8            &  19811733     & -0.739822     & -1.064340     & 0.0895957     & 0.0835498     & 3.77036e-37   & 1.50280e-16   & 1.024458e-29  & 7.638022e-21  & 1.000000e+00  & 1.079524e-17  & LPL           & 3            \\\\\n",
       "\t rs61731956    & 11            &  47290147     &  0.461415     &  0.521687     & 0.0722075     & 0.0737037     & 1.46768e-12   & 1.66284e-10   & 1.099584e-05  & 9.357140e-03  & 5.359848e-01  & 4.546471e-01  & NR1H3         & 3            \\\\\n",
       "\\end{tabular}\n"
      ],
      "text/markdown": [
       "\n",
       "SNP | CHR | BP | B_f | B_m | SE_f | SE_m | p_m | p_f | p1 | p2 | p3 | p4 | gene | category | \n",
       "|---|---|---|---|---|---|\n",
       "| Affx-52354612 | 15            |  58838103     |  0.640991     |  0.453777     | 0.0849286     | 0.0819133     | 3.03517e-08   | 4.46767e-14   | 3.550410e-07  | 9.993879e-01  | 1.194965e-06  | 6.105524e-04  | LIPC          | 2             | \n",
       "| rs150090666   | 11            |  14865399     |  0.527802     |  0.271883     | 0.0595380     | 0.0574659     | 2.23413e-06   | 7.74324e-19   | 9.396419e-12  | 9.997144e-01  | 3.635398e-13  | 2.855505e-04  | PDE3B         | 2             | \n",
       "| rs188308962   |  9            | 107620797     | -0.540755     | -0.395215     | 0.0469161     | 0.0487080     | 4.93934e-16   | 1.00853e-30   | 1.809682e-23  | 9.124556e-01  | 1.578385e-15  | 8.754435e-02  | ABCA1         | 2             | \n",
       "| rs201079485   | 11            | 116661656     | -0.618141     | -0.592974     | 0.1108420     | 0.1090520     | 5.41078e-08   | 2.45494e-08   | 6.898847e-02  | 6.234499e-01  | 1.686357e-01  | 1.389259e-01  | APOA5         | 2             | \n",
       "| rs118204057   |  8            |  19811733     | -0.739822     | -1.064340     | 0.0895957     | 0.0835498     | 3.77036e-37   | 1.50280e-16   | 1.024458e-29  | 7.638022e-21  | 1.000000e+00  | 1.079524e-17  | LPL           | 3             | \n",
       "| rs61731956    | 11            |  47290147     |  0.461415     |  0.521687     | 0.0722075     | 0.0737037     | 1.46768e-12   | 1.66284e-10   | 1.099584e-05  | 9.357140e-03  | 5.359848e-01  | 4.546471e-01  | NR1H3         | 3             | \n",
       "\n",
       "\n"
      ],
      "text/plain": [
       "  SNP           CHR BP        B_f       B_m       SE_f      SE_m     \n",
       "1 Affx-52354612 15   58838103  0.640991  0.453777 0.0849286 0.0819133\n",
       "2 rs150090666   11   14865399  0.527802  0.271883 0.0595380 0.0574659\n",
       "3 rs188308962    9  107620797 -0.540755 -0.395215 0.0469161 0.0487080\n",
       "4 rs201079485   11  116661656 -0.618141 -0.592974 0.1108420 0.1090520\n",
       "5 rs118204057    8   19811733 -0.739822 -1.064340 0.0895957 0.0835498\n",
       "6 rs61731956    11   47290147  0.461415  0.521687 0.0722075 0.0737037\n",
       "  p_m         p_f         p1           p2           p3           p4          \n",
       "1 3.03517e-08 4.46767e-14 3.550410e-07 9.993879e-01 1.194965e-06 6.105524e-04\n",
       "2 2.23413e-06 7.74324e-19 9.396419e-12 9.997144e-01 3.635398e-13 2.855505e-04\n",
       "3 4.93934e-16 1.00853e-30 1.809682e-23 9.124556e-01 1.578385e-15 8.754435e-02\n",
       "4 5.41078e-08 2.45494e-08 6.898847e-02 6.234499e-01 1.686357e-01 1.389259e-01\n",
       "5 3.77036e-37 1.50280e-16 1.024458e-29 7.638022e-21 1.000000e+00 1.079524e-17\n",
       "6 1.46768e-12 1.66284e-10 1.099584e-05 9.357140e-03 5.359848e-01 4.546471e-01\n",
       "  gene  category\n",
       "1 LIPC  2       \n",
       "2 PDE3B 2       \n",
       "3 ABCA1 2       \n",
       "4 APOA5 2       \n",
       "5 LPL   3       \n",
       "6 NR1H3 3       "
      ]
     },
     "metadata": {},
     "output_type": "display_data"
    }
   ],
   "source": [
    "both_tab_w_more <- left_join(both_tab, select(snp_tab, SNP, category))\n",
    "comb_tab <- rbind(f_tab_w_more[,colnames(both_tab_w_more)],m_tab_w_more[,colnames(both_tab_w_more)])\n",
    "comb_tab2 <- rbind(comb_tab, both_tab_w_more)\n",
    "dim(comb_tab2)\n",
    "head(comb_tab2)"
   ]
  },
  {
   "cell_type": "code",
   "execution_count": 25,
   "metadata": {},
   "outputs": [
    {
     "data": {
      "text/html": [
       "<table>\n",
       "<thead><tr><th scope=col>SNP</th><th scope=col>CHR</th><th scope=col>BP</th><th scope=col>B_f</th><th scope=col>B_m</th><th scope=col>SE_f</th><th scope=col>SE_m</th><th scope=col>p_m</th><th scope=col>p_f</th><th scope=col>p1</th><th scope=col>p2</th><th scope=col>p3</th><th scope=col>p4</th><th scope=col>gene</th><th scope=col>category</th><th scope=col>trait</th><th scope=col>name</th></tr></thead>\n",
       "<tbody>\n",
       "\t<tr><td>Affx-52354612  </td><td>15             </td><td> 58838103      </td><td> 0.640991      </td><td> 0.453777      </td><td>0.0849286      </td><td>0.0819133      </td><td>3.03517e-08    </td><td>4.46767e-14    </td><td>3.550410e-07   </td><td>9.993879e-01   </td><td>1.194965e-06   </td><td>6.105524e-04   </td><td>LIPC           </td><td>2              </td><td>30760          </td><td>HDL cholesterol</td></tr>\n",
       "\t<tr><td>rs150090666    </td><td>11             </td><td> 14865399      </td><td> 0.527802      </td><td> 0.271883      </td><td>0.0595380      </td><td>0.0574659      </td><td>2.23413e-06    </td><td>7.74324e-19    </td><td>9.396419e-12   </td><td>9.997144e-01   </td><td>3.635398e-13   </td><td>2.855505e-04   </td><td>PDE3B          </td><td>2              </td><td>30760          </td><td>HDL cholesterol</td></tr>\n",
       "\t<tr><td>rs188308962    </td><td> 9             </td><td>107620797      </td><td>-0.540755      </td><td>-0.395215      </td><td>0.0469161      </td><td>0.0487080      </td><td>4.93934e-16    </td><td>1.00853e-30    </td><td>1.809682e-23   </td><td>9.124556e-01   </td><td>1.578385e-15   </td><td>8.754435e-02   </td><td>ABCA1          </td><td>2              </td><td>30760          </td><td>HDL cholesterol</td></tr>\n",
       "\t<tr><td>rs201079485    </td><td>11             </td><td>116661656      </td><td>-0.618141      </td><td>-0.592974      </td><td>0.1108420      </td><td>0.1090520      </td><td>5.41078e-08    </td><td>2.45494e-08    </td><td>6.898847e-02   </td><td>6.234499e-01   </td><td>1.686357e-01   </td><td>1.389259e-01   </td><td>APOA5          </td><td>2              </td><td>30760          </td><td>HDL cholesterol</td></tr>\n",
       "\t<tr><td>rs118204057    </td><td> 8             </td><td> 19811733      </td><td>-0.739822      </td><td>-1.064340      </td><td>0.0895957      </td><td>0.0835498      </td><td>3.77036e-37    </td><td>1.50280e-16    </td><td>1.024458e-29   </td><td>7.638022e-21   </td><td>1.000000e+00   </td><td>1.079524e-17   </td><td>LPL            </td><td>3              </td><td>30760          </td><td>HDL cholesterol</td></tr>\n",
       "\t<tr><td>rs61731956     </td><td>11             </td><td> 47290147      </td><td> 0.461415      </td><td> 0.521687      </td><td>0.0722075      </td><td>0.0737037      </td><td>1.46768e-12    </td><td>1.66284e-10    </td><td>1.099584e-05   </td><td>9.357140e-03   </td><td>5.359848e-01   </td><td>4.546471e-01   </td><td>NR1H3          </td><td>3              </td><td>30760          </td><td>HDL cholesterol</td></tr>\n",
       "</tbody>\n",
       "</table>\n"
      ],
      "text/latex": [
       "\\begin{tabular}{r|lllllllllllllllll}\n",
       " SNP & CHR & BP & B\\_f & B\\_m & SE\\_f & SE\\_m & p\\_m & p\\_f & p1 & p2 & p3 & p4 & gene & category & trait & name\\\\\n",
       "\\hline\n",
       "\t Affx-52354612   & 15              &  58838103       &  0.640991       &  0.453777       & 0.0849286       & 0.0819133       & 3.03517e-08     & 4.46767e-14     & 3.550410e-07    & 9.993879e-01    & 1.194965e-06    & 6.105524e-04    & LIPC            & 2               & 30760           & HDL cholesterol\\\\\n",
       "\t rs150090666     & 11              &  14865399       &  0.527802       &  0.271883       & 0.0595380       & 0.0574659       & 2.23413e-06     & 7.74324e-19     & 9.396419e-12    & 9.997144e-01    & 3.635398e-13    & 2.855505e-04    & PDE3B           & 2               & 30760           & HDL cholesterol\\\\\n",
       "\t rs188308962     &  9              & 107620797       & -0.540755       & -0.395215       & 0.0469161       & 0.0487080       & 4.93934e-16     & 1.00853e-30     & 1.809682e-23    & 9.124556e-01    & 1.578385e-15    & 8.754435e-02    & ABCA1           & 2               & 30760           & HDL cholesterol\\\\\n",
       "\t rs201079485     & 11              & 116661656       & -0.618141       & -0.592974       & 0.1108420       & 0.1090520       & 5.41078e-08     & 2.45494e-08     & 6.898847e-02    & 6.234499e-01    & 1.686357e-01    & 1.389259e-01    & APOA5           & 2               & 30760           & HDL cholesterol\\\\\n",
       "\t rs118204057     &  8              &  19811733       & -0.739822       & -1.064340       & 0.0895957       & 0.0835498       & 3.77036e-37     & 1.50280e-16     & 1.024458e-29    & 7.638022e-21    & 1.000000e+00    & 1.079524e-17    & LPL             & 3               & 30760           & HDL cholesterol\\\\\n",
       "\t rs61731956      & 11              &  47290147       &  0.461415       &  0.521687       & 0.0722075       & 0.0737037       & 1.46768e-12     & 1.66284e-10     & 1.099584e-05    & 9.357140e-03    & 5.359848e-01    & 4.546471e-01    & NR1H3           & 3               & 30760           & HDL cholesterol\\\\\n",
       "\\end{tabular}\n"
      ],
      "text/markdown": [
       "\n",
       "SNP | CHR | BP | B_f | B_m | SE_f | SE_m | p_m | p_f | p1 | p2 | p3 | p4 | gene | category | trait | name | \n",
       "|---|---|---|---|---|---|\n",
       "| Affx-52354612   | 15              |  58838103       |  0.640991       |  0.453777       | 0.0849286       | 0.0819133       | 3.03517e-08     | 4.46767e-14     | 3.550410e-07    | 9.993879e-01    | 1.194965e-06    | 6.105524e-04    | LIPC            | 2               | 30760           | HDL cholesterol | \n",
       "| rs150090666     | 11              |  14865399       |  0.527802       |  0.271883       | 0.0595380       | 0.0574659       | 2.23413e-06     | 7.74324e-19     | 9.396419e-12    | 9.997144e-01    | 3.635398e-13    | 2.855505e-04    | PDE3B           | 2               | 30760           | HDL cholesterol | \n",
       "| rs188308962     |  9              | 107620797       | -0.540755       | -0.395215       | 0.0469161       | 0.0487080       | 4.93934e-16     | 1.00853e-30     | 1.809682e-23    | 9.124556e-01    | 1.578385e-15    | 8.754435e-02    | ABCA1           | 2               | 30760           | HDL cholesterol | \n",
       "| rs201079485     | 11              | 116661656       | -0.618141       | -0.592974       | 0.1108420       | 0.1090520       | 5.41078e-08     | 2.45494e-08     | 6.898847e-02    | 6.234499e-01    | 1.686357e-01    | 1.389259e-01    | APOA5           | 2               | 30760           | HDL cholesterol | \n",
       "| rs118204057     |  8              |  19811733       | -0.739822       | -1.064340       | 0.0895957       | 0.0835498       | 3.77036e-37     | 1.50280e-16     | 1.024458e-29    | 7.638022e-21    | 1.000000e+00    | 1.079524e-17    | LPL             | 3               | 30760           | HDL cholesterol | \n",
       "| rs61731956      | 11              |  47290147       |  0.461415       |  0.521687       | 0.0722075       | 0.0737037       | 1.46768e-12     | 1.66284e-10     | 1.099584e-05    | 9.357140e-03    | 5.359848e-01    | 4.546471e-01    | NR1H3           | 3               | 30760           | HDL cholesterol | \n",
       "\n",
       "\n"
      ],
      "text/plain": [
       "  SNP           CHR BP        B_f       B_m       SE_f      SE_m     \n",
       "1 Affx-52354612 15   58838103  0.640991  0.453777 0.0849286 0.0819133\n",
       "2 rs150090666   11   14865399  0.527802  0.271883 0.0595380 0.0574659\n",
       "3 rs188308962    9  107620797 -0.540755 -0.395215 0.0469161 0.0487080\n",
       "4 rs201079485   11  116661656 -0.618141 -0.592974 0.1108420 0.1090520\n",
       "5 rs118204057    8   19811733 -0.739822 -1.064340 0.0895957 0.0835498\n",
       "6 rs61731956    11   47290147  0.461415  0.521687 0.0722075 0.0737037\n",
       "  p_m         p_f         p1           p2           p3           p4          \n",
       "1 3.03517e-08 4.46767e-14 3.550410e-07 9.993879e-01 1.194965e-06 6.105524e-04\n",
       "2 2.23413e-06 7.74324e-19 9.396419e-12 9.997144e-01 3.635398e-13 2.855505e-04\n",
       "3 4.93934e-16 1.00853e-30 1.809682e-23 9.124556e-01 1.578385e-15 8.754435e-02\n",
       "4 5.41078e-08 2.45494e-08 6.898847e-02 6.234499e-01 1.686357e-01 1.389259e-01\n",
       "5 3.77036e-37 1.50280e-16 1.024458e-29 7.638022e-21 1.000000e+00 1.079524e-17\n",
       "6 1.46768e-12 1.66284e-10 1.099584e-05 9.357140e-03 5.359848e-01 4.546471e-01\n",
       "  gene  category trait name           \n",
       "1 LIPC  2        30760 HDL cholesterol\n",
       "2 PDE3B 2        30760 HDL cholesterol\n",
       "3 ABCA1 2        30760 HDL cholesterol\n",
       "4 APOA5 2        30760 HDL cholesterol\n",
       "5 LPL   3        30760 HDL cholesterol\n",
       "6 NR1H3 3        30760 HDL cholesterol"
      ]
     },
     "metadata": {},
     "output_type": "display_data"
    }
   ],
   "source": [
    "comb_tab2$trait <- \"30760\"\n",
    "comb_tab3 <- left_join(comb_tab2, biomarker, by=c(\"trait\"=\"Field\"))\n",
    "head(comb_tab3)"
   ]
  },
  {
   "cell_type": "code",
   "execution_count": 9,
   "metadata": {},
   "outputs": [],
   "source": [
    "# SNP extract\n",
    "\n",
    "\n",
    "source('../mixture_model_scripts/model_utils.R')\n",
    "#source('heritability_utils.R')\n",
    "source('../mixture_model_scripts/snp_utils.R')\n",
    "DATA.FOLDER <- \"/scratch/PI/mrivas/users/erflynn/sex_div_gwas/data/\"\n",
    "\n",
    "extractSNPcat <- function(snp.df, df.f, df.m, category, trait){\n",
    "    comp4 <- snp.df[which(snp.df$category==category),c(\"p1\", \"p2\", \"p3\", \"p4\", \"SNP\")]\n",
    "    if (length(comp4$SNP) > 0){\n",
    "            both.snps <- cbind(df.f[df.f$SNP %in% comp4$SNP ,c(\"SNP\", \"CHR\", \"BP\", \"BETA\",\"SE\", \"P\")], \n",
    "             df.m[df.m$SNP %in% comp4$SNP,c(\"BETA\",\"SE\", \"P\")])\n",
    "            colnames(both.snps) <- c(\"SNP\", \"CHR\", \"BP\", \"B_f\", \"SE_f\", \"p_f\", \"B_m\", \"SE_m\", \"p_m\")\n",
    "            both.snp.df <- both.snps[,c(\"SNP\", \"CHR\", \"BP\", \"B_f\", \"B_m\", \"SE_f\", \"SE_m\", \"p_m\",\"p_f\")] \n",
    "            both.snp.df <- merge(both.snp.df, comp4, by=\"SNP\")       \n",
    "    }   \n",
    "    both.snp.df2 <- annotateSNP(both.snp.df)\n",
    "\n",
    "    write.table(both.snp.df2, file=sprintf(\"%s/biomarker/m2/snps%s_%s.txt\", DATA.FOLDER, category, trait), row.names=FALSE)\n",
    "\n",
    "\n",
    "}\n",
    "\n"
   ]
  },
  {
   "cell_type": "code",
   "execution_count": 11,
   "metadata": {},
   "outputs": [
    {
     "data": {
      "text/html": [
       "<table>\n",
       "<thead><tr><th scope=col>p1</th><th scope=col>p2</th><th scope=col>p3</th><th scope=col>p4</th><th scope=col>category</th><th scope=col>SNP</th></tr></thead>\n",
       "<tbody>\n",
       "\t<tr><td>0.9961476   </td><td>3.625712e-04</td><td>0.0034798778</td><td>9.961560e-06</td><td>1           </td><td>rs115991721 </td></tr>\n",
       "\t<tr><td>0.9994809   </td><td>4.207844e-05</td><td>0.0004769808</td><td>7.369874e-08</td><td>1           </td><td>rs12562034  </td></tr>\n",
       "\t<tr><td>0.9995419   </td><td>2.886834e-05</td><td>0.0004291996</td><td>4.540599e-08</td><td>1           </td><td>rs4040617   </td></tr>\n",
       "\t<tr><td>0.9987935   </td><td>1.110715e-04</td><td>0.0010949284</td><td>4.644337e-07</td><td>1           </td><td>rs79373928  </td></tr>\n",
       "\t<tr><td>0.9954687   </td><td>7.214883e-04</td><td>0.0037743484</td><td>3.544848e-05</td><td>1           </td><td>rs59771807  </td></tr>\n",
       "\t<tr><td>0.9959427   </td><td>1.014418e-04</td><td>0.0039540320</td><td>1.854871e-06</td><td>1           </td><td>rs116452738 </td></tr>\n",
       "</tbody>\n",
       "</table>\n"
      ],
      "text/latex": [
       "\\begin{tabular}{r|llllll}\n",
       " p1 & p2 & p3 & p4 & category & SNP\\\\\n",
       "\\hline\n",
       "\t 0.9961476    & 3.625712e-04 & 0.0034798778 & 9.961560e-06 & 1            & rs115991721 \\\\\n",
       "\t 0.9994809    & 4.207844e-05 & 0.0004769808 & 7.369874e-08 & 1            & rs12562034  \\\\\n",
       "\t 0.9995419    & 2.886834e-05 & 0.0004291996 & 4.540599e-08 & 1            & rs4040617   \\\\\n",
       "\t 0.9987935    & 1.110715e-04 & 0.0010949284 & 4.644337e-07 & 1            & rs79373928  \\\\\n",
       "\t 0.9954687    & 7.214883e-04 & 0.0037743484 & 3.544848e-05 & 1            & rs59771807  \\\\\n",
       "\t 0.9959427    & 1.014418e-04 & 0.0039540320 & 1.854871e-06 & 1            & rs116452738 \\\\\n",
       "\\end{tabular}\n"
      ],
      "text/markdown": [
       "\n",
       "p1 | p2 | p3 | p4 | category | SNP | \n",
       "|---|---|---|---|---|---|\n",
       "| 0.9961476    | 3.625712e-04 | 0.0034798778 | 9.961560e-06 | 1            | rs115991721  | \n",
       "| 0.9994809    | 4.207844e-05 | 0.0004769808 | 7.369874e-08 | 1            | rs12562034   | \n",
       "| 0.9995419    | 2.886834e-05 | 0.0004291996 | 4.540599e-08 | 1            | rs4040617    | \n",
       "| 0.9987935    | 1.110715e-04 | 0.0010949284 | 4.644337e-07 | 1            | rs79373928   | \n",
       "| 0.9954687    | 7.214883e-04 | 0.0037743484 | 3.544848e-05 | 1            | rs59771807   | \n",
       "| 0.9959427    | 1.014418e-04 | 0.0039540320 | 1.854871e-06 | 1            | rs116452738  | \n",
       "\n",
       "\n"
      ],
      "text/plain": [
       "  p1        p2           p3           p4           category SNP        \n",
       "1 0.9961476 3.625712e-04 0.0034798778 9.961560e-06 1        rs115991721\n",
       "2 0.9994809 4.207844e-05 0.0004769808 7.369874e-08 1        rs12562034 \n",
       "3 0.9995419 2.886834e-05 0.0004291996 4.540599e-08 1        rs4040617  \n",
       "4 0.9987935 1.110715e-04 0.0010949284 4.644337e-07 1        rs79373928 \n",
       "5 0.9954687 7.214883e-04 0.0037743484 3.544848e-05 1        rs59771807 \n",
       "6 0.9959427 1.014418e-04 0.0039540320 1.854871e-06 1        rs116452738"
      ]
     },
     "metadata": {},
     "output_type": "display_data"
    },
    {
     "name": "stdout",
     "output_type": "stream",
     "text": [
      "\n",
      "     1      2      3      4 \n",
      "328085    100    480     29 \n",
      "[1] \"Testosterone\"\n",
      "\n",
      "     1      2      3      4 \n",
      "328085    100    480     29 \n",
      "[1] 2\n",
      "[1] 329035     11\n",
      "[1] \"Extracting\"\n"
     ]
    }
   ],
   "source": [
    "trait <- \"Testosterone\"\n",
    "snp.df <- read.delim(sprintf(\"%s/biomarker/m2/snp_table_%s.txt\", DATA.FOLDER, trait), header=TRUE, sep=\" \")\n",
    "head(snp.df)\n",
    "cat.count <- table(snp.df$category)\n",
    "print(cat.count)\n",
    "    if (\"2\" %in% names(cat.count) | \"3\" %in% names(cat.count) | \"4\" %in% names(cat.count)){\n",
    "        print(trait)\n",
    "        print(cat.count)\n",
    "        list.prefixes <- c(\"zerosex\", \"onesex\")\n",
    "        chrs <- c(1:22)\n",
    "        list.ds <- lapply(list.prefixes, function(prefix) {\n",
    "                all.dat <- do.call(rbind, lapply(chrs, function(chr) { getFile(prefix, chr, trait)}));\n",
    "                colnames(all.dat)[1:3] <- c(\"CHR\", \"BP\", \"SNP\");\n",
    "                return(all.dat)\n",
    "            })\n",
    "\n",
    "        list.ds2 <- extractOverlappingRows(list.ds)\n",
    "\tdf.f <- list.ds2[[1]]\n",
    "\tdf.m <- list.ds2[[2]]\n",
    "    print(\"Extracting\")\n",
    "\textractSNPcat(snp.df, df.f, df.m, 2, trait)\n",
    "\textractSNPcat(snp.df, df.f, df.m, 3, trait)\n",
    "\textractSNPcat(snp.df, df.f, df.m, 4, trait)\n",
    "    } else {\n",
    "        print(sprintf(\"No sex-specific SNPs for %s\", trait))\n",
    "    }\n"
   ]
  }
 ],
 "metadata": {
  "kernelspec": {
   "display_name": "R",
   "language": "R",
   "name": "ir"
  },
  "language_info": {
   "codemirror_mode": "r",
   "file_extension": ".r",
   "mimetype": "text/x-r-source",
   "name": "R",
   "pygments_lexer": "r",
   "version": "3.4.0"
  }
 },
 "nbformat": 4,
 "nbformat_minor": 2
}
