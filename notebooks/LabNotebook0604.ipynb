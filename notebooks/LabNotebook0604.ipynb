{
 "cells": [
  {
   "cell_type": "code",
   "execution_count": 2,
   "metadata": {},
   "outputs": [
    {
     "name": "stderr",
     "output_type": "stream",
     "text": [
      "Loading required package: tidyverse\n",
      "── Attaching packages ─────────────────────────────────────── tidyverse 1.2.1 ──\n",
      "✔ ggplot2 2.2.1     ✔ purrr   0.2.4\n",
      "✔ tibble  1.4.2     ✔ dplyr   0.7.4\n",
      "✔ tidyr   0.8.1     ✔ stringr 1.3.0\n",
      "✔ readr   1.1.1     ✔ forcats 0.3.0\n",
      "── Conflicts ────────────────────────────────────────── tidyverse_conflicts() ──\n",
      "✖ dplyr::filter() masks stats::filter()\n",
      "✖ dplyr::lag()    masks stats::lag()\n"
     ]
    }
   ],
   "source": [
    "require('tidyverse')"
   ]
  },
  {
   "cell_type": "code",
   "execution_count": 3,
   "metadata": {},
   "outputs": [
    {
     "data": {
      "text/html": [
       "<table>\n",
       "<thead><tr><th scope=col>trait</th><th scope=col>category</th><th scope=col>variable_name</th><th scope=col>readable_name</th><th scope=col>X</th></tr></thead>\n",
       "<tbody>\n",
       "\t<tr><td>3140                            </td><td>sex specific                    </td><td>pregnant                        </td><td>pregnant                        </td><td>NA                              </td></tr>\n",
       "\t<tr><td>2724                            </td><td>sex specific                    </td><td>menopause                       </td><td>menopause                       </td><td>NA                              </td></tr>\n",
       "\t<tr><td>3581                            </td><td>sex specific                    </td><td>menopause_age                   </td><td>age menopause                   </td><td>NA                              </td></tr>\n",
       "\t<tr><td>3591                            </td><td>sex specific                    </td><td>hysterectomy                    </td><td>hysterectomy                    </td><td>NA                              </td></tr>\n",
       "\t<tr><td>2834                            </td><td>sex specific                    </td><td>oophorectomy                    </td><td>oophorectomy                    </td><td>NA                              </td></tr>\n",
       "\t<tr><td>3700                            </td><td>sex specific                    </td><td>time_since_period               </td><td>time since last menstrual period</td><td>NA                              </td></tr>\n",
       "</tbody>\n",
       "</table>\n"
      ],
      "text/latex": [
       "\\begin{tabular}{r|lllll}\n",
       " trait & category & variable\\_name & readable\\_name & X\\\\\n",
       "\\hline\n",
       "\t 3140                             & sex specific                     & pregnant                         & pregnant                         & NA                              \\\\\n",
       "\t 2724                             & sex specific                     & menopause                        & menopause                        & NA                              \\\\\n",
       "\t 3581                             & sex specific                     & menopause\\_age                  & age menopause                    & NA                              \\\\\n",
       "\t 3591                             & sex specific                     & hysterectomy                     & hysterectomy                     & NA                              \\\\\n",
       "\t 2834                             & sex specific                     & oophorectomy                     & oophorectomy                     & NA                              \\\\\n",
       "\t 3700                             & sex specific                     & time\\_since\\_period            & time since last menstrual period & NA                              \\\\\n",
       "\\end{tabular}\n"
      ],
      "text/markdown": [
       "\n",
       "trait | category | variable_name | readable_name | X | \n",
       "|---|---|---|---|---|---|\n",
       "| 3140                             | sex specific                     | pregnant                         | pregnant                         | NA                               | \n",
       "| 2724                             | sex specific                     | menopause                        | menopause                        | NA                               | \n",
       "| 3581                             | sex specific                     | menopause_age                    | age menopause                    | NA                               | \n",
       "| 3591                             | sex specific                     | hysterectomy                     | hysterectomy                     | NA                               | \n",
       "| 2834                             | sex specific                     | oophorectomy                     | oophorectomy                     | NA                               | \n",
       "| 3700                             | sex specific                     | time_since_period                | time since last menstrual period | NA                               | \n",
       "\n",
       "\n"
      ],
      "text/plain": [
       "  trait category     variable_name     readable_name                    X \n",
       "1 3140  sex specific pregnant          pregnant                         NA\n",
       "2 2724  sex specific menopause         menopause                        NA\n",
       "3 3581  sex specific menopause_age     age menopause                    NA\n",
       "4 3591  sex specific hysterectomy      hysterectomy                     NA\n",
       "5 2834  sex specific oophorectomy      oophorectomy                     NA\n",
       "6 3700  sex specific time_since_period time since last menstrual period NA"
      ]
     },
     "metadata": {},
     "output_type": "display_data"
    }
   ],
   "source": [
    "\n",
    "\n",
    "phe_codes <- read.csv(\"../phe_extraction/ListPheCodes.csv\", stringsAsFactors=FALSE)\n",
    "head(phe_codes)"
   ]
  },
  {
   "cell_type": "code",
   "execution_count": 8,
   "metadata": {},
   "outputs": [
    {
     "data": {
      "text/html": [
       "<table>\n",
       "<thead><tr><th scope=col>trait</th><th scope=col>category</th><th scope=col>variable_name</th><th scope=col>derived</th></tr></thead>\n",
       "<tbody>\n",
       "\t<tr><td>whr                  </td><td>anthropometric traits</td><td>waist-hip-ratio      </td><td> TRUE                </td></tr>\n",
       "\t<tr><td>21001                </td><td>anthropometric traits</td><td>BMI                  </td><td>FALSE                </td></tr>\n",
       "\t<tr><td>50                   </td><td>anthropometric traits</td><td>height               </td><td>FALSE                </td></tr>\n",
       "\t<tr><td>48                   </td><td>anthropometric traits</td><td>waist_circum         </td><td>FALSE                </td></tr>\n",
       "\t<tr><td>49                   </td><td>anthropometric traits</td><td>hip_circum           </td><td>FALSE                </td></tr>\n",
       "\t<tr><td>4079                 </td><td>lab test             </td><td>BP-diastolic         </td><td>FALSE                </td></tr>\n",
       "</tbody>\n",
       "</table>\n"
      ],
      "text/latex": [
       "\\begin{tabular}{r|llll}\n",
       " trait & category & variable\\_name & derived\\\\\n",
       "\\hline\n",
       "\t whr                   & anthropometric traits & waist-hip-ratio       &  TRUE                \\\\\n",
       "\t 21001                 & anthropometric traits & BMI                   & FALSE                \\\\\n",
       "\t 50                    & anthropometric traits & height                & FALSE                \\\\\n",
       "\t 48                    & anthropometric traits & waist\\_circum        & FALSE                \\\\\n",
       "\t 49                    & anthropometric traits & hip\\_circum          & FALSE                \\\\\n",
       "\t 4079                  & lab test              & BP-diastolic          & FALSE                \\\\\n",
       "\\end{tabular}\n"
      ],
      "text/markdown": [
       "\n",
       "trait | category | variable_name | derived | \n",
       "|---|---|---|---|---|---|\n",
       "| whr                   | anthropometric traits | waist-hip-ratio       |  TRUE                 | \n",
       "| 21001                 | anthropometric traits | BMI                   | FALSE                 | \n",
       "| 50                    | anthropometric traits | height                | FALSE                 | \n",
       "| 48                    | anthropometric traits | waist_circum          | FALSE                 | \n",
       "| 49                    | anthropometric traits | hip_circum            | FALSE                 | \n",
       "| 4079                  | lab test              | BP-diastolic          | FALSE                 | \n",
       "\n",
       "\n"
      ],
      "text/plain": [
       "  trait category              variable_name   derived\n",
       "1 whr   anthropometric traits waist-hip-ratio  TRUE  \n",
       "2 21001 anthropometric traits BMI             FALSE  \n",
       "3 50    anthropometric traits height          FALSE  \n",
       "4 48    anthropometric traits waist_circum    FALSE  \n",
       "5 49    anthropometric traits hip_circum      FALSE  \n",
       "6 4079  lab test              BP-diastolic    FALSE  "
      ]
     },
     "metadata": {},
     "output_type": "display_data"
    }
   ],
   "source": [
    "phe_to_run <- select(filter(phe_codes, ! category %in% c(\"biomarker\", \"sex specific\", \"general\")), trait, category, variable_name)\n",
    "\n",
    "phe_to_run$derived <- ifelse(phe_to_run$trait %in% c(\"whr\", \"FEV_FVC\", \"trunk_fp\", \"leg_fp\", \"arm_fp\"), TRUE, FALSE)\n",
    "head(phe_to_run)\n"
   ]
  },
  {
   "cell_type": "code",
   "execution_count": 40,
   "metadata": {},
   "outputs": [
    {
     "data": {
      "text/html": [
       "'INI21001'"
      ],
      "text/latex": [
       "'INI21001'"
      ],
      "text/markdown": [
       "'INI21001'"
      ],
      "text/plain": [
       "[1] \"INI21001\""
      ]
     },
     "metadata": {},
     "output_type": "display_data"
    },
    {
     "data": {
      "text/html": [
       "'INI151'"
      ],
      "text/latex": [
       "'INI151'"
      ],
      "text/markdown": [
       "'INI151'"
      ],
      "text/plain": [
       "[1] \"INI151\""
      ]
     },
     "metadata": {},
     "output_type": "display_data"
    },
    {
     "data": {
      "text/html": [
       "<table>\n",
       "<thead><tr><th scope=col>trait</th><th scope=col>category</th><th scope=col>variable_name</th><th scope=col>derived</th></tr></thead>\n",
       "<tbody>\n",
       "\t<tr><td>INI21001             </td><td>anthropometric traits</td><td>BMI                  </td><td>FALSE                </td></tr>\n",
       "\t<tr><td>INI50                </td><td>anthropometric traits</td><td>height               </td><td>FALSE                </td></tr>\n",
       "\t<tr><td>INI48                </td><td>anthropometric traits</td><td>waist_circum         </td><td>FALSE                </td></tr>\n",
       "\t<tr><td>INI49                </td><td>anthropometric traits</td><td>hip_circum           </td><td>FALSE                </td></tr>\n",
       "\t<tr><td>INI4079              </td><td>lab test             </td><td>BP-diastolic         </td><td>FALSE                </td></tr>\n",
       "\t<tr><td>INI4080              </td><td>lab test             </td><td>BP-systolic          </td><td>FALSE                </td></tr>\n",
       "</tbody>\n",
       "</table>\n"
      ],
      "text/latex": [
       "\\begin{tabular}{r|llll}\n",
       " trait & category & variable\\_name & derived\\\\\n",
       "\\hline\n",
       "\t INI21001              & anthropometric traits & BMI                   & FALSE                \\\\\n",
       "\t INI50                 & anthropometric traits & height                & FALSE                \\\\\n",
       "\t INI48                 & anthropometric traits & waist\\_circum        & FALSE                \\\\\n",
       "\t INI49                 & anthropometric traits & hip\\_circum          & FALSE                \\\\\n",
       "\t INI4079               & lab test              & BP-diastolic          & FALSE                \\\\\n",
       "\t INI4080               & lab test              & BP-systolic           & FALSE                \\\\\n",
       "\\end{tabular}\n"
      ],
      "text/markdown": [
       "\n",
       "trait | category | variable_name | derived | \n",
       "|---|---|---|---|---|---|\n",
       "| INI21001              | anthropometric traits | BMI                   | FALSE                 | \n",
       "| INI50                 | anthropometric traits | height                | FALSE                 | \n",
       "| INI48                 | anthropometric traits | waist_circum          | FALSE                 | \n",
       "| INI49                 | anthropometric traits | hip_circum            | FALSE                 | \n",
       "| INI4079               | lab test              | BP-diastolic          | FALSE                 | \n",
       "| INI4080               | lab test              | BP-systolic           | FALSE                 | \n",
       "\n",
       "\n"
      ],
      "text/plain": [
       "  trait    category              variable_name derived\n",
       "1 INI21001 anthropometric traits BMI           FALSE  \n",
       "2 INI50    anthropometric traits height        FALSE  \n",
       "3 INI48    anthropometric traits waist_circum  FALSE  \n",
       "4 INI49    anthropometric traits hip_circum    FALSE  \n",
       "5 INI4079  lab test              BP-diastolic  FALSE  \n",
       "6 INI4080  lab test              BP-systolic   FALSE  "
      ]
     },
     "metadata": {},
     "output_type": "display_data"
    },
    {
     "data": {
      "text/html": [
       "<ol class=list-inline>\n",
       "\t<li>79</li>\n",
       "\t<li>4</li>\n",
       "</ol>\n"
      ],
      "text/latex": [
       "\\begin{enumerate*}\n",
       "\\item 79\n",
       "\\item 4\n",
       "\\end{enumerate*}\n"
      ],
      "text/markdown": [
       "1. 79\n",
       "2. 4\n",
       "\n",
       "\n"
      ],
      "text/plain": [
       "[1] 79  4"
      ]
     },
     "metadata": {},
     "output_type": "display_data"
    },
    {
     "data": {
      "text/html": [
       "<ol class=list-inline>\n",
       "\t<li>74</li>\n",
       "\t<li>4</li>\n",
       "</ol>\n"
      ],
      "text/latex": [
       "\\begin{enumerate*}\n",
       "\\item 74\n",
       "\\item 4\n",
       "\\end{enumerate*}\n"
      ],
      "text/markdown": [
       "1. 74\n",
       "2. 4\n",
       "\n",
       "\n"
      ],
      "text/plain": [
       "[1] 74  4"
      ]
     },
     "metadata": {},
     "output_type": "display_data"
    }
   ],
   "source": [
    "# add the INI to the trait mames that are not derived\n",
    "addINI <- function(trait){\n",
    "    x <- strsplit(trait, \"I\")[[1]]\n",
    "    y <- paste(\"INI\", x[[length(x)]], sep=\"\")\n",
    "    return(y)\n",
    "}\n",
    "\n",
    "addINI(\"21001\")\n",
    "addINI(\"INI151\")\n",
    "\n",
    "phe_to_find <- filter(phe_to_run, !derived)\n",
    "phe_to_find$trait <- sapply(phe_to_find$trait, addINI)\n",
    "head(phe_to_find)\n",
    "\n",
    "phe_to_run2 <- rbind(phe_to_find, filter(phe_to_run, derived))\n",
    "dim(phe_to_run)\n",
    "dim(phe_to_find)\n",
    "\n",
    "write.table(phe_to_run2, file=\"../phe_extraction/phe_to_run.txt\", sep=\"\\t\", quote=FALSE, row.names=FALSE, col.names=FALSE)"
   ]
  },
  {
   "cell_type": "code",
   "execution_count": null,
   "metadata": {},
   "outputs": [],
   "source": [
    "require('data.table')\n",
    "\n",
    "phe_loc <- fread(\"/oak/stanford/groups/mrivas/ukbb/24983/phenotypedata/most_recent_phenos_20190422.txt\", header=FALSE, data.table=FALSE)\n"
   ]
  },
  {
   "cell_type": "code",
   "execution_count": 26,
   "metadata": {},
   "outputs": [],
   "source": [
    "colnames(phe_loc) <- \"path\"\n",
    "phe_loc$phe_id <- sapply(phe_loc$path, function(x) {y <- strsplit(x, \"/\")[[1]]; strsplit(y[[length(y)]], \".\", fixed=TRUE)[[1]][[1]]})"
   ]
  },
  {
   "cell_type": "code",
   "execution_count": 31,
   "metadata": {},
   "outputs": [
    {
     "data": {
      "text/html": [
       "<table>\n",
       "<thead><tr><th scope=col>trait</th><th scope=col>category</th><th scope=col>variable_name</th><th scope=col>derived</th><th scope=col>path</th></tr></thead>\n",
       "<tbody>\n",
       "\t<tr><td>INI21001                                                                       </td><td>anthropometric traits                                                          </td><td>BMI                                                                            </td><td>FALSE                                                                          </td><td>/oak/stanford/groups/mrivas/ukbb24983/phenotypedata/9796/24611/phe/INI21001.phe</td></tr>\n",
       "\t<tr><td>INI50                                                                          </td><td>anthropometric traits                                                          </td><td>height                                                                         </td><td>FALSE                                                                          </td><td>/oak/stanford/groups/mrivas/ukbb24983/phenotypedata/9796/24611/phe/INI50.phe   </td></tr>\n",
       "\t<tr><td>INI48                                                                          </td><td>anthropometric traits                                                          </td><td>waist_circum                                                                   </td><td>FALSE                                                                          </td><td>/oak/stanford/groups/mrivas/ukbb24983/phenotypedata/9796/24611/phe/INI48.phe   </td></tr>\n",
       "\t<tr><td>INI49                                                                          </td><td>anthropometric traits                                                          </td><td>hip_circum                                                                     </td><td>FALSE                                                                          </td><td>/oak/stanford/groups/mrivas/ukbb24983/phenotypedata/9796/24611/phe/INI49.phe   </td></tr>\n",
       "\t<tr><td>INI4079                                                                        </td><td>lab test                                                                       </td><td>BP-diastolic                                                                   </td><td>FALSE                                                                          </td><td>/oak/stanford/groups/mrivas/ukbb24983/phenotypedata/9796/24611/phe/INI4079.phe </td></tr>\n",
       "\t<tr><td>INI4080                                                                        </td><td>lab test                                                                       </td><td>BP-systolic                                                                    </td><td>FALSE                                                                          </td><td>/oak/stanford/groups/mrivas/ukbb24983/phenotypedata/9796/24611/phe/INI4080.phe </td></tr>\n",
       "</tbody>\n",
       "</table>\n"
      ],
      "text/latex": [
       "\\begin{tabular}{r|lllll}\n",
       " trait & category & variable\\_name & derived & path\\\\\n",
       "\\hline\n",
       "\t INI21001                                                                        & anthropometric traits                                                           & BMI                                                                             & FALSE                                                                           & /oak/stanford/groups/mrivas/ukbb24983/phenotypedata/9796/24611/phe/INI21001.phe\\\\\n",
       "\t INI50                                                                           & anthropometric traits                                                           & height                                                                          & FALSE                                                                           & /oak/stanford/groups/mrivas/ukbb24983/phenotypedata/9796/24611/phe/INI50.phe   \\\\\n",
       "\t INI48                                                                           & anthropometric traits                                                           & waist\\_circum                                                                  & FALSE                                                                           & /oak/stanford/groups/mrivas/ukbb24983/phenotypedata/9796/24611/phe/INI48.phe   \\\\\n",
       "\t INI49                                                                           & anthropometric traits                                                           & hip\\_circum                                                                    & FALSE                                                                           & /oak/stanford/groups/mrivas/ukbb24983/phenotypedata/9796/24611/phe/INI49.phe   \\\\\n",
       "\t INI4079                                                                         & lab test                                                                        & BP-diastolic                                                                    & FALSE                                                                           & /oak/stanford/groups/mrivas/ukbb24983/phenotypedata/9796/24611/phe/INI4079.phe \\\\\n",
       "\t INI4080                                                                         & lab test                                                                        & BP-systolic                                                                     & FALSE                                                                           & /oak/stanford/groups/mrivas/ukbb24983/phenotypedata/9796/24611/phe/INI4080.phe \\\\\n",
       "\\end{tabular}\n"
      ],
      "text/markdown": [
       "\n",
       "trait | category | variable_name | derived | path | \n",
       "|---|---|---|---|---|---|\n",
       "| INI21001                                                                        | anthropometric traits                                                           | BMI                                                                             | FALSE                                                                           | /oak/stanford/groups/mrivas/ukbb24983/phenotypedata/9796/24611/phe/INI21001.phe | \n",
       "| INI50                                                                           | anthropometric traits                                                           | height                                                                          | FALSE                                                                           | /oak/stanford/groups/mrivas/ukbb24983/phenotypedata/9796/24611/phe/INI50.phe    | \n",
       "| INI48                                                                           | anthropometric traits                                                           | waist_circum                                                                    | FALSE                                                                           | /oak/stanford/groups/mrivas/ukbb24983/phenotypedata/9796/24611/phe/INI48.phe    | \n",
       "| INI49                                                                           | anthropometric traits                                                           | hip_circum                                                                      | FALSE                                                                           | /oak/stanford/groups/mrivas/ukbb24983/phenotypedata/9796/24611/phe/INI49.phe    | \n",
       "| INI4079                                                                         | lab test                                                                        | BP-diastolic                                                                    | FALSE                                                                           | /oak/stanford/groups/mrivas/ukbb24983/phenotypedata/9796/24611/phe/INI4079.phe  | \n",
       "| INI4080                                                                         | lab test                                                                        | BP-systolic                                                                     | FALSE                                                                           | /oak/stanford/groups/mrivas/ukbb24983/phenotypedata/9796/24611/phe/INI4080.phe  | \n",
       "\n",
       "\n"
      ],
      "text/plain": [
       "  trait    category              variable_name derived\n",
       "1 INI21001 anthropometric traits BMI           FALSE  \n",
       "2 INI50    anthropometric traits height        FALSE  \n",
       "3 INI48    anthropometric traits waist_circum  FALSE  \n",
       "4 INI49    anthropometric traits hip_circum    FALSE  \n",
       "5 INI4079  lab test              BP-diastolic  FALSE  \n",
       "6 INI4080  lab test              BP-systolic   FALSE  \n",
       "  path                                                                           \n",
       "1 /oak/stanford/groups/mrivas/ukbb24983/phenotypedata/9796/24611/phe/INI21001.phe\n",
       "2 /oak/stanford/groups/mrivas/ukbb24983/phenotypedata/9796/24611/phe/INI50.phe   \n",
       "3 /oak/stanford/groups/mrivas/ukbb24983/phenotypedata/9796/24611/phe/INI48.phe   \n",
       "4 /oak/stanford/groups/mrivas/ukbb24983/phenotypedata/9796/24611/phe/INI49.phe   \n",
       "5 /oak/stanford/groups/mrivas/ukbb24983/phenotypedata/9796/24611/phe/INI4079.phe \n",
       "6 /oak/stanford/groups/mrivas/ukbb24983/phenotypedata/9796/24611/phe/INI4080.phe "
      ]
     },
     "metadata": {},
     "output_type": "display_data"
    },
    {
     "data": {
      "text/plain": [
       "\n",
       "FALSE \n",
       "   74 "
      ]
     },
     "metadata": {},
     "output_type": "display_data"
    }
   ],
   "source": [
    "phe_paths <- left_join(phe_to_find, phe_loc, by=c(\"trait\"=\"phe_id\"))\n",
    "head(phe_paths)\n",
    "table(is.na(phe_paths$path)) # ALL PRESENT - yay!\n",
    "write.table(phe_paths, file=\"../phe_extraction/list_traits_w_paths.txt\", sep=\"\\t\", row.names=FALSE, quote=FALSE)\n"
   ]
  },
  {
   "cell_type": "code",
   "execution_count": 32,
   "metadata": {
    "collapsed": true
   },
   "outputs": [],
   "source": [
    "# TODO:\n",
    "# - visualize all the ranges?\n",
    "\n",
    "\n",
    "# - load all the quant files"
   ]
  },
  {
   "cell_type": "markdown",
   "metadata": {},
   "source": [
    "#### DERIVED PHENOS"
   ]
  },
  {
   "cell_type": "code",
   "execution_count": 38,
   "metadata": {},
   "outputs": [
    {
     "data": {
      "text/html": [
       "<ol class=list-inline>\n",
       "\t<li>500423</li>\n",
       "\t<li>3</li>\n",
       "</ol>\n"
      ],
      "text/latex": [
       "\\begin{enumerate*}\n",
       "\\item 500423\n",
       "\\item 3\n",
       "\\end{enumerate*}\n"
      ],
      "text/markdown": [
       "1. 500423\n",
       "2. 3\n",
       "\n",
       "\n"
      ],
      "text/plain": [
       "[1] 500423      3"
      ]
     },
     "metadata": {},
     "output_type": "display_data"
    },
    {
     "data": {
      "text/html": [
       "<table>\n",
       "<thead><tr><th scope=col>V1</th><th scope=col>V2</th><th scope=col>V3.x</th><th scope=col>V3.y</th><th scope=col>V3</th></tr></thead>\n",
       "<tbody>\n",
       "\t<tr><td>4646215  </td><td>4646215  </td><td> 98.0    </td><td>101.0    </td><td>0.9702970</td></tr>\n",
       "\t<tr><td>5007659  </td><td>5007659  </td><td>100.0    </td><td>108.0    </td><td>0.9259259</td></tr>\n",
       "\t<tr><td>1038854  </td><td>1038854  </td><td> 75.5    </td><td> 99.5    </td><td>0.7587940</td></tr>\n",
       "\t<tr><td>5441319  </td><td>5441319  </td><td>106.0    </td><td>104.0    </td><td>1.0192308</td></tr>\n",
       "\t<tr><td>5743544  </td><td>5743544  </td><td> 87.5    </td><td> 93.5    </td><td>0.9358289</td></tr>\n",
       "\t<tr><td>3266897  </td><td>3266897  </td><td>118.0    </td><td>113.0    </td><td>1.0442478</td></tr>\n",
       "</tbody>\n",
       "</table>\n"
      ],
      "text/latex": [
       "\\begin{tabular}{r|lllll}\n",
       " V1 & V2 & V3.x & V3.y & V3\\\\\n",
       "\\hline\n",
       "\t 4646215   & 4646215   &  98.0     & 101.0     & 0.9702970\\\\\n",
       "\t 5007659   & 5007659   & 100.0     & 108.0     & 0.9259259\\\\\n",
       "\t 1038854   & 1038854   &  75.5     &  99.5     & 0.7587940\\\\\n",
       "\t 5441319   & 5441319   & 106.0     & 104.0     & 1.0192308\\\\\n",
       "\t 5743544   & 5743544   &  87.5     &  93.5     & 0.9358289\\\\\n",
       "\t 3266897   & 3266897   & 118.0     & 113.0     & 1.0442478\\\\\n",
       "\\end{tabular}\n"
      ],
      "text/markdown": [
       "\n",
       "V1 | V2 | V3.x | V3.y | V3 | \n",
       "|---|---|---|---|---|---|\n",
       "| 4646215   | 4646215   |  98.0     | 101.0     | 0.9702970 | \n",
       "| 5007659   | 5007659   | 100.0     | 108.0     | 0.9259259 | \n",
       "| 1038854   | 1038854   |  75.5     |  99.5     | 0.7587940 | \n",
       "| 5441319   | 5441319   | 106.0     | 104.0     | 1.0192308 | \n",
       "| 5743544   | 5743544   |  87.5     |  93.5     | 0.9358289 | \n",
       "| 3266897   | 3266897   | 118.0     | 113.0     | 1.0442478 | \n",
       "\n",
       "\n"
      ],
      "text/plain": [
       "  V1      V2      V3.x  V3.y  V3       \n",
       "1 4646215 4646215  98.0 101.0 0.9702970\n",
       "2 5007659 5007659 100.0 108.0 0.9259259\n",
       "3 1038854 1038854  75.5  99.5 0.7587940\n",
       "4 5441319 5441319 106.0 104.0 1.0192308\n",
       "5 5743544 5743544  87.5  93.5 0.9358289\n",
       "6 3266897 3266897 118.0 113.0 1.0442478"
      ]
     },
     "metadata": {},
     "output_type": "display_data"
    }
   ],
   "source": [
    "dim(phe48)\n",
    "phe48 <- read.table(\"../phefiles/INI48.phe\") # WC\n",
    "phe49 <- read.table(\"../phefiles/INI49.phe\") # HC\n",
    "pheWhr <- inner_join(phe48, select(phe49, c(\"V1\", \"V3\")), by=\"V1\")\n",
    "\n",
    "pheWhr$V3 <- pheWhr$V3.x/pheWhr$V3.y\n",
    "head(pheWhr)\n",
    "write.table(select(pheWhr,c(\"V1\", \"V2\", \"V3\")), file=\"../phefiles/whr.phe\", col.names=FALSE, row.names=FALSE, quote=FALSE)\n"
   ]
  },
  {
   "cell_type": "code",
   "execution_count": 39,
   "metadata": {},
   "outputs": [
    {
     "data": {
      "text/html": [
       "<table>\n",
       "<thead><tr><th scope=col>V1</th><th scope=col>V2</th><th scope=col>V3.x</th><th scope=col>V3.y</th><th scope=col>V3</th></tr></thead>\n",
       "<tbody>\n",
       "\t<tr><td>4646215 </td><td>4646215 </td><td>2.65    </td><td>2.65    </td><td>1.000000</td></tr>\n",
       "\t<tr><td>5007659 </td><td>5007659 </td><td>3.87    </td><td>3.79    </td><td>1.021108</td></tr>\n",
       "\t<tr><td>5441319 </td><td>5441319 </td><td>1.93    </td><td>1.92    </td><td>1.005208</td></tr>\n",
       "\t<tr><td>3266897 </td><td>3266897 </td><td>2.76    </td><td>2.75    </td><td>1.003636</td></tr>\n",
       "\t<tr><td>3990694 </td><td>3990694 </td><td>2.56    </td><td>2.56    </td><td>1.000000</td></tr>\n",
       "\t<tr><td>1080519 </td><td>1080519 </td><td>2.24    </td><td>2.24    </td><td>1.000000</td></tr>\n",
       "</tbody>\n",
       "</table>\n"
      ],
      "text/latex": [
       "\\begin{tabular}{r|lllll}\n",
       " V1 & V2 & V3.x & V3.y & V3\\\\\n",
       "\\hline\n",
       "\t 4646215  & 4646215  & 2.65     & 2.65     & 1.000000\\\\\n",
       "\t 5007659  & 5007659  & 3.87     & 3.79     & 1.021108\\\\\n",
       "\t 5441319  & 5441319  & 1.93     & 1.92     & 1.005208\\\\\n",
       "\t 3266897  & 3266897  & 2.76     & 2.75     & 1.003636\\\\\n",
       "\t 3990694  & 3990694  & 2.56     & 2.56     & 1.000000\\\\\n",
       "\t 1080519  & 1080519  & 2.24     & 2.24     & 1.000000\\\\\n",
       "\\end{tabular}\n"
      ],
      "text/markdown": [
       "\n",
       "V1 | V2 | V3.x | V3.y | V3 | \n",
       "|---|---|---|---|---|---|\n",
       "| 4646215  | 4646215  | 2.65     | 2.65     | 1.000000 | \n",
       "| 5007659  | 5007659  | 3.87     | 3.79     | 1.021108 | \n",
       "| 5441319  | 5441319  | 1.93     | 1.92     | 1.005208 | \n",
       "| 3266897  | 3266897  | 2.76     | 2.75     | 1.003636 | \n",
       "| 3990694  | 3990694  | 2.56     | 2.56     | 1.000000 | \n",
       "| 1080519  | 1080519  | 2.24     | 2.24     | 1.000000 | \n",
       "\n",
       "\n"
      ],
      "text/plain": [
       "  V1      V2      V3.x V3.y V3      \n",
       "1 4646215 4646215 2.65 2.65 1.000000\n",
       "2 5007659 5007659 3.87 3.79 1.021108\n",
       "3 5441319 5441319 1.93 1.92 1.005208\n",
       "4 3266897 3266897 2.76 2.75 1.003636\n",
       "5 3990694 3990694 2.56 2.56 1.000000\n",
       "6 1080519 1080519 2.24 2.24 1.000000"
      ]
     },
     "metadata": {},
     "output_type": "display_data"
    }
   ],
   "source": [
    "phe20150 <- read.table(\"../phefiles/INI20150.phe\") # FEV-1\n",
    "phe3063 <- read.table(\"../phefiles/INI3063.phe\") # FVC\n",
    "pheFP <- inner_join(phe20150, select(phe3063, c(\"V1\", \"V3\")), by=\"V1\")\n",
    "pheFP$V3 <- pheFP$V3.x/pheFP$V3.y\n",
    "\n",
    "head(pheFP)\n",
    "\n",
    "write.table(select(pheFP,c(\"V1\", \"V2\", \"V3\")), file=\"../phefiles/FEV_FVC.phe\", col.names=FALSE, row.names=FALSE, quote=FALSE)\n"
   ]
  }
 ],
 "metadata": {
  "kernelspec": {
   "display_name": "R",
   "language": "R",
   "name": "ir"
  },
  "language_info": {
   "codemirror_mode": "r",
   "file_extension": ".r",
   "mimetype": "text/x-r-source",
   "name": "R",
   "pygments_lexer": "r",
   "version": "3.4.0"
  }
 },
 "nbformat": 4,
 "nbformat_minor": 2
}
