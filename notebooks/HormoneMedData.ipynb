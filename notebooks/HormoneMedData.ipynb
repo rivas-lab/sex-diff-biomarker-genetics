{
 "cells": [
  {
   "cell_type": "code",
   "execution_count": 50,
   "metadata": {},
   "outputs": [
    {
     "data": {
      "text/html": [
       "<table>\n",
       "<thead><tr><th scope=col>code</th><th scope=col>drug</th><th scope=col>read_codes</th><th scope=col>drugbank_id</th><th scope=col>hormone</th></tr></thead>\n",
       "<tbody>\n",
       "\t<tr><td>G03AC05, G03DB02     </td><td>megestrol            </td><td>1140884706           </td><td>DB00351              </td><td>progesterone         </td></tr>\n",
       "\t<tr><td>G03XB01              </td><td>mifepristone         </td><td>1140869112;1141157302</td><td>DB00834              </td><td>progesterone         </td></tr>\n",
       "\t<tr><td>G03BA02, G03EK01     </td><td>methyltestosterone   </td><td>1140857656           </td><td>DB06710              </td><td>testosterone         </td></tr>\n",
       "\t<tr><td>G04CB01              </td><td>finasteride          </td><td>1140868550           </td><td>DB01216              </td><td>testosterone         </td></tr>\n",
       "\t<tr><td>G03AC09              </td><td>desogestrel          </td><td>1140857912;1141182794</td><td>DB00304              </td><td>progesterone         </td></tr>\n",
       "\t<tr><td>G03DB01              </td><td>dydrogesterone       </td><td>1140868494           </td><td>DB00378              </td><td>progesterone         </td></tr>\n",
       "</tbody>\n",
       "</table>\n"
      ],
      "text/latex": [
       "\\begin{tabular}{r|lllll}\n",
       " code & drug & read\\_codes & drugbank\\_id & hormone\\\\\n",
       "\\hline\n",
       "\t G03AC05, G03DB02      & megestrol             & 1140884706            & DB00351               & progesterone         \\\\\n",
       "\t G03XB01               & mifepristone          & 1140869112;1141157302 & DB00834               & progesterone         \\\\\n",
       "\t G03BA02, G03EK01      & methyltestosterone    & 1140857656            & DB06710               & testosterone         \\\\\n",
       "\t G04CB01               & finasteride           & 1140868550            & DB01216               & testosterone         \\\\\n",
       "\t G03AC09               & desogestrel           & 1140857912;1141182794 & DB00304               & progesterone         \\\\\n",
       "\t G03DB01               & dydrogesterone        & 1140868494            & DB00378               & progesterone         \\\\\n",
       "\\end{tabular}\n"
      ],
      "text/markdown": [
       "\n",
       "code | drug | read_codes | drugbank_id | hormone | \n",
       "|---|---|---|---|---|---|\n",
       "| G03AC05, G03DB02      | megestrol             | 1140884706            | DB00351               | progesterone          | \n",
       "| G03XB01               | mifepristone          | 1140869112;1141157302 | DB00834               | progesterone          | \n",
       "| G03BA02, G03EK01      | methyltestosterone    | 1140857656            | DB06710               | testosterone          | \n",
       "| G04CB01               | finasteride           | 1140868550            | DB01216               | testosterone          | \n",
       "| G03AC09               | desogestrel           | 1140857912;1141182794 | DB00304               | progesterone          | \n",
       "| G03DB01               | dydrogesterone        | 1140868494            | DB00378               | progesterone          | \n",
       "\n",
       "\n"
      ],
      "text/plain": [
       "  code             drug               read_codes            drugbank_id\n",
       "1 G03AC05, G03DB02 megestrol          1140884706            DB00351    \n",
       "2 G03XB01          mifepristone       1140869112;1141157302 DB00834    \n",
       "3 G03BA02, G03EK01 methyltestosterone 1140857656            DB06710    \n",
       "4 G04CB01          finasteride        1140868550            DB01216    \n",
       "5 G03AC09          desogestrel        1140857912;1141182794 DB00304    \n",
       "6 G03DB01          dydrogesterone     1140868494            DB00378    \n",
       "  hormone     \n",
       "1 progesterone\n",
       "2 progesterone\n",
       "3 testosterone\n",
       "4 testosterone\n",
       "5 progesterone\n",
       "6 progesterone"
      ]
     },
     "metadata": {},
     "output_type": "display_data"
    }
   ],
   "source": [
    "require('tidyverse')\n",
    "require('data.table')\n",
    "options(stringsAsFactors=FALSE)\n",
    "## TODO - need this BY VISIT!\n",
    "\n",
    "hormone_drugs <- read.delim(\"../data/hormone_drugs_todownload.txt\")\n",
    "head(hormone_drugs)\n"
   ]
  },
  {
   "cell_type": "code",
   "execution_count": 51,
   "metadata": {},
   "outputs": [],
   "source": [
    "hdrugs2 <-separate_rows(hormone_drugs, read_codes, sep=\";\")\n",
    "hdrugs2$trait <- sapply(hdrugs2$read_codes, function(x) sprintf(\"MED%s\", x))\n",
    "hdrugs3 <- filter(hdrugs2, trait != \"MED\")"
   ]
  },
  {
   "cell_type": "code",
   "execution_count": 4,
   "metadata": {},
   "outputs": [
    {
     "name": "stderr",
     "output_type": "stream",
     "text": [
      "Loading required package: data.table\n",
      "\n",
      "Attaching package: ‘data.table’\n",
      "\n",
      "The following objects are masked from ‘package:dplyr’:\n",
      "\n",
      "    between, first, last\n",
      "\n",
      "The following object is masked from ‘package:purrr’:\n",
      "\n",
      "    transpose\n",
      "\n"
     ]
    }
   ],
   "source": [
    "phe_loc <- fread(\"/oak/stanford/groups/mrivas/ukbb/24983/phenotypedata/most_recent_phenos_20190422.txt\", header=FALSE, data.table=FALSE)\n"
   ]
  },
  {
   "cell_type": "code",
   "execution_count": 5,
   "metadata": {
    "collapsed": true
   },
   "outputs": [],
   "source": [
    "colnames(phe_loc) <- \"path\"\n",
    "phe_loc$phe_id <- sapply(phe_loc$path, function(x) {y <- strsplit(x, \"/\")[[1]]; strsplit(y[[length(y)]], \".\", fixed=TRUE)[[1]][[1]]})\n"
   ]
  },
  {
   "cell_type": "code",
   "execution_count": 52,
   "metadata": {},
   "outputs": [
    {
     "data": {
      "text/html": [
       "<table>\n",
       "<thead><tr><th scope=col>code</th><th scope=col>drug</th><th scope=col>read_codes</th><th scope=col>drugbank_id</th><th scope=col>hormone</th><th scope=col>trait</th><th scope=col>path</th></tr></thead>\n",
       "<tbody>\n",
       "\t<tr><td>G03AC05, G03DB02                                                                    </td><td>megestrol                                                                           </td><td>1140884706                                                                          </td><td>DB00351                                                                             </td><td>progesterone                                                                        </td><td>MED1140884706                                                                       </td><td>/oak/stanford/groups/mrivas/ukbb24983/phenotypedata/9796/24611/phe/MED1140884706.phe</td></tr>\n",
       "\t<tr><td>G03XB01                                                                             </td><td>mifepristone                                                                        </td><td>1140869112                                                                          </td><td>DB00834                                                                             </td><td>progesterone                                                                        </td><td>MED1140869112                                                                       </td><td>/oak/stanford/groups/mrivas/ukbb24983/phenotypedata/9796/24611/phe/MED1140869112.phe</td></tr>\n",
       "\t<tr><td>G03XB01                                                                             </td><td>mifepristone                                                                        </td><td>1141157302                                                                          </td><td>DB00834                                                                             </td><td>progesterone                                                                        </td><td>MED1141157302                                                                       </td><td>/oak/stanford/groups/mrivas/ukbb24983/phenotypedata/9796/24611/phe/MED1141157302.phe</td></tr>\n",
       "\t<tr><td>G03BA02, G03EK01                                                                    </td><td>methyltestosterone                                                                  </td><td>1140857656                                                                          </td><td>DB06710                                                                             </td><td>testosterone                                                                        </td><td>MED1140857656                                                                       </td><td>/oak/stanford/groups/mrivas/ukbb24983/phenotypedata/9796/24611/phe/MED1140857656.phe</td></tr>\n",
       "\t<tr><td>G04CB01                                                                             </td><td>finasteride                                                                         </td><td>1140868550                                                                          </td><td>DB01216                                                                             </td><td>testosterone                                                                        </td><td>MED1140868550                                                                       </td><td>/oak/stanford/groups/mrivas/ukbb24983/phenotypedata/9796/24611/phe/MED1140868550.phe</td></tr>\n",
       "\t<tr><td>G03AC09                                                                             </td><td>desogestrel                                                                         </td><td>1140857912                                                                          </td><td>DB00304                                                                             </td><td>progesterone                                                                        </td><td>MED1140857912                                                                       </td><td>/oak/stanford/groups/mrivas/ukbb24983/phenotypedata/9796/24611/phe/MED1140857912.phe</td></tr>\n",
       "</tbody>\n",
       "</table>\n"
      ],
      "text/latex": [
       "\\begin{tabular}{r|lllllll}\n",
       " code & drug & read\\_codes & drugbank\\_id & hormone & trait & path\\\\\n",
       "\\hline\n",
       "\t G03AC05, G03DB02                                                                     & megestrol                                                                            & 1140884706                                                                           & DB00351                                                                              & progesterone                                                                         & MED1140884706                                                                        & /oak/stanford/groups/mrivas/ukbb24983/phenotypedata/9796/24611/phe/MED1140884706.phe\\\\\n",
       "\t G03XB01                                                                              & mifepristone                                                                         & 1140869112                                                                           & DB00834                                                                              & progesterone                                                                         & MED1140869112                                                                        & /oak/stanford/groups/mrivas/ukbb24983/phenotypedata/9796/24611/phe/MED1140869112.phe\\\\\n",
       "\t G03XB01                                                                              & mifepristone                                                                         & 1141157302                                                                           & DB00834                                                                              & progesterone                                                                         & MED1141157302                                                                        & /oak/stanford/groups/mrivas/ukbb24983/phenotypedata/9796/24611/phe/MED1141157302.phe\\\\\n",
       "\t G03BA02, G03EK01                                                                     & methyltestosterone                                                                   & 1140857656                                                                           & DB06710                                                                              & testosterone                                                                         & MED1140857656                                                                        & /oak/stanford/groups/mrivas/ukbb24983/phenotypedata/9796/24611/phe/MED1140857656.phe\\\\\n",
       "\t G04CB01                                                                              & finasteride                                                                          & 1140868550                                                                           & DB01216                                                                              & testosterone                                                                         & MED1140868550                                                                        & /oak/stanford/groups/mrivas/ukbb24983/phenotypedata/9796/24611/phe/MED1140868550.phe\\\\\n",
       "\t G03AC09                                                                              & desogestrel                                                                          & 1140857912                                                                           & DB00304                                                                              & progesterone                                                                         & MED1140857912                                                                        & /oak/stanford/groups/mrivas/ukbb24983/phenotypedata/9796/24611/phe/MED1140857912.phe\\\\\n",
       "\\end{tabular}\n"
      ],
      "text/markdown": [
       "\n",
       "code | drug | read_codes | drugbank_id | hormone | trait | path | \n",
       "|---|---|---|---|---|---|\n",
       "| G03AC05, G03DB02                                                                     | megestrol                                                                            | 1140884706                                                                           | DB00351                                                                              | progesterone                                                                         | MED1140884706                                                                        | /oak/stanford/groups/mrivas/ukbb24983/phenotypedata/9796/24611/phe/MED1140884706.phe | \n",
       "| G03XB01                                                                              | mifepristone                                                                         | 1140869112                                                                           | DB00834                                                                              | progesterone                                                                         | MED1140869112                                                                        | /oak/stanford/groups/mrivas/ukbb24983/phenotypedata/9796/24611/phe/MED1140869112.phe | \n",
       "| G03XB01                                                                              | mifepristone                                                                         | 1141157302                                                                           | DB00834                                                                              | progesterone                                                                         | MED1141157302                                                                        | /oak/stanford/groups/mrivas/ukbb24983/phenotypedata/9796/24611/phe/MED1141157302.phe | \n",
       "| G03BA02, G03EK01                                                                     | methyltestosterone                                                                   | 1140857656                                                                           | DB06710                                                                              | testosterone                                                                         | MED1140857656                                                                        | /oak/stanford/groups/mrivas/ukbb24983/phenotypedata/9796/24611/phe/MED1140857656.phe | \n",
       "| G04CB01                                                                              | finasteride                                                                          | 1140868550                                                                           | DB01216                                                                              | testosterone                                                                         | MED1140868550                                                                        | /oak/stanford/groups/mrivas/ukbb24983/phenotypedata/9796/24611/phe/MED1140868550.phe | \n",
       "| G03AC09                                                                              | desogestrel                                                                          | 1140857912                                                                           | DB00304                                                                              | progesterone                                                                         | MED1140857912                                                                        | /oak/stanford/groups/mrivas/ukbb24983/phenotypedata/9796/24611/phe/MED1140857912.phe | \n",
       "\n",
       "\n"
      ],
      "text/plain": [
       "  code             drug               read_codes drugbank_id hormone     \n",
       "1 G03AC05, G03DB02 megestrol          1140884706 DB00351     progesterone\n",
       "2 G03XB01          mifepristone       1140869112 DB00834     progesterone\n",
       "3 G03XB01          mifepristone       1141157302 DB00834     progesterone\n",
       "4 G03BA02, G03EK01 methyltestosterone 1140857656 DB06710     testosterone\n",
       "5 G04CB01          finasteride        1140868550 DB01216     testosterone\n",
       "6 G03AC09          desogestrel        1140857912 DB00304     progesterone\n",
       "  trait        \n",
       "1 MED1140884706\n",
       "2 MED1140869112\n",
       "3 MED1141157302\n",
       "4 MED1140857656\n",
       "5 MED1140868550\n",
       "6 MED1140857912\n",
       "  path                                                                                \n",
       "1 /oak/stanford/groups/mrivas/ukbb24983/phenotypedata/9796/24611/phe/MED1140884706.phe\n",
       "2 /oak/stanford/groups/mrivas/ukbb24983/phenotypedata/9796/24611/phe/MED1140869112.phe\n",
       "3 /oak/stanford/groups/mrivas/ukbb24983/phenotypedata/9796/24611/phe/MED1141157302.phe\n",
       "4 /oak/stanford/groups/mrivas/ukbb24983/phenotypedata/9796/24611/phe/MED1140857656.phe\n",
       "5 /oak/stanford/groups/mrivas/ukbb24983/phenotypedata/9796/24611/phe/MED1140868550.phe\n",
       "6 /oak/stanford/groups/mrivas/ukbb24983/phenotypedata/9796/24611/phe/MED1140857912.phe"
      ]
     },
     "metadata": {},
     "output_type": "display_data"
    },
    {
     "data": {
      "text/plain": [
       "\n",
       "FALSE \n",
       "   37 "
      ]
     },
     "metadata": {},
     "output_type": "display_data"
    }
   ],
   "source": [
    "hdrug_paths <- left_join(hdrugs3, phe_loc, by=c(\"trait\"=\"phe_id\"))\n",
    "head(hdrug_paths)\n",
    "table(is.na(hdrug_paths$path)) # woot! all present"
   ]
  },
  {
   "cell_type": "code",
   "execution_count": 29,
   "metadata": {},
   "outputs": [],
   "source": [
    "getDrugEntries <- function(path, name){\n",
    "    df <- fread(path, header=FALSE, sep=\" \", data.table=FALSE)\n",
    "    df2 <- filter(df, V3==2)\n",
    "    colnames(df2) <- c(\"IID\", \"IID2\", name)\n",
    "    print(sprintf(\"%s patients taking %s\", nrow(df2), name))\n",
    "    return(select(df2,-IID2))\n",
    "}\n",
    "\n"
   ]
  },
  {
   "cell_type": "code",
   "execution_count": 31,
   "metadata": {},
   "outputs": [
    {
     "name": "stdout",
     "output_type": "stream",
     "text": [
      "[1] \"18 patients taking MED1140884706\"\n",
      "[1] \"0 patients taking MED1140869112\"\n",
      "[1] \"0 patients taking MED1141157302\"\n",
      "[1] \"1 patients taking MED1140857656\"\n",
      "[1] \"1977 patients taking MED1140868550\"\n",
      "[1] \"48 patients taking MED1140857912\"\n",
      "[1] \"6 patients taking MED1141182794\"\n",
      "[1] \"29 patients taking MED1140868494\"\n",
      "[1] \"3 patients taking MED1140868526\"\n",
      "[1] \"333 patients taking MED1141168574\"\n",
      "[1] \"181 patients taking MED1140868588\"\n",
      "[1] \"3 patients taking MED1141181124\"\n",
      "[1] \"10 patients taking MED1141181218\"\n",
      "[1] \"21 patients taking MED1141181220\"\n",
      "[1] \"14 patients taking MED1141166196\"\n",
      "[1] \"0 patients taking MED1141180988\"\n",
      "[1] \"4 patients taking MED1141179820\"\n",
      "[1] \"18 patients taking MED1140909848\"\n",
      "[1] \"401 patients taking MED1141192000\"\n",
      "[1] \"25 patients taking MED1140869366\"\n",
      "[1] \"16 patients taking MED1141157410\"\n",
      "[1] \"65 patients taking MED1140869270\"\n",
      "[1] \"246 patients taking MED1141181594\"\n",
      "[1] \"300 patients taking MED1140868580\"\n",
      "[1] \"18 patients taking MED1141157406\"\n",
      "[1] \"0 patients taking MED1140910562\"\n",
      "[1] \"346 patients taking MED1140868532\"\n",
      "[1] \"0 patients taking MED1140868722\"\n",
      "[1] \"3 patients taking MED1141180944\"\n",
      "[1] \"0 patients taking MED1140876638\"\n",
      "[1] \"42 patients taking MED1140884634\"\n",
      "[1] \"5 patients taking MED1141192344\"\n",
      "[1] \"17 patients taking MED1140868968\"\n",
      "[1] \"1 patients taking MED1141157298\"\n",
      "[1] \"876 patients taking MED1140868482\"\n",
      "[1] \"2 patients taking MED1140884688\"\n",
      "[1] \"987 patients taking MED1141181700\"\n"
     ]
    }
   ],
   "source": [
    "drug_dat <- lapply(1:nrow(hdrug_paths), function(i) getDrugEntries(hdrug_paths$path[[i]], hdrug_paths$trait[[i]]))\n"
   ]
  },
  {
   "cell_type": "code",
   "execution_count": 63,
   "metadata": {},
   "outputs": [
    {
     "data": {
      "text/html": [
       "<table>\n",
       "<thead><tr><th scope=col>drug</th><th scope=col>drugbank_id</th><th scope=col>trait</th><th scope=col>num</th></tr></thead>\n",
       "<tbody>\n",
       "\t<tr><td>megestrol         </td><td>DB00351           </td><td>MED1140884706     </td><td>18                </td></tr>\n",
       "\t<tr><td>methyltestosterone</td><td>DB06710           </td><td>MED1140857656     </td><td>1                 </td></tr>\n",
       "\t<tr><td>finasteride       </td><td>DB01216           </td><td>MED1140868550     </td><td>1977              </td></tr>\n",
       "\t<tr><td>desogestrel       </td><td>DB00304           </td><td>MED1140857912     </td><td>48                </td></tr>\n",
       "\t<tr><td>desogestrel       </td><td>DB00304           </td><td>MED1141182794     </td><td>6                 </td></tr>\n",
       "\t<tr><td>dydrogesterone    </td><td>DB00378           </td><td>MED1140868494     </td><td>29                </td></tr>\n",
       "</tbody>\n",
       "</table>\n"
      ],
      "text/latex": [
       "\\begin{tabular}{r|llll}\n",
       " drug & drugbank\\_id & trait & num\\\\\n",
       "\\hline\n",
       "\t megestrol          & DB00351            & MED1140884706      & 18                \\\\\n",
       "\t methyltestosterone & DB06710            & MED1140857656      & 1                 \\\\\n",
       "\t finasteride        & DB01216            & MED1140868550      & 1977              \\\\\n",
       "\t desogestrel        & DB00304            & MED1140857912      & 48                \\\\\n",
       "\t desogestrel        & DB00304            & MED1141182794      & 6                 \\\\\n",
       "\t dydrogesterone     & DB00378            & MED1140868494      & 29                \\\\\n",
       "\\end{tabular}\n"
      ],
      "text/markdown": [
       "\n",
       "drug | drugbank_id | trait | num | \n",
       "|---|---|---|---|---|---|\n",
       "| megestrol          | DB00351            | MED1140884706      | 18                 | \n",
       "| methyltestosterone | DB06710            | MED1140857656      | 1                  | \n",
       "| finasteride        | DB01216            | MED1140868550      | 1977               | \n",
       "| desogestrel        | DB00304            | MED1140857912      | 48                 | \n",
       "| desogestrel        | DB00304            | MED1141182794      | 6                  | \n",
       "| dydrogesterone     | DB00378            | MED1140868494      | 29                 | \n",
       "\n",
       "\n"
      ],
      "text/plain": [
       "  drug               drugbank_id trait         num \n",
       "1 megestrol          DB00351     MED1140884706 18  \n",
       "2 methyltestosterone DB06710     MED1140857656 1   \n",
       "3 finasteride        DB01216     MED1140868550 1977\n",
       "4 desogestrel        DB00304     MED1140857912 48  \n",
       "5 desogestrel        DB00304     MED1141182794 6   \n",
       "6 dydrogesterone     DB00378     MED1140868494 29  "
      ]
     },
     "metadata": {},
     "output_type": "display_data"
    },
    {
     "data": {
      "text/html": [
       "25"
      ],
      "text/latex": [
       "25"
      ],
      "text/markdown": [
       "25"
      ],
      "text/plain": [
       "[1] 25"
      ]
     },
     "metadata": {},
     "output_type": "display_data"
    },
    {
     "data": {
      "text/html": [
       "25"
      ],
      "text/latex": [
       "25"
      ],
      "text/markdown": [
       "25"
      ],
      "text/plain": [
       "[1] 25"
      ]
     },
     "metadata": {},
     "output_type": "display_data"
    }
   ],
   "source": [
    "num_patients <- lapply(drug_dat, nrow)\n",
    "names(num_patients) <- hdrug_paths$trait\n",
    "hdrug_paths$num <- num_patients\n",
    "hdrug_paths2 <- filter(hdrug_paths, num > 0)\n",
    "head(select(hdrug_paths2, c(drug, drugbank_id, trait, num)))\n",
    "# COLLAPSE BY DRUGBANK ID \n",
    "length(unique(hdrug_paths2$drugbank_id)) # 25 instead of 37\n",
    "length(unique(hdrug_paths2$drug))\n",
    "trait_to_drug <- split(hdrug_paths2$drug, hdrug_paths2$trait)\n",
    "drug_to_trait <- split(hdrug_paths2$trait, hdrug_paths2$drug)\n",
    "mult_map <- drug_to_trait[sapply(drug_to_trait, length) > 1]"
   ]
  },
  {
   "cell_type": "code",
   "execution_count": 64,
   "metadata": {},
   "outputs": [],
   "source": [
    "complete_drug_dat <- drug_dat[num_patients > 0] %>% reduce(full_join, by = \"IID\")\n",
    "complete_drug_dat[is.na(complete_drug_dat)] <- 0\n",
    "complete_drug_dat[complete_drug_dat==2] <- 1"
   ]
  },
  {
   "cell_type": "code",
   "execution_count": 103,
   "metadata": {},
   "outputs": [],
   "source": [
    "collapse_cols <- sapply(drug_to_trait, function(x) ifelse(length(x)==1, data.frame(complete_drug_dat[,x]),\n",
    "                                                          data.frame(apply(complete_drug_dat[,x], 1, function(y) any(y==1)))))"
   ]
  },
  {
   "cell_type": "code",
   "execution_count": 104,
   "metadata": {},
   "outputs": [],
   "source": [
    "collapse_df <- (do.call(cbind, collapse_cols))"
   ]
  },
  {
   "cell_type": "code",
   "execution_count": 105,
   "metadata": {},
   "outputs": [
    {
     "data": {
      "text/html": [
       "<table>\n",
       "<thead><tr><th scope=col></th><th scope=col>clomifene</th><th scope=col>cyproterone</th><th scope=col>danazol</th><th scope=col>desogestrel</th><th scope=col>diethylstilbestrol</th><th scope=col>drospirenone</th><th scope=col>dutasteride</th><th scope=col>dydrogesterone</th><th scope=col>estradiol</th><th scope=col>⋯</th><th scope=col>levonorgestrel</th><th scope=col>medroxyprogesterone acetate</th><th scope=col>megestrol</th><th scope=col>mesterolone</th><th scope=col>methyltestosterone</th><th scope=col>norethisterone</th><th scope=col>progesterone</th><th scope=col>raloxifene</th><th scope=col>testosterone</th><th scope=col>tibolone</th></tr></thead>\n",
       "<tbody>\n",
       "\t<tr><td>5246110</td><td>0      </td><td>0      </td><td>0      </td><td>0      </td><td>0      </td><td>0      </td><td>0      </td><td>0      </td><td>0      </td><td>⋯      </td><td>0      </td><td>0      </td><td>1      </td><td>0      </td><td>0      </td><td>0      </td><td>0      </td><td>0      </td><td>0      </td><td>0      </td></tr>\n",
       "\t<tr><td>4263041</td><td>0      </td><td>0      </td><td>0      </td><td>0      </td><td>0      </td><td>0      </td><td>0      </td><td>0      </td><td>0      </td><td>⋯      </td><td>0      </td><td>0      </td><td>1      </td><td>0      </td><td>0      </td><td>0      </td><td>0      </td><td>0      </td><td>0      </td><td>0      </td></tr>\n",
       "\t<tr><td>2224100</td><td>0      </td><td>0      </td><td>0      </td><td>0      </td><td>0      </td><td>0      </td><td>0      </td><td>0      </td><td>0      </td><td>⋯      </td><td>0      </td><td>0      </td><td>1      </td><td>0      </td><td>0      </td><td>0      </td><td>0      </td><td>0      </td><td>0      </td><td>0      </td></tr>\n",
       "\t<tr><td>1242351</td><td>0      </td><td>0      </td><td>0      </td><td>0      </td><td>0      </td><td>0      </td><td>0      </td><td>0      </td><td>0      </td><td>⋯      </td><td>0      </td><td>0      </td><td>1      </td><td>0      </td><td>0      </td><td>0      </td><td>0      </td><td>0      </td><td>0      </td><td>0      </td></tr>\n",
       "\t<tr><td>1787587</td><td>0      </td><td>0      </td><td>0      </td><td>0      </td><td>0      </td><td>0      </td><td>0      </td><td>0      </td><td>0      </td><td>⋯      </td><td>0      </td><td>0      </td><td>1      </td><td>0      </td><td>0      </td><td>0      </td><td>0      </td><td>0      </td><td>0      </td><td>0      </td></tr>\n",
       "\t<tr><td>1300650</td><td>0      </td><td>0      </td><td>0      </td><td>0      </td><td>0      </td><td>0      </td><td>0      </td><td>0      </td><td>0      </td><td>⋯      </td><td>0      </td><td>0      </td><td>1      </td><td>0      </td><td>0      </td><td>0      </td><td>0      </td><td>0      </td><td>0      </td><td>0      </td></tr>\n",
       "</tbody>\n",
       "</table>\n"
      ],
      "text/latex": [
       "\\begin{tabular}{llllllllllllllllllllllllll}\n",
       "  & clomifene & cyproterone & danazol & desogestrel & diethylstilbestrol & drospirenone & dutasteride & dydrogesterone & estradiol & ⋯ & levonorgestrel & medroxyprogesterone acetate & megestrol & mesterolone & methyltestosterone & norethisterone & progesterone & raloxifene & testosterone & tibolone\\\\\n",
       "\\hline\n",
       "\t 5246110 & 0       & 0       & 0       & 0       & 0       & 0       & 0       & 0       & 0       & ⋯       & 0       & 0       & 1       & 0       & 0       & 0       & 0       & 0       & 0       & 0      \\\\\n",
       "\t 4263041 & 0       & 0       & 0       & 0       & 0       & 0       & 0       & 0       & 0       & ⋯       & 0       & 0       & 1       & 0       & 0       & 0       & 0       & 0       & 0       & 0      \\\\\n",
       "\t 2224100 & 0       & 0       & 0       & 0       & 0       & 0       & 0       & 0       & 0       & ⋯       & 0       & 0       & 1       & 0       & 0       & 0       & 0       & 0       & 0       & 0      \\\\\n",
       "\t 1242351 & 0       & 0       & 0       & 0       & 0       & 0       & 0       & 0       & 0       & ⋯       & 0       & 0       & 1       & 0       & 0       & 0       & 0       & 0       & 0       & 0      \\\\\n",
       "\t 1787587 & 0       & 0       & 0       & 0       & 0       & 0       & 0       & 0       & 0       & ⋯       & 0       & 0       & 1       & 0       & 0       & 0       & 0       & 0       & 0       & 0      \\\\\n",
       "\t 1300650 & 0       & 0       & 0       & 0       & 0       & 0       & 0       & 0       & 0       & ⋯       & 0       & 0       & 1       & 0       & 0       & 0       & 0       & 0       & 0       & 0      \\\\\n",
       "\\end{tabular}\n"
      ],
      "text/markdown": [
       "\n",
       " | clomifene | cyproterone | danazol | desogestrel | diethylstilbestrol | drospirenone | dutasteride | dydrogesterone | estradiol | ⋯ | levonorgestrel | medroxyprogesterone acetate | megestrol | mesterolone | methyltestosterone | norethisterone | progesterone | raloxifene | testosterone | tibolone | \n",
       "|---|---|---|---|---|---|\n",
       "| 5246110 | 0       | 0       | 0       | 0       | 0       | 0       | 0       | 0       | 0       | ⋯       | 0       | 0       | 1       | 0       | 0       | 0       | 0       | 0       | 0       | 0       | \n",
       "| 4263041 | 0       | 0       | 0       | 0       | 0       | 0       | 0       | 0       | 0       | ⋯       | 0       | 0       | 1       | 0       | 0       | 0       | 0       | 0       | 0       | 0       | \n",
       "| 2224100 | 0       | 0       | 0       | 0       | 0       | 0       | 0       | 0       | 0       | ⋯       | 0       | 0       | 1       | 0       | 0       | 0       | 0       | 0       | 0       | 0       | \n",
       "| 1242351 | 0       | 0       | 0       | 0       | 0       | 0       | 0       | 0       | 0       | ⋯       | 0       | 0       | 1       | 0       | 0       | 0       | 0       | 0       | 0       | 0       | \n",
       "| 1787587 | 0       | 0       | 0       | 0       | 0       | 0       | 0       | 0       | 0       | ⋯       | 0       | 0       | 1       | 0       | 0       | 0       | 0       | 0       | 0       | 0       | \n",
       "| 1300650 | 0       | 0       | 0       | 0       | 0       | 0       | 0       | 0       | 0       | ⋯       | 0       | 0       | 1       | 0       | 0       | 0       | 0       | 0       | 0       | 0       | \n",
       "\n",
       "\n"
      ],
      "text/plain": [
       "             clomifene cyproterone danazol desogestrel diethylstilbestrol\n",
       "[1,] 5246110 0         0           0       0           0                 \n",
       "[2,] 4263041 0         0           0       0           0                 \n",
       "[3,] 2224100 0         0           0       0           0                 \n",
       "[4,] 1242351 0         0           0       0           0                 \n",
       "[5,] 1787587 0         0           0       0           0                 \n",
       "[6,] 1300650 0         0           0       0           0                 \n",
       "     drospirenone dutasteride dydrogesterone estradiol ⋯ levonorgestrel\n",
       "[1,] 0            0           0              0         ⋯ 0             \n",
       "[2,] 0            0           0              0         ⋯ 0             \n",
       "[3,] 0            0           0              0         ⋯ 0             \n",
       "[4,] 0            0           0              0         ⋯ 0             \n",
       "[5,] 0            0           0              0         ⋯ 0             \n",
       "[6,] 0            0           0              0         ⋯ 0             \n",
       "     medroxyprogesterone acetate megestrol mesterolone methyltestosterone\n",
       "[1,] 0                           1         0           0                 \n",
       "[2,] 0                           1         0           0                 \n",
       "[3,] 0                           1         0           0                 \n",
       "[4,] 0                           1         0           0                 \n",
       "[5,] 0                           1         0           0                 \n",
       "[6,] 0                           1         0           0                 \n",
       "     norethisterone progesterone raloxifene testosterone tibolone\n",
       "[1,] 0              0            0          0            0       \n",
       "[2,] 0              0            0          0            0       \n",
       "[3,] 0              0            0          0            0       \n",
       "[4,] 0              0            0          0            0       \n",
       "[5,] 0              0            0          0            0       \n",
       "[6,] 0              0            0          0            0       "
      ]
     },
     "metadata": {},
     "output_type": "display_data"
    }
   ],
   "source": [
    "drug_dat <- cbind(complete_drug_dat$IID, collapse_df) \n",
    "head(drug_dat)\n",
    "colnames(drug_dat)[1] <- \"IID\""
   ]
  },
  {
   "cell_type": "code",
   "execution_count": 106,
   "metadata": {},
   "outputs": [
    {
     "data": {
      "text/html": [
       "<dl class=dl-horizontal>\n",
       "\t<dt>IID</dt>\n",
       "\t\t<dd>20820511511</dd>\n",
       "\t<dt>clomifene</dt>\n",
       "\t\t<dd>3</dd>\n",
       "\t<dt>cyproterone</dt>\n",
       "\t\t<dd>47</dd>\n",
       "\t<dt>danazol</dt>\n",
       "\t\t<dd>18</dd>\n",
       "\t<dt>desogestrel</dt>\n",
       "\t\t<dd>54</dd>\n",
       "\t<dt>diethylstilbestrol</dt>\n",
       "\t\t<dd>18</dd>\n",
       "\t<dt>drospirenone</dt>\n",
       "\t\t<dd>4</dd>\n",
       "\t<dt>dutasteride</dt>\n",
       "\t\t<dd>401</dd>\n",
       "\t<dt>dydrogesterone</dt>\n",
       "\t\t<dd>29</dd>\n",
       "\t<dt>estradiol</dt>\n",
       "\t\t<dd>987</dd>\n",
       "\t<dt>estriol</dt>\n",
       "\t\t<dd>246</dd>\n",
       "\t<dt>ethinylestradiol</dt>\n",
       "\t\t<dd>30</dd>\n",
       "\t<dt>etonogestrel</dt>\n",
       "\t\t<dd>14</dd>\n",
       "\t<dt>etynodiol</dt>\n",
       "\t\t<dd>3</dd>\n",
       "\t<dt>finasteride</dt>\n",
       "\t\t<dd>1977</dd>\n",
       "\t<dt>hydroxyprogesterone</dt>\n",
       "\t\t<dd>2</dd>\n",
       "\t<dt>levonorgestrel</dt>\n",
       "\t\t<dd>41</dd>\n",
       "\t<dt>medroxyprogesterone acetate</dt>\n",
       "\t\t<dd>65</dd>\n",
       "\t<dt>megestrol</dt>\n",
       "\t\t<dd>18</dd>\n",
       "\t<dt>mesterolone</dt>\n",
       "\t\t<dd>3</dd>\n",
       "\t<dt>methyltestosterone</dt>\n",
       "\t\t<dd>1</dd>\n",
       "\t<dt>norethisterone</dt>\n",
       "\t\t<dd>318</dd>\n",
       "\t<dt>progesterone</dt>\n",
       "\t\t<dd>181</dd>\n",
       "\t<dt>raloxifene</dt>\n",
       "\t\t<dd>333</dd>\n",
       "\t<dt>testosterone</dt>\n",
       "\t\t<dd>346</dd>\n",
       "\t<dt>tibolone</dt>\n",
       "\t\t<dd>876</dd>\n",
       "</dl>\n"
      ],
      "text/latex": [
       "\\begin{description*}\n",
       "\\item[IID] 20820511511\n",
       "\\item[clomifene] 3\n",
       "\\item[cyproterone] 47\n",
       "\\item[danazol] 18\n",
       "\\item[desogestrel] 54\n",
       "\\item[diethylstilbestrol] 18\n",
       "\\item[drospirenone] 4\n",
       "\\item[dutasteride] 401\n",
       "\\item[dydrogesterone] 29\n",
       "\\item[estradiol] 987\n",
       "\\item[estriol] 246\n",
       "\\item[ethinylestradiol] 30\n",
       "\\item[etonogestrel] 14\n",
       "\\item[etynodiol] 3\n",
       "\\item[finasteride] 1977\n",
       "\\item[hydroxyprogesterone] 2\n",
       "\\item[levonorgestrel] 41\n",
       "\\item[medroxyprogesterone acetate] 65\n",
       "\\item[megestrol] 18\n",
       "\\item[mesterolone] 3\n",
       "\\item[methyltestosterone] 1\n",
       "\\item[norethisterone] 318\n",
       "\\item[progesterone] 181\n",
       "\\item[raloxifene] 333\n",
       "\\item[testosterone] 346\n",
       "\\item[tibolone] 876\n",
       "\\end{description*}\n"
      ],
      "text/markdown": [
       "IID\n",
       ":   20820511511clomifene\n",
       ":   3cyproterone\n",
       ":   47danazol\n",
       ":   18desogestrel\n",
       ":   54diethylstilbestrol\n",
       ":   18drospirenone\n",
       ":   4dutasteride\n",
       ":   401dydrogesterone\n",
       ":   29estradiol\n",
       ":   987estriol\n",
       ":   246ethinylestradiol\n",
       ":   30etonogestrel\n",
       ":   14etynodiol\n",
       ":   3finasteride\n",
       ":   1977hydroxyprogesterone\n",
       ":   2levonorgestrel\n",
       ":   41medroxyprogesterone acetate\n",
       ":   65megestrol\n",
       ":   18mesterolone\n",
       ":   3methyltestosterone\n",
       ":   1norethisterone\n",
       ":   318progesterone\n",
       ":   181raloxifene\n",
       ":   333testosterone\n",
       ":   346tibolone\n",
       ":   876\n",
       "\n"
      ],
      "text/plain": [
       "                        IID                   clomifene \n",
       "                20820511511                           3 \n",
       "                cyproterone                     danazol \n",
       "                         47                          18 \n",
       "                desogestrel          diethylstilbestrol \n",
       "                         54                          18 \n",
       "               drospirenone                 dutasteride \n",
       "                          4                         401 \n",
       "             dydrogesterone                   estradiol \n",
       "                         29                         987 \n",
       "                    estriol            ethinylestradiol \n",
       "                        246                          30 \n",
       "               etonogestrel                   etynodiol \n",
       "                         14                           3 \n",
       "                finasteride         hydroxyprogesterone \n",
       "                       1977                           2 \n",
       "             levonorgestrel medroxyprogesterone acetate \n",
       "                         41                          65 \n",
       "                  megestrol                 mesterolone \n",
       "                         18                           3 \n",
       "         methyltestosterone              norethisterone \n",
       "                          1                         318 \n",
       "               progesterone                  raloxifene \n",
       "                        181                         333 \n",
       "               testosterone                    tibolone \n",
       "                        346                         876 "
      ]
     },
     "metadata": {},
     "output_type": "display_data"
    }
   ],
   "source": [
    "apply(drug_dat, 2, sum)\n",
    "write.table(drug_dat, file=\"../data/id_to_hormone_drug.txt\", row.names=FALSE, quote=FALSE, sep=\"\\t\")"
   ]
  },
  {
   "cell_type": "code",
   "execution_count": 107,
   "metadata": {},
   "outputs": [
    {
     "data": {
      "text/html": [
       "<table>\n",
       "<thead><tr><th scope=col>IID</th><th scope=col>ethinylestradiol</th><th scope=col>levonorgestrel</th><th scope=col>medroxyprogesterone.acetate</th><th scope=col>norethisterone</th><th scope=col>progesterone</th></tr></thead>\n",
       "<tbody>\n",
       "\t<tr><td>5246110</td><td>0      </td><td>0      </td><td>0      </td><td>0      </td><td>0      </td></tr>\n",
       "\t<tr><td>4263041</td><td>0      </td><td>0      </td><td>0      </td><td>0      </td><td>0      </td></tr>\n",
       "\t<tr><td>2224100</td><td>0      </td><td>0      </td><td>0      </td><td>0      </td><td>0      </td></tr>\n",
       "\t<tr><td>1242351</td><td>0      </td><td>0      </td><td>0      </td><td>0      </td><td>0      </td></tr>\n",
       "\t<tr><td>1787587</td><td>0      </td><td>0      </td><td>0      </td><td>0      </td><td>0      </td></tr>\n",
       "\t<tr><td>1300650</td><td>0      </td><td>0      </td><td>0      </td><td>0      </td><td>0      </td></tr>\n",
       "</tbody>\n",
       "</table>\n"
      ],
      "text/latex": [
       "\\begin{tabular}{r|llllll}\n",
       " IID & ethinylestradiol & levonorgestrel & medroxyprogesterone.acetate & norethisterone & progesterone\\\\\n",
       "\\hline\n",
       "\t 5246110 & 0       & 0       & 0       & 0       & 0      \\\\\n",
       "\t 4263041 & 0       & 0       & 0       & 0       & 0      \\\\\n",
       "\t 2224100 & 0       & 0       & 0       & 0       & 0      \\\\\n",
       "\t 1242351 & 0       & 0       & 0       & 0       & 0      \\\\\n",
       "\t 1787587 & 0       & 0       & 0       & 0       & 0      \\\\\n",
       "\t 1300650 & 0       & 0       & 0       & 0       & 0      \\\\\n",
       "\\end{tabular}\n"
      ],
      "text/markdown": [
       "\n",
       "IID | ethinylestradiol | levonorgestrel | medroxyprogesterone.acetate | norethisterone | progesterone | \n",
       "|---|---|---|---|---|---|\n",
       "| 5246110 | 0       | 0       | 0       | 0       | 0       | \n",
       "| 4263041 | 0       | 0       | 0       | 0       | 0       | \n",
       "| 2224100 | 0       | 0       | 0       | 0       | 0       | \n",
       "| 1242351 | 0       | 0       | 0       | 0       | 0       | \n",
       "| 1787587 | 0       | 0       | 0       | 0       | 0       | \n",
       "| 1300650 | 0       | 0       | 0       | 0       | 0       | \n",
       "\n",
       "\n"
      ],
      "text/plain": [
       "  IID     ethinylestradiol levonorgestrel medroxyprogesterone.acetate\n",
       "1 5246110 0                0              0                          \n",
       "2 4263041 0                0              0                          \n",
       "3 2224100 0                0              0                          \n",
       "4 1242351 0                0              0                          \n",
       "5 1787587 0                0              0                          \n",
       "6 1300650 0                0              0                          \n",
       "  norethisterone progesterone\n",
       "1 0              0           \n",
       "2 0              0           \n",
       "3 0              0           \n",
       "4 0              0           \n",
       "5 0              0           \n",
       "6 0              0           "
      ]
     },
     "metadata": {},
     "output_type": "display_data"
    },
    {
     "data": {
      "text/plain": [
       "\n",
       "   0    1    2 \n",
       "5294  629    3 "
      ]
     },
     "metadata": {},
     "output_type": "display_data"
    },
    {
     "data": {
      "text/html": [
       "<table>\n",
       "<thead><tr><th scope=col>IID</th><th scope=col>ethinylestradiol</th><th scope=col>levonorgestrel</th><th scope=col>medroxyprogesterone.acetate</th><th scope=col>norethisterone</th><th scope=col>progesterone</th><th scope=col>num_c</th></tr></thead>\n",
       "<tbody>\n",
       "\t<tr><td>2259981</td><td>0      </td><td>0      </td><td>0      </td><td>1      </td><td>1      </td><td>2      </td></tr>\n",
       "\t<tr><td>2316514</td><td>1      </td><td>0      </td><td>0      </td><td>1      </td><td>0      </td><td>2      </td></tr>\n",
       "\t<tr><td>4729053</td><td>1      </td><td>0      </td><td>1      </td><td>0      </td><td>0      </td><td>2      </td></tr>\n",
       "</tbody>\n",
       "</table>\n"
      ],
      "text/latex": [
       "\\begin{tabular}{r|lllllll}\n",
       " IID & ethinylestradiol & levonorgestrel & medroxyprogesterone.acetate & norethisterone & progesterone & num\\_c\\\\\n",
       "\\hline\n",
       "\t 2259981 & 0       & 0       & 0       & 1       & 1       & 2      \\\\\n",
       "\t 2316514 & 1       & 0       & 0       & 1       & 0       & 2      \\\\\n",
       "\t 4729053 & 1       & 0       & 1       & 0       & 0       & 2      \\\\\n",
       "\\end{tabular}\n"
      ],
      "text/markdown": [
       "\n",
       "IID | ethinylestradiol | levonorgestrel | medroxyprogesterone.acetate | norethisterone | progesterone | num_c | \n",
       "|---|---|---|\n",
       "| 2259981 | 0       | 0       | 0       | 1       | 1       | 2       | \n",
       "| 2316514 | 1       | 0       | 0       | 1       | 0       | 2       | \n",
       "| 4729053 | 1       | 0       | 1       | 0       | 0       | 2       | \n",
       "\n",
       "\n"
      ],
      "text/plain": [
       "  IID     ethinylestradiol levonorgestrel medroxyprogesterone.acetate\n",
       "1 2259981 0                0              0                          \n",
       "2 2316514 1                0              0                          \n",
       "3 4729053 1                0              1                          \n",
       "  norethisterone progesterone num_c\n",
       "1 1              1            2    \n",
       "2 1              0            2    \n",
       "3 0              0            2    "
      ]
     },
     "metadata": {},
     "output_type": "display_data"
    }
   ],
   "source": [
    "contraceptives <- select(data.frame(drug_dat), c(\"IID\", \"ethinylestradiol\", \"levonorgestrel\", \"medroxyprogesterone.acetate\",\n",
    "\"norethisterone\", \"progesterone\"))\n",
    "head(contraceptives)\n",
    "contraceptives$num_c <- apply(contraceptives[,2:ncol(contraceptives)] , 1, sum)\n",
    "table(contraceptives$num_c)\n",
    "filter(contraceptives, num_c > 1)"
   ]
  },
  {
   "cell_type": "code",
   "execution_count": 110,
   "metadata": {},
   "outputs": [
    {
     "data": {
      "text/html": [
       "<table>\n",
       "<thead><tr><th scope=col>IID</th><th scope=col>sex</th><th scope=col>age_v0</th><th scope=col>visit</th><th scope=col>preg</th><th scope=col>pill</th><th scope=col>hrt</th><th scope=col>ooph</th><th scope=col>hyster</th><th scope=col>meno</th><th scope=col>⋯</th><th scope=col>surgical.meno</th><th scope=col>meno.label</th><th scope=col>period_today</th><th scope=col>irregular</th><th scope=col>cycle_length</th><th scope=col>outside_cycle</th><th scope=col>day_in_cycle</th><th scope=col>normalized_day_in_cycle</th><th scope=col>menstrual_phase</th><th scope=col>qc_fail</th></tr></thead>\n",
       "<tbody>\n",
       "\t<tr><td>2502845      </td><td>1            </td><td>50           </td><td>NA           </td><td>NA           </td><td>NA           </td><td>NA           </td><td>NA           </td><td>NA           </td><td>NA           </td><td>⋯            </td><td>NA           </td><td>male         </td><td>NA           </td><td>NA           </td><td>NA           </td><td>NA           </td><td>NA           </td><td>NA           </td><td>NA           </td><td>0            </td></tr>\n",
       "\t<tr><td>2314965      </td><td>0            </td><td>55           </td><td> 0           </td><td> 0           </td><td> 0           </td><td>NA           </td><td> 0           </td><td> 0           </td><td>NA           </td><td>⋯            </td><td> 0           </td><td>missing      </td><td> 0           </td><td>NA           </td><td>NA           </td><td>NA           </td><td>NA           </td><td>NA           </td><td>NA           </td><td>0            </td></tr>\n",
       "\t<tr><td>1142584      </td><td>0            </td><td>60           </td><td> 0           </td><td> 0           </td><td> 0           </td><td> 0           </td><td> 0           </td><td> 0           </td><td> 1           </td><td>⋯            </td><td> 0           </td><td>post         </td><td>NA           </td><td>NA           </td><td>NA           </td><td>NA           </td><td>NA           </td><td>NA           </td><td>NA           </td><td>0            </td></tr>\n",
       "\t<tr><td>3665122      </td><td>0            </td><td>74           </td><td> 0           </td><td> 0           </td><td>NA           </td><td> 0           </td><td> 0           </td><td> 1           </td><td> 1           </td><td>⋯            </td><td> 1           </td><td>surgical_meno</td><td>NA           </td><td>NA           </td><td>NA           </td><td>NA           </td><td>NA           </td><td>NA           </td><td>NA           </td><td>0            </td></tr>\n",
       "\t<tr><td>4377492      </td><td>0            </td><td>65           </td><td> 0           </td><td> 0           </td><td> 0           </td><td>NA           </td><td> 0           </td><td> 0           </td><td> 1           </td><td>⋯            </td><td> 0           </td><td>post         </td><td>NA           </td><td>NA           </td><td>NA           </td><td>NA           </td><td>NA           </td><td>NA           </td><td>NA           </td><td>0            </td></tr>\n",
       "\t<tr><td>2652670      </td><td>1            </td><td>58           </td><td>NA           </td><td>NA           </td><td>NA           </td><td>NA           </td><td>NA           </td><td>NA           </td><td>NA           </td><td>⋯            </td><td>NA           </td><td>male         </td><td>NA           </td><td>NA           </td><td>NA           </td><td>NA           </td><td>NA           </td><td>NA           </td><td>NA           </td><td>0            </td></tr>\n",
       "</tbody>\n",
       "</table>\n"
      ],
      "text/latex": [
       "\\begin{tabular}{r|lllllllllllllllllllllll}\n",
       " IID & sex & age\\_v0 & visit & preg & pill & hrt & ooph & hyster & meno & ⋯ & surgical.meno & meno.label & period\\_today & irregular & cycle\\_length & outside\\_cycle & day\\_in\\_cycle & normalized\\_day\\_in\\_cycle & menstrual\\_phase & qc\\_fail\\\\\n",
       "\\hline\n",
       "\t 2502845       & 1             & 50            & NA            & NA            & NA            & NA            & NA            & NA            & NA            & ⋯             & NA            & male          & NA            & NA            & NA            & NA            & NA            & NA            & NA            & 0            \\\\\n",
       "\t 2314965       & 0             & 55            &  0            &  0            &  0            & NA            &  0            &  0            & NA            & ⋯             &  0            & missing       &  0            & NA            & NA            & NA            & NA            & NA            & NA            & 0            \\\\\n",
       "\t 1142584       & 0             & 60            &  0            &  0            &  0            &  0            &  0            &  0            &  1            & ⋯             &  0            & post          & NA            & NA            & NA            & NA            & NA            & NA            & NA            & 0            \\\\\n",
       "\t 3665122         & 0               & 74              &  0              &  0              & NA              &  0              &  0              &  1              &  1              & ⋯               &  1              & surgical\\_meno & NA              & NA              & NA              & NA              & NA              & NA              & NA              & 0              \\\\\n",
       "\t 4377492       & 0             & 65            &  0            &  0            &  0            & NA            &  0            &  0            &  1            & ⋯             &  0            & post          & NA            & NA            & NA            & NA            & NA            & NA            & NA            & 0            \\\\\n",
       "\t 2652670       & 1             & 58            & NA            & NA            & NA            & NA            & NA            & NA            & NA            & ⋯             & NA            & male          & NA            & NA            & NA            & NA            & NA            & NA            & NA            & 0            \\\\\n",
       "\\end{tabular}\n"
      ],
      "text/markdown": [
       "\n",
       "IID | sex | age_v0 | visit | preg | pill | hrt | ooph | hyster | meno | ⋯ | surgical.meno | meno.label | period_today | irregular | cycle_length | outside_cycle | day_in_cycle | normalized_day_in_cycle | menstrual_phase | qc_fail | \n",
       "|---|---|---|---|---|---|\n",
       "| 2502845       | 1             | 50            | NA            | NA            | NA            | NA            | NA            | NA            | NA            | ⋯             | NA            | male          | NA            | NA            | NA            | NA            | NA            | NA            | NA            | 0             | \n",
       "| 2314965       | 0             | 55            |  0            |  0            |  0            | NA            |  0            |  0            | NA            | ⋯             |  0            | missing       |  0            | NA            | NA            | NA            | NA            | NA            | NA            | 0             | \n",
       "| 1142584       | 0             | 60            |  0            |  0            |  0            |  0            |  0            |  0            |  1            | ⋯             |  0            | post          | NA            | NA            | NA            | NA            | NA            | NA            | NA            | 0             | \n",
       "| 3665122       | 0             | 74            |  0            |  0            | NA            |  0            |  0            |  1            |  1            | ⋯             |  1            | surgical_meno | NA            | NA            | NA            | NA            | NA            | NA            | NA            | 0             | \n",
       "| 4377492       | 0             | 65            |  0            |  0            |  0            | NA            |  0            |  0            |  1            | ⋯             |  0            | post          | NA            | NA            | NA            | NA            | NA            | NA            | NA            | 0             | \n",
       "| 2652670       | 1             | 58            | NA            | NA            | NA            | NA            | NA            | NA            | NA            | ⋯             | NA            | male          | NA            | NA            | NA            | NA            | NA            | NA            | NA            | 0             | \n",
       "\n",
       "\n"
      ],
      "text/plain": [
       "  IID     sex age_v0 visit preg pill hrt ooph hyster meno ⋯ surgical.meno\n",
       "1 2502845 1   50     NA    NA   NA   NA  NA   NA     NA   ⋯ NA           \n",
       "2 2314965 0   55      0     0    0   NA   0    0     NA   ⋯  0           \n",
       "3 1142584 0   60      0     0    0    0   0    0      1   ⋯  0           \n",
       "4 3665122 0   74      0     0   NA    0   0    1      1   ⋯  1           \n",
       "5 4377492 0   65      0     0    0   NA   0    0      1   ⋯  0           \n",
       "6 2652670 1   58     NA    NA   NA   NA  NA   NA     NA   ⋯ NA           \n",
       "  meno.label    period_today irregular cycle_length outside_cycle day_in_cycle\n",
       "1 male          NA           NA        NA           NA            NA          \n",
       "2 missing        0           NA        NA           NA            NA          \n",
       "3 post          NA           NA        NA           NA            NA          \n",
       "4 surgical_meno NA           NA        NA           NA            NA          \n",
       "5 post          NA           NA        NA           NA            NA          \n",
       "6 male          NA           NA        NA           NA            NA          \n",
       "  normalized_day_in_cycle menstrual_phase qc_fail\n",
       "1 NA                      NA              0      \n",
       "2 NA                      NA              0      \n",
       "3 NA                      NA              0      \n",
       "4 NA                      NA              0      \n",
       "5 NA                      NA              0      \n",
       "6 NA                      NA              0      "
      ]
     },
     "metadata": {},
     "output_type": "display_data"
    }
   ],
   "source": [
    "phase_meno <- fread(\"../data/phase_meno_qc.txt\", header=TRUE, data.table=FALSE)\n",
    "head(phase_meno)"
   ]
  },
  {
   "cell_type": "code",
   "execution_count": 118,
   "metadata": {},
   "outputs": [
    {
     "data": {
      "text/plain": [
       "\n",
       " -9   0   1 \n",
       " 56 630  81 "
      ]
     },
     "metadata": {},
     "output_type": "display_data"
    },
    {
     "data": {
      "text/html": [
       "<table>\n",
       "<thead><tr><th scope=col>IID</th><th scope=col>clomifene</th><th scope=col>cyproterone</th><th scope=col>danazol</th><th scope=col>desogestrel</th><th scope=col>diethylstilbestrol</th><th scope=col>drospirenone</th><th scope=col>dutasteride</th><th scope=col>dydrogesterone</th><th scope=col>estradiol</th><th scope=col>⋯</th><th scope=col>levonorgestrel</th><th scope=col>medroxyprogesterone.acetate</th><th scope=col>megestrol</th><th scope=col>mesterolone</th><th scope=col>methyltestosterone</th><th scope=col>norethisterone</th><th scope=col>progesterone</th><th scope=col>raloxifene</th><th scope=col>testosterone</th><th scope=col>tibolone</th></tr></thead>\n",
       "<tbody>\n",
       "\t<tr><td>2499976</td><td>0      </td><td>0      </td><td>0      </td><td>0      </td><td>0      </td><td>0      </td><td>0      </td><td>0      </td><td>0      </td><td>⋯      </td><td>0      </td><td>0      </td><td>0      </td><td>0      </td><td>0      </td><td>0      </td><td>0      </td><td>0      </td><td>0      </td><td>0      </td></tr>\n",
       "\t<tr><td>5349744</td><td>0      </td><td>0      </td><td>0      </td><td>1      </td><td>0      </td><td>0      </td><td>0      </td><td>0      </td><td>0      </td><td>⋯      </td><td>0      </td><td>0      </td><td>0      </td><td>0      </td><td>0      </td><td>0      </td><td>0      </td><td>0      </td><td>0      </td><td>0      </td></tr>\n",
       "\t<tr><td>4315675</td><td>0      </td><td>0      </td><td>0      </td><td>1      </td><td>0      </td><td>0      </td><td>0      </td><td>0      </td><td>0      </td><td>⋯      </td><td>0      </td><td>0      </td><td>0      </td><td>0      </td><td>0      </td><td>0      </td><td>0      </td><td>0      </td><td>0      </td><td>0      </td></tr>\n",
       "\t<tr><td>5426227</td><td>0      </td><td>0      </td><td>0      </td><td>1      </td><td>0      </td><td>0      </td><td>0      </td><td>0      </td><td>0      </td><td>⋯      </td><td>0      </td><td>0      </td><td>0      </td><td>0      </td><td>0      </td><td>0      </td><td>0      </td><td>0      </td><td>0      </td><td>0      </td></tr>\n",
       "\t<tr><td>1239742</td><td>0      </td><td>0      </td><td>0      </td><td>1      </td><td>0      </td><td>0      </td><td>0      </td><td>0      </td><td>0      </td><td>⋯      </td><td>0      </td><td>0      </td><td>0      </td><td>0      </td><td>0      </td><td>0      </td><td>0      </td><td>0      </td><td>0      </td><td>0      </td></tr>\n",
       "\t<tr><td>4232721</td><td>0      </td><td>0      </td><td>0      </td><td>1      </td><td>0      </td><td>0      </td><td>0      </td><td>0      </td><td>0      </td><td>⋯      </td><td>0      </td><td>0      </td><td>0      </td><td>0      </td><td>0      </td><td>0      </td><td>0      </td><td>0      </td><td>0      </td><td>0      </td></tr>\n",
       "</tbody>\n",
       "</table>\n"
      ],
      "text/latex": [
       "\\begin{tabular}{r|llllllllllllllllllllllllll}\n",
       " IID & clomifene & cyproterone & danazol & desogestrel & diethylstilbestrol & drospirenone & dutasteride & dydrogesterone & estradiol & ⋯ & levonorgestrel & medroxyprogesterone.acetate & megestrol & mesterolone & methyltestosterone & norethisterone & progesterone & raloxifene & testosterone & tibolone\\\\\n",
       "\\hline\n",
       "\t 2499976 & 0       & 0       & 0       & 0       & 0       & 0       & 0       & 0       & 0       & ⋯       & 0       & 0       & 0       & 0       & 0       & 0       & 0       & 0       & 0       & 0      \\\\\n",
       "\t 5349744 & 0       & 0       & 0       & 1       & 0       & 0       & 0       & 0       & 0       & ⋯       & 0       & 0       & 0       & 0       & 0       & 0       & 0       & 0       & 0       & 0      \\\\\n",
       "\t 4315675 & 0       & 0       & 0       & 1       & 0       & 0       & 0       & 0       & 0       & ⋯       & 0       & 0       & 0       & 0       & 0       & 0       & 0       & 0       & 0       & 0      \\\\\n",
       "\t 5426227 & 0       & 0       & 0       & 1       & 0       & 0       & 0       & 0       & 0       & ⋯       & 0       & 0       & 0       & 0       & 0       & 0       & 0       & 0       & 0       & 0      \\\\\n",
       "\t 1239742 & 0       & 0       & 0       & 1       & 0       & 0       & 0       & 0       & 0       & ⋯       & 0       & 0       & 0       & 0       & 0       & 0       & 0       & 0       & 0       & 0      \\\\\n",
       "\t 4232721 & 0       & 0       & 0       & 1       & 0       & 0       & 0       & 0       & 0       & ⋯       & 0       & 0       & 0       & 0       & 0       & 0       & 0       & 0       & 0       & 0      \\\\\n",
       "\\end{tabular}\n"
      ],
      "text/markdown": [
       "\n",
       "IID | clomifene | cyproterone | danazol | desogestrel | diethylstilbestrol | drospirenone | dutasteride | dydrogesterone | estradiol | ⋯ | levonorgestrel | medroxyprogesterone.acetate | megestrol | mesterolone | methyltestosterone | norethisterone | progesterone | raloxifene | testosterone | tibolone | \n",
       "|---|---|---|---|---|---|\n",
       "| 2499976 | 0       | 0       | 0       | 0       | 0       | 0       | 0       | 0       | 0       | ⋯       | 0       | 0       | 0       | 0       | 0       | 0       | 0       | 0       | 0       | 0       | \n",
       "| 5349744 | 0       | 0       | 0       | 1       | 0       | 0       | 0       | 0       | 0       | ⋯       | 0       | 0       | 0       | 0       | 0       | 0       | 0       | 0       | 0       | 0       | \n",
       "| 4315675 | 0       | 0       | 0       | 1       | 0       | 0       | 0       | 0       | 0       | ⋯       | 0       | 0       | 0       | 0       | 0       | 0       | 0       | 0       | 0       | 0       | \n",
       "| 5426227 | 0       | 0       | 0       | 1       | 0       | 0       | 0       | 0       | 0       | ⋯       | 0       | 0       | 0       | 0       | 0       | 0       | 0       | 0       | 0       | 0       | \n",
       "| 1239742 | 0       | 0       | 0       | 1       | 0       | 0       | 0       | 0       | 0       | ⋯       | 0       | 0       | 0       | 0       | 0       | 0       | 0       | 0       | 0       | 0       | \n",
       "| 4232721 | 0       | 0       | 0       | 1       | 0       | 0       | 0       | 0       | 0       | ⋯       | 0       | 0       | 0       | 0       | 0       | 0       | 0       | 0       | 0       | 0       | \n",
       "\n",
       "\n"
      ],
      "text/plain": [
       "  IID     clomifene cyproterone danazol desogestrel diethylstilbestrol\n",
       "1 2499976 0         0           0       0           0                 \n",
       "2 5349744 0         0           0       1           0                 \n",
       "3 4315675 0         0           0       1           0                 \n",
       "4 5426227 0         0           0       1           0                 \n",
       "5 1239742 0         0           0       1           0                 \n",
       "6 4232721 0         0           0       1           0                 \n",
       "  drospirenone dutasteride dydrogesterone estradiol ⋯ levonorgestrel\n",
       "1 0            0           0              0         ⋯ 0             \n",
       "2 0            0           0              0         ⋯ 0             \n",
       "3 0            0           0              0         ⋯ 0             \n",
       "4 0            0           0              0         ⋯ 0             \n",
       "5 0            0           0              0         ⋯ 0             \n",
       "6 0            0           0              0         ⋯ 0             \n",
       "  medroxyprogesterone.acetate megestrol mesterolone methyltestosterone\n",
       "1 0                           0         0           0                 \n",
       "2 0                           0         0           0                 \n",
       "3 0                           0         0           0                 \n",
       "4 0                           0         0           0                 \n",
       "5 0                           0         0           0                 \n",
       "6 0                           0         0           0                 \n",
       "  norethisterone progesterone raloxifene testosterone tibolone\n",
       "1 0              0            0          0            0       \n",
       "2 0              0            0          0            0       \n",
       "3 0              0            0          0            0       \n",
       "4 0              0            0          0            0       \n",
       "5 0              0            0          0            0       \n",
       "6 0              0            0          0            0       "
      ]
     },
     "metadata": {},
     "output_type": "display_data"
    },
    {
     "data": {
      "text/html": [
       "<dl class=dl-horizontal>\n",
       "\t<dt>cyproterone</dt>\n",
       "\t\t<dd>2</dd>\n",
       "\t<dt>desogestrel</dt>\n",
       "\t\t<dd>39</dd>\n",
       "\t<dt>dydrogesterone</dt>\n",
       "\t\t<dd>1</dd>\n",
       "\t<dt>estradiol</dt>\n",
       "\t\t<dd>4</dd>\n",
       "\t<dt>estriol</dt>\n",
       "\t\t<dd>1</dd>\n",
       "\t<dt>ethinylestradiol</dt>\n",
       "\t\t<dd>1</dd>\n",
       "\t<dt>etonogestrel</dt>\n",
       "\t\t<dd>3</dd>\n",
       "\t<dt>etynodiol</dt>\n",
       "\t\t<dd>2</dd>\n",
       "\t<dt>finasteride</dt>\n",
       "\t\t<dd>1</dd>\n",
       "\t<dt>levonorgestrel</dt>\n",
       "\t\t<dd>17</dd>\n",
       "\t<dt>medroxyprogesterone.acetate</dt>\n",
       "\t\t<dd>3</dd>\n",
       "\t<dt>norethisterone</dt>\n",
       "\t\t<dd>34</dd>\n",
       "\t<dt>progesterone</dt>\n",
       "\t\t<dd>13</dd>\n",
       "\t<dt>raloxifene</dt>\n",
       "\t\t<dd>2</dd>\n",
       "\t<dt>testosterone</dt>\n",
       "\t\t<dd>1</dd>\n",
       "\t<dt>tibolone</dt>\n",
       "\t\t<dd>3</dd>\n",
       "</dl>\n"
      ],
      "text/latex": [
       "\\begin{description*}\n",
       "\\item[cyproterone] 2\n",
       "\\item[desogestrel] 39\n",
       "\\item[dydrogesterone] 1\n",
       "\\item[estradiol] 4\n",
       "\\item[estriol] 1\n",
       "\\item[ethinylestradiol] 1\n",
       "\\item[etonogestrel] 3\n",
       "\\item[etynodiol] 2\n",
       "\\item[finasteride] 1\n",
       "\\item[levonorgestrel] 17\n",
       "\\item[medroxyprogesterone.acetate] 3\n",
       "\\item[norethisterone] 34\n",
       "\\item[progesterone] 13\n",
       "\\item[raloxifene] 2\n",
       "\\item[testosterone] 1\n",
       "\\item[tibolone] 3\n",
       "\\end{description*}\n"
      ],
      "text/markdown": [
       "cyproterone\n",
       ":   2desogestrel\n",
       ":   39dydrogesterone\n",
       ":   1estradiol\n",
       ":   4estriol\n",
       ":   1ethinylestradiol\n",
       ":   1etonogestrel\n",
       ":   3etynodiol\n",
       ":   2finasteride\n",
       ":   1levonorgestrel\n",
       ":   17medroxyprogesterone.acetate\n",
       ":   3norethisterone\n",
       ":   34progesterone\n",
       ":   13raloxifene\n",
       ":   2testosterone\n",
       ":   1tibolone\n",
       ":   3\n",
       "\n"
      ],
      "text/plain": [
       "                cyproterone                 desogestrel \n",
       "                          2                          39 \n",
       "             dydrogesterone                   estradiol \n",
       "                          1                           4 \n",
       "                    estriol            ethinylestradiol \n",
       "                          1                           1 \n",
       "               etonogestrel                   etynodiol \n",
       "                          3                           2 \n",
       "                finasteride              levonorgestrel \n",
       "                          1                          17 \n",
       "medroxyprogesterone.acetate              norethisterone \n",
       "                          3                          34 \n",
       "               progesterone                  raloxifene \n",
       "                         13                           2 \n",
       "               testosterone                    tibolone \n",
       "                          1                           3 "
      ]
     },
     "metadata": {},
     "output_type": "display_data"
    }
   ],
   "source": [
    "table(filter(phase_meno, IID %in% filter(contraceptives, num_c > 0)$IID)$pill)\n",
    "# only 81 say they're on the pill\n",
    "drug_on_pill <- filter(data.frame(drug_dat), IID %in% filter(phase_meno, pill==1)$IID)\n",
    "head(drug_on_pill)\n",
    "on_pill_sums <-apply(drug_on_pill[,2:ncol(drug_on_pill)], 2, sum)\n",
    "on_pill_sums[on_pill_sums!=0]\n"
   ]
  },
  {
   "cell_type": "code",
   "execution_count": 117,
   "metadata": {},
   "outputs": [
    {
     "data": {
      "text/html": [
       "<table>\n",
       "<thead><tr><th scope=col>IID</th><th scope=col>clomifene</th><th scope=col>cyproterone</th><th scope=col>danazol</th><th scope=col>desogestrel</th><th scope=col>diethylstilbestrol</th><th scope=col>drospirenone</th><th scope=col>dutasteride</th><th scope=col>dydrogesterone</th><th scope=col>estradiol</th><th scope=col>⋯</th><th scope=col>levonorgestrel</th><th scope=col>medroxyprogesterone.acetate</th><th scope=col>megestrol</th><th scope=col>mesterolone</th><th scope=col>methyltestosterone</th><th scope=col>norethisterone</th><th scope=col>progesterone</th><th scope=col>raloxifene</th><th scope=col>testosterone</th><th scope=col>tibolone</th></tr></thead>\n",
       "<tbody>\n",
       "\t<tr><td>4449201</td><td>0      </td><td>0      </td><td>0      </td><td>0      </td><td>0      </td><td>0      </td><td>0      </td><td>0      </td><td>0      </td><td>⋯      </td><td>0      </td><td>0      </td><td>1      </td><td>0      </td><td>0      </td><td>0      </td><td>0      </td><td>0      </td><td>0      </td><td>0      </td></tr>\n",
       "\t<tr><td>4277680</td><td>0      </td><td>0      </td><td>0      </td><td>0      </td><td>0      </td><td>0      </td><td>0      </td><td>0      </td><td>1      </td><td>⋯      </td><td>0      </td><td>0      </td><td>0      </td><td>0      </td><td>0      </td><td>0      </td><td>0      </td><td>0      </td><td>0      </td><td>0      </td></tr>\n",
       "\t<tr><td>5355193</td><td>0      </td><td>0      </td><td>0      </td><td>0      </td><td>0      </td><td>0      </td><td>0      </td><td>1      </td><td>1      </td><td>⋯      </td><td>0      </td><td>0      </td><td>0      </td><td>0      </td><td>0      </td><td>0      </td><td>0      </td><td>0      </td><td>0      </td><td>0      </td></tr>\n",
       "\t<tr><td>5580604</td><td>0      </td><td>0      </td><td>0      </td><td>0      </td><td>0      </td><td>0      </td><td>0      </td><td>0      </td><td>0      </td><td>⋯      </td><td>0      </td><td>0      </td><td>0      </td><td>0      </td><td>0      </td><td>0      </td><td>0      </td><td>0      </td><td>0      </td><td>0      </td></tr>\n",
       "\t<tr><td>2499976</td><td>0      </td><td>0      </td><td>0      </td><td>0      </td><td>0      </td><td>0      </td><td>0      </td><td>0      </td><td>0      </td><td>⋯      </td><td>0      </td><td>0      </td><td>0      </td><td>0      </td><td>0      </td><td>0      </td><td>0      </td><td>0      </td><td>0      </td><td>0      </td></tr>\n",
       "\t<tr><td>5719161</td><td>0      </td><td>0      </td><td>0      </td><td>0      </td><td>0      </td><td>0      </td><td>0      </td><td>0      </td><td>1      </td><td>⋯      </td><td>0      </td><td>0      </td><td>0      </td><td>0      </td><td>0      </td><td>0      </td><td>0      </td><td>0      </td><td>0      </td><td>0      </td></tr>\n",
       "</tbody>\n",
       "</table>\n"
      ],
      "text/latex": [
       "\\begin{tabular}{r|llllllllllllllllllllllllll}\n",
       " IID & clomifene & cyproterone & danazol & desogestrel & diethylstilbestrol & drospirenone & dutasteride & dydrogesterone & estradiol & ⋯ & levonorgestrel & medroxyprogesterone.acetate & megestrol & mesterolone & methyltestosterone & norethisterone & progesterone & raloxifene & testosterone & tibolone\\\\\n",
       "\\hline\n",
       "\t 4449201 & 0       & 0       & 0       & 0       & 0       & 0       & 0       & 0       & 0       & ⋯       & 0       & 0       & 1       & 0       & 0       & 0       & 0       & 0       & 0       & 0      \\\\\n",
       "\t 4277680 & 0       & 0       & 0       & 0       & 0       & 0       & 0       & 0       & 1       & ⋯       & 0       & 0       & 0       & 0       & 0       & 0       & 0       & 0       & 0       & 0      \\\\\n",
       "\t 5355193 & 0       & 0       & 0       & 0       & 0       & 0       & 0       & 1       & 1       & ⋯       & 0       & 0       & 0       & 0       & 0       & 0       & 0       & 0       & 0       & 0      \\\\\n",
       "\t 5580604 & 0       & 0       & 0       & 0       & 0       & 0       & 0       & 0       & 0       & ⋯       & 0       & 0       & 0       & 0       & 0       & 0       & 0       & 0       & 0       & 0      \\\\\n",
       "\t 2499976 & 0       & 0       & 0       & 0       & 0       & 0       & 0       & 0       & 0       & ⋯       & 0       & 0       & 0       & 0       & 0       & 0       & 0       & 0       & 0       & 0      \\\\\n",
       "\t 5719161 & 0       & 0       & 0       & 0       & 0       & 0       & 0       & 0       & 1       & ⋯       & 0       & 0       & 0       & 0       & 0       & 0       & 0       & 0       & 0       & 0      \\\\\n",
       "\\end{tabular}\n"
      ],
      "text/markdown": [
       "\n",
       "IID | clomifene | cyproterone | danazol | desogestrel | diethylstilbestrol | drospirenone | dutasteride | dydrogesterone | estradiol | ⋯ | levonorgestrel | medroxyprogesterone.acetate | megestrol | mesterolone | methyltestosterone | norethisterone | progesterone | raloxifene | testosterone | tibolone | \n",
       "|---|---|---|---|---|---|\n",
       "| 4449201 | 0       | 0       | 0       | 0       | 0       | 0       | 0       | 0       | 0       | ⋯       | 0       | 0       | 1       | 0       | 0       | 0       | 0       | 0       | 0       | 0       | \n",
       "| 4277680 | 0       | 0       | 0       | 0       | 0       | 0       | 0       | 0       | 1       | ⋯       | 0       | 0       | 0       | 0       | 0       | 0       | 0       | 0       | 0       | 0       | \n",
       "| 5355193 | 0       | 0       | 0       | 0       | 0       | 0       | 0       | 1       | 1       | ⋯       | 0       | 0       | 0       | 0       | 0       | 0       | 0       | 0       | 0       | 0       | \n",
       "| 5580604 | 0       | 0       | 0       | 0       | 0       | 0       | 0       | 0       | 0       | ⋯       | 0       | 0       | 0       | 0       | 0       | 0       | 0       | 0       | 0       | 0       | \n",
       "| 2499976 | 0       | 0       | 0       | 0       | 0       | 0       | 0       | 0       | 0       | ⋯       | 0       | 0       | 0       | 0       | 0       | 0       | 0       | 0       | 0       | 0       | \n",
       "| 5719161 | 0       | 0       | 0       | 0       | 0       | 0       | 0       | 0       | 1       | ⋯       | 0       | 0       | 0       | 0       | 0       | 0       | 0       | 0       | 0       | 0       | \n",
       "\n",
       "\n"
      ],
      "text/plain": [
       "  IID     clomifene cyproterone danazol desogestrel diethylstilbestrol\n",
       "1 4449201 0         0           0       0           0                 \n",
       "2 4277680 0         0           0       0           0                 \n",
       "3 5355193 0         0           0       0           0                 \n",
       "4 5580604 0         0           0       0           0                 \n",
       "5 2499976 0         0           0       0           0                 \n",
       "6 5719161 0         0           0       0           0                 \n",
       "  drospirenone dutasteride dydrogesterone estradiol ⋯ levonorgestrel\n",
       "1 0            0           0              0         ⋯ 0             \n",
       "2 0            0           0              1         ⋯ 0             \n",
       "3 0            0           1              1         ⋯ 0             \n",
       "4 0            0           0              0         ⋯ 0             \n",
       "5 0            0           0              0         ⋯ 0             \n",
       "6 0            0           0              1         ⋯ 0             \n",
       "  medroxyprogesterone.acetate megestrol mesterolone methyltestosterone\n",
       "1 0                           1         0           0                 \n",
       "2 0                           0         0           0                 \n",
       "3 0                           0         0           0                 \n",
       "4 0                           0         0           0                 \n",
       "5 0                           0         0           0                 \n",
       "6 0                           0         0           0                 \n",
       "  norethisterone progesterone raloxifene testosterone tibolone\n",
       "1 0              0            0          0            0       \n",
       "2 0              0            0          0            0       \n",
       "3 0              0            0          0            0       \n",
       "4 0              0            0          0            0       \n",
       "5 0              0            0          0            0       \n",
       "6 0              0            0          0            0       "
      ]
     },
     "metadata": {},
     "output_type": "display_data"
    },
    {
     "data": {
      "text/html": [
       "<dl class=dl-horizontal>\n",
       "\t<dt>cyproterone</dt>\n",
       "\t\t<dd>7</dd>\n",
       "\t<dt>danazol</dt>\n",
       "\t\t<dd>2</dd>\n",
       "\t<dt>desogestrel</dt>\n",
       "\t\t<dd>1</dd>\n",
       "\t<dt>drospirenone</dt>\n",
       "\t\t<dd>2</dd>\n",
       "\t<dt>dydrogesterone</dt>\n",
       "\t\t<dd>16</dd>\n",
       "\t<dt>estradiol</dt>\n",
       "\t\t<dd>617</dd>\n",
       "\t<dt>estriol</dt>\n",
       "\t\t<dd>62</dd>\n",
       "\t<dt>ethinylestradiol</dt>\n",
       "\t\t<dd>18</dd>\n",
       "\t<dt>finasteride</dt>\n",
       "\t\t<dd>5</dd>\n",
       "\t<dt>levonorgestrel</dt>\n",
       "\t\t<dd>4</dd>\n",
       "\t<dt>medroxyprogesterone.acetate</dt>\n",
       "\t\t<dd>21</dd>\n",
       "\t<dt>megestrol</dt>\n",
       "\t\t<dd>1</dd>\n",
       "\t<dt>norethisterone</dt>\n",
       "\t\t<dd>50</dd>\n",
       "\t<dt>progesterone</dt>\n",
       "\t\t<dd>52</dd>\n",
       "\t<dt>raloxifene</dt>\n",
       "\t\t<dd>28</dd>\n",
       "\t<dt>testosterone</dt>\n",
       "\t\t<dd>66</dd>\n",
       "\t<dt>tibolone</dt>\n",
       "\t\t<dd>743</dd>\n",
       "</dl>\n"
      ],
      "text/latex": [
       "\\begin{description*}\n",
       "\\item[cyproterone] 7\n",
       "\\item[danazol] 2\n",
       "\\item[desogestrel] 1\n",
       "\\item[drospirenone] 2\n",
       "\\item[dydrogesterone] 16\n",
       "\\item[estradiol] 617\n",
       "\\item[estriol] 62\n",
       "\\item[ethinylestradiol] 18\n",
       "\\item[finasteride] 5\n",
       "\\item[levonorgestrel] 4\n",
       "\\item[medroxyprogesterone.acetate] 21\n",
       "\\item[megestrol] 1\n",
       "\\item[norethisterone] 50\n",
       "\\item[progesterone] 52\n",
       "\\item[raloxifene] 28\n",
       "\\item[testosterone] 66\n",
       "\\item[tibolone] 743\n",
       "\\end{description*}\n"
      ],
      "text/markdown": [
       "cyproterone\n",
       ":   7danazol\n",
       ":   2desogestrel\n",
       ":   1drospirenone\n",
       ":   2dydrogesterone\n",
       ":   16estradiol\n",
       ":   617estriol\n",
       ":   62ethinylestradiol\n",
       ":   18finasteride\n",
       ":   5levonorgestrel\n",
       ":   4medroxyprogesterone.acetate\n",
       ":   21megestrol\n",
       ":   1norethisterone\n",
       ":   50progesterone\n",
       ":   52raloxifene\n",
       ":   28testosterone\n",
       ":   66tibolone\n",
       ":   743\n",
       "\n"
      ],
      "text/plain": [
       "                cyproterone                     danazol \n",
       "                          7                           2 \n",
       "                desogestrel                drospirenone \n",
       "                          1                           2 \n",
       "             dydrogesterone                   estradiol \n",
       "                         16                         617 \n",
       "                    estriol            ethinylestradiol \n",
       "                         62                          18 \n",
       "                finasteride              levonorgestrel \n",
       "                          5                           4 \n",
       "medroxyprogesterone.acetate                   megestrol \n",
       "                         21                           1 \n",
       "             norethisterone                progesterone \n",
       "                         50                          52 \n",
       "                 raloxifene                testosterone \n",
       "                         28                          66 \n",
       "                   tibolone \n",
       "                        743 "
      ]
     },
     "metadata": {},
     "output_type": "display_data"
    }
   ],
   "source": [
    "drug_on_hrt <- filter(data.frame(drug_dat), IID %in% filter(phase_meno, hrt==1)$IID)\n",
    "head(drug_on_hrt)\n",
    "on_hrt_sums <-apply(drug_on_hrt[,2:ncol(drug_on_hrt)], 2, sum)\n",
    "on_hrt_sums[on_hrt_sums!=0]"
   ]
  }
 ],
 "metadata": {
  "kernelspec": {
   "display_name": "R",
   "language": "R",
   "name": "ir"
  },
  "language_info": {
   "codemirror_mode": "r",
   "file_extension": ".r",
   "mimetype": "text/x-r-source",
   "name": "R",
   "pygments_lexer": "r",
   "version": "3.4.0"
  }
 },
 "nbformat": 4,
 "nbformat_minor": 2
}
