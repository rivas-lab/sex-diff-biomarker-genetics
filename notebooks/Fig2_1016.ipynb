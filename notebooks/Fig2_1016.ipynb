{
 "cells": [
  {
   "cell_type": "markdown",
   "metadata": {},
   "source": [
    "### figure 2 - sex-specific heritability and genetic correlation of biomarkers and other traits"
   ]
  },
  {
   "cell_type": "code",
   "execution_count": 1,
   "metadata": {},
   "outputs": [
    {
     "name": "stderr",
     "output_type": "stream",
     "text": [
      "Loading required package: tidyverse\n",
      "── Attaching packages ─────────────────────────────────────── tidyverse 1.2.1 ──\n",
      "✔ ggplot2 2.2.1     ✔ purrr   0.2.4\n",
      "✔ tibble  1.4.2     ✔ dplyr   0.7.4\n",
      "✔ tidyr   0.8.1     ✔ stringr 1.3.0\n",
      "✔ readr   1.1.1     ✔ forcats 0.3.0\n",
      "── Conflicts ────────────────────────────────────────── tidyverse_conflicts() ──\n",
      "✖ dplyr::filter() masks stats::filter()\n",
      "✖ dplyr::lag()    masks stats::lag()\n",
      "Loading required package: reshape2\n",
      "\n",
      "Attaching package: ‘reshape2’\n",
      "\n",
      "The following object is masked from ‘package:tidyr’:\n",
      "\n",
      "    smiths\n",
      "\n"
     ]
    }
   ],
   "source": [
    "# load packages and dependencies\n",
    "require('tidyverse')\n",
    "require('reshape2')  # for dcast "
   ]
  },
  {
   "cell_type": "code",
   "execution_count": 6,
   "metadata": {},
   "outputs": [
    {
     "data": {
      "text/html": [
       "<ol class=list-inline>\n",
       "\t<li>'Alanine_aminotransferase'</li>\n",
       "\t<li>'Albumin'</li>\n",
       "\t<li>'Alkaline_phosphatase'</li>\n",
       "\t<li>'Apolipoprotein_A'</li>\n",
       "\t<li>'Apolipoprotein_B.adjust.statins'</li>\n",
       "\t<li>'Apolipoprotein_B'</li>\n",
       "\t<li>'Aspartate_aminotransferase'</li>\n",
       "\t<li>'C_reactive_protein'</li>\n",
       "\t<li>'Calcium'</li>\n",
       "\t<li>'Cholesterol.adjust.statins'</li>\n",
       "\t<li>'Cholesterol'</li>\n",
       "\t<li>'Creatinine_in_urine'</li>\n",
       "\t<li>'Creatinine'</li>\n",
       "\t<li>'Cystatin_C'</li>\n",
       "\t<li>'Direct_bilirubin'</li>\n",
       "\t<li>'eGFR'</li>\n",
       "\t<li>'Fasting_glucose'</li>\n",
       "\t<li>'Gamma_glutamyltransferase'</li>\n",
       "\t<li>'Glucose'</li>\n",
       "\t<li>'Glycated_haemoglobin_HbA1c'</li>\n",
       "\t<li>'HDL_cholesterol'</li>\n",
       "\t<li>'IGF_1'</li>\n",
       "\t<li>'LDL_direct.adjust.statins'</li>\n",
       "\t<li>'LDL_direct'</li>\n",
       "\t<li>'Lipoprotein_A'</li>\n",
       "\t<li>'Microalbumin_in_urine'</li>\n",
       "\t<li>'Non_albumin_protein'</li>\n",
       "\t<li>'Oestradiol'</li>\n",
       "\t<li>'Phosphate'</li>\n",
       "\t<li>'Potassium_in_urine'</li>\n",
       "\t<li>'Rheumatoid_factor'</li>\n",
       "\t<li>'SHBG'</li>\n",
       "\t<li>'Sodium_in_urine'</li>\n",
       "\t<li>'Testosterone'</li>\n",
       "\t<li>'Total_bilirubin'</li>\n",
       "\t<li>'Total_protein'</li>\n",
       "\t<li>'Triglycerides'</li>\n",
       "\t<li>'Urate'</li>\n",
       "\t<li>'Urea'</li>\n",
       "\t<li>'Vitamin_D'</li>\n",
       "</ol>\n"
      ],
      "text/latex": [
       "\\begin{enumerate*}\n",
       "\\item 'Alanine\\_aminotransferase'\n",
       "\\item 'Albumin'\n",
       "\\item 'Alkaline\\_phosphatase'\n",
       "\\item 'Apolipoprotein\\_A'\n",
       "\\item 'Apolipoprotein\\_B.adjust.statins'\n",
       "\\item 'Apolipoprotein\\_B'\n",
       "\\item 'Aspartate\\_aminotransferase'\n",
       "\\item 'C\\_reactive\\_protein'\n",
       "\\item 'Calcium'\n",
       "\\item 'Cholesterol.adjust.statins'\n",
       "\\item 'Cholesterol'\n",
       "\\item 'Creatinine\\_in\\_urine'\n",
       "\\item 'Creatinine'\n",
       "\\item 'Cystatin\\_C'\n",
       "\\item 'Direct\\_bilirubin'\n",
       "\\item 'eGFR'\n",
       "\\item 'Fasting\\_glucose'\n",
       "\\item 'Gamma\\_glutamyltransferase'\n",
       "\\item 'Glucose'\n",
       "\\item 'Glycated\\_haemoglobin\\_HbA1c'\n",
       "\\item 'HDL\\_cholesterol'\n",
       "\\item 'IGF\\_1'\n",
       "\\item 'LDL\\_direct.adjust.statins'\n",
       "\\item 'LDL\\_direct'\n",
       "\\item 'Lipoprotein\\_A'\n",
       "\\item 'Microalbumin\\_in\\_urine'\n",
       "\\item 'Non\\_albumin\\_protein'\n",
       "\\item 'Oestradiol'\n",
       "\\item 'Phosphate'\n",
       "\\item 'Potassium\\_in\\_urine'\n",
       "\\item 'Rheumatoid\\_factor'\n",
       "\\item 'SHBG'\n",
       "\\item 'Sodium\\_in\\_urine'\n",
       "\\item 'Testosterone'\n",
       "\\item 'Total\\_bilirubin'\n",
       "\\item 'Total\\_protein'\n",
       "\\item 'Triglycerides'\n",
       "\\item 'Urate'\n",
       "\\item 'Urea'\n",
       "\\item 'Vitamin\\_D'\n",
       "\\end{enumerate*}\n"
      ],
      "text/markdown": [
       "1. 'Alanine_aminotransferase'\n",
       "2. 'Albumin'\n",
       "3. 'Alkaline_phosphatase'\n",
       "4. 'Apolipoprotein_A'\n",
       "5. 'Apolipoprotein_B.adjust.statins'\n",
       "6. 'Apolipoprotein_B'\n",
       "7. 'Aspartate_aminotransferase'\n",
       "8. 'C_reactive_protein'\n",
       "9. 'Calcium'\n",
       "10. 'Cholesterol.adjust.statins'\n",
       "11. 'Cholesterol'\n",
       "12. 'Creatinine_in_urine'\n",
       "13. 'Creatinine'\n",
       "14. 'Cystatin_C'\n",
       "15. 'Direct_bilirubin'\n",
       "16. 'eGFR'\n",
       "17. 'Fasting_glucose'\n",
       "18. 'Gamma_glutamyltransferase'\n",
       "19. 'Glucose'\n",
       "20. 'Glycated_haemoglobin_HbA1c'\n",
       "21. 'HDL_cholesterol'\n",
       "22. 'IGF_1'\n",
       "23. 'LDL_direct.adjust.statins'\n",
       "24. 'LDL_direct'\n",
       "25. 'Lipoprotein_A'\n",
       "26. 'Microalbumin_in_urine'\n",
       "27. 'Non_albumin_protein'\n",
       "28. 'Oestradiol'\n",
       "29. 'Phosphate'\n",
       "30. 'Potassium_in_urine'\n",
       "31. 'Rheumatoid_factor'\n",
       "32. 'SHBG'\n",
       "33. 'Sodium_in_urine'\n",
       "34. 'Testosterone'\n",
       "35. 'Total_bilirubin'\n",
       "36. 'Total_protein'\n",
       "37. 'Triglycerides'\n",
       "38. 'Urate'\n",
       "39. 'Urea'\n",
       "40. 'Vitamin_D'\n",
       "\n",
       "\n"
      ],
      "text/plain": [
       " [1] \"Alanine_aminotransferase\"        \"Albumin\"                        \n",
       " [3] \"Alkaline_phosphatase\"            \"Apolipoprotein_A\"               \n",
       " [5] \"Apolipoprotein_B.adjust.statins\" \"Apolipoprotein_B\"               \n",
       " [7] \"Aspartate_aminotransferase\"      \"C_reactive_protein\"             \n",
       " [9] \"Calcium\"                         \"Cholesterol.adjust.statins\"     \n",
       "[11] \"Cholesterol\"                     \"Creatinine_in_urine\"            \n",
       "[13] \"Creatinine\"                      \"Cystatin_C\"                     \n",
       "[15] \"Direct_bilirubin\"                \"eGFR\"                           \n",
       "[17] \"Fasting_glucose\"                 \"Gamma_glutamyltransferase\"      \n",
       "[19] \"Glucose\"                         \"Glycated_haemoglobin_HbA1c\"     \n",
       "[21] \"HDL_cholesterol\"                 \"IGF_1\"                          \n",
       "[23] \"LDL_direct.adjust.statins\"       \"LDL_direct\"                     \n",
       "[25] \"Lipoprotein_A\"                   \"Microalbumin_in_urine\"          \n",
       "[27] \"Non_albumin_protein\"             \"Oestradiol\"                     \n",
       "[29] \"Phosphate\"                       \"Potassium_in_urine\"             \n",
       "[31] \"Rheumatoid_factor\"               \"SHBG\"                           \n",
       "[33] \"Sodium_in_urine\"                 \"Testosterone\"                   \n",
       "[35] \"Total_bilirubin\"                 \"Total_protein\"                  \n",
       "[37] \"Triglycerides\"                   \"Urate\"                          \n",
       "[39] \"Urea\"                            \"Vitamin_D\"                      "
      ]
     },
     "metadata": {},
     "output_type": "display_data"
    },
    {
     "data": {
      "text/html": [
       "40"
      ],
      "text/latex": [
       "40"
      ],
      "text/markdown": [
       "40"
      ],
      "text/plain": [
       "[1] 40"
      ]
     },
     "metadata": {},
     "output_type": "display_data"
    },
    {
     "data": {
      "text/html": [
       "<table>\n",
       "<thead><tr><th scope=col>trait</th><th scope=col>n</th><th scope=col>pi[1]</th><th scope=col>pi[2]</th><th scope=col>Sigma[1,1]</th><th scope=col>Sigma[1,2]</th><th scope=col>Sigma[2,1]</th><th scope=col>Sigma[2,2]</th><th scope=col>rg</th><th scope=col>rg.l</th><th scope=col>rg.u</th><th scope=col>h.f</th><th scope=col>h.m</th></tr></thead>\n",
       "<tbody>\n",
       "\t<tr><td>Alanine_aminotransferase       </td><td>185830                         </td><td>0.9278233                      </td><td>0.072176681                    </td><td>7.171212e-05                   </td><td>6.934385e-05                   </td><td>6.934385e-05                   </td><td>8.026258e-05                   </td><td>0.9140675                      </td><td>0.8918961                      </td><td>0.9357448                      </td><td>NA                             </td><td>NA                             </td></tr>\n",
       "\t<tr><td>Albumin                        </td><td>185176                         </td><td>0.8741166                      </td><td>0.125883423                    </td><td>4.366686e-05                   </td><td>4.238062e-05                   </td><td>4.238062e-05                   </td><td>4.326505e-05                   </td><td>0.9752237                      </td><td>0.9527401                      </td><td>0.9930145                      </td><td>NA                             </td><td>NA                             </td></tr>\n",
       "\t<tr><td>Alkaline_phosphatase           </td><td>185835                         </td><td>0.9919450                      </td><td>0.008054994                    </td><td>9.269005e-03                   </td><td>1.050801e-02                   </td><td>1.050801e-02                   </td><td>1.194561e-02                   </td><td>0.9986591                      </td><td>0.9981819                      </td><td>0.9990334                      </td><td>NA                             </td><td>NA                             </td></tr>\n",
       "\t<tr><td>Apolipoprotein_A               </td><td>185159                         </td><td>0.9793958                      </td><td>0.020604221                    </td><td>6.288996e-04                   </td><td>6.567083e-04                   </td><td>6.567083e-04                   </td><td>7.070754e-04                   </td><td>0.9848183                      </td><td>0.9798631                      </td><td>0.9892995                      </td><td>NA                             </td><td>NA                             </td></tr>\n",
       "\t<tr><td>Apolipoprotein_B.adjust.statins</td><td>185788                         </td><td>0.9840625                      </td><td>0.015937455                    </td><td>1.261674e-03                   </td><td>1.168401e-03                   </td><td>1.168401e-03                   </td><td>1.104964e-03                   </td><td>0.9895991                      </td><td>0.9864116                      </td><td>0.9922658                      </td><td>NA                             </td><td>NA                             </td></tr>\n",
       "\t<tr><td>Apolipoprotein_B               </td><td>185793                         </td><td>0.9913960                      </td><td>0.008603986                    </td><td>1.409642e-03                   </td><td>1.181322e-03                   </td><td>1.181322e-03                   </td><td>1.015093e-03                   </td><td>0.9875976                      </td><td>0.9830573                      </td><td>0.9915109                      </td><td>NA                             </td><td>NA                             </td></tr>\n",
       "</tbody>\n",
       "</table>\n"
      ],
      "text/latex": [
       "\\begin{tabular}{r|lllllllllllll}\n",
       " trait & n & pi{[}1{]} & pi{[}2{]} & Sigma{[}1,1{]} & Sigma{[}1,2{]} & Sigma{[}2,1{]} & Sigma{[}2,2{]} & rg & rg.l & rg.u & h.f & h.m\\\\\n",
       "\\hline\n",
       "\t Alanine\\_aminotransferase        & 185830                            & 0.9278233                         & 0.072176681                       & 7.171212e-05                      & 6.934385e-05                      & 6.934385e-05                      & 8.026258e-05                      & 0.9140675                         & 0.8918961                         & 0.9357448                         & NA                                & NA                               \\\\\n",
       "\t Albumin                         & 185176                          & 0.8741166                       & 0.125883423                     & 4.366686e-05                    & 4.238062e-05                    & 4.238062e-05                    & 4.326505e-05                    & 0.9752237                       & 0.9527401                       & 0.9930145                       & NA                              & NA                             \\\\\n",
       "\t Alkaline\\_phosphatase            & 185835                            & 0.9919450                         & 0.008054994                       & 9.269005e-03                      & 1.050801e-02                      & 1.050801e-02                      & 1.194561e-02                      & 0.9986591                         & 0.9981819                         & 0.9990334                         & NA                                & NA                               \\\\\n",
       "\t Apolipoprotein\\_A                & 185159                            & 0.9793958                         & 0.020604221                       & 6.288996e-04                      & 6.567083e-04                      & 6.567083e-04                      & 7.070754e-04                      & 0.9848183                         & 0.9798631                         & 0.9892995                         & NA                                & NA                               \\\\\n",
       "\t Apolipoprotein\\_B.adjust.statins & 185788                            & 0.9840625                         & 0.015937455                       & 1.261674e-03                      & 1.168401e-03                      & 1.168401e-03                      & 1.104964e-03                      & 0.9895991                         & 0.9864116                         & 0.9922658                         & NA                                & NA                               \\\\\n",
       "\t Apolipoprotein\\_B                & 185793                            & 0.9913960                         & 0.008603986                       & 1.409642e-03                      & 1.181322e-03                      & 1.181322e-03                      & 1.015093e-03                      & 0.9875976                         & 0.9830573                         & 0.9915109                         & NA                                & NA                               \\\\\n",
       "\\end{tabular}\n"
      ],
      "text/markdown": [
       "\n",
       "trait | n | pi[1] | pi[2] | Sigma[1,1] | Sigma[1,2] | Sigma[2,1] | Sigma[2,2] | rg | rg.l | rg.u | h.f | h.m | \n",
       "|---|---|---|---|---|---|\n",
       "| Alanine_aminotransferase        | 185830                          | 0.9278233                       | 0.072176681                     | 7.171212e-05                    | 6.934385e-05                    | 6.934385e-05                    | 8.026258e-05                    | 0.9140675                       | 0.8918961                       | 0.9357448                       | NA                              | NA                              | \n",
       "| Albumin                         | 185176                          | 0.8741166                       | 0.125883423                     | 4.366686e-05                    | 4.238062e-05                    | 4.238062e-05                    | 4.326505e-05                    | 0.9752237                       | 0.9527401                       | 0.9930145                       | NA                              | NA                              | \n",
       "| Alkaline_phosphatase            | 185835                          | 0.9919450                       | 0.008054994                     | 9.269005e-03                    | 1.050801e-02                    | 1.050801e-02                    | 1.194561e-02                    | 0.9986591                       | 0.9981819                       | 0.9990334                       | NA                              | NA                              | \n",
       "| Apolipoprotein_A                | 185159                          | 0.9793958                       | 0.020604221                     | 6.288996e-04                    | 6.567083e-04                    | 6.567083e-04                    | 7.070754e-04                    | 0.9848183                       | 0.9798631                       | 0.9892995                       | NA                              | NA                              | \n",
       "| Apolipoprotein_B.adjust.statins | 185788                          | 0.9840625                       | 0.015937455                     | 1.261674e-03                    | 1.168401e-03                    | 1.168401e-03                    | 1.104964e-03                    | 0.9895991                       | 0.9864116                       | 0.9922658                       | NA                              | NA                              | \n",
       "| Apolipoprotein_B                | 185793                          | 0.9913960                       | 0.008603986                     | 1.409642e-03                    | 1.181322e-03                    | 1.181322e-03                    | 1.015093e-03                    | 0.9875976                       | 0.9830573                       | 0.9915109                       | NA                              | NA                              | \n",
       "\n",
       "\n"
      ],
      "text/plain": [
       "  trait                           n      pi[1]     pi[2]       Sigma[1,1]  \n",
       "1 Alanine_aminotransferase        185830 0.9278233 0.072176681 7.171212e-05\n",
       "2 Albumin                         185176 0.8741166 0.125883423 4.366686e-05\n",
       "3 Alkaline_phosphatase            185835 0.9919450 0.008054994 9.269005e-03\n",
       "4 Apolipoprotein_A                185159 0.9793958 0.020604221 6.288996e-04\n",
       "5 Apolipoprotein_B.adjust.statins 185788 0.9840625 0.015937455 1.261674e-03\n",
       "6 Apolipoprotein_B                185793 0.9913960 0.008603986 1.409642e-03\n",
       "  Sigma[1,2]   Sigma[2,1]   Sigma[2,2]   rg        rg.l      rg.u      h.f h.m\n",
       "1 6.934385e-05 6.934385e-05 8.026258e-05 0.9140675 0.8918961 0.9357448 NA  NA \n",
       "2 4.238062e-05 4.238062e-05 4.326505e-05 0.9752237 0.9527401 0.9930145 NA  NA \n",
       "3 1.050801e-02 1.050801e-02 1.194561e-02 0.9986591 0.9981819 0.9990334 NA  NA \n",
       "4 6.567083e-04 6.567083e-04 7.070754e-04 0.9848183 0.9798631 0.9892995 NA  NA \n",
       "5 1.168401e-03 1.168401e-03 1.104964e-03 0.9895991 0.9864116 0.9922658 NA  NA \n",
       "6 1.181322e-03 1.181322e-03 1.015093e-03 0.9875976 0.9830573 0.9915109 NA  NA "
      ]
     },
     "metadata": {},
     "output_type": "display_data"
    }
   ],
   "source": [
    "# read in all the ss biomarker data\n",
    "BIOMARKER.DIR <- \"../../data/1015/m1/\"\n",
    "biomarker_traits <- list.files(BIOMARKER.DIR, pattern=\"f_\\\\D*\")\n",
    "\n",
    "biomarkers <- sapply(biomarker_traits, function(x) strsplit(strsplit(x, \"f_\",fixed=TRUE)[[1]][[2]], \".RData\")[[1]][[1]])\n",
    "\n",
    "biomarkers2 <- setdiff(biomarkers , c(\"arm_fp\", \"leg_fp\", \"trunk_fp\", \"whr\"))\n",
    "biomarkers2\n",
    "length(biomarkers2) # 35 biomarkers\n",
    "\n",
    "# column names depend on the dimension\n",
    "# t(c(trait, dat$dat$N, unlist(m1.pi), unlist(m1.Sigma), unlist(rg), unlist(rg.c$l), unlist(rg.c$u), unlist(h)))\n",
    "# rg.l and rg.u are the 95% CI for rg\n",
    "m1.cols <-  c(\"trait\", \"n\", \"pi[1]\", \"pi[2]\", \"Sigma[1,1]\", \"Sigma[1,2]\", \"Sigma[2,1]\", \"Sigma[2,2]\", \"rg\", \"rg.l\", \"rg.u\", \"h.f\", \"h.m\")\n",
    "\n",
    "biomarker_df <- do.call(rbind, lapply(biomarkers2, function(x) read.table(sprintf(\"%s/summary_dat_%s_2_.txt\", BIOMARKER.DIR, x), sep=\" \", header=TRUE)))\n",
    "colnames(biomarker_df) <- m1.cols\n",
    "head(biomarker_df)\n",
    "    \n"
   ]
  },
  {
   "cell_type": "code",
   "execution_count": 7,
   "metadata": {},
   "outputs": [
    {
     "data": {
      "text/html": [
       "<table>\n",
       "<thead><tr><th scope=col>trait</th><th scope=col>n</th><th scope=col>pi[1]</th><th scope=col>pi[2]</th><th scope=col>Sigma[1,1]</th><th scope=col>Sigma[1,2]</th><th scope=col>Sigma[2,1]</th><th scope=col>Sigma[2,2]</th><th scope=col>rg</th><th scope=col>rg.l</th><th scope=col>rg.u</th><th scope=col>h.f</th><th scope=col>h.m</th></tr></thead>\n",
       "<tbody>\n",
       "\t<tr><td>Cholesterol.adjust.statins</td><td>185831                    </td><td>0.9741207                 </td><td>0.02587934                </td><td>0.0005952284              </td><td>0.0005527888              </td><td>0.0005527888              </td><td>0.0005316149              </td><td>0.9827254                 </td><td>0.9775487                 </td><td>0.9873833                 </td><td>NA                        </td><td>NA                        </td></tr>\n",
       "\t<tr><td>Triglycerides             </td><td>185833                    </td><td>0.9646964                 </td><td>0.03530364                </td><td>0.0003034268              </td><td>0.0003003673              </td><td>0.0003003673              </td><td>0.0003138250              </td><td>0.9734142                 </td><td>0.9658966                 </td><td>0.9797601                 </td><td>NA                        </td><td>NA                        </td></tr>\n",
       "</tbody>\n",
       "</table>\n"
      ],
      "text/latex": [
       "\\begin{tabular}{r|lllllllllllll}\n",
       " trait & n & pi{[}1{]} & pi{[}2{]} & Sigma{[}1,1{]} & Sigma{[}1,2{]} & Sigma{[}2,1{]} & Sigma{[}2,2{]} & rg & rg.l & rg.u & h.f & h.m\\\\\n",
       "\\hline\n",
       "\t Cholesterol.adjust.statins & 185831                     & 0.9741207                  & 0.02587934                 & 0.0005952284               & 0.0005527888               & 0.0005527888               & 0.0005316149               & 0.9827254                  & 0.9775487                  & 0.9873833                  & NA                         & NA                        \\\\\n",
       "\t Triglycerides              & 185833                     & 0.9646964                  & 0.03530364                 & 0.0003034268               & 0.0003003673               & 0.0003003673               & 0.0003138250               & 0.9734142                  & 0.9658966                  & 0.9797601                  & NA                         & NA                        \\\\\n",
       "\\end{tabular}\n"
      ],
      "text/markdown": [
       "\n",
       "trait | n | pi[1] | pi[2] | Sigma[1,1] | Sigma[1,2] | Sigma[2,1] | Sigma[2,2] | rg | rg.l | rg.u | h.f | h.m | \n",
       "|---|---|\n",
       "| Cholesterol.adjust.statins | 185831                     | 0.9741207                  | 0.02587934                 | 0.0005952284               | 0.0005527888               | 0.0005527888               | 0.0005316149               | 0.9827254                  | 0.9775487                  | 0.9873833                  | NA                         | NA                         | \n",
       "| Triglycerides              | 185833                     | 0.9646964                  | 0.03530364                 | 0.0003034268               | 0.0003003673               | 0.0003003673               | 0.0003138250               | 0.9734142                  | 0.9658966                  | 0.9797601                  | NA                         | NA                         | \n",
       "\n",
       "\n"
      ],
      "text/plain": [
       "  trait                      n      pi[1]     pi[2]      Sigma[1,1]  \n",
       "1 Cholesterol.adjust.statins 185831 0.9741207 0.02587934 0.0005952284\n",
       "2 Triglycerides              185833 0.9646964 0.03530364 0.0003034268\n",
       "  Sigma[1,2]   Sigma[2,1]   Sigma[2,2]   rg        rg.l      rg.u      h.f h.m\n",
       "1 0.0005527888 0.0005527888 0.0005316149 0.9827254 0.9775487 0.9873833 NA  NA \n",
       "2 0.0003003673 0.0003003673 0.0003138250 0.9734142 0.9658966 0.9797601 NA  NA "
      ]
     },
     "metadata": {},
     "output_type": "display_data"
    }
   ],
   "source": [
    "biomarker_df %>% filter(trait %in%  c('Cholesterol.adjust.statins', \"Triglycerides\"))"
   ]
  },
  {
   "cell_type": "code",
   "execution_count": 3,
   "metadata": {},
   "outputs": [
    {
     "name": "stderr",
     "output_type": "stream",
     "text": [
      "Parsed with column specification:\n",
      "cols(\n",
      "  trait = col_character(),\n",
      "  category = col_character(),\n",
      "  variable_name = col_character(),\n",
      "  readable_name = col_character()\n",
      ")\n"
     ]
    },
    {
     "data": {
      "text/html": [
       "<table>\n",
       "<thead><tr><th scope=col>trait</th><th scope=col>category</th><th scope=col>variable_name</th><th scope=col>readable_name</th></tr></thead>\n",
       "<tbody>\n",
       "\t<tr><td>3140                            </td><td>sex specific                    </td><td>pregnant                        </td><td>pregnant                        </td></tr>\n",
       "\t<tr><td>2724                            </td><td>sex specific                    </td><td>menopause                       </td><td>menopause                       </td></tr>\n",
       "\t<tr><td>3581                            </td><td>sex specific                    </td><td>menopause_age                   </td><td>age menopause                   </td></tr>\n",
       "\t<tr><td>3591                            </td><td>sex specific                    </td><td>hysterectomy                    </td><td>hysterectomy                    </td></tr>\n",
       "\t<tr><td>2934                            </td><td>sex specific                    </td><td>oophorectomy                    </td><td>oophorectomy                    </td></tr>\n",
       "\t<tr><td>3700                            </td><td>sex specific                    </td><td>time_since_period               </td><td>time since last menstrual period</td></tr>\n",
       "</tbody>\n",
       "</table>\n"
      ],
      "text/latex": [
       "\\begin{tabular}{r|llll}\n",
       " trait & category & variable\\_name & readable\\_name\\\\\n",
       "\\hline\n",
       "\t 3140                             & sex specific                     & pregnant                         & pregnant                        \\\\\n",
       "\t 2724                             & sex specific                     & menopause                        & menopause                       \\\\\n",
       "\t 3581                             & sex specific                     & menopause\\_age                  & age menopause                   \\\\\n",
       "\t 3591                             & sex specific                     & hysterectomy                     & hysterectomy                    \\\\\n",
       "\t 2934                             & sex specific                     & oophorectomy                     & oophorectomy                    \\\\\n",
       "\t 3700                             & sex specific                     & time\\_since\\_period            & time since last menstrual period\\\\\n",
       "\\end{tabular}\n"
      ],
      "text/markdown": [
       "\n",
       "trait | category | variable_name | readable_name | \n",
       "|---|---|---|---|---|---|\n",
       "| 3140                             | sex specific                     | pregnant                         | pregnant                         | \n",
       "| 2724                             | sex specific                     | menopause                        | menopause                        | \n",
       "| 3581                             | sex specific                     | menopause_age                    | age menopause                    | \n",
       "| 3591                             | sex specific                     | hysterectomy                     | hysterectomy                     | \n",
       "| 2934                             | sex specific                     | oophorectomy                     | oophorectomy                     | \n",
       "| 3700                             | sex specific                     | time_since_period                | time since last menstrual period | \n",
       "\n",
       "\n"
      ],
      "text/plain": [
       "  trait category     variable_name     readable_name                   \n",
       "1 3140  sex specific pregnant          pregnant                        \n",
       "2 2724  sex specific menopause         menopause                       \n",
       "3 3581  sex specific menopause_age     age menopause                   \n",
       "4 3591  sex specific hysterectomy      hysterectomy                    \n",
       "5 2934  sex specific oophorectomy      oophorectomy                    \n",
       "6 3700  sex specific time_since_period time since last menstrual period"
      ]
     },
     "metadata": {},
     "output_type": "display_data"
    },
    {
     "data": {
      "text/html": [
       "<table>\n",
       "<thead><tr><th scope=col>trait</th><th scope=col>category</th><th scope=col>variable_name</th><th scope=col>readable_name</th></tr></thead>\n",
       "<tbody>\n",
       "\t<tr><td>30850       </td><td>biomarker   </td><td>Testosterone</td><td>NA          </td></tr>\n",
       "</tbody>\n",
       "</table>\n"
      ],
      "text/latex": [
       "\\begin{tabular}{r|llll}\n",
       " trait & category & variable\\_name & readable\\_name\\\\\n",
       "\\hline\n",
       "\t 30850        & biomarker    & Testosterone & NA          \\\\\n",
       "\\end{tabular}\n"
      ],
      "text/markdown": [
       "\n",
       "trait | category | variable_name | readable_name | \n",
       "|---|\n",
       "| 30850        | biomarker    | Testosterone | NA           | \n",
       "\n",
       "\n"
      ],
      "text/plain": [
       "  trait category  variable_name readable_name\n",
       "1 30850 biomarker Testosterone  NA           "
      ]
     },
     "metadata": {},
     "output_type": "display_data"
    }
   ],
   "source": [
    "\n",
    "# need to read in a key and change the codes\n",
    "phe_codes <- read_csv(\"../../data/ListPheCodes.csv\")\n",
    "head(phe_codes)\n",
    "phe_codes <- phe_codes %>% \n",
    "mutate(variable_name=str_replace_all(variable_name, \" \", \"_\")) %>%\n",
    "mutate(trait=str_replace(trait, \"INI\", \"\"))\n",
    "phe_codes %>% filter(variable_name==\"Testosterone\")"
   ]
  },
  {
   "cell_type": "code",
   "execution_count": 4,
   "metadata": {},
   "outputs": [
    {
     "data": {
      "text/html": [
       "<ol class=list-inline>\n",
       "\t<li>'3140'</li>\n",
       "\t<li>'2724'</li>\n",
       "\t<li>'3581'</li>\n",
       "\t<li>'3591'</li>\n",
       "\t<li>'2934'</li>\n",
       "\t<li>'3700'</li>\n",
       "\t<li>'3710'</li>\n",
       "\t<li>'3720'</li>\n",
       "\t<li>'2804'</li>\n",
       "\t<li>'3546'</li>\n",
       "\t<li>'2178'</li>\n",
       "\t<li>'2188'</li>\n",
       "\t<li>'whr'</li>\n",
       "\t<li>'21001'</li>\n",
       "\t<li>'50'</li>\n",
       "\t<li>'48'</li>\n",
       "\t<li>'49'</li>\n",
       "\t<li>'4079'</li>\n",
       "\t<li>'4080'</li>\n",
       "\t<li>'20150'</li>\n",
       "\t<li>'3063'</li>\n",
       "\t<li>'3064'</li>\n",
       "\t<li>'FEV_FVC'</li>\n",
       "\t<li>'23100'</li>\n",
       "\t<li>'23116'</li>\n",
       "\t<li>'23112'</li>\n",
       "\t<li>'23124'</li>\n",
       "\t<li>'23120'</li>\n",
       "\t<li>'23128'</li>\n",
       "\t<li>'23099'</li>\n",
       "\t<li>'23105'</li>\n",
       "\t<li>'23115'</li>\n",
       "\t<li>'23111'</li>\n",
       "\t<li>'23123'</li>\n",
       "\t<li>'23119'</li>\n",
       "\t<li>'23127'</li>\n",
       "\t<li>'23100'</li>\n",
       "\t<li>'23101'</li>\n",
       "\t<li>'23102'</li>\n",
       "\t<li>'23106'</li>\n",
       "\t<li>'23107'</li>\n",
       "\t<li>'23108'</li>\n",
       "\t<li>'23109'</li>\n",
       "\t<li>'23110'</li>\n",
       "\t<li>'trunk_fp'</li>\n",
       "\t<li>'leg_fp'</li>\n",
       "\t<li>'arm_fp'</li>\n",
       "\t<li>'46'</li>\n",
       "\t<li>'47'</li>\n",
       "\t<li>'20015'</li>\n",
       "\t<li>'20019'</li>\n",
       "\t<li>'20021'</li>\n",
       "\t<li>'20022'</li>\n",
       "\t<li>'20150'</li>\n",
       "\t<li>'20151'</li>\n",
       "\t<li>'21021'</li>\n",
       "\t<li>'30000'</li>\n",
       "\t<li>'30010'</li>\n",
       "\t<li>'30020'</li>\n",
       "\t<li>'30030'</li>\n",
       "\t<li>'30040'</li>\n",
       "\t<li>'30050'</li>\n",
       "\t<li>'30060'</li>\n",
       "\t<li>'30070'</li>\n",
       "\t<li>'30080'</li>\n",
       "\t<li>'30090'</li>\n",
       "\t<li>'30100'</li>\n",
       "\t<li>'30110'</li>\n",
       "\t<li>'30120'</li>\n",
       "\t<li>'30130'</li>\n",
       "\t<li>'30140'</li>\n",
       "\t<li>'30150'</li>\n",
       "\t<li>'30160'</li>\n",
       "\t<li>'30170'</li>\n",
       "\t<li>'30180'</li>\n",
       "\t<li>'30190'</li>\n",
       "\t<li>'30200'</li>\n",
       "\t<li>'30210'</li>\n",
       "\t<li>'30220'</li>\n",
       "\t<li>'30230'</li>\n",
       "\t<li>'30240'</li>\n",
       "\t<li>'30250'</li>\n",
       "\t<li>'30260'</li>\n",
       "\t<li>'30270'</li>\n",
       "\t<li>'30280'</li>\n",
       "\t<li>'30290'</li>\n",
       "\t<li>'30300'</li>\n",
       "\t<li>'30500'</li>\n",
       "\t<li>'30510'</li>\n",
       "\t<li>'30520'</li>\n",
       "\t<li>'30530'</li>\n",
       "\t<li>'30620'</li>\n",
       "\t<li>'30600'</li>\n",
       "\t<li>'30610'</li>\n",
       "\t<li>'30630'</li>\n",
       "\t<li>'30640'</li>\n",
       "\t<li>'30650'</li>\n",
       "\t<li>'30710'</li>\n",
       "\t<li>'30680'</li>\n",
       "\t<li>'30690'</li>\n",
       "\t<li>'30700'</li>\n",
       "\t<li>'30720'</li>\n",
       "\t<li>'30660'</li>\n",
       "\t<li>'30730'</li>\n",
       "\t<li>'30740'</li>\n",
       "\t<li>'30750'</li>\n",
       "\t<li>'30760'</li>\n",
       "\t<li>'30770'</li>\n",
       "\t<li>'30780'</li>\n",
       "\t<li>'30790'</li>\n",
       "\t<li>'30800'</li>\n",
       "\t<li>'30810'</li>\n",
       "\t<li>'30820'</li>\n",
       "\t<li>'30830'</li>\n",
       "\t<li>'30850'</li>\n",
       "\t<li>'30840'</li>\n",
       "\t<li>'30860'</li>\n",
       "\t<li>'30870'</li>\n",
       "\t<li>'30880'</li>\n",
       "\t<li>'30670'</li>\n",
       "\t<li>'30890'</li>\n",
       "\t<li>'30510'</li>\n",
       "</ol>\n"
      ],
      "text/latex": [
       "\\begin{enumerate*}\n",
       "\\item '3140'\n",
       "\\item '2724'\n",
       "\\item '3581'\n",
       "\\item '3591'\n",
       "\\item '2934'\n",
       "\\item '3700'\n",
       "\\item '3710'\n",
       "\\item '3720'\n",
       "\\item '2804'\n",
       "\\item '3546'\n",
       "\\item '2178'\n",
       "\\item '2188'\n",
       "\\item 'whr'\n",
       "\\item '21001'\n",
       "\\item '50'\n",
       "\\item '48'\n",
       "\\item '49'\n",
       "\\item '4079'\n",
       "\\item '4080'\n",
       "\\item '20150'\n",
       "\\item '3063'\n",
       "\\item '3064'\n",
       "\\item 'FEV\\_FVC'\n",
       "\\item '23100'\n",
       "\\item '23116'\n",
       "\\item '23112'\n",
       "\\item '23124'\n",
       "\\item '23120'\n",
       "\\item '23128'\n",
       "\\item '23099'\n",
       "\\item '23105'\n",
       "\\item '23115'\n",
       "\\item '23111'\n",
       "\\item '23123'\n",
       "\\item '23119'\n",
       "\\item '23127'\n",
       "\\item '23100'\n",
       "\\item '23101'\n",
       "\\item '23102'\n",
       "\\item '23106'\n",
       "\\item '23107'\n",
       "\\item '23108'\n",
       "\\item '23109'\n",
       "\\item '23110'\n",
       "\\item 'trunk\\_fp'\n",
       "\\item 'leg\\_fp'\n",
       "\\item 'arm\\_fp'\n",
       "\\item '46'\n",
       "\\item '47'\n",
       "\\item '20015'\n",
       "\\item '20019'\n",
       "\\item '20021'\n",
       "\\item '20022'\n",
       "\\item '20150'\n",
       "\\item '20151'\n",
       "\\item '21021'\n",
       "\\item '30000'\n",
       "\\item '30010'\n",
       "\\item '30020'\n",
       "\\item '30030'\n",
       "\\item '30040'\n",
       "\\item '30050'\n",
       "\\item '30060'\n",
       "\\item '30070'\n",
       "\\item '30080'\n",
       "\\item '30090'\n",
       "\\item '30100'\n",
       "\\item '30110'\n",
       "\\item '30120'\n",
       "\\item '30130'\n",
       "\\item '30140'\n",
       "\\item '30150'\n",
       "\\item '30160'\n",
       "\\item '30170'\n",
       "\\item '30180'\n",
       "\\item '30190'\n",
       "\\item '30200'\n",
       "\\item '30210'\n",
       "\\item '30220'\n",
       "\\item '30230'\n",
       "\\item '30240'\n",
       "\\item '30250'\n",
       "\\item '30260'\n",
       "\\item '30270'\n",
       "\\item '30280'\n",
       "\\item '30290'\n",
       "\\item '30300'\n",
       "\\item '30500'\n",
       "\\item '30510'\n",
       "\\item '30520'\n",
       "\\item '30530'\n",
       "\\item '30620'\n",
       "\\item '30600'\n",
       "\\item '30610'\n",
       "\\item '30630'\n",
       "\\item '30640'\n",
       "\\item '30650'\n",
       "\\item '30710'\n",
       "\\item '30680'\n",
       "\\item '30690'\n",
       "\\item '30700'\n",
       "\\item '30720'\n",
       "\\item '30660'\n",
       "\\item '30730'\n",
       "\\item '30740'\n",
       "\\item '30750'\n",
       "\\item '30760'\n",
       "\\item '30770'\n",
       "\\item '30780'\n",
       "\\item '30790'\n",
       "\\item '30800'\n",
       "\\item '30810'\n",
       "\\item '30820'\n",
       "\\item '30830'\n",
       "\\item '30850'\n",
       "\\item '30840'\n",
       "\\item '30860'\n",
       "\\item '30870'\n",
       "\\item '30880'\n",
       "\\item '30670'\n",
       "\\item '30890'\n",
       "\\item '30510'\n",
       "\\end{enumerate*}\n"
      ],
      "text/markdown": [
       "1. '3140'\n",
       "2. '2724'\n",
       "3. '3581'\n",
       "4. '3591'\n",
       "5. '2934'\n",
       "6. '3700'\n",
       "7. '3710'\n",
       "8. '3720'\n",
       "9. '2804'\n",
       "10. '3546'\n",
       "11. '2178'\n",
       "12. '2188'\n",
       "13. 'whr'\n",
       "14. '21001'\n",
       "15. '50'\n",
       "16. '48'\n",
       "17. '49'\n",
       "18. '4079'\n",
       "19. '4080'\n",
       "20. '20150'\n",
       "21. '3063'\n",
       "22. '3064'\n",
       "23. 'FEV_FVC'\n",
       "24. '23100'\n",
       "25. '23116'\n",
       "26. '23112'\n",
       "27. '23124'\n",
       "28. '23120'\n",
       "29. '23128'\n",
       "30. '23099'\n",
       "31. '23105'\n",
       "32. '23115'\n",
       "33. '23111'\n",
       "34. '23123'\n",
       "35. '23119'\n",
       "36. '23127'\n",
       "37. '23100'\n",
       "38. '23101'\n",
       "39. '23102'\n",
       "40. '23106'\n",
       "41. '23107'\n",
       "42. '23108'\n",
       "43. '23109'\n",
       "44. '23110'\n",
       "45. 'trunk_fp'\n",
       "46. 'leg_fp'\n",
       "47. 'arm_fp'\n",
       "48. '46'\n",
       "49. '47'\n",
       "50. '20015'\n",
       "51. '20019'\n",
       "52. '20021'\n",
       "53. '20022'\n",
       "54. '20150'\n",
       "55. '20151'\n",
       "56. '21021'\n",
       "57. '30000'\n",
       "58. '30010'\n",
       "59. '30020'\n",
       "60. '30030'\n",
       "61. '30040'\n",
       "62. '30050'\n",
       "63. '30060'\n",
       "64. '30070'\n",
       "65. '30080'\n",
       "66. '30090'\n",
       "67. '30100'\n",
       "68. '30110'\n",
       "69. '30120'\n",
       "70. '30130'\n",
       "71. '30140'\n",
       "72. '30150'\n",
       "73. '30160'\n",
       "74. '30170'\n",
       "75. '30180'\n",
       "76. '30190'\n",
       "77. '30200'\n",
       "78. '30210'\n",
       "79. '30220'\n",
       "80. '30230'\n",
       "81. '30240'\n",
       "82. '30250'\n",
       "83. '30260'\n",
       "84. '30270'\n",
       "85. '30280'\n",
       "86. '30290'\n",
       "87. '30300'\n",
       "88. '30500'\n",
       "89. '30510'\n",
       "90. '30520'\n",
       "91. '30530'\n",
       "92. '30620'\n",
       "93. '30600'\n",
       "94. '30610'\n",
       "95. '30630'\n",
       "96. '30640'\n",
       "97. '30650'\n",
       "98. '30710'\n",
       "99. '30680'\n",
       "100. '30690'\n",
       "101. '30700'\n",
       "102. '30720'\n",
       "103. '30660'\n",
       "104. '30730'\n",
       "105. '30740'\n",
       "106. '30750'\n",
       "107. '30760'\n",
       "108. '30770'\n",
       "109. '30780'\n",
       "110. '30790'\n",
       "111. '30800'\n",
       "112. '30810'\n",
       "113. '30820'\n",
       "114. '30830'\n",
       "115. '30850'\n",
       "116. '30840'\n",
       "117. '30860'\n",
       "118. '30870'\n",
       "119. '30880'\n",
       "120. '30670'\n",
       "121. '30890'\n",
       "122. '30510'\n",
       "\n",
       "\n"
      ],
      "text/plain": [
       "  [1] \"3140\"     \"2724\"     \"3581\"     \"3591\"     \"2934\"     \"3700\"    \n",
       "  [7] \"3710\"     \"3720\"     \"2804\"     \"3546\"     \"2178\"     \"2188\"    \n",
       " [13] \"whr\"      \"21001\"    \"50\"       \"48\"       \"49\"       \"4079\"    \n",
       " [19] \"4080\"     \"20150\"    \"3063\"     \"3064\"     \"FEV_FVC\"  \"23100\"   \n",
       " [25] \"23116\"    \"23112\"    \"23124\"    \"23120\"    \"23128\"    \"23099\"   \n",
       " [31] \"23105\"    \"23115\"    \"23111\"    \"23123\"    \"23119\"    \"23127\"   \n",
       " [37] \"23100\"    \"23101\"    \"23102\"    \"23106\"    \"23107\"    \"23108\"   \n",
       " [43] \"23109\"    \"23110\"    \"trunk_fp\" \"leg_fp\"   \"arm_fp\"   \"46\"      \n",
       " [49] \"47\"       \"20015\"    \"20019\"    \"20021\"    \"20022\"    \"20150\"   \n",
       " [55] \"20151\"    \"21021\"    \"30000\"    \"30010\"    \"30020\"    \"30030\"   \n",
       " [61] \"30040\"    \"30050\"    \"30060\"    \"30070\"    \"30080\"    \"30090\"   \n",
       " [67] \"30100\"    \"30110\"    \"30120\"    \"30130\"    \"30140\"    \"30150\"   \n",
       " [73] \"30160\"    \"30170\"    \"30180\"    \"30190\"    \"30200\"    \"30210\"   \n",
       " [79] \"30220\"    \"30230\"    \"30240\"    \"30250\"    \"30260\"    \"30270\"   \n",
       " [85] \"30280\"    \"30290\"    \"30300\"    \"30500\"    \"30510\"    \"30520\"   \n",
       " [91] \"30530\"    \"30620\"    \"30600\"    \"30610\"    \"30630\"    \"30640\"   \n",
       " [97] \"30650\"    \"30710\"    \"30680\"    \"30690\"    \"30700\"    \"30720\"   \n",
       "[103] \"30660\"    \"30730\"    \"30740\"    \"30750\"    \"30760\"    \"30770\"   \n",
       "[109] \"30780\"    \"30790\"    \"30800\"    \"30810\"    \"30820\"    \"30830\"   \n",
       "[115] \"30850\"    \"30840\"    \"30860\"    \"30870\"    \"30880\"    \"30670\"   \n",
       "[121] \"30890\"    \"30510\"   "
      ]
     },
     "metadata": {},
     "output_type": "display_data"
    }
   ],
   "source": [
    "phe_codes$trait"
   ]
  },
  {
   "cell_type": "code",
   "execution_count": 5,
   "metadata": {},
   "outputs": [
    {
     "data": {
      "text/html": [
       "<ol class=list-inline>\n",
       "\t<li>'Apolipoprotein_B.adjust.statins'</li>\n",
       "\t<li>'eGFR'</li>\n",
       "\t<li>'Fasting_glucose'</li>\n",
       "\t<li>'Glycated_haemoglobin_HbA1c'</li>\n",
       "\t<li>'IGF_1'</li>\n",
       "\t<li>'LDL_direct.adjust.statins'</li>\n",
       "\t<li>'Non_albumin_protein'</li>\n",
       "</ol>\n"
      ],
      "text/latex": [
       "\\begin{enumerate*}\n",
       "\\item 'Apolipoprotein\\_B.adjust.statins'\n",
       "\\item 'eGFR'\n",
       "\\item 'Fasting\\_glucose'\n",
       "\\item 'Glycated\\_haemoglobin\\_HbA1c'\n",
       "\\item 'IGF\\_1'\n",
       "\\item 'LDL\\_direct.adjust.statins'\n",
       "\\item 'Non\\_albumin\\_protein'\n",
       "\\end{enumerate*}\n"
      ],
      "text/markdown": [
       "1. 'Apolipoprotein_B.adjust.statins'\n",
       "2. 'eGFR'\n",
       "3. 'Fasting_glucose'\n",
       "4. 'Glycated_haemoglobin_HbA1c'\n",
       "5. 'IGF_1'\n",
       "6. 'LDL_direct.adjust.statins'\n",
       "7. 'Non_albumin_protein'\n",
       "\n",
       "\n"
      ],
      "text/plain": [
       "[1] \"Apolipoprotein_B.adjust.statins\" \"eGFR\"                           \n",
       "[3] \"Fasting_glucose\"                 \"Glycated_haemoglobin_HbA1c\"     \n",
       "[5] \"IGF_1\"                           \"LDL_direct.adjust.statins\"      \n",
       "[7] \"Non_albumin_protein\"            "
      ]
     },
     "metadata": {},
     "output_type": "display_data"
    },
    {
     "data": {
      "text/html": [
       "<ol class=list-inline>\n",
       "\t<li>'Glycated_haemoglobin_(HbA1c)'</li>\n",
       "\t<li>'IGF-1'</li>\n",
       "\t<li>'Triglycerides'</li>\n",
       "</ol>\n"
      ],
      "text/latex": [
       "\\begin{enumerate*}\n",
       "\\item 'Glycated\\_haemoglobin\\_(HbA1c)'\n",
       "\\item 'IGF-1'\n",
       "\\item 'Triglycerides'\n",
       "\\end{enumerate*}\n"
      ],
      "text/markdown": [
       "1. 'Glycated_haemoglobin_(HbA1c)'\n",
       "2. 'IGF-1'\n",
       "3. 'Triglycerides'\n",
       "\n",
       "\n"
      ],
      "text/plain": [
       "[1] \"Glycated_haemoglobin_(HbA1c)\" \"IGF-1\"                       \n",
       "[3] \"Triglycerides\"               "
      ]
     },
     "metadata": {},
     "output_type": "display_data"
    },
    {
     "data": {
      "text/html": [
       "31"
      ],
      "text/latex": [
       "31"
      ],
      "text/markdown": [
       "31"
      ],
      "text/plain": [
       "[1] 31"
      ]
     },
     "metadata": {},
     "output_type": "display_data"
    }
   ],
   "source": [
    "setdiff(as.character(biomarker_df$trait), phe_codes$variable_name)\n",
    "setdiff(filter(phe_codes, category==\"biomarker\")$variable_name,as.character(biomarker_df$trait))\n",
    "\n",
    "## TODO: looks like we're missing hbA1C and IGF-1 <-- go back and redo these!\n",
    "\n",
    "length(intersect(as.character(biomarker_df$trait), phe_codes$variable_name)) # 32\n",
    "\n",
    "# added this one: 30510, biomarker, Creatinine_in_urine, NA; fixed CRP\n",
    "\n",
    "## TODO: what is going on w \"Fasting_glucose\", \"eGFR\", \"Non_albumin_protein\" <-- are these derived?\n",
    "##  these are phenotypes we somehow have but didn't know abt?\n",
    "##  consider the statin-adjusted too\n",
    "\n"
   ]
  },
  {
   "cell_type": "code",
   "execution_count": 6,
   "metadata": {},
   "outputs": [
    {
     "name": "stderr",
     "output_type": "stream",
     "text": [
      "Joining, by = \"variable_name\"\n",
      "Warning message:\n",
      "“Column `variable_name` joining character vector and factor, coercing into character vector”"
     ]
    },
    {
     "data": {
      "text/html": [
       "<table>\n",
       "<thead><tr><th scope=col>trait</th><th scope=col>category</th><th scope=col>variable_name</th><th scope=col>n</th><th scope=col>pi[1]</th><th scope=col>pi[2]</th><th scope=col>Sigma[1,1]</th><th scope=col>Sigma[1,2]</th><th scope=col>Sigma[2,1]</th><th scope=col>Sigma[2,2]</th><th scope=col>rg</th><th scope=col>rg.l</th><th scope=col>rg.u</th></tr></thead>\n",
       "<tbody>\n",
       "\t<tr><td>30620                          </td><td>biomarker                      </td><td>Alanine_aminotransferase       </td><td>185830                         </td><td>0.9278233                      </td><td>0.072176681                    </td><td>7.171212e-05                   </td><td>6.934385e-05                   </td><td>6.934385e-05                   </td><td>8.026258e-05                   </td><td>0.9140675                      </td><td>0.8918961                      </td><td>0.9357448                      </td></tr>\n",
       "\t<tr><td>30600                          </td><td>biomarker                      </td><td>Albumin                        </td><td>185176                         </td><td>0.8741166                      </td><td>0.125883423                    </td><td>4.366686e-05                   </td><td>4.238062e-05                   </td><td>4.238062e-05                   </td><td>4.326505e-05                   </td><td>0.9752237                      </td><td>0.9527401                      </td><td>0.9930145                      </td></tr>\n",
       "\t<tr><td>30610                          </td><td>biomarker                      </td><td>Alkaline_phosphatase           </td><td>185835                         </td><td>0.9919450                      </td><td>0.008054994                    </td><td>9.269005e-03                   </td><td>1.050801e-02                   </td><td>1.050801e-02                   </td><td>1.194561e-02                   </td><td>0.9986591                      </td><td>0.9981819                      </td><td>0.9990334                      </td></tr>\n",
       "\t<tr><td>30630                          </td><td>biomarker                      </td><td>Apolipoprotein_A               </td><td>185159                         </td><td>0.9793958                      </td><td>0.020604221                    </td><td>6.288996e-04                   </td><td>6.567083e-04                   </td><td>6.567083e-04                   </td><td>7.070754e-04                   </td><td>0.9848183                      </td><td>0.9798631                      </td><td>0.9892995                      </td></tr>\n",
       "\t<tr><td>Apolipoprotein_B.adjust.statins</td><td>biomarker                      </td><td>Apolipoprotein_B.adjust.statins</td><td>185788                         </td><td>0.9840625                      </td><td>0.015937455                    </td><td>1.261674e-03                   </td><td>1.168401e-03                   </td><td>1.168401e-03                   </td><td>1.104964e-03                   </td><td>0.9895991                      </td><td>0.9864116                      </td><td>0.9922658                      </td></tr>\n",
       "\t<tr><td>30640                          </td><td>biomarker                      </td><td>Apolipoprotein_B               </td><td>185793                         </td><td>0.9913960                      </td><td>0.008603986                    </td><td>1.409642e-03                   </td><td>1.181322e-03                   </td><td>1.181322e-03                   </td><td>1.015093e-03                   </td><td>0.9875976                      </td><td>0.9830573                      </td><td>0.9915109                      </td></tr>\n",
       "</tbody>\n",
       "</table>\n"
      ],
      "text/latex": [
       "\\begin{tabular}{r|lllllllllllll}\n",
       " trait & category & variable\\_name & n & pi{[}1{]} & pi{[}2{]} & Sigma{[}1,1{]} & Sigma{[}1,2{]} & Sigma{[}2,1{]} & Sigma{[}2,2{]} & rg & rg.l & rg.u\\\\\n",
       "\\hline\n",
       "\t 30620                             & biomarker                         & Alanine\\_aminotransferase        & 185830                            & 0.9278233                         & 0.072176681                       & 7.171212e-05                      & 6.934385e-05                      & 6.934385e-05                      & 8.026258e-05                      & 0.9140675                         & 0.8918961                         & 0.9357448                        \\\\\n",
       "\t 30600                           & biomarker                       & Albumin                         & 185176                          & 0.8741166                       & 0.125883423                     & 4.366686e-05                    & 4.238062e-05                    & 4.238062e-05                    & 4.326505e-05                    & 0.9752237                       & 0.9527401                       & 0.9930145                      \\\\\n",
       "\t 30610                             & biomarker                         & Alkaline\\_phosphatase            & 185835                            & 0.9919450                         & 0.008054994                       & 9.269005e-03                      & 1.050801e-02                      & 1.050801e-02                      & 1.194561e-02                      & 0.9986591                         & 0.9981819                         & 0.9990334                        \\\\\n",
       "\t 30630                             & biomarker                         & Apolipoprotein\\_A                & 185159                            & 0.9793958                         & 0.020604221                       & 6.288996e-04                      & 6.567083e-04                      & 6.567083e-04                      & 7.070754e-04                      & 0.9848183                         & 0.9798631                         & 0.9892995                        \\\\\n",
       "\t Apolipoprotein\\_B.adjust.statins & biomarker                         & Apolipoprotein\\_B.adjust.statins & 185788                            & 0.9840625                         & 0.015937455                       & 1.261674e-03                      & 1.168401e-03                      & 1.168401e-03                      & 1.104964e-03                      & 0.9895991                         & 0.9864116                         & 0.9922658                        \\\\\n",
       "\t 30640                             & biomarker                         & Apolipoprotein\\_B                & 185793                            & 0.9913960                         & 0.008603986                       & 1.409642e-03                      & 1.181322e-03                      & 1.181322e-03                      & 1.015093e-03                      & 0.9875976                         & 0.9830573                         & 0.9915109                        \\\\\n",
       "\\end{tabular}\n"
      ],
      "text/markdown": [
       "\n",
       "trait | category | variable_name | n | pi[1] | pi[2] | Sigma[1,1] | Sigma[1,2] | Sigma[2,1] | Sigma[2,2] | rg | rg.l | rg.u | \n",
       "|---|---|---|---|---|---|\n",
       "| 30620                           | biomarker                       | Alanine_aminotransferase        | 185830                          | 0.9278233                       | 0.072176681                     | 7.171212e-05                    | 6.934385e-05                    | 6.934385e-05                    | 8.026258e-05                    | 0.9140675                       | 0.8918961                       | 0.9357448                       | \n",
       "| 30600                           | biomarker                       | Albumin                         | 185176                          | 0.8741166                       | 0.125883423                     | 4.366686e-05                    | 4.238062e-05                    | 4.238062e-05                    | 4.326505e-05                    | 0.9752237                       | 0.9527401                       | 0.9930145                       | \n",
       "| 30610                           | biomarker                       | Alkaline_phosphatase            | 185835                          | 0.9919450                       | 0.008054994                     | 9.269005e-03                    | 1.050801e-02                    | 1.050801e-02                    | 1.194561e-02                    | 0.9986591                       | 0.9981819                       | 0.9990334                       | \n",
       "| 30630                           | biomarker                       | Apolipoprotein_A                | 185159                          | 0.9793958                       | 0.020604221                     | 6.288996e-04                    | 6.567083e-04                    | 6.567083e-04                    | 7.070754e-04                    | 0.9848183                       | 0.9798631                       | 0.9892995                       | \n",
       "| Apolipoprotein_B.adjust.statins | biomarker                       | Apolipoprotein_B.adjust.statins | 185788                          | 0.9840625                       | 0.015937455                     | 1.261674e-03                    | 1.168401e-03                    | 1.168401e-03                    | 1.104964e-03                    | 0.9895991                       | 0.9864116                       | 0.9922658                       | \n",
       "| 30640                           | biomarker                       | Apolipoprotein_B                | 185793                          | 0.9913960                       | 0.008603986                     | 1.409642e-03                    | 1.181322e-03                    | 1.181322e-03                    | 1.015093e-03                    | 0.9875976                       | 0.9830573                       | 0.9915109                       | \n",
       "\n",
       "\n"
      ],
      "text/plain": [
       "  trait                           category  variable_name                  \n",
       "1 30620                           biomarker Alanine_aminotransferase       \n",
       "2 30600                           biomarker Albumin                        \n",
       "3 30610                           biomarker Alkaline_phosphatase           \n",
       "4 30630                           biomarker Apolipoprotein_A               \n",
       "5 Apolipoprotein_B.adjust.statins biomarker Apolipoprotein_B.adjust.statins\n",
       "6 30640                           biomarker Apolipoprotein_B               \n",
       "  n      pi[1]     pi[2]       Sigma[1,1]   Sigma[1,2]   Sigma[2,1]  \n",
       "1 185830 0.9278233 0.072176681 7.171212e-05 6.934385e-05 6.934385e-05\n",
       "2 185176 0.8741166 0.125883423 4.366686e-05 4.238062e-05 4.238062e-05\n",
       "3 185835 0.9919450 0.008054994 9.269005e-03 1.050801e-02 1.050801e-02\n",
       "4 185159 0.9793958 0.020604221 6.288996e-04 6.567083e-04 6.567083e-04\n",
       "5 185788 0.9840625 0.015937455 1.261674e-03 1.168401e-03 1.168401e-03\n",
       "6 185793 0.9913960 0.008603986 1.409642e-03 1.181322e-03 1.181322e-03\n",
       "  Sigma[2,2]   rg        rg.l      rg.u     \n",
       "1 8.026258e-05 0.9140675 0.8918961 0.9357448\n",
       "2 4.326505e-05 0.9752237 0.9527401 0.9930145\n",
       "3 1.194561e-02 0.9986591 0.9981819 0.9990334\n",
       "4 7.070754e-04 0.9848183 0.9798631 0.9892995\n",
       "5 1.104964e-03 0.9895991 0.9864116 0.9922658\n",
       "6 1.015093e-03 0.9875976 0.9830573 0.9915109"
      ]
     },
     "metadata": {},
     "output_type": "display_data"
    }
   ],
   "source": [
    "biomarker_df2 <- right_join(phe_codes %>% select(trait, category, variable_name), \n",
    "                            biomarker_df %>% rename(variable_name=trait))  %>%\n",
    "mutate(category=\"biomarker\", trait=ifelse(is.na(trait), variable_name, trait))  %>% select(-h.f, -h.m) \n",
    "\n",
    "head(biomarker_df2)"
   ]
  },
  {
   "cell_type": "code",
   "execution_count": null,
   "metadata": {
    "collapsed": true
   },
   "outputs": [],
   "source": []
  },
  {
   "cell_type": "code",
   "execution_count": 8,
   "metadata": {},
   "outputs": [
    {
     "name": "stderr",
     "output_type": "stream",
     "text": [
      "Parsed with column specification:\n",
      "cols(\n",
      "  trait = col_character(),\n",
      "  int = col_character(),\n",
      "  sex = col_character(),\n",
      "  value = col_double()\n",
      ")\n",
      "Parsed with column specification:\n",
      "cols(\n",
      "  trait = col_character(),\n",
      "  int = col_character(),\n",
      "  sex = col_character(),\n",
      "  value = col_double()\n",
      ")\n",
      "Parsed with column specification:\n",
      "cols(\n",
      "  trait = col_character(),\n",
      "  int = col_character(),\n",
      "  sex = col_character(),\n",
      "  value = col_double()\n",
      ")\n",
      "Parsed with column specification:\n",
      "cols(\n",
      "  trait = col_character(),\n",
      "  int = col_character(),\n",
      "  sex = col_character(),\n",
      "  value = col_double()\n",
      ")\n",
      "Parsed with column specification:\n",
      "cols(\n",
      "  trait = col_character(),\n",
      "  int = col_character(),\n",
      "  sex = col_character(),\n",
      "  value = col_double()\n",
      ")\n",
      "Parsed with column specification:\n",
      "cols(\n",
      "  trait = col_character(),\n",
      "  int = col_character(),\n",
      "  sex = col_character(),\n",
      "  value = col_double()\n",
      ")\n",
      "Parsed with column specification:\n",
      "cols(\n",
      "  trait = col_character(),\n",
      "  int = col_character(),\n",
      "  sex = col_character(),\n",
      "  value = col_double()\n",
      ")\n",
      "Parsed with column specification:\n",
      "cols(\n",
      "  trait = col_character(),\n",
      "  int = col_character(),\n",
      "  sex = col_character(),\n",
      "  value = col_double()\n",
      ")\n",
      "Parsed with column specification:\n",
      "cols(\n",
      "  trait = col_character(),\n",
      "  int = col_character(),\n",
      "  sex = col_character(),\n",
      "  value = col_double()\n",
      ")\n",
      "Parsed with column specification:\n",
      "cols(\n",
      "  trait = col_character(),\n",
      "  int = col_character(),\n",
      "  sex = col_character(),\n",
      "  value = col_double()\n",
      ")\n",
      "Parsed with column specification:\n",
      "cols(\n",
      "  trait = col_character(),\n",
      "  int = col_character(),\n",
      "  sex = col_character(),\n",
      "  value = col_double()\n",
      ")\n",
      "Parsed with column specification:\n",
      "cols(\n",
      "  trait = col_character(),\n",
      "  int = col_character(),\n",
      "  sex = col_character(),\n",
      "  value = col_double()\n",
      ")\n",
      "Parsed with column specification:\n",
      "cols(\n",
      "  trait = col_character(),\n",
      "  int = col_character(),\n",
      "  sex = col_character(),\n",
      "  value = col_double()\n",
      ")\n",
      "Parsed with column specification:\n",
      "cols(\n",
      "  trait = col_character(),\n",
      "  int = col_character(),\n",
      "  sex = col_character(),\n",
      "  value = col_double()\n",
      ")\n",
      "Parsed with column specification:\n",
      "cols(\n",
      "  trait = col_character(),\n",
      "  int = col_character(),\n",
      "  sex = col_character(),\n",
      "  value = col_double()\n",
      ")\n",
      "Parsed with column specification:\n",
      "cols(\n",
      "  trait = col_character(),\n",
      "  int = col_character(),\n",
      "  sex = col_character(),\n",
      "  value = col_double()\n",
      ")\n",
      "Parsed with column specification:\n",
      "cols(\n",
      "  trait = col_character(),\n",
      "  int = col_character(),\n",
      "  sex = col_character(),\n",
      "  value = col_double()\n",
      ")\n",
      "Parsed with column specification:\n",
      "cols(\n",
      "  trait = col_character(),\n",
      "  int = col_character(),\n",
      "  sex = col_character(),\n",
      "  value = col_double()\n",
      ")\n",
      "Parsed with column specification:\n",
      "cols(\n",
      "  trait = col_character(),\n",
      "  int = col_character(),\n",
      "  sex = col_character(),\n",
      "  value = col_double()\n",
      ")\n",
      "Parsed with column specification:\n",
      "cols(\n",
      "  trait = col_character(),\n",
      "  int = col_character(),\n",
      "  sex = col_character(),\n",
      "  value = col_double()\n",
      ")\n",
      "Parsed with column specification:\n",
      "cols(\n",
      "  trait = col_character(),\n",
      "  int = col_character(),\n",
      "  sex = col_character(),\n",
      "  value = col_double()\n",
      ")\n",
      "Parsed with column specification:\n",
      "cols(\n",
      "  trait = col_character(),\n",
      "  int = col_character(),\n",
      "  sex = col_character(),\n",
      "  value = col_double()\n",
      ")\n",
      "Parsed with column specification:\n",
      "cols(\n",
      "  trait = col_character(),\n",
      "  int = col_character(),\n",
      "  sex = col_character(),\n",
      "  value = col_double()\n",
      ")\n",
      "Parsed with column specification:\n",
      "cols(\n",
      "  trait = col_character(),\n",
      "  int = col_character(),\n",
      "  sex = col_character(),\n",
      "  value = col_double()\n",
      ")\n",
      "Parsed with column specification:\n",
      "cols(\n",
      "  trait = col_character(),\n",
      "  int = col_character(),\n",
      "  sex = col_character(),\n",
      "  value = col_double()\n",
      ")\n",
      "Parsed with column specification:\n",
      "cols(\n",
      "  trait = col_character(),\n",
      "  int = col_character(),\n",
      "  sex = col_character(),\n",
      "  value = col_double()\n",
      ")\n",
      "Parsed with column specification:\n",
      "cols(\n",
      "  trait = col_character(),\n",
      "  int = col_character(),\n",
      "  sex = col_character(),\n",
      "  value = col_double()\n",
      ")\n",
      "Parsed with column specification:\n",
      "cols(\n",
      "  trait = col_character(),\n",
      "  int = col_character(),\n",
      "  sex = col_character(),\n",
      "  value = col_double()\n",
      ")\n",
      "Parsed with column specification:\n",
      "cols(\n",
      "  trait = col_character(),\n",
      "  int = col_character(),\n",
      "  sex = col_character(),\n",
      "  value = col_double()\n",
      ")\n",
      "Parsed with column specification:\n",
      "cols(\n",
      "  trait = col_character(),\n",
      "  int = col_character(),\n",
      "  sex = col_character(),\n",
      "  value = col_double()\n",
      ")\n",
      "Parsed with column specification:\n",
      "cols(\n",
      "  trait = col_character(),\n",
      "  int = col_character(),\n",
      "  sex = col_character(),\n",
      "  value = col_double()\n",
      ")\n",
      "Parsed with column specification:\n",
      "cols(\n",
      "  trait = col_character(),\n",
      "  int = col_character(),\n",
      "  sex = col_character(),\n",
      "  value = col_double()\n",
      ")\n",
      "Parsed with column specification:\n",
      "cols(\n",
      "  trait = col_character(),\n",
      "  int = col_character(),\n",
      "  sex = col_character(),\n",
      "  value = col_double()\n",
      ")\n",
      "Parsed with column specification:\n",
      "cols(\n",
      "  trait = col_character(),\n",
      "  int = col_character(),\n",
      "  sex = col_character(),\n",
      "  value = col_double()\n",
      ")\n",
      "Parsed with column specification:\n",
      "cols(\n",
      "  trait = col_character(),\n",
      "  int = col_character(),\n",
      "  sex = col_character(),\n",
      "  value = col_double()\n",
      ")\n",
      "Parsed with column specification:\n",
      "cols(\n",
      "  trait = col_character(),\n",
      "  int = col_character(),\n",
      "  sex = col_character(),\n",
      "  value = col_double()\n",
      ")\n",
      "Parsed with column specification:\n",
      "cols(\n",
      "  trait = col_character(),\n",
      "  int = col_character(),\n",
      "  sex = col_character(),\n",
      "  value = col_double()\n",
      ")\n",
      "Parsed with column specification:\n",
      "cols(\n",
      "  trait = col_character(),\n",
      "  int = col_character(),\n",
      "  sex = col_character(),\n",
      "  value = col_double()\n",
      ")\n",
      "Parsed with column specification:\n",
      "cols(\n",
      "  trait = col_character(),\n",
      "  int = col_character(),\n",
      "  sex = col_character(),\n",
      "  value = col_double()\n",
      ")\n"
     ]
    },
    {
     "data": {
      "text/html": [
       "<table>\n",
       "<thead><tr><th scope=col>trait</th><th scope=col>int</th><th scope=col>sex</th><th scope=col>value</th></tr></thead>\n",
       "<tbody>\n",
       "\t<tr><td>Alanine_aminotransferase</td><td>up                      </td><td>hf                      </td><td>0.1293665               </td></tr>\n",
       "\t<tr><td>Alanine_aminotransferase</td><td>low                     </td><td>hf                      </td><td>0.1262201               </td></tr>\n",
       "\t<tr><td>Alanine_aminotransferase</td><td>center                  </td><td>hf                      </td><td>0.1444096               </td></tr>\n",
       "\t<tr><td>Alanine_aminotransferase</td><td>up                      </td><td>hm                      </td><td>0.1236164               </td></tr>\n",
       "\t<tr><td>Alanine_aminotransferase</td><td>low                     </td><td>hm                      </td><td>0.1253796               </td></tr>\n",
       "\t<tr><td>Alanine_aminotransferase</td><td>center                  </td><td>hm                      </td><td>0.1379725               </td></tr>\n",
       "</tbody>\n",
       "</table>\n"
      ],
      "text/latex": [
       "\\begin{tabular}{r|llll}\n",
       " trait & int & sex & value\\\\\n",
       "\\hline\n",
       "\t Alanine\\_aminotransferase & up                         & hf                         & 0.1293665                 \\\\\n",
       "\t Alanine\\_aminotransferase & low                        & hf                         & 0.1262201                 \\\\\n",
       "\t Alanine\\_aminotransferase & center                     & hf                         & 0.1444096                 \\\\\n",
       "\t Alanine\\_aminotransferase & up                         & hm                         & 0.1236164                 \\\\\n",
       "\t Alanine\\_aminotransferase & low                        & hm                         & 0.1253796                 \\\\\n",
       "\t Alanine\\_aminotransferase & center                     & hm                         & 0.1379725                 \\\\\n",
       "\\end{tabular}\n"
      ],
      "text/markdown": [
       "\n",
       "trait | int | sex | value | \n",
       "|---|---|---|---|---|---|\n",
       "| Alanine_aminotransferase | up                       | hf                       | 0.1293665                | \n",
       "| Alanine_aminotransferase | low                      | hf                       | 0.1262201                | \n",
       "| Alanine_aminotransferase | center                   | hf                       | 0.1444096                | \n",
       "| Alanine_aminotransferase | up                       | hm                       | 0.1236164                | \n",
       "| Alanine_aminotransferase | low                      | hm                       | 0.1253796                | \n",
       "| Alanine_aminotransferase | center                   | hm                       | 0.1379725                | \n",
       "\n",
       "\n"
      ],
      "text/plain": [
       "  trait                    int    sex value    \n",
       "1 Alanine_aminotransferase up     hf  0.1293665\n",
       "2 Alanine_aminotransferase low    hf  0.1262201\n",
       "3 Alanine_aminotransferase center hf  0.1444096\n",
       "4 Alanine_aminotransferase up     hm  0.1236164\n",
       "5 Alanine_aminotransferase low    hm  0.1253796\n",
       "6 Alanine_aminotransferase center hm  0.1379725"
      ]
     },
     "metadata": {},
     "output_type": "display_data"
    },
    {
     "data": {
      "text/html": [
       "39"
      ],
      "text/latex": [
       "39"
      ],
      "text/markdown": [
       "39"
      ],
      "text/plain": [
       "[1] 39"
      ]
     },
     "metadata": {},
     "output_type": "display_data"
    },
    {
     "data": {
      "text/html": [
       "40"
      ],
      "text/latex": [
       "40"
      ],
      "text/markdown": [
       "40"
      ],
      "text/plain": [
       "[1] 40"
      ]
     },
     "metadata": {},
     "output_type": "display_data"
    }
   ],
   "source": [
    "biomarker_err <- do.call(rbind, lapply(list.files(BIOMARKER.DIR, pattern=\"h_err*\")\n",
    ", function(f) \n",
    "    read_tsv(sprintf(\"%s/%s\", BIOMARKER.DIR, f))))\n",
    "head(biomarker_err)\n",
    "length(unique(biomarker_err$trait))\n",
    "length(biomarkers2)\n",
    "\n",
    "    \n"
   ]
  },
  {
   "cell_type": "code",
   "execution_count": 114,
   "metadata": {},
   "outputs": [
    {
     "data": {
      "text/html": [
       "<table>\n",
       "<thead><tr><th scope=col>trait</th><th scope=col>int</th><th scope=col>sex</th><th scope=col>value</th></tr></thead>\n",
       "<tbody>\n",
       "\t<tr><td>Cholesterol.adjust.statins</td><td>up                        </td><td>hf                        </td><td>0.15499183                </td></tr>\n",
       "\t<tr><td>Cholesterol.adjust.statins</td><td>low                       </td><td>hf                        </td><td>0.12928045                </td></tr>\n",
       "\t<tr><td>Cholesterol.adjust.statins</td><td>center                    </td><td>hf                        </td><td>0.13952991                </td></tr>\n",
       "\t<tr><td>Cholesterol.adjust.statins</td><td>up                        </td><td>hm                        </td><td>0.12246729                </td></tr>\n",
       "\t<tr><td>Cholesterol.adjust.statins</td><td>low                       </td><td>hm                        </td><td>0.10184064                </td></tr>\n",
       "\t<tr><td>Cholesterol.adjust.statins</td><td>center                    </td><td>hm                        </td><td>0.11403083                </td></tr>\n",
       "\t<tr><td>Testosterone              </td><td>up                        </td><td>hf                        </td><td>0.05938421                </td></tr>\n",
       "\t<tr><td>Testosterone              </td><td>low                       </td><td>hf                        </td><td>0.03904846                </td></tr>\n",
       "\t<tr><td>Testosterone              </td><td>center                    </td><td>hf                        </td><td>0.04943341                </td></tr>\n",
       "\t<tr><td>Testosterone              </td><td>up                        </td><td>hm                        </td><td>0.17759564                </td></tr>\n",
       "\t<tr><td>Testosterone              </td><td>low                       </td><td>hm                        </td><td>0.13945307                </td></tr>\n",
       "\t<tr><td>Testosterone              </td><td>center                    </td><td>hm                        </td><td>0.14122082                </td></tr>\n",
       "\t<tr><td>Triglycerides             </td><td>up                        </td><td>hf                        </td><td>0.12696590                </td></tr>\n",
       "\t<tr><td>Triglycerides             </td><td>low                       </td><td>hf                        </td><td>0.10568198                </td></tr>\n",
       "\t<tr><td>Triglycerides             </td><td>center                    </td><td>hf                        </td><td>0.11982032                </td></tr>\n",
       "\t<tr><td>Triglycerides             </td><td>up                        </td><td>hm                        </td><td>0.11420105                </td></tr>\n",
       "\t<tr><td>Triglycerides             </td><td>low                       </td><td>hm                        </td><td>0.09613934                </td></tr>\n",
       "\t<tr><td>Triglycerides             </td><td>center                    </td><td>hm                        </td><td>0.10692768                </td></tr>\n",
       "</tbody>\n",
       "</table>\n"
      ],
      "text/latex": [
       "\\begin{tabular}{r|llll}\n",
       " trait & int & sex & value\\\\\n",
       "\\hline\n",
       "\t Cholesterol.adjust.statins & up                         & hf                         & 0.15499183                \\\\\n",
       "\t Cholesterol.adjust.statins & low                        & hf                         & 0.12928045                \\\\\n",
       "\t Cholesterol.adjust.statins & center                     & hf                         & 0.13952991                \\\\\n",
       "\t Cholesterol.adjust.statins & up                         & hm                         & 0.12246729                \\\\\n",
       "\t Cholesterol.adjust.statins & low                        & hm                         & 0.10184064                \\\\\n",
       "\t Cholesterol.adjust.statins & center                     & hm                         & 0.11403083                \\\\\n",
       "\t Testosterone               & up                         & hf                         & 0.05938421                \\\\\n",
       "\t Testosterone               & low                        & hf                         & 0.03904846                \\\\\n",
       "\t Testosterone               & center                     & hf                         & 0.04943341                \\\\\n",
       "\t Testosterone               & up                         & hm                         & 0.17759564                \\\\\n",
       "\t Testosterone               & low                        & hm                         & 0.13945307                \\\\\n",
       "\t Testosterone               & center                     & hm                         & 0.14122082                \\\\\n",
       "\t Triglycerides              & up                         & hf                         & 0.12696590                \\\\\n",
       "\t Triglycerides              & low                        & hf                         & 0.10568198                \\\\\n",
       "\t Triglycerides              & center                     & hf                         & 0.11982032                \\\\\n",
       "\t Triglycerides              & up                         & hm                         & 0.11420105                \\\\\n",
       "\t Triglycerides              & low                        & hm                         & 0.09613934                \\\\\n",
       "\t Triglycerides              & center                     & hm                         & 0.10692768                \\\\\n",
       "\\end{tabular}\n"
      ],
      "text/markdown": [
       "\n",
       "trait | int | sex | value | \n",
       "|---|---|---|---|---|---|---|---|---|---|---|---|---|---|---|---|---|---|\n",
       "| Cholesterol.adjust.statins | up                         | hf                         | 0.15499183                 | \n",
       "| Cholesterol.adjust.statins | low                        | hf                         | 0.12928045                 | \n",
       "| Cholesterol.adjust.statins | center                     | hf                         | 0.13952991                 | \n",
       "| Cholesterol.adjust.statins | up                         | hm                         | 0.12246729                 | \n",
       "| Cholesterol.adjust.statins | low                        | hm                         | 0.10184064                 | \n",
       "| Cholesterol.adjust.statins | center                     | hm                         | 0.11403083                 | \n",
       "| Testosterone               | up                         | hf                         | 0.05938421                 | \n",
       "| Testosterone               | low                        | hf                         | 0.03904846                 | \n",
       "| Testosterone               | center                     | hf                         | 0.04943341                 | \n",
       "| Testosterone               | up                         | hm                         | 0.17759564                 | \n",
       "| Testosterone               | low                        | hm                         | 0.13945307                 | \n",
       "| Testosterone               | center                     | hm                         | 0.14122082                 | \n",
       "| Triglycerides              | up                         | hf                         | 0.12696590                 | \n",
       "| Triglycerides              | low                        | hf                         | 0.10568198                 | \n",
       "| Triglycerides              | center                     | hf                         | 0.11982032                 | \n",
       "| Triglycerides              | up                         | hm                         | 0.11420105                 | \n",
       "| Triglycerides              | low                        | hm                         | 0.09613934                 | \n",
       "| Triglycerides              | center                     | hm                         | 0.10692768                 | \n",
       "\n",
       "\n"
      ],
      "text/plain": [
       "   trait                      int    sex value     \n",
       "1  Cholesterol.adjust.statins up     hf  0.15499183\n",
       "2  Cholesterol.adjust.statins low    hf  0.12928045\n",
       "3  Cholesterol.adjust.statins center hf  0.13952991\n",
       "4  Cholesterol.adjust.statins up     hm  0.12246729\n",
       "5  Cholesterol.adjust.statins low    hm  0.10184064\n",
       "6  Cholesterol.adjust.statins center hm  0.11403083\n",
       "7  Testosterone               up     hf  0.05938421\n",
       "8  Testosterone               low    hf  0.03904846\n",
       "9  Testosterone               center hf  0.04943341\n",
       "10 Testosterone               up     hm  0.17759564\n",
       "11 Testosterone               low    hm  0.13945307\n",
       "12 Testosterone               center hm  0.14122082\n",
       "13 Triglycerides              up     hf  0.12696590\n",
       "14 Triglycerides              low    hf  0.10568198\n",
       "15 Triglycerides              center hf  0.11982032\n",
       "16 Triglycerides              up     hm  0.11420105\n",
       "17 Triglycerides              low    hm  0.09613934\n",
       "18 Triglycerides              center hm  0.10692768"
      ]
     },
     "metadata": {},
     "output_type": "display_data"
    }
   ],
   "source": [
    "biomarker_err %>% filter(trait %in%  c('Cholesterol.adjust.statins', \"Triglycerides\", \"Testosterone\"))"
   ]
  },
  {
   "cell_type": "code",
   "execution_count": 8,
   "metadata": {},
   "outputs": [
    {
     "name": "stderr",
     "output_type": "stream",
     "text": [
      "Joining, by = \"variable_name\"\n"
     ]
    }
   ],
   "source": [
    "biomarker_err_df <- right_join(phe_codes %>% select(trait, category, variable_name), biomarker_err %>% \n",
    "                               rename(variable_name=trait))\n",
    "biomarker_err_df2 <- biomarker_err_df %>% mutate( category=\"biomarker\", \n",
    "                            trait=ifelse(is.na(trait), variable_name, trait)) \n",
    "#biomarker_err_df[is.na(category)]$category <- \"biomarker\"\n",
    "#head(biomarker_err_df)\n"
   ]
  },
  {
   "cell_type": "code",
   "execution_count": 9,
   "metadata": {},
   "outputs": [
    {
     "data": {
      "text/plain": [
       "\n",
       "FALSE  TRUE \n",
       "  210    12 "
      ]
     },
     "metadata": {},
     "output_type": "display_data"
    }
   ],
   "source": [
    "table(is.na(biomarker_err$value))\n",
    "# TODO: these traits  do not have heritability estimates - what is going on?"
   ]
  },
  {
   "cell_type": "code",
   "execution_count": 10,
   "metadata": {
    "collapsed": true
   },
   "outputs": [],
   "source": [
    "# write out all the aggregated files\n",
    "\n",
    "biomarker_err_wide <- biomarker_err_df2 %>% \n",
    "mutate(\"h_type\"=paste(sex, substr(int, 1, 1), sep=\".\")) %>% \n",
    "select(-int, -sex) %>% spread(h_type, value) \n",
    "\n",
    "\n",
    "#alt_err_wide <- alt_err2 %>% \n",
    "#mutate(\"h_type\"=paste(sex, substr(int, 1, 1), sep=\".\")) %>% \n",
    "#select(-int, -sex) %>% spread(h_type, value) "
   ]
  },
  {
   "cell_type": "code",
   "execution_count": 11,
   "metadata": {},
   "outputs": [
    {
     "data": {
      "text/html": [
       "'biomarker'"
      ],
      "text/latex": [
       "'biomarker'"
      ],
      "text/markdown": [
       "'biomarker'"
      ],
      "text/plain": [
       "[1] \"biomarker\""
      ]
     },
     "metadata": {},
     "output_type": "display_data"
    }
   ],
   "source": [
    "#alt_full <- alt_df2 %>% rename(rg.c=rg) %>% \n",
    "#full_join(select(alt_err_wide, c(-category, -variable_name)), by=\"trait\") %>% unique()\n",
    "\n",
    "\n",
    "biomarker_full <- biomarker_df2 %>% rename(rg.c=rg) %>% \n",
    "full_join(select(biomarker_err_wide, c(-category, -variable_name)), by=\"trait\") %>% unique()\n",
    "\n",
    "m1_full <- biomarker_full #rbind(biomarker_full, alt_full)\n",
    "unique(m1_full$category)\n",
    "m1_full$category[m1_full$category==\"fat distribution\"] <- \"anthropometric\"\n",
    "m1_full$category[m1_full$category==\"anthropometric traits\"] <- \"anthropometric\"\n",
    "m1_full$category[m1_full$category==\"urinalysis\"] <- \"biomarker\"\n",
    "m1_full$category[m1_full$category %in% c(\"breathing\", \"hearing test\", \"lab test\", \"physical test\")] <- \"other\"\n",
    "\n",
    "#write_csv(biomarker_full, \"../../data/aggreg_results_1011/m1_biomarker.txt\")\n",
    "#write_csv(m1_full, \"../../data/aggreg_results_1011/m1_full.txt\")\n",
    "\n"
   ]
  },
  {
   "cell_type": "markdown",
   "metadata": {},
   "source": [
    "### CHECKING FAILED RUNS"
   ]
  },
  {
   "cell_type": "code",
   "execution_count": 12,
   "metadata": {},
   "outputs": [
    {
     "data": {
      "text/html": [
       "<ol class=list-inline>\n",
       "\t<li>'Fasting_glucose'</li>\n",
       "\t<li>'Microalbumin_in_urine'</li>\n",
       "\t<li>'Rheumatoid_factor'</li>\n",
       "</ol>\n"
      ],
      "text/latex": [
       "\\begin{enumerate*}\n",
       "\\item 'Fasting\\_glucose'\n",
       "\\item 'Microalbumin\\_in\\_urine'\n",
       "\\item 'Rheumatoid\\_factor'\n",
       "\\end{enumerate*}\n"
      ],
      "text/markdown": [
       "1. 'Fasting_glucose'\n",
       "2. 'Microalbumin_in_urine'\n",
       "3. 'Rheumatoid_factor'\n",
       "\n",
       "\n"
      ],
      "text/plain": [
       "[1] \"Fasting_glucose\"       \"Microalbumin_in_urine\" \"Rheumatoid_factor\"    "
      ]
     },
     "metadata": {},
     "output_type": "display_data"
    },
    {
     "data": {
      "text/html": [
       "<ol class=list-inline>\n",
       "\t<li>'Alanine_aminotransferase'</li>\n",
       "\t<li>'Aspartate_aminotransferase'</li>\n",
       "\t<li>'Fasting_glucose'</li>\n",
       "</ol>\n"
      ],
      "text/latex": [
       "\\begin{enumerate*}\n",
       "\\item 'Alanine\\_aminotransferase'\n",
       "\\item 'Aspartate\\_aminotransferase'\n",
       "\\item 'Fasting\\_glucose'\n",
       "\\end{enumerate*}\n"
      ],
      "text/markdown": [
       "1. 'Alanine_aminotransferase'\n",
       "2. 'Aspartate_aminotransferase'\n",
       "3. 'Fasting_glucose'\n",
       "\n",
       "\n"
      ],
      "text/plain": [
       "[1] \"Alanine_aminotransferase\"   \"Aspartate_aminotransferase\"\n",
       "[3] \"Fasting_glucose\"           "
      ]
     },
     "metadata": {},
     "output_type": "display_data"
    }
   ],
   "source": [
    " \n",
    "\n",
    "# which are NAs?\n",
    "# which have crazy CIs?\n",
    "# do we have an intuition for why this is?\n",
    "rg_bad <- m1_full %>% filter(rg.u > 1 | rg.l <  0) %>% select(variable_name)\n",
    "rg_bad$variable_name\n",
    "h_bad <- m1_full[apply(m1_full, 1, function(x) any(is.na(x)) | any(is.na(x))),] %>% select(variable_name)\n",
    "h_bad$variable_name\n"
   ]
  },
  {
   "cell_type": "code",
   "execution_count": 13,
   "metadata": {},
   "outputs": [
    {
     "data": {
      "text/html": [
       "<table>\n",
       "<thead><tr><th scope=col>trait</th><th scope=col>category</th><th scope=col>variable_name</th><th scope=col>n</th><th scope=col>pi[1]</th><th scope=col>pi[2]</th><th scope=col>Sigma[1,1]</th><th scope=col>Sigma[1,2]</th><th scope=col>Sigma[2,1]</th><th scope=col>Sigma[2,2]</th><th scope=col>rg.c</th><th scope=col>rg.l</th><th scope=col>rg.u</th><th scope=col>hf.c</th><th scope=col>hf.l</th><th scope=col>hf.u</th><th scope=col>hm.c</th><th scope=col>hm.l</th><th scope=col>hm.u</th></tr></thead>\n",
       "<tbody>\n",
       "</tbody>\n",
       "</table>\n"
      ],
      "text/latex": [
       "\\begin{tabular}{r|lllllllllllllllllll}\n",
       " trait & category & variable\\_name & n & pi{[}1{]} & pi{[}2{]} & Sigma{[}1,1{]} & Sigma{[}1,2{]} & Sigma{[}2,1{]} & Sigma{[}2,2{]} & rg.c & rg.l & rg.u & hf.c & hf.l & hf.u & hm.c & hm.l & hm.u\\\\\n",
       "\\hline\n",
       "\\end{tabular}\n"
      ],
      "text/markdown": [
       "\n",
       "trait | category | variable_name | n | pi[1] | pi[2] | Sigma[1,1] | Sigma[1,2] | Sigma[2,1] | Sigma[2,2] | rg.c | rg.l | rg.u | hf.c | hf.l | hf.u | hm.c | hm.l | hm.u | \n",
       "||\n",
       "\n",
       "\n"
      ],
      "text/plain": [
       "     trait category variable_name n pi[1] pi[2] Sigma[1,1] Sigma[1,2]\n",
       "     Sigma[2,1] Sigma[2,2] rg.c rg.l rg.u hf.c hf.l hf.u hm.c hm.l hm.u"
      ]
     },
     "metadata": {},
     "output_type": "display_data"
    }
   ],
   "source": [
    "\n",
    "m1_full %>% \n",
    "filter(trait %in% m1_full[duplicated(m1_full$trait),]$trait) %>% \n",
    "arrange(trait)\n",
    " # no duplicates"
   ]
  },
  {
   "cell_type": "code",
   "execution_count": 15,
   "metadata": {},
   "outputs": [
    {
     "data": {
      "text/html": [
       "<ol class=list-inline>\n",
       "\t<li>3</li>\n",
       "\t<li>19</li>\n",
       "</ol>\n"
      ],
      "text/latex": [
       "\\begin{enumerate*}\n",
       "\\item 3\n",
       "\\item 19\n",
       "\\end{enumerate*}\n"
      ],
      "text/markdown": [
       "1. 3\n",
       "2. 19\n",
       "\n",
       "\n"
      ],
      "text/plain": [
       "[1]  3 19"
      ]
     },
     "metadata": {},
     "output_type": "display_data"
    },
    {
     "data": {
      "text/html": [
       "<table>\n",
       "<thead><tr><th scope=col>trait</th><th scope=col>category</th><th scope=col>variable_name</th><th scope=col>n</th><th scope=col>pi[1]</th><th scope=col>pi[2]</th><th scope=col>Sigma[1,1]</th><th scope=col>Sigma[1,2]</th><th scope=col>Sigma[2,1]</th><th scope=col>Sigma[2,2]</th><th scope=col>rg.c</th><th scope=col>rg.l</th><th scope=col>rg.u</th><th scope=col>hf.c</th><th scope=col>hf.l</th><th scope=col>hf.u</th><th scope=col>hm.c</th><th scope=col>hm.l</th><th scope=col>hm.u</th></tr></thead>\n",
       "<tbody>\n",
       "\t<tr><td>eGFR             </td><td>biomarker        </td><td>eGFR             </td><td>186055           </td><td>0.809403         </td><td>0.190597         </td><td>4.8273e-05       </td><td>4.210828e-05     </td><td>4.210828e-05     </td><td>4.354333e-05     </td><td>0.9185215        </td><td>0.8993869        </td><td>0.9380572        </td><td>0.215340595195289</td><td>0.201009248881113</td><td>0.226333726211856</td><td>0.173998666689131</td><td>0.175667252341022</td><td>0.180281674505046</td></tr>\n",
       "</tbody>\n",
       "</table>\n"
      ],
      "text/latex": [
       "\\begin{tabular}{r|lllllllllllllllllll}\n",
       " trait & category & variable\\_name & n & pi{[}1{]} & pi{[}2{]} & Sigma{[}1,1{]} & Sigma{[}1,2{]} & Sigma{[}2,1{]} & Sigma{[}2,2{]} & rg.c & rg.l & rg.u & hf.c & hf.l & hf.u & hm.c & hm.l & hm.u\\\\\n",
       "\\hline\n",
       "\t eGFR              & biomarker         & eGFR              & 186055            & 0.809403          & 0.190597          & 4.8273e-05        & 4.210828e-05      & 4.210828e-05      & 4.354333e-05      & 0.9185215         & 0.8993869         & 0.9380572         & 0.215340595195289 & 0.201009248881113 & 0.226333726211856 & 0.173998666689131 & 0.175667252341022 & 0.180281674505046\\\\\n",
       "\\end{tabular}\n"
      ],
      "text/markdown": [
       "\n",
       "trait | category | variable_name | n | pi[1] | pi[2] | Sigma[1,1] | Sigma[1,2] | Sigma[2,1] | Sigma[2,2] | rg.c | rg.l | rg.u | hf.c | hf.l | hf.u | hm.c | hm.l | hm.u | \n",
       "|---|\n",
       "| eGFR              | biomarker         | eGFR              | 186055            | 0.809403          | 0.190597          | 4.8273e-05        | 4.210828e-05      | 4.210828e-05      | 4.354333e-05      | 0.9185215         | 0.8993869         | 0.9380572         | 0.215340595195289 | 0.201009248881113 | 0.226333726211856 | 0.173998666689131 | 0.175667252341022 | 0.180281674505046 | \n",
       "\n",
       "\n"
      ],
      "text/plain": [
       "  trait category  variable_name n      pi[1]    pi[2]    Sigma[1,1]\n",
       "1 eGFR  biomarker eGFR          186055 0.809403 0.190597 4.8273e-05\n",
       "  Sigma[1,2]   Sigma[2,1]   Sigma[2,2]   rg.c      rg.l      rg.u     \n",
       "1 4.210828e-05 4.210828e-05 4.354333e-05 0.9185215 0.8993869 0.9380572\n",
       "  hf.c              hf.l              hf.u              hm.c             \n",
       "1 0.215340595195289 0.201009248881113 0.226333726211856 0.173998666689131\n",
       "  hm.l              hm.u             \n",
       "1 0.175667252341022 0.180281674505046"
      ]
     },
     "metadata": {},
     "output_type": "display_data"
    }
   ],
   "source": [
    "bad_ci <- m1_full %>% filter(\n",
    "hf.u < hf.c |\n",
    "hf.c < hf.l |\n",
    "hm.u < hm.c |\n",
    "hm.c < hm.l) \n",
    "dim(bad_ci)\n",
    "bad_ci2 <- bad_ci %>% filter(!hf.u < hf.l & ! hm.u < hm.l)\n",
    "bad_ci2\n",
    "\n",
    "m1_filt <- m1_full\n",
    "hmc <- m1_filt[m1_filt$trait==\"eGFR\",]$hm.c \n",
    "hml <- m1_filt[m1_filt$trait==\"eGFR\",]$hm.l\n",
    "\n",
    "m1_filt[m1_filt$trait==\"eGFR\",]$hm.c <- hml\n",
    "m1_filt[m1_filt$trait==\"eGFR\",]$hm.l <- hmc\n"
   ]
  },
  {
   "cell_type": "code",
   "execution_count": 16,
   "metadata": {},
   "outputs": [
    {
     "data": {
      "text/html": [
       "34"
      ],
      "text/latex": [
       "34"
      ],
      "text/markdown": [
       "34"
      ],
      "text/plain": [
       "[1] 34"
      ]
     },
     "metadata": {},
     "output_type": "display_data"
    }
   ],
   "source": [
    "biomarkers.poor <- c(\"Oestradiol\", \"Fasting_glucose\", \"Microalbumin_in_urine\", \"Rheumatoid_factor\")\n",
    "m1_filt <- m1_full %>% filter(!variable_name %in% biomarkers.poor)\n",
    "length(unique(m1_filt$variable_name))"
   ]
  },
  {
   "cell_type": "markdown",
   "metadata": {},
   "source": [
    "### PLOTTING NOW"
   ]
  },
  {
   "cell_type": "code",
   "execution_count": 17,
   "metadata": {},
   "outputs": [
    {
     "data": {
      "text/html": [
       "<table>\n",
       "<thead><tr><th scope=col>trait</th><th scope=col>category</th><th scope=col>variable_name</th><th scope=col>n</th><th scope=col>pi[1]</th><th scope=col>pi[2]</th><th scope=col>Sigma[1,1]</th><th scope=col>Sigma[1,2]</th><th scope=col>Sigma[2,1]</th><th scope=col>Sigma[2,2]</th><th scope=col>rg.c</th><th scope=col>rg.l</th><th scope=col>rg.u</th><th scope=col>hf.c</th><th scope=col>hf.l</th><th scope=col>hf.u</th><th scope=col>hm.c</th><th scope=col>hm.l</th><th scope=col>hm.u</th></tr></thead>\n",
       "<tbody>\n",
       "\t<tr><td>30610               </td><td>biomarker           </td><td>Alkaline_phosphatase</td><td>185835              </td><td>0.9919450           </td><td>0.0080549937        </td><td>0.0092690054        </td><td>0.0105080142        </td><td>0.0105080142        </td><td>0.011945614         </td><td>0.9986591           </td><td>0.9981819           </td><td>0.9990334           </td><td>0.18495289237796    </td><td>0.154888652869398   </td><td>0.213670592464987   </td><td>0.196016606676001   </td><td>0.167148558609726   </td><td>0.234350510189517   </td></tr>\n",
       "\t<tr><td>30640               </td><td>biomarker           </td><td>Apolipoprotein_B    </td><td>185793              </td><td>0.9913960           </td><td>0.0086039865        </td><td>0.0014096421        </td><td>0.0011813215        </td><td>0.0011813215        </td><td>0.001015093         </td><td>0.9875976           </td><td>0.9830573           </td><td>0.9915109           </td><td>0.0915667326916914  </td><td>0.0765811670665453  </td><td>0.106311805681689   </td><td>0.0604904244938026  </td><td>0.0499037389802593  </td><td>0.0672680622570202  </td></tr>\n",
       "\t<tr><td>30660               </td><td>biomarker           </td><td>Direct_bilirubin    </td><td>184755              </td><td>0.9981770           </td><td>0.0018230252        </td><td>0.0090162621        </td><td>0.0088131271        </td><td>0.0088131271        </td><td>0.008676078         </td><td>0.9964994           </td><td>0.9946432           </td><td>0.9979949           </td><td>0.0330915812509303  </td><td>0.027456956100671   </td><td>0.0350610876822557  </td><td>0.0311158299813006  </td><td>0.0267916308395546  </td><td>0.0339019097184237  </td></tr>\n",
       "\t<tr><td>30780               </td><td>biomarker           </td><td>LDL_direct          </td><td>185866              </td><td>0.9906170           </td><td>0.0093830058        </td><td>0.0009594104        </td><td>0.0007407035        </td><td>0.0007407035        </td><td>0.000598921         </td><td>0.9771746           </td><td>0.9684706           </td><td>0.9840960           </td><td>0.102747014553716   </td><td>0.0830414471062926  </td><td>0.121965615909705   </td><td>0.0579119095587373  </td><td>0.0462190596988514  </td><td>0.069132222229162   </td></tr>\n",
       "\t<tr><td>30790               </td><td>biomarker           </td><td>Lipoprotein_A       </td><td>184054              </td><td>0.9992051           </td><td>0.0007949098        </td><td>0.0790652957        </td><td>0.0779270863        </td><td>0.0779270863        </td><td>0.077398559         </td><td>0.9961706           </td><td>0.9934165           </td><td>0.9979622           </td><td>0.0549515146607531  </td><td>0.0364861255785844  </td><td>0.0827239355098562  </td><td>0.04373657954773    </td><td>0.0297278293406762  </td><td>0.0651990833173467  </td></tr>\n",
       "\t<tr><td>30840               </td><td>biomarker           </td><td>Total_bilirubin     </td><td>185769              </td><td>0.9968331           </td><td>0.0031668897        </td><td>0.0067545100        </td><td>0.0066787923        </td><td>0.0066787923        </td><td>0.006621970         </td><td>0.9986612           </td><td>0.9978405           </td><td>0.9993305           </td><td>0.0475403078229668  </td><td>0.0471860169667326  </td><td>0.0642871891072465  </td><td>0.0422981642152302  </td><td>0.039468419837877   </td><td>0.0558649574903968  </td></tr>\n",
       "</tbody>\n",
       "</table>\n"
      ],
      "text/latex": [
       "\\begin{tabular}{r|lllllllllllllllllll}\n",
       " trait & category & variable\\_name & n & pi{[}1{]} & pi{[}2{]} & Sigma{[}1,1{]} & Sigma{[}1,2{]} & Sigma{[}2,1{]} & Sigma{[}2,2{]} & rg.c & rg.l & rg.u & hf.c & hf.l & hf.u & hm.c & hm.l & hm.u\\\\\n",
       "\\hline\n",
       "\t 30610                  & biomarker              & Alkaline\\_phosphatase & 185835                 & 0.9919450              & 0.0080549937           & 0.0092690054           & 0.0105080142           & 0.0105080142           & 0.011945614            & 0.9986591              & 0.9981819              & 0.9990334              & 0.18495289237796       & 0.154888652869398      & 0.213670592464987      & 0.196016606676001      & 0.167148558609726      & 0.234350510189517     \\\\\n",
       "\t 30640                  & biomarker              & Apolipoprotein\\_B     & 185793                 & 0.9913960              & 0.0086039865           & 0.0014096421           & 0.0011813215           & 0.0011813215           & 0.001015093            & 0.9875976              & 0.9830573              & 0.9915109              & 0.0915667326916914     & 0.0765811670665453     & 0.106311805681689      & 0.0604904244938026     & 0.0499037389802593     & 0.0672680622570202    \\\\\n",
       "\t 30660                  & biomarker              & Direct\\_bilirubin     & 184755                 & 0.9981770              & 0.0018230252           & 0.0090162621           & 0.0088131271           & 0.0088131271           & 0.008676078            & 0.9964994              & 0.9946432              & 0.9979949              & 0.0330915812509303     & 0.027456956100671      & 0.0350610876822557     & 0.0311158299813006     & 0.0267916308395546     & 0.0339019097184237    \\\\\n",
       "\t 30780                  & biomarker              & LDL\\_direct           & 185866                 & 0.9906170              & 0.0093830058           & 0.0009594104           & 0.0007407035           & 0.0007407035           & 0.000598921            & 0.9771746              & 0.9684706              & 0.9840960              & 0.102747014553716      & 0.0830414471062926     & 0.121965615909705      & 0.0579119095587373     & 0.0462190596988514     & 0.069132222229162     \\\\\n",
       "\t 30790                  & biomarker              & Lipoprotein\\_A        & 184054                 & 0.9992051              & 0.0007949098           & 0.0790652957           & 0.0779270863           & 0.0779270863           & 0.077398559            & 0.9961706              & 0.9934165              & 0.9979622              & 0.0549515146607531     & 0.0364861255785844     & 0.0827239355098562     & 0.04373657954773       & 0.0297278293406762     & 0.0651990833173467    \\\\\n",
       "\t 30840                  & biomarker              & Total\\_bilirubin      & 185769                 & 0.9968331              & 0.0031668897           & 0.0067545100           & 0.0066787923           & 0.0066787923           & 0.006621970            & 0.9986612              & 0.9978405              & 0.9993305              & 0.0475403078229668     & 0.0471860169667326     & 0.0642871891072465     & 0.0422981642152302     & 0.039468419837877      & 0.0558649574903968    \\\\\n",
       "\\end{tabular}\n"
      ],
      "text/markdown": [
       "\n",
       "trait | category | variable_name | n | pi[1] | pi[2] | Sigma[1,1] | Sigma[1,2] | Sigma[2,1] | Sigma[2,2] | rg.c | rg.l | rg.u | hf.c | hf.l | hf.u | hm.c | hm.l | hm.u | \n",
       "|---|---|---|---|---|---|\n",
       "| 30610                | biomarker            | Alkaline_phosphatase | 185835               | 0.9919450            | 0.0080549937         | 0.0092690054         | 0.0105080142         | 0.0105080142         | 0.011945614          | 0.9986591            | 0.9981819            | 0.9990334            | 0.18495289237796     | 0.154888652869398    | 0.213670592464987    | 0.196016606676001    | 0.167148558609726    | 0.234350510189517    | \n",
       "| 30640                | biomarker            | Apolipoprotein_B     | 185793               | 0.9913960            | 0.0086039865         | 0.0014096421         | 0.0011813215         | 0.0011813215         | 0.001015093          | 0.9875976            | 0.9830573            | 0.9915109            | 0.0915667326916914   | 0.0765811670665453   | 0.106311805681689    | 0.0604904244938026   | 0.0499037389802593   | 0.0672680622570202   | \n",
       "| 30660                | biomarker            | Direct_bilirubin     | 184755               | 0.9981770            | 0.0018230252         | 0.0090162621         | 0.0088131271         | 0.0088131271         | 0.008676078          | 0.9964994            | 0.9946432            | 0.9979949            | 0.0330915812509303   | 0.027456956100671    | 0.0350610876822557   | 0.0311158299813006   | 0.0267916308395546   | 0.0339019097184237   | \n",
       "| 30780                | biomarker            | LDL_direct           | 185866               | 0.9906170            | 0.0093830058         | 0.0009594104         | 0.0007407035         | 0.0007407035         | 0.000598921          | 0.9771746            | 0.9684706            | 0.9840960            | 0.102747014553716    | 0.0830414471062926   | 0.121965615909705    | 0.0579119095587373   | 0.0462190596988514   | 0.069132222229162    | \n",
       "| 30790                | biomarker            | Lipoprotein_A        | 184054               | 0.9992051            | 0.0007949098         | 0.0790652957         | 0.0779270863         | 0.0779270863         | 0.077398559          | 0.9961706            | 0.9934165            | 0.9979622            | 0.0549515146607531   | 0.0364861255785844   | 0.0827239355098562   | 0.04373657954773     | 0.0297278293406762   | 0.0651990833173467   | \n",
       "| 30840                | biomarker            | Total_bilirubin      | 185769               | 0.9968331            | 0.0031668897         | 0.0067545100         | 0.0066787923         | 0.0066787923         | 0.006621970          | 0.9986612            | 0.9978405            | 0.9993305            | 0.0475403078229668   | 0.0471860169667326   | 0.0642871891072465   | 0.0422981642152302   | 0.039468419837877    | 0.0558649574903968   | \n",
       "\n",
       "\n"
      ],
      "text/plain": [
       "  trait category  variable_name        n      pi[1]     pi[2]       \n",
       "1 30610 biomarker Alkaline_phosphatase 185835 0.9919450 0.0080549937\n",
       "2 30640 biomarker Apolipoprotein_B     185793 0.9913960 0.0086039865\n",
       "3 30660 biomarker Direct_bilirubin     184755 0.9981770 0.0018230252\n",
       "4 30780 biomarker LDL_direct           185866 0.9906170 0.0093830058\n",
       "5 30790 biomarker Lipoprotein_A        184054 0.9992051 0.0007949098\n",
       "6 30840 biomarker Total_bilirubin      185769 0.9968331 0.0031668897\n",
       "  Sigma[1,1]   Sigma[1,2]   Sigma[2,1]   Sigma[2,2]  rg.c      rg.l     \n",
       "1 0.0092690054 0.0105080142 0.0105080142 0.011945614 0.9986591 0.9981819\n",
       "2 0.0014096421 0.0011813215 0.0011813215 0.001015093 0.9875976 0.9830573\n",
       "3 0.0090162621 0.0088131271 0.0088131271 0.008676078 0.9964994 0.9946432\n",
       "4 0.0009594104 0.0007407035 0.0007407035 0.000598921 0.9771746 0.9684706\n",
       "5 0.0790652957 0.0779270863 0.0779270863 0.077398559 0.9961706 0.9934165\n",
       "6 0.0067545100 0.0066787923 0.0066787923 0.006621970 0.9986612 0.9978405\n",
       "  rg.u      hf.c               hf.l               hf.u              \n",
       "1 0.9990334 0.18495289237796   0.154888652869398  0.213670592464987 \n",
       "2 0.9915109 0.0915667326916914 0.0765811670665453 0.106311805681689 \n",
       "3 0.9979949 0.0330915812509303 0.027456956100671  0.0350610876822557\n",
       "4 0.9840960 0.102747014553716  0.0830414471062926 0.121965615909705 \n",
       "5 0.9979622 0.0549515146607531 0.0364861255785844 0.0827239355098562\n",
       "6 0.9993305 0.0475403078229668 0.0471860169667326 0.0642871891072465\n",
       "  hm.c               hm.l               hm.u              \n",
       "1 0.196016606676001  0.167148558609726  0.234350510189517 \n",
       "2 0.0604904244938026 0.0499037389802593 0.0672680622570202\n",
       "3 0.0311158299813006 0.0267916308395546 0.0339019097184237\n",
       "4 0.0579119095587373 0.0462190596988514 0.069132222229162 \n",
       "5 0.04373657954773   0.0297278293406762 0.0651990833173467\n",
       "6 0.0422981642152302 0.039468419837877  0.0558649574903968"
      ]
     },
     "metadata": {},
     "output_type": "display_data"
    }
   ],
   "source": [
    "# what are the pis ?\n",
    "m1_filt%>% filter(`pi[1]` > 0.99) # should we remove these?"
   ]
  },
  {
   "cell_type": "code",
   "execution_count": 18,
   "metadata": {},
   "outputs": [
    {
     "data": {},
     "metadata": {},
     "output_type": "display_data"
    },
    {
     "data": {
      "image/png": "[encoded data removed]",
      "text/plain": [
       "plot without title"
      ]
     },
     "metadata": {},
     "output_type": "display_data"
    }
   ],
   "source": [
    "ggplot(m1_filt, aes(x=`pi[1]`, y=`rg.c`))+geom_point()"
   ]
  },
  {
   "cell_type": "code",
   "execution_count": 19,
   "metadata": {},
   "outputs": [
    {
     "name": "stderr",
     "output_type": "stream",
     "text": [
      "`stat_bin()` using `bins = 30`. Pick better value with `binwidth`.\n"
     ]
    },
    {
     "data": {},
     "metadata": {},
     "output_type": "display_data"
    },
    {
     "data": {
      "image/png": "[encoded data removed]",
      "text/plain": [
       "plot without title"
      ]
     },
     "metadata": {},
     "output_type": "display_data"
    }
   ],
   "source": [
    "ggplot(m1_filt, aes(x=`pi[1]`))+geom_histogram()"
   ]
  },
  {
   "cell_type": "code",
   "execution_count": 20,
   "metadata": {},
   "outputs": [
    {
     "data": {},
     "metadata": {},
     "output_type": "display_data"
    },
    {
     "data": {
      "image/png": "[encoded data removed]",
      "text/plain": [
       "plot without title"
      ]
     },
     "metadata": {},
     "output_type": "display_data"
    }
   ],
   "source": [
    "# plot the pis\n",
    "# plot the genetic correlations\n",
    "\n",
    "m1_filt <- m1_filt %>% mutate(variable_name=str_replace_all(variable_name, \"_\", \" \"))\n",
    "ggplot(m1_filt, aes(x=variable_name, y=rg.c))+geom_errorbar(aes(ymin=rg.l, ymax=rg.u)) + \n",
    "theme(axis.text.x=element_text(angle=90,hjust=1, vjust=0.5)) +ylab(\"Genetic Correlation\")+xlab(\"Trait\") + \n",
    "facet_grid(. ~ category,  scales=\"free\", space=\"free\")"
   ]
  },
  {
   "cell_type": "code",
   "execution_count": 21,
   "metadata": {
    "collapsed": true
   },
   "outputs": [],
   "source": [
    "m1_full2 <- m1_filt %>% select(variable_name, category, c('hf.c','hm.c', 'hf.l', 'hf.u' ,'hm.l' ,'hm.u')) %>% \n",
    "gather(key=\"h_type\", value=\"val\", -variable_name, -category) \n",
    "m1_full2$sex <-sapply(m1_full2$h_type, function(x) strsplit(as.character(x), \".\", fixed=TRUE)[[1]][[1]])\n",
    "m1_full2$int <- sapply(m1_full2$h_type, function(x) strsplit(as.character(x), \".\", fixed=TRUE)[[1]][[2]])\n",
    "m1_full3 <- m1_full2 %>% select(-h_type) %>% unique() %>% filter(!is.na(val)) %>% mutate(val=as.numeric(val)) \n"
   ]
  },
  {
   "cell_type": "code",
   "execution_count": 22,
   "metadata": {},
   "outputs": [
    {
     "name": "stderr",
     "output_type": "stream",
     "text": [
      "Warning message in .fun(.value[0], ...):\n",
      "“no non-missing arguments to min; returning Inf”"
     ]
    }
   ],
   "source": [
    "\n",
    "m1_full4 <- dcast(m1_full3, variable_name + category + sex ~ int, value.var=\"val\", fun.aggregate = min, na.rm = TRUE)"
   ]
  },
  {
   "cell_type": "code",
   "execution_count": 23,
   "metadata": {
    "collapsed": true
   },
   "outputs": [],
   "source": [
    "herit_df <- m1_full4 %>% rename(mid=c, low=l, up=u)  %>% \n",
    "mutate(sex=ifelse(sex==\"hf\", \"female\", ifelse(sex==\"hm\", \"male\", NA))) %>%\n",
    "mutate(variable_name=str_replace_all(variable_name, \"_\", \" \"))"
   ]
  },
  {
   "cell_type": "code",
   "execution_count": 24,
   "metadata": {},
   "outputs": [
    {
     "data": {},
     "metadata": {},
     "output_type": "display_data"
    },
    {
     "data": {
      "image/png": "[encoded data removed]",
      "text/plain": [
       "plot without title"
      ]
     },
     "metadata": {},
     "output_type": "display_data"
    }
   ],
   "source": [
    "ggplot(filter(herit_df, category==\"biomarker\"), aes(x=variable_name, y=mid, fill=sex))+\n",
    "geom_bar(stat=\"identity\", position=position_dodge())+\n",
    "geom_errorbar(aes(ymin=low, ymax=up), position=position_dodge(0.9), color=\"black\", width=0.5) + \n",
    "theme(axis.text.x=element_text(angle=90,hjust=1, vjust=0.5),\n",
    "     axis.title.x = element_text(margin = margin(t = 0, r = 0, b = 10, l = 0))) +ylab(\"Heritability\")+xlab(\"Trait\") + \n",
    "facet_grid(. ~ category,  scales=\"free\", space=\"free\")"
   ]
  },
  {
   "cell_type": "code",
   "execution_count": 31,
   "metadata": {},
   "outputs": [
    {
     "data": {
      "text/html": [
       "<table>\n",
       "<thead><tr><th scope=col>trait</th><th scope=col>category</th><th scope=col>variable_name</th><th scope=col>n</th><th scope=col>pi[1]</th><th scope=col>pi[2]</th><th scope=col>Sigma[1,1]</th><th scope=col>Sigma[1,2]</th><th scope=col>Sigma[2,1]</th><th scope=col>Sigma[2,2]</th><th scope=col>rg.c</th><th scope=col>rg.l</th><th scope=col>rg.u</th><th scope=col>hf.c</th><th scope=col>hf.l</th><th scope=col>hf.u</th><th scope=col>hm.c</th><th scope=col>hm.l</th><th scope=col>hm.u</th></tr></thead>\n",
       "<tbody>\n",
       "\t<tr><td>30620                     </td><td>biomarker                 </td><td>Alanine_aminotransferase  </td><td>185830                    </td><td>0.9278233                 </td><td>0.07217668                </td><td>7.171212e-05              </td><td>6.934385e-05              </td><td>6.934385e-05              </td><td>8.026258e-05              </td><td>0.9140675                 </td><td>0.8918961                 </td><td>0.9357448                 </td><td>NA                        </td><td>NA                        </td><td>NA                        </td><td>NA                        </td><td>NA                        </td><td>NA                        </td></tr>\n",
       "\t<tr><td>30650                     </td><td>biomarker                 </td><td>Aspartate_aminotransferase</td><td>185808                    </td><td>0.9434305                 </td><td>0.05656945                </td><td>1.297883e-04              </td><td>1.244600e-04              </td><td>1.244600e-04              </td><td>1.263416e-04              </td><td>0.9720029                 </td><td>0.9595379                 </td><td>0.9840022                 </td><td>NA                        </td><td>NA                        </td><td>NA                        </td><td>NA                        </td><td>NA                        </td><td>NA                        </td></tr>\n",
       "</tbody>\n",
       "</table>\n"
      ],
      "text/latex": [
       "\\begin{tabular}{r|lllllllllllllllllll}\n",
       " trait & category & variable\\_name & n & pi{[}1{]} & pi{[}2{]} & Sigma{[}1,1{]} & Sigma{[}1,2{]} & Sigma{[}2,1{]} & Sigma{[}2,2{]} & rg.c & rg.l & rg.u & hf.c & hf.l & hf.u & hm.c & hm.l & hm.u\\\\\n",
       "\\hline\n",
       "\t 30620                        & biomarker                    & Alanine\\_aminotransferase   & 185830                       & 0.9278233                    & 0.07217668                   & 7.171212e-05                 & 6.934385e-05                 & 6.934385e-05                 & 8.026258e-05                 & 0.9140675                    & 0.8918961                    & 0.9357448                    & NA                           & NA                           & NA                           & NA                           & NA                           & NA                          \\\\\n",
       "\t 30650                        & biomarker                    & Aspartate\\_aminotransferase & 185808                       & 0.9434305                    & 0.05656945                   & 1.297883e-04                 & 1.244600e-04                 & 1.244600e-04                 & 1.263416e-04                 & 0.9720029                    & 0.9595379                    & 0.9840022                    & NA                           & NA                           & NA                           & NA                           & NA                           & NA                          \\\\\n",
       "\\end{tabular}\n"
      ],
      "text/markdown": [
       "\n",
       "trait | category | variable_name | n | pi[1] | pi[2] | Sigma[1,1] | Sigma[1,2] | Sigma[2,1] | Sigma[2,2] | rg.c | rg.l | rg.u | hf.c | hf.l | hf.u | hm.c | hm.l | hm.u | \n",
       "|---|---|\n",
       "| 30620                      | biomarker                  | Alanine_aminotransferase   | 185830                     | 0.9278233                  | 0.07217668                 | 7.171212e-05               | 6.934385e-05               | 6.934385e-05               | 8.026258e-05               | 0.9140675                  | 0.8918961                  | 0.9357448                  | NA                         | NA                         | NA                         | NA                         | NA                         | NA                         | \n",
       "| 30650                      | biomarker                  | Aspartate_aminotransferase | 185808                     | 0.9434305                  | 0.05656945                 | 1.297883e-04               | 1.244600e-04               | 1.244600e-04               | 1.263416e-04               | 0.9720029                  | 0.9595379                  | 0.9840022                  | NA                         | NA                         | NA                         | NA                         | NA                         | NA                         | \n",
       "\n",
       "\n"
      ],
      "text/plain": [
       "  trait category  variable_name              n      pi[1]     pi[2]     \n",
       "1 30620 biomarker Alanine_aminotransferase   185830 0.9278233 0.07217668\n",
       "2 30650 biomarker Aspartate_aminotransferase 185808 0.9434305 0.05656945\n",
       "  Sigma[1,1]   Sigma[1,2]   Sigma[2,1]   Sigma[2,2]   rg.c      rg.l     \n",
       "1 7.171212e-05 6.934385e-05 6.934385e-05 8.026258e-05 0.9140675 0.8918961\n",
       "2 1.297883e-04 1.244600e-04 1.244600e-04 1.263416e-04 0.9720029 0.9595379\n",
       "  rg.u      hf.c hf.l hf.u hm.c hm.l hm.u\n",
       "1 0.9357448 NA   NA   NA   NA   NA   NA  \n",
       "2 0.9840022 NA   NA   NA   NA   NA   NA  "
      ]
     },
     "metadata": {},
     "output_type": "display_data"
    }
   ],
   "source": [
    "# Alanine aminotransferase\n",
    "BIOMARKER.DIR <- \"../../data/1015/m1/\"\n",
    "m1_full %>% filter(str_detect(variable_name, \"aminotransferase\"))\n"
   ]
  },
  {
   "cell_type": "code",
   "execution_count": 58,
   "metadata": {
    "collapsed": true
   },
   "outputs": [],
   "source": [
    "#load(\"../../data/1015/m1/f_Alanine_aminotransferase.RData\")\n",
    "load(\"../../data/1015/m1/f_Aspartate_aminotransferase.RData\")"
   ]
  },
  {
   "cell_type": "code",
   "execution_count": 59,
   "metadata": {},
   "outputs": [
    {
     "name": "stdout",
     "output_type": "stream",
     "text": [
      "Inference for Stan model: model1_no_loglik.\n",
      "4 chains, each with iter=600; warmup=200; thin=1; \n",
      "post-warmup draws per chain=400, total post-warmup draws=1600.\n",
      "\n",
      "                 mean se_mean      sd    2.5%     50%   97.5% n_eff    Rhat\n",
      "Omegacor[1,1] 1.00000 0.00000 0.00000 1.00000 1.00000 1.00000  1600     NaN\n",
      "Omegacor[1,2] 0.97200 0.00021 0.00634 0.95954 0.97198 0.98400   888 1.00435\n",
      "Omegacor[2,1] 0.97200 0.00021 0.00634 0.95954 0.97198 0.98400   888 1.00435\n",
      "Omegacor[2,2] 1.00000 0.00000 0.00000 1.00000 1.00000 1.00000  1600     NaN\n",
      "pi[1]         0.94343 0.00008 0.00227 0.93875 0.94345 0.94770   740 1.00444\n",
      "pi[2]         0.05657 0.00008 0.00227 0.05230 0.05655 0.06125   740 1.00444\n",
      "\n",
      "Samples were drawn using NUTS(diag_e) at Tue Oct 15 21:02:56 2019.\n",
      "For each parameter, n_eff is a crude measure of effective sample size,\n",
      "and Rhat is the potential scale reduction factor on split chains (at \n",
      "convergence, Rhat=1).\n"
     ]
    },
    {
     "data": {},
     "metadata": {},
     "output_type": "display_data"
    },
    {
     "data": {
      "image/png": "[encoded data removed]",
      "text/plain": [
       "plot without title"
      ]
     },
     "metadata": {},
     "output_type": "display_data"
    }
   ],
   "source": [
    "require('rstan')\n",
    "print(fit1, pars=c(\"Omegacor\", \"pi\"), probs=c(0.025, 0.5, 0.975), digits_summary=5)\n",
    "options(repr.plot.width=8, repr.plot.height=6)\n",
    "traceplot(fit1, pars = c(\"Omegacor\", \"pi\"), inc_warmup = TRUE, nrow = 2)"
   ]
  },
  {
   "cell_type": "code",
   "execution_count": 61,
   "metadata": {
    "collapsed": true
   },
   "outputs": [],
   "source": [
    "source(\"../../mixture_model_scripts/model_utils.R\")   \n",
    "\n",
    "source(\"../../mixture_model_scripts/heritability_utils.R\")  \n",
    "load(\"../../data/1015/dat_Aspartate_aminotransferase.RData\")\n",
    "\n",
    "ndim <- 2\n",
    "m1.pi <- getPi(fit1)\n",
    "    m1.Sigma <- getSigmaMulti(fit1, ndim)\n",
    "    rg <- getRgMulti(fit1, ndim)\n",
    "    rg.c <- getRgConfMulti(fit1, ndim)\n",
    "\n",
    "\n",
    "    # assign each SNP to a component, estimate heritability\n",
    "    dat <- labelCategories(dat, m1.Sigma, m1.pi) # label the SNPs with heritability\n",
    "    h <- overallHeritability(dat, m1.Sigma, m1.pi)\n",
    " "
   ]
  },
  {
   "cell_type": "code",
   "execution_count": 62,
   "metadata": {},
   "outputs": [
    {
     "data": {
      "text/plain": [
       "\n",
       "     1      2 \n",
       "184470   1337 "
      ]
     },
     "metadata": {},
     "output_type": "display_data"
    }
   ],
   "source": [
    "table(dat$categories)"
   ]
  },
  {
   "cell_type": "code",
   "execution_count": 63,
   "metadata": {},
   "outputs": [
    {
     "data": {
      "text/html": [
       "<ol class=list-inline>\n",
       "\t<li>&lt;NA&gt;</li>\n",
       "\t<li>&lt;NA&gt;</li>\n",
       "</ol>\n"
      ],
      "text/latex": [
       "\\begin{enumerate*}\n",
       "\\item <NA>\n",
       "\\item <NA>\n",
       "\\end{enumerate*}\n"
      ],
      "text/markdown": [
       "1. &lt;NA&gt;\n",
       "2. &lt;NA&gt;\n",
       "\n",
       "\n"
      ],
      "text/plain": [
       "[1] NA NA"
      ]
     },
     "metadata": {},
     "output_type": "display_data"
    }
   ],
   "source": [
    "h"
   ]
  },
  {
   "cell_type": "code",
   "execution_count": 64,
   "metadata": {},
   "outputs": [
    {
     "data": {
      "text/html": [
       "<table>\n",
       "<tbody>\n",
       "\t<tr><td>4.022540e-05</td><td>4.712136e-05</td></tr>\n",
       "\t<tr><td>2.188060e-05</td><td>1.276483e-05</td></tr>\n",
       "\t<tr><td>1.252502e-05</td><td>7.285303e-06</td></tr>\n",
       "\t<tr><td>1.564234e-05</td><td>9.029604e-06</td></tr>\n",
       "\t<tr><td>9.737131e-05</td><td>5.642624e-05</td></tr>\n",
       "\t<tr><td>1.401596e-04</td><td>8.055386e-05</td></tr>\n",
       "</tbody>\n",
       "</table>\n"
      ],
      "text/latex": [
       "\\begin{tabular}{ll}\n",
       "\t 4.022540e-05 & 4.712136e-05\\\\\n",
       "\t 2.188060e-05 & 1.276483e-05\\\\\n",
       "\t 1.252502e-05 & 7.285303e-06\\\\\n",
       "\t 1.564234e-05 & 9.029604e-06\\\\\n",
       "\t 9.737131e-05 & 5.642624e-05\\\\\n",
       "\t 1.401596e-04 & 8.055386e-05\\\\\n",
       "\\end{tabular}\n"
      ],
      "text/markdown": [
       "\n",
       "| 4.022540e-05 | 4.712136e-05 | \n",
       "| 2.188060e-05 | 1.276483e-05 | \n",
       "| 1.252502e-05 | 7.285303e-06 | \n",
       "| 1.564234e-05 | 9.029604e-06 | \n",
       "| 9.737131e-05 | 5.642624e-05 | \n",
       "| 1.401596e-04 | 8.055386e-05 | \n",
       "\n",
       "\n"
      ],
      "text/plain": [
       "     [,1]         [,2]        \n",
       "[1,] 4.022540e-05 4.712136e-05\n",
       "[2,] 2.188060e-05 1.276483e-05\n",
       "[3,] 1.252502e-05 7.285303e-06\n",
       "[4,] 1.564234e-05 9.029604e-06\n",
       "[5,] 9.737131e-05 5.642624e-05\n",
       "[6,] 1.401596e-04 8.055386e-05"
      ]
     },
     "metadata": {},
     "output_type": "display_data"
    },
    {
     "data": {
      "text/html": [
       "0.00982366863133319"
      ],
      "text/latex": [
       "0.00982366863133319"
      ],
      "text/markdown": [
       "0.00982366863133319"
      ],
      "text/plain": [
       "[1] 0.009823669"
      ]
     },
     "metadata": {},
     "output_type": "display_data"
    },
    {
     "data": {
      "text/html": [
       "0.00982366863133319"
      ],
      "text/latex": [
       "0.00982366863133319"
      ],
      "text/markdown": [
       "0.00982366863133319"
      ],
      "text/plain": [
       "[1] 0.009823669"
      ]
     },
     "metadata": {},
     "output_type": "display_data"
    },
    {
     "data": {
      "text/html": [
       "0.0637698330665294"
      ],
      "text/latex": [
       "0.0637698330665294"
      ],
      "text/markdown": [
       "0.0637698330665294"
      ],
      "text/plain": [
       "[1] 0.06376983"
      ]
     },
     "metadata": {},
     "output_type": "display_data"
    },
    {
     "data": {
      "text/html": [
       "829"
      ],
      "text/latex": [
       "829"
      ],
      "text/markdown": [
       "829"
      ],
      "text/plain": [
       "[1] 829"
      ]
     },
     "metadata": {},
     "output_type": "display_data"
    },
    {
     "data": {
      "text/html": [],
      "text/latex": [],
      "text/markdown": [],
      "text/plain": [
       "integer(0)"
      ]
     },
     "metadata": {},
     "output_type": "display_data"
    }
   ],
   "source": [
    "se.p2 <- dat$dat$SE[dat$categories==2,]\n",
    "head(se.p2)\n",
    "\n",
    "idx <- 1\n",
    "    n <- nrow(se.p2)\n",
    "    num_i <- n*(m1.pi[2])*m1.Sigma[idx,idx]\n",
    "    num_i\n",
    "    h_i <- num_i/(num_i + sum(se.p2[,idx]))\n",
    "num_i\n",
    "sum(se.p2[,1], na.rm=TRUE)\n",
    "which(is.na(se.p2[,1]))\n",
    "which(is.na(dat$dat$SE[,1]))"
   ]
  },
  {
   "cell_type": "code",
   "execution_count": 65,
   "metadata": {},
   "outputs": [
    {
     "data": {
      "text/html": [
       "109068"
      ],
      "text/latex": [
       "109068"
      ],
      "text/markdown": [
       "109068"
      ],
      "text/plain": [
       "[1] 109068"
      ]
     },
     "metadata": {},
     "output_type": "display_data"
    }
   ],
   "source": [
    "which(is.na(dat$posterior))"
   ]
  },
  {
   "cell_type": "code",
   "execution_count": 66,
   "metadata": {
    "collapsed": true
   },
   "outputs": [],
   "source": [
    "source(\"../../mixture_model_scripts/heritability_utils.R\")  \n"
   ]
  },
  {
   "cell_type": "code",
   "execution_count": 67,
   "metadata": {
    "collapsed": true
   },
   "outputs": [],
   "source": [
    "    h <- overallHeritability(dat, m1.Sigma, m1.pi)\n"
   ]
  },
  {
   "cell_type": "code",
   "execution_count": 68,
   "metadata": {},
   "outputs": [
    {
     "data": {
      "text/html": [
       "<ol class=list-inline>\n",
       "\t<li>0.133485544303411</li>\n",
       "\t<li>0.115667634454262</li>\n",
       "</ol>\n"
      ],
      "text/latex": [
       "\\begin{enumerate*}\n",
       "\\item 0.133485544303411\n",
       "\\item 0.115667634454262\n",
       "\\end{enumerate*}\n"
      ],
      "text/markdown": [
       "1. 0.133485544303411\n",
       "2. 0.115667634454262\n",
       "\n",
       "\n"
      ],
      "text/plain": [
       "[1] 0.1334855 0.1156676"
      ]
     },
     "metadata": {},
     "output_type": "display_data"
    }
   ],
   "source": [
    "h"
   ]
  },
  {
   "cell_type": "code",
   "execution_count": 69,
   "metadata": {},
   "outputs": [
    {
     "data": {
      "text/html": [
       "<table>\n",
       "<thead><tr><th scope=col>trait</th></tr></thead>\n",
       "<tbody>\n",
       "\t<tr><td>Aspartate_aminotransferase</td></tr>\n",
       "\t<tr><td>Alanine_aminotransferase  </td></tr>\n",
       "</tbody>\n",
       "</table>\n"
      ],
      "text/latex": [
       "\\begin{tabular}{r|l}\n",
       " trait\\\\\n",
       "\\hline\n",
       "\t Aspartate\\_aminotransferase\\\\\n",
       "\t Alanine\\_aminotransferase  \\\\\n",
       "\\end{tabular}\n"
      ],
      "text/markdown": [
       "\n",
       "trait | \n",
       "|---|---|\n",
       "| Aspartate_aminotransferase | \n",
       "| Alanine_aminotransferase   | \n",
       "\n",
       "\n"
      ],
      "text/plain": [
       "  trait                     \n",
       "1 Aspartate_aminotransferase\n",
       "2 Alanine_aminotransferase  "
      ]
     },
     "metadata": {},
     "output_type": "display_data"
    },
    {
     "name": "stderr",
     "output_type": "stream",
     "text": [
      "Loading required package: rslurm\n"
     ]
    }
   ],
   "source": [
    "pars <- data.frame(\"trait\"=c(\"Aspartate_aminotransferase\", \"Alanine_aminotransferase\"))\n",
    "head(pars)\n",
    "require('rslurm')"
   ]
  },
  {
   "cell_type": "code",
   "execution_count": 72,
   "metadata": {},
   "outputs": [
    {
     "name": "stdout",
     "output_type": "stream",
     "text": [
      "[1] \"Files loaded\"\n"
     ]
    },
    {
     "name": "stderr",
     "output_type": "stream",
     "text": [
      "Warning message:\n",
      "“attributes are not identical across measure variables; they will be dropped”"
     ]
    },
    {
     "name": "stdout",
     "output_type": "stream",
     "text": [
      "                     trait    int sex             value\n",
      "1 Alanine_aminotransferase     up  hf 0.129366514913434\n",
      "2 Alanine_aminotransferase    low  hf  0.12622008640476\n",
      "3 Alanine_aminotransferase center  hf 0.144409589276355\n",
      "4 Alanine_aminotransferase     up  hm 0.123616350156913\n",
      "5 Alanine_aminotransferase    low  hm 0.125379633407472\n",
      "6 Alanine_aminotransferase center  hm 0.137972457297647\n"
     ]
    }
   ],
   "source": [
    "calcErrBarsHerit <- function(trait){\n",
    "    require('reshape2')\n",
    "    require('tidyverse')\n",
    "\n",
    "    DATA.FOLDER <- \"/scratch/PI/mrivas/users/erflynn/sex_div_gwas/data/1015/\"\n",
    "    fit.file=sprintf(\"%s/m1/f_%s.RData\", DATA.FOLDER, trait)\n",
    "\n",
    "        load(file=fit.file)\n",
    "        load(file=sprintf(\"%s/dat_%s.RData\", DATA.FOLDER, trait))\n",
    "print(\"Files loaded\")\n",
    "        # extract all estimate\n",
    "        list_of_draws <- rstan::extract(fit1)\n",
    "        pi.draws <- list_of_draws$pi\n",
    "        p <- pi.draws\n",
    "        s.draws <- list_of_draws$Sigma\n",
    "        Sigma <- s.draws\n",
    "\n",
    "        # extract lower + upper pi\n",
    "        ordered.p <- p[order(p[,2]),] # ordering p by the non-null component \n",
    "        p.lower <- ordered.p[0.025*nrow(ordered.p),]\n",
    "        p.upper <- ordered.p[0.975*nrow(ordered.p),]\n",
    "        p.center <- ordered.p[0.50*nrow(ordered.p),]\n",
    "    \n",
    "        # extract lower + upper sigma\n",
    "        ordered.S <- Sigma[order(Sigma[,1,1]),,]\n",
    "        s.upper <- ordered.S[0.975*dim(Sigma)[1],,]\n",
    "        s.lower <- ordered.S[0.025*dim(Sigma)[1],,]\n",
    "        s.center <- ordered.S[0.50*dim(Sigma)[1],,]\n",
    "\n",
    "        # recalculate SNP membership\n",
    "        dat2 <- dat\n",
    "        dat2$categories <- NULL\n",
    "        dat.u <- labelCategories(dat2, s.upper, p.upper)\n",
    "        dat.l <- labelCategories(dat2, s.lower, p.lower)\n",
    "        dat.c <- labelCategories(dat2, s.center, p.center)\n",
    "\n",
    "        h.up <- overallHeritability(dat.u, s.upper, p.upper)\n",
    "        h.low <- overallHeritability(dat.l, s.lower, p.lower)\n",
    "        h.center <- overallHeritability(dat.c, s.center, p.center)\n",
    "\n",
    "        res <- list(\"up\"=h.up, \"low\"=h.low, \"center\"=h.center)\n",
    "  \n",
    "        # reformat into data frame\n",
    "\n",
    "     my.df <- cbind(t(as.data.frame(res)), trait)\n",
    "        my.df2 <- data.frame(cbind(my.df, rownames(my.df)))\n",
    "\n",
    "    colnames(my.df2) <- c(\"hf\", \"hm\", \"trait\", \"int\")\n",
    "    my.df3 <- melt(my.df2, id.vars=c(\"trait\", \"int\"), variable.name=\"sex\")\n",
    "         rownames(my.df3) <- NULL\n",
    "    downsampled_str <- \"\"\n",
    "    print(my.df3)\n",
    "    write.table(my.df3, file=sprintf(\"%s/m1/h_err_%s_%s_%s.txt\", DATA.FOLDER, trait, ndim, downsampled_str), row.names=FALSE, quote=FALSE, sep=\"\\t\")\n",
    "    return(my.df3)\n",
    "    }\n",
    "res <- calcErrBarsHerit(\"Alanine_aminotransferase\")"
   ]
  },
  {
   "cell_type": "code",
   "execution_count": 73,
   "metadata": {},
   "outputs": [
    {
     "name": "stdout",
     "output_type": "stream",
     "text": [
      "[1] \"Files loaded\"\n"
     ]
    },
    {
     "name": "stderr",
     "output_type": "stream",
     "text": [
      "Warning message:\n",
      "“attributes are not identical across measure variables; they will be dropped”"
     ]
    },
    {
     "name": "stdout",
     "output_type": "stream",
     "text": [
      "                       trait    int sex             value\n",
      "1 Aspartate_aminotransferase     up  hf 0.149264206164536\n",
      "2 Aspartate_aminotransferase    low  hf 0.117999292533685\n",
      "3 Aspartate_aminotransferase center  hf 0.133118993031127\n",
      "4 Aspartate_aminotransferase     up  hm 0.126572988277549\n",
      "5 Aspartate_aminotransferase    low  hm 0.109063171631933\n",
      "6 Aspartate_aminotransferase center  hm 0.117120216302207\n"
     ]
    }
   ],
   "source": [
    "res2 <- calcErrBarsHerit(\"Aspartate_aminotransferase\")"
   ]
  },
  {
   "cell_type": "code",
   "execution_count": 3,
   "metadata": {},
   "outputs": [
    {
     "name": "stdout",
     "output_type": "stream",
     "text": [
      "[1] \"Files loaded\"\n"
     ]
    },
    {
     "data": {
      "text/html": [
       "<table>\n",
       "<tbody>\n",
       "\t<tr><td>0.8166088</td><td>0.1833912</td></tr>\n",
       "\t<tr><td>0.8036599</td><td>0.1963401</td></tr>\n",
       "\t<tr><td>0.8064788</td><td>0.1935212</td></tr>\n",
       "\t<tr><td>0.8210677</td><td>0.1789323</td></tr>\n",
       "\t<tr><td>0.8113427</td><td>0.1886573</td></tr>\n",
       "\t<tr><td>0.8091067</td><td>0.1908933</td></tr>\n",
       "</tbody>\n",
       "</table>\n"
      ],
      "text/latex": [
       "\\begin{tabular}{ll}\n",
       "\t 0.8166088 & 0.1833912\\\\\n",
       "\t 0.8036599 & 0.1963401\\\\\n",
       "\t 0.8064788 & 0.1935212\\\\\n",
       "\t 0.8210677 & 0.1789323\\\\\n",
       "\t 0.8113427 & 0.1886573\\\\\n",
       "\t 0.8091067 & 0.1908933\\\\\n",
       "\\end{tabular}\n"
      ],
      "text/markdown": [
       "\n",
       "| 0.8166088 | 0.1833912 | \n",
       "| 0.8036599 | 0.1963401 | \n",
       "| 0.8064788 | 0.1935212 | \n",
       "| 0.8210677 | 0.1789323 | \n",
       "| 0.8113427 | 0.1886573 | \n",
       "| 0.8091067 | 0.1908933 | \n",
       "\n",
       "\n"
      ],
      "text/plain": [
       "          \n",
       "iterations [,1]      [,2]     \n",
       "      [1,] 0.8166088 0.1833912\n",
       "      [2,] 0.8036599 0.1963401\n",
       "      [3,] 0.8064788 0.1935212\n",
       "      [4,] 0.8210677 0.1789323\n",
       "      [5,] 0.8113427 0.1886573\n",
       "      [6,] 0.8091067 0.1908933"
      ]
     },
     "metadata": {},
     "output_type": "display_data"
    },
    {
     "data": {
      "text/html": [
       "<ol class=list-inline>\n",
       "\t<li>4.97028025392483e-05</li>\n",
       "\t<li>4.63898013830788e-05</li>\n",
       "\t<li>4.8163164822138e-05</li>\n",
       "\t<li>5.21048021510369e-05</li>\n",
       "\t<li>4.77395667860062e-05</li>\n",
       "\t<li>4.84465876378253e-05</li>\n",
       "</ol>\n"
      ],
      "text/latex": [
       "\\begin{enumerate*}\n",
       "\\item 4.97028025392483e-05\n",
       "\\item 4.63898013830788e-05\n",
       "\\item 4.8163164822138e-05\n",
       "\\item 5.21048021510369e-05\n",
       "\\item 4.77395667860062e-05\n",
       "\\item 4.84465876378253e-05\n",
       "\\end{enumerate*}\n"
      ],
      "text/markdown": [
       "1. 4.97028025392483e-05\n",
       "2. 4.63898013830788e-05\n",
       "3. 4.8163164822138e-05\n",
       "4. 5.21048021510369e-05\n",
       "5. 4.77395667860062e-05\n",
       "6. 4.84465876378253e-05\n",
       "\n",
       "\n"
      ],
      "text/plain": [
       "[1] 4.970280e-05 4.638980e-05 4.816316e-05 5.210480e-05 4.773957e-05\n",
       "[6] 4.844659e-05"
      ]
     },
     "metadata": {},
     "output_type": "display_data"
    },
    {
     "data": {
      "text/html": [
       "<pre class=language-r><code>.Primitive(\"dim\")</code></pre>"
      ],
      "text/latex": [
       "\\begin{minted}{r}\n",
       ".Primitive(\"dim\")\n",
       "\\end{minted}"
      ],
      "text/markdown": [
       "```r\n",
       ".Primitive(\"dim\")\n",
       "```"
      ],
      "text/plain": [
       "function (x)  .Primitive(\"dim\")"
      ]
     },
     "metadata": {},
     "output_type": "display_data"
    }
   ],
   "source": [
    "\n",
    "require('rstan')\n",
    "trait <- \"eGFR\"\n",
    "DATA.FOLDER <- \"/scratch/PI/mrivas/users/erflynn/sex_div_gwas/data/1015/\"\n",
    "    fit.file=sprintf(\"%s/m1/f_%s.RData\", DATA.FOLDER, trait)\n",
    "\n",
    "        load(file=fit.file)\n",
    "        load(file=sprintf(\"%s/dat_%s.RData\", DATA.FOLDER, trait))\n",
    "print(\"Files loaded\")\n",
    "        # extract all estimate\n",
    "        list_of_draws <- rstan::extract(fit1)\n",
    "        pi.draws <- list_of_draws$pi\n",
    "        p <- pi.draws\n",
    "        s.draws <- list_of_draws$Sigma\n",
    "        Sigma <- s.draws\n",
    "\n",
    "        # extract lower + upper pi\n",
    "head(pi.draws)\n",
    "head(s.draws)\n"
   ]
  },
  {
   "cell_type": "code",
   "execution_count": 5,
   "metadata": {},
   "outputs": [
    {
     "data": {
      "text/html": [
       "<ol class=list-inline>\n",
       "\t<li>1600</li>\n",
       "\t<li>2</li>\n",
       "\t<li>2</li>\n",
       "</ol>\n"
      ],
      "text/latex": [
       "\\begin{enumerate*}\n",
       "\\item 1600\n",
       "\\item 2\n",
       "\\item 2\n",
       "\\end{enumerate*}\n"
      ],
      "text/markdown": [
       "1. 1600\n",
       "2. 2\n",
       "3. 2\n",
       "\n",
       "\n"
      ],
      "text/plain": [
       "[1] 1600    2    2"
      ]
     },
     "metadata": {},
     "output_type": "display_data"
    },
    {
     "data": {
      "text/html": [
       "<ol class=list-inline>\n",
       "\t<li>1600</li>\n",
       "\t<li>2</li>\n",
       "</ol>\n"
      ],
      "text/latex": [
       "\\begin{enumerate*}\n",
       "\\item 1600\n",
       "\\item 2\n",
       "\\end{enumerate*}\n"
      ],
      "text/markdown": [
       "1. 1600\n",
       "2. 2\n",
       "\n",
       "\n"
      ],
      "text/plain": [
       "[1] 1600    2"
      ]
     },
     "metadata": {},
     "output_type": "display_data"
    }
   ],
   "source": [
    "dim(s.draws)\n",
    "dim(pi.draws)"
   ]
  },
  {
   "cell_type": "code",
   "execution_count": 31,
   "metadata": {},
   "outputs": [
    {
     "data": {
      "text/plain": [
       "   Min. 1st Qu.  Median    Mean 3rd Qu.    Max. \n",
       " 0.1735  0.1871  0.1906  0.1906  0.1941  0.2085 "
      ]
     },
     "metadata": {},
     "output_type": "display_data"
    },
    {
     "data": {
      "text/plain": [
       "     Min.   1st Qu.    Median      Mean   3rd Qu.      Max. \n",
       "4.344e-05 4.716e-05 4.823e-05 4.827e-05 4.928e-05 5.408e-05 "
      ]
     },
     "metadata": {},
     "output_type": "display_data"
    },
    {
     "data": {
      "text/plain": [
       "     Min.   1st Qu.    Median      Mean   3rd Qu.      Max. \n",
       "3.777e-05 4.115e-05 4.204e-05 4.211e-05 4.302e-05 4.707e-05 "
      ]
     },
     "metadata": {},
     "output_type": "display_data"
    },
    {
     "data": {
      "text/plain": [
       "     Min.   1st Qu.    Median      Mean   3rd Qu.      Max. \n",
       "3.893e-05 4.255e-05 4.350e-05 4.354e-05 4.456e-05 4.988e-05 "
      ]
     },
     "metadata": {},
     "output_type": "display_data"
    }
   ],
   "source": [
    "summary(pi.draws[,2])\n",
    "summary(s.draws[,1,1])\n",
    "summary(s.draws[,1,2])\n",
    "summary(s.draws[,2,2])"
   ]
  },
  {
   "cell_type": "code",
   "execution_count": 10,
   "metadata": {},
   "outputs": [
    {
     "data": {
      "text/html": [
       "<ol class=list-inline>\n",
       "\t<li>186055</li>\n",
       "\t<li>2</li>\n",
       "</ol>\n"
      ],
      "text/latex": [
       "\\begin{enumerate*}\n",
       "\\item 186055\n",
       "\\item 2\n",
       "\\end{enumerate*}\n"
      ],
      "text/markdown": [
       "1. 186055\n",
       "2. 2\n",
       "\n",
       "\n"
      ],
      "text/plain": [
       "[1] 186055      2"
      ]
     },
     "metadata": {},
     "output_type": "display_data"
    }
   ],
   "source": [
    "dim(dat$dat$SE)"
   ]
  },
  {
   "cell_type": "code",
   "execution_count": 15,
   "metadata": {},
   "outputs": [
    {
     "name": "stderr",
     "output_type": "stream",
     "text": [
      "Loading required package: tictoc\n"
     ]
    }
   ],
   "source": [
    "require('tictoc')"
   ]
  },
  {
   "cell_type": "code",
   "execution_count": 21,
   "metadata": {},
   "outputs": [
    {
     "name": "stderr",
     "output_type": "stream",
     "text": [
      "Loading required package: Matrix\n",
      "\n",
      "Attaching package: ‘Matrix’\n",
      "\n",
      "The following object is masked from ‘package:tidyr’:\n",
      "\n",
      "    expand\n",
      "\n",
      "Loading required package: mnormt\n",
      "Loading required package: qqman\n",
      "\n",
      "For example usage please run: vignette('qqman')\n",
      "\n",
      "Citation appreciated but not required:\n",
      "Turner, S.D. qqman: an R package for visualizing GWAS results using Q-Q and manhattan plots. biorXiv DOI: 10.1101/005165 (2014).\n",
      "\n"
     ]
    }
   ],
   "source": [
    "require('MASS')\n",
    "require('Matrix')\n",
    "require('mnormt')\n",
    "require('qqman')\n"
   ]
  },
  {
   "cell_type": "code",
   "execution_count": 98,
   "metadata": {
    "collapsed": true
   },
   "outputs": [],
   "source": [
    "\n",
    "\n",
    "getCategory <- function(B, SE, p, Sigma){\n",
    "\t# get the category of a SNP given the posterior\n",
    "\t# we assign SNPs to the non-null component if the posterior probability is >= 0.6\n",
    "    zeros <- rep(0, length(SE)) #c(0,0)\n",
    "    SE_mat <- diag(SE) #matrix(c(SE[1], 0, 0, SE[2]), 2, 2)\n",
    "    p_1 = p[1]*dmnorm(B, zeros, SE_mat)\n",
    "    p_2 = p[2]*dmnorm(B, zeros, SE_mat + Sigma)\n",
    "    prob_1 = log(p_1) - log(p_1 + p_2)\n",
    "    prob_2 = log(p_2) - log(p_1 + p_2)\n",
    "    posterior <- exp(prob_2)\n",
    "    category <- ifelse(posterior >= 0.6, 2, 1) # is poster\n",
    "    return(category)   \n",
    "}\n",
    "\n",
    "labelCategories <- function(dat, Sigma, p){\n",
    "\t# update the dat list to contain posterior probabilities and categories\n",
    "\n",
    "    B_dat <- dat$dat$B\n",
    "    SE_dat <- dat$dat$SE\n",
    "    N <- dat$dat$N\n",
    "\n",
    "\tdat$categories <- sapply(1:N, function(i) getCategory(B_dat[i,], SE_dat[i,], p, Sigma))\n",
    "\t\n",
    "\treturn(dat)\n",
    "}\n",
    "\n",
    "\n",
    "\n",
    "\n",
    "calcHeritabilityMulti <- function(se.p2, Sigma, p, idx){\n",
    "    n <- nrow(se.p2)\n",
    "    num_i <- n*(p[2])*Sigma[idx,idx]\n",
    "    \n",
    "    h_i <- num_i/(num_i + sum(se.p2[,idx]))\n",
    "    return(h_i)\n",
    "}\n",
    "\n",
    "overallHeritability <- function(dat, Sigma, p){\n",
    "\t# compute the overall heritability for a quantitative trait\n",
    "\n",
    "    se.p2 <- dat$dat$SE[dat$categories==2,]\n",
    "\n",
    "    list.h <- sapply(1:nrow(Sigma), function(idx) calcHeritabilityMulti(se.p2, Sigma, p, idx))\n",
    "    return(list.h)\n",
    "}"
   ]
  },
  {
   "cell_type": "code",
   "execution_count": null,
   "metadata": {
    "collapsed": true
   },
   "outputs": [],
   "source": [
    "overallHeritability <- function(dat, Sigma, p){\n",
    "\t# compute the overall heritability for a quantitative trait\n",
    "\n",
    "    se.p2 <- dat$dat$SE[dat$categories==2,]\n",
    "\n",
    "    list.h <- sapply(1:nrow(Sigma), function(idx) calcHeritabilityMulti(se.p2, Sigma, p, idx))\n",
    "    return(list.h)\n",
    "}"
   ]
  },
  {
   "cell_type": "code",
   "execution_count": 40,
   "metadata": {},
   "outputs": [
    {
     "name": "stderr",
     "output_type": "stream",
     "text": [
      "Warning message in UseMethod(\"t\"):\n",
      "“closing unused connection 41 (<-localhost:11221)”Warning message in UseMethod(\"t\"):\n",
      "“closing unused connection 40 (<-localhost:11221)”Warning message in UseMethod(\"t\"):\n",
      "“closing unused connection 39 (<-localhost:11221)”Warning message in UseMethod(\"t\"):\n",
      "“closing unused connection 38 (<-localhost:11221)”Warning message in UseMethod(\"t\"):\n",
      "“closing unused connection 37 (<-localhost:11221)”Warning message in UseMethod(\"t\"):\n",
      "“closing unused connection 36 (<-localhost:11221)”Warning message in UseMethod(\"t\"):\n",
      "“closing unused connection 35 (<-localhost:11221)”Warning message in UseMethod(\"t\"):\n",
      "“closing unused connection 34 (<-localhost:11221)”Warning message in UseMethod(\"t\"):\n",
      "“closing unused connection 33 (<-localhost:11221)”Warning message in UseMethod(\"t\"):\n",
      "“closing unused connection 32 (<-localhost:11221)”Warning message in UseMethod(\"t\"):\n",
      "“closing unused connection 31 (<-localhost:11221)”Warning message in UseMethod(\"t\"):\n",
      "“closing unused connection 30 (<-localhost:11221)”Warning message in UseMethod(\"t\"):\n",
      "“closing unused connection 29 (<-localhost:11221)”Warning message in UseMethod(\"t\"):\n",
      "“closing unused connection 28 (<-localhost:11221)”Warning message in UseMethod(\"t\"):\n",
      "“closing unused connection 27 (<-localhost:11221)”Warning message in UseMethod(\"t\"):\n",
      "“closing unused connection 26 (<-localhost:11221)”Warning message in UseMethod(\"t\"):\n",
      "“closing unused connection 25 (<-localhost:11221)”Warning message in UseMethod(\"t\"):\n",
      "“closing unused connection 24 (<-localhost:11221)”Warning message in UseMethod(\"t\"):\n",
      "“closing unused connection 23 (<-localhost:11221)”Warning message in UseMethod(\"t\"):\n",
      "“closing unused connection 22 (<-localhost:11221)”Warning message in UseMethod(\"t\"):\n",
      "“closing unused connection 21 (<-localhost:11221)”Warning message in UseMethod(\"t\"):\n",
      "“closing unused connection 20 (<-localhost:11221)”Warning message in UseMethod(\"t\"):\n",
      "“closing unused connection 19 (<-localhost:11221)”Warning message in UseMethod(\"t\"):\n",
      "“closing unused connection 18 (<-localhost:11221)”Warning message in UseMethod(\"t\"):\n",
      "“closing unused connection 17 (<-localhost:11221)”Warning message in UseMethod(\"t\"):\n",
      "“closing unused connection 16 (<-localhost:11221)”Warning message in UseMethod(\"t\"):\n",
      "“closing unused connection 15 (<-localhost:11221)”Warning message in UseMethod(\"t\"):\n",
      "“closing unused connection 14 (<-localhost:11221)”Warning message in UseMethod(\"t\"):\n",
      "“closing unused connection 13 (<-localhost:11221)”Warning message in UseMethod(\"t\"):\n",
      "“closing unused connection 12 (<-localhost:11221)”Warning message in UseMethod(\"t\"):\n",
      "“closing unused connection 11 (<-localhost:11221)”Warning message in UseMethod(\"t\"):\n",
      "“closing unused connection 10 (<-localhost:11221)”Warning message in UseMethod(\"t\"):\n",
      "“closing unused connection 9 (<-localhost:11221)”Warning message in UseMethod(\"t\"):\n",
      "“closing unused connection 8 (<-localhost:11221)”Warning message in UseMethod(\"t\"):\n",
      "“closing unused connection 7 (<-localhost:11221)”Warning message in UseMethod(\"t\"):\n",
      "“closing unused connection 6 (<-localhost:11221)”Warning message in UseMethod(\"t\"):\n",
      "“closing unused connection 5 (<-localhost:11221)”Warning message in UseMethod(\"t\"):\n",
      "“closing unused connection 4 (<-localhost:11221)”"
     ]
    },
    {
     "name": "stdout",
     "output_type": "stream",
     "text": [
      "38.047 sec elapsed\n"
     ]
    }
   ],
   "source": [
    "    zeros <- rep(0, length(SE)) #c(0,0)\n",
    "    SE_mat <- diag(SE) #matrix(c(SE[1], 0, 0, SE[2]), 2, 2)\n",
    "    p_1 = p[1]*dmnorm(B, zeros, SE_mat)\n",
    "    p_2 = p[2]*dmnorm(B, zeros, SE_mat + Sigma)\n",
    "    prob_1 = log(p_1) - log(p_1 + p_2)\n",
    "    prob_2 = log(p_2) - log(p_1 + p_2)\n",
    "    posterior <- exp(prob_2)\n",
    "    category <- ifelse(posterior >= 0.6, 2, 1) # is poster\n",
    "\n",
    "tic()\n",
    "s.i<- s.draws[1,,]\n",
    "p.i <- pi.draws[1,]\n",
    "\n",
    "dat.i <- labelCategories(dat, s.i, p.i)\n",
    "toc()\n",
    "#h.i <- overallHeritability(dat.i, s.i, p.i)\n"
   ]
  },
  {
   "cell_type": "code",
   "execution_count": 35,
   "metadata": {
    "collapsed": true
   },
   "outputs": [],
   "source": [
    "library(parallel)\n",
    "\n",
    "\n",
    "\n",
    "\n",
    "getCategory2 <- function(i){\n",
    "\t# get the category of a SNP given the posterior\n",
    "\t# we assign SNPs to the non-null component if the posterior probability is >= 0.6\n",
    "\n",
    "    B <- B_dat[i,]\n",
    "    SE <- SE_dat[i,]\n",
    "    zeros <- rep(0, length(SE)) #c(0,0)\n",
    "    SE_mat <- diag(SE) #matrix(c(SE[1], 0, 0, SE[2]), 2, 2)\n",
    "    p_1 = p[1]*dmnorm(B, zeros, SE_mat)\n",
    "    p_2 = p[2]*dmnorm(B, zeros, SE_mat + Sigma)\n",
    "    prob_1 = log(p_1) - log(p_1 + p_2)\n",
    "    prob_2 = log(p_2) - log(p_1 + p_2)\n",
    "    posterior <- exp(prob_2)\n",
    "    category <- ifelse(posterior >= 0.6, 2, 1) # is poster\n",
    "    return(category)   \n",
    "}\n",
    "\n",
    "\n",
    "labelCategories <- function(dat){\n",
    "\t# update the dat list to contain posterior probabilities and categories\n",
    "\n",
    "\n",
    "    cl <- makeCluster(detectCores()-1)\n",
    "\tcategory <- parLapply(cl, 1:N, getCategory2)\n",
    "    stopCluster(cl)\n",
    "\tdat$categories <- categories\t\n",
    "\treturn(dat)\n",
    "}"
   ]
  },
  {
   "cell_type": "code",
   "execution_count": 38,
   "metadata": {},
   "outputs": [
    {
     "ename": "ERROR",
     "evalue": "Error in checkForRemoteErrors(val): 19 nodes produced errors; first error: object 'B_dat' not found\n",
     "output_type": "error",
     "traceback": [
      "Error in checkForRemoteErrors(val): 19 nodes produced errors; first error: object 'B_dat' not found\nTraceback:\n",
      "1. labelCategories(dat)",
      "2. parLapply(cl, 1:N, getCategory2)   # at line 34 of file <text>",
      "3. do.call(c, clusterApply(cl, x = splitList(X, length(cl)), fun = lapply, \n .     fun, ...), quote = TRUE)",
      "4. clusterApply(cl, x = splitList(X, length(cl)), fun = lapply, \n .     fun, ...)",
      "5. staticClusterApply(cl, fun, length(x), argfun)",
      "6. checkForRemoteErrors(val)",
      "7. stop(count, \" nodes produced errors; first error: \", firstmsg, \n .     domain = NA)"
     ]
    }
   ],
   "source": [
    "tic()\n",
    "s.i<- s.draws[1,,]\n",
    "p.i <- pi.draws[1,]\n",
    "\n",
    "    B_dat <- dat$dat$B\n",
    "    SE_dat <- dat$dat$SE\n",
    "    N <- dat$dat$N\n",
    "    Sigma <- s.i\n",
    "p <- p.i\n",
    "\n",
    "dat.i <- labelCategories(dat)\n",
    "\n",
    "h.i <- overallHeritability(dat.i, s.i, p.i)\n",
    "toc()"
   ]
  },
  {
   "cell_type": "code",
   "execution_count": null,
   "metadata": {
    "collapsed": true
   },
   "outputs": [],
   "source": [
    "library(boot)\n",
    "run1 <- function(...) {\n",
    "   library(boot)\n",
    "   cd4.rg <- function(data, mle) MASS::mvrnorm(nrow(data), mle$m, mle$v)\n",
    "   cd4.mle <- list(m = colMeans(cd4), v = var(cd4))\n",
    "   boot(cd4, corr, R = 500, sim = \"parametric\",\n",
    "        ran.gen = cd4.rg, mle = cd4.mle)\n",
    "}\n",
    "cl <- makeCluster(mc <- getOption(\"cl.cores\", 2))\n",
    "## to make this reproducible\n",
    "clusterSetRNGStream(cl, 123)\n",
    "cd4.boot <- do.call(c, parLapply(cl, seq_len(mc), run1))\n",
    "boot.ci(cd4.boot,  type = c(\"norm\", \"basic\", \"perc\"),\n",
    "        conf = 0.9, h = atanh, hinv = tanh)\n",
    "stopCluster(cl)"
   ]
  },
  {
   "cell_type": "code",
   "execution_count": 90,
   "metadata": {},
   "outputs": [
    {
     "data": {
      "text/html": [
       "<ol>\n",
       "\t<li>1</li>\n",
       "\t<li>1</li>\n",
       "</ol>\n"
      ],
      "text/latex": [
       "\\begin{enumerate}\n",
       "\\item 1\n",
       "\\item 1\n",
       "\\end{enumerate}\n"
      ],
      "text/markdown": [
       "1. 1\n",
       "2. 1\n",
       "\n",
       "\n"
      ],
      "text/plain": [
       "[[1]]\n",
       "[1] 1\n",
       "\n",
       "[[2]]\n",
       "[1] 1\n"
      ]
     },
     "metadata": {},
     "output_type": "display_data"
    }
   ],
   "source": [
    " \n",
    "\n",
    "getCategory3 <- function(i){\n",
    "    B <- dat$dat$B[i,]\n",
    "    SE <- dat$dat$SE[i,]\n",
    "    zeros <- rep(0, length(SE)) #c(0,0)\n",
    "    SE_mat <- diag(SE) #matrix(c(SE[1], 0, 0, SE[2]), 2, 2)\n",
    "    p_1 = p[1]*dmnorm(B, zeros, SE_mat)\n",
    "    p_2 = p[2]*dmnorm(B, zeros, SE_mat + Sigma)\n",
    "    prob_1 = log(p_1) - log(p_1 + p_2)\n",
    "    prob_2 = log(p_2) - log(p_1 + p_2)\n",
    "    posterior <- exp(prob_2)\n",
    "    category <- ifelse(posterior >= 0.6, 2, 1) # is poster\n",
    "    return(category) \n",
    "}\n",
    "\n",
    "\n",
    "getCategory4 <- function(l){\n",
    "    return(lapply(l, getCategory3))\n",
    "}\n",
    "\n",
    "getCategory4(c(10, 20))\n",
    "\n",
    "\n"
   ]
  },
  {
   "cell_type": "code",
   "execution_count": 88,
   "metadata": {},
   "outputs": [
    {
     "data": {
      "text/html": [
       "<pre class=language-r><code>function (x, mean = rep(0, d), varcov, log = FALSE) \n",
       "{\n",
       "<span style=white-space:pre-wrap>    d &lt;- if (is.matrix(varcov)) </span>\n",
       "<span style=white-space:pre-wrap>        ncol(varcov)</span>\n",
       "<span style=white-space:pre-wrap>    else 1</span>\n",
       "<span style=white-space:pre-wrap>    if (d == 1) </span>\n",
       "<span style=white-space:pre-wrap>        return(dnorm(x, mean, sqrt(varcov), log = log))</span>\n",
       "<span style=white-space:pre-wrap>    x &lt;- if (is.vector(x)) </span>\n",
       "<span style=white-space:pre-wrap>        t(matrix(x))</span>\n",
       "<span style=white-space:pre-wrap>    else data.matrix(x)</span>\n",
       "<span style=white-space:pre-wrap>    if (ncol(x) != d) </span>\n",
       "<span style=white-space:pre-wrap>        stop(\"mismatch of dimensions of 'x' and 'varcov'\")</span>\n",
       "<span style=white-space:pre-wrap>    if (is.matrix(mean)) {</span>\n",
       "<span style=white-space:pre-wrap>        if ((nrow(x) != nrow(mean)) || (ncol(mean) != d)) </span>\n",
       "<span style=white-space:pre-wrap>            stop(\"mismatch of dimensions of 'x' and 'mean'\")</span>\n",
       "<span style=white-space:pre-wrap>    }</span>\n",
       "<span style=white-space:pre-wrap>    if (is.vector(mean)) </span>\n",
       "<span style=white-space:pre-wrap>        mean &lt;- outer(rep(1, nrow(x)), as.vector(matrix(mean, </span>\n",
       "<span style=white-space:pre-wrap>            d)))</span>\n",
       "<span style=white-space:pre-wrap>    X &lt;- t(x - mean)</span>\n",
       "<span style=white-space:pre-wrap>    conc &lt;- pd.solve(varcov, log.det = TRUE)</span>\n",
       "<span style=white-space:pre-wrap>    Q &lt;- colSums((conc %*% X) * X)</span>\n",
       "<span style=white-space:pre-wrap>    log.det &lt;- attr(conc, \"log.det\")</span>\n",
       "<span style=white-space:pre-wrap>    logPDF &lt;- as.vector(Q + d * logb(2 * pi) + log.det)/(-2)</span>\n",
       "<span style=white-space:pre-wrap>    if (log) </span>\n",
       "<span style=white-space:pre-wrap>        logPDF</span>\n",
       "<span style=white-space:pre-wrap>    else exp(logPDF)</span>\n",
       "}</code></pre>"
      ],
      "text/latex": [
       "\\begin{minted}{r}\n",
       "function (x, mean = rep(0, d), varcov, log = FALSE) \n",
       "\\{\n",
       "    d <- if (is.matrix(varcov)) \n",
       "        ncol(varcov)\n",
       "    else 1\n",
       "    if (d == 1) \n",
       "        return(dnorm(x, mean, sqrt(varcov), log = log))\n",
       "    x <- if (is.vector(x)) \n",
       "        t(matrix(x))\n",
       "    else data.matrix(x)\n",
       "    if (ncol(x) != d) \n",
       "        stop(\"mismatch of dimensions of 'x' and 'varcov'\")\n",
       "    if (is.matrix(mean)) \\{\n",
       "        if ((nrow(x) != nrow(mean)) \\textbar{}\\textbar{} (ncol(mean) != d)) \n",
       "            stop(\"mismatch of dimensions of 'x' and 'mean'\")\n",
       "    \\}\n",
       "    if (is.vector(mean)) \n",
       "        mean <- outer(rep(1, nrow(x)), as.vector(matrix(mean, \n",
       "            d)))\n",
       "    X <- t(x - mean)\n",
       "    conc <- pd.solve(varcov, log.det = TRUE)\n",
       "    Q <- colSums((conc \\%*\\% X) * X)\n",
       "    log.det <- attr(conc, \"log.det\")\n",
       "    logPDF <- as.vector(Q + d * logb(2 * pi) + log.det)/(-2)\n",
       "    if (log) \n",
       "        logPDF\n",
       "    else exp(logPDF)\n",
       "\\}\n",
       "\\end{minted}"
      ],
      "text/markdown": [
       "```r\n",
       "function (x, mean = rep(0, d), varcov, log = FALSE) \n",
       "{\n",
       "    d <- if (is.matrix(varcov)) \n",
       "        ncol(varcov)\n",
       "    else 1\n",
       "    if (d == 1) \n",
       "        return(dnorm(x, mean, sqrt(varcov), log = log))\n",
       "    x <- if (is.vector(x)) \n",
       "        t(matrix(x))\n",
       "    else data.matrix(x)\n",
       "    if (ncol(x) != d) \n",
       "        stop(\"mismatch of dimensions of 'x' and 'varcov'\")\n",
       "    if (is.matrix(mean)) {\n",
       "        if ((nrow(x) != nrow(mean)) || (ncol(mean) != d)) \n",
       "            stop(\"mismatch of dimensions of 'x' and 'mean'\")\n",
       "    }\n",
       "    if (is.vector(mean)) \n",
       "        mean <- outer(rep(1, nrow(x)), as.vector(matrix(mean, \n",
       "            d)))\n",
       "    X <- t(x - mean)\n",
       "    conc <- pd.solve(varcov, log.det = TRUE)\n",
       "    Q <- colSums((conc %*% X) * X)\n",
       "    log.det <- attr(conc, \"log.det\")\n",
       "    logPDF <- as.vector(Q + d * logb(2 * pi) + log.det)/(-2)\n",
       "    if (log) \n",
       "        logPDF\n",
       "    else exp(logPDF)\n",
       "}\n",
       "```"
      ],
      "text/plain": [
       "function (x, mean = rep(0, d), varcov, log = FALSE) \n",
       "{\n",
       "    d <- if (is.matrix(varcov)) \n",
       "        ncol(varcov)\n",
       "    else 1\n",
       "    if (d == 1) \n",
       "        return(dnorm(x, mean, sqrt(varcov), log = log))\n",
       "    x <- if (is.vector(x)) \n",
       "        t(matrix(x))\n",
       "    else data.matrix(x)\n",
       "    if (ncol(x) != d) \n",
       "        stop(\"mismatch of dimensions of 'x' and 'varcov'\")\n",
       "    if (is.matrix(mean)) {\n",
       "        if ((nrow(x) != nrow(mean)) || (ncol(mean) != d)) \n",
       "            stop(\"mismatch of dimensions of 'x' and 'mean'\")\n",
       "    }\n",
       "    if (is.vector(mean)) \n",
       "        mean <- outer(rep(1, nrow(x)), as.vector(matrix(mean, \n",
       "            d)))\n",
       "    X <- t(x - mean)\n",
       "    conc <- pd.solve(varcov, log.det = TRUE)\n",
       "    Q <- colSums((conc %*% X) * X)\n",
       "    log.det <- attr(conc, \"log.det\")\n",
       "    logPDF <- as.vector(Q + d * logb(2 * pi) + log.det)/(-2)\n",
       "    if (log) \n",
       "        logPDF\n",
       "    else exp(logPDF)\n",
       "}\n",
       "<bytecode: 0xc92a998>\n",
       "<environment: namespace:mnormt>"
      ]
     },
     "metadata": {},
     "output_type": "display_data"
    }
   ],
   "source": [
    "dmnorm"
   ]
  },
  {
   "cell_type": "code",
   "execution_count": null,
   "metadata": {
    "collapsed": true
   },
   "outputs": [],
   "source": [
    "tic()\n",
    "cl <- makeCluster( detectCores())\n",
    "clusterExport(cl, \"dat\")\n",
    "clusterExport(cl, \"Sigma\")\n",
    "clusterExport(cl, \"p\")\n",
    "cl.out <- clusterApply(cl, list.lists, getCategory4)\n",
    "\n",
    "stopCluster(cl)\n",
    "toc()"
   ]
  },
  {
   "cell_type": "code",
   "execution_count": 57,
   "metadata": {},
   "outputs": [
    {
     "data": {
      "text/html": [
       "19"
      ],
      "text/latex": [
       "19"
      ],
      "text/markdown": [
       "19"
      ],
      "text/plain": [
       "[1] 19"
      ]
     },
     "metadata": {},
     "output_type": "display_data"
    }
   ],
   "source": [
    "detectCores()-1"
   ]
  },
  {
   "cell_type": "code",
   "execution_count": 84,
   "metadata": {
    "collapsed": true
   },
   "outputs": [],
   "source": [
    "list.n <- (1:dat$dat$N)\n",
    "N <- dat$dat$N\n",
    "ncores <- 10\n"
   ]
  },
  {
   "cell_type": "code",
   "execution_count": 97,
   "metadata": {},
   "outputs": [
    {
     "name": "stdout",
     "output_type": "stream",
     "text": [
      "45.112 sec elapsed\n"
     ]
    }
   ],
   "source": [
    "\n",
    "tic()\n",
    "ncores <- 10\n",
    "num_per_chunk <- floor(N/ncores)\n",
    "list.lists <- lapply(1:ncores, function(i) \n",
    "    {res <- ifelse(i!=ncores, \n",
    "                   return(c(((i-1)*(num_per_chunk)+1):(i*num_per_chunk))),\n",
    "                   return(c(((i-1)*(num_per_chunk)+1):N))); return(res) })\n",
    "cl <- makeCluster( ncores)\n",
    "clusterExport(cl, \"dat\")\n",
    "clusterExport(cl, \"Sigma\")\n",
    "clusterExport(cl, \"p\")\n",
    "clusterExport(cl, \"getCategory3\")\n",
    "clusterExport(cl, \"dmnorm\")\n",
    "cl.out <- clusterApply(cl, list.lists, getCategory4)\n",
    "\n",
    "stopCluster(cl)\n",
    "toc()\n"
   ]
  },
  {
   "cell_type": "code",
   "execution_count": 102,
   "metadata": {
    "collapsed": true
   },
   "outputs": [],
   "source": [
    "calcOverall <- function(i){\n",
    "    s.i <- s.draws[1,,]\n",
    "    p.i <- pi.draws[1,]\n",
    "\n",
    "    B_dat <- dat$dat$B\n",
    "    SE_dat <- dat$dat$SE\n",
    "    N <- dat$dat$N\n",
    "    Sigma <- s.i\n",
    "    p <- p.i\n",
    "\n",
    "\tdat.i <- sapply(1:N, function(i) getCategory(B_dat[i,], SE_dat[i,], p, Sigma))\n",
    "    se.p2 <- dat.i$dat$SE[dat.i$categories==2,]\n",
    "\n",
    "    list.h <- sapply(1:nrow(Sigma), function(idx) calcHeritabilityMulti(se.p2, Sigma, p, idx))\n",
    "    return(list.h)\n",
    "}\n",
    "\n",
    "tic()\n",
    "cl <- makeCluster(ncores)\n",
    "\n",
    "clusterExport(cl, \"s.draws\")\n",
    "clusterExport(cl, \"pi.draws\")\n",
    "clusterExport(cl, \"dat\")\n",
    "clusterExport(cl, \"calcHeritabilityMulti\")\n",
    "clusterExport(cl, \"getCategory\")\n",
    "clusterExport(cl, \"dmnorm\")\n",
    "cl.out <- clusterApply(cl, 1:ncores, calcOverall)\n",
    "stopCluster(cl)\n",
    "toc()\n"
   ]
  },
  {
   "cell_type": "code",
   "execution_count": null,
   "metadata": {
    "collapsed": true
   },
   "outputs": [],
   "source": [
    "dmvn(X, mu, sigma, log = FALSE, ncores = 1, isChol = FALSE)\n",
    "Arguments\n",
    "X matrix n by d where each row is a d dimensional random vector. Alternatively X\n",
    "can be a d-dimensional vector.\n",
    "mu vector of length d, representing the mean of the distribution.\n",
    "sigma covariance matrix (d x d). Alternatively it can be the cholesky decomposition of\n",
    "the covariance. In that case isChol should be set to TRUE.\n",
    "log boolean set to true the logarithm of the pdf is required.\n",
    "ncores Number of cores used. The parallelization will take place only if OpenMP is\n",
    "supported.\n",
    "isChol boolean set to true is sigma is the cholesky decomposition of the covariance\n",
    "matrix.\n",
    "    \n",
    "    \n",
    " B <- dat$dat$B[i,]\n",
    "    SE <- dat$dat$SE[i,]\n",
    "    zeros <- rep(0, length(SE)) #c(0,0)\n",
    "    SE_mat <- diag(SE) #matrix(c(SE[1], 0, 0, SE[2]), 2, 2)\n",
    "    p_1 = p[1]*dmvn(B_dat, zeros, SE_mat)\n",
    "    p_2 = p[2]*dmvn(B_dat, zeros, SE_mat + Sigma)\n",
    "    prob_1 = log(p_1) - log(p_1 + p_2)\n",
    "    prob_2 = log(p_2) - log(p_1 + p_2)\n",
    "    posterior <- exp(prob_2)\n",
    "    category <- ifelse(posterior >= 0.6, 2, 1) # is poster"
   ]
  },
  {
   "cell_type": "code",
   "execution_count": 100,
   "metadata": {},
   "outputs": [
    {
     "name": "stderr",
     "output_type": "stream",
     "text": [
      "Installing package into ‘/home/users/erflynn/R/x86_64-pc-linux-gnu-library/3.4’\n",
      "(as ‘lib’ is unspecified)\n",
      "Warning message in .getClassesFromCache(Class):\n",
      "“closing unused connection 37 (<-localhost:11221)”Warning message in .getClassesFromCache(Class):\n",
      "“closing unused connection 36 (<-localhost:11221)”Warning message in .getClassesFromCache(Class):\n",
      "“closing unused connection 35 (<-localhost:11221)”Warning message in .getClassesFromCache(Class):\n",
      "“closing unused connection 34 (<-localhost:11221)”Warning message in .getClassesFromCache(Class):\n",
      "“closing unused connection 33 (<-localhost:11221)”Warning message in .getClassesFromCache(Class):\n",
      "“closing unused connection 32 (<-localhost:11221)”Warning message in .getClassesFromCache(Class):\n",
      "“closing unused connection 31 (<-localhost:11221)”Warning message in .getClassesFromCache(Class):\n",
      "“closing unused connection 30 (<-localhost:11221)”Warning message in .getClassesFromCache(Class):\n",
      "“closing unused connection 29 (<-localhost:11221)”Warning message in .getClassesFromCache(Class):\n",
      "“closing unused connection 28 (<-localhost:11221)”Warning message in .getClassesFromCache(Class):\n",
      "“closing unused connection 27 (<-localhost:11221)”Warning message in .getClassesFromCache(Class):\n",
      "“closing unused connection 26 (<-localhost:11221)”Warning message in .getClassesFromCache(Class):\n",
      "“closing unused connection 23 (<-localhost:11221)”Warning message in .getClassesFromCache(Class):\n",
      "“closing unused connection 22 (<-localhost:11221)”Warning message in .getClassesFromCache(Class):\n",
      "“closing unused connection 21 (<-localhost:11221)”Warning message in .getClassesFromCache(Class):\n",
      "“closing unused connection 20 (<-localhost:11221)”Warning message in .getClassesFromCache(Class):\n",
      "“closing unused connection 19 (<-localhost:11221)”Warning message in .getClassesFromCache(Class):\n",
      "“closing unused connection 18 (<-localhost:11221)”Warning message in .getClassesFromCache(Class):\n",
      "“closing unused connection 17 (<-localhost:11221)”Warning message in .getClassesFromCache(Class):\n",
      "“closing unused connection 16 (<-localhost:11221)”Warning message in .getClassesFromCache(Class):\n",
      "“closing unused connection 15 (<-localhost:11221)”Warning message in .getClassesFromCache(Class):\n",
      "“closing unused connection 14 (<-localhost:11221)”Warning message in .getClassesFromCache(Class):\n",
      "“closing unused connection 13 (<-localhost:11221)”Warning message in .getClassesFromCache(Class):\n",
      "“closing unused connection 12 (<-localhost:11221)”Warning message in .getClassesFromCache(Class):\n",
      "“closing unused connection 11 (<-localhost:11221)”Warning message in .getClassesFromCache(Class):\n",
      "“closing unused connection 10 (<-localhost:11221)”Warning message in .getClassesFromCache(Class):\n",
      "“closing unused connection 9 (<-localhost:11221)”Warning message in .getClassesFromCache(Class):\n",
      "“closing unused connection 8 (<-localhost:11221)”Warning message in .getClassesFromCache(Class):\n",
      "“closing unused connection 5 (<-localhost:11221)”Warning message in .getClassesFromCache(Class):\n",
      "“closing unused connection 4 (<-localhost:11221)”Warning message in .getClassesFromCache(Class):\n",
      "“closing unused connection 7 (<-localhost:11221)”Warning message in .getClassesFromCache(Class):\n",
      "“closing unused connection 6 (<-localhost:11221)”Warning message in .getClassesFromCache(Class):\n",
      "“closing unused connection 25 (<-localhost:11221)”Warning message in .getClassesFromCache(Class):\n",
      "“closing unused connection 24 (<-localhost:11221)”also installing the dependency ‘RcppArmadillo’\n",
      "\n",
      "Warning message in install.packages(\"mvnfast\"):\n",
      "“installation of package ‘mvnfast’ had non-zero exit status”"
     ]
    }
   ],
   "source": [
    "install.packages('mvnfast')"
   ]
  },
  {
   "cell_type": "code",
   "execution_count": 101,
   "metadata": {},
   "outputs": [
    {
     "name": "stderr",
     "output_type": "stream",
     "text": [
      "Loading required package: mvnfast\n",
      "Warning message in library(package, lib.loc = lib.loc, character.only = TRUE, logical.return = TRUE, :\n",
      "“there is no package called ‘mvnfast’”"
     ]
    },
    {
     "ename": "ERROR",
     "evalue": "Error in eval(expr, envir, enclos): object 'dmvn' not found\n",
     "output_type": "error",
     "traceback": [
      "Error in eval(expr, envir, enclos): object 'dmvn' not found\nTraceback:\n"
     ]
    }
   ],
   "source": [
    "require('mvnfast')\n",
    "dmvn"
   ]
  },
  {
   "cell_type": "code",
   "execution_count": 105,
   "metadata": {},
   "outputs": [
    {
     "data": {
      "text/html": [
       "<ol class=list-inline>\n",
       "\t<li>1261</li>\n",
       "\t<li>27</li>\n",
       "\t<li>286</li>\n",
       "\t<li>156</li>\n",
       "\t<li>229</li>\n",
       "\t<li>1056</li>\n",
       "</ol>\n"
      ],
      "text/latex": [
       "\\begin{enumerate*}\n",
       "\\item 1261\n",
       "\\item 27\n",
       "\\item 286\n",
       "\\item 156\n",
       "\\item 229\n",
       "\\item 1056\n",
       "\\end{enumerate*}\n"
      ],
      "text/markdown": [
       "1. 1261\n",
       "2. 27\n",
       "3. 286\n",
       "4. 156\n",
       "5. 229\n",
       "6. 1056\n",
       "\n",
       "\n"
      ],
      "text/plain": [
       "[1] 1261   27  286  156  229 1056"
      ]
     },
     "metadata": {},
     "output_type": "display_data"
    },
    {
     "ename": "ERROR",
     "evalue": "Error in order(Sigma.draws[1, 1]): object 'Sigma.draws' not found\n",
     "output_type": "error",
     "traceback": [
      "Error in order(Sigma.draws[1, 1]): object 'Sigma.draws' not found\nTraceback:\n",
      "1. head(order(Sigma.draws[1, 1]))",
      "2. order(Sigma.draws[1, 1])"
     ]
    }
   ],
   "source": [
    "head(order(pi.draws[,2]))\n",
    "head(order(s.draws[1,1]))"
   ]
  },
  {
   "cell_type": "code",
   "execution_count": 109,
   "metadata": {},
   "outputs": [
    {
     "data": {
      "text/html": [
       "<ol class=list-inline>\n",
       "\t<li>1261</li>\n",
       "\t<li>27</li>\n",
       "\t<li>286</li>\n",
       "\t<li>156</li>\n",
       "\t<li>229</li>\n",
       "\t<li>1056</li>\n",
       "</ol>\n"
      ],
      "text/latex": [
       "\\begin{enumerate*}\n",
       "\\item 1261\n",
       "\\item 27\n",
       "\\item 286\n",
       "\\item 156\n",
       "\\item 229\n",
       "\\item 1056\n",
       "\\end{enumerate*}\n"
      ],
      "text/markdown": [
       "1. 1261\n",
       "2. 27\n",
       "3. 286\n",
       "4. 156\n",
       "5. 229\n",
       "6. 1056\n",
       "\n",
       "\n"
      ],
      "text/plain": [
       "[1] 1261   27  286  156  229 1056"
      ]
     },
     "metadata": {},
     "output_type": "display_data"
    },
    {
     "data": {
      "text/html": [
       "<ol class=list-inline>\n",
       "\t<li>598</li>\n",
       "\t<li>842</li>\n",
       "\t<li>1018</li>\n",
       "\t<li>1587</li>\n",
       "\t<li>773</li>\n",
       "\t<li>1557</li>\n",
       "</ol>\n"
      ],
      "text/latex": [
       "\\begin{enumerate*}\n",
       "\\item 598\n",
       "\\item 842\n",
       "\\item 1018\n",
       "\\item 1587\n",
       "\\item 773\n",
       "\\item 1557\n",
       "\\end{enumerate*}\n"
      ],
      "text/markdown": [
       "1. 598\n",
       "2. 842\n",
       "3. 1018\n",
       "4. 1587\n",
       "5. 773\n",
       "6. 1557\n",
       "\n",
       "\n"
      ],
      "text/plain": [
       "[1]  598  842 1018 1587  773 1557"
      ]
     },
     "metadata": {},
     "output_type": "display_data"
    },
    {
     "data": {
      "text/html": [
       "<ol class=list-inline>\n",
       "\t<li>529</li>\n",
       "\t<li>1510</li>\n",
       "\t<li>415</li>\n",
       "\t<li>584</li>\n",
       "\t<li>313</li>\n",
       "\t<li>1088</li>\n",
       "</ol>\n"
      ],
      "text/latex": [
       "\\begin{enumerate*}\n",
       "\\item 529\n",
       "\\item 1510\n",
       "\\item 415\n",
       "\\item 584\n",
       "\\item 313\n",
       "\\item 1088\n",
       "\\end{enumerate*}\n"
      ],
      "text/markdown": [
       "1. 529\n",
       "2. 1510\n",
       "3. 415\n",
       "4. 584\n",
       "5. 313\n",
       "6. 1088\n",
       "\n",
       "\n"
      ],
      "text/plain": [
       "[1]  529 1510  415  584  313 1088"
      ]
     },
     "metadata": {},
     "output_type": "display_data"
    },
    {
     "data": {
      "text/html": [
       "<ol class=list-inline>\n",
       "\t<li>1</li>\n",
       "\t<li>1</li>\n",
       "\t<li>1</li>\n",
       "\t<li>1</li>\n",
       "\t<li>1</li>\n",
       "\t<li>1</li>\n",
       "</ol>\n"
      ],
      "text/latex": [
       "\\begin{enumerate*}\n",
       "\\item 1\n",
       "\\item 1\n",
       "\\item 1\n",
       "\\item 1\n",
       "\\item 1\n",
       "\\item 1\n",
       "\\end{enumerate*}\n"
      ],
      "text/markdown": [
       "1. 1\n",
       "2. 1\n",
       "3. 1\n",
       "4. 1\n",
       "5. 1\n",
       "6. 1\n",
       "\n",
       "\n"
      ],
      "text/plain": [
       "[1] 1 1 1 1 1 1"
      ]
     },
     "metadata": {},
     "output_type": "display_data"
    }
   ],
   "source": [
    " pi.draws <- list_of_draws$pi\n",
    "        p <- pi.draws\n",
    "        s.draws <- list_of_draws$Sigma\n",
    "        Sigma <- s.draws\n",
    "        rg.draws <- list_of_draws$Omegacor\n",
    "        rg <- rg.draws\n",
    "head(order(p[,2]))\n",
    "head(order(Sigma[,1,1]))\n",
    "head(order(rg[,1,2]))\n",
    "head(rg[order(rg[,1,2]),,])"
   ]
  },
  {
   "cell_type": "code",
   "execution_count": 110,
   "metadata": {},
   "outputs": [
    {
     "data": {
      "text/html": [
       "<ol class=list-inline>\n",
       "\t<li>0.931996303094708</li>\n",
       "\t<li>0.911572233501938</li>\n",
       "\t<li>0.921343538796408</li>\n",
       "\t<li>0.92186379859347</li>\n",
       "\t<li>0.914091526450336</li>\n",
       "\t<li>0.915858374712812</li>\n",
       "\t<li>0.920900393360496</li>\n",
       "\t<li>0.918551373010192</li>\n",
       "\t<li>0.907189695795386</li>\n",
       "\t<li>0.927350224560842</li>\n",
       "\t<li>0.913015078297276</li>\n",
       "\t<li>0.920647935206831</li>\n",
       "\t<li>0.917374780998096</li>\n",
       "\t<li>0.905561531608255</li>\n",
       "\t<li>0.915862301005012</li>\n",
       "\t<li>0.918732662827264</li>\n",
       "\t<li>0.929813127983091</li>\n",
       "\t<li>0.912319047310182</li>\n",
       "\t<li>0.91828706520701</li>\n",
       "\t<li>0.906211540718369</li>\n",
       "\t<li>0.913572767995154</li>\n",
       "\t<li>0.914224815295502</li>\n",
       "\t<li>0.918527423835011</li>\n",
       "\t<li>0.903028925672083</li>\n",
       "\t<li>0.924488850262275</li>\n",
       "\t<li>0.902469997292713</li>\n",
       "\t<li>0.912848176890835</li>\n",
       "\t<li>0.930846495611308</li>\n",
       "\t<li>0.92588471800597</li>\n",
       "\t<li>0.911617862146875</li>\n",
       "\t<li>0.92233463051652</li>\n",
       "\t<li>0.920563335395185</li>\n",
       "\t<li>0.918813935055353</li>\n",
       "\t<li>0.905034622831934</li>\n",
       "\t<li>0.91341198586891</li>\n",
       "\t<li>0.906781747192443</li>\n",
       "\t<li>0.931330522686778</li>\n",
       "\t<li>0.927256562931647</li>\n",
       "\t<li>0.932432113575822</li>\n",
       "\t<li>0.919112519128307</li>\n",
       "\t<li>0.912297207985411</li>\n",
       "\t<li>0.902295770947402</li>\n",
       "\t<li>0.914269937758931</li>\n",
       "\t<li>0.914580294942824</li>\n",
       "\t<li>0.935368526925382</li>\n",
       "\t<li>0.907718557946958</li>\n",
       "\t<li>0.933420668895448</li>\n",
       "\t<li>0.921764476196167</li>\n",
       "\t<li>0.911451198750918</li>\n",
       "\t<li>0.915703321726402</li>\n",
       "\t<li>0.906102690622875</li>\n",
       "\t<li>0.930280273826787</li>\n",
       "\t<li>0.916630151088509</li>\n",
       "\t<li>0.91219394743668</li>\n",
       "\t<li>0.916315152411318</li>\n",
       "\t<li>0.912374417342384</li>\n",
       "\t<li>0.92292171626053</li>\n",
       "\t<li>0.924554669462155</li>\n",
       "\t<li>0.921054531589678</li>\n",
       "\t<li>0.919191961806512</li>\n",
       "\t<li>0.921537101707262</li>\n",
       "\t<li>0.923104890918846</li>\n",
       "\t<li>0.908341045237836</li>\n",
       "\t<li>0.903556304424061</li>\n",
       "\t<li>0.914315255351467</li>\n",
       "\t<li>0.913165989888238</li>\n",
       "\t<li>0.925369619947988</li>\n",
       "\t<li>0.911499717999684</li>\n",
       "\t<li>0.925782409402141</li>\n",
       "\t<li>0.931522919887929</li>\n",
       "\t<li>0.924386536247776</li>\n",
       "\t<li>0.924273142759477</li>\n",
       "\t<li>0.921578798608391</li>\n",
       "\t<li>0.920184066841843</li>\n",
       "\t<li>0.929857784942621</li>\n",
       "\t<li>0.91320804897557</li>\n",
       "\t<li>0.91522562713852</li>\n",
       "\t<li>0.906117241051511</li>\n",
       "\t<li>0.917696826719182</li>\n",
       "\t<li>0.911489652935064</li>\n",
       "\t<li>0.906699427349073</li>\n",
       "\t<li>0.909522110674423</li>\n",
       "\t<li>0.922675285075314</li>\n",
       "\t<li>0.917080199867611</li>\n",
       "\t<li>0.917872289378221</li>\n",
       "\t<li>0.903412877663333</li>\n",
       "\t<li>0.915214222179846</li>\n",
       "\t<li>0.923281624864282</li>\n",
       "\t<li>0.926609744768255</li>\n",
       "\t<li>0.916330209846961</li>\n",
       "\t<li>0.915808133477544</li>\n",
       "\t<li>0.914600565129172</li>\n",
       "\t<li>0.922256359850458</li>\n",
       "\t<li>0.901101347133561</li>\n",
       "\t<li>0.938441125265238</li>\n",
       "\t<li>0.921548873561652</li>\n",
       "\t<li>0.922378772772392</li>\n",
       "\t<li>0.916101889161369</li>\n",
       "\t<li>0.918437779675401</li>\n",
       "\t<li>0.891450455018159</li>\n",
       "\t<li>0.933096817024703</li>\n",
       "\t<li>0.90613322356127</li>\n",
       "\t<li>0.925059214101466</li>\n",
       "\t<li>0.924838647676031</li>\n",
       "\t<li>0.917297110710494</li>\n",
       "\t<li>0.93016075614183</li>\n",
       "\t<li>0.911926797812672</li>\n",
       "\t<li>0.90691922198144</li>\n",
       "\t<li>0.915215361792171</li>\n",
       "\t<li>0.924779725127917</li>\n",
       "\t<li>0.918608900129241</li>\n",
       "\t<li>0.935638738587061</li>\n",
       "\t<li>0.923549654830133</li>\n",
       "\t<li>0.92812490773111</li>\n",
       "\t<li>0.929538501634153</li>\n",
       "\t<li>0.915693985710011</li>\n",
       "\t<li>0.896292653445274</li>\n",
       "\t<li>0.925899431634945</li>\n",
       "\t<li>0.902687963775278</li>\n",
       "\t<li>0.921100458071426</li>\n",
       "\t<li>0.90946724279666</li>\n",
       "\t<li>0.923048173209887</li>\n",
       "\t<li>0.911586607875502</li>\n",
       "\t<li>0.907171442348123</li>\n",
       "\t<li>0.91119785856453</li>\n",
       "\t<li>0.928742197456458</li>\n",
       "\t<li>0.94705840851418</li>\n",
       "\t<li>0.923168043851119</li>\n",
       "\t<li>0.910756221306958</li>\n",
       "\t<li>0.936405089253354</li>\n",
       "\t<li>0.922039411762473</li>\n",
       "\t<li>0.928712614888835</li>\n",
       "\t<li>0.918215501191921</li>\n",
       "\t<li>0.905486306965101</li>\n",
       "\t<li>0.921341428628729</li>\n",
       "\t<li>0.913654969747192</li>\n",
       "\t<li>0.923606068451297</li>\n",
       "\t<li>0.911404251788402</li>\n",
       "\t<li>0.935448248416933</li>\n",
       "\t<li>0.907674362269969</li>\n",
       "\t<li>0.937441323578954</li>\n",
       "\t<li>0.918886390745869</li>\n",
       "\t<li>0.917160598301418</li>\n",
       "\t<li>0.920072530124214</li>\n",
       "\t<li>0.915154277198149</li>\n",
       "\t<li>0.922893141660347</li>\n",
       "\t<li>0.916913052385609</li>\n",
       "\t<li>0.913155200422006</li>\n",
       "\t<li>0.924424507425883</li>\n",
       "\t<li>0.925860988755024</li>\n",
       "\t<li>0.937269841506225</li>\n",
       "\t<li>0.918692370698962</li>\n",
       "\t<li>0.93038435264255</li>\n",
       "\t<li>0.908941542775562</li>\n",
       "\t<li>0.91676670781787</li>\n",
       "\t<li>0.910734452190991</li>\n",
       "\t<li>0.917073680833027</li>\n",
       "\t<li>0.935566158652009</li>\n",
       "\t<li>0.918771056783716</li>\n",
       "\t<li>0.925119896090764</li>\n",
       "\t<li>0.918278898272466</li>\n",
       "\t<li>0.90886310931657</li>\n",
       "\t<li>0.934948207550779</li>\n",
       "\t<li>0.913095074649993</li>\n",
       "\t<li>0.926687738234124</li>\n",
       "\t<li>0.928075051918739</li>\n",
       "\t<li>0.91483956326616</li>\n",
       "\t<li>0.936270287776948</li>\n",
       "\t<li>0.934102371669409</li>\n",
       "\t<li>0.916926120116533</li>\n",
       "\t<li>0.906631912981235</li>\n",
       "\t<li>0.902678556821837</li>\n",
       "\t<li>0.914062085681297</li>\n",
       "\t<li>0.922114844631844</li>\n",
       "\t<li>0.921053985538204</li>\n",
       "\t<li>0.928009812798062</li>\n",
       "\t<li>0.930689993778333</li>\n",
       "\t<li>0.93057365334765</li>\n",
       "\t<li>0.922633279336456</li>\n",
       "\t<li>0.921601554173175</li>\n",
       "\t<li>0.9082132063184</li>\n",
       "\t<li>0.905658930897824</li>\n",
       "\t<li>0.928191974294465</li>\n",
       "\t<li>0.939586052926111</li>\n",
       "\t<li>0.920415042862051</li>\n",
       "\t<li>0.918043327493858</li>\n",
       "\t<li>0.910141497787701</li>\n",
       "\t<li>0.926459360704435</li>\n",
       "\t<li>0.902457398878643</li>\n",
       "\t<li>0.911528501311675</li>\n",
       "\t<li>0.920213757351695</li>\n",
       "\t<li>0.914056210123982</li>\n",
       "\t<li>0.928975611491791</li>\n",
       "\t<li>0.91716477370845</li>\n",
       "\t<li>0.928012543653835</li>\n",
       "\t<li>0.924595999433332</li>\n",
       "\t<li>0.931697284862742</li>\n",
       "\t<li>0.918934128232302</li>\n",
       "\t<li>0.911454510769761</li>\n",
       "\t<li>0.924701923782</li>\n",
       "\t<li>0.909450824781969</li>\n",
       "\t<li>0.917653883706154</li>\n",
       "\t<li>0.918067988481833</li>\n",
       "\t<li>0.935362051265691</li>\n",
       "\t<li>0.91205680743935</li>\n",
       "\t<li>0.917806516110415</li>\n",
       "\t<li>0.92506421124935</li>\n",
       "\t<li>0.916021639629947</li>\n",
       "\t<li>0.925949093156866</li>\n",
       "\t<li>0.915250459304486</li>\n",
       "\t<li>0.921923325026766</li>\n",
       "\t<li>0.919001806245346</li>\n",
       "\t<li>0.924912573501435</li>\n",
       "\t<li>0.921166803300091</li>\n",
       "\t<li>0.921515853062703</li>\n",
       "\t<li>0.918310891227525</li>\n",
       "\t<li>0.929196329192939</li>\n",
       "\t<li>0.92931496390376</li>\n",
       "\t<li>0.903346959170217</li>\n",
       "\t<li>0.935934624841404</li>\n",
       "\t<li>0.904005530045175</li>\n",
       "\t<li>0.926994805494908</li>\n",
       "\t<li>0.915765226863128</li>\n",
       "\t<li>0.898929442317012</li>\n",
       "\t<li>0.917944347800912</li>\n",
       "\t<li>0.912307390244155</li>\n",
       "\t<li>0.929378024787148</li>\n",
       "\t<li>0.904912645154384</li>\n",
       "\t<li>0.914766471020707</li>\n",
       "\t<li>0.926851561667184</li>\n",
       "\t<li>0.930961863122337</li>\n",
       "\t<li>0.907396451710387</li>\n",
       "\t<li>0.909328878435593</li>\n",
       "\t<li>0.92905865732659</li>\n",
       "\t<li>0.908353238331089</li>\n",
       "\t<li>0.915646057360593</li>\n",
       "\t<li>0.911503772162863</li>\n",
       "\t<li>0.907760432478588</li>\n",
       "\t<li>0.923014392716024</li>\n",
       "\t<li>0.901516551360629</li>\n",
       "\t<li>0.944395596021474</li>\n",
       "\t<li>0.932117056314702</li>\n",
       "\t<li>0.917042116658186</li>\n",
       "\t<li>0.927093151349907</li>\n",
       "\t<li>0.909032821567519</li>\n",
       "\t<li>0.912333628869279</li>\n",
       "\t<li>0.898569213109957</li>\n",
       "\t<li>0.923048266471061</li>\n",
       "\t<li>0.894515728284437</li>\n",
       "\t<li>0.914265201180698</li>\n",
       "\t<li>0.926920418409919</li>\n",
       "\t<li>0.929590633686043</li>\n",
       "\t<li>0.929210210750792</li>\n",
       "\t<li>0.915804684084343</li>\n",
       "\t<li>0.921189437835398</li>\n",
       "\t<li>0.938301188579194</li>\n",
       "\t<li>0.901155334637989</li>\n",
       "\t<li>0.917984393248894</li>\n",
       "\t<li>0.921707504046157</li>\n",
       "\t<li>0.921708641224606</li>\n",
       "\t<li>0.908248255525306</li>\n",
       "\t<li>0.913036132702467</li>\n",
       "\t<li>0.925119587494847</li>\n",
       "\t<li>0.928408642892188</li>\n",
       "\t<li>0.912329579215485</li>\n",
       "\t<li>0.917405861733113</li>\n",
       "\t<li>0.906198804079486</li>\n",
       "\t<li>0.916785629917403</li>\n",
       "\t<li>0.936180313846092</li>\n",
       "\t<li>0.914301729597736</li>\n",
       "\t<li>0.926139654717715</li>\n",
       "\t<li>0.937679457043925</li>\n",
       "\t<li>0.930050839069231</li>\n",
       "\t<li>0.914947690464493</li>\n",
       "\t<li>0.92198392454409</li>\n",
       "\t<li>0.901583180903355</li>\n",
       "\t<li>0.894728591387927</li>\n",
       "\t<li>0.915197655103814</li>\n",
       "\t<li>0.930342191353147</li>\n",
       "\t<li>0.938135617456229</li>\n",
       "\t<li>0.928591769393659</li>\n",
       "\t<li>0.913296115152779</li>\n",
       "\t<li>0.922596125552159</li>\n",
       "\t<li>0.915611451501781</li>\n",
       "\t<li>0.920618054160744</li>\n",
       "\t<li>0.915674345258573</li>\n",
       "\t<li>0.919610093992047</li>\n",
       "\t<li>0.946495460369215</li>\n",
       "\t<li>0.90526018894165</li>\n",
       "\t<li>0.92423200550971</li>\n",
       "\t<li>0.918786355046213</li>\n",
       "\t<li>0.912759163565117</li>\n",
       "\t<li>0.924211321214744</li>\n",
       "\t<li>0.910533118334788</li>\n",
       "\t<li>0.906013905253285</li>\n",
       "\t<li>0.917860711487102</li>\n",
       "\t<li>0.917736520524453</li>\n",
       "\t<li>0.916867794350333</li>\n",
       "\t<li>0.916019527443195</li>\n",
       "\t<li>0.927136204973076</li>\n",
       "\t<li>0.913198627958983</li>\n",
       "\t<li>0.92377443423833</li>\n",
       "\t<li>0.905040222064345</li>\n",
       "\t<li>0.905442595146002</li>\n",
       "\t<li>0.930508141164019</li>\n",
       "\t<li>0.929175179395424</li>\n",
       "\t<li>0.898285595470858</li>\n",
       "\t<li>0.919325025527064</li>\n",
       "\t<li>0.91480750333617</li>\n",
       "\t<li>0.901773471124771</li>\n",
       "\t<li>0.927079340907439</li>\n",
       "\t<li>0.914984491117059</li>\n",
       "\t<li>0.890490807279125</li>\n",
       "\t<li>0.912555825513911</li>\n",
       "\t<li>0.919390426678899</li>\n",
       "\t<li>0.920831864102776</li>\n",
       "\t<li>0.911122050209489</li>\n",
       "\t<li>0.922374704029893</li>\n",
       "\t<li>0.91992554257666</li>\n",
       "\t<li>0.913995772734564</li>\n",
       "\t<li>0.927059902082121</li>\n",
       "\t<li>0.902868145912609</li>\n",
       "\t<li>0.91533742205273</li>\n",
       "\t<li>0.918165633488822</li>\n",
       "\t<li>0.926764551920577</li>\n",
       "\t<li>0.907345039287078</li>\n",
       "\t<li>0.930673431260329</li>\n",
       "\t<li>0.913567753848826</li>\n",
       "\t<li>0.920445649205714</li>\n",
       "\t<li>0.919842469615883</li>\n",
       "\t<li>0.926543765108864</li>\n",
       "\t<li>0.919218693090546</li>\n",
       "\t<li>0.922938328936003</li>\n",
       "\t<li>0.934102359896071</li>\n",
       "\t<li>0.925850485808235</li>\n",
       "\t<li>0.910218199546819</li>\n",
       "\t<li>0.92122622561447</li>\n",
       "\t<li>0.92251709222472</li>\n",
       "\t<li>0.924236297927573</li>\n",
       "\t<li>0.913875609257584</li>\n",
       "\t<li>0.929213699868858</li>\n",
       "\t<li>0.916440991554969</li>\n",
       "\t<li>0.936490809482133</li>\n",
       "\t<li>0.916665998657639</li>\n",
       "\t<li>0.917609800232554</li>\n",
       "\t<li>0.917262889486996</li>\n",
       "\t<li>0.924192441765603</li>\n",
       "\t<li>0.931210737958044</li>\n",
       "\t<li>0.909597428524899</li>\n",
       "\t<li>0.899866922201181</li>\n",
       "\t<li>0.927885874628989</li>\n",
       "\t<li>0.931879718555617</li>\n",
       "\t<li>0.921711338177633</li>\n",
       "\t<li>0.909344684219226</li>\n",
       "\t<li>0.922817076361754</li>\n",
       "\t<li>0.918942380796439</li>\n",
       "\t<li>0.931383958734851</li>\n",
       "\t<li>0.919149213981013</li>\n",
       "\t<li>0.933337276319117</li>\n",
       "\t<li>0.913041497870369</li>\n",
       "\t<li>0.921904395503855</li>\n",
       "\t<li>0.920800763369465</li>\n",
       "\t<li>0.906918864727706</li>\n",
       "\t<li>0.918752135262856</li>\n",
       "\t<li>0.915635829230627</li>\n",
       "\t<li>0.918716109862256</li>\n",
       "\t<li>0.921915251966865</li>\n",
       "\t<li>0.921226006463388</li>\n",
       "\t<li>0.910127606462732</li>\n",
       "\t<li>0.919677202190422</li>\n",
       "\t<li>0.928096785140195</li>\n",
       "\t<li>0.904475833242028</li>\n",
       "\t<li>0.910227535001651</li>\n",
       "\t<li>0.913467472509053</li>\n",
       "\t<li>0.910933781794514</li>\n",
       "\t<li>0.906322321895082</li>\n",
       "\t<li>0.925476146413817</li>\n",
       "\t<li>0.913078422925598</li>\n",
       "\t<li>0.918133057385531</li>\n",
       "\t<li>0.928136655786471</li>\n",
       "\t<li>0.930848943453261</li>\n",
       "\t<li>0.918711580015667</li>\n",
       "\t<li>0.916371486005329</li>\n",
       "\t<li>0.913568192757939</li>\n",
       "\t<li>0.921043484140607</li>\n",
       "\t<li>0.918117712294613</li>\n",
       "\t<li>0.905925454256316</li>\n",
       "\t<li>0.906366130078092</li>\n",
       "\t<li>0.919205237852921</li>\n",
       "\t<li>0.914127164317625</li>\n",
       "\t<li>0.920882221784223</li>\n",
       "\t<li>0.917422685621973</li>\n",
       "\t<li>0.903755311345107</li>\n",
       "\t<li>0.931743023049554</li>\n",
       "\t<li>0.936579502631273</li>\n",
       "\t<li>0.922154986566238</li>\n",
       "\t<li>0.918993456745353</li>\n",
       "\t<li>0.913193350622059</li>\n",
       "\t<li>0.921837453919602</li>\n",
       "\t<li>0.946379864100625</li>\n",
       "\t<li>0.915142282241599</li>\n",
       "\t<li>0.913920212135291</li>\n",
       "\t<li>0.911865191756337</li>\n",
       "\t<li>0.940820855435188</li>\n",
       "\t<li>0.932677766419129</li>\n",
       "\t<li>0.900708498280069</li>\n",
       "\t<li>0.91097829564102</li>\n",
       "\t<li>0.923308491277513</li>\n",
       "\t<li>0.923009529245693</li>\n",
       "\t<li>0.941415509081904</li>\n",
       "\t<li>0.93190264472019</li>\n",
       "\t<li>0.891124891297933</li>\n",
       "\t<li>0.920064641779076</li>\n",
       "\t<li>0.928185324010069</li>\n",
       "\t<li>0.887009453212707</li>\n",
       "\t<li>0.920750115861807</li>\n",
       "\t<li>0.910490235352147</li>\n",
       "\t<li>0.920520567223765</li>\n",
       "\t<li>0.913548058282993</li>\n",
       "\t<li>0.925623917914317</li>\n",
       "\t<li>0.904735463684261</li>\n",
       "\t<li>0.921602591802509</li>\n",
       "\t<li>0.927497397493364</li>\n",
       "\t<li>0.914631435919588</li>\n",
       "\t<li>0.905274186712036</li>\n",
       "\t<li>0.903547280880655</li>\n",
       "\t<li>0.918055116122612</li>\n",
       "\t<li>0.947294366021683</li>\n",
       "\t<li>0.91514962810183</li>\n",
       "\t<li>0.916242695960677</li>\n",
       "\t<li>0.934046981765833</li>\n",
       "\t<li>0.922949231610117</li>\n",
       "\t<li>0.908114234053463</li>\n",
       "\t<li>0.918559231849352</li>\n",
       "\t<li>0.908486322744298</li>\n",
       "\t<li>0.9186001846662</li>\n",
       "\t<li>0.918853148359022</li>\n",
       "\t<li>0.915050829528108</li>\n",
       "\t<li>0.906157096865959</li>\n",
       "\t<li>0.927085672911995</li>\n",
       "\t<li>0.930552628677712</li>\n",
       "\t<li>0.9102424375416</li>\n",
       "\t<li>0.90822603677996</li>\n",
       "\t<li>0.928642544189435</li>\n",
       "\t<li>0.932762922476229</li>\n",
       "\t<li>0.93948439268718</li>\n",
       "\t<li>0.918865756125984</li>\n",
       "\t<li>0.910748211493274</li>\n",
       "\t<li>0.907379616968618</li>\n",
       "\t<li>0.924111933787017</li>\n",
       "\t<li>0.921058384399803</li>\n",
       "\t<li>0.920839943032156</li>\n",
       "\t<li>0.923812227002345</li>\n",
       "\t<li>0.916838315356192</li>\n",
       "\t<li>0.921987849334468</li>\n",
       "\t<li>0.909930837478796</li>\n",
       "\t<li>0.914882593298294</li>\n",
       "\t<li>0.911836898711254</li>\n",
       "\t<li>0.922447313620176</li>\n",
       "\t<li>0.922817449197683</li>\n",
       "\t<li>0.915534142555994</li>\n",
       "\t<li>0.932888334752518</li>\n",
       "\t<li>0.906426705085519</li>\n",
       "\t<li>0.915128244979934</li>\n",
       "\t<li>0.930242102278225</li>\n",
       "\t<li>0.911667541887532</li>\n",
       "\t<li>0.92057420365658</li>\n",
       "\t<li>0.90107506666376</li>\n",
       "\t<li>0.941126503377648</li>\n",
       "\t<li>0.910931642790616</li>\n",
       "\t<li>0.920031729106909</li>\n",
       "\t<li>0.921952908952945</li>\n",
       "\t<li>0.927427793261605</li>\n",
       "\t<li>0.927193653190243</li>\n",
       "\t<li>0.92724310742685</li>\n",
       "\t<li>0.909994536198865</li>\n",
       "\t<li>0.930416750617565</li>\n",
       "\t<li>0.921998184926634</li>\n",
       "\t<li>0.91292815295324</li>\n",
       "\t<li>0.911287557600117</li>\n",
       "\t<li>0.919732057069628</li>\n",
       "\t<li>0.918608831537866</li>\n",
       "\t<li>0.89447441165374</li>\n",
       "\t<li>0.94239920351749</li>\n",
       "\t<li>0.924697012656603</li>\n",
       "\t<li>0.931974834169665</li>\n",
       "\t<li>0.917647336723828</li>\n",
       "\t<li>0.90491378358702</li>\n",
       "\t<li>0.91371359443036</li>\n",
       "\t<li>0.920874578954312</li>\n",
       "\t<li>0.912563052578902</li>\n",
       "\t<li>0.914259704544302</li>\n",
       "\t<li>0.916052973570784</li>\n",
       "\t<li>0.929032095468224</li>\n",
       "\t<li>0.929418784914445</li>\n",
       "\t<li>0.921269780641876</li>\n",
       "\t<li>0.908498207443802</li>\n",
       "\t<li>0.92854471228908</li>\n",
       "\t<li>0.920037452665521</li>\n",
       "\t<li>0.92444667304405</li>\n",
       "</ol>\n"
      ],
      "text/latex": [
       "\\begin{enumerate*}\n",
       "\\item 0.931996303094708\n",
       "\\item 0.911572233501938\n",
       "\\item 0.921343538796408\n",
       "\\item 0.92186379859347\n",
       "\\item 0.914091526450336\n",
       "\\item 0.915858374712812\n",
       "\\item 0.920900393360496\n",
       "\\item 0.918551373010192\n",
       "\\item 0.907189695795386\n",
       "\\item 0.927350224560842\n",
       "\\item 0.913015078297276\n",
       "\\item 0.920647935206831\n",
       "\\item 0.917374780998096\n",
       "\\item 0.905561531608255\n",
       "\\item 0.915862301005012\n",
       "\\item 0.918732662827264\n",
       "\\item 0.929813127983091\n",
       "\\item 0.912319047310182\n",
       "\\item 0.91828706520701\n",
       "\\item 0.906211540718369\n",
       "\\item 0.913572767995154\n",
       "\\item 0.914224815295502\n",
       "\\item 0.918527423835011\n",
       "\\item 0.903028925672083\n",
       "\\item 0.924488850262275\n",
       "\\item 0.902469997292713\n",
       "\\item 0.912848176890835\n",
       "\\item 0.930846495611308\n",
       "\\item 0.92588471800597\n",
       "\\item 0.911617862146875\n",
       "\\item 0.92233463051652\n",
       "\\item 0.920563335395185\n",
       "\\item 0.918813935055353\n",
       "\\item 0.905034622831934\n",
       "\\item 0.91341198586891\n",
       "\\item 0.906781747192443\n",
       "\\item 0.931330522686778\n",
       "\\item 0.927256562931647\n",
       "\\item 0.932432113575822\n",
       "\\item 0.919112519128307\n",
       "\\item 0.912297207985411\n",
       "\\item 0.902295770947402\n",
       "\\item 0.914269937758931\n",
       "\\item 0.914580294942824\n",
       "\\item 0.935368526925382\n",
       "\\item 0.907718557946958\n",
       "\\item 0.933420668895448\n",
       "\\item 0.921764476196167\n",
       "\\item 0.911451198750918\n",
       "\\item 0.915703321726402\n",
       "\\item 0.906102690622875\n",
       "\\item 0.930280273826787\n",
       "\\item 0.916630151088509\n",
       "\\item 0.91219394743668\n",
       "\\item 0.916315152411318\n",
       "\\item 0.912374417342384\n",
       "\\item 0.92292171626053\n",
       "\\item 0.924554669462155\n",
       "\\item 0.921054531589678\n",
       "\\item 0.919191961806512\n",
       "\\item 0.921537101707262\n",
       "\\item 0.923104890918846\n",
       "\\item 0.908341045237836\n",
       "\\item 0.903556304424061\n",
       "\\item 0.914315255351467\n",
       "\\item 0.913165989888238\n",
       "\\item 0.925369619947988\n",
       "\\item 0.911499717999684\n",
       "\\item 0.925782409402141\n",
       "\\item 0.931522919887929\n",
       "\\item 0.924386536247776\n",
       "\\item 0.924273142759477\n",
       "\\item 0.921578798608391\n",
       "\\item 0.920184066841843\n",
       "\\item 0.929857784942621\n",
       "\\item 0.91320804897557\n",
       "\\item 0.91522562713852\n",
       "\\item 0.906117241051511\n",
       "\\item 0.917696826719182\n",
       "\\item 0.911489652935064\n",
       "\\item 0.906699427349073\n",
       "\\item 0.909522110674423\n",
       "\\item 0.922675285075314\n",
       "\\item 0.917080199867611\n",
       "\\item 0.917872289378221\n",
       "\\item 0.903412877663333\n",
       "\\item 0.915214222179846\n",
       "\\item 0.923281624864282\n",
       "\\item 0.926609744768255\n",
       "\\item 0.916330209846961\n",
       "\\item 0.915808133477544\n",
       "\\item 0.914600565129172\n",
       "\\item 0.922256359850458\n",
       "\\item 0.901101347133561\n",
       "\\item 0.938441125265238\n",
       "\\item 0.921548873561652\n",
       "\\item 0.922378772772392\n",
       "\\item 0.916101889161369\n",
       "\\item 0.918437779675401\n",
       "\\item 0.891450455018159\n",
       "\\item 0.933096817024703\n",
       "\\item 0.90613322356127\n",
       "\\item 0.925059214101466\n",
       "\\item 0.924838647676031\n",
       "\\item 0.917297110710494\n",
       "\\item 0.93016075614183\n",
       "\\item 0.911926797812672\n",
       "\\item 0.90691922198144\n",
       "\\item 0.915215361792171\n",
       "\\item 0.924779725127917\n",
       "\\item 0.918608900129241\n",
       "\\item 0.935638738587061\n",
       "\\item 0.923549654830133\n",
       "\\item 0.92812490773111\n",
       "\\item 0.929538501634153\n",
       "\\item 0.915693985710011\n",
       "\\item 0.896292653445274\n",
       "\\item 0.925899431634945\n",
       "\\item 0.902687963775278\n",
       "\\item 0.921100458071426\n",
       "\\item 0.90946724279666\n",
       "\\item 0.923048173209887\n",
       "\\item 0.911586607875502\n",
       "\\item 0.907171442348123\n",
       "\\item 0.91119785856453\n",
       "\\item 0.928742197456458\n",
       "\\item 0.94705840851418\n",
       "\\item 0.923168043851119\n",
       "\\item 0.910756221306958\n",
       "\\item 0.936405089253354\n",
       "\\item 0.922039411762473\n",
       "\\item 0.928712614888835\n",
       "\\item 0.918215501191921\n",
       "\\item 0.905486306965101\n",
       "\\item 0.921341428628729\n",
       "\\item 0.913654969747192\n",
       "\\item 0.923606068451297\n",
       "\\item 0.911404251788402\n",
       "\\item 0.935448248416933\n",
       "\\item 0.907674362269969\n",
       "\\item 0.937441323578954\n",
       "\\item 0.918886390745869\n",
       "\\item 0.917160598301418\n",
       "\\item 0.920072530124214\n",
       "\\item 0.915154277198149\n",
       "\\item 0.922893141660347\n",
       "\\item 0.916913052385609\n",
       "\\item 0.913155200422006\n",
       "\\item 0.924424507425883\n",
       "\\item 0.925860988755024\n",
       "\\item 0.937269841506225\n",
       "\\item 0.918692370698962\n",
       "\\item 0.93038435264255\n",
       "\\item 0.908941542775562\n",
       "\\item 0.91676670781787\n",
       "\\item 0.910734452190991\n",
       "\\item 0.917073680833027\n",
       "\\item 0.935566158652009\n",
       "\\item 0.918771056783716\n",
       "\\item 0.925119896090764\n",
       "\\item 0.918278898272466\n",
       "\\item 0.90886310931657\n",
       "\\item 0.934948207550779\n",
       "\\item 0.913095074649993\n",
       "\\item 0.926687738234124\n",
       "\\item 0.928075051918739\n",
       "\\item 0.91483956326616\n",
       "\\item 0.936270287776948\n",
       "\\item 0.934102371669409\n",
       "\\item 0.916926120116533\n",
       "\\item 0.906631912981235\n",
       "\\item 0.902678556821837\n",
       "\\item 0.914062085681297\n",
       "\\item 0.922114844631844\n",
       "\\item 0.921053985538204\n",
       "\\item 0.928009812798062\n",
       "\\item 0.930689993778333\n",
       "\\item 0.93057365334765\n",
       "\\item 0.922633279336456\n",
       "\\item 0.921601554173175\n",
       "\\item 0.9082132063184\n",
       "\\item 0.905658930897824\n",
       "\\item 0.928191974294465\n",
       "\\item 0.939586052926111\n",
       "\\item 0.920415042862051\n",
       "\\item 0.918043327493858\n",
       "\\item 0.910141497787701\n",
       "\\item 0.926459360704435\n",
       "\\item 0.902457398878643\n",
       "\\item 0.911528501311675\n",
       "\\item 0.920213757351695\n",
       "\\item 0.914056210123982\n",
       "\\item 0.928975611491791\n",
       "\\item 0.91716477370845\n",
       "\\item 0.928012543653835\n",
       "\\item 0.924595999433332\n",
       "\\item 0.931697284862742\n",
       "\\item 0.918934128232302\n",
       "\\item 0.911454510769761\n",
       "\\item 0.924701923782\n",
       "\\item 0.909450824781969\n",
       "\\item 0.917653883706154\n",
       "\\item 0.918067988481833\n",
       "\\item 0.935362051265691\n",
       "\\item 0.91205680743935\n",
       "\\item 0.917806516110415\n",
       "\\item 0.92506421124935\n",
       "\\item 0.916021639629947\n",
       "\\item 0.925949093156866\n",
       "\\item 0.915250459304486\n",
       "\\item 0.921923325026766\n",
       "\\item 0.919001806245346\n",
       "\\item 0.924912573501435\n",
       "\\item 0.921166803300091\n",
       "\\item 0.921515853062703\n",
       "\\item 0.918310891227525\n",
       "\\item 0.929196329192939\n",
       "\\item 0.92931496390376\n",
       "\\item 0.903346959170217\n",
       "\\item 0.935934624841404\n",
       "\\item 0.904005530045175\n",
       "\\item 0.926994805494908\n",
       "\\item 0.915765226863128\n",
       "\\item 0.898929442317012\n",
       "\\item 0.917944347800912\n",
       "\\item 0.912307390244155\n",
       "\\item 0.929378024787148\n",
       "\\item 0.904912645154384\n",
       "\\item 0.914766471020707\n",
       "\\item 0.926851561667184\n",
       "\\item 0.930961863122337\n",
       "\\item 0.907396451710387\n",
       "\\item 0.909328878435593\n",
       "\\item 0.92905865732659\n",
       "\\item 0.908353238331089\n",
       "\\item 0.915646057360593\n",
       "\\item 0.911503772162863\n",
       "\\item 0.907760432478588\n",
       "\\item 0.923014392716024\n",
       "\\item 0.901516551360629\n",
       "\\item 0.944395596021474\n",
       "\\item 0.932117056314702\n",
       "\\item 0.917042116658186\n",
       "\\item 0.927093151349907\n",
       "\\item 0.909032821567519\n",
       "\\item 0.912333628869279\n",
       "\\item 0.898569213109957\n",
       "\\item 0.923048266471061\n",
       "\\item 0.894515728284437\n",
       "\\item 0.914265201180698\n",
       "\\item 0.926920418409919\n",
       "\\item 0.929590633686043\n",
       "\\item 0.929210210750792\n",
       "\\item 0.915804684084343\n",
       "\\item 0.921189437835398\n",
       "\\item 0.938301188579194\n",
       "\\item 0.901155334637989\n",
       "\\item 0.917984393248894\n",
       "\\item 0.921707504046157\n",
       "\\item 0.921708641224606\n",
       "\\item 0.908248255525306\n",
       "\\item 0.913036132702467\n",
       "\\item 0.925119587494847\n",
       "\\item 0.928408642892188\n",
       "\\item 0.912329579215485\n",
       "\\item 0.917405861733113\n",
       "\\item 0.906198804079486\n",
       "\\item 0.916785629917403\n",
       "\\item 0.936180313846092\n",
       "\\item 0.914301729597736\n",
       "\\item 0.926139654717715\n",
       "\\item 0.937679457043925\n",
       "\\item 0.930050839069231\n",
       "\\item 0.914947690464493\n",
       "\\item 0.92198392454409\n",
       "\\item 0.901583180903355\n",
       "\\item 0.894728591387927\n",
       "\\item 0.915197655103814\n",
       "\\item 0.930342191353147\n",
       "\\item 0.938135617456229\n",
       "\\item 0.928591769393659\n",
       "\\item 0.913296115152779\n",
       "\\item 0.922596125552159\n",
       "\\item 0.915611451501781\n",
       "\\item 0.920618054160744\n",
       "\\item 0.915674345258573\n",
       "\\item 0.919610093992047\n",
       "\\item 0.946495460369215\n",
       "\\item 0.90526018894165\n",
       "\\item 0.92423200550971\n",
       "\\item 0.918786355046213\n",
       "\\item 0.912759163565117\n",
       "\\item 0.924211321214744\n",
       "\\item 0.910533118334788\n",
       "\\item 0.906013905253285\n",
       "\\item 0.917860711487102\n",
       "\\item 0.917736520524453\n",
       "\\item 0.916867794350333\n",
       "\\item 0.916019527443195\n",
       "\\item 0.927136204973076\n",
       "\\item 0.913198627958983\n",
       "\\item 0.92377443423833\n",
       "\\item 0.905040222064345\n",
       "\\item 0.905442595146002\n",
       "\\item 0.930508141164019\n",
       "\\item 0.929175179395424\n",
       "\\item 0.898285595470858\n",
       "\\item 0.919325025527064\n",
       "\\item 0.91480750333617\n",
       "\\item 0.901773471124771\n",
       "\\item 0.927079340907439\n",
       "\\item 0.914984491117059\n",
       "\\item 0.890490807279125\n",
       "\\item 0.912555825513911\n",
       "\\item 0.919390426678899\n",
       "\\item 0.920831864102776\n",
       "\\item 0.911122050209489\n",
       "\\item 0.922374704029893\n",
       "\\item 0.91992554257666\n",
       "\\item 0.913995772734564\n",
       "\\item 0.927059902082121\n",
       "\\item 0.902868145912609\n",
       "\\item 0.91533742205273\n",
       "\\item 0.918165633488822\n",
       "\\item 0.926764551920577\n",
       "\\item 0.907345039287078\n",
       "\\item 0.930673431260329\n",
       "\\item 0.913567753848826\n",
       "\\item 0.920445649205714\n",
       "\\item 0.919842469615883\n",
       "\\item 0.926543765108864\n",
       "\\item 0.919218693090546\n",
       "\\item 0.922938328936003\n",
       "\\item 0.934102359896071\n",
       "\\item 0.925850485808235\n",
       "\\item 0.910218199546819\n",
       "\\item 0.92122622561447\n",
       "\\item 0.92251709222472\n",
       "\\item 0.924236297927573\n",
       "\\item 0.913875609257584\n",
       "\\item 0.929213699868858\n",
       "\\item 0.916440991554969\n",
       "\\item 0.936490809482133\n",
       "\\item 0.916665998657639\n",
       "\\item 0.917609800232554\n",
       "\\item 0.917262889486996\n",
       "\\item 0.924192441765603\n",
       "\\item 0.931210737958044\n",
       "\\item 0.909597428524899\n",
       "\\item 0.899866922201181\n",
       "\\item 0.927885874628989\n",
       "\\item 0.931879718555617\n",
       "\\item 0.921711338177633\n",
       "\\item 0.909344684219226\n",
       "\\item 0.922817076361754\n",
       "\\item 0.918942380796439\n",
       "\\item 0.931383958734851\n",
       "\\item 0.919149213981013\n",
       "\\item 0.933337276319117\n",
       "\\item 0.913041497870369\n",
       "\\item 0.921904395503855\n",
       "\\item 0.920800763369465\n",
       "\\item 0.906918864727706\n",
       "\\item 0.918752135262856\n",
       "\\item 0.915635829230627\n",
       "\\item 0.918716109862256\n",
       "\\item 0.921915251966865\n",
       "\\item 0.921226006463388\n",
       "\\item 0.910127606462732\n",
       "\\item 0.919677202190422\n",
       "\\item 0.928096785140195\n",
       "\\item 0.904475833242028\n",
       "\\item 0.910227535001651\n",
       "\\item 0.913467472509053\n",
       "\\item 0.910933781794514\n",
       "\\item 0.906322321895082\n",
       "\\item 0.925476146413817\n",
       "\\item 0.913078422925598\n",
       "\\item 0.918133057385531\n",
       "\\item 0.928136655786471\n",
       "\\item 0.930848943453261\n",
       "\\item 0.918711580015667\n",
       "\\item 0.916371486005329\n",
       "\\item 0.913568192757939\n",
       "\\item 0.921043484140607\n",
       "\\item 0.918117712294613\n",
       "\\item 0.905925454256316\n",
       "\\item 0.906366130078092\n",
       "\\item 0.919205237852921\n",
       "\\item 0.914127164317625\n",
       "\\item 0.920882221784223\n",
       "\\item 0.917422685621973\n",
       "\\item 0.903755311345107\n",
       "\\item 0.931743023049554\n",
       "\\item 0.936579502631273\n",
       "\\item 0.922154986566238\n",
       "\\item 0.918993456745353\n",
       "\\item 0.913193350622059\n",
       "\\item 0.921837453919602\n",
       "\\item 0.946379864100625\n",
       "\\item 0.915142282241599\n",
       "\\item 0.913920212135291\n",
       "\\item 0.911865191756337\n",
       "\\item 0.940820855435188\n",
       "\\item 0.932677766419129\n",
       "\\item 0.900708498280069\n",
       "\\item 0.91097829564102\n",
       "\\item 0.923308491277513\n",
       "\\item 0.923009529245693\n",
       "\\item 0.941415509081904\n",
       "\\item 0.93190264472019\n",
       "\\item 0.891124891297933\n",
       "\\item 0.920064641779076\n",
       "\\item 0.928185324010069\n",
       "\\item 0.887009453212707\n",
       "\\item 0.920750115861807\n",
       "\\item 0.910490235352147\n",
       "\\item 0.920520567223765\n",
       "\\item 0.913548058282993\n",
       "\\item 0.925623917914317\n",
       "\\item 0.904735463684261\n",
       "\\item 0.921602591802509\n",
       "\\item 0.927497397493364\n",
       "\\item 0.914631435919588\n",
       "\\item 0.905274186712036\n",
       "\\item 0.903547280880655\n",
       "\\item 0.918055116122612\n",
       "\\item 0.947294366021683\n",
       "\\item 0.91514962810183\n",
       "\\item 0.916242695960677\n",
       "\\item 0.934046981765833\n",
       "\\item 0.922949231610117\n",
       "\\item 0.908114234053463\n",
       "\\item 0.918559231849352\n",
       "\\item 0.908486322744298\n",
       "\\item 0.9186001846662\n",
       "\\item 0.918853148359022\n",
       "\\item 0.915050829528108\n",
       "\\item 0.906157096865959\n",
       "\\item 0.927085672911995\n",
       "\\item 0.930552628677712\n",
       "\\item 0.9102424375416\n",
       "\\item 0.90822603677996\n",
       "\\item 0.928642544189435\n",
       "\\item 0.932762922476229\n",
       "\\item 0.93948439268718\n",
       "\\item 0.918865756125984\n",
       "\\item 0.910748211493274\n",
       "\\item 0.907379616968618\n",
       "\\item 0.924111933787017\n",
       "\\item 0.921058384399803\n",
       "\\item 0.920839943032156\n",
       "\\item 0.923812227002345\n",
       "\\item 0.916838315356192\n",
       "\\item 0.921987849334468\n",
       "\\item 0.909930837478796\n",
       "\\item 0.914882593298294\n",
       "\\item 0.911836898711254\n",
       "\\item 0.922447313620176\n",
       "\\item 0.922817449197683\n",
       "\\item 0.915534142555994\n",
       "\\item 0.932888334752518\n",
       "\\item 0.906426705085519\n",
       "\\item 0.915128244979934\n",
       "\\item 0.930242102278225\n",
       "\\item 0.911667541887532\n",
       "\\item 0.92057420365658\n",
       "\\item 0.90107506666376\n",
       "\\item 0.941126503377648\n",
       "\\item 0.910931642790616\n",
       "\\item 0.920031729106909\n",
       "\\item 0.921952908952945\n",
       "\\item 0.927427793261605\n",
       "\\item 0.927193653190243\n",
       "\\item 0.92724310742685\n",
       "\\item 0.909994536198865\n",
       "\\item 0.930416750617565\n",
       "\\item 0.921998184926634\n",
       "\\item 0.91292815295324\n",
       "\\item 0.911287557600117\n",
       "\\item 0.919732057069628\n",
       "\\item 0.918608831537866\n",
       "\\item 0.89447441165374\n",
       "\\item 0.94239920351749\n",
       "\\item 0.924697012656603\n",
       "\\item 0.931974834169665\n",
       "\\item 0.917647336723828\n",
       "\\item 0.90491378358702\n",
       "\\item 0.91371359443036\n",
       "\\item 0.920874578954312\n",
       "\\item 0.912563052578902\n",
       "\\item 0.914259704544302\n",
       "\\item 0.916052973570784\n",
       "\\item 0.929032095468224\n",
       "\\item 0.929418784914445\n",
       "\\item 0.921269780641876\n",
       "\\item 0.908498207443802\n",
       "\\item 0.92854471228908\n",
       "\\item 0.920037452665521\n",
       "\\item 0.92444667304405\n",
       "\\end{enumerate*}\n"
      ],
      "text/markdown": [
       "1. 0.931996303094708\n",
       "2. 0.911572233501938\n",
       "3. 0.921343538796408\n",
       "4. 0.92186379859347\n",
       "5. 0.914091526450336\n",
       "6. 0.915858374712812\n",
       "7. 0.920900393360496\n",
       "8. 0.918551373010192\n",
       "9. 0.907189695795386\n",
       "10. 0.927350224560842\n",
       "11. 0.913015078297276\n",
       "12. 0.920647935206831\n",
       "13. 0.917374780998096\n",
       "14. 0.905561531608255\n",
       "15. 0.915862301005012\n",
       "16. 0.918732662827264\n",
       "17. 0.929813127983091\n",
       "18. 0.912319047310182\n",
       "19. 0.91828706520701\n",
       "20. 0.906211540718369\n",
       "21. 0.913572767995154\n",
       "22. 0.914224815295502\n",
       "23. 0.918527423835011\n",
       "24. 0.903028925672083\n",
       "25. 0.924488850262275\n",
       "26. 0.902469997292713\n",
       "27. 0.912848176890835\n",
       "28. 0.930846495611308\n",
       "29. 0.92588471800597\n",
       "30. 0.911617862146875\n",
       "31. 0.92233463051652\n",
       "32. 0.920563335395185\n",
       "33. 0.918813935055353\n",
       "34. 0.905034622831934\n",
       "35. 0.91341198586891\n",
       "36. 0.906781747192443\n",
       "37. 0.931330522686778\n",
       "38. 0.927256562931647\n",
       "39. 0.932432113575822\n",
       "40. 0.919112519128307\n",
       "41. 0.912297207985411\n",
       "42. 0.902295770947402\n",
       "43. 0.914269937758931\n",
       "44. 0.914580294942824\n",
       "45. 0.935368526925382\n",
       "46. 0.907718557946958\n",
       "47. 0.933420668895448\n",
       "48. 0.921764476196167\n",
       "49. 0.911451198750918\n",
       "50. 0.915703321726402\n",
       "51. 0.906102690622875\n",
       "52. 0.930280273826787\n",
       "53. 0.916630151088509\n",
       "54. 0.91219394743668\n",
       "55. 0.916315152411318\n",
       "56. 0.912374417342384\n",
       "57. 0.92292171626053\n",
       "58. 0.924554669462155\n",
       "59. 0.921054531589678\n",
       "60. 0.919191961806512\n",
       "61. 0.921537101707262\n",
       "62. 0.923104890918846\n",
       "63. 0.908341045237836\n",
       "64. 0.903556304424061\n",
       "65. 0.914315255351467\n",
       "66. 0.913165989888238\n",
       "67. 0.925369619947988\n",
       "68. 0.911499717999684\n",
       "69. 0.925782409402141\n",
       "70. 0.931522919887929\n",
       "71. 0.924386536247776\n",
       "72. 0.924273142759477\n",
       "73. 0.921578798608391\n",
       "74. 0.920184066841843\n",
       "75. 0.929857784942621\n",
       "76. 0.91320804897557\n",
       "77. 0.91522562713852\n",
       "78. 0.906117241051511\n",
       "79. 0.917696826719182\n",
       "80. 0.911489652935064\n",
       "81. 0.906699427349073\n",
       "82. 0.909522110674423\n",
       "83. 0.922675285075314\n",
       "84. 0.917080199867611\n",
       "85. 0.917872289378221\n",
       "86. 0.903412877663333\n",
       "87. 0.915214222179846\n",
       "88. 0.923281624864282\n",
       "89. 0.926609744768255\n",
       "90. 0.916330209846961\n",
       "91. 0.915808133477544\n",
       "92. 0.914600565129172\n",
       "93. 0.922256359850458\n",
       "94. 0.901101347133561\n",
       "95. 0.938441125265238\n",
       "96. 0.921548873561652\n",
       "97. 0.922378772772392\n",
       "98. 0.916101889161369\n",
       "99. 0.918437779675401\n",
       "100. 0.891450455018159\n",
       "101. 0.933096817024703\n",
       "102. 0.90613322356127\n",
       "103. 0.925059214101466\n",
       "104. 0.924838647676031\n",
       "105. 0.917297110710494\n",
       "106. 0.93016075614183\n",
       "107. 0.911926797812672\n",
       "108. 0.90691922198144\n",
       "109. 0.915215361792171\n",
       "110. 0.924779725127917\n",
       "111. 0.918608900129241\n",
       "112. 0.935638738587061\n",
       "113. 0.923549654830133\n",
       "114. 0.92812490773111\n",
       "115. 0.929538501634153\n",
       "116. 0.915693985710011\n",
       "117. 0.896292653445274\n",
       "118. 0.925899431634945\n",
       "119. 0.902687963775278\n",
       "120. 0.921100458071426\n",
       "121. 0.90946724279666\n",
       "122. 0.923048173209887\n",
       "123. 0.911586607875502\n",
       "124. 0.907171442348123\n",
       "125. 0.91119785856453\n",
       "126. 0.928742197456458\n",
       "127. 0.94705840851418\n",
       "128. 0.923168043851119\n",
       "129. 0.910756221306958\n",
       "130. 0.936405089253354\n",
       "131. 0.922039411762473\n",
       "132. 0.928712614888835\n",
       "133. 0.918215501191921\n",
       "134. 0.905486306965101\n",
       "135. 0.921341428628729\n",
       "136. 0.913654969747192\n",
       "137. 0.923606068451297\n",
       "138. 0.911404251788402\n",
       "139. 0.935448248416933\n",
       "140. 0.907674362269969\n",
       "141. 0.937441323578954\n",
       "142. 0.918886390745869\n",
       "143. 0.917160598301418\n",
       "144. 0.920072530124214\n",
       "145. 0.915154277198149\n",
       "146. 0.922893141660347\n",
       "147. 0.916913052385609\n",
       "148. 0.913155200422006\n",
       "149. 0.924424507425883\n",
       "150. 0.925860988755024\n",
       "151. 0.937269841506225\n",
       "152. 0.918692370698962\n",
       "153. 0.93038435264255\n",
       "154. 0.908941542775562\n",
       "155. 0.91676670781787\n",
       "156. 0.910734452190991\n",
       "157. 0.917073680833027\n",
       "158. 0.935566158652009\n",
       "159. 0.918771056783716\n",
       "160. 0.925119896090764\n",
       "161. 0.918278898272466\n",
       "162. 0.90886310931657\n",
       "163. 0.934948207550779\n",
       "164. 0.913095074649993\n",
       "165. 0.926687738234124\n",
       "166. 0.928075051918739\n",
       "167. 0.91483956326616\n",
       "168. 0.936270287776948\n",
       "169. 0.934102371669409\n",
       "170. 0.916926120116533\n",
       "171. 0.906631912981235\n",
       "172. 0.902678556821837\n",
       "173. 0.914062085681297\n",
       "174. 0.922114844631844\n",
       "175. 0.921053985538204\n",
       "176. 0.928009812798062\n",
       "177. 0.930689993778333\n",
       "178. 0.93057365334765\n",
       "179. 0.922633279336456\n",
       "180. 0.921601554173175\n",
       "181. 0.9082132063184\n",
       "182. 0.905658930897824\n",
       "183. 0.928191974294465\n",
       "184. 0.939586052926111\n",
       "185. 0.920415042862051\n",
       "186. 0.918043327493858\n",
       "187. 0.910141497787701\n",
       "188. 0.926459360704435\n",
       "189. 0.902457398878643\n",
       "190. 0.911528501311675\n",
       "191. 0.920213757351695\n",
       "192. 0.914056210123982\n",
       "193. 0.928975611491791\n",
       "194. 0.91716477370845\n",
       "195. 0.928012543653835\n",
       "196. 0.924595999433332\n",
       "197. 0.931697284862742\n",
       "198. 0.918934128232302\n",
       "199. 0.911454510769761\n",
       "200. 0.924701923782\n",
       "201. 0.909450824781969\n",
       "202. 0.917653883706154\n",
       "203. 0.918067988481833\n",
       "204. 0.935362051265691\n",
       "205. 0.91205680743935\n",
       "206. 0.917806516110415\n",
       "207. 0.92506421124935\n",
       "208. 0.916021639629947\n",
       "209. 0.925949093156866\n",
       "210. 0.915250459304486\n",
       "211. 0.921923325026766\n",
       "212. 0.919001806245346\n",
       "213. 0.924912573501435\n",
       "214. 0.921166803300091\n",
       "215. 0.921515853062703\n",
       "216. 0.918310891227525\n",
       "217. 0.929196329192939\n",
       "218. 0.92931496390376\n",
       "219. 0.903346959170217\n",
       "220. 0.935934624841404\n",
       "221. 0.904005530045175\n",
       "222. 0.926994805494908\n",
       "223. 0.915765226863128\n",
       "224. 0.898929442317012\n",
       "225. 0.917944347800912\n",
       "226. 0.912307390244155\n",
       "227. 0.929378024787148\n",
       "228. 0.904912645154384\n",
       "229. 0.914766471020707\n",
       "230. 0.926851561667184\n",
       "231. 0.930961863122337\n",
       "232. 0.907396451710387\n",
       "233. 0.909328878435593\n",
       "234. 0.92905865732659\n",
       "235. 0.908353238331089\n",
       "236. 0.915646057360593\n",
       "237. 0.911503772162863\n",
       "238. 0.907760432478588\n",
       "239. 0.923014392716024\n",
       "240. 0.901516551360629\n",
       "241. 0.944395596021474\n",
       "242. 0.932117056314702\n",
       "243. 0.917042116658186\n",
       "244. 0.927093151349907\n",
       "245. 0.909032821567519\n",
       "246. 0.912333628869279\n",
       "247. 0.898569213109957\n",
       "248. 0.923048266471061\n",
       "249. 0.894515728284437\n",
       "250. 0.914265201180698\n",
       "251. 0.926920418409919\n",
       "252. 0.929590633686043\n",
       "253. 0.929210210750792\n",
       "254. 0.915804684084343\n",
       "255. 0.921189437835398\n",
       "256. 0.938301188579194\n",
       "257. 0.901155334637989\n",
       "258. 0.917984393248894\n",
       "259. 0.921707504046157\n",
       "260. 0.921708641224606\n",
       "261. 0.908248255525306\n",
       "262. 0.913036132702467\n",
       "263. 0.925119587494847\n",
       "264. 0.928408642892188\n",
       "265. 0.912329579215485\n",
       "266. 0.917405861733113\n",
       "267. 0.906198804079486\n",
       "268. 0.916785629917403\n",
       "269. 0.936180313846092\n",
       "270. 0.914301729597736\n",
       "271. 0.926139654717715\n",
       "272. 0.937679457043925\n",
       "273. 0.930050839069231\n",
       "274. 0.914947690464493\n",
       "275. 0.92198392454409\n",
       "276. 0.901583180903355\n",
       "277. 0.894728591387927\n",
       "278. 0.915197655103814\n",
       "279. 0.930342191353147\n",
       "280. 0.938135617456229\n",
       "281. 0.928591769393659\n",
       "282. 0.913296115152779\n",
       "283. 0.922596125552159\n",
       "284. 0.915611451501781\n",
       "285. 0.920618054160744\n",
       "286. 0.915674345258573\n",
       "287. 0.919610093992047\n",
       "288. 0.946495460369215\n",
       "289. 0.90526018894165\n",
       "290. 0.92423200550971\n",
       "291. 0.918786355046213\n",
       "292. 0.912759163565117\n",
       "293. 0.924211321214744\n",
       "294. 0.910533118334788\n",
       "295. 0.906013905253285\n",
       "296. 0.917860711487102\n",
       "297. 0.917736520524453\n",
       "298. 0.916867794350333\n",
       "299. 0.916019527443195\n",
       "300. 0.927136204973076\n",
       "301. 0.913198627958983\n",
       "302. 0.92377443423833\n",
       "303. 0.905040222064345\n",
       "304. 0.905442595146002\n",
       "305. 0.930508141164019\n",
       "306. 0.929175179395424\n",
       "307. 0.898285595470858\n",
       "308. 0.919325025527064\n",
       "309. 0.91480750333617\n",
       "310. 0.901773471124771\n",
       "311. 0.927079340907439\n",
       "312. 0.914984491117059\n",
       "313. 0.890490807279125\n",
       "314. 0.912555825513911\n",
       "315. 0.919390426678899\n",
       "316. 0.920831864102776\n",
       "317. 0.911122050209489\n",
       "318. 0.922374704029893\n",
       "319. 0.91992554257666\n",
       "320. 0.913995772734564\n",
       "321. 0.927059902082121\n",
       "322. 0.902868145912609\n",
       "323. 0.91533742205273\n",
       "324. 0.918165633488822\n",
       "325. 0.926764551920577\n",
       "326. 0.907345039287078\n",
       "327. 0.930673431260329\n",
       "328. 0.913567753848826\n",
       "329. 0.920445649205714\n",
       "330. 0.919842469615883\n",
       "331. 0.926543765108864\n",
       "332. 0.919218693090546\n",
       "333. 0.922938328936003\n",
       "334. 0.934102359896071\n",
       "335. 0.925850485808235\n",
       "336. 0.910218199546819\n",
       "337. 0.92122622561447\n",
       "338. 0.92251709222472\n",
       "339. 0.924236297927573\n",
       "340. 0.913875609257584\n",
       "341. 0.929213699868858\n",
       "342. 0.916440991554969\n",
       "343. 0.936490809482133\n",
       "344. 0.916665998657639\n",
       "345. 0.917609800232554\n",
       "346. 0.917262889486996\n",
       "347. 0.924192441765603\n",
       "348. 0.931210737958044\n",
       "349. 0.909597428524899\n",
       "350. 0.899866922201181\n",
       "351. 0.927885874628989\n",
       "352. 0.931879718555617\n",
       "353. 0.921711338177633\n",
       "354. 0.909344684219226\n",
       "355. 0.922817076361754\n",
       "356. 0.918942380796439\n",
       "357. 0.931383958734851\n",
       "358. 0.919149213981013\n",
       "359. 0.933337276319117\n",
       "360. 0.913041497870369\n",
       "361. 0.921904395503855\n",
       "362. 0.920800763369465\n",
       "363. 0.906918864727706\n",
       "364. 0.918752135262856\n",
       "365. 0.915635829230627\n",
       "366. 0.918716109862256\n",
       "367. 0.921915251966865\n",
       "368. 0.921226006463388\n",
       "369. 0.910127606462732\n",
       "370. 0.919677202190422\n",
       "371. 0.928096785140195\n",
       "372. 0.904475833242028\n",
       "373. 0.910227535001651\n",
       "374. 0.913467472509053\n",
       "375. 0.910933781794514\n",
       "376. 0.906322321895082\n",
       "377. 0.925476146413817\n",
       "378. 0.913078422925598\n",
       "379. 0.918133057385531\n",
       "380. 0.928136655786471\n",
       "381. 0.930848943453261\n",
       "382. 0.918711580015667\n",
       "383. 0.916371486005329\n",
       "384. 0.913568192757939\n",
       "385. 0.921043484140607\n",
       "386. 0.918117712294613\n",
       "387. 0.905925454256316\n",
       "388. 0.906366130078092\n",
       "389. 0.919205237852921\n",
       "390. 0.914127164317625\n",
       "391. 0.920882221784223\n",
       "392. 0.917422685621973\n",
       "393. 0.903755311345107\n",
       "394. 0.931743023049554\n",
       "395. 0.936579502631273\n",
       "396. 0.922154986566238\n",
       "397. 0.918993456745353\n",
       "398. 0.913193350622059\n",
       "399. 0.921837453919602\n",
       "400. 0.946379864100625\n",
       "401. 0.915142282241599\n",
       "402. 0.913920212135291\n",
       "403. 0.911865191756337\n",
       "404. 0.940820855435188\n",
       "405. 0.932677766419129\n",
       "406. 0.900708498280069\n",
       "407. 0.91097829564102\n",
       "408. 0.923308491277513\n",
       "409. 0.923009529245693\n",
       "410. 0.941415509081904\n",
       "411. 0.93190264472019\n",
       "412. 0.891124891297933\n",
       "413. 0.920064641779076\n",
       "414. 0.928185324010069\n",
       "415. 0.887009453212707\n",
       "416. 0.920750115861807\n",
       "417. 0.910490235352147\n",
       "418. 0.920520567223765\n",
       "419. 0.913548058282993\n",
       "420. 0.925623917914317\n",
       "421. 0.904735463684261\n",
       "422. 0.921602591802509\n",
       "423. 0.927497397493364\n",
       "424. 0.914631435919588\n",
       "425. 0.905274186712036\n",
       "426. 0.903547280880655\n",
       "427. 0.918055116122612\n",
       "428. 0.947294366021683\n",
       "429. 0.91514962810183\n",
       "430. 0.916242695960677\n",
       "431. 0.934046981765833\n",
       "432. 0.922949231610117\n",
       "433. 0.908114234053463\n",
       "434. 0.918559231849352\n",
       "435. 0.908486322744298\n",
       "436. 0.9186001846662\n",
       "437. 0.918853148359022\n",
       "438. 0.915050829528108\n",
       "439. 0.906157096865959\n",
       "440. 0.927085672911995\n",
       "441. 0.930552628677712\n",
       "442. 0.9102424375416\n",
       "443. 0.90822603677996\n",
       "444. 0.928642544189435\n",
       "445. 0.932762922476229\n",
       "446. 0.93948439268718\n",
       "447. 0.918865756125984\n",
       "448. 0.910748211493274\n",
       "449. 0.907379616968618\n",
       "450. 0.924111933787017\n",
       "451. 0.921058384399803\n",
       "452. 0.920839943032156\n",
       "453. 0.923812227002345\n",
       "454. 0.916838315356192\n",
       "455. 0.921987849334468\n",
       "456. 0.909930837478796\n",
       "457. 0.914882593298294\n",
       "458. 0.911836898711254\n",
       "459. 0.922447313620176\n",
       "460. 0.922817449197683\n",
       "461. 0.915534142555994\n",
       "462. 0.932888334752518\n",
       "463. 0.906426705085519\n",
       "464. 0.915128244979934\n",
       "465. 0.930242102278225\n",
       "466. 0.911667541887532\n",
       "467. 0.92057420365658\n",
       "468. 0.90107506666376\n",
       "469. 0.941126503377648\n",
       "470. 0.910931642790616\n",
       "471. 0.920031729106909\n",
       "472. 0.921952908952945\n",
       "473. 0.927427793261605\n",
       "474. 0.927193653190243\n",
       "475. 0.92724310742685\n",
       "476. 0.909994536198865\n",
       "477. 0.930416750617565\n",
       "478. 0.921998184926634\n",
       "479. 0.91292815295324\n",
       "480. 0.911287557600117\n",
       "481. 0.919732057069628\n",
       "482. 0.918608831537866\n",
       "483. 0.89447441165374\n",
       "484. 0.94239920351749\n",
       "485. 0.924697012656603\n",
       "486. 0.931974834169665\n",
       "487. 0.917647336723828\n",
       "488. 0.90491378358702\n",
       "489. 0.91371359443036\n",
       "490. 0.920874578954312\n",
       "491. 0.912563052578902\n",
       "492. 0.914259704544302\n",
       "493. 0.916052973570784\n",
       "494. 0.929032095468224\n",
       "495. 0.929418784914445\n",
       "496. 0.921269780641876\n",
       "497. 0.908498207443802\n",
       "498. 0.92854471228908\n",
       "499. 0.920037452665521\n",
       "500. 0.92444667304405\n",
       "\n",
       "\n"
      ],
      "text/plain": [
       "  [1] 0.9319963 0.9115722 0.9213435 0.9218638 0.9140915 0.9158584 0.9209004\n",
       "  [8] 0.9185514 0.9071897 0.9273502 0.9130151 0.9206479 0.9173748 0.9055615\n",
       " [15] 0.9158623 0.9187327 0.9298131 0.9123190 0.9182871 0.9062115 0.9135728\n",
       " [22] 0.9142248 0.9185274 0.9030289 0.9244889 0.9024700 0.9128482 0.9308465\n",
       " [29] 0.9258847 0.9116179 0.9223346 0.9205633 0.9188139 0.9050346 0.9134120\n",
       " [36] 0.9067817 0.9313305 0.9272566 0.9324321 0.9191125 0.9122972 0.9022958\n",
       " [43] 0.9142699 0.9145803 0.9353685 0.9077186 0.9334207 0.9217645 0.9114512\n",
       " [50] 0.9157033 0.9061027 0.9302803 0.9166302 0.9121939 0.9163152 0.9123744\n",
       " [57] 0.9229217 0.9245547 0.9210545 0.9191920 0.9215371 0.9231049 0.9083410\n",
       " [64] 0.9035563 0.9143153 0.9131660 0.9253696 0.9114997 0.9257824 0.9315229\n",
       " [71] 0.9243865 0.9242731 0.9215788 0.9201841 0.9298578 0.9132080 0.9152256\n",
       " [78] 0.9061172 0.9176968 0.9114897 0.9066994 0.9095221 0.9226753 0.9170802\n",
       " [85] 0.9178723 0.9034129 0.9152142 0.9232816 0.9266097 0.9163302 0.9158081\n",
       " [92] 0.9146006 0.9222564 0.9011013 0.9384411 0.9215489 0.9223788 0.9161019\n",
       " [99] 0.9184378 0.8914505 0.9330968 0.9061332 0.9250592 0.9248386 0.9172971\n",
       "[106] 0.9301608 0.9119268 0.9069192 0.9152154 0.9247797 0.9186089 0.9356387\n",
       "[113] 0.9235497 0.9281249 0.9295385 0.9156940 0.8962927 0.9258994 0.9026880\n",
       "[120] 0.9211005 0.9094672 0.9230482 0.9115866 0.9071714 0.9111979 0.9287422\n",
       "[127] 0.9470584 0.9231680 0.9107562 0.9364051 0.9220394 0.9287126 0.9182155\n",
       "[134] 0.9054863 0.9213414 0.9136550 0.9236061 0.9114043 0.9354482 0.9076744\n",
       "[141] 0.9374413 0.9188864 0.9171606 0.9200725 0.9151543 0.9228931 0.9169131\n",
       "[148] 0.9131552 0.9244245 0.9258610 0.9372698 0.9186924 0.9303844 0.9089415\n",
       "[155] 0.9167667 0.9107345 0.9170737 0.9355662 0.9187711 0.9251199 0.9182789\n",
       "[162] 0.9088631 0.9349482 0.9130951 0.9266877 0.9280751 0.9148396 0.9362703\n",
       "[169] 0.9341024 0.9169261 0.9066319 0.9026786 0.9140621 0.9221148 0.9210540\n",
       "[176] 0.9280098 0.9306900 0.9305737 0.9226333 0.9216016 0.9082132 0.9056589\n",
       "[183] 0.9281920 0.9395861 0.9204150 0.9180433 0.9101415 0.9264594 0.9024574\n",
       "[190] 0.9115285 0.9202138 0.9140562 0.9289756 0.9171648 0.9280125 0.9245960\n",
       "[197] 0.9316973 0.9189341 0.9114545 0.9247019 0.9094508 0.9176539 0.9180680\n",
       "[204] 0.9353621 0.9120568 0.9178065 0.9250642 0.9160216 0.9259491 0.9152505\n",
       "[211] 0.9219233 0.9190018 0.9249126 0.9211668 0.9215159 0.9183109 0.9291963\n",
       "[218] 0.9293150 0.9033470 0.9359346 0.9040055 0.9269948 0.9157652 0.8989294\n",
       "[225] 0.9179443 0.9123074 0.9293780 0.9049126 0.9147665 0.9268516 0.9309619\n",
       "[232] 0.9073965 0.9093289 0.9290587 0.9083532 0.9156461 0.9115038 0.9077604\n",
       "[239] 0.9230144 0.9015166 0.9443956 0.9321171 0.9170421 0.9270932 0.9090328\n",
       "[246] 0.9123336 0.8985692 0.9230483 0.8945157 0.9142652 0.9269204 0.9295906\n",
       "[253] 0.9292102 0.9158047 0.9211894 0.9383012 0.9011553 0.9179844 0.9217075\n",
       "[260] 0.9217086 0.9082483 0.9130361 0.9251196 0.9284086 0.9123296 0.9174059\n",
       "[267] 0.9061988 0.9167856 0.9361803 0.9143017 0.9261397 0.9376795 0.9300508\n",
       "[274] 0.9149477 0.9219839 0.9015832 0.8947286 0.9151977 0.9303422 0.9381356\n",
       "[281] 0.9285918 0.9132961 0.9225961 0.9156115 0.9206181 0.9156743 0.9196101\n",
       "[288] 0.9464955 0.9052602 0.9242320 0.9187864 0.9127592 0.9242113 0.9105331\n",
       "[295] 0.9060139 0.9178607 0.9177365 0.9168678 0.9160195 0.9271362 0.9131986\n",
       "[302] 0.9237744 0.9050402 0.9054426 0.9305081 0.9291752 0.8982856 0.9193250\n",
       "[309] 0.9148075 0.9017735 0.9270793 0.9149845 0.8904908 0.9125558 0.9193904\n",
       "[316] 0.9208319 0.9111221 0.9223747 0.9199255 0.9139958 0.9270599 0.9028681\n",
       "[323] 0.9153374 0.9181656 0.9267646 0.9073450 0.9306734 0.9135678 0.9204456\n",
       "[330] 0.9198425 0.9265438 0.9192187 0.9229383 0.9341024 0.9258505 0.9102182\n",
       "[337] 0.9212262 0.9225171 0.9242363 0.9138756 0.9292137 0.9164410 0.9364908\n",
       "[344] 0.9166660 0.9176098 0.9172629 0.9241924 0.9312107 0.9095974 0.8998669\n",
       "[351] 0.9278859 0.9318797 0.9217113 0.9093447 0.9228171 0.9189424 0.9313840\n",
       "[358] 0.9191492 0.9333373 0.9130415 0.9219044 0.9208008 0.9069189 0.9187521\n",
       "[365] 0.9156358 0.9187161 0.9219153 0.9212260 0.9101276 0.9196772 0.9280968\n",
       "[372] 0.9044758 0.9102275 0.9134675 0.9109338 0.9063223 0.9254761 0.9130784\n",
       "[379] 0.9181331 0.9281367 0.9308489 0.9187116 0.9163715 0.9135682 0.9210435\n",
       "[386] 0.9181177 0.9059255 0.9063661 0.9192052 0.9141272 0.9208822 0.9174227\n",
       "[393] 0.9037553 0.9317430 0.9365795 0.9221550 0.9189935 0.9131934 0.9218375\n",
       "[400] 0.9463799 0.9151423 0.9139202 0.9118652 0.9408209 0.9326778 0.9007085\n",
       "[407] 0.9109783 0.9233085 0.9230095 0.9414155 0.9319026 0.8911249 0.9200646\n",
       "[414] 0.9281853 0.8870095 0.9207501 0.9104902 0.9205206 0.9135481 0.9256239\n",
       "[421] 0.9047355 0.9216026 0.9274974 0.9146314 0.9052742 0.9035473 0.9180551\n",
       "[428] 0.9472944 0.9151496 0.9162427 0.9340470 0.9229492 0.9081142 0.9185592\n",
       "[435] 0.9084863 0.9186002 0.9188531 0.9150508 0.9061571 0.9270857 0.9305526\n",
       "[442] 0.9102424 0.9082260 0.9286425 0.9327629 0.9394844 0.9188658 0.9107482\n",
       "[449] 0.9073796 0.9241119 0.9210584 0.9208399 0.9238122 0.9168383 0.9219878\n",
       "[456] 0.9099308 0.9148826 0.9118369 0.9224473 0.9228174 0.9155341 0.9328883\n",
       "[463] 0.9064267 0.9151282 0.9302421 0.9116675 0.9205742 0.9010751 0.9411265\n",
       "[470] 0.9109316 0.9200317 0.9219529 0.9274278 0.9271937 0.9272431 0.9099945\n",
       "[477] 0.9304168 0.9219982 0.9129282 0.9112876 0.9197321 0.9186088 0.8944744\n",
       "[484] 0.9423992 0.9246970 0.9319748 0.9176473 0.9049138 0.9137136 0.9208746\n",
       "[491] 0.9125631 0.9142597 0.9160530 0.9290321 0.9294188 0.9212698 0.9084982\n",
       "[498] 0.9285447 0.9200375 0.9244467"
      ]
     },
     "metadata": {},
     "output_type": "display_data"
    }
   ],
   "source": [
    "head(rg[,1,2], 500)"
   ]
  },
  {
   "cell_type": "code",
   "execution_count": 115,
   "metadata": {},
   "outputs": [
    {
     "name": "stdout",
     "output_type": "stream",
     "text": [
      "[1] \"Files loaded\"\n"
     ]
    },
    {
     "name": "stderr",
     "output_type": "stream",
     "text": [
      "Warning message:\n",
      "“attributes are not identical across measure variables; they will be dropped”"
     ]
    },
    {
     "name": "stdout",
     "output_type": "stream",
     "text": [
      "  trait    int sex              value\n",
      "1  eGFR     up  hf 0.0507160993360999\n",
      "2  eGFR    low  hf 0.0474710913073281\n",
      "3  eGFR center  hf 0.0478651004601731\n",
      "4  eGFR     up  hm  0.154618331807347\n",
      "5  eGFR    low  hm  0.137938199516606\n",
      "6  eGFR center  hm   0.14408293334523\n"
     ]
    }
   ],
   "source": [
    " DATA.FOLDER <- \"/scratch/PI/mrivas/users/erflynn/sex_div_gwas/data/1015/\"\n",
    "    fit.file=sprintf(\"%s/m1/f_%s.RData\", DATA.FOLDER, trait)\n",
    "\n",
    "        load(file=fit.file)\n",
    "        load(file=sprintf(\"%s/dat_%s.RData\", DATA.FOLDER, trait))\n",
    "print(\"Files loaded\")\n",
    "trait <- \"eGFR\"\n",
    "list_of_draws <- rstan::extract(fit1)\n",
    "        pi.draws <- list_of_draws$pi\n",
    "        p <- pi.draws\n",
    "        s.draws <- list_of_draws$Sigma\n",
    "        Sigma <- s.draws\n",
    "\n",
    "        # extract lower + upper pi\n",
    "        rg.draws <- list_of_draws$Omegacor\n",
    "        rg <- rg.draws\n",
    "        my.order <- order(p[,2])\n",
    "        ordered.p <- p[my.order,] # ordering p by the non-null component \n",
    "        p.lower <- ordered.p[0.025*nrow(ordered.p),]\n",
    "        p.upper <- ordered.p[0.975*nrow(ordered.p),]\n",
    "        p.center <- ordered.p[0.50*nrow(ordered.p),]\n",
    "    \n",
    "        # extract lower + upper sigma\n",
    "        ordered.S <- Sigma[my.order,,]\n",
    "        s.upper <- ordered.S[0.975*dim(Sigma)[1],,]\n",
    "        s.lower <- ordered.S[0.025*dim(Sigma)[1],,]\n",
    "        s.center <- ordered.S[0.50*dim(Sigma)[1],,]\n",
    "\n",
    "        # recalculate SNP membership\n",
    "        dat2 <- dat\n",
    "        dat2$categories <- NULL\n",
    "        dat.u <- labelCategories(dat2, s.upper, p.upper)\n",
    "        dat.l <- labelCategories(dat2, s.lower, p.lower)\n",
    "        dat.c <- labelCategories(dat2, s.center, p.center)\n",
    "\n",
    "        h.up <- overallHeritability(dat.u, s.upper, p.upper)\n",
    "        h.low <- overallHeritability(dat.l, s.lower, p.lower)\n",
    "        h.center <- overallHeritability(dat.c, s.center, p.center)\n",
    "    res <- list(\"up\"=h.up, \"low\"=h.low, \"center\"=h.center)\n",
    "  \n",
    "        # reformat into data frame\n",
    "\n",
    "     my.df <- cbind(t(as.data.frame(res)), trait)\n",
    "        my.df2 <- data.frame(cbind(my.df, rownames(my.df)))\n",
    "\n",
    "    colnames(my.df2) <- c(\"hf\", \"hm\", \"trait\", \"int\")\n",
    "    my.df3 <- melt(my.df2, id.vars=c(\"trait\", \"int\"), variable.name=\"sex\")\n",
    "         rownames(my.df3) <- NULL\n",
    "    downsampled_str <- \"\"\n",
    "    print(my.df3)"
   ]
  },
  {
   "cell_type": "code",
   "execution_count": 24,
   "metadata": {},
   "outputs": [
    {
     "data": {
      "text/html": [
       "40"
      ],
      "text/latex": [
       "40"
      ],
      "text/markdown": [
       "40"
      ],
      "text/plain": [
       "[1] 40"
      ]
     },
     "metadata": {},
     "output_type": "display_data"
    },
    {
     "data": {
      "text/html": [
       "<table>\n",
       "<thead><tr><th></th><th scope=col>trait</th></tr></thead>\n",
       "<tbody>\n",
       "\t<tr><th scope=row>dat_Alanine_aminotransferase.RData</th><td>Alanine_aminotransferase       </td></tr>\n",
       "\t<tr><th scope=row>dat_Albumin.RData</th><td>Albumin                        </td></tr>\n",
       "\t<tr><th scope=row>dat_Alkaline_phosphatase.RData</th><td>Alkaline_phosphatase           </td></tr>\n",
       "\t<tr><th scope=row>dat_Apolipoprotein_A.RData</th><td>Apolipoprotein_A               </td></tr>\n",
       "\t<tr><th scope=row>dat_Apolipoprotein_B.adjust.statins.RData</th><td>Apolipoprotein_B.adjust.statins</td></tr>\n",
       "\t<tr><th scope=row>dat_Apolipoprotein_B.RData</th><td>Apolipoprotein_B               </td></tr>\n",
       "\t<tr><th scope=row>dat_Aspartate_aminotransferase.RData</th><td>Aspartate_aminotransferase     </td></tr>\n",
       "\t<tr><th scope=row>dat_C_reactive_protein.RData</th><td>C_reactive_protein             </td></tr>\n",
       "\t<tr><th scope=row>dat_Calcium.RData</th><td>Calcium                        </td></tr>\n",
       "\t<tr><th scope=row>dat_Cholesterol.adjust.statins.RData</th><td>Cholesterol.adjust.statins     </td></tr>\n",
       "\t<tr><th scope=row>dat_Cholesterol.RData</th><td>Cholesterol                    </td></tr>\n",
       "\t<tr><th scope=row>dat_Creatinine_in_urine.RData</th><td>Creatinine_in_urine            </td></tr>\n",
       "\t<tr><th scope=row>dat_Creatinine.RData</th><td>Creatinine                     </td></tr>\n",
       "\t<tr><th scope=row>dat_Cystatin_C.RData</th><td>Cystatin_C                     </td></tr>\n",
       "\t<tr><th scope=row>dat_Direct_bilirubin.RData</th><td>Direct_bilirubin               </td></tr>\n",
       "\t<tr><th scope=row>dat_eGFR.RData</th><td>eGFR                           </td></tr>\n",
       "\t<tr><th scope=row>dat_Fasting_glucose.RData</th><td>Fasting_glucose                </td></tr>\n",
       "\t<tr><th scope=row>dat_Gamma_glutamyltransferase.RData</th><td>Gamma_glutamyltransferase      </td></tr>\n",
       "\t<tr><th scope=row>dat_Glucose.RData</th><td>Glucose                        </td></tr>\n",
       "\t<tr><th scope=row>dat_Glycated_haemoglobin_HbA1c.RData</th><td>Glycated_haemoglobin_HbA1c     </td></tr>\n",
       "\t<tr><th scope=row>dat_HDL_cholesterol.RData</th><td>HDL_cholesterol                </td></tr>\n",
       "\t<tr><th scope=row>dat_IGF_1.RData</th><td>IGF_1                          </td></tr>\n",
       "\t<tr><th scope=row>dat_LDL_direct.adjust.statins.RData</th><td>LDL_direct.adjust.statins      </td></tr>\n",
       "\t<tr><th scope=row>dat_LDL_direct.RData</th><td>LDL_direct                     </td></tr>\n",
       "\t<tr><th scope=row>dat_Lipoprotein_A.RData</th><td>Lipoprotein_A                  </td></tr>\n",
       "\t<tr><th scope=row>dat_Microalbumin_in_urine.RData</th><td>Microalbumin_in_urine          </td></tr>\n",
       "\t<tr><th scope=row>dat_Non_albumin_protein.RData</th><td>Non_albumin_protein            </td></tr>\n",
       "\t<tr><th scope=row>dat_Oestradiol.RData</th><td>Oestradiol                     </td></tr>\n",
       "\t<tr><th scope=row>dat_Phosphate.RData</th><td>Phosphate                      </td></tr>\n",
       "\t<tr><th scope=row>dat_Potassium_in_urine.RData</th><td>Potassium_in_urine             </td></tr>\n",
       "\t<tr><th scope=row>dat_Rheumatoid_factor.RData</th><td>Rheumatoid_factor              </td></tr>\n",
       "\t<tr><th scope=row>dat_SHBG.RData</th><td>SHBG                           </td></tr>\n",
       "\t<tr><th scope=row>dat_Sodium_in_urine.RData</th><td>Sodium_in_urine                </td></tr>\n",
       "\t<tr><th scope=row>dat_Testosterone.RData</th><td>Testosterone                   </td></tr>\n",
       "\t<tr><th scope=row>dat_Total_bilirubin.RData</th><td>Total_bilirubin                </td></tr>\n",
       "\t<tr><th scope=row>dat_Total_protein.RData</th><td>Total_protein                  </td></tr>\n",
       "\t<tr><th scope=row>dat_Triglycerides.RData</th><td>Triglycerides                  </td></tr>\n",
       "\t<tr><th scope=row>dat_Urate.RData</th><td>Urate                          </td></tr>\n",
       "\t<tr><th scope=row>dat_Urea.RData</th><td>Urea                           </td></tr>\n",
       "\t<tr><th scope=row>dat_Vitamin_D.RData</th><td>Vitamin_D                      </td></tr>\n",
       "</tbody>\n",
       "</table>\n"
      ],
      "text/latex": [
       "\\begin{tabular}{r|l}\n",
       "  & trait\\\\\n",
       "\\hline\n",
       "\tdat\\_Alanine\\_aminotransferase.RData & Alanine\\_aminotransferase       \\\\\n",
       "\tdat\\_Albumin.RData & Albumin                        \\\\\n",
       "\tdat\\_Alkaline\\_phosphatase.RData & Alkaline\\_phosphatase           \\\\\n",
       "\tdat\\_Apolipoprotein\\_A.RData & Apolipoprotein\\_A               \\\\\n",
       "\tdat\\_Apolipoprotein\\_B.adjust.statins.RData & Apolipoprotein\\_B.adjust.statins\\\\\n",
       "\tdat\\_Apolipoprotein\\_B.RData & Apolipoprotein\\_B               \\\\\n",
       "\tdat\\_Aspartate\\_aminotransferase.RData & Aspartate\\_aminotransferase     \\\\\n",
       "\tdat\\_C\\_reactive\\_protein.RData & C\\_reactive\\_protein             \\\\\n",
       "\tdat\\_Calcium.RData & Calcium                        \\\\\n",
       "\tdat\\_Cholesterol.adjust.statins.RData & Cholesterol.adjust.statins     \\\\\n",
       "\tdat\\_Cholesterol.RData & Cholesterol                    \\\\\n",
       "\tdat\\_Creatinine\\_in\\_urine.RData & Creatinine\\_in\\_urine            \\\\\n",
       "\tdat\\_Creatinine.RData & Creatinine                     \\\\\n",
       "\tdat\\_Cystatin\\_C.RData & Cystatin\\_C                     \\\\\n",
       "\tdat\\_Direct\\_bilirubin.RData & Direct\\_bilirubin               \\\\\n",
       "\tdat\\_eGFR.RData & eGFR                           \\\\\n",
       "\tdat\\_Fasting\\_glucose.RData & Fasting\\_glucose                \\\\\n",
       "\tdat\\_Gamma\\_glutamyltransferase.RData & Gamma\\_glutamyltransferase      \\\\\n",
       "\tdat\\_Glucose.RData & Glucose                        \\\\\n",
       "\tdat\\_Glycated\\_haemoglobin\\_HbA1c.RData & Glycated\\_haemoglobin\\_HbA1c     \\\\\n",
       "\tdat\\_HDL\\_cholesterol.RData & HDL\\_cholesterol                \\\\\n",
       "\tdat\\_IGF\\_1.RData & IGF\\_1                          \\\\\n",
       "\tdat\\_LDL\\_direct.adjust.statins.RData & LDL\\_direct.adjust.statins      \\\\\n",
       "\tdat\\_LDL\\_direct.RData & LDL\\_direct                     \\\\\n",
       "\tdat\\_Lipoprotein\\_A.RData & Lipoprotein\\_A                  \\\\\n",
       "\tdat\\_Microalbumin\\_in\\_urine.RData & Microalbumin\\_in\\_urine          \\\\\n",
       "\tdat\\_Non\\_albumin\\_protein.RData & Non\\_albumin\\_protein            \\\\\n",
       "\tdat\\_Oestradiol.RData & Oestradiol                     \\\\\n",
       "\tdat\\_Phosphate.RData & Phosphate                      \\\\\n",
       "\tdat\\_Potassium\\_in\\_urine.RData & Potassium\\_in\\_urine             \\\\\n",
       "\tdat\\_Rheumatoid\\_factor.RData & Rheumatoid\\_factor              \\\\\n",
       "\tdat\\_SHBG.RData & SHBG                           \\\\\n",
       "\tdat\\_Sodium\\_in\\_urine.RData & Sodium\\_in\\_urine                \\\\\n",
       "\tdat\\_Testosterone.RData & Testosterone                   \\\\\n",
       "\tdat\\_Total\\_bilirubin.RData & Total\\_bilirubin                \\\\\n",
       "\tdat\\_Total\\_protein.RData & Total\\_protein                  \\\\\n",
       "\tdat\\_Triglycerides.RData & Triglycerides                  \\\\\n",
       "\tdat\\_Urate.RData & Urate                          \\\\\n",
       "\tdat\\_Urea.RData & Urea                           \\\\\n",
       "\tdat\\_Vitamin\\_D.RData & Vitamin\\_D                      \\\\\n",
       "\\end{tabular}\n"
      ],
      "text/markdown": [
       "\n",
       "| <!--/--> | trait | \n",
       "|---|---|---|---|---|---|---|---|---|---|---|---|---|---|---|---|---|---|---|---|---|---|---|---|---|---|---|---|---|---|---|---|---|---|---|---|---|---|---|---|\n",
       "| dat_Alanine_aminotransferase.RData | Alanine_aminotransferase        | \n",
       "| dat_Albumin.RData | Albumin                         | \n",
       "| dat_Alkaline_phosphatase.RData | Alkaline_phosphatase            | \n",
       "| dat_Apolipoprotein_A.RData | Apolipoprotein_A                | \n",
       "| dat_Apolipoprotein_B.adjust.statins.RData | Apolipoprotein_B.adjust.statins | \n",
       "| dat_Apolipoprotein_B.RData | Apolipoprotein_B                | \n",
       "| dat_Aspartate_aminotransferase.RData | Aspartate_aminotransferase      | \n",
       "| dat_C_reactive_protein.RData | C_reactive_protein              | \n",
       "| dat_Calcium.RData | Calcium                         | \n",
       "| dat_Cholesterol.adjust.statins.RData | Cholesterol.adjust.statins      | \n",
       "| dat_Cholesterol.RData | Cholesterol                     | \n",
       "| dat_Creatinine_in_urine.RData | Creatinine_in_urine             | \n",
       "| dat_Creatinine.RData | Creatinine                      | \n",
       "| dat_Cystatin_C.RData | Cystatin_C                      | \n",
       "| dat_Direct_bilirubin.RData | Direct_bilirubin                | \n",
       "| dat_eGFR.RData | eGFR                            | \n",
       "| dat_Fasting_glucose.RData | Fasting_glucose                 | \n",
       "| dat_Gamma_glutamyltransferase.RData | Gamma_glutamyltransferase       | \n",
       "| dat_Glucose.RData | Glucose                         | \n",
       "| dat_Glycated_haemoglobin_HbA1c.RData | Glycated_haemoglobin_HbA1c      | \n",
       "| dat_HDL_cholesterol.RData | HDL_cholesterol                 | \n",
       "| dat_IGF_1.RData | IGF_1                           | \n",
       "| dat_LDL_direct.adjust.statins.RData | LDL_direct.adjust.statins       | \n",
       "| dat_LDL_direct.RData | LDL_direct                      | \n",
       "| dat_Lipoprotein_A.RData | Lipoprotein_A                   | \n",
       "| dat_Microalbumin_in_urine.RData | Microalbumin_in_urine           | \n",
       "| dat_Non_albumin_protein.RData | Non_albumin_protein             | \n",
       "| dat_Oestradiol.RData | Oestradiol                      | \n",
       "| dat_Phosphate.RData | Phosphate                       | \n",
       "| dat_Potassium_in_urine.RData | Potassium_in_urine              | \n",
       "| dat_Rheumatoid_factor.RData | Rheumatoid_factor               | \n",
       "| dat_SHBG.RData | SHBG                            | \n",
       "| dat_Sodium_in_urine.RData | Sodium_in_urine                 | \n",
       "| dat_Testosterone.RData | Testosterone                    | \n",
       "| dat_Total_bilirubin.RData | Total_bilirubin                 | \n",
       "| dat_Total_protein.RData | Total_protein                   | \n",
       "| dat_Triglycerides.RData | Triglycerides                   | \n",
       "| dat_Urate.RData | Urate                           | \n",
       "| dat_Urea.RData | Urea                            | \n",
       "| dat_Vitamin_D.RData | Vitamin_D                       | \n",
       "\n",
       "\n"
      ],
      "text/plain": [
       "                                          trait                          \n",
       "dat_Alanine_aminotransferase.RData        Alanine_aminotransferase       \n",
       "dat_Albumin.RData                         Albumin                        \n",
       "dat_Alkaline_phosphatase.RData            Alkaline_phosphatase           \n",
       "dat_Apolipoprotein_A.RData                Apolipoprotein_A               \n",
       "dat_Apolipoprotein_B.adjust.statins.RData Apolipoprotein_B.adjust.statins\n",
       "dat_Apolipoprotein_B.RData                Apolipoprotein_B               \n",
       "dat_Aspartate_aminotransferase.RData      Aspartate_aminotransferase     \n",
       "dat_C_reactive_protein.RData              C_reactive_protein             \n",
       "dat_Calcium.RData                         Calcium                        \n",
       "dat_Cholesterol.adjust.statins.RData      Cholesterol.adjust.statins     \n",
       "dat_Cholesterol.RData                     Cholesterol                    \n",
       "dat_Creatinine_in_urine.RData             Creatinine_in_urine            \n",
       "dat_Creatinine.RData                      Creatinine                     \n",
       "dat_Cystatin_C.RData                      Cystatin_C                     \n",
       "dat_Direct_bilirubin.RData                Direct_bilirubin               \n",
       "dat_eGFR.RData                            eGFR                           \n",
       "dat_Fasting_glucose.RData                 Fasting_glucose                \n",
       "dat_Gamma_glutamyltransferase.RData       Gamma_glutamyltransferase      \n",
       "dat_Glucose.RData                         Glucose                        \n",
       "dat_Glycated_haemoglobin_HbA1c.RData      Glycated_haemoglobin_HbA1c     \n",
       "dat_HDL_cholesterol.RData                 HDL_cholesterol                \n",
       "dat_IGF_1.RData                           IGF_1                          \n",
       "dat_LDL_direct.adjust.statins.RData       LDL_direct.adjust.statins      \n",
       "dat_LDL_direct.RData                      LDL_direct                     \n",
       "dat_Lipoprotein_A.RData                   Lipoprotein_A                  \n",
       "dat_Microalbumin_in_urine.RData           Microalbumin_in_urine          \n",
       "dat_Non_albumin_protein.RData             Non_albumin_protein            \n",
       "dat_Oestradiol.RData                      Oestradiol                     \n",
       "dat_Phosphate.RData                       Phosphate                      \n",
       "dat_Potassium_in_urine.RData              Potassium_in_urine             \n",
       "dat_Rheumatoid_factor.RData               Rheumatoid_factor              \n",
       "dat_SHBG.RData                            SHBG                           \n",
       "dat_Sodium_in_urine.RData                 Sodium_in_urine                \n",
       "dat_Testosterone.RData                    Testosterone                   \n",
       "dat_Total_bilirubin.RData                 Total_bilirubin                \n",
       "dat_Total_protein.RData                   Total_protein                  \n",
       "dat_Triglycerides.RData                   Triglycerides                  \n",
       "dat_Urate.RData                           Urate                          \n",
       "dat_Urea.RData                            Urea                           \n",
       "dat_Vitamin_D.RData                       Vitamin_D                      "
      ]
     },
     "metadata": {},
     "output_type": "display_data"
    }
   ],
   "source": [
    "BIOMARKER.DIR <- \"../../data/1015/\"\n",
    "biomarker_traits <- list.files(BIOMARKER.DIR, pattern=\"dat*\")\n",
    "\n",
    "biomarkers <- sapply(biomarker_traits, function(x) strsplit(strsplit(x, \"dat_\",fixed=TRUE)[[1]][[2]], \".RData\")[[1]][[1]])\n",
    "\n",
    "\n",
    "length(biomarkers)\n",
    "pars <- data.frame(\"trait\"=biomarkers)\n",
    "pars\n",
    "    "
   ]
  },
  {
   "cell_type": "code",
   "execution_count": 42,
   "metadata": {},
   "outputs": [],
   "source": [
    "require('rslurm')\n",
    "calcErrBarsHerit <- function(trait){\n",
    "require('rstan')\n",
    "    source(\"/scratch/PI/mrivas/users/erflynn/sex_div_gwas/mixture_model_scripts/model_utils.R\")\n",
    "    source(\"/scratch/PI/mrivas/users/erflynn/sex_div_gwas/mixture_model_scripts/heritability_utils.R\")\n",
    "    require('reshape2')\n",
    "    require('tidyverse')\n",
    "    ndim <- 2\n",
    "    downsampled_str <- \"\"\n",
    "    \n",
    "    DATA.FOLDER <- \"/scratch/PI/mrivas/users/erflynn/sex_div_gwas/data/1015/\"\n",
    "    fit.file=sprintf(\"%s/m1/f_%s.RData\", DATA.FOLDER, trait)\n",
    "    if (!file.exists(fit.file)){\n",
    "            df <- data.frame(t(c(\"NA\", trait, \"NA\", \"NA\")))\n",
    "            colnames(df) <- c(\"value\", \"trait\", \"int\", \"sex\")\n",
    "            return(df)\n",
    "\n",
    "        }\n",
    "        load(file=fit.file)\n",
    "        load(file=sprintf(\"%s/dat_%s.RData\", DATA.FOLDER, trait))\n",
    "\n",
    "        # extract all estimate\n",
    "        list_of_draws <- rstan::extract(fit1)\n",
    "        pi.draws <- list_of_draws$pi\n",
    "        p <- pi.draws\n",
    "        s.draws <- list_of_draws$Sigma\n",
    "        Sigma <- s.draws\n",
    "\n",
    "        # extract lower + upper pi\n",
    "        my.order <- order(p[,2])\n",
    "        ordered.p <- p[my.order,] # ordering p by the non-null component         \n",
    "        p.lower <- ordered.p[0.025*nrow(ordered.p),]\n",
    "        p.upper <- ordered.p[0.975*nrow(ordered.p),]\n",
    "        p.center <- ordered.p[0.50*nrow(ordered.p),]\n",
    "    \n",
    "        # extract lower + upper sigma\n",
    "        ordered.S <- Sigma[my.order,,]\n",
    "        s.upper <- ordered.S[0.975*dim(Sigma)[1],,]\n",
    "        s.lower <- ordered.S[0.025*dim(Sigma)[1],,]\n",
    "        s.center <- ordered.S[0.50*dim(Sigma)[1],,]\n",
    "\n",
    "        # recalculate SNP membership\n",
    "        dat2 <- dat\n",
    "        dat2$categories <- NULL\n",
    "        dat.u <- labelCategories(dat2, s.upper, p.upper)\n",
    "        dat.l <- labelCategories(dat2, s.lower, p.lower)\n",
    "        dat.c <- labelCategories(dat2, s.center, p.center)\n",
    "\n",
    "        h.up <- overallHeritability(dat.u, s.upper, p.upper)\n",
    "        h.low <- overallHeritability(dat.l, s.lower, p.lower)\n",
    "        h.center <- overallHeritability(dat.c, s.center, p.center)\n",
    "\n",
    "        res <- list(\"up\"=h.up, \"low\"=h.low, \"center\"=h.center)\n",
    "  \n",
    "        # reformat into data frame\n",
    "\n",
    "     my.df <- cbind(t(as.data.frame(res)), trait)\n",
    "        my.df2 <- data.frame(cbind(my.df, rownames(my.df)))\n",
    "\n",
    "    colnames(my.df2) <- c(\"hf\", \"hm\", \"trait\", \"int\")\n",
    "    my.df3 <- melt(my.df2, id.vars=c(\"trait\", \"int\"), variable.name=\"sex\")\n",
    "         rownames(my.df3) <- NULL\n",
    "\twrite.table(my.df3, file=sprintf(\"/scratch/PI/mrivas/users/erflynn/sex_div_gwas/data/err_bars_1016/h_err_%s_%s_%s_v2.txt\",  trait, ndim, downsampled_str), row.names=FALSE, quote=FALSE, sep=\"\\t\")\n",
    "    return(my.df3)\n",
    "    }\n",
    "\n"
   ]
  },
  {
   "cell_type": "code",
   "execution_count": null,
   "metadata": {},
   "outputs": [
    {
     "name": "stderr",
     "output_type": "stream",
     "text": [
      "Loading required package: tictoc\n"
     ]
    },
    {
     "data": {
      "text/html": [
       "19"
      ],
      "text/latex": [
       "19"
      ],
      "text/markdown": [
       "19"
      ],
      "text/plain": [
       "[1] 19"
      ]
     },
     "metadata": {},
     "output_type": "display_data"
    },
    {
     "data": {
      "text/html": [
       "<ol class=list-inline>\n",
       "\t<li>Alanine_aminotransferase</li>\n",
       "\t<li>Albumin</li>\n",
       "\t<li>Alkaline_phosphatase</li>\n",
       "\t<li>Apolipoprotein_A</li>\n",
       "\t<li>Apolipoprotein_B.adjust.statins</li>\n",
       "\t<li>Apolipoprotein_B</li>\n",
       "\t<li>Aspartate_aminotransferase</li>\n",
       "\t<li>C_reactive_protein</li>\n",
       "\t<li>Calcium</li>\n",
       "\t<li>Cholesterol.adjust.statins</li>\n",
       "\t<li>Cholesterol</li>\n",
       "\t<li>Creatinine_in_urine</li>\n",
       "\t<li>Creatinine</li>\n",
       "\t<li>Cystatin_C</li>\n",
       "\t<li>Direct_bilirubin</li>\n",
       "\t<li>eGFR</li>\n",
       "\t<li>Fasting_glucose</li>\n",
       "\t<li>Gamma_glutamyltransferase</li>\n",
       "\t<li>Glucose</li>\n",
       "</ol>\n",
       "\n",
       "<details>\n",
       "\t<summary style=display:list-item;cursor:pointer>\n",
       "\t\t<strong>Levels</strong>:\n",
       "\t</summary>\n",
       "\t<ol class=list-inline>\n",
       "\t\t<li>'Alanine_aminotransferase'</li>\n",
       "\t\t<li>'Albumin'</li>\n",
       "\t\t<li>'Alkaline_phosphatase'</li>\n",
       "\t\t<li>'Apolipoprotein_A'</li>\n",
       "\t\t<li>'Apolipoprotein_B'</li>\n",
       "\t\t<li>'Apolipoprotein_B.adjust.statins'</li>\n",
       "\t\t<li>'Aspartate_aminotransferase'</li>\n",
       "\t\t<li>'C_reactive_protein'</li>\n",
       "\t\t<li>'Calcium'</li>\n",
       "\t\t<li>'Cholesterol'</li>\n",
       "\t\t<li>'Cholesterol.adjust.statins'</li>\n",
       "\t\t<li>'Creatinine'</li>\n",
       "\t\t<li>'Creatinine_in_urine'</li>\n",
       "\t\t<li>'Cystatin_C'</li>\n",
       "\t\t<li>'Direct_bilirubin'</li>\n",
       "\t\t<li>'eGFR'</li>\n",
       "\t\t<li>'Fasting_glucose'</li>\n",
       "\t\t<li>'Gamma_glutamyltransferase'</li>\n",
       "\t\t<li>'Glucose'</li>\n",
       "\t\t<li>'Glycated_haemoglobin_HbA1c'</li>\n",
       "\t\t<li>'HDL_cholesterol'</li>\n",
       "\t\t<li>'IGF_1'</li>\n",
       "\t\t<li>'LDL_direct'</li>\n",
       "\t\t<li>'LDL_direct.adjust.statins'</li>\n",
       "\t\t<li>'Lipoprotein_A'</li>\n",
       "\t\t<li>'Microalbumin_in_urine'</li>\n",
       "\t\t<li>'Non_albumin_protein'</li>\n",
       "\t\t<li>'Oestradiol'</li>\n",
       "\t\t<li>'Phosphate'</li>\n",
       "\t\t<li>'Potassium_in_urine'</li>\n",
       "\t\t<li>'Rheumatoid_factor'</li>\n",
       "\t\t<li>'SHBG'</li>\n",
       "\t\t<li>'Sodium_in_urine'</li>\n",
       "\t\t<li>'Testosterone'</li>\n",
       "\t\t<li>'Total_bilirubin'</li>\n",
       "\t\t<li>'Total_protein'</li>\n",
       "\t\t<li>'Triglycerides'</li>\n",
       "\t\t<li>'Urate'</li>\n",
       "\t\t<li>'Urea'</li>\n",
       "\t\t<li>'Vitamin_D'</li>\n",
       "\t</ol>\n",
       "</details>"
      ],
      "text/latex": [
       "\\begin{enumerate*}\n",
       "\\item Alanine\\_aminotransferase\n",
       "\\item Albumin\n",
       "\\item Alkaline\\_phosphatase\n",
       "\\item Apolipoprotein\\_A\n",
       "\\item Apolipoprotein\\_B.adjust.statins\n",
       "\\item Apolipoprotein\\_B\n",
       "\\item Aspartate\\_aminotransferase\n",
       "\\item C\\_reactive\\_protein\n",
       "\\item Calcium\n",
       "\\item Cholesterol.adjust.statins\n",
       "\\item Cholesterol\n",
       "\\item Creatinine\\_in\\_urine\n",
       "\\item Creatinine\n",
       "\\item Cystatin\\_C\n",
       "\\item Direct\\_bilirubin\n",
       "\\item eGFR\n",
       "\\item Fasting\\_glucose\n",
       "\\item Gamma\\_glutamyltransferase\n",
       "\\item Glucose\n",
       "\\end{enumerate*}\n",
       "\n",
       "\\emph{Levels}: \\begin{enumerate*}\n",
       "\\item 'Alanine\\_aminotransferase'\n",
       "\\item 'Albumin'\n",
       "\\item 'Alkaline\\_phosphatase'\n",
       "\\item 'Apolipoprotein\\_A'\n",
       "\\item 'Apolipoprotein\\_B'\n",
       "\\item 'Apolipoprotein\\_B.adjust.statins'\n",
       "\\item 'Aspartate\\_aminotransferase'\n",
       "\\item 'C\\_reactive\\_protein'\n",
       "\\item 'Calcium'\n",
       "\\item 'Cholesterol'\n",
       "\\item 'Cholesterol.adjust.statins'\n",
       "\\item 'Creatinine'\n",
       "\\item 'Creatinine\\_in\\_urine'\n",
       "\\item 'Cystatin\\_C'\n",
       "\\item 'Direct\\_bilirubin'\n",
       "\\item 'eGFR'\n",
       "\\item 'Fasting\\_glucose'\n",
       "\\item 'Gamma\\_glutamyltransferase'\n",
       "\\item 'Glucose'\n",
       "\\item 'Glycated\\_haemoglobin\\_HbA1c'\n",
       "\\item 'HDL\\_cholesterol'\n",
       "\\item 'IGF\\_1'\n",
       "\\item 'LDL\\_direct'\n",
       "\\item 'LDL\\_direct.adjust.statins'\n",
       "\\item 'Lipoprotein\\_A'\n",
       "\\item 'Microalbumin\\_in\\_urine'\n",
       "\\item 'Non\\_albumin\\_protein'\n",
       "\\item 'Oestradiol'\n",
       "\\item 'Phosphate'\n",
       "\\item 'Potassium\\_in\\_urine'\n",
       "\\item 'Rheumatoid\\_factor'\n",
       "\\item 'SHBG'\n",
       "\\item 'Sodium\\_in\\_urine'\n",
       "\\item 'Testosterone'\n",
       "\\item 'Total\\_bilirubin'\n",
       "\\item 'Total\\_protein'\n",
       "\\item 'Triglycerides'\n",
       "\\item 'Urate'\n",
       "\\item 'Urea'\n",
       "\\item 'Vitamin\\_D'\n",
       "\\end{enumerate*}\n"
      ],
      "text/markdown": [
       "1. Alanine_aminotransferase\n",
       "2. Albumin\n",
       "3. Alkaline_phosphatase\n",
       "4. Apolipoprotein_A\n",
       "5. Apolipoprotein_B.adjust.statins\n",
       "6. Apolipoprotein_B\n",
       "7. Aspartate_aminotransferase\n",
       "8. C_reactive_protein\n",
       "9. Calcium\n",
       "10. Cholesterol.adjust.statins\n",
       "11. Cholesterol\n",
       "12. Creatinine_in_urine\n",
       "13. Creatinine\n",
       "14. Cystatin_C\n",
       "15. Direct_bilirubin\n",
       "16. eGFR\n",
       "17. Fasting_glucose\n",
       "18. Gamma_glutamyltransferase\n",
       "19. Glucose\n",
       "\n",
       "\n",
       "\n",
       "**Levels**: 1. 'Alanine_aminotransferase'\n",
       "2. 'Albumin'\n",
       "3. 'Alkaline_phosphatase'\n",
       "4. 'Apolipoprotein_A'\n",
       "5. 'Apolipoprotein_B'\n",
       "6. 'Apolipoprotein_B.adjust.statins'\n",
       "7. 'Aspartate_aminotransferase'\n",
       "8. 'C_reactive_protein'\n",
       "9. 'Calcium'\n",
       "10. 'Cholesterol'\n",
       "11. 'Cholesterol.adjust.statins'\n",
       "12. 'Creatinine'\n",
       "13. 'Creatinine_in_urine'\n",
       "14. 'Cystatin_C'\n",
       "15. 'Direct_bilirubin'\n",
       "16. 'eGFR'\n",
       "17. 'Fasting_glucose'\n",
       "18. 'Gamma_glutamyltransferase'\n",
       "19. 'Glucose'\n",
       "20. 'Glycated_haemoglobin_HbA1c'\n",
       "21. 'HDL_cholesterol'\n",
       "22. 'IGF_1'\n",
       "23. 'LDL_direct'\n",
       "24. 'LDL_direct.adjust.statins'\n",
       "25. 'Lipoprotein_A'\n",
       "26. 'Microalbumin_in_urine'\n",
       "27. 'Non_albumin_protein'\n",
       "28. 'Oestradiol'\n",
       "29. 'Phosphate'\n",
       "30. 'Potassium_in_urine'\n",
       "31. 'Rheumatoid_factor'\n",
       "32. 'SHBG'\n",
       "33. 'Sodium_in_urine'\n",
       "34. 'Testosterone'\n",
       "35. 'Total_bilirubin'\n",
       "36. 'Total_protein'\n",
       "37. 'Triglycerides'\n",
       "38. 'Urate'\n",
       "39. 'Urea'\n",
       "40. 'Vitamin_D'\n",
       "\n",
       "\n"
      ],
      "text/plain": [
       " [1] Alanine_aminotransferase        Albumin                        \n",
       " [3] Alkaline_phosphatase            Apolipoprotein_A               \n",
       " [5] Apolipoprotein_B.adjust.statins Apolipoprotein_B               \n",
       " [7] Aspartate_aminotransferase      C_reactive_protein             \n",
       " [9] Calcium                         Cholesterol.adjust.statins     \n",
       "[11] Cholesterol                     Creatinine_in_urine            \n",
       "[13] Creatinine                      Cystatin_C                     \n",
       "[15] Direct_bilirubin                eGFR                           \n",
       "[17] Fasting_glucose                 Gamma_glutamyltransferase      \n",
       "[19] Glucose                        \n",
       "40 Levels: Alanine_aminotransferase Albumin ... Vitamin_D"
      ]
     },
     "metadata": {},
     "output_type": "display_data"
    }
   ],
   "source": [
    "require('parallel')\n",
    "require('tictoc')\n",
    "tic()\n",
    "ncores <- detectCores()-1\n",
    "ncores\n",
    "pars$trait[1:ncores]\n",
    "cl <- makeCluster( ncores)\n",
    "\n",
    "cl.out <- clusterApply(cl, pars$trait[1:ncores], calcErrBarsHerit)\n",
    "\n",
    "stopCluster(cl)\n",
    "toc()"
   ]
  },
  {
   "cell_type": "code",
   "execution_count": 26,
   "metadata": {
    "collapsed": true
   },
   "outputs": [],
   "source": [
    "sopt <- c(partition=\"rbaltman,owners\", time=\"1:00:00\", memory=\"8000\", error=\"pars_err.err\")\n",
    "sjob <- slurm_apply(calcErrBarsHerit, pars, nodes=10, jobname = 'err_barsA', slurm_options=sopt , submit = TRUE )\n"
   ]
  },
  {
   "cell_type": "code",
   "execution_count": 29,
   "metadata": {},
   "outputs": [
    {
     "data": {
      "text/html": [
       "<ol class=list-inline>\n",
       "\t<li>'f_INI20150.RData'</li>\n",
       "\t<li>'f_INI21001.RData'</li>\n",
       "\t<li>'f_INI23099.RData'</li>\n",
       "\t<li>'f_INI23105.RData'</li>\n",
       "\t<li>'f_INI3063.RData'</li>\n",
       "\t<li>'f_INI3064.RData'</li>\n",
       "\t<li>'f_INI4079.RData'</li>\n",
       "\t<li>'f_INI4080.RData'</li>\n",
       "\t<li>'f_INI49.RData'</li>\n",
       "\t<li>'f_INI50.RData'</li>\n",
       "</ol>\n"
      ],
      "text/latex": [
       "\\begin{enumerate*}\n",
       "\\item 'f\\_INI20150.RData'\n",
       "\\item 'f\\_INI21001.RData'\n",
       "\\item 'f\\_INI23099.RData'\n",
       "\\item 'f\\_INI23105.RData'\n",
       "\\item 'f\\_INI3063.RData'\n",
       "\\item 'f\\_INI3064.RData'\n",
       "\\item 'f\\_INI4079.RData'\n",
       "\\item 'f\\_INI4080.RData'\n",
       "\\item 'f\\_INI49.RData'\n",
       "\\item 'f\\_INI50.RData'\n",
       "\\end{enumerate*}\n"
      ],
      "text/markdown": [
       "1. 'f_INI20150.RData'\n",
       "2. 'f_INI21001.RData'\n",
       "3. 'f_INI23099.RData'\n",
       "4. 'f_INI23105.RData'\n",
       "5. 'f_INI3063.RData'\n",
       "6. 'f_INI3064.RData'\n",
       "7. 'f_INI4079.RData'\n",
       "8. 'f_INI4080.RData'\n",
       "9. 'f_INI49.RData'\n",
       "10. 'f_INI50.RData'\n",
       "\n",
       "\n"
      ],
      "text/plain": [
       " [1] \"f_INI20150.RData\" \"f_INI21001.RData\" \"f_INI23099.RData\" \"f_INI23105.RData\"\n",
       " [5] \"f_INI3063.RData\"  \"f_INI3064.RData\"  \"f_INI4079.RData\"  \"f_INI4080.RData\" \n",
       " [9] \"f_INI49.RData\"    \"f_INI50.RData\"   "
      ]
     },
     "metadata": {},
     "output_type": "display_data"
    },
    {
     "data": {
      "text/html": [
       "10"
      ],
      "text/latex": [
       "10"
      ],
      "text/markdown": [
       "10"
      ],
      "text/plain": [
       "[1] 10"
      ]
     },
     "metadata": {},
     "output_type": "display_data"
    },
    {
     "data": {
      "text/html": [
       "<table>\n",
       "<thead><tr><th></th><th scope=col>trait</th></tr></thead>\n",
       "<tbody>\n",
       "\t<tr><th scope=row>f_INI20150.RData</th><td>INI20150</td></tr>\n",
       "\t<tr><th scope=row>f_INI21001.RData</th><td>INI21001</td></tr>\n",
       "\t<tr><th scope=row>f_INI23099.RData</th><td>INI23099</td></tr>\n",
       "\t<tr><th scope=row>f_INI23105.RData</th><td>INI23105</td></tr>\n",
       "\t<tr><th scope=row>f_INI3063.RData</th><td>INI3063 </td></tr>\n",
       "\t<tr><th scope=row>f_INI3064.RData</th><td>INI3064 </td></tr>\n",
       "\t<tr><th scope=row>f_INI4079.RData</th><td>INI4079 </td></tr>\n",
       "\t<tr><th scope=row>f_INI4080.RData</th><td>INI4080 </td></tr>\n",
       "\t<tr><th scope=row>f_INI49.RData</th><td>INI49   </td></tr>\n",
       "\t<tr><th scope=row>f_INI50.RData</th><td>INI50   </td></tr>\n",
       "</tbody>\n",
       "</table>\n"
      ],
      "text/latex": [
       "\\begin{tabular}{r|l}\n",
       "  & trait\\\\\n",
       "\\hline\n",
       "\tf\\_INI20150.RData & INI20150\\\\\n",
       "\tf\\_INI21001.RData & INI21001\\\\\n",
       "\tf\\_INI23099.RData & INI23099\\\\\n",
       "\tf\\_INI23105.RData & INI23105\\\\\n",
       "\tf\\_INI3063.RData & INI3063 \\\\\n",
       "\tf\\_INI3064.RData & INI3064 \\\\\n",
       "\tf\\_INI4079.RData & INI4079 \\\\\n",
       "\tf\\_INI4080.RData & INI4080 \\\\\n",
       "\tf\\_INI49.RData & INI49   \\\\\n",
       "\tf\\_INI50.RData & INI50   \\\\\n",
       "\\end{tabular}\n"
      ],
      "text/markdown": [
       "\n",
       "| <!--/--> | trait | \n",
       "|---|---|---|---|---|---|---|---|---|---|\n",
       "| f_INI20150.RData | INI20150 | \n",
       "| f_INI21001.RData | INI21001 | \n",
       "| f_INI23099.RData | INI23099 | \n",
       "| f_INI23105.RData | INI23105 | \n",
       "| f_INI3063.RData | INI3063  | \n",
       "| f_INI3064.RData | INI3064  | \n",
       "| f_INI4079.RData | INI4079  | \n",
       "| f_INI4080.RData | INI4080  | \n",
       "| f_INI49.RData | INI49    | \n",
       "| f_INI50.RData | INI50    | \n",
       "\n",
       "\n"
      ],
      "text/plain": [
       "                 trait   \n",
       "f_INI20150.RData INI20150\n",
       "f_INI21001.RData INI21001\n",
       "f_INI23099.RData INI23099\n",
       "f_INI23105.RData INI23105\n",
       "f_INI3063.RData  INI3063 \n",
       "f_INI3064.RData  INI3064 \n",
       "f_INI4079.RData  INI4079 \n",
       "f_INI4080.RData  INI4080 \n",
       "f_INI49.RData    INI49   \n",
       "f_INI50.RData    INI50   "
      ]
     },
     "metadata": {},
     "output_type": "display_data"
    }
   ],
   "source": [
    "traits <- list.files(\"../../data/1016/m1/\", pattern=\"f_*\")\n",
    "traits\n",
    "traits2 <- sapply(traits, function(x) strsplit(strsplit(x, \"f_\",fixed=TRUE)[[1]][[2]], \".RData\")[[1]][[1]])\n",
    "\n",
    "\n",
    "length(traits2)\n",
    "pars2 <- data.frame(\"trait\"=traits2)\n",
    "pars2"
   ]
  },
  {
   "cell_type": "code",
   "execution_count": 23,
   "metadata": {},
   "outputs": [
    {
     "name": "stderr",
     "output_type": "stream",
     "text": [
      "Warning message:\n",
      "“attributes are not identical across measure variables; they will be dropped”"
     ]
    },
    {
     "data": {
      "text/html": [
       "<table>\n",
       "<thead><tr><th scope=col>trait</th><th scope=col>int</th><th scope=col>sex</th><th scope=col>value</th></tr></thead>\n",
       "<tbody>\n",
       "\t<tr><td>INI50            </td><td>up               </td><td>hf               </td><td>0.318559332116743</td></tr>\n",
       "\t<tr><td>INI50            </td><td>low              </td><td>hf               </td><td>0.321239916795141</td></tr>\n",
       "\t<tr><td>INI50            </td><td>center           </td><td>hf               </td><td>0.319305965058208</td></tr>\n",
       "\t<tr><td>INI50            </td><td>up               </td><td>hm               </td><td>0.280943119972911</td></tr>\n",
       "\t<tr><td>INI50            </td><td>low              </td><td>hm               </td><td>0.285551146435223</td></tr>\n",
       "\t<tr><td>INI50            </td><td>center           </td><td>hm               </td><td>0.283156876121812</td></tr>\n",
       "</tbody>\n",
       "</table>\n"
      ],
      "text/latex": [
       "\\begin{tabular}{r|llll}\n",
       " trait & int & sex & value\\\\\n",
       "\\hline\n",
       "\t INI50             & up                & hf                & 0.318559332116743\\\\\n",
       "\t INI50             & low               & hf                & 0.321239916795141\\\\\n",
       "\t INI50             & center            & hf                & 0.319305965058208\\\\\n",
       "\t INI50             & up                & hm                & 0.280943119972911\\\\\n",
       "\t INI50             & low               & hm                & 0.285551146435223\\\\\n",
       "\t INI50             & center            & hm                & 0.283156876121812\\\\\n",
       "\\end{tabular}\n"
      ],
      "text/markdown": [
       "\n",
       "trait | int | sex | value | \n",
       "|---|---|---|---|---|---|\n",
       "| INI50             | up                | hf                | 0.318559332116743 | \n",
       "| INI50             | low               | hf                | 0.321239916795141 | \n",
       "| INI50             | center            | hf                | 0.319305965058208 | \n",
       "| INI50             | up                | hm                | 0.280943119972911 | \n",
       "| INI50             | low               | hm                | 0.285551146435223 | \n",
       "| INI50             | center            | hm                | 0.283156876121812 | \n",
       "\n",
       "\n"
      ],
      "text/plain": [
       "  trait int    sex value            \n",
       "1 INI50 up     hf  0.318559332116743\n",
       "2 INI50 low    hf  0.321239916795141\n",
       "3 INI50 center hf  0.319305965058208\n",
       "4 INI50 up     hm  0.280943119972911\n",
       "5 INI50 low    hm  0.285551146435223\n",
       "6 INI50 center hm  0.283156876121812"
      ]
     },
     "metadata": {},
     "output_type": "display_data"
    }
   ],
   "source": [
    "calcErrBarsHerit2(\"INI50\")\n"
   ]
  },
  {
   "cell_type": "code",
   "execution_count": 30,
   "metadata": {
    "collapsed": true
   },
   "outputs": [],
   "source": [
    "require('rslurm')\n",
    "require('rstan')\n",
    "calcErrBarsHerit2 <- function(trait){\n",
    "    source(\"/scratch/PI/mrivas/users/erflynn/sex_div_gwas/mixture_model_scripts/model_utils.R\")\n",
    "    source(\"/scratch/PI/mrivas/users/erflynn/sex_div_gwas/mixture_model_scripts/heritability_utils.R\")\n",
    "    require('reshape2')\n",
    "    require('tidyverse')\n",
    "    ndim <- 2\n",
    "    downsampled_str <- \"\"\n",
    "    \n",
    "    DATA.FOLDER <- \"/scratch/PI/mrivas/users/erflynn/sex_div_gwas/data/1016/\"\n",
    "    fit.file=sprintf(\"%s/m1/f_%s.RData\", DATA.FOLDER, trait)\n",
    "    if (!file.exists(fit.file)){\n",
    "            df <- data.frame(t(c(\"NA\", trait, \"NA\", \"NA\")))\n",
    "            colnames(df) <- c(\"value\", \"trait\", \"int\", \"sex\")\n",
    "            return(df)\n",
    "\n",
    "        }\n",
    "        load(file=fit.file)\n",
    "        load(file=sprintf(\"%s/dat_%s.RData\", DATA.FOLDER, trait))\n",
    "\n",
    "        # extract all estimate\n",
    "        list_of_draws <- rstan::extract(fit1)\n",
    "        pi.draws <- list_of_draws$pi\n",
    "        p <- pi.draws\n",
    "        s.draws <- list_of_draws$Sigma\n",
    "        Sigma <- s.draws\n",
    "\n",
    "        # extract lower + upper pi\n",
    "        my.order <- order(p[,2])\n",
    "        ordered.p <- p[my.order,] # ordering p by the non-null component         \n",
    "        p.lower <- ordered.p[0.025*nrow(ordered.p),]\n",
    "        p.upper <- ordered.p[0.975*nrow(ordered.p),]\n",
    "        p.center <- ordered.p[0.50*nrow(ordered.p),]\n",
    "    \n",
    "        # extract lower + upper sigma\n",
    "        ordered.S <- Sigma[my.order,,]\n",
    "        s.upper <- ordered.S[0.975*dim(Sigma)[1],,]\n",
    "        s.lower <- ordered.S[0.025*dim(Sigma)[1],,]\n",
    "        s.center <- ordered.S[0.50*dim(Sigma)[1],,]\n",
    "\n",
    "        # recalculate SNP membership\n",
    "        dat2 <- dat\n",
    "        dat2$categories <- NULL\n",
    "        dat.u <- labelCategories(dat2, s.upper, p.upper)\n",
    "        dat.l <- labelCategories(dat2, s.lower, p.lower)\n",
    "        dat.c <- labelCategories(dat2, s.center, p.center)\n",
    "\n",
    "        h.up <- overallHeritability(dat.u, s.upper, p.upper)\n",
    "        h.low <- overallHeritability(dat.l, s.lower, p.lower)\n",
    "        h.center <- overallHeritability(dat.c, s.center, p.center)\n",
    "\n",
    "        res <- list(\"up\"=h.up, \"low\"=h.low, \"center\"=h.center)\n",
    "  \n",
    "        # reformat into data frame\n",
    "\n",
    "     my.df <- cbind(t(as.data.frame(res)), trait)\n",
    "        my.df2 <- data.frame(cbind(my.df, rownames(my.df)))\n",
    "\n",
    "    colnames(my.df2) <- c(\"hf\", \"hm\", \"trait\", \"int\")\n",
    "    my.df3 <- melt(my.df2, id.vars=c(\"trait\", \"int\"), variable.name=\"sex\")\n",
    "         rownames(my.df3) <- NULL\n",
    "\twrite.table(my.df3, file=sprintf(\"/scratch/PI/mrivas/users/erflynn/sex_div_gwas/data/err_bars_1016/h_err_%s_%s_%s_v2.txt\",trait, ndim, downsampled_str), row.names=FALSE, quote=FALSE, sep=\"\\t\")\n",
    "    return(my.df3)\n",
    "    }\n",
    "\n"
   ]
  },
  {
   "cell_type": "code",
   "execution_count": 40,
   "metadata": {
    "collapsed": true
   },
   "outputs": [],
   "source": [
    "sopt <- c(partition=\"rbaltman\", time=\"1:00:00\", memory=\"8000\",nodes=\"10\")\n",
    "sjob2 <- slurm_apply(calcErrBarsHerit2, pars2, jobname = 'err_barsD', slurm_options=sopt , submit = TRUE )\n"
   ]
  },
  {
   "cell_type": "code",
   "execution_count": 36,
   "metadata": {},
   "outputs": [
    {
     "name": "stderr",
     "output_type": "stream",
     "text": [
      "Warning message in get_slurm_out(sjob2, outtype = \"table\"):\n",
      "“The following files are missing: results_0.RDS, results_1.RDS, results_2.RDS, results_3.RDS, results_4.RDS”"
     ]
    },
    {
     "data": {
      "text/html": [
       "&lt;NA&gt;"
      ],
      "text/latex": [
       "<NA>"
      ],
      "text/markdown": [
       "&lt;NA&gt;"
      ],
      "text/plain": [
       "[1] NA"
      ]
     },
     "metadata": {},
     "output_type": "display_data"
    }
   ],
   "source": [
    "res <- get_slurm_out(sjob2, outtype = 'table')\n",
    "head(res, 3)"
   ]
  },
  {
   "cell_type": "code",
   "execution_count": 34,
   "metadata": {},
   "outputs": [],
   "source": [
    "rownames(pars) <- NULL\n",
    "rownames(pars2) <- NULL"
   ]
  },
  {
   "cell_type": "code",
   "execution_count": 39,
   "metadata": {
    "collapsed": true
   },
   "outputs": [],
   "source": [
    "require('rstan')\n"
   ]
  },
  {
   "cell_type": "code",
   "execution_count": null,
   "metadata": {
    "collapsed": true
   },
   "outputs": [],
   "source": []
  }
 ],
 "metadata": {
  "kernelspec": {
   "display_name": "R",
   "language": "R",
   "name": "ir"
  },
  "language_info": {
   "codemirror_mode": "r",
   "file_extension": ".r",
   "mimetype": "text/x-r-source",
   "name": "R",
   "pygments_lexer": "r",
   "version": "3.4.0"
  }
 },
 "nbformat": 4,
 "nbformat_minor": 2
}
