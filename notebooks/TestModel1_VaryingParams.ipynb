{
 "cells": [
  {
   "cell_type": "code",
   "execution_count": 1,
   "metadata": {},
   "outputs": [
    {
     "name": "stderr",
     "output_type": "stream",
     "text": [
      "Loading required package: MASS\n",
      "Loading required package: Matrix\n",
      "Loading required package: mnormt\n",
      "Loading required package: qqman\n",
      "\n",
      "For example usage please run: vignette('qqman')\n",
      "\n",
      "Citation appreciated but not required:\n",
      "Turner, S.D. qqman: an R package for visualizing GWAS results using Q-Q and manhattan plots. biorXiv DOI: 10.1101/005165 (2014).\n",
      "\n",
      "Loading required package: rstan\n",
      "Loading required package: ggplot2\n",
      "Loading required package: StanHeaders\n",
      "rstan (Version 2.15.1, packaged: 2017-04-19 05:03:57 UTC, GitRev: 2e1f913d3ca3)\n",
      "For execution on a local, multicore CPU with excess RAM we recommend calling\n",
      "rstan_options(auto_write = TRUE)\n",
      "options(mc.cores = parallel::detectCores())\n"
     ]
    }
   ],
   "source": [
    "source('model_utils.R')"
   ]
  },
  {
   "cell_type": "code",
   "execution_count": 2,
   "metadata": {
    "collapsed": true
   },
   "outputs": [],
   "source": [
    "FILTER_DIR = '/oak/stanford/groups/mrivas/private_data/ukbb/variant_filtering'\n",
    "OUT_DIR = '/scratch/PI/mrivas/users/erflynn/sex_div_gwas/data'\n",
    "\n",
    "filt.file <- read.delim(sprintf(\"%s/variant_filter_table.tsv.gz\", FILTER_DIR))"
   ]
  },
  {
   "cell_type": "code",
   "execution_count": 5,
   "metadata": {},
   "outputs": [
    {
     "data": {
      "text/html": [
       "<ol class=list-inline>\n",
       "\t<li>'CHROM'</li>\n",
       "\t<li>'POS'</li>\n",
       "\t<li>'REF'</li>\n",
       "\t<li>'ALT'</li>\n",
       "\t<li>'ID'</li>\n",
       "\t<li>'Gene'</li>\n",
       "\t<li>'Consequence'</li>\n",
       "\t<li>'HGVSp'</li>\n",
       "\t<li>'LoF'</li>\n",
       "\t<li>'LoF_filter'</li>\n",
       "\t<li>'LoF_flags'</li>\n",
       "\t<li>'LoF_info'</li>\n",
       "\t<li>'consequence_field'</li>\n",
       "\t<li>'f_miss'</li>\n",
       "\t<li>'f_miss_bileve'</li>\n",
       "\t<li>'f_miss_wcsg'</li>\n",
       "\t<li>'freq'</li>\n",
       "\t<li>'hwe_p'</li>\n",
       "\t<li>'maf'</li>\n",
       "\t<li>'ld_indep'</li>\n",
       "\t<li>'wcsg_only'</li>\n",
       "\t<li>'bileve_only'</li>\n",
       "\t<li>'filter'</li>\n",
       "\t<li>'missingness'</li>\n",
       "\t<li>'hwe'</li>\n",
       "\t<li>'mcpi'</li>\n",
       "\t<li>'gnomad_af'</li>\n",
       "\t<li>'mgi'</li>\n",
       "\t<li>'mgi_notes'</li>\n",
       "\t<li>'all_filters'</li>\n",
       "</ol>\n"
      ],
      "text/latex": [
       "\\begin{enumerate*}\n",
       "\\item 'CHROM'\n",
       "\\item 'POS'\n",
       "\\item 'REF'\n",
       "\\item 'ALT'\n",
       "\\item 'ID'\n",
       "\\item 'Gene'\n",
       "\\item 'Consequence'\n",
       "\\item 'HGVSp'\n",
       "\\item 'LoF'\n",
       "\\item 'LoF\\_filter'\n",
       "\\item 'LoF\\_flags'\n",
       "\\item 'LoF\\_info'\n",
       "\\item 'consequence\\_field'\n",
       "\\item 'f\\_miss'\n",
       "\\item 'f\\_miss\\_bileve'\n",
       "\\item 'f\\_miss\\_wcsg'\n",
       "\\item 'freq'\n",
       "\\item 'hwe\\_p'\n",
       "\\item 'maf'\n",
       "\\item 'ld\\_indep'\n",
       "\\item 'wcsg\\_only'\n",
       "\\item 'bileve\\_only'\n",
       "\\item 'filter'\n",
       "\\item 'missingness'\n",
       "\\item 'hwe'\n",
       "\\item 'mcpi'\n",
       "\\item 'gnomad\\_af'\n",
       "\\item 'mgi'\n",
       "\\item 'mgi\\_notes'\n",
       "\\item 'all\\_filters'\n",
       "\\end{enumerate*}\n"
      ],
      "text/markdown": [
       "1. 'CHROM'\n",
       "2. 'POS'\n",
       "3. 'REF'\n",
       "4. 'ALT'\n",
       "5. 'ID'\n",
       "6. 'Gene'\n",
       "7. 'Consequence'\n",
       "8. 'HGVSp'\n",
       "9. 'LoF'\n",
       "10. 'LoF_filter'\n",
       "11. 'LoF_flags'\n",
       "12. 'LoF_info'\n",
       "13. 'consequence_field'\n",
       "14. 'f_miss'\n",
       "15. 'f_miss_bileve'\n",
       "16. 'f_miss_wcsg'\n",
       "17. 'freq'\n",
       "18. 'hwe_p'\n",
       "19. 'maf'\n",
       "20. 'ld_indep'\n",
       "21. 'wcsg_only'\n",
       "22. 'bileve_only'\n",
       "23. 'filter'\n",
       "24. 'missingness'\n",
       "25. 'hwe'\n",
       "26. 'mcpi'\n",
       "27. 'gnomad_af'\n",
       "28. 'mgi'\n",
       "29. 'mgi_notes'\n",
       "30. 'all_filters'\n",
       "\n",
       "\n"
      ],
      "text/plain": [
       " [1] \"CHROM\"             \"POS\"               \"REF\"              \n",
       " [4] \"ALT\"               \"ID\"                \"Gene\"             \n",
       " [7] \"Consequence\"       \"HGVSp\"             \"LoF\"              \n",
       "[10] \"LoF_filter\"        \"LoF_flags\"         \"LoF_info\"         \n",
       "[13] \"consequence_field\" \"f_miss\"            \"f_miss_bileve\"    \n",
       "[16] \"f_miss_wcsg\"       \"freq\"              \"hwe_p\"            \n",
       "[19] \"maf\"               \"ld_indep\"          \"wcsg_only\"        \n",
       "[22] \"bileve_only\"       \"filter\"            \"missingness\"      \n",
       "[25] \"hwe\"               \"mcpi\"              \"gnomad_af\"        \n",
       "[28] \"mgi\"               \"mgi_notes\"         \"all_filters\"      "
      ]
     },
     "metadata": {},
     "output_type": "display_data"
    },
    {
     "data": {
      "text/html": [
       "<table>\n",
       "<thead><tr><th scope=col>f_miss</th><th scope=col>freq</th><th scope=col>hwe_p</th><th scope=col>maf</th><th scope=col>ld_indep</th></tr></thead>\n",
       "<tbody>\n",
       "\t<tr><td>0.891500  </td><td>0.03614952</td><td> 4.459e-22</td><td>0.03614952</td><td>False     </td></tr>\n",
       "\t<tr><td>0.099850  </td><td>0.05360614</td><td> 0.000e+00</td><td>0.05360614</td><td>False     </td></tr>\n",
       "\t<tr><td>0.044820  </td><td>0.03658726</td><td>7.009e-195</td><td>0.03658726</td><td>False     </td></tr>\n",
       "\t<tr><td>0.005184  </td><td>0.15681154</td><td>1.554e-266</td><td>0.15681154</td><td>False     </td></tr>\n",
       "\t<tr><td>0.001100  </td><td>0.03652657</td><td>4.046e-198</td><td>0.03652657</td><td>False     </td></tr>\n",
       "\t<tr><td>0.001874  </td><td>0.12983398</td><td> 2.418e-02</td><td>0.12983398</td><td>False     </td></tr>\n",
       "</tbody>\n",
       "</table>\n"
      ],
      "text/latex": [
       "\\begin{tabular}{r|lllll}\n",
       " f\\_miss & freq & hwe\\_p & maf & ld\\_indep\\\\\n",
       "\\hline\n",
       "\t 0.891500   & 0.03614952 &  4.459e-22 & 0.03614952 & False     \\\\\n",
       "\t 0.099850   & 0.05360614 &  0.000e+00 & 0.05360614 & False     \\\\\n",
       "\t 0.044820   & 0.03658726 & 7.009e-195 & 0.03658726 & False     \\\\\n",
       "\t 0.005184   & 0.15681154 & 1.554e-266 & 0.15681154 & False     \\\\\n",
       "\t 0.001100   & 0.03652657 & 4.046e-198 & 0.03652657 & False     \\\\\n",
       "\t 0.001874   & 0.12983398 &  2.418e-02 & 0.12983398 & False     \\\\\n",
       "\\end{tabular}\n"
      ],
      "text/markdown": [
       "\n",
       "f_miss | freq | hwe_p | maf | ld_indep | \n",
       "|---|---|---|---|---|---|\n",
       "| 0.891500   | 0.03614952 |  4.459e-22 | 0.03614952 | False      | \n",
       "| 0.099850   | 0.05360614 |  0.000e+00 | 0.05360614 | False      | \n",
       "| 0.044820   | 0.03658726 | 7.009e-195 | 0.03658726 | False      | \n",
       "| 0.005184   | 0.15681154 | 1.554e-266 | 0.15681154 | False      | \n",
       "| 0.001100   | 0.03652657 | 4.046e-198 | 0.03652657 | False      | \n",
       "| 0.001874   | 0.12983398 |  2.418e-02 | 0.12983398 | False      | \n",
       "\n",
       "\n"
      ],
      "text/plain": [
       "  f_miss   freq       hwe_p      maf        ld_indep\n",
       "1 0.891500 0.03614952  4.459e-22 0.03614952 False   \n",
       "2 0.099850 0.05360614  0.000e+00 0.05360614 False   \n",
       "3 0.044820 0.03658726 7.009e-195 0.03658726 False   \n",
       "4 0.005184 0.15681154 1.554e-266 0.15681154 False   \n",
       "5 0.001100 0.03652657 4.046e-198 0.03652657 False   \n",
       "6 0.001874 0.12983398  2.418e-02 0.12983398 False   "
      ]
     },
     "metadata": {},
     "output_type": "display_data"
    }
   ],
   "source": [
    "colnames(filt.file)\n",
    "head(filt.file[,c(\"f_miss\", \"freq\", \"hwe_p\", \"maf\", \"ld_indep\")])"
   ]
  },
  {
   "cell_type": "code",
   "execution_count": 11,
   "metadata": {
    "collapsed": true
   },
   "outputs": [],
   "source": [
    "\n",
    "# all filters imposes MAF of 1%, HWE < 1*10^-7, MCPI pass (if looked at)\n",
    "rem.snps <- filt.file[filt.file$all_filters==0,] # 655,654 out of 784,256\n",
    "\n",
    "# filter for ld - part of LD-pruned set\n",
    "rem.snps2 <- rem.snps[rem.snps$ld_indep=='True',] # 361,424\n",
    "write.table(rem.snps2, sprintf(\"%s/snp_filt_metadata.txt\", OUT_DIR))"
   ]
  },
  {
   "cell_type": "code",
   "execution_count": 13,
   "metadata": {},
   "outputs": [
    {
     "name": "stdout",
     "output_type": "stream",
     "text": [
      "   Min. 1st Qu.  Median    Mean 3rd Qu.    Max. \n",
      " 0.1000  0.1359  0.1944  0.2267  0.2961  0.5000 \n"
     ]
    }
   ],
   "source": [
    "DATA.FOLDER <- OUT_DIR\n",
    "filterMAF <- function(maf.cutoff){\n",
    "    rem.snps <- read.table(sprintf(\"%s/snp_filt_metadata.txt\", DATA.FOLDER), header=TRUE)\n",
    "    #print(head(rem.snps))\n",
    "    filt.snps <- rem.snps[rem.snps$maf > maf.cutoff,]\n",
    "    #print(head(filt.snps))\n",
    "    print(summary(filt.snps$maf))\n",
    "    return(filt.snps$ID)\n",
    "}\n",
    "\n",
    "\n",
    "res <- filterMAF(0.1)"
   ]
  },
  {
   "cell_type": "code",
   "execution_count": 3,
   "metadata": {},
   "outputs": [
    {
     "data": {
      "text/html": [
       "<table>\n",
       "<thead><tr><th scope=col>CHROM</th><th scope=col>POS</th><th scope=col>REF</th><th scope=col>ALT</th><th scope=col>ID</th><th scope=col>Gene</th><th scope=col>Consequence</th><th scope=col>HGVSp</th><th scope=col>LoF</th><th scope=col>LoF_filter</th><th scope=col>⋯</th><th scope=col>wcsg_only</th><th scope=col>bileve_only</th><th scope=col>filter</th><th scope=col>missingness</th><th scope=col>hwe</th><th scope=col>mcpi</th><th scope=col>gnomad_af</th><th scope=col>mgi</th><th scope=col>mgi_notes</th><th scope=col>all_filters</th></tr></thead>\n",
       "<tbody>\n",
       "\t<tr><td>1                    </td><td>723307               </td><td>C                    </td><td>G                    </td><td>rs28659788           </td><td>ENSG00000237491      </td><td>intron_variant       </td><td>                     </td><td>                     </td><td>                     </td><td>⋯                    </td><td>False                </td><td>True                 </td><td>NA                   </td><td>1                    </td><td>1                    </td><td>0                    </td><td>NA                   </td><td>NA                   </td><td>                     </td><td>2                    </td></tr>\n",
       "\t<tr><td>1                    </td><td>727841               </td><td>G                    </td><td>A                    </td><td>rs116587930          </td><td>ENSG00000237491      </td><td>intron_variant       </td><td>                     </td><td>                     </td><td>                     </td><td>⋯                    </td><td>False                </td><td>False                </td><td>NA                   </td><td>1                    </td><td>1                    </td><td>0                    </td><td>NA                   </td><td>NA                   </td><td>                     </td><td>2                    </td></tr>\n",
       "\t<tr><td>1                    </td><td>729632               </td><td>C                    </td><td>T                    </td><td>rs116720794          </td><td>ENSG00000237491      </td><td>intron_variant       </td><td>                     </td><td>                     </td><td>                     </td><td>⋯                    </td><td>False                </td><td>False                </td><td>NA                   </td><td>1                    </td><td>1                    </td><td>0                    </td><td>NA                   </td><td>NA                   </td><td>                     </td><td>2                    </td></tr>\n",
       "\t<tr><td>1                    </td><td>752721               </td><td>A                    </td><td>G                    </td><td>rs3131972            </td><td>ENSG00000240453      </td><td>intron_variant       </td><td>                     </td><td>                     </td><td>                     </td><td>⋯                    </td><td>False                </td><td>False                </td><td>NA                   </td><td>0                    </td><td>1                    </td><td>0                    </td><td>NA                   </td><td>NA                   </td><td>                     </td><td>1                    </td></tr>\n",
       "\t<tr><td>1                    </td><td>754105               </td><td>C                    </td><td>T                    </td><td>rs12184325           </td><td>ENSG00000177757      </td><td>splice_region_variant</td><td>                     </td><td>                     </td><td>                     </td><td>⋯                    </td><td>False                </td><td>False                </td><td>NA                   </td><td>0                    </td><td>1                    </td><td>0                    </td><td>NA                   </td><td>NA                   </td><td>                     </td><td>1                    </td></tr>\n",
       "\t<tr><td>1                    </td><td>756604               </td><td>A                    </td><td>G                    </td><td>rs3131962            </td><td>ENSG00000240453      </td><td>upstream_gene_variant</td><td>                     </td><td>                     </td><td>                     </td><td>⋯                    </td><td>False                </td><td>False                </td><td>NA                   </td><td>0                    </td><td>0                    </td><td>0                    </td><td>NA                   </td><td>NA                   </td><td>                     </td><td>0                    </td></tr>\n",
       "</tbody>\n",
       "</table>\n"
      ],
      "text/latex": [
       "\\begin{tabular}{r|lllllllllllllllllllllllllllll}\n",
       " CHROM & POS & REF & ALT & ID & Gene & Consequence & HGVSp & LoF & LoF\\_filter & ⋯ & wcsg\\_only & bileve\\_only & filter & missingness & hwe & mcpi & gnomad\\_af & mgi & mgi\\_notes & all\\_filters\\\\\n",
       "\\hline\n",
       "\t 1                       & 723307                  & C                       & G                       & rs28659788              & ENSG00000237491         & intron\\_variant        &                         &                         &                         & ⋯                       & False                   & True                    & NA                      & 1                       & 1                       & 0                       & NA                      & NA                      &                         & 2                      \\\\\n",
       "\t 1                       & 727841                  & G                       & A                       & rs116587930             & ENSG00000237491         & intron\\_variant        &                         &                         &                         & ⋯                       & False                   & False                   & NA                      & 1                       & 1                       & 0                       & NA                      & NA                      &                         & 2                      \\\\\n",
       "\t 1                       & 729632                  & C                       & T                       & rs116720794             & ENSG00000237491         & intron\\_variant        &                         &                         &                         & ⋯                       & False                   & False                   & NA                      & 1                       & 1                       & 0                       & NA                      & NA                      &                         & 2                      \\\\\n",
       "\t 1                       & 752721                  & A                       & G                       & rs3131972               & ENSG00000240453         & intron\\_variant        &                         &                         &                         & ⋯                       & False                   & False                   & NA                      & 0                       & 1                       & 0                       & NA                      & NA                      &                         & 1                      \\\\\n",
       "\t 1                         & 754105                    & C                         & T                         & rs12184325                & ENSG00000177757           & splice\\_region\\_variant &                           &                           &                           & ⋯                         & False                     & False                     & NA                        & 0                         & 1                         & 0                         & NA                        & NA                        &                           & 1                        \\\\\n",
       "\t 1                         & 756604                    & A                         & G                         & rs3131962                 & ENSG00000240453           & upstream\\_gene\\_variant &                           &                           &                           & ⋯                         & False                     & False                     & NA                        & 0                         & 0                         & 0                         & NA                        & NA                        &                           & 0                        \\\\\n",
       "\\end{tabular}\n"
      ],
      "text/markdown": [
       "\n",
       "CHROM | POS | REF | ALT | ID | Gene | Consequence | HGVSp | LoF | LoF_filter | ⋯ | wcsg_only | bileve_only | filter | missingness | hwe | mcpi | gnomad_af | mgi | mgi_notes | all_filters | \n",
       "|---|---|---|---|---|---|\n",
       "| 1                     | 723307                | C                     | G                     | rs28659788            | ENSG00000237491       | intron_variant        |                       |                       |                       | ⋯                     | False                 | True                  | NA                    | 1                     | 1                     | 0                     | NA                    | NA                    |                       | 2                     | \n",
       "| 1                     | 727841                | G                     | A                     | rs116587930           | ENSG00000237491       | intron_variant        |                       |                       |                       | ⋯                     | False                 | False                 | NA                    | 1                     | 1                     | 0                     | NA                    | NA                    |                       | 2                     | \n",
       "| 1                     | 729632                | C                     | T                     | rs116720794           | ENSG00000237491       | intron_variant        |                       |                       |                       | ⋯                     | False                 | False                 | NA                    | 1                     | 1                     | 0                     | NA                    | NA                    |                       | 2                     | \n",
       "| 1                     | 752721                | A                     | G                     | rs3131972             | ENSG00000240453       | intron_variant        |                       |                       |                       | ⋯                     | False                 | False                 | NA                    | 0                     | 1                     | 0                     | NA                    | NA                    |                       | 1                     | \n",
       "| 1                     | 754105                | C                     | T                     | rs12184325            | ENSG00000177757       | splice_region_variant |                       |                       |                       | ⋯                     | False                 | False                 | NA                    | 0                     | 1                     | 0                     | NA                    | NA                    |                       | 1                     | \n",
       "| 1                     | 756604                | A                     | G                     | rs3131962             | ENSG00000240453       | upstream_gene_variant |                       |                       |                       | ⋯                     | False                 | False                 | NA                    | 0                     | 0                     | 0                     | NA                    | NA                    |                       | 0                     | \n",
       "\n",
       "\n"
      ],
      "text/plain": [
       "  CHROM POS    REF ALT ID          Gene            Consequence           HGVSp\n",
       "1 1     723307 C   G   rs28659788  ENSG00000237491 intron_variant             \n",
       "2 1     727841 G   A   rs116587930 ENSG00000237491 intron_variant             \n",
       "3 1     729632 C   T   rs116720794 ENSG00000237491 intron_variant             \n",
       "4 1     752721 A   G   rs3131972   ENSG00000240453 intron_variant             \n",
       "5 1     754105 C   T   rs12184325  ENSG00000177757 splice_region_variant      \n",
       "6 1     756604 A   G   rs3131962   ENSG00000240453 upstream_gene_variant      \n",
       "  LoF LoF_filter ⋯ wcsg_only bileve_only filter missingness hwe mcpi gnomad_af\n",
       "1                ⋯ False     True        NA     1           1   0    NA       \n",
       "2                ⋯ False     False       NA     1           1   0    NA       \n",
       "3                ⋯ False     False       NA     1           1   0    NA       \n",
       "4                ⋯ False     False       NA     0           1   0    NA       \n",
       "5                ⋯ False     False       NA     0           1   0    NA       \n",
       "6                ⋯ False     False       NA     0           0   0    NA       \n",
       "  mgi mgi_notes all_filters\n",
       "1 NA            2          \n",
       "2 NA            2          \n",
       "3 NA            2          \n",
       "4 NA            1          \n",
       "5 NA            1          \n",
       "6 NA            0          "
      ]
     },
     "metadata": {},
     "output_type": "display_data"
    }
   ],
   "source": [
    "head(filt.file[,c(1:12,14:30)])"
   ]
  },
  {
   "cell_type": "code",
   "execution_count": null,
   "metadata": {
    "collapsed": true
   },
   "outputs": [],
   "source": [
    "filterDat <- function(filt.f, filt.m, trait.type, se.cutoff) \n",
    "    dat.filt <- filterSE(filt.f, filt.m, trait.type, cutoff=se.cutoff)\n",
    "    filt.f <- dat.filt$`1`\n",
    "    filt.m <- dat.filt$`2`\n",
    "    \n",
    "    # extract dat in a format for stan input\n",
    "    dat <- extractDataStan(filt.f, filt.m)\n",
    "    return(dat)\n",
    "}\n"
   ]
  },
  {
   "cell_type": "markdown",
   "metadata": {},
   "source": [
    "### START OF CODE ###"
   ]
  },
  {
   "cell_type": "code",
   "execution_count": 2,
   "metadata": {
    "collapsed": true
   },
   "outputs": [],
   "source": [
    "# read in the data\n",
    "trait <- '21001'\n",
    "trait.type <- 'quant'\n",
    "all.dat <- lapply(1:22, function(x){ getData(as.character(x), trait)})\n",
    "\n",
    "\n"
   ]
  },
  {
   "cell_type": "code",
   "execution_count": null,
   "metadata": {
    "collapsed": true
   },
   "outputs": [],
   "source": [
    "# vary the MAF cutoff\n",
    "#   - TODO: break up reformatData --> faster\n",
    "maf.cut <- 0.1\n",
    "dat.reform <- reformatData(all.dat, trait.type, maf.cut) # reformat data, remove rows not shared, vary MAF\n",
    "filt.f <- dat.reform$`1`\n",
    "filt.m <- dat.reform$`2`\n",
    "\n",
    "\n",
    "\n",
    "\n"
   ]
  },
  {
   "cell_type": "code",
   "execution_count": null,
   "metadata": {
    "collapsed": true
   },
   "outputs": [],
   "source": [
    "# filter by standard error\n",
    "# vary the SE cutoff\n",
    "se.cut <- 0.2\n",
    "dat.filt <- filterSE(filt.f, filt.m, trait.type, se.cut)\n",
    "filt2.f <- dat.filt$`1`\n",
    "filt2.m <- dat.filt$`2`"
   ]
  },
  {
   "cell_type": "code",
   "execution_count": 27,
   "metadata": {},
   "outputs": [
    {
     "data": {
      "text/html": [
       "<ol class=list-inline>\n",
       "\t<li>0.00356796</li>\n",
       "\t<li>0.00630472</li>\n",
       "</ol>\n"
      ],
      "text/latex": [
       "\\begin{enumerate*}\n",
       "\\item 0.00356796\n",
       "\\item 0.00630472\n",
       "\\end{enumerate*}\n"
      ],
      "text/markdown": [
       "1. 0.00356796\n",
       "2. 0.00630472\n",
       "\n",
       "\n"
      ],
      "text/plain": [
       "[1] 0.00356796 0.00630472"
      ]
     },
     "metadata": {},
     "output_type": "display_data"
    },
    {
     "data": {
      "text/html": [
       "<ol class=list-inline>\n",
       "\t<li>0.00330367</li>\n",
       "\t<li>0.00577504</li>\n",
       "</ol>\n"
      ],
      "text/latex": [
       "\\begin{enumerate*}\n",
       "\\item 0.00330367\n",
       "\\item 0.00577504\n",
       "\\end{enumerate*}\n"
      ],
      "text/markdown": [
       "1. 0.00330367\n",
       "2. 0.00577504\n",
       "\n",
       "\n"
      ],
      "text/plain": [
       "[1] 0.00330367 0.00577504"
      ]
     },
     "metadata": {},
     "output_type": "display_data"
    }
   ],
   "source": [
    "# sanity checks\n",
    "range(filt2.m$SE)\n",
    "range(filt2.f$SE)"
   ]
  },
  {
   "cell_type": "code",
   "execution_count": 34,
   "metadata": {},
   "outputs": [
    {
     "data": {
      "text/html": [
       "<ol class=list-inline>\n",
       "\t<li>0.00356796</li>\n",
       "\t<li>0.00630472</li>\n",
       "</ol>\n"
      ],
      "text/latex": [
       "\\begin{enumerate*}\n",
       "\\item 0.00356796\n",
       "\\item 0.00630472\n",
       "\\end{enumerate*}\n"
      ],
      "text/markdown": [
       "1. 0.00356796\n",
       "2. 0.00630472\n",
       "\n",
       "\n"
      ],
      "text/plain": [
       "[1] 0.00356796 0.00630472"
      ]
     },
     "metadata": {},
     "output_type": "display_data"
    },
    {
     "data": {
      "text/html": [
       "<ol class=list-inline>\n",
       "\t<li>0.00330367</li>\n",
       "\t<li>0.00577504</li>\n",
       "</ol>\n"
      ],
      "text/latex": [
       "\\begin{enumerate*}\n",
       "\\item 0.00330367\n",
       "\\item 0.00577504\n",
       "\\end{enumerate*}\n"
      ],
      "text/markdown": [
       "1. 0.00330367\n",
       "2. 0.00577504\n",
       "\n",
       "\n"
      ],
      "text/plain": [
       "[1] 0.00330367 0.00577504"
      ]
     },
     "metadata": {},
     "output_type": "display_data"
    },
    {
     "data": {
      "text/html": [
       "<ol class=list-inline>\n",
       "\t<li>0.00356796</li>\n",
       "\t<li>0.00630472</li>\n",
       "</ol>\n"
      ],
      "text/latex": [
       "\\begin{enumerate*}\n",
       "\\item 0.00356796\n",
       "\\item 0.00630472\n",
       "\\end{enumerate*}\n"
      ],
      "text/markdown": [
       "1. 0.00356796\n",
       "2. 0.00630472\n",
       "\n",
       "\n"
      ],
      "text/plain": [
       "[1] 0.00356796 0.00630472"
      ]
     },
     "metadata": {},
     "output_type": "display_data"
    },
    {
     "data": {
      "text/html": [
       "<ol class=list-inline>\n",
       "\t<li>0.00330367</li>\n",
       "\t<li>0.00577504</li>\n",
       "</ol>\n"
      ],
      "text/latex": [
       "\\begin{enumerate*}\n",
       "\\item 0.00330367\n",
       "\\item 0.00577504\n",
       "\\end{enumerate*}\n"
      ],
      "text/markdown": [
       "1. 0.00330367\n",
       "2. 0.00577504\n",
       "\n",
       "\n"
      ],
      "text/plain": [
       "[1] 0.00330367 0.00577504"
      ]
     },
     "metadata": {},
     "output_type": "display_data"
    },
    {
     "data": {
      "text/html": [
       "62007"
      ],
      "text/latex": [
       "62007"
      ],
      "text/markdown": [
       "62007"
      ],
      "text/plain": [
       "[1] 62007"
      ]
     },
     "metadata": {},
     "output_type": "display_data"
    },
    {
     "data": {
      "text/html": [
       "62007"
      ],
      "text/latex": [
       "62007"
      ],
      "text/markdown": [
       "62007"
      ],
      "text/plain": [
       "[1] 62007"
      ]
     },
     "metadata": {},
     "output_type": "display_data"
    },
    {
     "data": {
      "text/html": [
       "<table>\n",
       "<thead><tr><th></th><th scope=col>CHR</th><th scope=col>BP</th><th scope=col>SNP</th><th scope=col>REF</th><th scope=col>ALT</th><th scope=col>TEST</th><th scope=col>OBS_CT</th><th scope=col>BETA</th><th scope=col>SE</th><th scope=col>T_STAT</th><th scope=col>P</th></tr></thead>\n",
       "<tbody>\n",
       "\t<tr><th scope=row>10</th><td>1         </td><td>768448    </td><td>rs12562034</td><td>G         </td><td>A         </td><td>ADD       </td><td>180207    </td><td>0.00223183</td><td>0.00541826</td><td>-0.411909 </td><td>0.680407  </td></tr>\n",
       "\t<tr><th scope=row>12</th><td>1         </td><td>779322    </td><td>rs4040617 </td><td>A         </td><td>G         </td><td>ADD       </td><td>180025    </td><td>0.00283624</td><td>0.00497289</td><td>-0.570341 </td><td>0.568447  </td></tr>\n",
       "\t<tr><th scope=row>21</th><td>1         </td><td>838555    </td><td>rs4970383 </td><td>C         </td><td>A         </td><td>ADD       </td><td>180155    </td><td>0.00137271</td><td>0.00385814</td><td>-0.355795 </td><td>0.721995  </td></tr>\n",
       "\t<tr><th scope=row>24</th><td>1         </td><td>849998    </td><td>rs13303222</td><td>A         </td><td>G         </td><td>ADD       </td><td>180213    </td><td>0.00060713</td><td>0.00433392</td><td>-0.140088 </td><td>0.888591  </td></tr>\n",
       "\t<tr><th scope=row>64</th><td>1         </td><td>891059    </td><td>rs13303065</td><td>C         </td><td>T         </td><td>ADD       </td><td>180311    </td><td>0.00400785</td><td>0.00349634</td><td>-1.146300 </td><td>0.251673  </td></tr>\n",
       "\t<tr><th scope=row>99</th><td>1         </td><td>909238    </td><td>rs3829740 </td><td>G         </td><td>C         </td><td>ADD       </td><td>180290    </td><td>0.00424681</td><td>0.00335130</td><td>-1.267210 </td><td>0.205081  </td></tr>\n",
       "</tbody>\n",
       "</table>\n"
      ],
      "text/latex": [
       "\\begin{tabular}{r|lllllllllll}\n",
       "  & CHR & BP & SNP & REF & ALT & TEST & OBS\\_CT & BETA & SE & T\\_STAT & P\\\\\n",
       "\\hline\n",
       "\t10 & 1          & 768448     & rs12562034 & G          & A          & ADD        & 180207     & 0.00223183 & 0.00541826 & -0.411909  & 0.680407  \\\\\n",
       "\t12 & 1          & 779322     & rs4040617  & A          & G          & ADD        & 180025     & 0.00283624 & 0.00497289 & -0.570341  & 0.568447  \\\\\n",
       "\t21 & 1          & 838555     & rs4970383  & C          & A          & ADD        & 180155     & 0.00137271 & 0.00385814 & -0.355795  & 0.721995  \\\\\n",
       "\t24 & 1          & 849998     & rs13303222 & A          & G          & ADD        & 180213     & 0.00060713 & 0.00433392 & -0.140088  & 0.888591  \\\\\n",
       "\t64 & 1          & 891059     & rs13303065 & C          & T          & ADD        & 180311     & 0.00400785 & 0.00349634 & -1.146300  & 0.251673  \\\\\n",
       "\t99 & 1          & 909238     & rs3829740  & G          & C          & ADD        & 180290     & 0.00424681 & 0.00335130 & -1.267210  & 0.205081  \\\\\n",
       "\\end{tabular}\n"
      ],
      "text/markdown": [
       "\n",
       "| <!--/--> | CHR | BP | SNP | REF | ALT | TEST | OBS_CT | BETA | SE | T_STAT | P | \n",
       "|---|---|---|---|---|---|\n",
       "| 10 | 1          | 768448     | rs12562034 | G          | A          | ADD        | 180207     | 0.00223183 | 0.00541826 | -0.411909  | 0.680407   | \n",
       "| 12 | 1          | 779322     | rs4040617  | A          | G          | ADD        | 180025     | 0.00283624 | 0.00497289 | -0.570341  | 0.568447   | \n",
       "| 21 | 1          | 838555     | rs4970383  | C          | A          | ADD        | 180155     | 0.00137271 | 0.00385814 | -0.355795  | 0.721995   | \n",
       "| 24 | 1          | 849998     | rs13303222 | A          | G          | ADD        | 180213     | 0.00060713 | 0.00433392 | -0.140088  | 0.888591   | \n",
       "| 64 | 1          | 891059     | rs13303065 | C          | T          | ADD        | 180311     | 0.00400785 | 0.00349634 | -1.146300  | 0.251673   | \n",
       "| 99 | 1          | 909238     | rs3829740  | G          | C          | ADD        | 180290     | 0.00424681 | 0.00335130 | -1.267210  | 0.205081   | \n",
       "\n",
       "\n"
      ],
      "text/plain": [
       "   CHR BP     SNP        REF ALT TEST OBS_CT BETA       SE         T_STAT   \n",
       "10 1   768448 rs12562034 G   A   ADD  180207 0.00223183 0.00541826 -0.411909\n",
       "12 1   779322 rs4040617  A   G   ADD  180025 0.00283624 0.00497289 -0.570341\n",
       "21 1   838555 rs4970383  C   A   ADD  180155 0.00137271 0.00385814 -0.355795\n",
       "24 1   849998 rs13303222 A   G   ADD  180213 0.00060713 0.00433392 -0.140088\n",
       "64 1   891059 rs13303065 C   T   ADD  180311 0.00400785 0.00349634 -1.146300\n",
       "99 1   909238 rs3829740  G   C   ADD  180290 0.00424681 0.00335130 -1.267210\n",
       "   P       \n",
       "10 0.680407\n",
       "12 0.568447\n",
       "21 0.721995\n",
       "24 0.888591\n",
       "64 0.251673\n",
       "99 0.205081"
      ]
     },
     "metadata": {},
     "output_type": "display_data"
    },
    {
     "data": {
      "text/html": [
       "<table>\n",
       "<thead><tr><th></th><th scope=col>CHR</th><th scope=col>BP</th><th scope=col>SNP</th><th scope=col>REF</th><th scope=col>ALT</th><th scope=col>TEST</th><th scope=col>OBS_CT</th><th scope=col>BETA</th><th scope=col>SE</th><th scope=col>T_STAT</th><th scope=col>P</th></tr></thead>\n",
       "<tbody>\n",
       "\t<tr><th scope=row>10</th><td>1           </td><td>768448      </td><td>rs12562034  </td><td>G           </td><td>A           </td><td>ADD         </td><td>155305      </td><td> 0.015228000</td><td>0.00582732  </td><td>-2.613210   </td><td>0.00897047  </td></tr>\n",
       "\t<tr><th scope=row>12</th><td>1           </td><td>779322      </td><td>rs4040617   </td><td>A           </td><td>G           </td><td>ADD         </td><td>155196      </td><td>-0.003686720</td><td>0.00539278  </td><td> 0.683640   </td><td>0.49420300  </td></tr>\n",
       "\t<tr><th scope=row>21</th><td>1           </td><td>838555      </td><td>rs4970383   </td><td>C           </td><td>A           </td><td>ADD         </td><td>155262      </td><td>-0.004003140</td><td>0.00415949  </td><td> 0.962413   </td><td>0.33584400  </td></tr>\n",
       "\t<tr><th scope=row>24</th><td>1           </td><td>849998      </td><td>rs13303222  </td><td>A           </td><td>G           </td><td>ADD         </td><td>155308      </td><td>-0.013914100</td><td>0.00468891  </td><td> 2.967450   </td><td>0.00300325  </td></tr>\n",
       "\t<tr><th scope=row>64</th><td>1           </td><td>891059      </td><td>rs13303065  </td><td>C           </td><td>T           </td><td>ADD         </td><td>155396      </td><td>-0.000494891</td><td>0.00377404  </td><td> 0.131130   </td><td>0.89567200  </td></tr>\n",
       "\t<tr><th scope=row>99</th><td>1           </td><td>909238      </td><td>rs3829740   </td><td>G           </td><td>C           </td><td>ADD         </td><td>155351      </td><td>-0.000612335</td><td>0.00361447  </td><td> 0.169412   </td><td>0.86547300  </td></tr>\n",
       "</tbody>\n",
       "</table>\n"
      ],
      "text/latex": [
       "\\begin{tabular}{r|lllllllllll}\n",
       "  & CHR & BP & SNP & REF & ALT & TEST & OBS\\_CT & BETA & SE & T\\_STAT & P\\\\\n",
       "\\hline\n",
       "\t10 & 1            & 768448       & rs12562034   & G            & A            & ADD          & 155305       &  0.015228000 & 0.00582732   & -2.613210    & 0.00897047  \\\\\n",
       "\t12 & 1            & 779322       & rs4040617    & A            & G            & ADD          & 155196       & -0.003686720 & 0.00539278   &  0.683640    & 0.49420300  \\\\\n",
       "\t21 & 1            & 838555       & rs4970383    & C            & A            & ADD          & 155262       & -0.004003140 & 0.00415949   &  0.962413    & 0.33584400  \\\\\n",
       "\t24 & 1            & 849998       & rs13303222   & A            & G            & ADD          & 155308       & -0.013914100 & 0.00468891   &  2.967450    & 0.00300325  \\\\\n",
       "\t64 & 1            & 891059       & rs13303065   & C            & T            & ADD          & 155396       & -0.000494891 & 0.00377404   &  0.131130    & 0.89567200  \\\\\n",
       "\t99 & 1            & 909238       & rs3829740    & G            & C            & ADD          & 155351       & -0.000612335 & 0.00361447   &  0.169412    & 0.86547300  \\\\\n",
       "\\end{tabular}\n"
      ],
      "text/markdown": [
       "\n",
       "| <!--/--> | CHR | BP | SNP | REF | ALT | TEST | OBS_CT | BETA | SE | T_STAT | P | \n",
       "|---|---|---|---|---|---|\n",
       "| 10 | 1            | 768448       | rs12562034   | G            | A            | ADD          | 155305       |  0.015228000 | 0.00582732   | -2.613210    | 0.00897047   | \n",
       "| 12 | 1            | 779322       | rs4040617    | A            | G            | ADD          | 155196       | -0.003686720 | 0.00539278   |  0.683640    | 0.49420300   | \n",
       "| 21 | 1            | 838555       | rs4970383    | C            | A            | ADD          | 155262       | -0.004003140 | 0.00415949   |  0.962413    | 0.33584400   | \n",
       "| 24 | 1            | 849998       | rs13303222   | A            | G            | ADD          | 155308       | -0.013914100 | 0.00468891   |  2.967450    | 0.00300325   | \n",
       "| 64 | 1            | 891059       | rs13303065   | C            | T            | ADD          | 155396       | -0.000494891 | 0.00377404   |  0.131130    | 0.89567200   | \n",
       "| 99 | 1            | 909238       | rs3829740    | G            | C            | ADD          | 155351       | -0.000612335 | 0.00361447   |  0.169412    | 0.86547300   | \n",
       "\n",
       "\n"
      ],
      "text/plain": [
       "   CHR BP     SNP        REF ALT TEST OBS_CT BETA         SE         T_STAT   \n",
       "10 1   768448 rs12562034 G   A   ADD  155305  0.015228000 0.00582732 -2.613210\n",
       "12 1   779322 rs4040617  A   G   ADD  155196 -0.003686720 0.00539278  0.683640\n",
       "21 1   838555 rs4970383  C   A   ADD  155262 -0.004003140 0.00415949  0.962413\n",
       "24 1   849998 rs13303222 A   G   ADD  155308 -0.013914100 0.00468891  2.967450\n",
       "64 1   891059 rs13303065 C   T   ADD  155396 -0.000494891 0.00377404  0.131130\n",
       "99 1   909238 rs3829740  G   C   ADD  155351 -0.000612335 0.00361447  0.169412\n",
       "   P         \n",
       "10 0.00897047\n",
       "12 0.49420300\n",
       "21 0.33584400\n",
       "24 0.00300325\n",
       "64 0.89567200\n",
       "99 0.86547300"
      ]
     },
     "metadata": {},
     "output_type": "display_data"
    }
   ],
   "source": [
    "\n",
    "dat.reform <- reformatData(all.dat, trait.type, maf.cut) # reformat data, remove rows not shared, vary MAF\n",
    "filt.f <- dat.reform$`1`\n",
    "filt.m <- dat.reform$`2`\n",
    "range(filt.m$SE)\n",
    "range(filt.f$SE)\n",
    "dat.filt <- filterSE(filt.f, filt.m, trait.type, se.cut)\n",
    "filt2.f <- dat.filt$`1`\n",
    "filt2.m <- dat.filt$`2`\n",
    "range(filt2.m$SE)\n",
    "range(filt2.f$SE)\n",
    "nrow(filt2.f)\n",
    "nrow(filt2.m)\n",
    "head(filt2.f)\n",
    "head(filt2.m)\n",
    "\n"
   ]
  },
  {
   "cell_type": "code",
   "execution_count": null,
   "metadata": {
    "collapsed": true
   },
   "outputs": [],
   "source": [
    "# run optimizing\n",
    "# run model 1 with optimizing\n",
    "dat <- extractDataStan(filt2.f, filt2.m)\n",
    "\n",
    "        dat$dat$K <- 2\n",
    "\n",
    "        m1 <- stan_model(\"models/model1.stan\")\n",
    "        f1 <- timeModel(optimizing(m1, dat$dat, hessian=TRUE))\n",
    "        print(f1)\n",
    "\n",
    "\n"
   ]
  },
  {
   "cell_type": "code",
   "execution_count": null,
   "metadata": {
    "collapsed": true
   },
   "outputs": [],
   "source": [
    "# visualize this shift?"
   ]
  }
 ],
 "metadata": {
  "kernelspec": {
   "display_name": "R",
   "language": "R",
   "name": "ir"
  },
  "language_info": {
   "codemirror_mode": "r",
   "file_extension": ".r",
   "mimetype": "text/x-r-source",
   "name": "R",
   "pygments_lexer": "r",
   "version": "3.3.0"
  }
 },
 "nbformat": 4,
 "nbformat_minor": 2
}
