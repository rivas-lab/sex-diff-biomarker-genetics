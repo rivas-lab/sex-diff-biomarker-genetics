{
 "cells": [
  {
   "cell_type": "code",
   "execution_count": 1,
   "metadata": {},
   "outputs": [
    {
     "data": {
      "text/html": [
       "<ol class=list-inline>\n",
       "\t<li>'Alanine_aminotransferase'</li>\n",
       "\t<li>'Albumin'</li>\n",
       "\t<li>'Alkaline_phosphatase'</li>\n",
       "\t<li>'Apolipoprotein_A'</li>\n",
       "\t<li>'Apolipoprotein_B'</li>\n",
       "\t<li>'Aspartate_aminotransferase'</li>\n",
       "\t<li>'C_reactive_protein'</li>\n",
       "\t<li>'Calcium'</li>\n",
       "\t<li>'Cholesterol'</li>\n",
       "\t<li>'Creatinine_in_urine'</li>\n",
       "\t<li>'Creatinine'</li>\n",
       "\t<li>'Cystatin_C'</li>\n",
       "\t<li>'Direct_bilirubin'</li>\n",
       "\t<li>'eGFR'</li>\n",
       "\t<li>'Fasting_glucose'</li>\n",
       "\t<li>'Gamma_glutamyltransferase'</li>\n",
       "\t<li>'Glucose'</li>\n",
       "\t<li>'HDL_cholesterol'</li>\n",
       "\t<li>'LDL_direct'</li>\n",
       "\t<li>'Lipoprotein_A'</li>\n",
       "\t<li>'Microalbumin_in_urine'</li>\n",
       "\t<li>'Non_albumin_protein'</li>\n",
       "\t<li>'Oestradiol'</li>\n",
       "\t<li>'Phosphate'</li>\n",
       "\t<li>'Potassium_in_urine'</li>\n",
       "\t<li>'Rheumatoid_factor'</li>\n",
       "\t<li>'SHBG'</li>\n",
       "\t<li>'Sodium_in_urine'</li>\n",
       "\t<li>'Testosterone'</li>\n",
       "\t<li>'Total_bilirubin'</li>\n",
       "\t<li>'Total_protein'</li>\n",
       "\t<li>'Triglycerides'</li>\n",
       "\t<li>'Urate'</li>\n",
       "\t<li>'Urea'</li>\n",
       "\t<li>'Vitamin_D'</li>\n",
       "</ol>\n"
      ],
      "text/latex": [
       "\\begin{enumerate*}\n",
       "\\item 'Alanine\\_aminotransferase'\n",
       "\\item 'Albumin'\n",
       "\\item 'Alkaline\\_phosphatase'\n",
       "\\item 'Apolipoprotein\\_A'\n",
       "\\item 'Apolipoprotein\\_B'\n",
       "\\item 'Aspartate\\_aminotransferase'\n",
       "\\item 'C\\_reactive\\_protein'\n",
       "\\item 'Calcium'\n",
       "\\item 'Cholesterol'\n",
       "\\item 'Creatinine\\_in\\_urine'\n",
       "\\item 'Creatinine'\n",
       "\\item 'Cystatin\\_C'\n",
       "\\item 'Direct\\_bilirubin'\n",
       "\\item 'eGFR'\n",
       "\\item 'Fasting\\_glucose'\n",
       "\\item 'Gamma\\_glutamyltransferase'\n",
       "\\item 'Glucose'\n",
       "\\item 'HDL\\_cholesterol'\n",
       "\\item 'LDL\\_direct'\n",
       "\\item 'Lipoprotein\\_A'\n",
       "\\item 'Microalbumin\\_in\\_urine'\n",
       "\\item 'Non\\_albumin\\_protein'\n",
       "\\item 'Oestradiol'\n",
       "\\item 'Phosphate'\n",
       "\\item 'Potassium\\_in\\_urine'\n",
       "\\item 'Rheumatoid\\_factor'\n",
       "\\item 'SHBG'\n",
       "\\item 'Sodium\\_in\\_urine'\n",
       "\\item 'Testosterone'\n",
       "\\item 'Total\\_bilirubin'\n",
       "\\item 'Total\\_protein'\n",
       "\\item 'Triglycerides'\n",
       "\\item 'Urate'\n",
       "\\item 'Urea'\n",
       "\\item 'Vitamin\\_D'\n",
       "\\end{enumerate*}\n"
      ],
      "text/markdown": [
       "1. 'Alanine_aminotransferase'\n",
       "2. 'Albumin'\n",
       "3. 'Alkaline_phosphatase'\n",
       "4. 'Apolipoprotein_A'\n",
       "5. 'Apolipoprotein_B'\n",
       "6. 'Aspartate_aminotransferase'\n",
       "7. 'C_reactive_protein'\n",
       "8. 'Calcium'\n",
       "9. 'Cholesterol'\n",
       "10. 'Creatinine_in_urine'\n",
       "11. 'Creatinine'\n",
       "12. 'Cystatin_C'\n",
       "13. 'Direct_bilirubin'\n",
       "14. 'eGFR'\n",
       "15. 'Fasting_glucose'\n",
       "16. 'Gamma_glutamyltransferase'\n",
       "17. 'Glucose'\n",
       "18. 'HDL_cholesterol'\n",
       "19. 'LDL_direct'\n",
       "20. 'Lipoprotein_A'\n",
       "21. 'Microalbumin_in_urine'\n",
       "22. 'Non_albumin_protein'\n",
       "23. 'Oestradiol'\n",
       "24. 'Phosphate'\n",
       "25. 'Potassium_in_urine'\n",
       "26. 'Rheumatoid_factor'\n",
       "27. 'SHBG'\n",
       "28. 'Sodium_in_urine'\n",
       "29. 'Testosterone'\n",
       "30. 'Total_bilirubin'\n",
       "31. 'Total_protein'\n",
       "32. 'Triglycerides'\n",
       "33. 'Urate'\n",
       "34. 'Urea'\n",
       "35. 'Vitamin_D'\n",
       "\n",
       "\n"
      ],
      "text/plain": [
       " [1] \"Alanine_aminotransferase\"   \"Albumin\"                   \n",
       " [3] \"Alkaline_phosphatase\"       \"Apolipoprotein_A\"          \n",
       " [5] \"Apolipoprotein_B\"           \"Aspartate_aminotransferase\"\n",
       " [7] \"C_reactive_protein\"         \"Calcium\"                   \n",
       " [9] \"Cholesterol\"                \"Creatinine_in_urine\"       \n",
       "[11] \"Creatinine\"                 \"Cystatin_C\"                \n",
       "[13] \"Direct_bilirubin\"           \"eGFR\"                      \n",
       "[15] \"Fasting_glucose\"            \"Gamma_glutamyltransferase\" \n",
       "[17] \"Glucose\"                    \"HDL_cholesterol\"           \n",
       "[19] \"LDL_direct\"                 \"Lipoprotein_A\"             \n",
       "[21] \"Microalbumin_in_urine\"      \"Non_albumin_protein\"       \n",
       "[23] \"Oestradiol\"                 \"Phosphate\"                 \n",
       "[25] \"Potassium_in_urine\"         \"Rheumatoid_factor\"         \n",
       "[27] \"SHBG\"                       \"Sodium_in_urine\"           \n",
       "[29] \"Testosterone\"               \"Total_bilirubin\"           \n",
       "[31] \"Total_protein\"              \"Triglycerides\"             \n",
       "[33] \"Urate\"                      \"Urea\"                      \n",
       "[35] \"Vitamin_D\"                 "
      ]
     },
     "metadata": {},
     "output_type": "display_data"
    },
    {
     "data": {
      "text/html": [
       "35"
      ],
      "text/latex": [
       "35"
      ],
      "text/markdown": [
       "35"
      ],
      "text/plain": [
       "[1] 35"
      ]
     },
     "metadata": {},
     "output_type": "display_data"
    },
    {
     "data": {
      "text/html": [
       "<table>\n",
       "<thead><tr><th scope=col>trait</th></tr></thead>\n",
       "<tbody>\n",
       "\t<tr><td>Alanine_aminotransferase  </td></tr>\n",
       "\t<tr><td>Albumin                   </td></tr>\n",
       "\t<tr><td>Alkaline_phosphatase      </td></tr>\n",
       "\t<tr><td>Apolipoprotein_A          </td></tr>\n",
       "\t<tr><td>Apolipoprotein_B          </td></tr>\n",
       "\t<tr><td>Aspartate_aminotransferase</td></tr>\n",
       "\t<tr><td>C_reactive_protein        </td></tr>\n",
       "\t<tr><td>Calcium                   </td></tr>\n",
       "\t<tr><td>Cholesterol               </td></tr>\n",
       "\t<tr><td>Creatinine_in_urine       </td></tr>\n",
       "\t<tr><td>Creatinine                </td></tr>\n",
       "\t<tr><td>Cystatin_C                </td></tr>\n",
       "\t<tr><td>Direct_bilirubin          </td></tr>\n",
       "\t<tr><td>eGFR                      </td></tr>\n",
       "\t<tr><td>Fasting_glucose           </td></tr>\n",
       "\t<tr><td>Gamma_glutamyltransferase </td></tr>\n",
       "\t<tr><td>Glucose                   </td></tr>\n",
       "\t<tr><td>HDL_cholesterol           </td></tr>\n",
       "\t<tr><td>LDL_direct                </td></tr>\n",
       "\t<tr><td>Lipoprotein_A             </td></tr>\n",
       "\t<tr><td>Microalbumin_in_urine     </td></tr>\n",
       "\t<tr><td>Non_albumin_protein       </td></tr>\n",
       "\t<tr><td>Oestradiol                </td></tr>\n",
       "\t<tr><td>Phosphate                 </td></tr>\n",
       "\t<tr><td>Potassium_in_urine        </td></tr>\n",
       "\t<tr><td>Rheumatoid_factor         </td></tr>\n",
       "\t<tr><td>SHBG                      </td></tr>\n",
       "\t<tr><td>Sodium_in_urine           </td></tr>\n",
       "\t<tr><td>Testosterone              </td></tr>\n",
       "\t<tr><td>Total_bilirubin           </td></tr>\n",
       "\t<tr><td>Total_protein             </td></tr>\n",
       "\t<tr><td>Triglycerides             </td></tr>\n",
       "\t<tr><td>Urate                     </td></tr>\n",
       "\t<tr><td>Urea                      </td></tr>\n",
       "\t<tr><td>Vitamin_D                 </td></tr>\n",
       "</tbody>\n",
       "</table>\n"
      ],
      "text/latex": [
       "\\begin{tabular}{r|l}\n",
       " trait\\\\\n",
       "\\hline\n",
       "\t Alanine\\_aminotransferase  \\\\\n",
       "\t Albumin                   \\\\\n",
       "\t Alkaline\\_phosphatase      \\\\\n",
       "\t Apolipoprotein\\_A          \\\\\n",
       "\t Apolipoprotein\\_B          \\\\\n",
       "\t Aspartate\\_aminotransferase\\\\\n",
       "\t C\\_reactive\\_protein        \\\\\n",
       "\t Calcium                   \\\\\n",
       "\t Cholesterol               \\\\\n",
       "\t Creatinine\\_in\\_urine       \\\\\n",
       "\t Creatinine                \\\\\n",
       "\t Cystatin\\_C                \\\\\n",
       "\t Direct\\_bilirubin          \\\\\n",
       "\t eGFR                      \\\\\n",
       "\t Fasting\\_glucose           \\\\\n",
       "\t Gamma\\_glutamyltransferase \\\\\n",
       "\t Glucose                   \\\\\n",
       "\t HDL\\_cholesterol           \\\\\n",
       "\t LDL\\_direct                \\\\\n",
       "\t Lipoprotein\\_A             \\\\\n",
       "\t Microalbumin\\_in\\_urine     \\\\\n",
       "\t Non\\_albumin\\_protein       \\\\\n",
       "\t Oestradiol                \\\\\n",
       "\t Phosphate                 \\\\\n",
       "\t Potassium\\_in\\_urine        \\\\\n",
       "\t Rheumatoid\\_factor         \\\\\n",
       "\t SHBG                      \\\\\n",
       "\t Sodium\\_in\\_urine           \\\\\n",
       "\t Testosterone              \\\\\n",
       "\t Total\\_bilirubin           \\\\\n",
       "\t Total\\_protein             \\\\\n",
       "\t Triglycerides             \\\\\n",
       "\t Urate                     \\\\\n",
       "\t Urea                      \\\\\n",
       "\t Vitamin\\_D                 \\\\\n",
       "\\end{tabular}\n"
      ],
      "text/markdown": [
       "\n",
       "trait | \n",
       "|---|---|---|---|---|---|---|---|---|---|---|---|---|---|---|---|---|---|---|---|---|---|---|---|---|---|---|---|---|---|---|---|---|---|---|\n",
       "| Alanine_aminotransferase   | \n",
       "| Albumin                    | \n",
       "| Alkaline_phosphatase       | \n",
       "| Apolipoprotein_A           | \n",
       "| Apolipoprotein_B           | \n",
       "| Aspartate_aminotransferase | \n",
       "| C_reactive_protein         | \n",
       "| Calcium                    | \n",
       "| Cholesterol                | \n",
       "| Creatinine_in_urine        | \n",
       "| Creatinine                 | \n",
       "| Cystatin_C                 | \n",
       "| Direct_bilirubin           | \n",
       "| eGFR                       | \n",
       "| Fasting_glucose            | \n",
       "| Gamma_glutamyltransferase  | \n",
       "| Glucose                    | \n",
       "| HDL_cholesterol            | \n",
       "| LDL_direct                 | \n",
       "| Lipoprotein_A              | \n",
       "| Microalbumin_in_urine      | \n",
       "| Non_albumin_protein        | \n",
       "| Oestradiol                 | \n",
       "| Phosphate                  | \n",
       "| Potassium_in_urine         | \n",
       "| Rheumatoid_factor          | \n",
       "| SHBG                       | \n",
       "| Sodium_in_urine            | \n",
       "| Testosterone               | \n",
       "| Total_bilirubin            | \n",
       "| Total_protein              | \n",
       "| Triglycerides              | \n",
       "| Urate                      | \n",
       "| Urea                       | \n",
       "| Vitamin_D                  | \n",
       "\n",
       "\n"
      ],
      "text/plain": [
       "   trait                     \n",
       "1  Alanine_aminotransferase  \n",
       "2  Albumin                   \n",
       "3  Alkaline_phosphatase      \n",
       "4  Apolipoprotein_A          \n",
       "5  Apolipoprotein_B          \n",
       "6  Aspartate_aminotransferase\n",
       "7  C_reactive_protein        \n",
       "8  Calcium                   \n",
       "9  Cholesterol               \n",
       "10 Creatinine_in_urine       \n",
       "11 Creatinine                \n",
       "12 Cystatin_C                \n",
       "13 Direct_bilirubin          \n",
       "14 eGFR                      \n",
       "15 Fasting_glucose           \n",
       "16 Gamma_glutamyltransferase \n",
       "17 Glucose                   \n",
       "18 HDL_cholesterol           \n",
       "19 LDL_direct                \n",
       "20 Lipoprotein_A             \n",
       "21 Microalbumin_in_urine     \n",
       "22 Non_albumin_protein       \n",
       "23 Oestradiol                \n",
       "24 Phosphate                 \n",
       "25 Potassium_in_urine        \n",
       "26 Rheumatoid_factor         \n",
       "27 SHBG                      \n",
       "28 Sodium_in_urine           \n",
       "29 Testosterone              \n",
       "30 Total_bilirubin           \n",
       "31 Total_protein             \n",
       "32 Triglycerides             \n",
       "33 Urate                     \n",
       "34 Urea                      \n",
       "35 Vitamin_D                 "
      ]
     },
     "metadata": {},
     "output_type": "display_data"
    },
    {
     "name": "stderr",
     "output_type": "stream",
     "text": [
      "Loading required package: rstan\n",
      "Loading required package: ggplot2\n",
      "Loading required package: StanHeaders\n",
      "rstan (Version 2.17.3, GitRev: 2e1f913d3ca3)\n",
      "For execution on a local, multicore CPU with excess RAM we recommend calling\n",
      "options(mc.cores = parallel::detectCores()).\n",
      "To avoid recompilation of unchanged Stan programs, we recommend calling\n",
      "rstan_options(auto_write = TRUE)\n",
      "Loading required package: rslurm\n"
     ]
    }
   ],
   "source": [
    "BIOMARKER.DIR <- \"../../data/biomarker/\"\n",
    "biomarker_traits <- list.files(BIOMARKER.DIR, pattern=\"dat_\\\\D*.RData\")\n",
    "\n",
    "biomarkers <- sapply(biomarker_traits, function(x) strsplit(strsplit(x, \"dat_\",fixed=TRUE)[[1]][[2]], \".RData\")[[1]][[1]])\n",
    "\n",
    "biomarkers2 <- setdiff(biomarkers , c(\"arm_fp\", \"leg_fp\", \"trunk_fp\", \"whr\"))\n",
    "biomarkers2\n",
    "length(biomarkers2)\n",
    "pars <- data.frame(\"trait\"=biomarkers2)\n",
    "pars\n",
    "    \n",
    "require('rstan')\n",
    "require('rslurm')\n"
   ]
  },
  {
   "cell_type": "code",
   "execution_count": 2,
   "metadata": {},
   "outputs": [
    {
     "name": "stderr",
     "output_type": "stream",
     "text": [
      "Loading required package: MASS\n",
      "Loading required package: Matrix\n",
      "Loading required package: mnormt\n",
      "Loading required package: qqman\n",
      "\n",
      "For example usage please run: vignette('qqman')\n",
      "\n",
      "Citation appreciated but not required:\n",
      "Turner, S.D. qqman: an R package for visualizing GWAS results using Q-Q and manhattan plots. biorXiv DOI: 10.1101/005165 (2014).\n",
      "\n",
      "Loading required package: reshape2\n",
      "Loading required package: tidyverse\n",
      "── Attaching packages ─────────────────────────────────────── tidyverse 1.2.1 ──\n",
      "✔ tibble  1.4.2     ✔ purrr   0.2.4\n",
      "✔ tidyr   0.8.1     ✔ dplyr   0.7.4\n",
      "✔ readr   1.1.1     ✔ stringr 1.3.0\n",
      "✔ tibble  1.4.2     ✔ forcats 0.3.0\n",
      "── Conflicts ────────────────────────────────────────── tidyverse_conflicts() ──\n",
      "✖ tidyr::expand()  masks Matrix::expand()\n",
      "✖ tidyr::extract() masks rstan::extract()\n",
      "✖ dplyr::filter()  masks stats::filter()\n",
      "✖ dplyr::lag()     masks stats::lag()\n",
      "✖ dplyr::select()  masks MASS::select()\n"
     ]
    },
    {
     "ename": "ERROR",
     "evalue": "Error in names(x) <- value: 'names' attribute [5] must be the same length as the vector [4]\n",
     "output_type": "error",
     "traceback": [
      "Error in names(x) <- value: 'names' attribute [5] must be the same length as the vector [4]\nTraceback:\n",
      "1. calcErrBarsHerit(\"Testosterone\")",
      "2. `colnames<-`(`*tmp*`, value = c(\"hf\", \"hm\", \"hc\", \"trait\", \"int\"))   # at line 57 of file <text>"
     ]
    }
   ],
   "source": [
    "calcErrBarsHerit <- function(trait){\n",
    "    \n",
    "        \n",
    "    \n",
    "        # reformat into data frame\n",
    "\n",
    "     my.df <- cbind(t(as.data.frame(res)), trait)\n",
    "        my.df2 <- data.frame(cbind(my.df, rownames(my.df)))\n",
    "\n",
    "    colnames(my.df2) <- c(\"hf\", \"hm\", \"hc\", \"trait\", \"int\")\n",
    "    my.df3 <- melt(my.df2, id.vars=c(\"trait\", \"int\"), variable.name=\"sex\")\n",
    "         rownames(my.df3) <- NULL\n",
    "\twrite.table(my.df3, file=sprintf(\"%s/h_err_%s_%s_%s.txt\", DATA.FOLDER, trait, ndim, downsampled_str), row.names=FALSE, quote=FALSE, sep=\"\\t\")\n",
    "    return(my.df3)\n",
    "    }\n",
    "\n",
    "# test it\n",
    "t_bars <- calcErrBarsHerit(\"Testosterone\")\n",
    "head(t_bars)\n",
    "# submit\n"
   ]
  },
  {
   "cell_type": "code",
   "execution_count": 7,
   "metadata": {
    "collapsed": true
   },
   "outputs": [],
   "source": [
    "\n",
    "calcErrBarsHerit <- function(trait){\n",
    "\n",
    "source(\"/scratch/PI/mrivas/users/erflynn/sex_div_gwas/mixture_model_scripts/model_utils.R\")\n",
    "    source(\"/scratch/PI/mrivas/users/erflynn/sex_div_gwas/mixture_model_scripts/heritability_utils.R\")\n",
    "    require('reshape2')\n",
    "    require('tidyverse')\n",
    "    ndim <- 2\n",
    "    downsampled_str <- \"\"\n",
    "    \n",
    "    DATA.FOLDER <- \"/scratch/PI/mrivas/users/erflynn/sex_div_gwas/data/biomarker\"\n",
    "    fit.file=sprintf(\"%s/f_%s.RData\", DATA.FOLDER, trait)\n",
    "    if (!file.exists(fit.file)){\n",
    "            df <- data.frame(t(c(\"NA\", trait, \"NA\", \"NA\")))\n",
    "            colnames(df) <- c(\"value\", \"trait\", \"int\", \"sex\")\n",
    "            return(df)\n",
    "\n",
    "        }\n",
    "        load(file=fit.file)\n",
    "        load(file=sprintf(\"%s/dat_%s.RData\", DATA.FOLDER, trait))\n",
    "\n",
    "        # extract all estimate\n",
    "        list_of_draws <- rstan::extract(fit1)\n",
    "        pi.draws <- list_of_draws$pi\n",
    "        p <- pi.draws\n",
    "        s.draws <- list_of_draws$Sigma\n",
    "        Sigma <- s.draws\n",
    "\n",
    "        # extract lower + upper pi\n",
    "        ordered.p <- p[order(p[,2]),] # ordering p by the non-null component \n",
    "        p.lower <- ordered.p[0.025*nrow(ordered.p),]\n",
    "        p.upper <- ordered.p[0.975*nrow(ordered.p),]\n",
    "        p.center <- ordered.p[0.50*nrow(ordered.p),]\n",
    "    \n",
    "        # extract lower + upper sigma\n",
    "        ordered.S <- Sigma[order(Sigma[,1,1]),,]\n",
    "        s.upper <- ordered.S[0.975*dim(Sigma)[1],,]\n",
    "        s.lower <- ordered.S[0.025*dim(Sigma)[1],,]\n",
    "        s.center <- ordered.S[0.50*dim(Sigma)[1],,]\n",
    "\n",
    "        # recalculate SNP membership\n",
    "        dat2 <- dat\n",
    "        dat2$categories <- NULL\n",
    "        dat.u <- labelCategories(dat2, s.upper, p.upper)\n",
    "        dat.l <- labelCategories(dat2, s.lower, p.lower)\n",
    "        dat.c <- labelCategories(dat2, s.center, p.center)\n",
    "\n",
    "        h.up <- overallHeritability(dat.u, s.upper, p.upper)\n",
    "        h.low <- overallHeritability(dat.l, s.lower, p.lower)\n",
    "        h.center <- overallHeritability(dat.c, s.center, p.center)\n",
    "\n",
    "        res <- list(\"up\"=h.up, \"low\"=h.low, \"center\"=h.center)\n",
    "  \n",
    "        # reformat into data frame\n",
    "\n",
    "     my.df <- cbind(t(as.data.frame(res)), trait)\n",
    "        my.df2 <- data.frame(cbind(my.df, rownames(my.df)))\n",
    "\n",
    "    colnames(my.df2) <- c(\"hf\", \"hm\", \"trait\", \"int\")\n",
    "    my.df3 <- melt(my.df2, id.vars=c(\"trait\", \"int\"), variable.name=\"sex\")\n",
    "         rownames(my.df3) <- NULL\n",
    "\twrite.table(my.df3, file=sprintf(\"recalc_err/h_err_%s_%s_%s.txt\", DATA.FOLDER, trait, ndim, downsampled_str), row.names=FALSE, quote=FALSE, sep=\"\\t\")\n",
    "    return(my.df3)\n",
    "    }"
   ]
  },
  {
   "cell_type": "code",
   "execution_count": 8,
   "metadata": {},
   "outputs": [
    {
     "name": "stderr",
     "output_type": "stream",
     "text": [
      "Warning message:\n",
      "“attributes are not identical across measure variables; they will be dropped”"
     ]
    },
    {
     "data": {
      "text/html": [
       "<table>\n",
       "<thead><tr><th scope=col>trait</th><th scope=col>int</th><th scope=col>sex</th><th scope=col>value</th></tr></thead>\n",
       "<tbody>\n",
       "\t<tr><td>Testosterone      </td><td>up                </td><td>hf                </td><td>0.0572312988110804</td></tr>\n",
       "\t<tr><td>Testosterone      </td><td>low               </td><td>hf                </td><td>0.0383525884464299</td></tr>\n",
       "\t<tr><td>Testosterone      </td><td>center            </td><td>hf                </td><td>0.0466389245093398</td></tr>\n",
       "\t<tr><td>Testosterone      </td><td>up                </td><td>hm                </td><td>0.131494019580501 </td></tr>\n",
       "\t<tr><td>Testosterone      </td><td>low               </td><td>hm                </td><td>0.0939680860750245</td></tr>\n",
       "\t<tr><td>Testosterone      </td><td>center            </td><td>hm                </td><td>0.117379897805179 </td></tr>\n",
       "</tbody>\n",
       "</table>\n"
      ],
      "text/latex": [
       "\\begin{tabular}{r|llll}\n",
       " trait & int & sex & value\\\\\n",
       "\\hline\n",
       "\t Testosterone       & up                 & hf                 & 0.0572312988110804\\\\\n",
       "\t Testosterone       & low                & hf                 & 0.0383525884464299\\\\\n",
       "\t Testosterone       & center             & hf                 & 0.0466389245093398\\\\\n",
       "\t Testosterone       & up                 & hm                 & 0.131494019580501 \\\\\n",
       "\t Testosterone       & low                & hm                 & 0.0939680860750245\\\\\n",
       "\t Testosterone       & center             & hm                 & 0.117379897805179 \\\\\n",
       "\\end{tabular}\n"
      ],
      "text/markdown": [
       "\n",
       "trait | int | sex | value | \n",
       "|---|---|---|---|---|---|\n",
       "| Testosterone       | up                 | hf                 | 0.0572312988110804 | \n",
       "| Testosterone       | low                | hf                 | 0.0383525884464299 | \n",
       "| Testosterone       | center             | hf                 | 0.0466389245093398 | \n",
       "| Testosterone       | up                 | hm                 | 0.131494019580501  | \n",
       "| Testosterone       | low                | hm                 | 0.0939680860750245 | \n",
       "| Testosterone       | center             | hm                 | 0.117379897805179  | \n",
       "\n",
       "\n"
      ],
      "text/plain": [
       "  trait        int    sex value             \n",
       "1 Testosterone up     hf  0.0572312988110804\n",
       "2 Testosterone low    hf  0.0383525884464299\n",
       "3 Testosterone center hf  0.0466389245093398\n",
       "4 Testosterone up     hm  0.131494019580501 \n",
       "5 Testosterone low    hm  0.0939680860750245\n",
       "6 Testosterone center hm  0.117379897805179 "
      ]
     },
     "metadata": {},
     "output_type": "display_data"
    }
   ],
   "source": []
  },
  {
   "cell_type": "code",
   "execution_count": 9,
   "metadata": {
    "collapsed": true
   },
   "outputs": [],
   "source": [
    "sopt <- list(time = '1:00:00', memory='8000', partition='rbaltman')\n",
    "\n",
    "sjob <- slurm_apply(calcErrBarsHerit, pars, nodes=10, jobname = 'err_bars_7', slurm_options=sopt , submit = TRUE )\n"
   ]
  },
  {
   "cell_type": "code",
   "execution_count": 10,
   "metadata": {},
   "outputs": [
    {
     "data": {
      "text/html": [
       "<table>\n",
       "<thead><tr><th scope=col>trait</th></tr></thead>\n",
       "<tbody>\n",
       "\t<tr><td>arm_fp  </td></tr>\n",
       "\t<tr><td>FEV_FVC </td></tr>\n",
       "\t<tr><td>INI20015</td></tr>\n",
       "\t<tr><td>INI20021</td></tr>\n",
       "\t<tr><td>INI20022</td></tr>\n",
       "\t<tr><td>INI20150</td></tr>\n",
       "\t<tr><td>INI21001</td></tr>\n",
       "\t<tr><td>INI21021</td></tr>\n",
       "\t<tr><td>INI23099</td></tr>\n",
       "\t<tr><td>INI23100</td></tr>\n",
       "\t<tr><td>INI23101</td></tr>\n",
       "\t<tr><td>INI23102</td></tr>\n",
       "\t<tr><td>INI23105</td></tr>\n",
       "\t<tr><td>INI23106</td></tr>\n",
       "\t<tr><td>INI23107</td></tr>\n",
       "\t<tr><td>INI23108</td></tr>\n",
       "\t<tr><td>INI23109</td></tr>\n",
       "\t<tr><td>INI23110</td></tr>\n",
       "\t<tr><td>INI23111</td></tr>\n",
       "\t<tr><td>INI23112</td></tr>\n",
       "\t<tr><td>INI23115</td></tr>\n",
       "\t<tr><td>INI23116</td></tr>\n",
       "\t<tr><td>INI23119</td></tr>\n",
       "\t<tr><td>INI23120</td></tr>\n",
       "\t<tr><td>INI23123</td></tr>\n",
       "\t<tr><td>INI23124</td></tr>\n",
       "\t<tr><td>INI23127</td></tr>\n",
       "\t<tr><td>INI23128</td></tr>\n",
       "\t<tr><td>INI30000</td></tr>\n",
       "\t<tr><td>INI30010</td></tr>\n",
       "\t<tr><td>⋮</td></tr>\n",
       "\t<tr><td>INI30170</td></tr>\n",
       "\t<tr><td>INI30180</td></tr>\n",
       "\t<tr><td>INI30190</td></tr>\n",
       "\t<tr><td>INI30200</td></tr>\n",
       "\t<tr><td>INI30210</td></tr>\n",
       "\t<tr><td>INI30220</td></tr>\n",
       "\t<tr><td>INI30230</td></tr>\n",
       "\t<tr><td>INI30240</td></tr>\n",
       "\t<tr><td>INI30250</td></tr>\n",
       "\t<tr><td>INI30260</td></tr>\n",
       "\t<tr><td>INI30270</td></tr>\n",
       "\t<tr><td>INI30280</td></tr>\n",
       "\t<tr><td>INI30290</td></tr>\n",
       "\t<tr><td>INI30300</td></tr>\n",
       "\t<tr><td>INI30500</td></tr>\n",
       "\t<tr><td>INI30510</td></tr>\n",
       "\t<tr><td>INI30520</td></tr>\n",
       "\t<tr><td>INI30530</td></tr>\n",
       "\t<tr><td>INI3063 </td></tr>\n",
       "\t<tr><td>INI3064 </td></tr>\n",
       "\t<tr><td>INI4079 </td></tr>\n",
       "\t<tr><td>INI4080 </td></tr>\n",
       "\t<tr><td>INI46   </td></tr>\n",
       "\t<tr><td>INI47   </td></tr>\n",
       "\t<tr><td>INI48   </td></tr>\n",
       "\t<tr><td>INI49   </td></tr>\n",
       "\t<tr><td>INI50   </td></tr>\n",
       "\t<tr><td>leg_fp  </td></tr>\n",
       "\t<tr><td>trunk_fp</td></tr>\n",
       "\t<tr><td>whr     </td></tr>\n",
       "</tbody>\n",
       "</table>\n"
      ],
      "text/latex": [
       "\\begin{tabular}{r|l}\n",
       " trait\\\\\n",
       "\\hline\n",
       "\t arm\\_fp  \\\\\n",
       "\t FEV\\_FVC \\\\\n",
       "\t INI20015\\\\\n",
       "\t INI20021\\\\\n",
       "\t INI20022\\\\\n",
       "\t INI20150\\\\\n",
       "\t INI21001\\\\\n",
       "\t INI21021\\\\\n",
       "\t INI23099\\\\\n",
       "\t INI23100\\\\\n",
       "\t INI23101\\\\\n",
       "\t INI23102\\\\\n",
       "\t INI23105\\\\\n",
       "\t INI23106\\\\\n",
       "\t INI23107\\\\\n",
       "\t INI23108\\\\\n",
       "\t INI23109\\\\\n",
       "\t INI23110\\\\\n",
       "\t INI23111\\\\\n",
       "\t INI23112\\\\\n",
       "\t INI23115\\\\\n",
       "\t INI23116\\\\\n",
       "\t INI23119\\\\\n",
       "\t INI23120\\\\\n",
       "\t INI23123\\\\\n",
       "\t INI23124\\\\\n",
       "\t INI23127\\\\\n",
       "\t INI23128\\\\\n",
       "\t INI30000\\\\\n",
       "\t INI30010\\\\\n",
       "\t ⋮\\\\\n",
       "\t INI30170\\\\\n",
       "\t INI30180\\\\\n",
       "\t INI30190\\\\\n",
       "\t INI30200\\\\\n",
       "\t INI30210\\\\\n",
       "\t INI30220\\\\\n",
       "\t INI30230\\\\\n",
       "\t INI30240\\\\\n",
       "\t INI30250\\\\\n",
       "\t INI30260\\\\\n",
       "\t INI30270\\\\\n",
       "\t INI30280\\\\\n",
       "\t INI30290\\\\\n",
       "\t INI30300\\\\\n",
       "\t INI30500\\\\\n",
       "\t INI30510\\\\\n",
       "\t INI30520\\\\\n",
       "\t INI30530\\\\\n",
       "\t INI3063 \\\\\n",
       "\t INI3064 \\\\\n",
       "\t INI4079 \\\\\n",
       "\t INI4080 \\\\\n",
       "\t INI46   \\\\\n",
       "\t INI47   \\\\\n",
       "\t INI48   \\\\\n",
       "\t INI49   \\\\\n",
       "\t INI50   \\\\\n",
       "\t leg\\_fp  \\\\\n",
       "\t trunk\\_fp\\\\\n",
       "\t whr     \\\\\n",
       "\\end{tabular}\n"
      ],
      "text/markdown": [
       "\n",
       "trait | \n",
       "|---|---|---|---|---|---|---|---|---|---|---|---|---|---|---|---|---|---|---|---|---|---|---|---|---|---|---|---|---|---|---|---|---|---|---|---|---|---|---|---|---|---|---|---|---|---|---|---|---|---|---|---|---|---|---|---|---|---|---|---|---|\n",
       "| arm_fp   | \n",
       "| FEV_FVC  | \n",
       "| INI20015 | \n",
       "| INI20021 | \n",
       "| INI20022 | \n",
       "| INI20150 | \n",
       "| INI21001 | \n",
       "| INI21021 | \n",
       "| INI23099 | \n",
       "| INI23100 | \n",
       "| INI23101 | \n",
       "| INI23102 | \n",
       "| INI23105 | \n",
       "| INI23106 | \n",
       "| INI23107 | \n",
       "| INI23108 | \n",
       "| INI23109 | \n",
       "| INI23110 | \n",
       "| INI23111 | \n",
       "| INI23112 | \n",
       "| INI23115 | \n",
       "| INI23116 | \n",
       "| INI23119 | \n",
       "| INI23120 | \n",
       "| INI23123 | \n",
       "| INI23124 | \n",
       "| INI23127 | \n",
       "| INI23128 | \n",
       "| INI30000 | \n",
       "| INI30010 | \n",
       "| ⋮ | \n",
       "| INI30170 | \n",
       "| INI30180 | \n",
       "| INI30190 | \n",
       "| INI30200 | \n",
       "| INI30210 | \n",
       "| INI30220 | \n",
       "| INI30230 | \n",
       "| INI30240 | \n",
       "| INI30250 | \n",
       "| INI30260 | \n",
       "| INI30270 | \n",
       "| INI30280 | \n",
       "| INI30290 | \n",
       "| INI30300 | \n",
       "| INI30500 | \n",
       "| INI30510 | \n",
       "| INI30520 | \n",
       "| INI30530 | \n",
       "| INI3063  | \n",
       "| INI3064  | \n",
       "| INI4079  | \n",
       "| INI4080  | \n",
       "| INI46    | \n",
       "| INI47    | \n",
       "| INI48    | \n",
       "| INI49    | \n",
       "| INI50    | \n",
       "| leg_fp   | \n",
       "| trunk_fp | \n",
       "| whr      | \n",
       "\n",
       "\n"
      ],
      "text/plain": [
       "   trait   \n",
       "1  arm_fp  \n",
       "2  FEV_FVC \n",
       "3  INI20015\n",
       "4  INI20021\n",
       "5  INI20022\n",
       "6  INI20150\n",
       "7  INI21001\n",
       "8  INI21021\n",
       "9  INI23099\n",
       "10 INI23100\n",
       "11 INI23101\n",
       "12 INI23102\n",
       "13 INI23105\n",
       "14 INI23106\n",
       "15 INI23107\n",
       "16 INI23108\n",
       "17 INI23109\n",
       "18 INI23110\n",
       "19 INI23111\n",
       "20 INI23112\n",
       "21 INI23115\n",
       "22 INI23116\n",
       "23 INI23119\n",
       "24 INI23120\n",
       "25 INI23123\n",
       "26 INI23124\n",
       "27 INI23127\n",
       "28 INI23128\n",
       "29 INI30000\n",
       "30 INI30010\n",
       "⋮  ⋮       \n",
       "46 INI30170\n",
       "47 INI30180\n",
       "48 INI30190\n",
       "49 INI30200\n",
       "50 INI30210\n",
       "51 INI30220\n",
       "52 INI30230\n",
       "53 INI30240\n",
       "54 INI30250\n",
       "55 INI30260\n",
       "56 INI30270\n",
       "57 INI30280\n",
       "58 INI30290\n",
       "59 INI30300\n",
       "60 INI30500\n",
       "61 INI30510\n",
       "62 INI30520\n",
       "63 INI30530\n",
       "64 INI3063 \n",
       "65 INI3064 \n",
       "66 INI4079 \n",
       "67 INI4080 \n",
       "68 INI46   \n",
       "69 INI47   \n",
       "70 INI48   \n",
       "71 INI49   \n",
       "72 INI50   \n",
       "73 leg_fp  \n",
       "74 trunk_fp\n",
       "75 whr     "
      ]
     },
     "metadata": {},
     "output_type": "display_data"
    }
   ],
   "source": [
    "ALT.DIR <- \"../../data/1009/\"\n",
    "summary_files <- list.files(ALT.DIR, pattern=\"summary_(\\\\w)*_2_.txt\")\n",
    "alt_traits <- str_replace_all(summary_files, c(\"summary_dat_\"=\"\", \"_2_.txt\" =\"\"))\n",
    "\n",
    "\n",
    "pars2 <- data.frame(\"trait\"=alt_traits)\n",
    "pars2\n",
    "calcErrBarsHerit2 <- function(trait){\n",
    "    source(\"/scratch/PI/mrivas/users/erflynn/sex_div_gwas/mixture_model_scripts/model_utils.R\")\n",
    "    source(\"/scratch/PI/mrivas/users/erflynn/sex_div_gwas/mixture_model_scripts/heritability_utils.R\")\n",
    "    require('reshape2')\n",
    "    ndim <- 2\n",
    "    downsampled_str <- \"\"\n",
    "    \n",
    "    DATA.FOLDER <- \"/scratch/PI/mrivas/users/erflynn/sex_div_gwas/data/1009\"\n",
    "    fit.file=sprintf(\"%s/f_%s.RData\", DATA.FOLDER, trait)\n",
    "    if (!file.exists(fit.file)){\n",
    "            df <- data.frame(t(c(\"NA\", trait, \"NA\", \"NA\")))\n",
    "            colnames(df) <- c(\"value\", \"trait\", \"int\", \"sex\")\n",
    "            return(df)\n",
    "\n",
    "        }\n",
    "        load(file=fit.file)\n",
    "        load(file=sprintf(\"%s/dat_%s.RData\", DATA.FOLDER, trait))\n",
    "\n",
    "        # extract all estimate\n",
    "        list_of_draws <- rstan::extract(fit1)\n",
    "        pi.draws <- list_of_draws$pi\n",
    "        p <- pi.draws\n",
    "        s.draws <- list_of_draws$Sigma\n",
    "        Sigma <- s.draws\n",
    "\n",
    "        # extract lower + upper pi\n",
    "        ordered.p <- p[order(p[,2]),] # ordering p by the non-null component \n",
    "        p.lower <- ordered.p[0.025*nrow(ordered.p),]\n",
    "        p.upper <- ordered.p[0.975*nrow(ordered.p),]\n",
    "        p.center <- ordered.p[0.50*nrow(ordered.p),]\n",
    "    \n",
    "        # extract lower + upper sigma\n",
    "        ordered.S <- Sigma[order(Sigma[,1,1]),,]\n",
    "        s.upper <- ordered.S[0.975*dim(Sigma)[1],,]\n",
    "        s.lower <- ordered.S[0.025*dim(Sigma)[1],,]\n",
    "        s.center <- ordered.S[0.50*dim(Sigma)[1],,]\n",
    "\n",
    "        # recalculate SNP membership\n",
    "        dat2 <- dat\n",
    "        dat2$categories <- NULL\n",
    "        dat.u <- labelCategories(dat2, s.upper, p.upper)\n",
    "        dat.l <- labelCategories(dat2, s.lower, p.lower)\n",
    "        dat.c <- labelCategories(dat2, s.center, p.center)\n",
    "\n",
    "        h.up <- overallHeritability(dat.u, s.upper, p.upper)\n",
    "        h.low <- overallHeritability(dat.l, s.lower, p.lower)\n",
    "        h.center <- overallHeritability(dat.c, s.center, p.center)\n",
    "\n",
    "        res <- list(\"up\"=h.up, \"low\"=h.low, \"center\"=h.center)\n",
    "\n",
    "        # reformat into data frame\n",
    "\n",
    "     my.df <- cbind(t(as.data.frame(res)), trait)\n",
    "        my.df2 <- data.frame(cbind(my.df, rownames(my.df)))\n",
    "\n",
    "    colnames(my.df2) <- c(\"hf\", \"hm\", \"trait\", \"int\")\n",
    "    my.df3 <- melt(my.df2, id.vars=c(\"trait\", \"int\"), variable.name=\"sex\")\n",
    "         rownames(my.df3) <- NULL\n",
    "\twrite.table(my.df3, file=sprintf(\"%s/h_err_%s_%s_%s.txt\", DATA.FOLDER, trait, ndim, downsampled_str), row.names=FALSE, quote=FALSE, sep=\"\\t\")\n",
    "    return(my.df3)\n",
    "    }\n",
    "sjob <- slurm_apply(calcErrBarsHerit2, pars2, nodes=10, jobname = 'err_bars_8', slurm_options=sopt , submit = TRUE )\n",
    " "
   ]
  },
  {
   "cell_type": "code",
   "execution_count": 4,
   "metadata": {
    "collapsed": true
   },
   "outputs": [],
   "source": [
    "trait <- \"arm_fp\"\n",
    "    DATA.FOLDER <- \"/scratch/PI/mrivas/users/erflynn/sex_div_gwas/data/1009\"\n",
    "\n",
    "  load(sprintf(\"%s/f_%s.RData\", DATA.FOLDER, trait))\n",
    "  load(sprintf(\"%s/dat_%s.RData\", DATA.FOLDER, trait))\n",
    "\n",
    "        # extract all estimate\n",
    "        list_of_draws <- rstan::extract(fit1)\n",
    "        pi.draws <- list_of_draws$pi\n",
    "        p <- pi.draws\n",
    "        s.draws <- list_of_draws$Sigma\n",
    "        Sigma <- s.draws\n",
    "\n",
    "        # extract lower + upper pi\n",
    "        ordered.p <- p[order(p[,2]),] # ordering p by the non-null component \n",
    "        p.lower <- ordered.p[0.025*nrow(ordered.p),]\n",
    "        p.upper <- ordered.p[0.975*nrow(ordered.p),]\n",
    "        p.center <- ordered.p[0.50*nrow(ordered.p),]\n",
    "    \n",
    "        # extract lower + upper sigma\n",
    "        ordered.S <- Sigma[order(Sigma[,1,1]),,]\n",
    "        s.upper <- ordered.S[0.975*dim(Sigma)[1],,]\n",
    "        s.lower <- ordered.S[0.025*dim(Sigma)[1],,]\n",
    "        s.center <- ordered.S[0.50*dim(Sigma)[1],,]\n"
   ]
  },
  {
   "cell_type": "code",
   "execution_count": 14,
   "metadata": {},
   "outputs": [
    {
     "data": {
      "text/html": [
       "<ol class=list-inline>\n",
       "\t<li>0.604073708861518</li>\n",
       "\t<li>0.395926291138482</li>\n",
       "</ol>\n"
      ],
      "text/latex": [
       "\\begin{enumerate*}\n",
       "\\item 0.604073708861518\n",
       "\\item 0.395926291138482\n",
       "\\end{enumerate*}\n"
      ],
      "text/markdown": [
       "1. 0.604073708861518\n",
       "2. 0.395926291138482\n",
       "\n",
       "\n"
      ],
      "text/plain": [
       "[1] 0.6040737 0.3959263"
      ]
     },
     "metadata": {},
     "output_type": "display_data"
    },
    {
     "data": {
      "text/html": [
       "<ol class=list-inline>\n",
       "\t<li>0.578645551334172</li>\n",
       "\t<li>0.421354448665828</li>\n",
       "</ol>\n"
      ],
      "text/latex": [
       "\\begin{enumerate*}\n",
       "\\item 0.578645551334172\n",
       "\\item 0.421354448665828\n",
       "\\end{enumerate*}\n"
      ],
      "text/markdown": [
       "1. 0.578645551334172\n",
       "2. 0.421354448665828\n",
       "\n",
       "\n"
      ],
      "text/plain": [
       "[1] 0.5786456 0.4213544"
      ]
     },
     "metadata": {},
     "output_type": "display_data"
    },
    {
     "data": {
      "text/html": [
       "<ol class=list-inline>\n",
       "\t<li>0.548729262675621</li>\n",
       "\t<li>0.451270737324379</li>\n",
       "</ol>\n"
      ],
      "text/latex": [
       "\\begin{enumerate*}\n",
       "\\item 0.548729262675621\n",
       "\\item 0.451270737324379\n",
       "\\end{enumerate*}\n"
      ],
      "text/markdown": [
       "1. 0.548729262675621\n",
       "2. 0.451270737324379\n",
       "\n",
       "\n"
      ],
      "text/plain": [
       "[1] 0.5487293 0.4512707"
      ]
     },
     "metadata": {},
     "output_type": "display_data"
    },
    {
     "data": {
      "text/html": [
       "<table>\n",
       "<tbody>\n",
       "\t<tr><td>2.034593e-05</td><td>5.277175e-06</td></tr>\n",
       "\t<tr><td>5.277175e-06</td><td>1.094733e-05</td></tr>\n",
       "</tbody>\n",
       "</table>\n"
      ],
      "text/latex": [
       "\\begin{tabular}{ll}\n",
       "\t 2.034593e-05 & 5.277175e-06\\\\\n",
       "\t 5.277175e-06 & 1.094733e-05\\\\\n",
       "\\end{tabular}\n"
      ],
      "text/markdown": [
       "\n",
       "| 2.034593e-05 | 5.277175e-06 | \n",
       "| 5.277175e-06 | 1.094733e-05 | \n",
       "\n",
       "\n"
      ],
      "text/plain": [
       "     [,1]         [,2]        \n",
       "[1,] 2.034593e-05 5.277175e-06\n",
       "[2,] 5.277175e-06 1.094733e-05"
      ]
     },
     "metadata": {},
     "output_type": "display_data"
    },
    {
     "data": {
      "text/html": [
       "<table>\n",
       "<tbody>\n",
       "\t<tr><td>2.185138e-05</td><td>6.283816e-06</td></tr>\n",
       "\t<tr><td>6.283816e-06</td><td>1.225395e-05</td></tr>\n",
       "</tbody>\n",
       "</table>\n"
      ],
      "text/latex": [
       "\\begin{tabular}{ll}\n",
       "\t 2.185138e-05 & 6.283816e-06\\\\\n",
       "\t 6.283816e-06 & 1.225395e-05\\\\\n",
       "\\end{tabular}\n"
      ],
      "text/markdown": [
       "\n",
       "| 2.185138e-05 | 6.283816e-06 | \n",
       "| 6.283816e-06 | 1.225395e-05 | \n",
       "\n",
       "\n"
      ],
      "text/plain": [
       "     [,1]         [,2]        \n",
       "[1,] 2.185138e-05 6.283816e-06\n",
       "[2,] 6.283816e-06 1.225395e-05"
      ]
     },
     "metadata": {},
     "output_type": "display_data"
    },
    {
     "data": {
      "text/html": [
       "<table>\n",
       "<tbody>\n",
       "\t<tr><td>2.337962e-05</td><td>6.850301e-06</td></tr>\n",
       "\t<tr><td>6.850301e-06</td><td>1.285188e-05</td></tr>\n",
       "</tbody>\n",
       "</table>\n"
      ],
      "text/latex": [
       "\\begin{tabular}{ll}\n",
       "\t 2.337962e-05 & 6.850301e-06\\\\\n",
       "\t 6.850301e-06 & 1.285188e-05\\\\\n",
       "\\end{tabular}\n"
      ],
      "text/markdown": [
       "\n",
       "| 2.337962e-05 | 6.850301e-06 | \n",
       "| 6.850301e-06 | 1.285188e-05 | \n",
       "\n",
       "\n"
      ],
      "text/plain": [
       "     [,1]         [,2]        \n",
       "[1,] 2.337962e-05 6.850301e-06\n",
       "[2,] 6.850301e-06 1.285188e-05"
      ]
     },
     "metadata": {},
     "output_type": "display_data"
    },
    {
     "name": "stdout",
     "output_type": "stream",
     "text": [
      "Inference for Stan model: model1_no_loglik.\n",
      "4 chains, each with iter=600; warmup=200; thin=1; \n",
      "post-warmup draws per chain=400, total post-warmup draws=1600.\n",
      "\n",
      "                mean  se_mean        sd      2.5%       50%     97.5% n_eff\n",
      "Sigma[1,1] 0.0000219 0.000000 0.0000008 0.0000203 0.0000219 0.0000234   651\n",
      "Sigma[1,2] 0.0000061 0.000000 0.0000003 0.0000055 0.0000061 0.0000067   867\n",
      "Sigma[2,1] 0.0000061 0.000000 0.0000003 0.0000055 0.0000061 0.0000067   867\n",
      "Sigma[2,2] 0.0000118 0.000000 0.0000005 0.0000109 0.0000118 0.0000127   633\n",
      "pi[1]      0.5781458 0.000567 0.0140299 0.5487278 0.5786439 0.6039722   612\n",
      "pi[2]      0.4218542 0.000567 0.0140299 0.3960278 0.4213561 0.4512722   612\n",
      "               Rhat\n",
      "Sigma[1,1] 1.006971\n",
      "Sigma[1,2] 1.000027\n",
      "Sigma[2,1] 1.000027\n",
      "Sigma[2,2] 1.004679\n",
      "pi[1]      1.006033\n",
      "pi[2]      1.006033\n",
      "\n",
      "Samples were drawn using NUTS(diag_e) at Thu Oct 10 22:51:36 2019.\n",
      "For each parameter, n_eff is a crude measure of effective sample size,\n",
      "and Rhat is the potential scale reduction factor on split chains (at \n",
      "convergence, Rhat=1).\n"
     ]
    }
   ],
   "source": [
    "\n",
    "p.lower\n",
    "p.center\n",
    "p.upper\n",
    "\n",
    "s.lower\n",
    "s.center\n",
    "s.upper\n",
    "\n",
    "print(fit1, pars=c(\"Sigma\", \"pi\"), probs=c(0.025, 0.5, 0.975), digits_summary=7)"
   ]
  },
  {
   "cell_type": "code",
   "execution_count": 8,
   "metadata": {},
   "outputs": [
    {
     "name": "stderr",
     "output_type": "stream",
     "text": [
      "Loading required package: MASS\n",
      "Loading required package: Matrix\n",
      "Loading required package: mnormt\n",
      "Loading required package: qqman\n",
      "\n",
      "For example usage please run: vignette('qqman')\n",
      "\n",
      "Citation appreciated but not required:\n",
      "Turner, S.D. qqman: an R package for visualizing GWAS results using Q-Q and manhattan plots. biorXiv DOI: 10.1101/005165 (2014).\n",
      "\n",
      "Loading required package: rstan\n",
      "Loading required package: ggplot2\n",
      "Loading required package: StanHeaders\n",
      "rstan (Version 2.17.3, GitRev: 2e1f913d3ca3)\n",
      "For execution on a local, multicore CPU with excess RAM we recommend calling\n",
      "options(mc.cores = parallel::detectCores()).\n",
      "To avoid recompilation of unchanged Stan programs, we recommend calling\n",
      "rstan_options(auto_write = TRUE)\n"
     ]
    }
   ],
   "source": [
    "source(\"/scratch/PI/mrivas/users/erflynn/sex_div_gwas/mixture_model_scripts/heritability_utils.R\")\n",
    " source(\"/scratch/PI/mrivas/users/erflynn/sex_div_gwas/mixture_model_scripts/model_utils.R\")\n",
    "\n",
    "dat2 <- dat\n",
    "        dat2$categories <- NULL\n",
    "        dat.u <- labelCategories(dat2, s.upper, p.upper)\n",
    "        dat.l <- labelCategories(dat2, s.lower, p.lower)\n",
    "        dat.c <- labelCategories(dat2, s.center, p.center)\n",
    "\n",
    "        h.up <- overallHeritability(dat.u, s.upper, p.upper)\n",
    "        h.low <- overallHeritability(dat.l, s.lower, p.lower)\n",
    "        h.center <- overallHeritability(dat.c, s.center, p.center)\n",
    "\n"
   ]
  },
  {
   "cell_type": "code",
   "execution_count": 15,
   "metadata": {},
   "outputs": [
    {
     "data": {
      "text/html": [
       "<ol class=list-inline>\n",
       "\t<li>0.257865094798673</li>\n",
       "\t<li>0.170581508505368</li>\n",
       "</ol>\n"
      ],
      "text/latex": [
       "\\begin{enumerate*}\n",
       "\\item 0.257865094798673\n",
       "\\item 0.170581508505368\n",
       "\\end{enumerate*}\n"
      ],
      "text/markdown": [
       "1. 0.257865094798673\n",
       "2. 0.170581508505368\n",
       "\n",
       "\n"
      ],
      "text/plain": [
       "[1] 0.2578651 0.1705815"
      ]
     },
     "metadata": {},
     "output_type": "display_data"
    },
    {
     "data": {
      "text/html": [
       "<ol class=list-inline>\n",
       "\t<li>0.259281708444195</li>\n",
       "\t<li>0.177580760387546</li>\n",
       "</ol>\n"
      ],
      "text/latex": [
       "\\begin{enumerate*}\n",
       "\\item 0.259281708444195\n",
       "\\item 0.177580760387546\n",
       "\\end{enumerate*}\n"
      ],
      "text/markdown": [
       "1. 0.259281708444195\n",
       "2. 0.177580760387546\n",
       "\n",
       "\n"
      ],
      "text/plain": [
       "[1] 0.2592817 0.1775808"
      ]
     },
     "metadata": {},
     "output_type": "display_data"
    },
    {
     "data": {
      "text/html": [
       "<ol class=list-inline>\n",
       "\t<li>0.258630999466075</li>\n",
       "\t<li>0.174218147744253</li>\n",
       "</ol>\n"
      ],
      "text/latex": [
       "\\begin{enumerate*}\n",
       "\\item 0.258630999466075\n",
       "\\item 0.174218147744253\n",
       "\\end{enumerate*}\n"
      ],
      "text/markdown": [
       "1. 0.258630999466075\n",
       "2. 0.174218147744253\n",
       "\n",
       "\n"
      ],
      "text/plain": [
       "[1] 0.2586310 0.1742181"
      ]
     },
     "metadata": {},
     "output_type": "display_data"
    }
   ],
   "source": [
    "\n",
    "h.low\n",
    "h.center\n",
    "h.up"
   ]
  },
  {
   "cell_type": "code",
   "execution_count": 16,
   "metadata": {},
   "outputs": [
    {
     "data": {
      "text/plain": [
       "\n",
       "     1      2 \n",
       "177958   5592 "
      ]
     },
     "metadata": {},
     "output_type": "display_data"
    },
    {
     "data": {
      "text/plain": [
       "\n",
       "     1      2 \n",
       "176639   6911 "
      ]
     },
     "metadata": {},
     "output_type": "display_data"
    },
    {
     "data": {
      "text/plain": [
       "\n",
       "     1      2 \n",
       "174818   8732 "
      ]
     },
     "metadata": {},
     "output_type": "display_data"
    }
   ],
   "source": [
    "\n",
    "table(dat.l$categories)\n",
    "table(dat.c$categories)\n",
    "table(dat.u$categories)"
   ]
  },
  {
   "cell_type": "code",
   "execution_count": 17,
   "metadata": {
    "collapsed": true
   },
   "outputs": [],
   "source": [
    "     h.up <- overallHeritability(dat.u, s.upper, p.upper)\n",
    "        h.low <- overallHeritability(dat.l, s.lower, p.lower)\n",
    "        h.center <- overallHeritability(dat.c, s.center, p.center)\n"
   ]
  },
  {
   "cell_type": "code",
   "execution_count": 18,
   "metadata": {},
   "outputs": [
    {
     "data": {
      "text/html": [
       "<ol class=list-inline>\n",
       "\t<li>0.258630999466075</li>\n",
       "\t<li>0.174218147744253</li>\n",
       "</ol>\n"
      ],
      "text/latex": [
       "\\begin{enumerate*}\n",
       "\\item 0.258630999466075\n",
       "\\item 0.174218147744253\n",
       "\\end{enumerate*}\n"
      ],
      "text/markdown": [
       "1. 0.258630999466075\n",
       "2. 0.174218147744253\n",
       "\n",
       "\n"
      ],
      "text/plain": [
       "[1] 0.2586310 0.1742181"
      ]
     },
     "metadata": {},
     "output_type": "display_data"
    },
    {
     "data": {
      "text/html": [
       "<ol class=list-inline>\n",
       "\t<li>0.259281708444195</li>\n",
       "\t<li>0.177580760387546</li>\n",
       "</ol>\n"
      ],
      "text/latex": [
       "\\begin{enumerate*}\n",
       "\\item 0.259281708444195\n",
       "\\item 0.177580760387546\n",
       "\\end{enumerate*}\n"
      ],
      "text/markdown": [
       "1. 0.259281708444195\n",
       "2. 0.177580760387546\n",
       "\n",
       "\n"
      ],
      "text/plain": [
       "[1] 0.2592817 0.1775808"
      ]
     },
     "metadata": {},
     "output_type": "display_data"
    },
    {
     "data": {
      "text/html": [
       "<ol class=list-inline>\n",
       "\t<li>0.257865094798673</li>\n",
       "\t<li>0.170581508505368</li>\n",
       "</ol>\n"
      ],
      "text/latex": [
       "\\begin{enumerate*}\n",
       "\\item 0.257865094798673\n",
       "\\item 0.170581508505368\n",
       "\\end{enumerate*}\n"
      ],
      "text/markdown": [
       "1. 0.257865094798673\n",
       "2. 0.170581508505368\n",
       "\n",
       "\n"
      ],
      "text/plain": [
       "[1] 0.2578651 0.1705815"
      ]
     },
     "metadata": {},
     "output_type": "display_data"
    }
   ],
   "source": [
    "h.up\n",
    "h.center\n",
    "h.low"
   ]
  },
  {
   "cell_type": "code",
   "execution_count": 23,
   "metadata": {},
   "outputs": [
    {
     "data": {
      "text/html": [
       "0.264084108668506"
      ],
      "text/latex": [
       "0.264084108668506"
      ],
      "text/markdown": [
       "0.264084108668506"
      ],
      "text/plain": [
       "[1] 0.2640841"
      ]
     },
     "metadata": {},
     "output_type": "display_data"
    },
    {
     "data": {
      "text/html": [
       "0.0921273170564914"
      ],
      "text/latex": [
       "0.0921273170564914"
      ],
      "text/markdown": [
       "0.0921273170564914"
      ],
      "text/plain": [
       "[1] 0.09212732"
      ]
     },
     "metadata": {},
     "output_type": "display_data"
    },
    {
     "data": {
      "text/html": [
       "0.258630999466075"
      ],
      "text/latex": [
       "0.258630999466075"
      ],
      "text/markdown": [
       "0.258630999466075"
      ],
      "text/plain": [
       "[1] 0.258631"
      ]
     },
     "metadata": {},
     "output_type": "display_data"
    },
    {
     "data": {
      "text/html": [
       "0.240043323626526"
      ],
      "text/latex": [
       "0.240043323626526"
      ],
      "text/markdown": [
       "0.240043323626526"
      ],
      "text/plain": [
       "[1] 0.2400433"
      ]
     },
     "metadata": {},
     "output_type": "display_data"
    },
    {
     "data": {
      "text/html": [
       "0.0506427976182215"
      ],
      "text/latex": [
       "0.0506427976182215"
      ],
      "text/markdown": [
       "0.0506427976182215"
      ],
      "text/plain": [
       "[1] 0.0506428"
      ]
     },
     "metadata": {},
     "output_type": "display_data"
    },
    {
     "data": {
      "text/html": [
       "0.174218147744253"
      ],
      "text/latex": [
       "0.174218147744253"
      ],
      "text/markdown": [
       "0.174218147744253"
      ],
      "text/plain": [
       "[1] 0.1742181"
      ]
     },
     "metadata": {},
     "output_type": "display_data"
    }
   ],
   "source": [
    "se.p2 <- dat.u$dat$SE[dat.u$categories==2,]\n",
    "n <- nrow(se.p2)\n",
    "num_i <- n*(p.upper[2])*s.upper[1,1]\n",
    "    \n",
    "h_i <- num_i/(num_i + sum(se.p2[,1]))\n",
    "sum(se.p2[,1])\n",
    "num_i\n",
    "h_i\n",
    "num_i <- n*(p.upper[2])*s.upper[2,2]\n",
    "    \n",
    "h_2 <- num_i/(num_i + sum(se.p2[,2]))\n",
    "sum(se.p2[,2])\n",
    "num_i\n",
    "h_2"
   ]
  },
  {
   "cell_type": "code",
   "execution_count": 27,
   "metadata": {},
   "outputs": [
    {
     "data": {
      "text/html": [
       "0.181781034195631"
      ],
      "text/latex": [
       "0.181781034195631"
      ],
      "text/markdown": [
       "0.181781034195631"
      ],
      "text/plain": [
       "[1] 0.181781"
      ]
     },
     "metadata": {},
     "output_type": "display_data"
    },
    {
     "data": {
      "text/html": [
       "0.0636307995175854"
      ],
      "text/latex": [
       "0.0636307995175854"
      ],
      "text/markdown": [
       "0.0636307995175854"
      ],
      "text/plain": [
       "[1] 0.0636308"
      ]
     },
     "metadata": {},
     "output_type": "display_data"
    },
    {
     "data": {
      "text/html": [
       "0.259281708444195"
      ],
      "text/latex": [
       "0.259281708444195"
      ],
      "text/markdown": [
       "0.259281708444195"
      ],
      "text/plain": [
       "[1] 0.2592817"
      ]
     },
     "metadata": {},
     "output_type": "display_data"
    },
    {
     "data": {
      "text/html": [
       "0.16525776290295"
      ],
      "text/latex": [
       "0.16525776290295"
      ],
      "text/markdown": [
       "0.16525776290295"
      ],
      "text/plain": [
       "[1] 0.1652578"
      ]
     },
     "metadata": {},
     "output_type": "display_data"
    },
    {
     "data": {
      "text/html": [
       "0.035683259562458"
      ],
      "text/latex": [
       "0.035683259562458"
      ],
      "text/markdown": [
       "0.035683259562458"
      ],
      "text/plain": [
       "[1] 0.03568326"
      ]
     },
     "metadata": {},
     "output_type": "display_data"
    },
    {
     "data": {
      "text/html": [
       "0.177580760387546"
      ],
      "text/latex": [
       "0.177580760387546"
      ],
      "text/markdown": [
       "0.177580760387546"
      ],
      "text/plain": [
       "[1] 0.1775808"
      ]
     },
     "metadata": {},
     "output_type": "display_data"
    }
   ],
   "source": [
    "se.p2 <- dat.u$dat$SE[dat.c$categories==2,]\n",
    "n <- nrow(se.p2)\n",
    "num_i <- n*(p.center[2])*s.center[1,1]\n",
    "    \n",
    "h_i <- num_i/(num_i + sum(se.p2[,1]))\n",
    "sum(se.p2[,1])\n",
    "num_i\n",
    "h_i\n",
    "num_i <- n*(p.center[2])*s.center[2,2]\n",
    "    \n",
    "h_2 <- num_i/(num_i + sum(se.p2[,2]))\n",
    "sum(se.p2[,2])\n",
    "num_i\n",
    "h_2"
   ]
  },
  {
   "cell_type": "code",
   "execution_count": 32,
   "metadata": {},
   "outputs": [
    {
     "data": {
      "text/html": [
       "0.257142857142857"
      ],
      "text/latex": [
       "0.257142857142857"
      ],
      "text/markdown": [
       "0.257142857142857"
      ],
      "text/plain": [
       "[1] 0.2571429"
      ]
     },
     "metadata": {},
     "output_type": "display_data"
    },
    {
     "data": {
      "text/html": [
       "0.260162601626016"
      ],
      "text/latex": [
       "0.260162601626016"
      ],
      "text/markdown": [
       "0.260162601626016"
      ],
      "text/plain": [
       "[1] 0.2601626"
      ]
     },
     "metadata": {},
     "output_type": "display_data"
    }
   ],
   "source": []
  },
  {
   "cell_type": "code",
   "execution_count": null,
   "metadata": {
    "collapsed": true
   },
   "outputs": [],
   "source": [
    "\n",
    "\n",
    "# LD FILTER SNPS AGAIN"
   ]
  },
  {
   "cell_type": "code",
   "execution_count": 3,
   "metadata": {
    "collapsed": true
   },
   "outputs": [],
   "source": [
    "require('tidyverse')\n",
    "\n",
    "snps.to.keep <- read.table(\"../../data/snp_filt_list2.txt\", header=FALSE, \n",
    "    colClasses=\"character\")\n"
   ]
  },
  {
   "cell_type": "code",
   "execution_count": 4,
   "metadata": {},
   "outputs": [
    {
     "name": "stderr",
     "output_type": "stream",
     "text": [
      "Parsed with column specification:\n",
      "cols(\n",
      "  SNP = col_character(),\n",
      "  CHR = col_integer(),\n",
      "  BP = col_integer(),\n",
      "  B_f = col_double(),\n",
      "  B_m = col_double(),\n",
      "  SE_f = col_double(),\n",
      "  SE_m = col_double(),\n",
      "  p_m = col_double(),\n",
      "  p_f = col_double(),\n",
      "  p1 = col_double(),\n",
      "  p2 = col_double(),\n",
      "  p3 = col_double(),\n",
      "  p4 = col_double(),\n",
      "  gene = col_character(),\n",
      "  trait = col_character()\n",
      ")\n",
      "Parsed with column specification:\n",
      "cols(\n",
      "  SNP = col_character(),\n",
      "  CHR = col_integer(),\n",
      "  BP = col_integer(),\n",
      "  B_f = col_double(),\n",
      "  B_m = col_double(),\n",
      "  SE_f = col_double(),\n",
      "  SE_m = col_double(),\n",
      "  p_m = col_double(),\n",
      "  p_f = col_double(),\n",
      "  p1 = col_double(),\n",
      "  p2 = col_double(),\n",
      "  p3 = col_double(),\n",
      "  p4 = col_double(),\n",
      "  gene = col_character(),\n",
      "  trait = col_character()\n",
      ")\n",
      "Warning message:\n",
      "“2 parsing failures.\n",
      "row # A tibble: 2 x 5 col     row col   expected   actual     file                                   expected   <int> <chr> <chr>      <chr>      <chr>                                  actual 1   170 <NA>  15 columns 16 columns '../../data/biomarker/m2/all_m_df.txt' file 2   195 <NA>  15 columns 16 columns '../../data/biomarker/m2/all_m_df.txt'\n",
      "”"
     ]
    },
    {
     "data": {
      "text/html": [
       "<table>\n",
       "<thead><tr><th scope=col>SNP</th><th scope=col>CHR</th><th scope=col>BP</th><th scope=col>B_f</th><th scope=col>B_m</th><th scope=col>SE_f</th><th scope=col>SE_m</th><th scope=col>p_m</th><th scope=col>p_f</th><th scope=col>p1</th><th scope=col>p2</th><th scope=col>p3</th><th scope=col>p4</th><th scope=col>gene</th><th scope=col>trait</th></tr></thead>\n",
       "<tbody>\n",
       "\t<tr><td>rs121918002               </td><td> 1                        </td><td> 21900176                 </td><td>-2.469460                 </td><td>-2.380950                 </td><td>0.1289750                 </td><td>0.1427530                 </td><td> 2.13323e-62              </td><td> 1.29078e-81              </td><td> 1.046546e-73             </td><td>1.0000000                 </td><td>2.368780e-19              </td><td> 1.607599e-54             </td><td>ALPL                      </td><td>Alkaline_phosphatase      </td></tr>\n",
       "\t<tr><td>Affx-52354612             </td><td>15                        </td><td> 58838103                 </td><td> 0.602026                 </td><td> 0.500896                 </td><td>0.0884069                 </td><td>0.0822425                 </td><td> 1.12875e-09              </td><td> 9.82022e-12              </td><td> 1.959040e-04             </td><td>0.5591625                 </td><td>1.546044e-02              </td><td> 4.251811e-01             </td><td>LIPC                      </td><td>Apolipoprotein_A          </td></tr>\n",
       "\t<tr><td>Affx-89019160             </td><td>10                        </td><td>101157378                 </td><td>-2.673440                 </td><td>-2.460210                 </td><td>0.0864675                 </td><td>0.0846102                 </td><td>2.36206e-185              </td><td>3.18713e-209              </td><td> 0.000000e+00             </td><td>1.0000000                 </td><td>3.559281e-25              </td><td>1.015780e-106             </td><td>GOT1                      </td><td>Aspartate_aminotransferase</td></tr>\n",
       "\t<tr><td>rs146049867               </td><td>10                        </td><td>101165952                 </td><td>-0.697329                 </td><td>-0.477447                 </td><td>0.0636471                 </td><td>0.0625425                 </td><td> 2.29014e-14              </td><td> 6.36401e-28              </td><td> 2.918874e-20             </td><td>1.0000000                 </td><td>8.670623e-15              </td><td> 4.160020e-08             </td><td>GOT1                      </td><td>Aspartate_aminotransferase</td></tr>\n",
       "\t<tr><td>rs8177505                 </td><td> 6                        </td><td>160679656                 </td><td> 0.510406                 </td><td> 0.485647                 </td><td>0.0493749                 </td><td>0.0514179                 </td><td> 3.59985e-21              </td><td> 4.87012e-25              </td><td> 2.383065e-17             </td><td>0.9996841                 </td><td>2.179201e-04              </td><td> 9.801127e-05             </td><td>SLC22A2                   </td><td>Creatinine                </td></tr>\n",
       "\t<tr><td>Affx-92045743             </td><td>20                        </td><td> 23615951                 </td><td>-3.353020                 </td><td>-3.380690                 </td><td>0.1403860                 </td><td>0.1550710                 </td><td>3.51477e-105              </td><td>8.23929e-126              </td><td>8.231059e-118             </td><td>1.0000000                 </td><td>4.192534e-22              </td><td>2.095239e-100             </td><td>CST3                      </td><td>Cystatin_C                </td></tr>\n",
       "</tbody>\n",
       "</table>\n"
      ],
      "text/latex": [
       "\\begin{tabular}{r|lllllllllllllll}\n",
       " SNP & CHR & BP & B\\_f & B\\_m & SE\\_f & SE\\_m & p\\_m & p\\_f & p1 & p2 & p3 & p4 & gene & trait\\\\\n",
       "\\hline\n",
       "\t rs121918002                  &  1                           &  21900176                    & -2.469460                    & -2.380950                    & 0.1289750                    & 0.1427530                    &  2.13323e-62                 &  1.29078e-81                 &  1.046546e-73                & 1.0000000                    & 2.368780e-19                 &  1.607599e-54                & ALPL                         & Alkaline\\_phosphatase      \\\\\n",
       "\t Affx-52354612                & 15                           &  58838103                    &  0.602026                    &  0.500896                    & 0.0884069                    & 0.0822425                    &  1.12875e-09                 &  9.82022e-12                 &  1.959040e-04                & 0.5591625                    & 1.546044e-02                 &  4.251811e-01                & LIPC                         & Apolipoprotein\\_A          \\\\\n",
       "\t Affx-89019160                & 10                           & 101157378                    & -2.673440                    & -2.460210                    & 0.0864675                    & 0.0846102                    & 2.36206e-185                 & 3.18713e-209                 &  0.000000e+00                & 1.0000000                    & 3.559281e-25                 & 1.015780e-106                & GOT1                         & Aspartate\\_aminotransferase\\\\\n",
       "\t rs146049867                  & 10                           & 101165952                    & -0.697329                    & -0.477447                    & 0.0636471                    & 0.0625425                    &  2.29014e-14                 &  6.36401e-28                 &  2.918874e-20                & 1.0000000                    & 8.670623e-15                 &  4.160020e-08                & GOT1                         & Aspartate\\_aminotransferase\\\\\n",
       "\t rs8177505                  &  6                         & 160679656                  &  0.510406                  &  0.485647                  & 0.0493749                  & 0.0514179                  &  3.59985e-21               &  4.87012e-25               &  2.383065e-17              & 0.9996841                  & 2.179201e-04               &  9.801127e-05              & SLC22A2                    & Creatinine                \\\\\n",
       "\t Affx-92045743                & 20                           &  23615951                    & -3.353020                    & -3.380690                    & 0.1403860                    & 0.1550710                    & 3.51477e-105                 & 8.23929e-126                 & 8.231059e-118                & 1.0000000                    & 4.192534e-22                 & 2.095239e-100                & CST3                         & Cystatin\\_C                \\\\\n",
       "\\end{tabular}\n"
      ],
      "text/markdown": [
       "\n",
       "SNP | CHR | BP | B_f | B_m | SE_f | SE_m | p_m | p_f | p1 | p2 | p3 | p4 | gene | trait | \n",
       "|---|---|---|---|---|---|\n",
       "| rs121918002                |  1                         |  21900176                  | -2.469460                  | -2.380950                  | 0.1289750                  | 0.1427530                  |  2.13323e-62               |  1.29078e-81               |  1.046546e-73              | 1.0000000                  | 2.368780e-19               |  1.607599e-54              | ALPL                       | Alkaline_phosphatase       | \n",
       "| Affx-52354612              | 15                         |  58838103                  |  0.602026                  |  0.500896                  | 0.0884069                  | 0.0822425                  |  1.12875e-09               |  9.82022e-12               |  1.959040e-04              | 0.5591625                  | 1.546044e-02               |  4.251811e-01              | LIPC                       | Apolipoprotein_A           | \n",
       "| Affx-89019160              | 10                         | 101157378                  | -2.673440                  | -2.460210                  | 0.0864675                  | 0.0846102                  | 2.36206e-185               | 3.18713e-209               |  0.000000e+00              | 1.0000000                  | 3.559281e-25               | 1.015780e-106              | GOT1                       | Aspartate_aminotransferase | \n",
       "| rs146049867                | 10                         | 101165952                  | -0.697329                  | -0.477447                  | 0.0636471                  | 0.0625425                  |  2.29014e-14               |  6.36401e-28               |  2.918874e-20              | 1.0000000                  | 8.670623e-15               |  4.160020e-08              | GOT1                       | Aspartate_aminotransferase | \n",
       "| rs8177505                  |  6                         | 160679656                  |  0.510406                  |  0.485647                  | 0.0493749                  | 0.0514179                  |  3.59985e-21               |  4.87012e-25               |  2.383065e-17              | 0.9996841                  | 2.179201e-04               |  9.801127e-05              | SLC22A2                    | Creatinine                 | \n",
       "| Affx-92045743              | 20                         |  23615951                  | -3.353020                  | -3.380690                  | 0.1403860                  | 0.1550710                  | 3.51477e-105               | 8.23929e-126               | 8.231059e-118              | 1.0000000                  | 4.192534e-22               | 2.095239e-100              | CST3                       | Cystatin_C                 | \n",
       "\n",
       "\n"
      ],
      "text/plain": [
       "  SNP           CHR BP        B_f       B_m       SE_f      SE_m     \n",
       "1 rs121918002    1   21900176 -2.469460 -2.380950 0.1289750 0.1427530\n",
       "2 Affx-52354612 15   58838103  0.602026  0.500896 0.0884069 0.0822425\n",
       "3 Affx-89019160 10  101157378 -2.673440 -2.460210 0.0864675 0.0846102\n",
       "4 rs146049867   10  101165952 -0.697329 -0.477447 0.0636471 0.0625425\n",
       "5 rs8177505      6  160679656  0.510406  0.485647 0.0493749 0.0514179\n",
       "6 Affx-92045743 20   23615951 -3.353020 -3.380690 0.1403860 0.1550710\n",
       "  p_m          p_f          p1            p2        p3           p4           \n",
       "1  2.13323e-62  1.29078e-81  1.046546e-73 1.0000000 2.368780e-19  1.607599e-54\n",
       "2  1.12875e-09  9.82022e-12  1.959040e-04 0.5591625 1.546044e-02  4.251811e-01\n",
       "3 2.36206e-185 3.18713e-209  0.000000e+00 1.0000000 3.559281e-25 1.015780e-106\n",
       "4  2.29014e-14  6.36401e-28  2.918874e-20 1.0000000 8.670623e-15  4.160020e-08\n",
       "5  3.59985e-21  4.87012e-25  2.383065e-17 0.9996841 2.179201e-04  9.801127e-05\n",
       "6 3.51477e-105 8.23929e-126 8.231059e-118 1.0000000 4.192534e-22 2.095239e-100\n",
       "  gene    trait                     \n",
       "1 ALPL    Alkaline_phosphatase      \n",
       "2 LIPC    Apolipoprotein_A          \n",
       "3 GOT1    Aspartate_aminotransferase\n",
       "4 GOT1    Aspartate_aminotransferase\n",
       "5 SLC22A2 Creatinine                \n",
       "6 CST3    Cystatin_C                "
      ]
     },
     "metadata": {},
     "output_type": "display_data"
    }
   ],
   "source": [
    "f_snps <- read_csv(\"../../data/biomarker/m2/all_f_df.txt\")\n",
    "m_snps <- read_csv(\"../../data/biomarker/m2/all_m_df.txt\")\n",
    "head(f_snps)"
   ]
  },
  {
   "cell_type": "code",
   "execution_count": 6,
   "metadata": {},
   "outputs": [
    {
     "data": {
      "text/html": [
       "115"
      ],
      "text/latex": [
       "115"
      ],
      "text/markdown": [
       "115"
      ],
      "text/plain": [
       "[1] 115"
      ]
     },
     "metadata": {},
     "output_type": "display_data"
    },
    {
     "data": {
      "text/html": [
       "30"
      ],
      "text/latex": [
       "30"
      ],
      "text/markdown": [
       "30"
      ],
      "text/plain": [
       "[1] 30"
      ]
     },
     "metadata": {},
     "output_type": "display_data"
    },
    {
     "data": {
      "text/html": [
       "504"
      ],
      "text/latex": [
       "504"
      ],
      "text/markdown": [
       "504"
      ],
      "text/plain": [
       "[1] 504"
      ]
     },
     "metadata": {},
     "output_type": "display_data"
    },
    {
     "data": {
      "text/html": [
       "112"
      ],
      "text/latex": [
       "112"
      ],
      "text/markdown": [
       "112"
      ],
      "text/plain": [
       "[1] 112"
      ]
     },
     "metadata": {},
     "output_type": "display_data"
    }
   ],
   "source": [
    "length(f_snps$SNP)\n",
    "length(intersect(f_snps$SNP, snps.to.keep$V1))\n",
    "\n",
    "length(m_snps$SNP)\n",
    "length(intersect(m_snps$SNP, snps.to.keep$V1))"
   ]
  },
  {
   "cell_type": "code",
   "execution_count": 11,
   "metadata": {
    "collapsed": true
   },
   "outputs": [],
   "source": [
    "filter(m_snps, SNP %in% snps.to.keep$V1) %>% arrange(trait, CHR, BP) %>% write_csv(\"../../data/aggreg_results_1011/m2_m_only_ld.txt\")"
   ]
  },
  {
   "cell_type": "code",
   "execution_count": 10,
   "metadata": {
    "collapsed": true
   },
   "outputs": [],
   "source": [
    "filter(f_snps, SNP %in% snps.to.keep$V1) %>% arrange(trait, CHR, BP )%>% write_csv(\"../../data/aggreg_results_1011/m2_f_only_ld.txt\")"
   ]
  },
  {
   "cell_type": "code",
   "execution_count": null,
   "metadata": {
    "collapsed": true
   },
   "outputs": [],
   "source": []
  }
 ],
 "metadata": {
  "kernelspec": {
   "display_name": "R",
   "language": "R",
   "name": "ir"
  },
  "language_info": {
   "codemirror_mode": "r",
   "file_extension": ".r",
   "mimetype": "text/x-r-source",
   "name": "R",
   "pygments_lexer": "r",
   "version": "3.4.0"
  }
 },
 "nbformat": 4,
 "nbformat_minor": 2
}
