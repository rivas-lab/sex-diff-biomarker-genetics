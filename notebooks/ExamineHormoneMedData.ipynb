{
 "cells": [
  {
   "cell_type": "code",
   "execution_count": 7,
   "metadata": {},
   "outputs": [
    {
     "name": "stderr",
     "output_type": "stream",
     "text": [
      "Loading required package: tidyverse\n",
      "── Attaching packages ─────────────────────────────────────── tidyverse 1.2.1 ──\n",
      "✔ ggplot2 2.2.1     ✔ purrr   0.2.4\n",
      "✔ tibble  1.4.2     ✔ dplyr   0.7.4\n",
      "✔ tidyr   0.8.1     ✔ stringr 1.3.0\n",
      "✔ readr   1.1.1     ✔ forcats 0.3.0\n",
      "── Conflicts ────────────────────────────────────────── tidyverse_conflicts() ──\n",
      "✖ dplyr::filter() masks stats::filter()\n",
      "✖ dplyr::lag()    masks stats::lag()\n"
     ]
    }
   ],
   "source": [
    "require('tidyverse')"
   ]
  },
  {
   "cell_type": "code",
   "execution_count": 12,
   "metadata": {
    "collapsed": true
   },
   "outputs": [],
   "source": [
    "# age last used HRT: 3546\n",
    "# age started HRT: 3536\n",
    "# age last used bc pill: 2804\n",
    "# age started bc pill: 2794\n",
    "\n",
    "\n",
    "hrt_last <- read.table(\"../phefiles/ss/INI3546.phe\") # this is bad b/c no -11 == still taking\n",
    "hrt_last_full <- read.table(\"../phefiles/3546.phe\")\n",
    "hrt_start <- read.table(\"../phefiles/ss/INI3581.phe\")\n",
    "\n",
    "pill_last <- read.table(\"../phefiles/ss/2804.phe\")\n",
    "pill_start <- read.table(\"../phefiles/ss/INI2794.phe\")\n",
    "\n",
    "colnames(hrt_last_full) <- c(\"ID\", \"ID2\", \"val\")\n",
    "colnames(pill_last) <- c(\"ID\", \"ID2\", \"val\")"
   ]
  },
  {
   "cell_type": "code",
   "execution_count": 13,
   "metadata": {},
   "outputs": [
    {
     "data": {
      "text/plain": [
       "\n",
       " FALSE   TRUE \n",
       "215238   4919 "
      ]
     },
     "metadata": {},
     "output_type": "display_data"
    },
    {
     "data": {
      "text/plain": [
       "\n",
       "FALSE  TRUE \n",
       "87491 16458 "
      ]
     },
     "metadata": {},
     "output_type": "display_data"
    }
   ],
   "source": [
    "# data field 20003 has treatment/medication code\n",
    "# \"testosterone product\", \"testogel\"\n",
    "# many on estrogen products\n",
    "\n",
    "# -11 = still taking\n",
    "table(pill_last[,3]==-11) # ~5k\n",
    "table(hrt_last_full[,3]==-11) # ~17k\n",
    "# <--- similar to stats in data showcase, slightly less\n"
   ]
  },
  {
   "cell_type": "code",
   "execution_count": 16,
   "metadata": {},
   "outputs": [
    {
     "data": {
      "text/html": [
       "<table>\n",
       "<thead><tr><th scope=col>ID</th><th scope=col>ID2</th><th scope=col>val</th></tr></thead>\n",
       "<tbody>\n",
       "\t<tr><td>2829867</td><td>2829867</td><td>NA     </td></tr>\n",
       "\t<tr><td>2809727</td><td>2809727</td><td>30     </td></tr>\n",
       "\t<tr><td>3025032</td><td>3025032</td><td>19     </td></tr>\n",
       "\t<tr><td>4662128</td><td>4662128</td><td>NA     </td></tr>\n",
       "\t<tr><td>4621391</td><td>4621391</td><td>NA     </td></tr>\n",
       "\t<tr><td>4563020</td><td>4563020</td><td>NA     </td></tr>\n",
       "</tbody>\n",
       "</table>\n"
      ],
      "text/latex": [
       "\\begin{tabular}{r|lll}\n",
       " ID & ID2 & val\\\\\n",
       "\\hline\n",
       "\t 2829867 & 2829867 & NA     \\\\\n",
       "\t 2809727 & 2809727 & 30     \\\\\n",
       "\t 3025032 & 3025032 & 19     \\\\\n",
       "\t 4662128 & 4662128 & NA     \\\\\n",
       "\t 4621391 & 4621391 & NA     \\\\\n",
       "\t 4563020 & 4563020 & NA     \\\\\n",
       "\\end{tabular}\n"
      ],
      "text/markdown": [
       "\n",
       "ID | ID2 | val | \n",
       "|---|---|---|---|---|---|\n",
       "| 2829867 | 2829867 | NA      | \n",
       "| 2809727 | 2809727 | 30      | \n",
       "| 3025032 | 3025032 | 19      | \n",
       "| 4662128 | 4662128 | NA      | \n",
       "| 4621391 | 4621391 | NA      | \n",
       "| 4563020 | 4563020 | NA      | \n",
       "\n",
       "\n"
      ],
      "text/plain": [
       "  ID      ID2     val\n",
       "1 2829867 2829867 NA \n",
       "2 2809727 2809727 30 \n",
       "3 3025032 3025032 19 \n",
       "4 4662128 4662128 NA \n",
       "5 4621391 4621391 NA \n",
       "6 4563020 4563020 NA "
      ]
     },
     "metadata": {},
     "output_type": "display_data"
    },
    {
     "data": {
      "text/plain": [
       "\n",
       " FALSE   TRUE \n",
       "215238   4919 "
      ]
     },
     "metadata": {},
     "output_type": "display_data"
    },
    {
     "data": {
      "text/plain": [
       "\n",
       "FALSE  TRUE \n",
       "87491 16458 "
      ]
     },
     "metadata": {},
     "output_type": "display_data"
    },
    {
     "name": "stderr",
     "output_type": "stream",
     "text": [
      "Joining, by = \"ID\"\n"
     ]
    },
    {
     "data": {
      "text/html": [
       "<table>\n",
       "<thead><tr><th scope=col>ID</th><th scope=col>pill</th><th scope=col>hrt</th></tr></thead>\n",
       "<tbody>\n",
       "\t<tr><td>2829867</td><td>   NA  </td><td>NA     </td></tr>\n",
       "\t<tr><td>2809727</td><td>FALSE  </td><td>NA     </td></tr>\n",
       "\t<tr><td>3025032</td><td>FALSE  </td><td>NA     </td></tr>\n",
       "\t<tr><td>4662128</td><td>   NA  </td><td>NA     </td></tr>\n",
       "\t<tr><td>4621391</td><td>   NA  </td><td>NA     </td></tr>\n",
       "\t<tr><td>4563020</td><td>   NA  </td><td>NA     </td></tr>\n",
       "</tbody>\n",
       "</table>\n"
      ],
      "text/latex": [
       "\\begin{tabular}{r|lll}\n",
       " ID & pill & hrt\\\\\n",
       "\\hline\n",
       "\t 2829867 &    NA   & NA     \\\\\n",
       "\t 2809727 & FALSE   & NA     \\\\\n",
       "\t 3025032 & FALSE   & NA     \\\\\n",
       "\t 4662128 &    NA   & NA     \\\\\n",
       "\t 4621391 &    NA   & NA     \\\\\n",
       "\t 4563020 &    NA   & NA     \\\\\n",
       "\\end{tabular}\n"
      ],
      "text/markdown": [
       "\n",
       "ID | pill | hrt | \n",
       "|---|---|---|---|---|---|\n",
       "| 2829867 |    NA   | NA      | \n",
       "| 2809727 | FALSE   | NA      | \n",
       "| 3025032 | FALSE   | NA      | \n",
       "| 4662128 |    NA   | NA      | \n",
       "| 4621391 |    NA   | NA      | \n",
       "| 4563020 |    NA   | NA      | \n",
       "\n",
       "\n"
      ],
      "text/plain": [
       "  ID      pill  hrt\n",
       "1 2829867    NA NA \n",
       "2 2809727 FALSE NA \n",
       "3 3025032 FALSE NA \n",
       "4 4662128    NA NA \n",
       "5 4621391    NA NA \n",
       "6 4563020    NA NA "
      ]
     },
     "metadata": {},
     "output_type": "display_data"
    }
   ],
   "source": [
    "head(pill_last)\n",
    "pill_taking <- pill_last %>% mutate(pill=(val==-11))\n",
    "hrt_taking <- hrt_last_full %>% mutate(hrt=(val==-11))\n",
    "\n",
    "table(pill_taking$pill)\n",
    "table(hrt_taking$hrt)\n",
    "\n",
    "comb_tab <- full_join(pill_taking[,c(\"ID\", \"pill\")], hrt_taking[,c(\"ID\", \"hrt\")])\n",
    "head(comb_tab)"
   ]
  },
  {
   "cell_type": "code",
   "execution_count": 17,
   "metadata": {
    "collapsed": true
   },
   "outputs": [],
   "source": [
    "# write it out\n",
    "write.table(comb_tab, file=\"../data/pill_hrt.txt\", sep=\"\\t\", quote=FALSE, row.names=FALSE)"
   ]
  },
  {
   "cell_type": "code",
   "execution_count": null,
   "metadata": {
    "collapsed": true
   },
   "outputs": [],
   "source": []
  }
 ],
 "metadata": {
  "kernelspec": {
   "display_name": "R",
   "language": "R",
   "name": "ir"
  },
  "language_info": {
   "codemirror_mode": "r",
   "file_extension": ".r",
   "mimetype": "text/x-r-source",
   "name": "R",
   "pygments_lexer": "r",
   "version": "3.4.0"
  }
 },
 "nbformat": 4,
 "nbformat_minor": 2
}
