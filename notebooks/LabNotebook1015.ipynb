{
 "cells": [
  {
   "cell_type": "code",
   "execution_count": 1,
   "metadata": {},
   "outputs": [
    {
     "name": "stderr",
     "output_type": "stream",
     "text": [
      "Loading required package: rstan\n",
      "Loading required package: ggplot2\n",
      "Loading required package: StanHeaders\n",
      "rstan (Version 2.17.3, GitRev: 2e1f913d3ca3)\n",
      "For execution on a local, multicore CPU with excess RAM we recommend calling\n",
      "options(mc.cores = parallel::detectCores()).\n",
      "To avoid recompilation of unchanged Stan programs, we recommend calling\n",
      "rstan_options(auto_write = TRUE)\n",
      "Loading required package: tidyverse\n",
      "── Attaching packages ─────────────────────────────────────── tidyverse 1.2.1 ──\n",
      "✔ tibble  1.4.2     ✔ purrr   0.2.4\n",
      "✔ tidyr   0.8.1     ✔ dplyr   0.7.4\n",
      "✔ readr   1.1.1     ✔ stringr 1.3.0\n",
      "✔ tibble  1.4.2     ✔ forcats 0.3.0\n",
      "── Conflicts ────────────────────────────────────────── tidyverse_conflicts() ──\n",
      "✖ tidyr::extract() masks rstan::extract()\n",
      "✖ dplyr::filter()  masks stats::filter()\n",
      "✖ dplyr::lag()     masks stats::lag()\n"
     ]
    }
   ],
   "source": [
    "require('rstan')\n",
    "require('tidyverse')\n"
   ]
  },
  {
   "cell_type": "code",
   "execution_count": 2,
   "metadata": {},
   "outputs": [
    {
     "name": "stderr",
     "output_type": "stream",
     "text": [
      "Loading required package: data.table\n",
      "\n",
      "Attaching package: ‘data.table’\n",
      "\n",
      "The following objects are masked from ‘package:dplyr’:\n",
      "\n",
      "    between, first, last\n",
      "\n",
      "The following object is masked from ‘package:purrr’:\n",
      "\n",
      "    transpose\n",
      "\n"
     ]
    }
   ],
   "source": [
    "require('data.table')"
   ]
  },
  {
   "cell_type": "code",
   "execution_count": 14,
   "metadata": {
    "collapsed": true
   },
   "outputs": [],
   "source": [
    "# read in a file\n",
    "options(stringsAsFactors=FALSE)\n",
    "GWAS.DIR <- \"../gwas1015\"\n",
    "DATA.DIR <- \"../data/\"\n",
    "trait <- \"Testosterone\"\n",
    "sex <- \"zerosex\"\n",
    "gwas.out <- fread(sprintf(\"%s/ukb24983_v2_hg19.%s_%s.genotyped.glm.linear\", GWAS.DIR, trait, sex), data.table=FALSE)"
   ]
  },
  {
   "cell_type": "code",
   "execution_count": 5,
   "metadata": {},
   "outputs": [
    {
     "data": {
      "text/html": [
       "<table>\n",
       "<thead><tr><th scope=col>#CHROM</th><th scope=col>POS</th><th scope=col>ID</th><th scope=col>REF</th><th scope=col>ALT</th><th scope=col>A1</th><th scope=col>TEST</th><th scope=col>OBS_CT</th><th scope=col>BETA</th><th scope=col>SE</th><th scope=col>T_STAT</th><th scope=col>P</th></tr></thead>\n",
       "<tbody>\n",
       "\t<tr><td>XY         </td><td> 60425     </td><td>rs34557243 </td><td>C          </td><td>A          </td><td>A          </td><td>ADD        </td><td>142309     </td><td> 0.00701977</td><td>0.01030930 </td><td> 0.680916  </td><td>0.4959250  </td></tr>\n",
       "\t<tr><td>XY         </td><td> 60454     </td><td>rs28494123 </td><td>A          </td><td>G          </td><td>G          </td><td>ADD        </td><td>141664     </td><td> 0.00598013</td><td>0.00368371 </td><td> 1.623400  </td><td>0.1045060  </td></tr>\n",
       "\t<tr><td>XY         </td><td> 61067     </td><td>rs28590175 </td><td>A          </td><td>G          </td><td>G          </td><td>ADD        </td><td>142636     </td><td> 0.00599071</td><td>0.01020780 </td><td> 0.586877  </td><td>0.5572870  </td></tr>\n",
       "\t<tr><td>XY         </td><td> 62079     </td><td>rs117654552</td><td>C          </td><td>G          </td><td>G          </td><td>ADD        </td><td>142488     </td><td> 0.01012510</td><td>0.01021310 </td><td> 0.991387  </td><td>0.3214980  </td></tr>\n",
       "\t<tr><td>XY         </td><td> 62615     </td><td>rs28491545 </td><td>A          </td><td>C          </td><td>C          </td><td>ADD        </td><td>142421     </td><td> 0.00660512</td><td>0.00369493 </td><td> 1.787620  </td><td>0.0738401  </td></tr>\n",
       "\t<tr><td>XY         </td><td>167755     </td><td>rs73174453 </td><td>G          </td><td>T          </td><td>T          </td><td>ADD        </td><td>142434     </td><td>-0.00627778</td><td>0.00375782 </td><td>-1.670590  </td><td>0.0948046  </td></tr>\n",
       "</tbody>\n",
       "</table>\n"
      ],
      "text/latex": [
       "\\begin{tabular}{r|llllllllllll}\n",
       " \\#CHROM & POS & ID & REF & ALT & A1 & TEST & OBS\\_CT & BETA & SE & T\\_STAT & P\\\\\n",
       "\\hline\n",
       "\t XY          &  60425      & rs34557243  & C           & A           & A           & ADD         & 142309      &  0.00701977 & 0.01030930  &  0.680916   & 0.4959250  \\\\\n",
       "\t XY          &  60454      & rs28494123  & A           & G           & G           & ADD         & 141664      &  0.00598013 & 0.00368371  &  1.623400   & 0.1045060  \\\\\n",
       "\t XY          &  61067      & rs28590175  & A           & G           & G           & ADD         & 142636      &  0.00599071 & 0.01020780  &  0.586877   & 0.5572870  \\\\\n",
       "\t XY          &  62079      & rs117654552 & C           & G           & G           & ADD         & 142488      &  0.01012510 & 0.01021310  &  0.991387   & 0.3214980  \\\\\n",
       "\t XY          &  62615      & rs28491545  & A           & C           & C           & ADD         & 142421      &  0.00660512 & 0.00369493  &  1.787620   & 0.0738401  \\\\\n",
       "\t XY          & 167755      & rs73174453  & G           & T           & T           & ADD         & 142434      & -0.00627778 & 0.00375782  & -1.670590   & 0.0948046  \\\\\n",
       "\\end{tabular}\n"
      ],
      "text/markdown": [
       "\n",
       "#CHROM | POS | ID | REF | ALT | A1 | TEST | OBS_CT | BETA | SE | T_STAT | P | \n",
       "|---|---|---|---|---|---|\n",
       "| XY          |  60425      | rs34557243  | C           | A           | A           | ADD         | 142309      |  0.00701977 | 0.01030930  |  0.680916   | 0.4959250   | \n",
       "| XY          |  60454      | rs28494123  | A           | G           | G           | ADD         | 141664      |  0.00598013 | 0.00368371  |  1.623400   | 0.1045060   | \n",
       "| XY          |  61067      | rs28590175  | A           | G           | G           | ADD         | 142636      |  0.00599071 | 0.01020780  |  0.586877   | 0.5572870   | \n",
       "| XY          |  62079      | rs117654552 | C           | G           | G           | ADD         | 142488      |  0.01012510 | 0.01021310  |  0.991387   | 0.3214980   | \n",
       "| XY          |  62615      | rs28491545  | A           | C           | C           | ADD         | 142421      |  0.00660512 | 0.00369493  |  1.787620   | 0.0738401   | \n",
       "| XY          | 167755      | rs73174453  | G           | T           | T           | ADD         | 142434      | -0.00627778 | 0.00375782  | -1.670590   | 0.0948046   | \n",
       "\n",
       "\n"
      ],
      "text/plain": [
       "  #CHROM POS    ID          REF ALT A1 TEST OBS_CT BETA        SE        \n",
       "1 XY      60425 rs34557243  C   A   A  ADD  142309  0.00701977 0.01030930\n",
       "2 XY      60454 rs28494123  A   G   G  ADD  141664  0.00598013 0.00368371\n",
       "3 XY      61067 rs28590175  A   G   G  ADD  142636  0.00599071 0.01020780\n",
       "4 XY      62079 rs117654552 C   G   G  ADD  142488  0.01012510 0.01021310\n",
       "5 XY      62615 rs28491545  A   C   C  ADD  142421  0.00660512 0.00369493\n",
       "6 XY     167755 rs73174453  G   T   T  ADD  142434 -0.00627778 0.00375782\n",
       "  T_STAT    P        \n",
       "1  0.680916 0.4959250\n",
       "2  1.623400 0.1045060\n",
       "3  0.586877 0.5572870\n",
       "4  0.991387 0.3214980\n",
       "5  1.787620 0.0738401\n",
       "6 -1.670590 0.0948046"
      ]
     },
     "metadata": {},
     "output_type": "display_data"
    },
    {
     "data": {
      "text/html": [
       "804470"
      ],
      "text/latex": [
       "804470"
      ],
      "text/markdown": [
       "804470"
      ],
      "text/plain": [
       "[1] 804470"
      ]
     },
     "metadata": {},
     "output_type": "display_data"
    }
   ],
   "source": [
    "head(gwas.out)\n",
    "nrow(gwas.out)"
   ]
  },
  {
   "cell_type": "markdown",
   "metadata": {},
   "source": [
    "### include X in vars to keep\n"
   ]
  },
  {
   "cell_type": "code",
   "execution_count": 28,
   "metadata": {},
   "outputs": [
    {
     "data": {
      "text/html": [
       "<table>\n",
       "<thead><tr><th scope=col>V1</th></tr></thead>\n",
       "<tbody>\n",
       "\t<tr><td>rs11240779 </td></tr>\n",
       "\t<tr><td>rs59771807 </td></tr>\n",
       "\t<tr><td>rs116452738</td></tr>\n",
       "\t<tr><td>rs4970382  </td></tr>\n",
       "\t<tr><td>rs13303101 </td></tr>\n",
       "\t<tr><td>rs192998324</td></tr>\n",
       "</tbody>\n",
       "</table>\n"
      ],
      "text/latex": [
       "\\begin{tabular}{r|l}\n",
       " V1\\\\\n",
       "\\hline\n",
       "\t rs11240779 \\\\\n",
       "\t rs59771807 \\\\\n",
       "\t rs116452738\\\\\n",
       "\t rs4970382  \\\\\n",
       "\t rs13303101 \\\\\n",
       "\t rs192998324\\\\\n",
       "\\end{tabular}\n"
      ],
      "text/markdown": [
       "\n",
       "V1 | \n",
       "|---|---|---|---|---|---|\n",
       "| rs11240779  | \n",
       "| rs59771807  | \n",
       "| rs116452738 | \n",
       "| rs4970382   | \n",
       "| rs13303101  | \n",
       "| rs192998324 | \n",
       "\n",
       "\n"
      ],
      "text/plain": [
       "  V1         \n",
       "1 rs11240779 \n",
       "2 rs59771807 \n",
       "3 rs116452738\n",
       "4 rs4970382  \n",
       "5 rs13303101 \n",
       "6 rs192998324"
      ]
     },
     "metadata": {},
     "output_type": "display_data"
    },
    {
     "name": "stderr",
     "output_type": "stream",
     "text": [
      "Parsed with column specification:\n",
      "cols(\n",
      "  `#CHROM` = col_character(),\n",
      "  ID = col_character(),\n",
      "  REF = col_character(),\n",
      "  ALT = col_character(),\n",
      "  HOM_REF_CT = col_integer(),\n",
      "  HET_REF_CT = col_integer(),\n",
      "  NONREF_CT = col_integer(),\n",
      "  `O(HET_REF)` = col_double(),\n",
      "  `E(HET_REF)` = col_double(),\n",
      "  P = col_double()\n",
      ")\n",
      "Parsed with column specification:\n",
      "cols(\n",
      "  `#CHROM` = col_character(),\n",
      "  ID = col_character(),\n",
      "  REF = col_character(),\n",
      "  ALT = col_character(),\n",
      "  FEMALE_HOM_REF_CT = col_integer(),\n",
      "  FEMALE_HET_REF_CT = col_integer(),\n",
      "  FEMALE_NONREF_CT = col_integer(),\n",
      "  MALE_REF_CT = col_integer(),\n",
      "  MALE_ALT_CT = col_integer(),\n",
      "  `O(FEMALE_HET_REF)` = col_double(),\n",
      "  `E(FEMALE_HET_REF)` = col_double(),\n",
      "  FEMALE_REF_FREQ = col_double(),\n",
      "  MALE_REF_FREQ = col_double(),\n",
      "  P = col_double()\n",
      ")\n"
     ]
    }
   ],
   "source": [
    "\n",
    "vars.to.keep <- read.table(sprintf(\"%s/snp_filt_list2.txt\" , DATA.DIR), header=FALSE)\n",
    "head(vars.to.keep)\n",
    "\n",
    "# read in all the chr qc\n",
    "cX_ld <- read.table(sprintf(\"%s/chr_qc/chrX_ld.prune.in\", DATA.DIR), header=FALSE)\n",
    "cXY_ld <- read.table(sprintf(\"%s/chr_qc/chrXY_ld.prune.in\", DATA.DIR), header=FALSE)\n",
    "cX_tab <- read.table(sprintf(\"%s/chr_qc/chrX_qc_table.txt\", DATA.DIR), sep=\" \", header=TRUE)\n",
    "cXY_tab <- read.table(sprintf(\"%s/chr_qc/chrXY_qc_table.txt\", DATA.DIR), sep=\" \", header=TRUE)\n",
    "cXY_hardy <- read_tsv(sprintf(\"%s/chr_qc/hardy_XY.out.hardy\", DATA.DIR))\n",
    "cX_hardy <- read_tsv(sprintf(\"%s/chr_qc/hardy_X.out.hardy.x\", DATA.DIR))"
   ]
  },
  {
   "cell_type": "code",
   "execution_count": 21,
   "metadata": {},
   "outputs": [
    {
     "data": {
      "text/plain": [
       "\n",
       "FALSE  TRUE \n",
       "13045  5812 "
      ]
     },
     "metadata": {},
     "output_type": "display_data"
    },
    {
     "data": {
      "text/plain": [
       "\n",
       "FALSE  TRUE \n",
       "  829   528 "
      ]
     },
     "metadata": {},
     "output_type": "display_data"
    },
    {
     "data": {
      "text/html": [
       "<table>\n",
       "<thead><tr><th scope=col>SNP</th><th scope=col>CHR</th><th scope=col>A1</th><th scope=col>A2</th><th scope=col>MAF</th><th scope=col>F_MISS</th><th scope=col>LD</th><th scope=col>keep</th></tr></thead>\n",
       "<tbody>\n",
       "\t<tr><td>Affx-34464730</td><td>X            </td><td>A            </td><td>G            </td><td>0.821453     </td><td>0.000683898  </td><td>0            </td><td>0            </td></tr>\n",
       "\t<tr><td>Affx-34470541</td><td>X            </td><td>T            </td><td>G            </td><td>0.998817     </td><td>0.001566410  </td><td>1            </td><td>1            </td></tr>\n",
       "\t<tr><td>Affx-34480971</td><td>X            </td><td>A            </td><td>C            </td><td>0.987194     </td><td>0.010207300  </td><td>1            </td><td>1            </td></tr>\n",
       "\t<tr><td>Affx-34492707</td><td>X            </td><td>T            </td><td>C            </td><td>0.988038     </td><td>0.002023030  </td><td>1            </td><td>1            </td></tr>\n",
       "\t<tr><td>Affx-34492709</td><td>X            </td><td>G            </td><td>A            </td><td>0.224857     </td><td>0.000788325  </td><td>0            </td><td>0            </td></tr>\n",
       "\t<tr><td>Affx-34494619</td><td>X            </td><td>C            </td><td>G            </td><td>0.767836     </td><td>0.001820320  </td><td>0            </td><td>0            </td></tr>\n",
       "</tbody>\n",
       "</table>\n"
      ],
      "text/latex": [
       "\\begin{tabular}{r|llllllll}\n",
       " SNP & CHR & A1 & A2 & MAF & F\\_MISS & LD & keep\\\\\n",
       "\\hline\n",
       "\t Affx-34464730 & X             & A             & G             & 0.821453      & 0.000683898   & 0             & 0            \\\\\n",
       "\t Affx-34470541 & X             & T             & G             & 0.998817      & 0.001566410   & 1             & 1            \\\\\n",
       "\t Affx-34480971 & X             & A             & C             & 0.987194      & 0.010207300   & 1             & 1            \\\\\n",
       "\t Affx-34492707 & X             & T             & C             & 0.988038      & 0.002023030   & 1             & 1            \\\\\n",
       "\t Affx-34492709 & X             & G             & A             & 0.224857      & 0.000788325   & 0             & 0            \\\\\n",
       "\t Affx-34494619 & X             & C             & G             & 0.767836      & 0.001820320   & 0             & 0            \\\\\n",
       "\\end{tabular}\n"
      ],
      "text/markdown": [
       "\n",
       "SNP | CHR | A1 | A2 | MAF | F_MISS | LD | keep | \n",
       "|---|---|---|---|---|---|\n",
       "| Affx-34464730 | X             | A             | G             | 0.821453      | 0.000683898   | 0             | 0             | \n",
       "| Affx-34470541 | X             | T             | G             | 0.998817      | 0.001566410   | 1             | 1             | \n",
       "| Affx-34480971 | X             | A             | C             | 0.987194      | 0.010207300   | 1             | 1             | \n",
       "| Affx-34492707 | X             | T             | C             | 0.988038      | 0.002023030   | 1             | 1             | \n",
       "| Affx-34492709 | X             | G             | A             | 0.224857      | 0.000788325   | 0             | 0             | \n",
       "| Affx-34494619 | X             | C             | G             | 0.767836      | 0.001820320   | 0             | 0             | \n",
       "\n",
       "\n"
      ],
      "text/plain": [
       "  SNP           CHR A1 A2 MAF      F_MISS      LD keep\n",
       "1 Affx-34464730 X   A  G  0.821453 0.000683898 0  0   \n",
       "2 Affx-34470541 X   T  G  0.998817 0.001566410 1  1   \n",
       "3 Affx-34480971 X   A  C  0.987194 0.010207300 1  1   \n",
       "4 Affx-34492707 X   T  C  0.988038 0.002023030 1  1   \n",
       "5 Affx-34492709 X   G  A  0.224857 0.000788325 0  0   \n",
       "6 Affx-34494619 X   C  G  0.767836 0.001820320 0  0   "
      ]
     },
     "metadata": {},
     "output_type": "display_data"
    },
    {
     "data": {
      "text/html": [
       "<table>\n",
       "<thead><tr><th scope=col>SNP</th><th scope=col>CHR</th><th scope=col>A1</th><th scope=col>A2</th><th scope=col>MAF</th><th scope=col>F_MISS</th><th scope=col>LD</th><th scope=col>keep</th></tr></thead>\n",
       "<tbody>\n",
       "\t<tr><td>Affx-34637689</td><td>XY           </td><td>T            </td><td>C            </td><td>0.701461     </td><td>0.003255680  </td><td>0            </td><td>0            </td></tr>\n",
       "\t<tr><td>Affx-34642957</td><td>XY           </td><td>T            </td><td>G            </td><td>0.925713     </td><td>0.000702326  </td><td>0            </td><td>0            </td></tr>\n",
       "\t<tr><td>Affx-34660664</td><td>XY           </td><td>A            </td><td>T            </td><td>0.978064     </td><td>0.002043500  </td><td>0            </td><td>0            </td></tr>\n",
       "\t<tr><td>Affx-34691882</td><td>XY           </td><td>T            </td><td>C            </td><td>0.418119     </td><td>0.001973880  </td><td>0            </td><td>0            </td></tr>\n",
       "\t<tr><td>Affx-34729416</td><td>XY           </td><td>T            </td><td>C            </td><td>0.896423     </td><td>0.835355000  </td><td>0            </td><td>0            </td></tr>\n",
       "\t<tr><td>Affx-34734836</td><td>XY           </td><td>G            </td><td>A            </td><td>0.189222     </td><td>0.067742700  </td><td>0            </td><td>0            </td></tr>\n",
       "</tbody>\n",
       "</table>\n"
      ],
      "text/latex": [
       "\\begin{tabular}{r|llllllll}\n",
       " SNP & CHR & A1 & A2 & MAF & F\\_MISS & LD & keep\\\\\n",
       "\\hline\n",
       "\t Affx-34637689 & XY            & T             & C             & 0.701461      & 0.003255680   & 0             & 0            \\\\\n",
       "\t Affx-34642957 & XY            & T             & G             & 0.925713      & 0.000702326   & 0             & 0            \\\\\n",
       "\t Affx-34660664 & XY            & A             & T             & 0.978064      & 0.002043500   & 0             & 0            \\\\\n",
       "\t Affx-34691882 & XY            & T             & C             & 0.418119      & 0.001973880   & 0             & 0            \\\\\n",
       "\t Affx-34729416 & XY            & T             & C             & 0.896423      & 0.835355000   & 0             & 0            \\\\\n",
       "\t Affx-34734836 & XY            & G             & A             & 0.189222      & 0.067742700   & 0             & 0            \\\\\n",
       "\\end{tabular}\n"
      ],
      "text/markdown": [
       "\n",
       "SNP | CHR | A1 | A2 | MAF | F_MISS | LD | keep | \n",
       "|---|---|---|---|---|---|\n",
       "| Affx-34637689 | XY            | T             | C             | 0.701461      | 0.003255680   | 0             | 0             | \n",
       "| Affx-34642957 | XY            | T             | G             | 0.925713      | 0.000702326   | 0             | 0             | \n",
       "| Affx-34660664 | XY            | A             | T             | 0.978064      | 0.002043500   | 0             | 0             | \n",
       "| Affx-34691882 | XY            | T             | C             | 0.418119      | 0.001973880   | 0             | 0             | \n",
       "| Affx-34729416 | XY            | T             | C             | 0.896423      | 0.835355000   | 0             | 0             | \n",
       "| Affx-34734836 | XY            | G             | A             | 0.189222      | 0.067742700   | 0             | 0             | \n",
       "\n",
       "\n"
      ],
      "text/plain": [
       "  SNP           CHR A1 A2 MAF      F_MISS      LD keep\n",
       "1 Affx-34637689 XY  T  C  0.701461 0.003255680 0  0   \n",
       "2 Affx-34642957 XY  T  G  0.925713 0.000702326 0  0   \n",
       "3 Affx-34660664 XY  A  T  0.978064 0.002043500 0  0   \n",
       "4 Affx-34691882 XY  T  C  0.418119 0.001973880 0  0   \n",
       "5 Affx-34729416 XY  T  C  0.896423 0.835355000 0  0   \n",
       "6 Affx-34734836 XY  G  A  0.189222 0.067742700 0  0   "
      ]
     },
     "metadata": {},
     "output_type": "display_data"
    },
    {
     "data": {
      "text/html": [
       "5789"
      ],
      "text/latex": [
       "5789"
      ],
      "text/markdown": [
       "5789"
      ],
      "text/plain": [
       "[1] 5789"
      ]
     },
     "metadata": {},
     "output_type": "display_data"
    },
    {
     "data": {
      "text/html": [
       "438"
      ],
      "text/latex": [
       "438"
      ],
      "text/markdown": [
       "438"
      ],
      "text/plain": [
       "[1] 438"
      ]
     },
     "metadata": {},
     "output_type": "display_data"
    },
    {
     "data": {
      "text/html": [
       "4543"
      ],
      "text/latex": [
       "4543"
      ],
      "text/markdown": [
       "4543"
      ],
      "text/plain": [
       "[1] 4543"
      ]
     },
     "metadata": {},
     "output_type": "display_data"
    },
    {
     "data": {
      "text/html": [
       "413"
      ],
      "text/latex": [
       "413"
      ],
      "text/markdown": [
       "413"
      ],
      "text/plain": [
       "[1] 413"
      ]
     },
     "metadata": {},
     "output_type": "display_data"
    }
   ],
   "source": [
    "table(cX_tab$keep==1)\n",
    "table(cXY_tab$keep==1)\n",
    "\n",
    "head(cX_tab)\n",
    "head(cXY_tab)\n",
    "\n",
    "filter(cX_tab, SNP %in% cX_ld$V1) %>% filter(LD !=1) %>% nrow()\n",
    "filter(cXY_tab, SNP %in% cXY_ld$V1) %>% filter(LD !=1) %>% nrow()\n",
    "\n",
    "\n",
    "filter(cX_tab, SNP %in% cX_ld$V1) %>% filter(LD ==1) %>% nrow()\n",
    "filter(cXY_tab, SNP %in% cXY_ld$V1) %>% filter(LD==1) %>% nrow()\n",
    "\n",
    "\n",
    "combinedX <- cX_tab %>% mutate(LD2=ifelse(SNP %in% cX_ld$V1,1,0))\n",
    "combinedXY <- cXY_tab %>% mutate(LD2=ifelse(SNP %in% cXY_ld$V1,1,0))\n"
   ]
  },
  {
   "cell_type": "code",
   "execution_count": 24,
   "metadata": {},
   "outputs": [
    {
     "data": {
      "text/html": [
       "<table>\n",
       "<thead><tr><th scope=col>SNP</th><th scope=col>CHR</th><th scope=col>A1</th><th scope=col>A2</th><th scope=col>MAF</th><th scope=col>F_MISS</th><th scope=col>LD</th><th scope=col>keep</th></tr></thead>\n",
       "<tbody>\n",
       "\t<tr><td>Affx-34464730</td><td>X            </td><td>A            </td><td>G            </td><td>0.821453     </td><td>0.000683898  </td><td>0            </td><td>0            </td></tr>\n",
       "\t<tr><td>Affx-34470541</td><td>X            </td><td>T            </td><td>G            </td><td>0.998817     </td><td>0.001566410  </td><td>0            </td><td>0            </td></tr>\n",
       "\t<tr><td>Affx-34480971</td><td>X            </td><td>A            </td><td>C            </td><td>0.987194     </td><td>0.010207300  </td><td>1            </td><td>1            </td></tr>\n",
       "\t<tr><td>Affx-34492707</td><td>X            </td><td>T            </td><td>C            </td><td>0.988038     </td><td>0.002023030  </td><td>1            </td><td>1            </td></tr>\n",
       "\t<tr><td>Affx-34492709</td><td>X            </td><td>G            </td><td>A            </td><td>0.224857     </td><td>0.000788325  </td><td>0            </td><td>0            </td></tr>\n",
       "\t<tr><td>Affx-34494619</td><td>X            </td><td>C            </td><td>G            </td><td>0.767836     </td><td>0.001820320  </td><td>0            </td><td>0            </td></tr>\n",
       "</tbody>\n",
       "</table>\n"
      ],
      "text/latex": [
       "\\begin{tabular}{r|llllllll}\n",
       " SNP & CHR & A1 & A2 & MAF & F\\_MISS & LD & keep\\\\\n",
       "\\hline\n",
       "\t Affx-34464730 & X             & A             & G             & 0.821453      & 0.000683898   & 0             & 0            \\\\\n",
       "\t Affx-34470541 & X             & T             & G             & 0.998817      & 0.001566410   & 0             & 0            \\\\\n",
       "\t Affx-34480971 & X             & A             & C             & 0.987194      & 0.010207300   & 1             & 1            \\\\\n",
       "\t Affx-34492707 & X             & T             & C             & 0.988038      & 0.002023030   & 1             & 1            \\\\\n",
       "\t Affx-34492709 & X             & G             & A             & 0.224857      & 0.000788325   & 0             & 0            \\\\\n",
       "\t Affx-34494619 & X             & C             & G             & 0.767836      & 0.001820320   & 0             & 0            \\\\\n",
       "\\end{tabular}\n"
      ],
      "text/markdown": [
       "\n",
       "SNP | CHR | A1 | A2 | MAF | F_MISS | LD | keep | \n",
       "|---|---|---|---|---|---|\n",
       "| Affx-34464730 | X             | A             | G             | 0.821453      | 0.000683898   | 0             | 0             | \n",
       "| Affx-34470541 | X             | T             | G             | 0.998817      | 0.001566410   | 0             | 0             | \n",
       "| Affx-34480971 | X             | A             | C             | 0.987194      | 0.010207300   | 1             | 1             | \n",
       "| Affx-34492707 | X             | T             | C             | 0.988038      | 0.002023030   | 1             | 1             | \n",
       "| Affx-34492709 | X             | G             | A             | 0.224857      | 0.000788325   | 0             | 0             | \n",
       "| Affx-34494619 | X             | C             | G             | 0.767836      | 0.001820320   | 0             | 0             | \n",
       "\n",
       "\n"
      ],
      "text/plain": [
       "  SNP           CHR A1 A2 MAF      F_MISS      LD keep\n",
       "1 Affx-34464730 X   A  G  0.821453 0.000683898 0  0   \n",
       "2 Affx-34470541 X   T  G  0.998817 0.001566410 0  0   \n",
       "3 Affx-34480971 X   A  C  0.987194 0.010207300 1  1   \n",
       "4 Affx-34492707 X   T  C  0.988038 0.002023030 1  1   \n",
       "5 Affx-34492709 X   G  A  0.224857 0.000788325 0  0   \n",
       "6 Affx-34494619 X   C  G  0.767836 0.001820320 0  0   "
      ]
     },
     "metadata": {},
     "output_type": "display_data"
    },
    {
     "data": {
      "text/html": [
       "<table>\n",
       "<thead><tr><th scope=col>SNP</th><th scope=col>CHR</th><th scope=col>A1</th><th scope=col>A2</th><th scope=col>MAF</th><th scope=col>F_MISS</th><th scope=col>LD</th><th scope=col>keep</th></tr></thead>\n",
       "<tbody>\n",
       "\t<tr><td>Affx-34637689</td><td>XY           </td><td>T            </td><td>C            </td><td>0.701461     </td><td>0.003255680  </td><td>1            </td><td>1            </td></tr>\n",
       "\t<tr><td>Affx-34642957</td><td>XY           </td><td>T            </td><td>G            </td><td>0.925713     </td><td>0.000702326  </td><td>1            </td><td>1            </td></tr>\n",
       "\t<tr><td>Affx-34660664</td><td>XY           </td><td>A            </td><td>T            </td><td>0.978064     </td><td>0.002043500  </td><td>1            </td><td>1            </td></tr>\n",
       "\t<tr><td>Affx-34691882</td><td>XY           </td><td>T            </td><td>C            </td><td>0.418119     </td><td>0.001973880  </td><td>0            </td><td>0            </td></tr>\n",
       "\t<tr><td>Affx-34729416</td><td>XY           </td><td>T            </td><td>C            </td><td>0.896423     </td><td>0.835355000  </td><td>0            </td><td>0            </td></tr>\n",
       "\t<tr><td>Affx-34734836</td><td>XY           </td><td>G            </td><td>A            </td><td>0.189222     </td><td>0.067742700  </td><td>0            </td><td>0            </td></tr>\n",
       "</tbody>\n",
       "</table>\n"
      ],
      "text/latex": [
       "\\begin{tabular}{r|llllllll}\n",
       " SNP & CHR & A1 & A2 & MAF & F\\_MISS & LD & keep\\\\\n",
       "\\hline\n",
       "\t Affx-34637689 & XY            & T             & C             & 0.701461      & 0.003255680   & 1             & 1            \\\\\n",
       "\t Affx-34642957 & XY            & T             & G             & 0.925713      & 0.000702326   & 1             & 1            \\\\\n",
       "\t Affx-34660664 & XY            & A             & T             & 0.978064      & 0.002043500   & 1             & 1            \\\\\n",
       "\t Affx-34691882 & XY            & T             & C             & 0.418119      & 0.001973880   & 0             & 0            \\\\\n",
       "\t Affx-34729416 & XY            & T             & C             & 0.896423      & 0.835355000   & 0             & 0            \\\\\n",
       "\t Affx-34734836 & XY            & G             & A             & 0.189222      & 0.067742700   & 0             & 0            \\\\\n",
       "\\end{tabular}\n"
      ],
      "text/markdown": [
       "\n",
       "SNP | CHR | A1 | A2 | MAF | F_MISS | LD | keep | \n",
       "|---|---|---|---|---|---|\n",
       "| Affx-34637689 | XY            | T             | C             | 0.701461      | 0.003255680   | 1             | 1             | \n",
       "| Affx-34642957 | XY            | T             | G             | 0.925713      | 0.000702326   | 1             | 1             | \n",
       "| Affx-34660664 | XY            | A             | T             | 0.978064      | 0.002043500   | 1             | 1             | \n",
       "| Affx-34691882 | XY            | T             | C             | 0.418119      | 0.001973880   | 0             | 0             | \n",
       "| Affx-34729416 | XY            | T             | C             | 0.896423      | 0.835355000   | 0             | 0             | \n",
       "| Affx-34734836 | XY            | G             | A             | 0.189222      | 0.067742700   | 0             | 0             | \n",
       "\n",
       "\n"
      ],
      "text/plain": [
       "  SNP           CHR A1 A2 MAF      F_MISS      LD keep\n",
       "1 Affx-34637689 XY  T  C  0.701461 0.003255680 1  1   \n",
       "2 Affx-34642957 XY  T  G  0.925713 0.000702326 1  1   \n",
       "3 Affx-34660664 XY  A  T  0.978064 0.002043500 1  1   \n",
       "4 Affx-34691882 XY  T  C  0.418119 0.001973880 0  0   \n",
       "5 Affx-34729416 XY  T  C  0.896423 0.835355000 0  0   \n",
       "6 Affx-34734836 XY  G  A  0.189222 0.067742700 0  0   "
      ]
     },
     "metadata": {},
     "output_type": "display_data"
    }
   ],
   "source": [
    "combinedX2 <- combinedX %>% select(-LD, -keep) %>% rename(LD=LD2) \n",
    "combinedXY2 <- combinedXY %>% select(-LD, -keep) %>% rename(LD=LD2) \n",
    "head(combinedX2)\n",
    "head(combinedXY2)"
   ]
  },
  {
   "cell_type": "code",
   "execution_count": 30,
   "metadata": {},
   "outputs": [
    {
     "data": {
      "text/html": [
       "<table>\n",
       "<thead><tr><th scope=col>#CHROM</th><th scope=col>ID</th><th scope=col>REF</th><th scope=col>ALT</th><th scope=col>FEMALE_HOM_REF_CT</th><th scope=col>FEMALE_HET_REF_CT</th><th scope=col>FEMALE_NONREF_CT</th><th scope=col>MALE_REF_CT</th><th scope=col>MALE_ALT_CT</th><th scope=col>O(FEMALE_HET_REF)</th><th scope=col>E(FEMALE_HET_REF)</th><th scope=col>FEMALE_REF_FREQ</th><th scope=col>MALE_REF_FREQ</th><th scope=col>P</th></tr></thead>\n",
       "<tbody>\n",
       "\t<tr><td>X            </td><td>rs60075487   </td><td>A            </td><td>G            </td><td>  7340       </td><td> 72122       </td><td>185023       </td><td> 36077       </td><td>186736       </td><td>2.72688e-01  </td><td>2.74337e-01  </td><td>1.64096e-01  </td><td>0.1619160    </td><td>5.58886e-04  </td></tr>\n",
       "\t<tr><td>X            </td><td>rs2306736    </td><td>C            </td><td>T            </td><td> 75908       </td><td>130843       </td><td> 56870       </td><td>118635       </td><td>103318       </td><td>4.96330e-01  </td><td>4.97392e-01  </td><td>5.36109e-01  </td><td>0.5345050    </td><td>2.44207e-01  </td></tr>\n",
       "\t<tr><td>X            </td><td>Affx-92044070</td><td>AT           </td><td>A            </td><td>     0       </td><td>    20       </td><td>237148       </td><td>     0       </td><td>196223       </td><td>8.43284e-05  </td><td>8.43249e-05  </td><td>4.21642e-05  </td><td>0.0000000    </td><td>2.17114e-03  </td></tr>\n",
       "\t<tr><td>X            </td><td>rs5939320    </td><td>G            </td><td>A            </td><td> 26848       </td><td>114413       </td><td>122715       </td><td> 70724       </td><td>151757       </td><td>4.33422e-01  </td><td>4.34055e-01  </td><td>3.18417e-01  </td><td>0.3178880    </td><td>6.81506e-01  </td></tr>\n",
       "\t<tr><td>X            </td><td>rs146462965  </td><td>T            </td><td>C            </td><td>     5       </td><td>  6222       </td><td>258426       </td><td>  2581       </td><td>220674       </td><td>2.35100e-02  </td><td>2.32706e-02  </td><td>1.17739e-02  </td><td>0.0115608    </td><td>4.90229e-10  </td></tr>\n",
       "\t<tr><td>X            </td><td>rs1970797    </td><td>T            </td><td>C            </td><td>198341       </td><td> 60873       </td><td>  4852       </td><td>192439       </td><td> 30333       </td><td>2.30522e-01  </td><td>2.31554e-01  </td><td>8.66365e-01  </td><td>0.8638380    </td><td>1.00389e-03  </td></tr>\n",
       "</tbody>\n",
       "</table>\n"
      ],
      "text/latex": [
       "\\begin{tabular}{r|llllllllllllll}\n",
       " \\#CHROM & ID & REF & ALT & FEMALE\\_HOM\\_REF\\_CT & FEMALE\\_HET\\_REF\\_CT & FEMALE\\_NONREF\\_CT & MALE\\_REF\\_CT & MALE\\_ALT\\_CT & O(FEMALE\\_HET\\_REF) & E(FEMALE\\_HET\\_REF) & FEMALE\\_REF\\_FREQ & MALE\\_REF\\_FREQ & P\\\\\n",
       "\\hline\n",
       "\t X             & rs60075487    & A             & G             &   7340        &  72122        & 185023        &  36077        & 186736        & 2.72688e-01   & 2.74337e-01   & 1.64096e-01   & 0.1619160     & 5.58886e-04  \\\\\n",
       "\t X             & rs2306736     & C             & T             &  75908        & 130843        &  56870        & 118635        & 103318        & 4.96330e-01   & 4.97392e-01   & 5.36109e-01   & 0.5345050     & 2.44207e-01  \\\\\n",
       "\t X             & Affx-92044070 & AT            & A             &      0        &     20        & 237148        &      0        & 196223        & 8.43284e-05   & 8.43249e-05   & 4.21642e-05   & 0.0000000     & 2.17114e-03  \\\\\n",
       "\t X             & rs5939320     & G             & A             &  26848        & 114413        & 122715        &  70724        & 151757        & 4.33422e-01   & 4.34055e-01   & 3.18417e-01   & 0.3178880     & 6.81506e-01  \\\\\n",
       "\t X             & rs146462965   & T             & C             &      5        &   6222        & 258426        &   2581        & 220674        & 2.35100e-02   & 2.32706e-02   & 1.17739e-02   & 0.0115608     & 4.90229e-10  \\\\\n",
       "\t X             & rs1970797     & T             & C             & 198341        &  60873        &   4852        & 192439        &  30333        & 2.30522e-01   & 2.31554e-01   & 8.66365e-01   & 0.8638380     & 1.00389e-03  \\\\\n",
       "\\end{tabular}\n"
      ],
      "text/markdown": [
       "\n",
       "#CHROM | ID | REF | ALT | FEMALE_HOM_REF_CT | FEMALE_HET_REF_CT | FEMALE_NONREF_CT | MALE_REF_CT | MALE_ALT_CT | O(FEMALE_HET_REF) | E(FEMALE_HET_REF) | FEMALE_REF_FREQ | MALE_REF_FREQ | P | \n",
       "|---|---|---|---|---|---|\n",
       "| X             | rs60075487    | A             | G             |   7340        |  72122        | 185023        |  36077        | 186736        | 2.72688e-01   | 2.74337e-01   | 1.64096e-01   | 0.1619160     | 5.58886e-04   | \n",
       "| X             | rs2306736     | C             | T             |  75908        | 130843        |  56870        | 118635        | 103318        | 4.96330e-01   | 4.97392e-01   | 5.36109e-01   | 0.5345050     | 2.44207e-01   | \n",
       "| X             | Affx-92044070 | AT            | A             |      0        |     20        | 237148        |      0        | 196223        | 8.43284e-05   | 8.43249e-05   | 4.21642e-05   | 0.0000000     | 2.17114e-03   | \n",
       "| X             | rs5939320     | G             | A             |  26848        | 114413        | 122715        |  70724        | 151757        | 4.33422e-01   | 4.34055e-01   | 3.18417e-01   | 0.3178880     | 6.81506e-01   | \n",
       "| X             | rs146462965   | T             | C             |      5        |   6222        | 258426        |   2581        | 220674        | 2.35100e-02   | 2.32706e-02   | 1.17739e-02   | 0.0115608     | 4.90229e-10   | \n",
       "| X             | rs1970797     | T             | C             | 198341        |  60873        |   4852        | 192439        |  30333        | 2.30522e-01   | 2.31554e-01   | 8.66365e-01   | 0.8638380     | 1.00389e-03   | \n",
       "\n",
       "\n"
      ],
      "text/plain": [
       "  #CHROM ID            REF ALT FEMALE_HOM_REF_CT FEMALE_HET_REF_CT\n",
       "1 X      rs60075487    A   G     7340             72122           \n",
       "2 X      rs2306736     C   T    75908            130843           \n",
       "3 X      Affx-92044070 AT  A        0                20           \n",
       "4 X      rs5939320     G   A    26848            114413           \n",
       "5 X      rs146462965   T   C        5              6222           \n",
       "6 X      rs1970797     T   C   198341             60873           \n",
       "  FEMALE_NONREF_CT MALE_REF_CT MALE_ALT_CT O(FEMALE_HET_REF) E(FEMALE_HET_REF)\n",
       "1 185023            36077      186736      2.72688e-01       2.74337e-01      \n",
       "2  56870           118635      103318      4.96330e-01       4.97392e-01      \n",
       "3 237148                0      196223      8.43284e-05       8.43249e-05      \n",
       "4 122715            70724      151757      4.33422e-01       4.34055e-01      \n",
       "5 258426             2581      220674      2.35100e-02       2.32706e-02      \n",
       "6   4852           192439       30333      2.30522e-01       2.31554e-01      \n",
       "  FEMALE_REF_FREQ MALE_REF_FREQ P          \n",
       "1 1.64096e-01     0.1619160     5.58886e-04\n",
       "2 5.36109e-01     0.5345050     2.44207e-01\n",
       "3 4.21642e-05     0.0000000     2.17114e-03\n",
       "4 3.18417e-01     0.3178880     6.81506e-01\n",
       "5 1.17739e-02     0.0115608     4.90229e-10\n",
       "6 8.66365e-01     0.8638380     1.00389e-03"
      ]
     },
     "metadata": {},
     "output_type": "display_data"
    },
    {
     "data": {
      "text/html": [
       "<table>\n",
       "<thead><tr><th scope=col>#CHROM</th><th scope=col>ID</th><th scope=col>REF</th><th scope=col>ALT</th><th scope=col>HOM_REF_CT</th><th scope=col>HET_REF_CT</th><th scope=col>NONREF_CT</th><th scope=col>O(HET_REF)</th><th scope=col>E(HET_REF)</th><th scope=col>P</th></tr></thead>\n",
       "<tbody>\n",
       "\t<tr><td>XY          </td><td>rs34557243  </td><td>A           </td><td>C           </td><td>  1526      </td><td> 34508      </td><td>450367      </td><td>0.0709456   </td><td>0.0742388   </td><td>1.15550e-163</td></tr>\n",
       "\t<tr><td>XY          </td><td>rs28494123  </td><td>G           </td><td>A           </td><td>136003      </td><td>230107      </td><td>117847      </td><td>0.4754700   </td><td>0.4992960   </td><td>1.04200e-241</td></tr>\n",
       "\t<tr><td>XY          </td><td>rs28590175  </td><td>G           </td><td>A           </td><td>  4117      </td><td> 37497      </td><td>446013      </td><td>0.0768969   </td><td>0.0893851   </td><td> 0.00000e+00</td></tr>\n",
       "\t<tr><td>XY          </td><td>rs117654552 </td><td>G           </td><td>C           </td><td>  1714      </td><td> 35077      </td><td>450347      </td><td>0.0720063   </td><td>0.0759194   </td><td>3.85634e-215</td></tr>\n",
       "\t<tr><td>XY          </td><td>rs28491545  </td><td>C           </td><td>A           </td><td>136946      </td><td>233527      </td><td>116337      </td><td>0.4797090   </td><td>0.4991040   </td><td>6.63162e-162</td></tr>\n",
       "\t<tr><td>XY          </td><td>rs73174453  </td><td>T           </td><td>G           </td><td>141590      </td><td>240549      </td><td>104614      </td><td>0.4941910   </td><td>0.4971150   </td><td> 4.07944e-05</td></tr>\n",
       "</tbody>\n",
       "</table>\n"
      ],
      "text/latex": [
       "\\begin{tabular}{r|llllllllll}\n",
       " \\#CHROM & ID & REF & ALT & HOM\\_REF\\_CT & HET\\_REF\\_CT & NONREF\\_CT & O(HET\\_REF) & E(HET\\_REF) & P\\\\\n",
       "\\hline\n",
       "\t XY           & rs34557243   & A            & C            &   1526       &  34508       & 450367       & 0.0709456    & 0.0742388    & 1.15550e-163\\\\\n",
       "\t XY           & rs28494123   & G            & A            & 136003       & 230107       & 117847       & 0.4754700    & 0.4992960    & 1.04200e-241\\\\\n",
       "\t XY           & rs28590175   & G            & A            &   4117       &  37497       & 446013       & 0.0768969    & 0.0893851    &  0.00000e+00\\\\\n",
       "\t XY           & rs117654552  & G            & C            &   1714       &  35077       & 450347       & 0.0720063    & 0.0759194    & 3.85634e-215\\\\\n",
       "\t XY           & rs28491545   & C            & A            & 136946       & 233527       & 116337       & 0.4797090    & 0.4991040    & 6.63162e-162\\\\\n",
       "\t XY           & rs73174453   & T            & G            & 141590       & 240549       & 104614       & 0.4941910    & 0.4971150    &  4.07944e-05\\\\\n",
       "\\end{tabular}\n"
      ],
      "text/markdown": [
       "\n",
       "#CHROM | ID | REF | ALT | HOM_REF_CT | HET_REF_CT | NONREF_CT | O(HET_REF) | E(HET_REF) | P | \n",
       "|---|---|---|---|---|---|\n",
       "| XY           | rs34557243   | A            | C            |   1526       |  34508       | 450367       | 0.0709456    | 0.0742388    | 1.15550e-163 | \n",
       "| XY           | rs28494123   | G            | A            | 136003       | 230107       | 117847       | 0.4754700    | 0.4992960    | 1.04200e-241 | \n",
       "| XY           | rs28590175   | G            | A            |   4117       |  37497       | 446013       | 0.0768969    | 0.0893851    |  0.00000e+00 | \n",
       "| XY           | rs117654552  | G            | C            |   1714       |  35077       | 450347       | 0.0720063    | 0.0759194    | 3.85634e-215 | \n",
       "| XY           | rs28491545   | C            | A            | 136946       | 233527       | 116337       | 0.4797090    | 0.4991040    | 6.63162e-162 | \n",
       "| XY           | rs73174453   | T            | G            | 141590       | 240549       | 104614       | 0.4941910    | 0.4971150    |  4.07944e-05 | \n",
       "\n",
       "\n"
      ],
      "text/plain": [
       "  #CHROM ID          REF ALT HOM_REF_CT HET_REF_CT NONREF_CT O(HET_REF)\n",
       "1 XY     rs34557243  A   C     1526      34508     450367    0.0709456 \n",
       "2 XY     rs28494123  G   A   136003     230107     117847    0.4754700 \n",
       "3 XY     rs28590175  G   A     4117      37497     446013    0.0768969 \n",
       "4 XY     rs117654552 G   C     1714      35077     450347    0.0720063 \n",
       "5 XY     rs28491545  C   A   136946     233527     116337    0.4797090 \n",
       "6 XY     rs73174453  T   G   141590     240549     104614    0.4941910 \n",
       "  E(HET_REF) P           \n",
       "1 0.0742388  1.15550e-163\n",
       "2 0.4992960  1.04200e-241\n",
       "3 0.0893851   0.00000e+00\n",
       "4 0.0759194  3.85634e-215\n",
       "5 0.4991040  6.63162e-162\n",
       "6 0.4971150   4.07944e-05"
      ]
     },
     "metadata": {},
     "output_type": "display_data"
    }
   ],
   "source": [
    "head(cX_hardy)\n",
    "head(cXY_hardy)"
   ]
  },
  {
   "cell_type": "code",
   "execution_count": 43,
   "metadata": {},
   "outputs": [
    {
     "data": {
      "text/html": [
       "<table>\n",
       "<thead><tr><th scope=col>SNP</th><th scope=col>CHR</th><th scope=col>A1</th><th scope=col>A2</th><th scope=col>MAF</th><th scope=col>F_MISS</th><th scope=col>LD</th><th scope=col>keep</th><th scope=col>HWE_P</th></tr></thead>\n",
       "<tbody>\n",
       "\t<tr><td>Affx-34637689</td><td>XY           </td><td>T            </td><td>C            </td><td>0.701461     </td><td>0.003255680  </td><td>1            </td><td>1            </td><td> 1.18165e-04 </td></tr>\n",
       "\t<tr><td>Affx-34642957</td><td>XY           </td><td>T            </td><td>G            </td><td>0.925713     </td><td>0.000702326  </td><td>1            </td><td>1            </td><td>2.50053e-132 </td></tr>\n",
       "\t<tr><td>Affx-34660664</td><td>XY           </td><td>A            </td><td>T            </td><td>0.978064     </td><td>0.002043500  </td><td>1            </td><td>1            </td><td> 2.54957e-09 </td></tr>\n",
       "\t<tr><td>Affx-34691882</td><td>XY           </td><td>T            </td><td>C            </td><td>0.418119     </td><td>0.001973880  </td><td>0            </td><td>0            </td><td> 1.24136e-03 </td></tr>\n",
       "\t<tr><td>Affx-34729416</td><td>XY           </td><td>T            </td><td>C            </td><td>0.896423     </td><td>0.835355000  </td><td>0            </td><td>0            </td><td> 7.61234e-01 </td></tr>\n",
       "\t<tr><td>Affx-34734836</td><td>XY           </td><td>G            </td><td>A            </td><td>0.189222     </td><td>0.067742700  </td><td>0            </td><td>0            </td><td> 2.23538e-01 </td></tr>\n",
       "</tbody>\n",
       "</table>\n"
      ],
      "text/latex": [
       "\\begin{tabular}{r|lllllllll}\n",
       " SNP & CHR & A1 & A2 & MAF & F\\_MISS & LD & keep & HWE\\_P\\\\\n",
       "\\hline\n",
       "\t Affx-34637689 & XY            & T             & C             & 0.701461      & 0.003255680   & 1             & 1             &  1.18165e-04 \\\\\n",
       "\t Affx-34642957 & XY            & T             & G             & 0.925713      & 0.000702326   & 1             & 1             & 2.50053e-132 \\\\\n",
       "\t Affx-34660664 & XY            & A             & T             & 0.978064      & 0.002043500   & 1             & 1             &  2.54957e-09 \\\\\n",
       "\t Affx-34691882 & XY            & T             & C             & 0.418119      & 0.001973880   & 0             & 0             &  1.24136e-03 \\\\\n",
       "\t Affx-34729416 & XY            & T             & C             & 0.896423      & 0.835355000   & 0             & 0             &  7.61234e-01 \\\\\n",
       "\t Affx-34734836 & XY            & G             & A             & 0.189222      & 0.067742700   & 0             & 0             &  2.23538e-01 \\\\\n",
       "\\end{tabular}\n"
      ],
      "text/markdown": [
       "\n",
       "SNP | CHR | A1 | A2 | MAF | F_MISS | LD | keep | HWE_P | \n",
       "|---|---|---|---|---|---|\n",
       "| Affx-34637689 | XY            | T             | C             | 0.701461      | 0.003255680   | 1             | 1             |  1.18165e-04  | \n",
       "| Affx-34642957 | XY            | T             | G             | 0.925713      | 0.000702326   | 1             | 1             | 2.50053e-132  | \n",
       "| Affx-34660664 | XY            | A             | T             | 0.978064      | 0.002043500   | 1             | 1             |  2.54957e-09  | \n",
       "| Affx-34691882 | XY            | T             | C             | 0.418119      | 0.001973880   | 0             | 0             |  1.24136e-03  | \n",
       "| Affx-34729416 | XY            | T             | C             | 0.896423      | 0.835355000   | 0             | 0             |  7.61234e-01  | \n",
       "| Affx-34734836 | XY            | G             | A             | 0.189222      | 0.067742700   | 0             | 0             |  2.23538e-01  | \n",
       "\n",
       "\n"
      ],
      "text/plain": [
       "  SNP           CHR A1 A2 MAF      F_MISS      LD keep HWE_P       \n",
       "1 Affx-34637689 XY  T  C  0.701461 0.003255680 1  1     1.18165e-04\n",
       "2 Affx-34642957 XY  T  G  0.925713 0.000702326 1  1    2.50053e-132\n",
       "3 Affx-34660664 XY  A  T  0.978064 0.002043500 1  1     2.54957e-09\n",
       "4 Affx-34691882 XY  T  C  0.418119 0.001973880 0  0     1.24136e-03\n",
       "5 Affx-34729416 XY  T  C  0.896423 0.835355000 0  0     7.61234e-01\n",
       "6 Affx-34734836 XY  G  A  0.189222 0.067742700 0  0     2.23538e-01"
      ]
     },
     "metadata": {},
     "output_type": "display_data"
    },
    {
     "data": {
      "text/html": [
       "<table>\n",
       "<thead><tr><th scope=col>SNP</th><th scope=col>CHR</th><th scope=col>A1</th><th scope=col>A2</th><th scope=col>MAF</th><th scope=col>F_MISS</th><th scope=col>LD</th><th scope=col>keep</th><th scope=col>HWE_P</th></tr></thead>\n",
       "<tbody>\n",
       "\t<tr><td>Affx-34464730</td><td>X            </td><td>A            </td><td>G            </td><td>0.821453     </td><td>0.000683898  </td><td>0            </td><td>0            </td><td>0.00000e+00  </td></tr>\n",
       "\t<tr><td>Affx-34470541</td><td>X            </td><td>T            </td><td>G            </td><td>0.998817     </td><td>0.001566410  </td><td>0            </td><td>0            </td><td>8.42647e-11  </td></tr>\n",
       "\t<tr><td>Affx-34480971</td><td>X            </td><td>A            </td><td>C            </td><td>0.987194     </td><td>0.010207300  </td><td>1            </td><td>1            </td><td>1.51841e-01  </td></tr>\n",
       "\t<tr><td>Affx-34492707</td><td>X            </td><td>T            </td><td>C            </td><td>0.988038     </td><td>0.002023030  </td><td>1            </td><td>1            </td><td>1.50668e-01  </td></tr>\n",
       "\t<tr><td>Affx-34492709</td><td>X            </td><td>G            </td><td>A            </td><td>0.224857     </td><td>0.000788325  </td><td>0            </td><td>0            </td><td>1.75749e-07  </td></tr>\n",
       "\t<tr><td>Affx-34494619</td><td>X            </td><td>C            </td><td>G            </td><td>0.767836     </td><td>0.001820320  </td><td>0            </td><td>0            </td><td>1.90858e-68  </td></tr>\n",
       "</tbody>\n",
       "</table>\n"
      ],
      "text/latex": [
       "\\begin{tabular}{r|lllllllll}\n",
       " SNP & CHR & A1 & A2 & MAF & F\\_MISS & LD & keep & HWE\\_P\\\\\n",
       "\\hline\n",
       "\t Affx-34464730 & X             & A             & G             & 0.821453      & 0.000683898   & 0             & 0             & 0.00000e+00  \\\\\n",
       "\t Affx-34470541 & X             & T             & G             & 0.998817      & 0.001566410   & 0             & 0             & 8.42647e-11  \\\\\n",
       "\t Affx-34480971 & X             & A             & C             & 0.987194      & 0.010207300   & 1             & 1             & 1.51841e-01  \\\\\n",
       "\t Affx-34492707 & X             & T             & C             & 0.988038      & 0.002023030   & 1             & 1             & 1.50668e-01  \\\\\n",
       "\t Affx-34492709 & X             & G             & A             & 0.224857      & 0.000788325   & 0             & 0             & 1.75749e-07  \\\\\n",
       "\t Affx-34494619 & X             & C             & G             & 0.767836      & 0.001820320   & 0             & 0             & 1.90858e-68  \\\\\n",
       "\\end{tabular}\n"
      ],
      "text/markdown": [
       "\n",
       "SNP | CHR | A1 | A2 | MAF | F_MISS | LD | keep | HWE_P | \n",
       "|---|---|---|---|---|---|\n",
       "| Affx-34464730 | X             | A             | G             | 0.821453      | 0.000683898   | 0             | 0             | 0.00000e+00   | \n",
       "| Affx-34470541 | X             | T             | G             | 0.998817      | 0.001566410   | 0             | 0             | 8.42647e-11   | \n",
       "| Affx-34480971 | X             | A             | C             | 0.987194      | 0.010207300   | 1             | 1             | 1.51841e-01   | \n",
       "| Affx-34492707 | X             | T             | C             | 0.988038      | 0.002023030   | 1             | 1             | 1.50668e-01   | \n",
       "| Affx-34492709 | X             | G             | A             | 0.224857      | 0.000788325   | 0             | 0             | 1.75749e-07   | \n",
       "| Affx-34494619 | X             | C             | G             | 0.767836      | 0.001820320   | 0             | 0             | 1.90858e-68   | \n",
       "\n",
       "\n"
      ],
      "text/plain": [
       "  SNP           CHR A1 A2 MAF      F_MISS      LD keep HWE_P      \n",
       "1 Affx-34464730 X   A  G  0.821453 0.000683898 0  0    0.00000e+00\n",
       "2 Affx-34470541 X   T  G  0.998817 0.001566410 0  0    8.42647e-11\n",
       "3 Affx-34480971 X   A  C  0.987194 0.010207300 1  1    1.51841e-01\n",
       "4 Affx-34492707 X   T  C  0.988038 0.002023030 1  1    1.50668e-01\n",
       "5 Affx-34492709 X   G  A  0.224857 0.000788325 0  0    1.75749e-07\n",
       "6 Affx-34494619 X   C  G  0.767836 0.001820320 0  0    1.90858e-68"
      ]
     },
     "metadata": {},
     "output_type": "display_data"
    }
   ],
   "source": [
    "cXY_h <- left_join(combinedXY2, cXY_hardy %>% select(ID, P), by=c(\"SNP\"=\"ID\")) %>% rename(HWE_P=P)\n",
    "head(cXY_h)\n",
    "\n",
    "cX_h <- left_join(combinedX2, cX_hardy %>% select(ID, P), by=c(\"SNP\"=\"ID\")) %>% rename(HWE_P=P)\n",
    "head(cX_h)\n"
   ]
  },
  {
   "cell_type": "code",
   "execution_count": 49,
   "metadata": {},
   "outputs": [],
   "source": [
    "cX_keep <- cX_h  %>% filter(LD == 1) %>% filter(MAF >= 0.01) %>% filter(F_MISS <=0.1) %>% filter(HWE_P <= (10**(-7)))\n",
    "cXY_keep <- cXY_h  %>% filter(LD == 1) %>% filter(MAF >= 0.01) %>% filter(F_MISS <=0.1) %>% filter(HWE_P <= (10**(-7)))\n"
   ]
  },
  {
   "cell_type": "code",
   "execution_count": 51,
   "metadata": {},
   "outputs": [
    {
     "data": {
      "text/html": [
       "2450"
      ],
      "text/latex": [
       "2450"
      ],
      "text/markdown": [
       "2450"
      ],
      "text/plain": [
       "[1] 2450"
      ]
     },
     "metadata": {},
     "output_type": "display_data"
    },
    {
     "data": {
      "text/html": [
       "279"
      ],
      "text/latex": [
       "279"
      ],
      "text/markdown": [
       "279"
      ],
      "text/plain": [
       "[1] 279"
      ]
     },
     "metadata": {},
     "output_type": "display_data"
    }
   ],
   "source": [
    "nrow(cX_keep)\n",
    "nrow(cXY_keep)\n",
    "\n",
    "head(cX_keep)"
   ]
  },
  {
   "cell_type": "code",
   "execution_count": 59,
   "metadata": {},
   "outputs": [],
   "source": [
    "vars.to.keep.all <- c(vars.to.keep$V1, cX_keep$SNP, cXY_keep$SNP)\n",
    "write_tsv(data.frame(vars.to.keep.all), sprintf(\"%s/snp_filt_list2_wX.txt\", DATA.DIR), col_names=FALSE)"
   ]
  },
  {
   "cell_type": "code",
   "execution_count": 60,
   "metadata": {},
   "outputs": [
    {
     "data": {
      "text/html": [
       "228780"
      ],
      "text/latex": [
       "228780"
      ],
      "text/markdown": [
       "228780"
      ],
      "text/plain": [
       "[1] 228780"
      ]
     },
     "metadata": {},
     "output_type": "display_data"
    }
   ],
   "source": [
    "length(vars.to.keep.all)"
   ]
  },
  {
   "cell_type": "code",
   "execution_count": 62,
   "metadata": {},
   "outputs": [
    {
     "data": {
      "text/html": [
       "228780"
      ],
      "text/latex": [
       "228780"
      ],
      "text/markdown": [
       "228780"
      ],
      "text/plain": [
       "[1] 228780"
      ]
     },
     "metadata": {},
     "output_type": "display_data"
    }
   ],
   "source": [
    "length(intersect(vars.to.keep.all, gwas.out$ID))"
   ]
  },
  {
   "cell_type": "markdown",
   "metadata": {},
   "source": [
    "### make sure read in and speed up works "
   ]
  },
  {
   "cell_type": "code",
   "execution_count": 66,
   "metadata": {},
   "outputs": [
    {
     "name": "stdout",
     "output_type": "stream",
     "text": [
      "[1] 2\n",
      "[1] 186175     12\n",
      "List of 3\n",
      " $ dat:List of 5\n",
      "  ..$ N : int 185340\n",
      "  ..$ M : int 2\n",
      "  ..$ B : num [1:185340, 1:2] 0.00702 0.00598 -0.000633 0.000558 0.005264 ...\n",
      "  ..$ SE: num [1:185340, 1:2] 1.06e-04 1.36e-05 1.51e-05 7.44e-05 2.59e-04 ...\n",
      "  ..$ K : num 2\n",
      " $ snp: Named chr [1:185340] \"rs34557243\" \"rs28494123\" \"rs55771472\" \"rs6644964\" ...\n",
      "  ..- attr(*, \"names\")= chr [1:185340] \"rs34557243\" \"rs28494123\" \"rs55771472\" \"rs6644964\" ...\n",
      " $ chr: Named chr [1:185340] \"XY\" \"XY\" \"XY\" \"XY\" ...\n",
      "  ..- attr(*, \"names\")= chr [1:185340] \"XY\" \"XY\" \"XY\" \"XY\" ...\n"
     ]
    }
   ],
   "source": [
    "source(\"../mixture_model_scripts/model_utils.R\")\n",
    "\n",
    "\n",
    "snps.to.keep <- read.table(sprintf(\"%s/snp_filt_list2_wX.txt\", DATA.FOLDER), header=FALSE, \n",
    "    colClasses=\"character\")\n",
    "\n",
    "QUANT.SE.CUTOFF <- 0.2\n",
    "\n",
    "loadDat <- function(trait){\n",
    "    require('data.table')\n",
    "\n",
    "    # for each trait\n",
    "    list.ds <- lapply(list.prefixes, function(prefix) {\n",
    "        dat.1 <- fread(sprintf(\"%s/ukb24983_v2_hg19.%s_%s.genotyped.glm.linear\", GWAS.DIR, trait, prefix), data.table=FALSE)\n",
    "        \n",
    "        colnames(dat.1)[1:3] <- c(\"CHR\", \"BP\", \"SNP\");\n",
    "        \n",
    "        rownames(dat.1) <- dat.1$SNP\n",
    "\n",
    "        # remove NAs\n",
    "        dat.2 <- dat.1[!is.na(dat.1$SE),]\n",
    "\n",
    "        # SE filter\n",
    "        dat.3 <- dat.2[dat.2$SE < QUANT.SE.CUTOFF,]\n",
    "\n",
    "        # MAF filter\n",
    "        dat.4 <- dat.3[dat.3$SNP %in% snps.to.keep$V1,]\n",
    "        return(dat.4)\n",
    "\n",
    "    })\n",
    "\n",
    "    list.ds2 <- extractOverlappingRows(list.ds)\n",
    "    # maybe keep the pvals? we seem to want these\n",
    "    stan.obj <- extractDataStanMulti(list.ds2)\n",
    "    return(stan.obj)\n",
    "}\n",
    "\n",
    "list.prefixes <- c(\"zerosex\", \"onesex\")\n",
    "dat <- loadDat(\"Testosterone\")\n",
    "str(dat, 2)"
   ]
  },
  {
   "cell_type": "code",
   "execution_count": null,
   "metadata": {},
   "outputs": [
    {
     "name": "stdout",
     "output_type": "stream",
     "text": [
      "[1] \"LEARNING PARAMS\"\n"
     ]
    }
   ],
   "source": [
    "DATA.OUT <- sprintf(\"%s/1015\", DATA.DIR)\n",
    "dat$dat$K <- 2\n",
    "    save(dat, file=sprintf(\"%s/dat_%s.RData\", DATA.OUT, trait))\n",
    "    fit1 <- stan(file = \"../mixture_model_scripts/models/model1_no_loglik.stan\",  \n",
    "    data = dat$dat,    \n",
    "    chains = 4, warmup = 100, iter = 100, cores = 4, refresh = 100)"
   ]
  },
  {
   "cell_type": "markdown",
   "metadata": {},
   "source": [
    "### GENERATED QUANTITIES"
   ]
  },
  {
   "cell_type": "code",
   "execution_count": null,
   "metadata": {
    "collapsed": true
   },
   "outputs": [],
   "source": []
  }
 ],
 "metadata": {
  "kernelspec": {
   "display_name": "R",
   "language": "R",
   "name": "ir"
  },
  "language_info": {
   "codemirror_mode": "r",
   "file_extension": ".r",
   "mimetype": "text/x-r-source",
   "name": "R",
   "pygments_lexer": "r",
   "version": "3.4.0"
  }
 },
 "nbformat": 4,
 "nbformat_minor": 2
}
