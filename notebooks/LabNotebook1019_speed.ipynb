{
 "cells": [
  {
   "cell_type": "code",
   "execution_count": 2,
   "metadata": {},
   "outputs": [
    {
     "data": {
      "text/plain": [
       "R version 3.4.0 (2017-04-21)\n",
       "Platform: x86_64-pc-linux-gnu (64-bit)\n",
       "Running under: CentOS Linux 7 (Core)\n",
       "\n",
       "Matrix products: default\n",
       "BLAS/LAPACK: /share/software/user/open/openblas/0.2.19/lib/libopenblasp-r0.2.19.so\n",
       "\n",
       "locale:\n",
       " [1] LC_CTYPE=en_US.UTF-8       LC_NUMERIC=C              \n",
       " [3] LC_TIME=en_US.UTF-8        LC_COLLATE=en_US.UTF-8    \n",
       " [5] LC_MONETARY=en_US.UTF-8    LC_MESSAGES=en_US.UTF-8   \n",
       " [7] LC_PAPER=en_US.UTF-8       LC_NAME=C                 \n",
       " [9] LC_ADDRESS=C               LC_TELEPHONE=C            \n",
       "[11] LC_MEASUREMENT=en_US.UTF-8 LC_IDENTIFICATION=C       \n",
       "\n",
       "attached base packages:\n",
       "[1] stats     graphics  grDevices utils     datasets  methods   base     \n",
       "\n",
       "other attached packages:\n",
       "[1] rstan_2.17.3       StanHeaders_2.17.2 ggplot2_2.2.1     \n",
       "\n",
       "loaded via a namespace (and not attached):\n",
       " [1] Rcpp_0.12.15         magrittr_1.5         munsell_0.4.3       \n",
       " [4] uuid_0.1-2           colorspace_1.3-2     rlang_0.2.0         \n",
       " [7] stringr_1.3.0        plyr_1.8.4           tools_3.4.0         \n",
       "[10] grid_3.4.0           gtable_0.2.0         htmltools_0.3.6     \n",
       "[13] lazyeval_0.2.1       digest_0.6.15        tibble_1.4.2        \n",
       "[16] crayon_1.3.4         gridExtra_2.3        IRdisplay_0.5.0     \n",
       "[19] repr_0.13            base64enc_0.1-3      IRkernel_0.8.12.9000\n",
       "[22] inline_0.3.14        evaluate_0.10.1      pbdZMQ_0.3-3        \n",
       "[25] stringi_1.1.6        pillar_1.2.1         compiler_3.4.0      \n",
       "[28] scales_0.5.0         stats4_3.4.0         jsonlite_1.5        "
      ]
     },
     "metadata": {},
     "output_type": "display_data"
    }
   ],
   "source": [
    "sessionInfo()"
   ]
  },
  {
   "cell_type": "code",
   "execution_count": 1,
   "metadata": {},
   "outputs": [
    {
     "name": "stderr",
     "output_type": "stream",
     "text": [
      "Loading required package: rstan\n",
      "Loading required package: ggplot2\n",
      "Loading required package: StanHeaders\n",
      "rstan (Version 2.17.3, GitRev: 2e1f913d3ca3)\n",
      "For execution on a local, multicore CPU with excess RAM we recommend calling\n",
      "options(mc.cores = parallel::detectCores()).\n",
      "To avoid recompilation of unchanged Stan programs, we recommend calling\n",
      "rstan_options(auto_write = TRUE)\n"
     ]
    }
   ],
   "source": [
    "require('rstan')"
   ]
  },
  {
   "cell_type": "code",
   "execution_count": 3,
   "metadata": {},
   "outputs": [
    {
     "name": "stderr",
     "output_type": "stream",
     "text": [
      "Loading required package: parallel\n"
     ]
    },
    {
     "data": {
      "text/html": [
       "20"
      ],
      "text/latex": [
       "20"
      ],
      "text/markdown": [
       "20"
      ],
      "text/plain": [
       "[1] 20"
      ]
     },
     "metadata": {},
     "output_type": "display_data"
    }
   ],
   "source": [
    "require('parallel')\n",
    "\n",
    "parallel::detectCores()\n",
    "m2 <- \"../mixture_model_scripts/models/model2.stan\""
   ]
  },
  {
   "cell_type": "code",
   "execution_count": 4,
   "metadata": {
    "collapsed": true
   },
   "outputs": [],
   "source": [
    "# read in a data file\n",
    "load(\"../data/1019//dat_whr.RData\")"
   ]
  },
  {
   "cell_type": "code",
   "execution_count": 5,
   "metadata": {},
   "outputs": [
    {
     "name": "stdout",
     "output_type": "stream",
     "text": [
      "List of 4\n",
      " $ dat:List of 5\n",
      "  ..$ N : int 337163\n",
      "  ..$ M : int 2\n",
      "  ..$ B : num [1:337163, 1:2] 0.00214 0.00344 0.00463 0.0212 0.03123 ...\n",
      "  ..$ SE: num [1:337163, 1:2] 1.35e-05 2.86e-05 1.14e-05 2.03e-04 2.79e-04 ...\n",
      "  ..$ K : num 2\n",
      " $ snp: Named chr [1:337163] \"rs6649864\" \"rs56328755\" \"rs28669107\" \"rs148672604\" ...\n",
      "  ..- attr(*, \"names\")= chr [1:337163] \"rs6649864\" \"rs56328755\" \"rs28669107\" \"rs148672604\" ...\n",
      " $ chr: Named chr [1:337163] \"XY\" \"XY\" \"XY\" \"XY\" ...\n",
      "  ..- attr(*, \"names\")= chr [1:337163] \"XY\" \"XY\" \"XY\" \"XY\" ...\n",
      " $ p  : num [1:337163, 1:2] 0.5611 0.5201 0.1705 0.1372 0.0615 ...\n"
     ]
    }
   ],
   "source": [
    "str(dat, 2)"
   ]
  },
  {
   "cell_type": "code",
   "execution_count": 6,
   "metadata": {},
   "outputs": [
    {
     "name": "stdout",
     "output_type": "stream",
     "text": [
      "List of 4\n",
      " $ dat:List of 5\n",
      "  ..$ N : num 16858\n",
      "  ..$ M : int 2\n",
      "  ..$ B : num [1:16858, 1:2] -0.0156 0.00449 -0.0262 0.00296 0.00424 ...\n",
      "  ..$ SE: num [1:16858, 1:2] 1.01e-04 2.11e-04 2.23e-04 2.92e-05 8.41e-05 ...\n",
      "  ..$ K : num 2\n",
      " $ snp: Named chr [1:16858] \"rs73162931\" \"rs61752170\" \"rs115203384\" \"rs76797889\" ...\n",
      "  ..- attr(*, \"names\")= chr [1:16858] \"rs73162931\" \"rs61752170\" \"rs115203384\" \"rs76797889\" ...\n",
      " $ chr: Named chr [1:16858] \"12\" \"2\" \"2\" \"10\" ...\n",
      "  ..- attr(*, \"names\")= chr [1:16858] \"12\" \"2\" \"2\" \"10\" ...\n",
      " $ p  : num [1:16858] 0.1213 0.7571 0.0792 0.5834 0.6434 ...\n"
     ]
    }
   ],
   "source": [
    "# smaller dataset\n",
    "\n",
    "# sample 1%\n",
    "set.seed(1019)\n",
    "new_n <- floor(dat$dat$N*0.05)\n",
    "idices <-sample(dat$dat$N, new_n, replace=FALSE)\n",
    "dat.sm <- dat\n",
    "dat.sm$dat$N <- new_n\n",
    "dat.sm$dat$B <- dat$dat$B[idices,]\n",
    "dat.sm$dat$SE <- dat$dat$SE[idices,]\n",
    "dat.sm$snp <- dat$snp[idices]\n",
    "dat.sm$chr <- dat$chr[idices]\n",
    "dat.sm$p <- dat$p[idices]\n",
    "str(dat.sm,2)"
   ]
  },
  {
   "cell_type": "code",
   "execution_count": null,
   "metadata": {},
   "outputs": [],
   "source": [
    "    dat.sm$dat$K <- 4\n",
    "\n",
    "    #print(parallel::detectCores())\n",
    "    #options(mc.cores = parallel::detectCores())\n",
    "    rstan_options(auto_write = TRUE)\n",
    "    fit2 <- stan(file = \"../mixture_model_scripts/models/model2.stan\",  \n",
    "            data = dat.sm$dat,    \n",
    "            chains = 1, warmup =200, iter = 600, cores = 4, refresh = 200)\n",
    "  \n",
    "    print(fit2, pars=c(\"sigmasq\", \"pi\", \"Sigma\"), probs=c(0.025, 0.5, 0.975), digits_summary=5)\n"
   ]
  },
  {
   "cell_type": "code",
   "execution_count": 15,
   "metadata": {},
   "outputs": [
    {
     "name": "stderr",
     "output_type": "stream",
     "text": [
      "Loading required package: tictoc\n"
     ]
    }
   ],
   "source": [
    "require('tictoc')"
   ]
  },
  {
   "cell_type": "code",
   "execution_count": 25,
   "metadata": {},
   "outputs": [
    {
     "ename": "ERROR",
     "evalue": "Error in packageVersion(\"StanHeaders\"): package ‘StanHeaders’ not found\n",
     "output_type": "error",
     "traceback": [
      "Error in packageVersion(\"StanHeaders\"): package ‘StanHeaders’ not found\nTraceback:\n",
      "1. stan(file = \"../mixture_model_scripts/models/model2.stan\", data = dat.sm$dat, \n .     chains = 1, warmup = 200, iter = 600, refresh = 200)",
      "2. stan_model(file, model_name = model_name, model_code = model_code, \n .     stanc_ret = NULL, boost_lib = boost_lib, eigen_lib = eigen_lib, \n .     save_dso = save_dso, verbose = verbose)",
      "3. packageVersion(\"StanHeaders\")",
      "4. stop(gettextf(\"package %s not found\", sQuote(pkg)), domain = NA)"
     ]
    }
   ],
   "source": [
    "    dat.sm$dat$K <- 4\n",
    "\n",
    "    #print(parallel::detectCores())\n",
    "    options(mc.cores = parallel::detectCores())\n",
    "    rstan_options(auto_write = TRUE)\n",
    "    fit2 <- stan(file = \"../mixture_model_scripts/models/model2.stan\",  \n",
    "            data = dat.sm$dat,    \n",
    "            chains = 1, warmup =200, iter = 600, refresh = 200)\n",
    "  \n",
    "    print(fit2, pars=c(\"sigmasq\", \"pi\", \"Sigma\"), probs=c(0.025, 0.5, 0.975), digits_summary=5)\n"
   ]
  },
  {
   "cell_type": "code",
   "execution_count": null,
   "metadata": {
    "collapsed": true
   },
   "outputs": [],
   "source": [
    "    dat.sm$dat$K <- 4\n",
    "\n",
    "    #print(parallel::detectCores())\n",
    "    #options(mc.cores = parallel::detectCores())\n",
    "    rstan_options(auto_write = TRUE)\n",
    "    fit2 <- stan(file = \"../mixture_model_scripts/models/model2_speed.stan\",  \n",
    "            data = dat.sm$dat,    \n",
    "            chains = 1, warmup =200, iter = 600, refresh = 200)\n",
    "  \n",
    "    print(fit2, pars=c(\"sigmasq\", \"pi\", \"Sigma\"), probs=c(0.025, 0.5, 0.975), digits_summary=5)\n"
   ]
  },
  {
   "cell_type": "code",
   "execution_count": 18,
   "metadata": {},
   "outputs": [
    {
     "data": {
      "text/html": [
       "'2.17.0'"
      ],
      "text/latex": [
       "'2.17.0'"
      ],
      "text/markdown": [
       "'2.17.0'"
      ],
      "text/plain": [
       "[1] \"2.17.0\""
      ]
     },
     "metadata": {},
     "output_type": "display_data"
    }
   ],
   "source": []
  },
  {
   "cell_type": "code",
   "execution_count": null,
   "metadata": {
    "collapsed": true
   },
   "outputs": [],
   "source": [
    "  dat.sm$dat$K <- 4\n",
    "\n",
    "    #print(parallel::detectCores())\n",
    "    options(mc.cores = parallel::detectCores())\n",
    "    rstan_options(auto_write = TRUE)\n",
    "    fit2 <- stan(file = \"../mixture_model_scripts/models/old_models/model2_v2.stan\",  \n",
    "            data = dat.sm$dat,    \n",
    "            chains = 1, warmup =200, iter = 600, refresh = 200)\n",
    "  \n",
    "    print(fit2, pars=c(\"sigmasq\", \"pi\", \"Sigma\"), probs=c(0.025, 0.5, 0.975), digits_summary=5)\n"
   ]
  }
 ],
 "metadata": {
  "kernelspec": {
   "display_name": "R",
   "language": "R",
   "name": "ir"
  },
  "language_info": {
   "codemirror_mode": "r",
   "file_extension": ".r",
   "mimetype": "text/x-r-source",
   "name": "R",
   "pygments_lexer": "r",
   "version": "3.4.0"
  }
 },
 "nbformat": 4,
 "nbformat_minor": 2
}
