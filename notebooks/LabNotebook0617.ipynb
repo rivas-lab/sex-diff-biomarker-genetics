{
 "cells": [
  {
   "cell_type": "code",
   "execution_count": 1,
   "metadata": {},
   "outputs": [
    {
     "name": "stderr",
     "output_type": "stream",
     "text": [
      "Loading required package: tidyverse\n",
      "── Attaching packages ─────────────────────────────────────── tidyverse 1.2.1 ──\n",
      "✔ ggplot2 2.2.1     ✔ purrr   0.2.4\n",
      "✔ tibble  1.4.2     ✔ dplyr   0.7.4\n",
      "✔ tidyr   0.8.1     ✔ stringr 1.3.0\n",
      "✔ readr   1.1.1     ✔ forcats 0.3.0\n",
      "── Conflicts ────────────────────────────────────────── tidyverse_conflicts() ──\n",
      "✖ dplyr::filter() masks stats::filter()\n",
      "✖ dplyr::lag()    masks stats::lag()\n"
     ]
    }
   ],
   "source": [
    "require('tidyverse')"
   ]
  },
  {
   "cell_type": "code",
   "execution_count": 1,
   "metadata": {
    "collapsed": true
   },
   "outputs": [],
   "source": [
    "# goal - test out code to reduce number to run\n",
    "\n",
    "load(\"../data/biomarker/m4/dat_full/dat_Testosterone.RData\")\n",
    "\n",
    "tmp <- dat$dat$B/dat$dat$SE\n",
    "\n",
    "# 2*pnorm(-abs(z))\n",
    "\n",
    "# Get rid of if BOTH pvalues are > 10^-5\n",
    "tmp2 <- apply(tmp, c(1,2), function(z) 2*pnorm(-abs(z)))\n",
    "tmp2 <- data.frame(tmp2)\n",
    "colnames(tmp2) <- c(\"F\", \"M\")\n"
   ]
  },
  {
   "cell_type": "code",
   "execution_count": 3,
   "metadata": {},
   "outputs": [
    {
     "data": {
      "text/html": [
       "<table>\n",
       "<thead><tr><th scope=col>F</th><th scope=col>M</th></tr></thead>\n",
       "<tbody>\n",
       "\t<tr><td>3.009618e-07</td><td>2.212249e-01</td></tr>\n",
       "\t<tr><td>0.000000e+00</td><td>0.000000e+00</td></tr>\n",
       "\t<tr><td>0.000000e+00</td><td>0.000000e+00</td></tr>\n",
       "\t<tr><td>0.000000e+00</td><td>2.961341e-18</td></tr>\n",
       "\t<tr><td>6.068810e-51</td><td>1.067888e-10</td></tr>\n",
       "\t<tr><td>7.433056e-02</td><td>0.000000e+00</td></tr>\n",
       "</tbody>\n",
       "</table>\n"
      ],
      "text/latex": [
       "\\begin{tabular}{r|ll}\n",
       " F & M\\\\\n",
       "\\hline\n",
       "\t 3.009618e-07 & 2.212249e-01\\\\\n",
       "\t 0.000000e+00 & 0.000000e+00\\\\\n",
       "\t 0.000000e+00 & 0.000000e+00\\\\\n",
       "\t 0.000000e+00 & 2.961341e-18\\\\\n",
       "\t 6.068810e-51 & 1.067888e-10\\\\\n",
       "\t 7.433056e-02 & 0.000000e+00\\\\\n",
       "\\end{tabular}\n"
      ],
      "text/markdown": [
       "\n",
       "F | M | \n",
       "|---|---|---|---|---|---|\n",
       "| 3.009618e-07 | 2.212249e-01 | \n",
       "| 0.000000e+00 | 0.000000e+00 | \n",
       "| 0.000000e+00 | 0.000000e+00 | \n",
       "| 0.000000e+00 | 2.961341e-18 | \n",
       "| 6.068810e-51 | 1.067888e-10 | \n",
       "| 7.433056e-02 | 0.000000e+00 | \n",
       "\n",
       "\n"
      ],
      "text/plain": [
       "  F            M           \n",
       "1 3.009618e-07 2.212249e-01\n",
       "2 0.000000e+00 0.000000e+00\n",
       "3 0.000000e+00 0.000000e+00\n",
       "4 0.000000e+00 2.961341e-18\n",
       "5 6.068810e-51 1.067888e-10\n",
       "6 7.433056e-02 0.000000e+00"
      ]
     },
     "metadata": {},
     "output_type": "display_data"
    },
    {
     "data": {
      "text/plain": [
       "keep.rows\n",
       " FALSE   TRUE \n",
       "  7377 321317 "
      ]
     },
     "metadata": {},
     "output_type": "display_data"
    }
   ],
   "source": [
    "head(tmp2)\n",
    "keep.rows <- (tmp2$F < (10**(-10)) | tmp2$M < (10**(-10)) )\n",
    "table(keep.rows)"
   ]
  },
  {
   "cell_type": "code",
   "execution_count": 4,
   "metadata": {},
   "outputs": [
    {
     "data": {
      "text/html": [
       "321317"
      ],
      "text/latex": [
       "321317"
      ],
      "text/markdown": [
       "321317"
      ],
      "text/plain": [
       "[1] 321317"
      ]
     },
     "metadata": {},
     "output_type": "display_data"
    }
   ],
   "source": [
    "dat2 <- dat\n",
    "dat2$chr <- dat$chr[keep.rows]\n",
    "dat2$snp <- dat$snp[keep.rows]\n",
    "\n",
    "dat2$dat$B <- dat$dat$B[keep.rows,]\n",
    "dat2$dat$SE <- dat$dat$SE[keep.rows,]\n",
    "dat2$dat$N <- nrow(dat2$dat$B)\n",
    "dat2$dat$N"
   ]
  },
  {
   "cell_type": "code",
   "execution_count": null,
   "metadata": {
    "collapsed": true
   },
   "outputs": [],
   "source": [
    "# this doesn't make sense - there should be\n",
    "# I think the pval calc is WRONG"
   ]
  },
  {
   "cell_type": "code",
   "execution_count": 2,
   "metadata": {},
   "outputs": [
    {
     "name": "stderr",
     "output_type": "stream",
     "text": [
      "Loading required package: MASS\n",
      "\n",
      "Attaching package: ‘MASS’\n",
      "\n",
      "The following object is masked from ‘package:dplyr’:\n",
      "\n",
      "    select\n",
      "\n",
      "Loading required package: Matrix\n",
      "\n",
      "Attaching package: ‘Matrix’\n",
      "\n",
      "The following object is masked from ‘package:tidyr’:\n",
      "\n",
      "    expand\n",
      "\n",
      "Loading required package: mnormt\n",
      "Loading required package: qqman\n",
      "\n",
      "For example usage please run: vignette('qqman')\n",
      "\n",
      "Citation appreciated but not required:\n",
      "Turner, S.D. qqman: an R package for visualizing GWAS results using Q-Q and manhattan plots. biorXiv DOI: 10.1101/005165 (2014).\n",
      "\n",
      "Loading required package: rstan\n",
      "Loading required package: StanHeaders\n",
      "rstan (Version 2.17.3, GitRev: 2e1f913d3ca3)\n",
      "For execution on a local, multicore CPU with excess RAM we recommend calling\n",
      "options(mc.cores = parallel::detectCores()).\n",
      "To avoid recompilation of unchanged Stan programs, we recommend calling\n",
      "rstan_options(auto_write = TRUE)\n",
      "\n",
      "Attaching package: ‘rstan’\n",
      "\n",
      "The following object is masked from ‘package:tidyr’:\n",
      "\n",
      "    extract\n",
      "\n"
     ]
    }
   ],
   "source": [
    "# load the data ANOTHER WAY\n",
    "\n",
    "source('../mixture_model_scripts/model_utils.R')\n",
    "list.prefixes <- c(\"zerosex\", \"onesex\")\n",
    "trait <- \"Testosterone\"\n",
    "chrs <- c(1:22)\n",
    "    # for each trait\n",
    "    list.ds <- lapply(list.prefixes, function(prefix) {\n",
    "        all.dat <- do.call(rbind, lapply(chrs, function(chr) { getFile(prefix, chr, trait)}));\n",
    "        colnames(all.dat)[1:3] <- c(\"CHR\", \"BP\", \"SNP\");\n",
    "        return(all.dat)\n",
    "    })\n",
    "\n",
    "    \n",
    "\n",
    "\n",
    "\n",
    "\n"
   ]
  },
  {
   "cell_type": "code",
   "execution_count": 3,
   "metadata": {},
   "outputs": [
    {
     "name": "stdout",
     "output_type": "stream",
     "text": [
      "[1] 2\n",
      "[1] 329035     11\n"
     ]
    }
   ],
   "source": [
    "list.ds2 <- extractOverlappingRows(list.ds)\n",
    "      df.f <- list.ds2[[1]]\n",
    "        df.m <- list.ds2[[2]]"
   ]
  },
  {
   "cell_type": "code",
   "execution_count": null,
   "metadata": {
    "collapsed": true
   },
   "outputs": [],
   "source": []
  },
  {
   "cell_type": "code",
   "execution_count": 4,
   "metadata": {},
   "outputs": [
    {
     "data": {
      "text/html": [
       "<table>\n",
       "<thead><tr><th></th><th scope=col>SNP</th><th scope=col>CHR</th><th scope=col>BP</th><th scope=col>B_f</th><th scope=col>SE_f</th><th scope=col>p_f</th><th scope=col>B_m</th><th scope=col>SE_m</th><th scope=col>p_m</th></tr></thead>\n",
       "<tbody>\n",
       "\t<tr><th scope=row>rs115991721</th><td>rs115991721</td><td>1          </td><td>767096     </td><td>-0.04929030</td><td>0.09809010 </td><td>0.615317   </td><td> 0.00913675</td><td>0.08642380 </td><td>0.915804   </td></tr>\n",
       "\t<tr><th scope=row>rs12562034</th><td>rs12562034 </td><td>1          </td><td>768448     </td><td> 0.00595368</td><td>0.00659927 </td><td>0.366967   </td><td> 0.00231048</td><td>0.00601416 </td><td>0.700850   </td></tr>\n",
       "\t<tr><th scope=row>rs4040617</th><td>rs4040617  </td><td>1          </td><td>779322     </td><td> 0.00291276</td><td>0.00605116 </td><td>0.630264   </td><td>-0.00166106</td><td>0.00556517 </td><td>0.765342   </td></tr>\n",
       "\t<tr><th scope=row>rs79373928</th><td>rs79373928 </td><td>1          </td><td>801536     </td><td> 0.01606610</td><td>0.01668820 </td><td>0.335688   </td><td>-0.00200901</td><td>0.01518480 </td><td>0.894744   </td></tr>\n",
       "\t<tr><th scope=row>rs59771807</th><td>rs59771807 </td><td>1          </td><td>813034     </td><td> 0.15813300</td><td>0.10263200 </td><td>0.123375   </td><td>-0.06212560</td><td>0.09808880 </td><td>0.526499   </td></tr>\n",
       "\t<tr><th scope=row>rs116452738</th><td>rs116452738</td><td>1          </td><td>834830     </td><td> 0.00105451</td><td>0.02430850 </td><td>0.965398   </td><td>-0.03352250</td><td>0.02275460 </td><td>0.140694   </td></tr>\n",
       "</tbody>\n",
       "</table>\n"
      ],
      "text/latex": [
       "\\begin{tabular}{r|lllllllll}\n",
       "  & SNP & CHR & BP & B\\_f & SE\\_f & p\\_f & B\\_m & SE\\_m & p\\_m\\\\\n",
       "\\hline\n",
       "\trs115991721 & rs115991721 & 1           & 767096      & -0.04929030 & 0.09809010  & 0.615317    &  0.00913675 & 0.08642380  & 0.915804   \\\\\n",
       "\trs12562034 & rs12562034  & 1           & 768448      &  0.00595368 & 0.00659927  & 0.366967    &  0.00231048 & 0.00601416  & 0.700850   \\\\\n",
       "\trs4040617 & rs4040617   & 1           & 779322      &  0.00291276 & 0.00605116  & 0.630264    & -0.00166106 & 0.00556517  & 0.765342   \\\\\n",
       "\trs79373928 & rs79373928  & 1           & 801536      &  0.01606610 & 0.01668820  & 0.335688    & -0.00200901 & 0.01518480  & 0.894744   \\\\\n",
       "\trs59771807 & rs59771807  & 1           & 813034      &  0.15813300 & 0.10263200  & 0.123375    & -0.06212560 & 0.09808880  & 0.526499   \\\\\n",
       "\trs116452738 & rs116452738 & 1           & 834830      &  0.00105451 & 0.02430850  & 0.965398    & -0.03352250 & 0.02275460  & 0.140694   \\\\\n",
       "\\end{tabular}\n"
      ],
      "text/markdown": [
       "\n",
       "| <!--/--> | SNP | CHR | BP | B_f | SE_f | p_f | B_m | SE_m | p_m | \n",
       "|---|---|---|---|---|---|\n",
       "| rs115991721 | rs115991721 | 1           | 767096      | -0.04929030 | 0.09809010  | 0.615317    |  0.00913675 | 0.08642380  | 0.915804    | \n",
       "| rs12562034 | rs12562034  | 1           | 768448      |  0.00595368 | 0.00659927  | 0.366967    |  0.00231048 | 0.00601416  | 0.700850    | \n",
       "| rs4040617 | rs4040617   | 1           | 779322      |  0.00291276 | 0.00605116  | 0.630264    | -0.00166106 | 0.00556517  | 0.765342    | \n",
       "| rs79373928 | rs79373928  | 1           | 801536      |  0.01606610 | 0.01668820  | 0.335688    | -0.00200901 | 0.01518480  | 0.894744    | \n",
       "| rs59771807 | rs59771807  | 1           | 813034      |  0.15813300 | 0.10263200  | 0.123375    | -0.06212560 | 0.09808880  | 0.526499    | \n",
       "| rs116452738 | rs116452738 | 1           | 834830      |  0.00105451 | 0.02430850  | 0.965398    | -0.03352250 | 0.02275460  | 0.140694    | \n",
       "\n",
       "\n"
      ],
      "text/plain": [
       "            SNP         CHR BP     B_f         SE_f       p_f      B_m        \n",
       "rs115991721 rs115991721 1   767096 -0.04929030 0.09809010 0.615317  0.00913675\n",
       "rs12562034  rs12562034  1   768448  0.00595368 0.00659927 0.366967  0.00231048\n",
       "rs4040617   rs4040617   1   779322  0.00291276 0.00605116 0.630264 -0.00166106\n",
       "rs79373928  rs79373928  1   801536  0.01606610 0.01668820 0.335688 -0.00200901\n",
       "rs59771807  rs59771807  1   813034  0.15813300 0.10263200 0.123375 -0.06212560\n",
       "rs116452738 rs116452738 1   834830  0.00105451 0.02430850 0.965398 -0.03352250\n",
       "            SE_m       p_m     \n",
       "rs115991721 0.08642380 0.915804\n",
       "rs12562034  0.00601416 0.700850\n",
       "rs4040617   0.00556517 0.765342\n",
       "rs79373928  0.01518480 0.894744\n",
       "rs59771807  0.09808880 0.526499\n",
       "rs116452738 0.02275460 0.140694"
      ]
     },
     "metadata": {},
     "output_type": "display_data"
    }
   ],
   "source": [
    "both.snps <- cbind(df.f[df.f$SNP  ,c(\"SNP\", \"CHR\", \"BP\", \"BETA\",\"SE\", \"P\")], \n",
    "             df.m[df.m$SNP ,c(\"BETA\",\"SE\", \"P\")])\n",
    "            colnames(both.snps) <- c(\"SNP\", \"CHR\", \"BP\", \"B_f\", \"SE_f\", \"p_f\", \"B_m\", \"SE_m\", \"p_m\")\n",
    "head(both.snps)"
   ]
  },
  {
   "cell_type": "code",
   "execution_count": null,
   "metadata": {
    "collapsed": true
   },
   "outputs": [],
   "source": []
  },
  {
   "cell_type": "code",
   "execution_count": 5,
   "metadata": {},
   "outputs": [
    {
     "data": {
      "text/html": [
       "<table>\n",
       "<thead><tr><th scope=col>SNP</th><th scope=col>CHR</th><th scope=col>BP</th><th scope=col>B_f</th><th scope=col>SE_f</th><th scope=col>p_f</th><th scope=col>B_m</th><th scope=col>SE_m</th><th scope=col>p_m</th></tr></thead>\n",
       "<tbody>\n",
       "\t<tr><td>rs2710887   </td><td>1           </td><td> 986443     </td><td>-0.00557852 </td><td>0.00725272  </td><td>0.44179800  </td><td> 0.018644400</td><td>0.00665174  </td><td>0.00506460  </td></tr>\n",
       "\t<tr><td>rs144555782 </td><td>1           </td><td>1246390     </td><td> 0.14681700 </td><td>0.04597230  </td><td>0.00140547  </td><td> 0.040715600</td><td>0.04203310  </td><td>0.33271900  </td></tr>\n",
       "\t<tr><td>rs149099807 </td><td>1           </td><td>1268388     </td><td> 0.00796375 </td><td>0.06092000  </td><td>0.89599300  </td><td> 0.163533000</td><td>0.05787490  </td><td>0.00471936  </td></tr>\n",
       "\t<tr><td>rs9439458   </td><td>1           </td><td>1451380     </td><td>-0.01818210 </td><td>0.00602515  </td><td>0.00254758  </td><td> 0.000755637</td><td>0.00550855  </td><td>0.89089300  </td></tr>\n",
       "\t<tr><td>rs146206869 </td><td>1           </td><td>1470807     </td><td> 0.03013390 </td><td>0.01078590  </td><td>0.00520961  </td><td>-0.006130410</td><td>0.00984640  </td><td>0.53354600  </td></tr>\n",
       "\t<tr><td>rs3766176   </td><td>1           </td><td>1486903     </td><td> 0.00856439 </td><td>0.00475785  </td><td>0.07185470  </td><td> 0.012437500</td><td>0.00435160  </td><td>0.00426185  </td></tr>\n",
       "</tbody>\n",
       "</table>\n"
      ],
      "text/latex": [
       "\\begin{tabular}{r|lllllllll}\n",
       " SNP & CHR & BP & B\\_f & SE\\_f & p\\_f & B\\_m & SE\\_m & p\\_m\\\\\n",
       "\\hline\n",
       "\t rs2710887    & 1            &  986443      & -0.00557852  & 0.00725272   & 0.44179800   &  0.018644400 & 0.00665174   & 0.00506460  \\\\\n",
       "\t rs144555782  & 1            & 1246390      &  0.14681700  & 0.04597230   & 0.00140547   &  0.040715600 & 0.04203310   & 0.33271900  \\\\\n",
       "\t rs149099807  & 1            & 1268388      &  0.00796375  & 0.06092000   & 0.89599300   &  0.163533000 & 0.05787490   & 0.00471936  \\\\\n",
       "\t rs9439458    & 1            & 1451380      & -0.01818210  & 0.00602515   & 0.00254758   &  0.000755637 & 0.00550855   & 0.89089300  \\\\\n",
       "\t rs146206869  & 1            & 1470807      &  0.03013390  & 0.01078590   & 0.00520961   & -0.006130410 & 0.00984640   & 0.53354600  \\\\\n",
       "\t rs3766176    & 1            & 1486903      &  0.00856439  & 0.00475785   & 0.07185470   &  0.012437500 & 0.00435160   & 0.00426185  \\\\\n",
       "\\end{tabular}\n"
      ],
      "text/markdown": [
       "\n",
       "SNP | CHR | BP | B_f | SE_f | p_f | B_m | SE_m | p_m | \n",
       "|---|---|---|---|---|---|\n",
       "| rs2710887    | 1            |  986443      | -0.00557852  | 0.00725272   | 0.44179800   |  0.018644400 | 0.00665174   | 0.00506460   | \n",
       "| rs144555782  | 1            | 1246390      |  0.14681700  | 0.04597230   | 0.00140547   |  0.040715600 | 0.04203310   | 0.33271900   | \n",
       "| rs149099807  | 1            | 1268388      |  0.00796375  | 0.06092000   | 0.89599300   |  0.163533000 | 0.05787490   | 0.00471936   | \n",
       "| rs9439458    | 1            | 1451380      | -0.01818210  | 0.00602515   | 0.00254758   |  0.000755637 | 0.00550855   | 0.89089300   | \n",
       "| rs146206869  | 1            | 1470807      |  0.03013390  | 0.01078590   | 0.00520961   | -0.006130410 | 0.00984640   | 0.53354600   | \n",
       "| rs3766176    | 1            | 1486903      |  0.00856439  | 0.00475785   | 0.07185470   |  0.012437500 | 0.00435160   | 0.00426185   | \n",
       "\n",
       "\n"
      ],
      "text/plain": [
       "  SNP         CHR BP      B_f         SE_f       p_f        B_m         \n",
       "1 rs2710887   1    986443 -0.00557852 0.00725272 0.44179800  0.018644400\n",
       "2 rs144555782 1   1246390  0.14681700 0.04597230 0.00140547  0.040715600\n",
       "3 rs149099807 1   1268388  0.00796375 0.06092000 0.89599300  0.163533000\n",
       "4 rs9439458   1   1451380 -0.01818210 0.00602515 0.00254758  0.000755637\n",
       "5 rs146206869 1   1470807  0.03013390 0.01078590 0.00520961 -0.006130410\n",
       "6 rs3766176   1   1486903  0.00856439 0.00475785 0.07185470  0.012437500\n",
       "  SE_m       p_m       \n",
       "1 0.00665174 0.00506460\n",
       "2 0.04203310 0.33271900\n",
       "3 0.05787490 0.00471936\n",
       "4 0.00550855 0.89089300\n",
       "5 0.00984640 0.53354600\n",
       "6 0.00435160 0.00426185"
      ]
     },
     "metadata": {},
     "output_type": "display_data"
    },
    {
     "data": {
      "text/html": [
       "<ol class=list-inline>\n",
       "\t<li>328694</li>\n",
       "\t<li>9</li>\n",
       "</ol>\n"
      ],
      "text/latex": [
       "\\begin{enumerate*}\n",
       "\\item 328694\n",
       "\\item 9\n",
       "\\end{enumerate*}\n"
      ],
      "text/markdown": [
       "1. 328694\n",
       "2. 9\n",
       "\n",
       "\n"
      ],
      "text/plain": [
       "[1] 328694      9"
      ]
     },
     "metadata": {},
     "output_type": "display_data"
    },
    {
     "data": {
      "text/html": [
       "<ol class=list-inline>\n",
       "\t<li>10582</li>\n",
       "\t<li>9</li>\n",
       "</ol>\n"
      ],
      "text/latex": [
       "\\begin{enumerate*}\n",
       "\\item 10582\n",
       "\\item 9\n",
       "\\end{enumerate*}\n"
      ],
      "text/markdown": [
       "1. 10582\n",
       "2. 9\n",
       "\n",
       "\n"
      ],
      "text/plain": [
       "[1] 10582     9"
      ]
     },
     "metadata": {},
     "output_type": "display_data"
    },
    {
     "data": {
      "text/html": [
       "<ol class=list-inline>\n",
       "\t<li>318112</li>\n",
       "\t<li>9</li>\n",
       "</ol>\n"
      ],
      "text/latex": [
       "\\begin{enumerate*}\n",
       "\\item 318112\n",
       "\\item 9\n",
       "\\end{enumerate*}\n"
      ],
      "text/markdown": [
       "1. 318112\n",
       "2. 9\n",
       "\n",
       "\n"
      ],
      "text/plain": [
       "[1] 318112      9"
      ]
     },
     "metadata": {},
     "output_type": "display_data"
    },
    {
     "data": {
      "text/html": [
       "<table>\n",
       "<thead><tr><th scope=col>SNP</th><th scope=col>CHR</th><th scope=col>BP</th><th scope=col>B_f</th><th scope=col>SE_f</th><th scope=col>p_f</th><th scope=col>B_m</th><th scope=col>SE_m</th><th scope=col>p_m</th></tr></thead>\n",
       "<tbody>\n",
       "\t<tr><td>rs115991721</td><td>1          </td><td>767096     </td><td>-0.04929030</td><td>0.09809010 </td><td>0.615317   </td><td> 0.00913675</td><td>0.08642380 </td><td>0.915804   </td></tr>\n",
       "\t<tr><td>rs12562034 </td><td>1          </td><td>768448     </td><td> 0.00595368</td><td>0.00659927 </td><td>0.366967   </td><td> 0.00231048</td><td>0.00601416 </td><td>0.700850   </td></tr>\n",
       "\t<tr><td>rs4040617  </td><td>1          </td><td>779322     </td><td> 0.00291276</td><td>0.00605116 </td><td>0.630264   </td><td>-0.00166106</td><td>0.00556517 </td><td>0.765342   </td></tr>\n",
       "\t<tr><td>rs79373928 </td><td>1          </td><td>801536     </td><td> 0.01606610</td><td>0.01668820 </td><td>0.335688   </td><td>-0.00200901</td><td>0.01518480 </td><td>0.894744   </td></tr>\n",
       "\t<tr><td>rs59771807 </td><td>1          </td><td>813034     </td><td> 0.15813300</td><td>0.10263200 </td><td>0.123375   </td><td>-0.06212560</td><td>0.09808880 </td><td>0.526499   </td></tr>\n",
       "\t<tr><td>rs116452738</td><td>1          </td><td>834830     </td><td> 0.00105451</td><td>0.02430850 </td><td>0.965398   </td><td>-0.03352250</td><td>0.02275460 </td><td>0.140694   </td></tr>\n",
       "</tbody>\n",
       "</table>\n"
      ],
      "text/latex": [
       "\\begin{tabular}{r|lllllllll}\n",
       " SNP & CHR & BP & B\\_f & SE\\_f & p\\_f & B\\_m & SE\\_m & p\\_m\\\\\n",
       "\\hline\n",
       "\t rs115991721 & 1           & 767096      & -0.04929030 & 0.09809010  & 0.615317    &  0.00913675 & 0.08642380  & 0.915804   \\\\\n",
       "\t rs12562034  & 1           & 768448      &  0.00595368 & 0.00659927  & 0.366967    &  0.00231048 & 0.00601416  & 0.700850   \\\\\n",
       "\t rs4040617   & 1           & 779322      &  0.00291276 & 0.00605116  & 0.630264    & -0.00166106 & 0.00556517  & 0.765342   \\\\\n",
       "\t rs79373928  & 1           & 801536      &  0.01606610 & 0.01668820  & 0.335688    & -0.00200901 & 0.01518480  & 0.894744   \\\\\n",
       "\t rs59771807  & 1           & 813034      &  0.15813300 & 0.10263200  & 0.123375    & -0.06212560 & 0.09808880  & 0.526499   \\\\\n",
       "\t rs116452738 & 1           & 834830      &  0.00105451 & 0.02430850  & 0.965398    & -0.03352250 & 0.02275460  & 0.140694   \\\\\n",
       "\\end{tabular}\n"
      ],
      "text/markdown": [
       "\n",
       "SNP | CHR | BP | B_f | SE_f | p_f | B_m | SE_m | p_m | \n",
       "|---|---|---|---|---|---|\n",
       "| rs115991721 | 1           | 767096      | -0.04929030 | 0.09809010  | 0.615317    |  0.00913675 | 0.08642380  | 0.915804    | \n",
       "| rs12562034  | 1           | 768448      |  0.00595368 | 0.00659927  | 0.366967    |  0.00231048 | 0.00601416  | 0.700850    | \n",
       "| rs4040617   | 1           | 779322      |  0.00291276 | 0.00605116  | 0.630264    | -0.00166106 | 0.00556517  | 0.765342    | \n",
       "| rs79373928  | 1           | 801536      |  0.01606610 | 0.01668820  | 0.335688    | -0.00200901 | 0.01518480  | 0.894744    | \n",
       "| rs59771807  | 1           | 813034      |  0.15813300 | 0.10263200  | 0.123375    | -0.06212560 | 0.09808880  | 0.526499    | \n",
       "| rs116452738 | 1           | 834830      |  0.00105451 | 0.02430850  | 0.965398    | -0.03352250 | 0.02275460  | 0.140694    | \n",
       "\n",
       "\n"
      ],
      "text/plain": [
       "  SNP         CHR BP     B_f         SE_f       p_f      B_m         SE_m      \n",
       "1 rs115991721 1   767096 -0.04929030 0.09809010 0.615317  0.00913675 0.08642380\n",
       "2 rs12562034  1   768448  0.00595368 0.00659927 0.366967  0.00231048 0.00601416\n",
       "3 rs4040617   1   779322  0.00291276 0.00605116 0.630264 -0.00166106 0.00556517\n",
       "4 rs79373928  1   801536  0.01606610 0.01668820 0.335688 -0.00200901 0.01518480\n",
       "5 rs59771807  1   813034  0.15813300 0.10263200 0.123375 -0.06212560 0.09808880\n",
       "6 rs116452738 1   834830  0.00105451 0.02430850 0.965398 -0.03352250 0.02275460\n",
       "  p_m     \n",
       "1 0.915804\n",
       "2 0.700850\n",
       "3 0.765342\n",
       "4 0.894744\n",
       "5 0.526499\n",
       "6 0.140694"
      ]
     },
     "metadata": {},
     "output_type": "display_data"
    }
   ],
   "source": [
    "filt <- filter(both.snps,(p_f < 10**-2) | (p_m < 10**-2))\n",
    "null <- filter(both.snps,(p_f > 10**-2) & (p_m > 10**-2))\n",
    "\n",
    "head(filt)\n",
    "dim(both.snps)\n",
    "dim(filt)\n",
    "dim(null)\n",
    "head(null)\n",
    "\n",
    "# select 20% NULL SNPs"
   ]
  },
  {
   "cell_type": "code",
   "execution_count": 11,
   "metadata": {},
   "outputs": [
    {
     "data": {
      "text/html": [
       "2646"
      ],
      "text/latex": [
       "2646"
      ],
      "text/markdown": [
       "2646"
      ],
      "text/plain": [
       "[1] 2646"
      ]
     },
     "metadata": {},
     "output_type": "display_data"
    }
   ],
   "source": [
    "num_null <- ceiling((nrow(filt)/0.8)*0.2)\n",
    "num_null\n",
    "\n",
    "null_sel <- null[sample(nrow(null), num_null, replace=FALSE),]\n",
    "list_snps <- c(null_sel$SNP, filt$SNP)"
   ]
  },
  {
   "cell_type": "code",
   "execution_count": 12,
   "metadata": {},
   "outputs": [
    {
     "data": {
      "text/html": [
       "<ol class=list-inline>\n",
       "\t<li>'rs1938088'</li>\n",
       "\t<li>'rs62186390'</li>\n",
       "\t<li>'rs116164814'</li>\n",
       "\t<li>'rs7336321'</li>\n",
       "\t<li>'rs12936744'</li>\n",
       "\t<li>'rs2439413'</li>\n",
       "</ol>\n"
      ],
      "text/latex": [
       "\\begin{enumerate*}\n",
       "\\item 'rs1938088'\n",
       "\\item 'rs62186390'\n",
       "\\item 'rs116164814'\n",
       "\\item 'rs7336321'\n",
       "\\item 'rs12936744'\n",
       "\\item 'rs2439413'\n",
       "\\end{enumerate*}\n"
      ],
      "text/markdown": [
       "1. 'rs1938088'\n",
       "2. 'rs62186390'\n",
       "3. 'rs116164814'\n",
       "4. 'rs7336321'\n",
       "5. 'rs12936744'\n",
       "6. 'rs2439413'\n",
       "\n",
       "\n"
      ],
      "text/plain": [
       "[1] \"rs1938088\"   \"rs62186390\"  \"rs116164814\" \"rs7336321\"   \"rs12936744\" \n",
       "[6] \"rs2439413\"  "
      ]
     },
     "metadata": {},
     "output_type": "display_data"
    }
   ],
   "source": [
    "head(list_snps)"
   ]
  },
  {
   "cell_type": "code",
   "execution_count": null,
   "metadata": {
    "collapsed": true
   },
   "outputs": [],
   "source": [
    "list.filt <- list(\"1\"=filter(df.f, SNP %in% list_snps), \"2\"=filter(df.m, SNP %in% list_snps))\n",
    "stan.obj <- extractDataStanMulti(list.filt)\n"
   ]
  },
  {
   "cell_type": "markdown",
   "metadata": {},
   "source": [
    "# Looking at M4 output"
   ]
  },
  {
   "cell_type": "code",
   "execution_count": null,
   "metadata": {
    "collapsed": true
   },
   "outputs": [],
   "source": [
    "require('rstan')\n"
   ]
  },
  {
   "cell_type": "markdown",
   "metadata": {},
   "source": [
    "## Single chromosome results"
   ]
  },
  {
   "cell_type": "code",
   "execution_count": 8,
   "metadata": {
    "collapsed": true
   },
   "outputs": [],
   "source": [
    "load(\"../data/biomarker/m4/test_chr/f_m2_Testosterone.RData\")\n",
    "fit2_t <- fit2\n",
    "\n",
    "load(\"../data/biomarker/m4/test_chr/f_m2_whr.RData\")\n",
    "fit2_w <- fit2\n"
   ]
  },
  {
   "cell_type": "markdown",
   "metadata": {},
   "source": [
    "Doesn't converge!\n",
    "\n",
    "Warning messages:\n",
    "1: There were 62 divergent transitions after warmup. Increasing adapt_delta above 0.8 may help. See\n",
    "http://mc-stan.org/misc/warnings.html#divergent-transitions-after-warmup \n",
    "2: There were 2 chains where the estimated Bayesian Fraction of Missing Information was low. See\n",
    "http://mc-stan.org/misc/warnings.html#bfmi-low \n",
    "3: Examine the pairs() plot to diagnose sampling problems\n",
    " "
   ]
  },
  {
   "cell_type": "code",
   "execution_count": 10,
   "metadata": {},
   "outputs": [
    {
     "name": "stdout",
     "output_type": "stream",
     "text": [
      "Inference for Stan model: model4_v1.\n",
      "4 chains, each with iter=600; warmup=200; thin=1; \n",
      "post-warmup draws per chain=400, total post-warmup draws=1600.\n",
      "\n",
      "                     mean se_mean       sd         10%        2.5%       97.5%\n",
      "sigmass[1]        0.01007 0.00684  0.01048     0.00256     0.00230     0.02918\n",
      "sigmass[2]        0.01007 0.00684  0.01048     0.00256     0.00230     0.02918\n",
      "sigmaf[1]         0.22019 0.18329  1.04000     0.00780     0.00637     2.25927\n",
      "sigmaf[2]         2.30966 2.27615 32.89858     0.03010     0.02834    10.82685\n",
      "sigmam[1]         1.25096 0.85894  3.06808     0.00367     0.00262     6.86309\n",
      "sigmam[2]         9.52659 4.03681 34.76944     0.00388     0.00271    69.49244\n",
      "Omegacor[1,1]     1.00000 0.00000  0.00000     1.00000     1.00000     1.00000\n",
      "Omegacor[1,2]     0.25050 0.03736  0.08916     0.11742     0.10995     0.42814\n",
      "Omegacor[2,1]     0.25050 0.03736  0.08916     0.11742     0.10995     0.42814\n",
      "Omegacor[2,2]     1.00000 0.00000  0.00000     1.00000     1.00000     1.00000\n",
      "L_Omega[1,1]      1.00000 0.00000  0.00000     1.00000     1.00000     1.00000\n",
      "L_Omega[1,2]      0.00000 0.00000  0.00000     0.00000     0.00000     0.00000\n",
      "L_Omega[2,1]      0.25050 0.03736  0.08916     0.11742     0.10995     0.42814\n",
      "L_Omega[2,2]      0.96368 0.00922  0.02518     0.93173     0.90371     0.99394\n",
      "sigmasq[1]        5.31962 0.97498 31.92318     0.46127     0.26236    24.65589\n",
      "sigmasq[2]        4.62402 0.98036 24.62117     0.41395     0.28718    29.75818\n",
      "Sigma[1,1]        0.00021 0.00021  0.00032     0.00001     0.00001     0.00085\n",
      "Sigma[1,2]        0.00004 0.00003  0.00006     0.00000     0.00000     0.00021\n",
      "Sigma[2,1]        0.00004 0.00003  0.00006     0.00000     0.00000     0.00021\n",
      "Sigma[2,2]        0.00021 0.00021  0.00032     0.00001     0.00001     0.00085\n",
      "pi[1]             0.55743 0.06557  0.19300     0.24035     0.10316     0.80224\n",
      "pi[2]             0.00008 0.00001  0.00007     0.00001     0.00000     0.00024\n",
      "pi[3]             0.00008 0.00002  0.00007     0.00001     0.00000     0.00024\n",
      "pi[4]             0.32925 0.14550  0.26747     0.00419     0.00389     0.86908\n",
      "pi[5]             0.01199 0.00207  0.00499     0.00023     0.00001     0.01927\n",
      "pi[6]             0.10116 0.07816  0.16456     0.00001     0.00000     0.54480\n",
      "lp__          94603.57349 4.39093 10.96800 94579.10263 94573.24351 94613.93701\n",
      "              n_eff    Rhat\n",
      "sigmass[1]        2 3.06443\n",
      "sigmass[2]        2 3.06443\n",
      "sigmaf[1]        32 1.11131\n",
      "sigmaf[2]       209 1.01407\n",
      "sigmam[1]        13 1.08169\n",
      "sigmam[2]        74 1.02346\n",
      "Omegacor[1,1]  1600     NaN\n",
      "Omegacor[1,2]     6 1.30361\n",
      "Omegacor[2,1]     6 1.30361\n",
      "Omegacor[2,2]    71 0.99750\n",
      "L_Omega[1,1]   1600     NaN\n",
      "L_Omega[1,2]   1600     NaN\n",
      "L_Omega[2,1]      6 1.30361\n",
      "L_Omega[2,2]      7 1.18390\n",
      "sigmasq[1]     1072 1.00220\n",
      "sigmasq[2]      631 1.00525\n",
      "Sigma[1,1]        2 2.82295\n",
      "Sigma[1,2]        4 1.96518\n",
      "Sigma[2,1]        4 1.96518\n",
      "Sigma[2,2]        2 2.82295\n",
      "pi[1]             9 1.17471\n",
      "pi[2]           107 1.03599\n",
      "pi[3]            14 1.12356\n",
      "pi[4]             3 1.68927\n",
      "pi[5]             6 1.73573\n",
      "pi[6]             4 1.88458\n",
      "lp__              6 1.77491\n",
      "\n",
      "Samples were drawn using NUTS(diag_e) at Mon Jun 17 16:50:33 2019.\n",
      "For each parameter, n_eff is a crude measure of effective sample size,\n",
      "and Rhat is the potential scale reduction factor on split chains (at \n",
      "convergence, Rhat=1).\n"
     ]
    }
   ],
   "source": [
    "print(fit2_t, pars=c(\"sigmass\",\"sigmaf\",\"sigmam\",\"Omegacor\",\"L_Omega\",\"sigmasq\", \"Sigma\", \"pi\", \"lp__\"), probs=c(0.1, 0.025, 0.975), digits_summary = 5)"
   ]
  },
  {
   "cell_type": "code",
   "execution_count": 11,
   "metadata": {},
   "outputs": [
    {
     "name": "stdout",
     "output_type": "stream",
     "text": [
      "Inference for Stan model: model4_v1.\n",
      "4 chains, each with iter=600; warmup=200; thin=1; \n",
      "post-warmup draws per chain=400, total post-warmup draws=1600.\n",
      "\n",
      "                      mean se_mean        sd          10%         2.5%\n",
      "sigmass[1]         0.01451 0.01097   0.01563      0.00218      0.00194\n",
      "sigmass[2]         0.01451 0.01097   0.01563      0.00218      0.00194\n",
      "sigmaf[1]          1.58377 0.67005   3.30485      0.04344      0.03840\n",
      "sigmaf[2]         15.03512 3.34251  79.14240      0.04477      0.03983\n",
      "sigmam[1]          0.01615 0.00571   0.00827      0.00733      0.00708\n",
      "sigmam[2]          0.02397 0.01075   0.01539      0.00781      0.00751\n",
      "Omegacor[1,1]      1.00000 0.00000   0.00000      1.00000      1.00000\n",
      "Omegacor[1,2]      0.77791 0.01054   0.02554      0.74439      0.72664\n",
      "Omegacor[2,1]      0.77791 0.01054   0.02554      0.74439      0.72664\n",
      "Omegacor[2,2]      1.00000 0.00000   0.00000      1.00000      1.00000\n",
      "L_Omega[1,1]       1.00000 0.00000   0.00000      1.00000      1.00000\n",
      "L_Omega[1,2]       0.00000 0.00000   0.00000      0.00000      0.00000\n",
      "L_Omega[2,1]       0.77791 0.01054   0.02554      0.74439      0.72664\n",
      "L_Omega[2,2]       0.62706 0.01306   0.03167      0.58663      0.56622\n",
      "sigmasq[1]        13.95970 5.99840 228.71807      0.42501      0.24531\n",
      "sigmasq[2]         9.43740 3.95477 101.32107      0.43016      0.28163\n",
      "Sigma[1,1]         0.00045 0.00051   0.00075      0.00000      0.00000\n",
      "Sigma[1,2]         0.00035 0.00039   0.00057      0.00000      0.00000\n",
      "Sigma[2,1]         0.00035 0.00039   0.00057      0.00000      0.00000\n",
      "Sigma[2,2]         0.00045 0.00051   0.00075      0.00000      0.00000\n",
      "pi[1]              0.54000 0.15504   0.22499      0.12086      0.02497\n",
      "pi[2]              0.00006 0.00000   0.00006      0.00001      0.00000\n",
      "pi[3]              0.00005 0.00000   0.00005      0.00001      0.00000\n",
      "pi[4]              0.32726 0.16094   0.23265      0.00501      0.00383\n",
      "pi[5]              0.00104 0.00122   0.00177      0.00001      0.00000\n",
      "pi[6]              0.13160 0.09290   0.13205      0.00723      0.00594\n",
      "lp__          117687.18555 4.93108   7.55756 117674.79580 117670.40844\n",
      "                     97.5% n_eff     Rhat\n",
      "sigmass[1]         0.04676     2  7.73111\n",
      "sigmass[2]         0.04676     2  7.73111\n",
      "sigmaf[1]          8.09524    24  1.04341\n",
      "sigmaf[2]        103.45638   561  1.00882\n",
      "sigmam[1]          0.02901     2  4.44241\n",
      "sigmam[2]          0.04550     2  6.06482\n",
      "Omegacor[1,1]      1.00000  1600      NaN\n",
      "Omegacor[1,2]      0.82426     6  1.20066\n",
      "Omegacor[2,1]      0.82426     6  1.20066\n",
      "Omegacor[2,2]      1.00000  1600  0.99750\n",
      "L_Omega[1,1]       1.00000  1600      NaN\n",
      "L_Omega[1,2]       0.00000  1600      NaN\n",
      "L_Omega[2,1]       0.82426     6  1.20066\n",
      "L_Omega[2,2]       0.68702     6  1.20086\n",
      "sigmasq[1]        38.48073  1454  1.00114\n",
      "sigmasq[2]        32.22623   656  1.00339\n",
      "Sigma[1,1]         0.00219     2  4.37444\n",
      "Sigma[1,2]         0.00169     2  4.30067\n",
      "Sigma[2,1]         0.00169     2  4.30067\n",
      "Sigma[2,2]         0.00219     2  4.37444\n",
      "pi[1]              0.70222     2  4.19880\n",
      "pi[2]              0.00020  1600  0.99948\n",
      "pi[3]              0.00018  1600  0.99925\n",
      "pi[4]              0.77726     2  4.53889\n",
      "pi[5]              0.00533     2  4.14439\n",
      "pi[6]              0.34429     2 10.00487\n",
      "lp__          117696.18352     2  2.46093\n",
      "\n",
      "Samples were drawn using NUTS(diag_e) at Mon Jun 17 17:21:27 2019.\n",
      "For each parameter, n_eff is a crude measure of effective sample size,\n",
      "and Rhat is the potential scale reduction factor on split chains (at \n",
      "convergence, Rhat=1).\n"
     ]
    }
   ],
   "source": [
    "print(fit2_w, pars=c(\"sigmass\",\"sigmaf\",\"sigmam\",\"Omegacor\",\"L_Omega\",\"sigmasq\", \"Sigma\", \"pi\", \"lp__\"), probs=c(0.1, 0.025, 0.975), digits_summary = 5)"
   ]
  },
  {
   "cell_type": "markdown",
   "metadata": {},
   "source": [
    "## Removing null SNPs"
   ]
  },
  {
   "cell_type": "code",
   "execution_count": 9,
   "metadata": {
    "collapsed": true
   },
   "outputs": [],
   "source": [
    "load(\"../data/biomarker/m4/f_m2_leg_fp.RData\")\n"
   ]
  },
  {
   "cell_type": "markdown",
   "metadata": {},
   "source": [
    "Got these warnings:\n",
    "1: There were 10 divergent transitions after warmup. Increasing adapt_delta above 0.8 may help. See\n",
    "http://mc-stan.org/misc/warnings.html#divergent-transitions-after-warmup \n",
    "2: Examine the pairs() plot to diagnose sampling problems\n"
   ]
  },
  {
   "cell_type": "code",
   "execution_count": 7,
   "metadata": {},
   "outputs": [
    {
     "name": "stdout",
     "output_type": "stream",
     "text": [
      "Inference for Stan model: model4_v1.\n",
      "4 chains, each with iter=600; warmup=200; thin=1; \n",
      "post-warmup draws per chain=400, total post-warmup draws=1600.\n",
      "\n",
      "                     mean se_mean        sd         10%        2.5%       97.5%\n",
      "sigmass[1]        0.01814 0.00000   0.00016     0.01793     0.01782     0.01846\n",
      "sigmass[2]        0.01814 0.00000   0.00016     0.01793     0.01782     0.01846\n",
      "sigmaf[1]         1.65628 0.08550   2.70833     0.10178     0.03375     7.50159\n",
      "sigmaf[2]        18.46427 4.54550 167.90827     0.52935     0.12169    90.30985\n",
      "sigmam[1]         0.00384 0.00021   0.00229     0.00085     0.00041     0.00736\n",
      "sigmam[2]         0.02917 0.00012   0.00136     0.02733     0.02684     0.03160\n",
      "Omegacor[1,1]     1.00000 0.00000   0.00000     1.00000     1.00000     1.00000\n",
      "Omegacor[1,2]     0.21163 0.00054   0.01496     0.19250     0.18345     0.24153\n",
      "Omegacor[2,1]     0.21163 0.00054   0.01496     0.19250     0.18345     0.24153\n",
      "Omegacor[2,2]     1.00000 0.00000   0.00000     1.00000     1.00000     1.00000\n",
      "L_Omega[1,1]      1.00000 0.00000   0.00000     1.00000     1.00000     1.00000\n",
      "L_Omega[1,2]      0.00000 0.00000   0.00000     0.00000     0.00000     0.00000\n",
      "L_Omega[2,1]      0.21163 0.00054   0.01496     0.19250     0.18345     0.24153\n",
      "L_Omega[2,2]      0.97723 0.00012   0.00325     0.97298     0.97039     0.98303\n",
      "sigmasq[1]        1.31496 0.09698   2.37393     0.24749     0.16603     7.69327\n",
      "sigmasq[2]        3.94953 1.09230  23.07928     0.36174     0.24169    22.01170\n",
      "Sigma[1,1]        0.00033 0.00000   0.00001     0.00032     0.00032     0.00034\n",
      "Sigma[1,2]        0.00007 0.00000   0.00001     0.00006     0.00006     0.00008\n",
      "Sigma[2,1]        0.00007 0.00000   0.00001     0.00006     0.00006     0.00008\n",
      "Sigma[2,2]        0.00033 0.00000   0.00001     0.00032     0.00032     0.00034\n",
      "pi[1]             0.00010 0.00000   0.00010     0.00001     0.00000     0.00038\n",
      "pi[2]             0.00025 0.00001   0.00021     0.00005     0.00002     0.00079\n",
      "pi[3]             0.00016 0.00000   0.00016     0.00002     0.00001     0.00060\n",
      "pi[4]             0.79331 0.00264   0.02840     0.75338     0.73800     0.83428\n",
      "pi[5]             0.00016 0.00002   0.00036     0.00001     0.00000     0.00088\n",
      "pi[6]             0.20602 0.00264   0.02839     0.17252     0.16525     0.26151\n",
      "lp__          54604.35438 0.17936   3.46474 54599.64972 54596.64070 54610.07071\n",
      "              n_eff    Rhat\n",
      "sigmass[1]     1600 1.00611\n",
      "sigmass[2]     1600 1.00611\n",
      "sigmaf[1]      1003 1.00323\n",
      "sigmaf[2]      1365 0.99945\n",
      "sigmam[1]       122 1.05736\n",
      "sigmam[2]       139 1.05297\n",
      "Omegacor[1,1]  1600     NaN\n",
      "Omegacor[1,2]   773 1.00418\n",
      "Omegacor[2,1]   773 1.00418\n",
      "Omegacor[2,2]  1439 0.99750\n",
      "L_Omega[1,1]   1600     NaN\n",
      "L_Omega[1,2]   1600     NaN\n",
      "L_Omega[2,1]    773 1.00418\n",
      "L_Omega[2,2]    748 1.00461\n",
      "sigmasq[1]      599 1.00042\n",
      "sigmasq[2]      446 1.00626\n",
      "Sigma[1,1]     1600 1.00619\n",
      "Sigma[1,2]     1063 1.00198\n",
      "Sigma[2,1]     1063 1.00198\n",
      "Sigma[2,2]     1600 1.00619\n",
      "pi[1]          1254 1.00564\n",
      "pi[2]          1351 0.99946\n",
      "pi[3]          1164 1.00026\n",
      "pi[4]           116 1.06838\n",
      "pi[5]           462 1.00323\n",
      "pi[6]           116 1.06830\n",
      "lp__            373 1.01249\n",
      "\n",
      "Samples were drawn using NUTS(diag_e) at Tue Jun 18 02:03:31 2019.\n",
      "For each parameter, n_eff is a crude measure of effective sample size,\n",
      "and Rhat is the potential scale reduction factor on split chains (at \n",
      "convergence, Rhat=1).\n"
     ]
    }
   ],
   "source": [
    "print(fit2, pars=c(\"sigmass\",\"sigmaf\",\"sigmam\",\"Omegacor\",\"L_Omega\",\"sigmasq\", \"Sigma\", \"pi\", \"lp__\"), probs=c(0.1, 0.025, 0.975), digits_summary = 5)"
   ]
  },
  {
   "cell_type": "code",
   "execution_count": 16,
   "metadata": {},
   "outputs": [
    {
     "name": "stderr",
     "output_type": "stream",
     "text": [
      "ci_level: 0.8 (80% intervals)\n",
      "outer_level: 0.95 (95% intervals)\n"
     ]
    },
    {
     "data": {},
     "metadata": {},
     "output_type": "display_data"
    },
    {
     "name": "stderr",
     "output_type": "stream",
     "text": [
      "ci_level: 0.8 (80% intervals)\n",
      "outer_level: 0.95 (95% intervals)\n"
     ]
    },
    {
     "data": {},
     "metadata": {},
     "output_type": "display_data"
    },
    {
     "data": {
      "image/png": "[encoded data removed]",
      "text/plain": [
       "plot without title"
      ]
     },
     "metadata": {},
     "output_type": "display_data"
    },
    {
     "data": {
      "image/png": "[encoded data removed]",
      "text/plain": [
       "plot without title"
      ]
     },
     "metadata": {},
     "output_type": "display_data"
    }
   ],
   "source": [
    "# separated for scales\n",
    "plot(fit2, pars=c(\"sigmass\",\"sigmam\",\"Omegacor\", \"Sigma\", \"pi\"))\n",
    "plot(fit2, pars=c(\"sigmaf\",\"sigmasq\")) # unclear if converged?"
   ]
  },
  {
   "cell_type": "code",
   "execution_count": 18,
   "metadata": {},
   "outputs": [
    {
     "data": {},
     "metadata": {},
     "output_type": "display_data"
    },
    {
     "data": {
      "image/png": "[encoded data removed]",
      "text/plain": [
       "plot without title"
      ]
     },
     "metadata": {},
     "output_type": "display_data"
    }
   ],
   "source": [
    "traceplot(fit2, pars=c(\"sigmaf\",\"sigmasq\", \"pi\"))"
   ]
  },
  {
   "cell_type": "code",
   "execution_count": 25,
   "metadata": {},
   "outputs": [
    {
     "data": {
      "text/html": [
       "<table>\n",
       "<tbody>\n",
       "\t<tr><td>0.000000</td><td>0.000000</td></tr>\n",
       "\t<tr><td>0.000000</td><td>0.000000</td></tr>\n",
       "\t<tr><td>1.314958</td><td>0.000000</td></tr>\n",
       "\t<tr><td>0.000000</td><td>0.000000</td></tr>\n",
       "\t<tr><td>0.000000</td><td>0.000000</td></tr>\n",
       "\t<tr><td>0.000000</td><td>3.949533</td></tr>\n",
       "</tbody>\n",
       "</table>\n"
      ],
      "text/latex": [
       "\\begin{tabular}{ll}\n",
       "\t 0.000000 & 0.000000\\\\\n",
       "\t 0.000000 & 0.000000\\\\\n",
       "\t 1.314958 & 0.000000\\\\\n",
       "\t 0.000000 & 0.000000\\\\\n",
       "\t 0.000000 & 0.000000\\\\\n",
       "\t 0.000000 & 3.949533\\\\\n",
       "\\end{tabular}\n"
      ],
      "text/markdown": [
       "\n",
       "| 0.000000 | 0.000000 | \n",
       "| 0.000000 | 0.000000 | \n",
       "| 1.314958 | 0.000000 | \n",
       "| 0.000000 | 0.000000 | \n",
       "| 0.000000 | 0.000000 | \n",
       "| 0.000000 | 3.949533 | \n",
       "\n",
       "\n"
      ],
      "text/plain": [
       "     [,1]     [,2]    \n",
       "[1,] 0.000000 0.000000\n",
       "[2,] 0.000000 0.000000\n",
       "[3,] 1.314958 0.000000\n",
       "[4,] 0.000000 0.000000\n",
       "[5,] 0.000000 0.000000\n",
       "[6,] 0.000000 3.949533"
      ]
     },
     "metadata": {},
     "output_type": "display_data"
    },
    {
     "data": {
      "text/html": [
       "<ol class=list-inline>\n",
       "\t<li>9.70999264883436e-05</li>\n",
       "\t<li>0.000254933941723526</li>\n",
       "\t<li>0.000160904030755419</li>\n",
       "\t<li>0.793310730065387</li>\n",
       "\t<li>0.000157489131473168</li>\n",
       "\t<li>0.206018842904172</li>\n",
       "</ol>\n"
      ],
      "text/latex": [
       "\\begin{enumerate*}\n",
       "\\item 9.70999264883436e-05\n",
       "\\item 0.000254933941723526\n",
       "\\item 0.000160904030755419\n",
       "\\item 0.793310730065387\n",
       "\\item 0.000157489131473168\n",
       "\\item 0.206018842904172\n",
       "\\end{enumerate*}\n"
      ],
      "text/markdown": [
       "1. 9.70999264883436e-05\n",
       "2. 0.000254933941723526\n",
       "3. 0.000160904030755419\n",
       "4. 0.793310730065387\n",
       "5. 0.000157489131473168\n",
       "6. 0.206018842904172\n",
       "\n",
       "\n"
      ],
      "text/plain": [
       "[1] 9.709993e-05 2.549339e-04 1.609040e-04 7.933107e-01 1.574891e-04\n",
       "[6] 2.060188e-01"
      ]
     },
     "metadata": {},
     "output_type": "display_data"
    }
   ],
   "source": [
    "sigmas_list <- summary(fit2, pars=c(\"Sigmas\"))$summary[,c(\"mean\")]\n",
    "\n",
    "\n",
    "getPi <- function(fit){\n",
    "    fit_summ_pi <- summary(fit, pars=c(\"pi\"), probs=c(0.05, 0.95))\n",
    "    p <- as.vector(fit_summ_pi$summary[,c(\"mean\")])\n",
    "    return(p)\n",
    "}\n",
    "p <- getPi(fit2)\n",
    "p"
   ]
  },
  {
   "cell_type": "code",
   "execution_count": 34,
   "metadata": {},
   "outputs": [
    {
     "data": {
      "text/html": [
       "<table>\n",
       "<thead><tr><th></th><th scope=col>mean</th><th scope=col>se_mean</th><th scope=col>sd</th><th scope=col>5%</th><th scope=col>95%</th><th scope=col>n_eff</th><th scope=col>Rhat</th></tr></thead>\n",
       "<tbody>\n",
       "\t<tr><th scope=row>Sigmas[1,1,1]</th><td>0.000000e+00</td><td>0.000000e+00</td><td>0.000000e+00</td><td>0.000000e+00</td><td>0.000000e+00</td><td>1600.0000   </td><td>      NaN   </td></tr>\n",
       "\t<tr><th scope=row>Sigmas[1,1,2]</th><td>0.000000e+00</td><td>0.000000e+00</td><td>0.000000e+00</td><td>0.000000e+00</td><td>0.000000e+00</td><td>1600.0000   </td><td>      NaN   </td></tr>\n",
       "\t<tr><th scope=row>Sigmas[1,2,1]</th><td>0.000000e+00</td><td>0.000000e+00</td><td>0.000000e+00</td><td>0.000000e+00</td><td>0.000000e+00</td><td>1600.0000   </td><td>      NaN   </td></tr>\n",
       "\t<tr><th scope=row>Sigmas[1,2,2]</th><td>0.000000e+00</td><td>0.000000e+00</td><td>0.000000e+00</td><td>0.000000e+00</td><td>0.000000e+00</td><td>1600.0000   </td><td>      NaN   </td></tr>\n",
       "\t<tr><th scope=row>Sigmas[2,1,1]</th><td>1.314958e+00</td><td>9.698179e-02</td><td>2.373926e+00</td><td>2.029631e-01</td><td>4.334084e+00</td><td> 599.1753   </td><td>1.0004167   </td></tr>\n",
       "\t<tr><th scope=row>Sigmas[2,1,2]</th><td>0.000000e+00</td><td>0.000000e+00</td><td>0.000000e+00</td><td>0.000000e+00</td><td>0.000000e+00</td><td>1600.0000   </td><td>      NaN   </td></tr>\n",
       "\t<tr><th scope=row>Sigmas[2,2,1]</th><td>0.000000e+00</td><td>0.000000e+00</td><td>0.000000e+00</td><td>0.000000e+00</td><td>0.000000e+00</td><td>1600.0000   </td><td>      NaN   </td></tr>\n",
       "\t<tr><th scope=row>Sigmas[2,2,2]</th><td>0.000000e+00</td><td>0.000000e+00</td><td>0.000000e+00</td><td>0.000000e+00</td><td>0.000000e+00</td><td>1600.0000   </td><td>      NaN   </td></tr>\n",
       "\t<tr><th scope=row>Sigmas[3,1,1]</th><td>0.000000e+00</td><td>0.000000e+00</td><td>0.000000e+00</td><td>0.000000e+00</td><td>0.000000e+00</td><td>1600.0000   </td><td>      NaN   </td></tr>\n",
       "\t<tr><th scope=row>Sigmas[3,1,2]</th><td>0.000000e+00</td><td>0.000000e+00</td><td>0.000000e+00</td><td>0.000000e+00</td><td>0.000000e+00</td><td>1600.0000   </td><td>      NaN   </td></tr>\n",
       "\t<tr><th scope=row>Sigmas[3,2,1]</th><td>0.000000e+00</td><td>0.000000e+00</td><td>0.000000e+00</td><td>0.000000e+00</td><td>0.000000e+00</td><td>1600.0000   </td><td>      NaN   </td></tr>\n",
       "\t<tr><th scope=row>Sigmas[3,2,2]</th><td>3.949533e+00</td><td>1.092296e+00</td><td>2.307928e+01</td><td>2.854071e-01</td><td>9.846224e+00</td><td> 446.4404   </td><td>1.0062600   </td></tr>\n",
       "\t<tr><th scope=row>Sigmas[4,1,1]</th><td>3.290774e-04</td><td>1.485458e-07</td><td>5.941834e-06</td><td>3.196654e-04</td><td>3.391576e-04</td><td>1600.0000   </td><td>1.0061905   </td></tr>\n",
       "\t<tr><th scope=row>Sigmas[4,1,2]</th><td>6.964353e-05</td><td>1.564979e-07</td><td>5.103411e-06</td><td>6.141453e-05</td><td>7.820674e-05</td><td>1063.4183   </td><td>1.0019828   </td></tr>\n",
       "\t<tr><th scope=row>Sigmas[4,2,1]</th><td>6.964353e-05</td><td>1.564979e-07</td><td>5.103411e-06</td><td>6.141453e-05</td><td>7.820674e-05</td><td>1063.4183   </td><td>1.0019828   </td></tr>\n",
       "\t<tr><th scope=row>Sigmas[4,2,2]</th><td>3.290774e-04</td><td>1.485458e-07</td><td>5.941834e-06</td><td>3.196654e-04</td><td>3.391576e-04</td><td>1600.0000   </td><td>1.0061905   </td></tr>\n",
       "\t<tr><th scope=row>Sigmas[5,1,1]</th><td>1.007371e+01</td><td>2.176618e+00</td><td>7.150152e+01</td><td>3.423185e-03</td><td>2.952895e+01</td><td>1079.1110   </td><td>1.0024373   </td></tr>\n",
       "\t<tr><th scope=row>Sigmas[5,1,2]</th><td>2.437925e+01</td><td>1.220554e+01</td><td>4.168203e+02</td><td>3.578819e-03</td><td>2.601038e+01</td><td>1166.2295   </td><td>1.0005661   </td></tr>\n",
       "\t<tr><th scope=row>Sigmas[5,2,1]</th><td>2.437925e+01</td><td>1.220554e+01</td><td>4.168203e+02</td><td>3.578819e-03</td><td>2.601038e+01</td><td>1166.2295   </td><td>1.0005661   </td></tr>\n",
       "\t<tr><th scope=row>Sigmas[5,2,2]</th><td>2.851650e+04</td><td>2.269271e+04</td><td>9.066213e+05</td><td>4.622912e-02</td><td>1.749757e+03</td><td>1596.1693   </td><td>0.9998336   </td></tr>\n",
       "\t<tr><th scope=row>Sigmas[6,1,1]</th><td>8.525740e-04</td><td>6.682111e-06</td><td>7.917761e-05</td><td>7.306147e-04</td><td>9.815163e-04</td><td> 140.4033   </td><td>1.0519886   </td></tr>\n",
       "\t<tr><th scope=row>Sigmas[6,1,2]</th><td>2.303394e-05</td><td>1.162488e-06</td><td>1.315681e-05</td><td>3.881945e-06</td><td>4.133147e-05</td><td> 128.0927   </td><td>1.0503098   </td></tr>\n",
       "\t<tr><th scope=row>Sigmas[6,2,1]</th><td>2.303394e-05</td><td>1.162488e-06</td><td>1.315681e-05</td><td>3.881945e-06</td><td>4.133147e-05</td><td> 128.0927   </td><td>1.0503098   </td></tr>\n",
       "\t<tr><th scope=row>Sigmas[6,2,2]</th><td>1.999861e-05</td><td>1.691102e-06</td><td>1.781182e-05</td><td>3.320643e-07</td><td>4.947849e-05</td><td> 110.9371   </td><td>1.0675138   </td></tr>\n",
       "</tbody>\n",
       "</table>\n"
      ],
      "text/latex": [
       "\\begin{tabular}{r|lllllll}\n",
       "  & mean & se\\_mean & sd & 5\\% & 95\\% & n\\_eff & Rhat\\\\\n",
       "\\hline\n",
       "\tSigmas{[}1,1,1{]} & 0.000000e+00 & 0.000000e+00 & 0.000000e+00 & 0.000000e+00 & 0.000000e+00 & 1600.0000    &       NaN   \\\\\n",
       "\tSigmas{[}1,1,2{]} & 0.000000e+00 & 0.000000e+00 & 0.000000e+00 & 0.000000e+00 & 0.000000e+00 & 1600.0000    &       NaN   \\\\\n",
       "\tSigmas{[}1,2,1{]} & 0.000000e+00 & 0.000000e+00 & 0.000000e+00 & 0.000000e+00 & 0.000000e+00 & 1600.0000    &       NaN   \\\\\n",
       "\tSigmas{[}1,2,2{]} & 0.000000e+00 & 0.000000e+00 & 0.000000e+00 & 0.000000e+00 & 0.000000e+00 & 1600.0000    &       NaN   \\\\\n",
       "\tSigmas{[}2,1,1{]} & 1.314958e+00 & 9.698179e-02 & 2.373926e+00 & 2.029631e-01 & 4.334084e+00 &  599.1753    & 1.0004167   \\\\\n",
       "\tSigmas{[}2,1,2{]} & 0.000000e+00 & 0.000000e+00 & 0.000000e+00 & 0.000000e+00 & 0.000000e+00 & 1600.0000    &       NaN   \\\\\n",
       "\tSigmas{[}2,2,1{]} & 0.000000e+00 & 0.000000e+00 & 0.000000e+00 & 0.000000e+00 & 0.000000e+00 & 1600.0000    &       NaN   \\\\\n",
       "\tSigmas{[}2,2,2{]} & 0.000000e+00 & 0.000000e+00 & 0.000000e+00 & 0.000000e+00 & 0.000000e+00 & 1600.0000    &       NaN   \\\\\n",
       "\tSigmas{[}3,1,1{]} & 0.000000e+00 & 0.000000e+00 & 0.000000e+00 & 0.000000e+00 & 0.000000e+00 & 1600.0000    &       NaN   \\\\\n",
       "\tSigmas{[}3,1,2{]} & 0.000000e+00 & 0.000000e+00 & 0.000000e+00 & 0.000000e+00 & 0.000000e+00 & 1600.0000    &       NaN   \\\\\n",
       "\tSigmas{[}3,2,1{]} & 0.000000e+00 & 0.000000e+00 & 0.000000e+00 & 0.000000e+00 & 0.000000e+00 & 1600.0000    &       NaN   \\\\\n",
       "\tSigmas{[}3,2,2{]} & 3.949533e+00 & 1.092296e+00 & 2.307928e+01 & 2.854071e-01 & 9.846224e+00 &  446.4404    & 1.0062600   \\\\\n",
       "\tSigmas{[}4,1,1{]} & 3.290774e-04 & 1.485458e-07 & 5.941834e-06 & 3.196654e-04 & 3.391576e-04 & 1600.0000    & 1.0061905   \\\\\n",
       "\tSigmas{[}4,1,2{]} & 6.964353e-05 & 1.564979e-07 & 5.103411e-06 & 6.141453e-05 & 7.820674e-05 & 1063.4183    & 1.0019828   \\\\\n",
       "\tSigmas{[}4,2,1{]} & 6.964353e-05 & 1.564979e-07 & 5.103411e-06 & 6.141453e-05 & 7.820674e-05 & 1063.4183    & 1.0019828   \\\\\n",
       "\tSigmas{[}4,2,2{]} & 3.290774e-04 & 1.485458e-07 & 5.941834e-06 & 3.196654e-04 & 3.391576e-04 & 1600.0000    & 1.0061905   \\\\\n",
       "\tSigmas{[}5,1,1{]} & 1.007371e+01 & 2.176618e+00 & 7.150152e+01 & 3.423185e-03 & 2.952895e+01 & 1079.1110    & 1.0024373   \\\\\n",
       "\tSigmas{[}5,1,2{]} & 2.437925e+01 & 1.220554e+01 & 4.168203e+02 & 3.578819e-03 & 2.601038e+01 & 1166.2295    & 1.0005661   \\\\\n",
       "\tSigmas{[}5,2,1{]} & 2.437925e+01 & 1.220554e+01 & 4.168203e+02 & 3.578819e-03 & 2.601038e+01 & 1166.2295    & 1.0005661   \\\\\n",
       "\tSigmas{[}5,2,2{]} & 2.851650e+04 & 2.269271e+04 & 9.066213e+05 & 4.622912e-02 & 1.749757e+03 & 1596.1693    & 0.9998336   \\\\\n",
       "\tSigmas{[}6,1,1{]} & 8.525740e-04 & 6.682111e-06 & 7.917761e-05 & 7.306147e-04 & 9.815163e-04 &  140.4033    & 1.0519886   \\\\\n",
       "\tSigmas{[}6,1,2{]} & 2.303394e-05 & 1.162488e-06 & 1.315681e-05 & 3.881945e-06 & 4.133147e-05 &  128.0927    & 1.0503098   \\\\\n",
       "\tSigmas{[}6,2,1{]} & 2.303394e-05 & 1.162488e-06 & 1.315681e-05 & 3.881945e-06 & 4.133147e-05 &  128.0927    & 1.0503098   \\\\\n",
       "\tSigmas{[}6,2,2{]} & 1.999861e-05 & 1.691102e-06 & 1.781182e-05 & 3.320643e-07 & 4.947849e-05 &  110.9371    & 1.0675138   \\\\\n",
       "\\end{tabular}\n"
      ],
      "text/markdown": [
       "\n",
       "| <!--/--> | mean | se_mean | sd | 5% | 95% | n_eff | Rhat | \n",
       "|---|---|---|---|---|---|---|---|---|---|---|---|---|---|---|---|---|---|---|---|---|---|---|---|\n",
       "| Sigmas[1,1,1] | 0.000000e+00 | 0.000000e+00 | 0.000000e+00 | 0.000000e+00 | 0.000000e+00 | 1600.0000    |       NaN    | \n",
       "| Sigmas[1,1,2] | 0.000000e+00 | 0.000000e+00 | 0.000000e+00 | 0.000000e+00 | 0.000000e+00 | 1600.0000    |       NaN    | \n",
       "| Sigmas[1,2,1] | 0.000000e+00 | 0.000000e+00 | 0.000000e+00 | 0.000000e+00 | 0.000000e+00 | 1600.0000    |       NaN    | \n",
       "| Sigmas[1,2,2] | 0.000000e+00 | 0.000000e+00 | 0.000000e+00 | 0.000000e+00 | 0.000000e+00 | 1600.0000    |       NaN    | \n",
       "| Sigmas[2,1,1] | 1.314958e+00 | 9.698179e-02 | 2.373926e+00 | 2.029631e-01 | 4.334084e+00 |  599.1753    | 1.0004167    | \n",
       "| Sigmas[2,1,2] | 0.000000e+00 | 0.000000e+00 | 0.000000e+00 | 0.000000e+00 | 0.000000e+00 | 1600.0000    |       NaN    | \n",
       "| Sigmas[2,2,1] | 0.000000e+00 | 0.000000e+00 | 0.000000e+00 | 0.000000e+00 | 0.000000e+00 | 1600.0000    |       NaN    | \n",
       "| Sigmas[2,2,2] | 0.000000e+00 | 0.000000e+00 | 0.000000e+00 | 0.000000e+00 | 0.000000e+00 | 1600.0000    |       NaN    | \n",
       "| Sigmas[3,1,1] | 0.000000e+00 | 0.000000e+00 | 0.000000e+00 | 0.000000e+00 | 0.000000e+00 | 1600.0000    |       NaN    | \n",
       "| Sigmas[3,1,2] | 0.000000e+00 | 0.000000e+00 | 0.000000e+00 | 0.000000e+00 | 0.000000e+00 | 1600.0000    |       NaN    | \n",
       "| Sigmas[3,2,1] | 0.000000e+00 | 0.000000e+00 | 0.000000e+00 | 0.000000e+00 | 0.000000e+00 | 1600.0000    |       NaN    | \n",
       "| Sigmas[3,2,2] | 3.949533e+00 | 1.092296e+00 | 2.307928e+01 | 2.854071e-01 | 9.846224e+00 |  446.4404    | 1.0062600    | \n",
       "| Sigmas[4,1,1] | 3.290774e-04 | 1.485458e-07 | 5.941834e-06 | 3.196654e-04 | 3.391576e-04 | 1600.0000    | 1.0061905    | \n",
       "| Sigmas[4,1,2] | 6.964353e-05 | 1.564979e-07 | 5.103411e-06 | 6.141453e-05 | 7.820674e-05 | 1063.4183    | 1.0019828    | \n",
       "| Sigmas[4,2,1] | 6.964353e-05 | 1.564979e-07 | 5.103411e-06 | 6.141453e-05 | 7.820674e-05 | 1063.4183    | 1.0019828    | \n",
       "| Sigmas[4,2,2] | 3.290774e-04 | 1.485458e-07 | 5.941834e-06 | 3.196654e-04 | 3.391576e-04 | 1600.0000    | 1.0061905    | \n",
       "| Sigmas[5,1,1] | 1.007371e+01 | 2.176618e+00 | 7.150152e+01 | 3.423185e-03 | 2.952895e+01 | 1079.1110    | 1.0024373    | \n",
       "| Sigmas[5,1,2] | 2.437925e+01 | 1.220554e+01 | 4.168203e+02 | 3.578819e-03 | 2.601038e+01 | 1166.2295    | 1.0005661    | \n",
       "| Sigmas[5,2,1] | 2.437925e+01 | 1.220554e+01 | 4.168203e+02 | 3.578819e-03 | 2.601038e+01 | 1166.2295    | 1.0005661    | \n",
       "| Sigmas[5,2,2] | 2.851650e+04 | 2.269271e+04 | 9.066213e+05 | 4.622912e-02 | 1.749757e+03 | 1596.1693    | 0.9998336    | \n",
       "| Sigmas[6,1,1] | 8.525740e-04 | 6.682111e-06 | 7.917761e-05 | 7.306147e-04 | 9.815163e-04 |  140.4033    | 1.0519886    | \n",
       "| Sigmas[6,1,2] | 2.303394e-05 | 1.162488e-06 | 1.315681e-05 | 3.881945e-06 | 4.133147e-05 |  128.0927    | 1.0503098    | \n",
       "| Sigmas[6,2,1] | 2.303394e-05 | 1.162488e-06 | 1.315681e-05 | 3.881945e-06 | 4.133147e-05 |  128.0927    | 1.0503098    | \n",
       "| Sigmas[6,2,2] | 1.999861e-05 | 1.691102e-06 | 1.781182e-05 | 3.320643e-07 | 4.947849e-05 |  110.9371    | 1.0675138    | \n",
       "\n",
       "\n"
      ],
      "text/plain": [
       "              mean         se_mean      sd           5%           95%         \n",
       "Sigmas[1,1,1] 0.000000e+00 0.000000e+00 0.000000e+00 0.000000e+00 0.000000e+00\n",
       "Sigmas[1,1,2] 0.000000e+00 0.000000e+00 0.000000e+00 0.000000e+00 0.000000e+00\n",
       "Sigmas[1,2,1] 0.000000e+00 0.000000e+00 0.000000e+00 0.000000e+00 0.000000e+00\n",
       "Sigmas[1,2,2] 0.000000e+00 0.000000e+00 0.000000e+00 0.000000e+00 0.000000e+00\n",
       "Sigmas[2,1,1] 1.314958e+00 9.698179e-02 2.373926e+00 2.029631e-01 4.334084e+00\n",
       "Sigmas[2,1,2] 0.000000e+00 0.000000e+00 0.000000e+00 0.000000e+00 0.000000e+00\n",
       "Sigmas[2,2,1] 0.000000e+00 0.000000e+00 0.000000e+00 0.000000e+00 0.000000e+00\n",
       "Sigmas[2,2,2] 0.000000e+00 0.000000e+00 0.000000e+00 0.000000e+00 0.000000e+00\n",
       "Sigmas[3,1,1] 0.000000e+00 0.000000e+00 0.000000e+00 0.000000e+00 0.000000e+00\n",
       "Sigmas[3,1,2] 0.000000e+00 0.000000e+00 0.000000e+00 0.000000e+00 0.000000e+00\n",
       "Sigmas[3,2,1] 0.000000e+00 0.000000e+00 0.000000e+00 0.000000e+00 0.000000e+00\n",
       "Sigmas[3,2,2] 3.949533e+00 1.092296e+00 2.307928e+01 2.854071e-01 9.846224e+00\n",
       "Sigmas[4,1,1] 3.290774e-04 1.485458e-07 5.941834e-06 3.196654e-04 3.391576e-04\n",
       "Sigmas[4,1,2] 6.964353e-05 1.564979e-07 5.103411e-06 6.141453e-05 7.820674e-05\n",
       "Sigmas[4,2,1] 6.964353e-05 1.564979e-07 5.103411e-06 6.141453e-05 7.820674e-05\n",
       "Sigmas[4,2,2] 3.290774e-04 1.485458e-07 5.941834e-06 3.196654e-04 3.391576e-04\n",
       "Sigmas[5,1,1] 1.007371e+01 2.176618e+00 7.150152e+01 3.423185e-03 2.952895e+01\n",
       "Sigmas[5,1,2] 2.437925e+01 1.220554e+01 4.168203e+02 3.578819e-03 2.601038e+01\n",
       "Sigmas[5,2,1] 2.437925e+01 1.220554e+01 4.168203e+02 3.578819e-03 2.601038e+01\n",
       "Sigmas[5,2,2] 2.851650e+04 2.269271e+04 9.066213e+05 4.622912e-02 1.749757e+03\n",
       "Sigmas[6,1,1] 8.525740e-04 6.682111e-06 7.917761e-05 7.306147e-04 9.815163e-04\n",
       "Sigmas[6,1,2] 2.303394e-05 1.162488e-06 1.315681e-05 3.881945e-06 4.133147e-05\n",
       "Sigmas[6,2,1] 2.303394e-05 1.162488e-06 1.315681e-05 3.881945e-06 4.133147e-05\n",
       "Sigmas[6,2,2] 1.999861e-05 1.691102e-06 1.781182e-05 3.320643e-07 4.947849e-05\n",
       "              n_eff     Rhat     \n",
       "Sigmas[1,1,1] 1600.0000       NaN\n",
       "Sigmas[1,1,2] 1600.0000       NaN\n",
       "Sigmas[1,2,1] 1600.0000       NaN\n",
       "Sigmas[1,2,2] 1600.0000       NaN\n",
       "Sigmas[2,1,1]  599.1753 1.0004167\n",
       "Sigmas[2,1,2] 1600.0000       NaN\n",
       "Sigmas[2,2,1] 1600.0000       NaN\n",
       "Sigmas[2,2,2] 1600.0000       NaN\n",
       "Sigmas[3,1,1] 1600.0000       NaN\n",
       "Sigmas[3,1,2] 1600.0000       NaN\n",
       "Sigmas[3,2,1] 1600.0000       NaN\n",
       "Sigmas[3,2,2]  446.4404 1.0062600\n",
       "Sigmas[4,1,1] 1600.0000 1.0061905\n",
       "Sigmas[4,1,2] 1063.4183 1.0019828\n",
       "Sigmas[4,2,1] 1063.4183 1.0019828\n",
       "Sigmas[4,2,2] 1600.0000 1.0061905\n",
       "Sigmas[5,1,1] 1079.1110 1.0024373\n",
       "Sigmas[5,1,2] 1166.2295 1.0005661\n",
       "Sigmas[5,2,1] 1166.2295 1.0005661\n",
       "Sigmas[5,2,2] 1596.1693 0.9998336\n",
       "Sigmas[6,1,1]  140.4033 1.0519886\n",
       "Sigmas[6,1,2]  128.0927 1.0503098\n",
       "Sigmas[6,2,1]  128.0927 1.0503098\n",
       "Sigmas[6,2,2]  110.9371 1.0675138"
      ]
     },
     "metadata": {},
     "output_type": "display_data"
    }
   ],
   "source": [
    " summary(fit2, pars=c(\"Sigmas\"), probs=c(0.05, 0.95))$summary"
   ]
  },
  {
   "cell_type": "code",
   "execution_count": 32,
   "metadata": {},
   "outputs": [
    {
     "data": {
      "text/html": [
       "<table>\n",
       "<tbody>\n",
       "\t<tr><td> 1</td><td>13</td><td>25</td><td>37</td><td>49</td></tr>\n",
       "\t<tr><td> 4</td><td>16</td><td>28</td><td>40</td><td>52</td></tr>\n",
       "\t<tr><td> 7</td><td>19</td><td>31</td><td>43</td><td>55</td></tr>\n",
       "\t<tr><td>10</td><td>22</td><td>34</td><td>46</td><td>58</td></tr>\n",
       "</tbody>\n",
       "</table>\n"
      ],
      "text/latex": [
       "\\begin{tabular}{lllll}\n",
       "\t  1 & 13 & 25 & 37 & 49\\\\\n",
       "\t  4 & 16 & 28 & 40 & 52\\\\\n",
       "\t  7 & 19 & 31 & 43 & 55\\\\\n",
       "\t 10 & 22 & 34 & 46 & 58\\\\\n",
       "\\end{tabular}\n"
      ],
      "text/markdown": [
       "\n",
       "|  1 | 13 | 25 | 37 | 49 | \n",
       "|  4 | 16 | 28 | 40 | 52 | \n",
       "|  7 | 19 | 31 | 43 | 55 | \n",
       "| 10 | 22 | 34 | 46 | 58 | \n",
       "\n",
       "\n"
      ],
      "text/plain": [
       "     [,1] [,2] [,3] [,4] [,5]\n",
       "[1,]  1   13   25   37   49  \n",
       "[2,]  4   16   28   40   52  \n",
       "[3,]  7   19   31   43   55  \n",
       "[4,] 10   22   34   46   58  "
      ]
     },
     "metadata": {},
     "output_type": "display_data"
    }
   ],
   "source": [
    "m = array(1:60, dim=c(3,4,5))\n",
    "m[1,,]"
   ]
  },
  {
   "cell_type": "code",
   "execution_count": 36,
   "metadata": {},
   "outputs": [
    {
     "data": {
      "text/html": [
       "<table>\n",
       "<tbody>\n",
       "\t<tr><td>0</td><td>0</td></tr>\n",
       "\t<tr><td>0</td><td>0</td></tr>\n",
       "</tbody>\n",
       "</table>\n"
      ],
      "text/latex": [
       "\\begin{tabular}{ll}\n",
       "\t 0 & 0\\\\\n",
       "\t 0 & 0\\\\\n",
       "\\end{tabular}\n"
      ],
      "text/markdown": [
       "\n",
       "| 0 | 0 | \n",
       "| 0 | 0 | \n",
       "\n",
       "\n"
      ],
      "text/plain": [
       "     [,1] [,2]\n",
       "[1,] 0    0   \n",
       "[2,] 0    0   "
      ]
     },
     "metadata": {},
     "output_type": "display_data"
    },
    {
     "data": {
      "text/html": [
       "<table>\n",
       "<tbody>\n",
       "\t<tr><td>1.314958</td><td>0       </td></tr>\n",
       "\t<tr><td>0.000000</td><td>0       </td></tr>\n",
       "</tbody>\n",
       "</table>\n"
      ],
      "text/latex": [
       "\\begin{tabular}{ll}\n",
       "\t 1.314958 & 0       \\\\\n",
       "\t 0.000000 & 0       \\\\\n",
       "\\end{tabular}\n"
      ],
      "text/markdown": [
       "\n",
       "| 1.314958 | 0        | \n",
       "| 0.000000 | 0        | \n",
       "\n",
       "\n"
      ],
      "text/plain": [
       "     [,1]     [,2]\n",
       "[1,] 1.314958 0   \n",
       "[2,] 0.000000 0   "
      ]
     },
     "metadata": {},
     "output_type": "display_data"
    },
    {
     "data": {
      "text/html": [
       "<table>\n",
       "<tbody>\n",
       "\t<tr><td>0       </td><td>0.000000</td></tr>\n",
       "\t<tr><td>0       </td><td>3.949533</td></tr>\n",
       "</tbody>\n",
       "</table>\n"
      ],
      "text/latex": [
       "\\begin{tabular}{ll}\n",
       "\t 0        & 0.000000\\\\\n",
       "\t 0        & 3.949533\\\\\n",
       "\\end{tabular}\n"
      ],
      "text/markdown": [
       "\n",
       "| 0        | 0.000000 | \n",
       "| 0        | 3.949533 | \n",
       "\n",
       "\n"
      ],
      "text/plain": [
       "     [,1] [,2]    \n",
       "[1,] 0    0.000000\n",
       "[2,] 0    3.949533"
      ]
     },
     "metadata": {},
     "output_type": "display_data"
    },
    {
     "data": {
      "text/html": [
       "<table>\n",
       "<tbody>\n",
       "\t<tr><td>3.290774e-04</td><td>6.964353e-05</td></tr>\n",
       "\t<tr><td>6.964353e-05</td><td>3.290774e-04</td></tr>\n",
       "</tbody>\n",
       "</table>\n"
      ],
      "text/latex": [
       "\\begin{tabular}{ll}\n",
       "\t 3.290774e-04 & 6.964353e-05\\\\\n",
       "\t 6.964353e-05 & 3.290774e-04\\\\\n",
       "\\end{tabular}\n"
      ],
      "text/markdown": [
       "\n",
       "| 3.290774e-04 | 6.964353e-05 | \n",
       "| 6.964353e-05 | 3.290774e-04 | \n",
       "\n",
       "\n"
      ],
      "text/plain": [
       "     [,1]         [,2]        \n",
       "[1,] 3.290774e-04 6.964353e-05\n",
       "[2,] 6.964353e-05 3.290774e-04"
      ]
     },
     "metadata": {},
     "output_type": "display_data"
    },
    {
     "data": {
      "text/html": [
       "<table>\n",
       "<tbody>\n",
       "\t<tr><td>10.07371   </td><td>   24.37925</td></tr>\n",
       "\t<tr><td>24.37925   </td><td>28516.49709</td></tr>\n",
       "</tbody>\n",
       "</table>\n"
      ],
      "text/latex": [
       "\\begin{tabular}{ll}\n",
       "\t 10.07371    &    24.37925\\\\\n",
       "\t 24.37925    & 28516.49709\\\\\n",
       "\\end{tabular}\n"
      ],
      "text/markdown": [
       "\n",
       "| 10.07371    |    24.37925 | \n",
       "| 24.37925    | 28516.49709 | \n",
       "\n",
       "\n"
      ],
      "text/plain": [
       "     [,1]     [,2]       \n",
       "[1,] 10.07371    24.37925\n",
       "[2,] 24.37925 28516.49709"
      ]
     },
     "metadata": {},
     "output_type": "display_data"
    },
    {
     "data": {
      "text/html": [
       "<table>\n",
       "<tbody>\n",
       "\t<tr><td>8.525740e-04</td><td>2.303394e-05</td></tr>\n",
       "\t<tr><td>2.303394e-05</td><td>1.999861e-05</td></tr>\n",
       "</tbody>\n",
       "</table>\n"
      ],
      "text/latex": [
       "\\begin{tabular}{ll}\n",
       "\t 8.525740e-04 & 2.303394e-05\\\\\n",
       "\t 2.303394e-05 & 1.999861e-05\\\\\n",
       "\\end{tabular}\n"
      ],
      "text/markdown": [
       "\n",
       "| 8.525740e-04 | 2.303394e-05 | \n",
       "| 2.303394e-05 | 1.999861e-05 | \n",
       "\n",
       "\n"
      ],
      "text/plain": [
       "     [,1]         [,2]        \n",
       "[1,] 8.525740e-04 2.303394e-05\n",
       "[2,] 2.303394e-05 1.999861e-05"
      ]
     },
     "metadata": {},
     "output_type": "display_data"
    }
   ],
   "source": [
    "Sigmas <- array(sigmas_list, dim=c(6, 2, 2))\n",
    "Sigmas[1,,] <- matrix(sigmas_list[1:4])\n",
    "Sigmas[2,,] <- matrix(sigmas_list[5:8])\n",
    "Sigmas[3,,] <- matrix(sigmas_list[9:12])\n",
    "Sigmas[4,,] <- matrix(sigmas_list[13:16])\n",
    "Sigmas[5,,] <- matrix(sigmas_list[17:20])\n",
    "Sigmas[6,,] <- matrix(sigmas_list[21:24])\n",
    "\n",
    "Sigmas[1,,]\n",
    "Sigmas[2,,] \n",
    "Sigmas[3,,] \n",
    "Sigmas[4,,] \n",
    "Sigmas[5,,] \n",
    "Sigmas[6,,] "
   ]
  },
  {
   "cell_type": "code",
   "execution_count": null,
   "metadata": {
    "collapsed": true
   },
   "outputs": [],
   "source": [
    " p_1 = p[1]*dmnorm(B, zeros, SE_mat)\n",
    " p_2 = p[2]*dmnorm(B, zeros, SE_mat + Sigmas[2,,])\n",
    "p_3 = p[3]*dmnorm(B, zeros, SE_mat + Sigmas[3,,])\n",
    "p_4 = p[4]*dmnorm(B, zeros, SE_mat + Sigmas[4,,])\n",
    "    p_5 = p[5]*dmnorm(B, zeros, SE_mat + Sigmas[5,,])\n",
    "    p_6 = p[6]*dmnorm(B, zeros, SE_mat + Sigmas[6,,])\n",
    "\n",
    "post_vec <- sapply(1:6, function(i){\n",
    "     p[i]*dmnorm(B, zeros, SE_mat + Sigmas[i,,])\n",
    "})\n"
   ]
  },
  {
   "cell_type": "code",
   "execution_count": 37,
   "metadata": {
    "collapsed": true
   },
   "outputs": [],
   "source": [
    "load(\"../data/biomarker/m4/dat_leg_fp.RData\")\n"
   ]
  },
  {
   "cell_type": "code",
   "execution_count": 45,
   "metadata": {
    "collapsed": true
   },
   "outputs": [],
   "source": [
    "# ASSIGN TO COMPONENTS\n",
    "# TODO - double check assignment for M3\n",
    "\n",
    "require('mnormt')\n",
    "computePosterior4 <- function(B, SE, p, Sigmas){\n",
    "\n",
    "    zeros <- c(0,0)\n",
    "    SE_mat <- matrix(c(SE[1], 0, 0, SE[2]), 2, 2)\n",
    "\n",
    "    post_vec <- sapply(1:6, function(i){\n",
    "     p[i]*dmnorm(B, zeros, SE_mat + Sigmas[i,,])\n",
    "    })\n",
    "    p_tot <- sum(post_vec)\n",
    "    prob_vec <- sapply(post_vec, function(x) exp(log(x)-log(p_tot)))\n",
    "    return(list(unlist(prob_vec)))\n",
    "}\n",
    "\n",
    "\n",
    "B.dat <- dat$dat$B\n",
    "    SE.dat <- dat$dat$SE\n",
    "    N <- dat$dat$N\n",
    "    \n",
    "    posteriors <- lapply(1:N, function(i) computePosterior4(B.dat[i,], SE.dat[i,], p, Sigmas))\n",
    "    posterior.df <- data.frame(do.call(rbind, posteriors))\n"
   ]
  },
  {
   "cell_type": "code",
   "execution_count": 48,
   "metadata": {},
   "outputs": [
    {
     "name": "stderr",
     "output_type": "stream",
     "text": [
      "Loading required package: tidyverse\n",
      "── Attaching packages ─────────────────────────────────────── tidyverse 1.2.1 ──\n",
      "✔ tibble  1.4.2     ✔ purrr   0.2.4\n",
      "✔ tidyr   0.8.1     ✔ dplyr   0.7.4\n",
      "✔ readr   1.1.1     ✔ stringr 1.3.0\n",
      "✔ tibble  1.4.2     ✔ forcats 0.3.0\n",
      "── Conflicts ────────────────────────────────────────── tidyverse_conflicts() ──\n",
      "✖ tidyr::extract() masks rstan::extract()\n",
      "✖ dplyr::filter()  masks stats::filter()\n",
      "✖ dplyr::lag()     masks stats::lag()\n"
     ]
    },
    {
     "data": {
      "text/html": [
       "<table>\n",
       "<thead><tr><th scope=col>do.call.rbind..posteriors.</th></tr></thead>\n",
       "<tbody>\n",
       "\t<tr><td>3.008399e-05, 1.610631e-06, 4.848015e-05, 9.524762e-01, 4.121722e-09, 4.744365e-02</td></tr>\n",
       "\t<tr><td>2.364027e-05, 1.442361e-06, 6.401416e-05, 9.584573e-01, 6.203112e-09, 4.145361e-02</td></tr>\n",
       "\t<tr><td>8.405419e-05, 1.779189e-03, 7.045697e-06, 7.573232e-01, 2.452469e-07, 2.408063e-01</td></tr>\n",
       "\t<tr><td>1.501402e-05, 4.947818e-07, 2.520263e-05, 9.792526e-01, 1.318323e-09, 2.070669e-02</td></tr>\n",
       "\t<tr><td>1.271388e-05, 4.216684e-07, 3.496604e-06, 9.499628e-01, 1.840260e-10, 5.002053e-02</td></tr>\n",
       "\t<tr><td>2.174999e-05, 9.107362e-06, 1.500877e-04, 9.113245e-01, 9.996172e-08, 8.849446e-02</td></tr>\n",
       "</tbody>\n",
       "</table>\n"
      ],
      "text/latex": [
       "\\begin{tabular}{r|l}\n",
       " do.call.rbind..posteriors.\\\\\n",
       "\\hline\n",
       "\t 3.008399e-05, 1.610631e-06, 4.848015e-05, 9.524762e-01, 4.121722e-09, 4.744365e-02\\\\\n",
       "\t 2.364027e-05, 1.442361e-06, 6.401416e-05, 9.584573e-01, 6.203112e-09, 4.145361e-02\\\\\n",
       "\t 8.405419e-05, 1.779189e-03, 7.045697e-06, 7.573232e-01, 2.452469e-07, 2.408063e-01\\\\\n",
       "\t 1.501402e-05, 4.947818e-07, 2.520263e-05, 9.792526e-01, 1.318323e-09, 2.070669e-02\\\\\n",
       "\t 1.271388e-05, 4.216684e-07, 3.496604e-06, 9.499628e-01, 1.840260e-10, 5.002053e-02\\\\\n",
       "\t 2.174999e-05, 9.107362e-06, 1.500877e-04, 9.113245e-01, 9.996172e-08, 8.849446e-02\\\\\n",
       "\\end{tabular}\n"
      ],
      "text/markdown": [
       "\n",
       "do.call.rbind..posteriors. | \n",
       "|---|---|---|---|---|---|\n",
       "| 3.008399e-05, 1.610631e-06, 4.848015e-05, 9.524762e-01, 4.121722e-09, 4.744365e-02 | \n",
       "| 2.364027e-05, 1.442361e-06, 6.401416e-05, 9.584573e-01, 6.203112e-09, 4.145361e-02 | \n",
       "| 8.405419e-05, 1.779189e-03, 7.045697e-06, 7.573232e-01, 2.452469e-07, 2.408063e-01 | \n",
       "| 1.501402e-05, 4.947818e-07, 2.520263e-05, 9.792526e-01, 1.318323e-09, 2.070669e-02 | \n",
       "| 1.271388e-05, 4.216684e-07, 3.496604e-06, 9.499628e-01, 1.840260e-10, 5.002053e-02 | \n",
       "| 2.174999e-05, 9.107362e-06, 1.500877e-04, 9.113245e-01, 9.996172e-08, 8.849446e-02 | \n",
       "\n",
       "\n"
      ],
      "text/plain": [
       "  do.call.rbind..posteriors.                                                        \n",
       "1 3.008399e-05, 1.610631e-06, 4.848015e-05, 9.524762e-01, 4.121722e-09, 4.744365e-02\n",
       "2 2.364027e-05, 1.442361e-06, 6.401416e-05, 9.584573e-01, 6.203112e-09, 4.145361e-02\n",
       "3 8.405419e-05, 1.779189e-03, 7.045697e-06, 7.573232e-01, 2.452469e-07, 2.408063e-01\n",
       "4 1.501402e-05, 4.947818e-07, 2.520263e-05, 9.792526e-01, 1.318323e-09, 2.070669e-02\n",
       "5 1.271388e-05, 4.216684e-07, 3.496604e-06, 9.499628e-01, 1.840260e-10, 5.002053e-02\n",
       "6 2.174999e-05, 9.107362e-06, 1.500877e-04, 9.113245e-01, 9.996172e-08, 8.849446e-02"
      ]
     },
     "metadata": {},
     "output_type": "display_data"
    },
    {
     "ename": "ERROR",
     "evalue": "Error in eval_tidy(enquo(var), var_env): object '' not found\n",
     "output_type": "error",
     "traceback": [
      "Error in eval_tidy(enquo(var), var_env): object '' not found\nTraceback:\n",
      "1. separate(posterior.df)",
      "2. separate.data.frame(posterior.df)",
      "3. tidyselect::vars_pull(names(data), !(!enquo(col)))",
      "4. eval_tidy(enquo(var), var_env)"
     ]
    }
   ],
   "source": [
    "require('tidyverse')\n"
   ]
  },
  {
   "cell_type": "code",
   "execution_count": 50,
   "metadata": {},
   "outputs": [
    {
     "data": {
      "text/html": [
       "<table>\n",
       "<thead><tr><th scope=col>do.call.rbind..posteriors.</th></tr></thead>\n",
       "<tbody>\n",
       "\t<tr><td>3.008399e-05, 1.610631e-06, 4.848015e-05, 9.524762e-01, 4.121722e-09, 4.744365e-02</td></tr>\n",
       "\t<tr><td>2.364027e-05, 1.442361e-06, 6.401416e-05, 9.584573e-01, 6.203112e-09, 4.145361e-02</td></tr>\n",
       "\t<tr><td>8.405419e-05, 1.779189e-03, 7.045697e-06, 7.573232e-01, 2.452469e-07, 2.408063e-01</td></tr>\n",
       "\t<tr><td>1.501402e-05, 4.947818e-07, 2.520263e-05, 9.792526e-01, 1.318323e-09, 2.070669e-02</td></tr>\n",
       "\t<tr><td>1.271388e-05, 4.216684e-07, 3.496604e-06, 9.499628e-01, 1.840260e-10, 5.002053e-02</td></tr>\n",
       "\t<tr><td>2.174999e-05, 9.107362e-06, 1.500877e-04, 9.113245e-01, 9.996172e-08, 8.849446e-02</td></tr>\n",
       "</tbody>\n",
       "</table>\n"
      ],
      "text/latex": [
       "\\begin{tabular}{r|l}\n",
       " do.call.rbind..posteriors.\\\\\n",
       "\\hline\n",
       "\t 3.008399e-05, 1.610631e-06, 4.848015e-05, 9.524762e-01, 4.121722e-09, 4.744365e-02\\\\\n",
       "\t 2.364027e-05, 1.442361e-06, 6.401416e-05, 9.584573e-01, 6.203112e-09, 4.145361e-02\\\\\n",
       "\t 8.405419e-05, 1.779189e-03, 7.045697e-06, 7.573232e-01, 2.452469e-07, 2.408063e-01\\\\\n",
       "\t 1.501402e-05, 4.947818e-07, 2.520263e-05, 9.792526e-01, 1.318323e-09, 2.070669e-02\\\\\n",
       "\t 1.271388e-05, 4.216684e-07, 3.496604e-06, 9.499628e-01, 1.840260e-10, 5.002053e-02\\\\\n",
       "\t 2.174999e-05, 9.107362e-06, 1.500877e-04, 9.113245e-01, 9.996172e-08, 8.849446e-02\\\\\n",
       "\\end{tabular}\n"
      ],
      "text/markdown": [
       "\n",
       "do.call.rbind..posteriors. | \n",
       "|---|---|---|---|---|---|\n",
       "| 3.008399e-05, 1.610631e-06, 4.848015e-05, 9.524762e-01, 4.121722e-09, 4.744365e-02 | \n",
       "| 2.364027e-05, 1.442361e-06, 6.401416e-05, 9.584573e-01, 6.203112e-09, 4.145361e-02 | \n",
       "| 8.405419e-05, 1.779189e-03, 7.045697e-06, 7.573232e-01, 2.452469e-07, 2.408063e-01 | \n",
       "| 1.501402e-05, 4.947818e-07, 2.520263e-05, 9.792526e-01, 1.318323e-09, 2.070669e-02 | \n",
       "| 1.271388e-05, 4.216684e-07, 3.496604e-06, 9.499628e-01, 1.840260e-10, 5.002053e-02 | \n",
       "| 2.174999e-05, 9.107362e-06, 1.500877e-04, 9.113245e-01, 9.996172e-08, 8.849446e-02 | \n",
       "\n",
       "\n"
      ],
      "text/plain": [
       "  do.call.rbind..posteriors.                                                        \n",
       "1 3.008399e-05, 1.610631e-06, 4.848015e-05, 9.524762e-01, 4.121722e-09, 4.744365e-02\n",
       "2 2.364027e-05, 1.442361e-06, 6.401416e-05, 9.584573e-01, 6.203112e-09, 4.145361e-02\n",
       "3 8.405419e-05, 1.779189e-03, 7.045697e-06, 7.573232e-01, 2.452469e-07, 2.408063e-01\n",
       "4 1.501402e-05, 4.947818e-07, 2.520263e-05, 9.792526e-01, 1.318323e-09, 2.070669e-02\n",
       "5 1.271388e-05, 4.216684e-07, 3.496604e-06, 9.499628e-01, 1.840260e-10, 5.002053e-02\n",
       "6 2.174999e-05, 9.107362e-06, 1.500877e-04, 9.113245e-01, 9.996172e-08, 8.849446e-02"
      ]
     },
     "metadata": {},
     "output_type": "display_data"
    },
    {
     "data": {
      "text/html": [
       "<table>\n",
       "<thead><tr><th scope=col>p1</th><th scope=col>p2</th><th scope=col>p3</th><th scope=col>p4</th><th scope=col>p5</th><th scope=col>p6</th></tr></thead>\n",
       "<tbody>\n",
       "\t<tr><td>c(3.00839855290893e-05</td><td> 1.61063149872366e-06 </td><td> 4.84801476683247e-05 </td><td> 0.952476170081863    </td><td> 4.12172170236006e-09 </td><td> 0.0474436510317191)  </td></tr>\n",
       "\t<tr><td>c(2.36402665849905e-05</td><td> 1.44236095661339e-06 </td><td> 6.40141580669137e-05 </td><td> 0.958457283408396    </td><td> 6.20311219400505e-09 </td><td> 0.041453613602883)   </td></tr>\n",
       "\t<tr><td>c(8.40541868308967e-05</td><td> 0.00177918926555593  </td><td> 7.04569732460267e-06 </td><td> 0.757323210598131    </td><td> 2.45246899412538e-07 </td><td> 0.240806255005258)   </td></tr>\n",
       "\t<tr><td>c(1.50140237586438e-05</td><td> 4.94781760191327e-07 </td><td> 2.52026342422092e-05 </td><td> 0.979252597802108    </td><td> 1.31832316261728e-09 </td><td> 0.0207066894398075)  </td></tr>\n",
       "\t<tr><td>c(1.27138773275649e-05</td><td> 4.21668444647323e-07 </td><td> 3.49660370574049e-06 </td><td> 0.949962836868926    </td><td> 1.84026010210068e-10 </td><td> 0.0500205307975696)  </td></tr>\n",
       "\t<tr><td>c(2.17499897838371e-05</td><td> 9.10736174356136e-06 </td><td> 0.000150087679065584 </td><td> 0.911324498827789    </td><td> 9.99617209023021e-08 </td><td> 0.0884944561798968)  </td></tr>\n",
       "</tbody>\n",
       "</table>\n"
      ],
      "text/latex": [
       "\\begin{tabular}{r|llllll}\n",
       " p1 & p2 & p3 & p4 & p5 & p6\\\\\n",
       "\\hline\n",
       "\t c(3.00839855290893e-05 &  1.61063149872366e-06  &  4.84801476683247e-05  &  0.952476170081863     &  4.12172170236006e-09  &  0.0474436510317191)  \\\\\n",
       "\t c(2.36402665849905e-05 &  1.44236095661339e-06  &  6.40141580669137e-05  &  0.958457283408396     &  6.20311219400505e-09  &  0.041453613602883)   \\\\\n",
       "\t c(8.40541868308967e-05 &  0.00177918926555593   &  7.04569732460267e-06  &  0.757323210598131     &  2.45246899412538e-07  &  0.240806255005258)   \\\\\n",
       "\t c(1.50140237586438e-05 &  4.94781760191327e-07  &  2.52026342422092e-05  &  0.979252597802108     &  1.31832316261728e-09  &  0.0207066894398075)  \\\\\n",
       "\t c(1.27138773275649e-05 &  4.21668444647323e-07  &  3.49660370574049e-06  &  0.949962836868926     &  1.84026010210068e-10  &  0.0500205307975696)  \\\\\n",
       "\t c(2.17499897838371e-05 &  9.10736174356136e-06  &  0.000150087679065584  &  0.911324498827789     &  9.99617209023021e-08  &  0.0884944561798968)  \\\\\n",
       "\\end{tabular}\n"
      ],
      "text/markdown": [
       "\n",
       "p1 | p2 | p3 | p4 | p5 | p6 | \n",
       "|---|---|---|---|---|---|\n",
       "| c(3.00839855290893e-05 |  1.61063149872366e-06  |  4.84801476683247e-05  |  0.952476170081863     |  4.12172170236006e-09  |  0.0474436510317191)   | \n",
       "| c(2.36402665849905e-05 |  1.44236095661339e-06  |  6.40141580669137e-05  |  0.958457283408396     |  6.20311219400505e-09  |  0.041453613602883)    | \n",
       "| c(8.40541868308967e-05 |  0.00177918926555593   |  7.04569732460267e-06  |  0.757323210598131     |  2.45246899412538e-07  |  0.240806255005258)    | \n",
       "| c(1.50140237586438e-05 |  4.94781760191327e-07  |  2.52026342422092e-05  |  0.979252597802108     |  1.31832316261728e-09  |  0.0207066894398075)   | \n",
       "| c(1.27138773275649e-05 |  4.21668444647323e-07  |  3.49660370574049e-06  |  0.949962836868926     |  1.84026010210068e-10  |  0.0500205307975696)   | \n",
       "| c(2.17499897838371e-05 |  9.10736174356136e-06  |  0.000150087679065584  |  0.911324498827789     |  9.99617209023021e-08  |  0.0884944561798968)   | \n",
       "\n",
       "\n"
      ],
      "text/plain": [
       "  p1                     p2                    p3                   \n",
       "1 c(3.00839855290893e-05  1.61063149872366e-06  4.84801476683247e-05\n",
       "2 c(2.36402665849905e-05  1.44236095661339e-06  6.40141580669137e-05\n",
       "3 c(8.40541868308967e-05  0.00177918926555593   7.04569732460267e-06\n",
       "4 c(1.50140237586438e-05  4.94781760191327e-07  2.52026342422092e-05\n",
       "5 c(1.27138773275649e-05  4.21668444647323e-07  3.49660370574049e-06\n",
       "6 c(2.17499897838371e-05  9.10736174356136e-06  0.000150087679065584\n",
       "  p4                 p5                    p6                  \n",
       "1  0.952476170081863  4.12172170236006e-09  0.0474436510317191)\n",
       "2  0.958457283408396  6.20311219400505e-09  0.041453613602883) \n",
       "3  0.757323210598131  2.45246899412538e-07  0.240806255005258) \n",
       "4  0.979252597802108  1.31832316261728e-09  0.0207066894398075)\n",
       "5  0.949962836868926  1.84026010210068e-10  0.0500205307975696)\n",
       "6  0.911324498827789  9.99617209023021e-08  0.0884944561798968)"
      ]
     },
     "metadata": {},
     "output_type": "display_data"
    }
   ],
   "source": [
    "head(posterior.df)\n",
    "colnames(posterior.df) <- c(\"col\")\n",
    "post2 <- separate(posterior.df, col, c(\"p1\", \"p2\", \"p3\", \"p4\", \"p5\", \"p6\"), sep=\",\")\n",
    "head(post2)\n"
   ]
  },
  {
   "cell_type": "code",
   "execution_count": 52,
   "metadata": {
    "collapsed": true
   },
   "outputs": [],
   "source": [
    "post2$p1 <- sapply(post2$p1, function(x) strsplit(x, \"(\", fixed=TRUE)[[1]][[2]])\n",
    "post2$p6 <- sapply(post2$p6, function(x) strsplit(x, \")\", fixed=TRUE)[[1]][[1]])"
   ]
  },
  {
   "cell_type": "code",
   "execution_count": null,
   "metadata": {
    "collapsed": true
   },
   "outputs": [],
   "source": [
    "dat$snp"
   ]
  },
  {
   "cell_type": "code",
   "execution_count": 53,
   "metadata": {},
   "outputs": [
    {
     "data": {
      "text/html": [
       "<table>\n",
       "<thead><tr><th scope=col>p1</th><th scope=col>p2</th><th scope=col>p3</th><th scope=col>p4</th><th scope=col>p5</th><th scope=col>p6</th><th scope=col>category</th></tr></thead>\n",
       "<tbody>\n",
       "\t<tr><td>3.00839855290893e-05 </td><td> 1.61063149872366e-06</td><td> 4.84801476683247e-05</td><td> 0.952476170081863   </td><td> 4.12172170236006e-09</td><td> 0.0474436510317191  </td><td>4                    </td></tr>\n",
       "\t<tr><td>2.36402665849905e-05 </td><td> 1.44236095661339e-06</td><td> 6.40141580669137e-05</td><td> 0.958457283408396   </td><td> 6.20311219400505e-09</td><td> 0.041453613602883   </td><td>4                    </td></tr>\n",
       "\t<tr><td>8.40541868308967e-05 </td><td> 0.00177918926555593 </td><td> 7.04569732460267e-06</td><td> 0.757323210598131   </td><td> 2.45246899412538e-07</td><td> 0.240806255005258   </td><td>4                    </td></tr>\n",
       "\t<tr><td>1.50140237586438e-05 </td><td> 4.94781760191327e-07</td><td> 2.52026342422092e-05</td><td> 0.979252597802108   </td><td> 1.31832316261728e-09</td><td> 0.0207066894398075  </td><td>4                    </td></tr>\n",
       "\t<tr><td>1.27138773275649e-05 </td><td> 4.21668444647323e-07</td><td> 3.49660370574049e-06</td><td> 0.949962836868926   </td><td> 1.84026010210068e-10</td><td> 0.0500205307975696  </td><td>4                    </td></tr>\n",
       "\t<tr><td>2.17499897838371e-05 </td><td> 9.10736174356136e-06</td><td> 0.000150087679065584</td><td> 0.911324498827789   </td><td> 9.99617209023021e-08</td><td> 0.0884944561798968  </td><td>4                    </td></tr>\n",
       "</tbody>\n",
       "</table>\n"
      ],
      "text/latex": [
       "\\begin{tabular}{r|lllllll}\n",
       " p1 & p2 & p3 & p4 & p5 & p6 & category\\\\\n",
       "\\hline\n",
       "\t 3.00839855290893e-05  &  1.61063149872366e-06 &  4.84801476683247e-05 &  0.952476170081863    &  4.12172170236006e-09 &  0.0474436510317191   & 4                    \\\\\n",
       "\t 2.36402665849905e-05  &  1.44236095661339e-06 &  6.40141580669137e-05 &  0.958457283408396    &  6.20311219400505e-09 &  0.041453613602883    & 4                    \\\\\n",
       "\t 8.40541868308967e-05  &  0.00177918926555593  &  7.04569732460267e-06 &  0.757323210598131    &  2.45246899412538e-07 &  0.240806255005258    & 4                    \\\\\n",
       "\t 1.50140237586438e-05  &  4.94781760191327e-07 &  2.52026342422092e-05 &  0.979252597802108    &  1.31832316261728e-09 &  0.0207066894398075   & 4                    \\\\\n",
       "\t 1.27138773275649e-05  &  4.21668444647323e-07 &  3.49660370574049e-06 &  0.949962836868926    &  1.84026010210068e-10 &  0.0500205307975696   & 4                    \\\\\n",
       "\t 2.17499897838371e-05  &  9.10736174356136e-06 &  0.000150087679065584 &  0.911324498827789    &  9.99617209023021e-08 &  0.0884944561798968   & 4                    \\\\\n",
       "\\end{tabular}\n"
      ],
      "text/markdown": [
       "\n",
       "p1 | p2 | p3 | p4 | p5 | p6 | category | \n",
       "|---|---|---|---|---|---|\n",
       "| 3.00839855290893e-05  |  1.61063149872366e-06 |  4.84801476683247e-05 |  0.952476170081863    |  4.12172170236006e-09 |  0.0474436510317191   | 4                     | \n",
       "| 2.36402665849905e-05  |  1.44236095661339e-06 |  6.40141580669137e-05 |  0.958457283408396    |  6.20311219400505e-09 |  0.041453613602883    | 4                     | \n",
       "| 8.40541868308967e-05  |  0.00177918926555593  |  7.04569732460267e-06 |  0.757323210598131    |  2.45246899412538e-07 |  0.240806255005258    | 4                     | \n",
       "| 1.50140237586438e-05  |  4.94781760191327e-07 |  2.52026342422092e-05 |  0.979252597802108    |  1.31832316261728e-09 |  0.0207066894398075   | 4                     | \n",
       "| 1.27138773275649e-05  |  4.21668444647323e-07 |  3.49660370574049e-06 |  0.949962836868926    |  1.84026010210068e-10 |  0.0500205307975696   | 4                     | \n",
       "| 2.17499897838371e-05  |  9.10736174356136e-06 |  0.000150087679065584 |  0.911324498827789    |  9.99617209023021e-08 |  0.0884944561798968   | 4                     | \n",
       "\n",
       "\n"
      ],
      "text/plain": [
       "  p1                   p2                    p3                   \n",
       "1 3.00839855290893e-05  1.61063149872366e-06  4.84801476683247e-05\n",
       "2 2.36402665849905e-05  1.44236095661339e-06  6.40141580669137e-05\n",
       "3 8.40541868308967e-05  0.00177918926555593   7.04569732460267e-06\n",
       "4 1.50140237586438e-05  4.94781760191327e-07  2.52026342422092e-05\n",
       "5 1.27138773275649e-05  4.21668444647323e-07  3.49660370574049e-06\n",
       "6 2.17499897838371e-05  9.10736174356136e-06  0.000150087679065584\n",
       "  p4                 p5                    p6                  category\n",
       "1  0.952476170081863  4.12172170236006e-09  0.0474436510317191 4       \n",
       "2  0.958457283408396  6.20311219400505e-09  0.041453613602883  4       \n",
       "3  0.757323210598131  2.45246899412538e-07  0.240806255005258  4       \n",
       "4  0.979252597802108  1.31832316261728e-09  0.0207066894398075 4       \n",
       "5  0.949962836868926  1.84026010210068e-10  0.0500205307975696 4       \n",
       "6  0.911324498827789  9.99617209023021e-08  0.0884944561798968 4       "
      ]
     },
     "metadata": {},
     "output_type": "display_data"
    }
   ],
   "source": [
    "\n",
    "\t# assign to the category with the maximum posterior\n",
    "\tpost2$category <- apply(post2, 1, function(x){\n",
    "\t\treturn(which.max(x))\n",
    "\t})\n"
   ]
  },
  {
   "cell_type": "code",
   "execution_count": 54,
   "metadata": {},
   "outputs": [
    {
     "data": {
      "text/html": [
       "<table>\n",
       "<thead><tr><th scope=col>p1</th><th scope=col>p2</th><th scope=col>p3</th><th scope=col>p4</th><th scope=col>p5</th><th scope=col>p6</th><th scope=col>category</th><th scope=col>SNP</th></tr></thead>\n",
       "<tbody>\n",
       "\t<tr><td>3.00839855290893e-05 </td><td> 1.61063149872366e-06</td><td> 4.84801476683247e-05</td><td> 0.952476170081863   </td><td> 4.12172170236006e-09</td><td> 0.0474436510317191  </td><td>4                    </td><td>rs116452738          </td></tr>\n",
       "\t<tr><td>2.36402665849905e-05 </td><td> 1.44236095661339e-06</td><td> 6.40141580669137e-05</td><td> 0.958457283408396   </td><td> 6.20311219400505e-09</td><td> 0.041453613602883   </td><td>4                    </td><td>rs61770779           </td></tr>\n",
       "\t<tr><td>8.40541868308967e-05 </td><td> 0.00177918926555593 </td><td> 7.04569732460267e-06</td><td> 0.757323210598131   </td><td> 2.45246899412538e-07</td><td> 0.240806255005258   </td><td>4                    </td><td>rs144586153          </td></tr>\n",
       "\t<tr><td>1.50140237586438e-05 </td><td> 4.94781760191327e-07</td><td> 2.52026342422092e-05</td><td> 0.979252597802108   </td><td> 1.31832316261728e-09</td><td> 0.0207066894398075  </td><td>4                    </td><td>rs61766344           </td></tr>\n",
       "\t<tr><td>1.27138773275649e-05 </td><td> 4.21668444647323e-07</td><td> 3.49660370574049e-06</td><td> 0.949962836868926   </td><td> 1.84026010210068e-10</td><td> 0.0500205307975696  </td><td>4                    </td><td>rs72631898           </td></tr>\n",
       "\t<tr><td>2.17499897838371e-05 </td><td> 9.10736174356136e-06</td><td> 0.000150087679065584</td><td> 0.911324498827789   </td><td> 9.99617209023021e-08</td><td> 0.0884944561798968  </td><td>4                    </td><td>rs140107023          </td></tr>\n",
       "</tbody>\n",
       "</table>\n"
      ],
      "text/latex": [
       "\\begin{tabular}{r|llllllll}\n",
       " p1 & p2 & p3 & p4 & p5 & p6 & category & SNP\\\\\n",
       "\\hline\n",
       "\t 3.00839855290893e-05  &  1.61063149872366e-06 &  4.84801476683247e-05 &  0.952476170081863    &  4.12172170236006e-09 &  0.0474436510317191   & 4                     & rs116452738          \\\\\n",
       "\t 2.36402665849905e-05  &  1.44236095661339e-06 &  6.40141580669137e-05 &  0.958457283408396    &  6.20311219400505e-09 &  0.041453613602883    & 4                     & rs61770779           \\\\\n",
       "\t 8.40541868308967e-05  &  0.00177918926555593  &  7.04569732460267e-06 &  0.757323210598131    &  2.45246899412538e-07 &  0.240806255005258    & 4                     & rs144586153          \\\\\n",
       "\t 1.50140237586438e-05  &  4.94781760191327e-07 &  2.52026342422092e-05 &  0.979252597802108    &  1.31832316261728e-09 &  0.0207066894398075   & 4                     & rs61766344           \\\\\n",
       "\t 1.27138773275649e-05  &  4.21668444647323e-07 &  3.49660370574049e-06 &  0.949962836868926    &  1.84026010210068e-10 &  0.0500205307975696   & 4                     & rs72631898           \\\\\n",
       "\t 2.17499897838371e-05  &  9.10736174356136e-06 &  0.000150087679065584 &  0.911324498827789    &  9.99617209023021e-08 &  0.0884944561798968   & 4                     & rs140107023          \\\\\n",
       "\\end{tabular}\n"
      ],
      "text/markdown": [
       "\n",
       "p1 | p2 | p3 | p4 | p5 | p6 | category | SNP | \n",
       "|---|---|---|---|---|---|\n",
       "| 3.00839855290893e-05  |  1.61063149872366e-06 |  4.84801476683247e-05 |  0.952476170081863    |  4.12172170236006e-09 |  0.0474436510317191   | 4                     | rs116452738           | \n",
       "| 2.36402665849905e-05  |  1.44236095661339e-06 |  6.40141580669137e-05 |  0.958457283408396    |  6.20311219400505e-09 |  0.041453613602883    | 4                     | rs61770779            | \n",
       "| 8.40541868308967e-05  |  0.00177918926555593  |  7.04569732460267e-06 |  0.757323210598131    |  2.45246899412538e-07 |  0.240806255005258    | 4                     | rs144586153           | \n",
       "| 1.50140237586438e-05  |  4.94781760191327e-07 |  2.52026342422092e-05 |  0.979252597802108    |  1.31832316261728e-09 |  0.0207066894398075   | 4                     | rs61766344            | \n",
       "| 1.27138773275649e-05  |  4.21668444647323e-07 |  3.49660370574049e-06 |  0.949962836868926    |  1.84026010210068e-10 |  0.0500205307975696   | 4                     | rs72631898            | \n",
       "| 2.17499897838371e-05  |  9.10736174356136e-06 |  0.000150087679065584 |  0.911324498827789    |  9.99617209023021e-08 |  0.0884944561798968   | 4                     | rs140107023           | \n",
       "\n",
       "\n"
      ],
      "text/plain": [
       "  p1                   p2                    p3                   \n",
       "1 3.00839855290893e-05  1.61063149872366e-06  4.84801476683247e-05\n",
       "2 2.36402665849905e-05  1.44236095661339e-06  6.40141580669137e-05\n",
       "3 8.40541868308967e-05  0.00177918926555593   7.04569732460267e-06\n",
       "4 1.50140237586438e-05  4.94781760191327e-07  2.52026342422092e-05\n",
       "5 1.27138773275649e-05  4.21668444647323e-07  3.49660370574049e-06\n",
       "6 2.17499897838371e-05  9.10736174356136e-06  0.000150087679065584\n",
       "  p4                 p5                    p6                  category\n",
       "1  0.952476170081863  4.12172170236006e-09  0.0474436510317191 4       \n",
       "2  0.958457283408396  6.20311219400505e-09  0.041453613602883  4       \n",
       "3  0.757323210598131  2.45246899412538e-07  0.240806255005258  4       \n",
       "4  0.979252597802108  1.31832316261728e-09  0.0207066894398075 4       \n",
       "5  0.949962836868926  1.84026010210068e-10  0.0500205307975696 4       \n",
       "6  0.911324498827789  9.99617209023021e-08  0.0884944561798968 4       \n",
       "  SNP        \n",
       "1 rs116452738\n",
       "2 rs61770779 \n",
       "3 rs144586153\n",
       "4 rs61766344 \n",
       "5 rs72631898 \n",
       "6 rs140107023"
      ]
     },
     "metadata": {},
     "output_type": "display_data"
    }
   ],
   "source": [
    "\tpost2$SNP <- dat$snp\n",
    "\thead(post2)"
   ]
  },
  {
   "cell_type": "code",
   "execution_count": 55,
   "metadata": {},
   "outputs": [
    {
     "data": {
      "text/plain": [
       "\n",
       "    2     4     6 \n",
       "    1 12222   150 "
      ]
     },
     "metadata": {},
     "output_type": "display_data"
    }
   ],
   "source": [
    "table(post2$category)"
   ]
  },
  {
   "cell_type": "code",
   "execution_count": 56,
   "metadata": {},
   "outputs": [
    {
     "data": {
      "text/html": [
       "<table>\n",
       "<thead><tr><th scope=col>p1</th><th scope=col>p2</th><th scope=col>p3</th><th scope=col>p4</th><th scope=col>p5</th><th scope=col>p6</th><th scope=col>category</th><th scope=col>SNP</th></tr></thead>\n",
       "<tbody>\n",
       "\t<tr><td>1.16140133174065e-06 </td><td> 0.899186439580379   </td><td> 5.29194045826529e-08</td><td> 0.037521669347865   </td><td> 6.7220988847598e-05 </td><td> 0.0632234557621718  </td><td>2                    </td><td>rs150090666          </td></tr>\n",
       "</tbody>\n",
       "</table>\n"
      ],
      "text/latex": [
       "\\begin{tabular}{r|llllllll}\n",
       " p1 & p2 & p3 & p4 & p5 & p6 & category & SNP\\\\\n",
       "\\hline\n",
       "\t 1.16140133174065e-06  &  0.899186439580379    &  5.29194045826529e-08 &  0.037521669347865    &  6.7220988847598e-05  &  0.0632234557621718   & 2                     & rs150090666          \\\\\n",
       "\\end{tabular}\n"
      ],
      "text/markdown": [
       "\n",
       "p1 | p2 | p3 | p4 | p5 | p6 | category | SNP | \n",
       "|---|\n",
       "| 1.16140133174065e-06  |  0.899186439580379    |  5.29194045826529e-08 |  0.037521669347865    |  6.7220988847598e-05  |  0.0632234557621718   | 2                     | rs150090666           | \n",
       "\n",
       "\n"
      ],
      "text/plain": [
       "  p1                   p2                 p3                   \n",
       "1 1.16140133174065e-06  0.899186439580379  5.29194045826529e-08\n",
       "  p4                 p5                   p6                  category\n",
       "1  0.037521669347865  6.7220988847598e-05  0.0632234557621718 2       \n",
       "  SNP        \n",
       "1 rs150090666"
      ]
     },
     "metadata": {},
     "output_type": "display_data"
    },
    {
     "data": {
      "text/html": [
       "<table>\n",
       "<thead><tr><th scope=col>p1</th><th scope=col>p2</th><th scope=col>p3</th><th scope=col>p4</th><th scope=col>p5</th><th scope=col>p6</th><th scope=col>category</th><th scope=col>SNP</th></tr></thead>\n",
       "<tbody>\n",
       "\t<tr><td>5.51499401380145e-06 </td><td> 0.000245613464255367</td><td> 1.33302315014852e-07</td><td> 0.484168934104261   </td><td> 9.44388219894551e-09</td><td> 0.515579794691273   </td><td>6                    </td><td>rs145659444          </td></tr>\n",
       "\t<tr><td>2.97897397143143e-14 </td><td> 5.6004290480073e-05 </td><td> 9.84816328400716e-16</td><td> 0.440576459499518   </td><td> 2.94082424531383e-09</td><td> 0.559367533269147   </td><td>6                    </td><td>rs115584674          </td></tr>\n",
       "\t<tr><td>6.47894441875989e-10 </td><td> 0.000109610316247921</td><td> 1.11107264878453e-11</td><td> 0.36460366972855    </td><td> 2.98623085501223e-09</td><td> 0.635286716309966   </td><td>6                    </td><td>rs56228576           </td></tr>\n",
       "\t<tr><td>4.75149345664106e-09 </td><td> 0.000449249896309436</td><td> 7.93465994789226e-11</td><td> 0.209958141793168   </td><td> 1.1929196469158e-08 </td><td> 0.789592591550486   </td><td>6                    </td><td>rs11580946           </td></tr>\n",
       "\t<tr><td>1.12523436826333e-06 </td><td> 5.33544631720985e-05</td><td> 1.12583037792022e-08</td><td> 0.491251419238024   </td><td> 8.476841641657e-10  </td><td> 0.508694088958448   </td><td>6                    </td><td>rs7531602            </td></tr>\n",
       "\t<tr><td>5.58008135459827e-08 </td><td> 5.05133490043683e-05</td><td> 4.22425242571161e-10</td><td> 0.459732416666022   </td><td> 6.07133941860179e-10</td><td> 0.5402170131546     </td><td>6                    </td><td>rs116811962          </td></tr>\n",
       "</tbody>\n",
       "</table>\n"
      ],
      "text/latex": [
       "\\begin{tabular}{r|llllllll}\n",
       " p1 & p2 & p3 & p4 & p5 & p6 & category & SNP\\\\\n",
       "\\hline\n",
       "\t 5.51499401380145e-06  &  0.000245613464255367 &  1.33302315014852e-07 &  0.484168934104261    &  9.44388219894551e-09 &  0.515579794691273    & 6                     & rs145659444          \\\\\n",
       "\t 2.97897397143143e-14  &  5.6004290480073e-05  &  9.84816328400716e-16 &  0.440576459499518    &  2.94082424531383e-09 &  0.559367533269147    & 6                     & rs115584674          \\\\\n",
       "\t 6.47894441875989e-10  &  0.000109610316247921 &  1.11107264878453e-11 &  0.36460366972855     &  2.98623085501223e-09 &  0.635286716309966    & 6                     & rs56228576           \\\\\n",
       "\t 4.75149345664106e-09  &  0.000449249896309436 &  7.93465994789226e-11 &  0.209958141793168    &  1.1929196469158e-08  &  0.789592591550486    & 6                     & rs11580946           \\\\\n",
       "\t 1.12523436826333e-06  &  5.33544631720985e-05 &  1.12583037792022e-08 &  0.491251419238024    &  8.476841641657e-10   &  0.508694088958448    & 6                     & rs7531602            \\\\\n",
       "\t 5.58008135459827e-08  &  5.05133490043683e-05 &  4.22425242571161e-10 &  0.459732416666022    &  6.07133941860179e-10 &  0.5402170131546      & 6                     & rs116811962          \\\\\n",
       "\\end{tabular}\n"
      ],
      "text/markdown": [
       "\n",
       "p1 | p2 | p3 | p4 | p5 | p6 | category | SNP | \n",
       "|---|---|---|---|---|---|\n",
       "| 5.51499401380145e-06  |  0.000245613464255367 |  1.33302315014852e-07 |  0.484168934104261    |  9.44388219894551e-09 |  0.515579794691273    | 6                     | rs145659444           | \n",
       "| 2.97897397143143e-14  |  5.6004290480073e-05  |  9.84816328400716e-16 |  0.440576459499518    |  2.94082424531383e-09 |  0.559367533269147    | 6                     | rs115584674           | \n",
       "| 6.47894441875989e-10  |  0.000109610316247921 |  1.11107264878453e-11 |  0.36460366972855     |  2.98623085501223e-09 |  0.635286716309966    | 6                     | rs56228576            | \n",
       "| 4.75149345664106e-09  |  0.000449249896309436 |  7.93465994789226e-11 |  0.209958141793168    |  1.1929196469158e-08  |  0.789592591550486    | 6                     | rs11580946            | \n",
       "| 1.12523436826333e-06  |  5.33544631720985e-05 |  1.12583037792022e-08 |  0.491251419238024    |  8.476841641657e-10   |  0.508694088958448    | 6                     | rs7531602             | \n",
       "| 5.58008135459827e-08  |  5.05133490043683e-05 |  4.22425242571161e-10 |  0.459732416666022    |  6.07133941860179e-10 |  0.5402170131546      | 6                     | rs116811962           | \n",
       "\n",
       "\n"
      ],
      "text/plain": [
       "  p1                   p2                    p3                   \n",
       "1 5.51499401380145e-06  0.000245613464255367  1.33302315014852e-07\n",
       "2 2.97897397143143e-14  5.6004290480073e-05   9.84816328400716e-16\n",
       "3 6.47894441875989e-10  0.000109610316247921  1.11107264878453e-11\n",
       "4 4.75149345664106e-09  0.000449249896309436  7.93465994789226e-11\n",
       "5 1.12523436826333e-06  5.33544631720985e-05  1.12583037792022e-08\n",
       "6 5.58008135459827e-08  5.05133490043683e-05  4.22425242571161e-10\n",
       "  p4                 p5                    p6                 category\n",
       "1  0.484168934104261  9.44388219894551e-09  0.515579794691273 6       \n",
       "2  0.440576459499518  2.94082424531383e-09  0.559367533269147 6       \n",
       "3  0.36460366972855   2.98623085501223e-09  0.635286716309966 6       \n",
       "4  0.209958141793168  1.1929196469158e-08   0.789592591550486 6       \n",
       "5  0.491251419238024  8.476841641657e-10    0.508694088958448 6       \n",
       "6  0.459732416666022  6.07133941860179e-10  0.5402170131546   6       \n",
       "  SNP        \n",
       "1 rs145659444\n",
       "2 rs115584674\n",
       "3 rs56228576 \n",
       "4 rs11580946 \n",
       "5 rs7531602  \n",
       "6 rs116811962"
      ]
     },
     "metadata": {},
     "output_type": "display_data"
    }
   ],
   "source": [
    "cat2 <- filter(post2, category==2)\n",
    "cat2\n",
    "cat6 <- filter(post2, category==6)\n",
    "head(cat6)"
   ]
  },
  {
   "cell_type": "code",
   "execution_count": 57,
   "metadata": {},
   "outputs": [
    {
     "name": "stderr",
     "output_type": "stream",
     "text": [
      "Loading required package: MASS\n",
      "\n",
      "Attaching package: ‘MASS’\n",
      "\n",
      "The following object is masked from ‘package:dplyr’:\n",
      "\n",
      "    select\n",
      "\n",
      "Loading required package: Matrix\n",
      "\n",
      "Attaching package: ‘Matrix’\n",
      "\n",
      "The following object is masked from ‘package:tidyr’:\n",
      "\n",
      "    expand\n",
      "\n",
      "Loading required package: qqman\n",
      "\n",
      "For example usage please run: vignette('qqman')\n",
      "\n",
      "Citation appreciated but not required:\n",
      "Turner, S.D. qqman: an R package for visualizing GWAS results using Q-Q and manhattan plots. biorXiv DOI: 10.1101/005165 (2014).\n",
      "\n"
     ]
    },
    {
     "name": "stdout",
     "output_type": "stream",
     "text": [
      "[1] \"File missing for c1 trait:leg_fp zerosex\"\n",
      "[1] \"File missing for c2 trait:leg_fp zerosex\"\n",
      "[1] \"File missing for c3 trait:leg_fp zerosex\"\n",
      "[1] \"File missing for c4 trait:leg_fp zerosex\"\n",
      "[1] \"File missing for c5 trait:leg_fp zerosex\"\n",
      "[1] \"File missing for c6 trait:leg_fp zerosex\"\n",
      "[1] \"File missing for c7 trait:leg_fp zerosex\"\n",
      "[1] \"File missing for c8 trait:leg_fp zerosex\"\n",
      "[1] \"File missing for c9 trait:leg_fp zerosex\"\n",
      "[1] \"File missing for c10 trait:leg_fp zerosex\"\n",
      "[1] \"File missing for c11 trait:leg_fp zerosex\"\n",
      "[1] \"File missing for c12 trait:leg_fp zerosex\"\n",
      "[1] \"File missing for c13 trait:leg_fp zerosex\"\n",
      "[1] \"File missing for c14 trait:leg_fp zerosex\"\n",
      "[1] \"File missing for c15 trait:leg_fp zerosex\"\n",
      "[1] \"File missing for c16 trait:leg_fp zerosex\"\n",
      "[1] \"File missing for c17 trait:leg_fp zerosex\"\n",
      "[1] \"File missing for c18 trait:leg_fp zerosex\"\n",
      "[1] \"File missing for c19 trait:leg_fp zerosex\"\n",
      "[1] \"File missing for c20 trait:leg_fp zerosex\"\n",
      "[1] \"File missing for c21 trait:leg_fp zerosex\"\n",
      "[1] \"File missing for c22 trait:leg_fp zerosex\"\n",
      "[1] \"File missing for c1 trait:leg_fp onesex\"\n",
      "[1] \"File missing for c2 trait:leg_fp onesex\"\n",
      "[1] \"File missing for c3 trait:leg_fp onesex\"\n",
      "[1] \"File missing for c4 trait:leg_fp onesex\"\n",
      "[1] \"File missing for c5 trait:leg_fp onesex\"\n",
      "[1] \"File missing for c6 trait:leg_fp onesex\"\n",
      "[1] \"File missing for c7 trait:leg_fp onesex\"\n",
      "[1] \"File missing for c8 trait:leg_fp onesex\"\n",
      "[1] \"File missing for c9 trait:leg_fp onesex\"\n",
      "[1] \"File missing for c10 trait:leg_fp onesex\"\n",
      "[1] \"File missing for c11 trait:leg_fp onesex\"\n",
      "[1] \"File missing for c12 trait:leg_fp onesex\"\n",
      "[1] \"File missing for c13 trait:leg_fp onesex\"\n",
      "[1] \"File missing for c14 trait:leg_fp onesex\"\n",
      "[1] \"File missing for c15 trait:leg_fp onesex\"\n",
      "[1] \"File missing for c16 trait:leg_fp onesex\"\n",
      "[1] \"File missing for c17 trait:leg_fp onesex\"\n",
      "[1] \"File missing for c18 trait:leg_fp onesex\"\n",
      "[1] \"File missing for c19 trait:leg_fp onesex\"\n",
      "[1] \"File missing for c20 trait:leg_fp onesex\"\n",
      "[1] \"File missing for c21 trait:leg_fp onesex\"\n",
      "[1] \"File missing for c22 trait:leg_fp onesex\"\n",
      "[1] 2\n",
      "[1] 330732     11\n"
     ]
    }
   ],
   "source": [
    "source('../mixture_model_scripts/model_utils.R')\n",
    "list.prefixes <- c(\"zerosex\", \"onesex\")\n",
    "trait <- \"leg_fp\"\n",
    "chrs <- c(1:22)\n",
    "        list.ds <- lapply(list.prefixes, function(prefix) {\n",
    "                all.dat <- do.call(rbind, lapply(chrs, function(chr) { getFile(prefix, chr, trait)}));\n",
    "                colnames(all.dat)[1:3] <- c(\"CHR\", \"BP\", \"SNP\");\n",
    "                return(all.dat)\n",
    "            })\n",
    "\n",
    "        list.ds2 <- extractOverlappingRows(list.ds)\n",
    "\tdf.f <- list.ds2[[1]]\n",
    "\tdf.m <- list.ds2[[2]]\n"
   ]
  },
  {
   "cell_type": "code",
   "execution_count": 65,
   "metadata": {
    "collapsed": true
   },
   "outputs": [],
   "source": [
    "extractSNPcat4 <- function(snp.df, df.f, df.m, category){\n",
    "    comp4 <- snp.df[which(snp.df$category==category),c(\"p1\", \"p2\", \"p3\", \"p4\",\"p5\", \"p6\", \"SNP\")]\n",
    "    if (length(comp4$SNP) > 0){\n",
    "            both.snps <- cbind(df.f[df.f$SNP %in% comp4$SNP ,c(\"SNP\", \"CHR\", \"BP\", \"BETA\",\"SE\", \"P\")], \n",
    "             df.m[df.m$SNP %in% comp4$SNP,c(\"BETA\",\"SE\", \"P\")])\n",
    "            colnames(both.snps) <- c(\"SNP\", \"CHR\", \"BP\", \"B_f\", \"SE_f\", \"p_f\", \"B_m\", \"SE_m\", \"p_m\")\n",
    "            both.snp.df <- both.snps[,c(\"SNP\", \"CHR\", \"BP\", \"B_f\", \"B_m\", \"SE_f\", \"SE_m\", \"p_m\",\"p_f\")] \n",
    "            both.snp.df <- merge(both.snp.df, comp4, by=\"SNP\")       \n",
    "    both.snp.df2 <- annotateSNP(both.snp.df)\n",
    "\n",
    "    return(both.snp.df2)\n",
    "        }\n",
    "}"
   ]
  },
  {
   "cell_type": "code",
   "execution_count": 62,
   "metadata": {
    "collapsed": true
   },
   "outputs": [],
   "source": [
    "source(\"../mixture_model_scripts/snp_utils.R\")"
   ]
  },
  {
   "cell_type": "code",
   "execution_count": 66,
   "metadata": {
    "collapsed": true
   },
   "outputs": [],
   "source": [
    "snp.df <- post2\t\n",
    "cat6a <- extractSNPcat4(snp.df, df.f, df.m, 6) \n",
    "cat2a <- extractSNPcat4(snp.df, df.f, df.m, 2) \n"
   ]
  },
  {
   "cell_type": "code",
   "execution_count": 77,
   "metadata": {
    "collapsed": true
   },
   "outputs": [],
   "source": [
    "cat6a <- cat6a %>% arrange(desc(p6) )\n",
    "\n",
    "write.table(cat6a, file=\"../data/biomarker/m4/leg_fp_cat6.txt\", row.names=FALSE, sep=\"\\t\")\n",
    "write.table(cat2a, file=\"../data/biomarker/m4/leg_fp_cat2.txt\", row.names=FALSE, sep=\"\\t\")"
   ]
  },
  {
   "cell_type": "code",
   "execution_count": 80,
   "metadata": {},
   "outputs": [
    {
     "data": {
      "text/html": [
       "<table>\n",
       "<thead><tr><th scope=col>SNP</th><th scope=col>B_f</th><th scope=col>B_m</th><th scope=col>SE_f</th><th scope=col>SE_m</th><th scope=col>p_m</th><th scope=col>p_f</th><th scope=col>p2</th><th scope=col>gene</th></tr></thead>\n",
       "<tbody>\n",
       "\t<tr><td>rs150090666       </td><td>-0.311644         </td><td>0.00941819        </td><td>0.0556912         </td><td>0.0538364         </td><td>0.861126          </td><td>2.19826e-08       </td><td> 0.899186439580379</td><td>PDE3B             </td></tr>\n",
       "</tbody>\n",
       "</table>\n"
      ],
      "text/latex": [
       "\\begin{tabular}{r|lllllllll}\n",
       " SNP & B\\_f & B\\_m & SE\\_f & SE\\_m & p\\_m & p\\_f & p2 & gene\\\\\n",
       "\\hline\n",
       "\t rs150090666        & -0.311644          & 0.00941819         & 0.0556912          & 0.0538364          & 0.861126           & 2.19826e-08        &  0.899186439580379 & PDE3B             \\\\\n",
       "\\end{tabular}\n"
      ],
      "text/markdown": [
       "\n",
       "SNP | B_f | B_m | SE_f | SE_m | p_m | p_f | p2 | gene | \n",
       "|---|\n",
       "| rs150090666        | -0.311644          | 0.00941819         | 0.0556912          | 0.0538364          | 0.861126           | 2.19826e-08        |  0.899186439580379 | PDE3B              | \n",
       "\n",
       "\n"
      ],
      "text/plain": [
       "  SNP         B_f       B_m        SE_f      SE_m      p_m      p_f        \n",
       "1 rs150090666 -0.311644 0.00941819 0.0556912 0.0538364 0.861126 2.19826e-08\n",
       "  p2                 gene \n",
       "1  0.899186439580379 PDE3B"
      ]
     },
     "metadata": {},
     "output_type": "display_data"
    },
    {
     "data": {
      "text/html": [
       "<table>\n",
       "<thead><tr><th scope=col>SNP</th><th scope=col>B_f</th><th scope=col>B_m</th><th scope=col>SE_f</th><th scope=col>SE_m</th><th scope=col>p_m</th><th scope=col>p_f</th><th scope=col>p6</th><th scope=col>gene</th></tr></thead>\n",
       "<tbody>\n",
       "\t<tr><td>rs16942341        </td><td> 0.0983448        </td><td>-0.017593700      </td><td>0.01077520        </td><td>0.01062910        </td><td>0.0978798         </td><td>7.12832e-20       </td><td> 0.982941125128308</td><td>ACAN              </td></tr>\n",
       "\t<tr><td>rs41271299        </td><td>-0.0749335        </td><td> 0.003918240      </td><td>0.00819688        </td><td>0.00809078        </td><td>0.6281850         </td><td>6.21896e-20       </td><td> 0.960038945390768</td><td>ID4               </td></tr>\n",
       "\t<tr><td>rs77146408        </td><td>-0.0899494        </td><td>-0.000289245      </td><td>0.01291700        </td><td>0.01265020        </td><td>0.9817580         </td><td>3.32893e-12       </td><td> 0.956014041200016</td><td>GRM4              </td></tr>\n",
       "\t<tr><td>rs75223147        </td><td>-0.0795803        </td><td> 0.001314920      </td><td>0.01262450        </td><td>0.01240870        </td><td>0.9156080         </td><td>2.91546e-10       </td><td> 0.90685460817679 </td><td>NA                </td></tr>\n",
       "\t<tr><td>rs117187575       </td><td>-0.0709304        </td><td> 0.007317750      </td><td>0.01043430        </td><td>0.01044870        </td><td>0.4837110         </td><td>1.06599e-11       </td><td> 0.888027385903294</td><td>PIGU              </td></tr>\n",
       "\t<tr><td>rs11729800        </td><td>-0.0648217        </td><td>-0.009168650      </td><td>0.00740094        </td><td>0.00737102        </td><td>0.2135470         </td><td>1.99677e-18       </td><td> 0.859442765723191</td><td>ADAMTS3           </td></tr>\n",
       "\t<tr><td>rs9358913         </td><td> 0.0521167        </td><td> 0.001893280      </td><td>0.00412513        </td><td>0.00410202        </td><td>0.6444060         </td><td>1.43119e-36       </td><td> 0.854144897528468</td><td>HIST1H1D          </td></tr>\n",
       "\t<tr><td>rs1326122         </td><td>-0.0736036        </td><td>-0.003174450      </td><td>0.01256170        </td><td>0.01244270        </td><td>0.7986270         </td><td>4.65636e-09       </td><td> 0.84777264261698 </td><td>DLEU1             </td></tr>\n",
       "\t<tr><td>rs12795957        </td><td> 0.0605303        </td><td> 0.005007580      </td><td>0.00777633        </td><td>0.00778317        </td><td>0.5199750         </td><td>7.07522e-15       </td><td> 0.840962411955843</td><td>AIP               </td></tr>\n",
       "\t<tr><td>rs149615348       </td><td> 0.1080910        </td><td> 0.004790720      </td><td>0.02146700        </td><td>0.02164460        </td><td>0.8248310         </td><td>4.77790e-07       </td><td> 0.828669762675728</td><td>CRISPLD2          </td></tr>\n",
       "\t<tr><td>rs117573122       </td><td> 0.1052560        </td><td>-0.002653140      </td><td>0.02130750        </td><td>0.02118280        </td><td>0.9003260         </td><td>7.82557e-07       </td><td> 0.823232239314581</td><td>POLR2A            </td></tr>\n",
       "\t<tr><td>rs72770234        </td><td> 0.0578600        </td><td> 0.004529060      </td><td>0.00743400        </td><td>0.00738957        </td><td>0.5399440         </td><td>7.11804e-15       </td><td> 0.820968941166395</td><td>ADAMTS17          </td></tr>\n",
       "\t<tr><td>rs59595954        </td><td>-0.0743761        </td><td>-0.011792400      </td><td>0.01223280        </td><td>0.01204310        </td><td>0.3274930         </td><td>1.20420e-09       </td><td> 0.8188428615417  </td><td>FKBP5             </td></tr>\n",
       "\t<tr><td>rs80356191        </td><td>-0.0919001        </td><td>-0.027887300      </td><td>0.01314260        </td><td>0.01287570        </td><td>0.0303215         </td><td>2.71070e-12       </td><td> 0.818026240130686</td><td>ANKS1A            </td></tr>\n",
       "\t<tr><td>rs396763          </td><td> 0.0848084        </td><td>-0.001436500      </td><td>0.01681110        </td><td>0.01661770        </td><td>0.9311140         </td><td>4.54553e-07       </td><td> 0.815702366574846</td><td>LY6G6C            </td></tr>\n",
       "\t<tr><td>rs28399993        </td><td> 0.0847324        </td><td> 0.002866980      </td><td>0.01682170        </td><td>0.01660950        </td><td>0.8629580         </td><td>4.73229e-07       </td><td> 0.807055752141574</td><td>SAPCD1            </td></tr>\n",
       "\t<tr><td>rs115254649       </td><td>-0.0798325        </td><td> 0.007166860      </td><td>0.01587190        </td><td>0.01614940        </td><td>0.6571980         </td><td>4.91521e-07       </td><td> 0.801221869213548</td><td>TRIM15            </td></tr>\n",
       "\t<tr><td>rs11580946        </td><td>-0.0777220        </td><td>-0.011861500      </td><td>0.01424610        </td><td>0.01395840        </td><td>0.3954540         </td><td>4.88627e-08       </td><td> 0.789592591550486</td><td>MCL1              </td></tr>\n",
       "\t<tr><td>rs3817428         </td><td> 0.0485445        </td><td> 0.004977400      </td><td>0.00409105        </td><td>0.00406525        </td><td>0.2208120         </td><td>1.83648e-32       </td><td> 0.768306250909657</td><td>ACAN              </td></tr>\n",
       "\t<tr><td>rs116320423       </td><td>-0.0768228        </td><td> 0.006925740      </td><td>0.01584180        </td><td>0.01624800        </td><td>0.6699250         </td><td>1.23963e-06       </td><td> 0.768224334951462</td><td>TRIM31            </td></tr>\n",
       "\t<tr><td>rs78844280        </td><td>-0.0717525        </td><td>-0.013481500      </td><td>0.01226980        </td><td>0.01217500        </td><td>0.2681600         </td><td>4.98847e-09       </td><td> 0.766251210471763</td><td>KPNA3             </td></tr>\n",
       "\t<tr><td>rs36221133        </td><td> 0.0789312        </td><td>-0.001023990      </td><td>0.01668980        </td><td>0.01644700        </td><td>0.9503560         </td><td>2.25474e-06       </td><td> 0.758052991594705</td><td>C2                </td></tr>\n",
       "\t<tr><td>rs112594996       </td><td>-0.0547289        </td><td> 0.004246210      </td><td>0.00869550        </td><td>0.00859329        </td><td>0.6212140         </td><td>3.10356e-10       </td><td> 0.75217487269765 </td><td>PTPDC1            </td></tr>\n",
       "\t<tr><td>rs61734601        </td><td> 0.0566619        </td><td> 0.009709580      </td><td>0.00651314        </td><td>0.00649150        </td><td>0.1347240         </td><td>3.36197e-18       </td><td> 0.744189623143661</td><td>CARNS1            </td></tr>\n",
       "\t<tr><td>rs117362888       </td><td>-0.0536435        </td><td> 0.000196762      </td><td>0.00891348        </td><td>0.00884747        </td><td>0.9822570         </td><td>1.76713e-09       </td><td> 0.733919837035711</td><td>PHF20             </td></tr>\n",
       "\t<tr><td>rs34419890        </td><td> 0.0530302        </td><td> 0.007259460      </td><td>0.00686283        </td><td>0.00685903        </td><td>0.2898840         </td><td>1.10642e-14       </td><td> 0.728412298997911</td><td>SPTBN2            </td></tr>\n",
       "\t<tr><td>rs10518109        </td><td>-0.0741364        </td><td>-0.004977390      </td><td>0.01579020        </td><td>0.01556780        </td><td>0.7491790         </td><td>2.66716e-06       </td><td> 0.723064447163642</td><td>ADAMTS3           </td></tr>\n",
       "\t<tr><td>rs77870445        </td><td>-0.0771815        </td><td> 0.024619700      </td><td>0.01546160        </td><td>0.01576720        </td><td>0.1184180         </td><td>5.98792e-07       </td><td> 0.721043912132327</td><td>BTN1A1            </td></tr>\n",
       "\t<tr><td>rs75020269        </td><td> 0.0607671        </td><td>-0.005702500      </td><td>0.01209770        </td><td>0.01193150        </td><td>0.6326950         </td><td>5.09191e-07       </td><td> 0.713829285100567</td><td>SLC8A3            </td></tr>\n",
       "\t<tr><td>rs11065079        </td><td> 0.0622725        </td><td>-0.005193120      </td><td>0.01263660        </td><td>0.01277020        </td><td>0.6842580         </td><td>8.31898e-07       </td><td> 0.71296690062519 </td><td>PLA2G1B           </td></tr>\n",
       "\t<tr><td>⋮</td><td>⋮</td><td>⋮</td><td>⋮</td><td>⋮</td><td>⋮</td><td>⋮</td><td>⋮</td><td>⋮</td></tr>\n",
       "\t<tr><td>rs10484440        </td><td> 0.0323972        </td><td>-1.80229e-03      </td><td>0.00537682        </td><td>0.00535144        </td><td>0.736278          </td><td>1.69142e-09       </td><td> 0.519667383116867</td><td>BTN3A3            </td></tr>\n",
       "\t<tr><td>rs13321980        </td><td> 0.0633295        </td><td>-4.45490e-03      </td><td>0.01811400        </td><td>0.01794510        </td><td>0.803940          </td><td>4.72144e-04       </td><td> 0.519432103562604</td><td>NA                </td></tr>\n",
       "\t<tr><td>rs76290000        </td><td>-0.0478532        </td><td> 3.37498e-03      </td><td>0.01243820        </td><td>0.01225270        </td><td>0.782973          </td><td>1.19493e-04       </td><td> 0.519259599421137</td><td>NA                </td></tr>\n",
       "\t<tr><td>rs3927423         </td><td> 0.0338588        </td><td>-2.54770e-03      </td><td>0.00592287        </td><td>0.00590326        </td><td>0.666050          </td><td>1.08866e-08       </td><td> 0.518847379735947</td><td>BTN2A2            </td></tr>\n",
       "\t<tr><td>rs806970          </td><td> 0.0354570        </td><td> 2.52344e-04      </td><td>0.00701449        </td><td>0.00697656        </td><td>0.971147          </td><td>4.31300e-07       </td><td> 0.518061496534337</td><td>HIST1H1E          </td></tr>\n",
       "\t<tr><td>rs1265083         </td><td> 0.0630593        </td><td> 1.43271e-02      </td><td>0.01571560        </td><td>0.01560430        </td><td>0.358541          </td><td>6.01024e-05       </td><td> 0.517829597352283</td><td>CCHCR1            </td></tr>\n",
       "\t<tr><td>rs115231556       </td><td> 0.0616639        </td><td>-5.59684e-03      </td><td>0.01751760        </td><td>0.01782740        </td><td>0.753563          </td><td>4.31490e-04       </td><td> 0.517735545615405</td><td>NA                </td></tr>\n",
       "\t<tr><td>rs117010946       </td><td>-0.0933761        </td><td>-2.28849e-02      </td><td>0.02465160        </td><td>0.02469250        </td><td>0.354034          </td><td>1.52029e-04       </td><td> 0.516582255134324</td><td>FRS2              </td></tr>\n",
       "\t<tr><td>rs75578981        </td><td> 0.0496656        </td><td> 4.19896e-03      </td><td>0.01271910        </td><td>0.01255520        </td><td>0.738049          </td><td>9.43435e-05       </td><td> 0.515624419353539</td><td>FCHSD2            </td></tr>\n",
       "\t<tr><td>rs145659444       </td><td>-0.0826787        </td><td>-1.60144e-02      </td><td>0.02247560        </td><td>0.02250760        </td><td>0.476769          </td><td>2.34602e-04       </td><td> 0.515579794691273</td><td>MTMR11            </td></tr>\n",
       "\t<tr><td>rs62198779        </td><td>-0.0512371        </td><td>-4.25258e-03      </td><td>0.01333860        </td><td>0.01321970        </td><td>0.747691          </td><td>1.22454e-04       </td><td> 0.515541713253788</td><td>NA                </td></tr>\n",
       "\t<tr><td>rs74836424        </td><td> 0.0367629        </td><td> 4.53179e-03      </td><td>0.00650478        </td><td>0.00648602        </td><td>0.484739          </td><td>1.59170e-08       </td><td> 0.515160378659378</td><td>ANKRD11           </td></tr>\n",
       "\t<tr><td>rs114691375       </td><td>-0.1297310        </td><td> 3.44943e-02      </td><td>0.03429040        </td><td>0.03143710        </td><td>0.272546          </td><td>1.55347e-04       </td><td> 0.51427385999861 </td><td>NA                </td></tr>\n",
       "\t<tr><td>rs77913298        </td><td>-0.0477285        </td><td> 5.23885e-03      </td><td>0.01240440        </td><td>0.01236390        </td><td>0.671770          </td><td>1.19283e-04       </td><td> 0.513564481110537</td><td>ESR1              </td></tr>\n",
       "\t<tr><td>rs114024168       </td><td>-0.0530569        </td><td> 5.40434e-03      </td><td>0.01455110        </td><td>0.01485810        </td><td>0.716061          </td><td>2.66183e-04       </td><td> 0.512002153130888</td><td>GABBR1            </td></tr>\n",
       "\t<tr><td>Affx-13930281     </td><td>-0.0441384        </td><td> 2.18392e-03      </td><td>0.01109790        </td><td>0.01102000        </td><td>0.842906          </td><td>6.97676e-05       </td><td> 0.511670720836376</td><td>MAPT              </td></tr>\n",
       "\t<tr><td>rs201102091       </td><td> 0.0703487        </td><td> 1.44947e-02      </td><td>0.01880180        </td><td>0.01858390        </td><td>0.435415          </td><td>1.82924e-04       </td><td> 0.51131350150351 </td><td>SSPO              </td></tr>\n",
       "\t<tr><td>rs114462226       </td><td>-0.0528853        </td><td> 4.94281e-03      </td><td>0.01459930        </td><td>0.01461130        </td><td>0.735148          </td><td>2.91903e-04       </td><td> 0.511131572417504</td><td>PACS2             </td></tr>\n",
       "\t<tr><td>rs11065387        </td><td> 0.0497203        </td><td>-1.25932e-02      </td><td>0.01179000        </td><td>0.01188970        </td><td>0.289523          </td><td>2.47556e-05       </td><td> 0.510657545915321</td><td>HNF1A             </td></tr>\n",
       "\t<tr><td>rs78408557        </td><td> 0.0726999        </td><td> 2.54000e-02      </td><td>0.01599280        </td><td>0.01597150        </td><td>0.111762          </td><td>5.47683e-06       </td><td> 0.510134290063446</td><td>NA                </td></tr>\n",
       "\t<tr><td>rs73121821        </td><td>-0.0837543        </td><td> 1.16441e-02      </td><td>0.02445560        </td><td>0.02369180        </td><td>0.623087          </td><td>6.15518e-04       </td><td> 0.509987739457365</td><td>NA                </td></tr>\n",
       "\t<tr><td>rs7531602         </td><td>-0.0453533        </td><td> 3.32158e-03      </td><td>0.01172800        </td><td>0.01151010        </td><td>0.772904          </td><td>1.10182e-04       </td><td> 0.508694088958448</td><td>PIP5K1A           </td></tr>\n",
       "\t<tr><td>rs8055919         </td><td> 0.0529966        </td><td> 7.02887e-03      </td><td>0.01380080        </td><td>0.01340630        </td><td>0.600073          </td><td>1.23024e-04       </td><td> 0.508300565734426</td><td>PLCG2             </td></tr>\n",
       "\t<tr><td>rs62302274        </td><td>-0.0500563        </td><td> 6.91782e-03      </td><td>0.01341990        </td><td>0.01342840        </td><td>0.606439          </td><td>1.91550e-04       </td><td> 0.507962942010532</td><td>PRKG2             </td></tr>\n",
       "\t<tr><td>rs825510          </td><td> 0.0338871        </td><td> 3.86329e-03      </td><td>0.00565080        </td><td>0.00563082        </td><td>0.492652          </td><td>2.01600e-09       </td><td> 0.50662928318191 </td><td>ZNF664            </td></tr>\n",
       "\t<tr><td>rs117250400       </td><td>-0.0687004        </td><td>-5.87374e-05      </td><td>0.02017110        </td><td>0.02002810        </td><td>0.997660          </td><td>6.59693e-04       </td><td> 0.503452333870585</td><td>CREB3L2           </td></tr>\n",
       "\t<tr><td>rs11671851        </td><td> 0.0307609        </td><td>-1.89379e-04      </td><td>0.00542431        </td><td>0.00538932        </td><td>0.971968          </td><td>1.42284e-08       </td><td> 0.502705794004413</td><td>ZNF177            </td></tr>\n",
       "\t<tr><td>rs4765573         </td><td>-0.0592410        </td><td> 4.26745e-04      </td><td>0.01718690        </td><td>0.01688870        </td><td>0.979841          </td><td>5.67284e-04       </td><td> 0.502293613697371</td><td>NCOR2             </td></tr>\n",
       "\t<tr><td>rs76579835        </td><td> 0.0570841        </td><td>-1.94282e-03      </td><td>0.01645930        </td><td>0.01639920        </td><td>0.905695          </td><td>5.24100e-04       </td><td> 0.501607963902915</td><td>NA                </td></tr>\n",
       "\t<tr><td>rs117090198       </td><td>-0.0424669        </td><td>-5.27309e-03      </td><td>0.00967966        </td><td>0.00958487        </td><td>0.582219          </td><td>1.14877e-05       </td><td> 0.500736055660151</td><td>AKT2              </td></tr>\n",
       "</tbody>\n",
       "</table>\n"
      ],
      "text/latex": [
       "\\begin{tabular}{r|lllllllll}\n",
       " SNP & B\\_f & B\\_m & SE\\_f & SE\\_m & p\\_m & p\\_f & p6 & gene\\\\\n",
       "\\hline\n",
       "\t rs16942341         &  0.0983448         & -0.017593700       & 0.01077520         & 0.01062910         & 0.0978798          & 7.12832e-20        &  0.982941125128308 & ACAN              \\\\\n",
       "\t rs41271299         & -0.0749335         &  0.003918240       & 0.00819688         & 0.00809078         & 0.6281850          & 6.21896e-20        &  0.960038945390768 & ID4               \\\\\n",
       "\t rs77146408         & -0.0899494         & -0.000289245       & 0.01291700         & 0.01265020         & 0.9817580          & 3.32893e-12        &  0.956014041200016 & GRM4              \\\\\n",
       "\t rs75223147         & -0.0795803         &  0.001314920       & 0.01262450         & 0.01240870         & 0.9156080          & 2.91546e-10        &  0.90685460817679  & NA                \\\\\n",
       "\t rs117187575        & -0.0709304         &  0.007317750       & 0.01043430         & 0.01044870         & 0.4837110          & 1.06599e-11        &  0.888027385903294 & PIGU              \\\\\n",
       "\t rs11729800         & -0.0648217         & -0.009168650       & 0.00740094         & 0.00737102         & 0.2135470          & 1.99677e-18        &  0.859442765723191 & ADAMTS3           \\\\\n",
       "\t rs9358913          &  0.0521167         &  0.001893280       & 0.00412513         & 0.00410202         & 0.6444060          & 1.43119e-36        &  0.854144897528468 & HIST1H1D          \\\\\n",
       "\t rs1326122          & -0.0736036         & -0.003174450       & 0.01256170         & 0.01244270         & 0.7986270          & 4.65636e-09        &  0.84777264261698  & DLEU1             \\\\\n",
       "\t rs12795957         &  0.0605303         &  0.005007580       & 0.00777633         & 0.00778317         & 0.5199750          & 7.07522e-15        &  0.840962411955843 & AIP               \\\\\n",
       "\t rs149615348        &  0.1080910         &  0.004790720       & 0.02146700         & 0.02164460         & 0.8248310          & 4.77790e-07        &  0.828669762675728 & CRISPLD2          \\\\\n",
       "\t rs117573122        &  0.1052560         & -0.002653140       & 0.02130750         & 0.02118280         & 0.9003260          & 7.82557e-07        &  0.823232239314581 & POLR2A            \\\\\n",
       "\t rs72770234         &  0.0578600         &  0.004529060       & 0.00743400         & 0.00738957         & 0.5399440          & 7.11804e-15        &  0.820968941166395 & ADAMTS17          \\\\\n",
       "\t rs59595954         & -0.0743761         & -0.011792400       & 0.01223280         & 0.01204310         & 0.3274930          & 1.20420e-09        &  0.8188428615417   & FKBP5             \\\\\n",
       "\t rs80356191         & -0.0919001         & -0.027887300       & 0.01314260         & 0.01287570         & 0.0303215          & 2.71070e-12        &  0.818026240130686 & ANKS1A            \\\\\n",
       "\t rs396763           &  0.0848084         & -0.001436500       & 0.01681110         & 0.01661770         & 0.9311140          & 4.54553e-07        &  0.815702366574846 & LY6G6C            \\\\\n",
       "\t rs28399993         &  0.0847324         &  0.002866980       & 0.01682170         & 0.01660950         & 0.8629580          & 4.73229e-07        &  0.807055752141574 & SAPCD1            \\\\\n",
       "\t rs115254649        & -0.0798325         &  0.007166860       & 0.01587190         & 0.01614940         & 0.6571980          & 4.91521e-07        &  0.801221869213548 & TRIM15            \\\\\n",
       "\t rs11580946         & -0.0777220         & -0.011861500       & 0.01424610         & 0.01395840         & 0.3954540          & 4.88627e-08        &  0.789592591550486 & MCL1              \\\\\n",
       "\t rs3817428          &  0.0485445         &  0.004977400       & 0.00409105         & 0.00406525         & 0.2208120          & 1.83648e-32        &  0.768306250909657 & ACAN              \\\\\n",
       "\t rs116320423        & -0.0768228         &  0.006925740       & 0.01584180         & 0.01624800         & 0.6699250          & 1.23963e-06        &  0.768224334951462 & TRIM31            \\\\\n",
       "\t rs78844280         & -0.0717525         & -0.013481500       & 0.01226980         & 0.01217500         & 0.2681600          & 4.98847e-09        &  0.766251210471763 & KPNA3             \\\\\n",
       "\t rs36221133         &  0.0789312         & -0.001023990       & 0.01668980         & 0.01644700         & 0.9503560          & 2.25474e-06        &  0.758052991594705 & C2                \\\\\n",
       "\t rs112594996        & -0.0547289         &  0.004246210       & 0.00869550         & 0.00859329         & 0.6212140          & 3.10356e-10        &  0.75217487269765  & PTPDC1            \\\\\n",
       "\t rs61734601         &  0.0566619         &  0.009709580       & 0.00651314         & 0.00649150         & 0.1347240          & 3.36197e-18        &  0.744189623143661 & CARNS1            \\\\\n",
       "\t rs117362888        & -0.0536435         &  0.000196762       & 0.00891348         & 0.00884747         & 0.9822570          & 1.76713e-09        &  0.733919837035711 & PHF20             \\\\\n",
       "\t rs34419890         &  0.0530302         &  0.007259460       & 0.00686283         & 0.00685903         & 0.2898840          & 1.10642e-14        &  0.728412298997911 & SPTBN2            \\\\\n",
       "\t rs10518109         & -0.0741364         & -0.004977390       & 0.01579020         & 0.01556780         & 0.7491790          & 2.66716e-06        &  0.723064447163642 & ADAMTS3           \\\\\n",
       "\t rs77870445         & -0.0771815         &  0.024619700       & 0.01546160         & 0.01576720         & 0.1184180          & 5.98792e-07        &  0.721043912132327 & BTN1A1            \\\\\n",
       "\t rs75020269         &  0.0607671         & -0.005702500       & 0.01209770         & 0.01193150         & 0.6326950          & 5.09191e-07        &  0.713829285100567 & SLC8A3            \\\\\n",
       "\t rs11065079         &  0.0622725         & -0.005193120       & 0.01263660         & 0.01277020         & 0.6842580          & 8.31898e-07        &  0.71296690062519  & PLA2G1B           \\\\\n",
       "\t ⋮ & ⋮ & ⋮ & ⋮ & ⋮ & ⋮ & ⋮ & ⋮ & ⋮\\\\\n",
       "\t rs10484440         &  0.0323972         & -1.80229e-03       & 0.00537682         & 0.00535144         & 0.736278           & 1.69142e-09        &  0.519667383116867 & BTN3A3            \\\\\n",
       "\t rs13321980         &  0.0633295         & -4.45490e-03       & 0.01811400         & 0.01794510         & 0.803940           & 4.72144e-04        &  0.519432103562604 & NA                \\\\\n",
       "\t rs76290000         & -0.0478532         &  3.37498e-03       & 0.01243820         & 0.01225270         & 0.782973           & 1.19493e-04        &  0.519259599421137 & NA                \\\\\n",
       "\t rs3927423          &  0.0338588         & -2.54770e-03       & 0.00592287         & 0.00590326         & 0.666050           & 1.08866e-08        &  0.518847379735947 & BTN2A2            \\\\\n",
       "\t rs806970           &  0.0354570         &  2.52344e-04       & 0.00701449         & 0.00697656         & 0.971147           & 4.31300e-07        &  0.518061496534337 & HIST1H1E          \\\\\n",
       "\t rs1265083          &  0.0630593         &  1.43271e-02       & 0.01571560         & 0.01560430         & 0.358541           & 6.01024e-05        &  0.517829597352283 & CCHCR1            \\\\\n",
       "\t rs115231556        &  0.0616639         & -5.59684e-03       & 0.01751760         & 0.01782740         & 0.753563           & 4.31490e-04        &  0.517735545615405 & NA                \\\\\n",
       "\t rs117010946        & -0.0933761         & -2.28849e-02       & 0.02465160         & 0.02469250         & 0.354034           & 1.52029e-04        &  0.516582255134324 & FRS2              \\\\\n",
       "\t rs75578981         &  0.0496656         &  4.19896e-03       & 0.01271910         & 0.01255520         & 0.738049           & 9.43435e-05        &  0.515624419353539 & FCHSD2            \\\\\n",
       "\t rs145659444        & -0.0826787         & -1.60144e-02       & 0.02247560         & 0.02250760         & 0.476769           & 2.34602e-04        &  0.515579794691273 & MTMR11            \\\\\n",
       "\t rs62198779         & -0.0512371         & -4.25258e-03       & 0.01333860         & 0.01321970         & 0.747691           & 1.22454e-04        &  0.515541713253788 & NA                \\\\\n",
       "\t rs74836424         &  0.0367629         &  4.53179e-03       & 0.00650478         & 0.00648602         & 0.484739           & 1.59170e-08        &  0.515160378659378 & ANKRD11           \\\\\n",
       "\t rs114691375        & -0.1297310         &  3.44943e-02       & 0.03429040         & 0.03143710         & 0.272546           & 1.55347e-04        &  0.51427385999861  & NA                \\\\\n",
       "\t rs77913298         & -0.0477285         &  5.23885e-03       & 0.01240440         & 0.01236390         & 0.671770           & 1.19283e-04        &  0.513564481110537 & ESR1              \\\\\n",
       "\t rs114024168        & -0.0530569         &  5.40434e-03       & 0.01455110         & 0.01485810         & 0.716061           & 2.66183e-04        &  0.512002153130888 & GABBR1            \\\\\n",
       "\t Affx-13930281      & -0.0441384         &  2.18392e-03       & 0.01109790         & 0.01102000         & 0.842906           & 6.97676e-05        &  0.511670720836376 & MAPT              \\\\\n",
       "\t rs201102091        &  0.0703487         &  1.44947e-02       & 0.01880180         & 0.01858390         & 0.435415           & 1.82924e-04        &  0.51131350150351  & SSPO              \\\\\n",
       "\t rs114462226        & -0.0528853         &  4.94281e-03       & 0.01459930         & 0.01461130         & 0.735148           & 2.91903e-04        &  0.511131572417504 & PACS2             \\\\\n",
       "\t rs11065387         &  0.0497203         & -1.25932e-02       & 0.01179000         & 0.01188970         & 0.289523           & 2.47556e-05        &  0.510657545915321 & HNF1A             \\\\\n",
       "\t rs78408557         &  0.0726999         &  2.54000e-02       & 0.01599280         & 0.01597150         & 0.111762           & 5.47683e-06        &  0.510134290063446 & NA                \\\\\n",
       "\t rs73121821         & -0.0837543         &  1.16441e-02       & 0.02445560         & 0.02369180         & 0.623087           & 6.15518e-04        &  0.509987739457365 & NA                \\\\\n",
       "\t rs7531602          & -0.0453533         &  3.32158e-03       & 0.01172800         & 0.01151010         & 0.772904           & 1.10182e-04        &  0.508694088958448 & PIP5K1A           \\\\\n",
       "\t rs8055919          &  0.0529966         &  7.02887e-03       & 0.01380080         & 0.01340630         & 0.600073           & 1.23024e-04        &  0.508300565734426 & PLCG2             \\\\\n",
       "\t rs62302274         & -0.0500563         &  6.91782e-03       & 0.01341990         & 0.01342840         & 0.606439           & 1.91550e-04        &  0.507962942010532 & PRKG2             \\\\\n",
       "\t rs825510           &  0.0338871         &  3.86329e-03       & 0.00565080         & 0.00563082         & 0.492652           & 2.01600e-09        &  0.50662928318191  & ZNF664            \\\\\n",
       "\t rs117250400        & -0.0687004         & -5.87374e-05       & 0.02017110         & 0.02002810         & 0.997660           & 6.59693e-04        &  0.503452333870585 & CREB3L2           \\\\\n",
       "\t rs11671851         &  0.0307609         & -1.89379e-04       & 0.00542431         & 0.00538932         & 0.971968           & 1.42284e-08        &  0.502705794004413 & ZNF177            \\\\\n",
       "\t rs4765573          & -0.0592410         &  4.26745e-04       & 0.01718690         & 0.01688870         & 0.979841           & 5.67284e-04        &  0.502293613697371 & NCOR2             \\\\\n",
       "\t rs76579835         &  0.0570841         & -1.94282e-03       & 0.01645930         & 0.01639920         & 0.905695           & 5.24100e-04        &  0.501607963902915 & NA                \\\\\n",
       "\t rs117090198        & -0.0424669         & -5.27309e-03       & 0.00967966         & 0.00958487         & 0.582219           & 1.14877e-05        &  0.500736055660151 & AKT2              \\\\\n",
       "\\end{tabular}\n"
      ],
      "text/markdown": [
       "\n",
       "SNP | B_f | B_m | SE_f | SE_m | p_m | p_f | p6 | gene | \n",
       "|---|---|---|---|---|---|---|---|---|---|---|---|---|---|---|---|---|---|---|---|---|---|---|---|---|---|---|---|---|---|---|---|---|---|---|---|---|---|---|---|---|---|---|---|---|---|---|---|---|---|---|---|---|---|---|---|---|---|---|---|---|\n",
       "| rs16942341         |  0.0983448         | -0.017593700       | 0.01077520         | 0.01062910         | 0.0978798          | 7.12832e-20        |  0.982941125128308 | ACAN               | \n",
       "| rs41271299         | -0.0749335         |  0.003918240       | 0.00819688         | 0.00809078         | 0.6281850          | 6.21896e-20        |  0.960038945390768 | ID4                | \n",
       "| rs77146408         | -0.0899494         | -0.000289245       | 0.01291700         | 0.01265020         | 0.9817580          | 3.32893e-12        |  0.956014041200016 | GRM4               | \n",
       "| rs75223147         | -0.0795803         |  0.001314920       | 0.01262450         | 0.01240870         | 0.9156080          | 2.91546e-10        |  0.90685460817679  | NA                 | \n",
       "| rs117187575        | -0.0709304         |  0.007317750       | 0.01043430         | 0.01044870         | 0.4837110          | 1.06599e-11        |  0.888027385903294 | PIGU               | \n",
       "| rs11729800         | -0.0648217         | -0.009168650       | 0.00740094         | 0.00737102         | 0.2135470          | 1.99677e-18        |  0.859442765723191 | ADAMTS3            | \n",
       "| rs9358913          |  0.0521167         |  0.001893280       | 0.00412513         | 0.00410202         | 0.6444060          | 1.43119e-36        |  0.854144897528468 | HIST1H1D           | \n",
       "| rs1326122          | -0.0736036         | -0.003174450       | 0.01256170         | 0.01244270         | 0.7986270          | 4.65636e-09        |  0.84777264261698  | DLEU1              | \n",
       "| rs12795957         |  0.0605303         |  0.005007580       | 0.00777633         | 0.00778317         | 0.5199750          | 7.07522e-15        |  0.840962411955843 | AIP                | \n",
       "| rs149615348        |  0.1080910         |  0.004790720       | 0.02146700         | 0.02164460         | 0.8248310          | 4.77790e-07        |  0.828669762675728 | CRISPLD2           | \n",
       "| rs117573122        |  0.1052560         | -0.002653140       | 0.02130750         | 0.02118280         | 0.9003260          | 7.82557e-07        |  0.823232239314581 | POLR2A             | \n",
       "| rs72770234         |  0.0578600         |  0.004529060       | 0.00743400         | 0.00738957         | 0.5399440          | 7.11804e-15        |  0.820968941166395 | ADAMTS17           | \n",
       "| rs59595954         | -0.0743761         | -0.011792400       | 0.01223280         | 0.01204310         | 0.3274930          | 1.20420e-09        |  0.8188428615417   | FKBP5              | \n",
       "| rs80356191         | -0.0919001         | -0.027887300       | 0.01314260         | 0.01287570         | 0.0303215          | 2.71070e-12        |  0.818026240130686 | ANKS1A             | \n",
       "| rs396763           |  0.0848084         | -0.001436500       | 0.01681110         | 0.01661770         | 0.9311140          | 4.54553e-07        |  0.815702366574846 | LY6G6C             | \n",
       "| rs28399993         |  0.0847324         |  0.002866980       | 0.01682170         | 0.01660950         | 0.8629580          | 4.73229e-07        |  0.807055752141574 | SAPCD1             | \n",
       "| rs115254649        | -0.0798325         |  0.007166860       | 0.01587190         | 0.01614940         | 0.6571980          | 4.91521e-07        |  0.801221869213548 | TRIM15             | \n",
       "| rs11580946         | -0.0777220         | -0.011861500       | 0.01424610         | 0.01395840         | 0.3954540          | 4.88627e-08        |  0.789592591550486 | MCL1               | \n",
       "| rs3817428          |  0.0485445         |  0.004977400       | 0.00409105         | 0.00406525         | 0.2208120          | 1.83648e-32        |  0.768306250909657 | ACAN               | \n",
       "| rs116320423        | -0.0768228         |  0.006925740       | 0.01584180         | 0.01624800         | 0.6699250          | 1.23963e-06        |  0.768224334951462 | TRIM31             | \n",
       "| rs78844280         | -0.0717525         | -0.013481500       | 0.01226980         | 0.01217500         | 0.2681600          | 4.98847e-09        |  0.766251210471763 | KPNA3              | \n",
       "| rs36221133         |  0.0789312         | -0.001023990       | 0.01668980         | 0.01644700         | 0.9503560          | 2.25474e-06        |  0.758052991594705 | C2                 | \n",
       "| rs112594996        | -0.0547289         |  0.004246210       | 0.00869550         | 0.00859329         | 0.6212140          | 3.10356e-10        |  0.75217487269765  | PTPDC1             | \n",
       "| rs61734601         |  0.0566619         |  0.009709580       | 0.00651314         | 0.00649150         | 0.1347240          | 3.36197e-18        |  0.744189623143661 | CARNS1             | \n",
       "| rs117362888        | -0.0536435         |  0.000196762       | 0.00891348         | 0.00884747         | 0.9822570          | 1.76713e-09        |  0.733919837035711 | PHF20              | \n",
       "| rs34419890         |  0.0530302         |  0.007259460       | 0.00686283         | 0.00685903         | 0.2898840          | 1.10642e-14        |  0.728412298997911 | SPTBN2             | \n",
       "| rs10518109         | -0.0741364         | -0.004977390       | 0.01579020         | 0.01556780         | 0.7491790          | 2.66716e-06        |  0.723064447163642 | ADAMTS3            | \n",
       "| rs77870445         | -0.0771815         |  0.024619700       | 0.01546160         | 0.01576720         | 0.1184180          | 5.98792e-07        |  0.721043912132327 | BTN1A1             | \n",
       "| rs75020269         |  0.0607671         | -0.005702500       | 0.01209770         | 0.01193150         | 0.6326950          | 5.09191e-07        |  0.713829285100567 | SLC8A3             | \n",
       "| rs11065079         |  0.0622725         | -0.005193120       | 0.01263660         | 0.01277020         | 0.6842580          | 8.31898e-07        |  0.71296690062519  | PLA2G1B            | \n",
       "| ⋮ | ⋮ | ⋮ | ⋮ | ⋮ | ⋮ | ⋮ | ⋮ | ⋮ | \n",
       "| rs10484440         |  0.0323972         | -1.80229e-03       | 0.00537682         | 0.00535144         | 0.736278           | 1.69142e-09        |  0.519667383116867 | BTN3A3             | \n",
       "| rs13321980         |  0.0633295         | -4.45490e-03       | 0.01811400         | 0.01794510         | 0.803940           | 4.72144e-04        |  0.519432103562604 | NA                 | \n",
       "| rs76290000         | -0.0478532         |  3.37498e-03       | 0.01243820         | 0.01225270         | 0.782973           | 1.19493e-04        |  0.519259599421137 | NA                 | \n",
       "| rs3927423          |  0.0338588         | -2.54770e-03       | 0.00592287         | 0.00590326         | 0.666050           | 1.08866e-08        |  0.518847379735947 | BTN2A2             | \n",
       "| rs806970           |  0.0354570         |  2.52344e-04       | 0.00701449         | 0.00697656         | 0.971147           | 4.31300e-07        |  0.518061496534337 | HIST1H1E           | \n",
       "| rs1265083          |  0.0630593         |  1.43271e-02       | 0.01571560         | 0.01560430         | 0.358541           | 6.01024e-05        |  0.517829597352283 | CCHCR1             | \n",
       "| rs115231556        |  0.0616639         | -5.59684e-03       | 0.01751760         | 0.01782740         | 0.753563           | 4.31490e-04        |  0.517735545615405 | NA                 | \n",
       "| rs117010946        | -0.0933761         | -2.28849e-02       | 0.02465160         | 0.02469250         | 0.354034           | 1.52029e-04        |  0.516582255134324 | FRS2               | \n",
       "| rs75578981         |  0.0496656         |  4.19896e-03       | 0.01271910         | 0.01255520         | 0.738049           | 9.43435e-05        |  0.515624419353539 | FCHSD2             | \n",
       "| rs145659444        | -0.0826787         | -1.60144e-02       | 0.02247560         | 0.02250760         | 0.476769           | 2.34602e-04        |  0.515579794691273 | MTMR11             | \n",
       "| rs62198779         | -0.0512371         | -4.25258e-03       | 0.01333860         | 0.01321970         | 0.747691           | 1.22454e-04        |  0.515541713253788 | NA                 | \n",
       "| rs74836424         |  0.0367629         |  4.53179e-03       | 0.00650478         | 0.00648602         | 0.484739           | 1.59170e-08        |  0.515160378659378 | ANKRD11            | \n",
       "| rs114691375        | -0.1297310         |  3.44943e-02       | 0.03429040         | 0.03143710         | 0.272546           | 1.55347e-04        |  0.51427385999861  | NA                 | \n",
       "| rs77913298         | -0.0477285         |  5.23885e-03       | 0.01240440         | 0.01236390         | 0.671770           | 1.19283e-04        |  0.513564481110537 | ESR1               | \n",
       "| rs114024168        | -0.0530569         |  5.40434e-03       | 0.01455110         | 0.01485810         | 0.716061           | 2.66183e-04        |  0.512002153130888 | GABBR1             | \n",
       "| Affx-13930281      | -0.0441384         |  2.18392e-03       | 0.01109790         | 0.01102000         | 0.842906           | 6.97676e-05        |  0.511670720836376 | MAPT               | \n",
       "| rs201102091        |  0.0703487         |  1.44947e-02       | 0.01880180         | 0.01858390         | 0.435415           | 1.82924e-04        |  0.51131350150351  | SSPO               | \n",
       "| rs114462226        | -0.0528853         |  4.94281e-03       | 0.01459930         | 0.01461130         | 0.735148           | 2.91903e-04        |  0.511131572417504 | PACS2              | \n",
       "| rs11065387         |  0.0497203         | -1.25932e-02       | 0.01179000         | 0.01188970         | 0.289523           | 2.47556e-05        |  0.510657545915321 | HNF1A              | \n",
       "| rs78408557         |  0.0726999         |  2.54000e-02       | 0.01599280         | 0.01597150         | 0.111762           | 5.47683e-06        |  0.510134290063446 | NA                 | \n",
       "| rs73121821         | -0.0837543         |  1.16441e-02       | 0.02445560         | 0.02369180         | 0.623087           | 6.15518e-04        |  0.509987739457365 | NA                 | \n",
       "| rs7531602          | -0.0453533         |  3.32158e-03       | 0.01172800         | 0.01151010         | 0.772904           | 1.10182e-04        |  0.508694088958448 | PIP5K1A            | \n",
       "| rs8055919          |  0.0529966         |  7.02887e-03       | 0.01380080         | 0.01340630         | 0.600073           | 1.23024e-04        |  0.508300565734426 | PLCG2              | \n",
       "| rs62302274         | -0.0500563         |  6.91782e-03       | 0.01341990         | 0.01342840         | 0.606439           | 1.91550e-04        |  0.507962942010532 | PRKG2              | \n",
       "| rs825510           |  0.0338871         |  3.86329e-03       | 0.00565080         | 0.00563082         | 0.492652           | 2.01600e-09        |  0.50662928318191  | ZNF664             | \n",
       "| rs117250400        | -0.0687004         | -5.87374e-05       | 0.02017110         | 0.02002810         | 0.997660           | 6.59693e-04        |  0.503452333870585 | CREB3L2            | \n",
       "| rs11671851         |  0.0307609         | -1.89379e-04       | 0.00542431         | 0.00538932         | 0.971968           | 1.42284e-08        |  0.502705794004413 | ZNF177             | \n",
       "| rs4765573          | -0.0592410         |  4.26745e-04       | 0.01718690         | 0.01688870         | 0.979841           | 5.67284e-04        |  0.502293613697371 | NCOR2              | \n",
       "| rs76579835         |  0.0570841         | -1.94282e-03       | 0.01645930         | 0.01639920         | 0.905695           | 5.24100e-04        |  0.501607963902915 | NA                 | \n",
       "| rs117090198        | -0.0424669         | -5.27309e-03       | 0.00967966         | 0.00958487         | 0.582219           | 1.14877e-05        |  0.500736055660151 | AKT2               | \n",
       "\n",
       "\n"
      ],
      "text/plain": [
       "    SNP           B_f        B_m          SE_f       SE_m       p_m      \n",
       "1   rs16942341     0.0983448 -0.017593700 0.01077520 0.01062910 0.0978798\n",
       "2   rs41271299    -0.0749335  0.003918240 0.00819688 0.00809078 0.6281850\n",
       "3   rs77146408    -0.0899494 -0.000289245 0.01291700 0.01265020 0.9817580\n",
       "4   rs75223147    -0.0795803  0.001314920 0.01262450 0.01240870 0.9156080\n",
       "5   rs117187575   -0.0709304  0.007317750 0.01043430 0.01044870 0.4837110\n",
       "6   rs11729800    -0.0648217 -0.009168650 0.00740094 0.00737102 0.2135470\n",
       "7   rs9358913      0.0521167  0.001893280 0.00412513 0.00410202 0.6444060\n",
       "8   rs1326122     -0.0736036 -0.003174450 0.01256170 0.01244270 0.7986270\n",
       "9   rs12795957     0.0605303  0.005007580 0.00777633 0.00778317 0.5199750\n",
       "10  rs149615348    0.1080910  0.004790720 0.02146700 0.02164460 0.8248310\n",
       "11  rs117573122    0.1052560 -0.002653140 0.02130750 0.02118280 0.9003260\n",
       "12  rs72770234     0.0578600  0.004529060 0.00743400 0.00738957 0.5399440\n",
       "13  rs59595954    -0.0743761 -0.011792400 0.01223280 0.01204310 0.3274930\n",
       "14  rs80356191    -0.0919001 -0.027887300 0.01314260 0.01287570 0.0303215\n",
       "15  rs396763       0.0848084 -0.001436500 0.01681110 0.01661770 0.9311140\n",
       "16  rs28399993     0.0847324  0.002866980 0.01682170 0.01660950 0.8629580\n",
       "17  rs115254649   -0.0798325  0.007166860 0.01587190 0.01614940 0.6571980\n",
       "18  rs11580946    -0.0777220 -0.011861500 0.01424610 0.01395840 0.3954540\n",
       "19  rs3817428      0.0485445  0.004977400 0.00409105 0.00406525 0.2208120\n",
       "20  rs116320423   -0.0768228  0.006925740 0.01584180 0.01624800 0.6699250\n",
       "21  rs78844280    -0.0717525 -0.013481500 0.01226980 0.01217500 0.2681600\n",
       "22  rs36221133     0.0789312 -0.001023990 0.01668980 0.01644700 0.9503560\n",
       "23  rs112594996   -0.0547289  0.004246210 0.00869550 0.00859329 0.6212140\n",
       "24  rs61734601     0.0566619  0.009709580 0.00651314 0.00649150 0.1347240\n",
       "25  rs117362888   -0.0536435  0.000196762 0.00891348 0.00884747 0.9822570\n",
       "26  rs34419890     0.0530302  0.007259460 0.00686283 0.00685903 0.2898840\n",
       "27  rs10518109    -0.0741364 -0.004977390 0.01579020 0.01556780 0.7491790\n",
       "28  rs77870445    -0.0771815  0.024619700 0.01546160 0.01576720 0.1184180\n",
       "29  rs75020269     0.0607671 -0.005702500 0.01209770 0.01193150 0.6326950\n",
       "30  rs11065079     0.0622725 -0.005193120 0.01263660 0.01277020 0.6842580\n",
       "⋮   ⋮             ⋮          ⋮            ⋮          ⋮          ⋮        \n",
       "121 rs10484440     0.0323972 -1.80229e-03 0.00537682 0.00535144 0.736278 \n",
       "122 rs13321980     0.0633295 -4.45490e-03 0.01811400 0.01794510 0.803940 \n",
       "123 rs76290000    -0.0478532  3.37498e-03 0.01243820 0.01225270 0.782973 \n",
       "124 rs3927423      0.0338588 -2.54770e-03 0.00592287 0.00590326 0.666050 \n",
       "125 rs806970       0.0354570  2.52344e-04 0.00701449 0.00697656 0.971147 \n",
       "126 rs1265083      0.0630593  1.43271e-02 0.01571560 0.01560430 0.358541 \n",
       "127 rs115231556    0.0616639 -5.59684e-03 0.01751760 0.01782740 0.753563 \n",
       "128 rs117010946   -0.0933761 -2.28849e-02 0.02465160 0.02469250 0.354034 \n",
       "129 rs75578981     0.0496656  4.19896e-03 0.01271910 0.01255520 0.738049 \n",
       "130 rs145659444   -0.0826787 -1.60144e-02 0.02247560 0.02250760 0.476769 \n",
       "131 rs62198779    -0.0512371 -4.25258e-03 0.01333860 0.01321970 0.747691 \n",
       "132 rs74836424     0.0367629  4.53179e-03 0.00650478 0.00648602 0.484739 \n",
       "133 rs114691375   -0.1297310  3.44943e-02 0.03429040 0.03143710 0.272546 \n",
       "134 rs77913298    -0.0477285  5.23885e-03 0.01240440 0.01236390 0.671770 \n",
       "135 rs114024168   -0.0530569  5.40434e-03 0.01455110 0.01485810 0.716061 \n",
       "136 Affx-13930281 -0.0441384  2.18392e-03 0.01109790 0.01102000 0.842906 \n",
       "137 rs201102091    0.0703487  1.44947e-02 0.01880180 0.01858390 0.435415 \n",
       "138 rs114462226   -0.0528853  4.94281e-03 0.01459930 0.01461130 0.735148 \n",
       "139 rs11065387     0.0497203 -1.25932e-02 0.01179000 0.01188970 0.289523 \n",
       "140 rs78408557     0.0726999  2.54000e-02 0.01599280 0.01597150 0.111762 \n",
       "141 rs73121821    -0.0837543  1.16441e-02 0.02445560 0.02369180 0.623087 \n",
       "142 rs7531602     -0.0453533  3.32158e-03 0.01172800 0.01151010 0.772904 \n",
       "143 rs8055919      0.0529966  7.02887e-03 0.01380080 0.01340630 0.600073 \n",
       "144 rs62302274    -0.0500563  6.91782e-03 0.01341990 0.01342840 0.606439 \n",
       "145 rs825510       0.0338871  3.86329e-03 0.00565080 0.00563082 0.492652 \n",
       "146 rs117250400   -0.0687004 -5.87374e-05 0.02017110 0.02002810 0.997660 \n",
       "147 rs11671851     0.0307609 -1.89379e-04 0.00542431 0.00538932 0.971968 \n",
       "148 rs4765573     -0.0592410  4.26745e-04 0.01718690 0.01688870 0.979841 \n",
       "149 rs76579835     0.0570841 -1.94282e-03 0.01645930 0.01639920 0.905695 \n",
       "150 rs117090198   -0.0424669 -5.27309e-03 0.00967966 0.00958487 0.582219 \n",
       "    p_f         p6                 gene    \n",
       "1   7.12832e-20  0.982941125128308 ACAN    \n",
       "2   6.21896e-20  0.960038945390768 ID4     \n",
       "3   3.32893e-12  0.956014041200016 GRM4    \n",
       "4   2.91546e-10  0.90685460817679  NA      \n",
       "5   1.06599e-11  0.888027385903294 PIGU    \n",
       "6   1.99677e-18  0.859442765723191 ADAMTS3 \n",
       "7   1.43119e-36  0.854144897528468 HIST1H1D\n",
       "8   4.65636e-09  0.84777264261698  DLEU1   \n",
       "9   7.07522e-15  0.840962411955843 AIP     \n",
       "10  4.77790e-07  0.828669762675728 CRISPLD2\n",
       "11  7.82557e-07  0.823232239314581 POLR2A  \n",
       "12  7.11804e-15  0.820968941166395 ADAMTS17\n",
       "13  1.20420e-09  0.8188428615417   FKBP5   \n",
       "14  2.71070e-12  0.818026240130686 ANKS1A  \n",
       "15  4.54553e-07  0.815702366574846 LY6G6C  \n",
       "16  4.73229e-07  0.807055752141574 SAPCD1  \n",
       "17  4.91521e-07  0.801221869213548 TRIM15  \n",
       "18  4.88627e-08  0.789592591550486 MCL1    \n",
       "19  1.83648e-32  0.768306250909657 ACAN    \n",
       "20  1.23963e-06  0.768224334951462 TRIM31  \n",
       "21  4.98847e-09  0.766251210471763 KPNA3   \n",
       "22  2.25474e-06  0.758052991594705 C2      \n",
       "23  3.10356e-10  0.75217487269765  PTPDC1  \n",
       "24  3.36197e-18  0.744189623143661 CARNS1  \n",
       "25  1.76713e-09  0.733919837035711 PHF20   \n",
       "26  1.10642e-14  0.728412298997911 SPTBN2  \n",
       "27  2.66716e-06  0.723064447163642 ADAMTS3 \n",
       "28  5.98792e-07  0.721043912132327 BTN1A1  \n",
       "29  5.09191e-07  0.713829285100567 SLC8A3  \n",
       "30  8.31898e-07  0.71296690062519  PLA2G1B \n",
       "⋮   ⋮           ⋮                  ⋮       \n",
       "121 1.69142e-09  0.519667383116867 BTN3A3  \n",
       "122 4.72144e-04  0.519432103562604 NA      \n",
       "123 1.19493e-04  0.519259599421137 NA      \n",
       "124 1.08866e-08  0.518847379735947 BTN2A2  \n",
       "125 4.31300e-07  0.518061496534337 HIST1H1E\n",
       "126 6.01024e-05  0.517829597352283 CCHCR1  \n",
       "127 4.31490e-04  0.517735545615405 NA      \n",
       "128 1.52029e-04  0.516582255134324 FRS2    \n",
       "129 9.43435e-05  0.515624419353539 FCHSD2  \n",
       "130 2.34602e-04  0.515579794691273 MTMR11  \n",
       "131 1.22454e-04  0.515541713253788 NA      \n",
       "132 1.59170e-08  0.515160378659378 ANKRD11 \n",
       "133 1.55347e-04  0.51427385999861  NA      \n",
       "134 1.19283e-04  0.513564481110537 ESR1    \n",
       "135 2.66183e-04  0.512002153130888 GABBR1  \n",
       "136 6.97676e-05  0.511670720836376 MAPT    \n",
       "137 1.82924e-04  0.51131350150351  SSPO    \n",
       "138 2.91903e-04  0.511131572417504 PACS2   \n",
       "139 2.47556e-05  0.510657545915321 HNF1A   \n",
       "140 5.47683e-06  0.510134290063446 NA      \n",
       "141 6.15518e-04  0.509987739457365 NA      \n",
       "142 1.10182e-04  0.508694088958448 PIP5K1A \n",
       "143 1.23024e-04  0.508300565734426 PLCG2   \n",
       "144 1.91550e-04  0.507962942010532 PRKG2   \n",
       "145 2.01600e-09  0.50662928318191  ZNF664  \n",
       "146 6.59693e-04  0.503452333870585 CREB3L2 \n",
       "147 1.42284e-08  0.502705794004413 ZNF177  \n",
       "148 5.67284e-04  0.502293613697371 NCOR2   \n",
       "149 5.24100e-04  0.501607963902915 NA      \n",
       "150 1.14877e-05  0.500736055660151 AKT2    "
      ]
     },
     "metadata": {},
     "output_type": "display_data"
    }
   ],
   "source": [
    "cat2a[,c(\"SNP\", \"B_f\", \"B_m\", \"SE_f\", \"SE_m\", \"p_m\",\"p_f\", \"p2\", \"gene\")]\n",
    "cat6a[,c(\"SNP\", \"B_f\", \"B_m\", \"SE_f\", \"SE_m\", \"p_m\",\"p_f\", \"p6\", \"gene\")]"
   ]
  }
 ],
 "metadata": {
  "kernelspec": {
   "display_name": "R",
   "language": "R",
   "name": "ir"
  },
  "language_info": {
   "codemirror_mode": "r",
   "file_extension": ".r",
   "mimetype": "text/x-r-source",
   "name": "R",
   "pygments_lexer": "r",
   "version": "3.4.0"
  }
 },
 "nbformat": 4,
 "nbformat_minor": 2
}
