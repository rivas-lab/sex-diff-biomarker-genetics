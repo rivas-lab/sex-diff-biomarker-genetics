{
 "cells": [
  {
   "cell_type": "markdown",
   "metadata": {},
   "source": [
    "Code for exploring the biomarker phenotype distributions.\n",
    "\n",
    "\n",
    "Goals:\n",
    "- Look at sex + age differences in these distributiosn\n",
    "- Look at pre- vs post- menopause differences\n",
    "- Look at menstrual cycle differences\n",
    "- Look at hormone levels (T, E, etc)\n",
    "- Check on whether there is data related to E, T, other hormone meds"
   ]
  },
  {
   "cell_type": "code",
   "execution_count": 1,
   "metadata": {},
   "outputs": [
    {
     "name": "stderr",
     "output_type": "stream",
     "text": [
      "Loading required package: tidyverse\n",
      "── Attaching packages ─────────────────────────────────────── tidyverse 1.2.1 ──\n",
      "✔ ggplot2 2.2.1     ✔ purrr   0.2.4\n",
      "✔ tibble  1.4.2     ✔ dplyr   0.7.4\n",
      "✔ tidyr   0.8.1     ✔ stringr 1.3.0\n",
      "✔ readr   1.1.1     ✔ forcats 0.3.0\n",
      "── Conflicts ────────────────────────────────────────── tidyverse_conflicts() ──\n",
      "✖ dplyr::filter() masks stats::filter()\n",
      "✖ dplyr::lag()    masks stats::lag()\n"
     ]
    }
   ],
   "source": [
    "require('tidyverse')"
   ]
  },
  {
   "cell_type": "code",
   "execution_count": 2,
   "metadata": {
    "collapsed": true
   },
   "outputs": [],
   "source": [
    "# read in pheno matrix\n",
    "\n",
    "biomarker_phe <- read.delim(\"/oak/stanford/groups/mrivas/projects/biomarkers/covariate_corrected/phenotypes/raw/biomarkers_serum_full.phe\")\n",
    "\n"
   ]
  },
  {
   "cell_type": "code",
   "execution_count": 3,
   "metadata": {},
   "outputs": [
    {
     "data": {
      "text/plain": [
       "visit_zero\n",
       "FALSE  TRUE \n",
       "  209   209 "
      ]
     },
     "metadata": {},
     "output_type": "display_data"
    },
    {
     "data": {
      "text/html": [
       "<ol class=list-inline>\n",
       "\t<li>502536</li>\n",
       "\t<li>210</li>\n",
       "</ol>\n"
      ],
      "text/latex": [
       "\\begin{enumerate*}\n",
       "\\item 502536\n",
       "\\item 210\n",
       "\\end{enumerate*}\n"
      ],
      "text/markdown": [
       "1. 502536\n",
       "2. 210\n",
       "\n",
       "\n"
      ],
      "text/plain": [
       "[1] 502536    210"
      ]
     },
     "metadata": {},
     "output_type": "display_data"
    },
    {
     "data": {
      "text/html": [
       "<table>\n",
       "<thead><tr><th scope=col>f.eid</th><th scope=col>f.30600.0.0</th><th scope=col>f.30601.0.0</th><th scope=col>f.30602.0.0</th><th scope=col>f.30603.0.0</th><th scope=col>f.30604.0.0</th><th scope=col>f.30605.0.0</th><th scope=col>f.30606.0.0</th><th scope=col>f.30610.0.0</th><th scope=col>f.30611.0.0</th><th scope=col>⋯</th><th scope=col>f.30884.0.0</th><th scope=col>f.30885.0.0</th><th scope=col>f.30886.0.0</th><th scope=col>f.30890.0.0</th><th scope=col>f.30891.0.0</th><th scope=col>f.30892.0.0</th><th scope=col>f.30893.0.0</th><th scope=col>f.30894.0.0</th><th scope=col>f.30895.0.0</th><th scope=col>f.30896.0.0</th></tr></thead>\n",
       "<tbody>\n",
       "\t<tr><td>5586147   </td><td>   NA     </td><td>2017-05-22</td><td>1         </td><td>NA        </td><td>NA        </td><td> 8        </td><td>NA        </td><td>114.3     </td><td>2017-05-22</td><td>⋯         </td><td>0         </td><td>NA        </td><td>1         </td><td>67.8      </td><td>2017-05-21</td><td>1         </td><td>0         </td><td>0         </td><td>NA        </td><td>1         </td></tr>\n",
       "\t<tr><td>5144865   </td><td>   NA     </td><td>2017-09-01</td><td>2         </td><td>NA        </td><td>NA        </td><td> 8        </td><td>NA        </td><td> 59.6     </td><td>2017-09-01</td><td>⋯         </td><td>0         </td><td>NA        </td><td>1         </td><td>26.2      </td><td>2017-09-01</td><td>2         </td><td>0         </td><td>0         </td><td>NA        </td><td>1         </td></tr>\n",
       "\t<tr><td>2845962   </td><td>46.07     </td><td>2017-07-04</td><td>1         </td><td> 1        </td><td> 0        </td><td>NA        </td><td> 1        </td><td> 83.4     </td><td>2017-07-04</td><td>⋯         </td><td>0         </td><td>NA        </td><td>1         </td><td>56.6      </td><td>2017-07-02</td><td>1         </td><td>0         </td><td>0         </td><td>NA        </td><td>1         </td></tr>\n",
       "\t<tr><td>3390045   </td><td>47.45     </td><td>2017-03-13</td><td>1         </td><td> 1        </td><td> 0        </td><td>NA        </td><td> 1        </td><td> 41.4     </td><td>2017-03-12</td><td>⋯         </td><td>0         </td><td>NA        </td><td>1         </td><td>77.8      </td><td>2017-03-11</td><td>1         </td><td>0         </td><td>0         </td><td>NA        </td><td>1         </td></tr>\n",
       "\t<tr><td>4264965   </td><td>45.75     </td><td>2017-02-06</td><td>1         </td><td> 1        </td><td> 0        </td><td>NA        </td><td> 1        </td><td> 61.1     </td><td>2017-02-06</td><td>⋯         </td><td>0         </td><td>NA        </td><td>1         </td><td>12.1      </td><td>2017-02-06</td><td>1         </td><td>0         </td><td>0         </td><td>NA        </td><td>1         </td></tr>\n",
       "\t<tr><td>3131746   </td><td>49.71     </td><td>2016-10-26</td><td>1         </td><td> 1        </td><td> 0        </td><td>NA        </td><td> 1        </td><td>108.5     </td><td>2016-10-26</td><td>⋯         </td><td>0         </td><td>NA        </td><td>1         </td><td>58.9      </td><td>2016-10-26</td><td>1         </td><td>0         </td><td>0         </td><td>NA        </td><td>1         </td></tr>\n",
       "</tbody>\n",
       "</table>\n"
      ],
      "text/latex": [
       "\\begin{tabular}{r|llllllllllllllllllllllllllllllllllllllllllllllllllllllllllllllllllllllllllllllllllllllllllllllllllllllllllllllllllllllllllllllllllllllllllllllllllllllllllllllllllllllllllllllllllllllllllllllllllllllllllllllllll}\n",
       " f.eid & f.30600.0.0 & f.30601.0.0 & f.30602.0.0 & f.30603.0.0 & f.30604.0.0 & f.30605.0.0 & f.30606.0.0 & f.30610.0.0 & f.30611.0.0 & ⋯ & f.30884.0.0 & f.30885.0.0 & f.30886.0.0 & f.30890.0.0 & f.30891.0.0 & f.30892.0.0 & f.30893.0.0 & f.30894.0.0 & f.30895.0.0 & f.30896.0.0\\\\\n",
       "\\hline\n",
       "\t 5586147    &    NA      & 2017-05-22 & 1          & NA         & NA         &  8         & NA         & 114.3      & 2017-05-22 & ⋯          & 0          & NA         & 1          & 67.8       & 2017-05-21 & 1          & 0          & 0          & NA         & 1         \\\\\n",
       "\t 5144865    &    NA      & 2017-09-01 & 2          & NA         & NA         &  8         & NA         &  59.6      & 2017-09-01 & ⋯          & 0          & NA         & 1          & 26.2       & 2017-09-01 & 2          & 0          & 0          & NA         & 1         \\\\\n",
       "\t 2845962    & 46.07      & 2017-07-04 & 1          &  1         &  0         & NA         &  1         &  83.4      & 2017-07-04 & ⋯          & 0          & NA         & 1          & 56.6       & 2017-07-02 & 1          & 0          & 0          & NA         & 1         \\\\\n",
       "\t 3390045    & 47.45      & 2017-03-13 & 1          &  1         &  0         & NA         &  1         &  41.4      & 2017-03-12 & ⋯          & 0          & NA         & 1          & 77.8       & 2017-03-11 & 1          & 0          & 0          & NA         & 1         \\\\\n",
       "\t 4264965    & 45.75      & 2017-02-06 & 1          &  1         &  0         & NA         &  1         &  61.1      & 2017-02-06 & ⋯          & 0          & NA         & 1          & 12.1       & 2017-02-06 & 1          & 0          & 0          & NA         & 1         \\\\\n",
       "\t 3131746    & 49.71      & 2016-10-26 & 1          &  1         &  0         & NA         &  1         & 108.5      & 2016-10-26 & ⋯          & 0          & NA         & 1          & 58.9       & 2016-10-26 & 1          & 0          & 0          & NA         & 1         \\\\\n",
       "\\end{tabular}\n"
      ],
      "text/markdown": [
       "\n",
       "f.eid | f.30600.0.0 | f.30601.0.0 | f.30602.0.0 | f.30603.0.0 | f.30604.0.0 | f.30605.0.0 | f.30606.0.0 | f.30610.0.0 | f.30611.0.0 | ⋯ | f.30884.0.0 | f.30885.0.0 | f.30886.0.0 | f.30890.0.0 | f.30891.0.0 | f.30892.0.0 | f.30893.0.0 | f.30894.0.0 | f.30895.0.0 | f.30896.0.0 | \n",
       "|---|---|---|---|---|---|\n",
       "| 5586147    |    NA      | 2017-05-22 | 1          | NA         | NA         |  8         | NA         | 114.3      | 2017-05-22 | ⋯          | 0          | NA         | 1          | 67.8       | 2017-05-21 | 1          | 0          | 0          | NA         | 1          | \n",
       "| 5144865    |    NA      | 2017-09-01 | 2          | NA         | NA         |  8         | NA         |  59.6      | 2017-09-01 | ⋯          | 0          | NA         | 1          | 26.2       | 2017-09-01 | 2          | 0          | 0          | NA         | 1          | \n",
       "| 2845962    | 46.07      | 2017-07-04 | 1          |  1         |  0         | NA         |  1         |  83.4      | 2017-07-04 | ⋯          | 0          | NA         | 1          | 56.6       | 2017-07-02 | 1          | 0          | 0          | NA         | 1          | \n",
       "| 3390045    | 47.45      | 2017-03-13 | 1          |  1         |  0         | NA         |  1         |  41.4      | 2017-03-12 | ⋯          | 0          | NA         | 1          | 77.8       | 2017-03-11 | 1          | 0          | 0          | NA         | 1          | \n",
       "| 4264965    | 45.75      | 2017-02-06 | 1          |  1         |  0         | NA         |  1         |  61.1      | 2017-02-06 | ⋯          | 0          | NA         | 1          | 12.1       | 2017-02-06 | 1          | 0          | 0          | NA         | 1          | \n",
       "| 3131746    | 49.71      | 2016-10-26 | 1          |  1         |  0         | NA         |  1         | 108.5      | 2016-10-26 | ⋯          | 0          | NA         | 1          | 58.9       | 2016-10-26 | 1          | 0          | 0          | NA         | 1          | \n",
       "\n",
       "\n"
      ],
      "text/plain": [
       "  f.eid   f.30600.0.0 f.30601.0.0 f.30602.0.0 f.30603.0.0 f.30604.0.0\n",
       "1 5586147    NA       2017-05-22  1           NA          NA         \n",
       "2 5144865    NA       2017-09-01  2           NA          NA         \n",
       "3 2845962 46.07       2017-07-04  1            1           0         \n",
       "4 3390045 47.45       2017-03-13  1            1           0         \n",
       "5 4264965 45.75       2017-02-06  1            1           0         \n",
       "6 3131746 49.71       2016-10-26  1            1           0         \n",
       "  f.30605.0.0 f.30606.0.0 f.30610.0.0 f.30611.0.0 ⋯ f.30884.0.0 f.30885.0.0\n",
       "1  8          NA          114.3       2017-05-22  ⋯ 0           NA         \n",
       "2  8          NA           59.6       2017-09-01  ⋯ 0           NA         \n",
       "3 NA           1           83.4       2017-07-04  ⋯ 0           NA         \n",
       "4 NA           1           41.4       2017-03-12  ⋯ 0           NA         \n",
       "5 NA           1           61.1       2017-02-06  ⋯ 0           NA         \n",
       "6 NA           1          108.5       2016-10-26  ⋯ 0           NA         \n",
       "  f.30886.0.0 f.30890.0.0 f.30891.0.0 f.30892.0.0 f.30893.0.0 f.30894.0.0\n",
       "1 1           67.8        2017-05-21  1           0           0          \n",
       "2 1           26.2        2017-09-01  2           0           0          \n",
       "3 1           56.6        2017-07-02  1           0           0          \n",
       "4 1           77.8        2017-03-11  1           0           0          \n",
       "5 1           12.1        2017-02-06  1           0           0          \n",
       "6 1           58.9        2016-10-26  1           0           0          \n",
       "  f.30895.0.0 f.30896.0.0\n",
       "1 NA          1          \n",
       "2 NA          1          \n",
       "3 NA          1          \n",
       "4 NA          1          \n",
       "5 NA          1          \n",
       "6 NA          1          "
      ]
     },
     "metadata": {},
     "output_type": "display_data"
    }
   ],
   "source": [
    "# only want the data from the FIRST visit\n",
    "list_cols <- colnames(biomarker_phe)\n",
    "visit_zero <- sapply(list_cols[2:ncol(biomarker_phe)], function(x) strsplit(x, \".\", fixed=TRUE)[[1]][[3]]==0)\n",
    "table(visit_zero)\n",
    "biomarker_phe2 <- biomarker_phe[,list_cols[c(TRUE, visit_zero)]]\n",
    "dim(biomarker_phe2)\n",
    "# could look at second visit later\n",
    "head(biomarker_phe2)"
   ]
  },
  {
   "cell_type": "code",
   "execution_count": 17,
   "metadata": {},
   "outputs": [],
   "source": [
    "biomarker <- read.table(\"../phe_extraction/list_biomarker.txt\", header=TRUE)\n",
    "rownames(biomarker) <- biomarker$Field"
   ]
  },
  {
   "cell_type": "code",
   "execution_count": null,
   "metadata": {
    "collapsed": true
   },
   "outputs": [],
   "source": [
    "red_cols <- sapply(colnames(biomarker_phe2)[2:ncol(biomarker_phe2)], function(x) strsplit(x, \".\", fixed=TRUE)[[1]][[2]])\n",
    "colnames(biomarker_phe2) <- c(\"f.eid\", red_cols)\n",
    "direct_measurements <- (red_cols %in% biomarker$Field)\n",
    "biomarker_phe3 <- biomarker_phe2[,colnames(biomarker_phe2)[c(TRUE, direct_measurements)]]"
   ]
  },
  {
   "cell_type": "code",
   "execution_count": 20,
   "metadata": {},
   "outputs": [],
   "source": [
    "write.table(biomarker_phe3, file=\"../phe_extraction/sm_biomarker_tab.txt\", row.names=FALSE) #TODO - change to fread"
   ]
  },
  {
   "cell_type": "code",
   "execution_count": 21,
   "metadata": {},
   "outputs": [
    {
     "data": {
      "text/html": [
       "<ol>\n",
       "\t<li>NULL</li>\n",
       "\t<li>NULL</li>\n",
       "\t<li>NULL</li>\n",
       "\t<li>NULL</li>\n",
       "\t<li>NULL</li>\n",
       "\t<li>NULL</li>\n",
       "\t<li>NULL</li>\n",
       "\t<li>NULL</li>\n",
       "\t<li>NULL</li>\n",
       "\t<li>NULL</li>\n",
       "\t<li>NULL</li>\n",
       "\t<li>NULL</li>\n",
       "\t<li>NULL</li>\n",
       "\t<li>NULL</li>\n",
       "\t<li>NULL</li>\n",
       "\t<li>NULL</li>\n",
       "\t<li>NULL</li>\n",
       "\t<li>NULL</li>\n",
       "\t<li>NULL</li>\n",
       "\t<li>NULL</li>\n",
       "\t<li>NULL</li>\n",
       "\t<li>NULL</li>\n",
       "\t<li>NULL</li>\n",
       "\t<li>NULL</li>\n",
       "\t<li>NULL</li>\n",
       "\t<li>NULL</li>\n",
       "\t<li>NULL</li>\n",
       "\t<li>NULL</li>\n",
       "\t<li>NULL</li>\n",
       "\t<li>NULL</li>\n",
       "</ol>\n"
      ],
      "text/latex": [
       "\\begin{enumerate}\n",
       "\\item NULL\n",
       "\\item NULL\n",
       "\\item NULL\n",
       "\\item NULL\n",
       "\\item NULL\n",
       "\\item NULL\n",
       "\\item NULL\n",
       "\\item NULL\n",
       "\\item NULL\n",
       "\\item NULL\n",
       "\\item NULL\n",
       "\\item NULL\n",
       "\\item NULL\n",
       "\\item NULL\n",
       "\\item NULL\n",
       "\\item NULL\n",
       "\\item NULL\n",
       "\\item NULL\n",
       "\\item NULL\n",
       "\\item NULL\n",
       "\\item NULL\n",
       "\\item NULL\n",
       "\\item NULL\n",
       "\\item NULL\n",
       "\\item NULL\n",
       "\\item NULL\n",
       "\\item NULL\n",
       "\\item NULL\n",
       "\\item NULL\n",
       "\\item NULL\n",
       "\\end{enumerate}\n"
      ],
      "text/markdown": [
       "1. NULL\n",
       "2. NULL\n",
       "3. NULL\n",
       "4. NULL\n",
       "5. NULL\n",
       "6. NULL\n",
       "7. NULL\n",
       "8. NULL\n",
       "9. NULL\n",
       "10. NULL\n",
       "11. NULL\n",
       "12. NULL\n",
       "13. NULL\n",
       "14. NULL\n",
       "15. NULL\n",
       "16. NULL\n",
       "17. NULL\n",
       "18. NULL\n",
       "19. NULL\n",
       "20. NULL\n",
       "21. NULL\n",
       "22. NULL\n",
       "23. NULL\n",
       "24. NULL\n",
       "25. NULL\n",
       "26. NULL\n",
       "27. NULL\n",
       "28. NULL\n",
       "29. NULL\n",
       "30. NULL\n",
       "\n",
       "\n"
      ],
      "text/plain": [
       "[[1]]\n",
       "NULL\n",
       "\n",
       "[[2]]\n",
       "NULL\n",
       "\n",
       "[[3]]\n",
       "NULL\n",
       "\n",
       "[[4]]\n",
       "NULL\n",
       "\n",
       "[[5]]\n",
       "NULL\n",
       "\n",
       "[[6]]\n",
       "NULL\n",
       "\n",
       "[[7]]\n",
       "NULL\n",
       "\n",
       "[[8]]\n",
       "NULL\n",
       "\n",
       "[[9]]\n",
       "NULL\n",
       "\n",
       "[[10]]\n",
       "NULL\n",
       "\n",
       "[[11]]\n",
       "NULL\n",
       "\n",
       "[[12]]\n",
       "NULL\n",
       "\n",
       "[[13]]\n",
       "NULL\n",
       "\n",
       "[[14]]\n",
       "NULL\n",
       "\n",
       "[[15]]\n",
       "NULL\n",
       "\n",
       "[[16]]\n",
       "NULL\n",
       "\n",
       "[[17]]\n",
       "NULL\n",
       "\n",
       "[[18]]\n",
       "NULL\n",
       "\n",
       "[[19]]\n",
       "NULL\n",
       "\n",
       "[[20]]\n",
       "NULL\n",
       "\n",
       "[[21]]\n",
       "NULL\n",
       "\n",
       "[[22]]\n",
       "NULL\n",
       "\n",
       "[[23]]\n",
       "NULL\n",
       "\n",
       "[[24]]\n",
       "NULL\n",
       "\n",
       "[[25]]\n",
       "NULL\n",
       "\n",
       "[[26]]\n",
       "NULL\n",
       "\n",
       "[[27]]\n",
       "NULL\n",
       "\n",
       "[[28]]\n",
       "NULL\n",
       "\n",
       "[[29]]\n",
       "NULL\n",
       "\n",
       "[[30]]\n",
       "NULL\n"
      ]
     },
     "metadata": {},
     "output_type": "display_data"
    }
   ],
   "source": [
    "# write all of these out as phe files - SLOW\n",
    "biomarker_df <- read.table(\"../phe_extraction/sm_biomarker_tab.txt\", header=TRUE)\n",
    "PHE_OUT_DIR <- '/scratch/PI/mrivas/users/erflynn/sex_div_gwas/phefiles'\n",
    "\n",
    "write_out_phe <- function(phe_id){\n",
    "    df_phe <- biomarker_df[,c(\"f.eid\", phe_id)]  # structured as phe, visit, info, we want visit 1\n",
    "    df_phe2 <- cbind(df_phe[,\"f.eid\"], df_phe)\n",
    "    write.table(df_phe2, file=sprintf(\"%s/%s.phe\", PHE_OUT_DIR, phe_id), row.names=FALSE, quote=FALSE, col.names=FALSE, sep=\"\\t\")\n",
    "}\n",
    "\n",
    "sapply(biomarker$Field, write_out_phe)"
   ]
  },
  {
   "cell_type": "code",
   "execution_count": 5,
   "metadata": {
    "collapsed": true
   },
   "outputs": [],
   "source": [
    "# read in covariate data\n",
    "COVARIATE_MATRIX <- '/oak/stanford/groups/mrivas/ukbb24983/sqc/ukb24983_GWAS_covar.phe'\n",
    "cov_mat <- read.table(COVARIATE_MATRIX, header=TRUE)\n",
    "cov_mat_sm <- cov_mat[,c(\"IID\",\"age\", \"sex\")]\n",
    "\n"
   ]
  },
  {
   "cell_type": "code",
   "execution_count": 6,
   "metadata": {
    "collapsed": true
   },
   "outputs": [],
   "source": [
    "# Filter out 151k sqc individuals\n",
    "removal_file_one <- '/oak/stanford/groups/mrivas/ukbb/24983/sqc/ukb24983_remove.phe'\n",
    "removal_file_two <- '/oak/stanford/groups/mrivas/ukbb/24983/sqc/w24983_20181016.csv'\n",
    "remove1 <- read.table(removal_file_one, header=FALSE)\n",
    "remove2 <- read.table(removal_file_two, header=FALSE) \n",
    "ids.to.remove <- c(remove1[,1], unique(remove2[,1]))\n",
    "cov_mat_filt <- cov_mat_sm[!(cov_mat_sm$IID %in% ids.to.remove),]"
   ]
  },
  {
   "cell_type": "code",
   "execution_count": 7,
   "metadata": {},
   "outputs": [
    {
     "data": {
      "text/html": [
       "<table>\n",
       "<thead><tr><th></th><th scope=col>IID</th><th scope=col>age</th><th scope=col>sex</th></tr></thead>\n",
       "<tbody>\n",
       "\t<tr><th scope=row>1</th><td>2502845</td><td>50     </td><td>1      </td></tr>\n",
       "\t<tr><th scope=row>2</th><td>2314965</td><td>55     </td><td>0      </td></tr>\n",
       "\t<tr><th scope=row>3</th><td>1142584</td><td>60     </td><td>0      </td></tr>\n",
       "\t<tr><th scope=row>4</th><td>3665122</td><td>74     </td><td>0      </td></tr>\n",
       "\t<tr><th scope=row>5</th><td>4377492</td><td>65     </td><td>0      </td></tr>\n",
       "\t<tr><th scope=row>7</th><td>4015997</td><td>50     </td><td>0      </td></tr>\n",
       "</tbody>\n",
       "</table>\n"
      ],
      "text/latex": [
       "\\begin{tabular}{r|lll}\n",
       "  & IID & age & sex\\\\\n",
       "\\hline\n",
       "\t1 & 2502845 & 50      & 1      \\\\\n",
       "\t2 & 2314965 & 55      & 0      \\\\\n",
       "\t3 & 1142584 & 60      & 0      \\\\\n",
       "\t4 & 3665122 & 74      & 0      \\\\\n",
       "\t5 & 4377492 & 65      & 0      \\\\\n",
       "\t7 & 4015997 & 50      & 0      \\\\\n",
       "\\end{tabular}\n"
      ],
      "text/markdown": [
       "\n",
       "| <!--/--> | IID | age | sex | \n",
       "|---|---|---|---|---|---|\n",
       "| 1 | 2502845 | 50      | 1       | \n",
       "| 2 | 2314965 | 55      | 0       | \n",
       "| 3 | 1142584 | 60      | 0       | \n",
       "| 4 | 3665122 | 74      | 0       | \n",
       "| 5 | 4377492 | 65      | 0       | \n",
       "| 7 | 4015997 | 50      | 0       | \n",
       "\n",
       "\n"
      ],
      "text/plain": [
       "  IID     age sex\n",
       "1 2502845 50  1  \n",
       "2 2314965 55  0  \n",
       "3 1142584 60  0  \n",
       "4 3665122 74  0  \n",
       "5 4377492 65  0  \n",
       "7 4015997 50  0  "
      ]
     },
     "metadata": {},
     "output_type": "display_data"
    }
   ],
   "source": [
    "head(cov_mat_filt)\n",
    "combined_mat <- left_join(cov_mat_filt, biomarker_phe3, by=c(\"IID\"=\"f.eid\"))"
   ]
  },
  {
   "cell_type": "code",
   "execution_count": 8,
   "metadata": {
    "collapsed": true
   },
   "outputs": [],
   "source": [
    "# SS factors\n",
    "# menopause: 2724\n",
    "# age at menopause: 3581\n",
    "# menopause phenotype\n",
    "#  - Pre-menopause: stated they have not reached menopause -AND- are less than 60 years old\n",
    "#  - Post-menopause: >2 years post menopause -AND- had menopause after age 40\n",
    "#  - Peri-menopause: w/in 2y menopause\n",
    "#  - Premature_menopause: menopause after age 40\n",
    "#  - Unknown: no info, or greater than 60y and says that not reached menopause\n",
    "\n",
    "meno_age <- read.table(\"../data/menopause_age_data_pheno.txt\", header=TRUE )"
   ]
  },
  {
   "cell_type": "code",
   "execution_count": 9,
   "metadata": {
    "collapsed": true
   },
   "outputs": [],
   "source": [
    "# period timing\n",
    "# time since last period: 3700\n",
    "# length of menstrual cycle: 3710\n",
    "# menstruating today: 3720\n",
    "\n",
    "cycle_dat <- read.table(\"../data/menstrual_phase.txt\", header=TRUE)"
   ]
  },
  {
   "cell_type": "code",
   "execution_count": 10,
   "metadata": {},
   "outputs": [
    {
     "data": {
      "text/html": [
       "<table>\n",
       "<thead><tr><th scope=col>IID</th><th scope=col>meno</th><th scope=col>meno.age</th><th scope=col>age</th><th scope=col>sex</th><th scope=col>years.post</th><th scope=col>meno.label</th></tr></thead>\n",
       "<tbody>\n",
       "\t<tr><td>1000010    </td><td>   NA      </td><td>NA         </td><td>NA         </td><td>NA         </td><td>NA         </td><td>missing    </td></tr>\n",
       "\t<tr><td>1000028    </td><td>FALSE      </td><td>NA         </td><td>54         </td><td> 0         </td><td>NA         </td><td>pre        </td></tr>\n",
       "\t<tr><td>1000034    </td><td>   NA      </td><td>NA         </td><td>68         </td><td> 1         </td><td>NA         </td><td>male       </td></tr>\n",
       "\t<tr><td>1000045    </td><td> TRUE      </td><td>54         </td><td>79         </td><td> 0         </td><td>25         </td><td>post       </td></tr>\n",
       "\t<tr><td>1000052    </td><td> TRUE      </td><td>NA         </td><td>72         </td><td> 0         </td><td>NA         </td><td>missing_age</td></tr>\n",
       "\t<tr><td>1000069    </td><td> TRUE      </td><td>50         </td><td>75         </td><td> 0         </td><td>25         </td><td>post       </td></tr>\n",
       "</tbody>\n",
       "</table>\n"
      ],
      "text/latex": [
       "\\begin{tabular}{r|lllllll}\n",
       " IID & meno & meno.age & age & sex & years.post & meno.label\\\\\n",
       "\\hline\n",
       "\t 1000010     &    NA       & NA          & NA          & NA          & NA          & missing    \\\\\n",
       "\t 1000028     & FALSE       & NA          & 54          &  0          & NA          & pre        \\\\\n",
       "\t 1000034     &    NA       & NA          & 68          &  1          & NA          & male       \\\\\n",
       "\t 1000045     &  TRUE       & 54          & 79          &  0          & 25          & post       \\\\\n",
       "\t 1000052       &  TRUE         & NA            & 72            &  0            & NA            & missing\\_age\\\\\n",
       "\t 1000069     &  TRUE       & 50          & 75          &  0          & 25          & post       \\\\\n",
       "\\end{tabular}\n"
      ],
      "text/markdown": [
       "\n",
       "IID | meno | meno.age | age | sex | years.post | meno.label | \n",
       "|---|---|---|---|---|---|\n",
       "| 1000010     |    NA       | NA          | NA          | NA          | NA          | missing     | \n",
       "| 1000028     | FALSE       | NA          | 54          |  0          | NA          | pre         | \n",
       "| 1000034     |    NA       | NA          | 68          |  1          | NA          | male        | \n",
       "| 1000045     |  TRUE       | 54          | 79          |  0          | 25          | post        | \n",
       "| 1000052     |  TRUE       | NA          | 72          |  0          | NA          | missing_age | \n",
       "| 1000069     |  TRUE       | 50          | 75          |  0          | 25          | post        | \n",
       "\n",
       "\n"
      ],
      "text/plain": [
       "  IID     meno  meno.age age sex years.post meno.label \n",
       "1 1000010    NA NA       NA  NA  NA         missing    \n",
       "2 1000028 FALSE NA       54   0  NA         pre        \n",
       "3 1000034    NA NA       68   1  NA         male       \n",
       "4 1000045  TRUE 54       79   0  25         post       \n",
       "5 1000052  TRUE NA       72   0  NA         missing_age\n",
       "6 1000069  TRUE 50       75   0  25         post       "
      ]
     },
     "metadata": {},
     "output_type": "display_data"
    }
   ],
   "source": [
    "head(meno_age)"
   ]
  },
  {
   "cell_type": "code",
   "execution_count": 11,
   "metadata": {
    "collapsed": true
   },
   "outputs": [],
   "source": [
    "combined2 <- left_join(combined_mat, select(meno_age, c(\"IID\", \"meno.label\")), by=\"IID\")#by=c(\"IID\"=\"ID\"))"
   ]
  },
  {
   "cell_type": "code",
   "execution_count": 12,
   "metadata": {
    "collapsed": true
   },
   "outputs": [],
   "source": [
    "combined3 <- left_join(combined2, select(cycle_dat, c(\"ID\", \"phase\")), by=c(\"IID\"=\"ID\"))"
   ]
  },
  {
   "cell_type": "code",
   "execution_count": 13,
   "metadata": {},
   "outputs": [
    {
     "data": {
      "text/html": [
       "<table>\n",
       "<thead><tr><th scope=col>IID</th><th scope=col>age</th><th scope=col>sex</th><th scope=col>meno.label</th><th scope=col>phase</th><th scope=col>f.30600.0.0</th><th scope=col>f.30610.0.0</th></tr></thead>\n",
       "<tbody>\n",
       "\t<tr><td>2502845  </td><td>50       </td><td>1        </td><td>male     </td><td>NA       </td><td>45.64    </td><td> 55.3    </td></tr>\n",
       "\t<tr><td>2314965  </td><td>55       </td><td>0        </td><td>missing  </td><td>NA       </td><td>   NA    </td><td> 49.5    </td></tr>\n",
       "\t<tr><td>1142584  </td><td>60       </td><td>0        </td><td>post     </td><td>NA       </td><td>47.06    </td><td>176.2    </td></tr>\n",
       "\t<tr><td>3665122  </td><td>74       </td><td>0        </td><td>post     </td><td>NA       </td><td>47.47    </td><td> 62.7    </td></tr>\n",
       "\t<tr><td>4377492  </td><td>65       </td><td>0        </td><td>post     </td><td>NA       </td><td>48.13    </td><td> 88.0    </td></tr>\n",
       "\t<tr><td>4015997  </td><td>50       </td><td>0        </td><td>pre      </td><td>menstrual</td><td>45.92    </td><td> 74.9    </td></tr>\n",
       "</tbody>\n",
       "</table>\n"
      ],
      "text/latex": [
       "\\begin{tabular}{r|lllllll}\n",
       " IID & age & sex & meno.label & phase & f.30600.0.0 & f.30610.0.0\\\\\n",
       "\\hline\n",
       "\t 2502845   & 50        & 1         & male      & NA        & 45.64     &  55.3    \\\\\n",
       "\t 2314965   & 55        & 0         & missing   & NA        &    NA     &  49.5    \\\\\n",
       "\t 1142584   & 60        & 0         & post      & NA        & 47.06     & 176.2    \\\\\n",
       "\t 3665122   & 74        & 0         & post      & NA        & 47.47     &  62.7    \\\\\n",
       "\t 4377492   & 65        & 0         & post      & NA        & 48.13     &  88.0    \\\\\n",
       "\t 4015997   & 50        & 0         & pre       & menstrual & 45.92     &  74.9    \\\\\n",
       "\\end{tabular}\n"
      ],
      "text/markdown": [
       "\n",
       "IID | age | sex | meno.label | phase | f.30600.0.0 | f.30610.0.0 | \n",
       "|---|---|---|---|---|---|\n",
       "| 2502845   | 50        | 1         | male      | NA        | 45.64     |  55.3     | \n",
       "| 2314965   | 55        | 0         | missing   | NA        |    NA     |  49.5     | \n",
       "| 1142584   | 60        | 0         | post      | NA        | 47.06     | 176.2     | \n",
       "| 3665122   | 74        | 0         | post      | NA        | 47.47     |  62.7     | \n",
       "| 4377492   | 65        | 0         | post      | NA        | 48.13     |  88.0     | \n",
       "| 4015997   | 50        | 0         | pre       | menstrual | 45.92     |  74.9     | \n",
       "\n",
       "\n"
      ],
      "text/plain": [
       "  IID     age sex meno.label phase     f.30600.0.0 f.30610.0.0\n",
       "1 2502845 50  1   male       NA        45.64        55.3      \n",
       "2 2314965 55  0   missing    NA           NA        49.5      \n",
       "3 1142584 60  0   post       NA        47.06       176.2      \n",
       "4 3665122 74  0   post       NA        47.47        62.7      \n",
       "5 4377492 65  0   post       NA        48.13        88.0      \n",
       "6 4015997 50  0   pre        menstrual 45.92        74.9      "
      ]
     },
     "metadata": {},
     "output_type": "display_data"
    }
   ],
   "source": [
    "combined3.2 <- combined3 %>% select(IID, age, sex, meno.label, phase, everything())\n",
    "head(combined3.2[,1:7])\n"
   ]
  },
  {
   "cell_type": "code",
   "execution_count": 14,
   "metadata": {},
   "outputs": [
    {
     "name": "stderr",
     "output_type": "stream",
     "text": [
      "Loading required package: reshape2\n",
      "\n",
      "Attaching package: ‘reshape2’\n",
      "\n",
      "The following object is masked from ‘package:tidyr’:\n",
      "\n",
      "    smiths\n",
      "\n"
     ]
    },
    {
     "data": {
      "text/html": [
       "<table>\n",
       "<thead><tr><th scope=col>IID</th><th scope=col>age</th><th scope=col>sex</th><th scope=col>meno.label</th><th scope=col>phase</th><th scope=col>variable</th><th scope=col>value</th></tr></thead>\n",
       "<tbody>\n",
       "\t<tr><td>2502845    </td><td>50         </td><td>1          </td><td>male       </td><td>NA         </td><td>f.30600.0.0</td><td>45.64      </td></tr>\n",
       "\t<tr><td>2314965    </td><td>55         </td><td>0          </td><td>missing    </td><td>NA         </td><td>f.30600.0.0</td><td>   NA      </td></tr>\n",
       "\t<tr><td>1142584    </td><td>60         </td><td>0          </td><td>post       </td><td>NA         </td><td>f.30600.0.0</td><td>47.06      </td></tr>\n",
       "\t<tr><td>3665122    </td><td>74         </td><td>0          </td><td>post       </td><td>NA         </td><td>f.30600.0.0</td><td>47.47      </td></tr>\n",
       "\t<tr><td>4377492    </td><td>65         </td><td>0          </td><td>post       </td><td>NA         </td><td>f.30600.0.0</td><td>48.13      </td></tr>\n",
       "\t<tr><td>4015997    </td><td>50         </td><td>0          </td><td>pre        </td><td>menstrual  </td><td>f.30600.0.0</td><td>45.92      </td></tr>\n",
       "</tbody>\n",
       "</table>\n"
      ],
      "text/latex": [
       "\\begin{tabular}{r|lllllll}\n",
       " IID & age & sex & meno.label & phase & variable & value\\\\\n",
       "\\hline\n",
       "\t 2502845     & 50          & 1           & male        & NA          & f.30600.0.0 & 45.64      \\\\\n",
       "\t 2314965     & 55          & 0           & missing     & NA          & f.30600.0.0 &    NA      \\\\\n",
       "\t 1142584     & 60          & 0           & post        & NA          & f.30600.0.0 & 47.06      \\\\\n",
       "\t 3665122     & 74          & 0           & post        & NA          & f.30600.0.0 & 47.47      \\\\\n",
       "\t 4377492     & 65          & 0           & post        & NA          & f.30600.0.0 & 48.13      \\\\\n",
       "\t 4015997     & 50          & 0           & pre         & menstrual   & f.30600.0.0 & 45.92      \\\\\n",
       "\\end{tabular}\n"
      ],
      "text/markdown": [
       "\n",
       "IID | age | sex | meno.label | phase | variable | value | \n",
       "|---|---|---|---|---|---|\n",
       "| 2502845     | 50          | 1           | male        | NA          | f.30600.0.0 | 45.64       | \n",
       "| 2314965     | 55          | 0           | missing     | NA          | f.30600.0.0 |    NA       | \n",
       "| 1142584     | 60          | 0           | post        | NA          | f.30600.0.0 | 47.06       | \n",
       "| 3665122     | 74          | 0           | post        | NA          | f.30600.0.0 | 47.47       | \n",
       "| 4377492     | 65          | 0           | post        | NA          | f.30600.0.0 | 48.13       | \n",
       "| 4015997     | 50          | 0           | pre         | menstrual   | f.30600.0.0 | 45.92       | \n",
       "\n",
       "\n"
      ],
      "text/plain": [
       "  IID     age sex meno.label phase     variable    value\n",
       "1 2502845 50  1   male       NA        f.30600.0.0 45.64\n",
       "2 2314965 55  0   missing    NA        f.30600.0.0    NA\n",
       "3 1142584 60  0   post       NA        f.30600.0.0 47.06\n",
       "4 3665122 74  0   post       NA        f.30600.0.0 47.47\n",
       "5 4377492 65  0   post       NA        f.30600.0.0 48.13\n",
       "6 4015997 50  0   pre        menstrual f.30600.0.0 45.92"
      ]
     },
     "metadata": {},
     "output_type": "display_data"
    }
   ],
   "source": [
    "require('reshape2')\n",
    "dat.melted <- melt(combined3.2, id.vars=c(\"IID\", \"age\", \"sex\", \"meno.label\", \"phase\"))\n",
    "head(dat.melted)"
   ]
  },
  {
   "cell_type": "code",
   "execution_count": 16,
   "metadata": {},
   "outputs": [
    {
     "data": {
      "text/html": [
       "<table>\n",
       "<thead><tr><th></th><th scope=col>Field</th><th scope=col>ID</th><th scope=col>X</th><th scope=col>Description</th><th scope=col>name</th></tr></thead>\n",
       "<tbody>\n",
       "\t<tr><th scope=row>30620</th><td>30620                     </td><td>Alanine                   </td><td>aminotransferase          </td><td>                          </td><td>Alanine aminotransferase  </td></tr>\n",
       "\t<tr><th scope=row>30600</th><td>30600                     </td><td>Albumin                   </td><td>                          </td><td>                          </td><td>Albumin                   </td></tr>\n",
       "\t<tr><th scope=row>30610</th><td>30610                     </td><td>Alkaline                  </td><td>phosphatase               </td><td>                          </td><td>Alkaline phosphatase      </td></tr>\n",
       "\t<tr><th scope=row>30630</th><td>30630                     </td><td>Apolipoprotein            </td><td>A                         </td><td>                          </td><td>Apolipoprotein A          </td></tr>\n",
       "\t<tr><th scope=row>30640</th><td>30640                     </td><td>Apolipoprotein            </td><td>B                         </td><td>                          </td><td>Apolipoprotein B          </td></tr>\n",
       "\t<tr><th scope=row>30650</th><td>30650                     </td><td>Aspartate                 </td><td>aminotransferase          </td><td>                          </td><td>Aspartate aminotransferase</td></tr>\n",
       "</tbody>\n",
       "</table>\n"
      ],
      "text/latex": [
       "\\begin{tabular}{r|lllll}\n",
       "  & Field & ID & X & Description & name\\\\\n",
       "\\hline\n",
       "\t30620 & 30620                      & Alanine                    & aminotransferase           &                            & Alanine aminotransferase  \\\\\n",
       "\t30600 & 30600                      & Albumin                    &                            &                            & Albumin                   \\\\\n",
       "\t30610 & 30610                      & Alkaline                   & phosphatase                &                            & Alkaline phosphatase      \\\\\n",
       "\t30630 & 30630                      & Apolipoprotein             & A                          &                            & Apolipoprotein A          \\\\\n",
       "\t30640 & 30640                      & Apolipoprotein             & B                          &                            & Apolipoprotein B          \\\\\n",
       "\t30650 & 30650                      & Aspartate                  & aminotransferase           &                            & Aspartate aminotransferase\\\\\n",
       "\\end{tabular}\n"
      ],
      "text/markdown": [
       "\n",
       "| <!--/--> | Field | ID | X | Description | name | \n",
       "|---|---|---|---|---|---|\n",
       "| 30620 | 30620                      | Alanine                    | aminotransferase           |                            | Alanine aminotransferase   | \n",
       "| 30600 | 30600                      | Albumin                    |                            |                            | Albumin                    | \n",
       "| 30610 | 30610                      | Alkaline                   | phosphatase                |                            | Alkaline phosphatase       | \n",
       "| 30630 | 30630                      | Apolipoprotein             | A                          |                            | Apolipoprotein A           | \n",
       "| 30640 | 30640                      | Apolipoprotein             | B                          |                            | Apolipoprotein B           | \n",
       "| 30650 | 30650                      | Aspartate                  | aminotransferase           |                            | Aspartate aminotransferase | \n",
       "\n",
       "\n"
      ],
      "text/plain": [
       "      Field ID             X                Description\n",
       "30620 30620 Alanine        aminotransferase            \n",
       "30600 30600 Albumin                                    \n",
       "30610 30610 Alkaline       phosphatase                 \n",
       "30630 30630 Apolipoprotein A                           \n",
       "30640 30640 Apolipoprotein B                           \n",
       "30650 30650 Aspartate      aminotransferase            \n",
       "      name                      \n",
       "30620 Alanine aminotransferase  \n",
       "30600 Albumin                   \n",
       "30610 Alkaline phosphatase      \n",
       "30630 Apolipoprotein A          \n",
       "30640 Apolipoprotein B          \n",
       "30650 Aspartate aminotransferase"
      ]
     },
     "metadata": {},
     "output_type": "display_data"
    }
   ],
   "source": [
    "\n",
    "dat2 <- dat.melted %>% filter(!is.na(value))\n",
    "\n",
    "    "
   ]
  },
  {
   "cell_type": "code",
   "execution_count": 17,
   "metadata": {},
   "outputs": [
    {
     "data": {
      "text/html": [
       "<table>\n",
       "<thead><tr><th scope=col>sex</th><th scope=col>variable</th><th scope=col>mean_val</th><th scope=col>sd_val</th></tr></thead>\n",
       "<tbody>\n",
       "\t<tr><td>0          </td><td>f.30600.0.0</td><td>44.985997  </td><td> 2.5861501 </td></tr>\n",
       "\t<tr><td>0          </td><td>f.30610.0.0</td><td>84.985266  </td><td>27.7202035 </td></tr>\n",
       "\t<tr><td>0          </td><td>f.30620.0.0</td><td>20.266769  </td><td>12.1533011 </td></tr>\n",
       "\t<tr><td>0          </td><td>f.30630.0.0</td><td> 1.638494  </td><td> 0.2663518 </td></tr>\n",
       "\t<tr><td>0          </td><td>f.30640.0.0</td><td> 1.040757  </td><td> 0.2380158 </td></tr>\n",
       "\t<tr><td>0          </td><td>f.30650.0.0</td><td>24.493638  </td><td> 9.5252283 </td></tr>\n",
       "</tbody>\n",
       "</table>\n"
      ],
      "text/latex": [
       "\\begin{tabular}{r|llll}\n",
       " sex & variable & mean\\_val & sd\\_val\\\\\n",
       "\\hline\n",
       "\t 0           & f.30600.0.0 & 44.985997   &  2.5861501 \\\\\n",
       "\t 0           & f.30610.0.0 & 84.985266   & 27.7202035 \\\\\n",
       "\t 0           & f.30620.0.0 & 20.266769   & 12.1533011 \\\\\n",
       "\t 0           & f.30630.0.0 &  1.638494   &  0.2663518 \\\\\n",
       "\t 0           & f.30640.0.0 &  1.040757   &  0.2380158 \\\\\n",
       "\t 0           & f.30650.0.0 & 24.493638   &  9.5252283 \\\\\n",
       "\\end{tabular}\n"
      ],
      "text/markdown": [
       "\n",
       "sex | variable | mean_val | sd_val | \n",
       "|---|---|---|---|---|---|\n",
       "| 0           | f.30600.0.0 | 44.985997   |  2.5861501  | \n",
       "| 0           | f.30610.0.0 | 84.985266   | 27.7202035  | \n",
       "| 0           | f.30620.0.0 | 20.266769   | 12.1533011  | \n",
       "| 0           | f.30630.0.0 |  1.638494   |  0.2663518  | \n",
       "| 0           | f.30640.0.0 |  1.040757   |  0.2380158  | \n",
       "| 0           | f.30650.0.0 | 24.493638   |  9.5252283  | \n",
       "\n",
       "\n"
      ],
      "text/plain": [
       "  sex variable    mean_val  sd_val    \n",
       "1 0   f.30600.0.0 44.985997  2.5861501\n",
       "2 0   f.30610.0.0 84.985266 27.7202035\n",
       "3 0   f.30620.0.0 20.266769 12.1533011\n",
       "4 0   f.30630.0.0  1.638494  0.2663518\n",
       "5 0   f.30640.0.0  1.040757  0.2380158\n",
       "6 0   f.30650.0.0 24.493638  9.5252283"
      ]
     },
     "metadata": {},
     "output_type": "display_data"
    }
   ],
   "source": [
    "# group means for sex\n",
    "group_means <- dat2 %>% group_by(sex, variable) %>% summarize(mean_val=mean(value),sd_val=sd(value))\n",
    "head(group_means) \n",
    "group_means$sex <- as.factor(group_means$sex)\n",
    "group_means$variable2 <- sapply(group_means$variable, function(x) strsplit(as.character(x), \".\", fixed=TRUE)[[1]][[2]])\n",
    "group_means$name <- biomarker[group_means$variable2,]$name"
   ]
  },
  {
   "cell_type": "code",
   "execution_count": 18,
   "metadata": {},
   "outputs": [
    {
     "data": {},
     "metadata": {},
     "output_type": "display_data"
    },
    {
     "data": {
      "image/png": "[encoded data removed]",
      "text/plain": [
       "plot without title"
      ]
     },
     "metadata": {},
     "output_type": "display_data"
    }
   ],
   "source": [
    "ggplot(group_means, aes(x=name, y=mean_val, colour=sex )) +\n",
    "       geom_errorbar(aes(ymin=mean_val-sd_val, ymax=mean_val+sd_val), width=0.1)+\n",
    "geom_point(size=3) + coord_flip()\n",
    "\n",
    "# TODO - facet data\n"
   ]
  },
  {
   "cell_type": "code",
   "execution_count": 20,
   "metadata": {},
   "outputs": [
    {
     "data": {},
     "metadata": {},
     "output_type": "display_data"
    },
    {
     "data": {
      "image/png": "[encoded data removed]",
      "text/plain": [
       "plot without title"
      ]
     },
     "metadata": {},
     "output_type": "display_data"
    }
   ],
   "source": [
    "ggplot(group_means, aes(x=name, y=mean_val, colour=sex )) +\n",
    "       geom_errorbar(aes(ymin=mean_val-sd_val, ymax=mean_val+sd_val), width=0.1)+\n",
    "geom_point(size=3) + coord_flip()+facet_wrap(~name, ncol=1, scales=\"free\") # FIX"
   ]
  },
  {
   "cell_type": "code",
   "execution_count": 22,
   "metadata": {},
   "outputs": [
    {
     "data": {
      "text/html": [
       "<table>\n",
       "<thead><tr><th scope=col>meno.label</th><th scope=col>variable</th><th scope=col>mean_val</th><th scope=col>sd_val</th></tr></thead>\n",
       "<tbody>\n",
       "\t<tr><td>male       </td><td>f.30600.0.0</td><td>45.527425  </td><td> 2.6088648 </td></tr>\n",
       "\t<tr><td>male       </td><td>f.30610.0.0</td><td>81.985183  </td><td>24.8487043 </td></tr>\n",
       "\t<tr><td>male       </td><td>f.30620.0.0</td><td>27.292527  </td><td>14.9984962 </td></tr>\n",
       "\t<tr><td>male       </td><td>f.30630.0.0</td><td> 1.432713  </td><td> 0.2299103 </td></tr>\n",
       "\t<tr><td>male       </td><td>f.30640.0.0</td><td> 1.027883  </td><td> 0.2383504 </td></tr>\n",
       "\t<tr><td>male       </td><td>f.30650.0.0</td><td>28.156607  </td><td>11.3961713 </td></tr>\n",
       "</tbody>\n",
       "</table>\n"
      ],
      "text/latex": [
       "\\begin{tabular}{r|llll}\n",
       " meno.label & variable & mean\\_val & sd\\_val\\\\\n",
       "\\hline\n",
       "\t male        & f.30600.0.0 & 45.527425   &  2.6088648 \\\\\n",
       "\t male        & f.30610.0.0 & 81.985183   & 24.8487043 \\\\\n",
       "\t male        & f.30620.0.0 & 27.292527   & 14.9984962 \\\\\n",
       "\t male        & f.30630.0.0 &  1.432713   &  0.2299103 \\\\\n",
       "\t male        & f.30640.0.0 &  1.027883   &  0.2383504 \\\\\n",
       "\t male        & f.30650.0.0 & 28.156607   & 11.3961713 \\\\\n",
       "\\end{tabular}\n"
      ],
      "text/markdown": [
       "\n",
       "meno.label | variable | mean_val | sd_val | \n",
       "|---|---|---|---|---|---|\n",
       "| male        | f.30600.0.0 | 45.527425   |  2.6088648  | \n",
       "| male        | f.30610.0.0 | 81.985183   | 24.8487043  | \n",
       "| male        | f.30620.0.0 | 27.292527   | 14.9984962  | \n",
       "| male        | f.30630.0.0 |  1.432713   |  0.2299103  | \n",
       "| male        | f.30640.0.0 |  1.027883   |  0.2383504  | \n",
       "| male        | f.30650.0.0 | 28.156607   | 11.3961713  | \n",
       "\n",
       "\n"
      ],
      "text/plain": [
       "  meno.label variable    mean_val  sd_val    \n",
       "1 male       f.30600.0.0 45.527425  2.6088648\n",
       "2 male       f.30610.0.0 81.985183 24.8487043\n",
       "3 male       f.30620.0.0 27.292527 14.9984962\n",
       "4 male       f.30630.0.0  1.432713  0.2299103\n",
       "5 male       f.30640.0.0  1.027883  0.2383504\n",
       "6 male       f.30650.0.0 28.156607 11.3961713"
      ]
     },
     "metadata": {},
     "output_type": "display_data"
    },
    {
     "data": {},
     "metadata": {},
     "output_type": "display_data"
    },
    {
     "data": {
      "image/png": "[encoded data removed]",
      "text/plain": [
       "plot without title"
      ]
     },
     "metadata": {},
     "output_type": "display_data"
    }
   ],
   "source": [
    "# summarize by menopausal status\n",
    "group_means <- dat2 %>% group_by( meno.label, variable) %>% summarize(mean_val=mean(value),sd_val=sd(value))\n",
    "head(group_means) \n",
    "group_means$variable2 <- sapply(group_means$variable, function(x) strsplit(as.character(x), \".\", fixed=TRUE)[[1]][[2]])\n",
    "group_means$name <- biomarker[group_means$variable2,]$name\n",
    "ggplot(group_means, aes(x=name, y=mean_val, colour=meno.label )) +\n",
    "       geom_errorbar(aes(ymin=mean_val-sd_val, ymax=mean_val+sd_val), width=0.1)+\n",
    "geom_point(size=3) + coord_flip()\n"
   ]
  },
  {
   "cell_type": "markdown",
   "metadata": {},
   "source": []
  },
  {
   "cell_type": "code",
   "execution_count": null,
   "metadata": {
    "collapsed": true
   },
   "outputs": [],
   "source": [
    "# age last used HRT: 3546\n",
    "# age started HRT: 3536\n",
    "# age last used bc pill: 2804\n",
    "# age started bc pill: 2794\n",
    "\n",
    "# data field 20003 has treatment/medication code\n",
    "# \"testosterone product\", \"testogel\"\n",
    "# many on estrogen products"
   ]
  }
 ],
 "metadata": {
  "kernelspec": {
   "display_name": "R",
   "language": "R",
   "name": "ir"
  },
  "language_info": {
   "codemirror_mode": "r",
   "file_extension": ".r",
   "mimetype": "text/x-r-source",
   "name": "R",
   "pygments_lexer": "r",
   "version": "3.4.0"
  }
 },
 "nbformat": 4,
 "nbformat_minor": 2
}
