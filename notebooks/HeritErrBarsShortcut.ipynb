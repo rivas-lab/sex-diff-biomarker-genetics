{
 "cells": [
  {
   "cell_type": "markdown",
   "metadata": {},
   "source": [
    "HeritErrBarsShortcut\n",
    "E Flynn\n",
    "5/22/2018\n",
    "\n",
    "The goal of this notebook is to extract the error bars from the vectors for each trait"
   ]
  },
  {
   "cell_type": "code",
   "execution_count": 1,
   "metadata": {},
   "outputs": [
    {
     "name": "stderr",
     "output_type": "stream",
     "text": [
      "Loading required package: MASS\n",
      "Loading required package: Matrix\n",
      "Loading required package: mnormt\n",
      "Loading required package: qqman\n",
      "\n",
      "For example usage please run: vignette('qqman')\n",
      "\n",
      "Citation appreciated but not required:\n",
      "Turner, S.D. qqman: an R package for visualizing GWAS results using Q-Q and manhattan plots. biorXiv DOI: 10.1101/005165 (2014).\n",
      "\n",
      "Loading required package: rstan\n",
      "Loading required package: ggplot2\n",
      "Loading required package: StanHeaders\n",
      "rstan (Version 2.17.3, GitRev: 2e1f913d3ca3)\n",
      "For execution on a local, multicore CPU with excess RAM we recommend calling\n",
      "options(mc.cores = parallel::detectCores()).\n",
      "To avoid recompilation of unchanged Stan programs, we recommend calling\n",
      "rstan_options(auto_write = TRUE)\n"
     ]
    }
   ],
   "source": [
    "source('model_utils.R')\n",
    "source('heritability_utils.R')\n",
    "DATA.FOLDER <- \"/scratch/PI/mrivas/users/erflynn/sex_div_gwas/data/\""
   ]
  },
  {
   "cell_type": "code",
   "execution_count": 2,
   "metadata": {
    "collapsed": true
   },
   "outputs": [],
   "source": [
    "trait <- 'whr'\n",
    "load(file=sprintf(\"%s/dat_set/dat_%s.RData\", DATA.FOLDER, trait))\n",
    "load(file=sprintf(\"%s/dat_set/f_%s.RData\", DATA.FOLDER, trait))"
   ]
  },
  {
   "cell_type": "code",
   "execution_count": 3,
   "metadata": {
    "collapsed": true
   },
   "outputs": [],
   "source": [
    "list_of_draws <- extract(fit1)\n",
    "pi.draws <- list_of_draws$pi\n",
    "p <- pi.draws\n",
    "s.draws <- list_of_draws$Sigma\n",
    "Sigma <- s.draws"
   ]
  },
  {
   "cell_type": "code",
   "execution_count": 4,
   "metadata": {},
   "outputs": [
    {
     "data": {
      "text/html": [
       "<table>\n",
       "<tbody>\n",
       "\t<tr><td>0.7262436</td><td>0.2737564</td></tr>\n",
       "\t<tr><td>0.7236995</td><td>0.2763005</td></tr>\n",
       "\t<tr><td>0.7233053</td><td>0.2766947</td></tr>\n",
       "\t<tr><td>0.7230723</td><td>0.2769277</td></tr>\n",
       "\t<tr><td>0.7220776</td><td>0.2779224</td></tr>\n",
       "\t<tr><td>0.7202496</td><td>0.2797504</td></tr>\n",
       "</tbody>\n",
       "</table>\n"
      ],
      "text/latex": [
       "\\begin{tabular}{ll}\n",
       "\t 0.7262436 & 0.2737564\\\\\n",
       "\t 0.7236995 & 0.2763005\\\\\n",
       "\t 0.7233053 & 0.2766947\\\\\n",
       "\t 0.7230723 & 0.2769277\\\\\n",
       "\t 0.7220776 & 0.2779224\\\\\n",
       "\t 0.7202496 & 0.2797504\\\\\n",
       "\\end{tabular}\n"
      ],
      "text/markdown": [
       "\n",
       "| 0.7262436 | 0.2737564 | \n",
       "| 0.7236995 | 0.2763005 | \n",
       "| 0.7233053 | 0.2766947 | \n",
       "| 0.7230723 | 0.2769277 | \n",
       "| 0.7220776 | 0.2779224 | \n",
       "| 0.7202496 | 0.2797504 | \n",
       "\n",
       "\n"
      ],
      "text/plain": [
       "          \n",
       "iterations [,1]      [,2]     \n",
       "      [1,] 0.7262436 0.2737564\n",
       "      [2,] 0.7236995 0.2763005\n",
       "      [3,] 0.7233053 0.2766947\n",
       "      [4,] 0.7230723 0.2769277\n",
       "      [5,] 0.7220776 0.2779224\n",
       "      [6,] 0.7202496 0.2797504"
      ]
     },
     "metadata": {},
     "output_type": "display_data"
    },
    {
     "data": {
      "text/html": [
       "<ol class=list-inline>\n",
       "\t<li>4.05652815320413e-05</li>\n",
       "\t<li>4.08167711786225e-05</li>\n",
       "\t<li>3.8776947224292e-05</li>\n",
       "\t<li>4.1484592652088e-05</li>\n",
       "\t<li>3.93915570299366e-05</li>\n",
       "\t<li>4.17471010869353e-05</li>\n",
       "</ol>\n"
      ],
      "text/latex": [
       "\\begin{enumerate*}\n",
       "\\item 4.05652815320413e-05\n",
       "\\item 4.08167711786225e-05\n",
       "\\item 3.8776947224292e-05\n",
       "\\item 4.1484592652088e-05\n",
       "\\item 3.93915570299366e-05\n",
       "\\item 4.17471010869353e-05\n",
       "\\end{enumerate*}\n"
      ],
      "text/markdown": [
       "1. 4.05652815320413e-05\n",
       "2. 4.08167711786225e-05\n",
       "3. 3.8776947224292e-05\n",
       "4. 4.1484592652088e-05\n",
       "5. 3.93915570299366e-05\n",
       "6. 4.17471010869353e-05\n",
       "\n",
       "\n"
      ],
      "text/plain": [
       "[1] 4.056528e-05 4.081677e-05 3.877695e-05 4.148459e-05 3.939156e-05\n",
       "[6] 4.174710e-05"
      ]
     },
     "metadata": {},
     "output_type": "display_data"
    },
    {
     "data": {
      "text/html": [
       "<ol class=list-inline>\n",
       "\t<li>3.77488578174814e-05</li>\n",
       "\t<li>3.78343475526008e-05</li>\n",
       "\t<li>3.79110754963563e-05</li>\n",
       "\t<li>3.79498833789981e-05</li>\n",
       "\t<li>3.79754223450282e-05</li>\n",
       "\t<li>3.80377492988885e-05</li>\n",
       "</ol>\n"
      ],
      "text/latex": [
       "\\begin{enumerate*}\n",
       "\\item 3.77488578174814e-05\n",
       "\\item 3.78343475526008e-05\n",
       "\\item 3.79110754963563e-05\n",
       "\\item 3.79498833789981e-05\n",
       "\\item 3.79754223450282e-05\n",
       "\\item 3.80377492988885e-05\n",
       "\\end{enumerate*}\n"
      ],
      "text/markdown": [
       "1. 3.77488578174814e-05\n",
       "2. 3.78343475526008e-05\n",
       "3. 3.79110754963563e-05\n",
       "4. 3.79498833789981e-05\n",
       "5. 3.79754223450282e-05\n",
       "6. 3.80377492988885e-05\n",
       "\n",
       "\n"
      ],
      "text/plain": [
       "[1] 3.774886e-05 3.783435e-05 3.791108e-05 3.794988e-05 3.797542e-05\n",
       "[6] 3.803775e-05"
      ]
     },
     "metadata": {},
     "output_type": "display_data"
    }
   ],
   "source": [
    "ordered.p <- p[order(p[,2]),] # ordering p by the first component \n",
    "head(ordered.p)\n",
    "p.lower <- ordered.p[0.125*nrow(ordered.p),]\n",
    "p.upper <- ordered.p[0.975*nrow(ordered.p),]\n",
    "\n",
    "# how to order the Sigma matrix??\n",
    "ordered.S <- Sigma[order(Sigma[,1,1]),,]\n",
    "head(Sigma)\n",
    "head(ordered.S)\n"
   ]
  },
  {
   "cell_type": "code",
   "execution_count": 5,
   "metadata": {},
   "outputs": [
    {
     "data": {
      "text/plain": [
       "\n",
       "     1      2 \n",
       "275903   5887 "
      ]
     },
     "metadata": {},
     "output_type": "display_data"
    }
   ],
   "source": [
    "dat <- labelCategories(dat, getSigma(fit1), getPi(fit1))\n",
    "table(dat$categories)"
   ]
  },
  {
   "cell_type": "code",
   "execution_count": 6,
   "metadata": {},
   "outputs": [
    {
     "data": {
      "text/html": [
       "<dl>\n",
       "\t<dt>$`1`</dt>\n",
       "\t\t<dd>0.249733901415226</dd>\n",
       "\t<dt>$`2`</dt>\n",
       "\t\t<dd>0.180376630255132</dd>\n",
       "</dl>\n"
      ],
      "text/latex": [
       "\\begin{description}\n",
       "\\item[\\$`1`] 0.249733901415226\n",
       "\\item[\\$`2`] 0.180376630255132\n",
       "\\end{description}\n"
      ],
      "text/markdown": [
       "$`1`\n",
       ":   0.249733901415226\n",
       "$`2`\n",
       ":   0.180376630255132\n",
       "\n",
       "\n"
      ],
      "text/plain": [
       "$`1`\n",
       "[1] 0.2497339\n",
       "\n",
       "$`2`\n",
       "[1] 0.1803766\n"
      ]
     },
     "metadata": {},
     "output_type": "display_data"
    }
   ],
   "source": [
    "overallHeritability(dat, getSigma(fit1), getPi(fit1))"
   ]
  },
  {
   "cell_type": "code",
   "execution_count": 7,
   "metadata": {},
   "outputs": [
    {
     "data": {
      "text/html": [
       "<ol class=list-inline>\n",
       "\t<li>0.692258287359553</li>\n",
       "\t<li>0.307741712640447</li>\n",
       "</ol>\n"
      ],
      "text/latex": [
       "\\begin{enumerate*}\n",
       "\\item 0.692258287359553\n",
       "\\item 0.307741712640447\n",
       "\\end{enumerate*}\n"
      ],
      "text/markdown": [
       "1. 0.692258287359553\n",
       "2. 0.307741712640447\n",
       "\n",
       "\n"
      ],
      "text/plain": [
       "[1] 0.6922583 0.3077417"
      ]
     },
     "metadata": {},
     "output_type": "display_data"
    },
    {
     "data": {
      "text/html": [
       "<ol class=list-inline>\n",
       "\t<li>0.711365885982313</li>\n",
       "\t<li>0.288634114017687</li>\n",
       "</ol>\n"
      ],
      "text/latex": [
       "\\begin{enumerate*}\n",
       "\\item 0.711365885982313\n",
       "\\item 0.288634114017687\n",
       "\\end{enumerate*}\n"
      ],
      "text/markdown": [
       "1. 0.711365885982313\n",
       "2. 0.288634114017687\n",
       "\n",
       "\n"
      ],
      "text/plain": [
       "[1] 0.7113659 0.2886341"
      ]
     },
     "metadata": {},
     "output_type": "display_data"
    }
   ],
   "source": [
    "p.upper # the upper one is higher in the second component\n",
    "p.lower"
   ]
  },
  {
   "cell_type": "code",
   "execution_count": 21,
   "metadata": {
    "collapsed": true
   },
   "outputs": [],
   "source": [
    "herit.vals.u <- sapply(1:1600, function(x) overallHeritability(dat, ordered.S[x,,], p.upper))\n",
    "herit.vals.l <- sapply(1:1600, function(x) overallHeritability(dat, ordered.S[x,,], p.lower))\n",
    "head(herit.vals.u)\n",
    "head(herit.vals.l)"
   ]
  },
  {
   "cell_type": "code",
   "execution_count": 8,
   "metadata": {},
   "outputs": [
    {
     "data": {
      "text/html": [
       "<dl>\n",
       "\t<dt>$`1`</dt>\n",
       "\t\t<dd>0.265860237673666</dd>\n",
       "\t<dt>$`2`</dt>\n",
       "\t\t<dd>0.187173593596715</dd>\n",
       "</dl>\n"
      ],
      "text/latex": [
       "\\begin{description}\n",
       "\\item[\\$`1`] 0.265860237673666\n",
       "\\item[\\$`2`] 0.187173593596715\n",
       "\\end{description}\n"
      ],
      "text/markdown": [
       "$`1`\n",
       ":   0.265860237673666\n",
       "$`2`\n",
       ":   0.187173593596715\n",
       "\n",
       "\n"
      ],
      "text/plain": [
       "$`1`\n",
       "[1] 0.2658602\n",
       "\n",
       "$`2`\n",
       "[1] 0.1871736\n"
      ]
     },
     "metadata": {},
     "output_type": "display_data"
    },
    {
     "data": {
      "text/html": [
       "<dl>\n",
       "\t<dt>$`1`</dt>\n",
       "\t\t<dd>0.240059308608127</dd>\n",
       "\t<dt>$`2`</dt>\n",
       "\t\t<dd>0.17768965183377</dd>\n",
       "</dl>\n"
      ],
      "text/latex": [
       "\\begin{description}\n",
       "\\item[\\$`1`] 0.240059308608127\n",
       "\\item[\\$`2`] 0.17768965183377\n",
       "\\end{description}\n"
      ],
      "text/markdown": [
       "$`1`\n",
       ":   0.240059308608127\n",
       "$`2`\n",
       ":   0.17768965183377\n",
       "\n",
       "\n"
      ],
      "text/plain": [
       "$`1`\n",
       "[1] 0.2400593\n",
       "\n",
       "$`2`\n",
       "[1] 0.1776897\n"
      ]
     },
     "metadata": {},
     "output_type": "display_data"
    }
   ],
   "source": [
    "# extract the appropriate parts of the S matrix\n",
    "s.upper <- ordered.S[0.975*1600,,]\n",
    "s.lower <- ordered.S[0.125*1600,,]\n",
    "\n",
    "# calculate the heritability\n",
    "overallHeritability(dat, s.upper, p.upper)\n",
    "overallHeritability(dat, s.lower, p.lower)"
   ]
  },
  {
   "cell_type": "code",
   "execution_count": 9,
   "metadata": {
    "collapsed": true
   },
   "outputs": [],
   "source": [
    "# todo - are the categories calculated at this time or earlier?\n",
    "# -- turns out earlier --> need to double check\n",
    "# the results don't change that much tho!\n",
    "\n",
    "dat2 <- dat\n",
    "dat2$categories <- NULL\n",
    "dat.u <- labelCategories(dat2, s.upper, p.upper)\n",
    "dat.l <- labelCategories(dat2, s.lower, p.lower)\n"
   ]
  },
  {
   "cell_type": "code",
   "execution_count": 10,
   "metadata": {},
   "outputs": [
    {
     "data": {
      "text/html": [
       "<dl>\n",
       "\t<dt>$`1`</dt>\n",
       "\t\t<dd>0.260871397650201</dd>\n",
       "\t<dt>$`2`</dt>\n",
       "\t\t<dd>0.183328248650306</dd>\n",
       "</dl>\n"
      ],
      "text/latex": [
       "\\begin{description}\n",
       "\\item[\\$`1`] 0.260871397650201\n",
       "\\item[\\$`2`] 0.183328248650306\n",
       "\\end{description}\n"
      ],
      "text/markdown": [
       "$`1`\n",
       ":   0.260871397650201\n",
       "$`2`\n",
       ":   0.183328248650306\n",
       "\n",
       "\n"
      ],
      "text/plain": [
       "$`1`\n",
       "[1] 0.2608714\n",
       "\n",
       "$`2`\n",
       "[1] 0.1833282\n"
      ]
     },
     "metadata": {},
     "output_type": "display_data"
    },
    {
     "data": {
      "text/html": [
       "<dl>\n",
       "\t<dt>$`1`</dt>\n",
       "\t\t<dd>0.241854610971852</dd>\n",
       "\t<dt>$`2`</dt>\n",
       "\t\t<dd>0.17918246648356</dd>\n",
       "</dl>\n"
      ],
      "text/latex": [
       "\\begin{description}\n",
       "\\item[\\$`1`] 0.241854610971852\n",
       "\\item[\\$`2`] 0.17918246648356\n",
       "\\end{description}\n"
      ],
      "text/markdown": [
       "$`1`\n",
       ":   0.241854610971852\n",
       "$`2`\n",
       ":   0.17918246648356\n",
       "\n",
       "\n"
      ],
      "text/plain": [
       "$`1`\n",
       "[1] 0.2418546\n",
       "\n",
       "$`2`\n",
       "[1] 0.1791825\n"
      ]
     },
     "metadata": {},
     "output_type": "display_data"
    }
   ],
   "source": [
    "overallHeritability(dat.u, s.upper, p.upper)\n",
    "overallHeritability(dat.l, s.lower, p.lower)"
   ]
  },
  {
   "cell_type": "code",
   "execution_count": 14,
   "metadata": {
    "collapsed": true
   },
   "outputs": [],
   "source": [
    "calcErrBarsHerit <- function(trait){\n",
    "    load(file=sprintf(\"%s/dat_set/dat_%s.RData\", DATA.FOLDER, trait))\n",
    "    load(file=sprintf(\"%s/dat_set/f_%s.RData\", DATA.FOLDER, trait))\n",
    "    \n",
    "    # extract all estimate\n",
    "    list_of_draws <- extract(fit1)\n",
    "    pi.draws <- list_of_draws$pi\n",
    "    p <- pi.draws\n",
    "    s.draws <- list_of_draws$Sigma\n",
    "    Sigma <- s.draws\n",
    "    \n",
    "    # extract lower + upper pi\n",
    "    ordered.p <- p[order(p[,2]),] # ordering p by the non-null component \n",
    "    p.lower <- ordered.p[0.125*nrow(ordered.p),]\n",
    "    p.upper <- ordered.p[0.975*nrow(ordered.p),]\n",
    "\n",
    "    # extract lower + upper sigma\n",
    "    ordered.S <- Sigma[order(Sigma[,1,1]),,]\n",
    "    s.upper <- ordered.S[0.975*1600,,]\n",
    "    s.lower <- ordered.S[0.125*1600,,]\n",
    "    \n",
    "    # recalculate SNP membership\n",
    "    h <- overallHeritability(dat, getSigma(fit1), getPi(fit1))\n",
    "\n",
    "    dat2 <- dat\n",
    "    dat2$categories <- NULL\n",
    "    dat.u <- labelCategories(dat2, s.upper, p.upper)\n",
    "    dat.l <- labelCategories(dat2, s.lower, p.lower)\n",
    "\n",
    "    h.up <- overallHeritability(dat.u, s.upper, p.upper)\n",
    "    h.low <- overallHeritability(dat.l, s.lower, p.lower)\n",
    "    return(list(\"val\"=h, \"up\"=h.up, \"low\"=h.low))\n",
    "}"
   ]
  },
  {
   "cell_type": "code",
   "execution_count": 15,
   "metadata": {},
   "outputs": [
    {
     "data": {
      "text/html": [
       "<dl>\n",
       "\t<dt>$val</dt>\n",
       "\t\t<dd><dl>\n",
       "\t<dt>$`1`</dt>\n",
       "\t\t<dd>NaN</dd>\n",
       "\t<dt>$`2`</dt>\n",
       "\t\t<dd>NaN</dd>\n",
       "</dl>\n",
       "</dd>\n",
       "\t<dt>$up</dt>\n",
       "\t\t<dd><dl>\n",
       "\t<dt>$`1`</dt>\n",
       "\t\t<dd>0.260871397650201</dd>\n",
       "\t<dt>$`2`</dt>\n",
       "\t\t<dd>0.183328248650306</dd>\n",
       "</dl>\n",
       "</dd>\n",
       "\t<dt>$low</dt>\n",
       "\t\t<dd><dl>\n",
       "\t<dt>$`1`</dt>\n",
       "\t\t<dd>0.241854610971852</dd>\n",
       "\t<dt>$`2`</dt>\n",
       "\t\t<dd>0.17918246648356</dd>\n",
       "</dl>\n",
       "</dd>\n",
       "</dl>\n"
      ],
      "text/latex": [
       "\\begin{description}\n",
       "\\item[\\$val] \\begin{description}\n",
       "\\item[\\$`1`] NaN\n",
       "\\item[\\$`2`] NaN\n",
       "\\end{description}\n",
       "\n",
       "\\item[\\$up] \\begin{description}\n",
       "\\item[\\$`1`] 0.260871397650201\n",
       "\\item[\\$`2`] 0.183328248650306\n",
       "\\end{description}\n",
       "\n",
       "\\item[\\$low] \\begin{description}\n",
       "\\item[\\$`1`] 0.241854610971852\n",
       "\\item[\\$`2`] 0.17918246648356\n",
       "\\end{description}\n",
       "\n",
       "\\end{description}\n"
      ],
      "text/markdown": [
       "$val\n",
       ":   $`1`\n",
       ":   NaN\n",
       "$`2`\n",
       ":   NaN\n",
       "\n",
       "\n",
       "\n",
       "$up\n",
       ":   $`1`\n",
       ":   0.260871397650201\n",
       "$`2`\n",
       ":   0.183328248650306\n",
       "\n",
       "\n",
       "\n",
       "$low\n",
       ":   $`1`\n",
       ":   0.241854610971852\n",
       "$`2`\n",
       ":   0.17918246648356\n",
       "\n",
       "\n",
       "\n",
       "\n",
       "\n"
      ],
      "text/plain": [
       "$val\n",
       "$val$`1`\n",
       "[1] NaN\n",
       "\n",
       "$val$`2`\n",
       "[1] NaN\n",
       "\n",
       "\n",
       "$up\n",
       "$up$`1`\n",
       "[1] 0.2608714\n",
       "\n",
       "$up$`2`\n",
       "[1] 0.1833282\n",
       "\n",
       "\n",
       "$low\n",
       "$low$`1`\n",
       "[1] 0.2418546\n",
       "\n",
       "$low$`2`\n",
       "[1] 0.1791825\n",
       "\n"
      ]
     },
     "metadata": {},
     "output_type": "display_data"
    }
   ],
   "source": [
    "calcErrBarsHerit(\"whr\")\n"
   ]
  },
  {
   "cell_type": "code",
   "execution_count": 16,
   "metadata": {},
   "outputs": [
    {
     "data": {
      "text/html": [
       "<dl>\n",
       "\t<dt>$val</dt>\n",
       "\t\t<dd><dl>\n",
       "\t<dt>$`1`</dt>\n",
       "\t\t<dd>NaN</dd>\n",
       "\t<dt>$`2`</dt>\n",
       "\t\t<dd>NaN</dd>\n",
       "</dl>\n",
       "</dd>\n",
       "\t<dt>$up</dt>\n",
       "\t\t<dd><dl>\n",
       "\t<dt>$`1`</dt>\n",
       "\t\t<dd>0.375258979079396</dd>\n",
       "\t<dt>$`2`</dt>\n",
       "\t\t<dd>0.344936006329957</dd>\n",
       "</dl>\n",
       "</dd>\n",
       "\t<dt>$low</dt>\n",
       "\t\t<dd><dl>\n",
       "\t<dt>$`1`</dt>\n",
       "\t\t<dd>0.363728125739448</dd>\n",
       "\t<dt>$`2`</dt>\n",
       "\t\t<dd>0.33545507555101</dd>\n",
       "</dl>\n",
       "</dd>\n",
       "</dl>\n"
      ],
      "text/latex": [
       "\\begin{description}\n",
       "\\item[\\$val] \\begin{description}\n",
       "\\item[\\$`1`] NaN\n",
       "\\item[\\$`2`] NaN\n",
       "\\end{description}\n",
       "\n",
       "\\item[\\$up] \\begin{description}\n",
       "\\item[\\$`1`] 0.375258979079396\n",
       "\\item[\\$`2`] 0.344936006329957\n",
       "\\end{description}\n",
       "\n",
       "\\item[\\$low] \\begin{description}\n",
       "\\item[\\$`1`] 0.363728125739448\n",
       "\\item[\\$`2`] 0.33545507555101\n",
       "\\end{description}\n",
       "\n",
       "\\end{description}\n"
      ],
      "text/markdown": [
       "$val\n",
       ":   $`1`\n",
       ":   NaN\n",
       "$`2`\n",
       ":   NaN\n",
       "\n",
       "\n",
       "\n",
       "$up\n",
       ":   $`1`\n",
       ":   0.375258979079396\n",
       "$`2`\n",
       ":   0.344936006329957\n",
       "\n",
       "\n",
       "\n",
       "$low\n",
       ":   $`1`\n",
       ":   0.363728125739448\n",
       "$`2`\n",
       ":   0.33545507555101\n",
       "\n",
       "\n",
       "\n",
       "\n",
       "\n"
      ],
      "text/plain": [
       "$val\n",
       "$val$`1`\n",
       "[1] NaN\n",
       "\n",
       "$val$`2`\n",
       "[1] NaN\n",
       "\n",
       "\n",
       "$up\n",
       "$up$`1`\n",
       "[1] 0.375259\n",
       "\n",
       "$up$`2`\n",
       "[1] 0.344936\n",
       "\n",
       "\n",
       "$low\n",
       "$low$`1`\n",
       "[1] 0.3637281\n",
       "\n",
       "$low$`2`\n",
       "[1] 0.3354551\n",
       "\n"
      ]
     },
     "metadata": {},
     "output_type": "display_data"
    }
   ],
   "source": [
    "calcErrBarsHerit(\"50\")"
   ]
  },
  {
   "cell_type": "code",
   "execution_count": 19,
   "metadata": {},
   "outputs": [
    {
     "data": {
      "text/html": [
       "<dl>\n",
       "\t<dt>$val</dt>\n",
       "\t\t<dd><dl>\n",
       "\t<dt>$`1`</dt>\n",
       "\t\t<dd>NaN</dd>\n",
       "\t<dt>$`2`</dt>\n",
       "\t\t<dd>NaN</dd>\n",
       "</dl>\n",
       "</dd>\n",
       "\t<dt>$up</dt>\n",
       "\t\t<dd><dl>\n",
       "\t<dt>$`1`</dt>\n",
       "\t\t<dd>0.177832041303378</dd>\n",
       "\t<dt>$`2`</dt>\n",
       "\t\t<dd>0.207561664943746</dd>\n",
       "</dl>\n",
       "</dd>\n",
       "\t<dt>$low</dt>\n",
       "\t\t<dd><dl>\n",
       "\t<dt>$`1`</dt>\n",
       "\t\t<dd>0.162621161227457</dd>\n",
       "\t<dt>$`2`</dt>\n",
       "\t\t<dd>0.19595087449691</dd>\n",
       "</dl>\n",
       "</dd>\n",
       "</dl>\n"
      ],
      "text/latex": [
       "\\begin{description}\n",
       "\\item[\\$val] \\begin{description}\n",
       "\\item[\\$`1`] NaN\n",
       "\\item[\\$`2`] NaN\n",
       "\\end{description}\n",
       "\n",
       "\\item[\\$up] \\begin{description}\n",
       "\\item[\\$`1`] 0.177832041303378\n",
       "\\item[\\$`2`] 0.207561664943746\n",
       "\\end{description}\n",
       "\n",
       "\\item[\\$low] \\begin{description}\n",
       "\\item[\\$`1`] 0.162621161227457\n",
       "\\item[\\$`2`] 0.19595087449691\n",
       "\\end{description}\n",
       "\n",
       "\\end{description}\n"
      ],
      "text/markdown": [
       "$val\n",
       ":   $`1`\n",
       ":   NaN\n",
       "$`2`\n",
       ":   NaN\n",
       "\n",
       "\n",
       "\n",
       "$up\n",
       ":   $`1`\n",
       ":   0.177832041303378\n",
       "$`2`\n",
       ":   0.207561664943746\n",
       "\n",
       "\n",
       "\n",
       "$low\n",
       ":   $`1`\n",
       ":   0.162621161227457\n",
       "$`2`\n",
       ":   0.19595087449691\n",
       "\n",
       "\n",
       "\n",
       "\n",
       "\n"
      ],
      "text/plain": [
       "$val\n",
       "$val$`1`\n",
       "[1] NaN\n",
       "\n",
       "$val$`2`\n",
       "[1] NaN\n",
       "\n",
       "\n",
       "$up\n",
       "$up$`1`\n",
       "[1] 0.177832\n",
       "\n",
       "$up$`2`\n",
       "[1] 0.2075617\n",
       "\n",
       "\n",
       "$low\n",
       "$low$`1`\n",
       "[1] 0.1626212\n",
       "\n",
       "$low$`2`\n",
       "[1] 0.1959509\n",
       "\n"
      ]
     },
     "metadata": {},
     "output_type": "display_data"
    }
   ],
   "source": [
    "calcErrBarsHerit(\"30150\") \n",
    "\n",
    "# this shows a difference --> probably worth looking into"
   ]
  },
  {
   "cell_type": "code",
   "execution_count": 20,
   "metadata": {},
   "outputs": [
    {
     "data": {
      "text/html": [
       "<dl>\n",
       "\t<dt>$val</dt>\n",
       "\t\t<dd><dl>\n",
       "\t<dt>$`1`</dt>\n",
       "\t\t<dd>NaN</dd>\n",
       "\t<dt>$`2`</dt>\n",
       "\t\t<dd>NaN</dd>\n",
       "</dl>\n",
       "</dd>\n",
       "\t<dt>$up</dt>\n",
       "\t\t<dd><dl>\n",
       "\t<dt>$`1`</dt>\n",
       "\t\t<dd>0.151851199234472</dd>\n",
       "\t<dt>$`2`</dt>\n",
       "\t\t<dd>0.101488216586216</dd>\n",
       "</dl>\n",
       "</dd>\n",
       "\t<dt>$low</dt>\n",
       "\t\t<dd><dl>\n",
       "\t<dt>$`1`</dt>\n",
       "\t\t<dd>0.117834488134847</dd>\n",
       "\t<dt>$`2`</dt>\n",
       "\t\t<dd>0.0873355318816743</dd>\n",
       "</dl>\n",
       "</dd>\n",
       "</dl>\n"
      ],
      "text/latex": [
       "\\begin{description}\n",
       "\\item[\\$val] \\begin{description}\n",
       "\\item[\\$`1`] NaN\n",
       "\\item[\\$`2`] NaN\n",
       "\\end{description}\n",
       "\n",
       "\\item[\\$up] \\begin{description}\n",
       "\\item[\\$`1`] 0.151851199234472\n",
       "\\item[\\$`2`] 0.101488216586216\n",
       "\\end{description}\n",
       "\n",
       "\\item[\\$low] \\begin{description}\n",
       "\\item[\\$`1`] 0.117834488134847\n",
       "\\item[\\$`2`] 0.0873355318816743\n",
       "\\end{description}\n",
       "\n",
       "\\end{description}\n"
      ],
      "text/markdown": [
       "$val\n",
       ":   $`1`\n",
       ":   NaN\n",
       "$`2`\n",
       ":   NaN\n",
       "\n",
       "\n",
       "\n",
       "$up\n",
       ":   $`1`\n",
       ":   0.151851199234472\n",
       "$`2`\n",
       ":   0.101488216586216\n",
       "\n",
       "\n",
       "\n",
       "$low\n",
       ":   $`1`\n",
       ":   0.117834488134847\n",
       "$`2`\n",
       ":   0.0873355318816743\n",
       "\n",
       "\n",
       "\n",
       "\n",
       "\n"
      ],
      "text/plain": [
       "$val\n",
       "$val$`1`\n",
       "[1] NaN\n",
       "\n",
       "$val$`2`\n",
       "[1] NaN\n",
       "\n",
       "\n",
       "$up\n",
       "$up$`1`\n",
       "[1] 0.1518512\n",
       "\n",
       "$up$`2`\n",
       "[1] 0.1014882\n",
       "\n",
       "\n",
       "$low\n",
       "$low$`1`\n",
       "[1] 0.1178345\n",
       "\n",
       "$low$`2`\n",
       "[1] 0.08733553\n",
       "\n"
      ]
     },
     "metadata": {},
     "output_type": "display_data"
    }
   ],
   "source": [
    "calcErrBarsHerit(\"20022\") \n"
   ]
  },
  {
   "cell_type": "code",
   "execution_count": 22,
   "metadata": {},
   "outputs": [
    {
     "data": {
      "text/html": [
       "<table>\n",
       "<thead><tr><th scope=col>X1</th><th scope=col>X2</th><th scope=col>X1.1</th><th scope=col>X2.1</th></tr></thead>\n",
       "<tbody>\n",
       "\t<tr><td>0.1518512 </td><td>0.1014882 </td><td>0.1178345 </td><td>0.08733553</td></tr>\n",
       "</tbody>\n",
       "</table>\n"
      ],
      "text/latex": [
       "\\begin{tabular}{r|llll}\n",
       " X1 & X2 & X1.1 & X2.1\\\\\n",
       "\\hline\n",
       "\t 0.1518512  & 0.1014882  & 0.1178345  & 0.08733553\\\\\n",
       "\\end{tabular}\n"
      ],
      "text/markdown": [
       "\n",
       "X1 | X2 | X1.1 | X2.1 | \n",
       "|---|\n",
       "| 0.1518512  | 0.1014882  | 0.1178345  | 0.08733553 | \n",
       "\n",
       "\n"
      ],
      "text/plain": [
       "  X1        X2        X1.1      X2.1      \n",
       "1 0.1518512 0.1014882 0.1178345 0.08733553"
      ]
     },
     "metadata": {},
     "output_type": "display_data"
    }
   ],
   "source": [
    "res <- .Last.value\n"
   ]
  },
  {
   "cell_type": "code",
   "execution_count": 24,
   "metadata": {},
   "outputs": [
    {
     "data": {
      "text/html": [
       "<table>\n",
       "<thead><tr><th scope=col>1</th><th scope=col>2</th></tr></thead>\n",
       "<tbody>\n",
       "\t<tr><td>0.1178345 </td><td>0.08733553</td></tr>\n",
       "\t<tr><td>0.1518512</td><td>0.1014882</td></tr>\n",
       "</tbody>\n",
       "</table>\n"
      ],
      "text/latex": [
       "\\begin{tabular}{ll}\n",
       " 1 & 2\\\\\n",
       "\\hline\n",
       "\t 0.1178345  & 0.08733553\\\\\n",
       "\t 0.1518512 & 0.1014882\\\\\n",
       "\\end{tabular}\n"
      ],
      "text/markdown": [
       "\n",
       "1 | 2 | \n",
       "|---|---|\n",
       "| 0.1178345  | 0.08733553 | \n",
       "| 0.1518512 | 0.1014882 | \n",
       "\n",
       "\n"
      ],
      "text/plain": [
       "     1         2         \n",
       "[1,] 0.1178345 0.08733553\n",
       "[2,] 0.1518512 0.1014882 "
      ]
     },
     "metadata": {},
     "output_type": "display_data"
    }
   ],
   "source": [
    "res.df <- rbind(res$low, res$up)\n",
    "rownames(res.df) <- c(\"l\", \"u\")\n",
    "colnames(res.df) <- c(\"f\", \"m\")"
   ]
  },
  {
   "cell_type": "markdown",
   "metadata": {},
   "source": [
    "Q - is it the case that these differences in variability depend on the x chromosome? If so, which of these are due to X chromosome effects vs other effects?"
   ]
  },
  {
   "cell_type": "code",
   "execution_count": 15,
   "metadata": {},
   "outputs": [
    {
     "data": {
      "text/html": [
       "<table>\n",
       "<thead><tr><th scope=col>h.f</th><th scope=col>h.m</th><th scope=col>h.auto.f</th><th scope=col>h.auto.m</th></tr></thead>\n",
       "<tbody>\n",
       "\t<tr><td>0.2693287</td><td>0.1958753</td><td>0.2697892</td><td>0.193606 </td></tr>\n",
       "</tbody>\n",
       "</table>\n"
      ],
      "text/latex": [
       "\\begin{tabular}{r|llll}\n",
       " h.f & h.m & h.auto.f & h.auto.m\\\\\n",
       "\\hline\n",
       "\t 0.2693287 & 0.1958753 & 0.2697892 & 0.193606 \\\\\n",
       "\\end{tabular}\n"
      ],
      "text/markdown": [
       "\n",
       "h.f | h.m | h.auto.f | h.auto.m | \n",
       "|---|\n",
       "| 0.2693287 | 0.1958753 | 0.2697892 | 0.193606  | \n",
       "\n",
       "\n"
      ],
      "text/plain": [
       "  h.f       h.m       h.auto.f  h.auto.m\n",
       "1 0.2693287 0.1958753 0.2697892 0.193606"
      ]
     },
     "metadata": {},
     "output_type": "display_data"
    },
    {
     "data": {
      "text/html": [
       "<table>\n",
       "<thead><tr><th scope=col>trait</th><th scope=col>N</th><th scope=col>pi.1.</th><th scope=col>pi.2.</th><th scope=col>Sigma.1.1.</th><th scope=col>Sigma.1.2.</th><th scope=col>Sigma.2.1.</th><th scope=col>Sigma.2.2.</th><th scope=col>num1</th><th scope=col>num2</th><th scope=col>⋯</th><th scope=col>rg.l</th><th scope=col>rg.u</th><th scope=col>h.f</th><th scope=col>h.m</th><th scope=col>h.x.f</th><th scope=col>h.x.m</th><th scope=col>h.xy.f</th><th scope=col>h.xy.m</th><th scope=col>h.auto.f</th><th scope=col>h.auto.m</th></tr></thead>\n",
       "<tbody>\n",
       "\t<tr><td>whr         </td><td>281790      </td><td>0.7042783   </td><td>0.2957217   </td><td>4.044485e-05</td><td>2.620484e-05</td><td>2.620484e-05</td><td>3.008413e-05</td><td>278216      </td><td>3574        </td><td>⋯           </td><td>0.7338022   </td><td>0.7680993   </td><td>0.2693287   </td><td>0.1958753   </td><td>0.2491786   </td><td>0.3314744   </td><td>0.3539003   </td><td>0.2890246   </td><td>0.2697892   </td><td>0.193606    </td></tr>\n",
       "</tbody>\n",
       "</table>\n"
      ],
      "text/latex": [
       "\\begin{tabular}{r|lllllllllllllllllllll}\n",
       " trait & N & pi.1. & pi.2. & Sigma.1.1. & Sigma.1.2. & Sigma.2.1. & Sigma.2.2. & num1 & num2 & ⋯ & rg.l & rg.u & h.f & h.m & h.x.f & h.x.m & h.xy.f & h.xy.m & h.auto.f & h.auto.m\\\\\n",
       "\\hline\n",
       "\t whr          & 281790       & 0.7042783    & 0.2957217    & 4.044485e-05 & 2.620484e-05 & 2.620484e-05 & 3.008413e-05 & 278216       & 3574         & ⋯            & 0.7338022    & 0.7680993    & 0.2693287    & 0.1958753    & 0.2491786    & 0.3314744    & 0.3539003    & 0.2890246    & 0.2697892    & 0.193606    \\\\\n",
       "\\end{tabular}\n"
      ],
      "text/markdown": [
       "\n",
       "trait | N | pi.1. | pi.2. | Sigma.1.1. | Sigma.1.2. | Sigma.2.1. | Sigma.2.2. | num1 | num2 | ⋯ | rg.l | rg.u | h.f | h.m | h.x.f | h.x.m | h.xy.f | h.xy.m | h.auto.f | h.auto.m | \n",
       "|---|\n",
       "| whr          | 281790       | 0.7042783    | 0.2957217    | 4.044485e-05 | 2.620484e-05 | 2.620484e-05 | 3.008413e-05 | 278216       | 3574         | ⋯            | 0.7338022    | 0.7680993    | 0.2693287    | 0.1958753    | 0.2491786    | 0.3314744    | 0.3539003    | 0.2890246    | 0.2697892    | 0.193606     | \n",
       "\n",
       "\n"
      ],
      "text/plain": [
       "  trait N      pi.1.     pi.2.     Sigma.1.1.   Sigma.1.2.   Sigma.2.1.  \n",
       "1 whr   281790 0.7042783 0.2957217 4.044485e-05 2.620484e-05 2.620484e-05\n",
       "  Sigma.2.2.   num1   num2 ⋯ rg.l      rg.u      h.f       h.m       h.x.f    \n",
       "1 3.008413e-05 278216 3574 ⋯ 0.7338022 0.7680993 0.2693287 0.1958753 0.2491786\n",
       "  h.x.m     h.xy.f    h.xy.m    h.auto.f  h.auto.m\n",
       "1 0.3314744 0.3539003 0.2890246 0.2697892 0.193606"
      ]
     },
     "metadata": {},
     "output_type": "display_data"
    }
   ],
   "source": [
    "whr.info <- read.table(\"../data/dat_set/summary_dat_whr_v2.txt\", header=TRUE)\n",
    "whr.info[,c(\"h.f\", \"h.m\", \"h.auto.f\", \"h.auto.m\")]\n",
    "\n",
    "# ok so there are different heritabilities if we include auto vs full\n",
    "# - for this trait they're not hugely different"
   ]
  },
  {
   "cell_type": "code",
   "execution_count": 16,
   "metadata": {
    "collapsed": true
   },
   "outputs": [],
   "source": [
    "res <- list(\"up\"=list(\"1\"=1, \"2\"=2), \"down\"=list(\"1\"=3, \"2\"=4))"
   ]
  },
  {
   "cell_type": "code",
   "execution_count": 35,
   "metadata": {},
   "outputs": [],
   "source": [
    "require('tidyr')"
   ]
  },
  {
   "cell_type": "code",
   "execution_count": 56,
   "metadata": {},
   "outputs": [],
   "source": [
    "my.df <- cbind(t(as.data.frame(res)), trait)\n",
    "\n",
    "my.df2 <- data.frame(cbind(my.df, rownames(my.df)))\n",
    "colnames(my.df2) <- c(\"value\", \"trait\", \"h.type\")\n",
    "\n",
    "my.df2 <- my.df2 %>% separate( h.type, c(\"int\", \"sex\"))\n",
    "rownames(my.df2) <- NULL"
   ]
  },
  {
   "cell_type": "code",
   "execution_count": 57,
   "metadata": {},
   "outputs": [
    {
     "data": {
      "text/html": [
       "<table>\n",
       "<thead><tr><th scope=col>value</th><th scope=col>trait</th><th scope=col>int</th><th scope=col>sex</th></tr></thead>\n",
       "<tbody>\n",
       "\t<tr><td>1   </td><td>whr </td><td>up  </td><td>1   </td></tr>\n",
       "\t<tr><td>2   </td><td>whr </td><td>up  </td><td>2   </td></tr>\n",
       "\t<tr><td>3   </td><td>whr </td><td>down</td><td>1   </td></tr>\n",
       "\t<tr><td>4   </td><td>whr </td><td>down</td><td>2   </td></tr>\n",
       "</tbody>\n",
       "</table>\n"
      ],
      "text/latex": [
       "\\begin{tabular}{r|llll}\n",
       " value & trait & int & sex\\\\\n",
       "\\hline\n",
       "\t 1    & whr  & up   & 1   \\\\\n",
       "\t 2    & whr  & up   & 2   \\\\\n",
       "\t 3    & whr  & down & 1   \\\\\n",
       "\t 4    & whr  & down & 2   \\\\\n",
       "\\end{tabular}\n"
      ],
      "text/markdown": [
       "\n",
       "value | trait | int | sex | \n",
       "|---|---|---|---|\n",
       "| 1    | whr  | up   | 1    | \n",
       "| 2    | whr  | up   | 2    | \n",
       "| 3    | whr  | down | 1    | \n",
       "| 4    | whr  | down | 2    | \n",
       "\n",
       "\n"
      ],
      "text/plain": [
       "  value trait int  sex\n",
       "1 1     whr   up   1  \n",
       "2 2     whr   up   2  \n",
       "3 3     whr   down 1  \n",
       "4 4     whr   down 2  "
      ]
     },
     "metadata": {},
     "output_type": "display_data"
    }
   ],
   "source": []
  }
 ],
 "metadata": {
  "kernelspec": {
   "display_name": "R",
   "language": "R",
   "name": "ir"
  },
  "language_info": {
   "codemirror_mode": "r",
   "file_extension": ".r",
   "mimetype": "text/x-r-source",
   "name": "R",
   "pygments_lexer": "r",
   "version": "3.4.0"
  }
 },
 "nbformat": 4,
 "nbformat_minor": 2
}
