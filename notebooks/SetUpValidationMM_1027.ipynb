{
 "cells": [
  {
   "cell_type": "code",
   "execution_count": 77,
   "metadata": {},
   "outputs": [],
   "source": [
    "require('tidyverse')\n",
    "options(stringsAsFactors=FALSE)"
   ]
  },
  {
   "cell_type": "code",
   "execution_count": 78,
   "metadata": {
    "collapsed": true
   },
   "outputs": [],
   "source": [
    "# need to sample a bunch of null variants to get this set up"
   ]
  },
  {
   "cell_type": "code",
   "execution_count": 79,
   "metadata": {},
   "outputs": [
    {
     "name": "stderr",
     "output_type": "stream",
     "text": [
      "Parsed with column specification:\n",
      "cols(\n",
      "  `#CHROM` = col_character(),\n",
      "  POS = col_integer(),\n",
      "  ID = col_character(),\n",
      "  REF = col_character(),\n",
      "  ALT = col_character(),\n",
      "  A1 = col_character(),\n",
      "  TEST = col_character(),\n",
      "  OBS_CT = col_integer(),\n",
      "  BETA = col_double(),\n",
      "  SE = col_double(),\n",
      "  T_STAT = col_double(),\n",
      "  P = col_double()\n",
      ")\n",
      "Parsed with column specification:\n",
      "cols(\n",
      "  `#CHROM` = col_character(),\n",
      "  POS = col_integer(),\n",
      "  ID = col_character(),\n",
      "  REF = col_character(),\n",
      "  ALT = col_character(),\n",
      "  A1 = col_character(),\n",
      "  TEST = col_character(),\n",
      "  OBS_CT = col_integer(),\n",
      "  BETA = col_double(),\n",
      "  SE = col_double(),\n",
      "  T_STAT = col_double(),\n",
      "  P = col_double()\n",
      ")\n"
     ]
    },
    {
     "data": {
      "text/html": [
       "528"
      ],
      "text/latex": [
       "528"
      ],
      "text/markdown": [
       "528"
      ],
      "text/plain": [
       "[1] 528"
      ]
     },
     "metadata": {},
     "output_type": "display_data"
    },
    {
     "data": {
      "text/html": [
       "13"
      ],
      "text/latex": [
       "13"
      ],
      "text/markdown": [
       "13"
      ],
      "text/plain": [
       "[1] 13"
      ]
     },
     "metadata": {},
     "output_type": "display_data"
    }
   ],
   "source": [
    "trait <- \"arm_fp\"\n",
    "m_v <- read_tsv(sprintf(\"../gwas_valid/ukb24983_v2_hg19.%s_onesex.genotyped.glm.linear\", trait) ) \n",
    "f_v <- read_tsv(sprintf(\"../gwas_valid/ukb24983_v2_hg19.%s_zerosex.genotyped.glm.linear\", trait))\n",
    "\n",
    "df_t_train <- read.table(sprintf(\"../data/1020/m2/snps4_%s.txt\", trait), sep=\" \", header=TRUE); \n",
    "m_train <- df_t_train %>% filter(category==3) %>% select( -p1, -p2, -p4, -category) %>% rename(post=p3, ID=SNP)\n",
    "m_train <- filter(m_train, post > 0.8)\n",
    "f_train <- df_t_train %>% filter(category==2) %>% select( -p1, -p3, -p4, -category)%>% rename(post=p2, ID=SNP)\n",
    "f_train <- filter(f_train, post > 0.8)\n",
    "nrow(f_train)\n",
    "nrow(m_train)\n",
    "load(sprintf(\"../data/1020/dat_%s.RData\", trait))"
   ]
  },
  {
   "cell_type": "code",
   "execution_count": 80,
   "metadata": {},
   "outputs": [
    {
     "data": {
      "text/html": [
       "<table>\n",
       "<thead><tr><th scope=col>ID</th><th scope=col>CHR</th><th scope=col>B.f</th><th scope=col>B.m</th><th scope=col>SE.f</th><th scope=col>SE.m</th><th scope=col>P.f</th><th scope=col>P.m</th><th scope=col>post</th><th scope=col>gene</th></tr></thead>\n",
       "<tbody>\n",
       "\t<tr><td>Affx-13928922</td><td>17           </td><td>-0.0167939   </td><td>-0.01042940  </td><td>1.747633e-05 </td><td>1.876458e-05 </td><td>5.89147e-05  </td><td>0.01605760   </td><td>0.8645675    </td><td>MAPT         </td></tr>\n",
       "\t<tr><td>Affx-22413417</td><td>3            </td><td> 0.0184675   </td><td> 0.01056600  </td><td>1.475244e-05 </td><td>1.549580e-05 </td><td>1.52485e-06  </td><td>0.00727276   </td><td>0.9946475    </td><td>LOC100129060 </td></tr>\n",
       "\t<tr><td>Affx-37516233</td><td>9            </td><td>-0.0421555   </td><td> 0.00973972  </td><td>1.032866e-04 </td><td>1.076655e-04 </td><td>3.35637e-05  </td><td>0.34790900   </td><td>0.9244661    </td><td>AIF1L        </td></tr>\n",
       "\t<tr><td>rs1006217    </td><td>10           </td><td> 0.0191111   </td><td>-0.00894054  </td><td>2.071624e-05 </td><td>2.161794e-05 </td><td>2.68399e-05  </td><td>0.05449430   </td><td>0.9333225    </td><td>DOCK1        </td></tr>\n",
       "\t<tr><td>rs10064229   </td><td>5            </td><td> 0.0261723   </td><td> 0.00390157  </td><td>4.203824e-05 </td><td>4.448370e-05 </td><td>5.42446e-05  </td><td>0.55856400   </td><td>0.8956191    </td><td>LMAN2        </td></tr>\n",
       "\t<tr><td>rs10077222   </td><td>5            </td><td>-0.0355189   </td><td>-0.00111383  </td><td>7.187021e-05 </td><td>7.603544e-05 </td><td>2.79436e-05  </td><td>0.89835800   </td><td>0.9398192    </td><td>NA           </td></tr>\n",
       "</tbody>\n",
       "</table>\n"
      ],
      "text/latex": [
       "\\begin{tabular}{r|llllllllll}\n",
       " ID & CHR & B.f & B.m & SE.f & SE.m & P.f & P.m & post & gene\\\\\n",
       "\\hline\n",
       "\t Affx-13928922 & 17            & -0.0167939    & -0.01042940   & 1.747633e-05  & 1.876458e-05  & 5.89147e-05   & 0.01605760    & 0.8645675     & MAPT         \\\\\n",
       "\t Affx-22413417 & 3             &  0.0184675    &  0.01056600   & 1.475244e-05  & 1.549580e-05  & 1.52485e-06   & 0.00727276    & 0.9946475     & LOC100129060 \\\\\n",
       "\t Affx-37516233 & 9             & -0.0421555    &  0.00973972   & 1.032866e-04  & 1.076655e-04  & 3.35637e-05   & 0.34790900    & 0.9244661     & AIF1L        \\\\\n",
       "\t rs1006217     & 10            &  0.0191111    & -0.00894054   & 2.071624e-05  & 2.161794e-05  & 2.68399e-05   & 0.05449430    & 0.9333225     & DOCK1        \\\\\n",
       "\t rs10064229    & 5             &  0.0261723    &  0.00390157   & 4.203824e-05  & 4.448370e-05  & 5.42446e-05   & 0.55856400    & 0.8956191     & LMAN2        \\\\\n",
       "\t rs10077222    & 5             & -0.0355189    & -0.00111383   & 7.187021e-05  & 7.603544e-05  & 2.79436e-05   & 0.89835800    & 0.9398192     & NA           \\\\\n",
       "\\end{tabular}\n"
      ],
      "text/markdown": [
       "\n",
       "ID | CHR | B.f | B.m | SE.f | SE.m | P.f | P.m | post | gene | \n",
       "|---|---|---|---|---|---|\n",
       "| Affx-13928922 | 17            | -0.0167939    | -0.01042940   | 1.747633e-05  | 1.876458e-05  | 5.89147e-05   | 0.01605760    | 0.8645675     | MAPT          | \n",
       "| Affx-22413417 | 3             |  0.0184675    |  0.01056600   | 1.475244e-05  | 1.549580e-05  | 1.52485e-06   | 0.00727276    | 0.9946475     | LOC100129060  | \n",
       "| Affx-37516233 | 9             | -0.0421555    |  0.00973972   | 1.032866e-04  | 1.076655e-04  | 3.35637e-05   | 0.34790900    | 0.9244661     | AIF1L         | \n",
       "| rs1006217     | 10            |  0.0191111    | -0.00894054   | 2.071624e-05  | 2.161794e-05  | 2.68399e-05   | 0.05449430    | 0.9333225     | DOCK1         | \n",
       "| rs10064229    | 5             |  0.0261723    |  0.00390157   | 4.203824e-05  | 4.448370e-05  | 5.42446e-05   | 0.55856400    | 0.8956191     | LMAN2         | \n",
       "| rs10077222    | 5             | -0.0355189    | -0.00111383   | 7.187021e-05  | 7.603544e-05  | 2.79436e-05   | 0.89835800    | 0.9398192     | NA            | \n",
       "\n",
       "\n"
      ],
      "text/plain": [
       "  ID            CHR B.f        B.m         SE.f         SE.m        \n",
       "1 Affx-13928922 17  -0.0167939 -0.01042940 1.747633e-05 1.876458e-05\n",
       "2 Affx-22413417 3    0.0184675  0.01056600 1.475244e-05 1.549580e-05\n",
       "3 Affx-37516233 9   -0.0421555  0.00973972 1.032866e-04 1.076655e-04\n",
       "4 rs1006217     10   0.0191111 -0.00894054 2.071624e-05 2.161794e-05\n",
       "5 rs10064229    5    0.0261723  0.00390157 4.203824e-05 4.448370e-05\n",
       "6 rs10077222    5   -0.0355189 -0.00111383 7.187021e-05 7.603544e-05\n",
       "  P.f         P.m        post      gene        \n",
       "1 5.89147e-05 0.01605760 0.8645675 MAPT        \n",
       "2 1.52485e-06 0.00727276 0.9946475 LOC100129060\n",
       "3 3.35637e-05 0.34790900 0.9244661 AIF1L       \n",
       "4 2.68399e-05 0.05449430 0.9333225 DOCK1       \n",
       "5 5.42446e-05 0.55856400 0.8956191 LMAN2       \n",
       "6 2.79436e-05 0.89835800 0.9398192 NA          "
      ]
     },
     "metadata": {},
     "output_type": "display_data"
    }
   ],
   "source": [
    "head(f_train)"
   ]
  },
  {
   "cell_type": "code",
   "execution_count": 81,
   "metadata": {
    "collapsed": true
   },
   "outputs": [],
   "source": [
    "# sample a bunch of null variants\n",
    "\n",
    "NUM.NULL <- 10000\n",
    "null_vars <- setdiff(dat$snp, df_t_train$SNP)\n"
   ]
  },
  {
   "cell_type": "code",
   "execution_count": 82,
   "metadata": {},
   "outputs": [
    {
     "data": {
      "text/html": [
       "<ol class=list-inline>\n",
       "\t<li>'rs6649864'</li>\n",
       "\t<li>'rs56328755'</li>\n",
       "\t<li>'rs28669107'</li>\n",
       "\t<li>'rs148672604'</li>\n",
       "\t<li>'rs146939120'</li>\n",
       "\t<li>'rs28510852'</li>\n",
       "</ol>\n"
      ],
      "text/latex": [
       "\\begin{enumerate*}\n",
       "\\item 'rs6649864'\n",
       "\\item 'rs56328755'\n",
       "\\item 'rs28669107'\n",
       "\\item 'rs148672604'\n",
       "\\item 'rs146939120'\n",
       "\\item 'rs28510852'\n",
       "\\end{enumerate*}\n"
      ],
      "text/markdown": [
       "1. 'rs6649864'\n",
       "2. 'rs56328755'\n",
       "3. 'rs28669107'\n",
       "4. 'rs148672604'\n",
       "5. 'rs146939120'\n",
       "6. 'rs28510852'\n",
       "\n",
       "\n"
      ],
      "text/plain": [
       "[1] \"rs6649864\"   \"rs56328755\"  \"rs28669107\"  \"rs148672604\" \"rs146939120\"\n",
       "[6] \"rs28510852\" "
      ]
     },
     "metadata": {},
     "output_type": "display_data"
    }
   ],
   "source": [
    "head(null_vars)"
   ]
  },
  {
   "cell_type": "code",
   "execution_count": 83,
   "metadata": {
    "collapsed": true
   },
   "outputs": [],
   "source": [
    "null_idx <- sample(1:length(null_vars), NUM.NULL, replace=FALSE)\n",
    "sampled_null_vars <- null_vars[null_idx]"
   ]
  },
  {
   "cell_type": "code",
   "execution_count": 84,
   "metadata": {},
   "outputs": [
    {
     "data": {
      "text/html": [
       "<ol class=list-inline>\n",
       "\t<li>'rs62363581'</li>\n",
       "\t<li>'rs9536283'</li>\n",
       "\t<li>'rs115242197'</li>\n",
       "\t<li>'rs75297243'</li>\n",
       "\t<li>'rs16920119'</li>\n",
       "\t<li>'rs7222500'</li>\n",
       "</ol>\n"
      ],
      "text/latex": [
       "\\begin{enumerate*}\n",
       "\\item 'rs62363581'\n",
       "\\item 'rs9536283'\n",
       "\\item 'rs115242197'\n",
       "\\item 'rs75297243'\n",
       "\\item 'rs16920119'\n",
       "\\item 'rs7222500'\n",
       "\\end{enumerate*}\n"
      ],
      "text/markdown": [
       "1. 'rs62363581'\n",
       "2. 'rs9536283'\n",
       "3. 'rs115242197'\n",
       "4. 'rs75297243'\n",
       "5. 'rs16920119'\n",
       "6. 'rs7222500'\n",
       "\n",
       "\n"
      ],
      "text/plain": [
       "[1] \"rs62363581\"  \"rs9536283\"   \"rs115242197\" \"rs75297243\"  \"rs16920119\" \n",
       "[6] \"rs7222500\"  "
      ]
     },
     "metadata": {},
     "output_type": "display_data"
    }
   ],
   "source": [
    "head(sampled_null_vars)"
   ]
  },
  {
   "cell_type": "code",
   "execution_count": 85,
   "metadata": {
    "collapsed": true
   },
   "outputs": [],
   "source": [
    "# get the non-null data from both disc and valid\n",
    "sel_rows <- which(dat$snp %in% sampled_null_vars)\n",
    "null_B_disc <- dat$dat$B[sel_rows,]\n",
    "null_SE_disc <- dat$dat$SE[sel_rows,]\n",
    "snp_ids <- dat$snp[sel_rows]\n",
    "pvals <- dat$p[sel_rows]"
   ]
  },
  {
   "cell_type": "code",
   "execution_count": 86,
   "metadata": {},
   "outputs": [
    {
     "name": "stderr",
     "output_type": "stream",
     "text": [
      "Warning message:\n",
      "“Setting row names on a tibble is deprecated.”Warning message:\n",
      "“Setting row names on a tibble is deprecated.”"
     ]
    }
   ],
   "source": [
    "\n",
    "rownames(m_v) <- m_v$ID\n",
    "rownames(f_v) <- f_v$ID\n",
    "null_m_v <- m_v[snp_ids,]\n",
    "null_f_v <- f_v[snp_ids,]\n",
    "\n",
    "null_B_val <- cbind(null_f_v$BETA, null_m_v$BETA)\n",
    "null_SE_val <- cbind(null_f_v$SE, null_m_v$SE)"
   ]
  },
  {
   "cell_type": "code",
   "execution_count": 87,
   "metadata": {
    "collapsed": true
   },
   "outputs": [],
   "source": [
    "setupGenCorr <- function(B, SE, run_name){\n",
    "    dat <- list(\"K\"=2, \"M\"=2, \"N\"=nrow(B), \"B\"=B, \"SE\"=SE)\n",
    "    save(dat, file=sprintf(\"../data/valid_calc/dat_%s.RData\", run_name))\n",
    "}\n"
   ]
  },
  {
   "cell_type": "code",
   "execution_count": 88,
   "metadata": {
    "collapsed": true
   },
   "outputs": [],
   "source": [
    "  m_train <- df_t_train %>% filter(category==3) %>% select( -p1, -p2, -p4, -category) %>% rename(post=p3, ID=SNP)\n",
    "    f_train <- df_t_train %>% filter(category==2) %>% select( -p1, -p3, -p4, -category)%>% rename(post=p2, ID=SNP)\n",
    "    \n",
    "    test_valid <- cbind( (f_v %>% select(`#CHROM`, BETA, SE, P) %>% rename(CHR=`#CHROM`, B.f=BETA, SE.f=SE, P.f=P)),\n",
    "        (m_v %>% select(ID, POS, REF, ALT, BETA, SE, P) %>% rename(B.m=BETA, SE.m=SE, P.m=P)))\n",
    "\n",
    "    test_valid_filt <- test_valid %>% filter(ID %in% c(f_train$ID, m_train$ID)) %>% \n",
    "    mutate(sex=ifelse(ID %in% f_train$ID, \"female\", \"male\"), dataset=\"validation\")\n",
    "\n",
    "    test_valid_filt2 <- test_valid_filt %>% select(-POS, -REF, -ALT)\n",
    "    test_disc <- rbind(f_train %>% mutate(sex=\"female\"), m_train %>% mutate(sex=\"male\")) %>% mutate(dataset=\"discovery\")\n",
    "\n",
    "\n",
    "    test_valid_filt3 <- test_valid_filt2 %>% \n",
    "    rename(B.f.v=B.f, B.m.v=B.m, SE.f.v=SE.f, SE.m.v=SE.m, P.f.v=P.f, P.m.v=P.m) %>% \n",
    "    select(-dataset) \n",
    "\n",
    "    train_valid_compare <- full_join(test_disc %>% select(-sex, -dataset), test_valid_filt3 %>% select( -CHR), by=\"ID\")\n",
    "compare_df <- train_valid_compare"
   ]
  },
  {
   "cell_type": "code",
   "execution_count": 89,
   "metadata": {},
   "outputs": [
    {
     "data": {
      "text/html": [
       "<table>\n",
       "<thead><tr><th scope=col>ID</th><th scope=col>CHR</th><th scope=col>B.f</th><th scope=col>B.m</th><th scope=col>SE.f</th><th scope=col>SE.m</th><th scope=col>P.f</th><th scope=col>P.m</th><th scope=col>post</th><th scope=col>gene</th><th scope=col>B.f.v</th><th scope=col>SE.f.v</th><th scope=col>P.f.v</th><th scope=col>B.m.v</th><th scope=col>SE.m.v</th><th scope=col>P.m.v</th><th scope=col>sex</th></tr></thead>\n",
       "<tbody>\n",
       "\t<tr><td>Affx-11234541</td><td>14           </td><td> 0.0249440   </td><td> 0.000421050 </td><td>4.766632e-05 </td><td>4.949488e-05 </td><td>3.02836e-04  </td><td>0.95227600   </td><td>0.6510781    </td><td>EVL          </td><td> 0.0183904   </td><td>0.0241863    </td><td>0.4470500    </td><td>-0.01591600  </td><td>0.0265409    </td><td>0.548734     </td><td>female       </td></tr>\n",
       "\t<tr><td>Affx-13919467</td><td>17           </td><td> 0.0201922   </td><td> 0.009009520 </td><td>2.901234e-05 </td><td>3.051756e-05 </td><td>1.77737e-04  </td><td>0.10291400   </td><td>0.7297835    </td><td>NA           </td><td> 0.0335390   </td><td>0.0194113    </td><td>0.0840438    </td><td> 0.00729871  </td><td>0.0209423    </td><td>0.727461     </td><td>female       </td></tr>\n",
       "\t<tr><td>Affx-13928922</td><td>17           </td><td>-0.0167939   </td><td>-0.010429400 </td><td>1.747633e-05 </td><td>1.876458e-05 </td><td>5.89147e-05  </td><td>0.01605760   </td><td>0.8645675    </td><td>MAPT         </td><td>-0.0281355   </td><td>0.0142421    </td><td>0.0482309    </td><td>-0.02509650  </td><td>0.0159598    </td><td>0.115872     </td><td>female       </td></tr>\n",
       "\t<tr><td>Affx-22413417</td><td>3            </td><td> 0.0184675   </td><td> 0.010566000 </td><td>1.475244e-05 </td><td>1.549580e-05 </td><td>1.52485e-06  </td><td>0.00727276   </td><td>0.9946475    </td><td>LOC100129060 </td><td> 0.0101006   </td><td>0.0140044    </td><td>0.4707730    </td><td>-0.00855645  </td><td>0.0150366    </td><td>0.569340     </td><td>female       </td></tr>\n",
       "\t<tr><td>Affx-25624255</td><td>5            </td><td>-0.0312970   </td><td>-0.007689610 </td><td>6.990231e-05 </td><td>7.289215e-05 </td><td>1.81663e-04  </td><td>0.36776800   </td><td>0.7517303    </td><td>LYRM7        </td><td>-0.0363408   </td><td>0.0294367    </td><td>0.2170230    </td><td> 0.00109717  </td><td>0.0330212    </td><td>0.973495     </td><td>female       </td></tr>\n",
       "\t<tr><td>Affx-2643209 </td><td>10           </td><td> 0.0187879   </td><td> 0.000969214 </td><td>2.559055e-05 </td><td>2.692489e-05 </td><td>2.04097e-04  </td><td>0.85182900   </td><td>0.6966080    </td><td>NA           </td><td> 0.0107016   </td><td>0.0176394    </td><td>0.5440700    </td><td> 0.00337732  </td><td>0.0195987    </td><td>0.863187     </td><td>female       </td></tr>\n",
       "</tbody>\n",
       "</table>\n"
      ],
      "text/latex": [
       "\\begin{tabular}{r|lllllllllllllllll}\n",
       " ID & CHR & B.f & B.m & SE.f & SE.m & P.f & P.m & post & gene & B.f.v & SE.f.v & P.f.v & B.m.v & SE.m.v & P.m.v & sex\\\\\n",
       "\\hline\n",
       "\t Affx-11234541 & 14            &  0.0249440    &  0.000421050  & 4.766632e-05  & 4.949488e-05  & 3.02836e-04   & 0.95227600    & 0.6510781     & EVL           &  0.0183904    & 0.0241863     & 0.4470500     & -0.01591600   & 0.0265409     & 0.548734      & female       \\\\\n",
       "\t Affx-13919467 & 17            &  0.0201922    &  0.009009520  & 2.901234e-05  & 3.051756e-05  & 1.77737e-04   & 0.10291400    & 0.7297835     & NA            &  0.0335390    & 0.0194113     & 0.0840438     &  0.00729871   & 0.0209423     & 0.727461      & female       \\\\\n",
       "\t Affx-13928922 & 17            & -0.0167939    & -0.010429400  & 1.747633e-05  & 1.876458e-05  & 5.89147e-05   & 0.01605760    & 0.8645675     & MAPT          & -0.0281355    & 0.0142421     & 0.0482309     & -0.02509650   & 0.0159598     & 0.115872      & female       \\\\\n",
       "\t Affx-22413417 & 3             &  0.0184675    &  0.010566000  & 1.475244e-05  & 1.549580e-05  & 1.52485e-06   & 0.00727276    & 0.9946475     & LOC100129060  &  0.0101006    & 0.0140044     & 0.4707730     & -0.00855645   & 0.0150366     & 0.569340      & female       \\\\\n",
       "\t Affx-25624255 & 5             & -0.0312970    & -0.007689610  & 6.990231e-05  & 7.289215e-05  & 1.81663e-04   & 0.36776800    & 0.7517303     & LYRM7         & -0.0363408    & 0.0294367     & 0.2170230     &  0.00109717   & 0.0330212     & 0.973495      & female       \\\\\n",
       "\t Affx-2643209  & 10            &  0.0187879    &  0.000969214  & 2.559055e-05  & 2.692489e-05  & 2.04097e-04   & 0.85182900    & 0.6966080     & NA            &  0.0107016    & 0.0176394     & 0.5440700     &  0.00337732   & 0.0195987     & 0.863187      & female       \\\\\n",
       "\\end{tabular}\n"
      ],
      "text/markdown": [
       "\n",
       "ID | CHR | B.f | B.m | SE.f | SE.m | P.f | P.m | post | gene | B.f.v | SE.f.v | P.f.v | B.m.v | SE.m.v | P.m.v | sex | \n",
       "|---|---|---|---|---|---|\n",
       "| Affx-11234541 | 14            |  0.0249440    |  0.000421050  | 4.766632e-05  | 4.949488e-05  | 3.02836e-04   | 0.95227600    | 0.6510781     | EVL           |  0.0183904    | 0.0241863     | 0.4470500     | -0.01591600   | 0.0265409     | 0.548734      | female        | \n",
       "| Affx-13919467 | 17            |  0.0201922    |  0.009009520  | 2.901234e-05  | 3.051756e-05  | 1.77737e-04   | 0.10291400    | 0.7297835     | NA            |  0.0335390    | 0.0194113     | 0.0840438     |  0.00729871   | 0.0209423     | 0.727461      | female        | \n",
       "| Affx-13928922 | 17            | -0.0167939    | -0.010429400  | 1.747633e-05  | 1.876458e-05  | 5.89147e-05   | 0.01605760    | 0.8645675     | MAPT          | -0.0281355    | 0.0142421     | 0.0482309     | -0.02509650   | 0.0159598     | 0.115872      | female        | \n",
       "| Affx-22413417 | 3             |  0.0184675    |  0.010566000  | 1.475244e-05  | 1.549580e-05  | 1.52485e-06   | 0.00727276    | 0.9946475     | LOC100129060  |  0.0101006    | 0.0140044     | 0.4707730     | -0.00855645   | 0.0150366     | 0.569340      | female        | \n",
       "| Affx-25624255 | 5             | -0.0312970    | -0.007689610  | 6.990231e-05  | 7.289215e-05  | 1.81663e-04   | 0.36776800    | 0.7517303     | LYRM7         | -0.0363408    | 0.0294367     | 0.2170230     |  0.00109717   | 0.0330212     | 0.973495      | female        | \n",
       "| Affx-2643209  | 10            |  0.0187879    |  0.000969214  | 2.559055e-05  | 2.692489e-05  | 2.04097e-04   | 0.85182900    | 0.6966080     | NA            |  0.0107016    | 0.0176394     | 0.5440700     |  0.00337732   | 0.0195987     | 0.863187      | female        | \n",
       "\n",
       "\n"
      ],
      "text/plain": [
       "  ID            CHR B.f        B.m          SE.f         SE.m        \n",
       "1 Affx-11234541 14   0.0249440  0.000421050 4.766632e-05 4.949488e-05\n",
       "2 Affx-13919467 17   0.0201922  0.009009520 2.901234e-05 3.051756e-05\n",
       "3 Affx-13928922 17  -0.0167939 -0.010429400 1.747633e-05 1.876458e-05\n",
       "4 Affx-22413417 3    0.0184675  0.010566000 1.475244e-05 1.549580e-05\n",
       "5 Affx-25624255 5   -0.0312970 -0.007689610 6.990231e-05 7.289215e-05\n",
       "6 Affx-2643209  10   0.0187879  0.000969214 2.559055e-05 2.692489e-05\n",
       "  P.f         P.m        post      gene         B.f.v      SE.f.v    P.f.v    \n",
       "1 3.02836e-04 0.95227600 0.6510781 EVL           0.0183904 0.0241863 0.4470500\n",
       "2 1.77737e-04 0.10291400 0.7297835 NA            0.0335390 0.0194113 0.0840438\n",
       "3 5.89147e-05 0.01605760 0.8645675 MAPT         -0.0281355 0.0142421 0.0482309\n",
       "4 1.52485e-06 0.00727276 0.9946475 LOC100129060  0.0101006 0.0140044 0.4707730\n",
       "5 1.81663e-04 0.36776800 0.7517303 LYRM7        -0.0363408 0.0294367 0.2170230\n",
       "6 2.04097e-04 0.85182900 0.6966080 NA            0.0107016 0.0176394 0.5440700\n",
       "  B.m.v       SE.m.v    P.m.v    sex   \n",
       "1 -0.01591600 0.0265409 0.548734 female\n",
       "2  0.00729871 0.0209423 0.727461 female\n",
       "3 -0.02509650 0.0159598 0.115872 female\n",
       "4 -0.00855645 0.0150366 0.569340 female\n",
       "5  0.00109717 0.0330212 0.973495 female\n",
       "6  0.00337732 0.0195987 0.863187 female"
      ]
     },
     "metadata": {},
     "output_type": "display_data"
    }
   ],
   "source": [
    "head(compare_df)"
   ]
  },
  {
   "cell_type": "code",
   "execution_count": 90,
   "metadata": {},
   "outputs": [
    {
     "data": {
      "text/html": [
       "<table>\n",
       "<tbody>\n",
       "\t<tr><td> 0.0249440</td><td> 0.0183904</td></tr>\n",
       "\t<tr><td> 0.0201922</td><td> 0.0335390</td></tr>\n",
       "\t<tr><td>-0.0167939</td><td>-0.0281355</td></tr>\n",
       "\t<tr><td> 0.0184675</td><td> 0.0101006</td></tr>\n",
       "\t<tr><td>-0.0312970</td><td>-0.0363408</td></tr>\n",
       "\t<tr><td> 0.0187879</td><td> 0.0107016</td></tr>\n",
       "</tbody>\n",
       "</table>\n"
      ],
      "text/latex": [
       "\\begin{tabular}{ll}\n",
       "\t  0.0249440 &  0.0183904\\\\\n",
       "\t  0.0201922 &  0.0335390\\\\\n",
       "\t -0.0167939 & -0.0281355\\\\\n",
       "\t  0.0184675 &  0.0101006\\\\\n",
       "\t -0.0312970 & -0.0363408\\\\\n",
       "\t  0.0187879 &  0.0107016\\\\\n",
       "\\end{tabular}\n"
      ],
      "text/markdown": [
       "\n",
       "|  0.0249440 |  0.0183904 | \n",
       "|  0.0201922 |  0.0335390 | \n",
       "| -0.0167939 | -0.0281355 | \n",
       "|  0.0184675 |  0.0101006 | \n",
       "| -0.0312970 | -0.0363408 | \n",
       "|  0.0187879 |  0.0107016 | \n",
       "\n",
       "\n"
      ],
      "text/plain": [
       "     [,1]       [,2]      \n",
       "[1,]  0.0249440  0.0183904\n",
       "[2,]  0.0201922  0.0335390\n",
       "[3,] -0.0167939 -0.0281355\n",
       "[4,]  0.0184675  0.0101006\n",
       "[5,] -0.0312970 -0.0363408\n",
       "[6,]  0.0187879  0.0107016"
      ]
     },
     "metadata": {},
     "output_type": "display_data"
    },
    {
     "data": {
      "text/html": [
       "<table>\n",
       "<tbody>\n",
       "\t<tr><td> 0.002257220</td><td>-0.029506000</td></tr>\n",
       "\t<tr><td>-0.003376700</td><td>-0.004855050</td></tr>\n",
       "\t<tr><td> 0.006383090</td><td>-0.011569800</td></tr>\n",
       "\t<tr><td>-0.005394510</td><td> 0.007944030</td></tr>\n",
       "\t<tr><td> 0.003513950</td><td> 0.000516363</td></tr>\n",
       "\t<tr><td> 0.000842712</td><td> 0.021157300</td></tr>\n",
       "</tbody>\n",
       "</table>\n"
      ],
      "text/latex": [
       "\\begin{tabular}{ll}\n",
       "\t  0.002257220 & -0.029506000\\\\\n",
       "\t -0.003376700 & -0.004855050\\\\\n",
       "\t  0.006383090 & -0.011569800\\\\\n",
       "\t -0.005394510 &  0.007944030\\\\\n",
       "\t  0.003513950 &  0.000516363\\\\\n",
       "\t  0.000842712 &  0.021157300\\\\\n",
       "\\end{tabular}\n"
      ],
      "text/markdown": [
       "\n",
       "|  0.002257220 | -0.029506000 | \n",
       "| -0.003376700 | -0.004855050 | \n",
       "|  0.006383090 | -0.011569800 | \n",
       "| -0.005394510 |  0.007944030 | \n",
       "|  0.003513950 |  0.000516363 | \n",
       "|  0.000842712 |  0.021157300 | \n",
       "\n",
       "\n"
      ],
      "text/plain": [
       "     [,1]         [,2]        \n",
       "[1,]  0.002257220 -0.029506000\n",
       "[2,] -0.003376700 -0.004855050\n",
       "[3,]  0.006383090 -0.011569800\n",
       "[4,] -0.005394510  0.007944030\n",
       "[5,]  0.003513950  0.000516363\n",
       "[6,]  0.000842712  0.021157300"
      ]
     },
     "metadata": {},
     "output_type": "display_data"
    },
    {
     "data": {
      "text/html": [
       "11168"
      ],
      "text/latex": [
       "11168"
      ],
      "text/markdown": [
       "11168"
      ],
      "text/plain": [
       "[1] 11168"
      ]
     },
     "metadata": {},
     "output_type": "display_data"
    },
    {
     "data": {
      "text/plain": [
       "\n",
       "FALSE \n",
       " 1168 "
      ]
     },
     "metadata": {},
     "output_type": "display_data"
    }
   ],
   "source": [
    "f.vars <- compare_df %>% filter(sex==\"female\")\n",
    "\n",
    "# ---- b_f, b_f_v ---- #\n",
    "      B_FF <- cbind(f.vars$B.f, f.vars$B.f.v)\n",
    "      SE_FF <- cbind(f.vars$SE.f, f.vars$SE.f.v)\n",
    "       b_null_f <-  cbind(null_B_disc[,1], null_B_val[,1])\n",
    "       se_null_f <-  cbind(null_SE_disc[,1], null_SE_val[,1])\n",
    "head(B_FF)\n",
    "head(b_null_f)\n",
    "nrow(rbind(B_FF, b_null_f))\n",
    "table(apply(B_FF, 1, function(x) any(is.na(x))))\n"
   ]
  },
  {
   "cell_type": "code",
   "execution_count": 91,
   "metadata": {},
   "outputs": [
    {
     "data": {
      "text/html": [
       "<ol class=list-inline>\n",
       "\t<li>1692</li>\n",
       "\t<li>2215</li>\n",
       "\t<li>2411</li>\n",
       "\t<li>3220</li>\n",
       "\t<li>3454</li>\n",
       "\t<li>6047</li>\n",
       "</ol>\n"
      ],
      "text/latex": [
       "\\begin{enumerate*}\n",
       "\\item 1692\n",
       "\\item 2215\n",
       "\\item 2411\n",
       "\\item 3220\n",
       "\\item 3454\n",
       "\\item 6047\n",
       "\\end{enumerate*}\n"
      ],
      "text/markdown": [
       "1. 1692\n",
       "2. 2215\n",
       "3. 2411\n",
       "4. 3220\n",
       "5. 3454\n",
       "6. 6047\n",
       "\n",
       "\n"
      ],
      "text/plain": [
       "[1] 1692 2215 2411 3220 3454 6047"
      ]
     },
     "metadata": {},
     "output_type": "display_data"
    }
   ],
   "source": [
    "\n",
    "\n",
    "na.rows <- which(apply(b_null_f, 1, function(x) any(is.na(x))))\n",
    "head(na.rows)\n",
    "    \n",
    "b_null_f <- b_null_f[-na.rows,]\n",
    "se_null_f <- se_null_f[-na.rows,]\n",
    "    \n"
   ]
  },
  {
   "cell_type": "code",
   "execution_count": 92,
   "metadata": {
    "collapsed": true
   },
   "outputs": [],
   "source": [
    "       b_null_m <-  cbind(null_B_disc[,2], null_B_val[,2])\n",
    "       se_null_m <-  cbind(null_SE_disc[,2], null_SE_val[,2])\n",
    "b_null_m <- b_null_m[-na.rows,]\n",
    "se_null_m <- se_null_m[-na.rows,]\n",
    "\n",
    "na.rows.m <- which(apply(b_null_m, 1, function(x) any(is.na(x))))\n",
    "\n",
    "    \n",
    "b_null_m <- b_null_m[-na.rows.m,]\n",
    "se_null_m <- se_null_m[-na.rows.m,]\n",
    "b_null_f <- b_null_f[-na.rows.m,]\n",
    "se_null_f <- se_null_f[-na.rows.m,]\n",
    "    \n"
   ]
  },
  {
   "cell_type": "code",
   "execution_count": 93,
   "metadata": {
    "collapsed": true
   },
   "outputs": [],
   "source": [
    "    \n",
    "######## F-SPECIFIC #########    \n",
    "f.vars <- compare_df %>% filter(sex==\"female\")\n",
    "\n",
    "# ---- b_f, b_f_v ---- #\n",
    "      B_FF <- cbind(f.vars$B.f, f.vars$B.f.v)\n",
    "      SE_FF <- cbind(f.vars$SE.f, f.vars$SE.f.v)\n",
    "\n",
    "    g1 <- setupGenCorr(rbind(B_FF, b_null_f), rbind(SE_FF, se_null_f), sprintf(\"%s_fspec_ff\", trait))\n",
    "     \n",
    "\n",
    "# ---- b_m, b_m_v ---- #\n",
    "      B_FM <- cbind(f.vars$B.m, f.vars$B.m.v)\n",
    "      SE_FM <- cbind(f.vars$SE.m, f.vars$SE.m.v) \n",
    "\n",
    " g2 <- setupGenCorr(rbind(B_FM, b_null_m), rbind(SE_FM, se_null_m), sprintf(\"%s_fspec_mm\", trait))\n",
    "\n",
    "\n",
    "######## M-SPECIFIC #########    \n",
    "m.vars <- compare_df %>% filter(sex==\"male\")\n",
    "\n",
    "# ---- b_f, b_f_v ---- #\n",
    "      B_MF <- cbind(m.vars$B.f, m.vars$B.f.v)\n",
    "      SE_MF <- cbind(m.vars$SE.f, m.vars$SE.f.v)\n",
    "    g3 <- setupGenCorr(rbind(B_MF, b_null_f), rbind(SE_MF, se_null_f), sprintf(\"%s_mspec_ff\", trait))\n",
    "\n",
    "# ---- b_m, b_m_v ---- #\n",
    "      B_MM <- cbind(m.vars$B.m, m.vars$B.m.v)\n",
    "      SE_MM <- cbind(m.vars$SE.m, m.vars$SE.m.v) \n",
    "\n",
    " g4 <- setupGenCorr(rbind(B_MM, b_null_m), rbind(SE_MM, se_null_m), sprintf(\"%s_mspec_mm\", trait))\n"
   ]
  },
  {
   "cell_type": "code",
   "execution_count": null,
   "metadata": {
    "collapsed": true
   },
   "outputs": [],
   "source": []
  },
  {
   "cell_type": "code",
   "execution_count": null,
   "metadata": {
    "collapsed": true
   },
   "outputs": [],
   "source": []
  }
 ],
 "metadata": {
  "kernelspec": {
   "display_name": "R",
   "language": "R",
   "name": "ir"
  },
  "language_info": {
   "codemirror_mode": "r",
   "file_extension": ".r",
   "mimetype": "text/x-r-source",
   "name": "R",
   "pygments_lexer": "r",
   "version": "3.4.0"
  }
 },
 "nbformat": 4,
 "nbformat_minor": 2
}
