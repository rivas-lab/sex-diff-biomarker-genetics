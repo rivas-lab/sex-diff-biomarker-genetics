{
 "cells": [
  {
   "cell_type": "markdown",
   "metadata": {},
   "source": [
    "\n",
    "\n",
    "## Code for producing the hormonal phenotyping matrix\n",
    "\n",
    "E Flynn\n",
    "5/24/2019"
   ]
  },
  {
   "cell_type": "code",
   "execution_count": 1,
   "metadata": {},
   "outputs": [
    {
     "name": "stderr",
     "output_type": "stream",
     "text": [
      "Loading required package: tidyverse\n",
      "── Attaching packages ─────────────────────────────────────── tidyverse 1.2.1 ──\n",
      "✔ ggplot2 2.2.1     ✔ purrr   0.2.4\n",
      "✔ tibble  1.4.2     ✔ dplyr   0.7.4\n",
      "✔ tidyr   0.8.1     ✔ stringr 1.3.0\n",
      "✔ readr   1.1.1     ✔ forcats 0.3.0\n",
      "── Conflicts ────────────────────────────────────────── tidyverse_conflicts() ──\n",
      "✖ dplyr::filter() masks stats::filter()\n",
      "✖ dplyr::lag()    masks stats::lag()\n",
      "Loading required package: data.table\n",
      "\n",
      "Attaching package: ‘data.table’\n",
      "\n",
      "The following objects are masked from ‘package:dplyr’:\n",
      "\n",
      "    between, first, last\n",
      "\n",
      "The following object is masked from ‘package:purrr’:\n",
      "\n",
      "    transpose\n",
      "\n"
     ]
    }
   ],
   "source": [
    "require('tidyverse')\n",
    "require('data.table')\n",
    "options(stringsAsFactors=FALSE)"
   ]
  },
  {
   "cell_type": "markdown",
   "metadata": {},
   "source": [
    "### Extract Traits"
   ]
  },
  {
   "cell_type": "code",
   "execution_count": 2,
   "metadata": {},
   "outputs": [
    {
     "data": {
      "text/html": [
       "<table>\n",
       "<thead><tr><th scope=col>trait</th><th scope=col>category</th><th scope=col>variable_name</th><th scope=col>readable_name</th><th scope=col>X</th></tr></thead>\n",
       "<tbody>\n",
       "\t<tr><td>3140                            </td><td>sex specific                    </td><td>pregnant                        </td><td>pregnant                        </td><td>NA                              </td></tr>\n",
       "\t<tr><td>2724                            </td><td>sex specific                    </td><td>menopause                       </td><td>menopause                       </td><td>NA                              </td></tr>\n",
       "\t<tr><td>3581                            </td><td>sex specific                    </td><td>menopause_age                   </td><td>age menopause                   </td><td>NA                              </td></tr>\n",
       "\t<tr><td>3591                            </td><td>sex specific                    </td><td>hysterectomy                    </td><td>hysterectomy                    </td><td>NA                              </td></tr>\n",
       "\t<tr><td>2834                            </td><td>sex specific                    </td><td>oophorectomy                    </td><td>oophorectomy                    </td><td>NA                              </td></tr>\n",
       "\t<tr><td>3700                            </td><td>sex specific                    </td><td>time_since_period               </td><td>time since last menstrual period</td><td>NA                              </td></tr>\n",
       "</tbody>\n",
       "</table>\n"
      ],
      "text/latex": [
       "\\begin{tabular}{r|lllll}\n",
       " trait & category & variable\\_name & readable\\_name & X\\\\\n",
       "\\hline\n",
       "\t 3140                             & sex specific                     & pregnant                         & pregnant                         & NA                              \\\\\n",
       "\t 2724                             & sex specific                     & menopause                        & menopause                        & NA                              \\\\\n",
       "\t 3581                             & sex specific                     & menopause\\_age                  & age menopause                    & NA                              \\\\\n",
       "\t 3591                             & sex specific                     & hysterectomy                     & hysterectomy                     & NA                              \\\\\n",
       "\t 2834                             & sex specific                     & oophorectomy                     & oophorectomy                     & NA                              \\\\\n",
       "\t 3700                             & sex specific                     & time\\_since\\_period            & time since last menstrual period & NA                              \\\\\n",
       "\\end{tabular}\n"
      ],
      "text/markdown": [
       "\n",
       "trait | category | variable_name | readable_name | X | \n",
       "|---|---|---|---|---|---|\n",
       "| 3140                             | sex specific                     | pregnant                         | pregnant                         | NA                               | \n",
       "| 2724                             | sex specific                     | menopause                        | menopause                        | NA                               | \n",
       "| 3581                             | sex specific                     | menopause_age                    | age menopause                    | NA                               | \n",
       "| 3591                             | sex specific                     | hysterectomy                     | hysterectomy                     | NA                               | \n",
       "| 2834                             | sex specific                     | oophorectomy                     | oophorectomy                     | NA                               | \n",
       "| 3700                             | sex specific                     | time_since_period                | time since last menstrual period | NA                               | \n",
       "\n",
       "\n"
      ],
      "text/plain": [
       "  trait category     variable_name     readable_name                    X \n",
       "1 3140  sex specific pregnant          pregnant                         NA\n",
       "2 2724  sex specific menopause         menopause                        NA\n",
       "3 3581  sex specific menopause_age     age menopause                    NA\n",
       "4 3591  sex specific hysterectomy      hysterectomy                     NA\n",
       "5 2834  sex specific oophorectomy      oophorectomy                     NA\n",
       "6 3700  sex specific time_since_period time since last menstrual period NA"
      ]
     },
     "metadata": {},
     "output_type": "display_data"
    },
    {
     "data": {
      "text/html": [
       "<table>\n",
       "<thead><tr><th scope=col>trait</th><th scope=col>category</th><th scope=col>variable_name</th><th scope=col>readable_name</th></tr></thead>\n",
       "<tbody>\n",
       "\t<tr><td>3140                            </td><td>sex specific                    </td><td>pregnant                        </td><td>pregnant                        </td></tr>\n",
       "\t<tr><td>2724                            </td><td>sex specific                    </td><td>menopause                       </td><td>menopause                       </td></tr>\n",
       "\t<tr><td>3581                            </td><td>sex specific                    </td><td>menopause_age                   </td><td>age menopause                   </td></tr>\n",
       "\t<tr><td>3591                            </td><td>sex specific                    </td><td>hysterectomy                    </td><td>hysterectomy                    </td></tr>\n",
       "\t<tr><td>2834                            </td><td>sex specific                    </td><td>oophorectomy                    </td><td>oophorectomy                    </td></tr>\n",
       "\t<tr><td>3700                            </td><td>sex specific                    </td><td>time_since_period               </td><td>time since last menstrual period</td></tr>\n",
       "\t<tr><td>3710                            </td><td>sex specific                    </td><td>menstrual_length                </td><td>length of menstrual cycle       </td></tr>\n",
       "\t<tr><td>3720                            </td><td>sex specific                    </td><td>menstruating                    </td><td>menstruating today              </td></tr>\n",
       "\t<tr><td>2804                            </td><td>sex specific                    </td><td>birth_control                   </td><td>age when last used the pill     </td></tr>\n",
       "\t<tr><td>3546                            </td><td>sex specific                    </td><td>HRT                             </td><td>age when last used HRT          </td></tr>\n",
       "</tbody>\n",
       "</table>\n"
      ],
      "text/latex": [
       "\\begin{tabular}{r|llll}\n",
       " trait & category & variable\\_name & readable\\_name\\\\\n",
       "\\hline\n",
       "\t 3140                             & sex specific                     & pregnant                         & pregnant                        \\\\\n",
       "\t 2724                             & sex specific                     & menopause                        & menopause                       \\\\\n",
       "\t 3581                             & sex specific                     & menopause\\_age                  & age menopause                   \\\\\n",
       "\t 3591                             & sex specific                     & hysterectomy                     & hysterectomy                    \\\\\n",
       "\t 2834                             & sex specific                     & oophorectomy                     & oophorectomy                    \\\\\n",
       "\t 3700                             & sex specific                     & time\\_since\\_period            & time since last menstrual period\\\\\n",
       "\t 3710                             & sex specific                     & menstrual\\_length               & length of menstrual cycle       \\\\\n",
       "\t 3720                             & sex specific                     & menstruating                     & menstruating today              \\\\\n",
       "\t 2804                             & sex specific                     & birth\\_control                  & age when last used the pill     \\\\\n",
       "\t 3546                             & sex specific                     & HRT                              & age when last used HRT          \\\\\n",
       "\\end{tabular}\n"
      ],
      "text/markdown": [
       "\n",
       "trait | category | variable_name | readable_name | \n",
       "|---|---|---|---|---|---|---|---|---|---|\n",
       "| 3140                             | sex specific                     | pregnant                         | pregnant                         | \n",
       "| 2724                             | sex specific                     | menopause                        | menopause                        | \n",
       "| 3581                             | sex specific                     | menopause_age                    | age menopause                    | \n",
       "| 3591                             | sex specific                     | hysterectomy                     | hysterectomy                     | \n",
       "| 2834                             | sex specific                     | oophorectomy                     | oophorectomy                     | \n",
       "| 3700                             | sex specific                     | time_since_period                | time since last menstrual period | \n",
       "| 3710                             | sex specific                     | menstrual_length                 | length of menstrual cycle        | \n",
       "| 3720                             | sex specific                     | menstruating                     | menstruating today               | \n",
       "| 2804                             | sex specific                     | birth_control                    | age when last used the pill      | \n",
       "| 3546                             | sex specific                     | HRT                              | age when last used HRT           | \n",
       "\n",
       "\n"
      ],
      "text/plain": [
       "   trait category     variable_name     readable_name                   \n",
       "1  3140  sex specific pregnant          pregnant                        \n",
       "2  2724  sex specific menopause         menopause                       \n",
       "3  3581  sex specific menopause_age     age menopause                   \n",
       "4  3591  sex specific hysterectomy      hysterectomy                    \n",
       "5  2834  sex specific oophorectomy      oophorectomy                    \n",
       "6  3700  sex specific time_since_period time since last menstrual period\n",
       "7  3710  sex specific menstrual_length  length of menstrual cycle       \n",
       "8  3720  sex specific menstruating      menstruating today              \n",
       "9  2804  sex specific birth_control     age when last used the pill     \n",
       "10 3546  sex specific HRT               age when last used HRT          "
      ]
     },
     "metadata": {},
     "output_type": "display_data"
    }
   ],
   "source": [
    "phe_codes <- read.csv(\"../phe_extraction/ListPheCodes.csv\")\n",
    "head(phe_codes)\n",
    "phe_codes$X <- NULL\n",
    "\n",
    "sex_spec <- filter(phe_codes, category == \"sex specific\")\n",
    "sex_spec\n"
   ]
  },
  {
   "cell_type": "markdown",
   "metadata": {},
   "source": [
    "#### Pregnancy data "
   ]
  },
  {
   "cell_type": "code",
   "execution_count": null,
   "metadata": {
    "collapsed": true
   },
   "outputs": [],
   "source": [
    "# FROM MASTER PHE\n",
    "# for field_id in 3140 ; do zcat tab.columns.summary.20190418.tsv.gz | egrep \"\\sf.${field_id}\"; done\n",
    "\n",
    "# head -1 /oak/stanford/groups/mrivas/ukbb24983/phenotypedata/9796/21732/download/ukb21732.tab > tmp_colnames.txt"
   ]
  },
  {
   "cell_type": "code",
   "execution_count": 7,
   "metadata": {},
   "outputs": [
    {
     "data": {
      "text/html": [
       "6474"
      ],
      "text/latex": [
       "6474"
      ],
      "text/markdown": [
       "6474"
      ],
      "text/plain": [
       "[1] 6474"
      ]
     },
     "metadata": {},
     "output_type": "display_data"
    },
    {
     "name": "stderr",
     "output_type": "stream",
     "text": [
      "Warning message in cbind(parts$left, ellip_h, parts$right, deparse.level = 0L):\n",
      "“number of rows of result is not a multiple of vector length (arg 2)”Warning message in cbind(parts$left, ellip_h, parts$right, deparse.level = 0L):\n",
      "“number of rows of result is not a multiple of vector length (arg 2)”Warning message in cbind(parts$left, ellip_h, parts$right, deparse.level = 0L):\n",
      "“number of rows of result is not a multiple of vector length (arg 2)”Warning message in cbind(parts$left, ellip_h, parts$right, deparse.level = 0L):\n",
      "“number of rows of result is not a multiple of vector length (arg 2)”"
     ]
    },
    {
     "data": {
      "text/html": [
       "<table>\n",
       "<thead><tr><th scope=col>f.eid</th><th scope=col>f.21.0.0</th><th scope=col>f.21.1.0</th><th scope=col>f.21.2.0</th><th scope=col>f.23.0.0</th><th scope=col>f.23.1.0</th><th scope=col>f.23.2.0</th><th scope=col>f.31.0.0</th><th scope=col>f.34.0.0</th><th scope=col>f.48.0.0</th><th scope=col>⋯</th><th scope=col>f.41226.0.1</th><th scope=col>f.41226.0.2</th><th scope=col>f.41227.0.0</th><th scope=col>f.41227.0.1</th><th scope=col>f.41227.0.2</th><th scope=col>f.41228.0.0</th><th scope=col>f.41228.0.1</th><th scope=col>f.41228.0.2</th><th scope=col>f.41228.0.3</th><th scope=col>f.41252.0.0</th></tr></thead>\n",
       "<tbody>\n",
       "</tbody>\n",
       "</table>\n"
      ],
      "text/latex": [
       "\\begin{tabular}{r|llllllllllllllllllllllllllllllllllllllllllllllllllllllllllllllllllllllllllllllllllllllllllllllllllllllllllllllllllllllllllllllllllllllllllllllllllllllllllllllllllllllllllllllllllllllllllllllllllllllllllllllllllllllllllllllllllllllllllllllllllllllllllllllllllllllllllllllllllllllllllllllllllllllllllllllllllllllllllllllllllllllllllllllllllllllllllllllllllllllllllllllllllllllllllllllllllllllllllllllllllllllllllllllllllllllllllllllllllllllllllllllllllllllllllllllllllllllllllllllllllllllllllllllllllllllllllllllllllllllllllllllllllllllllllllllllllllllllllllllllllllllllllllllllllllllllllllllllllllllllllllllllllllllllllllllllllllllllllllllllllllllllllllllllllllllllllllllllllllllllllllllllllllllllllllllllllllllllllllllllllllllllllllllllllllllllllllllllllllllllllllllllllllllllllllllllllllllllllllllllllllllllllllllllllllllllllllllllllllllllllllllllllllllllllllllllllllllllllllllllllllllllllllllllllllllllllllllllllllllllllllllllllllllllllllllllllllllllllllllllllllllllllllllllllllllllllllllllllllllllllllllllllllllllllllllllllllllllllllllllllllllllllllllllllllllllllllllllllllllllllllllllllllllllllllllllllllllllllllllllllllllllllllllllllllllllllllllllllllllllllllllllllllllllllllllllllllllllllllllllllllllllllllllllllllllllllllllllllllllllllllllllllllllllllllllllllllllllllllllllllllllllllllllllllllllllllllllllllllllllllllllllllllllllllllllllllllllllllllllllllllllllllllllllllllllllllllllllllllllllllllllllllllllllllllllllllllllllllllllllllllllllllllllllllllllllllllllllllllllllllllllllllllllllllllllllllllllllllllllllllllllllllllllllllllllllllllllllllllllllllllllllllllllllllllllllllllllllllllllllllllllllllllllllllllllllllllllllllllllllllllllllllllllllllllllllllllllllllllllllllllllllllllllllllllllllllllllllllllllllllllllllllllllllllllllllllllllllllllllllllllllllllllllllllllllllllllllllllllllllllllllllllllllllllllllllllllllllllllllllllllllllllllllllllllllllllllllllllllllllllllllllllllllllllllllllllllllllllllllllllllllllllllllllllllllllllllllllllllllllllllllllllllllllllllllllllllllllllllllllllllllllllllllllllllllllllllllllllllllllllllllllllllllllllllllllllllllllllllllllllllllllllllllllllllllllllllllllllllllllllllllllllllllllllllllllllllllllllllllllllllllllllllllllllllllllllllllllllllllllllllllllllllllllllllllllllllllllllllllllllllllllllllllllllllllllllllllllllllllllllllllllllllllllllllllllllllllllllllllllllllllllllllllllllllllllllllllllllllllllllllllllllllllllllllllllllllllllllllllllllllllllllllllllllllllllllllllllllllllllllllllllllllllllllllllllllllllllllllllllllllllllllllllllllllllllllllllllllllllllllllllllllllllllllllllllllllllllllllllllllllllllllllllllllllllllllllllllllllllllllllllllllllllllllllllllllllllllllllllllllllllllllllllllllllllllllllllllllllllllllllllllllllllllllllllllllllllllllllllllllllllllllllllllllllllllllllllllllllllllllllllllllllllllllllllllllllllllllllllllllllllllllllllllllllllllllllllllllllllllllllllllllllllllllllllllllllllllllllllllllllllllllllllllllllllllllllllllllllllllllllllllllllllllllllllllllllllllllllllllllllllllllllllllllllllllllllllllllllllllllllllllllllllllllllllllllllllllllllllllllllllllllllllllllllllllllllllllllllllllllllllllllllllllllllllllllllllllllllllllllllllllllllllllllllllllllllllllllllllllllllllllllllllllllllllllllllllllllllllllllllllllllllllllllllllllllllllllllllllllllllllllllllllllllllllllllllllllllllllllllllllllllllllllllllllllllllllllllllllllllllllllllllllllllllllllllllllllllllllllllllllllllllllllllllllllllllllllllllllllllllllllllllllllllllllllllllllllllllllllllllllllllllllllllllllllllllllllllllllllllllllllllllllllllllllllllllllllllllllllllllllllllllllllllllllllllllllllllllllllllllllllllllllllllllllllllllllllllllllllllllllllllllllllllllllllllllllllllllllllllllllllllllllllllllllllllllllllllllllllllllllllllllllllllllllllllllllllllllllllllllllllllllllllllllllllllllllllllllllllllllllllllllllllllllllllllllllllllllllllllllllllllllllllllllllllllllllllllllllllllllllllllllllllllllllllllllllllllllllllllllllllllllllllllllllllllllllllllllllllllllllllllllllllllllllllllllllllllllllllllllllllllllllllllllllllllllllllllllllllllllllllllllllllllllllllllllllllllllllllllllllllllllllllllllllllllllllllllllllllllllllllllllllllllllllllllllllllllllllllllllllllllllllllllllllllllllllllllllllllllllllllllllllllllllllllllllllllllllllllllllllllllllllllllllllllllllllllllllllllllllllllllllllllllllllllllllllllllllllllllllllllllllllllllllllllllllllllllllllllllllllllllllllllllllllllllllllllllllllllllllllllllllllllllllllllllllllllllllllllllllllllllllllllllllllllllllllllllllllllllllllllllllllllllllllllllllllllllllllllllllllllllllllllllllllllllllllllllllllllllllllllllllllllllllllllllllllllllllllllllllllllllllllllllllllllllllllllllllllllllllllllllllllllllllllllllllllllllllllllllllllllllllllllllllllllllllllllllllllllllllllllllllllllllllllllllllllllllllllllllllllllllllllllllllllllllllllllllllllllllllllllllllllllllllllllllllllllllllllllllllllllllllllllllllllllllllllllllllllllllllllllllllllllllllllllllllllllllllllllllllllllllllllllllllllllllllllllllllllllllllllllllllllllllllllllllllllllllllllllllllllllllllllllllllllllllllllllllllllllllllllllllllllllllllllllllllllllllllllllllllllllllllllllllllllllllllllllllllllllllllllllllllllllllllllllllllllllllllllllllllllllllllllllllllllllllllllllllllllllllllllllllllllllllllllllllllllllllllllllllllllllllllllllllllllllllllllllllllllllllllllllllllllllllllllllllllllllllllllllllllllllllllllllllllllllllllllllllllllllllllllllllllllllllllllllllllllllllllllllllllllllllllllllllllllllllllllllllllllllllllllllllllllllllllllllllllllllllllllllllllllllllllllllllllllllllllllllllllllllllllllllllllllllllllllllllllllllllllllllllllllllllllllllllllllllllllllllllllllllllllllllllllllllllllllllllllllllllllllllllllllllllllllllllllllllllllllllllllllllllllllllllllllllllllllllllllllllllllllllllllllllllllllllllllllllllllllllllllllllllllllllllllllllllllllllllllllllllllllllllllllllllllllllllllllllllllllllllllllllllllllllllllllllllllllllllllllllllllllllllllllllllllllllllllllllllllllllllllllllllllllllllllllllllllllllllllllllllllllllllllllllllllllllllllllllllllllllllllllllllllllllllllllllllllllllllllllllllllllllllllllllllllllllllllllllllllllllllllllllllllllllllllllllllllllllllllllllllllllllllllllllllllllllllllllllllllllllllllllllllllllllllllllllllllllllllllllllllllllllllllllllllllllllllllllllllllllllllllllllllllllllllllllllllllllllllllllllllllllllllllllllllllllllllllllllllllllllllllllllllllllllllllllllllllllllllllllllllllllllllllllllllllllllllllllllllllllllllllllllllllllllllllllllllllllllllllllllllllllllllllllllllllllllllllllllllllllllllllllllllllllllllllllllllllllllllllllllll}\n",
       " f.eid & f.21.0.0 & f.21.1.0 & f.21.2.0 & f.23.0.0 & f.23.1.0 & f.23.2.0 & f.31.0.0 & f.34.0.0 & f.48.0.0 & ⋯ & f.41226.0.1 & f.41226.0.2 & f.41227.0.0 & f.41227.0.1 & f.41227.0.2 & f.41228.0.0 & f.41228.0.1 & f.41228.0.2 & f.41228.0.3 & f.41252.0.0\\\\\n",
       "\\hline\n",
       "\\end{tabular}\n"
      ],
      "text/markdown": [
       "\n",
       "f.eid | f.21.0.0 | f.21.1.0 | f.21.2.0 | f.23.0.0 | f.23.1.0 | f.23.2.0 | f.31.0.0 | f.34.0.0 | f.48.0.0 | ⋯ | f.41226.0.1 | f.41226.0.2 | f.41227.0.0 | f.41227.0.1 | f.41227.0.2 | f.41228.0.0 | f.41228.0.1 | f.41228.0.2 | f.41228.0.3 | f.41252.0.0 | \n",
       "||\n",
       "\n",
       "\n"
      ],
      "text/plain": [
       "     f.eid f.21.0.0 f.21.1.0 f.21.2.0 f.23.0.0 f.23.1.0 f.23.2.0 f.31.0.0\n",
       "     f.34.0.0 f.48.0.0 ⋯ f.41226.0.1 f.41226.0.2 f.41227.0.0 f.41227.0.1\n",
       "     f.41227.0.2 f.41228.0.0 f.41228.0.1 f.41228.0.2 f.41228.0.3 f.41252.0.0"
      ]
     },
     "metadata": {},
     "output_type": "display_data"
    },
    {
     "data": {
      "text/html": [
       "<dl class=dl-horizontal>\n",
       "\t<dt>f.eid</dt>\n",
       "\t\t<dd>1</dd>\n",
       "\t<dt>f.3140.0.0</dt>\n",
       "\t\t<dd>753</dd>\n",
       "\t<dt>f.3140.1.0</dt>\n",
       "\t\t<dd>754</dd>\n",
       "\t<dt>f.3140.2.0</dt>\n",
       "\t\t<dd>755</dd>\n",
       "</dl>\n"
      ],
      "text/latex": [
       "\\begin{description*}\n",
       "\\item[f.eid] 1\n",
       "\\item[f.3140.0.0] 753\n",
       "\\item[f.3140.1.0] 754\n",
       "\\item[f.3140.2.0] 755\n",
       "\\end{description*}\n"
      ],
      "text/markdown": [
       "f.eid\n",
       ":   1f.3140.0.0\n",
       ":   753f.3140.1.0\n",
       ":   754f.3140.2.0\n",
       ":   755\n",
       "\n"
      ],
      "text/plain": [
       "     f.eid f.3140.0.0 f.3140.1.0 f.3140.2.0 \n",
       "         1        753        754        755 "
      ]
     },
     "metadata": {},
     "output_type": "display_data"
    }
   ],
   "source": [
    "preg_cols <- read.delim(\"../tmp_colnames.txt\")\n",
    "length(preg_cols)\n",
    "head(preg_cols)\n",
    "preg_cols2 <- sapply(colnames(preg_cols), function(x) strsplit(as.character(x), \".\", fixed=TRUE)[[1]][[2]]==\"3140\")\n",
    "preg_cols2[[1]] <- TRUE\n",
    "which(preg_cols2==TRUE) \n",
    "    \n",
    "# extract these"
   ]
  },
  {
   "cell_type": "code",
   "execution_count": null,
   "metadata": {
    "collapsed": true
   },
   "outputs": [],
   "source": [
    "# cut -f 1,753,754,755 /oak/stanford/groups/mrivas/ukbb24983/phenotypedata/9796/21732/download/ukb21732.tab > preg_data.txt"
   ]
  },
  {
   "cell_type": "code",
   "execution_count": 9,
   "metadata": {},
   "outputs": [
    {
     "data": {
      "text/html": [
       "<table>\n",
       "<thead><tr><th scope=col>f.eid</th><th scope=col>f.3140.0.0</th><th scope=col>f.3140.1.0</th><th scope=col>f.3140.2.0</th></tr></thead>\n",
       "<tbody>\n",
       "\t<tr><td>1918850</td><td>NA     </td><td>NA     </td><td>NA     </td></tr>\n",
       "\t<tr><td>2511282</td><td>NA     </td><td>NA     </td><td>NA     </td></tr>\n",
       "\t<tr><td>2840033</td><td> 0     </td><td>NA     </td><td>NA     </td></tr>\n",
       "\t<tr><td>2312663</td><td>NA     </td><td>NA     </td><td>NA     </td></tr>\n",
       "\t<tr><td>4023158</td><td> 0     </td><td>NA     </td><td>NA     </td></tr>\n",
       "\t<tr><td>5994491</td><td>NA     </td><td>NA     </td><td>NA     </td></tr>\n",
       "</tbody>\n",
       "</table>\n"
      ],
      "text/latex": [
       "\\begin{tabular}{r|llll}\n",
       " f.eid & f.3140.0.0 & f.3140.1.0 & f.3140.2.0\\\\\n",
       "\\hline\n",
       "\t 1918850 & NA      & NA      & NA     \\\\\n",
       "\t 2511282 & NA      & NA      & NA     \\\\\n",
       "\t 2840033 &  0      & NA      & NA     \\\\\n",
       "\t 2312663 & NA      & NA      & NA     \\\\\n",
       "\t 4023158 &  0      & NA      & NA     \\\\\n",
       "\t 5994491 & NA      & NA      & NA     \\\\\n",
       "\\end{tabular}\n"
      ],
      "text/markdown": [
       "\n",
       "f.eid | f.3140.0.0 | f.3140.1.0 | f.3140.2.0 | \n",
       "|---|---|---|---|---|---|\n",
       "| 1918850 | NA      | NA      | NA      | \n",
       "| 2511282 | NA      | NA      | NA      | \n",
       "| 2840033 |  0      | NA      | NA      | \n",
       "| 2312663 | NA      | NA      | NA      | \n",
       "| 4023158 |  0      | NA      | NA      | \n",
       "| 5994491 | NA      | NA      | NA      | \n",
       "\n",
       "\n"
      ],
      "text/plain": [
       "  f.eid   f.3140.0.0 f.3140.1.0 f.3140.2.0\n",
       "1 1918850 NA         NA         NA        \n",
       "2 2511282 NA         NA         NA        \n",
       "3 2840033  0         NA         NA        \n",
       "4 2312663 NA         NA         NA        \n",
       "5 4023158  0         NA         NA        \n",
       "6 5994491 NA         NA         NA        "
      ]
     },
     "metadata": {},
     "output_type": "display_data"
    }
   ],
   "source": [
    "preg_dat <- fread(\"../phe_extraction/preg_data.txt\")\n",
    "head(preg_dat)"
   ]
  },
  {
   "cell_type": "markdown",
   "metadata": {},
   "source": [
    "#### Sex-specific data"
   ]
  },
  {
   "cell_type": "code",
   "execution_count": 3,
   "metadata": {},
   "outputs": [
    {
     "data": {
      "text/html": [
       "<table>\n",
       "<thead><tr><th scope=col>f.eid</th><th scope=col>f.396.0.1</th><th scope=col>f.396.0.2</th><th scope=col>f.396.0.3</th><th scope=col>f.396.1.1</th></tr></thead>\n",
       "<tbody>\n",
       "\t<tr><td>2829867</td><td>3      </td><td>4      </td><td>NA     </td><td>NA     </td></tr>\n",
       "\t<tr><td>2809727</td><td>3      </td><td>4      </td><td>NA     </td><td>NA     </td></tr>\n",
       "\t<tr><td>3025032</td><td>3      </td><td>4      </td><td>NA     </td><td>NA     </td></tr>\n",
       "\t<tr><td>4662128</td><td>3      </td><td>4      </td><td>NA     </td><td>NA     </td></tr>\n",
       "\t<tr><td>4621391</td><td>3      </td><td>4      </td><td>NA     </td><td>NA     </td></tr>\n",
       "\t<tr><td>4563020</td><td>3      </td><td>4      </td><td>NA     </td><td>NA     </td></tr>\n",
       "</tbody>\n",
       "</table>\n"
      ],
      "text/latex": [
       "\\begin{tabular}{r|lllll}\n",
       " f.eid & f.396.0.1 & f.396.0.2 & f.396.0.3 & f.396.1.1\\\\\n",
       "\\hline\n",
       "\t 2829867 & 3       & 4       & NA      & NA     \\\\\n",
       "\t 2809727 & 3       & 4       & NA      & NA     \\\\\n",
       "\t 3025032 & 3       & 4       & NA      & NA     \\\\\n",
       "\t 4662128 & 3       & 4       & NA      & NA     \\\\\n",
       "\t 4621391 & 3       & 4       & NA      & NA     \\\\\n",
       "\t 4563020 & 3       & 4       & NA      & NA     \\\\\n",
       "\\end{tabular}\n"
      ],
      "text/markdown": [
       "\n",
       "f.eid | f.396.0.1 | f.396.0.2 | f.396.0.3 | f.396.1.1 | \n",
       "|---|---|---|---|---|---|\n",
       "| 2829867 | 3       | 4       | NA      | NA      | \n",
       "| 2809727 | 3       | 4       | NA      | NA      | \n",
       "| 3025032 | 3       | 4       | NA      | NA      | \n",
       "| 4662128 | 3       | 4       | NA      | NA      | \n",
       "| 4621391 | 3       | 4       | NA      | NA      | \n",
       "| 4563020 | 3       | 4       | NA      | NA      | \n",
       "\n",
       "\n"
      ],
      "text/plain": [
       "  f.eid   f.396.0.1 f.396.0.2 f.396.0.3 f.396.1.1\n",
       "1 2829867 3         4         NA        NA       \n",
       "2 2809727 3         4         NA        NA       \n",
       "3 3025032 3         4         NA        NA       \n",
       "4 4662128 3         4         NA        NA       \n",
       "5 4621391 3         4         NA        NA       \n",
       "6 4563020 3         4         NA        NA       "
      ]
     },
     "metadata": {},
     "output_type": "display_data"
    }
   ],
   "source": [
    "tab_file <- fread('/oak/stanford/groups/mrivas/ukbb24983/phenotypedata/2000269/21730/download/ukb21730.tab', data.table=FALSE)\n",
    "# NOTE - this is SLOW\n",
    "head(tab_file[,1:5])\n",
    "\n",
    "\n"
   ]
  },
  {
   "cell_type": "code",
   "execution_count": 11,
   "metadata": {},
   "outputs": [
    {
     "data": {
      "text/html": [
       "<ol class=list-inline>\n",
       "\t<li>502616</li>\n",
       "\t<li>1126</li>\n",
       "</ol>\n"
      ],
      "text/latex": [
       "\\begin{enumerate*}\n",
       "\\item 502616\n",
       "\\item 1126\n",
       "\\end{enumerate*}\n"
      ],
      "text/markdown": [
       "1. 502616\n",
       "2. 1126\n",
       "\n",
       "\n"
      ],
      "text/plain": [
       "[1] 502616   1126"
      ]
     },
     "metadata": {},
     "output_type": "display_data"
    }
   ],
   "source": [
    "dim(tab_file)\n",
    "list_cols <- colnames(tab_file)"
   ]
  },
  {
   "cell_type": "code",
   "execution_count": 12,
   "metadata": {
    "collapsed": true
   },
   "outputs": [],
   "source": [
    "list_traits <- sex_spec$trait"
   ]
  },
  {
   "cell_type": "code",
   "execution_count": 13,
   "metadata": {},
   "outputs": [
    {
     "data": {
      "text/plain": [
       "cols_keep\n",
       "FALSE  TRUE \n",
       " 1099    27 "
      ]
     },
     "metadata": {},
     "output_type": "display_data"
    }
   ],
   "source": [
    "cols_keep <- sapply(list_cols, function(x) strsplit(x, \".\", fixed=TRUE)[[1]][[2]] %in% list_traits)\n",
    "table(cols_keep)"
   ]
  },
  {
   "cell_type": "code",
   "execution_count": 14,
   "metadata": {},
   "outputs": [
    {
     "name": "stdout",
     "output_type": "stream",
     "text": [
      "\n",
      "2724 2804 2834 3546 3581 3591 3700 3710 3720  eid \n",
      "   3    3    3    3    3    3    3    3    3    1 \n"
     ]
    },
    {
     "data": {
      "text/html": [
       "'3140'"
      ],
      "text/latex": [
       "'3140'"
      ],
      "text/markdown": [
       "'3140'"
      ],
      "text/plain": [
       "[1] \"3140\""
      ]
     },
     "metadata": {},
     "output_type": "display_data"
    }
   ],
   "source": [
    "cols_keep[1] <- TRUE\n",
    "dat <- tab_file[,cols_keep]\n",
    "trait_counts <- table(sapply(colnames(dat), function(x) strsplit(x, \".\", fixed=TRUE)[[1]][[2]] )) # three visits for each of nine traits\n",
    "print(trait_counts)\n",
    "setdiff(list_traits, names(trait_counts))"
   ]
  },
  {
   "cell_type": "code",
   "execution_count": 15,
   "metadata": {},
   "outputs": [
    {
     "data": {
      "text/html": [
       "<table>\n",
       "<thead><tr><th scope=col>f.eid</th><th scope=col>f.2724.0.0</th><th scope=col>f.2724.1.0</th><th scope=col>f.2724.2.0</th><th scope=col>f.2804.0.0</th><th scope=col>f.2804.1.0</th><th scope=col>f.2804.2.0</th><th scope=col>f.2834.0.0</th><th scope=col>f.2834.1.0</th><th scope=col>f.2834.2.0</th><th scope=col>⋯</th><th scope=col>f.3591.2.0</th><th scope=col>f.3700.0.0</th><th scope=col>f.3700.1.0</th><th scope=col>f.3700.2.0</th><th scope=col>f.3710.0.0</th><th scope=col>f.3710.1.0</th><th scope=col>f.3710.2.0</th><th scope=col>f.3720.0.0</th><th scope=col>f.3720.1.0</th><th scope=col>f.3720.2.0</th></tr></thead>\n",
       "<tbody>\n",
       "\t<tr><td>2829867</td><td>NA     </td><td>NA     </td><td>NA     </td><td>NA     </td><td>NA     </td><td>NA     </td><td>NA     </td><td>NA     </td><td>NA     </td><td>⋯      </td><td>NA     </td><td>NA     </td><td>NA     </td><td>NA     </td><td>NA     </td><td>NA     </td><td>NA     </td><td>NA     </td><td>NA     </td><td>NA     </td></tr>\n",
       "\t<tr><td>2809727</td><td> 0     </td><td>NA     </td><td>NA     </td><td>30     </td><td>NA     </td><td>NA     </td><td> 0     </td><td>NA     </td><td>NA     </td><td>⋯      </td><td>NA     </td><td>-1     </td><td>NA     </td><td>NA     </td><td>-1     </td><td>NA     </td><td>NA     </td><td> 0     </td><td>NA     </td><td>NA     </td></tr>\n",
       "\t<tr><td>3025032</td><td> 1     </td><td>NA     </td><td>NA     </td><td>19     </td><td>NA     </td><td>NA     </td><td> 0     </td><td>NA     </td><td>NA     </td><td>⋯      </td><td>NA     </td><td>NA     </td><td>NA     </td><td>NA     </td><td>NA     </td><td>NA     </td><td>NA     </td><td>NA     </td><td>NA     </td><td>NA     </td></tr>\n",
       "\t<tr><td>4662128</td><td>NA     </td><td>NA     </td><td>NA     </td><td>NA     </td><td>NA     </td><td>NA     </td><td>NA     </td><td>NA     </td><td>NA     </td><td>⋯      </td><td>NA     </td><td>NA     </td><td>NA     </td><td>NA     </td><td>NA     </td><td>NA     </td><td>NA     </td><td>NA     </td><td>NA     </td><td>NA     </td></tr>\n",
       "\t<tr><td>4621391</td><td> 1     </td><td>NA     </td><td>NA     </td><td>NA     </td><td>NA     </td><td>NA     </td><td> 0     </td><td>NA     </td><td>NA     </td><td>⋯      </td><td>NA     </td><td>NA     </td><td>NA     </td><td>NA     </td><td>NA     </td><td>NA     </td><td>NA     </td><td>NA     </td><td>NA     </td><td>NA     </td></tr>\n",
       "\t<tr><td>4563020</td><td>NA     </td><td>NA     </td><td>NA     </td><td>NA     </td><td>NA     </td><td>NA     </td><td>NA     </td><td>NA     </td><td>NA     </td><td>⋯      </td><td>NA     </td><td>NA     </td><td>NA     </td><td>NA     </td><td>NA     </td><td>NA     </td><td>NA     </td><td>NA     </td><td>NA     </td><td>NA     </td></tr>\n",
       "</tbody>\n",
       "</table>\n"
      ],
      "text/latex": [
       "\\begin{tabular}{r|llllllllllllllllllllllllllll}\n",
       " f.eid & f.2724.0.0 & f.2724.1.0 & f.2724.2.0 & f.2804.0.0 & f.2804.1.0 & f.2804.2.0 & f.2834.0.0 & f.2834.1.0 & f.2834.2.0 & ⋯ & f.3591.2.0 & f.3700.0.0 & f.3700.1.0 & f.3700.2.0 & f.3710.0.0 & f.3710.1.0 & f.3710.2.0 & f.3720.0.0 & f.3720.1.0 & f.3720.2.0\\\\\n",
       "\\hline\n",
       "\t 2829867 & NA      & NA      & NA      & NA      & NA      & NA      & NA      & NA      & NA      & ⋯       & NA      & NA      & NA      & NA      & NA      & NA      & NA      & NA      & NA      & NA     \\\\\n",
       "\t 2809727 &  0      & NA      & NA      & 30      & NA      & NA      &  0      & NA      & NA      & ⋯       & NA      & -1      & NA      & NA      & -1      & NA      & NA      &  0      & NA      & NA     \\\\\n",
       "\t 3025032 &  1      & NA      & NA      & 19      & NA      & NA      &  0      & NA      & NA      & ⋯       & NA      & NA      & NA      & NA      & NA      & NA      & NA      & NA      & NA      & NA     \\\\\n",
       "\t 4662128 & NA      & NA      & NA      & NA      & NA      & NA      & NA      & NA      & NA      & ⋯       & NA      & NA      & NA      & NA      & NA      & NA      & NA      & NA      & NA      & NA     \\\\\n",
       "\t 4621391 &  1      & NA      & NA      & NA      & NA      & NA      &  0      & NA      & NA      & ⋯       & NA      & NA      & NA      & NA      & NA      & NA      & NA      & NA      & NA      & NA     \\\\\n",
       "\t 4563020 & NA      & NA      & NA      & NA      & NA      & NA      & NA      & NA      & NA      & ⋯       & NA      & NA      & NA      & NA      & NA      & NA      & NA      & NA      & NA      & NA     \\\\\n",
       "\\end{tabular}\n"
      ],
      "text/markdown": [
       "\n",
       "f.eid | f.2724.0.0 | f.2724.1.0 | f.2724.2.0 | f.2804.0.0 | f.2804.1.0 | f.2804.2.0 | f.2834.0.0 | f.2834.1.0 | f.2834.2.0 | ⋯ | f.3591.2.0 | f.3700.0.0 | f.3700.1.0 | f.3700.2.0 | f.3710.0.0 | f.3710.1.0 | f.3710.2.0 | f.3720.0.0 | f.3720.1.0 | f.3720.2.0 | \n",
       "|---|---|---|---|---|---|\n",
       "| 2829867 | NA      | NA      | NA      | NA      | NA      | NA      | NA      | NA      | NA      | ⋯       | NA      | NA      | NA      | NA      | NA      | NA      | NA      | NA      | NA      | NA      | \n",
       "| 2809727 |  0      | NA      | NA      | 30      | NA      | NA      |  0      | NA      | NA      | ⋯       | NA      | -1      | NA      | NA      | -1      | NA      | NA      |  0      | NA      | NA      | \n",
       "| 3025032 |  1      | NA      | NA      | 19      | NA      | NA      |  0      | NA      | NA      | ⋯       | NA      | NA      | NA      | NA      | NA      | NA      | NA      | NA      | NA      | NA      | \n",
       "| 4662128 | NA      | NA      | NA      | NA      | NA      | NA      | NA      | NA      | NA      | ⋯       | NA      | NA      | NA      | NA      | NA      | NA      | NA      | NA      | NA      | NA      | \n",
       "| 4621391 |  1      | NA      | NA      | NA      | NA      | NA      |  0      | NA      | NA      | ⋯       | NA      | NA      | NA      | NA      | NA      | NA      | NA      | NA      | NA      | NA      | \n",
       "| 4563020 | NA      | NA      | NA      | NA      | NA      | NA      | NA      | NA      | NA      | ⋯       | NA      | NA      | NA      | NA      | NA      | NA      | NA      | NA      | NA      | NA      | \n",
       "\n",
       "\n"
      ],
      "text/plain": [
       "  f.eid   f.2724.0.0 f.2724.1.0 f.2724.2.0 f.2804.0.0 f.2804.1.0 f.2804.2.0\n",
       "1 2829867 NA         NA         NA         NA         NA         NA        \n",
       "2 2809727  0         NA         NA         30         NA         NA        \n",
       "3 3025032  1         NA         NA         19         NA         NA        \n",
       "4 4662128 NA         NA         NA         NA         NA         NA        \n",
       "5 4621391  1         NA         NA         NA         NA         NA        \n",
       "6 4563020 NA         NA         NA         NA         NA         NA        \n",
       "  f.2834.0.0 f.2834.1.0 f.2834.2.0 ⋯ f.3591.2.0 f.3700.0.0 f.3700.1.0\n",
       "1 NA         NA         NA         ⋯ NA         NA         NA        \n",
       "2  0         NA         NA         ⋯ NA         -1         NA        \n",
       "3  0         NA         NA         ⋯ NA         NA         NA        \n",
       "4 NA         NA         NA         ⋯ NA         NA         NA        \n",
       "5  0         NA         NA         ⋯ NA         NA         NA        \n",
       "6 NA         NA         NA         ⋯ NA         NA         NA        \n",
       "  f.3700.2.0 f.3710.0.0 f.3710.1.0 f.3710.2.0 f.3720.0.0 f.3720.1.0 f.3720.2.0\n",
       "1 NA         NA         NA         NA         NA         NA         NA        \n",
       "2 NA         -1         NA         NA          0         NA         NA        \n",
       "3 NA         NA         NA         NA         NA         NA         NA        \n",
       "4 NA         NA         NA         NA         NA         NA         NA        \n",
       "5 NA         NA         NA         NA         NA         NA         NA        \n",
       "6 NA         NA         NA         NA         NA         NA         NA        "
      ]
     },
     "metadata": {},
     "output_type": "display_data"
    }
   ],
   "source": [
    "head(dat)\n",
    "rm(tab_file)\n",
    "\n"
   ]
  },
  {
   "cell_type": "code",
   "execution_count": 16,
   "metadata": {},
   "outputs": [
    {
     "name": "stderr",
     "output_type": "stream",
     "text": [
      "Joining, by = \"f.eid\"\n"
     ]
    }
   ],
   "source": [
    "# add the pregnancy data\n",
    "dat2 <- full_join(preg_dat, dat)"
   ]
  },
  {
   "cell_type": "code",
   "execution_count": 19,
   "metadata": {},
   "outputs": [
    {
     "data": {
      "text/html": [
       "<dl class=dl-horizontal>\n",
       "\t<dt>f.eid</dt>\n",
       "\t\t<dd>502616</dd>\n",
       "\t<dt>f.3140.0.0</dt>\n",
       "\t\t<dd>272618</dd>\n",
       "\t<dt>f.3140.1.0</dt>\n",
       "\t\t<dd>10401</dd>\n",
       "\t<dt>f.3140.2.0</dt>\n",
       "\t\t<dd>11318</dd>\n",
       "\t<dt>f.2724.0.0</dt>\n",
       "\t\t<dd>272984</dd>\n",
       "\t<dt>f.2724.1.0</dt>\n",
       "\t\t<dd>10403</dd>\n",
       "\t<dt>f.2724.2.0</dt>\n",
       "\t\t<dd>11487</dd>\n",
       "\t<dt>f.2804.0.0</dt>\n",
       "\t\t<dd>220157</dd>\n",
       "\t<dt>f.2804.1.0</dt>\n",
       "\t\t<dd>8443</dd>\n",
       "\t<dt>f.2804.2.0</dt>\n",
       "\t\t<dd>9751</dd>\n",
       "\t<dt>f.2834.0.0</dt>\n",
       "\t\t<dd>272981</dd>\n",
       "\t<dt>f.2834.1.0</dt>\n",
       "\t\t<dd>10403</dd>\n",
       "\t<dt>f.2834.2.0</dt>\n",
       "\t\t<dd>11487</dd>\n",
       "\t<dt>f.3546.0.0</dt>\n",
       "\t\t<dd>103949</dd>\n",
       "\t<dt>f.3546.1.0</dt>\n",
       "\t\t<dd>4154</dd>\n",
       "\t<dt>f.3546.2.0</dt>\n",
       "\t\t<dd>4305</dd>\n",
       "\t<dt>f.3581.0.0</dt>\n",
       "\t\t<dd>165391</dd>\n",
       "\t<dt>f.3581.1.0</dt>\n",
       "\t\t<dd>7716</dd>\n",
       "\t<dt>f.3581.2.0</dt>\n",
       "\t\t<dd>8911</dd>\n",
       "\t<dt>f.3591.0.0</dt>\n",
       "\t\t<dd>241800</dd>\n",
       "\t<dt>f.3591.1.0</dt>\n",
       "\t\t<dd>9176</dd>\n",
       "\t<dt>f.3591.2.0</dt>\n",
       "\t\t<dd>10258</dd>\n",
       "\t<dt>f.3700.0.0</dt>\n",
       "\t\t<dd>64090</dd>\n",
       "\t<dt>f.3700.1.0</dt>\n",
       "\t\t<dd>1047</dd>\n",
       "\t<dt>f.3700.2.0</dt>\n",
       "\t\t<dd>836</dd>\n",
       "\t<dt>f.3710.0.0</dt>\n",
       "\t\t<dd>64090</dd>\n",
       "\t<dt>f.3710.1.0</dt>\n",
       "\t\t<dd>1047</dd>\n",
       "\t<dt>f.3710.2.0</dt>\n",
       "\t\t<dd>836</dd>\n",
       "\t<dt>f.3720.0.0</dt>\n",
       "\t\t<dd>76363</dd>\n",
       "\t<dt>f.3720.1.0</dt>\n",
       "\t\t<dd>1458</dd>\n",
       "\t<dt>f.3720.2.0</dt>\n",
       "\t\t<dd>1347</dd>\n",
       "</dl>\n"
      ],
      "text/latex": [
       "\\begin{description*}\n",
       "\\item[f.eid] 502616\n",
       "\\item[f.3140.0.0] 272618\n",
       "\\item[f.3140.1.0] 10401\n",
       "\\item[f.3140.2.0] 11318\n",
       "\\item[f.2724.0.0] 272984\n",
       "\\item[f.2724.1.0] 10403\n",
       "\\item[f.2724.2.0] 11487\n",
       "\\item[f.2804.0.0] 220157\n",
       "\\item[f.2804.1.0] 8443\n",
       "\\item[f.2804.2.0] 9751\n",
       "\\item[f.2834.0.0] 272981\n",
       "\\item[f.2834.1.0] 10403\n",
       "\\item[f.2834.2.0] 11487\n",
       "\\item[f.3546.0.0] 103949\n",
       "\\item[f.3546.1.0] 4154\n",
       "\\item[f.3546.2.0] 4305\n",
       "\\item[f.3581.0.0] 165391\n",
       "\\item[f.3581.1.0] 7716\n",
       "\\item[f.3581.2.0] 8911\n",
       "\\item[f.3591.0.0] 241800\n",
       "\\item[f.3591.1.0] 9176\n",
       "\\item[f.3591.2.0] 10258\n",
       "\\item[f.3700.0.0] 64090\n",
       "\\item[f.3700.1.0] 1047\n",
       "\\item[f.3700.2.0] 836\n",
       "\\item[f.3710.0.0] 64090\n",
       "\\item[f.3710.1.0] 1047\n",
       "\\item[f.3710.2.0] 836\n",
       "\\item[f.3720.0.0] 76363\n",
       "\\item[f.3720.1.0] 1458\n",
       "\\item[f.3720.2.0] 1347\n",
       "\\end{description*}\n"
      ],
      "text/markdown": [
       "f.eid\n",
       ":   502616f.3140.0.0\n",
       ":   272618f.3140.1.0\n",
       ":   10401f.3140.2.0\n",
       ":   11318f.2724.0.0\n",
       ":   272984f.2724.1.0\n",
       ":   10403f.2724.2.0\n",
       ":   11487f.2804.0.0\n",
       ":   220157f.2804.1.0\n",
       ":   8443f.2804.2.0\n",
       ":   9751f.2834.0.0\n",
       ":   272981f.2834.1.0\n",
       ":   10403f.2834.2.0\n",
       ":   11487f.3546.0.0\n",
       ":   103949f.3546.1.0\n",
       ":   4154f.3546.2.0\n",
       ":   4305f.3581.0.0\n",
       ":   165391f.3581.1.0\n",
       ":   7716f.3581.2.0\n",
       ":   8911f.3591.0.0\n",
       ":   241800f.3591.1.0\n",
       ":   9176f.3591.2.0\n",
       ":   10258f.3700.0.0\n",
       ":   64090f.3700.1.0\n",
       ":   1047f.3700.2.0\n",
       ":   836f.3710.0.0\n",
       ":   64090f.3710.1.0\n",
       ":   1047f.3710.2.0\n",
       ":   836f.3720.0.0\n",
       ":   76363f.3720.1.0\n",
       ":   1458f.3720.2.0\n",
       ":   1347\n",
       "\n"
      ],
      "text/plain": [
       "     f.eid f.3140.0.0 f.3140.1.0 f.3140.2.0 f.2724.0.0 f.2724.1.0 f.2724.2.0 \n",
       "    502616     272618      10401      11318     272984      10403      11487 \n",
       "f.2804.0.0 f.2804.1.0 f.2804.2.0 f.2834.0.0 f.2834.1.0 f.2834.2.0 f.3546.0.0 \n",
       "    220157       8443       9751     272981      10403      11487     103949 \n",
       "f.3546.1.0 f.3546.2.0 f.3581.0.0 f.3581.1.0 f.3581.2.0 f.3591.0.0 f.3591.1.0 \n",
       "      4154       4305     165391       7716       8911     241800       9176 \n",
       "f.3591.2.0 f.3700.0.0 f.3700.1.0 f.3700.2.0 f.3710.0.0 f.3710.1.0 f.3710.2.0 \n",
       "     10258      64090       1047        836      64090       1047        836 \n",
       "f.3720.0.0 f.3720.1.0 f.3720.2.0 \n",
       "     76363       1458       1347 "
      ]
     },
     "metadata": {},
     "output_type": "display_data"
    }
   ],
   "source": [
    "# count number of NAs per col\n",
    "numNonNa <- apply(dat2, 2, function(x) sum(!is.na(x)))\n",
    "numNonNa # some of these are v small!! to be aware of"
   ]
  },
  {
   "cell_type": "code",
   "execution_count": 20,
   "metadata": {
    "collapsed": true
   },
   "outputs": [],
   "source": [
    "# load other covariate data - age, sex\n",
    "COVARIATE_MATRIX <- '/oak/stanford/groups/mrivas/ukbb24983/sqc/ukb24983_GWAS_covar.phe'\n",
    "cov_mat <- read.table(COVARIATE_MATRIX, header=TRUE, stringsAsFactors=FALSE)\n",
    "covar_data <- cov_mat[,c(\"IID\",\"age\", \"sex\")]\n",
    "\n",
    "\n"
   ]
  },
  {
   "cell_type": "code",
   "execution_count": 22,
   "metadata": {},
   "outputs": [
    {
     "data": {
      "text/html": [
       "<table>\n",
       "<thead><tr><th scope=col>IID</th><th scope=col>age</th><th scope=col>sex</th><th scope=col>f.3140.0.0</th><th scope=col>f.3140.1.0</th><th scope=col>f.3140.2.0</th><th scope=col>f.2724.0.0</th><th scope=col>f.2724.1.0</th><th scope=col>f.2724.2.0</th><th scope=col>f.2804.0.0</th><th scope=col>⋯</th><th scope=col>f.3591.2.0</th><th scope=col>f.3700.0.0</th><th scope=col>f.3700.1.0</th><th scope=col>f.3700.2.0</th><th scope=col>f.3710.0.0</th><th scope=col>f.3710.1.0</th><th scope=col>f.3710.2.0</th><th scope=col>f.3720.0.0</th><th scope=col>f.3720.1.0</th><th scope=col>f.3720.2.0</th></tr></thead>\n",
       "<tbody>\n",
       "\t<tr><td>2502845</td><td>50     </td><td>1      </td><td>NA     </td><td>NA     </td><td>NA     </td><td>NA     </td><td>NA     </td><td>NA     </td><td>NA     </td><td>⋯      </td><td>NA     </td><td>NA     </td><td>NA     </td><td>NA     </td><td>NA     </td><td>NA     </td><td>NA     </td><td>NA     </td><td>NA     </td><td>NA     </td></tr>\n",
       "\t<tr><td>2314965</td><td>55     </td><td>0      </td><td> 0     </td><td>NA     </td><td>NA     </td><td> 3     </td><td>NA     </td><td>NA     </td><td>27     </td><td>⋯      </td><td>NA     </td><td>NA     </td><td>NA     </td><td>NA     </td><td>NA     </td><td>NA     </td><td>NA     </td><td> 0     </td><td>NA     </td><td>NA     </td></tr>\n",
       "\t<tr><td>1142584</td><td>60     </td><td>0      </td><td> 0     </td><td>NA     </td><td>NA     </td><td> 1     </td><td>NA     </td><td>NA     </td><td>35     </td><td>⋯      </td><td>NA     </td><td>NA     </td><td>NA     </td><td>NA     </td><td>NA     </td><td>NA     </td><td>NA     </td><td>NA     </td><td>NA     </td><td>NA     </td></tr>\n",
       "\t<tr><td>3665122</td><td>74     </td><td>0      </td><td> 0     </td><td>NA     </td><td>NA     </td><td> 1     </td><td>NA     </td><td>NA     </td><td>NA     </td><td>⋯      </td><td>NA     </td><td>NA     </td><td>NA     </td><td>NA     </td><td>NA     </td><td>NA     </td><td>NA     </td><td>NA     </td><td>NA     </td><td>NA     </td></tr>\n",
       "\t<tr><td>4377492</td><td>65     </td><td>0      </td><td> 0     </td><td>NA     </td><td>NA     </td><td> 1     </td><td>NA     </td><td>NA     </td><td>52     </td><td>⋯      </td><td>NA     </td><td>NA     </td><td>NA     </td><td>NA     </td><td>NA     </td><td>NA     </td><td>NA     </td><td>NA     </td><td>NA     </td><td>NA     </td></tr>\n",
       "\t<tr><td>2652670</td><td>58     </td><td>1      </td><td>NA     </td><td>NA     </td><td>NA     </td><td>NA     </td><td>NA     </td><td>NA     </td><td>NA     </td><td>⋯      </td><td>NA     </td><td>NA     </td><td>NA     </td><td>NA     </td><td>NA     </td><td>NA     </td><td>NA     </td><td>NA     </td><td>NA     </td><td>NA     </td></tr>\n",
       "</tbody>\n",
       "</table>\n"
      ],
      "text/latex": [
       "\\begin{tabular}{r|lllllllllllllllllllllllllllllllll}\n",
       " IID & age & sex & f.3140.0.0 & f.3140.1.0 & f.3140.2.0 & f.2724.0.0 & f.2724.1.0 & f.2724.2.0 & f.2804.0.0 & ⋯ & f.3591.2.0 & f.3700.0.0 & f.3700.1.0 & f.3700.2.0 & f.3710.0.0 & f.3710.1.0 & f.3710.2.0 & f.3720.0.0 & f.3720.1.0 & f.3720.2.0\\\\\n",
       "\\hline\n",
       "\t 2502845 & 50      & 1       & NA      & NA      & NA      & NA      & NA      & NA      & NA      & ⋯       & NA      & NA      & NA      & NA      & NA      & NA      & NA      & NA      & NA      & NA     \\\\\n",
       "\t 2314965 & 55      & 0       &  0      & NA      & NA      &  3      & NA      & NA      & 27      & ⋯       & NA      & NA      & NA      & NA      & NA      & NA      & NA      &  0      & NA      & NA     \\\\\n",
       "\t 1142584 & 60      & 0       &  0      & NA      & NA      &  1      & NA      & NA      & 35      & ⋯       & NA      & NA      & NA      & NA      & NA      & NA      & NA      & NA      & NA      & NA     \\\\\n",
       "\t 3665122 & 74      & 0       &  0      & NA      & NA      &  1      & NA      & NA      & NA      & ⋯       & NA      & NA      & NA      & NA      & NA      & NA      & NA      & NA      & NA      & NA     \\\\\n",
       "\t 4377492 & 65      & 0       &  0      & NA      & NA      &  1      & NA      & NA      & 52      & ⋯       & NA      & NA      & NA      & NA      & NA      & NA      & NA      & NA      & NA      & NA     \\\\\n",
       "\t 2652670 & 58      & 1       & NA      & NA      & NA      & NA      & NA      & NA      & NA      & ⋯       & NA      & NA      & NA      & NA      & NA      & NA      & NA      & NA      & NA      & NA     \\\\\n",
       "\\end{tabular}\n"
      ],
      "text/markdown": [
       "\n",
       "IID | age | sex | f.3140.0.0 | f.3140.1.0 | f.3140.2.0 | f.2724.0.0 | f.2724.1.0 | f.2724.2.0 | f.2804.0.0 | ⋯ | f.3591.2.0 | f.3700.0.0 | f.3700.1.0 | f.3700.2.0 | f.3710.0.0 | f.3710.1.0 | f.3710.2.0 | f.3720.0.0 | f.3720.1.0 | f.3720.2.0 | \n",
       "|---|---|---|---|---|---|\n",
       "| 2502845 | 50      | 1       | NA      | NA      | NA      | NA      | NA      | NA      | NA      | ⋯       | NA      | NA      | NA      | NA      | NA      | NA      | NA      | NA      | NA      | NA      | \n",
       "| 2314965 | 55      | 0       |  0      | NA      | NA      |  3      | NA      | NA      | 27      | ⋯       | NA      | NA      | NA      | NA      | NA      | NA      | NA      |  0      | NA      | NA      | \n",
       "| 1142584 | 60      | 0       |  0      | NA      | NA      |  1      | NA      | NA      | 35      | ⋯       | NA      | NA      | NA      | NA      | NA      | NA      | NA      | NA      | NA      | NA      | \n",
       "| 3665122 | 74      | 0       |  0      | NA      | NA      |  1      | NA      | NA      | NA      | ⋯       | NA      | NA      | NA      | NA      | NA      | NA      | NA      | NA      | NA      | NA      | \n",
       "| 4377492 | 65      | 0       |  0      | NA      | NA      |  1      | NA      | NA      | 52      | ⋯       | NA      | NA      | NA      | NA      | NA      | NA      | NA      | NA      | NA      | NA      | \n",
       "| 2652670 | 58      | 1       | NA      | NA      | NA      | NA      | NA      | NA      | NA      | ⋯       | NA      | NA      | NA      | NA      | NA      | NA      | NA      | NA      | NA      | NA      | \n",
       "\n",
       "\n"
      ],
      "text/plain": [
       "  IID     age sex f.3140.0.0 f.3140.1.0 f.3140.2.0 f.2724.0.0 f.2724.1.0\n",
       "1 2502845 50  1   NA         NA         NA         NA         NA        \n",
       "2 2314965 55  0    0         NA         NA          3         NA        \n",
       "3 1142584 60  0    0         NA         NA          1         NA        \n",
       "4 3665122 74  0    0         NA         NA          1         NA        \n",
       "5 4377492 65  0    0         NA         NA          1         NA        \n",
       "6 2652670 58  1   NA         NA         NA         NA         NA        \n",
       "  f.2724.2.0 f.2804.0.0 ⋯ f.3591.2.0 f.3700.0.0 f.3700.1.0 f.3700.2.0\n",
       "1 NA         NA         ⋯ NA         NA         NA         NA        \n",
       "2 NA         27         ⋯ NA         NA         NA         NA        \n",
       "3 NA         35         ⋯ NA         NA         NA         NA        \n",
       "4 NA         NA         ⋯ NA         NA         NA         NA        \n",
       "5 NA         52         ⋯ NA         NA         NA         NA        \n",
       "6 NA         NA         ⋯ NA         NA         NA         NA        \n",
       "  f.3710.0.0 f.3710.1.0 f.3710.2.0 f.3720.0.0 f.3720.1.0 f.3720.2.0\n",
       "1 NA         NA         NA         NA         NA         NA        \n",
       "2 NA         NA         NA          0         NA         NA        \n",
       "3 NA         NA         NA         NA         NA         NA        \n",
       "4 NA         NA         NA         NA         NA         NA        \n",
       "5 NA         NA         NA         NA         NA         NA        \n",
       "6 NA         NA         NA         NA         NA         NA        "
      ]
     },
     "metadata": {},
     "output_type": "display_data"
    }
   ],
   "source": [
    "# write out these data\n",
    "dat3 <- full_join(covar_data, dat2, c(\"IID\"=\"f.eid\"))\n",
    "head(dat3)"
   ]
  },
  {
   "cell_type": "code",
   "execution_count": 24,
   "metadata": {},
   "outputs": [],
   "source": [
    "write.table(dat3, file=\"../phe_extraction/sex_spec_pheno.txt\", row.names=FALSE, quote=FALSE, sep=\"\\t\")"
   ]
  },
  {
   "cell_type": "markdown",
   "metadata": {},
   "source": [
    "TODO:\n",
    "- Redo menopause phenotyping\n",
    "- Remove pregnant folks"
   ]
  },
  {
   "cell_type": "markdown",
   "metadata": {},
   "source": [
    "#### Look at visit to visit variability"
   ]
  },
  {
   "cell_type": "code",
   "execution_count": null,
   "metadata": {
    "collapsed": true
   },
   "outputs": [],
   "source": []
  },
  {
   "cell_type": "code",
   "execution_count": 5,
   "metadata": {},
   "outputs": [
    {
     "data": {
      "text/html": [
       "<ol class=list-inline>\n",
       "\t<li>3140</li>\n",
       "\t<li>2724</li>\n",
       "\t<li>3581</li>\n",
       "\t<li>3591</li>\n",
       "\t<li>2934</li>\n",
       "\t<li>3700</li>\n",
       "\t<li>3710</li>\n",
       "\t<li>3720</li>\n",
       "\t<li>2804</li>\n",
       "\t<li>3546</li>\n",
       "</ol>\n",
       "\n",
       "<details>\n",
       "\t<summary style=display:list-item;cursor:pointer>\n",
       "\t\t<strong>Levels</strong>:\n",
       "\t</summary>\n",
       "\t<ol class=list-inline>\n",
       "\t\t<li>'20015'</li>\n",
       "\t\t<li>'20019'</li>\n",
       "\t\t<li>'20021'</li>\n",
       "\t\t<li>'20022'</li>\n",
       "\t\t<li>'20150'</li>\n",
       "\t\t<li>'20151'</li>\n",
       "\t\t<li>'21001'</li>\n",
       "\t\t<li>'21021'</li>\n",
       "\t\t<li>'2178'</li>\n",
       "\t\t<li>'2188'</li>\n",
       "\t\t<li>'2724'</li>\n",
       "\t\t<li>'2804'</li>\n",
       "\t\t<li>'2934'</li>\n",
       "\t\t<li>'30000'</li>\n",
       "\t\t<li>'30010'</li>\n",
       "\t\t<li>'30020'</li>\n",
       "\t\t<li>'30030'</li>\n",
       "\t\t<li>'30040'</li>\n",
       "\t\t<li>'30050'</li>\n",
       "\t\t<li>'30060'</li>\n",
       "\t\t<li>'30070'</li>\n",
       "\t\t<li>'30080'</li>\n",
       "\t\t<li>'30090'</li>\n",
       "\t\t<li>'30100'</li>\n",
       "\t\t<li>'30110'</li>\n",
       "\t\t<li>'30120'</li>\n",
       "\t\t<li>'30130'</li>\n",
       "\t\t<li>'30140'</li>\n",
       "\t\t<li>'30150'</li>\n",
       "\t\t<li>'30160'</li>\n",
       "\t\t<li>'30170'</li>\n",
       "\t\t<li>'30180'</li>\n",
       "\t\t<li>'30190'</li>\n",
       "\t\t<li>'30200'</li>\n",
       "\t\t<li>'30210'</li>\n",
       "\t\t<li>'30220'</li>\n",
       "\t\t<li>'30230'</li>\n",
       "\t\t<li>'30240'</li>\n",
       "\t\t<li>'30250'</li>\n",
       "\t\t<li>'30260'</li>\n",
       "\t\t<li>'30270'</li>\n",
       "\t\t<li>'30280'</li>\n",
       "\t\t<li>'30290'</li>\n",
       "\t\t<li>'30300'</li>\n",
       "\t\t<li>'30500'</li>\n",
       "\t\t<li>'30510'</li>\n",
       "\t\t<li>'30520'</li>\n",
       "\t\t<li>'30530'</li>\n",
       "\t\t<li>'30600'</li>\n",
       "\t\t<li>'30610'</li>\n",
       "\t\t<li>'30620'</li>\n",
       "\t\t<li>'3063'</li>\n",
       "\t\t<li>'30630'</li>\n",
       "\t\t<li>'3064'</li>\n",
       "\t\t<li>'30640'</li>\n",
       "\t\t<li>'30650'</li>\n",
       "\t\t<li>'30660'</li>\n",
       "\t\t<li>'30670'</li>\n",
       "\t\t<li>'30680'</li>\n",
       "\t\t<li>'30690'</li>\n",
       "\t\t<li>'30700'</li>\n",
       "\t\t<li>'30710'</li>\n",
       "\t\t<li>'30720'</li>\n",
       "\t\t<li>'30730'</li>\n",
       "\t\t<li>'30740'</li>\n",
       "\t\t<li>'30750'</li>\n",
       "\t\t<li>'30760'</li>\n",
       "\t\t<li>'30770'</li>\n",
       "\t\t<li>'30780'</li>\n",
       "\t\t<li>'30790'</li>\n",
       "\t\t<li>'30800'</li>\n",
       "\t\t<li>'30810'</li>\n",
       "\t\t<li>'30820'</li>\n",
       "\t\t<li>'30830'</li>\n",
       "\t\t<li>'30840'</li>\n",
       "\t\t<li>'30850'</li>\n",
       "\t\t<li>'30860'</li>\n",
       "\t\t<li>'30870'</li>\n",
       "\t\t<li>'30880'</li>\n",
       "\t\t<li>'30890'</li>\n",
       "\t\t<li>'3140'</li>\n",
       "\t\t<li>'3546'</li>\n",
       "\t\t<li>'3581'</li>\n",
       "\t\t<li>'3591'</li>\n",
       "\t\t<li>'3700'</li>\n",
       "\t\t<li>'3710'</li>\n",
       "\t\t<li>'3720'</li>\n",
       "\t\t<li>'4079'</li>\n",
       "\t\t<li>'4080'</li>\n",
       "\t\t<li>'46'</li>\n",
       "\t\t<li>'47'</li>\n",
       "\t\t<li>'48'</li>\n",
       "\t\t<li>'49'</li>\n",
       "\t\t<li>'50'</li>\n",
       "\t\t<li>'arm_fp'</li>\n",
       "\t\t<li>'FEV_FVC'</li>\n",
       "\t\t<li>'INI23099'</li>\n",
       "\t\t<li>'INI23100'</li>\n",
       "\t\t<li>'INI23101'</li>\n",
       "\t\t<li>'INI23102'</li>\n",
       "\t\t<li>'INI23105'</li>\n",
       "\t\t<li>'INI23106'</li>\n",
       "\t\t<li>'INI23107'</li>\n",
       "\t\t<li>'INI23108'</li>\n",
       "\t\t<li>'INI23109'</li>\n",
       "\t\t<li>'INI23110'</li>\n",
       "\t\t<li>'INI23111'</li>\n",
       "\t\t<li>'INI23112'</li>\n",
       "\t\t<li>'INI23115'</li>\n",
       "\t\t<li>'INI23116'</li>\n",
       "\t\t<li>'INI23119'</li>\n",
       "\t\t<li>'INI23120'</li>\n",
       "\t\t<li>'INI23123'</li>\n",
       "\t\t<li>'INI23124'</li>\n",
       "\t\t<li>'INI23127'</li>\n",
       "\t\t<li>'INI23128'</li>\n",
       "\t\t<li>'leg_fp'</li>\n",
       "\t\t<li>'trunk_fp'</li>\n",
       "\t\t<li>'whr'</li>\n",
       "\t</ol>\n",
       "</details>"
      ],
      "text/latex": [
       "\\begin{enumerate*}\n",
       "\\item 3140\n",
       "\\item 2724\n",
       "\\item 3581\n",
       "\\item 3591\n",
       "\\item 2934\n",
       "\\item 3700\n",
       "\\item 3710\n",
       "\\item 3720\n",
       "\\item 2804\n",
       "\\item 3546\n",
       "\\end{enumerate*}\n",
       "\n",
       "\\emph{Levels}: \\begin{enumerate*}\n",
       "\\item '20015'\n",
       "\\item '20019'\n",
       "\\item '20021'\n",
       "\\item '20022'\n",
       "\\item '20150'\n",
       "\\item '20151'\n",
       "\\item '21001'\n",
       "\\item '21021'\n",
       "\\item '2178'\n",
       "\\item '2188'\n",
       "\\item '2724'\n",
       "\\item '2804'\n",
       "\\item '2934'\n",
       "\\item '30000'\n",
       "\\item '30010'\n",
       "\\item '30020'\n",
       "\\item '30030'\n",
       "\\item '30040'\n",
       "\\item '30050'\n",
       "\\item '30060'\n",
       "\\item '30070'\n",
       "\\item '30080'\n",
       "\\item '30090'\n",
       "\\item '30100'\n",
       "\\item '30110'\n",
       "\\item '30120'\n",
       "\\item '30130'\n",
       "\\item '30140'\n",
       "\\item '30150'\n",
       "\\item '30160'\n",
       "\\item '30170'\n",
       "\\item '30180'\n",
       "\\item '30190'\n",
       "\\item '30200'\n",
       "\\item '30210'\n",
       "\\item '30220'\n",
       "\\item '30230'\n",
       "\\item '30240'\n",
       "\\item '30250'\n",
       "\\item '30260'\n",
       "\\item '30270'\n",
       "\\item '30280'\n",
       "\\item '30290'\n",
       "\\item '30300'\n",
       "\\item '30500'\n",
       "\\item '30510'\n",
       "\\item '30520'\n",
       "\\item '30530'\n",
       "\\item '30600'\n",
       "\\item '30610'\n",
       "\\item '30620'\n",
       "\\item '3063'\n",
       "\\item '30630'\n",
       "\\item '3064'\n",
       "\\item '30640'\n",
       "\\item '30650'\n",
       "\\item '30660'\n",
       "\\item '30670'\n",
       "\\item '30680'\n",
       "\\item '30690'\n",
       "\\item '30700'\n",
       "\\item '30710'\n",
       "\\item '30720'\n",
       "\\item '30730'\n",
       "\\item '30740'\n",
       "\\item '30750'\n",
       "\\item '30760'\n",
       "\\item '30770'\n",
       "\\item '30780'\n",
       "\\item '30790'\n",
       "\\item '30800'\n",
       "\\item '30810'\n",
       "\\item '30820'\n",
       "\\item '30830'\n",
       "\\item '30840'\n",
       "\\item '30850'\n",
       "\\item '30860'\n",
       "\\item '30870'\n",
       "\\item '30880'\n",
       "\\item '30890'\n",
       "\\item '3140'\n",
       "\\item '3546'\n",
       "\\item '3581'\n",
       "\\item '3591'\n",
       "\\item '3700'\n",
       "\\item '3710'\n",
       "\\item '3720'\n",
       "\\item '4079'\n",
       "\\item '4080'\n",
       "\\item '46'\n",
       "\\item '47'\n",
       "\\item '48'\n",
       "\\item '49'\n",
       "\\item '50'\n",
       "\\item 'arm\\_fp'\n",
       "\\item 'FEV\\_FVC'\n",
       "\\item 'INI23099'\n",
       "\\item 'INI23100'\n",
       "\\item 'INI23101'\n",
       "\\item 'INI23102'\n",
       "\\item 'INI23105'\n",
       "\\item 'INI23106'\n",
       "\\item 'INI23107'\n",
       "\\item 'INI23108'\n",
       "\\item 'INI23109'\n",
       "\\item 'INI23110'\n",
       "\\item 'INI23111'\n",
       "\\item 'INI23112'\n",
       "\\item 'INI23115'\n",
       "\\item 'INI23116'\n",
       "\\item 'INI23119'\n",
       "\\item 'INI23120'\n",
       "\\item 'INI23123'\n",
       "\\item 'INI23124'\n",
       "\\item 'INI23127'\n",
       "\\item 'INI23128'\n",
       "\\item 'leg\\_fp'\n",
       "\\item 'trunk\\_fp'\n",
       "\\item 'whr'\n",
       "\\end{enumerate*}\n"
      ],
      "text/markdown": [
       "1. 3140\n",
       "2. 2724\n",
       "3. 3581\n",
       "4. 3591\n",
       "5. 2934\n",
       "6. 3700\n",
       "7. 3710\n",
       "8. 3720\n",
       "9. 2804\n",
       "10. 3546\n",
       "\n",
       "\n",
       "\n",
       "**Levels**: 1. '20015'\n",
       "2. '20019'\n",
       "3. '20021'\n",
       "4. '20022'\n",
       "5. '20150'\n",
       "6. '20151'\n",
       "7. '21001'\n",
       "8. '21021'\n",
       "9. '2178'\n",
       "10. '2188'\n",
       "11. '2724'\n",
       "12. '2804'\n",
       "13. '2934'\n",
       "14. '30000'\n",
       "15. '30010'\n",
       "16. '30020'\n",
       "17. '30030'\n",
       "18. '30040'\n",
       "19. '30050'\n",
       "20. '30060'\n",
       "21. '30070'\n",
       "22. '30080'\n",
       "23. '30090'\n",
       "24. '30100'\n",
       "25. '30110'\n",
       "26. '30120'\n",
       "27. '30130'\n",
       "28. '30140'\n",
       "29. '30150'\n",
       "30. '30160'\n",
       "31. '30170'\n",
       "32. '30180'\n",
       "33. '30190'\n",
       "34. '30200'\n",
       "35. '30210'\n",
       "36. '30220'\n",
       "37. '30230'\n",
       "38. '30240'\n",
       "39. '30250'\n",
       "40. '30260'\n",
       "41. '30270'\n",
       "42. '30280'\n",
       "43. '30290'\n",
       "44. '30300'\n",
       "45. '30500'\n",
       "46. '30510'\n",
       "47. '30520'\n",
       "48. '30530'\n",
       "49. '30600'\n",
       "50. '30610'\n",
       "51. '30620'\n",
       "52. '3063'\n",
       "53. '30630'\n",
       "54. '3064'\n",
       "55. '30640'\n",
       "56. '30650'\n",
       "57. '30660'\n",
       "58. '30670'\n",
       "59. '30680'\n",
       "60. '30690'\n",
       "61. '30700'\n",
       "62. '30710'\n",
       "63. '30720'\n",
       "64. '30730'\n",
       "65. '30740'\n",
       "66. '30750'\n",
       "67. '30760'\n",
       "68. '30770'\n",
       "69. '30780'\n",
       "70. '30790'\n",
       "71. '30800'\n",
       "72. '30810'\n",
       "73. '30820'\n",
       "74. '30830'\n",
       "75. '30840'\n",
       "76. '30850'\n",
       "77. '30860'\n",
       "78. '30870'\n",
       "79. '30880'\n",
       "80. '30890'\n",
       "81. '3140'\n",
       "82. '3546'\n",
       "83. '3581'\n",
       "84. '3591'\n",
       "85. '3700'\n",
       "86. '3710'\n",
       "87. '3720'\n",
       "88. '4079'\n",
       "89. '4080'\n",
       "90. '46'\n",
       "91. '47'\n",
       "92. '48'\n",
       "93. '49'\n",
       "94. '50'\n",
       "95. 'arm_fp'\n",
       "96. 'FEV_FVC'\n",
       "97. 'INI23099'\n",
       "98. 'INI23100'\n",
       "99. 'INI23101'\n",
       "100. 'INI23102'\n",
       "101. 'INI23105'\n",
       "102. 'INI23106'\n",
       "103. 'INI23107'\n",
       "104. 'INI23108'\n",
       "105. 'INI23109'\n",
       "106. 'INI23110'\n",
       "107. 'INI23111'\n",
       "108. 'INI23112'\n",
       "109. 'INI23115'\n",
       "110. 'INI23116'\n",
       "111. 'INI23119'\n",
       "112. 'INI23120'\n",
       "113. 'INI23123'\n",
       "114. 'INI23124'\n",
       "115. 'INI23127'\n",
       "116. 'INI23128'\n",
       "117. 'leg_fp'\n",
       "118. 'trunk_fp'\n",
       "119. 'whr'\n",
       "\n",
       "\n"
      ],
      "text/plain": [
       " [1] 3140 2724 3581 3591 2934 3700 3710 3720 2804 3546\n",
       "119 Levels: 20015 20019 20021 20022 20150 20151 21001 21021 2178 2188 ... whr"
      ]
     },
     "metadata": {},
     "output_type": "display_data"
    }
   ],
   "source": [
    "# load both visits of the traits\n",
    "df_phe <- biomarker_phe[,c(\"f.eid\", sprintf(\"f.%s.0.0\", phe_id))]  # structured as phe, visit, info, we want visit 1\n",
    "print(\"extracted\")\n",
    "df_phe2 <- cbind(df_phe[,\"f.eid\"], df_phe)\n",
    "\n",
    "# \n"
   ]
  },
  {
   "cell_type": "code",
   "execution_count": null,
   "metadata": {
    "collapsed": true
   },
   "outputs": [],
   "source": [
    "# for most of these: -1 or -3 = NA\n",
    "\n",
    "list.hormone.related.phe.ids <- c(\n",
    "    '3140', # pregnant (remove everyone with = yes, 2=unsure)\n",
    "'2724', # had menopause (1 = yes, 0 = no, 2= hysterectomy, 3 = not sure)\n",
    "'3581', # age of menopause \n",
    "'3591', # hysterectomy\n",
    "'2834', # oophorectomy\n",
    "'3700', # time since last menstural period\n",
    "'3710', # length of menstrual cycle (-6 = irregular cycle)\n",
    "'3720', # menstruating today\n",
    "'2804', # age when last used the pill (-11 = still taking)\n",
    "'3546', # age when last used HRT (-11 = still taking)\n",
    ")\n",
    "\n",
    "other.covariates <- c(\n",
    "# age\n",
    "# sex\n",
    "# BMI\n",
    "# BP\n",
    "'2178', # health rating (1 = excellent, 2 = good, 3 = fair, 4 = poor)\n",
    "'2188', # long-standing illness or disability\n",
    ")\n",
    "\n",
    "other.quant.traits <- c(\n",
    ")\n",
    "\n",
    "# look at these for all the dates"
   ]
  },
  {
   "cell_type": "code",
   "execution_count": null,
   "metadata": {
    "collapsed": true
   },
   "outputs": [],
   "source": []
  }
 ],
 "metadata": {
  "kernelspec": {
   "display_name": "R",
   "language": "R",
   "name": "ir"
  },
  "language_info": {
   "codemirror_mode": "r",
   "file_extension": ".r",
   "mimetype": "text/x-r-source",
   "name": "R",
   "pygments_lexer": "r",
   "version": "3.4.0"
  }
 },
 "nbformat": 4,
 "nbformat_minor": 2
}
