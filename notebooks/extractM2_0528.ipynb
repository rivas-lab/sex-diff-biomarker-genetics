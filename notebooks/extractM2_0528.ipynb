{
 "cells": [
  {
   "cell_type": "code",
   "execution_count": 1,
   "metadata": {},
   "outputs": [
    {
     "name": "stderr",
     "output_type": "stream",
     "text": [
      "Loading required package: rstan\n",
      "\n",
      "Loading required package: StanHeaders\n",
      "\n",
      "Loading required package: ggplot2\n",
      "\n",
      "rstan (Version 2.19.3, GitRev: 2e1f913d3ca3)\n",
      "\n",
      "For execution on a local, multicore CPU with excess RAM we recommend calling\n",
      "options(mc.cores = parallel::detectCores()).\n",
      "To avoid recompilation of unchanged Stan programs, we recommend calling\n",
      "rstan_options(auto_write = TRUE)\n",
      "\n",
      "Loading required package: tidyverse\n",
      "\n",
      "── \u001b[1mAttaching packages\u001b[22m ─────────────────────────────────────── tidyverse 1.3.0 ──\n",
      "\n",
      "\u001b[32m✔\u001b[39m \u001b[34mtibble \u001b[39m 3.0.1     \u001b[32m✔\u001b[39m \u001b[34mdplyr  \u001b[39m 0.8.5\n",
      "\u001b[32m✔\u001b[39m \u001b[34mtidyr  \u001b[39m 1.1.0     \u001b[32m✔\u001b[39m \u001b[34mstringr\u001b[39m 1.4.0\n",
      "\u001b[32m✔\u001b[39m \u001b[34mreadr  \u001b[39m 1.3.1     \u001b[32m✔\u001b[39m \u001b[34mforcats\u001b[39m 0.4.0\n",
      "\u001b[32m✔\u001b[39m \u001b[34mpurrr  \u001b[39m 0.3.4     \n",
      "\n",
      "── \u001b[1mConflicts\u001b[22m ────────────────────────────────────────── tidyverse_conflicts() ──\n",
      "\u001b[31m✖\u001b[39m \u001b[34mtidyr\u001b[39m::\u001b[32mextract()\u001b[39m masks \u001b[34mrstan\u001b[39m::extract()\n",
      "\u001b[31m✖\u001b[39m \u001b[34mdplyr\u001b[39m::\u001b[32mfilter()\u001b[39m  masks \u001b[34mstats\u001b[39m::filter()\n",
      "\u001b[31m✖\u001b[39m \u001b[34mdplyr\u001b[39m::\u001b[32mlag()\u001b[39m     masks \u001b[34mstats\u001b[39m::lag()\n",
      "\n",
      "Loading required package: data.table\n",
      "\n",
      "\n",
      "Attaching package: ‘data.table’\n",
      "\n",
      "\n",
      "The following objects are masked from ‘package:dplyr’:\n",
      "\n",
      "    between, first, last\n",
      "\n",
      "\n",
      "The following object is masked from ‘package:purrr’:\n",
      "\n",
      "    transpose\n",
      "\n",
      "\n",
      "Loading required package: MASS\n",
      "\n",
      "\n",
      "Attaching package: ‘MASS’\n",
      "\n",
      "\n",
      "The following object is masked from ‘package:dplyr’:\n",
      "\n",
      "    select\n",
      "\n",
      "\n",
      "Loading required package: Matrix\n",
      "\n",
      "\n",
      "Attaching package: ‘Matrix’\n",
      "\n",
      "\n",
      "The following objects are masked from ‘package:tidyr’:\n",
      "\n",
      "    expand, pack, unpack\n",
      "\n",
      "\n",
      "Loading required package: mnormt\n",
      "\n",
      "Loading required package: qqman\n",
      "\n",
      "\n",
      "\n",
      "For example usage please run: vignette('qqman')\n",
      "\n",
      "\n",
      "\n",
      "Citation appreciated but not required:\n",
      "\n",
      "Turner, S.D. qqman: an R package for visualizing GWAS results using Q-Q and manhattan plots. biorXiv DOI: 10.1101/005165 (2014).\n",
      "\n",
      "\n",
      "\n"
     ]
    }
   ],
   "source": [
    "require('rstan')\n",
    "require('tidyverse')\n",
    "require('data.table')\n",
    "source(\"../src/04_bmm/model_utils.R\")\n",
    "source(\"../src/04_bmm/snp_utils.R\")\n",
    "source(\"../src/04_bmm/heritability_utils.R\")\n",
    "options(stringsAsFactors=FALSE)"
   ]
  },
  {
   "cell_type": "markdown",
   "metadata": {},
   "source": [
    "### ANTHRO TRAITS\n",
    "where is the anthro data? what does it look like?"
   ]
  },
  {
   "cell_type": "code",
   "execution_count": 9,
   "metadata": {},
   "outputs": [],
   "source": [
    "anthro_traits <- c(\"afr\", \"tfr\", \"lfr\", \"whr\")"
   ]
  },
  {
   "cell_type": "code",
   "execution_count": 3,
   "metadata": {},
   "outputs": [],
   "source": [
    "getTraitDf <- function(trait){\n",
    "    load(sprintf(\"../data/vary_priors_%s/m2_fit_2.RData\", trait))\n",
    "    summary_df <- data.frame(summary(fit, pars=c(\"pi\", \"sigmasq\"))$summary)\n",
    "    summary_df$parameter <- rownames(summary_df)\n",
    "    summary_df$trait <- trait\n",
    "    summary_df_long <- summary_df %>% \n",
    "        dplyr::select(trait, parameter, \"X2.5.\", \"X50.\", \"X97.5.\", \"n_eff\", \"Rhat\") %>%\n",
    "        rename(ci_l=\"X2.5.\", est=\"X50.\", ci_u=\"X97.5.\") %>%\n",
    "        as_tibble()\n",
    "    return(summary_df_long)\n",
    "}\n",
    "\n",
    "trait_est <- do.call(rbind, lapply(antrho_traits, getTraitDf))\n"
   ]
  },
  {
   "cell_type": "code",
   "execution_count": 44,
   "metadata": {
    "collapsed": true
   },
   "outputs": [],
   "source": [
    "reformDf <- function(df){\n",
    "    df %>%\n",
    "    dplyr::select(trait, parameter, est) %>% \n",
    "    tidyr::pivot_wider(id_cols=trait, names_from=\"parameter\", values_from=\"est\") %>%\n",
    "    rename(\"pi[0]\"=\"pi[1]\",\n",
    "          \"pi[1]\"=\"pi[2]\",\n",
    "          \"pi[2]\"=\"pi[3]\",\n",
    "          \"pi[3]\"=\"pi[4]\",\n",
    "          \"sigmasq[1f]\"=\"sigmasq[1]\",\n",
    "           \"sigmasq[2m]\"=\"sigmasq[2]\",\n",
    "           \"sigmasq[3f]\"=\"sigmasq[3]\",\n",
    "           \"sigmasq[3m]\"=\"sigmasq[4]\"\n",
    "          ) %>%\n",
    "    mutate_if(is.numeric, ~signif(., digits=4))\n",
    "}"
   ]
  },
  {
   "cell_type": "code",
   "execution_count": 75,
   "metadata": {},
   "outputs": [
    {
     "data": {
      "text/plain": [
       "   Min. 1st Qu.  Median    Mean 3rd Qu.    Max. \n",
       "   1939    2608    2968    3154    3665    4795 "
      ]
     },
     "metadata": {},
     "output_type": "display_data"
    },
    {
     "data": {
      "text/plain": [
       "   Min. 1st Qu.  Median    Mean 3rd Qu.    Max. \n",
       " 0.9994  0.9999  1.0004  1.0005  1.0009  1.0020 "
      ]
     },
     "metadata": {},
     "output_type": "display_data"
    }
   ],
   "source": [
    "summary(trait_est$n_eff)\n",
    "summary(trait_est$Rhat)\n",
    "trait_reform <- reformDf(trait_est)\n",
    "trait_reform %>% \n",
    "    mutate(trait=case_when(\n",
    "        trait==\"afr\" ~ \"arm fat ratio\",\n",
    "        trait==\"tfr\" ~ \"trunk fat ratio\" ,\n",
    "        trait==\"lfr\" ~ \"leg fat ratio\",\n",
    "        TRUE ~ trait)) %>%\n",
    "    write_csv(\"../data/outfiles/m2_anthro_est.csv\")"
   ]
  },
  {
   "cell_type": "markdown",
   "metadata": {},
   "source": [
    "### BIOMARKER TRAITS\n",
    "Which converged?"
   ]
  },
  {
   "cell_type": "code",
   "execution_count": 23,
   "metadata": {},
   "outputs": [],
   "source": [
    "bio_traits_f <- str_replace_all(list.files(path=\"../data2/m2/\", pattern=\"f*.RData\"), \"f_m2_|.RData\", \"\")\n",
    "bio_traits_p <- str_replace_all(list.files(path=\"../data/m2/\", pattern=\"f*.RData\"), \"f_m2_|.RData\", \"\")"
   ]
  },
  {
   "cell_type": "code",
   "execution_count": 26,
   "metadata": {},
   "outputs": [
    {
     "data": {
      "text/html": [
       "<style>\n",
       ".list-inline {list-style: none; margin:0; padding: 0}\n",
       ".list-inline>li {display: inline-block}\n",
       ".list-inline>li:not(:last-child)::after {content: \"\\00b7\"; padding: 0 .5ex}\n",
       "</style>\n",
       "<ol class=list-inline><li>'Alanine_aminotransferase'</li><li>'Albumin'</li><li>'Alkaline_phosphatase'</li><li>'Apolipoprotein_A'</li><li>'Aspartate_aminotransferase'</li><li>'C_reactive_protein'</li><li>'Cystatin_C'</li><li>'Gamma_glutamyltransferase'</li><li>'HDL_cholesterol'</li><li>'IGF_1'</li><li>'LDL_direct'</li><li>'Non_albumin_protein'</li><li>'SHBG'</li><li>'Sodium_in_urine'</li><li>'Testosterone'</li><li>'Total_bilirubin'</li><li>'Urate'</li><li>'Urea'</li><li>'Vitamin_D'</li></ol>\n"
      ],
      "text/latex": [
       "\\begin{enumerate*}\n",
       "\\item 'Alanine\\_aminotransferase'\n",
       "\\item 'Albumin'\n",
       "\\item 'Alkaline\\_phosphatase'\n",
       "\\item 'Apolipoprotein\\_A'\n",
       "\\item 'Aspartate\\_aminotransferase'\n",
       "\\item 'C\\_reactive\\_protein'\n",
       "\\item 'Cystatin\\_C'\n",
       "\\item 'Gamma\\_glutamyltransferase'\n",
       "\\item 'HDL\\_cholesterol'\n",
       "\\item 'IGF\\_1'\n",
       "\\item 'LDL\\_direct'\n",
       "\\item 'Non\\_albumin\\_protein'\n",
       "\\item 'SHBG'\n",
       "\\item 'Sodium\\_in\\_urine'\n",
       "\\item 'Testosterone'\n",
       "\\item 'Total\\_bilirubin'\n",
       "\\item 'Urate'\n",
       "\\item 'Urea'\n",
       "\\item 'Vitamin\\_D'\n",
       "\\end{enumerate*}\n"
      ],
      "text/markdown": [
       "1. 'Alanine_aminotransferase'\n",
       "2. 'Albumin'\n",
       "3. 'Alkaline_phosphatase'\n",
       "4. 'Apolipoprotein_A'\n",
       "5. 'Aspartate_aminotransferase'\n",
       "6. 'C_reactive_protein'\n",
       "7. 'Cystatin_C'\n",
       "8. 'Gamma_glutamyltransferase'\n",
       "9. 'HDL_cholesterol'\n",
       "10. 'IGF_1'\n",
       "11. 'LDL_direct'\n",
       "12. 'Non_albumin_protein'\n",
       "13. 'SHBG'\n",
       "14. 'Sodium_in_urine'\n",
       "15. 'Testosterone'\n",
       "16. 'Total_bilirubin'\n",
       "17. 'Urate'\n",
       "18. 'Urea'\n",
       "19. 'Vitamin_D'\n",
       "\n",
       "\n"
      ],
      "text/plain": [
       " [1] \"Alanine_aminotransferase\"   \"Albumin\"                   \n",
       " [3] \"Alkaline_phosphatase\"       \"Apolipoprotein_A\"          \n",
       " [5] \"Aspartate_aminotransferase\" \"C_reactive_protein\"        \n",
       " [7] \"Cystatin_C\"                 \"Gamma_glutamyltransferase\" \n",
       " [9] \"HDL_cholesterol\"            \"IGF_1\"                     \n",
       "[11] \"LDL_direct\"                 \"Non_albumin_protein\"       \n",
       "[13] \"SHBG\"                       \"Sodium_in_urine\"           \n",
       "[15] \"Testosterone\"               \"Total_bilirubin\"           \n",
       "[17] \"Urate\"                      \"Urea\"                      \n",
       "[19] \"Vitamin_D\"                 "
      ]
     },
     "metadata": {},
     "output_type": "display_data"
    },
    {
     "data": {
      "text/html": [
       "<style>\n",
       ".list-inline {list-style: none; margin:0; padding: 0}\n",
       ".list-inline>li {display: inline-block}\n",
       ".list-inline>li:not(:last-child)::after {content: \"\\00b7\"; padding: 0 .5ex}\n",
       "</style>\n",
       "<ol class=list-inline><li>'Apolipoprotein_B'</li><li>'Calcium'</li><li>'Cholesterol'</li><li>'Creatinine_in_urine'</li><li>'Creatinine'</li><li>'Direct_bilirubin'</li><li>'eGFR'</li><li>'Glucose'</li><li>'Glycated_haemoglobin_HbA1c'</li><li>'Lipoprotein_A'</li><li>'Phosphate'</li><li>'Potassium_in_urine'</li><li>'Total_protein'</li><li>'Triglycerides'</li></ol>\n"
      ],
      "text/latex": [
       "\\begin{enumerate*}\n",
       "\\item 'Apolipoprotein\\_B'\n",
       "\\item 'Calcium'\n",
       "\\item 'Cholesterol'\n",
       "\\item 'Creatinine\\_in\\_urine'\n",
       "\\item 'Creatinine'\n",
       "\\item 'Direct\\_bilirubin'\n",
       "\\item 'eGFR'\n",
       "\\item 'Glucose'\n",
       "\\item 'Glycated\\_haemoglobin\\_HbA1c'\n",
       "\\item 'Lipoprotein\\_A'\n",
       "\\item 'Phosphate'\n",
       "\\item 'Potassium\\_in\\_urine'\n",
       "\\item 'Total\\_protein'\n",
       "\\item 'Triglycerides'\n",
       "\\end{enumerate*}\n"
      ],
      "text/markdown": [
       "1. 'Apolipoprotein_B'\n",
       "2. 'Calcium'\n",
       "3. 'Cholesterol'\n",
       "4. 'Creatinine_in_urine'\n",
       "5. 'Creatinine'\n",
       "6. 'Direct_bilirubin'\n",
       "7. 'eGFR'\n",
       "8. 'Glucose'\n",
       "9. 'Glycated_haemoglobin_HbA1c'\n",
       "10. 'Lipoprotein_A'\n",
       "11. 'Phosphate'\n",
       "12. 'Potassium_in_urine'\n",
       "13. 'Total_protein'\n",
       "14. 'Triglycerides'\n",
       "\n",
       "\n"
      ],
      "text/plain": [
       " [1] \"Apolipoprotein_B\"           \"Calcium\"                   \n",
       " [3] \"Cholesterol\"                \"Creatinine_in_urine\"       \n",
       " [5] \"Creatinine\"                 \"Direct_bilirubin\"          \n",
       " [7] \"eGFR\"                       \"Glucose\"                   \n",
       " [9] \"Glycated_haemoglobin_HbA1c\" \"Lipoprotein_A\"             \n",
       "[11] \"Phosphate\"                  \"Potassium_in_urine\"        \n",
       "[13] \"Total_protein\"              \"Triglycerides\"             "
      ]
     },
     "metadata": {},
     "output_type": "display_data"
    }
   ],
   "source": [
    "bio_traits_f # 19\n",
    "\n",
    "bio_missing_full <-setdiff(bio_traits_p, c(bio_traits_f, anthro_traits))\n",
    "bio_missing_full # 14\n"
   ]
  },
  {
   "cell_type": "code",
   "execution_count": 32,
   "metadata": {},
   "outputs": [],
   "source": [
    "getTraitDfBio <- function(trait, my.dir=\"data2\"){\n",
    "    load(sprintf(\"../%s/m2/f_m2_%s.RData\",  my.dir, trait))\n",
    "    summary_df <- data.frame(summary(fit2, pars=c(\"pi\", \"sigmasq\"))$summary)\n",
    "    summary_df$parameter <- rownames(summary_df)\n",
    "    summary_df$trait <- trait\n",
    "    summary_df_long <- summary_df %>% \n",
    "        dplyr::select(trait, parameter, \"X2.5.\", \"X50.\", \"X97.5.\", \"n_eff\", \"Rhat\") %>%\n",
    "        rename(ci_l=\"X2.5.\", est=\"X50.\", ci_u=\"X97.5.\") %>%\n",
    "        as_tibble()\n",
    "    return(summary_df_long)\n",
    "}\n",
    "\n",
    "trait_est_bio_f <- do.call(rbind, lapply(bio_traits_f, getTraitDfBio))\n"
   ]
  },
  {
   "cell_type": "code",
   "execution_count": 33,
   "metadata": {},
   "outputs": [],
   "source": [
    "trait_est_bio_p <- do.call(rbind, lapply(bio_traits_p, getTraitDfBio, my.dir=\"data\"))\n"
   ]
  },
  {
   "cell_type": "code",
   "execution_count": 35,
   "metadata": {},
   "outputs": [
    {
     "data": {
      "text/plain": [
       "   Min. 1st Qu.  Median    Mean 3rd Qu.    Max. \n",
       "   1644    3864    4490    4471    5037    6775 "
      ]
     },
     "metadata": {},
     "output_type": "display_data"
    },
    {
     "data": {
      "text/plain": [
       "   Min. 1st Qu.  Median    Mean 3rd Qu.    Max. \n",
       " 0.9991  0.9996  0.9999  1.0001  1.0005  1.0018 "
      ]
     },
     "metadata": {},
     "output_type": "display_data"
    },
    {
     "data": {
      "text/plain": [
       "   Min. 1st Qu.  Median    Mean 3rd Qu.    Max. \n",
       "  767.6  1359.8  1647.4  1670.0  1955.4  2913.1 "
      ]
     },
     "metadata": {},
     "output_type": "display_data"
    },
    {
     "data": {
      "text/plain": [
       "   Min. 1st Qu.  Median    Mean 3rd Qu.    Max. \n",
       " 0.9977  0.9990  0.9997  1.0000  1.0006  1.0068 "
      ]
     },
     "metadata": {},
     "output_type": "display_data"
    }
   ],
   "source": [
    "# check convergence\n",
    "summary(trait_est_bio_f$n_eff)\n",
    "summary(trait_est_bio_f$Rhat)\n",
    "summary(trait_est_bio_p$n_eff)\n",
    "summary(trait_est_bio_p$Rhat)\n",
    "\n",
    "# these all look fine"
   ]
  },
  {
   "cell_type": "code",
   "execution_count": 63,
   "metadata": {},
   "outputs": [
    {
     "name": "stderr",
     "output_type": "stream",
     "text": [
      "`geom_smooth()` using formula 'y ~ x'\n",
      "\n"
     ]
    },
    {
     "data": {
      "image/png": "[encoded data removed]",
      "text/plain": [
       "plot without title"
      ]
     },
     "metadata": {
      "image/png": {
       "height": 420,
       "width": 420
      }
     },
     "output_type": "display_data"
    }
   ],
   "source": [
    "compare_df <- trait_est_bio_f %>% inner_join(trait_est_bio_p, by=c(\"trait\", \"parameter\"))\n",
    "ggplot(compare_df, aes(x=est.x, y=est.y))+geom_point(aes(col=trait))+\n",
    "geom_smooth(method=\"lm\")+\n",
    "facet_wrap(~parameter, scales=\"free\")\n",
    "\n",
    "# seems like things line up exactly??? need to zoom in tho"
   ]
  },
  {
   "cell_type": "code",
   "execution_count": 67,
   "metadata": {},
   "outputs": [
    {
     "name": "stderr",
     "output_type": "stream",
     "text": [
      "`geom_smooth()` using formula 'y ~ x'\n",
      "\n"
     ]
    },
    {
     "data": {
      "image/png": "[encoded data removed]",
      "text/plain": [
       "plot without title"
      ]
     },
     "metadata": {
      "image/png": {
       "height": 420,
       "width": 420
      }
     },
     "output_type": "display_data"
    }
   ],
   "source": [
    "ggplot(compare_df %>% filter(parameter==\"sigmasq[3]\" & est.y < 0.01), aes(x=est.x, y=est.y))+\n",
    "geom_errorbar(aes(ymin=ci_l.y, ymax=ci_u.y, col=trait))+\n",
    "geom_point(aes(col=trait))+\n",
    "geom_smooth(method=\"lm\")\n",
    "# still looks good!!"
   ]
  },
  {
   "cell_type": "code",
   "execution_count": 72,
   "metadata": {},
   "outputs": [],
   "source": [
    "# clean up, combine, and write out\n",
    "bio_f <- trait_est_bio_f %>% reformDf()\n",
    "bio_p <-trait_est_bio_p %>% reformDf()\n",
    "\n",
    "bio_p %>% \n",
    "    anti_join(bio_f, by=\"trait\") %>% \n",
    "    filter(!trait %in% anthro_traits) %>%\n",
    "    bind_rows(bio_f) %>% \n",
    "    mutate(trait=str_replace_all(trait, \"_\", \" \")) %>%\n",
    "    arrange(trait) %>%\n",
    "    write_csv(\"../data/outfiles/m2_biomarker_est.csv\")"
   ]
  },
  {
   "cell_type": "markdown",
   "metadata": {},
   "source": [
    "### Creating an annotation table\n",
    "- grab the variants\n",
    "- what is the info we want\n",
    "\n",
    "trait\tID\tCHR\tPOS\tREF\tALT\tGENE\tMAF\tB.f\tB.m\tSE.f\tSE.m\tP.f\tP.m\tp0\tp1\tp2\tp3\tConsequence\tHGVSp"
   ]
  },
  {
   "cell_type": "code",
   "execution_count": 21,
   "metadata": {},
   "outputs": [],
   "source": [
    "loadM2Tab <- function(trait, M2.DIR=\"data2\"){\n",
    "    df <- read.table(sprintf(\"../%s/m2/sig_snps%s_.txt\", M2.DIR, trait), sep=\" \", header=TRUE); \n",
    "    df %>% \n",
    "        rename(ID=SNP, p0=p1, p1=p2, p2=p3, p3=p4) %>%\n",
    "        mutate(category=category-1) %>%\n",
    "        mutate(trait=trait)\n",
    "}\n"
   ]
  },
  {
   "cell_type": "code",
   "execution_count": 27,
   "metadata": {},
   "outputs": [],
   "source": [
    "m2_tab_bio_f <- do.call(rbind, lapply(bio_traits_f, loadM2Tab))\n"
   ]
  },
  {
   "cell_type": "code",
   "execution_count": 32,
   "metadata": {},
   "outputs": [],
   "source": [
    "m2_tab_bio_p <- do.call(rbind, lapply(bio_missing_full, function(x) loadM2Tab(x, M2.DIR=\"data\")))"
   ]
  },
  {
   "cell_type": "code",
   "execution_count": 34,
   "metadata": {},
   "outputs": [],
   "source": [
    "m2_bio <- rbind(m2_tab_bio_f, m2_tab_bio_p)"
   ]
  },
  {
   "cell_type": "code",
   "execution_count": 2,
   "metadata": {},
   "outputs": [],
   "source": [
    "variant_tab <- fread('/oak/stanford/groups/mrivas/private_data/ukbb/variant_filtering/variant_filter_table.new.tsv.gz', data.table=FALSE)"
   ]
  },
  {
   "cell_type": "code",
   "execution_count": 3,
   "metadata": {},
   "outputs": [
    {
     "data": {
      "text/html": [
       "<table>\n",
       "<caption>A data.frame: 6 × 8</caption>\n",
       "<thead>\n",
       "\t<tr><th></th><th scope=col>ID</th><th scope=col>POS</th><th scope=col>REF</th><th scope=col>ALT</th><th scope=col>Gene_symbol</th><th scope=col>maf</th><th scope=col>Consequence</th><th scope=col>HGVSp</th></tr>\n",
       "\t<tr><th></th><th scope=col>&lt;chr&gt;</th><th scope=col>&lt;int&gt;</th><th scope=col>&lt;chr&gt;</th><th scope=col>&lt;chr&gt;</th><th scope=col>&lt;chr&gt;</th><th scope=col>&lt;dbl&gt;</th><th scope=col>&lt;chr&gt;</th><th scope=col>&lt;chr&gt;</th></tr>\n",
       "</thead>\n",
       "<tbody>\n",
       "\t<tr><th scope=row>1</th><td>rs28659788 </td><td>723307</td><td>C</td><td>G</td><td>AL669831.5    </td><td>0.03614952</td><td>intron_variant       </td><td></td></tr>\n",
       "\t<tr><th scope=row>2</th><td>rs116587930</td><td>727841</td><td>G</td><td>A</td><td>AL669831.5    </td><td>0.05360614</td><td>intron_variant       </td><td></td></tr>\n",
       "\t<tr><th scope=row>3</th><td>rs116720794</td><td>729632</td><td>C</td><td>T</td><td>AL669831.5    </td><td>0.03658726</td><td>intron_variant       </td><td></td></tr>\n",
       "\t<tr><th scope=row>4</th><td>rs3131972  </td><td>752721</td><td>A</td><td>G</td><td>RP11-206L10.10</td><td>0.15681154</td><td>intron_variant       </td><td></td></tr>\n",
       "\t<tr><th scope=row>5</th><td>rs12184325 </td><td>754105</td><td>C</td><td>T</td><td>FAM87B        </td><td>0.03652657</td><td>splice_region_variant</td><td></td></tr>\n",
       "\t<tr><th scope=row>6</th><td>rs3131962  </td><td>756604</td><td>A</td><td>G</td><td>RP11-206L10.10</td><td>0.12983398</td><td>upstream_gene_variant</td><td></td></tr>\n",
       "</tbody>\n",
       "</table>\n"
      ],
      "text/latex": [
       "A data.frame: 6 × 8\n",
       "\\begin{tabular}{r|llllllll}\n",
       "  & ID & POS & REF & ALT & Gene\\_symbol & maf & Consequence & HGVSp\\\\\n",
       "  & <chr> & <int> & <chr> & <chr> & <chr> & <dbl> & <chr> & <chr>\\\\\n",
       "\\hline\n",
       "\t1 & rs28659788  & 723307 & C & G & AL669831.5     & 0.03614952 & intron\\_variant        & \\\\\n",
       "\t2 & rs116587930 & 727841 & G & A & AL669831.5     & 0.05360614 & intron\\_variant        & \\\\\n",
       "\t3 & rs116720794 & 729632 & C & T & AL669831.5     & 0.03658726 & intron\\_variant        & \\\\\n",
       "\t4 & rs3131972   & 752721 & A & G & RP11-206L10.10 & 0.15681154 & intron\\_variant        & \\\\\n",
       "\t5 & rs12184325  & 754105 & C & T & FAM87B         & 0.03652657 & splice\\_region\\_variant & \\\\\n",
       "\t6 & rs3131962   & 756604 & A & G & RP11-206L10.10 & 0.12983398 & upstream\\_gene\\_variant & \\\\\n",
       "\\end{tabular}\n"
      ],
      "text/markdown": [
       "\n",
       "A data.frame: 6 × 8\n",
       "\n",
       "| <!--/--> | ID &lt;chr&gt; | POS &lt;int&gt; | REF &lt;chr&gt; | ALT &lt;chr&gt; | Gene_symbol &lt;chr&gt; | maf &lt;dbl&gt; | Consequence &lt;chr&gt; | HGVSp &lt;chr&gt; |\n",
       "|---|---|---|---|---|---|---|---|---|\n",
       "| 1 | rs28659788  | 723307 | C | G | AL669831.5     | 0.03614952 | intron_variant        | <!----> |\n",
       "| 2 | rs116587930 | 727841 | G | A | AL669831.5     | 0.05360614 | intron_variant        | <!----> |\n",
       "| 3 | rs116720794 | 729632 | C | T | AL669831.5     | 0.03658726 | intron_variant        | <!----> |\n",
       "| 4 | rs3131972   | 752721 | A | G | RP11-206L10.10 | 0.15681154 | intron_variant        | <!----> |\n",
       "| 5 | rs12184325  | 754105 | C | T | FAM87B         | 0.03652657 | splice_region_variant | <!----> |\n",
       "| 6 | rs3131962   | 756604 | A | G | RP11-206L10.10 | 0.12983398 | upstream_gene_variant | <!----> |\n",
       "\n"
      ],
      "text/plain": [
       "  ID          POS    REF ALT Gene_symbol    maf        Consequence          \n",
       "1 rs28659788  723307 C   G   AL669831.5     0.03614952 intron_variant       \n",
       "2 rs116587930 727841 G   A   AL669831.5     0.05360614 intron_variant       \n",
       "3 rs116720794 729632 C   T   AL669831.5     0.03658726 intron_variant       \n",
       "4 rs3131972   752721 A   G   RP11-206L10.10 0.15681154 intron_variant       \n",
       "5 rs12184325  754105 C   T   FAM87B         0.03652657 splice_region_variant\n",
       "6 rs3131962   756604 A   G   RP11-206L10.10 0.12983398 upstream_gene_variant\n",
       "  HGVSp\n",
       "1      \n",
       "2      \n",
       "3      \n",
       "4      \n",
       "5      \n",
       "6      "
      ]
     },
     "metadata": {},
     "output_type": "display_data"
    }
   ],
   "source": [
    "variant_sm <- variant_tab %>% dplyr::select( ID, POS, REF, ALT, Gene_symbol, maf, Consequence, HGVSp) \n",
    "head(variant_sm)"
   ]
  },
  {
   "cell_type": "code",
   "execution_count": 4,
   "metadata": {},
   "outputs": [],
   "source": [
    "# add in the X chromosome info we can get + make a list of X chromosome IDs we'll have to run through VEP \n",
    "# (make sure the MAF is correct)\n",
    "\n",
    "zs <- fread(\"../data/gwas/ukb24983_v2_hg19.Testosterone_zerosex.genotyped.glm.linear\", data.table=FALSE)\n",
    "Xqc <- fread(\"../data/chr_qc/chrX_qc_table.txt\", data.table=FALSE)\n",
    "XYqc <- fread(\"../data/chr_qc/chrXY_qc_table.txt\", data.table=FALSE)"
   ]
  },
  {
   "cell_type": "code",
   "execution_count": 5,
   "metadata": {},
   "outputs": [],
   "source": [
    "XXY <- rbind(Xqc, XYqc)\n",
    "XY_g <- zs %>% rename(\"CHR\"=\"#CHROM\") %>% filter(CHR %in% c(\"X\", \"XY\"))"
   ]
  },
  {
   "cell_type": "code",
   "execution_count": 6,
   "metadata": {
    "scrolled": true
   },
   "outputs": [],
   "source": [
    "xDat <- left_join(XY_g, XXY %>% dplyr::select(SNP, A1, A2, MAF), by=c(\"ID\"=\"SNP\"))"
   ]
  },
  {
   "cell_type": "code",
   "execution_count": 7,
   "metadata": {},
   "outputs": [
    {
     "data": {
      "text/html": [
       "<table>\n",
       "<caption>A data.frame: 6 × 6</caption>\n",
       "<thead>\n",
       "\t<tr><th></th><th scope=col>ID</th><th scope=col>CHR</th><th scope=col>POS</th><th scope=col>REF</th><th scope=col>ALT</th><th scope=col>MAF</th></tr>\n",
       "\t<tr><th></th><th scope=col>&lt;chr&gt;</th><th scope=col>&lt;chr&gt;</th><th scope=col>&lt;int&gt;</th><th scope=col>&lt;chr&gt;</th><th scope=col>&lt;chr&gt;</th><th scope=col>&lt;dbl&gt;</th></tr>\n",
       "</thead>\n",
       "<tbody>\n",
       "\t<tr><th scope=row>1</th><td>rs34557243 </td><td>XY</td><td> 60425</td><td>C</td><td>A</td><td>0.038610</td></tr>\n",
       "\t<tr><th scope=row>2</th><td>rs28494123 </td><td>XY</td><td> 60454</td><td>A</td><td>G</td><td>0.518758</td></tr>\n",
       "\t<tr><th scope=row>3</th><td>rs28590175 </td><td>XY</td><td> 61067</td><td>A</td><td>G</td><td>0.046891</td></tr>\n",
       "\t<tr><th scope=row>4</th><td>rs117654552</td><td>XY</td><td> 62079</td><td>C</td><td>G</td><td>0.039522</td></tr>\n",
       "\t<tr><th scope=row>5</th><td>rs28491545 </td><td>XY</td><td> 62615</td><td>A</td><td>C</td><td>0.521167</td></tr>\n",
       "\t<tr><th scope=row>6</th><td>rs73174453 </td><td>XY</td><td>167755</td><td>G</td><td>T</td><td>0.537982</td></tr>\n",
       "</tbody>\n",
       "</table>\n"
      ],
      "text/latex": [
       "A data.frame: 6 × 6\n",
       "\\begin{tabular}{r|llllll}\n",
       "  & ID & CHR & POS & REF & ALT & MAF\\\\\n",
       "  & <chr> & <chr> & <int> & <chr> & <chr> & <dbl>\\\\\n",
       "\\hline\n",
       "\t1 & rs34557243  & XY &  60425 & C & A & 0.038610\\\\\n",
       "\t2 & rs28494123  & XY &  60454 & A & G & 0.518758\\\\\n",
       "\t3 & rs28590175  & XY &  61067 & A & G & 0.046891\\\\\n",
       "\t4 & rs117654552 & XY &  62079 & C & G & 0.039522\\\\\n",
       "\t5 & rs28491545  & XY &  62615 & A & C & 0.521167\\\\\n",
       "\t6 & rs73174453  & XY & 167755 & G & T & 0.537982\\\\\n",
       "\\end{tabular}\n"
      ],
      "text/markdown": [
       "\n",
       "A data.frame: 6 × 6\n",
       "\n",
       "| <!--/--> | ID &lt;chr&gt; | CHR &lt;chr&gt; | POS &lt;int&gt; | REF &lt;chr&gt; | ALT &lt;chr&gt; | MAF &lt;dbl&gt; |\n",
       "|---|---|---|---|---|---|---|\n",
       "| 1 | rs34557243  | XY |  60425 | C | A | 0.038610 |\n",
       "| 2 | rs28494123  | XY |  60454 | A | G | 0.518758 |\n",
       "| 3 | rs28590175  | XY |  61067 | A | G | 0.046891 |\n",
       "| 4 | rs117654552 | XY |  62079 | C | G | 0.039522 |\n",
       "| 5 | rs28491545  | XY |  62615 | A | C | 0.521167 |\n",
       "| 6 | rs73174453  | XY | 167755 | G | T | 0.537982 |\n",
       "\n"
      ],
      "text/plain": [
       "  ID          CHR POS    REF ALT MAF     \n",
       "1 rs34557243  XY   60425 C   A   0.038610\n",
       "2 rs28494123  XY   60454 A   G   0.518758\n",
       "3 rs28590175  XY   61067 A   G   0.046891\n",
       "4 rs117654552 XY   62079 C   G   0.039522\n",
       "5 rs28491545  XY   62615 A   C   0.521167\n",
       "6 rs73174453  XY  167755 G   T   0.537982"
      ]
     },
     "metadata": {},
     "output_type": "display_data"
    }
   ],
   "source": [
    "#summary(xDat$MAF)\n",
    "xDat2 <- xDat %>% mutate(MAF=1-MAF) %>% dplyr::select(ID, CHR, POS, REF, ALT, MAF) # fix this. \n",
    "#xDat2 %>% group_by(CHR) %>% summarize(median=median(MAF), max=max(MAF))\n",
    "head(xDat2)"
   ]
  },
  {
   "cell_type": "code",
   "execution_count": 8,
   "metadata": {},
   "outputs": [],
   "source": [
    "variant_sm2 <- variant_sm %>% rename(MAF=maf, GENE=Gene_symbol) \n",
    "\n",
    "\n",
    "variant_tab <- xDat2 %>% mutate(GENE=\"\", Consequence=\"\", HGVSp=\"\") %>% dplyr::select(colnames(variant_sm2)) %>%\n",
    "bind_rows(variant_sm2)\n",
    "\n"
   ]
  },
  {
   "cell_type": "code",
   "execution_count": 42,
   "metadata": {},
   "outputs": [],
   "source": [
    "m2_bio_a <- m2_bio %>% left_join(variant_tab, by=c(\"ID\")) %>%\n",
    "dplyr::select(trait, ID, CHR, POS,REF,ALT,GENE,MAF,B.f,B.m,SE.f,SE.m,P.f,P.m,p0,p1,p2,p3,category,Consequence,HGVSp)"
   ]
  },
  {
   "cell_type": "code",
   "execution_count": 43,
   "metadata": {},
   "outputs": [],
   "source": [
    "m2_bio_a2 <- m2_bio_a %>% \n",
    "    mutate(POS=as.character(POS)) %>% \n",
    "    mutate_if(is.numeric, ~signif(., digits=4)) %>%\n",
    "    mutate(trait=str_replace_all(trait, \"_\", \" \")) %>%\n",
    "    arrange(trait, CHR, POS)"
   ]
  },
  {
   "cell_type": "code",
   "execution_count": 46,
   "metadata": {},
   "outputs": [
    {
     "data": {
      "text/plain": [
       "                            category\n",
       "trait                           1    2    3\n",
       "  Alanine aminotransferase      2    0  696\n",
       "  Albumin                       0    0  565\n",
       "  Alkaline phosphatase          5    5 1727\n",
       "  Apolipoprotein A              5    2 1216\n",
       "  Apolipoprotein B              0    0 1526\n",
       "  Aspartate aminotransferase    3    0 1184\n",
       "  C reactive protein            1    0 1005\n",
       "  Calcium                       0    0  487\n",
       "  Cholesterol                   1    0 1869\n",
       "  Creatinine                    2    1 2077\n",
       "  Creatinine in urine           0    0    1\n",
       "  Cystatin C                    1    1 1842\n",
       "  Direct bilirubin              0    0  317\n",
       "  eGFR                          2    1 1777\n",
       "  Gamma glutamyltransferase     0    0 1618\n",
       "  Glucose                       0    0  167\n",
       "  Glycated haemoglobin HbA1c    3    3 1960\n",
       "  HDL cholesterol               8    2 1458\n",
       "  IGF 1                         1    0 2370\n",
       "  LDL direct                    1    0 1566\n",
       "  Lipoprotein A                 0    0  213\n",
       "  Non albumin protein           1    0 1862\n",
       "  Phosphate                     1    1  438\n",
       "  Potassium in urine            0    0   50\n",
       "  SHBG                          0    1 1459\n",
       "  Sodium in urine               0    0    4\n",
       "  Testosterone                163  652   20\n",
       "  Total bilirubin               0    0  538\n",
       "  Total protein                 0    0 1444\n",
       "  Triglycerides                 4    1 1448\n",
       "  Urate                         2    3 1298\n",
       "  Urea                          0    0  322\n",
       "  Vitamin D                     0    0  213"
      ]
     },
     "metadata": {},
     "output_type": "display_data"
    }
   ],
   "source": [
    "table(m2_bio_a2[,c(\"trait\", \"category\")])"
   ]
  },
  {
   "cell_type": "code",
   "execution_count": 45,
   "metadata": {},
   "outputs": [],
   "source": [
    "m2_bio_a2 %>% write_csv(\"../data/outfiles/m2_bio_snps.csv\")"
   ]
  },
  {
   "cell_type": "markdown",
   "metadata": {},
   "source": [
    "### get tables for the anthro traits"
   ]
  },
  {
   "cell_type": "code",
   "execution_count": 47,
   "metadata": {},
   "outputs": [],
   "source": [
    "extractDataM2 <- function(trait){\n",
    "    print(\"Extracting\")\n",
    "    print(trait)\n",
    "\n",
    "    load(file=sprintf(\"../data/vary_priors_%s/dat_%s.RData\", trait, trait)) \n",
    "    load(file=sprintf(\"../data/vary_priors_%s/m2_fit_2.RData\", trait))\n",
    "\n",
    "    # fraction in non-null component\n",
    "    p <- getPi(fit)\n",
    "\n",
    "    # sigmasq\n",
    "    sigmasq <- getVars(fit)\n",
    "    Sigma <- getSigma(fit)\n",
    " \n",
    "    # assign each SNP to a category\n",
    "    posterior.df <- posteriorSNPtable(dat, fit)\n",
    "    write.table(posterior.df, file=sprintf(\"../data/vary_priors_%s/snp_table_%s.txt\", trait, trait), row.names=FALSE, quote=FALSE)\n",
    "    print(\"Posterior table generated\")\n",
    "\n",
    "    # remove large files from the workspace\n",
    "    rm(fit)\n",
    "\n",
    "    cat.count <- table(posterior.df$category)\n",
    "    print(cat.count)\n",
    "\n",
    "    # create a data frame with the pvalues\n",
    "    p.df <- dat$p \n",
    "    se.df <- dat$dat$SE\n",
    "    beta.df <- dat$dat$B\n",
    "    snp.df <- data.frame(dat$snp)\n",
    "    chr.df <- data.frame(dat$chr)\n",
    "    full.df <- do.call(cbind, list(snp.df, chr.df, beta.df, se.df, p.df))\n",
    "    colnames(full.df) <- c(\"SNP\", \"CHR\", \"B.f\", \"B.m\", \"SE.f\", \"SE.m\", \"P.f\", \"P.m\")\n",
    "    comb.df <- cbind(full.df, posterior.df %>% dplyr::select(p1, p2, p3, p4, category))\n",
    "    non.null.snps <- comb.df %>% dplyr::filter(category %in% c(2,3,4))\n",
    "    write.table(non.null.snps, file=sprintf(\"../data/vary_priors_%s/sig_snps%s_.txt\", trait,trait), row.names=FALSE)\n",
    "     \n",
    "   \n",
    "}"
   ]
  },
  {
   "cell_type": "code",
   "execution_count": 48,
   "metadata": {},
   "outputs": [
    {
     "name": "stdout",
     "output_type": "stream",
     "text": [
      "[1] \"Extracting\"\n",
      "[1] \"afr\"\n",
      "[1] \"Posterior table generated\"\n",
      "\n",
      "     1      2      3      4 \n",
      "336143   1213     26      6 \n"
     ]
    }
   ],
   "source": [
    "extractDataM2(\"afr\")"
   ]
  },
  {
   "cell_type": "code",
   "execution_count": 49,
   "metadata": {},
   "outputs": [
    {
     "name": "stdout",
     "output_type": "stream",
     "text": [
      "[1] \"Extracting\"\n",
      "[1] \"tfr\"\n",
      "[1] \"Posterior table generated\"\n",
      "\n",
      "     1      2      4 \n",
      "334831   2323     58 \n",
      "[1] \"Extracting\"\n",
      "[1] \"lfr\"\n",
      "[1] \"Posterior table generated\"\n",
      "\n",
      "     1      2      4 \n",
      "335247   1692     48 \n",
      "[1] \"Extracting\"\n",
      "[1] \"whr\"\n",
      "[1] \"Posterior table generated\"\n",
      "\n",
      "     1      2      4 \n",
      "336232    749    181 \n"
     ]
    }
   ],
   "source": [
    "extractDataM2(\"tfr\")\n",
    "extractDataM2(\"lfr\")\n",
    "extractDataM2(\"whr\")"
   ]
  },
  {
   "cell_type": "code",
   "execution_count": null,
   "metadata": {},
   "outputs": [],
   "source": [
    "### grab the anthro tables"
   ]
  },
  {
   "cell_type": "code",
   "execution_count": 10,
   "metadata": {},
   "outputs": [
    {
     "data": {
      "text/html": [
       "<table>\n",
       "<caption>A data.frame: 6 × 14</caption>\n",
       "<thead>\n",
       "\t<tr><th></th><th scope=col>ID</th><th scope=col>CHR</th><th scope=col>B.f</th><th scope=col>B.m</th><th scope=col>SE.f</th><th scope=col>SE.m</th><th scope=col>P.f</th><th scope=col>P.m</th><th scope=col>p0</th><th scope=col>p1</th><th scope=col>p2</th><th scope=col>p3</th><th scope=col>category</th><th scope=col>trait</th></tr>\n",
       "\t<tr><th></th><th scope=col>&lt;chr&gt;</th><th scope=col>&lt;chr&gt;</th><th scope=col>&lt;dbl&gt;</th><th scope=col>&lt;dbl&gt;</th><th scope=col>&lt;dbl&gt;</th><th scope=col>&lt;dbl&gt;</th><th scope=col>&lt;dbl&gt;</th><th scope=col>&lt;dbl&gt;</th><th scope=col>&lt;dbl&gt;</th><th scope=col>&lt;dbl&gt;</th><th scope=col>&lt;dbl&gt;</th><th scope=col>&lt;dbl&gt;</th><th scope=col>&lt;dbl&gt;</th><th scope=col>&lt;chr&gt;</th></tr>\n",
       "</thead>\n",
       "<tbody>\n",
       "\t<tr><th scope=row>1</th><td>rs28371904</td><td>XY</td><td>-0.0134932</td><td>-0.00596736</td><td>1.314548e-05</td><td>1.379506e-05</td><td>1.98053e-04</td><td>0.108134</td><td>0.335816673</td><td>0.6641734</td><td>3.132395e-06</td><td>6.840757e-06</td><td>1</td><td>afr</td></tr>\n",
       "\t<tr><th scope=row>2</th><td>rs35507574</td><td>XY</td><td> 0.0169679</td><td> 0.00397582</td><td>1.239315e-05</td><td>1.313707e-05</td><td>1.43763e-06</td><td>0.272675</td><td>0.005047195</td><td>0.9949475</td><td>2.307227e-08</td><td>5.324308e-06</td><td>1</td><td>afr</td></tr>\n",
       "\t<tr><th scope=row>3</th><td>rs28664665</td><td>XY</td><td>-0.0124587</td><td>-0.00348781</td><td>1.230585e-05</td><td>1.302394e-05</td><td>3.83091e-04</td><td>0.333818</td><td>0.488465154</td><td>0.5115307</td><td>1.943388e-06</td><td>2.212688e-06</td><td>1</td><td>afr</td></tr>\n",
       "\t<tr><th scope=row>4</th><td>rs73187767</td><td>X </td><td> 0.0325769</td><td>-0.00612428</td><td>7.088748e-05</td><td>3.710077e-05</td><td>1.09218e-04</td><td>0.314678</td><td>0.168662573</td><td>0.8313259</td><td>1.176173e-06</td><td>1.038357e-05</td><td>1</td><td>afr</td></tr>\n",
       "\t<tr><th scope=row>5</th><td>rs5990957 </td><td>X </td><td> 0.0284206</td><td>-0.00123271</td><td>4.894639e-05</td><td>2.561909e-05</td><td>4.86114e-05</td><td>0.807584</td><td>0.090200175</td><td>0.9097944</td><td>3.250042e-07</td><td>5.134823e-06</td><td>1</td><td>afr</td></tr>\n",
       "\t<tr><th scope=row>6</th><td>rs3932236 </td><td>X </td><td> 0.0326587</td><td> 0.00344282</td><td>7.151425e-05</td><td>3.791148e-05</td><td>1.12542e-04</td><td>0.576060</td><td>0.172436175</td><td>0.8275556</td><td>8.576102e-07</td><td>7.390837e-06</td><td>1</td><td>afr</td></tr>\n",
       "</tbody>\n",
       "</table>\n"
      ],
      "text/latex": [
       "A data.frame: 6 × 14\n",
       "\\begin{tabular}{r|llllllllllllll}\n",
       "  & ID & CHR & B.f & B.m & SE.f & SE.m & P.f & P.m & p0 & p1 & p2 & p3 & category & trait\\\\\n",
       "  & <chr> & <chr> & <dbl> & <dbl> & <dbl> & <dbl> & <dbl> & <dbl> & <dbl> & <dbl> & <dbl> & <dbl> & <dbl> & <chr>\\\\\n",
       "\\hline\n",
       "\t1 & rs28371904 & XY & -0.0134932 & -0.00596736 & 1.314548e-05 & 1.379506e-05 & 1.98053e-04 & 0.108134 & 0.335816673 & 0.6641734 & 3.132395e-06 & 6.840757e-06 & 1 & afr\\\\\n",
       "\t2 & rs35507574 & XY &  0.0169679 &  0.00397582 & 1.239315e-05 & 1.313707e-05 & 1.43763e-06 & 0.272675 & 0.005047195 & 0.9949475 & 2.307227e-08 & 5.324308e-06 & 1 & afr\\\\\n",
       "\t3 & rs28664665 & XY & -0.0124587 & -0.00348781 & 1.230585e-05 & 1.302394e-05 & 3.83091e-04 & 0.333818 & 0.488465154 & 0.5115307 & 1.943388e-06 & 2.212688e-06 & 1 & afr\\\\\n",
       "\t4 & rs73187767 & X  &  0.0325769 & -0.00612428 & 7.088748e-05 & 3.710077e-05 & 1.09218e-04 & 0.314678 & 0.168662573 & 0.8313259 & 1.176173e-06 & 1.038357e-05 & 1 & afr\\\\\n",
       "\t5 & rs5990957  & X  &  0.0284206 & -0.00123271 & 4.894639e-05 & 2.561909e-05 & 4.86114e-05 & 0.807584 & 0.090200175 & 0.9097944 & 3.250042e-07 & 5.134823e-06 & 1 & afr\\\\\n",
       "\t6 & rs3932236  & X  &  0.0326587 &  0.00344282 & 7.151425e-05 & 3.791148e-05 & 1.12542e-04 & 0.576060 & 0.172436175 & 0.8275556 & 8.576102e-07 & 7.390837e-06 & 1 & afr\\\\\n",
       "\\end{tabular}\n"
      ],
      "text/markdown": [
       "\n",
       "A data.frame: 6 × 14\n",
       "\n",
       "| <!--/--> | ID &lt;chr&gt; | CHR &lt;chr&gt; | B.f &lt;dbl&gt; | B.m &lt;dbl&gt; | SE.f &lt;dbl&gt; | SE.m &lt;dbl&gt; | P.f &lt;dbl&gt; | P.m &lt;dbl&gt; | p0 &lt;dbl&gt; | p1 &lt;dbl&gt; | p2 &lt;dbl&gt; | p3 &lt;dbl&gt; | category &lt;dbl&gt; | trait &lt;chr&gt; |\n",
       "|---|---|---|---|---|---|---|---|---|---|---|---|---|---|---|\n",
       "| 1 | rs28371904 | XY | -0.0134932 | -0.00596736 | 1.314548e-05 | 1.379506e-05 | 1.98053e-04 | 0.108134 | 0.335816673 | 0.6641734 | 3.132395e-06 | 6.840757e-06 | 1 | afr |\n",
       "| 2 | rs35507574 | XY |  0.0169679 |  0.00397582 | 1.239315e-05 | 1.313707e-05 | 1.43763e-06 | 0.272675 | 0.005047195 | 0.9949475 | 2.307227e-08 | 5.324308e-06 | 1 | afr |\n",
       "| 3 | rs28664665 | XY | -0.0124587 | -0.00348781 | 1.230585e-05 | 1.302394e-05 | 3.83091e-04 | 0.333818 | 0.488465154 | 0.5115307 | 1.943388e-06 | 2.212688e-06 | 1 | afr |\n",
       "| 4 | rs73187767 | X  |  0.0325769 | -0.00612428 | 7.088748e-05 | 3.710077e-05 | 1.09218e-04 | 0.314678 | 0.168662573 | 0.8313259 | 1.176173e-06 | 1.038357e-05 | 1 | afr |\n",
       "| 5 | rs5990957  | X  |  0.0284206 | -0.00123271 | 4.894639e-05 | 2.561909e-05 | 4.86114e-05 | 0.807584 | 0.090200175 | 0.9097944 | 3.250042e-07 | 5.134823e-06 | 1 | afr |\n",
       "| 6 | rs3932236  | X  |  0.0326587 |  0.00344282 | 7.151425e-05 | 3.791148e-05 | 1.12542e-04 | 0.576060 | 0.172436175 | 0.8275556 | 8.576102e-07 | 7.390837e-06 | 1 | afr |\n",
       "\n"
      ],
      "text/plain": [
       "  ID         CHR B.f        B.m         SE.f         SE.m         P.f        \n",
       "1 rs28371904 XY  -0.0134932 -0.00596736 1.314548e-05 1.379506e-05 1.98053e-04\n",
       "2 rs35507574 XY   0.0169679  0.00397582 1.239315e-05 1.313707e-05 1.43763e-06\n",
       "3 rs28664665 XY  -0.0124587 -0.00348781 1.230585e-05 1.302394e-05 3.83091e-04\n",
       "4 rs73187767 X    0.0325769 -0.00612428 7.088748e-05 3.710077e-05 1.09218e-04\n",
       "5 rs5990957  X    0.0284206 -0.00123271 4.894639e-05 2.561909e-05 4.86114e-05\n",
       "6 rs3932236  X    0.0326587  0.00344282 7.151425e-05 3.791148e-05 1.12542e-04\n",
       "  P.m      p0          p1        p2           p3           category trait\n",
       "1 0.108134 0.335816673 0.6641734 3.132395e-06 6.840757e-06 1        afr  \n",
       "2 0.272675 0.005047195 0.9949475 2.307227e-08 5.324308e-06 1        afr  \n",
       "3 0.333818 0.488465154 0.5115307 1.943388e-06 2.212688e-06 1        afr  \n",
       "4 0.314678 0.168662573 0.8313259 1.176173e-06 1.038357e-05 1        afr  \n",
       "5 0.807584 0.090200175 0.9097944 3.250042e-07 5.134823e-06 1        afr  \n",
       "6 0.576060 0.172436175 0.8275556 8.576102e-07 7.390837e-06 1        afr  "
      ]
     },
     "metadata": {},
     "output_type": "display_data"
    }
   ],
   "source": [
    "loadM2TabAnthro <- function(trait){\n",
    "    df <- read.table(sprintf(\"../data/vary_priors_%s/sig_snps%s_.txt\", trait, trait), sep=\" \", header=TRUE); \n",
    "    df %>% \n",
    "        rename(ID=SNP, p0=p1, p1=p2, p2=p3, p3=p4) %>%\n",
    "        mutate(category=category-1) %>%\n",
    "        mutate(trait=trait)\n",
    "}\n"
   ]
  },
  {
   "cell_type": "code",
   "execution_count": 12,
   "metadata": {},
   "outputs": [],
   "source": [
    "m2_tab_anthro <- do.call(rbind, lapply(anthro_traits, loadM2TabAnthro))\n",
    "\n",
    "m2_anthro <- m2_tab_anthro %>% left_join(variant_tab, by=c(\"ID\")) %>%\n",
    "dplyr::select(trait, ID, CHR, POS,REF,ALT,GENE,MAF,B.f,B.m,SE.f,SE.m,P.f,P.m,p0,p1,p2,p3,category,Consequence,HGVSp)\n"
   ]
  },
  {
   "cell_type": "code",
   "execution_count": 14,
   "metadata": {},
   "outputs": [],
   "source": [
    "m2_anthro2 <- m2_anthro %>% \n",
    "    mutate(POS=as.character(POS)) %>% \n",
    "    mutate_if(is.numeric, ~signif(., digits=4)) %>%\n",
    "    mutate(trait=case_when(\n",
    "        trait==\"afr\" ~ \"arm fat ratio\",\n",
    "        trait==\"tfr\" ~ \"trunk fat ratio\" ,\n",
    "        trait==\"lfr\" ~ \"leg fat ratio\",\n",
    "        TRUE ~ trait))  %>%    \n",
    "    arrange(trait, CHR, POS)"
   ]
  },
  {
   "cell_type": "code",
   "execution_count": 15,
   "metadata": {},
   "outputs": [],
   "source": [
    "m2_anthro2 %>% write_csv(\"../data/outfiles/m2_anthro_snps.csv\")"
   ]
  },
  {
   "cell_type": "markdown",
   "metadata": {},
   "source": [
    "### CALCULATE THE FDR"
   ]
  },
  {
   "cell_type": "code",
   "execution_count": 16,
   "metadata": {},
   "outputs": [
    {
     "data": {
      "text/html": [
       "<table>\n",
       "<caption>A data.frame: 6 × 21</caption>\n",
       "<thead>\n",
       "\t<tr><th></th><th scope=col>trait</th><th scope=col>ID</th><th scope=col>CHR</th><th scope=col>POS</th><th scope=col>REF</th><th scope=col>ALT</th><th scope=col>GENE</th><th scope=col>MAF</th><th scope=col>B.f</th><th scope=col>B.m</th><th scope=col>⋯</th><th scope=col>SE.m</th><th scope=col>P.f</th><th scope=col>P.m</th><th scope=col>p0</th><th scope=col>p1</th><th scope=col>p2</th><th scope=col>p3</th><th scope=col>category</th><th scope=col>Consequence</th><th scope=col>HGVSp</th></tr>\n",
       "\t<tr><th></th><th scope=col>&lt;chr&gt;</th><th scope=col>&lt;chr&gt;</th><th scope=col>&lt;chr&gt;</th><th scope=col>&lt;chr&gt;</th><th scope=col>&lt;chr&gt;</th><th scope=col>&lt;chr&gt;</th><th scope=col>&lt;chr&gt;</th><th scope=col>&lt;dbl&gt;</th><th scope=col>&lt;dbl&gt;</th><th scope=col>&lt;dbl&gt;</th><th scope=col>⋯</th><th scope=col>&lt;dbl&gt;</th><th scope=col>&lt;dbl&gt;</th><th scope=col>&lt;dbl&gt;</th><th scope=col>&lt;dbl&gt;</th><th scope=col>&lt;dbl&gt;</th><th scope=col>&lt;dbl&gt;</th><th scope=col>&lt;dbl&gt;</th><th scope=col>&lt;dbl&gt;</th><th scope=col>&lt;chr&gt;</th><th scope=col>&lt;chr&gt;</th></tr>\n",
       "</thead>\n",
       "<tbody>\n",
       "\t<tr><th scope=row>1</th><td>arm fat ratio</td><td>rs10881467  </td><td>1</td><td>107990347</td><td>A</td><td>G</td><td>NTNG1 </td><td>0.29680</td><td>-0.01934</td><td>-0.0053190</td><td>⋯</td><td>1.424e-05</td><td>1.269e-07</td><td>0.158700</td><td>0.0004921</td><td>0.9995</td><td>3.464e-09</td><td>8.645e-06</td><td>1</td><td>intron_variant           </td><td>                                                         </td></tr>\n",
       "\t<tr><th scope=row>2</th><td>arm fat ratio</td><td>Affx-4028723</td><td>1</td><td>10838556 </td><td>C</td><td>A</td><td>CASZ1 </td><td>0.05408</td><td> 0.02901</td><td> 0.0212500</td><td>⋯</td><td>5.787e-05</td><td>9.163e-05</td><td>0.005214</td><td>0.1479000</td><td>0.8517</td><td>3.822e-05</td><td>3.525e-04</td><td>1</td><td>intron_variant           </td><td>                                                         </td></tr>\n",
       "\t<tr><th scope=row>3</th><td>arm fat ratio</td><td>rs78852738  </td><td>1</td><td>109800086</td><td>A</td><td>C</td><td>CELSR2</td><td>0.02944</td><td>-0.03380</td><td>-0.0159900</td><td>⋯</td><td>1.049e-04</td><td>6.245e-04</td><td>0.118300</td><td>0.4799000</td><td>0.5201</td><td>1.145e-05</td><td>2.316e-05</td><td>1</td><td>intron_variant           </td><td>                                                         </td></tr>\n",
       "\t<tr><th scope=row>4</th><td>arm fat ratio</td><td>rs66683180  </td><td>1</td><td>110673169</td><td>G</td><td>T</td><td>      </td><td>0.05255</td><td>-0.02655</td><td>-0.0154600</td><td>⋯</td><td>5.874e-05</td><td>4.446e-04</td><td>0.043660</td><td>0.4110000</td><td>0.5889</td><td>1.660e-05</td><td>3.536e-05</td><td>1</td><td>regulatory_region_variant</td><td>                                                         </td></tr>\n",
       "\t<tr><th scope=row>5</th><td>arm fat ratio</td><td>rs15396     </td><td>1</td><td>111891170</td><td>A</td><td>C</td><td>PIFO  </td><td>0.07520</td><td> 0.02644</td><td> 0.0002925</td><td>⋯</td><td>4.215e-05</td><td>3.297e-05</td><td>0.964100</td><td>0.0662700</td><td>0.9337</td><td>2.976e-07</td><td>6.190e-06</td><td>1</td><td>missense_variant         </td><td>ENSP00000358752.4:p.Lys64Asn,ENSP00000358753.4:p.Lys97Asn</td></tr>\n",
       "\t<tr><th scope=row>6</th><td>arm fat ratio</td><td>rs116062834 </td><td>1</td><td>112054063</td><td>C</td><td>T</td><td>TMIGD3</td><td>0.01668</td><td>-0.04897</td><td> 0.0104100</td><td>⋯</td><td>1.773e-04</td><td>2.068e-04</td><td>0.434300</td><td>0.3078000</td><td>0.6921</td><td>3.832e-06</td><td>2.884e-05</td><td>1</td><td>intron_variant           </td><td>                                                         </td></tr>\n",
       "</tbody>\n",
       "</table>\n"
      ],
      "text/latex": [
       "A data.frame: 6 × 21\n",
       "\\begin{tabular}{r|lllllllllllllllllllll}\n",
       "  & trait & ID & CHR & POS & REF & ALT & GENE & MAF & B.f & B.m & ⋯ & SE.m & P.f & P.m & p0 & p1 & p2 & p3 & category & Consequence & HGVSp\\\\\n",
       "  & <chr> & <chr> & <chr> & <chr> & <chr> & <chr> & <chr> & <dbl> & <dbl> & <dbl> & ⋯ & <dbl> & <dbl> & <dbl> & <dbl> & <dbl> & <dbl> & <dbl> & <dbl> & <chr> & <chr>\\\\\n",
       "\\hline\n",
       "\t1 & arm fat ratio & rs10881467   & 1 & 107990347 & A & G & NTNG1  & 0.29680 & -0.01934 & -0.0053190 & ⋯ & 1.424e-05 & 1.269e-07 & 0.158700 & 0.0004921 & 0.9995 & 3.464e-09 & 8.645e-06 & 1 & intron\\_variant            &                                                          \\\\\n",
       "\t2 & arm fat ratio & Affx-4028723 & 1 & 10838556  & C & A & CASZ1  & 0.05408 &  0.02901 &  0.0212500 & ⋯ & 5.787e-05 & 9.163e-05 & 0.005214 & 0.1479000 & 0.8517 & 3.822e-05 & 3.525e-04 & 1 & intron\\_variant            &                                                          \\\\\n",
       "\t3 & arm fat ratio & rs78852738   & 1 & 109800086 & A & C & CELSR2 & 0.02944 & -0.03380 & -0.0159900 & ⋯ & 1.049e-04 & 6.245e-04 & 0.118300 & 0.4799000 & 0.5201 & 1.145e-05 & 2.316e-05 & 1 & intron\\_variant            &                                                          \\\\\n",
       "\t4 & arm fat ratio & rs66683180   & 1 & 110673169 & G & T &        & 0.05255 & -0.02655 & -0.0154600 & ⋯ & 5.874e-05 & 4.446e-04 & 0.043660 & 0.4110000 & 0.5889 & 1.660e-05 & 3.536e-05 & 1 & regulatory\\_region\\_variant &                                                          \\\\\n",
       "\t5 & arm fat ratio & rs15396      & 1 & 111891170 & A & C & PIFO   & 0.07520 &  0.02644 &  0.0002925 & ⋯ & 4.215e-05 & 3.297e-05 & 0.964100 & 0.0662700 & 0.9337 & 2.976e-07 & 6.190e-06 & 1 & missense\\_variant          & ENSP00000358752.4:p.Lys64Asn,ENSP00000358753.4:p.Lys97Asn\\\\\n",
       "\t6 & arm fat ratio & rs116062834  & 1 & 112054063 & C & T & TMIGD3 & 0.01668 & -0.04897 &  0.0104100 & ⋯ & 1.773e-04 & 2.068e-04 & 0.434300 & 0.3078000 & 0.6921 & 3.832e-06 & 2.884e-05 & 1 & intron\\_variant            &                                                          \\\\\n",
       "\\end{tabular}\n"
      ],
      "text/markdown": [
       "\n",
       "A data.frame: 6 × 21\n",
       "\n",
       "| <!--/--> | trait &lt;chr&gt; | ID &lt;chr&gt; | CHR &lt;chr&gt; | POS &lt;chr&gt; | REF &lt;chr&gt; | ALT &lt;chr&gt; | GENE &lt;chr&gt; | MAF &lt;dbl&gt; | B.f &lt;dbl&gt; | B.m &lt;dbl&gt; | ⋯ ⋯ | SE.m &lt;dbl&gt; | P.f &lt;dbl&gt; | P.m &lt;dbl&gt; | p0 &lt;dbl&gt; | p1 &lt;dbl&gt; | p2 &lt;dbl&gt; | p3 &lt;dbl&gt; | category &lt;dbl&gt; | Consequence &lt;chr&gt; | HGVSp &lt;chr&gt; |\n",
       "|---|---|---|---|---|---|---|---|---|---|---|---|---|---|---|---|---|---|---|---|---|---|\n",
       "| 1 | arm fat ratio | rs10881467   | 1 | 107990347 | A | G | NTNG1  | 0.29680 | -0.01934 | -0.0053190 | ⋯ | 1.424e-05 | 1.269e-07 | 0.158700 | 0.0004921 | 0.9995 | 3.464e-09 | 8.645e-06 | 1 | intron_variant            | <!----> |\n",
       "| 2 | arm fat ratio | Affx-4028723 | 1 | 10838556  | C | A | CASZ1  | 0.05408 |  0.02901 |  0.0212500 | ⋯ | 5.787e-05 | 9.163e-05 | 0.005214 | 0.1479000 | 0.8517 | 3.822e-05 | 3.525e-04 | 1 | intron_variant            | <!----> |\n",
       "| 3 | arm fat ratio | rs78852738   | 1 | 109800086 | A | C | CELSR2 | 0.02944 | -0.03380 | -0.0159900 | ⋯ | 1.049e-04 | 6.245e-04 | 0.118300 | 0.4799000 | 0.5201 | 1.145e-05 | 2.316e-05 | 1 | intron_variant            | <!----> |\n",
       "| 4 | arm fat ratio | rs66683180   | 1 | 110673169 | G | T | <!----> | 0.05255 | -0.02655 | -0.0154600 | ⋯ | 5.874e-05 | 4.446e-04 | 0.043660 | 0.4110000 | 0.5889 | 1.660e-05 | 3.536e-05 | 1 | regulatory_region_variant | <!----> |\n",
       "| 5 | arm fat ratio | rs15396      | 1 | 111891170 | A | C | PIFO   | 0.07520 |  0.02644 |  0.0002925 | ⋯ | 4.215e-05 | 3.297e-05 | 0.964100 | 0.0662700 | 0.9337 | 2.976e-07 | 6.190e-06 | 1 | missense_variant          | ENSP00000358752.4:p.Lys64Asn,ENSP00000358753.4:p.Lys97Asn |\n",
       "| 6 | arm fat ratio | rs116062834  | 1 | 112054063 | C | T | TMIGD3 | 0.01668 | -0.04897 |  0.0104100 | ⋯ | 1.773e-04 | 2.068e-04 | 0.434300 | 0.3078000 | 0.6921 | 3.832e-06 | 2.884e-05 | 1 | intron_variant            | <!----> |\n",
       "\n"
      ],
      "text/plain": [
       "  trait         ID           CHR POS       REF ALT GENE   MAF     B.f     \n",
       "1 arm fat ratio rs10881467   1   107990347 A   G   NTNG1  0.29680 -0.01934\n",
       "2 arm fat ratio Affx-4028723 1   10838556  C   A   CASZ1  0.05408  0.02901\n",
       "3 arm fat ratio rs78852738   1   109800086 A   C   CELSR2 0.02944 -0.03380\n",
       "4 arm fat ratio rs66683180   1   110673169 G   T          0.05255 -0.02655\n",
       "5 arm fat ratio rs15396      1   111891170 A   C   PIFO   0.07520  0.02644\n",
       "6 arm fat ratio rs116062834  1   112054063 C   T   TMIGD3 0.01668 -0.04897\n",
       "  B.m        ⋯ SE.m      P.f       P.m      p0        p1     p2       \n",
       "1 -0.0053190 ⋯ 1.424e-05 1.269e-07 0.158700 0.0004921 0.9995 3.464e-09\n",
       "2  0.0212500 ⋯ 5.787e-05 9.163e-05 0.005214 0.1479000 0.8517 3.822e-05\n",
       "3 -0.0159900 ⋯ 1.049e-04 6.245e-04 0.118300 0.4799000 0.5201 1.145e-05\n",
       "4 -0.0154600 ⋯ 5.874e-05 4.446e-04 0.043660 0.4110000 0.5889 1.660e-05\n",
       "5  0.0002925 ⋯ 4.215e-05 3.297e-05 0.964100 0.0662700 0.9337 2.976e-07\n",
       "6  0.0104100 ⋯ 1.773e-04 2.068e-04 0.434300 0.3078000 0.6921 3.832e-06\n",
       "  p3        category Consequence              \n",
       "1 8.645e-06 1        intron_variant           \n",
       "2 3.525e-04 1        intron_variant           \n",
       "3 2.316e-05 1        intron_variant           \n",
       "4 3.536e-05 1        regulatory_region_variant\n",
       "5 6.190e-06 1        missense_variant         \n",
       "6 2.884e-05 1        intron_variant           \n",
       "  HGVSp                                                    \n",
       "1                                                          \n",
       "2                                                          \n",
       "3                                                          \n",
       "4                                                          \n",
       "5 ENSP00000358752.4:p.Lys64Asn,ENSP00000358753.4:p.Lys97Asn\n",
       "6                                                          "
      ]
     },
     "metadata": {},
     "output_type": "display_data"
    }
   ],
   "source": [
    "head(m2_anthro2)"
   ]
  },
  {
   "cell_type": "code",
   "execution_count": 17,
   "metadata": {},
   "outputs": [],
   "source": [
    "\n",
    "#snps <- do.call(rbind, lapply(m2_biomarkers, function(trait) \n",
    "#    read_csv(sprintf(\"../data/res_1024/m2/snp_table_%s.txt\", trait)) %>% mutate(trait=trait)))\n",
    "#cutoff <- 0.8\n",
    "calcFDRM2 <- function(snps, trait.name, cutoff){\n",
    "\n",
    "    f_t <- snps %>% filter(trait==trait.name & p1 > cutoff) \n",
    "    m_t <- snps %>% filter(trait==trait.name & p2 > cutoff) \n",
    "    s_t <- snps %>% filter(trait==trait.name & p3 > cutoff)\n",
    "    \n",
    "    f_fdr <- ifelse(length(f_t$p0) > 5, sum(f_t$p0)/(length(f_t$p1)), NA)\n",
    "    m_fdr <- ifelse(length(m_t$p0) > 5, sum(m_t$p0)/(length(m_t$p2)), NA)\n",
    "    s_fdr <- ifelse(length(s_t$p0) > 5, sum(s_t$p0)/(length(s_t$p3)), NA)\n",
    "\n",
    "    return(data.frame(list(\"trait\"=trait.name, \"cutoff\"=cutoff, \"f\"=f_fdr, \"m\"=m_fdr, \"s\"=s_fdr)))\n",
    "}\n",
    "\n",
    "fdr_tabs <- do.call(rbind, lapply(m2_biomarkers, function(trait) \n",
    "                   do.call(rbind, lapply(seq(0.5, 0.9, 0.1), \n",
    "                                        function(cutoff) calcFDRM2(trait, cutoff)))))\n",
    "#fdr_tabs %>% write_csv(\"../data/res_1024/m2_fdr.csv\")\n",
    "#fat_dist <- c(\"arm_fp\", \"leg_fp\", \"whr\", \"trunk_fp\")\n",
    "#fdr_tabs %>% filter(!trait %in% fat_dist) %>% write_csv(\"../data/res_1024/m2_fdr_biomarker.csv\")\n",
    "#fdr_tabs %>% filter(trait %in% fat_dist) %>% write_csv(\"../data/res_1024/m2_fdr_counts.csv\")                      "
   ]
  },
  {
   "cell_type": "code",
   "execution_count": 22,
   "metadata": {},
   "outputs": [],
   "source": [
    "list_traits <- unique(m2_anthro2$trait)\n",
    "\n",
    "fdr_tabs_anthro <- do.call(rbind, lapply(list_traits, function(trait) \n",
    "                   do.call(rbind, lapply(seq(0.5, 0.9, 0.1), \n",
    "                                        function(cutoff) calcFDRM2(m2_anthro2, trait, cutoff)))))\n"
   ]
  },
  {
   "cell_type": "code",
   "execution_count": 25,
   "metadata": {},
   "outputs": [],
   "source": [
    "fdr_tabs_anthro %>% mutate_if(is.numeric, ~signif(., digits=4)) %>% write_csv(\"../data/outfiles/anthro_fdr.csv\")"
   ]
  },
  {
   "cell_type": "code",
   "execution_count": 27,
   "metadata": {},
   "outputs": [],
   "source": [
    "\n",
    "fdr_tabs_bio <- do.call(rbind, lapply(unique(m2_bio_a2$trait), function(trait) \n",
    "                   do.call(rbind, lapply(seq(0.5, 0.9, 0.1), \n",
    "                                        function(cutoff) calcFDRM2(m2_bio_a2, trait, cutoff)))))\n"
   ]
  },
  {
   "cell_type": "code",
   "execution_count": 29,
   "metadata": {},
   "outputs": [],
   "source": [
    "fdr_tabs_bio %>% mutate_if(is.numeric, ~signif(., digits=4)) %>% write_csv(\"../data/outfiles/bio_fdr.csv\")"
   ]
  },
  {
   "cell_type": "code",
   "execution_count": null,
   "metadata": {},
   "outputs": [],
   "source": [
    "ggplot(rbind())"
   ]
  },
  {
   "cell_type": "code",
   "execution_count": null,
   "metadata": {},
   "outputs": [],
   "source": [
    "### REDO the M2 tables so true output"
   ]
  }
 ],
 "metadata": {
  "kernelspec": {
   "display_name": "R",
   "language": "R",
   "name": "ir"
  },
  "language_info": {
   "codemirror_mode": "r",
   "file_extension": ".r",
   "mimetype": "text/x-r-source",
   "name": "R",
   "pygments_lexer": "r",
   "version": "3.5.1"
  }
 },
 "nbformat": 4,
 "nbformat_minor": 2
}
