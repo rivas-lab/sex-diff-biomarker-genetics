{
 "cells": [
  {
   "cell_type": "code",
   "execution_count": 1,
   "metadata": {},
   "outputs": [
    {
     "name": "stderr",
     "output_type": "stream",
     "text": [
      "Loading required package: MASS\n",
      "Loading required package: Matrix\n",
      "Loading required package: mnormt\n",
      "Loading required package: qqman\n",
      "\n",
      "For example usage please run: vignette('qqman')\n",
      "\n",
      "Citation appreciated but not required:\n",
      "Turner, S.D. qqman: an R package for visualizing GWAS results using Q-Q and manhattan plots. biorXiv DOI: 10.1101/005165 (2014).\n",
      "\n",
      "Loading required package: rstan\n",
      "Loading required package: ggplot2\n",
      "Loading required package: StanHeaders\n",
      "rstan (Version 2.17.3, GitRev: 2e1f913d3ca3)\n",
      "For execution on a local, multicore CPU with excess RAM we recommend calling\n",
      "options(mc.cores = parallel::detectCores()).\n",
      "To avoid recompilation of unchanged Stan programs, we recommend calling\n",
      "rstan_options(auto_write = TRUE)\n"
     ]
    }
   ],
   "source": [
    "source('model_utils.R')\n",
    "source('heritability_utils.R')\n",
    "source('snp_utils.R')\n",
    "DATA.FOLDER <- \"/scratch/PI/mrivas/users/erflynn/sex_div_gwas/data/\""
   ]
  },
  {
   "cell_type": "code",
   "execution_count": 2,
   "metadata": {
    "collapsed": true
   },
   "outputs": [],
   "source": [
    "trait <- 'whr'\n",
    "load(file=sprintf(\"%s/m2/dat_%s.RData\", DATA.FOLDER, trait))\n",
    "load(file=sprintf(\"%s/m2/f_m2_%s.RData\", DATA.FOLDER, trait))"
   ]
  },
  {
   "cell_type": "code",
   "execution_count": 3,
   "metadata": {
    "collapsed": true
   },
   "outputs": [],
   "source": [
    "trait.type <- 'quant'\n",
    "maf.cutoff <- 0.01 \n",
    "se.cutoff <- 0.2\n",
    "chrs <- c(1:22)\n",
    "    "
   ]
  },
  {
   "cell_type": "code",
   "execution_count": 4,
   "metadata": {
    "collapsed": true
   },
   "outputs": [],
   "source": [
    "all.dat <- lapply(chrs, function(x){ getDataQuant(as.character(x), trait)})\n",
    "\n",
    "    # reformat data, remove rows that are not shared\n",
    "    dat.reform <- reformatData(all.dat, trait.type, maf.cutoff)\n",
    "    filt.f <- dat.reform$`1`\n",
    "    filt.m <- dat.reform$`2`\n",
    "\n",
    "    # filter by standard error\n",
    "    dat.filt <- filterSE(filt.f, filt.m, trait.type, cutoff=se.cutoff)\n",
    "    filt.f <- dat.filt$`1`\n",
    "    filt.m <- dat.filt$`2`"
   ]
  },
  {
   "cell_type": "code",
   "execution_count": 5,
   "metadata": {
    "collapsed": true
   },
   "outputs": [],
   "source": [
    "filt.f$CHR <- sapply(filt.f$CHR, as.numeric)\n",
    "filt.m$CHR <- sapply(filt.m$CHR, as.numeric)\n",
    "\n",
    "f.snps <- read.table(sprintf(\"%s/m2_v4/f_spec_snp_tab_%s.txt\", DATA.FOLDER, trait), header=TRUE)"
   ]
  },
  {
   "cell_type": "code",
   "execution_count": 26,
   "metadata": {},
   "outputs": [],
   "source": [
    "f.snps2 <- f.snps[f.snps$p_f < (5*(10**-8)),]\n",
    "my.chr <- unique(f.snps2$CHR)"
   ]
  },
  {
   "cell_type": "code",
   "execution_count": 28,
   "metadata": {},
   "outputs": [
    {
     "data": {
      "text/html": [
       "<table>\n",
       "<thead><tr><th></th><th scope=col>CHR</th><th scope=col>BP</th><th scope=col>SNP</th><th scope=col>REF</th><th scope=col>ALT1</th><th scope=col>TEST</th><th scope=col>OBS_CT</th><th scope=col>BETA</th><th scope=col>SE</th><th scope=col>T_STAT</th><th scope=col>P</th></tr></thead>\n",
       "<tbody>\n",
       "\t<tr><th scope=row>10</th><td>1          </td><td>768448     </td><td>rs12562034 </td><td>G          </td><td>A          </td><td>ADD        </td><td>180410     </td><td>-0.00157184</td><td>0.00535130 </td><td> 0.293730  </td><td>0.768964   </td></tr>\n",
       "\t<tr><th scope=row>12</th><td>1          </td><td>779322     </td><td>rs4040617  </td><td>A          </td><td>G          </td><td>ADD        </td><td>180229     </td><td> 0.00409998</td><td>0.00491052 </td><td>-0.834939  </td><td>0.403753   </td></tr>\n",
       "\t<tr><th scope=row>13</th><td>1          </td><td>801536     </td><td>rs79373928 </td><td>T          </td><td>G          </td><td>ADD        </td><td>180614     </td><td>-0.00870708</td><td>0.01361710 </td><td> 0.639420  </td><td>0.522550   </td></tr>\n",
       "\t<tr><th scope=row>21</th><td>1          </td><td>838555     </td><td>rs4970383  </td><td>C          </td><td>A          </td><td>ADD        </td><td>180361     </td><td>-0.00381964</td><td>0.00381039 </td><td> 1.002430  </td><td>0.316139   </td></tr>\n",
       "\t<tr><th scope=row>24</th><td>1          </td><td>849998     </td><td>rs13303222 </td><td>A          </td><td>G          </td><td>ADD        </td><td>180417     </td><td>-0.00349157</td><td>0.00428010 </td><td> 0.815769  </td><td>0.414634   </td></tr>\n",
       "\t<tr><th scope=row>26</th><td>1          </td><td>851390     </td><td>rs72631889 </td><td>G          </td><td>T          </td><td>ADD        </td><td>180363     </td><td>-0.01186050</td><td>0.00818110 </td><td> 1.449750  </td><td>0.147131   </td></tr>\n",
       "</tbody>\n",
       "</table>\n"
      ],
      "text/latex": [
       "\\begin{tabular}{r|lllllllllll}\n",
       "  & CHR & BP & SNP & REF & ALT1 & TEST & OBS\\_CT & BETA & SE & T\\_STAT & P\\\\\n",
       "\\hline\n",
       "\t10 & 1           & 768448      & rs12562034  & G           & A           & ADD         & 180410      & -0.00157184 & 0.00535130  &  0.293730   & 0.768964   \\\\\n",
       "\t12 & 1           & 779322      & rs4040617   & A           & G           & ADD         & 180229      &  0.00409998 & 0.00491052  & -0.834939   & 0.403753   \\\\\n",
       "\t13 & 1           & 801536      & rs79373928  & T           & G           & ADD         & 180614      & -0.00870708 & 0.01361710  &  0.639420   & 0.522550   \\\\\n",
       "\t21 & 1           & 838555      & rs4970383   & C           & A           & ADD         & 180361      & -0.00381964 & 0.00381039  &  1.002430   & 0.316139   \\\\\n",
       "\t24 & 1           & 849998      & rs13303222  & A           & G           & ADD         & 180417      & -0.00349157 & 0.00428010  &  0.815769   & 0.414634   \\\\\n",
       "\t26 & 1           & 851390      & rs72631889  & G           & T           & ADD         & 180363      & -0.01186050 & 0.00818110  &  1.449750   & 0.147131   \\\\\n",
       "\\end{tabular}\n"
      ],
      "text/markdown": [
       "\n",
       "| <!--/--> | CHR | BP | SNP | REF | ALT1 | TEST | OBS_CT | BETA | SE | T_STAT | P | \n",
       "|---|---|---|---|---|---|\n",
       "| 10 | 1           | 768448      | rs12562034  | G           | A           | ADD         | 180410      | -0.00157184 | 0.00535130  |  0.293730   | 0.768964    | \n",
       "| 12 | 1           | 779322      | rs4040617   | A           | G           | ADD         | 180229      |  0.00409998 | 0.00491052  | -0.834939   | 0.403753    | \n",
       "| 13 | 1           | 801536      | rs79373928  | T           | G           | ADD         | 180614      | -0.00870708 | 0.01361710  |  0.639420   | 0.522550    | \n",
       "| 21 | 1           | 838555      | rs4970383   | C           | A           | ADD         | 180361      | -0.00381964 | 0.00381039  |  1.002430   | 0.316139    | \n",
       "| 24 | 1           | 849998      | rs13303222  | A           | G           | ADD         | 180417      | -0.00349157 | 0.00428010  |  0.815769   | 0.414634    | \n",
       "| 26 | 1           | 851390      | rs72631889  | G           | T           | ADD         | 180363      | -0.01186050 | 0.00818110  |  1.449750   | 0.147131    | \n",
       "\n",
       "\n"
      ],
      "text/plain": [
       "   CHR BP     SNP        REF ALT1 TEST OBS_CT BETA        SE         T_STAT   \n",
       "10 1   768448 rs12562034 G   A    ADD  180410 -0.00157184 0.00535130  0.293730\n",
       "12 1   779322 rs4040617  A   G    ADD  180229  0.00409998 0.00491052 -0.834939\n",
       "13 1   801536 rs79373928 T   G    ADD  180614 -0.00870708 0.01361710  0.639420\n",
       "21 1   838555 rs4970383  C   A    ADD  180361 -0.00381964 0.00381039  1.002430\n",
       "24 1   849998 rs13303222 A   G    ADD  180417 -0.00349157 0.00428010  0.815769\n",
       "26 1   851390 rs72631889 G   T    ADD  180363 -0.01186050 0.00818110  1.449750\n",
       "   P       \n",
       "10 0.768964\n",
       "12 0.403753\n",
       "13 0.522550\n",
       "21 0.316139\n",
       "24 0.414634\n",
       "26 0.147131"
      ]
     },
     "metadata": {},
     "output_type": "display_data"
    }
   ],
   "source": [
    "head(filt.f)"
   ]
  },
  {
   "cell_type": "code",
   "execution_count": 34,
   "metadata": {},
   "outputs": [
    {
     "data": {
      "text/html": [
       "<strong>png:</strong> 2"
      ],
      "text/latex": [
       "\\textbf{png:} 2"
      ],
      "text/markdown": [
       "**png:** 2"
      ],
      "text/plain": [
       "png \n",
       "  2 "
      ]
     },
     "metadata": {},
     "output_type": "display_data"
    },
    {
     "data": {
      "image/png": "[encoded data removed]",
      "text/plain": [
       "plot without title"
      ]
     },
     "metadata": {},
     "output_type": "display_data"
    }
   ],
   "source": [
    "plot.new() \n",
    "pdf( \"whr_f.pdf\")\n",
    "manhattan(filt.f[filt.f$CHR %in% my.chr,], highlight=f.snps2$SNP, ylim=c(0, 30))\n",
    "dev.off()"
   ]
  },
  {
   "cell_type": "code",
   "execution_count": null,
   "metadata": {
    "collapsed": true
   },
   "outputs": [],
   "source": [
    "manhattan(filt.f, highlight=f.snps2, ylim=c(0, 30))\n",
    "manhattan(filt.m, highlight=f.snps2, ylim=c(0, 30))\n"
   ]
  },
  {
   "cell_type": "code",
   "execution_count": 33,
   "metadata": {},
   "outputs": [
    {
     "data": {
      "text/html": [
       "<strong>png:</strong> 2"
      ],
      "text/latex": [
       "\\textbf{png:} 2"
      ],
      "text/markdown": [
       "**png:** 2"
      ],
      "text/plain": [
       "png \n",
       "  2 "
      ]
     },
     "metadata": {},
     "output_type": "display_data"
    },
    {
     "data": {
      "image/png": "[encoded data removed]",
      "text/plain": [
       "plot without title"
      ]
     },
     "metadata": {},
     "output_type": "display_data"
    }
   ],
   "source": [
    "plot.new()\n",
    "pdf(\"whr_m.pdf\")\n",
    "manhattan(filt.m[filt.f$CHR %in% my.chr,], highlight=f.snps2$SNP, ylim=c(0,30))\n",
    "dev.off()"
   ]
  }
 ],
 "metadata": {
  "kernelspec": {
   "display_name": "R",
   "language": "R",
   "name": "ir"
  },
  "language_info": {
   "codemirror_mode": "r",
   "file_extension": ".r",
   "mimetype": "text/x-r-source",
   "name": "R",
   "pygments_lexer": "r",
   "version": "3.4.0"
  }
 },
 "nbformat": 4,
 "nbformat_minor": 2
}
