{
 "cells": [
  {
   "cell_type": "markdown",
   "metadata": {},
   "source": [
    "# Stratified Analyses\n",
    "## E Flynn\n",
    "## 6/6/2019\n",
    "\n",
    "Code for dividing phenotype data for stratified analyses.\n",
    "\n",
    "Divide into pre + post menopausal\n",
    "* remove: peri, surgical_meno, premature, likely_meno\n",
    "* remove: pregnant, HRT, pill, hormone-related medication\n"
   ]
  },
  {
   "cell_type": "code",
   "execution_count": 1,
   "metadata": {},
   "outputs": [
    {
     "name": "stderr",
     "output_type": "stream",
     "text": [
      "Loading required package: tidyverse\n",
      "── Attaching packages ─────────────────────────────────────── tidyverse 1.2.1 ──\n",
      "✔ ggplot2 2.2.1     ✔ purrr   0.2.4\n",
      "✔ tibble  1.4.2     ✔ dplyr   0.7.4\n",
      "✔ tidyr   0.8.1     ✔ stringr 1.3.0\n",
      "✔ readr   1.1.1     ✔ forcats 0.3.0\n",
      "── Conflicts ────────────────────────────────────────── tidyverse_conflicts() ──\n",
      "✖ dplyr::filter() masks stats::filter()\n",
      "✖ dplyr::lag()    masks stats::lag()\n",
      "Loading required package: data.table\n",
      "\n",
      "Attaching package: ‘data.table’\n",
      "\n",
      "The following objects are masked from ‘package:dplyr’:\n",
      "\n",
      "    between, first, last\n",
      "\n",
      "The following object is masked from ‘package:purrr’:\n",
      "\n",
      "    transpose\n",
      "\n"
     ]
    }
   ],
   "source": [
    "require('tidyverse')\n",
    "require('data.table')\n",
    "\n",
    "phase_meno <- fread(\"../data/phase_meno_qc.txt\", header=TRUE, data.table=FALSE)\n",
    "hormone_drug <- fread(\"../data/id_to_hormone_drug.txt\", header=TRUE, data.table=FALSE)"
   ]
  },
  {
   "cell_type": "code",
   "execution_count": 5,
   "metadata": {},
   "outputs": [
    {
     "data": {
      "text/html": [
       "<table>\n",
       "<thead><tr><th scope=col>IID</th><th scope=col>sex</th><th scope=col>age_v0</th><th scope=col>visit</th><th scope=col>preg</th><th scope=col>pill</th><th scope=col>hrt</th><th scope=col>ooph</th><th scope=col>hyster</th><th scope=col>meno</th><th scope=col>⋯</th><th scope=col>surgical.meno</th><th scope=col>meno.label</th><th scope=col>period_today</th><th scope=col>irregular</th><th scope=col>cycle_length</th><th scope=col>outside_cycle</th><th scope=col>day_in_cycle</th><th scope=col>normalized_day_in_cycle</th><th scope=col>menstrual_phase</th><th scope=col>qc_fail</th></tr></thead>\n",
       "<tbody>\n",
       "\t<tr><td>2502845      </td><td>1            </td><td>50           </td><td>NA           </td><td>NA           </td><td>NA           </td><td>NA           </td><td>NA           </td><td>NA           </td><td>NA           </td><td>⋯            </td><td>NA           </td><td>male         </td><td>NA           </td><td>NA           </td><td>NA           </td><td>NA           </td><td>NA           </td><td>NA           </td><td>NA           </td><td>0            </td></tr>\n",
       "\t<tr><td>2314965      </td><td>0            </td><td>55           </td><td> 0           </td><td> 0           </td><td> 0           </td><td>NA           </td><td> 0           </td><td> 0           </td><td>NA           </td><td>⋯            </td><td> 0           </td><td>missing      </td><td> 0           </td><td>NA           </td><td>NA           </td><td>NA           </td><td>NA           </td><td>NA           </td><td>NA           </td><td>0            </td></tr>\n",
       "\t<tr><td>1142584      </td><td>0            </td><td>60           </td><td> 0           </td><td> 0           </td><td> 0           </td><td> 0           </td><td> 0           </td><td> 0           </td><td> 1           </td><td>⋯            </td><td> 0           </td><td>post         </td><td>NA           </td><td>NA           </td><td>NA           </td><td>NA           </td><td>NA           </td><td>NA           </td><td>NA           </td><td>0            </td></tr>\n",
       "\t<tr><td>3665122      </td><td>0            </td><td>74           </td><td> 0           </td><td> 0           </td><td>NA           </td><td> 0           </td><td> 0           </td><td> 1           </td><td> 1           </td><td>⋯            </td><td> 1           </td><td>surgical_meno</td><td>NA           </td><td>NA           </td><td>NA           </td><td>NA           </td><td>NA           </td><td>NA           </td><td>NA           </td><td>0            </td></tr>\n",
       "\t<tr><td>4377492      </td><td>0            </td><td>65           </td><td> 0           </td><td> 0           </td><td> 0           </td><td>NA           </td><td> 0           </td><td> 0           </td><td> 1           </td><td>⋯            </td><td> 0           </td><td>post         </td><td>NA           </td><td>NA           </td><td>NA           </td><td>NA           </td><td>NA           </td><td>NA           </td><td>NA           </td><td>0            </td></tr>\n",
       "\t<tr><td>2652670      </td><td>1            </td><td>58           </td><td>NA           </td><td>NA           </td><td>NA           </td><td>NA           </td><td>NA           </td><td>NA           </td><td>NA           </td><td>⋯            </td><td>NA           </td><td>male         </td><td>NA           </td><td>NA           </td><td>NA           </td><td>NA           </td><td>NA           </td><td>NA           </td><td>NA           </td><td>0            </td></tr>\n",
       "</tbody>\n",
       "</table>\n"
      ],
      "text/latex": [
       "\\begin{tabular}{r|lllllllllllllllllllllll}\n",
       " IID & sex & age\\_v0 & visit & preg & pill & hrt & ooph & hyster & meno & ⋯ & surgical.meno & meno.label & period\\_today & irregular & cycle\\_length & outside\\_cycle & day\\_in\\_cycle & normalized\\_day\\_in\\_cycle & menstrual\\_phase & qc\\_fail\\\\\n",
       "\\hline\n",
       "\t 2502845       & 1             & 50            & NA            & NA            & NA            & NA            & NA            & NA            & NA            & ⋯             & NA            & male          & NA            & NA            & NA            & NA            & NA            & NA            & NA            & 0            \\\\\n",
       "\t 2314965       & 0             & 55            &  0            &  0            &  0            & NA            &  0            &  0            & NA            & ⋯             &  0            & missing       &  0            & NA            & NA            & NA            & NA            & NA            & NA            & 0            \\\\\n",
       "\t 1142584       & 0             & 60            &  0            &  0            &  0            &  0            &  0            &  0            &  1            & ⋯             &  0            & post          & NA            & NA            & NA            & NA            & NA            & NA            & NA            & 0            \\\\\n",
       "\t 3665122         & 0               & 74              &  0              &  0              & NA              &  0              &  0              &  1              &  1              & ⋯               &  1              & surgical\\_meno & NA              & NA              & NA              & NA              & NA              & NA              & NA              & 0              \\\\\n",
       "\t 4377492       & 0             & 65            &  0            &  0            &  0            & NA            &  0            &  0            &  1            & ⋯             &  0            & post          & NA            & NA            & NA            & NA            & NA            & NA            & NA            & 0            \\\\\n",
       "\t 2652670       & 1             & 58            & NA            & NA            & NA            & NA            & NA            & NA            & NA            & ⋯             & NA            & male          & NA            & NA            & NA            & NA            & NA            & NA            & NA            & 0            \\\\\n",
       "\\end{tabular}\n"
      ],
      "text/markdown": [
       "\n",
       "IID | sex | age_v0 | visit | preg | pill | hrt | ooph | hyster | meno | ⋯ | surgical.meno | meno.label | period_today | irregular | cycle_length | outside_cycle | day_in_cycle | normalized_day_in_cycle | menstrual_phase | qc_fail | \n",
       "|---|---|---|---|---|---|\n",
       "| 2502845       | 1             | 50            | NA            | NA            | NA            | NA            | NA            | NA            | NA            | ⋯             | NA            | male          | NA            | NA            | NA            | NA            | NA            | NA            | NA            | 0             | \n",
       "| 2314965       | 0             | 55            |  0            |  0            |  0            | NA            |  0            |  0            | NA            | ⋯             |  0            | missing       |  0            | NA            | NA            | NA            | NA            | NA            | NA            | 0             | \n",
       "| 1142584       | 0             | 60            |  0            |  0            |  0            |  0            |  0            |  0            |  1            | ⋯             |  0            | post          | NA            | NA            | NA            | NA            | NA            | NA            | NA            | 0             | \n",
       "| 3665122       | 0             | 74            |  0            |  0            | NA            |  0            |  0            |  1            |  1            | ⋯             |  1            | surgical_meno | NA            | NA            | NA            | NA            | NA            | NA            | NA            | 0             | \n",
       "| 4377492       | 0             | 65            |  0            |  0            |  0            | NA            |  0            |  0            |  1            | ⋯             |  0            | post          | NA            | NA            | NA            | NA            | NA            | NA            | NA            | 0             | \n",
       "| 2652670       | 1             | 58            | NA            | NA            | NA            | NA            | NA            | NA            | NA            | ⋯             | NA            | male          | NA            | NA            | NA            | NA            | NA            | NA            | NA            | 0             | \n",
       "\n",
       "\n"
      ],
      "text/plain": [
       "  IID     sex age_v0 visit preg pill hrt ooph hyster meno ⋯ surgical.meno\n",
       "1 2502845 1   50     NA    NA   NA   NA  NA   NA     NA   ⋯ NA           \n",
       "2 2314965 0   55      0     0    0   NA   0    0     NA   ⋯  0           \n",
       "3 1142584 0   60      0     0    0    0   0    0      1   ⋯  0           \n",
       "4 3665122 0   74      0     0   NA    0   0    1      1   ⋯  1           \n",
       "5 4377492 0   65      0     0    0   NA   0    0      1   ⋯  0           \n",
       "6 2652670 1   58     NA    NA   NA   NA  NA   NA     NA   ⋯ NA           \n",
       "  meno.label    period_today irregular cycle_length outside_cycle day_in_cycle\n",
       "1 male          NA           NA        NA           NA            NA          \n",
       "2 missing        0           NA        NA           NA            NA          \n",
       "3 post          NA           NA        NA           NA            NA          \n",
       "4 surgical_meno NA           NA        NA           NA            NA          \n",
       "5 post          NA           NA        NA           NA            NA          \n",
       "6 male          NA           NA        NA           NA            NA          \n",
       "  normalized_day_in_cycle menstrual_phase qc_fail\n",
       "1 NA                      NA              0      \n",
       "2 NA                      NA              0      \n",
       "3 NA                      NA              0      \n",
       "4 NA                      NA              0      \n",
       "5 NA                      NA              0      \n",
       "6 NA                      NA              0      "
      ]
     },
     "metadata": {},
     "output_type": "display_data"
    },
    {
     "data": {
      "text/html": [
       "<ol class=list-inline>\n",
       "\t<li>5926</li>\n",
       "\t<li>26</li>\n",
       "</ol>\n"
      ],
      "text/latex": [
       "\\begin{enumerate*}\n",
       "\\item 5926\n",
       "\\item 26\n",
       "\\end{enumerate*}\n"
      ],
      "text/markdown": [
       "1. 5926\n",
       "2. 26\n",
       "\n",
       "\n"
      ],
      "text/plain": [
       "[1] 5926   26"
      ]
     },
     "metadata": {},
     "output_type": "display_data"
    }
   ],
   "source": [
    "head(phase_meno)\n",
    "dim(hormone_drug)\n",
    "phase_meno_no_drug <- filter(phase_meno, !IID %in% hormone_drug$IID)"
   ]
  },
  {
   "cell_type": "code",
   "execution_count": 12,
   "metadata": {},
   "outputs": [
    {
     "data": {
      "text/html": [
       "<ol class=list-inline>\n",
       "\t<li>566511</li>\n",
       "\t<li>23</li>\n",
       "</ol>\n"
      ],
      "text/latex": [
       "\\begin{enumerate*}\n",
       "\\item 566511\n",
       "\\item 23\n",
       "\\end{enumerate*}\n"
      ],
      "text/markdown": [
       "1. 566511\n",
       "2. 23\n",
       "\n",
       "\n"
      ],
      "text/plain": [
       "[1] 566511     23"
      ]
     },
     "metadata": {},
     "output_type": "display_data"
    },
    {
     "data": {
      "text/html": [
       "<ol class=list-inline>\n",
       "\t<li>328961</li>\n",
       "\t<li>23</li>\n",
       "</ol>\n"
      ],
      "text/latex": [
       "\\begin{enumerate*}\n",
       "\\item 328961\n",
       "\\item 23\n",
       "\\end{enumerate*}\n"
      ],
      "text/markdown": [
       "1. 328961\n",
       "2. 23\n",
       "\n",
       "\n"
      ],
      "text/plain": [
       "[1] 328961     23"
      ]
     },
     "metadata": {},
     "output_type": "display_data"
    },
    {
     "data": {
      "text/html": [
       "<ol class=list-inline>\n",
       "\t<li>296590</li>\n",
       "\t<li>23</li>\n",
       "</ol>\n"
      ],
      "text/latex": [
       "\\begin{enumerate*}\n",
       "\\item 296590\n",
       "\\item 23\n",
       "\\end{enumerate*}\n"
      ],
      "text/markdown": [
       "1. 296590\n",
       "2. 23\n",
       "\n",
       "\n"
      ],
      "text/plain": [
       "[1] 296590     23"
      ]
     },
     "metadata": {},
     "output_type": "display_data"
    },
    {
     "data": {
      "text/plain": [
       "\n",
       "    -9      0      1 \n",
       " 26908 234685   5463 "
      ]
     },
     "metadata": {},
     "output_type": "display_data"
    },
    {
     "data": {
      "text/plain": [
       "\n",
       "   -9     0     1 \n",
       "12581 93096 17660 "
      ]
     },
     "metadata": {},
     "output_type": "display_data"
    },
    {
     "data": {
      "text/html": [
       "<ol class=list-inline>\n",
       "\t<li>272544</li>\n",
       "\t<li>23</li>\n",
       "</ol>\n"
      ],
      "text/latex": [
       "\\begin{enumerate*}\n",
       "\\item 272544\n",
       "\\item 23\n",
       "\\end{enumerate*}\n"
      ],
      "text/markdown": [
       "1. 272544\n",
       "2. 23\n",
       "\n",
       "\n"
      ],
      "text/plain": [
       "[1] 272544     23"
      ]
     },
     "metadata": {},
     "output_type": "display_data"
    }
   ],
   "source": [
    "filt_meno <- filter(phase_meno_no_drug, sex == 0 & preg==0)\n",
    "dim(phase_meno_no_drug)\n",
    "dim(filt_meno)\n",
    "\n",
    "filt_meno3 <- filter(filt_meno, pill==0 | is.na(pill))\n",
    "dim(filt_meno3)\n",
    "table(filt_meno$pill)\n",
    "filt_meno4 <- filter(filt_meno3, hrt==0 | is.na(hrt))\n",
    "table(filt_meno$hrt)\n",
    "\n",
    "dim(filt_meno4)"
   ]
  },
  {
   "cell_type": "code",
   "execution_count": 14,
   "metadata": {},
   "outputs": [
    {
     "data": {
      "text/plain": [
       "\n",
       "  post    pre \n",
       "142733  55542 "
      ]
     },
     "metadata": {},
     "output_type": "display_data"
    }
   ],
   "source": [
    "meno_status <- filter(filt_meno4, meno.label %in% c(\"pre\", \"post\"))\n",
    "table(meno_status$meno.label)\n",
    "\n",
    "pre_meno <- select(filter(meno_status , meno.label==\"pre\"), IID)\n",
    "post_meno <- select(filter(meno_status , meno.label==\"post\"), IID)\n",
    "write.csv(data.frame(pre_meno), file=\"../phefile/pre_meno\" row.names=FALSE, quote=FALSE)"
   ]
  }
 ],
 "metadata": {
  "kernelspec": {
   "display_name": "R",
   "language": "R",
   "name": "ir"
  },
  "language_info": {
   "codemirror_mode": "r",
   "file_extension": ".r",
   "mimetype": "text/x-r-source",
   "name": "R",
   "pygments_lexer": "r",
   "version": "3.4.0"
  }
 },
 "nbformat": 4,
 "nbformat_minor": 2
}
