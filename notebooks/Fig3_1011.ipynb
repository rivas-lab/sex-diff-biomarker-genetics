{
 "cells": [
  {
   "cell_type": "markdown",
   "metadata": {},
   "source": [
    "### figure 3 - menopause divided genetic correlations for biomarker traits\n"
   ]
  },
  {
   "cell_type": "code",
   "execution_count": 1,
   "metadata": {},
   "outputs": [
    {
     "name": "stderr",
     "output_type": "stream",
     "text": [
      "Loading required package: tidyverse\n",
      "── Attaching packages ─────────────────────────────────────── tidyverse 1.2.1 ──\n",
      "✔ ggplot2 2.2.1     ✔ purrr   0.2.4\n",
      "✔ tibble  1.4.2     ✔ dplyr   0.7.4\n",
      "✔ tidyr   0.8.1     ✔ stringr 1.3.0\n",
      "✔ readr   1.1.1     ✔ forcats 0.3.0\n",
      "── Conflicts ────────────────────────────────────────── tidyverse_conflicts() ──\n",
      "✖ dplyr::filter() masks stats::filter()\n",
      "✖ dplyr::lag()    masks stats::lag()\n"
     ]
    }
   ],
   "source": [
    "require('tidyverse')"
   ]
  },
  {
   "cell_type": "code",
   "execution_count": 4,
   "metadata": {},
   "outputs": [
    {
     "data": {
      "text/html": [
       "<ol class=list-inline>\n",
       "\t<li>'summary_dat_Alanine_aminotransferase_3_.txt'</li>\n",
       "\t<li>'summary_dat_Albumin_3_.txt'</li>\n",
       "\t<li>'summary_dat_Alkaline_phosphatase_3_.txt'</li>\n",
       "\t<li>'summary_dat_Apolipoprotein_A_3_.txt'</li>\n",
       "\t<li>'summary_dat_Apolipoprotein_B_3_.txt'</li>\n",
       "\t<li>'summary_dat_Aspartate_aminotransferase_3_.txt'</li>\n",
       "\t<li>'summary_dat_C_reactive_protein_3_.txt'</li>\n",
       "\t<li>'summary_dat_Calcium_3_.txt'</li>\n",
       "\t<li>'summary_dat_Creatinine_3_.txt'</li>\n",
       "\t<li>'summary_dat_Creatinine_in_urine_3_.txt'</li>\n",
       "\t<li>'summary_dat_Cystatin_C_3_.txt'</li>\n",
       "\t<li>'summary_dat_Direct_bilirubin_3_.txt'</li>\n",
       "\t<li>'summary_dat_eGFR_3_.txt'</li>\n",
       "\t<li>'summary_dat_Fasting_glucose_3_.txt'</li>\n",
       "\t<li>'summary_dat_Gamma_glutamyltransferase_3_.txt'</li>\n",
       "\t<li>'summary_dat_Glucose_3_.txt'</li>\n",
       "\t<li>'summary_dat_HDL_cholesterol_3_.txt'</li>\n",
       "\t<li>'summary_dat_IGF_1_3_.txt'</li>\n",
       "\t<li>'summary_dat_LDL_direct_3_.txt'</li>\n",
       "\t<li>'summary_dat_Lipoprotein_A_3_.txt'</li>\n",
       "\t<li>'summary_dat_Microalbumin_in_urine_3_.txt'</li>\n",
       "\t<li>'summary_dat_Non_albumin_protein_3_.txt'</li>\n",
       "\t<li>'summary_dat_Oestradiol_3_.txt'</li>\n",
       "\t<li>'summary_dat_Phosphate_3_.txt'</li>\n",
       "\t<li>'summary_dat_Potassium_in_urine_3_.txt'</li>\n",
       "\t<li>'summary_dat_Rheumatoid_factor_3_.txt'</li>\n",
       "\t<li>'summary_dat_SHBG_3_.txt'</li>\n",
       "\t<li>'summary_dat_Sodium_in_urine_3_.txt'</li>\n",
       "\t<li>'summary_dat_Testosterone_3_.txt'</li>\n",
       "\t<li>'summary_dat_Total_bilirubin_3_.txt'</li>\n",
       "\t<li>'summary_dat_Total_protein_3_.txt'</li>\n",
       "\t<li>'summary_dat_Triglycerides_3_.txt'</li>\n",
       "\t<li>'summary_dat_Urate_3_.txt'</li>\n",
       "\t<li>'summary_dat_Urea_3_.txt'</li>\n",
       "\t<li>'summary_dat_Vitamin_D_3_.txt'</li>\n",
       "</ol>\n"
      ],
      "text/latex": [
       "\\begin{enumerate*}\n",
       "\\item 'summary\\_dat\\_Alanine\\_aminotransferase\\_3\\_.txt'\n",
       "\\item 'summary\\_dat\\_Albumin\\_3\\_.txt'\n",
       "\\item 'summary\\_dat\\_Alkaline\\_phosphatase\\_3\\_.txt'\n",
       "\\item 'summary\\_dat\\_Apolipoprotein\\_A\\_3\\_.txt'\n",
       "\\item 'summary\\_dat\\_Apolipoprotein\\_B\\_3\\_.txt'\n",
       "\\item 'summary\\_dat\\_Aspartate\\_aminotransferase\\_3\\_.txt'\n",
       "\\item 'summary\\_dat\\_C\\_reactive\\_protein\\_3\\_.txt'\n",
       "\\item 'summary\\_dat\\_Calcium\\_3\\_.txt'\n",
       "\\item 'summary\\_dat\\_Creatinine\\_3\\_.txt'\n",
       "\\item 'summary\\_dat\\_Creatinine\\_in\\_urine\\_3\\_.txt'\n",
       "\\item 'summary\\_dat\\_Cystatin\\_C\\_3\\_.txt'\n",
       "\\item 'summary\\_dat\\_Direct\\_bilirubin\\_3\\_.txt'\n",
       "\\item 'summary\\_dat\\_eGFR\\_3\\_.txt'\n",
       "\\item 'summary\\_dat\\_Fasting\\_glucose\\_3\\_.txt'\n",
       "\\item 'summary\\_dat\\_Gamma\\_glutamyltransferase\\_3\\_.txt'\n",
       "\\item 'summary\\_dat\\_Glucose\\_3\\_.txt'\n",
       "\\item 'summary\\_dat\\_HDL\\_cholesterol\\_3\\_.txt'\n",
       "\\item 'summary\\_dat\\_IGF\\_1\\_3\\_.txt'\n",
       "\\item 'summary\\_dat\\_LDL\\_direct\\_3\\_.txt'\n",
       "\\item 'summary\\_dat\\_Lipoprotein\\_A\\_3\\_.txt'\n",
       "\\item 'summary\\_dat\\_Microalbumin\\_in\\_urine\\_3\\_.txt'\n",
       "\\item 'summary\\_dat\\_Non\\_albumin\\_protein\\_3\\_.txt'\n",
       "\\item 'summary\\_dat\\_Oestradiol\\_3\\_.txt'\n",
       "\\item 'summary\\_dat\\_Phosphate\\_3\\_.txt'\n",
       "\\item 'summary\\_dat\\_Potassium\\_in\\_urine\\_3\\_.txt'\n",
       "\\item 'summary\\_dat\\_Rheumatoid\\_factor\\_3\\_.txt'\n",
       "\\item 'summary\\_dat\\_SHBG\\_3\\_.txt'\n",
       "\\item 'summary\\_dat\\_Sodium\\_in\\_urine\\_3\\_.txt'\n",
       "\\item 'summary\\_dat\\_Testosterone\\_3\\_.txt'\n",
       "\\item 'summary\\_dat\\_Total\\_bilirubin\\_3\\_.txt'\n",
       "\\item 'summary\\_dat\\_Total\\_protein\\_3\\_.txt'\n",
       "\\item 'summary\\_dat\\_Triglycerides\\_3\\_.txt'\n",
       "\\item 'summary\\_dat\\_Urate\\_3\\_.txt'\n",
       "\\item 'summary\\_dat\\_Urea\\_3\\_.txt'\n",
       "\\item 'summary\\_dat\\_Vitamin\\_D\\_3\\_.txt'\n",
       "\\end{enumerate*}\n"
      ],
      "text/markdown": [
       "1. 'summary_dat_Alanine_aminotransferase_3_.txt'\n",
       "2. 'summary_dat_Albumin_3_.txt'\n",
       "3. 'summary_dat_Alkaline_phosphatase_3_.txt'\n",
       "4. 'summary_dat_Apolipoprotein_A_3_.txt'\n",
       "5. 'summary_dat_Apolipoprotein_B_3_.txt'\n",
       "6. 'summary_dat_Aspartate_aminotransferase_3_.txt'\n",
       "7. 'summary_dat_C_reactive_protein_3_.txt'\n",
       "8. 'summary_dat_Calcium_3_.txt'\n",
       "9. 'summary_dat_Creatinine_3_.txt'\n",
       "10. 'summary_dat_Creatinine_in_urine_3_.txt'\n",
       "11. 'summary_dat_Cystatin_C_3_.txt'\n",
       "12. 'summary_dat_Direct_bilirubin_3_.txt'\n",
       "13. 'summary_dat_eGFR_3_.txt'\n",
       "14. 'summary_dat_Fasting_glucose_3_.txt'\n",
       "15. 'summary_dat_Gamma_glutamyltransferase_3_.txt'\n",
       "16. 'summary_dat_Glucose_3_.txt'\n",
       "17. 'summary_dat_HDL_cholesterol_3_.txt'\n",
       "18. 'summary_dat_IGF_1_3_.txt'\n",
       "19. 'summary_dat_LDL_direct_3_.txt'\n",
       "20. 'summary_dat_Lipoprotein_A_3_.txt'\n",
       "21. 'summary_dat_Microalbumin_in_urine_3_.txt'\n",
       "22. 'summary_dat_Non_albumin_protein_3_.txt'\n",
       "23. 'summary_dat_Oestradiol_3_.txt'\n",
       "24. 'summary_dat_Phosphate_3_.txt'\n",
       "25. 'summary_dat_Potassium_in_urine_3_.txt'\n",
       "26. 'summary_dat_Rheumatoid_factor_3_.txt'\n",
       "27. 'summary_dat_SHBG_3_.txt'\n",
       "28. 'summary_dat_Sodium_in_urine_3_.txt'\n",
       "29. 'summary_dat_Testosterone_3_.txt'\n",
       "30. 'summary_dat_Total_bilirubin_3_.txt'\n",
       "31. 'summary_dat_Total_protein_3_.txt'\n",
       "32. 'summary_dat_Triglycerides_3_.txt'\n",
       "33. 'summary_dat_Urate_3_.txt'\n",
       "34. 'summary_dat_Urea_3_.txt'\n",
       "35. 'summary_dat_Vitamin_D_3_.txt'\n",
       "\n",
       "\n"
      ],
      "text/plain": [
       " [1] \"summary_dat_Alanine_aminotransferase_3_.txt\"  \n",
       " [2] \"summary_dat_Albumin_3_.txt\"                   \n",
       " [3] \"summary_dat_Alkaline_phosphatase_3_.txt\"      \n",
       " [4] \"summary_dat_Apolipoprotein_A_3_.txt\"          \n",
       " [5] \"summary_dat_Apolipoprotein_B_3_.txt\"          \n",
       " [6] \"summary_dat_Aspartate_aminotransferase_3_.txt\"\n",
       " [7] \"summary_dat_C_reactive_protein_3_.txt\"        \n",
       " [8] \"summary_dat_Calcium_3_.txt\"                   \n",
       " [9] \"summary_dat_Creatinine_3_.txt\"                \n",
       "[10] \"summary_dat_Creatinine_in_urine_3_.txt\"       \n",
       "[11] \"summary_dat_Cystatin_C_3_.txt\"                \n",
       "[12] \"summary_dat_Direct_bilirubin_3_.txt\"          \n",
       "[13] \"summary_dat_eGFR_3_.txt\"                      \n",
       "[14] \"summary_dat_Fasting_glucose_3_.txt\"           \n",
       "[15] \"summary_dat_Gamma_glutamyltransferase_3_.txt\" \n",
       "[16] \"summary_dat_Glucose_3_.txt\"                   \n",
       "[17] \"summary_dat_HDL_cholesterol_3_.txt\"           \n",
       "[18] \"summary_dat_IGF_1_3_.txt\"                     \n",
       "[19] \"summary_dat_LDL_direct_3_.txt\"                \n",
       "[20] \"summary_dat_Lipoprotein_A_3_.txt\"             \n",
       "[21] \"summary_dat_Microalbumin_in_urine_3_.txt\"     \n",
       "[22] \"summary_dat_Non_albumin_protein_3_.txt\"       \n",
       "[23] \"summary_dat_Oestradiol_3_.txt\"                \n",
       "[24] \"summary_dat_Phosphate_3_.txt\"                 \n",
       "[25] \"summary_dat_Potassium_in_urine_3_.txt\"        \n",
       "[26] \"summary_dat_Rheumatoid_factor_3_.txt\"         \n",
       "[27] \"summary_dat_SHBG_3_.txt\"                      \n",
       "[28] \"summary_dat_Sodium_in_urine_3_.txt\"           \n",
       "[29] \"summary_dat_Testosterone_3_.txt\"              \n",
       "[30] \"summary_dat_Total_bilirubin_3_.txt\"           \n",
       "[31] \"summary_dat_Total_protein_3_.txt\"             \n",
       "[32] \"summary_dat_Triglycerides_3_.txt\"             \n",
       "[33] \"summary_dat_Urate_3_.txt\"                     \n",
       "[34] \"summary_dat_Urea_3_.txt\"                      \n",
       "[35] \"summary_dat_Vitamin_D_3_.txt\"                 "
      ]
     },
     "metadata": {},
     "output_type": "display_data"
    },
    {
     "data": {
      "text/html": [
       "35"
      ],
      "text/latex": [
       "35"
      ],
      "text/markdown": [
       "35"
      ],
      "text/plain": [
       "[1] 35"
      ]
     },
     "metadata": {},
     "output_type": "display_data"
    },
    {
     "data": {
      "text/html": [
       "<table>\n",
       "<thead><tr><th scope=col>V1</th><th scope=col>V2</th><th scope=col>V3</th><th scope=col>V4</th><th scope=col>V5</th><th scope=col>V6</th><th scope=col>V7</th><th scope=col>V8</th><th scope=col>V9</th><th scope=col>V10</th><th scope=col>⋯</th><th scope=col>V16</th><th scope=col>Omegacor.1.2.</th><th scope=col>Omegacor.1.3.</th><th scope=col>Omegacor.2.3.</th><th scope=col>Omegacor.1.2..1</th><th scope=col>Omegacor.1.3..1</th><th scope=col>Omegacor.2.3..1</th><th scope=col>V23</th><th scope=col>V24</th><th scope=col>V25</th></tr></thead>\n",
       "<tbody>\n",
       "\t<tr><td>Alanine_aminotransferase  </td><td>171761                    </td><td>0.8886492                 </td><td>0.111350832               </td><td>4.221948e-05              </td><td> 4.344132e-05             </td><td>4.002166e-05              </td><td> 4.344132e-05             </td><td>4.679752e-05              </td><td>4.378389e-05              </td><td>⋯                         </td><td>0.9075228                 </td><td> 0.9505843                </td><td>0.8271969                 </td><td>0.8821739                 </td><td> 0.9951961                </td><td>0.9169440                 </td><td>0.9338333                 </td><td>        NA                </td><td>        NA                </td><td>        NA                </td></tr>\n",
       "\t<tr><td>Albumin                   </td><td>171080                    </td><td>0.7892800                 </td><td>0.210719986               </td><td>6.435202e-05              </td><td> 2.722589e-05             </td><td>2.627956e-05              </td><td> 2.722589e-05             </td><td>2.845400e-05              </td><td>2.704310e-05              </td><td>⋯                         </td><td>0.9568056                 </td><td> 0.5936868                </td><td>0.5802556                 </td><td>0.9251796                 </td><td> 0.6815876                </td><td>0.6582979                 </td><td>0.9831620                 </td><td>0.12667616                </td><td>0.13129081                </td><td>0.15199314                </td></tr>\n",
       "\t<tr><td>Alkaline_phosphatase      </td><td>171766                    </td><td>0.9903510                 </td><td>0.009648987               </td><td>4.791945e-03              </td><td> 4.842150e-03             </td><td>5.677609e-03              </td><td> 4.842150e-03             </td><td>4.907638e-03              </td><td>5.751071e-03              </td><td>⋯                         </td><td>0.9978689                 </td><td> 0.9974450                </td><td>0.9956351                 </td><td>0.9970613                 </td><td> 0.9994827                </td><td>0.9980811                 </td><td>0.9985207                 </td><td>0.05652593                </td><td>0.12617868                </td><td>0.18766034                </td></tr>\n",
       "\t<tr><td>Apolipoprotein_A          </td><td>170911                    </td><td>0.9632014                 </td><td>0.036798613               </td><td>2.927845e-04              </td><td> 3.026123e-04             </td><td>3.097107e-04              </td><td> 3.026123e-04             </td><td>3.178069e-04              </td><td>3.237661e-04              </td><td>⋯                         </td><td>0.9758659                 </td><td> 0.9833407                </td><td>0.9613442                 </td><td>0.9676205                 </td><td> 0.9982725                </td><td>0.9834889                 </td><td>0.9829612                 </td><td>0.03208511                </td><td>0.08147737                </td><td>0.10808368                </td></tr>\n",
       "\t<tr><td>Apolipoprotein_B          </td><td>171703                    </td><td>0.8330473                 </td><td>0.166952726               </td><td>6.939120e-04              </td><td>-1.092971e-04             </td><td>6.722047e-05              </td><td>-1.092971e-04             </td><td>1.151326e-04              </td><td>5.308849e-05              </td><td>⋯                         </td><td>0.6838992                 </td><td>-0.4085586                </td><td>0.3196429                 </td><td>0.6571077                 </td><td>-0.3633006                </td><td>0.3829064                 </td><td>0.7110847                 </td><td>0.31502697                </td><td>0.11377243                </td><td>0.01871006                </td></tr>\n",
       "\t<tr><td>Aspartate_aminotransferase</td><td>171728                    </td><td>0.9374903                 </td><td>0.062509723               </td><td>1.316626e-04              </td><td> 1.104696e-04             </td><td>1.102440e-04              </td><td> 1.104696e-04             </td><td>1.263388e-04              </td><td>1.167574e-04              </td><td>⋯                         </td><td>0.9555025                 </td><td> 0.8167216                </td><td>0.8521178                 </td><td>0.9385871                 </td><td> 0.8935663                </td><td>0.9135600                 </td><td>0.9705444                 </td><td>        NA                </td><td>        NA                </td><td>        NA                </td></tr>\n",
       "</tbody>\n",
       "</table>\n"
      ],
      "text/latex": [
       "\\begin{tabular}{r|lllllllllllllllllllllllll}\n",
       " V1 & V2 & V3 & V4 & V5 & V6 & V7 & V8 & V9 & V10 & ⋯ & V16 & Omegacor.1.2. & Omegacor.1.3. & Omegacor.2.3. & Omegacor.1.2..1 & Omegacor.1.3..1 & Omegacor.2.3..1 & V23 & V24 & V25\\\\\n",
       "\\hline\n",
       "\t Alanine\\_aminotransferase   & 171761                       & 0.8886492                    & 0.111350832                  & 4.221948e-05                 &  4.344132e-05                & 4.002166e-05                 &  4.344132e-05                & 4.679752e-05                 & 4.378389e-05                 & ⋯                            & 0.9075228                    &  0.9505843                   & 0.8271969                    & 0.8821739                    &  0.9951961                   & 0.9169440                    & 0.9338333                    &         NA                   &         NA                   &         NA                  \\\\\n",
       "\t Albumin                    & 171080                     & 0.7892800                  & 0.210719986                & 6.435202e-05               &  2.722589e-05              & 2.627956e-05               &  2.722589e-05              & 2.845400e-05               & 2.704310e-05               & ⋯                          & 0.9568056                  &  0.5936868                 & 0.5802556                  & 0.9251796                  &  0.6815876                 & 0.6582979                  & 0.9831620                  & 0.12667616                 & 0.13129081                 & 0.15199314                \\\\\n",
       "\t Alkaline\\_phosphatase       & 171766                       & 0.9903510                    & 0.009648987                  & 4.791945e-03                 &  4.842150e-03                & 5.677609e-03                 &  4.842150e-03                & 4.907638e-03                 & 5.751071e-03                 & ⋯                            & 0.9978689                    &  0.9974450                   & 0.9956351                    & 0.9970613                    &  0.9994827                   & 0.9980811                    & 0.9985207                    & 0.05652593                   & 0.12617868                   & 0.18766034                  \\\\\n",
       "\t Apolipoprotein\\_A           & 170911                       & 0.9632014                    & 0.036798613                  & 2.927845e-04                 &  3.026123e-04                & 3.097107e-04                 &  3.026123e-04                & 3.178069e-04                 & 3.237661e-04                 & ⋯                            & 0.9758659                    &  0.9833407                   & 0.9613442                    & 0.9676205                    &  0.9982725                   & 0.9834889                    & 0.9829612                    & 0.03208511                   & 0.08147737                   & 0.10808368                  \\\\\n",
       "\t Apolipoprotein\\_B           & 171703                       & 0.8330473                    & 0.166952726                  & 6.939120e-04                 & -1.092971e-04                & 6.722047e-05                 & -1.092971e-04                & 1.151326e-04                 & 5.308849e-05                 & ⋯                            & 0.6838992                    & -0.4085586                   & 0.3196429                    & 0.6571077                    & -0.3633006                   & 0.3829064                    & 0.7110847                    & 0.31502697                   & 0.11377243                   & 0.01871006                  \\\\\n",
       "\t Aspartate\\_aminotransferase & 171728                       & 0.9374903                    & 0.062509723                  & 1.316626e-04                 &  1.104696e-04                & 1.102440e-04                 &  1.104696e-04                & 1.263388e-04                 & 1.167574e-04                 & ⋯                            & 0.9555025                    &  0.8167216                   & 0.8521178                    & 0.9385871                    &  0.8935663                   & 0.9135600                    & 0.9705444                    &         NA                   &         NA                   &         NA                  \\\\\n",
       "\\end{tabular}\n"
      ],
      "text/markdown": [
       "\n",
       "V1 | V2 | V3 | V4 | V5 | V6 | V7 | V8 | V9 | V10 | ⋯ | V16 | Omegacor.1.2. | Omegacor.1.3. | Omegacor.2.3. | Omegacor.1.2..1 | Omegacor.1.3..1 | Omegacor.2.3..1 | V23 | V24 | V25 | \n",
       "|---|---|---|---|---|---|\n",
       "| Alanine_aminotransferase   | 171761                     | 0.8886492                  | 0.111350832                | 4.221948e-05               |  4.344132e-05              | 4.002166e-05               |  4.344132e-05              | 4.679752e-05               | 4.378389e-05               | ⋯                          | 0.9075228                  |  0.9505843                 | 0.8271969                  | 0.8821739                  |  0.9951961                 | 0.9169440                  | 0.9338333                  |         NA                 |         NA                 |         NA                 | \n",
       "| Albumin                    | 171080                     | 0.7892800                  | 0.210719986                | 6.435202e-05               |  2.722589e-05              | 2.627956e-05               |  2.722589e-05              | 2.845400e-05               | 2.704310e-05               | ⋯                          | 0.9568056                  |  0.5936868                 | 0.5802556                  | 0.9251796                  |  0.6815876                 | 0.6582979                  | 0.9831620                  | 0.12667616                 | 0.13129081                 | 0.15199314                 | \n",
       "| Alkaline_phosphatase       | 171766                     | 0.9903510                  | 0.009648987                | 4.791945e-03               |  4.842150e-03              | 5.677609e-03               |  4.842150e-03              | 4.907638e-03               | 5.751071e-03               | ⋯                          | 0.9978689                  |  0.9974450                 | 0.9956351                  | 0.9970613                  |  0.9994827                 | 0.9980811                  | 0.9985207                  | 0.05652593                 | 0.12617868                 | 0.18766034                 | \n",
       "| Apolipoprotein_A           | 170911                     | 0.9632014                  | 0.036798613                | 2.927845e-04               |  3.026123e-04              | 3.097107e-04               |  3.026123e-04              | 3.178069e-04               | 3.237661e-04               | ⋯                          | 0.9758659                  |  0.9833407                 | 0.9613442                  | 0.9676205                  |  0.9982725                 | 0.9834889                  | 0.9829612                  | 0.03208511                 | 0.08147737                 | 0.10808368                 | \n",
       "| Apolipoprotein_B           | 171703                     | 0.8330473                  | 0.166952726                | 6.939120e-04               | -1.092971e-04              | 6.722047e-05               | -1.092971e-04              | 1.151326e-04               | 5.308849e-05               | ⋯                          | 0.6838992                  | -0.4085586                 | 0.3196429                  | 0.6571077                  | -0.3633006                 | 0.3829064                  | 0.7110847                  | 0.31502697                 | 0.11377243                 | 0.01871006                 | \n",
       "| Aspartate_aminotransferase | 171728                     | 0.9374903                  | 0.062509723                | 1.316626e-04               |  1.104696e-04              | 1.102440e-04               |  1.104696e-04              | 1.263388e-04               | 1.167574e-04               | ⋯                          | 0.9555025                  |  0.8167216                 | 0.8521178                  | 0.9385871                  |  0.8935663                 | 0.9135600                  | 0.9705444                  |         NA                 |         NA                 |         NA                 | \n",
       "\n",
       "\n"
      ],
      "text/plain": [
       "  V1                         V2     V3        V4          V5          \n",
       "1 Alanine_aminotransferase   171761 0.8886492 0.111350832 4.221948e-05\n",
       "2 Albumin                    171080 0.7892800 0.210719986 6.435202e-05\n",
       "3 Alkaline_phosphatase       171766 0.9903510 0.009648987 4.791945e-03\n",
       "4 Apolipoprotein_A           170911 0.9632014 0.036798613 2.927845e-04\n",
       "5 Apolipoprotein_B           171703 0.8330473 0.166952726 6.939120e-04\n",
       "6 Aspartate_aminotransferase 171728 0.9374903 0.062509723 1.316626e-04\n",
       "  V6            V7           V8            V9           V10          ⋯\n",
       "1  4.344132e-05 4.002166e-05  4.344132e-05 4.679752e-05 4.378389e-05 ⋯\n",
       "2  2.722589e-05 2.627956e-05  2.722589e-05 2.845400e-05 2.704310e-05 ⋯\n",
       "3  4.842150e-03 5.677609e-03  4.842150e-03 4.907638e-03 5.751071e-03 ⋯\n",
       "4  3.026123e-04 3.097107e-04  3.026123e-04 3.178069e-04 3.237661e-04 ⋯\n",
       "5 -1.092971e-04 6.722047e-05 -1.092971e-04 1.151326e-04 5.308849e-05 ⋯\n",
       "6  1.104696e-04 1.102440e-04  1.104696e-04 1.263388e-04 1.167574e-04 ⋯\n",
       "  V16       Omegacor.1.2. Omegacor.1.3. Omegacor.2.3. Omegacor.1.2..1\n",
       "1 0.9075228  0.9505843    0.8271969     0.8821739      0.9951961     \n",
       "2 0.9568056  0.5936868    0.5802556     0.9251796      0.6815876     \n",
       "3 0.9978689  0.9974450    0.9956351     0.9970613      0.9994827     \n",
       "4 0.9758659  0.9833407    0.9613442     0.9676205      0.9982725     \n",
       "5 0.6838992 -0.4085586    0.3196429     0.6571077     -0.3633006     \n",
       "6 0.9555025  0.8167216    0.8521178     0.9385871      0.8935663     \n",
       "  Omegacor.1.3..1 Omegacor.2.3..1 V23        V24        V25       \n",
       "1 0.9169440       0.9338333               NA         NA         NA\n",
       "2 0.6582979       0.9831620       0.12667616 0.13129081 0.15199314\n",
       "3 0.9980811       0.9985207       0.05652593 0.12617868 0.18766034\n",
       "4 0.9834889       0.9829612       0.03208511 0.08147737 0.10808368\n",
       "5 0.3829064       0.7110847       0.31502697 0.11377243 0.01871006\n",
       "6 0.9135600       0.9705444               NA         NA         NA"
      ]
     },
     "metadata": {},
     "output_type": "display_data"
    },
    {
     "name": "stderr",
     "output_type": "stream",
     "text": [
      "Parsed with column specification:\n",
      "cols(\n",
      "  trait = col_character(),\n",
      "  int = col_character(),\n",
      "  sex = col_character(),\n",
      "  value = col_character()\n",
      ")\n",
      "Parsed with column specification:\n",
      "cols(\n",
      "  trait = col_double(),\n",
      "  int = col_character(),\n",
      "  sex = col_character(),\n",
      "  value = col_character()\n",
      ")\n",
      "Parsed with column specification:\n",
      "cols(\n",
      "  trait = col_double(),\n",
      "  int = col_character(),\n",
      "  sex = col_character(),\n",
      "  value = col_character()\n",
      ")\n",
      "Parsed with column specification:\n",
      "cols(\n",
      "  trait = col_double(),\n",
      "  int = col_character(),\n",
      "  sex = col_character(),\n",
      "  value = col_character()\n",
      ")\n",
      "Parsed with column specification:\n",
      "cols(\n",
      "  trait = col_double(),\n",
      "  int = col_character(),\n",
      "  sex = col_character(),\n",
      "  value = col_character()\n",
      ")\n",
      "Parsed with column specification:\n",
      "cols(\n",
      "  trait = col_character(),\n",
      "  int = col_character(),\n",
      "  sex = col_character(),\n",
      "  value = col_character()\n",
      ")\n",
      "Parsed with column specification:\n",
      "cols(\n",
      "  trait = col_double(),\n",
      "  int = col_character(),\n",
      "  sex = col_character(),\n",
      "  value = col_character()\n",
      ")\n",
      "Parsed with column specification:\n",
      "cols(\n",
      "  trait = col_double(),\n",
      "  int = col_character(),\n",
      "  sex = col_character(),\n",
      "  value = col_character()\n",
      ")\n",
      "Parsed with column specification:\n",
      "cols(\n",
      "  trait = col_double(),\n",
      "  int = col_character(),\n",
      "  sex = col_character(),\n",
      "  value = col_character()\n",
      ")\n",
      "Parsed with column specification:\n",
      "cols(\n",
      "  trait = col_double(),\n",
      "  int = col_character(),\n",
      "  sex = col_character(),\n",
      "  value = col_character()\n",
      ")\n",
      "Parsed with column specification:\n",
      "cols(\n",
      "  trait = col_double(),\n",
      "  int = col_character(),\n",
      "  sex = col_character(),\n",
      "  value = col_character()\n",
      ")\n",
      "Parsed with column specification:\n",
      "cols(\n",
      "  trait = col_double(),\n",
      "  int = col_character(),\n",
      "  sex = col_character(),\n",
      "  value = col_character()\n",
      ")\n",
      "Parsed with column specification:\n",
      "cols(\n",
      "  trait = col_double(),\n",
      "  int = col_character(),\n",
      "  sex = col_character(),\n",
      "  value = col_character()\n",
      ")\n",
      "Parsed with column specification:\n",
      "cols(\n",
      "  trait = col_double(),\n",
      "  int = col_character(),\n",
      "  sex = col_character(),\n",
      "  value = col_character()\n",
      ")\n",
      "Parsed with column specification:\n",
      "cols(\n",
      "  trait = col_double(),\n",
      "  int = col_character(),\n",
      "  sex = col_character(),\n",
      "  value = col_character()\n",
      ")\n",
      "Parsed with column specification:\n",
      "cols(\n",
      "  trait = col_double(),\n",
      "  int = col_character(),\n",
      "  sex = col_character(),\n",
      "  value = col_character()\n",
      ")\n",
      "Parsed with column specification:\n",
      "cols(\n",
      "  trait = col_double(),\n",
      "  int = col_character(),\n",
      "  sex = col_character(),\n",
      "  value = col_character()\n",
      ")\n",
      "Parsed with column specification:\n",
      "cols(\n",
      "  trait = col_double(),\n",
      "  int = col_character(),\n",
      "  sex = col_character(),\n",
      "  value = col_character()\n",
      ")\n",
      "Parsed with column specification:\n",
      "cols(\n",
      "  trait = col_double(),\n",
      "  int = col_character(),\n",
      "  sex = col_character(),\n",
      "  value = col_character()\n",
      ")\n",
      "Parsed with column specification:\n",
      "cols(\n",
      "  trait = col_double(),\n",
      "  int = col_character(),\n",
      "  sex = col_character(),\n",
      "  value = col_character()\n",
      ")\n",
      "Parsed with column specification:\n",
      "cols(\n",
      "  trait = col_double(),\n",
      "  int = col_character(),\n",
      "  sex = col_character(),\n",
      "  value = col_character()\n",
      ")\n",
      "Parsed with column specification:\n",
      "cols(\n",
      "  trait = col_double(),\n",
      "  int = col_character(),\n",
      "  sex = col_character(),\n",
      "  value = col_character()\n",
      ")\n",
      "Parsed with column specification:\n",
      "cols(\n",
      "  trait = col_double(),\n",
      "  int = col_character(),\n",
      "  sex = col_character(),\n",
      "  value = col_character()\n",
      ")\n",
      "Parsed with column specification:\n",
      "cols(\n",
      "  trait = col_double(),\n",
      "  int = col_character(),\n",
      "  sex = col_character(),\n",
      "  value = col_character()\n",
      ")\n",
      "Parsed with column specification:\n",
      "cols(\n",
      "  trait = col_double(),\n",
      "  int = col_character(),\n",
      "  sex = col_character(),\n",
      "  value = col_character()\n",
      ")\n",
      "Parsed with column specification:\n",
      "cols(\n",
      "  trait = col_double(),\n",
      "  int = col_character(),\n",
      "  sex = col_character(),\n",
      "  value = col_character()\n",
      ")\n",
      "Parsed with column specification:\n",
      "cols(\n",
      "  trait = col_double(),\n",
      "  int = col_character(),\n",
      "  sex = col_character(),\n",
      "  value = col_character()\n",
      ")\n",
      "Parsed with column specification:\n",
      "cols(\n",
      "  trait = col_double(),\n",
      "  int = col_character(),\n",
      "  sex = col_character(),\n",
      "  value = col_character()\n",
      ")\n",
      "Parsed with column specification:\n",
      "cols(\n",
      "  trait = col_double(),\n",
      "  int = col_character(),\n",
      "  sex = col_character(),\n",
      "  value = col_character()\n",
      ")\n",
      "Parsed with column specification:\n",
      "cols(\n",
      "  trait = col_double(),\n",
      "  int = col_character(),\n",
      "  sex = col_character(),\n",
      "  value = col_character()\n",
      ")\n",
      "Parsed with column specification:\n",
      "cols(\n",
      "  trait = col_double(),\n",
      "  int = col_character(),\n",
      "  sex = col_character(),\n",
      "  value = col_character()\n",
      ")\n",
      "Parsed with column specification:\n",
      "cols(\n",
      "  trait = col_double(),\n",
      "  int = col_character(),\n",
      "  sex = col_character(),\n",
      "  value = col_character()\n",
      ")\n",
      "Parsed with column specification:\n",
      "cols(\n",
      "  trait = col_double(),\n",
      "  int = col_character(),\n",
      "  sex = col_character(),\n",
      "  value = col_character()\n",
      ")\n",
      "Parsed with column specification:\n",
      "cols(\n",
      "  trait = col_double(),\n",
      "  int = col_character(),\n",
      "  sex = col_character(),\n",
      "  value = col_character()\n",
      ")\n"
     ]
    },
    {
     "data": {
      "text/html": [
       "<table>\n",
       "<thead><tr><th scope=col>trait</th><th scope=col>int</th><th scope=col>sex</th><th scope=col>value</th></tr></thead>\n",
       "<tbody>\n",
       "\t<tr><td>NA                      </td><td>Alanine_aminotransferase</td><td>hf                      </td><td>NA                      </td></tr>\n",
       "\t<tr><td>NA                      </td><td>Alanine_aminotransferase</td><td>hf                      </td><td>NA                      </td></tr>\n",
       "\t<tr><td>NA                      </td><td>Alanine_aminotransferase</td><td>hm                      </td><td>NA                      </td></tr>\n",
       "\t<tr><td>NA                      </td><td>Alanine_aminotransferase</td><td>hm                      </td><td>NA                      </td></tr>\n",
       "\t<tr><td>NA                      </td><td>Alanine_aminotransferase</td><td>NA                      </td><td>up                      </td></tr>\n",
       "\t<tr><td>NA                      </td><td>Alanine_aminotransferase</td><td>NA                      </td><td>low                     </td></tr>\n",
       "</tbody>\n",
       "</table>\n"
      ],
      "text/latex": [
       "\\begin{tabular}{r|llll}\n",
       " trait & int & sex & value\\\\\n",
       "\\hline\n",
       "\t NA                         & Alanine\\_aminotransferase & hf                         & NA                        \\\\\n",
       "\t NA                         & Alanine\\_aminotransferase & hf                         & NA                        \\\\\n",
       "\t NA                         & Alanine\\_aminotransferase & hm                         & NA                        \\\\\n",
       "\t NA                         & Alanine\\_aminotransferase & hm                         & NA                        \\\\\n",
       "\t NA                         & Alanine\\_aminotransferase & NA                         & up                        \\\\\n",
       "\t NA                         & Alanine\\_aminotransferase & NA                         & low                       \\\\\n",
       "\\end{tabular}\n"
      ],
      "text/markdown": [
       "\n",
       "trait | int | sex | value | \n",
       "|---|---|---|---|---|---|\n",
       "| NA                       | Alanine_aminotransferase | hf                       | NA                       | \n",
       "| NA                       | Alanine_aminotransferase | hf                       | NA                       | \n",
       "| NA                       | Alanine_aminotransferase | hm                       | NA                       | \n",
       "| NA                       | Alanine_aminotransferase | hm                       | NA                       | \n",
       "| NA                       | Alanine_aminotransferase | NA                       | up                       | \n",
       "| NA                       | Alanine_aminotransferase | NA                       | low                      | \n",
       "\n",
       "\n"
      ],
      "text/plain": [
       "  trait int                      sex value\n",
       "1 NA    Alanine_aminotransferase hf  NA   \n",
       "2 NA    Alanine_aminotransferase hf  NA   \n",
       "3 NA    Alanine_aminotransferase hm  NA   \n",
       "4 NA    Alanine_aminotransferase hm  NA   \n",
       "5 NA    Alanine_aminotransferase NA  up   \n",
       "6 NA    Alanine_aminotransferase NA  low  "
      ]
     },
     "metadata": {},
     "output_type": "display_data"
    }
   ],
   "source": [
    "MENO.DIR <- \"../../data/1009/\"\n",
    "summary_files <- list.files(MENO.DIR, pattern=\"summary_(\\\\w)*_3_.txt\")\n",
    "summary_files\n",
    "length(summary_files)\n",
    "\n",
    "meno_traits <- str_replace_all(summary_files, c(\"summary_dat_\"=\"\", \"_3_.txt\" =\"\"))\n",
    "\n",
    "meno_df <- do.call(rbind, lapply(summary_files, function(x) read.table(sprintf(\"%s/%s\", MENO.DIR, x), sep=\" \", header=TRUE)))\n",
    "head(meno_df)\n",
    "    \n",
    "\n",
    "# read in all the error bars now\n"
   ]
  },
  {
   "cell_type": "code",
   "execution_count": 13,
   "metadata": {},
   "outputs": [
    {
     "data": {
      "text/html": [
       "<ol class=list-inline>\n",
       "\t<li>'h_err_Alanine_aminotransferase_3_.txt'</li>\n",
       "\t<li>'h_err_Albumin_3_.txt'</li>\n",
       "\t<li>'h_err_Alkaline_phosphatase_3_.txt'</li>\n",
       "\t<li>'h_err_Apolipoprotein_A_3_.txt'</li>\n",
       "\t<li>'h_err_Apolipoprotein_B_3_.txt'</li>\n",
       "\t<li>'h_err_Aspartate_aminotransferase_3_.txt'</li>\n",
       "</ol>\n"
      ],
      "text/latex": [
       "\\begin{enumerate*}\n",
       "\\item 'h\\_err\\_Alanine\\_aminotransferase\\_3\\_.txt'\n",
       "\\item 'h\\_err\\_Albumin\\_3\\_.txt'\n",
       "\\item 'h\\_err\\_Alkaline\\_phosphatase\\_3\\_.txt'\n",
       "\\item 'h\\_err\\_Apolipoprotein\\_A\\_3\\_.txt'\n",
       "\\item 'h\\_err\\_Apolipoprotein\\_B\\_3\\_.txt'\n",
       "\\item 'h\\_err\\_Aspartate\\_aminotransferase\\_3\\_.txt'\n",
       "\\end{enumerate*}\n"
      ],
      "text/markdown": [
       "1. 'h_err_Alanine_aminotransferase_3_.txt'\n",
       "2. 'h_err_Albumin_3_.txt'\n",
       "3. 'h_err_Alkaline_phosphatase_3_.txt'\n",
       "4. 'h_err_Apolipoprotein_A_3_.txt'\n",
       "5. 'h_err_Apolipoprotein_B_3_.txt'\n",
       "6. 'h_err_Aspartate_aminotransferase_3_.txt'\n",
       "\n",
       "\n"
      ],
      "text/plain": [
       "[1] \"h_err_Alanine_aminotransferase_3_.txt\"  \n",
       "[2] \"h_err_Albumin_3_.txt\"                   \n",
       "[3] \"h_err_Alkaline_phosphatase_3_.txt\"      \n",
       "[4] \"h_err_Apolipoprotein_A_3_.txt\"          \n",
       "[5] \"h_err_Apolipoprotein_B_3_.txt\"          \n",
       "[6] \"h_err_Aspartate_aminotransferase_3_.txt\""
      ]
     },
     "metadata": {},
     "output_type": "display_data"
    },
    {
     "data": {
      "text/html": [
       "<table>\n",
       "<thead><tr><th scope=col>trait</th><th scope=col>int</th><th scope=col>sex</th><th scope=col>value</th></tr></thead>\n",
       "<tbody>\n",
       "\t<tr><td>NA                      </td><td>Alanine_aminotransferase</td><td>hf                      </td><td>NA                      </td></tr>\n",
       "\t<tr><td>NA                      </td><td>Alanine_aminotransferase</td><td>hf                      </td><td>NA                      </td></tr>\n",
       "\t<tr><td>NA                      </td><td>Alanine_aminotransferase</td><td>hm                      </td><td>NA                      </td></tr>\n",
       "\t<tr><td>NA                      </td><td>Alanine_aminotransferase</td><td>hm                      </td><td>NA                      </td></tr>\n",
       "\t<tr><td>NA                      </td><td>Alanine_aminotransferase</td><td>NA                      </td><td>up                      </td></tr>\n",
       "\t<tr><td>NA                      </td><td>Alanine_aminotransferase</td><td>NA                      </td><td>low                     </td></tr>\n",
       "</tbody>\n",
       "</table>\n"
      ],
      "text/latex": [
       "\\begin{tabular}{r|llll}\n",
       " trait & int & sex & value\\\\\n",
       "\\hline\n",
       "\t NA                         & Alanine\\_aminotransferase & hf                         & NA                        \\\\\n",
       "\t NA                         & Alanine\\_aminotransferase & hf                         & NA                        \\\\\n",
       "\t NA                         & Alanine\\_aminotransferase & hm                         & NA                        \\\\\n",
       "\t NA                         & Alanine\\_aminotransferase & hm                         & NA                        \\\\\n",
       "\t NA                         & Alanine\\_aminotransferase & NA                         & up                        \\\\\n",
       "\t NA                         & Alanine\\_aminotransferase & NA                         & low                       \\\\\n",
       "\\end{tabular}\n"
      ],
      "text/markdown": [
       "\n",
       "trait | int | sex | value | \n",
       "|---|---|---|---|---|---|\n",
       "| NA                       | Alanine_aminotransferase | hf                       | NA                       | \n",
       "| NA                       | Alanine_aminotransferase | hf                       | NA                       | \n",
       "| NA                       | Alanine_aminotransferase | hm                       | NA                       | \n",
       "| NA                       | Alanine_aminotransferase | hm                       | NA                       | \n",
       "| NA                       | Alanine_aminotransferase | NA                       | up                       | \n",
       "| NA                       | Alanine_aminotransferase | NA                       | low                      | \n",
       "\n",
       "\n"
      ],
      "text/plain": [
       "  trait int                      sex value\n",
       "1 NA    Alanine_aminotransferase hf  NA   \n",
       "2 NA    Alanine_aminotransferase hf  NA   \n",
       "3 NA    Alanine_aminotransferase hm  NA   \n",
       "4 NA    Alanine_aminotransferase hm  NA   \n",
       "5 NA    Alanine_aminotransferase NA  up   \n",
       "6 NA    Alanine_aminotransferase NA  low  "
      ]
     },
     "metadata": {},
     "output_type": "display_data"
    },
    {
     "data": {
      "text/html": [
       "<table>\n",
       "<thead><tr><th scope=col>trait</th><th scope=col>int</th><th scope=col>sex</th><th scope=col>value</th></tr></thead>\n",
       "<tbody>\n",
       "\t<tr><td>0.160320505807905</td><td>Albumin          </td><td>hf               </td><td>0.140947474235376</td></tr>\n",
       "\t<tr><td>0.136674552801981</td><td>Albumin          </td><td>hf               </td><td>0.114316492007815</td></tr>\n",
       "\t<tr><td>0.160320505807905</td><td>Albumin          </td><td>hm               </td><td>0.137669687801449</td></tr>\n",
       "\t<tr><td>0.136674552801981</td><td>Albumin          </td><td>hm               </td><td>0.112447402017497</td></tr>\n",
       "\t<tr><td>0.160320505807905</td><td>Albumin          </td><td>NA               </td><td>up               </td></tr>\n",
       "\t<tr><td>0.136674552801981</td><td>Albumin          </td><td>NA               </td><td>low              </td></tr>\n",
       "</tbody>\n",
       "</table>\n"
      ],
      "text/latex": [
       "\\begin{tabular}{r|llll}\n",
       " trait & int & sex & value\\\\\n",
       "\\hline\n",
       "\t 0.160320505807905 & Albumin           & hf                & 0.140947474235376\\\\\n",
       "\t 0.136674552801981 & Albumin           & hf                & 0.114316492007815\\\\\n",
       "\t 0.160320505807905 & Albumin           & hm                & 0.137669687801449\\\\\n",
       "\t 0.136674552801981 & Albumin           & hm                & 0.112447402017497\\\\\n",
       "\t 0.160320505807905 & Albumin           & NA                & up               \\\\\n",
       "\t 0.136674552801981 & Albumin           & NA                & low              \\\\\n",
       "\\end{tabular}\n"
      ],
      "text/markdown": [
       "\n",
       "trait | int | sex | value | \n",
       "|---|---|---|---|---|---|\n",
       "| 0.160320505807905 | Albumin           | hf                | 0.140947474235376 | \n",
       "| 0.136674552801981 | Albumin           | hf                | 0.114316492007815 | \n",
       "| 0.160320505807905 | Albumin           | hm                | 0.137669687801449 | \n",
       "| 0.136674552801981 | Albumin           | hm                | 0.112447402017497 | \n",
       "| 0.160320505807905 | Albumin           | NA                | up                | \n",
       "| 0.136674552801981 | Albumin           | NA                | low               | \n",
       "\n",
       "\n"
      ],
      "text/plain": [
       "  trait             int     sex value            \n",
       "1 0.160320505807905 Albumin hf  0.140947474235376\n",
       "2 0.136674552801981 Albumin hf  0.114316492007815\n",
       "3 0.160320505807905 Albumin hm  0.137669687801449\n",
       "4 0.136674552801981 Albumin hm  0.112447402017497\n",
       "5 0.160320505807905 Albumin NA  up               \n",
       "6 0.136674552801981 Albumin NA  low              "
      ]
     },
     "metadata": {},
     "output_type": "display_data"
    }
   ],
   "source": [
    "h_files <- list.files(MENO.DIR, pattern=\"h_err_(\\\\w)*_3_.txt\")\n",
    "\n",
    "head(h_files)\n",
    "read.delim2(sprintf(\"%s/%s\", MENO.DIR, \"h_err_Alanine_aminotransferase_3_.txt\"))\n",
    "read.delim2(sprintf(\"%s/%s\", MENO.DIR, \"h_err_Albumin_3_.txt\"))"
   ]
  },
  {
   "cell_type": "code",
   "execution_count": 15,
   "metadata": {},
   "outputs": [
    {
     "data": {
      "text/html": [
       "<ol class=list-inline>\n",
       "\t<li>35</li>\n",
       "\t<li>25</li>\n",
       "</ol>\n"
      ],
      "text/latex": [
       "\\begin{enumerate*}\n",
       "\\item 35\n",
       "\\item 25\n",
       "\\end{enumerate*}\n"
      ],
      "text/markdown": [
       "1. 35\n",
       "2. 25\n",
       "\n",
       "\n"
      ],
      "text/plain": [
       "[1] 35 25"
      ]
     },
     "metadata": {},
     "output_type": "display_data"
    },
    {
     "data": {
      "text/html": [
       "25"
      ],
      "text/latex": [
       "25"
      ],
      "text/markdown": [
       "25"
      ],
      "text/plain": [
       "[1] 25"
      ]
     },
     "metadata": {},
     "output_type": "display_data"
    }
   ],
   "source": [
    "# Omegacor.1.2 - pre_meno vs. post_meno\n",
    "# Omegacor.1.3 - pre_meno vs. men\n",
    "# Omegacor.1.3 - post_meno vs. men\n",
    "\n",
    "cols_d3 <- c(\"trait\", \"n\", \"pi[1]\", \"pi[2]\", \n",
    "\"Sigma[1,1,1]\", \n",
    "\"Sigma[1,1,2]\", \n",
    "\"Sigma[1,2,1]\",\n",
    "\"Sigma[1,2,2]\", \n",
    "             \n",
    "\"Sigma[2,1,1]\", \n",
    "\"Sigma[2,1,2]\", \n",
    "\"Sigma[2,2,1]\",\n",
    "\"Sigma[2,2,2]\",\n",
    "             \"miss\",\n",
    "\"rg.1\",\"rg.2\",\"rg.3\", \"rgl.1\",\"rgl.2\",\"rgl.3\", \"rgu.1\",\"rgu.2\",\"rgu.3\", \"h1\", \"h2\", \"h3\")\n",
    "\n",
    "dim(meno_df)\n",
    "length(cols_d3)\n",
    "colnames(meno_df) <- cols_d3"
   ]
  },
  {
   "cell_type": "code",
   "execution_count": 16,
   "metadata": {
    "collapsed": true
   },
   "outputs": [],
   "source": [
    "genetic_corr <- meno_df %>% select(\"trait\",\"rg.1\",\"rg.2\",\"rg.3\", \"rgl.1\",\"rgl.2\",\"rgl.3\", \"rgu.1\",\"rgu.2\",\"rgu.3\") \n",
    "genetic_corr_long <- genetic_corr %>% gather(rg_type, value, -trait) %>% mutate(value=as.numeric(value))\n",
    "\n",
    "gen_cor_df <- genetic_corr_long %>% separate(rg_type, c(\"int\", \"group\"), sep=\"\\\\.\") %>% spread(key=\"int\", value=\"value\") %>%\n",
    "mutate(group=c(\"pre_vs_post\", \"pre_vs_men\", \"post_vs_men\")[as.numeric(group)])"
   ]
  },
  {
   "cell_type": "code",
   "execution_count": 19,
   "metadata": {
    "collapsed": true
   },
   "outputs": [],
   "source": [
    "biomarkers_poor <- c(\"Potassium_in_urine\", \"Microalbumin_in_urine\", \"Sodium_in_urine\", \n",
    "                     \"FEV_FVC\", \"Creatinine_in_urine\", \"Oestradiol\", \"Rheumatoid_factor\",\n",
    "                     \"Glucose\", \"Fasting_glucose\") #\"SHBG? Aminotransferase? - should we remove?\n"
   ]
  },
  {
   "cell_type": "code",
   "execution_count": 25,
   "metadata": {},
   "outputs": [
    {
     "data": {},
     "metadata": {},
     "output_type": "display_data"
    },
    {
     "data": {
      "image/png": "[encoded data removed]",
      "text/plain": [
       "plot without title"
      ]
     },
     "metadata": {},
     "output_type": "display_data"
    }
   ],
   "source": [
    "gen_cor_df2 <- gen_cor_df %>% filter(!trait %in% biomarkers_poor) %>% \n",
    "mutate(trait=str_replace_all(trait, \"_\", \" \"),\n",
    "      group=ifelse(group==\"post_vs_men\",\"post-menopausal vs. men\", ifelse(group==\"pre_vs_men\",\"pre-menopausal vs. men\", \"pre- vs. post-menopausal women\")))\n",
    "ggplot(gen_cor_df2, aes(x=trait, y=rg, color=group))+\n",
    "geom_point(position=position_dodge(0.9))+\n",
    "geom_errorbar(aes(ymin=rgl, ymax=rgu),  position=position_dodge(0.9), width=0.5) + \n",
    "ylim(-1,1)+\n",
    "theme(axis.text.x=element_text(angle=90,hjust=1, vjust=0.5)) +ylab(\"Genetic Correlation\")+xlab(\"Trait\") "
   ]
  },
  {
   "cell_type": "code",
   "execution_count": 27,
   "metadata": {
    "collapsed": true
   },
   "outputs": [],
   "source": [
    "trait_order <- gen_cor_df2 %>% filter(group==\"pre- vs. post-menopausal women\") %>% select(rg, trait) %>% arrange(desc(rg)) %>% select(trait)"
   ]
  },
  {
   "cell_type": "code",
   "execution_count": 31,
   "metadata": {},
   "outputs": [
    {
     "data": {},
     "metadata": {},
     "output_type": "display_data"
    },
    {
     "data": {
      "image/png": "[encoded data removed]",
      "text/plain": [
       "plot without title"
      ]
     },
     "metadata": {},
     "output_type": "display_data"
    }
   ],
   "source": [
    "# reorder these by something?\n",
    "gen_cor_df2$trait <- factor(gen_cor_df2$trait, levels= trait_order$trait)\n",
    "ggplot(gen_cor_df2, aes(x=trait, y=rg, color=group))+\n",
    "geom_point(position=position_dodge(0.9))+\n",
    "geom_errorbar(aes(ymin=rgl, ymax=rgu),  position=position_dodge(0.9), width=0.5) + \n",
    "ylim(-1,1)+\n",
    "theme(axis.text.x=element_text(angle=90,hjust=1, vjust=0.5)) +ylab(\"Genetic Correlation\")+xlab(\"Trait\") "
   ]
  },
  {
   "cell_type": "code",
   "execution_count": 30,
   "metadata": {},
   "outputs": [
    {
     "data": {},
     "metadata": {},
     "output_type": "display_data"
    },
    {
     "data": {
      "image/png": "[encoded data removed]",
      "text/plain": [
       "plot without title"
      ]
     },
     "metadata": {},
     "output_type": "display_data"
    }
   ],
   "source": [
    "# try a facet grid\n",
    "\n",
    "ggplot(gen_cor_df2, aes(x=group, y=rg, color=group))+\n",
    "geom_point(position=position_dodge(0.5))+\n",
    "geom_errorbar(aes(ymin=rgl, ymax=rgu),  position=position_dodge(0.5), width=0.5) + \n",
    "ylim(-1,1)+\n",
    "theme(axis.text.x=element_text(angle=90,hjust=1)) +ylab(\"Genetic Correlation\")+\n",
    "facet_grid( . ~ trait, scales = \"free\", space = \"free\", switch=\"both\") +  \n",
    "theme(axis.title.x=element_blank(),\n",
    "        axis.text.x=element_blank(),\n",
    "        axis.ticks.x=element_blank())+\n",
    "  theme(strip.text.x = element_text(angle = 90))+\n",
    "theme(panel.border = element_blank(), panel.grid.major = element_blank(),\n",
    "panel.grid.minor = element_blank())\n",
    "\n"
   ]
  }
 ],
 "metadata": {
  "kernelspec": {
   "display_name": "R",
   "language": "R",
   "name": "ir"
  },
  "language_info": {
   "codemirror_mode": "r",
   "file_extension": ".r",
   "mimetype": "text/x-r-source",
   "name": "R",
   "pygments_lexer": "r",
   "version": "3.4.0"
  }
 },
 "nbformat": 4,
 "nbformat_minor": 2
}
