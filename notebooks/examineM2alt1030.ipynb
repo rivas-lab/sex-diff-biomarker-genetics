{
 "cells": [
  {
   "cell_type": "code",
   "execution_count": null,
   "metadata": {
    "collapsed": true
   },
   "outputs": [],
   "source": [
    "# ran the alternate model for M2"
   ]
  },
  {
   "cell_type": "code",
   "execution_count": null,
   "metadata": {},
   "outputs": [],
   "source": [
    "require('rstan')\n",
    "require('tidyverse')"
   ]
  },
  {
   "cell_type": "code",
   "execution_count": 3,
   "metadata": {
    "collapsed": true
   },
   "outputs": [],
   "source": [
    "load(\"../data/1029/m2/f_alt_m2_Cystatin_C.RData\")\n",
    "f_cys_c_alt <- fit2\n",
    "rm(fit2)\n",
    "load(\"../data/1020/m2/f_m2_Cystatin_C.RData\")\n",
    "f_cys_c <- fit2"
   ]
  },
  {
   "cell_type": "code",
   "execution_count": 12,
   "metadata": {},
   "outputs": [
    {
     "name": "stdout",
     "output_type": "stream",
     "text": [
      "Inference for Stan model: model2_alt.\n",
      "4 chains, each with iter=600; warmup=200; thin=1; \n",
      "post-warmup draws per chain=400, total post-warmup draws=1600.\n",
      "\n",
      "                   mean se_mean     sd         2.5%          25%          50%\n",
      "pi[1]            0.9853  0.0000 0.0004       0.9844       0.9851       0.9854\n",
      "pi[2]            0.0147  0.0000 0.0004       0.0138       0.0144       0.0146\n",
      "sigmasq[1]       0.0011  0.0000 0.0000       0.0011       0.0011       0.0011\n",
      "lp__       1989978.1065  0.0412 1.0379 1989975.5315 1989977.6975 1989978.4014\n",
      "                    75%        97.5% n_eff   Rhat\n",
      "pi[1]            0.9856       0.9862   645 0.9986\n",
      "pi[2]            0.0149       0.0156   645 0.9986\n",
      "sigmasq[1]       0.0011       0.0012   778 0.9987\n",
      "lp__       1989978.8518 1989979.1494   635 1.0035\n",
      "\n",
      "Samples were drawn using NUTS(diag_e) at Wed Oct 30 09:31:26 2019.\n",
      "For each parameter, n_eff is a crude measure of effective sample size,\n",
      "and Rhat is the potential scale reduction factor on split chains (at \n",
      "convergence, Rhat=1).\n"
     ]
    }
   ],
   "source": [
    "print(f_cys_c_alt, pars=c(\"pi\", \"sigmasq\", \"lp__\"), digits=4)"
   ]
  },
  {
   "cell_type": "code",
   "execution_count": 13,
   "metadata": {},
   "outputs": [
    {
     "name": "stdout",
     "output_type": "stream",
     "text": [
      "Inference for Stan model: model2.\n",
      "4 chains, each with iter=600; warmup=200; thin=1; \n",
      "post-warmup draws per chain=400, total post-warmup draws=1600.\n",
      "\n",
      "                  mean se_mean      sd         2.5%          25%         50%\n",
      "pi[1]      9.89300e-01  0.0000  0.0003       0.9886       0.9891 9.89300e-01\n",
      "pi[2]      0.00000e+00  0.0000  0.0000       0.0000       0.0000 0.00000e+00\n",
      "pi[3]      0.00000e+00  0.0000  0.0000       0.0000       0.0000 0.00000e+00\n",
      "pi[4]      1.07000e-02  0.0000  0.0003       0.0101       0.0105 1.07000e-02\n",
      "sigmasq[1] 1.21414e+01  1.4121 32.5840       1.3622       3.2291 5.49820e+00\n",
      "sigmasq[2] 2.04420e+00  0.1586  4.6900       0.2276       0.5128 9.09700e-01\n",
      "sigmasq[3] 1.80000e-03  0.0000  0.0001       0.0017       0.0018 1.80000e-03\n",
      "sigmasq[4] 1.70000e-03  0.0000  0.0001       0.0016       0.0017 1.70000e-03\n",
      "lp__       1.98955e+06  0.0799  1.9994 1989544.9452 1989548.6261 1.98955e+06\n",
      "                    75%        97.5% n_eff   Rhat\n",
      "pi[1]            0.9895       0.9899  1462 0.9998\n",
      "pi[2]            0.0000       0.0000  1600 0.9991\n",
      "pi[3]            0.0000       0.0000  1600 0.9986\n",
      "pi[4]            0.0109       0.0114  1457 0.9998\n",
      "sigmasq[1]      10.4838      64.8203   532 1.0052\n",
      "sigmasq[2]       1.8396      10.8329   874 1.0031\n",
      "sigmasq[3]       0.0019       0.0020  1600 1.0001\n",
      "sigmasq[4]       0.0017       0.0018  1600 0.9991\n",
      "lp__       1989551.2483 1989552.6885   626 1.0001\n",
      "\n",
      "Samples were drawn using NUTS(diag_e) at Sun Oct 20 07:07:32 2019.\n",
      "For each parameter, n_eff is a crude measure of effective sample size,\n",
      "and Rhat is the potential scale reduction factor on split chains (at \n",
      "convergence, Rhat=1).\n"
     ]
    }
   ],
   "source": [
    "print(f_cys_c, pars=c(\"pi\", \"sigmasq\", \"lp__\"),  digits=4)"
   ]
  },
  {
   "cell_type": "code",
   "execution_count": 11,
   "metadata": {},
   "outputs": [
    {
     "name": "stderr",
     "output_type": "stream",
     "text": [
      "Loading required package: loo\n",
      "This is loo version 1.1.0\n"
     ]
    },
    {
     "ename": "ERROR",
     "evalue": "Error in check_pars(allpars, pars): no parameter log_lik\n",
     "output_type": "error",
     "traceback": [
      "Error in check_pars(allpars, pars): no parameter log_lik\nTraceback:\n",
      "1. extract_log_lik(f_cys_c_alt)",
      "2. as.matrix(stanfit, pars = parameter_name)",
      "3. as.matrix.stanfit(stanfit, pars = parameter_name)",
      "4. extract(x, permuted = FALSE, inc_warmup = FALSE, ...)",
      "5. extract(x, permuted = FALSE, inc_warmup = FALSE, ...)",
      "6. .local(object, ...)",
      "7. check_pars_second(object@sim, pars)",
      "8. check_pars(allpars, pars)",
      "9. stop(\"no parameter \", paste(pars[m], collapse = \", \"))"
     ]
    }
   ],
   "source": [
    "require('loo')\n",
    "\n",
    "log_lik1 <- extract_log_lik(f_cys_c_alt)\n",
    "log_lik2 <- extract_log_lik(f_cys_c)\n",
    "(waic1 <- waic(log_lik1))\n",
    "(waic2 <- waic(log_lik2))\n",
    "print(compare(waic1, waic2), digits = 2)"
   ]
  },
  {
   "cell_type": "code",
   "execution_count": 16,
   "metadata": {},
   "outputs": [
    {
     "name": "stderr",
     "output_type": "stream",
     "text": [
      "Installing package into ‘/share/software/user/open/r-rstan/2.17.3’\n",
      "(as ‘lib’ is unspecified)\n",
      "Warning message in install.packages(\"compare\"):\n",
      "“'lib = \"/share/software/user/open/r-rstan/2.17.3\"' is not writable”"
     ]
    },
    {
     "ename": "ERROR",
     "evalue": "Error in install.packages(\"compare\"): unable to install packages\n",
     "output_type": "error",
     "traceback": [
      "Error in install.packages(\"compare\"): unable to install packages\nTraceback:\n",
      "1. install.packages(\"compare\")",
      "2. stop(\"unable to install packages\")"
     ]
    }
   ],
   "source": []
  },
  {
   "cell_type": "code",
   "execution_count": null,
   "metadata": {
    "collapsed": true
   },
   "outputs": [],
   "source": [
    "### look at the M2 output\n",
    "\n",
    "load(sprintf(\"../data\n",
    " "
   ]
  }
 ],
 "metadata": {
  "kernelspec": {
   "display_name": "R",
   "language": "R",
   "name": "ir"
  },
  "language_info": {
   "codemirror_mode": "r",
   "file_extension": ".r",
   "mimetype": "text/x-r-source",
   "name": "R",
   "pygments_lexer": "r",
   "version": "3.4.0"
  }
 },
 "nbformat": 4,
 "nbformat_minor": 2
}
