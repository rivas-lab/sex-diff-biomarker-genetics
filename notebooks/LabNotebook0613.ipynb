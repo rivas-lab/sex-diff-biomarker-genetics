{
 "cells": [
  {
   "cell_type": "code",
   "execution_count": 2,
   "metadata": {},
   "outputs": [
    {
     "name": "stderr",
     "output_type": "stream",
     "text": [
      "Loading required package: tidyverse\n",
      "── Attaching packages ─────────────────────────────────────── tidyverse 1.2.1 ──\n",
      "✔ ggplot2 2.2.1     ✔ purrr   0.2.4\n",
      "✔ tibble  1.4.2     ✔ dplyr   0.7.4\n",
      "✔ tidyr   0.8.1     ✔ stringr 1.3.0\n",
      "✔ readr   1.1.1     ✔ forcats 0.3.0\n",
      "── Conflicts ────────────────────────────────────────── tidyverse_conflicts() ──\n",
      "✖ dplyr::filter() masks stats::filter()\n",
      "✖ dplyr::lag()    masks stats::lag()\n",
      "Loading required package: data.table\n",
      "\n",
      "Attaching package: ‘data.table’\n",
      "\n",
      "The following objects are masked from ‘package:dplyr’:\n",
      "\n",
      "    between, first, last\n",
      "\n",
      "The following object is masked from ‘package:purrr’:\n",
      "\n",
      "    transpose\n",
      "\n",
      "Loading required package: reshape2\n",
      "\n",
      "Attaching package: ‘reshape2’\n",
      "\n",
      "The following objects are masked from ‘package:data.table’:\n",
      "\n",
      "    dcast, melt\n",
      "\n",
      "The following object is masked from ‘package:tidyr’:\n",
      "\n",
      "    smiths\n",
      "\n"
     ]
    }
   ],
   "source": [
    "require('tidyverse')\n",
    "require('data.table')\n",
    "require('dplyr')\n",
    "require('reshape2')\n",
    "options(stringsAsFactors=FALSE)"
   ]
  },
  {
   "cell_type": "code",
   "execution_count": 3,
   "metadata": {},
   "outputs": [],
   "source": [
    "biomarker_phe <- fread(\"/oak/stanford/groups/mrivas/projects/biomarkers/covariate_corrected/phenotypes/raw/biomarkers_serum_full.phe\",\n",
    "                      data.table=FALSE)\n"
   ]
  },
  {
   "cell_type": "code",
   "execution_count": 4,
   "metadata": {},
   "outputs": [
    {
     "data": {
      "text/html": [
       "<table>\n",
       "<thead><tr><th scope=col>IID</th><th scope=col>variable</th><th scope=col>value</th></tr></thead>\n",
       "<tbody>\n",
       "\t<tr><td>5586147    </td><td>f.30600.0.0</td><td>NA         </td></tr>\n",
       "\t<tr><td>5144865    </td><td>f.30600.0.0</td><td>NA         </td></tr>\n",
       "\t<tr><td>2845962    </td><td>f.30600.0.0</td><td>46.07      </td></tr>\n",
       "\t<tr><td>3390045    </td><td>f.30600.0.0</td><td>47.45      </td></tr>\n",
       "\t<tr><td>4264965    </td><td>f.30600.0.0</td><td>45.75      </td></tr>\n",
       "\t<tr><td>3131746    </td><td>f.30600.0.0</td><td>49.71      </td></tr>\n",
       "</tbody>\n",
       "</table>\n"
      ],
      "text/latex": [
       "\\begin{tabular}{r|lll}\n",
       " IID & variable & value\\\\\n",
       "\\hline\n",
       "\t 5586147     & f.30600.0.0 & NA         \\\\\n",
       "\t 5144865     & f.30600.0.0 & NA         \\\\\n",
       "\t 2845962     & f.30600.0.0 & 46.07      \\\\\n",
       "\t 3390045     & f.30600.0.0 & 47.45      \\\\\n",
       "\t 4264965     & f.30600.0.0 & 45.75      \\\\\n",
       "\t 3131746     & f.30600.0.0 & 49.71      \\\\\n",
       "\\end{tabular}\n"
      ],
      "text/markdown": [
       "\n",
       "IID | variable | value | \n",
       "|---|---|---|---|---|---|\n",
       "| 5586147     | f.30600.0.0 | NA          | \n",
       "| 5144865     | f.30600.0.0 | NA          | \n",
       "| 2845962     | f.30600.0.0 | 46.07       | \n",
       "| 3390045     | f.30600.0.0 | 47.45       | \n",
       "| 4264965     | f.30600.0.0 | 45.75       | \n",
       "| 3131746     | f.30600.0.0 | 49.71       | \n",
       "\n",
       "\n"
      ],
      "text/plain": [
       "  IID     variable    value\n",
       "1 5586147 f.30600.0.0 NA   \n",
       "2 5144865 f.30600.0.0 NA   \n",
       "3 2845962 f.30600.0.0 46.07\n",
       "4 3390045 f.30600.0.0 47.45\n",
       "5 4264965 f.30600.0.0 45.75\n",
       "6 3131746 f.30600.0.0 49.71"
      ]
     },
     "metadata": {},
     "output_type": "display_data"
    }
   ],
   "source": [
    "biomarker_phe <- rename(biomarker_phe, IID=f.eid)\n",
    "bio_long <- melt(biomarker_phe, id.vars=c(\"IID\"))\n",
    "head(bio_long)"
   ]
  },
  {
   "cell_type": "code",
   "execution_count": 5,
   "metadata": {
    "collapsed": true
   },
   "outputs": [],
   "source": [
    "bio_long_s <- head(bio_long,800)"
   ]
  },
  {
   "cell_type": "code",
   "execution_count": 6,
   "metadata": {},
   "outputs": [
    {
     "data": {
      "text/html": [
       "<table>\n",
       "<thead><tr><th scope=col>IID</th><th scope=col>NA</th><th scope=col>trait</th><th scope=col>visit</th><th scope=col>NA</th><th scope=col>value</th></tr></thead>\n",
       "<tbody>\n",
       "\t<tr><td>5586147</td><td>f      </td><td>30600  </td><td>0      </td><td>0      </td><td>NA     </td></tr>\n",
       "\t<tr><td>5144865</td><td>f      </td><td>30600  </td><td>0      </td><td>0      </td><td>NA     </td></tr>\n",
       "\t<tr><td>2845962</td><td>f      </td><td>30600  </td><td>0      </td><td>0      </td><td>46.07  </td></tr>\n",
       "\t<tr><td>3390045</td><td>f      </td><td>30600  </td><td>0      </td><td>0      </td><td>47.45  </td></tr>\n",
       "\t<tr><td>4264965</td><td>f      </td><td>30600  </td><td>0      </td><td>0      </td><td>45.75  </td></tr>\n",
       "\t<tr><td>3131746</td><td>f      </td><td>30600  </td><td>0      </td><td>0      </td><td>49.71  </td></tr>\n",
       "</tbody>\n",
       "</table>\n"
      ],
      "text/latex": [
       "\\begin{tabular}{r|llllll}\n",
       " IID & NA & trait & visit & NA & value\\\\\n",
       "\\hline\n",
       "\t 5586147 & f       & 30600   & 0       & 0       & NA     \\\\\n",
       "\t 5144865 & f       & 30600   & 0       & 0       & NA     \\\\\n",
       "\t 2845962 & f       & 30600   & 0       & 0       & 46.07  \\\\\n",
       "\t 3390045 & f       & 30600   & 0       & 0       & 47.45  \\\\\n",
       "\t 4264965 & f       & 30600   & 0       & 0       & 45.75  \\\\\n",
       "\t 3131746 & f       & 30600   & 0       & 0       & 49.71  \\\\\n",
       "\\end{tabular}\n"
      ],
      "text/markdown": [
       "\n",
       "IID | NA | trait | visit | NA | value | \n",
       "|---|---|---|---|---|---|\n",
       "| 5586147 | f       | 30600   | 0       | 0       | NA      | \n",
       "| 5144865 | f       | 30600   | 0       | 0       | NA      | \n",
       "| 2845962 | f       | 30600   | 0       | 0       | 46.07   | \n",
       "| 3390045 | f       | 30600   | 0       | 0       | 47.45   | \n",
       "| 4264965 | f       | 30600   | 0       | 0       | 45.75   | \n",
       "| 3131746 | f       | 30600   | 0       | 0       | 49.71   | \n",
       "\n",
       "\n"
      ],
      "text/plain": [
       "  IID     <NA> trait visit <NA> value\n",
       "1 5586147 f    30600 0     0    NA   \n",
       "2 5144865 f    30600 0     0    NA   \n",
       "3 2845962 f    30600 0     0    46.07\n",
       "4 3390045 f    30600 0     0    47.45\n",
       "5 4264965 f    30600 0     0    45.75\n",
       "6 3131746 f    30600 0     0    49.71"
      ]
     },
     "metadata": {},
     "output_type": "display_data"
    }
   ],
   "source": [
    "bio_long2 <- bio_long_s %>% separate(variable, c(NA, \"trait\", \"visit\", NA))\n",
    "head(bio_long2)"
   ]
  },
  {
   "cell_type": "code",
   "execution_count": 8,
   "metadata": {},
   "outputs": [],
   "source": [
    "bio_mat <- dcast(bio_long2,  IID + visit ~ trait, value.var=\"value\")"
   ]
  },
  {
   "cell_type": "code",
   "execution_count": 10,
   "metadata": {},
   "outputs": [
    {
     "data": {
      "text/plain": [
       "keep.rows\n",
       "TRUE \n",
       " 800 "
      ]
     },
     "metadata": {},
     "output_type": "display_data"
    },
    {
     "data": {
      "text/plain": [
       "\n",
       "TRUE \n",
       " 800 "
      ]
     },
     "metadata": {},
     "output_type": "display_data"
    },
    {
     "data": {
      "text/html": [
       "<table>\n",
       "<thead><tr><th scope=col>IID</th><th scope=col>visit</th><th scope=col>30600</th></tr></thead>\n",
       "<tbody>\n",
       "\t<tr><td>1001331</td><td>0      </td><td>NA     </td></tr>\n",
       "\t<tr><td>1003238</td><td>0      </td><td>48.72  </td></tr>\n",
       "\t<tr><td>1005259</td><td>0      </td><td>48.45  </td></tr>\n",
       "\t<tr><td>1007447</td><td>0      </td><td>40.87  </td></tr>\n",
       "\t<tr><td>1016322</td><td>0      </td><td>48.52  </td></tr>\n",
       "\t<tr><td>1016888</td><td>0      </td><td>45.86  </td></tr>\n",
       "</tbody>\n",
       "</table>\n"
      ],
      "text/latex": [
       "\\begin{tabular}{r|lll}\n",
       " IID & visit & 30600\\\\\n",
       "\\hline\n",
       "\t 1001331 & 0       & NA     \\\\\n",
       "\t 1003238 & 0       & 48.72  \\\\\n",
       "\t 1005259 & 0       & 48.45  \\\\\n",
       "\t 1007447 & 0       & 40.87  \\\\\n",
       "\t 1016322 & 0       & 48.52  \\\\\n",
       "\t 1016888 & 0       & 45.86  \\\\\n",
       "\\end{tabular}\n"
      ],
      "text/markdown": [
       "\n",
       "IID | visit | 30600 | \n",
       "|---|---|---|---|---|---|\n",
       "| 1001331 | 0       | NA      | \n",
       "| 1003238 | 0       | 48.72   | \n",
       "| 1005259 | 0       | 48.45   | \n",
       "| 1007447 | 0       | 40.87   | \n",
       "| 1016322 | 0       | 48.52   | \n",
       "| 1016888 | 0       | 45.86   | \n",
       "\n",
       "\n"
      ],
      "text/plain": [
       "  IID     visit 30600\n",
       "1 1001331 0     NA   \n",
       "2 1003238 0     48.72\n",
       "3 1005259 0     48.45\n",
       "4 1007447 0     40.87\n",
       "5 1016322 0     48.52\n",
       "6 1016888 0     45.86"
      ]
     },
     "metadata": {},
     "output_type": "display_data"
    }
   ],
   "source": [
    "keep.rows <- apply(bio_mat[,2:ncol(bio_mat)], 1, function(x) any(!is.na(x)))\n",
    "table(keep.rows)\n",
    "bio_mat2 <- bio_mat[keep.rows,]\n",
    "table(bio_mat2$IID >=0)\n",
    "bio_mat3 <- filter(bio_mat2, IID >= 0)\n",
    "head(bio_mat3)\n",
    "write.table(bio_mat3, file=\"../data/biomarker_visit_mat.txt\", row.names=FALSE, quote=FALSE)"
   ]
  }
 ],
 "metadata": {
  "kernelspec": {
   "display_name": "R",
   "language": "R",
   "name": "ir"
  },
  "language_info": {
   "codemirror_mode": "r",
   "file_extension": ".r",
   "mimetype": "text/x-r-source",
   "name": "R",
   "pygments_lexer": "r",
   "version": "3.4.0"
  }
 },
 "nbformat": 4,
 "nbformat_minor": 2
}
