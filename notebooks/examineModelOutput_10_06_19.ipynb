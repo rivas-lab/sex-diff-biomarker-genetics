{
 "cells": [
  {
   "cell_type": "markdown",
   "metadata": {},
   "source": [
    "# Examine Model Output\n",
    "\n",
    "10/16/2019\n",
    "\n",
    "Code for examining model output from the \"frozen\" run."
   ]
  },
  {
   "cell_type": "code",
   "execution_count": 1,
   "metadata": {},
   "outputs": [
    {
     "name": "stderr",
     "output_type": "stream",
     "text": [
      "Loading required package: rstan\n",
      "Loading required package: ggplot2\n",
      "Loading required package: StanHeaders\n",
      "rstan (Version 2.17.3, GitRev: 2e1f913d3ca3)\n",
      "For execution on a local, multicore CPU with excess RAM we recommend calling\n",
      "options(mc.cores = parallel::detectCores()).\n",
      "To avoid recompilation of unchanged Stan programs, we recommend calling\n",
      "rstan_options(auto_write = TRUE)\n",
      "Loading required package: tidyverse\n",
      "── Attaching packages ─────────────────────────────────────── tidyverse 1.2.1 ──\n",
      "✔ tibble  1.4.2     ✔ purrr   0.2.4\n",
      "✔ tidyr   0.8.1     ✔ dplyr   0.7.4\n",
      "✔ readr   1.1.1     ✔ stringr 1.3.0\n",
      "✔ tibble  1.4.2     ✔ forcats 0.3.0\n",
      "── Conflicts ────────────────────────────────────────── tidyverse_conflicts() ──\n",
      "✖ tidyr::extract() masks rstan::extract()\n",
      "✖ dplyr::filter()  masks stats::filter()\n",
      "✖ dplyr::lag()     masks stats::lag()\n"
     ]
    }
   ],
   "source": [
    "require('rstan')\n",
    "require('tidyverse')"
   ]
  },
  {
   "cell_type": "code",
   "execution_count": 2,
   "metadata": {
    "collapsed": true
   },
   "outputs": [],
   "source": [
    "BIOMARKER_DIR <- \"/scratch/PI/mrivas/users/erflynn/sex_div_gwas/data/biomarker\"\n"
   ]
  },
  {
   "cell_type": "markdown",
   "metadata": {},
   "source": [
    "## load M1 output"
   ]
  },
  {
   "cell_type": "code",
   "execution_count": 3,
   "metadata": {
    "collapsed": true
   },
   "outputs": [],
   "source": [
    "# load a particular trait - let's try WHR\n",
    "trait <- \"whr\"\n",
    "load(sprintf(\"%s/f_%s.RData\", BIOMARKER_DIR, trait)) # --> fit1\n",
    "load(sprintf(\"%s/dat_%s.RData\", BIOMARKER_DIR, trait)) # --> dat\n",
    "\n",
    "trait_summary <- read.delim(sprintf(\"%s/summary_dat_%s_2_.txt\", BIOMARKER_DIR, trait),sep=\" \")\n",
    "\n",
    "# column names depend on the dimension\n",
    "# t(c(trait, dat$dat$N, unlist(m1.pi), unlist(m1.Sigma), unlist(rg), unlist(rg.c$l), unlist(rg.c$u), unlist(h)))\n",
    "# rg.l and rg.u are the 95% CI for rg\n",
    "m1.cols <-  c(\"trait\", \"n\", \"pi[1]\", \"pi[2]\", \"Sigma[1,1]\", \"Sigma[1,2]\", \"Sigma[2,1]\", \"Sigma[2,2]\", \"rg\", \"rg.l\", \"rg.u\", \"h.f\", \"h.m\")\n",
    "colnames(trait_summary) <- m1.cols"
   ]
  },
  {
   "cell_type": "code",
   "execution_count": 13,
   "metadata": {},
   "outputs": [
    {
     "data": {
      "text/html": [
       "<table>\n",
       "<thead><tr><th scope=col>trait</th><th scope=col>n</th><th scope=col>pi[1]</th><th scope=col>pi[2]</th><th scope=col>Sigma[1,1]</th><th scope=col>Sigma[1,2]</th><th scope=col>Sigma[2,1]</th><th scope=col>Sigma[2,2]</th><th scope=col>rg</th><th scope=col>rg.l</th><th scope=col>rg.u</th><th scope=col>h.f</th><th scope=col>h.m</th></tr></thead>\n",
       "<tbody>\n",
       "\t<tr><td>whr         </td><td>330090      </td><td>0.6899581   </td><td>0.3100419   </td><td>3.871568e-05</td><td>2.551954e-05</td><td>2.551954e-05</td><td>2.997884e-05</td><td>0.7491182   </td><td>0.731743    </td><td>0.7668564   </td><td>0.2109145   </td><td>0.1717543   </td></tr>\n",
       "</tbody>\n",
       "</table>\n"
      ],
      "text/latex": [
       "\\begin{tabular}{r|lllllllllllll}\n",
       " trait & n & pi{[}1{]} & pi{[}2{]} & Sigma{[}1,1{]} & Sigma{[}1,2{]} & Sigma{[}2,1{]} & Sigma{[}2,2{]} & rg & rg.l & rg.u & h.f & h.m\\\\\n",
       "\\hline\n",
       "\t whr          & 330090       & 0.6899581    & 0.3100419    & 3.871568e-05 & 2.551954e-05 & 2.551954e-05 & 2.997884e-05 & 0.7491182    & 0.731743     & 0.7668564    & 0.2109145    & 0.1717543   \\\\\n",
       "\\end{tabular}\n"
      ],
      "text/markdown": [
       "\n",
       "trait | n | pi[1] | pi[2] | Sigma[1,1] | Sigma[1,2] | Sigma[2,1] | Sigma[2,2] | rg | rg.l | rg.u | h.f | h.m | \n",
       "|---|\n",
       "| whr          | 330090       | 0.6899581    | 0.3100419    | 3.871568e-05 | 2.551954e-05 | 2.551954e-05 | 2.997884e-05 | 0.7491182    | 0.731743     | 0.7668564    | 0.2109145    | 0.1717543    | \n",
       "\n",
       "\n"
      ],
      "text/plain": [
       "  trait n      pi[1]     pi[2]     Sigma[1,1]   Sigma[1,2]   Sigma[2,1]  \n",
       "1 whr   330090 0.6899581 0.3100419 3.871568e-05 2.551954e-05 2.551954e-05\n",
       "  Sigma[2,2]   rg        rg.l     rg.u      h.f       h.m      \n",
       "1 2.997884e-05 0.7491182 0.731743 0.7668564 0.2109145 0.1717543"
      ]
     },
     "metadata": {},
     "output_type": "display_data"
    },
    {
     "name": "stdout",
     "output_type": "stream",
     "text": [
      "List of 3\n",
      " $ dat:List of 5\n",
      "  ..$ N : int 330090\n",
      "  ..$ M : int 2\n",
      "  ..$ B : num [1:330090, 1:2] 0.00892 -0.0058 0.0075 0.00118 0.03992 ...\n",
      "  ..$ SE: num [1:330090, 1:2] 7.27e-03 3.32e-05 2.80e-05 2.15e-04 8.80e-03 ...\n",
      "  ..$ K : num 2\n",
      " $ snp: Named chr [1:330090] \"rs115991721\" \"rs12562034\" \"rs4040617\" \"rs79373928\" ...\n",
      "  ..- attr(*, \"names\")= chr [1:330090] \"rs115991721\" \"rs12562034\" \"rs4040617\" \"rs79373928\" ...\n",
      " $ chr: Named chr [1:330090] \"1\" \"1\" \"1\" \"1\" ...\n",
      "  ..- attr(*, \"names\")= chr [1:330090] \"1\" \"1\" \"1\" \"1\" ...\n",
      "Formal class 'stanfit' [package \"rstan\"] with 10 slots\n",
      "  ..@ model_name: chr \"model1_no_loglik\"\n",
      "  ..@ model_pars: chr [1:7] \"pi\" \"L_Omega\" \"tau\" \"Sigma\" ...\n",
      "  ..@ par_dims  :List of 7\n",
      "  ..@ mode      : int 0\n",
      "  ..@ sim       :List of 12\n",
      "  ..@ inits     :List of 4\n",
      "  ..@ stan_args :List of 4\n",
      "  ..@ stanmodel :Formal class 'stanmodel' [package \"rstan\"] with 5 slots\n",
      "  ..@ date      : chr \"Thu Jun  6 02:15:15 2019\"\n",
      "  ..@ .MISC     :<environment: 0x963aeb8> \n"
     ]
    }
   ],
   "source": [
    "trait_summary %>% head()\n",
    "str(dat, 2)\n",
    "str(fit1, 2)"
   ]
  },
  {
   "cell_type": "code",
   "execution_count": 4,
   "metadata": {},
   "outputs": [
    {
     "name": "stderr",
     "output_type": "stream",
     "text": [
      "Parsed with column specification:\n",
      "cols(\n",
      "  trait = col_character(),\n",
      "  category = col_character(),\n",
      "  variable_name = col_character(),\n",
      "  readable_name = col_character()\n",
      ")\n",
      "Joining, by = \"trait\"\n"
     ]
    },
    {
     "data": {
      "text/html": [
       "<table>\n",
       "<thead><tr><th scope=col>trait</th><th scope=col>category</th><th scope=col>variable_name</th><th scope=col>readable_name</th><th scope=col>n</th><th scope=col>pi[1]</th><th scope=col>pi[2]</th><th scope=col>Sigma[1,1]</th><th scope=col>Sigma[1,2]</th><th scope=col>Sigma[2,1]</th><th scope=col>Sigma[2,2]</th><th scope=col>rg</th><th scope=col>rg.l</th><th scope=col>rg.u</th><th scope=col>h.f</th><th scope=col>h.m</th></tr></thead>\n",
       "<tbody>\n",
       "\t<tr><td>21001                   </td><td>anthropometric traits   </td><td>BMI                     </td><td>BMI                     </td><td>330093                  </td><td>0.6122799               </td><td>0.387720076             </td><td>3.554217e-05            </td><td>3.594623e-05            </td><td>3.594623e-05            </td><td>3.900294e-05            </td><td>0.9655049               </td><td>0.9534735               </td><td>0.9796680               </td><td>0.2172363               </td><td>0.2321698               </td></tr>\n",
       "\t<tr><td>30600                   </td><td>biomarker               </td><td>Albumin                 </td><td>NA                      </td><td>329257                  </td><td>0.9081278               </td><td>0.091872193             </td><td>9.482733e-05            </td><td>9.336865e-05            </td><td>9.336865e-05            </td><td>9.498615e-05            </td><td>0.9838577               </td><td>0.9696727               </td><td>0.9964139               </td><td>0.1278487               </td><td>0.1375049               </td></tr>\n",
       "\t<tr><td>30610                   </td><td>biomarker               </td><td>Alkaline phosphatase    </td><td>NA                      </td><td>330011                  </td><td>0.9730553               </td><td>0.026944659             </td><td>6.440879e-04            </td><td>7.865322e-04            </td><td>7.865322e-04            </td><td>9.831660e-04            </td><td>0.9884096               </td><td>0.9854120               </td><td>0.9912018               </td><td>0.1218310               </td><td>0.1594359               </td></tr>\n",
       "\t<tr><td>30620                   </td><td>biomarker               </td><td>Alanine aminotransferase</td><td>NA                      </td><td>329746                  </td><td>0.8947739               </td><td>0.105226063             </td><td>7.172421e-05            </td><td>6.960079e-05            </td><td>6.960079e-05            </td><td>7.873114e-05            </td><td>0.9262760               </td><td>0.9077810               </td><td>0.9433732               </td><td>       NA               </td><td>       NA               </td></tr>\n",
       "\t<tr><td>30630                   </td><td>biomarker               </td><td>Apolipoprotein A        </td><td>NA                      </td><td>329094                  </td><td>0.9582231               </td><td>0.041776899             </td><td>3.451655e-04            </td><td>3.526252e-04            </td><td>3.526252e-04            </td><td>3.808396e-04            </td><td>0.9726059               </td><td>0.9654149               </td><td>0.9790811               </td><td>0.1216364               </td><td>0.1351325               </td></tr>\n",
       "\t<tr><td>30640                   </td><td>biomarker               </td><td>Apolipoprotein B        </td><td>NA                      </td><td>329722                  </td><td>0.9919588               </td><td>0.008041158             </td><td>2.344222e-03            </td><td>2.028669e-03            </td><td>2.028669e-03            </td><td>1.809115e-03            </td><td>0.9851004               </td><td>0.9816250               </td><td>0.9880179               </td><td>0.1419184               </td><td>0.1100582               </td></tr>\n",
       "</tbody>\n",
       "</table>\n"
      ],
      "text/latex": [
       "\\begin{tabular}{r|llllllllllllllll}\n",
       " trait & category & variable\\_name & readable\\_name & n & pi{[}1{]} & pi{[}2{]} & Sigma{[}1,1{]} & Sigma{[}1,2{]} & Sigma{[}2,1{]} & Sigma{[}2,2{]} & rg & rg.l & rg.u & h.f & h.m\\\\\n",
       "\\hline\n",
       "\t 21001                    & anthropometric traits    & BMI                      & BMI                      & 330093                   & 0.6122799                & 0.387720076              & 3.554217e-05             & 3.594623e-05             & 3.594623e-05             & 3.900294e-05             & 0.9655049                & 0.9534735                & 0.9796680                & 0.2172363                & 0.2321698               \\\\\n",
       "\t 30600                    & biomarker                & Albumin                  & NA                       & 329257                   & 0.9081278                & 0.091872193              & 9.482733e-05             & 9.336865e-05             & 9.336865e-05             & 9.498615e-05             & 0.9838577                & 0.9696727                & 0.9964139                & 0.1278487                & 0.1375049               \\\\\n",
       "\t 30610                    & biomarker                & Alkaline phosphatase     & NA                       & 330011                   & 0.9730553                & 0.026944659              & 6.440879e-04             & 7.865322e-04             & 7.865322e-04             & 9.831660e-04             & 0.9884096                & 0.9854120                & 0.9912018                & 0.1218310                & 0.1594359               \\\\\n",
       "\t 30620                    & biomarker                & Alanine aminotransferase & NA                       & 329746                   & 0.8947739                & 0.105226063              & 7.172421e-05             & 6.960079e-05             & 6.960079e-05             & 7.873114e-05             & 0.9262760                & 0.9077810                & 0.9433732                &        NA                &        NA               \\\\\n",
       "\t 30630                    & biomarker                & Apolipoprotein A         & NA                       & 329094                   & 0.9582231                & 0.041776899              & 3.451655e-04             & 3.526252e-04             & 3.526252e-04             & 3.808396e-04             & 0.9726059                & 0.9654149                & 0.9790811                & 0.1216364                & 0.1351325               \\\\\n",
       "\t 30640                    & biomarker                & Apolipoprotein B         & NA                       & 329722                   & 0.9919588                & 0.008041158              & 2.344222e-03             & 2.028669e-03             & 2.028669e-03             & 1.809115e-03             & 0.9851004                & 0.9816250                & 0.9880179                & 0.1419184                & 0.1100582               \\\\\n",
       "\\end{tabular}\n"
      ],
      "text/markdown": [
       "\n",
       "trait | category | variable_name | readable_name | n | pi[1] | pi[2] | Sigma[1,1] | Sigma[1,2] | Sigma[2,1] | Sigma[2,2] | rg | rg.l | rg.u | h.f | h.m | \n",
       "|---|---|---|---|---|---|\n",
       "| 21001                    | anthropometric traits    | BMI                      | BMI                      | 330093                   | 0.6122799                | 0.387720076              | 3.554217e-05             | 3.594623e-05             | 3.594623e-05             | 3.900294e-05             | 0.9655049                | 0.9534735                | 0.9796680                | 0.2172363                | 0.2321698                | \n",
       "| 30600                    | biomarker                | Albumin                  | NA                       | 329257                   | 0.9081278                | 0.091872193              | 9.482733e-05             | 9.336865e-05             | 9.336865e-05             | 9.498615e-05             | 0.9838577                | 0.9696727                | 0.9964139                | 0.1278487                | 0.1375049                | \n",
       "| 30610                    | biomarker                | Alkaline phosphatase     | NA                       | 330011                   | 0.9730553                | 0.026944659              | 6.440879e-04             | 7.865322e-04             | 7.865322e-04             | 9.831660e-04             | 0.9884096                | 0.9854120                | 0.9912018                | 0.1218310                | 0.1594359                | \n",
       "| 30620                    | biomarker                | Alanine aminotransferase | NA                       | 329746                   | 0.8947739                | 0.105226063              | 7.172421e-05             | 6.960079e-05             | 6.960079e-05             | 7.873114e-05             | 0.9262760                | 0.9077810                | 0.9433732                |        NA                |        NA                | \n",
       "| 30630                    | biomarker                | Apolipoprotein A         | NA                       | 329094                   | 0.9582231                | 0.041776899              | 3.451655e-04             | 3.526252e-04             | 3.526252e-04             | 3.808396e-04             | 0.9726059                | 0.9654149                | 0.9790811                | 0.1216364                | 0.1351325                | \n",
       "| 30640                    | biomarker                | Apolipoprotein B         | NA                       | 329722                   | 0.9919588                | 0.008041158              | 2.344222e-03             | 2.028669e-03             | 2.028669e-03             | 1.809115e-03             | 0.9851004                | 0.9816250                | 0.9880179                | 0.1419184                | 0.1100582                | \n",
       "\n",
       "\n"
      ],
      "text/plain": [
       "  trait category              variable_name            readable_name n     \n",
       "1 21001 anthropometric traits BMI                      BMI           330093\n",
       "2 30600 biomarker             Albumin                  NA            329257\n",
       "3 30610 biomarker             Alkaline phosphatase     NA            330011\n",
       "4 30620 biomarker             Alanine aminotransferase NA            329746\n",
       "5 30630 biomarker             Apolipoprotein A         NA            329094\n",
       "6 30640 biomarker             Apolipoprotein B         NA            329722\n",
       "  pi[1]     pi[2]       Sigma[1,1]   Sigma[1,2]   Sigma[2,1]   Sigma[2,2]  \n",
       "1 0.6122799 0.387720076 3.554217e-05 3.594623e-05 3.594623e-05 3.900294e-05\n",
       "2 0.9081278 0.091872193 9.482733e-05 9.336865e-05 9.336865e-05 9.498615e-05\n",
       "3 0.9730553 0.026944659 6.440879e-04 7.865322e-04 7.865322e-04 9.831660e-04\n",
       "4 0.8947739 0.105226063 7.172421e-05 6.960079e-05 6.960079e-05 7.873114e-05\n",
       "5 0.9582231 0.041776899 3.451655e-04 3.526252e-04 3.526252e-04 3.808396e-04\n",
       "6 0.9919588 0.008041158 2.344222e-03 2.028669e-03 2.028669e-03 1.809115e-03\n",
       "  rg        rg.l      rg.u      h.f       h.m      \n",
       "1 0.9655049 0.9534735 0.9796680 0.2172363 0.2321698\n",
       "2 0.9838577 0.9696727 0.9964139 0.1278487 0.1375049\n",
       "3 0.9884096 0.9854120 0.9912018 0.1218310 0.1594359\n",
       "4 0.9262760 0.9077810 0.9433732        NA        NA\n",
       "5 0.9726059 0.9654149 0.9790811 0.1216364 0.1351325\n",
       "6 0.9851004 0.9816250 0.9880179 0.1419184 0.1100582"
      ]
     },
     "metadata": {},
     "output_type": "display_data"
    }
   ],
   "source": [
    "# grab all the pi, rg, h values --> write to a csv\n",
    "summary_file_list <- list.files(BIOMARKER_DIR, pattern=\".txt$\")\n",
    "summary_df <- do.call(rbind, lapply(summary_file_list, function(x) {\n",
    "    read.delim(sprintf(\"%s/%s\", BIOMARKER_DIR, x), header=TRUE, sep=\" \")}))\n",
    "colnames(summary_df) <- m1.cols\n",
    "\n",
    "list_traits <- read_csv(\"/scratch/PI/mrivas/users/erflynn/sex_div_gwas/data/ListPheCodes.csv\")\n",
    "\n",
    "summary_df2 <- right_join(list_traits, summary_df)\n",
    "summary_df2 %>% head()"
   ]
  },
  {
   "cell_type": "code",
   "execution_count": 27,
   "metadata": {
    "collapsed": true
   },
   "outputs": [],
   "source": [
    "write_csv(summary_df2, \"/scratch/PI/mrivas/users/erflynn/sex_div_gwas/data/m1_output_10_06.csv\")"
   ]
  },
  {
   "cell_type": "code",
   "execution_count": 6,
   "metadata": {},
   "outputs": [
    {
     "data": {
      "text/html": [
       "<table>\n",
       "<thead><tr><th scope=col>trait</th><th scope=col>int_type</th><th scope=col>h_type</th><th scope=col>val</th></tr></thead>\n",
       "<tbody>\n",
       "\t<tr><td>Albumin             </td><td>up                  </td><td>hf                  </td><td>0.128502190797067   </td></tr>\n",
       "\t<tr><td>Albumin             </td><td>low                 </td><td>hf                  </td><td>0.111511078152825   </td></tr>\n",
       "\t<tr><td>Albumin             </td><td>up                  </td><td>hm                  </td><td>0.134750333073872   </td></tr>\n",
       "\t<tr><td>Albumin             </td><td>low                 </td><td>hm                  </td><td>0.116944620884415   </td></tr>\n",
       "\t<tr><td>Alkaline_phosphatase</td><td>up                  </td><td>hf                  </td><td>0.133720470569383   </td></tr>\n",
       "\t<tr><td>Alkaline_phosphatase</td><td>low                 </td><td>hf                  </td><td>0.116185487713306   </td></tr>\n",
       "</tbody>\n",
       "</table>\n"
      ],
      "text/latex": [
       "\\begin{tabular}{r|llll}\n",
       " trait & int\\_type & h\\_type & val\\\\\n",
       "\\hline\n",
       "\t Albumin              & up                   & hf                   & 0.128502190797067   \\\\\n",
       "\t Albumin              & low                  & hf                   & 0.111511078152825   \\\\\n",
       "\t Albumin              & up                   & hm                   & 0.134750333073872   \\\\\n",
       "\t Albumin              & low                  & hm                   & 0.116944620884415   \\\\\n",
       "\t Alkaline\\_phosphatase & up                     & hf                     & 0.133720470569383     \\\\\n",
       "\t Alkaline\\_phosphatase & low                    & hf                     & 0.116185487713306     \\\\\n",
       "\\end{tabular}\n"
      ],
      "text/markdown": [
       "\n",
       "trait | int_type | h_type | val | \n",
       "|---|---|---|---|---|---|\n",
       "| Albumin              | up                   | hf                   | 0.128502190797067    | \n",
       "| Albumin              | low                  | hf                   | 0.111511078152825    | \n",
       "| Albumin              | up                   | hm                   | 0.134750333073872    | \n",
       "| Albumin              | low                  | hm                   | 0.116944620884415    | \n",
       "| Alkaline_phosphatase | up                   | hf                   | 0.133720470569383    | \n",
       "| Alkaline_phosphatase | low                  | hf                   | 0.116185487713306    | \n",
       "\n",
       "\n"
      ],
      "text/plain": [
       "  trait                int_type h_type val              \n",
       "1 Albumin              up       hf     0.128502190797067\n",
       "2 Albumin              low      hf     0.111511078152825\n",
       "3 Albumin              up       hm     0.134750333073872\n",
       "4 Albumin              low      hm     0.116944620884415\n",
       "5 Alkaline_phosphatase up       hf     0.133720470569383\n",
       "6 Alkaline_phosphatase low      hf     0.116185487713306"
      ]
     },
     "metadata": {},
     "output_type": "display_data"
    }
   ],
   "source": [
    "# read in error bars\n",
    "err_bar_list <- list.files(sprintf(\"%s/herit/\", BIOMARKER_DIR), pattern=\".txt$\")\n",
    "err_bars <- do.call(rbind, lapply(err_bar_list, function(x) {\n",
    "    read.delim(sprintf(\"%s/herit/%s\",BIOMARKER_DIR, x), header=FALSE, sep=\" \")}))\n",
    "colnames(err_bars) <- c(\"trait\", \"int_type\", \"h_type\", \"val\")\n",
    "err_bars <- err_bars %>% filter(!is.na(val)) \n",
    "err_bars %>% head()"
   ]
  },
  {
   "cell_type": "code",
   "execution_count": 7,
   "metadata": {},
   "outputs": [
    {
     "data": {
      "text/html": [
       "<table>\n",
       "<thead><tr><th scope=col>category</th><th scope=col>variable_name</th><th scope=col>readable_name</th><th scope=col>h_type</th><th scope=col>val</th><th scope=col>int_type</th><th scope=col>trait</th></tr></thead>\n",
       "<tbody>\n",
       "\t<tr><td>anthropometric traits   </td><td>BMI                     </td><td>BMI                     </td><td>hf                      </td><td>0.2172363               </td><td>mid                     </td><td>BMI                     </td></tr>\n",
       "\t<tr><td>biomarker               </td><td>Albumin                 </td><td>NA                      </td><td>hf                      </td><td>0.1278487               </td><td>mid                     </td><td>Albumin                 </td></tr>\n",
       "\t<tr><td>biomarker               </td><td>Alkaline phosphatase    </td><td>NA                      </td><td>hf                      </td><td>0.1218310               </td><td>mid                     </td><td>Alkaline_phosphatase    </td></tr>\n",
       "\t<tr><td>biomarker               </td><td>Alanine aminotransferase</td><td>NA                      </td><td>hf                      </td><td>       NA               </td><td>mid                     </td><td>Alanine_aminotransferase</td></tr>\n",
       "\t<tr><td>biomarker               </td><td>Apolipoprotein A        </td><td>NA                      </td><td>hf                      </td><td>0.1216364               </td><td>mid                     </td><td>Apolipoprotein_A        </td></tr>\n",
       "\t<tr><td>biomarker               </td><td>Apolipoprotein B        </td><td>NA                      </td><td>hf                      </td><td>0.1419184               </td><td>mid                     </td><td>Apolipoprotein_B        </td></tr>\n",
       "</tbody>\n",
       "</table>\n"
      ],
      "text/latex": [
       "\\begin{tabular}{r|lllllll}\n",
       " category & variable\\_name & readable\\_name & h\\_type & val & int\\_type & trait\\\\\n",
       "\\hline\n",
       "\t anthropometric traits    & BMI                      & BMI                      & hf                       & 0.2172363                & mid                      & BMI                     \\\\\n",
       "\t biomarker                & Albumin                  & NA                       & hf                       & 0.1278487                & mid                      & Albumin                 \\\\\n",
       "\t biomarker                  & Alkaline phosphatase       & NA                         & hf                         & 0.1218310                  & mid                        & Alkaline\\_phosphatase    \\\\\n",
       "\t biomarker                  & Alanine aminotransferase   & NA                         & hf                         &        NA                  & mid                        & Alanine\\_aminotransferase\\\\\n",
       "\t biomarker                  & Apolipoprotein A           & NA                         & hf                         & 0.1216364                  & mid                        & Apolipoprotein\\_A        \\\\\n",
       "\t biomarker                  & Apolipoprotein B           & NA                         & hf                         & 0.1419184                  & mid                        & Apolipoprotein\\_B        \\\\\n",
       "\\end{tabular}\n"
      ],
      "text/markdown": [
       "\n",
       "category | variable_name | readable_name | h_type | val | int_type | trait | \n",
       "|---|---|---|---|---|---|\n",
       "| anthropometric traits    | BMI                      | BMI                      | hf                       | 0.2172363                | mid                      | BMI                      | \n",
       "| biomarker                | Albumin                  | NA                       | hf                       | 0.1278487                | mid                      | Albumin                  | \n",
       "| biomarker                | Alkaline phosphatase     | NA                       | hf                       | 0.1218310                | mid                      | Alkaline_phosphatase     | \n",
       "| biomarker                | Alanine aminotransferase | NA                       | hf                       |        NA                | mid                      | Alanine_aminotransferase | \n",
       "| biomarker                | Apolipoprotein A         | NA                       | hf                       | 0.1216364                | mid                      | Apolipoprotein_A         | \n",
       "| biomarker                | Apolipoprotein B         | NA                       | hf                       | 0.1419184                | mid                      | Apolipoprotein_B         | \n",
       "\n",
       "\n"
      ],
      "text/plain": [
       "  category              variable_name            readable_name h_type val      \n",
       "1 anthropometric traits BMI                      BMI           hf     0.2172363\n",
       "2 biomarker             Albumin                  NA            hf     0.1278487\n",
       "3 biomarker             Alkaline phosphatase     NA            hf     0.1218310\n",
       "4 biomarker             Alanine aminotransferase NA            hf            NA\n",
       "5 biomarker             Apolipoprotein A         NA            hf     0.1216364\n",
       "6 biomarker             Apolipoprotein B         NA            hf     0.1419184\n",
       "  int_type trait                   \n",
       "1 mid      BMI                     \n",
       "2 mid      Albumin                 \n",
       "3 mid      Alkaline_phosphatase    \n",
       "4 mid      Alanine_aminotransferase\n",
       "5 mid      Apolipoprotein_A        \n",
       "6 mid      Apolipoprotein_B        "
      ]
     },
     "metadata": {},
     "output_type": "display_data"
    }
   ],
   "source": [
    "summary_h <- summary_df2 %>% \n",
    "rename(\"hf\"=\"h.f\", \"hm\"=\"h.m\") %>%\n",
    "select(category, variable_name, readable_name, hf, hm) %>% \n",
    "gather(key=\"h_type\", value=\"val\", hf, hm) %>%\n",
    "mutate(int_type=\"mid\") %>%\n",
    "mutate(trait=ifelse(is.na(readable_name), gsub(\" \", \"\\\\_\", variable_name), readable_name))\n",
    "\n",
    "\n",
    "summary_h %>% head()\n"
   ]
  },
  {
   "cell_type": "code",
   "execution_count": 11,
   "metadata": {
    "collapsed": true
   },
   "outputs": [],
   "source": [
    "?dcast()"
   ]
  },
  {
   "cell_type": "code",
   "execution_count": 24,
   "metadata": {},
   "outputs": [
    {
     "name": "stderr",
     "output_type": "stream",
     "text": [
      "Warning message in evalq(as.numeric(val), <environment>):\n",
      "“NAs introduced by coercion”"
     ]
    }
   ],
   "source": [
    "combined_dat <- rbind(err_bars, summary_h %>% select(\"trait\", \"int_type\", \"h_type\", \"val\")) %>% \n",
    "mutate(val=as.numeric(val)) %>% filter(!is.na(int_type))\n",
    "\n"
   ]
  },
  {
   "cell_type": "code",
   "execution_count": 25,
   "metadata": {},
   "outputs": [
    {
     "data": {
      "text/html": [
       "<table>\n",
       "<thead><tr><th scope=col>trait</th><th scope=col>int_type</th><th scope=col>h_type</th><th scope=col>val</th></tr></thead>\n",
       "<tbody>\n",
       "\t<tr><td>Albumin             </td><td>up                  </td><td>hf                  </td><td>0.1285022           </td></tr>\n",
       "\t<tr><td>Albumin             </td><td>low                 </td><td>hf                  </td><td>0.1115111           </td></tr>\n",
       "\t<tr><td>Albumin             </td><td>up                  </td><td>hm                  </td><td>0.1347503           </td></tr>\n",
       "\t<tr><td>Albumin             </td><td>low                 </td><td>hm                  </td><td>0.1169446           </td></tr>\n",
       "\t<tr><td>Alkaline_phosphatase</td><td>up                  </td><td>hf                  </td><td>0.1337205           </td></tr>\n",
       "\t<tr><td>Alkaline_phosphatase</td><td>low                 </td><td>hf                  </td><td>0.1161855           </td></tr>\n",
       "</tbody>\n",
       "</table>\n"
      ],
      "text/latex": [
       "\\begin{tabular}{r|llll}\n",
       " trait & int\\_type & h\\_type & val\\\\\n",
       "\\hline\n",
       "\t Albumin              & up                   & hf                   & 0.1285022           \\\\\n",
       "\t Albumin              & low                  & hf                   & 0.1115111           \\\\\n",
       "\t Albumin              & up                   & hm                   & 0.1347503           \\\\\n",
       "\t Albumin              & low                  & hm                   & 0.1169446           \\\\\n",
       "\t Alkaline\\_phosphatase & up                     & hf                     & 0.1337205             \\\\\n",
       "\t Alkaline\\_phosphatase & low                    & hf                     & 0.1161855             \\\\\n",
       "\\end{tabular}\n"
      ],
      "text/markdown": [
       "\n",
       "trait | int_type | h_type | val | \n",
       "|---|---|---|---|---|---|\n",
       "| Albumin              | up                   | hf                   | 0.1285022            | \n",
       "| Albumin              | low                  | hf                   | 0.1115111            | \n",
       "| Albumin              | up                   | hm                   | 0.1347503            | \n",
       "| Albumin              | low                  | hm                   | 0.1169446            | \n",
       "| Alkaline_phosphatase | up                   | hf                   | 0.1337205            | \n",
       "| Alkaline_phosphatase | low                  | hf                   | 0.1161855            | \n",
       "\n",
       "\n"
      ],
      "text/plain": [
       "  trait                int_type h_type val      \n",
       "1 Albumin              up       hf     0.1285022\n",
       "2 Albumin              low      hf     0.1115111\n",
       "3 Albumin              up       hm     0.1347503\n",
       "4 Albumin              low      hm     0.1169446\n",
       "5 Alkaline_phosphatase up       hf     0.1337205\n",
       "6 Alkaline_phosphatase low      hf     0.1161855"
      ]
     },
     "metadata": {},
     "output_type": "display_data"
    },
    {
     "data": {
      "text/html": [
       "<table>\n",
       "<thead><tr><th scope=col>trait</th><th scope=col>h_type</th><th scope=col>low</th><th scope=col>up</th><th scope=col>mid</th></tr></thead>\n",
       "<tbody>\n",
       "\t<tr><td>Alanine_aminotransferase</td><td>hf                      </td><td>      NaN               </td><td>      NaN               </td><td>       NA               </td></tr>\n",
       "\t<tr><td>Alanine_aminotransferase</td><td>hm                      </td><td>      NaN               </td><td>      NaN               </td><td>       NA               </td></tr>\n",
       "\t<tr><td>Albumin                 </td><td>hf                      </td><td>0.1115111               </td><td>0.1285022               </td><td>0.1278487               </td></tr>\n",
       "\t<tr><td>Albumin                 </td><td>hm                      </td><td>0.1169446               </td><td>0.1347503               </td><td>0.1375049               </td></tr>\n",
       "\t<tr><td>Alkaline_phosphatase    </td><td>hf                      </td><td>0.1161855               </td><td>0.1337205               </td><td>0.1218310               </td></tr>\n",
       "\t<tr><td>Alkaline_phosphatase    </td><td>hm                      </td><td>0.1473314               </td><td>0.1695028               </td><td>0.1594359               </td></tr>\n",
       "</tbody>\n",
       "</table>\n"
      ],
      "text/latex": [
       "\\begin{tabular}{r|lllll}\n",
       " trait & h\\_type & low & up & mid\\\\\n",
       "\\hline\n",
       "\t Alanine\\_aminotransferase & hf                         &       NaN                  &       NaN                  &        NA                 \\\\\n",
       "\t Alanine\\_aminotransferase & hm                         &       NaN                  &       NaN                  &        NA                 \\\\\n",
       "\t Albumin                  & hf                       & 0.1115111                & 0.1285022                & 0.1278487               \\\\\n",
       "\t Albumin                  & hm                       & 0.1169446                & 0.1347503                & 0.1375049               \\\\\n",
       "\t Alkaline\\_phosphatase     & hf                         & 0.1161855                  & 0.1337205                  & 0.1218310                 \\\\\n",
       "\t Alkaline\\_phosphatase     & hm                         & 0.1473314                  & 0.1695028                  & 0.1594359                 \\\\\n",
       "\\end{tabular}\n"
      ],
      "text/markdown": [
       "\n",
       "trait | h_type | low | up | mid | \n",
       "|---|---|---|---|---|---|\n",
       "| Alanine_aminotransferase | hf                       |       NaN                |       NaN                |        NA                | \n",
       "| Alanine_aminotransferase | hm                       |       NaN                |       NaN                |        NA                | \n",
       "| Albumin                  | hf                       | 0.1115111                | 0.1285022                | 0.1278487                | \n",
       "| Albumin                  | hm                       | 0.1169446                | 0.1347503                | 0.1375049                | \n",
       "| Alkaline_phosphatase     | hf                       | 0.1161855                | 0.1337205                | 0.1218310                | \n",
       "| Alkaline_phosphatase     | hm                       | 0.1473314                | 0.1695028                | 0.1594359                | \n",
       "\n",
       "\n"
      ],
      "text/plain": [
       "  trait                    h_type low       up        mid      \n",
       "1 Alanine_aminotransferase hf           NaN       NaN        NA\n",
       "2 Alanine_aminotransferase hm           NaN       NaN        NA\n",
       "3 Albumin                  hf     0.1115111 0.1285022 0.1278487\n",
       "4 Albumin                  hm     0.1169446 0.1347503 0.1375049\n",
       "5 Alkaline_phosphatase     hf     0.1161855 0.1337205 0.1218310\n",
       "6 Alkaline_phosphatase     hm     0.1473314 0.1695028 0.1594359"
      ]
     },
     "metadata": {},
     "output_type": "display_data"
    }
   ],
   "source": [
    "combined_dat %>% head()\n",
    "\n",
    "require('reshape2')\n",
    "combined_dat2 <- dcast(combined_dat, trait + h_type ~ int_type, mean, value.var=\"val\")\n",
    "combined_dat2 %>% head()"
   ]
  },
  {
   "cell_type": "code",
   "execution_count": 26,
   "metadata": {},
   "outputs": [
    {
     "name": "stderr",
     "output_type": "stream",
     "text": [
      "Warning message:\n",
      "“Removed 14 rows containing missing values (geom_bar).”Warning message:\n",
      "“Removed 30 rows containing missing values (geom_errorbar).”"
     ]
    },
    {
     "data": {},
     "metadata": {},
     "output_type": "display_data"
    },
    {
     "data": {
      "image/png": "[encoded data removed]",
      "text/plain": [
       "plot without title"
      ]
     },
     "metadata": {},
     "output_type": "display_data"
    }
   ],
   "source": [
    "#heritability plot\n",
    "ggplot(data=combined_dat2, aes(x=trait, y=mid, fill=h_type))+\n",
    "geom_bar(stat=\"identity\", position=position_dodge())+\n",
    "geom_errorbar(aes(ymin=low, ymax=up), position=position_dodge(0.9), color=\"black\", width=0.5) + \n",
    "theme(axis.text.x=element_text(angle=90,hjust=1)) +ylab(\"Heritability\")+xlab(\"Trait\") \n",
    "facet_grid(. ~ category,  scales=\"free\", space=\"free\")\n",
    "\n"
   ]
  },
  {
   "cell_type": "markdown",
   "metadata": {},
   "source": [
    "## load M2 output"
   ]
  },
  {
   "cell_type": "code",
   "execution_count": 31,
   "metadata": {},
   "outputs": [
    {
     "name": "stdout",
     "output_type": "stream",
     "text": [
      "Formal class 'stanfit' [package \"rstan\"] with 10 slots\n",
      "  ..@ model_name: chr \"model2\"\n",
      "  ..@ model_pars: chr [1:7] \"pi\" \"sigmasq\" \"Sigma\" \"a\" ...\n",
      "  ..@ par_dims  :List of 7\n",
      "  ..@ mode      : int 0\n",
      "  ..@ sim       :List of 12\n",
      "  ..@ inits     :List of 4\n",
      "  ..@ stan_args :List of 4\n",
      "  ..@ stanmodel :Formal class 'stanmodel' [package \"rstan\"] with 5 slots\n",
      "  ..@ date      : chr \"Wed Jun  5 09:33:20 2019\"\n",
      "  ..@ .MISC     :<environment: 0x144f2d78> \n",
      "List of 3\n",
      " $ dat:List of 5\n",
      "  ..$ N : int 330090\n",
      "  ..$ M : int 2\n",
      "  ..$ B : num [1:330090, 1:2] 0.00892 -0.0058 0.0075 0.00118 0.03992 ...\n",
      "  ..$ SE: num [1:330090, 1:2] 7.27e-03 3.32e-05 2.80e-05 2.15e-04 8.80e-03 ...\n",
      "  ..$ K : num 4\n",
      " $ snp: Named chr [1:330090] \"rs115991721\" \"rs12562034\" \"rs4040617\" \"rs79373928\" ...\n",
      "  ..- attr(*, \"names\")= chr [1:330090] \"rs115991721\" \"rs12562034\" \"rs4040617\" \"rs79373928\" ...\n",
      " $ chr: Named chr [1:330090] \"1\" \"1\" \"1\" \"1\" ...\n",
      "  ..- attr(*, \"names\")= chr [1:330090] \"1\" \"1\" \"1\" \"1\" ...\n"
     ]
    }
   ],
   "source": [
    "# load a particular trait\n",
    "load(sprintf(\"%s/m2/f_m2_%s.RData\", BIOMARKER_DIR, trait)) # --> fit2\n",
    "load(sprintf(\"%s/m2/dat_%s.RData\", BIOMARKER_DIR, trait)) # --> dat\n",
    "str(fit2,2)\n",
    "str(dat,2)"
   ]
  },
  {
   "cell_type": "code",
   "execution_count": 33,
   "metadata": {
    "collapsed": true
   },
   "outputs": [],
   "source": [
    "snp_tab <- read.delim(sprintf(\"%s/m2/snp_table_%s.txt\", BIOMARKER_DIR, trait), sep=\" \")"
   ]
  },
  {
   "cell_type": "code",
   "execution_count": 34,
   "metadata": {},
   "outputs": [
    {
     "data": {
      "text/html": [
       "<table>\n",
       "<thead><tr><th scope=col>p1</th><th scope=col>p2</th><th scope=col>p3</th><th scope=col>p4</th><th scope=col>category</th><th scope=col>SNP</th></tr></thead>\n",
       "<tbody>\n",
       "\t<tr><td>0.9985514   </td><td>9.079257e-05</td><td>1.316094e-07</td><td>1.357635e-03</td><td>1           </td><td>rs115991721 </td></tr>\n",
       "\t<tr><td>0.9997258   </td><td>1.015015e-05</td><td>9.637125e-08</td><td>2.639836e-04</td><td>1           </td><td>rs12562034  </td></tr>\n",
       "\t<tr><td>0.9999540   </td><td>1.533586e-05</td><td>7.317822e-09</td><td>3.067382e-05</td><td>1           </td><td>rs4040617   </td></tr>\n",
       "\t<tr><td>0.9998536   </td><td>1.561317e-05</td><td>3.201489e-08</td><td>1.307959e-04</td><td>1           </td><td>rs79373928  </td></tr>\n",
       "\t<tr><td>0.9980572   </td><td>1.085985e-04</td><td>2.340372e-07</td><td>1.834009e-03</td><td>1           </td><td>rs59771807  </td></tr>\n",
       "\t<tr><td>0.9988991   </td><td>1.301999e-04</td><td>3.312901e-08</td><td>9.706451e-04</td><td>1           </td><td>rs116452738 </td></tr>\n",
       "</tbody>\n",
       "</table>\n"
      ],
      "text/latex": [
       "\\begin{tabular}{r|llllll}\n",
       " p1 & p2 & p3 & p4 & category & SNP\\\\\n",
       "\\hline\n",
       "\t 0.9985514    & 9.079257e-05 & 1.316094e-07 & 1.357635e-03 & 1            & rs115991721 \\\\\n",
       "\t 0.9997258    & 1.015015e-05 & 9.637125e-08 & 2.639836e-04 & 1            & rs12562034  \\\\\n",
       "\t 0.9999540    & 1.533586e-05 & 7.317822e-09 & 3.067382e-05 & 1            & rs4040617   \\\\\n",
       "\t 0.9998536    & 1.561317e-05 & 3.201489e-08 & 1.307959e-04 & 1            & rs79373928  \\\\\n",
       "\t 0.9980572    & 1.085985e-04 & 2.340372e-07 & 1.834009e-03 & 1            & rs59771807  \\\\\n",
       "\t 0.9988991    & 1.301999e-04 & 3.312901e-08 & 9.706451e-04 & 1            & rs116452738 \\\\\n",
       "\\end{tabular}\n"
      ],
      "text/markdown": [
       "\n",
       "p1 | p2 | p3 | p4 | category | SNP | \n",
       "|---|---|---|---|---|---|\n",
       "| 0.9985514    | 9.079257e-05 | 1.316094e-07 | 1.357635e-03 | 1            | rs115991721  | \n",
       "| 0.9997258    | 1.015015e-05 | 9.637125e-08 | 2.639836e-04 | 1            | rs12562034   | \n",
       "| 0.9999540    | 1.533586e-05 | 7.317822e-09 | 3.067382e-05 | 1            | rs4040617    | \n",
       "| 0.9998536    | 1.561317e-05 | 3.201489e-08 | 1.307959e-04 | 1            | rs79373928   | \n",
       "| 0.9980572    | 1.085985e-04 | 2.340372e-07 | 1.834009e-03 | 1            | rs59771807   | \n",
       "| 0.9988991    | 1.301999e-04 | 3.312901e-08 | 9.706451e-04 | 1            | rs116452738  | \n",
       "\n",
       "\n"
      ],
      "text/plain": [
       "  p1        p2           p3           p4           category SNP        \n",
       "1 0.9985514 9.079257e-05 1.316094e-07 1.357635e-03 1        rs115991721\n",
       "2 0.9997258 1.015015e-05 9.637125e-08 2.639836e-04 1        rs12562034 \n",
       "3 0.9999540 1.533586e-05 7.317822e-09 3.067382e-05 1        rs4040617  \n",
       "4 0.9998536 1.561317e-05 3.201489e-08 1.307959e-04 1        rs79373928 \n",
       "5 0.9980572 1.085985e-04 2.340372e-07 1.834009e-03 1        rs59771807 \n",
       "6 0.9988991 1.301999e-04 3.312901e-08 9.706451e-04 1        rs116452738"
      ]
     },
     "metadata": {},
     "output_type": "display_data"
    }
   ],
   "source": [
    "snp_tab %>% head()"
   ]
  }
 ],
 "metadata": {
  "kernelspec": {
   "display_name": "R",
   "language": "R",
   "name": "ir"
  },
  "language_info": {
   "codemirror_mode": "r",
   "file_extension": ".r",
   "mimetype": "text/x-r-source",
   "name": "R",
   "pygments_lexer": "r",
   "version": "3.4.0"
  }
 },
 "nbformat": 4,
 "nbformat_minor": 2
}
