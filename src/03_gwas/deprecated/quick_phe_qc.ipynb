{
 "cells": [
  {
   "cell_type": "code",
   "execution_count": 97,
   "metadata": {},
   "outputs": [
    {
     "name": "stderr",
     "output_type": "stream",
     "text": [
      "Loading required package: data.table\n",
      "\n",
      "\n",
      "Attaching package: ‘data.table’\n",
      "\n",
      "\n",
      "The following objects are masked from ‘package:dplyr’:\n",
      "\n",
      "    between, first, last\n",
      "\n",
      "\n",
      "The following object is masked from ‘package:purrr’:\n",
      "\n",
      "    transpose\n",
      "\n",
      "\n"
     ]
    }
   ],
   "source": [
    "require('tidyverse')\n",
    "require('data.table')\n",
    "PHE.DIR <- \"../../../phefiles\"\n",
    "ANTHRO.DIR <- \"../../../phefiles/anthro\"\n",
    "BIOMARKER_F_PATH <- \"../../../phefiles/biomarker_f\"\n",
    "BIOMARKER_M_PATH <- \"../../../phefiles/biomarker_m\""
   ]
  },
  {
   "cell_type": "markdown",
   "metadata": {},
   "source": [
    "# ANTHROPOMETRIC TRAITS \n",
    "### remove missing data and outside 6sd"
   ]
  },
  {
   "cell_type": "code",
   "execution_count": 69,
   "metadata": {},
   "outputs": [],
   "source": [
    "zerosex <- read.table(sprintf(\"%s/zerosex.keep\", PHE.DIR))\n",
    "onesex <- read.table(sprintf(\"%s/onesex.keep\", PHE.DIR))"
   ]
  },
  {
   "cell_type": "code",
   "execution_count": 98,
   "metadata": {},
   "outputs": [],
   "source": [
    "COVARIATE_MATRIX <- '/oak/stanford/groups/mrivas/ukbb24983/sqc/ukb24983_GWAS_covar.phe'\n",
    "# read in covariate matrix\n",
    "cov_mat <- fread(COVARIATE_MATRIX, data.table=FALSE) %>% select(IID, sex)"
   ]
  },
  {
   "cell_type": "code",
   "execution_count": 37,
   "metadata": {},
   "outputs": [],
   "source": [
    "# --- WHR --- #\n",
    "wc <- read.table(sprintf(\"%s/INI48.phe\", ANTRHO.DIR))\n",
    "hc <- read.table(sprintf(\"%s/INI49.phe\", ANTHRO.DIR))\n",
    "colnames(wc) <- c(\"FID\", \"IID\", \"wc\")\n",
    "colnames(hc) <- c(\"FID\", \"IID\", \"hc\")"
   ]
  },
  {
   "cell_type": "code",
   "execution_count": 100,
   "metadata": {},
   "outputs": [
    {
     "data": {
      "text/plain": [
       "\n",
       "     0      1 \n",
       "264861 223509 "
      ]
     },
     "metadata": {},
     "output_type": "display_data"
    }
   ],
   "source": [
    "table(cov_mat$sex)"
   ]
  },
  {
   "cell_type": "code",
   "execution_count": 103,
   "metadata": {},
   "outputs": [
    {
     "name": "stdout",
     "output_type": "stream",
     "text": [
      "[1] \"Removed 15339 indiviuals who were missing info.\"\n"
     ]
    },
    {
     "data": {
      "text/html": [
       "<table>\n",
       "<caption>A tibble: 6 × 8</caption>\n",
       "<thead>\n",
       "\t<tr><th scope=col>FID</th><th scope=col>IID</th><th scope=col>trait</th><th scope=col>sex</th><th scope=col>mu_s</th><th scope=col>s_s</th><th scope=col>low_c</th><th scope=col>up_c</th></tr>\n",
       "\t<tr><th scope=col>&lt;int&gt;</th><th scope=col>&lt;int&gt;</th><th scope=col>&lt;dbl&gt;</th><th scope=col>&lt;int&gt;</th><th scope=col>&lt;dbl&gt;</th><th scope=col>&lt;dbl&gt;</th><th scope=col>&lt;dbl&gt;</th><th scope=col>&lt;dbl&gt;</th></tr>\n",
       "</thead>\n",
       "<tbody>\n",
       "\t<tr><td>4646215</td><td>4646215</td><td>101.0</td><td>1</td><td>103.3971</td><td> 7.605907</td><td>57.76164</td><td>149.0325</td></tr>\n",
       "\t<tr><td>5007659</td><td>5007659</td><td>108.0</td><td>1</td><td>103.3971</td><td> 7.605907</td><td>57.76164</td><td>149.0325</td></tr>\n",
       "\t<tr><td>1038854</td><td>1038854</td><td> 99.5</td><td>0</td><td>103.3254</td><td>10.363672</td><td>41.14338</td><td>165.5074</td></tr>\n",
       "\t<tr><td>5441319</td><td>5441319</td><td>104.0</td><td>1</td><td>103.3971</td><td> 7.605907</td><td>57.76164</td><td>149.0325</td></tr>\n",
       "\t<tr><td>5743544</td><td>5743544</td><td> 93.5</td><td>0</td><td>103.3254</td><td>10.363672</td><td>41.14338</td><td>165.5074</td></tr>\n",
       "\t<tr><td>3266897</td><td>3266897</td><td>113.0</td><td>1</td><td>103.3971</td><td> 7.605907</td><td>57.76164</td><td>149.0325</td></tr>\n",
       "</tbody>\n",
       "</table>\n"
      ],
      "text/latex": [
       "A tibble: 6 × 8\n",
       "\\begin{tabular}{llllllll}\n",
       " FID & IID & trait & sex & mu\\_s & s\\_s & low\\_c & up\\_c\\\\\n",
       " <int> & <int> & <dbl> & <int> & <dbl> & <dbl> & <dbl> & <dbl>\\\\\n",
       "\\hline\n",
       "\t 4646215 & 4646215 & 101.0 & 1 & 103.3971 &  7.605907 & 57.76164 & 149.0325\\\\\n",
       "\t 5007659 & 5007659 & 108.0 & 1 & 103.3971 &  7.605907 & 57.76164 & 149.0325\\\\\n",
       "\t 1038854 & 1038854 &  99.5 & 0 & 103.3254 & 10.363672 & 41.14338 & 165.5074\\\\\n",
       "\t 5441319 & 5441319 & 104.0 & 1 & 103.3971 &  7.605907 & 57.76164 & 149.0325\\\\\n",
       "\t 5743544 & 5743544 &  93.5 & 0 & 103.3254 & 10.363672 & 41.14338 & 165.5074\\\\\n",
       "\t 3266897 & 3266897 & 113.0 & 1 & 103.3971 &  7.605907 & 57.76164 & 149.0325\\\\\n",
       "\\end{tabular}\n"
      ],
      "text/markdown": [
       "\n",
       "A tibble: 6 × 8\n",
       "\n",
       "| FID &lt;int&gt; | IID &lt;int&gt; | trait &lt;dbl&gt; | sex &lt;int&gt; | mu_s &lt;dbl&gt; | s_s &lt;dbl&gt; | low_c &lt;dbl&gt; | up_c &lt;dbl&gt; |\n",
       "|---|---|---|---|---|---|---|---|\n",
       "| 4646215 | 4646215 | 101.0 | 1 | 103.3971 |  7.605907 | 57.76164 | 149.0325 |\n",
       "| 5007659 | 5007659 | 108.0 | 1 | 103.3971 |  7.605907 | 57.76164 | 149.0325 |\n",
       "| 1038854 | 1038854 |  99.5 | 0 | 103.3254 | 10.363672 | 41.14338 | 165.5074 |\n",
       "| 5441319 | 5441319 | 104.0 | 1 | 103.3971 |  7.605907 | 57.76164 | 149.0325 |\n",
       "| 5743544 | 5743544 |  93.5 | 0 | 103.3254 | 10.363672 | 41.14338 | 165.5074 |\n",
       "| 3266897 | 3266897 | 113.0 | 1 | 103.3971 |  7.605907 | 57.76164 | 149.0325 |\n",
       "\n"
      ],
      "text/plain": [
       "  FID     IID     trait sex mu_s     s_s       low_c    up_c    \n",
       "1 4646215 4646215 101.0 1   103.3971  7.605907 57.76164 149.0325\n",
       "2 5007659 5007659 108.0 1   103.3971  7.605907 57.76164 149.0325\n",
       "3 1038854 1038854  99.5 0   103.3254 10.363672 41.14338 165.5074\n",
       "4 5441319 5441319 104.0 1   103.3971  7.605907 57.76164 149.0325\n",
       "5 5743544 5743544  93.5 0   103.3254 10.363672 41.14338 165.5074\n",
       "6 3266897 3266897 113.0 1   103.3971  7.605907 57.76164 149.0325"
      ]
     },
     "metadata": {},
     "output_type": "display_data"
    },
    {
     "name": "stdout",
     "output_type": "stream",
     "text": [
      "[1] \"Removed 199 indiviuals who were outside 6sd.\"\n"
     ]
    }
   ],
   "source": [
    "phe <- hc\n"
   ]
  },
  {
   "cell_type": "code",
   "execution_count": 123,
   "metadata": {},
   "outputs": [],
   "source": [
    "\n",
    "# TODO - should this processing be done separately for M + F??\n",
    "processAnthroTrait <- function(phe){\n",
    "    phe1 <- inner_join(phe, cov_mat, by=c(\"IID\"))\n",
    "    trait_name <- colnames(phe)[3]\n",
    "    colnames(phe1)[3] <- \"trait\"\n",
    "    phe2 <- phe1 %>% filter(trait>0)\n",
    "    print(sprintf(\"Removed %s indiviuals who were missing info.\", nrow(phe)-nrow(phe2)))\n",
    "    phe2.1 <- phe2 %>% \n",
    "        group_by(sex) %>% \n",
    "        mutate(mu_s=mean(trait), s_s=sd(trait)) %>% \n",
    "        mutate(low_c=mu_s-(6*s_s),up_c=mu_s+(6*s_s))\n",
    "    phe3 <- phe2.1 %>% ungroup() %>% \n",
    "        filter(trait > low_c & trait < up_c) %>% \n",
    "        select(FID, IID, trait)\n",
    "    colnames(phe3)[3] <- trait_name\n",
    "    print(sprintf(\"Removed %s indiviuals who were outside 6sd.\", nrow(phe2)-nrow(phe3)))\n",
    "\n",
    "    return(phe3)\n",
    "}\n"
   ]
  },
  {
   "cell_type": "code",
   "execution_count": 124,
   "metadata": {},
   "outputs": [
    {
     "name": "stdout",
     "output_type": "stream",
     "text": [
      "[1] \"Removed 15339 indiviuals who were missing info.\"\n",
      "[1] \"Removed 199 indiviuals who were outside 6sd.\"\n",
      "[1] \"Removed 15281 indiviuals who were missing info.\"\n",
      "[1] \"Removed 21 indiviuals who were outside 6sd.\"\n"
     ]
    }
   ],
   "source": [
    "hc_f <- processAnthroTrait(hc) %>% as_tibble()\n",
    "wc_f <- processAnthroTrait(wc) %>% as_tibble()\n"
   ]
  },
  {
   "cell_type": "code",
   "execution_count": 121,
   "metadata": {},
   "outputs": [
    {
     "data": {
      "text/html": [
       "<table>\n",
       "<caption>A tibble: 6 × 5</caption>\n",
       "<thead>\n",
       "\t<tr><th scope=col>FID</th><th scope=col>IID</th><th scope=col>wc</th><th scope=col>hc</th><th scope=col>whr</th></tr>\n",
       "\t<tr><th scope=col>&lt;int&gt;</th><th scope=col>&lt;int&gt;</th><th scope=col>&lt;dbl&gt;</th><th scope=col>&lt;dbl&gt;</th><th scope=col>&lt;dbl&gt;</th></tr>\n",
       "</thead>\n",
       "<tbody>\n",
       "\t<tr><td>4646215</td><td>4646215</td><td> 98.0</td><td>101.0</td><td>0.9702970</td></tr>\n",
       "\t<tr><td>5007659</td><td>5007659</td><td>100.0</td><td>108.0</td><td>0.9259259</td></tr>\n",
       "\t<tr><td>1038854</td><td>1038854</td><td> 75.5</td><td> 99.5</td><td>0.7587940</td></tr>\n",
       "\t<tr><td>5441319</td><td>5441319</td><td>106.0</td><td>104.0</td><td>1.0192308</td></tr>\n",
       "\t<tr><td>5743544</td><td>5743544</td><td> 87.5</td><td> 93.5</td><td>0.9358289</td></tr>\n",
       "\t<tr><td>3266897</td><td>3266897</td><td>118.0</td><td>113.0</td><td>1.0442478</td></tr>\n",
       "</tbody>\n",
       "</table>\n"
      ],
      "text/latex": [
       "A tibble: 6 × 5\n",
       "\\begin{tabular}{lllll}\n",
       " FID & IID & wc & hc & whr\\\\\n",
       " <int> & <int> & <dbl> & <dbl> & <dbl>\\\\\n",
       "\\hline\n",
       "\t 4646215 & 4646215 &  98.0 & 101.0 & 0.9702970\\\\\n",
       "\t 5007659 & 5007659 & 100.0 & 108.0 & 0.9259259\\\\\n",
       "\t 1038854 & 1038854 &  75.5 &  99.5 & 0.7587940\\\\\n",
       "\t 5441319 & 5441319 & 106.0 & 104.0 & 1.0192308\\\\\n",
       "\t 5743544 & 5743544 &  87.5 &  93.5 & 0.9358289\\\\\n",
       "\t 3266897 & 3266897 & 118.0 & 113.0 & 1.0442478\\\\\n",
       "\\end{tabular}\n"
      ],
      "text/markdown": [
       "\n",
       "A tibble: 6 × 5\n",
       "\n",
       "| FID &lt;int&gt; | IID &lt;int&gt; | wc &lt;dbl&gt; | hc &lt;dbl&gt; | whr &lt;dbl&gt; |\n",
       "|---|---|---|---|---|\n",
       "| 4646215 | 4646215 |  98.0 | 101.0 | 0.9702970 |\n",
       "| 5007659 | 5007659 | 100.0 | 108.0 | 0.9259259 |\n",
       "| 1038854 | 1038854 |  75.5 |  99.5 | 0.7587940 |\n",
       "| 5441319 | 5441319 | 106.0 | 104.0 | 1.0192308 |\n",
       "| 5743544 | 5743544 |  87.5 |  93.5 | 0.9358289 |\n",
       "| 3266897 | 3266897 | 118.0 | 113.0 | 1.0442478 |\n",
       "\n"
      ],
      "text/plain": [
       "  FID     IID     wc    hc    whr      \n",
       "1 4646215 4646215  98.0 101.0 0.9702970\n",
       "2 5007659 5007659 100.0 108.0 0.9259259\n",
       "3 1038854 1038854  75.5  99.5 0.7587940\n",
       "4 5441319 5441319 106.0 104.0 1.0192308\n",
       "5 5743544 5743544  87.5  93.5 0.9358289\n",
       "6 3266897 3266897 118.0 113.0 1.0442478"
      ]
     },
     "metadata": {},
     "output_type": "display_data"
    }
   ],
   "source": [
    "whr_tab <- inner_join(wc_f, hc_f %>% select(-FID), by=c(\"IID\")) %>% mutate(whr=wc/hc)\n",
    "head(whr_tab)"
   ]
  },
  {
   "cell_type": "code",
   "execution_count": 107,
   "metadata": {},
   "outputs": [
    {
     "data": {
      "image/png": "[encoded data removed]",
      "text/plain": [
       "plot without title"
      ]
     },
     "metadata": {
      "image/png": {
       "height": 420,
       "width": 420
      }
     },
     "output_type": "display_data"
    }
   ],
   "source": [
    "ggplot(whr_tab, aes(x=whr))+geom_density()"
   ]
  },
  {
   "cell_type": "code",
   "execution_count": 108,
   "metadata": {},
   "outputs": [],
   "source": [
    "# write it out\n",
    "write_tsv(whr_tab %>% select(-wc, -hc), sprintf(\"%s/whr.phe\", ANTHRO.DIR))"
   ]
  },
  {
   "cell_type": "code",
   "execution_count": 111,
   "metadata": {},
   "outputs": [],
   "source": [
    "# --- fat ratios --- #\n",
    "total <- read.table(sprintf(\"%s/INI23100.phe\", ANTHRO.DIR))\n",
    "leg_l <- read.table(sprintf(\"%s/INI23116.phe\", ANTHRO.DIR))\n",
    "leg_r <- read.table(sprintf(\"%s/INI23112.phe\", ANTHRO.DIR))\n",
    "arm_l <- read.table(sprintf(\"%s/INI23124.phe\", ANTHRO.DIR))\n",
    "arm_r <- read.table(sprintf(\"%s/INI23120.phe\", ANTHRO.DIR))\n",
    "trunk <- read.table(sprintf(\"%s/INI23128.phe\", ANTHRO.DIR))\n",
    "\n",
    "colnames(leg_l) <- c(\"FID\", \"IID\", \"leg_l\")\n",
    "colnames(leg_r) <- c(\"FID\", \"IID\", \"leg_r\")\n",
    "colnames(arm_l) <- c(\"FID\", \"IID\", \"arm_l\")\n",
    "colnames(arm_r) <- c(\"FID\", \"IID\", \"arm_r\")\n",
    "colnames(trunk) <- c(\"FID\", \"IID\", \"trunk\")\n",
    "colnames(total) <- c(\"FID\", \"IID\", \"total\")"
   ]
  },
  {
   "cell_type": "code",
   "execution_count": 112,
   "metadata": {},
   "outputs": [
    {
     "name": "stdout",
     "output_type": "stream",
     "text": [
      "[1] \"Removed 22804 indiviuals who were missing info.\"\n",
      "[1] \"Removed 461 indiviuals who were outside 6sd.\"\n",
      "[1] \"Removed 22776 indiviuals who were missing info.\"\n",
      "[1] \"Removed 494 indiviuals who were outside 6sd.\"\n",
      "[1] \"Removed 22946 indiviuals who were missing info.\"\n",
      "[1] \"Removed 765 indiviuals who were outside 6sd.\"\n",
      "[1] \"Removed 22872 indiviuals who were missing info.\"\n",
      "[1] \"Removed 737 indiviuals who were outside 6sd.\"\n",
      "[1] \"Removed 23043 indiviuals who were missing info.\"\n",
      "[1] \"Removed 48 indiviuals who were outside 6sd.\"\n",
      "[1] \"Removed 23522 indiviuals who were missing info.\"\n",
      "[1] \"Removed 156 indiviuals who were outside 6sd.\"\n"
     ]
    }
   ],
   "source": [
    "# filter \n",
    "leg_l_f <- processAnthroTrait(leg_l) %>% as_tibble()\n",
    "leg_r_f <- processAnthroTrait(leg_r) %>% as_tibble()\n",
    "arm_l_f <- processAnthroTrait(arm_l) %>% as_tibble()\n",
    "arm_r_f <- processAnthroTrait(arm_r) %>% as_tibble()\n",
    "trunk_f <- processAnthroTrait(trunk) %>% as_tibble()\n",
    "total_f <- processAnthroTrait(total) %>% as_tibble()"
   ]
  },
  {
   "cell_type": "code",
   "execution_count": 115,
   "metadata": {},
   "outputs": [],
   "source": [
    "# calculate\n",
    "legs <- inner_join(leg_l_f, leg_r_f %>% select(-FID), by=\"IID\") %>% mutate(legs=leg_l+leg_r)\n",
    "arms <- inner_join(arm_l_f, arm_r_f %>% select(-FID), by=\"IID\") %>% mutate(arms=arm_l+arm_r)\n",
    "legs2 <- inner_join(total_f, legs %>% select(-FID), by=\"IID\") %>% mutate(lfr=legs/total)\n",
    "arms2 <- inner_join(total_f, arms %>% select(-FID), by=\"IID\") %>% mutate(afr=arms/total)\n",
    "trunk2 <- inner_join(total_f, trunk_f %>% select(-FID), by=\"IID\") %>% mutate(tfr=trunk/total)"
   ]
  },
  {
   "cell_type": "code",
   "execution_count": 119,
   "metadata": {},
   "outputs": [
    {
     "data": {
      "image/png": "[encoded data removed]",
      "text/plain": [
       "plot without title"
      ]
     },
     "metadata": {
      "image/png": {
       "height": 420,
       "width": 420
      }
     },
     "output_type": "display_data"
    }
   ],
   "source": [
    "ggplot(arms2, aes(x=arms))+geom_density()"
   ]
  },
  {
   "cell_type": "code",
   "execution_count": 120,
   "metadata": {},
   "outputs": [],
   "source": [
    "# write it out\n",
    "legs2 %>% select(FID, IID, lfr) %>% write_tsv(sprintf(\"%s/lfr.phe\", ANTHRO.DIR))\n",
    "arms2 %>% select(FID, IID, afr) %>% write_tsv(sprintf(\"%s/afr.phe\", ANTHRO.DIR))\n",
    "trunk2 %>% select(FID, IID, tfr) %>% write_tsv(sprintf(\"%s/tfr.phe\", ANTHRO.DIR))"
   ]
  },
  {
   "cell_type": "markdown",
   "metadata": {},
   "source": [
    "# BIOMARKER TRAITS\n",
    "### remove NAs"
   ]
  },
  {
   "cell_type": "code",
   "execution_count": 12,
   "metadata": {},
   "outputs": [],
   "source": [
    "biomarker_files <- list.files(path=BIOMARKER_F_PATH, pattern=\"*.phe\")"
   ]
  },
  {
   "cell_type": "code",
   "execution_count": 89,
   "metadata": {},
   "outputs": [],
   "source": [
    "traits <- unique(sapply(biomarker_files, function(x) strsplit(x, \"\\\\.\")[[1]][[1]]))\n",
    "\n",
    "traits.to.rem <- c(\"Fasting_glucose\", \"Oestradiol\", \"Rheumatoid_factor\", \"Microalbumin_in_urine\")"
   ]
  },
  {
   "cell_type": "code",
   "execution_count": 92,
   "metadata": {},
   "outputs": [],
   "source": [
    "list.traits <- data.frame(setdiff(traits, traits.to.rem), stringsAsFactors=FALSE)\n",
    "colnames(list.traits) <- \"\"\n",
    "write_tsv(list.traits, sprintf(\"%s/list_traits.txt\", PHE.DIR))"
   ]
  },
  {
   "cell_type": "code",
   "execution_count": 74,
   "metadata": {},
   "outputs": [],
   "source": [
    " remNaBio <- function(trait) {\n",
    "    print(trait)\n",
    "    df <- read_tsv(sprintf(\"%s/%s.phe\", BIOMARKER_F_PATH, trait))\n",
    "    df2 <- df[!is.na(df[,3]),] \n",
    "    df2 %>% write_tsv(sprintf(\"%s_v2/%s.phe\", BIOMARKER_F_PATH, trait))\n",
    "    print(nrow(df2)-nrow(df))\n",
    "\n",
    "    rm(df)\n",
    "    rm(df2)\n",
    "    df <- read_tsv(sprintf(\"%s/%s.phe\", BIOMARKER_M_PATH, trait))\n",
    "    df2 <- df[!is.na(df[,3]),] \n",
    "    df2 %>% write_tsv(sprintf(\"%s_v2/%s.phe\", BIOMARKER_M_PATH, trait))\n",
    "        print(nrow(df2)-nrow(df))\n",
    "}"
   ]
  },
  {
   "cell_type": "code",
   "execution_count": 77,
   "metadata": {},
   "outputs": [
    {
     "name": "stdout",
     "output_type": "stream",
     "text": [
      "[1] \"Alanine_aminotransferase.phe\"\n"
     ]
    },
    {
     "name": "stderr",
     "output_type": "stream",
     "text": [
      "Parsed with column specification:\n",
      "cols(\n",
      "  FID = \u001b[32mcol_double()\u001b[39m,\n",
      "  IID = \u001b[32mcol_double()\u001b[39m,\n",
      "  Alanine_aminotransferase = \u001b[32mcol_double()\u001b[39m\n",
      ")\n",
      "\n"
     ]
    },
    {
     "name": "stdout",
     "output_type": "stream",
     "text": [
      "[1] -106\n"
     ]
    },
    {
     "name": "stderr",
     "output_type": "stream",
     "text": [
      "Parsed with column specification:\n",
      "cols(\n",
      "  FID = \u001b[32mcol_double()\u001b[39m,\n",
      "  IID = \u001b[32mcol_double()\u001b[39m,\n",
      "  Alanine_aminotransferase = \u001b[32mcol_double()\u001b[39m\n",
      ")\n",
      "\n"
     ]
    },
    {
     "name": "stdout",
     "output_type": "stream",
     "text": [
      "[1] -209\n",
      "[1] \"Albumin.phe\"\n"
     ]
    },
    {
     "name": "stderr",
     "output_type": "stream",
     "text": [
      "Parsed with column specification:\n",
      "cols(\n",
      "  FID = \u001b[32mcol_double()\u001b[39m,\n",
      "  IID = \u001b[32mcol_double()\u001b[39m,\n",
      "  Albumin = \u001b[32mcol_double()\u001b[39m\n",
      ")\n",
      "\n"
     ]
    },
    {
     "name": "stdout",
     "output_type": "stream",
     "text": [
      "[1] -20200\n"
     ]
    },
    {
     "name": "stderr",
     "output_type": "stream",
     "text": [
      "Parsed with column specification:\n",
      "cols(\n",
      "  FID = \u001b[32mcol_double()\u001b[39m,\n",
      "  IID = \u001b[32mcol_double()\u001b[39m,\n",
      "  Albumin = \u001b[32mcol_double()\u001b[39m\n",
      ")\n",
      "\n"
     ]
    },
    {
     "name": "stdout",
     "output_type": "stream",
     "text": [
      "[1] -14402\n",
      "[1] \"Alkaline_phosphatase.phe\"\n"
     ]
    },
    {
     "name": "stderr",
     "output_type": "stream",
     "text": [
      "Parsed with column specification:\n",
      "cols(\n",
      "  FID = \u001b[32mcol_double()\u001b[39m,\n",
      "  IID = \u001b[32mcol_double()\u001b[39m,\n",
      "  Alkaline_phosphatase = \u001b[32mcol_double()\u001b[39m\n",
      ")\n",
      "\n"
     ]
    },
    {
     "name": "stdout",
     "output_type": "stream",
     "text": [
      "[1] -81\n"
     ]
    },
    {
     "name": "stderr",
     "output_type": "stream",
     "text": [
      "Parsed with column specification:\n",
      "cols(\n",
      "  FID = \u001b[32mcol_double()\u001b[39m,\n",
      "  IID = \u001b[32mcol_double()\u001b[39m,\n",
      "  Alkaline_phosphatase = \u001b[32mcol_double()\u001b[39m\n",
      ")\n",
      "\n"
     ]
    },
    {
     "name": "stdout",
     "output_type": "stream",
     "text": [
      "[1] -80\n",
      "[1] \"Apolipoprotein_A.phe\"\n"
     ]
    },
    {
     "name": "stderr",
     "output_type": "stream",
     "text": [
      "Parsed with column specification:\n",
      "cols(\n",
      "  FID = \u001b[32mcol_double()\u001b[39m,\n",
      "  IID = \u001b[32mcol_double()\u001b[39m,\n",
      "  Apolipoprotein_A = \u001b[32mcol_double()\u001b[39m\n",
      ")\n",
      "\n"
     ]
    },
    {
     "name": "stdout",
     "output_type": "stream",
     "text": [
      "[1] -22099\n"
     ]
    },
    {
     "name": "stderr",
     "output_type": "stream",
     "text": [
      "Parsed with column specification:\n",
      "cols(\n",
      "  FID = \u001b[32mcol_double()\u001b[39m,\n",
      "  IID = \u001b[32mcol_double()\u001b[39m,\n",
      "  Apolipoprotein_A = \u001b[32mcol_double()\u001b[39m\n",
      ")\n",
      "\n"
     ]
    },
    {
     "name": "stdout",
     "output_type": "stream",
     "text": [
      "[1] -14762\n",
      "[1] \"Apolipoprotein_B.adjust.statins.phe\"\n"
     ]
    },
    {
     "name": "stderr",
     "output_type": "stream",
     "text": [
      "Parsed with column specification:\n",
      "cols(\n",
      "  FID = \u001b[32mcol_double()\u001b[39m,\n",
      "  IID = \u001b[32mcol_double()\u001b[39m,\n",
      "  Apolipoprotein_B_adjstatins = \u001b[32mcol_double()\u001b[39m\n",
      ")\n",
      "\n"
     ]
    },
    {
     "name": "stdout",
     "output_type": "stream",
     "text": [
      "[1] -824\n"
     ]
    },
    {
     "name": "stderr",
     "output_type": "stream",
     "text": [
      "Parsed with column specification:\n",
      "cols(\n",
      "  FID = \u001b[32mcol_double()\u001b[39m,\n",
      "  IID = \u001b[32mcol_double()\u001b[39m,\n",
      "  Apolipoprotein_B_adjstatins = \u001b[32mcol_double()\u001b[39m\n",
      ")\n",
      "\n"
     ]
    },
    {
     "name": "stdout",
     "output_type": "stream",
     "text": [
      "[1] -1295\n",
      "[1] \"Apolipoprotein_B.phe\"\n"
     ]
    },
    {
     "name": "stderr",
     "output_type": "stream",
     "text": [
      "Parsed with column specification:\n",
      "cols(\n",
      "  FID = \u001b[32mcol_double()\u001b[39m,\n",
      "  IID = \u001b[32mcol_double()\u001b[39m,\n",
      "  Apolipoprotein_B = \u001b[32mcol_double()\u001b[39m\n",
      ")\n",
      "\n"
     ]
    },
    {
     "name": "stdout",
     "output_type": "stream",
     "text": [
      "[1] -824\n"
     ]
    },
    {
     "name": "stderr",
     "output_type": "stream",
     "text": [
      "Parsed with column specification:\n",
      "cols(\n",
      "  FID = \u001b[32mcol_double()\u001b[39m,\n",
      "  IID = \u001b[32mcol_double()\u001b[39m,\n",
      "  Apolipoprotein_B = \u001b[32mcol_double()\u001b[39m\n",
      ")\n",
      "\n"
     ]
    },
    {
     "name": "stdout",
     "output_type": "stream",
     "text": [
      "[1] -1295\n",
      "[1] \"Aspartate_aminotransferase.phe\"\n"
     ]
    },
    {
     "name": "stderr",
     "output_type": "stream",
     "text": [
      "Parsed with column specification:\n",
      "cols(\n",
      "  FID = \u001b[32mcol_double()\u001b[39m,\n",
      "  IID = \u001b[32mcol_double()\u001b[39m,\n",
      "  Aspartate_aminotransferase = \u001b[32mcol_double()\u001b[39m\n",
      ")\n",
      "\n"
     ]
    },
    {
     "name": "stdout",
     "output_type": "stream",
     "text": [
      "[1] -855\n"
     ]
    },
    {
     "name": "stderr",
     "output_type": "stream",
     "text": [
      "Parsed with column specification:\n",
      "cols(\n",
      "  FID = \u001b[32mcol_double()\u001b[39m,\n",
      "  IID = \u001b[32mcol_double()\u001b[39m,\n",
      "  Aspartate_aminotransferase = \u001b[32mcol_double()\u001b[39m\n",
      ")\n",
      "\n"
     ]
    },
    {
     "name": "stdout",
     "output_type": "stream",
     "text": [
      "[1] -802\n",
      "[1] \"C_reactive_protein.phe\"\n"
     ]
    },
    {
     "name": "stderr",
     "output_type": "stream",
     "text": [
      "Parsed with column specification:\n",
      "cols(\n",
      "  FID = \u001b[32mcol_double()\u001b[39m,\n",
      "  IID = \u001b[32mcol_double()\u001b[39m,\n",
      "  C_reactive_protein = \u001b[32mcol_double()\u001b[39m\n",
      ")\n",
      "\n"
     ]
    },
    {
     "name": "stdout",
     "output_type": "stream",
     "text": [
      "[1] -471\n"
     ]
    },
    {
     "name": "stderr",
     "output_type": "stream",
     "text": [
      "Parsed with column specification:\n",
      "cols(\n",
      "  FID = \u001b[32mcol_double()\u001b[39m,\n",
      "  IID = \u001b[32mcol_double()\u001b[39m,\n",
      "  C_reactive_protein = \u001b[32mcol_double()\u001b[39m\n",
      ")\n",
      "\n"
     ]
    },
    {
     "name": "stdout",
     "output_type": "stream",
     "text": [
      "[1] -544\n",
      "[1] \"Calcium.phe\"\n"
     ]
    },
    {
     "name": "stderr",
     "output_type": "stream",
     "text": [
      "Parsed with column specification:\n",
      "cols(\n",
      "  FID = \u001b[32mcol_double()\u001b[39m,\n",
      "  IID = \u001b[32mcol_double()\u001b[39m,\n",
      "  Calcium = \u001b[32mcol_double()\u001b[39m\n",
      ")\n",
      "\n"
     ]
    },
    {
     "name": "stdout",
     "output_type": "stream",
     "text": [
      "[1] -20283\n"
     ]
    },
    {
     "name": "stderr",
     "output_type": "stream",
     "text": [
      "Parsed with column specification:\n",
      "cols(\n",
      "  FID = \u001b[32mcol_double()\u001b[39m,\n",
      "  IID = \u001b[32mcol_double()\u001b[39m,\n",
      "  Calcium = \u001b[32mcol_double()\u001b[39m\n",
      ")\n",
      "\n"
     ]
    },
    {
     "name": "stdout",
     "output_type": "stream",
     "text": [
      "[1] -14459\n",
      "[1] \"Cholesterol.adjust.statins.phe\"\n"
     ]
    },
    {
     "name": "stderr",
     "output_type": "stream",
     "text": [
      "Parsed with column specification:\n",
      "cols(\n",
      "  FID = \u001b[32mcol_double()\u001b[39m,\n",
      "  IID = \u001b[32mcol_double()\u001b[39m,\n",
      "  Cholesterol_adjstatins = \u001b[32mcol_double()\u001b[39m\n",
      ")\n",
      "\n"
     ]
    },
    {
     "name": "stdout",
     "output_type": "stream",
     "text": [
      "[1] -125\n"
     ]
    },
    {
     "name": "stderr",
     "output_type": "stream",
     "text": [
      "Parsed with column specification:\n",
      "cols(\n",
      "  FID = \u001b[32mcol_double()\u001b[39m,\n",
      "  IID = \u001b[32mcol_double()\u001b[39m,\n",
      "  Cholesterol_adjstatins = \u001b[32mcol_double()\u001b[39m\n",
      ")\n",
      "\n"
     ]
    },
    {
     "name": "stdout",
     "output_type": "stream",
     "text": [
      "[1] -75\n",
      "[1] \"Cholesterol.phe\"\n"
     ]
    },
    {
     "name": "stderr",
     "output_type": "stream",
     "text": [
      "Parsed with column specification:\n",
      "cols(\n",
      "  FID = \u001b[32mcol_double()\u001b[39m,\n",
      "  IID = \u001b[32mcol_double()\u001b[39m,\n",
      "  Cholesterol = \u001b[32mcol_double()\u001b[39m\n",
      ")\n",
      "\n"
     ]
    },
    {
     "name": "stdout",
     "output_type": "stream",
     "text": [
      "[1] -125\n"
     ]
    },
    {
     "name": "stderr",
     "output_type": "stream",
     "text": [
      "Parsed with column specification:\n",
      "cols(\n",
      "  FID = \u001b[32mcol_double()\u001b[39m,\n",
      "  IID = \u001b[32mcol_double()\u001b[39m,\n",
      "  Cholesterol = \u001b[32mcol_double()\u001b[39m\n",
      ")\n",
      "\n"
     ]
    },
    {
     "name": "stdout",
     "output_type": "stream",
     "text": [
      "[1] -75\n",
      "[1] \"Creatinine_in_urine.phe\"\n"
     ]
    },
    {
     "name": "stderr",
     "output_type": "stream",
     "text": [
      "Parsed with column specification:\n",
      "cols(\n",
      "  FID = \u001b[32mcol_double()\u001b[39m,\n",
      "  IID = \u001b[32mcol_double()\u001b[39m,\n",
      "  Creatinine_in_urine = \u001b[32mcol_double()\u001b[39m\n",
      ")\n",
      "\n"
     ]
    },
    {
     "name": "stdout",
     "output_type": "stream",
     "text": [
      "[1] -6514\n"
     ]
    },
    {
     "name": "stderr",
     "output_type": "stream",
     "text": [
      "Parsed with column specification:\n",
      "cols(\n",
      "  FID = \u001b[32mcol_double()\u001b[39m,\n",
      "  IID = \u001b[32mcol_double()\u001b[39m,\n",
      "  Creatinine_in_urine = \u001b[32mcol_double()\u001b[39m\n",
      ")\n",
      "\n"
     ]
    },
    {
     "name": "stdout",
     "output_type": "stream",
     "text": [
      "[1] -4489\n",
      "[1] \"Creatinine.phe\"\n"
     ]
    },
    {
     "name": "stderr",
     "output_type": "stream",
     "text": [
      "Parsed with column specification:\n",
      "cols(\n",
      "  FID = \u001b[32mcol_double()\u001b[39m,\n",
      "  IID = \u001b[32mcol_double()\u001b[39m,\n",
      "  Creatinine = \u001b[32mcol_double()\u001b[39m\n",
      ")\n",
      "\n"
     ]
    },
    {
     "name": "stdout",
     "output_type": "stream",
     "text": [
      "[1] -183\n"
     ]
    },
    {
     "name": "stderr",
     "output_type": "stream",
     "text": [
      "Parsed with column specification:\n",
      "cols(\n",
      "  FID = \u001b[32mcol_double()\u001b[39m,\n",
      "  IID = \u001b[32mcol_double()\u001b[39m,\n",
      "  Creatinine = \u001b[32mcol_double()\u001b[39m\n",
      ")\n",
      "\n"
     ]
    },
    {
     "name": "stdout",
     "output_type": "stream",
     "text": [
      "[1] -165\n",
      "[1] \"Cystatin_C.phe\"\n"
     ]
    },
    {
     "name": "stderr",
     "output_type": "stream",
     "text": [
      "Parsed with column specification:\n",
      "cols(\n",
      "  FID = \u001b[32mcol_double()\u001b[39m,\n",
      "  IID = \u001b[32mcol_double()\u001b[39m,\n",
      "  Cystatin_C = \u001b[32mcol_double()\u001b[39m\n",
      ")\n",
      "\n"
     ]
    },
    {
     "name": "stdout",
     "output_type": "stream",
     "text": [
      "[1] -185\n"
     ]
    },
    {
     "name": "stderr",
     "output_type": "stream",
     "text": [
      "Parsed with column specification:\n",
      "cols(\n",
      "  FID = \u001b[32mcol_double()\u001b[39m,\n",
      "  IID = \u001b[32mcol_double()\u001b[39m,\n",
      "  Cystatin_C = \u001b[32mcol_double()\u001b[39m\n",
      ")\n",
      "\n"
     ]
    },
    {
     "name": "stdout",
     "output_type": "stream",
     "text": [
      "[1] -147\n",
      "[1] \"Direct_bilirubin.phe\"\n"
     ]
    },
    {
     "name": "stderr",
     "output_type": "stream",
     "text": [
      "Parsed with column specification:\n",
      "cols(\n",
      "  FID = \u001b[32mcol_double()\u001b[39m,\n",
      "  IID = \u001b[32mcol_double()\u001b[39m,\n",
      "  Direct_bilirubin = \u001b[32mcol_double()\u001b[39m\n",
      ")\n",
      "\n"
     ]
    },
    {
     "name": "stdout",
     "output_type": "stream",
     "text": [
      "[1] -48169\n"
     ]
    },
    {
     "name": "stderr",
     "output_type": "stream",
     "text": [
      "Parsed with column specification:\n",
      "cols(\n",
      "  FID = \u001b[32mcol_double()\u001b[39m,\n",
      "  IID = \u001b[32mcol_double()\u001b[39m,\n",
      "  Direct_bilirubin = \u001b[32mcol_double()\u001b[39m\n",
      ")\n",
      "\n"
     ]
    },
    {
     "name": "stdout",
     "output_type": "stream",
     "text": [
      "[1] -12697\n",
      "[1] \"eGFR.phe\"\n"
     ]
    },
    {
     "name": "stderr",
     "output_type": "stream",
     "text": [
      "Parsed with column specification:\n",
      "cols(\n",
      "  FID = \u001b[32mcol_double()\u001b[39m,\n",
      "  IID = \u001b[32mcol_double()\u001b[39m,\n",
      "  eGFR = \u001b[32mcol_double()\u001b[39m\n",
      ")\n",
      "\n"
     ]
    },
    {
     "name": "stdout",
     "output_type": "stream",
     "text": [
      "[1] -183\n"
     ]
    },
    {
     "name": "stderr",
     "output_type": "stream",
     "text": [
      "Parsed with column specification:\n",
      "cols(\n",
      "  FID = \u001b[32mcol_double()\u001b[39m,\n",
      "  IID = \u001b[32mcol_double()\u001b[39m,\n",
      "  eGFR = \u001b[32mcol_double()\u001b[39m\n",
      ")\n",
      "\n"
     ]
    },
    {
     "name": "stdout",
     "output_type": "stream",
     "text": [
      "[1] -165\n",
      "[1] \"Fasting_glucose.phe\"\n"
     ]
    },
    {
     "name": "stderr",
     "output_type": "stream",
     "text": [
      "Parsed with column specification:\n",
      "cols(\n",
      "  FID = \u001b[32mcol_double()\u001b[39m,\n",
      "  IID = \u001b[32mcol_double()\u001b[39m,\n",
      "  Fasting_glucose = \u001b[32mcol_double()\u001b[39m\n",
      ")\n",
      "\n"
     ]
    },
    {
     "name": "stdout",
     "output_type": "stream",
     "text": [
      "[1] -213619\n"
     ]
    },
    {
     "name": "stderr",
     "output_type": "stream",
     "text": [
      "Parsed with column specification:\n",
      "cols(\n",
      "  FID = \u001b[32mcol_double()\u001b[39m,\n",
      "  IID = \u001b[32mcol_double()\u001b[39m,\n",
      "  Fasting_glucose = \u001b[32mcol_double()\u001b[39m\n",
      ")\n",
      "\n"
     ]
    },
    {
     "name": "stdout",
     "output_type": "stream",
     "text": [
      "[1] -178709\n",
      "[1] \"Gamma_glutamyltransferase.phe\"\n"
     ]
    },
    {
     "name": "stderr",
     "output_type": "stream",
     "text": [
      "Parsed with column specification:\n",
      "cols(\n",
      "  FID = \u001b[32mcol_double()\u001b[39m,\n",
      "  IID = \u001b[32mcol_double()\u001b[39m,\n",
      "  Gamma_glutamyltransferase = \u001b[32mcol_double()\u001b[39m\n",
      ")\n",
      "\n"
     ]
    },
    {
     "name": "stdout",
     "output_type": "stream",
     "text": [
      "[1] -194\n"
     ]
    },
    {
     "name": "stderr",
     "output_type": "stream",
     "text": [
      "Parsed with column specification:\n",
      "cols(\n",
      "  FID = \u001b[32mcol_double()\u001b[39m,\n",
      "  IID = \u001b[32mcol_double()\u001b[39m,\n",
      "  Gamma_glutamyltransferase = \u001b[32mcol_double()\u001b[39m\n",
      ")\n",
      "\n"
     ]
    },
    {
     "name": "stdout",
     "output_type": "stream",
     "text": [
      "[1] -190\n",
      "[1] \"Glucose.phe\"\n"
     ]
    },
    {
     "name": "stderr",
     "output_type": "stream",
     "text": [
      "Parsed with column specification:\n",
      "cols(\n",
      "  FID = \u001b[32mcol_double()\u001b[39m,\n",
      "  IID = \u001b[32mcol_double()\u001b[39m,\n",
      "  Glucose = \u001b[32mcol_double()\u001b[39m\n",
      ")\n",
      "\n"
     ]
    },
    {
     "name": "stdout",
     "output_type": "stream",
     "text": [
      "[1] -20458\n"
     ]
    },
    {
     "name": "stderr",
     "output_type": "stream",
     "text": [
      "Parsed with column specification:\n",
      "cols(\n",
      "  FID = \u001b[32mcol_double()\u001b[39m,\n",
      "  IID = \u001b[32mcol_double()\u001b[39m,\n",
      "  Glucose = \u001b[32mcol_double()\u001b[39m\n",
      ")\n",
      "\n"
     ]
    },
    {
     "name": "stdout",
     "output_type": "stream",
     "text": [
      "[1] -14624\n",
      "[1] \"Glycated_haemoglobin_HbA1c.phe\"\n"
     ]
    },
    {
     "name": "stderr",
     "output_type": "stream",
     "text": [
      "Parsed with column specification:\n",
      "cols(\n",
      "  FID = \u001b[32mcol_double()\u001b[39m,\n",
      "  IID = \u001b[32mcol_double()\u001b[39m,\n",
      "  Glycated_haemoglobin_HbA1c = \u001b[32mcol_double()\u001b[39m\n",
      ")\n",
      "\n"
     ]
    },
    {
     "name": "stdout",
     "output_type": "stream",
     "text": [
      "[1] -9857\n"
     ]
    },
    {
     "name": "stderr",
     "output_type": "stream",
     "text": [
      "Parsed with column specification:\n",
      "cols(\n",
      "  FID = \u001b[32mcol_double()\u001b[39m,\n",
      "  IID = \u001b[32mcol_double()\u001b[39m,\n",
      "  Glycated_haemoglobin_HbA1c = \u001b[32mcol_double()\u001b[39m\n",
      ")\n",
      "\n"
     ]
    },
    {
     "name": "stdout",
     "output_type": "stream",
     "text": [
      "[1] -8400\n",
      "[1] \"HDL_cholesterol.phe\"\n"
     ]
    },
    {
     "name": "stderr",
     "output_type": "stream",
     "text": [
      "Parsed with column specification:\n",
      "cols(\n",
      "  FID = \u001b[32mcol_double()\u001b[39m,\n",
      "  IID = \u001b[32mcol_double()\u001b[39m,\n",
      "  HDL_cholesterol = \u001b[32mcol_double()\u001b[39m\n",
      ")\n",
      "\n"
     ]
    },
    {
     "name": "stdout",
     "output_type": "stream",
     "text": [
      "[1] -20286\n"
     ]
    },
    {
     "name": "stderr",
     "output_type": "stream",
     "text": [
      "Parsed with column specification:\n",
      "cols(\n",
      "  FID = \u001b[32mcol_double()\u001b[39m,\n",
      "  IID = \u001b[32mcol_double()\u001b[39m,\n",
      "  HDL_cholesterol = \u001b[32mcol_double()\u001b[39m\n",
      ")\n",
      "\n"
     ]
    },
    {
     "name": "stdout",
     "output_type": "stream",
     "text": [
      "[1] -14482\n",
      "[1] \"IGF_1.phe\"\n"
     ]
    },
    {
     "name": "stderr",
     "output_type": "stream",
     "text": [
      "Parsed with column specification:\n",
      "cols(\n",
      "  FID = \u001b[32mcol_double()\u001b[39m,\n",
      "  IID = \u001b[32mcol_double()\u001b[39m,\n",
      "  IGF_1 = \u001b[32mcol_double()\u001b[39m\n",
      ")\n",
      "\n"
     ]
    },
    {
     "name": "stdout",
     "output_type": "stream",
     "text": [
      "[1] -1387\n"
     ]
    },
    {
     "name": "stderr",
     "output_type": "stream",
     "text": [
      "Parsed with column specification:\n",
      "cols(\n",
      "  FID = \u001b[32mcol_double()\u001b[39m,\n",
      "  IID = \u001b[32mcol_double()\u001b[39m,\n",
      "  IGF_1 = \u001b[32mcol_double()\u001b[39m\n",
      ")\n",
      "\n"
     ]
    },
    {
     "name": "stdout",
     "output_type": "stream",
     "text": [
      "[1] -1131\n",
      "[1] \"LDL_direct.adjust.statins.phe\"\n"
     ]
    },
    {
     "name": "stderr",
     "output_type": "stream",
     "text": [
      "Parsed with column specification:\n",
      "cols(\n",
      "  FID = \u001b[32mcol_double()\u001b[39m,\n",
      "  IID = \u001b[32mcol_double()\u001b[39m,\n",
      "  LDL_direct_adjstatins = \u001b[32mcol_double()\u001b[39m\n",
      ")\n",
      "\n"
     ]
    },
    {
     "name": "stdout",
     "output_type": "stream",
     "text": [
      "[1] -472\n"
     ]
    },
    {
     "name": "stderr",
     "output_type": "stream",
     "text": [
      "Parsed with column specification:\n",
      "cols(\n",
      "  FID = \u001b[32mcol_double()\u001b[39m,\n",
      "  IID = \u001b[32mcol_double()\u001b[39m,\n",
      "  LDL_direct_adjstatins = \u001b[32mcol_double()\u001b[39m\n",
      ")\n",
      "\n"
     ]
    },
    {
     "name": "stdout",
     "output_type": "stream",
     "text": [
      "[1] -452\n",
      "[1] \"LDL_direct.phe\"\n"
     ]
    },
    {
     "name": "stderr",
     "output_type": "stream",
     "text": [
      "Parsed with column specification:\n",
      "cols(\n",
      "  FID = \u001b[32mcol_double()\u001b[39m,\n",
      "  IID = \u001b[32mcol_double()\u001b[39m,\n",
      "  LDL_direct = \u001b[32mcol_double()\u001b[39m\n",
      ")\n",
      "\n"
     ]
    },
    {
     "name": "stdout",
     "output_type": "stream",
     "text": [
      "[1] -472\n"
     ]
    },
    {
     "name": "stderr",
     "output_type": "stream",
     "text": [
      "Parsed with column specification:\n",
      "cols(\n",
      "  FID = \u001b[32mcol_double()\u001b[39m,\n",
      "  IID = \u001b[32mcol_double()\u001b[39m,\n",
      "  LDL_direct = \u001b[32mcol_double()\u001b[39m\n",
      ")\n",
      "\n"
     ]
    },
    {
     "name": "stdout",
     "output_type": "stream",
     "text": [
      "[1] -452\n",
      "[1] \"Lipoprotein_A.phe\"\n"
     ]
    },
    {
     "name": "stderr",
     "output_type": "stream",
     "text": [
      "Parsed with column specification:\n",
      "cols(\n",
      "  FID = \u001b[32mcol_double()\u001b[39m,\n",
      "  IID = \u001b[32mcol_double()\u001b[39m,\n",
      "  Lipoprotein_A = \u001b[32mcol_double()\u001b[39m\n",
      ")\n",
      "\n"
     ]
    },
    {
     "name": "stdout",
     "output_type": "stream",
     "text": [
      "[1] -44269\n"
     ]
    },
    {
     "name": "stderr",
     "output_type": "stream",
     "text": [
      "Parsed with column specification:\n",
      "cols(\n",
      "  FID = \u001b[32mcol_double()\u001b[39m,\n",
      "  IID = \u001b[32mcol_double()\u001b[39m,\n",
      "  Lipoprotein_A = \u001b[32mcol_double()\u001b[39m\n",
      ")\n",
      "\n"
     ]
    },
    {
     "name": "stdout",
     "output_type": "stream",
     "text": [
      "[1] -38857\n",
      "[1] \"Microalbumin_in_urine.phe\"\n"
     ]
    },
    {
     "name": "stderr",
     "output_type": "stream",
     "text": [
      "Parsed with column specification:\n",
      "cols(\n",
      "  FID = \u001b[32mcol_double()\u001b[39m,\n",
      "  IID = \u001b[32mcol_double()\u001b[39m,\n",
      "  Microalbumin_in_urine = \u001b[32mcol_double()\u001b[39m\n",
      ")\n",
      "\n"
     ]
    },
    {
     "name": "stdout",
     "output_type": "stream",
     "text": [
      "[1] -160935\n"
     ]
    },
    {
     "name": "stderr",
     "output_type": "stream",
     "text": [
      "Parsed with column specification:\n",
      "cols(\n",
      "  FID = \u001b[32mcol_double()\u001b[39m,\n",
      "  IID = \u001b[32mcol_double()\u001b[39m,\n",
      "  Microalbumin_in_urine = \u001b[32mcol_double()\u001b[39m\n",
      ")\n",
      "\n"
     ]
    },
    {
     "name": "stdout",
     "output_type": "stream",
     "text": [
      "[1] -123122\n",
      "[1] \"Non_albumin_protein.phe\"\n"
     ]
    },
    {
     "name": "stderr",
     "output_type": "stream",
     "text": [
      "Parsed with column specification:\n",
      "cols(\n",
      "  FID = \u001b[32mcol_double()\u001b[39m,\n",
      "  IID = \u001b[32mcol_double()\u001b[39m,\n",
      "  Non_albumin_protein = \u001b[32mcol_double()\u001b[39m\n",
      ")\n",
      "\n"
     ]
    },
    {
     "name": "stdout",
     "output_type": "stream",
     "text": [
      "[1] -20469\n"
     ]
    },
    {
     "name": "stderr",
     "output_type": "stream",
     "text": [
      "Parsed with column specification:\n",
      "cols(\n",
      "  FID = \u001b[32mcol_double()\u001b[39m,\n",
      "  IID = \u001b[32mcol_double()\u001b[39m,\n",
      "  Non_albumin_protein = \u001b[32mcol_double()\u001b[39m\n",
      ")\n",
      "\n"
     ]
    },
    {
     "name": "stdout",
     "output_type": "stream",
     "text": [
      "[1] -14690\n",
      "[1] \"Oestradiol.phe\"\n"
     ]
    },
    {
     "name": "stderr",
     "output_type": "stream",
     "text": [
      "Parsed with column specification:\n",
      "cols(\n",
      "  FID = \u001b[32mcol_double()\u001b[39m,\n",
      "  IID = \u001b[32mcol_double()\u001b[39m,\n",
      "  Oestradiol = \u001b[32mcol_double()\u001b[39m\n",
      ")\n",
      "\n"
     ]
    },
    {
     "name": "stdout",
     "output_type": "stream",
     "text": [
      "[1] -171636\n"
     ]
    },
    {
     "name": "stderr",
     "output_type": "stream",
     "text": [
      "Parsed with column specification:\n",
      "cols(\n",
      "  FID = \u001b[32mcol_double()\u001b[39m,\n",
      "  IID = \u001b[32mcol_double()\u001b[39m,\n",
      "  Oestradiol = \u001b[32mcol_double()\u001b[39m\n",
      ")\n",
      "\n"
     ]
    },
    {
     "name": "stdout",
     "output_type": "stream",
     "text": [
      "[1] -170895\n",
      "[1] \"Phosphate.phe\"\n"
     ]
    },
    {
     "name": "stderr",
     "output_type": "stream",
     "text": [
      "Parsed with column specification:\n",
      "cols(\n",
      "  FID = \u001b[32mcol_double()\u001b[39m,\n",
      "  IID = \u001b[32mcol_double()\u001b[39m,\n",
      "  Phosphate = \u001b[32mcol_double()\u001b[39m\n",
      ")\n",
      "\n"
     ]
    },
    {
     "name": "stdout",
     "output_type": "stream",
     "text": [
      "[1] -20575\n"
     ]
    },
    {
     "name": "stderr",
     "output_type": "stream",
     "text": [
      "Parsed with column specification:\n",
      "cols(\n",
      "  FID = \u001b[32mcol_double()\u001b[39m,\n",
      "  IID = \u001b[32mcol_double()\u001b[39m,\n",
      "  Phosphate = \u001b[32mcol_double()\u001b[39m\n",
      ")\n",
      "\n"
     ]
    },
    {
     "name": "stdout",
     "output_type": "stream",
     "text": [
      "[1] -14737\n",
      "[1] \"Potassium_in_urine.phe\"\n"
     ]
    },
    {
     "name": "stderr",
     "output_type": "stream",
     "text": [
      "Parsed with column specification:\n",
      "cols(\n",
      "  FID = \u001b[32mcol_double()\u001b[39m,\n",
      "  IID = \u001b[32mcol_double()\u001b[39m,\n",
      "  Potassium_in_urine = \u001b[32mcol_double()\u001b[39m\n",
      ")\n",
      "\n"
     ]
    },
    {
     "name": "stdout",
     "output_type": "stream",
     "text": [
      "[1] -6982\n"
     ]
    },
    {
     "name": "stderr",
     "output_type": "stream",
     "text": [
      "Parsed with column specification:\n",
      "cols(\n",
      "  FID = \u001b[32mcol_double()\u001b[39m,\n",
      "  IID = \u001b[32mcol_double()\u001b[39m,\n",
      "  Potassium_in_urine = \u001b[32mcol_double()\u001b[39m\n",
      ")\n",
      "\n"
     ]
    },
    {
     "name": "stdout",
     "output_type": "stream",
     "text": [
      "[1] -4904\n",
      "[1] \"Rheumatoid_factor.phe\"\n"
     ]
    },
    {
     "name": "stderr",
     "output_type": "stream",
     "text": [
      "Parsed with column specification:\n",
      "cols(\n",
      "  FID = \u001b[32mcol_double()\u001b[39m,\n",
      "  IID = \u001b[32mcol_double()\u001b[39m,\n",
      "  Rheumatoid_factor = \u001b[32mcol_double()\u001b[39m\n",
      ")\n",
      "\n"
     ]
    },
    {
     "name": "stdout",
     "output_type": "stream",
     "text": [
      "[1] -199677\n"
     ]
    },
    {
     "name": "stderr",
     "output_type": "stream",
     "text": [
      "Parsed with column specification:\n",
      "cols(\n",
      "  FID = \u001b[32mcol_double()\u001b[39m,\n",
      "  IID = \u001b[32mcol_double()\u001b[39m,\n",
      "  Rheumatoid_factor = \u001b[32mcol_double()\u001b[39m\n",
      ")\n",
      "\n"
     ]
    },
    {
     "name": "stdout",
     "output_type": "stream",
     "text": [
      "[1] -170673\n",
      "[1] \"SHBG.phe\"\n"
     ]
    },
    {
     "name": "stderr",
     "output_type": "stream",
     "text": [
      "Parsed with column specification:\n",
      "cols(\n",
      "  FID = \u001b[32mcol_double()\u001b[39m,\n",
      "  IID = \u001b[32mcol_double()\u001b[39m,\n",
      "  SHBG = \u001b[32mcol_double()\u001b[39m\n",
      ")\n",
      "\n"
     ]
    },
    {
     "name": "stdout",
     "output_type": "stream",
     "text": [
      "[1] -22523\n"
     ]
    },
    {
     "name": "stderr",
     "output_type": "stream",
     "text": [
      "Parsed with column specification:\n",
      "cols(\n",
      "  FID = \u001b[32mcol_double()\u001b[39m,\n",
      "  IID = \u001b[32mcol_double()\u001b[39m,\n",
      "  SHBG = \u001b[32mcol_double()\u001b[39m\n",
      ")\n",
      "\n"
     ]
    },
    {
     "name": "stdout",
     "output_type": "stream",
     "text": [
      "[1] -15811\n",
      "[1] \"Sodium_in_urine.phe\"\n"
     ]
    },
    {
     "name": "stderr",
     "output_type": "stream",
     "text": [
      "Parsed with column specification:\n",
      "cols(\n",
      "  FID = \u001b[32mcol_double()\u001b[39m,\n",
      "  IID = \u001b[32mcol_double()\u001b[39m,\n",
      "  Sodium_in_urine = \u001b[32mcol_double()\u001b[39m\n",
      ")\n",
      "\n"
     ]
    },
    {
     "name": "stdout",
     "output_type": "stream",
     "text": [
      "[1] -7161\n"
     ]
    },
    {
     "name": "stderr",
     "output_type": "stream",
     "text": [
      "Parsed with column specification:\n",
      "cols(\n",
      "  FID = \u001b[32mcol_double()\u001b[39m,\n",
      "  IID = \u001b[32mcol_double()\u001b[39m,\n",
      "  Sodium_in_urine = \u001b[32mcol_double()\u001b[39m\n",
      ")\n",
      "\n"
     ]
    },
    {
     "name": "stdout",
     "output_type": "stream",
     "text": [
      "[1] -4669\n",
      "[1] \"Testosterone.phe\"\n"
     ]
    },
    {
     "name": "stderr",
     "output_type": "stream",
     "text": [
      "Parsed with column specification:\n",
      "cols(\n",
      "  FID = \u001b[32mcol_double()\u001b[39m,\n",
      "  IID = \u001b[32mcol_double()\u001b[39m,\n",
      "  Testosterone = \u001b[32mcol_double()\u001b[39m\n",
      ")\n",
      "\n"
     ]
    },
    {
     "name": "stdout",
     "output_type": "stream",
     "text": [
      "[1] -36687\n"
     ]
    },
    {
     "name": "stderr",
     "output_type": "stream",
     "text": [
      "Parsed with column specification:\n",
      "cols(\n",
      "  FID = \u001b[32mcol_double()\u001b[39m,\n",
      "  IID = \u001b[32mcol_double()\u001b[39m,\n",
      "  Testosterone = \u001b[32mcol_double()\u001b[39m\n",
      ")\n",
      "\n"
     ]
    },
    {
     "name": "stdout",
     "output_type": "stream",
     "text": [
      "[1] -1958\n",
      "[1] \"Total_bilirubin.phe\"\n"
     ]
    },
    {
     "name": "stderr",
     "output_type": "stream",
     "text": [
      "Parsed with column specification:\n",
      "cols(\n",
      "  FID = \u001b[32mcol_double()\u001b[39m,\n",
      "  IID = \u001b[32mcol_double()\u001b[39m,\n",
      "  Total_bilirubin = \u001b[32mcol_double()\u001b[39m\n",
      ")\n",
      "\n"
     ]
    },
    {
     "name": "stdout",
     "output_type": "stream",
     "text": [
      "[1] -1002\n"
     ]
    },
    {
     "name": "stderr",
     "output_type": "stream",
     "text": [
      "Parsed with column specification:\n",
      "cols(\n",
      "  FID = \u001b[32mcol_double()\u001b[39m,\n",
      "  IID = \u001b[32mcol_double()\u001b[39m,\n",
      "  Total_bilirubin = \u001b[32mcol_double()\u001b[39m\n",
      ")\n",
      "\n"
     ]
    },
    {
     "name": "stdout",
     "output_type": "stream",
     "text": [
      "[1] -865\n",
      "[1] \"Total_protein.phe\"\n"
     ]
    },
    {
     "name": "stderr",
     "output_type": "stream",
     "text": [
      "Parsed with column specification:\n",
      "cols(\n",
      "  FID = \u001b[32mcol_double()\u001b[39m,\n",
      "  IID = \u001b[32mcol_double()\u001b[39m,\n",
      "  Total_protein = \u001b[32mcol_double()\u001b[39m\n",
      ")\n",
      "\n"
     ]
    },
    {
     "name": "stdout",
     "output_type": "stream",
     "text": [
      "[1] -20387\n"
     ]
    },
    {
     "name": "stderr",
     "output_type": "stream",
     "text": [
      "Parsed with column specification:\n",
      "cols(\n",
      "  FID = \u001b[32mcol_double()\u001b[39m,\n",
      "  IID = \u001b[32mcol_double()\u001b[39m,\n",
      "  Total_protein = \u001b[32mcol_double()\u001b[39m\n",
      ")\n",
      "\n"
     ]
    },
    {
     "name": "stdout",
     "output_type": "stream",
     "text": [
      "[1] -14621\n",
      "[1] \"Triglycerides.phe\"\n"
     ]
    },
    {
     "name": "stderr",
     "output_type": "stream",
     "text": [
      "Parsed with column specification:\n",
      "cols(\n",
      "  FID = \u001b[32mcol_double()\u001b[39m,\n",
      "  IID = \u001b[32mcol_double()\u001b[39m,\n",
      "  Triglycerides = \u001b[32mcol_double()\u001b[39m\n",
      ")\n",
      "\n"
     ]
    },
    {
     "name": "stdout",
     "output_type": "stream",
     "text": [
      "[1] -229\n"
     ]
    },
    {
     "name": "stderr",
     "output_type": "stream",
     "text": [
      "Parsed with column specification:\n",
      "cols(\n",
      "  FID = \u001b[32mcol_double()\u001b[39m,\n",
      "  IID = \u001b[32mcol_double()\u001b[39m,\n",
      "  Triglycerides = \u001b[32mcol_double()\u001b[39m\n",
      ")\n",
      "\n"
     ]
    },
    {
     "name": "stdout",
     "output_type": "stream",
     "text": [
      "[1] -271\n",
      "[1] \"Urate.phe\"\n"
     ]
    },
    {
     "name": "stderr",
     "output_type": "stream",
     "text": [
      "Parsed with column specification:\n",
      "cols(\n",
      "  FID = \u001b[32mcol_double()\u001b[39m,\n",
      "  IID = \u001b[32mcol_double()\u001b[39m,\n",
      "  Urate = \u001b[32mcol_double()\u001b[39m\n",
      ")\n",
      "\n"
     ]
    },
    {
     "name": "stdout",
     "output_type": "stream",
     "text": [
      "[1] -378\n"
     ]
    },
    {
     "name": "stderr",
     "output_type": "stream",
     "text": [
      "Parsed with column specification:\n",
      "cols(\n",
      "  FID = \u001b[32mcol_double()\u001b[39m,\n",
      "  IID = \u001b[32mcol_double()\u001b[39m,\n",
      "  Urate = \u001b[32mcol_double()\u001b[39m\n",
      ")\n",
      "\n"
     ]
    },
    {
     "name": "stdout",
     "output_type": "stream",
     "text": [
      "[1] -299\n",
      "[1] \"Urea.phe\"\n"
     ]
    },
    {
     "name": "stderr",
     "output_type": "stream",
     "text": [
      "Parsed with column specification:\n",
      "cols(\n",
      "  FID = \u001b[32mcol_double()\u001b[39m,\n",
      "  IID = \u001b[32mcol_double()\u001b[39m,\n",
      "  Urea = \u001b[32mcol_double()\u001b[39m\n",
      ")\n",
      "\n"
     ]
    },
    {
     "name": "stdout",
     "output_type": "stream",
     "text": [
      "[1] -250\n"
     ]
    },
    {
     "name": "stderr",
     "output_type": "stream",
     "text": [
      "Parsed with column specification:\n",
      "cols(\n",
      "  FID = \u001b[32mcol_double()\u001b[39m,\n",
      "  IID = \u001b[32mcol_double()\u001b[39m,\n",
      "  Urea = \u001b[32mcol_double()\u001b[39m\n",
      ")\n",
      "\n"
     ]
    },
    {
     "name": "stdout",
     "output_type": "stream",
     "text": [
      "[1] -209\n",
      "[1] \"Vitamin_D.phe\"\n"
     ]
    },
    {
     "name": "stderr",
     "output_type": "stream",
     "text": [
      "Parsed with column specification:\n",
      "cols(\n",
      "  FID = \u001b[32mcol_double()\u001b[39m,\n",
      "  IID = \u001b[32mcol_double()\u001b[39m,\n",
      "  Vitamin_D = \u001b[32mcol_double()\u001b[39m\n",
      ")\n",
      "\n"
     ]
    },
    {
     "name": "stdout",
     "output_type": "stream",
     "text": [
      "[1] -12613\n"
     ]
    },
    {
     "name": "stderr",
     "output_type": "stream",
     "text": [
      "Parsed with column specification:\n",
      "cols(\n",
      "  FID = \u001b[32mcol_double()\u001b[39m,\n",
      "  IID = \u001b[32mcol_double()\u001b[39m,\n",
      "  Vitamin_D = \u001b[32mcol_double()\u001b[39m\n",
      ")\n",
      "\n"
     ]
    },
    {
     "name": "stdout",
     "output_type": "stream",
     "text": [
      "[1] -5558\n"
     ]
    },
    {
     "data": {
      "text/html": [
       "<ol>\n",
       "\t<li>-209</li>\n",
       "\t<li>-14402</li>\n",
       "\t<li>-80</li>\n",
       "\t<li>-14762</li>\n",
       "\t<li>-1295</li>\n",
       "\t<li>-1295</li>\n",
       "\t<li>-802</li>\n",
       "\t<li>-544</li>\n",
       "\t<li>-14459</li>\n",
       "\t<li>-75</li>\n",
       "\t<li>-75</li>\n",
       "\t<li>-4489</li>\n",
       "\t<li>-165</li>\n",
       "\t<li>-147</li>\n",
       "\t<li>-12697</li>\n",
       "\t<li>-165</li>\n",
       "\t<li>-178709</li>\n",
       "\t<li>-190</li>\n",
       "\t<li>-14624</li>\n",
       "\t<li>-8400</li>\n",
       "\t<li>-14482</li>\n",
       "\t<li>-1131</li>\n",
       "\t<li>-452</li>\n",
       "\t<li>-452</li>\n",
       "\t<li>-38857</li>\n",
       "\t<li>-123122</li>\n",
       "\t<li>-14690</li>\n",
       "\t<li>-170895</li>\n",
       "\t<li>-14737</li>\n",
       "\t<li>-4904</li>\n",
       "\t<li>-170673</li>\n",
       "\t<li>-15811</li>\n",
       "\t<li>-4669</li>\n",
       "\t<li>-1958</li>\n",
       "\t<li>-865</li>\n",
       "\t<li>-14621</li>\n",
       "\t<li>-271</li>\n",
       "\t<li>-299</li>\n",
       "\t<li>-209</li>\n",
       "\t<li>-5558</li>\n",
       "</ol>\n"
      ],
      "text/latex": [
       "\\begin{enumerate}\n",
       "\\item -209\n",
       "\\item -14402\n",
       "\\item -80\n",
       "\\item -14762\n",
       "\\item -1295\n",
       "\\item -1295\n",
       "\\item -802\n",
       "\\item -544\n",
       "\\item -14459\n",
       "\\item -75\n",
       "\\item -75\n",
       "\\item -4489\n",
       "\\item -165\n",
       "\\item -147\n",
       "\\item -12697\n",
       "\\item -165\n",
       "\\item -178709\n",
       "\\item -190\n",
       "\\item -14624\n",
       "\\item -8400\n",
       "\\item -14482\n",
       "\\item -1131\n",
       "\\item -452\n",
       "\\item -452\n",
       "\\item -38857\n",
       "\\item -123122\n",
       "\\item -14690\n",
       "\\item -170895\n",
       "\\item -14737\n",
       "\\item -4904\n",
       "\\item -170673\n",
       "\\item -15811\n",
       "\\item -4669\n",
       "\\item -1958\n",
       "\\item -865\n",
       "\\item -14621\n",
       "\\item -271\n",
       "\\item -299\n",
       "\\item -209\n",
       "\\item -5558\n",
       "\\end{enumerate}\n"
      ],
      "text/markdown": [
       "1. -209\n",
       "2. -14402\n",
       "3. -80\n",
       "4. -14762\n",
       "5. -1295\n",
       "6. -1295\n",
       "7. -802\n",
       "8. -544\n",
       "9. -14459\n",
       "10. -75\n",
       "11. -75\n",
       "12. -4489\n",
       "13. -165\n",
       "14. -147\n",
       "15. -12697\n",
       "16. -165\n",
       "17. -178709\n",
       "18. -190\n",
       "19. -14624\n",
       "20. -8400\n",
       "21. -14482\n",
       "22. -1131\n",
       "23. -452\n",
       "24. -452\n",
       "25. -38857\n",
       "26. -123122\n",
       "27. -14690\n",
       "28. -170895\n",
       "29. -14737\n",
       "30. -4904\n",
       "31. -170673\n",
       "32. -15811\n",
       "33. -4669\n",
       "34. -1958\n",
       "35. -865\n",
       "36. -14621\n",
       "37. -271\n",
       "38. -299\n",
       "39. -209\n",
       "40. -5558\n",
       "\n",
       "\n"
      ],
      "text/plain": [
       "[[1]]\n",
       "[1] -209\n",
       "\n",
       "[[2]]\n",
       "[1] -14402\n",
       "\n",
       "[[3]]\n",
       "[1] -80\n",
       "\n",
       "[[4]]\n",
       "[1] -14762\n",
       "\n",
       "[[5]]\n",
       "[1] -1295\n",
       "\n",
       "[[6]]\n",
       "[1] -1295\n",
       "\n",
       "[[7]]\n",
       "[1] -802\n",
       "\n",
       "[[8]]\n",
       "[1] -544\n",
       "\n",
       "[[9]]\n",
       "[1] -14459\n",
       "\n",
       "[[10]]\n",
       "[1] -75\n",
       "\n",
       "[[11]]\n",
       "[1] -75\n",
       "\n",
       "[[12]]\n",
       "[1] -4489\n",
       "\n",
       "[[13]]\n",
       "[1] -165\n",
       "\n",
       "[[14]]\n",
       "[1] -147\n",
       "\n",
       "[[15]]\n",
       "[1] -12697\n",
       "\n",
       "[[16]]\n",
       "[1] -165\n",
       "\n",
       "[[17]]\n",
       "[1] -178709\n",
       "\n",
       "[[18]]\n",
       "[1] -190\n",
       "\n",
       "[[19]]\n",
       "[1] -14624\n",
       "\n",
       "[[20]]\n",
       "[1] -8400\n",
       "\n",
       "[[21]]\n",
       "[1] -14482\n",
       "\n",
       "[[22]]\n",
       "[1] -1131\n",
       "\n",
       "[[23]]\n",
       "[1] -452\n",
       "\n",
       "[[24]]\n",
       "[1] -452\n",
       "\n",
       "[[25]]\n",
       "[1] -38857\n",
       "\n",
       "[[26]]\n",
       "[1] -123122\n",
       "\n",
       "[[27]]\n",
       "[1] -14690\n",
       "\n",
       "[[28]]\n",
       "[1] -170895\n",
       "\n",
       "[[29]]\n",
       "[1] -14737\n",
       "\n",
       "[[30]]\n",
       "[1] -4904\n",
       "\n",
       "[[31]]\n",
       "[1] -170673\n",
       "\n",
       "[[32]]\n",
       "[1] -15811\n",
       "\n",
       "[[33]]\n",
       "[1] -4669\n",
       "\n",
       "[[34]]\n",
       "[1] -1958\n",
       "\n",
       "[[35]]\n",
       "[1] -865\n",
       "\n",
       "[[36]]\n",
       "[1] -14621\n",
       "\n",
       "[[37]]\n",
       "[1] -271\n",
       "\n",
       "[[38]]\n",
       "[1] -299\n",
       "\n",
       "[[39]]\n",
       "[1] -209\n",
       "\n",
       "[[40]]\n",
       "[1] -5558\n"
      ]
     },
     "metadata": {},
     "output_type": "display_data"
    }
   ],
   "source": [
    "lapply(list.traits[,1], remNaBio)"
   ]
  },
  {
   "cell_type": "code",
   "execution_count": 24,
   "metadata": {},
   "outputs": [
    {
     "name": "stderr",
     "output_type": "stream",
     "text": [
      "Warning message:\n",
      "“Removed 20283 rows containing non-finite values (stat_density).”\n"
     ]
    },
    {
     "data": {
      "image/png": "[encoded data removed]",
      "text/plain": [
       "plot without title"
      ]
     },
     "metadata": {
      "image/png": {
       "height": 420,
       "width": 420
      }
     },
     "output_type": "display_data"
    }
   ],
   "source": [
    "ggplot(df , aes(x=Calcium))+geom_density()"
   ]
  },
  {
   "cell_type": "code",
   "execution_count": 25,
   "metadata": {},
   "outputs": [
    {
     "data": {
      "text/html": [
       "20283"
      ],
      "text/latex": [
       "20283"
      ],
      "text/markdown": [
       "20283"
      ],
      "text/plain": [
       "[1] 20283"
      ]
     },
     "metadata": {},
     "output_type": "display_data"
    }
   ],
   "source": [
    "df %>% filter(is.na(Calcium)) %>% nrow()"
   ]
  },
  {
   "cell_type": "code",
   "execution_count": 27,
   "metadata": {},
   "outputs": [
    {
     "data": {
      "text/html": [
       "199616"
      ],
      "text/latex": [
       "199616"
      ],
      "text/markdown": [
       "199616"
      ],
      "text/plain": [
       "[1] 199616"
      ]
     },
     "metadata": {},
     "output_type": "display_data"
    }
   ],
   "source": [
    "df %>% filter(!is.na(Calcium)) %>% nrow()\n"
   ]
  },
  {
   "cell_type": "code",
   "execution_count": null,
   "metadata": {},
   "outputs": [],
   "source": []
  }
 ],
 "metadata": {
  "kernelspec": {
   "display_name": "R",
   "language": "R",
   "name": "ir"
  },
  "language_info": {
   "codemirror_mode": "r",
   "file_extension": ".r",
   "mimetype": "text/x-r-source",
   "name": "R",
   "pygments_lexer": "r",
   "version": "3.5.1"
  }
 },
 "nbformat": 4,
 "nbformat_minor": 2
}
