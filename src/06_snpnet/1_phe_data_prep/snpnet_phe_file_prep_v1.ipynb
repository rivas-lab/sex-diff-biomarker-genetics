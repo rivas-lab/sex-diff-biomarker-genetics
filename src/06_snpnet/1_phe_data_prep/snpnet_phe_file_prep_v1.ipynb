{
 "cells": [
  {
   "cell_type": "code",
   "execution_count": 1,
   "metadata": {},
   "outputs": [
    {
     "name": "stderr",
     "output_type": "stream",
     "text": [
      "Loading required package: tidyverse\n",
      "── Attaching packages ─────────────────────────────────────── tidyverse 1.2.1 ──\n",
      "✔ ggplot2 3.1.0       ✔ purrr   0.3.1  \n",
      "✔ tibble  2.0.1       ✔ dplyr   0.8.0.1\n",
      "✔ tidyr   0.8.3       ✔ stringr 1.4.0  \n",
      "✔ readr   1.3.1       ✔ forcats 0.4.0  \n",
      "── Conflicts ────────────────────────────────────────── tidyverse_conflicts() ──\n",
      "✖ dplyr::filter() masks stats::filter()\n",
      "✖ dplyr::lag()    masks stats::lag()\n"
     ]
    }
   ],
   "source": [
    "require(tidyverse)\n"
   ]
  },
  {
   "cell_type": "code",
   "execution_count": 2,
   "metadata": {},
   "outputs": [
    {
     "name": "stderr",
     "output_type": "stream",
     "text": [
      "Loading required package: data.table\n",
      "\n",
      "Attaching package: ‘data.table’\n",
      "\n",
      "The following objects are masked from ‘package:dplyr’:\n",
      "\n",
      "    between, first, last\n",
      "\n",
      "The following object is masked from ‘package:purrr’:\n",
      "\n",
      "    transpose\n",
      "\n"
     ]
    }
   ],
   "source": [
    "require(data.table)\n"
   ]
  },
  {
   "cell_type": "code",
   "execution_count": 41,
   "metadata": {},
   "outputs": [],
   "source": [
    "read_keep <- function(name){\n",
    "    keep_dir <- '/scratch/PI/mrivas/users/erflynn/sex_div_gwas/phefiles'\n",
    "    df <- fread(file.path(keep_dir, paste0(name, '.keep')))\n",
    "    colnames(df) <- c('FID')\n",
    "    df %>% mutate(IID = FID, keep = name)\n",
    "}\n"
   ]
  },
  {
   "cell_type": "code",
   "execution_count": 3,
   "metadata": {},
   "outputs": [],
   "source": [
    "t_med <- fread('/scratch/PI/mrivas/users/erflynn/sex_div_gwas/data/t_related.txt')\n"
   ]
  },
  {
   "cell_type": "code",
   "execution_count": 14,
   "metadata": {},
   "outputs": [
    {
     "name": "stdout",
     "output_type": "stream",
     "text": [
      "[1] 2766    7\n",
      "[1] 2766    1\n"
     ]
    }
   ],
   "source": [
    "t_med %>% dim() %>% print()\n",
    "\n",
    "t_med %>% gather(\"med\", \"val\", -IID) %>% filter(val > 0) %>% select(IID) %>% unique() %>% dim() %>% print()"
   ]
  },
  {
   "cell_type": "code",
   "execution_count": 70,
   "metadata": {},
   "outputs": [],
   "source": [
    "read_phe <- function(){\n",
    "    phe_dir <- '/oak/stanford/groups/mrivas/projects/biomarkers/covariate_corrected'\n",
    "    phe_suffix <- 'phenotypes/residual/Testosterone.phe'\n",
    "    \n",
    "    bind_rows(lapply(c(\n",
    "        'outputExtendedBMIreducedMaleWhiteBritish',\n",
    "        'outputExtendedBMIreducedFemaleWhiteBritish'\n",
    "    ), function(x){\n",
    "        fread(file.path(phe_dir, x, phe_suffix))%>%\n",
    "        filter(! IID %in% (t_med %>% select(IID) %>% pull())) %>%\n",
    "        drop_na()\n",
    "    }))\n",
    "}\n"
   ]
  },
  {
   "cell_type": "code",
   "execution_count": 71,
   "metadata": {},
   "outputs": [],
   "source": [
    "t_phe <- read_phe()"
   ]
  },
  {
   "cell_type": "code",
   "execution_count": 72,
   "metadata": {},
   "outputs": [
    {
     "data": {
      "text/html": [
       "<ol class=list-inline>\n",
       "\t<li>365682</li>\n",
       "\t<li>3</li>\n",
       "</ol>\n"
      ],
      "text/latex": [
       "\\begin{enumerate*}\n",
       "\\item 365682\n",
       "\\item 3\n",
       "\\end{enumerate*}\n"
      ],
      "text/markdown": [
       "1. 365682\n",
       "2. 3\n",
       "\n",
       "\n"
      ],
      "text/plain": [
       "[1] 365682      3"
      ]
     },
     "metadata": {},
     "output_type": "display_data"
    }
   ],
   "source": [
    "t_phe %>% dim()\n"
   ]
  },
  {
   "cell_type": "code",
   "execution_count": 73,
   "metadata": {},
   "outputs": [],
   "source": [
    "df <- bind_rows(lapply(c('pre_meno', 'post_meno', 'onesex', 'zerosex'), function(x){\n",
    "    read_keep(x) %>% \n",
    "    inner_join(t_phe, by=c('FID', 'IID'))\n",
    "}))\n"
   ]
  },
  {
   "cell_type": "code",
   "execution_count": 78,
   "metadata": {},
   "outputs": [
    {
     "data": {
      "text/html": [
       "<ol class=list-inline>\n",
       "\t<li>365682</li>\n",
       "\t<li>1</li>\n",
       "</ol>\n"
      ],
      "text/latex": [
       "\\begin{enumerate*}\n",
       "\\item 365682\n",
       "\\item 1\n",
       "\\end{enumerate*}\n"
      ],
      "text/markdown": [
       "1. 365682\n",
       "2. 1\n",
       "\n",
       "\n"
      ],
      "text/plain": [
       "[1] 365682      1"
      ]
     },
     "metadata": {},
     "output_type": "display_data"
    }
   ],
   "source": [
    "df %>% select(FID) %>% unique() %>% dim()"
   ]
  },
  {
   "cell_type": "code",
   "execution_count": 74,
   "metadata": {},
   "outputs": [
    {
     "data": {
      "text/html": [
       "<table>\n",
       "<thead><tr><th scope=col>keep</th><th scope=col>n</th></tr></thead>\n",
       "<tbody>\n",
       "\t<tr><td>onesex   </td><td>182552   </td></tr>\n",
       "\t<tr><td>post_meno</td><td> 98816   </td></tr>\n",
       "\t<tr><td>pre_meno </td><td> 41291   </td></tr>\n",
       "\t<tr><td>zerosex  </td><td>183130   </td></tr>\n",
       "</tbody>\n",
       "</table>\n"
      ],
      "text/latex": [
       "\\begin{tabular}{r|ll}\n",
       " keep & n\\\\\n",
       "\\hline\n",
       "\t onesex    & 182552   \\\\\n",
       "\t post\\_meno &  98816     \\\\\n",
       "\t pre\\_meno  &  41291     \\\\\n",
       "\t zerosex   & 183130   \\\\\n",
       "\\end{tabular}\n"
      ],
      "text/markdown": [
       "\n",
       "| keep | n |\n",
       "|---|---|\n",
       "| onesex    | 182552    |\n",
       "| post_meno |  98816    |\n",
       "| pre_meno  |  41291    |\n",
       "| zerosex   | 183130    |\n",
       "\n"
      ],
      "text/plain": [
       "  keep      n     \n",
       "1 onesex    182552\n",
       "2 post_meno  98816\n",
       "3 pre_meno   41291\n",
       "4 zerosex   183130"
      ]
     },
     "metadata": {},
     "output_type": "display_data"
    }
   ],
   "source": [
    "df %>% count(keep)\n"
   ]
  },
  {
   "cell_type": "code",
   "execution_count": 83,
   "metadata": {},
   "outputs": [],
   "source": [
    "phe_data_dir <- '/oak/stanford/groups/mrivas/users/ytanigaw/repos/rivas-lab/sex-div-analysis/snpnet/phe_data'\n",
    "for (k in c('pre_meno', 'post_meno', 'onesex', 'zerosex')){\n",
    "    df %>% filter(keep == k) %>% select(-keep) %>% \n",
    "    fwrite(file.path(phe_data_dir, paste0(k, '.phe')), sep='\\t', )\n",
    "}\n"
   ]
  },
  {
   "cell_type": "code",
   "execution_count": null,
   "metadata": {},
   "outputs": [],
   "source": []
  }
 ],
 "metadata": {
  "kernelspec": {
   "display_name": "R",
   "language": "R",
   "name": "ir"
  },
  "language_info": {
   "codemirror_mode": "r",
   "file_extension": ".r",
   "mimetype": "text/x-r-source",
   "name": "R",
   "pygments_lexer": "r",
   "version": "3.6.2"
  }
 },
 "nbformat": 4,
 "nbformat_minor": 4
}
