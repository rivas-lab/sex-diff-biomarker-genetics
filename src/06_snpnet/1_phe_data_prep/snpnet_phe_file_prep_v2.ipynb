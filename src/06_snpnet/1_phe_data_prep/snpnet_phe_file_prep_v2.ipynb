{
 "cells": [
  {
   "cell_type": "code",
   "execution_count": 1,
   "metadata": {},
   "outputs": [],
   "source": [
    "suppressPackageStartupMessages(require(tidyverse))\n",
    "suppressPackageStartupMessages(require(data.table))\n"
   ]
  },
  {
   "cell_type": "code",
   "execution_count": 2,
   "metadata": {},
   "outputs": [],
   "source": [
    "phe_dir <- '/oak/stanford/groups/mrivas/projects/biomarkers/covariate_corrected'\n",
    "phe_f   <- file.path(phe_dir, 'phenotypes/biomarkers_with_egfr_fastingglucose_nonalbumin.phe')\n",
    "covar_f <- file.path(phe_dir, 'outputExtendedNoTDIreduced/phenotypes/full.table.combined.phe')\n"
   ]
  },
  {
   "cell_type": "code",
   "execution_count": 3,
   "metadata": {},
   "outputs": [],
   "source": [
    "covars <- fread('covars.sex-indep.txt', head=F) %>% pull()"
   ]
  },
  {
   "cell_type": "code",
   "execution_count": 4,
   "metadata": {},
   "outputs": [],
   "source": [
    "phe_df   <- fread(phe_f)\n",
    "covar_df <- fread(covar_f)\n"
   ]
  },
  {
   "cell_type": "code",
   "execution_count": 12,
   "metadata": {},
   "outputs": [],
   "source": [
    "all_df <- phe_df %>% \n",
    "select('IID', 'f.30850.0.0') %>% \n",
    "rename('Testosterone' = 'f.30850.0.0') %>% \n",
    "mutate(Testosterone = log10(Testosterone)) %>%\n",
    "inner_join(\n",
    "    covar_df %>% \n",
    "    mutate(ageBin_FastingTime = ageBin * FastingTime) %>%\n",
    "    select(c('FID', 'IID', covars)),\n",
    "    by='IID'\n",
    ")\n"
   ]
  },
  {
   "cell_type": "code",
   "execution_count": 13,
   "metadata": {},
   "outputs": [
    {
     "data": {
      "text/html": [
       "<ol class=list-inline>\n",
       "\t<li>461503</li>\n",
       "\t<li>116</li>\n",
       "</ol>\n"
      ],
      "text/latex": [
       "\\begin{enumerate*}\n",
       "\\item 461503\n",
       "\\item 116\n",
       "\\end{enumerate*}\n"
      ],
      "text/markdown": [
       "1. 461503\n",
       "2. 116\n",
       "\n",
       "\n"
      ],
      "text/plain": [
       "[1] 461503    116"
      ]
     },
     "metadata": {},
     "output_type": "display_data"
    }
   ],
   "source": [
    "all_df %>% dim()\n"
   ]
  },
  {
   "cell_type": "code",
   "execution_count": 15,
   "metadata": {},
   "outputs": [
    {
     "data": {
      "text/plain": [
       "  Testosterone  \n",
       " Min.   :-0.46  \n",
       " 1st Qu.: 0.01  \n",
       " Median : 0.61  \n",
       " Mean   : 0.53  \n",
       " 3rd Qu.: 1.07  \n",
       " Max.   : 1.74  \n",
       " NA's   :43736  "
      ]
     },
     "metadata": {},
     "output_type": "display_data"
    }
   ],
   "source": [
    "all_df %>% select(Testosterone) %>% summary()"
   ]
  },
  {
   "cell_type": "markdown",
   "metadata": {},
   "source": [
    "## read the data used in v1\n",
    "\n",
    "- Use the same set of individuals used in v1\n"
   ]
  },
  {
   "cell_type": "code",
   "execution_count": 8,
   "metadata": {},
   "outputs": [
    {
     "name": "stdout",
     "output_type": "stream",
     "text": [
      "[1] 2766    7\n",
      "[1] 2766    1\n",
      "[1] 365682      3\n"
     ]
    },
    {
     "data": {
      "text/plain": [
       "NULL"
      ]
     },
     "metadata": {},
     "output_type": "display_data"
    },
    {
     "name": "stdout",
     "output_type": "stream",
     "text": [
      "\u001b[90m# A tibble: 4 x 2\u001b[39m\n",
      "  keep           n\n",
      "  \u001b[3m\u001b[90m<chr>\u001b[39m\u001b[23m      \u001b[3m\u001b[90m<int>\u001b[39m\u001b[23m\n",
      "\u001b[90m1\u001b[39m onesex    \u001b[4m1\u001b[24m\u001b[4m8\u001b[24m\u001b[4m2\u001b[24m552\n",
      "\u001b[90m2\u001b[39m post_meno  \u001b[4m9\u001b[24m\u001b[4m8\u001b[24m816\n",
      "\u001b[90m3\u001b[39m pre_meno   \u001b[4m4\u001b[24m\u001b[4m1\u001b[24m291\n",
      "\u001b[90m4\u001b[39m zerosex   \u001b[4m1\u001b[24m\u001b[4m8\u001b[24m\u001b[4m3\u001b[24m130\n"
     ]
    }
   ],
   "source": [
    "read_keep <- function(name){\n",
    "    keep_dir <- '/scratch/PI/mrivas/users/erflynn/sex_div_gwas/phefiles'\n",
    "    df <- fread(file.path(keep_dir, paste0(name, '.keep')))\n",
    "    colnames(df) <- c('FID')\n",
    "    df %>% mutate(IID = FID, keep = name)\n",
    "}\n",
    "\n",
    "read_phe <- function(){\n",
    "    phe_dir <- '/oak/stanford/groups/mrivas/projects/biomarkers/covariate_corrected'\n",
    "    phe_suffix <- 'phenotypes/residual/Testosterone.phe'\n",
    "    \n",
    "    bind_rows(lapply(c(\n",
    "        'outputExtendedBMIreducedMaleWhiteBritish',\n",
    "        'outputExtendedBMIreducedFemaleWhiteBritish'\n",
    "    ), function(x){\n",
    "        fread(file.path(phe_dir, x, phe_suffix))%>%\n",
    "        filter(! IID %in% (t_med %>% select(IID) %>% pull())) %>%\n",
    "        drop_na()\n",
    "    }))\n",
    "}\n",
    "\n",
    "t_med <- fread('/scratch/PI/mrivas/users/erflynn/sex_div_gwas/data/t_related.txt')\n",
    "t_med %>% dim() %>% print()\n",
    "\n",
    "t_med %>% gather(\"med\", \"val\", -IID) %>% filter(val > 0) %>% \n",
    "select(IID) %>% unique() %>% dim() %>% print()\n",
    "\n",
    "t_phe <- read_phe()\n",
    "t_phe %>% dim() %>% print()\n",
    "\n",
    "df <- bind_rows(lapply(c('pre_meno', 'post_meno', 'onesex', 'zerosex'), function(x){\n",
    "    read_keep(x) %>% \n",
    "    inner_join(t_phe, by=c('FID', 'IID'))\n",
    "}))\n",
    "\n",
    "df %>% select(FID) %>% unique() %>% dim() %>% dim()\n",
    "df %>% count(keep) %>% print()\n"
   ]
  },
  {
   "cell_type": "code",
   "execution_count": 9,
   "metadata": {},
   "outputs": [
    {
     "data": {
      "text/html": [
       "<table>\n",
       "<caption>A data.frame: 0 × 4</caption>\n",
       "<thead>\n",
       "\t<tr><th scope=col>FID</th><th scope=col>IID</th><th scope=col>keep</th><th scope=col>Testosterone</th></tr>\n",
       "\t<tr><th scope=col>&lt;dbl&gt;</th><th scope=col>&lt;dbl&gt;</th><th scope=col>&lt;chr&gt;</th><th scope=col>&lt;dbl&gt;</th></tr>\n",
       "</thead>\n",
       "<tbody>\n",
       "</tbody>\n",
       "</table>\n"
      ],
      "text/latex": [
       "A data.frame: 0 × 4\n",
       "\\begin{tabular}{r|llll}\n",
       " FID & IID & keep & Testosterone\\\\\n",
       " <dbl> & <dbl> & <chr> & <dbl>\\\\\n",
       "\\hline\n",
       "\\end{tabular}\n"
      ],
      "text/markdown": [
       "\n",
       "A data.frame: 0 × 4\n",
       "\n",
       "| FID &lt;dbl&gt; | IID &lt;dbl&gt; | keep &lt;chr&gt; | Testosterone &lt;dbl&gt; |\n",
       "|---|---|---|---|\n",
       "\n"
      ],
      "text/plain": [
       "     FID IID keep Testosterone"
      ]
     },
     "metadata": {},
     "output_type": "display_data"
    }
   ],
   "source": [
    "df %>% head(0)"
   ]
  },
  {
   "cell_type": "code",
   "execution_count": 16,
   "metadata": {},
   "outputs": [],
   "source": [
    "v2_dfs <- list()\n",
    "for (k in c('pre_meno', 'post_meno', 'onesex', 'zerosex')){\n",
    "    v2_dfs[[k]] <- df %>% filter(keep == k) %>% \n",
    "    select(-keep, -Testosterone) %>%\n",
    "    inner_join(\n",
    "        all_df %>% select(c('FID', 'IID', 'Testosterone', covars)), \n",
    "        by=c('FID', 'IID')\n",
    "    ) %>% \n",
    "    select(c('FID', 'IID', 'Testosterone', covars))\n",
    "}\n"
   ]
  },
  {
   "cell_type": "code",
   "execution_count": 28,
   "metadata": {},
   "outputs": [],
   "source": [
    "v2_dfs[['combined']] <- bind_rows(v2_dfs[['onesex']] %>% mutate(sex = 1), v2_dfs[['zerosex']] %>% mutate(sex = 0))\n"
   ]
  },
  {
   "cell_type": "code",
   "execution_count": 29,
   "metadata": {},
   "outputs": [
    {
     "name": "stdout",
     "output_type": "stream",
     "text": [
      "[1] \"pre_meno\"\n",
      "[1] 41291   116\n",
      "[1] \"post_meno\"\n",
      "[1] 98816   116\n",
      "[1] \"onesex\"\n",
      "[1] 182552    116\n",
      "[1] \"zerosex\"\n",
      "[1] 183130    116\n",
      "[1] \"combined\"\n",
      "[1] 365682    117\n"
     ]
    }
   ],
   "source": [
    "for (k in names(v2_dfs)){\n",
    "    print(k)\n",
    "    v2_dfs[[k]] %>% dim() %>% print()\n",
    "}\n"
   ]
  },
  {
   "cell_type": "code",
   "execution_count": 31,
   "metadata": {},
   "outputs": [
    {
     "name": "stdout",
     "output_type": "stream",
     "text": [
      "[1] \"pre_meno\"\n",
      "[1] 41291   116\n",
      "[1] \"post_meno\"\n",
      "[1] 98816   116\n",
      "[1] \"onesex\"\n",
      "[1] 182552    116\n",
      "[1] \"zerosex\"\n",
      "[1] 183130    116\n",
      "[1] \"combined\"\n",
      "[1] 365682    117\n"
     ]
    }
   ],
   "source": [
    "for (k in names(v2_dfs)){\n",
    "    print(k)\n",
    "    v2_dfs[[k]] %>% drop_na() %>% dim() %>% print()\n",
    "}\n"
   ]
  },
  {
   "cell_type": "code",
   "execution_count": 46,
   "metadata": {},
   "outputs": [],
   "source": [
    "fit_lm <- function(df, phenotype, covariates){\n",
    "    form <- stats::as.formula(paste(phenotype, ' ~ ', paste(c(1, covariates), collapse = \" + \")))\n",
    "    fit <- lm(form, data=df) \n",
    "    return(fit)\n",
    "\n",
    "}"
   ]
  },
  {
   "cell_type": "code",
   "execution_count": 47,
   "metadata": {},
   "outputs": [],
   "source": [
    "lm_models <- list()\n",
    "for(k in c('onesex', 'zerosex')){\n",
    "    lm_models[[k]] <- fit_lm(v2_dfs[[k]], 'Testosterone', covars)\n",
    "}\n",
    "for(k in c('combined')){\n",
    "    lm_models[[k]] <- fit_lm(v2_dfs[[k]], 'Testosterone', c('sex', covars))\n",
    "}\n"
   ]
  },
  {
   "cell_type": "code",
   "execution_count": 57,
   "metadata": {},
   "outputs": [],
   "source": [
    "for(k in c('onesex', 'zerosex', 'combined')){\n",
    "    v2_dfs[[k]] <- v2_dfs[[k]] %>% mutate(\n",
    "        Testosterone_residuals = (lm_models[[k]])$residuals\n",
    "    )    \n",
    "}\n"
   ]
  },
  {
   "cell_type": "code",
   "execution_count": 59,
   "metadata": {},
   "outputs": [],
   "source": [
    "phe_data_dir <- '/oak/stanford/groups/mrivas/users/ytanigaw/repos/rivas-lab/sex-div-analysis/snpnet/phe_data/v2'\n",
    "for(k in c('onesex', 'zerosex', 'combined')){\n",
    "    v2_dfs[[k]] %>% \n",
    "    fwrite(file.path(phe_data_dir, paste0(k, '.phe')), sep='\\t', )\n",
    "}\n"
   ]
  },
  {
   "cell_type": "code",
   "execution_count": 66,
   "metadata": {},
   "outputs": [
    {
     "name": "stdout",
     "output_type": "stream",
     "text": [
      "[1] \"onesex\"\n",
      "[1] \"zerosex\"\n",
      "[1] \"combined\"\n"
     ]
    }
   ],
   "source": [
    "for(k in c('onesex', 'zerosex', 'combined')){\n",
    "    print(k)\n",
    "    save_RD <- file.path(phe_data_dir, paste0(k, '.lm.RData'))\n",
    "    save_lm <- lm_models[[k]]\n",
    "    save(save_lm, file = save_RD)\n",
    "}\n"
   ]
  },
  {
   "cell_type": "code",
   "execution_count": 73,
   "metadata": {},
   "outputs": [
    {
     "name": "stdout",
     "output_type": "stream",
     "text": [
      "[1] \"onesex\"\n",
      "[1] \"zerosex\"\n",
      "[1] \"combined\"\n"
     ]
    }
   ],
   "source": [
    "for(k in c('onesex', 'zerosex', 'combined')){\n",
    "    print(k)\n",
    "    data.frame(summary(lm_models[[k]])$coefficient) %>%\n",
    "    fwrite(file.path(phe_data_dir, paste0(k, '.lm.coeff.tsv')), sep='\\t', row.names=T)\n",
    "}\n"
   ]
  },
  {
   "cell_type": "code",
   "execution_count": null,
   "metadata": {},
   "outputs": [],
   "source": []
  }
 ],
 "metadata": {
  "kernelspec": {
   "display_name": "R",
   "language": "R",
   "name": "ir"
  },
  "language_info": {
   "codemirror_mode": "r",
   "file_extension": ".r",
   "mimetype": "text/x-r-source",
   "name": "R",
   "pygments_lexer": "r",
   "version": "3.6.2"
  }
 },
 "nbformat": 4,
 "nbformat_minor": 4
}
