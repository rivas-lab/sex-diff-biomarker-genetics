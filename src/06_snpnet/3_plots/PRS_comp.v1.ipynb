{
 "cells": [
  {
   "cell_type": "code",
   "execution_count": 1,
   "metadata": {},
   "outputs": [],
   "source": [
    "suppressPackageStartupMessages(require(tidyverse))\n",
    "suppressPackageStartupMessages(require(data.table))\n"
   ]
  },
  {
   "cell_type": "markdown",
   "metadata": {},
   "source": [
    "### Step 1. Read the relevant data"
   ]
  },
  {
   "cell_type": "code",
   "execution_count": 2,
   "metadata": {},
   "outputs": [],
   "source": [
    "lab_repo_dir <- '@@@@@'\n",
    "pheno <- 'Testosterone'\n",
    "\n",
    "score_files <- list()\n",
    "\n",
    "score_files[['male']] <- file.path(\n",
    "    lab_repo_dir, 'sex-div-analysis/snpnet/out', 'onesex',  \n",
    "    pheno, 'results/score', paste0(pheno, '.sscore')\n",
    ")\n",
    "\n",
    "score_files[['female']] <- file.path(\n",
    "    lab_repo_dir, 'sex-div-analysis/snpnet/out', 'zerosex', \n",
    "    pheno, 'results/score', paste0(pheno, '.sscore')\n",
    ")\n",
    "\n",
    "score_files[['pre_meno']] <- file.path(\n",
    "    lab_repo_dir, 'sex-div-analysis/snpnet/out', 'pre_meno',\n",
    "    pheno, 'results/score', paste0(pheno, '.sscore')\n",
    ")\n",
    "\n",
    "score_files[['post_meno']] <- file.path(\n",
    "    lab_repo_dir, 'sex-div-analysis/snpnet/out', 'post_meno', \n",
    "    pheno, 'results/score', paste0(pheno, '.sscore')\n",
    ")\n",
    "\n",
    "score_files[['combined']] <- file.path(\n",
    "    lab_repo_dir, 'public-resources/uk_biobank/biomarkers/snpnet/data',\n",
    "    pheno, 'results/score', paste0(pheno, '.sscore')\n",
    ")\n"
   ]
  },
  {
   "cell_type": "code",
   "execution_count": 3,
   "metadata": {},
   "outputs": [],
   "source": [
    "score_df <- bind_rows(lapply(\n",
    "    names(score_files), function(x){    \n",
    "        fread(score_files[[x]], sep='\\t') %>% \n",
    "        rename('FID' = '#FID') %>% \n",
    "        select(FID, IID, SCORE1_SUM) %>%\n",
    "        mutate(score_type = x)\n",
    "    }\n",
    ")) %>% spread(score_type, SCORE1_SUM)\n"
   ]
  },
  {
   "cell_type": "code",
   "execution_count": 4,
   "metadata": {},
   "outputs": [],
   "source": [
    "t_med <- fread('@@@@@/sex_div_gwas/data/t_related.txt')\n",
    "\n",
    "read_phe <- function(){\n",
    "    phe_dir <- '@@@@@/biomarkers/covariate_corrected'\n",
    "    phe_suffix <- 'phenotypes/residual/Testosterone.phe'\n",
    "    \n",
    "    bind_rows(lapply(c(\n",
    "        'outputExtendedBMIreducedMaleWhiteBritish',\n",
    "        'outputExtendedBMIreducedFemaleWhiteBritish'\n",
    "    ), function(x){\n",
    "        fread(file.path(phe_dir, x, phe_suffix))%>%\n",
    "        filter(! IID %in% (t_med %>% select(IID) %>% pull())) %>%\n",
    "        drop_na()\n",
    "    }))\n",
    "}\n"
   ]
  },
  {
   "cell_type": "code",
   "execution_count": 5,
   "metadata": {},
   "outputs": [],
   "source": [
    "read_keep <- function(name){\n",
    "    keep_dir <- '@@@@@/sex_div_gwas/phefiles'\n",
    "    df <- fread(file.path(keep_dir, paste0(name, '.keep')))\n",
    "    colnames(df) <- c('FID')\n",
    "    df %>% mutate(IID = FID, keep = name)\n",
    "}\n"
   ]
  },
  {
   "cell_type": "code",
   "execution_count": 6,
   "metadata": {},
   "outputs": [],
   "source": [
    "sex_stratified_phe <- read_phe()\n"
   ]
  },
  {
   "cell_type": "code",
   "execution_count": 7,
   "metadata": {},
   "outputs": [],
   "source": [
    "keep_df <- bind_rows(lapply(c('onesex', 'zerosex', 'pre_meno', 'post_meno'), function(x){\n",
    "    read_keep(x) %>% \n",
    "    inner_join(sex_stratified_phe, by=c('FID', 'IID'))\n",
    "}))\n",
    "\n",
    "\n",
    "combined_phe <- fread(file.path(\n",
    "    lab_repo_dir, \n",
    "    'public-resources/uk_biobank/biomarkers/snpnet/data/biomarkers_covar.phe'\n",
    "))\n",
    "\n",
    "\n",
    "split_df <- bind_rows(lapply(c('train', 'val', 'test'), function(x){\n",
    "    df <- fread(file.path(\n",
    "        '@@@@@/snpnet/geno/array_combined',\n",
    "        paste0(x, '.fam')\n",
    "    )) %>% mutate(keep = x)\n",
    "    df %>% select(V1, V2, keep) %>% \n",
    "    rename('FID' = 'V1', 'IID' = 'V2')\n",
    "}))\n"
   ]
  },
  {
   "cell_type": "code",
   "execution_count": 8,
   "metadata": {},
   "outputs": [],
   "source": [
    "all_df <- keep_df %>%\n",
    "rename('phe' = 'Testosterone') %>%\n",
    "left_join(\n",
    "    combined_phe %>% \n",
    "    select(FID, IID, sex, Testosterone) %>%\n",
    "    rename('phe_combined' = 'Testosterone'),\n",
    "    by=c('FID', 'IID')\n",
    ") %>% \n",
    "left_join(\n",
    "    split_df %>% rename('split' = 'keep'), by=c('FID', 'IID')\n",
    ") %>% \n",
    "left_join(\n",
    "    score_df, by=c('FID', 'IID')\n",
    ") %>% drop_na()\n"
   ]
  },
  {
   "cell_type": "code",
   "execution_count": 9,
   "metadata": {},
   "outputs": [
    {
     "data": {
      "text/html": [
       "<table>\n",
       "<caption>A tibble: 4 × 3</caption>\n",
       "<thead>\n",
       "\t<tr><th scope=col>keep</th><th scope=col>sex</th><th scope=col>n</th></tr>\n",
       "\t<tr><th scope=col>&lt;chr&gt;</th><th scope=col>&lt;int&gt;</th><th scope=col>&lt;int&gt;</th></tr>\n",
       "</thead>\n",
       "<tbody>\n",
       "\t<tr><td>onesex   </td><td>1</td><td>144108</td></tr>\n",
       "\t<tr><td>post_meno</td><td>0</td><td> 77154</td></tr>\n",
       "\t<tr><td>pre_meno </td><td>0</td><td> 32087</td></tr>\n",
       "\t<tr><td>zerosex  </td><td>0</td><td>142253</td></tr>\n",
       "</tbody>\n",
       "</table>\n"
      ],
      "text/latex": [
       "A tibble: 4 × 3\n",
       "\\begin{tabular}{r|lll}\n",
       " keep & sex & n\\\\\n",
       " <chr> & <int> & <int>\\\\\n",
       "\\hline\n",
       "\t onesex    & 1 & 144108\\\\\n",
       "\t post\\_meno & 0 &  77154\\\\\n",
       "\t pre\\_meno  & 0 &  32087\\\\\n",
       "\t zerosex   & 0 & 142253\\\\\n",
       "\\end{tabular}\n"
      ],
      "text/markdown": [
       "\n",
       "A tibble: 4 × 3\n",
       "\n",
       "| keep &lt;chr&gt; | sex &lt;int&gt; | n &lt;int&gt; |\n",
       "|---|---|---|\n",
       "| onesex    | 1 | 144108 |\n",
       "| post_meno | 0 |  77154 |\n",
       "| pre_meno  | 0 |  32087 |\n",
       "| zerosex   | 0 | 142253 |\n",
       "\n"
      ],
      "text/plain": [
       "  keep      sex n     \n",
       "1 onesex    1   144108\n",
       "2 post_meno 0    77154\n",
       "3 pre_meno  0    32087\n",
       "4 zerosex   0   142253"
      ]
     },
     "metadata": {},
     "output_type": "display_data"
    }
   ],
   "source": [
    "all_df %>% count(keep, sex)"
   ]
  },
  {
   "cell_type": "markdown",
   "metadata": {},
   "source": [
    "### Step 2. Compute statistics for the plots"
   ]
  },
  {
   "cell_type": "code",
   "execution_count": 10,
   "metadata": {},
   "outputs": [],
   "source": [
    "compute_residual_predictions_naive <- function(df, l_bin, u_bin, middle_df){\n",
    "    stratified_df <- df %>% \n",
    "    filter(l_bin < Percentile, Percentile <= u_bin) %>%\n",
    "    mutate(PRS_bin = T)\n",
    "    \n",
    "    n     <- stratified_df %>% nrow()\n",
    "    mean  <- stratified_df %>% select(phe) %>% pull() %>% mean()\n",
    "    sd    <- stratified_df %>% select(phe) %>% pull() %>% sd()\n",
    "    std_e <- sd / sqrt(n)\n",
    "    l_err <- mean - std_e\n",
    "    u_err <- mean + std_e\n",
    "        \n",
    "    data.frame(\n",
    "        l_bin = l_bin,\n",
    "        u_bin = u_bin,\n",
    "        mean   = mean,\n",
    "        std_err = std_e,\n",
    "        l_err = l_err,\n",
    "        u_err = u_err,\n",
    "        mean_str = sprintf('%.3f (%.3f-%.3f)', mean, l_err, u_err)\n",
    "    ) %>%\n",
    "    mutate(mean_str = as.character(mean_str))\n",
    "}"
   ]
  },
  {
   "cell_type": "code",
   "execution_count": 11,
   "metadata": {},
   "outputs": [],
   "source": [
    "compute_residual_predictions_glm <- function(df, l_bin, u_bin, middle_df){\n",
    "    stratified_df <- df %>% \n",
    "    filter(l_bin < Percentile, Percentile <= u_bin) %>%\n",
    "    mutate(PRS_bin = T)\n",
    "\n",
    "    glmfit <- glm (\n",
    "        phe ~ as.factor(PRS_bin),\n",
    "        bind_rows(middle_df, stratified_df),\n",
    "        family='gaussian'\n",
    "    )\n",
    "    \n",
    "    mean    <- summary(glmfit)$coefficients[2,1]\n",
    "    std_e <- summary(glmfit)$coefficients[2,2]   \n",
    "    l_err   <- mean - std_e\n",
    "    u_err   <- mean + std_e\n",
    "        \n",
    "    data.frame(\n",
    "        l_bin = l_bin,\n",
    "        u_bin = u_bin,\n",
    "        mean   = mean,\n",
    "        std_err = std_e,\n",
    "        l_err = l_err,\n",
    "        u_err = u_err,\n",
    "        mean_str = sprintf('%.3f (%.3f-%.3f)', mean, l_err, u_err)\n",
    "    ) %>%\n",
    "    mutate(mean_str = as.character(mean_str))\n",
    "}"
   ]
  },
  {
   "cell_type": "code",
   "execution_count": 12,
   "metadata": {},
   "outputs": [],
   "source": [
    "compute_summary_df <- function(df, PRS_type, func){\n",
    "    middle_df <- df %>% \n",
    "    filter(0.4 < Percentile, Percentile <= 0.6) %>%\n",
    "    mutate(PRS_bin = F)\n",
    "\n",
    "    bind_rows(\n",
    "        func(df,   0, .01, middle_df),\n",
    "        func(df, .01, .05, middle_df),\n",
    "        lapply(2:19, function(x){\n",
    "            func(df, (x-1)/20, x/20, middle_df)\n",
    "        }),\n",
    "        func(df, .95, .99, middle_df),\n",
    "        func(df, .99, 1, middle_df),\n",
    "    )  %>%\n",
    "    mutate(PRS_type = PRS_type)\n",
    "}\n"
   ]
  },
  {
   "cell_type": "code",
   "execution_count": 13,
   "metadata": {},
   "outputs": [
    {
     "data": {
      "text/html": [
       "<table>\n",
       "<caption>A tibble: 12 × 4</caption>\n",
       "<thead>\n",
       "\t<tr><th scope=col>split</th><th scope=col>sex</th><th scope=col>keep</th><th scope=col>n</th></tr>\n",
       "\t<tr><th scope=col>&lt;chr&gt;</th><th scope=col>&lt;int&gt;</th><th scope=col>&lt;chr&gt;</th><th scope=col>&lt;int&gt;</th></tr>\n",
       "</thead>\n",
       "<tbody>\n",
       "\t<tr><td>test </td><td>0</td><td>post_meno</td><td> 15699</td></tr>\n",
       "\t<tr><td>test </td><td>0</td><td>pre_meno </td><td>  6362</td></tr>\n",
       "\t<tr><td>test </td><td>0</td><td>zerosex  </td><td> 28640</td></tr>\n",
       "\t<tr><td>test </td><td>1</td><td>onesex   </td><td> 28601</td></tr>\n",
       "\t<tr><td>train</td><td>0</td><td>post_meno</td><td> 53860</td></tr>\n",
       "\t<tr><td>train</td><td>0</td><td>pre_meno </td><td> 22635</td></tr>\n",
       "\t<tr><td>train</td><td>0</td><td>zerosex  </td><td> 99564</td></tr>\n",
       "\t<tr><td>train</td><td>1</td><td>onesex   </td><td>100913</td></tr>\n",
       "\t<tr><td>val  </td><td>0</td><td>post_meno</td><td>  7595</td></tr>\n",
       "\t<tr><td>val  </td><td>0</td><td>pre_meno </td><td>  3090</td></tr>\n",
       "\t<tr><td>val  </td><td>0</td><td>zerosex  </td><td> 14049</td></tr>\n",
       "\t<tr><td>val  </td><td>1</td><td>onesex   </td><td> 14594</td></tr>\n",
       "</tbody>\n",
       "</table>\n"
      ],
      "text/latex": [
       "A tibble: 12 × 4\n",
       "\\begin{tabular}{r|llll}\n",
       " split & sex & keep & n\\\\\n",
       " <chr> & <int> & <chr> & <int>\\\\\n",
       "\\hline\n",
       "\t test  & 0 & post\\_meno &  15699\\\\\n",
       "\t test  & 0 & pre\\_meno  &   6362\\\\\n",
       "\t test  & 0 & zerosex   &  28640\\\\\n",
       "\t test  & 1 & onesex    &  28601\\\\\n",
       "\t train & 0 & post\\_meno &  53860\\\\\n",
       "\t train & 0 & pre\\_meno  &  22635\\\\\n",
       "\t train & 0 & zerosex   &  99564\\\\\n",
       "\t train & 1 & onesex    & 100913\\\\\n",
       "\t val   & 0 & post\\_meno &   7595\\\\\n",
       "\t val   & 0 & pre\\_meno  &   3090\\\\\n",
       "\t val   & 0 & zerosex   &  14049\\\\\n",
       "\t val   & 1 & onesex    &  14594\\\\\n",
       "\\end{tabular}\n"
      ],
      "text/markdown": [
       "\n",
       "A tibble: 12 × 4\n",
       "\n",
       "| split &lt;chr&gt; | sex &lt;int&gt; | keep &lt;chr&gt; | n &lt;int&gt; |\n",
       "|---|---|---|---|\n",
       "| test  | 0 | post_meno |  15699 |\n",
       "| test  | 0 | pre_meno  |   6362 |\n",
       "| test  | 0 | zerosex   |  28640 |\n",
       "| test  | 1 | onesex    |  28601 |\n",
       "| train | 0 | post_meno |  53860 |\n",
       "| train | 0 | pre_meno  |  22635 |\n",
       "| train | 0 | zerosex   |  99564 |\n",
       "| train | 1 | onesex    | 100913 |\n",
       "| val   | 0 | post_meno |   7595 |\n",
       "| val   | 0 | pre_meno  |   3090 |\n",
       "| val   | 0 | zerosex   |  14049 |\n",
       "| val   | 1 | onesex    |  14594 |\n",
       "\n"
      ],
      "text/plain": [
       "   split sex keep      n     \n",
       "1  test  0   post_meno  15699\n",
       "2  test  0   pre_meno    6362\n",
       "3  test  0   zerosex    28640\n",
       "4  test  1   onesex     28601\n",
       "5  train 0   post_meno  53860\n",
       "6  train 0   pre_meno   22635\n",
       "7  train 0   zerosex    99564\n",
       "8  train 1   onesex    100913\n",
       "9  val   0   post_meno   7595\n",
       "10 val   0   pre_meno    3090\n",
       "11 val   0   zerosex    14049\n",
       "12 val   1   onesex     14594"
      ]
     },
     "metadata": {},
     "output_type": "display_data"
    }
   ],
   "source": [
    "all_df %>% count(split, sex, keep)"
   ]
  },
  {
   "cell_type": "markdown",
   "metadata": {},
   "source": [
    "### split into different PRS models"
   ]
  },
  {
   "cell_type": "code",
   "execution_count": 14,
   "metadata": {},
   "outputs": [],
   "source": [
    "test_df <- all_df %>% filter(split == 'test') %>% select(-split) %>%\n",
    "rename('PRS_combined' = 'combined')\n",
    "\n",
    "test_dfs <- list()\n"
   ]
  },
  {
   "cell_type": "code",
   "execution_count": 15,
   "metadata": {},
   "outputs": [],
   "source": [
    "test_dfs[['male_combined']] <- test_df %>% \n",
    "filter(keep == 'onesex') %>% \n",
    "select(-sex, -keep, -female, -pre_meno, -post_meno) %>%\n",
    "select(FID, IID, phe_combined, PRS_combined) %>%\n",
    "rename('phe' = 'phe_combined', 'PRS' = 'PRS_combined') %>% \n",
    "mutate(Percentile = rank(-PRS) / n())\n"
   ]
  },
  {
   "cell_type": "code",
   "execution_count": 16,
   "metadata": {},
   "outputs": [],
   "source": [
    "test_dfs[['male_sex']] <- test_df %>% \n",
    "filter(keep == 'onesex') %>% \n",
    "select(-sex, -keep, -female, -pre_meno, -post_meno) %>%\n",
    "rename('PRS' = 'male') %>%\n",
    "select(FID, IID, phe, PRS) %>%\n",
    "mutate(Percentile = rank(-PRS) / n())\n"
   ]
  },
  {
   "cell_type": "code",
   "execution_count": 17,
   "metadata": {},
   "outputs": [],
   "source": [
    "test_dfs[['female_combined']] <- test_df %>% \n",
    "filter(keep == 'zerosex') %>% \n",
    "select(-sex, -keep, -male) %>%\n",
    "select(FID, IID, phe_combined, PRS_combined) %>%\n",
    "rename('phe' = 'phe_combined', 'PRS' = 'PRS_combined') %>% \n",
    "mutate(Percentile = rank(-PRS) / n())\n"
   ]
  },
  {
   "cell_type": "code",
   "execution_count": 18,
   "metadata": {},
   "outputs": [],
   "source": [
    "test_dfs[['female_sex']] <- test_df %>% \n",
    "filter(keep == 'zerosex') %>% \n",
    "select(-sex, -keep, -male) %>%\n",
    "select(FID, IID, phe, female) %>%\n",
    "rename('PRS' = 'female') %>%\n",
    "mutate(Percentile = rank(-PRS) / n())\n"
   ]
  },
  {
   "cell_type": "code",
   "execution_count": 19,
   "metadata": {},
   "outputs": [],
   "source": [
    "test_dfs[['female_pre_meno']] <- test_df %>% \n",
    "filter(keep == 'zerosex') %>% \n",
    "select(-sex, -keep, -male) %>%\n",
    "select(FID, IID, phe, pre_meno) %>%\n",
    "rename('PRS' = 'pre_meno') %>%\n",
    "mutate(Percentile = rank(-PRS) / n())\n"
   ]
  },
  {
   "cell_type": "code",
   "execution_count": 20,
   "metadata": {},
   "outputs": [],
   "source": [
    "test_dfs[['female_post_meno']] <- test_df %>% \n",
    "filter(keep == 'zerosex') %>% \n",
    "select(-sex, -keep, -male) %>%\n",
    "select(FID, IID, phe, post_meno) %>%\n",
    "rename('PRS' = 'post_meno') %>%\n",
    "mutate(Percentile = rank(-PRS) / n())\n"
   ]
  },
  {
   "cell_type": "code",
   "execution_count": 21,
   "metadata": {},
   "outputs": [],
   "source": [
    "summary_glm_dfs   <- list()\n",
    "summary_naive_dfs <- list()\n",
    "\n",
    "for(prs in c('combined', 'sex')){\n",
    "    key <- paste0('male_', prs)\n",
    "    summary_glm_dfs[[key]]   <- test_dfs[[key]] %>% compute_summary_df(prs, compute_residual_predictions_glm)\n",
    "    summary_naive_dfs[[key]] <- test_dfs[[key]] %>% compute_summary_df(prs, compute_residual_predictions_naive)\n",
    "}\n",
    "\n",
    "for(prs in c('combined', 'sex', 'pre_meno', 'post_meno')){\n",
    "    key <- paste0('female_', prs)\n",
    "    summary_glm_dfs[[key]]   <- test_dfs[[key]] %>% compute_summary_df(prs, compute_residual_predictions_glm)\n",
    "    summary_naive_dfs[[key]] <- test_dfs[[key]] %>% compute_summary_df(prs, compute_residual_predictions_naive)\n",
    "}\n"
   ]
  },
  {
   "cell_type": "code",
   "execution_count": 22,
   "metadata": {},
   "outputs": [
    {
     "name": "stdout",
     "output_type": "stream",
     "text": [
      "[1] \"male_combined\"\n",
      "  l_bin u_bin            mean_str\n",
      "1  0.00  0.01 0.211 (0.195-0.227)\n",
      "2  0.01  0.05 0.124 (0.115-0.134)\n",
      "[1] \"male_sex\"\n",
      "  l_bin u_bin            mean_str\n",
      "1  0.00  0.01 0.279 (0.263-0.295)\n",
      "2  0.01  0.05 0.198 (0.189-0.206)\n",
      "[1] \"female_combined\"\n",
      "  l_bin u_bin            mean_str\n",
      "1  0.00  0.01 0.167 (0.142-0.193)\n",
      "2  0.01  0.05 0.090 (0.077-0.103)\n",
      "[1] \"female_sex\"\n",
      "  l_bin u_bin            mean_str\n",
      "1  0.00  0.01 0.218 (0.194-0.241)\n",
      "2  0.01  0.05 0.170 (0.157-0.183)\n",
      "[1] \"female_pre_meno\"\n",
      "  l_bin u_bin            mean_str\n",
      "1  0.00  0.01 0.168 (0.144-0.192)\n",
      "2  0.01  0.05 0.091 (0.077-0.104)\n",
      "[1] \"female_post_meno\"\n",
      "  l_bin u_bin            mean_str\n",
      "1  0.00  0.01 0.209 (0.184-0.234)\n",
      "2  0.01  0.05 0.128 (0.115-0.141)\n"
     ]
    }
   ],
   "source": [
    "for(t in names(summary_naive_dfs)){\n",
    "    print(t)\n",
    "    summary_naive_dfs[[t]] %>% fwrite(paste0(t, '.tsv'), sep='\\t')\n",
    "    summary_naive_dfs[[t]] %>% head(2) %>% select(l_bin, u_bin, mean_str) %>% print()\n",
    "}\n"
   ]
  },
  {
   "cell_type": "code",
   "execution_count": 23,
   "metadata": {},
   "outputs": [
    {
     "name": "stdout",
     "output_type": "stream",
     "text": [
      "[1] \"female_combined\"\n",
      "\n",
      "\tPearson's product-moment correlation\n",
      "\n",
      "data:  test_dfs[[t]]$phe and test_dfs[[t]]$PRS\n",
      "t = 23.767, df = 28638, p-value < 2.2e-16\n",
      "alternative hypothesis: true correlation is not equal to 0\n",
      "95 percent confidence interval:\n",
      " 0.1277017 0.1504167\n",
      "sample estimates:\n",
      "      cor \n",
      "0.1390775 \n",
      "\n",
      "[1] \"female_post_meno\"\n",
      "\n",
      "\tPearson's product-moment correlation\n",
      "\n",
      "data:  test_dfs[[t]]$phe and test_dfs[[t]]$PRS\n",
      "t = 25.4, df = 28638, p-value < 2.2e-16\n",
      "alternative hypothesis: true correlation is not equal to 0\n",
      "95 percent confidence interval:\n",
      " 0.1370875 0.1597402\n",
      "sample estimates:\n",
      "      cor \n",
      "0.1484333 \n",
      "\n",
      "[1] \"female_pre_meno\"\n",
      "\n",
      "\tPearson's product-moment correlation\n",
      "\n",
      "data:  test_dfs[[t]]$phe and test_dfs[[t]]$PRS\n",
      "t = 20.931, df = 28638, p-value < 2.2e-16\n",
      "alternative hypothesis: true correlation is not equal to 0\n",
      "95 percent confidence interval:\n",
      " 0.1113253 0.1341393\n",
      "sample estimates:\n",
      "      cor \n",
      "0.1227485 \n",
      "\n",
      "[1] \"female_sex\"\n",
      "\n",
      "\tPearson's product-moment correlation\n",
      "\n",
      "data:  test_dfs[[t]]$phe and test_dfs[[t]]$PRS\n",
      "t = 32.506, df = 28638, p-value < 2.2e-16\n",
      "alternative hypothesis: true correlation is not equal to 0\n",
      "95 percent confidence interval:\n",
      " 0.1774437 0.1997826\n",
      "sample estimates:\n",
      "      cor \n",
      "0.1886375 \n",
      "\n",
      "[1] \"male_combined\"\n",
      "\n",
      "\tPearson's product-moment correlation\n",
      "\n",
      "data:  test_dfs[[t]]$phe and test_dfs[[t]]$PRS\n",
      "t = 35.702, df = 28599, p-value < 2.2e-16\n",
      "alternative hypothesis: true correlation is not equal to 0\n",
      "95 percent confidence interval:\n",
      " 0.1954386 0.2176285\n",
      "sample estimates:\n",
      "      cor \n",
      "0.2065601 \n",
      "\n",
      "[1] \"male_sex\"\n",
      "\n",
      "\tPearson's product-moment correlation\n",
      "\n",
      "data:  test_dfs[[t]]$phe and test_dfs[[t]]$PRS\n",
      "t = 59.611, df = 28599, p-value < 2.2e-16\n",
      "alternative hypothesis: true correlation is not equal to 0\n",
      "95 percent confidence interval:\n",
      " 0.3220950 0.3427124\n",
      "sample estimates:\n",
      "      cor \n",
      "0.3324434 \n",
      "\n"
     ]
    }
   ],
   "source": [
    "for(t in sort(names(test_dfs))){\n",
    "    print(t)\n",
    "    cor.test(\n",
    "        test_dfs[[t]]$phe,\n",
    "        test_dfs[[t]]$PRS,    \n",
    "        method = 'pearson'\n",
    "    ) %>% print()\n",
    "}"
   ]
  },
  {
   "cell_type": "markdown",
   "metadata": {},
   "source": [
    "### plot"
   ]
  },
  {
   "cell_type": "code",
   "execution_count": 45,
   "metadata": {},
   "outputs": [],
   "source": [
    "p_male <- bind_rows(\n",
    "    summary_naive_dfs[['male_combined']], summary_naive_dfs[['male_sex']]\n",
    ") %>%\n",
    "mutate(\n",
    "    x_ticks_labels = paste0('[', 100 * l_bin, '% - ', 100 * u_bin, '%]'),\n",
    "    PRS_type = str_replace_all(PRS_type, 'sex', 'male-specific')\n",
    ") %>%\n",
    "ggplot(aes(x=reorder(x_ticks_labels, -u_bin), y=mean, color=PRS_type)) +\n",
    "geom_point() + \n",
    "geom_errorbar(aes(ymin = l_err, ymax = u_err)) +\n",
    "geom_hline(yintercept = 0, color='gray')+\n",
    "theme_bw() + \n",
    "theme(\n",
    "    legend.position=c(.15, .9),\n",
    "    axis.text.x = element_text(angle = 90, hjust = 1, vjust=.5)\n",
    ") +\n",
    "scale_color_manual(values=c('gray', '#00BFC4')) +\n",
    "labs(\n",
    "    title = sprintf('(A) The snpnet PRS performance (male)'),\n",
    "    x = 'The polygenic risk score percentile',\n",
    "    y = 'Testosterone (covariate-adjusted residuals)',\n",
    "    color = 'Polygenic risk score'\n",
    ")\n"
   ]
  },
  {
   "cell_type": "code",
   "execution_count": 46,
   "metadata": {},
   "outputs": [],
   "source": [
    "p_female <- bind_rows(\n",
    "    summary_naive_dfs[['female_combined']], summary_naive_dfs[['female_sex']]\n",
    "#     ,\n",
    "#     summary_dfs[['female_pre_meno']], summary_dfs[['female_post_meno']]\n",
    ") %>%\n",
    "mutate(\n",
    "    x_ticks_labels = paste0('[', 100 * l_bin, '% - ', 100 * u_bin, '%]'),\n",
    "    PRS_type = str_replace_all(PRS_type, 'sex', 'female-specific')\n",
    ") %>%\n",
    "ggplot(aes(x=reorder(x_ticks_labels, -u_bin), y=mean, color=PRS_type)) +\n",
    "geom_point() + \n",
    "geom_errorbar(aes(ymin = l_err, ymax = u_err)) +\n",
    "geom_hline(yintercept = 0, color='gray')+\n",
    "theme_bw() + \n",
    "theme(\n",
    "    legend.position=c(.15, .9),\n",
    "    axis.text.x = element_text(angle = 90, hjust = 1, vjust=.5)\n",
    ") +\n",
    "scale_color_manual(values=c('gray', '#F8766D')) +\n",
    "labs(\n",
    "    title = sprintf('(B) The snpnet PRS performance (female)'),\n",
    "    x = 'The polygenic risk score percentile',\n",
    "    y = 'Testosterone (covariate-adjusted residuals)',\n",
    "    color = 'Polygenic risk score'\n",
    ")\n"
   ]
  },
  {
   "cell_type": "code",
   "execution_count": 47,
   "metadata": {},
   "outputs": [],
   "source": [
    "p_female_full <- bind_rows(\n",
    "    summary_naive_dfs[['female_combined']], summary_naive_dfs[['female_sex']],\n",
    "    summary_naive_dfs[['female_pre_meno']], summary_naive_dfs[['female_post_meno']]\n",
    ") %>%\n",
    "mutate(\n",
    "    x_ticks_labels = paste0('[', 100 * l_bin, '% - ', 100 * u_bin, '%]')\n",
    ") %>%\n",
    "ggplot(aes(x=reorder(x_ticks_labels, -u_bin), y=mean, color=PRS_type)) +\n",
    "geom_point() + \n",
    "geom_errorbar(aes(ymin = l_err, ymax = u_err)) +\n",
    "geom_hline(yintercept = 0, color='gray')+\n",
    "theme_bw() + \n",
    "theme(\n",
    "    legend.position=c(.15, .9),\n",
    "    axis.text.x = element_text(angle = 90, hjust = 1, vjust=.5)\n",
    ") +\n",
    "labs(\n",
    "    title = sprintf('The snpnet PRS performance (female)'),\n",
    "    x = 'The polygenic risk score percentile',\n",
    "    y = 'Testosterone (covariate-adjusted residuals)',\n",
    "    color = 'Polygenic risk score'\n",
    ")\n"
   ]
  },
  {
   "cell_type": "code",
   "execution_count": 48,
   "metadata": {},
   "outputs": [],
   "source": [
    "suppressPackageStartupMessages(require(gridExtra))"
   ]
  },
  {
   "cell_type": "code",
   "execution_count": 49,
   "metadata": {},
   "outputs": [],
   "source": [
    "g <- arrangeGrob(p_male, p_female, nrow=1)\n"
   ]
  },
  {
   "cell_type": "code",
   "execution_count": 51,
   "metadata": {},
   "outputs": [],
   "source": [
    "ggsave('Testosterone.combined.png', g, width=12, height=6)\n",
    "ggsave('Testosterone.combined.pdf', g, width=12, height=6)"
   ]
  },
  {
   "cell_type": "code",
   "execution_count": 2,
   "metadata": {},
   "outputs": [],
   "source": [
    "p_male   + ggsave('Testosterone.male.pdf')\n",
    "p_male   + ggsave('Testosterone.male.png')\n",
    "\n",
    "p_female + ggsave('Testosterone.female.pdf')\n",
    "p_female + ggsave('Testosterone.female.png')\n"
   ]
  },
  {
   "cell_type": "code",
   "execution_count": 1,
   "metadata": {},
   "outputs": [],
   "source": [
    "p_female_full + ggsave('Testosterone.female.full.pdf')\n",
    "p_female_full + ggsave('Testosterone.female.full.png')\n"
   ]
  },
  {
   "cell_type": "markdown",
   "metadata": {},
   "source": [
    "## comparison of the sex-specific model and the combined model\n"
   ]
  },
  {
   "cell_type": "code",
   "execution_count": 31,
   "metadata": {},
   "outputs": [
    {
     "name": "stderr",
     "output_type": "stream",
     "text": [
      "Warning message in cor.test.default(test_df %>% filter(sex == 1) %>% select(male) %>% :\n",
      "“Cannot compute exact p-value with ties”"
     ]
    },
    {
     "name": "stdout",
     "output_type": "stream",
     "text": [
      "\n",
      "\tSpearman's rank correlation rho\n",
      "\n",
      "data:  test_df %>% filter(sex == 1) %>% select(male) %>% pull() and test_df %>% filter(sex == 1) %>% select(PRS_combined) %>% pull()\n",
      "S = 1.6234e+12, p-value < 2.2e-16\n",
      "alternative hypothesis: true rho is not equal to 0\n",
      "sample estimates:\n",
      "      rho \n",
      "0.5836842 \n",
      "\n"
     ]
    }
   ],
   "source": [
    "cor.test(\n",
    "    test_df %>% filter(sex == 1) %>% select(male) %>% pull(),\n",
    "    test_df %>% filter(sex == 1) %>% select(PRS_combined) %>% pull(),\n",
    "    method = 'spearman'\n",
    ") %>% print()\n"
   ]
  },
  {
   "cell_type": "code",
   "execution_count": 32,
   "metadata": {},
   "outputs": [],
   "source": [
    "p_comp_male <- test_df %>% filter(sex == 1) %>% select(-sex) %>%\n",
    "rename('sex' = 'male', 'combined' = 'PRS_combined') %>%\n",
    "mutate(\n",
    "    sex      = scale(sex,      center = T, scale = T),\n",
    "    combined = scale(combined, center = T, scale = T),\n",
    ")%>%\n",
    "ggplot(aes(\n",
    "    x = sex, y=combined\n",
    ")) + \n",
    "geom_abline(slope = 1, intercept = 0, color='red', alpha=0.5) +\n",
    "geom_point(alpha=0.05) + \n",
    "theme_bw() + \n",
    "theme(legend.position = \"none\") +\n",
    "labs(\n",
    "    title = sprintf('Comparison of PRSs (male)'),\n",
    "    x = 'Sex-specific PRS', y = 'Combined PRS'\n",
    ")\n"
   ]
  },
  {
   "cell_type": "code",
   "execution_count": 33,
   "metadata": {},
   "outputs": [
    {
     "name": "stderr",
     "output_type": "stream",
     "text": [
      "Warning message in cor.test.default(test_df %>% filter(sex == 0) %>% select(female) %>% :\n",
      "“Cannot compute exact p-value with ties”"
     ]
    },
    {
     "name": "stdout",
     "output_type": "stream",
     "text": [
      "\n",
      "\tSpearman's rank correlation rho\n",
      "\n",
      "data:  test_df %>% filter(sex == 0) %>% select(female) %>% pull() and test_df %>% filter(sex == 0) %>% select(PRS_combined) %>% pull()\n",
      "S = 8.587e+12, p-value < 2.2e-16\n",
      "alternative hypothesis: true rho is not equal to 0\n",
      "sample estimates:\n",
      "      rho \n",
      "0.6046834 \n",
      "\n"
     ]
    }
   ],
   "source": [
    "cor.test(\n",
    "    test_df %>% filter(sex == 0) %>% select(female) %>% pull(),\n",
    "    test_df %>% filter(sex == 0) %>% select(PRS_combined) %>% pull(),\n",
    "    method = 'spearman'\n",
    ") %>% print()\n"
   ]
  },
  {
   "cell_type": "code",
   "execution_count": 34,
   "metadata": {},
   "outputs": [],
   "source": [
    "p_comp_female <- test_df %>% filter(sex == 0) %>% select(-sex) %>%\n",
    "rename('sex' = 'female', 'combined' = 'PRS_combined') %>%\n",
    "mutate(\n",
    "    sex      = scale(sex,      center = T, scale = T),\n",
    "    combined = scale(combined, center = T, scale = T),\n",
    ")%>%\n",
    "ggplot(aes(\n",
    "    x = sex, y=combined\n",
    ")) + \n",
    "geom_abline(slope = 1, intercept = 0, color='red', alpha=0.5) +\n",
    "geom_point(alpha=0.05) + \n",
    "theme_bw() + \n",
    "theme(legend.position = \"none\") +\n",
    "labs(\n",
    "    title = sprintf('Comparison of PRSs (female)'),\n",
    "    x = 'Sex-specific PRS', y = 'Combined PRS'\n",
    ")\n"
   ]
  },
  {
   "cell_type": "code",
   "execution_count": 3,
   "metadata": {},
   "outputs": [],
   "source": [
    "p_comp_male   + ggsave('Testosterone.comp.male.pdf')\n",
    "p_comp_male   + ggsave('Testosterone.comp.male.png')\n",
    "\n",
    "p_comp_female + ggsave('Testosterone.comp.female.pdf')\n",
    "p_comp_female + ggsave('Testosterone.comp.female.png')\n",
    "\n"
   ]
  },
  {
   "cell_type": "code",
   "execution_count": null,
   "metadata": {},
   "outputs": [],
   "source": []
  }
 ],
 "metadata": {
  "kernelspec": {
   "display_name": "R",
   "language": "R",
   "name": "ir"
  },
  "language_info": {
   "codemirror_mode": "r",
   "file_extension": ".r",
   "mimetype": "text/x-r-source",
   "name": "R",
   "pygments_lexer": "r",
   "version": "3.6.2"
  }
 },
 "nbformat": 4,
 "nbformat_minor": 4
}
