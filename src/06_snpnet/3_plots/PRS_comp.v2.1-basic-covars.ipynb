{
 "cells": [
  {
   "cell_type": "code",
   "execution_count": 1,
   "metadata": {},
   "outputs": [],
   "source": [
    "suppressWarnings(suppressPackageStartupMessages({\n",
    "    library(tidyverse)\n",
    "    library(data.table)\n",
    "    library(gridExtra)\n",
    "}))\n"
   ]
  },
  {
   "cell_type": "markdown",
   "metadata": {},
   "source": [
    "# Note\n",
    "\n",
    "- This notebook is copied from `PRS_comp.ipynb`"
   ]
  },
  {
   "cell_type": "markdown",
   "metadata": {},
   "source": [
    "### Step 1. Read the relevant data"
   ]
  },
  {
   "cell_type": "code",
   "execution_count": 6,
   "metadata": {},
   "outputs": [],
   "source": [
    "lab_repo_dir <- '@@@@@'\n",
    "out_dir <- file.path('@@@@@', 'sex-div-analysis/06_snpnet/v2.1-basic-covars')\n",
    "pheno <- 'Testosterone'\n",
    "\n",
    "score_files <- list()\n",
    "\n",
    "score_files[['male']] <- file.path(\n",
    "    out_dir, 'onesex_basic-covars',  \n",
    "    paste0(pheno, '.sscore.zst')\n",
    ")\n",
    "\n",
    "score_files[['female']] <- file.path(\n",
    "    out_dir, 'zerosex_basic-covars', \n",
    "    paste0(pheno, '.sscore.zst')\n",
    ")\n",
    "\n",
    "score_files[['combined']] <- file.path(\n",
    "    out_dir, 'combined_basic-covars',\n",
    "    paste0(pheno, '.sscore.zst')\n",
    ")\n"
   ]
  },
  {
   "cell_type": "code",
   "execution_count": 7,
   "metadata": {},
   "outputs": [],
   "source": [
    "score_df <- bind_rows(lapply(\n",
    "    names(score_files), function(x){    \n",
    "        fread(cmd=paste('zstdcat', score_files[[x]]), sep='\\t', colClasses=c('#FID'='character', 'IID'='character')) %>% \n",
    "        rename('FID' = '#FID') %>% \n",
    "        select(FID, IID, SCORE1_SUM) %>%\n",
    "        mutate(score_type = x)\n",
    "    }\n",
    ")) %>% spread(score_type, SCORE1_SUM)\n"
   ]
  },
  {
   "cell_type": "code",
   "execution_count": 3,
   "metadata": {},
   "outputs": [],
   "source": [
    "out_dir"
   ]
  },
  {
   "cell_type": "code",
   "execution_count": 9,
   "metadata": {},
   "outputs": [],
   "source": [
    "phe_file <- '@@@@@/sex-div-analysis/06_snpnet/phe_data/v2.1-basic-covars/Testosterone.phe'\n"
   ]
  },
  {
   "cell_type": "code",
   "execution_count": 12,
   "metadata": {},
   "outputs": [],
   "source": [
    "phe_all_df <- fread(phe_file, colClasses=c('FID'='character', 'IID'='character'))\n"
   ]
  },
  {
   "cell_type": "code",
   "execution_count": 46,
   "metadata": {},
   "outputs": [],
   "source": [
    "means <- list()\n",
    "means[['male']]     <- phe_all_df %>% filter(split_onesex   != '-') %>% pull(Testosterone) %>% mean()\n",
    "means[['female']]   <- phe_all_df %>% filter(split_zerosex  != '-') %>% pull(Testosterone) %>% mean()\n",
    "means[['combined']] <- phe_all_df %>% filter(split_combined != '-') %>% pull(Testosterone) %>% mean()\n"
   ]
  },
  {
   "cell_type": "code",
   "execution_count": 47,
   "metadata": {},
   "outputs": [
    {
     "data": {
      "text/html": [
       "<dl>\n",
       "\t<dt>$male</dt>\n",
       "\t\t<dd>1.0559667747794</dd>\n",
       "\t<dt>$female</dt>\n",
       "\t\t<dd>-0.000865300661613494</dd>\n",
       "\t<dt>$combined</dt>\n",
       "\t\t<dd>0.530975587477979</dd>\n",
       "</dl>\n"
      ],
      "text/latex": [
       "\\begin{description}\n",
       "\\item[\\$male] 1.0559667747794\n",
       "\\item[\\$female] -0.000865300661613494\n",
       "\\item[\\$combined] 0.530975587477979\n",
       "\\end{description}\n"
      ],
      "text/markdown": [
       "$male\n",
       ":   1.0559667747794\n",
       "$female\n",
       ":   -0.000865300661613494\n",
       "$combined\n",
       ":   0.530975587477979\n",
       "\n",
       "\n"
      ],
      "text/plain": [
       "$male\n",
       "[1] 1.055967\n",
       "\n",
       "$female\n",
       "[1] -0.0008653007\n",
       "\n",
       "$combined\n",
       "[1] 0.5309756\n"
      ]
     },
     "metadata": {},
     "output_type": "display_data"
    }
   ],
   "source": [
    "means"
   ]
  },
  {
   "cell_type": "code",
   "execution_count": 48,
   "metadata": {},
   "outputs": [],
   "source": [
    "phe_df <- bind_rows(\n",
    "    phe_all_df %>% filter(split_onesex   != '-') %>%\n",
    "    select(FID, IID, Testosterone) %>%\n",
    "    mutate(\n",
    "        cohort = 'male',\n",
    "        Testosterone = Testosterone - means[['male']]\n",
    "    ),\n",
    "\n",
    "    phe_all_df %>% filter(split_zerosex  != '-') %>%\n",
    "    select(FID, IID, Testosterone) %>% \n",
    "    mutate(\n",
    "        cohort = 'female',\n",
    "        Testosterone = Testosterone - means[['female']]\n",
    "    ),\n",
    "\n",
    "    phe_all_df %>% filter(split_combined != '-') %>%\n",
    "    select(FID, IID, Testosterone) %>%\n",
    "    mutate(\n",
    "        cohort = 'combined',\n",
    "        Testosterone = Testosterone - means[['combined']]\n",
    "    )\n",
    ")\n"
   ]
  },
  {
   "cell_type": "code",
   "execution_count": 49,
   "metadata": {},
   "outputs": [],
   "source": [
    "split_df <- '@@@@@/ukb24983_GWAS_covar.20200313.phe' %>%\n",
    "fread(select=c('FID', 'IID', 'split'), colClasses=c('FID'='character', 'IID'='character')) %>%\n",
    "rename('keep'='split')\n"
   ]
  },
  {
   "cell_type": "code",
   "execution_count": 50,
   "metadata": {},
   "outputs": [
    {
     "name": "stdout",
     "output_type": "stream",
     "text": [
      "[1] 572720      8\n",
      "[1] 572720      4\n"
     ]
    }
   ],
   "source": [
    "all_df <- phe_df %>% \n",
    "left_join(split_df, by=c('FID', 'IID')) %>% \n",
    "left_join(score_df, by=c('FID', 'IID'))\n",
    "\n",
    "all_df %>% dim() %>% print()\n",
    "phe_df %>% dim() %>% print()\n"
   ]
  },
  {
   "cell_type": "code",
   "execution_count": 51,
   "metadata": {},
   "outputs": [
    {
     "data": {
      "text/html": [
       "<table>\n",
       "<caption>A data.frame: 0 × 8</caption>\n",
       "<thead>\n",
       "\t<tr><th scope=col>FID</th><th scope=col>IID</th><th scope=col>Testosterone</th><th scope=col>cohort</th><th scope=col>keep</th><th scope=col>combined</th><th scope=col>female</th><th scope=col>male</th></tr>\n",
       "\t<tr><th scope=col>&lt;chr&gt;</th><th scope=col>&lt;chr&gt;</th><th scope=col>&lt;dbl&gt;</th><th scope=col>&lt;chr&gt;</th><th scope=col>&lt;chr&gt;</th><th scope=col>&lt;dbl&gt;</th><th scope=col>&lt;dbl&gt;</th><th scope=col>&lt;dbl&gt;</th></tr>\n",
       "</thead>\n",
       "<tbody>\n",
       "</tbody>\n",
       "</table>\n"
      ],
      "text/latex": [
       "A data.frame: 0 × 8\n",
       "\\begin{tabular}{llllllll}\n",
       " FID & IID & Testosterone & cohort & keep & combined & female & male\\\\\n",
       " <chr> & <chr> & <dbl> & <chr> & <chr> & <dbl> & <dbl> & <dbl>\\\\\n",
       "\\hline\n",
       "\\end{tabular}\n"
      ],
      "text/markdown": [
       "\n",
       "A data.frame: 0 × 8\n",
       "\n",
       "| FID &lt;chr&gt; | IID &lt;chr&gt; | Testosterone &lt;dbl&gt; | cohort &lt;chr&gt; | keep &lt;chr&gt; | combined &lt;dbl&gt; | female &lt;dbl&gt; | male &lt;dbl&gt; |\n",
       "|---|---|---|---|---|---|---|---|\n",
       "\n"
      ],
      "text/plain": [
       "     FID IID Testosterone cohort keep combined female male"
      ]
     },
     "metadata": {},
     "output_type": "display_data"
    }
   ],
   "source": [
    "all_df %>% head(0)"
   ]
  },
  {
   "cell_type": "markdown",
   "metadata": {},
   "source": [
    "### Step 2. Compute statistics for the plots"
   ]
  },
  {
   "cell_type": "code",
   "execution_count": 52,
   "metadata": {},
   "outputs": [],
   "source": [
    "compute_mean <- function(df, percentile_col, phe_col, l_bin, u_bin){\n",
    "    stratified_df <- df %>% \n",
    "    rename(Percentile = percentile_col, phe = phe_col) %>%\n",
    "    filter(l_bin < Percentile, Percentile <= u_bin) %>%\n",
    "    mutate(PRS_bin = T)\n",
    "    \n",
    "    n     <- stratified_df %>% nrow()\n",
    "    mean  <- stratified_df %>% select(phe) %>% pull() %>% mean()\n",
    "    sd    <- stratified_df %>% select(phe) %>% pull() %>% sd()\n",
    "    std_e <- sd / sqrt(n)\n",
    "    l_err <- mean - std_e\n",
    "    u_err <- mean + std_e\n",
    "        \n",
    "    data.frame(\n",
    "        l_bin = l_bin,\n",
    "        u_bin = u_bin,\n",
    "        mean   = mean,\n",
    "        std_err = std_e,\n",
    "        l_err = l_err,\n",
    "        u_err = u_err,\n",
    "        mean_str = sprintf('%.3f (%.3f-%.3f)', mean, l_err, u_err)\n",
    "    ) %>%\n",
    "    mutate(mean_str = as.character(mean_str))\n",
    "}\n"
   ]
  },
  {
   "cell_type": "code",
   "execution_count": 53,
   "metadata": {},
   "outputs": [],
   "source": [
    "compute_summary_df <- function(df, percentile_col, phe_col, PRS_type){\n",
    "    percentile_col\n",
    "    bind_rows(\n",
    "        compute_mean(df, percentile_col, phe_col,   0, .01),\n",
    "        compute_mean(df, percentile_col, phe_col, .01, .05),\n",
    "        lapply(2:19, function(x){\n",
    "            compute_mean(df, percentile_col, phe_col, (x-1)/20, x/20)\n",
    "        }),\n",
    "        compute_mean(df, percentile_col, phe_col, .95, .99),\n",
    "        compute_mean(df, percentile_col, phe_col, .99, 1),\n",
    "    )  %>%\n",
    "    mutate(PRS_type = PRS_type)\n",
    "}\n"
   ]
  },
  {
   "cell_type": "code",
   "execution_count": 54,
   "metadata": {},
   "outputs": [
    {
     "data": {
      "text/html": [
       "<table>\n",
       "<caption>A tibble: 9 × 3</caption>\n",
       "<thead>\n",
       "\t<tr><th scope=col>cohort</th><th scope=col>keep</th><th scope=col>n</th></tr>\n",
       "\t<tr><th scope=col>&lt;chr&gt;</th><th scope=col>&lt;chr&gt;</th><th scope=col>&lt;int&gt;</th></tr>\n",
       "</thead>\n",
       "<tbody>\n",
       "\t<tr><td>combined</td><td>test </td><td> 57241</td></tr>\n",
       "\t<tr><td>combined</td><td>train</td><td>200476</td></tr>\n",
       "\t<tr><td>combined</td><td>val  </td><td> 28643</td></tr>\n",
       "\t<tr><td>female  </td><td>test </td><td> 28640</td></tr>\n",
       "\t<tr><td>female  </td><td>train</td><td> 99563</td></tr>\n",
       "\t<tr><td>female  </td><td>val  </td><td> 14049</td></tr>\n",
       "\t<tr><td>male    </td><td>test </td><td> 28601</td></tr>\n",
       "\t<tr><td>male    </td><td>train</td><td>100913</td></tr>\n",
       "\t<tr><td>male    </td><td>val  </td><td> 14594</td></tr>\n",
       "</tbody>\n",
       "</table>\n"
      ],
      "text/latex": [
       "A tibble: 9 × 3\n",
       "\\begin{tabular}{lll}\n",
       " cohort & keep & n\\\\\n",
       " <chr> & <chr> & <int>\\\\\n",
       "\\hline\n",
       "\t combined & test  &  57241\\\\\n",
       "\t combined & train & 200476\\\\\n",
       "\t combined & val   &  28643\\\\\n",
       "\t female   & test  &  28640\\\\\n",
       "\t female   & train &  99563\\\\\n",
       "\t female   & val   &  14049\\\\\n",
       "\t male     & test  &  28601\\\\\n",
       "\t male     & train & 100913\\\\\n",
       "\t male     & val   &  14594\\\\\n",
       "\\end{tabular}\n"
      ],
      "text/markdown": [
       "\n",
       "A tibble: 9 × 3\n",
       "\n",
       "| cohort &lt;chr&gt; | keep &lt;chr&gt; | n &lt;int&gt; |\n",
       "|---|---|---|\n",
       "| combined | test  |  57241 |\n",
       "| combined | train | 200476 |\n",
       "| combined | val   |  28643 |\n",
       "| female   | test  |  28640 |\n",
       "| female   | train |  99563 |\n",
       "| female   | val   |  14049 |\n",
       "| male     | test  |  28601 |\n",
       "| male     | train | 100913 |\n",
       "| male     | val   |  14594 |\n",
       "\n"
      ],
      "text/plain": [
       "  cohort   keep  n     \n",
       "1 combined test   57241\n",
       "2 combined train 200476\n",
       "3 combined val    28643\n",
       "4 female   test   28640\n",
       "5 female   train  99563\n",
       "6 female   val    14049\n",
       "7 male     test   28601\n",
       "8 male     train 100913\n",
       "9 male     val    14594"
      ]
     },
     "metadata": {},
     "output_type": "display_data"
    }
   ],
   "source": [
    "all_df %>% count(cohort, keep)\n"
   ]
  },
  {
   "cell_type": "markdown",
   "metadata": {},
   "source": [
    "### split into different PRS models"
   ]
  },
  {
   "cell_type": "code",
   "execution_count": 55,
   "metadata": {},
   "outputs": [],
   "source": [
    "test_df <- all_df %>% \n",
    "filter(keep == 'test') %>% \n",
    "select(-keep) %>% \n",
    "group_by(cohort) %>%\n",
    "mutate(\n",
    "    combined_Percentile = rank(-combined) / n(),\n",
    "    female_Percentile = rank(-female) / n(),\n",
    "    male_Percentile = rank(-male) / n()\n",
    ") %>%\n",
    "ungroup()\n"
   ]
  },
  {
   "cell_type": "code",
   "execution_count": 56,
   "metadata": {},
   "outputs": [],
   "source": [
    "summary_dfs   <- list()\n",
    "\n",
    "for(c in c('male', 'female')){\n",
    "    summary_dfs[[c]] <- list()\n",
    "    for(score in c('combined', 'male', 'female')){\n",
    "        summary_dfs[[c]][[score]] <- compute_summary_df(\n",
    "            test_df %>% filter(cohort == c),\n",
    "            paste0(score, '_Percentile'),\n",
    "            'Testosterone',\n",
    "            score\n",
    "        )\n",
    "    }\n",
    "}\n"
   ]
  },
  {
   "cell_type": "code",
   "execution_count": 57,
   "metadata": {},
   "outputs": [
    {
     "name": "stdout",
     "output_type": "stream",
     "text": [
      "[1] \"male combined\"\n",
      "  l_bin u_bin            mean_str\n",
      "1  0.00  0.01 0.081 (0.073-0.088)\n",
      "2  0.01  0.05 0.057 (0.053-0.061)\n",
      "[1] \"male male\"\n",
      "  l_bin u_bin            mean_str\n",
      "1  0.00  0.01 0.121 (0.114-0.128)\n",
      "2  0.01  0.05 0.081 (0.077-0.085)\n",
      "[1] \"male female\"\n",
      "  l_bin u_bin              mean_str\n",
      "1  0.00  0.01 -0.000 (-0.008-0.007)\n",
      "2  0.01  0.05   0.006 (0.001-0.010)\n",
      "[1] \"female combined\"\n",
      "  l_bin u_bin            mean_str\n",
      "1  0.00  0.01 0.068 (0.056-0.079)\n",
      "2  0.01  0.05 0.039 (0.034-0.045)\n",
      "[1] \"female male\"\n",
      "  l_bin u_bin             mean_str\n",
      "1  0.00  0.01 0.005 (-0.006-0.017)\n",
      "2  0.01  0.05 0.001 (-0.005-0.007)\n",
      "[1] \"female female\"\n",
      "  l_bin u_bin            mean_str\n",
      "1  0.00  0.01 0.095 (0.084-0.106)\n",
      "2  0.01  0.05 0.072 (0.066-0.078)\n"
     ]
    }
   ],
   "source": [
    "for(c in c('male', 'female')){\n",
    "    for(score in c('combined', 'male', 'female')){\n",
    "        summary_dfs[[c]][[score]] %>% fwrite(file.path('tbls', paste0('basic-covars_', c, '_', score, '.tsv')), sep='\\t')\n",
    "        print(paste0(c, ' ', score))\n",
    "        summary_dfs[[c]][[score]] %>% head(2) %>% select(l_bin, u_bin, mean_str) %>% print()       \n",
    "    }\n",
    "}\n"
   ]
  },
  {
   "cell_type": "code",
   "execution_count": 58,
   "metadata": {},
   "outputs": [
    {
     "name": "stderr",
     "output_type": "stream",
     "text": [
      "Warning message in cor.test.default(test_df %>% filter(cohort == \"male\") %>% select(combined) %>% :\n",
      "“Cannot compute exact p-value with ties”"
     ]
    },
    {
     "name": "stdout",
     "output_type": "stream",
     "text": [
      "\n",
      "\tSpearman's rank correlation rho\n",
      "\n",
      "data:  test_df %>% filter(cohort == \"male\") %>% select(combined) %>%  and test_df %>% filter(cohort == \"male\") %>% select(male) %>% pull()    pull() and test_df %>% filter(cohort == \"male\") %>% select(male) %>% pull()\n",
      "S = 1.5899e+12, p-value < 2.2e-16\n",
      "alternative hypothesis: true rho is not equal to 0\n",
      "sample estimates:\n",
      "      rho \n",
      "0.5922553 \n",
      "\n"
     ]
    },
    {
     "name": "stderr",
     "output_type": "stream",
     "text": [
      "Warning message in cor.test.default(test_df %>% filter(cohort == \"female\") %>% select(combined) %>% :\n",
      "“Cannot compute exact p-value with ties”"
     ]
    },
    {
     "name": "stdout",
     "output_type": "stream",
     "text": [
      "\n",
      "\tSpearman's rank correlation rho\n",
      "\n",
      "data:  test_df %>% filter(cohort == \"female\") %>% select(combined) %>%  and test_df %>% filter(cohort == \"female\") %>% select(female) %>%     pull() and     pull()\n",
      "S = 1.5712e+12, p-value < 2.2e-16\n",
      "alternative hypothesis: true rho is not equal to 0\n",
      "sample estimates:\n",
      "      rho \n",
      "0.5987167 \n",
      "\n"
     ]
    }
   ],
   "source": [
    "cor.test(\n",
    "    test_df %>% filter(cohort == 'male') %>% select(combined) %>% pull(),\n",
    "    test_df %>% filter(cohort == 'male') %>% select(male) %>% pull(),\n",
    "    method='spearman'\n",
    ") %>% print()\n",
    "\n",
    "cor.test(\n",
    "    test_df %>% filter(cohort == 'female') %>% select(combined) %>% pull(),\n",
    "    test_df %>% filter(cohort == 'female') %>% select(female) %>% pull(),\n",
    "    method='spearman'\n",
    ") %>% print()\n"
   ]
  },
  {
   "cell_type": "code",
   "execution_count": 59,
   "metadata": {},
   "outputs": [
    {
     "name": "stdout",
     "output_type": "stream",
     "text": [
      "\n",
      "\tPearson's product-moment correlation\n",
      "\n",
      "data:  test_df %>% filter(cohort == \"male\") %>% select(male) %>% pull() and test_df %>% filter(cohort == \"male\") %>% select(Testosterone) %>% test_df %>% filter(cohort == \"male\") %>% select(male) %>% pull() and     pull()\n",
      "t = 54.245, df = 28599, p-value < 2.2e-16\n",
      "alternative hypothesis: true correlation is not equal to 0\n",
      "95 percent confidence interval:\n",
      " 0.2948897 0.3159064\n",
      "sample estimates:\n",
      "      cor \n",
      "0.3054353 \n",
      "\n",
      "\n",
      "\tPearson's product-moment correlation\n",
      "\n",
      "data:  test_df %>% filter(cohort == \"female\") %>% select(female) %>%  and test_df %>% filter(cohort == \"female\") %>% select(Testosterone) %>%     pull() and     pull()\n",
      "t = 30.811, df = 28638, p-value < 2.2e-16\n",
      "alternative hypothesis: true correlation is not equal to 0\n",
      "95 percent confidence interval:\n",
      " 0.1678923 0.1903122\n",
      "sample estimates:\n",
      "      cor \n",
      "0.1791255 \n",
      "\n",
      "\n",
      "\tPearson's product-moment correlation\n",
      "\n",
      "data:  test_df %>% filter(cohort == \"male\") %>% select(combined) %>%  and test_df %>% filter(cohort == \"male\") %>% select(Testosterone) %>%     pull() and     pull()\n",
      "t = 35.407, df = 28599, p-value < 2.2e-16\n",
      "alternative hypothesis: true correlation is not equal to 0\n",
      "95 percent confidence interval:\n",
      " 0.1937995 0.2160050\n",
      "sample estimates:\n",
      "      cor \n",
      "0.2049286 \n",
      "\n",
      "\n",
      "\tPearson's product-moment correlation\n",
      "\n",
      "data:  test_df %>% filter(cohort == \"female\") %>% select(combined) %>%  and test_df %>% filter(cohort == \"female\") %>% select(Testosterone) %>%     pull() and     pull()\n",
      "t = 23.117, df = 28638, p-value < 2.2e-16\n",
      "alternative hypothesis: true correlation is not equal to 0\n",
      "95 percent confidence interval:\n",
      " 0.1239564 0.1466952\n",
      "sample estimates:\n",
      "      cor \n",
      "0.1353436 \n",
      "\n",
      "\n",
      "\tPearson's product-moment correlation\n",
      "\n",
      "data:  test_df %>% filter(cohort == \"male\") %>% select(female) %>% pull() and test_df %>% filter(cohort == \"male\") %>% select(Testosterone) %>% test_df %>% filter(cohort == \"male\") %>% select(female) %>% pull() and     pull()\n",
      "t = 3.5755, df = 28599, p-value = 0.0003501\n",
      "alternative hypothesis: true correlation is not equal to 0\n",
      "95 percent confidence interval:\n",
      " 0.009550975 0.032719413\n",
      "sample estimates:\n",
      "       cor \n",
      "0.02113803 \n",
      "\n",
      "\n",
      "\tPearson's product-moment correlation\n",
      "\n",
      "data:  test_df %>% filter(cohort == \"female\") %>% select(male) %>% pull() and test_df %>% filter(cohort == \"female\") %>% select(Testosterone) %>% test_df %>% filter(cohort == \"female\") %>% select(male) %>% pull() and     pull()\n",
      "t = 3.5489, df = 28638, p-value = 0.0003874\n",
      "alternative hypothesis: true correlation is not equal to 0\n",
      "95 percent confidence interval:\n",
      " 0.009387407 0.032540231\n",
      "sample estimates:\n",
      "       cor \n",
      "0.02096663 \n",
      "\n"
     ]
    }
   ],
   "source": [
    "cor.test(\n",
    "    test_df %>% filter(cohort == 'male') %>% select(male) %>% pull(),\n",
    "    test_df %>% filter(cohort == 'male') %>% select(Testosterone) %>% pull(),\n",
    "    method='pearson'\n",
    ") %>% print()\n",
    "\n",
    "cor.test(\n",
    "    test_df %>% filter(cohort == 'female') %>% select(female) %>% pull(),\n",
    "    test_df %>% filter(cohort == 'female') %>% select(Testosterone) %>% pull(),\n",
    "    method='pearson'\n",
    ") %>% print()\n",
    "\n",
    "cor.test(\n",
    "    test_df %>% filter(cohort == 'male') %>% select(combined) %>% pull(),\n",
    "    test_df %>% filter(cohort == 'male') %>% select(Testosterone) %>% pull(),\n",
    "    method='pearson'\n",
    ") %>% print()\n",
    "\n",
    "cor.test(\n",
    "    test_df %>% filter(cohort == 'female') %>% select(combined) %>% pull(),\n",
    "    test_df %>% filter(cohort == 'female') %>% select(Testosterone) %>% pull(),\n",
    "    method='pearson'\n",
    ") %>% print()\n",
    "\n",
    "cor.test(\n",
    "    test_df %>% filter(cohort == 'male') %>% select(female) %>% pull(),\n",
    "    test_df %>% filter(cohort == 'male') %>% select(Testosterone) %>% pull(),\n",
    "    method='pearson'\n",
    ") %>% print()\n",
    "\n",
    "cor.test(\n",
    "    test_df %>% filter(cohort == 'female') %>% select(male) %>% pull(),\n",
    "    test_df %>% filter(cohort == 'female') %>% select(Testosterone) %>% pull(),\n",
    "    method='pearson'\n",
    ") %>% print()\n",
    "\n"
   ]
  },
  {
   "cell_type": "markdown",
   "metadata": {},
   "source": [
    "### plot"
   ]
  },
  {
   "cell_type": "code",
   "execution_count": 60,
   "metadata": {},
   "outputs": [],
   "source": [
    "require(latex2exp)"
   ]
  },
  {
   "cell_type": "code",
   "execution_count": 61,
   "metadata": {},
   "outputs": [],
   "source": [
    "colors <- list()\n",
    "colors[['combined']] <- 'gray'\n",
    "colors[['male']]     <- '#8DA0CB'\n",
    "colors[['female']]   <- '#FC8D62'\n"
   ]
  },
  {
   "cell_type": "code",
   "execution_count": 65,
   "metadata": {},
   "outputs": [],
   "source": [
    "peformance_plots <- list()\n",
    "for(c in c('male', 'female')){\n",
    "    peformance_plots[[c]] <- summary_dfs[[c]] %>% bind_rows() %>%\n",
    "    mutate(\n",
    "        x_ticks_labels = paste0('[', 100 * l_bin, '% - ', 100 * u_bin, '%]'),\n",
    "        PRS_type = str_replace_all(PRS_type, 'male', 'male-specific')\n",
    "    ) %>%\n",
    "    ggplot(aes(x=reorder(x_ticks_labels, -u_bin), y=mean, color=PRS_type)) +\n",
    "    geom_point() + \n",
    "    geom_errorbar(aes(ymin = l_err, ymax = u_err)) +\n",
    "    geom_hline(yintercept = 0, color='gray')+\n",
    "    theme_bw() + \n",
    "    theme(\n",
    "        legend.position=c(.2, .8),\n",
    "        axis.text.x = element_text(angle = 90, hjust = 1, vjust=.5)\n",
    "    ) +\n",
    "    scale_color_manual(values=c(colors[['combined']], colors[['female']], colors[['male']])) +\n",
    "    labs(\n",
    "        x = 'The polygenic risk score percentile',\n",
    "        y = TeX('mean-adjusted log_{10}-transformed Testosterone'),\n",
    "        color = 'Polygenic risk score'\n",
    "    )\n",
    "}\n"
   ]
  },
  {
   "cell_type": "code",
   "execution_count": 66,
   "metadata": {},
   "outputs": [],
   "source": [
    "g <- arrangeGrob(\n",
    "    peformance_plots[['male']]   + labs(title='(A) The snpnet PRS performance (male)'),\n",
    "    peformance_plots[['female']] + labs(title='(B) The snpnet PRS performance (female)'), \n",
    "    nrow=1\n",
    ")\n"
   ]
  },
  {
   "cell_type": "code",
   "execution_count": 67,
   "metadata": {},
   "outputs": [],
   "source": [
    "ggsave('Testosterone.combined.basic-covars.png', g, width=12, height=6)\n",
    "ggsave('Testosterone.combined.basic-covars.pdf', g, width=12, height=6)\n"
   ]
  },
  {
   "cell_type": "markdown",
   "metadata": {},
   "source": [
    "## comparison of the sex-specific model and the combined model\n"
   ]
  },
  {
   "cell_type": "code",
   "execution_count": 23,
   "metadata": {},
   "outputs": [],
   "source": [
    "comp_plots <- list()\n",
    "for(c in c('male', 'female')){\n",
    "    comp_plots[[c]] <- test_df %>% \n",
    "    filter(cohort == c) %>%\n",
    "    rename('sex' = c) %>%    \n",
    "    select(FID, IID, combined, sex) %>%    \n",
    "    mutate(\n",
    "        sex      = scale(sex,      center = T, scale = T),\n",
    "        combined = scale(combined, center = T, scale = T)    \n",
    "    ) %>%\n",
    "    ggplot(aes(x = sex, y=combined)) + \n",
    "    geom_abline(slope = 1, intercept = 0, color='red', alpha=0.5) +\n",
    "    geom_point(alpha=0.05) + \n",
    "    theme_bw() + \n",
    "    theme(legend.position = \"none\") +\n",
    "    labs(\n",
    "        x = sprintf('%s-specific PRS', c), \n",
    "        y = 'combined PRS'\n",
    "    )    \n",
    "}\n"
   ]
  },
  {
   "cell_type": "code",
   "execution_count": 24,
   "metadata": {},
   "outputs": [],
   "source": [
    "comp_plot_g <- arrangeGrob(\n",
    "    comp_plots[['male']]   + labs(title='(A) Comparison of PRSs (male)'),\n",
    "    comp_plots[['female']] + labs(title='(B) Comparison of PRSs (female)'), \n",
    "    nrow=1\n",
    ")\n"
   ]
  },
  {
   "cell_type": "code",
   "execution_count": 25,
   "metadata": {},
   "outputs": [],
   "source": [
    "ggsave('Testosterone.comp.png', comp_plot_g, width=12, height=6)\n",
    "ggsave('Testosterone.comp.pdf', comp_plot_g, width=12, height=6)\n"
   ]
  },
  {
   "cell_type": "code",
   "execution_count": null,
   "metadata": {},
   "outputs": [],
   "source": []
  }
 ],
 "metadata": {
  "kernelspec": {
   "display_name": "R",
   "language": "R",
   "name": "ir"
  },
  "language_info": {
   "codemirror_mode": "r",
   "file_extension": ".r",
   "mimetype": "text/x-r-source",
   "name": "R",
   "pygments_lexer": "r",
   "version": "3.6.2"
  }
 },
 "nbformat": 4,
 "nbformat_minor": 4
}
