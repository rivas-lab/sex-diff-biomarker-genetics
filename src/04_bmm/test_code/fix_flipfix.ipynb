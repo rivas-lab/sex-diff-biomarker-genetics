{
 "cells": [
  {
   "cell_type": "code",
   "execution_count": 1,
   "metadata": {},
   "outputs": [
    {
     "name": "stderr",
     "output_type": "stream",
     "text": [
      "Loading required package: data.table\n",
      "\n"
     ]
    }
   ],
   "source": [
    "require('data.table')"
   ]
  },
  {
   "cell_type": "code",
   "execution_count": 2,
   "metadata": {},
   "outputs": [],
   "source": [
    "zs <- fread(\"../../../data/gwas/ukb24983_v2_hg19.Testosterone_zerosex.genotyped.glm.linear\", data.table=FALSE)"
   ]
  },
  {
   "cell_type": "code",
   "execution_count": 3,
   "metadata": {},
   "outputs": [
    {
     "data": {
      "text/html": [
       "<table>\n",
       "<caption>A data.frame: 6 × 12</caption>\n",
       "<thead>\n",
       "\t<tr><th></th><th scope=col>#CHROM</th><th scope=col>POS</th><th scope=col>ID</th><th scope=col>REF</th><th scope=col>ALT</th><th scope=col>A1</th><th scope=col>TEST</th><th scope=col>OBS_CT</th><th scope=col>BETA</th><th scope=col>SE</th><th scope=col>T_STAT</th><th scope=col>P</th></tr>\n",
       "\t<tr><th></th><th scope=col>&lt;chr&gt;</th><th scope=col>&lt;int&gt;</th><th scope=col>&lt;chr&gt;</th><th scope=col>&lt;chr&gt;</th><th scope=col>&lt;chr&gt;</th><th scope=col>&lt;chr&gt;</th><th scope=col>&lt;chr&gt;</th><th scope=col>&lt;int&gt;</th><th scope=col>&lt;dbl&gt;</th><th scope=col>&lt;dbl&gt;</th><th scope=col>&lt;dbl&gt;</th><th scope=col>&lt;dbl&gt;</th></tr>\n",
       "</thead>\n",
       "<tbody>\n",
       "\t<tr><th scope=row>1</th><td>XY</td><td> 60425</td><td>rs34557243 </td><td>C</td><td>A</td><td>A</td><td>ADD</td><td>141845</td><td> 0.00816956</td><td>0.01033270</td><td> 0.790649</td><td>0.4291500</td></tr>\n",
       "\t<tr><th scope=row>2</th><td>XY</td><td> 60454</td><td>rs28494123 </td><td>A</td><td>G</td><td>G</td><td>ADD</td><td>141198</td><td> 0.00633311</td><td>0.00368942</td><td> 1.716560</td><td>0.0860623</td></tr>\n",
       "\t<tr><th scope=row>3</th><td>XY</td><td> 61067</td><td>rs28590175 </td><td>A</td><td>G</td><td>G</td><td>ADD</td><td>142169</td><td> 0.00676082</td><td>0.01023070</td><td> 0.660835</td><td>0.5087190</td></tr>\n",
       "\t<tr><th scope=row>4</th><td>XY</td><td> 62079</td><td>rs117654552</td><td>C</td><td>G</td><td>G</td><td>ADD</td><td>142020</td><td> 0.01107040</td><td>0.01023760</td><td> 1.081350</td><td>0.2795440</td></tr>\n",
       "\t<tr><th scope=row>5</th><td>XY</td><td> 62615</td><td>rs28491545 </td><td>A</td><td>C</td><td>C</td><td>ADD</td><td>141953</td><td> 0.00709509</td><td>0.00370080</td><td> 1.917180</td><td>0.0552172</td></tr>\n",
       "\t<tr><th scope=row>6</th><td>XY</td><td>167755</td><td>rs73174453 </td><td>G</td><td>T</td><td>T</td><td>ADD</td><td>141967</td><td>-0.00715268</td><td>0.00376379</td><td>-1.900390</td><td>0.0573838</td></tr>\n",
       "</tbody>\n",
       "</table>\n"
      ],
      "text/latex": [
       "A data.frame: 6 × 12\n",
       "\\begin{tabular}{r|llllllllllll}\n",
       "  & \\#CHROM & POS & ID & REF & ALT & A1 & TEST & OBS\\_CT & BETA & SE & T\\_STAT & P\\\\\n",
       "  & <chr> & <int> & <chr> & <chr> & <chr> & <chr> & <chr> & <int> & <dbl> & <dbl> & <dbl> & <dbl>\\\\\n",
       "\\hline\n",
       "\t1 & XY &  60425 & rs34557243  & C & A & A & ADD & 141845 &  0.00816956 & 0.01033270 &  0.790649 & 0.4291500\\\\\n",
       "\t2 & XY &  60454 & rs28494123  & A & G & G & ADD & 141198 &  0.00633311 & 0.00368942 &  1.716560 & 0.0860623\\\\\n",
       "\t3 & XY &  61067 & rs28590175  & A & G & G & ADD & 142169 &  0.00676082 & 0.01023070 &  0.660835 & 0.5087190\\\\\n",
       "\t4 & XY &  62079 & rs117654552 & C & G & G & ADD & 142020 &  0.01107040 & 0.01023760 &  1.081350 & 0.2795440\\\\\n",
       "\t5 & XY &  62615 & rs28491545  & A & C & C & ADD & 141953 &  0.00709509 & 0.00370080 &  1.917180 & 0.0552172\\\\\n",
       "\t6 & XY & 167755 & rs73174453  & G & T & T & ADD & 141967 & -0.00715268 & 0.00376379 & -1.900390 & 0.0573838\\\\\n",
       "\\end{tabular}\n"
      ],
      "text/markdown": [
       "\n",
       "A data.frame: 6 × 12\n",
       "\n",
       "| <!--/--> | #CHROM &lt;chr&gt; | POS &lt;int&gt; | ID &lt;chr&gt; | REF &lt;chr&gt; | ALT &lt;chr&gt; | A1 &lt;chr&gt; | TEST &lt;chr&gt; | OBS_CT &lt;int&gt; | BETA &lt;dbl&gt; | SE &lt;dbl&gt; | T_STAT &lt;dbl&gt; | P &lt;dbl&gt; |\n",
       "|---|---|---|---|---|---|---|---|---|---|---|---|---|\n",
       "| 1 | XY |  60425 | rs34557243  | C | A | A | ADD | 141845 |  0.00816956 | 0.01033270 |  0.790649 | 0.4291500 |\n",
       "| 2 | XY |  60454 | rs28494123  | A | G | G | ADD | 141198 |  0.00633311 | 0.00368942 |  1.716560 | 0.0860623 |\n",
       "| 3 | XY |  61067 | rs28590175  | A | G | G | ADD | 142169 |  0.00676082 | 0.01023070 |  0.660835 | 0.5087190 |\n",
       "| 4 | XY |  62079 | rs117654552 | C | G | G | ADD | 142020 |  0.01107040 | 0.01023760 |  1.081350 | 0.2795440 |\n",
       "| 5 | XY |  62615 | rs28491545  | A | C | C | ADD | 141953 |  0.00709509 | 0.00370080 |  1.917180 | 0.0552172 |\n",
       "| 6 | XY | 167755 | rs73174453  | G | T | T | ADD | 141967 | -0.00715268 | 0.00376379 | -1.900390 | 0.0573838 |\n",
       "\n"
      ],
      "text/plain": [
       "  #CHROM POS    ID          REF ALT A1 TEST OBS_CT BETA        SE        \n",
       "1 XY      60425 rs34557243  C   A   A  ADD  141845  0.00816956 0.01033270\n",
       "2 XY      60454 rs28494123  A   G   G  ADD  141198  0.00633311 0.00368942\n",
       "3 XY      61067 rs28590175  A   G   G  ADD  142169  0.00676082 0.01023070\n",
       "4 XY      62079 rs117654552 C   G   G  ADD  142020  0.01107040 0.01023760\n",
       "5 XY      62615 rs28491545  A   C   C  ADD  141953  0.00709509 0.00370080\n",
       "6 XY     167755 rs73174453  G   T   T  ADD  141967 -0.00715268 0.00376379\n",
       "  T_STAT    P        \n",
       "1  0.790649 0.4291500\n",
       "2  1.716560 0.0860623\n",
       "3  0.660835 0.5087190\n",
       "4  1.081350 0.2795440\n",
       "5  1.917180 0.0552172\n",
       "6 -1.900390 0.0573838"
      ]
     },
     "metadata": {},
     "output_type": "display_data"
    }
   ],
   "source": [
    "head(zs)"
   ]
  },
  {
   "cell_type": "code",
   "execution_count": 32,
   "metadata": {},
   "outputs": [],
   "source": [
    "Xqc <- fread(\"../../../data/chr_qc/chrX_qc_table.txt\")\n",
    "XYqc <- fread(\"../../../data/chr_qc/chrXY_qc_table.txt\")"
   ]
  },
  {
   "cell_type": "code",
   "execution_count": 5,
   "metadata": {},
   "outputs": [
    {
     "name": "stderr",
     "output_type": "stream",
     "text": [
      "Loading required package: tidyverse\n",
      "\n",
      "── \u001b[1mAttaching packages\u001b[22m ─────────────────────────────────────── tidyverse 1.2.1 ──\n",
      "\n",
      "\u001b[32m✔\u001b[39m \u001b[34mggplot2\u001b[39m 3.3.0     \u001b[32m✔\u001b[39m \u001b[34mpurrr  \u001b[39m 0.3.4\n",
      "\u001b[32m✔\u001b[39m \u001b[34mtibble \u001b[39m 3.0.1     \u001b[32m✔\u001b[39m \u001b[34mdplyr  \u001b[39m 0.8.5\n",
      "\u001b[32m✔\u001b[39m \u001b[34mtidyr  \u001b[39m 0.8.3     \u001b[32m✔\u001b[39m \u001b[34mstringr\u001b[39m 1.4.0\n",
      "\u001b[32m✔\u001b[39m \u001b[34mreadr  \u001b[39m 1.3.1     \u001b[32m✔\u001b[39m \u001b[34mforcats\u001b[39m 0.4.0\n",
      "\n",
      "── \u001b[1mConflicts\u001b[22m ────────────────────────────────────────── tidyverse_conflicts() ──\n",
      "\u001b[31m✖\u001b[39m \u001b[34mdplyr\u001b[39m::\u001b[32mbetween()\u001b[39m   masks \u001b[34mdata.table\u001b[39m::between()\n",
      "\u001b[31m✖\u001b[39m \u001b[34mdplyr\u001b[39m::\u001b[32mfilter()\u001b[39m    masks \u001b[34mstats\u001b[39m::filter()\n",
      "\u001b[31m✖\u001b[39m \u001b[34mdplyr\u001b[39m::\u001b[32mfirst()\u001b[39m     masks \u001b[34mdata.table\u001b[39m::first()\n",
      "\u001b[31m✖\u001b[39m \u001b[34mdplyr\u001b[39m::\u001b[32mlag()\u001b[39m       masks \u001b[34mstats\u001b[39m::lag()\n",
      "\u001b[31m✖\u001b[39m \u001b[34mdplyr\u001b[39m::\u001b[32mlast()\u001b[39m      masks \u001b[34mdata.table\u001b[39m::last()\n",
      "\u001b[31m✖\u001b[39m \u001b[34mpurrr\u001b[39m::\u001b[32mtranspose()\u001b[39m masks \u001b[34mdata.table\u001b[39m::transpose()\n",
      "\n"
     ]
    }
   ],
   "source": [
    "require('tidyverse')"
   ]
  },
  {
   "cell_type": "code",
   "execution_count": 6,
   "metadata": {},
   "outputs": [
    {
     "data": {
      "text/html": [
       "<table>\n",
       "<caption>A data.frame: 6 × 12</caption>\n",
       "<thead>\n",
       "\t<tr><th></th><th scope=col>CHR</th><th scope=col>POS</th><th scope=col>ID</th><th scope=col>REF</th><th scope=col>ALT</th><th scope=col>A1</th><th scope=col>TEST</th><th scope=col>OBS_CT</th><th scope=col>BETA</th><th scope=col>SE</th><th scope=col>T_STAT</th><th scope=col>P</th></tr>\n",
       "\t<tr><th></th><th scope=col>&lt;chr&gt;</th><th scope=col>&lt;int&gt;</th><th scope=col>&lt;chr&gt;</th><th scope=col>&lt;chr&gt;</th><th scope=col>&lt;chr&gt;</th><th scope=col>&lt;chr&gt;</th><th scope=col>&lt;chr&gt;</th><th scope=col>&lt;int&gt;</th><th scope=col>&lt;dbl&gt;</th><th scope=col>&lt;dbl&gt;</th><th scope=col>&lt;dbl&gt;</th><th scope=col>&lt;dbl&gt;</th></tr>\n",
       "</thead>\n",
       "<tbody>\n",
       "\t<tr><th scope=row>1</th><td>X</td><td>2699676</td><td>rs60075487   </td><td>G</td><td>A </td><td>A </td><td>ADD</td><td>142156</td><td> 3.70148e-05</td><td>0.00514830</td><td> 0.00718972</td><td>0.994263</td></tr>\n",
       "\t<tr><th scope=row>2</th><td>X</td><td>2700027</td><td>rs2306736    </td><td>T</td><td>C </td><td>C </td><td>ADD</td><td>141721</td><td> 1.40454e-03</td><td>0.00377159</td><td> 0.37240000</td><td>0.709595</td></tr>\n",
       "\t<tr><th scope=row>3</th><td>X</td><td>2700151</td><td>Affx-92044070</td><td>A</td><td>AT</td><td>AT</td><td>ADD</td><td>126508</td><td>          NA</td><td>        NA</td><td>         NA</td><td>      NA</td></tr>\n",
       "\t<tr><th scope=row>4</th><td>X</td><td>2700202</td><td>rs5939320    </td><td>A</td><td>G </td><td>G </td><td>ADD</td><td>141854</td><td>-1.68624e-03</td><td>0.00403405</td><td>-0.41800200</td><td>0.675946</td></tr>\n",
       "\t<tr><th scope=row>5</th><td>X</td><td>2700972</td><td>rs146462965  </td><td>C</td><td>T </td><td>T </td><td>ADD</td><td>142215</td><td>-1.34441e-02</td><td>0.01751600</td><td>-0.76752800</td><td>0.442769</td></tr>\n",
       "\t<tr><th scope=row>6</th><td>X</td><td>2701185</td><td>rs1970797    </td><td>C</td><td>T </td><td>T </td><td>ADD</td><td>141937</td><td>-5.20965e-04</td><td>0.00548991</td><td>-0.09489500</td><td>0.924398</td></tr>\n",
       "</tbody>\n",
       "</table>\n"
      ],
      "text/latex": [
       "A data.frame: 6 × 12\n",
       "\\begin{tabular}{r|llllllllllll}\n",
       "  & CHR & POS & ID & REF & ALT & A1 & TEST & OBS\\_CT & BETA & SE & T\\_STAT & P\\\\\n",
       "  & <chr> & <int> & <chr> & <chr> & <chr> & <chr> & <chr> & <int> & <dbl> & <dbl> & <dbl> & <dbl>\\\\\n",
       "\\hline\n",
       "\t1 & X & 2699676 & rs60075487    & G & A  & A  & ADD & 142156 &  3.70148e-05 & 0.00514830 &  0.00718972 & 0.994263\\\\\n",
       "\t2 & X & 2700027 & rs2306736     & T & C  & C  & ADD & 141721 &  1.40454e-03 & 0.00377159 &  0.37240000 & 0.709595\\\\\n",
       "\t3 & X & 2700151 & Affx-92044070 & A & AT & AT & ADD & 126508 &           NA &         NA &          NA &       NA\\\\\n",
       "\t4 & X & 2700202 & rs5939320     & A & G  & G  & ADD & 141854 & -1.68624e-03 & 0.00403405 & -0.41800200 & 0.675946\\\\\n",
       "\t5 & X & 2700972 & rs146462965   & C & T  & T  & ADD & 142215 & -1.34441e-02 & 0.01751600 & -0.76752800 & 0.442769\\\\\n",
       "\t6 & X & 2701185 & rs1970797     & C & T  & T  & ADD & 141937 & -5.20965e-04 & 0.00548991 & -0.09489500 & 0.924398\\\\\n",
       "\\end{tabular}\n"
      ],
      "text/markdown": [
       "\n",
       "A data.frame: 6 × 12\n",
       "\n",
       "| <!--/--> | CHR &lt;chr&gt; | POS &lt;int&gt; | ID &lt;chr&gt; | REF &lt;chr&gt; | ALT &lt;chr&gt; | A1 &lt;chr&gt; | TEST &lt;chr&gt; | OBS_CT &lt;int&gt; | BETA &lt;dbl&gt; | SE &lt;dbl&gt; | T_STAT &lt;dbl&gt; | P &lt;dbl&gt; |\n",
       "|---|---|---|---|---|---|---|---|---|---|---|---|---|\n",
       "| 1 | X | 2699676 | rs60075487    | G | A  | A  | ADD | 142156 |  3.70148e-05 | 0.00514830 |  0.00718972 | 0.994263 |\n",
       "| 2 | X | 2700027 | rs2306736     | T | C  | C  | ADD | 141721 |  1.40454e-03 | 0.00377159 |  0.37240000 | 0.709595 |\n",
       "| 3 | X | 2700151 | Affx-92044070 | A | AT | AT | ADD | 126508 |           NA |         NA |          NA |       NA |\n",
       "| 4 | X | 2700202 | rs5939320     | A | G  | G  | ADD | 141854 | -1.68624e-03 | 0.00403405 | -0.41800200 | 0.675946 |\n",
       "| 5 | X | 2700972 | rs146462965   | C | T  | T  | ADD | 142215 | -1.34441e-02 | 0.01751600 | -0.76752800 | 0.442769 |\n",
       "| 6 | X | 2701185 | rs1970797     | C | T  | T  | ADD | 141937 | -5.20965e-04 | 0.00548991 | -0.09489500 | 0.924398 |\n",
       "\n"
      ],
      "text/plain": [
       "  CHR POS     ID            REF ALT A1 TEST OBS_CT BETA         SE        \n",
       "1 X   2699676 rs60075487    G   A   A  ADD  142156  3.70148e-05 0.00514830\n",
       "2 X   2700027 rs2306736     T   C   C  ADD  141721  1.40454e-03 0.00377159\n",
       "3 X   2700151 Affx-92044070 A   AT  AT ADD  126508           NA         NA\n",
       "4 X   2700202 rs5939320     A   G   G  ADD  141854 -1.68624e-03 0.00403405\n",
       "5 X   2700972 rs146462965   C   T   T  ADD  142215 -1.34441e-02 0.01751600\n",
       "6 X   2701185 rs1970797     C   T   T  ADD  141937 -5.20965e-04 0.00548991\n",
       "  T_STAT      P       \n",
       "1  0.00718972 0.994263\n",
       "2  0.37240000 0.709595\n",
       "3          NA       NA\n",
       "4 -0.41800200 0.675946\n",
       "5 -0.76752800 0.442769\n",
       "6 -0.09489500 0.924398"
      ]
     },
     "metadata": {},
     "output_type": "display_data"
    }
   ],
   "source": [
    "x_chr <- zs %>% rename(\"CHR\"=\"#CHROM\") %>% filter(CHR==\"X\")\n",
    "head(x_chr)"
   ]
  },
  {
   "cell_type": "code",
   "execution_count": 7,
   "metadata": {},
   "outputs": [
    {
     "data": {
      "text/html": [
       "<table>\n",
       "<caption>A data.table: 6 × 8</caption>\n",
       "<thead>\n",
       "\t<tr><th scope=col>SNP</th><th scope=col>CHR</th><th scope=col>A1</th><th scope=col>A2</th><th scope=col>MAF</th><th scope=col>F_MISS</th><th scope=col>LD</th><th scope=col>keep</th></tr>\n",
       "\t<tr><th scope=col>&lt;chr&gt;</th><th scope=col>&lt;chr&gt;</th><th scope=col>&lt;chr&gt;</th><th scope=col>&lt;chr&gt;</th><th scope=col>&lt;dbl&gt;</th><th scope=col>&lt;dbl&gt;</th><th scope=col>&lt;int&gt;</th><th scope=col>&lt;int&gt;</th></tr>\n",
       "</thead>\n",
       "<tbody>\n",
       "\t<tr><td>Affx-34464730</td><td>X</td><td>A</td><td>G</td><td>0.821453</td><td>0.000683898</td><td>0</td><td>0</td></tr>\n",
       "\t<tr><td>Affx-34470541</td><td>X</td><td>T</td><td>G</td><td>0.998817</td><td>0.001566410</td><td>1</td><td>1</td></tr>\n",
       "\t<tr><td>Affx-34480971</td><td>X</td><td>A</td><td>C</td><td>0.987194</td><td>0.010207300</td><td>1</td><td>1</td></tr>\n",
       "\t<tr><td>Affx-34492707</td><td>X</td><td>T</td><td>C</td><td>0.988038</td><td>0.002023030</td><td>1</td><td>1</td></tr>\n",
       "\t<tr><td>Affx-34492709</td><td>X</td><td>G</td><td>A</td><td>0.224857</td><td>0.000788325</td><td>0</td><td>0</td></tr>\n",
       "\t<tr><td>Affx-34494619</td><td>X</td><td>C</td><td>G</td><td>0.767836</td><td>0.001820320</td><td>0</td><td>0</td></tr>\n",
       "</tbody>\n",
       "</table>\n"
      ],
      "text/latex": [
       "A data.table: 6 × 8\n",
       "\\begin{tabular}{llllllll}\n",
       " SNP & CHR & A1 & A2 & MAF & F\\_MISS & LD & keep\\\\\n",
       " <chr> & <chr> & <chr> & <chr> & <dbl> & <dbl> & <int> & <int>\\\\\n",
       "\\hline\n",
       "\t Affx-34464730 & X & A & G & 0.821453 & 0.000683898 & 0 & 0\\\\\n",
       "\t Affx-34470541 & X & T & G & 0.998817 & 0.001566410 & 1 & 1\\\\\n",
       "\t Affx-34480971 & X & A & C & 0.987194 & 0.010207300 & 1 & 1\\\\\n",
       "\t Affx-34492707 & X & T & C & 0.988038 & 0.002023030 & 1 & 1\\\\\n",
       "\t Affx-34492709 & X & G & A & 0.224857 & 0.000788325 & 0 & 0\\\\\n",
       "\t Affx-34494619 & X & C & G & 0.767836 & 0.001820320 & 0 & 0\\\\\n",
       "\\end{tabular}\n"
      ],
      "text/markdown": [
       "\n",
       "A data.table: 6 × 8\n",
       "\n",
       "| SNP &lt;chr&gt; | CHR &lt;chr&gt; | A1 &lt;chr&gt; | A2 &lt;chr&gt; | MAF &lt;dbl&gt; | F_MISS &lt;dbl&gt; | LD &lt;int&gt; | keep &lt;int&gt; |\n",
       "|---|---|---|---|---|---|---|---|\n",
       "| Affx-34464730 | X | A | G | 0.821453 | 0.000683898 | 0 | 0 |\n",
       "| Affx-34470541 | X | T | G | 0.998817 | 0.001566410 | 1 | 1 |\n",
       "| Affx-34480971 | X | A | C | 0.987194 | 0.010207300 | 1 | 1 |\n",
       "| Affx-34492707 | X | T | C | 0.988038 | 0.002023030 | 1 | 1 |\n",
       "| Affx-34492709 | X | G | A | 0.224857 | 0.000788325 | 0 | 0 |\n",
       "| Affx-34494619 | X | C | G | 0.767836 | 0.001820320 | 0 | 0 |\n",
       "\n"
      ],
      "text/plain": [
       "  SNP           CHR A1 A2 MAF      F_MISS      LD keep\n",
       "1 Affx-34464730 X   A  G  0.821453 0.000683898 0  0   \n",
       "2 Affx-34470541 X   T  G  0.998817 0.001566410 1  1   \n",
       "3 Affx-34480971 X   A  C  0.987194 0.010207300 1  1   \n",
       "4 Affx-34492707 X   T  C  0.988038 0.002023030 1  1   \n",
       "5 Affx-34492709 X   G  A  0.224857 0.000788325 0  0   \n",
       "6 Affx-34494619 X   C  G  0.767836 0.001820320 0  0   "
      ]
     },
     "metadata": {},
     "output_type": "display_data"
    }
   ],
   "source": [
    "head(Xqc)"
   ]
  },
  {
   "cell_type": "code",
   "execution_count": 8,
   "metadata": {},
   "outputs": [],
   "source": [
    "ff_X <- fread(\"../../../data/gwas/flipfix/test_flipfix_X.txt\")"
   ]
  },
  {
   "cell_type": "code",
   "execution_count": 9,
   "metadata": {},
   "outputs": [],
   "source": [
    "colnames(ff_X) <- colnames(x_chr)"
   ]
  },
  {
   "cell_type": "code",
   "execution_count": 10,
   "metadata": {},
   "outputs": [
    {
     "data": {
      "text/plain": [
       "\n",
       " TRUE \n",
       "18857 "
      ]
     },
     "metadata": {},
     "output_type": "display_data"
    }
   ],
   "source": [
    "table(ff_X$A1==x_chr$A1)"
   ]
  },
  {
   "cell_type": "code",
   "execution_count": 11,
   "metadata": {},
   "outputs": [],
   "source": [
    "comb_tab <- ff_X %>% left_join(Xqc %>% select(SNP, A1, A2, MAF), by=c(\"ID\"=\"SNP\"))"
   ]
  },
  {
   "cell_type": "code",
   "execution_count": 12,
   "metadata": {},
   "outputs": [
    {
     "data": {
      "text/html": [
       "<table>\n",
       "<caption>A data.frame: 6 × 15</caption>\n",
       "<thead>\n",
       "\t<tr><th></th><th scope=col>CHR</th><th scope=col>POS</th><th scope=col>ID</th><th scope=col>REF</th><th scope=col>ALT</th><th scope=col>A1.x</th><th scope=col>TEST</th><th scope=col>OBS_CT</th><th scope=col>BETA</th><th scope=col>SE</th><th scope=col>T_STAT</th><th scope=col>P</th><th scope=col>A1.y</th><th scope=col>A2</th><th scope=col>MAF</th></tr>\n",
       "\t<tr><th></th><th scope=col>&lt;chr&gt;</th><th scope=col>&lt;int&gt;</th><th scope=col>&lt;chr&gt;</th><th scope=col>&lt;chr&gt;</th><th scope=col>&lt;chr&gt;</th><th scope=col>&lt;chr&gt;</th><th scope=col>&lt;chr&gt;</th><th scope=col>&lt;int&gt;</th><th scope=col>&lt;dbl&gt;</th><th scope=col>&lt;dbl&gt;</th><th scope=col>&lt;dbl&gt;</th><th scope=col>&lt;dbl&gt;</th><th scope=col>&lt;chr&gt;</th><th scope=col>&lt;chr&gt;</th><th scope=col>&lt;dbl&gt;</th></tr>\n",
       "</thead>\n",
       "<tbody>\n",
       "\t<tr><th scope=row>1</th><td>X</td><td>2699676</td><td>rs60075487   </td><td>G</td><td>A </td><td>A </td><td>ADD</td><td>142156</td><td> 3.70148e-05</td><td>0.00514830</td><td> 0.00718972</td><td>0.994263</td><td>A </td><td>G</td><td>0.836553</td></tr>\n",
       "\t<tr><th scope=row>2</th><td>X</td><td>2700027</td><td>rs2306736    </td><td>T</td><td>C </td><td>C </td><td>ADD</td><td>141721</td><td> 1.40454e-03</td><td>0.00377159</td><td> 0.37240000</td><td>0.709595</td><td>C </td><td>T</td><td>0.464364</td></tr>\n",
       "\t<tr><th scope=row>3</th><td>X</td><td>2700151</td><td>Affx-92044070</td><td>A</td><td>AT</td><td>AT</td><td>ADD</td><td>126508</td><td>          NA</td><td>        NA</td><td>         NA</td><td>      NA</td><td>AT</td><td>A</td><td>0.999970</td></tr>\n",
       "\t<tr><th scope=row>4</th><td>X</td><td>2700202</td><td>rs5939320    </td><td>A</td><td>G </td><td>G </td><td>ADD</td><td>141854</td><td>-1.68624e-03</td><td>0.00403405</td><td>-0.41800200</td><td>0.675946</td><td>G </td><td>A</td><td>0.681743</td></tr>\n",
       "\t<tr><th scope=row>5</th><td>X</td><td>2700972</td><td>rs146462965  </td><td>C</td><td>T </td><td>T </td><td>ADD</td><td>142215</td><td>-1.34441e-02</td><td>0.01751600</td><td>-0.76752800</td><td>0.442769</td><td>T </td><td>C</td><td>0.988290</td></tr>\n",
       "\t<tr><th scope=row>6</th><td>X</td><td>2701185</td><td>rs1970797    </td><td>C</td><td>T </td><td>T </td><td>ADD</td><td>141937</td><td>-5.20965e-04</td><td>0.00548991</td><td>-0.09489500</td><td>0.924398</td><td>T </td><td>C</td><td>0.134382</td></tr>\n",
       "</tbody>\n",
       "</table>\n"
      ],
      "text/latex": [
       "A data.frame: 6 × 15\n",
       "\\begin{tabular}{r|lllllllllllllll}\n",
       "  & CHR & POS & ID & REF & ALT & A1.x & TEST & OBS\\_CT & BETA & SE & T\\_STAT & P & A1.y & A2 & MAF\\\\\n",
       "  & <chr> & <int> & <chr> & <chr> & <chr> & <chr> & <chr> & <int> & <dbl> & <dbl> & <dbl> & <dbl> & <chr> & <chr> & <dbl>\\\\\n",
       "\\hline\n",
       "\t1 & X & 2699676 & rs60075487    & G & A  & A  & ADD & 142156 &  3.70148e-05 & 0.00514830 &  0.00718972 & 0.994263 & A  & G & 0.836553\\\\\n",
       "\t2 & X & 2700027 & rs2306736     & T & C  & C  & ADD & 141721 &  1.40454e-03 & 0.00377159 &  0.37240000 & 0.709595 & C  & T & 0.464364\\\\\n",
       "\t3 & X & 2700151 & Affx-92044070 & A & AT & AT & ADD & 126508 &           NA &         NA &          NA &       NA & AT & A & 0.999970\\\\\n",
       "\t4 & X & 2700202 & rs5939320     & A & G  & G  & ADD & 141854 & -1.68624e-03 & 0.00403405 & -0.41800200 & 0.675946 & G  & A & 0.681743\\\\\n",
       "\t5 & X & 2700972 & rs146462965   & C & T  & T  & ADD & 142215 & -1.34441e-02 & 0.01751600 & -0.76752800 & 0.442769 & T  & C & 0.988290\\\\\n",
       "\t6 & X & 2701185 & rs1970797     & C & T  & T  & ADD & 141937 & -5.20965e-04 & 0.00548991 & -0.09489500 & 0.924398 & T  & C & 0.134382\\\\\n",
       "\\end{tabular}\n"
      ],
      "text/markdown": [
       "\n",
       "A data.frame: 6 × 15\n",
       "\n",
       "| <!--/--> | CHR &lt;chr&gt; | POS &lt;int&gt; | ID &lt;chr&gt; | REF &lt;chr&gt; | ALT &lt;chr&gt; | A1.x &lt;chr&gt; | TEST &lt;chr&gt; | OBS_CT &lt;int&gt; | BETA &lt;dbl&gt; | SE &lt;dbl&gt; | T_STAT &lt;dbl&gt; | P &lt;dbl&gt; | A1.y &lt;chr&gt; | A2 &lt;chr&gt; | MAF &lt;dbl&gt; |\n",
       "|---|---|---|---|---|---|---|---|---|---|---|---|---|---|---|---|\n",
       "| 1 | X | 2699676 | rs60075487    | G | A  | A  | ADD | 142156 |  3.70148e-05 | 0.00514830 |  0.00718972 | 0.994263 | A  | G | 0.836553 |\n",
       "| 2 | X | 2700027 | rs2306736     | T | C  | C  | ADD | 141721 |  1.40454e-03 | 0.00377159 |  0.37240000 | 0.709595 | C  | T | 0.464364 |\n",
       "| 3 | X | 2700151 | Affx-92044070 | A | AT | AT | ADD | 126508 |           NA |         NA |          NA |       NA | AT | A | 0.999970 |\n",
       "| 4 | X | 2700202 | rs5939320     | A | G  | G  | ADD | 141854 | -1.68624e-03 | 0.00403405 | -0.41800200 | 0.675946 | G  | A | 0.681743 |\n",
       "| 5 | X | 2700972 | rs146462965   | C | T  | T  | ADD | 142215 | -1.34441e-02 | 0.01751600 | -0.76752800 | 0.442769 | T  | C | 0.988290 |\n",
       "| 6 | X | 2701185 | rs1970797     | C | T  | T  | ADD | 141937 | -5.20965e-04 | 0.00548991 | -0.09489500 | 0.924398 | T  | C | 0.134382 |\n",
       "\n"
      ],
      "text/plain": [
       "  CHR POS     ID            REF ALT A1.x TEST OBS_CT BETA         SE        \n",
       "1 X   2699676 rs60075487    G   A   A    ADD  142156  3.70148e-05 0.00514830\n",
       "2 X   2700027 rs2306736     T   C   C    ADD  141721  1.40454e-03 0.00377159\n",
       "3 X   2700151 Affx-92044070 A   AT  AT   ADD  126508           NA         NA\n",
       "4 X   2700202 rs5939320     A   G   G    ADD  141854 -1.68624e-03 0.00403405\n",
       "5 X   2700972 rs146462965   C   T   T    ADD  142215 -1.34441e-02 0.01751600\n",
       "6 X   2701185 rs1970797     C   T   T    ADD  141937 -5.20965e-04 0.00548991\n",
       "  T_STAT      P        A1.y A2 MAF     \n",
       "1  0.00718972 0.994263 A    G  0.836553\n",
       "2  0.37240000 0.709595 C    T  0.464364\n",
       "3          NA       NA AT   A  0.999970\n",
       "4 -0.41800200 0.675946 G    A  0.681743\n",
       "5 -0.76752800 0.442769 T    C  0.988290\n",
       "6 -0.09489500 0.924398 T    C  0.134382"
      ]
     },
     "metadata": {},
     "output_type": "display_data"
    }
   ],
   "source": [
    "head(comb_tab)"
   ]
  },
  {
   "cell_type": "code",
   "execution_count": 13,
   "metadata": {},
   "outputs": [
    {
     "data": {
      "text/html": [
       "<table>\n",
       "<caption>A data.frame: 6 × 15</caption>\n",
       "<thead>\n",
       "\t<tr><th></th><th scope=col>CHR</th><th scope=col>POS</th><th scope=col>ID</th><th scope=col>REF</th><th scope=col>ALT</th><th scope=col>A1.x</th><th scope=col>TEST</th><th scope=col>OBS_CT</th><th scope=col>BETA</th><th scope=col>SE</th><th scope=col>T_STAT</th><th scope=col>P</th><th scope=col>A1.y</th><th scope=col>A2</th><th scope=col>MAF</th></tr>\n",
       "\t<tr><th></th><th scope=col>&lt;chr&gt;</th><th scope=col>&lt;int&gt;</th><th scope=col>&lt;chr&gt;</th><th scope=col>&lt;chr&gt;</th><th scope=col>&lt;chr&gt;</th><th scope=col>&lt;chr&gt;</th><th scope=col>&lt;chr&gt;</th><th scope=col>&lt;int&gt;</th><th scope=col>&lt;dbl&gt;</th><th scope=col>&lt;dbl&gt;</th><th scope=col>&lt;dbl&gt;</th><th scope=col>&lt;dbl&gt;</th><th scope=col>&lt;chr&gt;</th><th scope=col>&lt;chr&gt;</th><th scope=col>&lt;dbl&gt;</th></tr>\n",
       "</thead>\n",
       "<tbody>\n",
       "\t<tr><th scope=row>1</th><td>X</td><td>2699676</td><td>rs60075487   </td><td>G</td><td>A </td><td>A </td><td>ADD</td><td>142156</td><td> 3.70148e-05</td><td>0.00514830</td><td> 0.00718972</td><td>0.994263</td><td>A </td><td>G</td><td>0.836553</td></tr>\n",
       "\t<tr><th scope=row>2</th><td>X</td><td>2700151</td><td>Affx-92044070</td><td>A</td><td>AT</td><td>AT</td><td>ADD</td><td>126508</td><td>          NA</td><td>        NA</td><td>         NA</td><td>      NA</td><td>AT</td><td>A</td><td>0.999970</td></tr>\n",
       "\t<tr><th scope=row>3</th><td>X</td><td>2700202</td><td>rs5939320    </td><td>A</td><td>G </td><td>G </td><td>ADD</td><td>141854</td><td>-1.68624e-03</td><td>0.00403405</td><td>-0.41800200</td><td>0.675946</td><td>G </td><td>A</td><td>0.681743</td></tr>\n",
       "\t<tr><th scope=row>4</th><td>X</td><td>2700972</td><td>rs146462965  </td><td>C</td><td>T </td><td>T </td><td>ADD</td><td>142215</td><td>-1.34441e-02</td><td>0.01751600</td><td>-0.76752800</td><td>0.442769</td><td>T </td><td>C</td><td>0.988290</td></tr>\n",
       "\t<tr><th scope=row>5</th><td>X</td><td>2702698</td><td>rs73433431   </td><td>C</td><td>T </td><td>T </td><td>ADD</td><td>142173</td><td>-3.52917e-03</td><td>0.00740524</td><td>-0.47657800</td><td>0.633664</td><td>T </td><td>C</td><td>0.931468</td></tr>\n",
       "\t<tr><th scope=row>6</th><td>X</td><td>2706340</td><td>rs5982859    </td><td>G</td><td>A </td><td>A </td><td>ADD</td><td>140778</td><td> 3.37209e-03</td><td>0.00880481</td><td> 0.38298200</td><td>0.701733</td><td>A </td><td>G</td><td>0.941722</td></tr>\n",
       "</tbody>\n",
       "</table>\n"
      ],
      "text/latex": [
       "A data.frame: 6 × 15\n",
       "\\begin{tabular}{r|lllllllllllllll}\n",
       "  & CHR & POS & ID & REF & ALT & A1.x & TEST & OBS\\_CT & BETA & SE & T\\_STAT & P & A1.y & A2 & MAF\\\\\n",
       "  & <chr> & <int> & <chr> & <chr> & <chr> & <chr> & <chr> & <int> & <dbl> & <dbl> & <dbl> & <dbl> & <chr> & <chr> & <dbl>\\\\\n",
       "\\hline\n",
       "\t1 & X & 2699676 & rs60075487    & G & A  & A  & ADD & 142156 &  3.70148e-05 & 0.00514830 &  0.00718972 & 0.994263 & A  & G & 0.836553\\\\\n",
       "\t2 & X & 2700151 & Affx-92044070 & A & AT & AT & ADD & 126508 &           NA &         NA &          NA &       NA & AT & A & 0.999970\\\\\n",
       "\t3 & X & 2700202 & rs5939320     & A & G  & G  & ADD & 141854 & -1.68624e-03 & 0.00403405 & -0.41800200 & 0.675946 & G  & A & 0.681743\\\\\n",
       "\t4 & X & 2700972 & rs146462965   & C & T  & T  & ADD & 142215 & -1.34441e-02 & 0.01751600 & -0.76752800 & 0.442769 & T  & C & 0.988290\\\\\n",
       "\t5 & X & 2702698 & rs73433431    & C & T  & T  & ADD & 142173 & -3.52917e-03 & 0.00740524 & -0.47657800 & 0.633664 & T  & C & 0.931468\\\\\n",
       "\t6 & X & 2706340 & rs5982859     & G & A  & A  & ADD & 140778 &  3.37209e-03 & 0.00880481 &  0.38298200 & 0.701733 & A  & G & 0.941722\\\\\n",
       "\\end{tabular}\n"
      ],
      "text/markdown": [
       "\n",
       "A data.frame: 6 × 15\n",
       "\n",
       "| <!--/--> | CHR &lt;chr&gt; | POS &lt;int&gt; | ID &lt;chr&gt; | REF &lt;chr&gt; | ALT &lt;chr&gt; | A1.x &lt;chr&gt; | TEST &lt;chr&gt; | OBS_CT &lt;int&gt; | BETA &lt;dbl&gt; | SE &lt;dbl&gt; | T_STAT &lt;dbl&gt; | P &lt;dbl&gt; | A1.y &lt;chr&gt; | A2 &lt;chr&gt; | MAF &lt;dbl&gt; |\n",
       "|---|---|---|---|---|---|---|---|---|---|---|---|---|---|---|---|\n",
       "| 1 | X | 2699676 | rs60075487    | G | A  | A  | ADD | 142156 |  3.70148e-05 | 0.00514830 |  0.00718972 | 0.994263 | A  | G | 0.836553 |\n",
       "| 2 | X | 2700151 | Affx-92044070 | A | AT | AT | ADD | 126508 |           NA |         NA |          NA |       NA | AT | A | 0.999970 |\n",
       "| 3 | X | 2700202 | rs5939320     | A | G  | G  | ADD | 141854 | -1.68624e-03 | 0.00403405 | -0.41800200 | 0.675946 | G  | A | 0.681743 |\n",
       "| 4 | X | 2700972 | rs146462965   | C | T  | T  | ADD | 142215 | -1.34441e-02 | 0.01751600 | -0.76752800 | 0.442769 | T  | C | 0.988290 |\n",
       "| 5 | X | 2702698 | rs73433431    | C | T  | T  | ADD | 142173 | -3.52917e-03 | 0.00740524 | -0.47657800 | 0.633664 | T  | C | 0.931468 |\n",
       "| 6 | X | 2706340 | rs5982859     | G | A  | A  | ADD | 140778 |  3.37209e-03 | 0.00880481 |  0.38298200 | 0.701733 | A  | G | 0.941722 |\n",
       "\n"
      ],
      "text/plain": [
       "  CHR POS     ID            REF ALT A1.x TEST OBS_CT BETA         SE        \n",
       "1 X   2699676 rs60075487    G   A   A    ADD  142156  3.70148e-05 0.00514830\n",
       "2 X   2700151 Affx-92044070 A   AT  AT   ADD  126508           NA         NA\n",
       "3 X   2700202 rs5939320     A   G   G    ADD  141854 -1.68624e-03 0.00403405\n",
       "4 X   2700972 rs146462965   C   T   T    ADD  142215 -1.34441e-02 0.01751600\n",
       "5 X   2702698 rs73433431    C   T   T    ADD  142173 -3.52917e-03 0.00740524\n",
       "6 X   2706340 rs5982859     G   A   A    ADD  140778  3.37209e-03 0.00880481\n",
       "  T_STAT      P        A1.y A2 MAF     \n",
       "1  0.00718972 0.994263 A    G  0.836553\n",
       "2          NA       NA AT   A  0.999970\n",
       "3 -0.41800200 0.675946 G    A  0.681743\n",
       "4 -0.76752800 0.442769 T    C  0.988290\n",
       "5 -0.47657800 0.633664 T    C  0.931468\n",
       "6  0.38298200 0.701733 A    G  0.941722"
      ]
     },
     "metadata": {},
     "output_type": "display_data"
    }
   ],
   "source": [
    "comb_tab %>% filter(MAF > 0.5) %>% head()"
   ]
  },
  {
   "cell_type": "code",
   "execution_count": 15,
   "metadata": {},
   "outputs": [
    {
     "name": "stderr",
     "output_type": "stream",
     "text": [
      "Warning message in fread(\"../../../data/snp_filt_metadata.txt\", data.table = FALSE):\n",
      "“Detected 31 column names but the data has 32 columns (i.e. invalid file). Added 1 extra default column name for the first column which is guessed to be row names or an index. Use setnames() afterwards if this guess is not correct, or fix the file write command that created the file to create a valid file.”\n"
     ]
    }
   ],
   "source": [
    "var_metadata <- fread(\"../../../data/snp_filt_metadata.txt\", data.table=FALSE)"
   ]
  },
  {
   "cell_type": "code",
   "execution_count": 16,
   "metadata": {},
   "outputs": [
    {
     "data": {
      "text/html": [
       "<table>\n",
       "<caption>A data.frame: 6 × 7</caption>\n",
       "<thead>\n",
       "\t<tr><th></th><th scope=col>V1</th><th scope=col>CHROM</th><th scope=col>POS</th><th scope=col>REF</th><th scope=col>ALT</th><th scope=col>ID</th><th scope=col>Gene</th></tr>\n",
       "\t<tr><th></th><th scope=col>&lt;int&gt;</th><th scope=col>&lt;int&gt;</th><th scope=col>&lt;int&gt;</th><th scope=col>&lt;chr&gt;</th><th scope=col>&lt;chr&gt;</th><th scope=col>&lt;chr&gt;</th><th scope=col>&lt;chr&gt;</th></tr>\n",
       "</thead>\n",
       "<tbody>\n",
       "\t<tr><th scope=row>1</th><td> 9</td><td>1</td><td>767096</td><td>A</td><td>G</td><td>rs115991721</td><td>ENSG00000228794</td></tr>\n",
       "\t<tr><th scope=row>2</th><td>10</td><td>1</td><td>768448</td><td>G</td><td>A</td><td>rs12562034 </td><td>ENSG00000228794</td></tr>\n",
       "\t<tr><th scope=row>3</th><td>12</td><td>1</td><td>779322</td><td>A</td><td>G</td><td>rs4040617  </td><td>ENSG00000228794</td></tr>\n",
       "\t<tr><th scope=row>4</th><td>13</td><td>1</td><td>801536</td><td>T</td><td>G</td><td>rs79373928 </td><td>ENSG00000230368</td></tr>\n",
       "\t<tr><th scope=row>5</th><td>16</td><td>1</td><td>813034</td><td>A</td><td>G</td><td>rs59771807 </td><td>ENSG00000230368</td></tr>\n",
       "\t<tr><th scope=row>6</th><td>17</td><td>1</td><td>834830</td><td>G</td><td>A</td><td>rs116452738</td><td>               </td></tr>\n",
       "</tbody>\n",
       "</table>\n"
      ],
      "text/latex": [
       "A data.frame: 6 × 7\n",
       "\\begin{tabular}{r|lllllll}\n",
       "  & V1 & CHROM & POS & REF & ALT & ID & Gene\\\\\n",
       "  & <int> & <int> & <int> & <chr> & <chr> & <chr> & <chr>\\\\\n",
       "\\hline\n",
       "\t1 &  9 & 1 & 767096 & A & G & rs115991721 & ENSG00000228794\\\\\n",
       "\t2 & 10 & 1 & 768448 & G & A & rs12562034  & ENSG00000228794\\\\\n",
       "\t3 & 12 & 1 & 779322 & A & G & rs4040617   & ENSG00000228794\\\\\n",
       "\t4 & 13 & 1 & 801536 & T & G & rs79373928  & ENSG00000230368\\\\\n",
       "\t5 & 16 & 1 & 813034 & A & G & rs59771807  & ENSG00000230368\\\\\n",
       "\t6 & 17 & 1 & 834830 & G & A & rs116452738 &                \\\\\n",
       "\\end{tabular}\n"
      ],
      "text/markdown": [
       "\n",
       "A data.frame: 6 × 7\n",
       "\n",
       "| <!--/--> | V1 &lt;int&gt; | CHROM &lt;int&gt; | POS &lt;int&gt; | REF &lt;chr&gt; | ALT &lt;chr&gt; | ID &lt;chr&gt; | Gene &lt;chr&gt; |\n",
       "|---|---|---|---|---|---|---|---|\n",
       "| 1 |  9 | 1 | 767096 | A | G | rs115991721 | ENSG00000228794 |\n",
       "| 2 | 10 | 1 | 768448 | G | A | rs12562034  | ENSG00000228794 |\n",
       "| 3 | 12 | 1 | 779322 | A | G | rs4040617   | ENSG00000228794 |\n",
       "| 4 | 13 | 1 | 801536 | T | G | rs79373928  | ENSG00000230368 |\n",
       "| 5 | 16 | 1 | 813034 | A | G | rs59771807  | ENSG00000230368 |\n",
       "| 6 | 17 | 1 | 834830 | G | A | rs116452738 | <!----> |\n",
       "\n"
      ],
      "text/plain": [
       "  V1 CHROM POS    REF ALT ID          Gene           \n",
       "1  9 1     767096 A   G   rs115991721 ENSG00000228794\n",
       "2 10 1     768448 G   A   rs12562034  ENSG00000228794\n",
       "3 12 1     779322 A   G   rs4040617   ENSG00000228794\n",
       "4 13 1     801536 T   G   rs79373928  ENSG00000230368\n",
       "5 16 1     813034 A   G   rs59771807  ENSG00000230368\n",
       "6 17 1     834830 G   A   rs116452738                "
      ]
     },
     "metadata": {},
     "output_type": "display_data"
    }
   ],
   "source": [
    "head(var_metadata[,1:7])"
   ]
  },
  {
   "cell_type": "code",
   "execution_count": 17,
   "metadata": {},
   "outputs": [
    {
     "data": {
      "text/html": [
       "<style>\n",
       ".list-inline {list-style: none; margin:0; padding: 0}\n",
       ".list-inline>li {display: inline-block}\n",
       ".list-inline>li:not(:last-child)::after {content: \"\\00b7\"; padding: 0 .5ex}\n",
       "</style>\n",
       "<ol class=list-inline><li>'V1'</li><li>'CHROM'</li><li>'POS'</li><li>'REF'</li><li>'ALT'</li><li>'ID'</li><li>'Gene'</li><li>'Consequence'</li><li>'HGVSp'</li><li>'LoF'</li><li>'LoF_filter'</li><li>'LoF_flags'</li><li>'LoF_info'</li><li>'consequence_field'</li><li>'f_miss'</li><li>'f_miss_bileve'</li><li>'f_miss_wcsg'</li><li>'freq'</li><li>'hwe_p'</li><li>'maf'</li><li>'ld_indep'</li><li>'wcsg_only'</li><li>'bileve_only'</li><li>'filter'</li><li>'missingness'</li><li>'hwe'</li><li>'mcpi'</li><li>'gnomad_af'</li><li>'mgi'</li><li>'mgi_notes'</li><li>'all_filters'</li><li>'Gene_symbol'</li></ol>\n"
      ],
      "text/latex": [
       "\\begin{enumerate*}\n",
       "\\item 'V1'\n",
       "\\item 'CHROM'\n",
       "\\item 'POS'\n",
       "\\item 'REF'\n",
       "\\item 'ALT'\n",
       "\\item 'ID'\n",
       "\\item 'Gene'\n",
       "\\item 'Consequence'\n",
       "\\item 'HGVSp'\n",
       "\\item 'LoF'\n",
       "\\item 'LoF\\_filter'\n",
       "\\item 'LoF\\_flags'\n",
       "\\item 'LoF\\_info'\n",
       "\\item 'consequence\\_field'\n",
       "\\item 'f\\_miss'\n",
       "\\item 'f\\_miss\\_bileve'\n",
       "\\item 'f\\_miss\\_wcsg'\n",
       "\\item 'freq'\n",
       "\\item 'hwe\\_p'\n",
       "\\item 'maf'\n",
       "\\item 'ld\\_indep'\n",
       "\\item 'wcsg\\_only'\n",
       "\\item 'bileve\\_only'\n",
       "\\item 'filter'\n",
       "\\item 'missingness'\n",
       "\\item 'hwe'\n",
       "\\item 'mcpi'\n",
       "\\item 'gnomad\\_af'\n",
       "\\item 'mgi'\n",
       "\\item 'mgi\\_notes'\n",
       "\\item 'all\\_filters'\n",
       "\\item 'Gene\\_symbol'\n",
       "\\end{enumerate*}\n"
      ],
      "text/markdown": [
       "1. 'V1'\n",
       "2. 'CHROM'\n",
       "3. 'POS'\n",
       "4. 'REF'\n",
       "5. 'ALT'\n",
       "6. 'ID'\n",
       "7. 'Gene'\n",
       "8. 'Consequence'\n",
       "9. 'HGVSp'\n",
       "10. 'LoF'\n",
       "11. 'LoF_filter'\n",
       "12. 'LoF_flags'\n",
       "13. 'LoF_info'\n",
       "14. 'consequence_field'\n",
       "15. 'f_miss'\n",
       "16. 'f_miss_bileve'\n",
       "17. 'f_miss_wcsg'\n",
       "18. 'freq'\n",
       "19. 'hwe_p'\n",
       "20. 'maf'\n",
       "21. 'ld_indep'\n",
       "22. 'wcsg_only'\n",
       "23. 'bileve_only'\n",
       "24. 'filter'\n",
       "25. 'missingness'\n",
       "26. 'hwe'\n",
       "27. 'mcpi'\n",
       "28. 'gnomad_af'\n",
       "29. 'mgi'\n",
       "30. 'mgi_notes'\n",
       "31. 'all_filters'\n",
       "32. 'Gene_symbol'\n",
       "\n",
       "\n"
      ],
      "text/plain": [
       " [1] \"V1\"                \"CHROM\"             \"POS\"              \n",
       " [4] \"REF\"               \"ALT\"               \"ID\"               \n",
       " [7] \"Gene\"              \"Consequence\"       \"HGVSp\"            \n",
       "[10] \"LoF\"               \"LoF_filter\"        \"LoF_flags\"        \n",
       "[13] \"LoF_info\"          \"consequence_field\" \"f_miss\"           \n",
       "[16] \"f_miss_bileve\"     \"f_miss_wcsg\"       \"freq\"             \n",
       "[19] \"hwe_p\"             \"maf\"               \"ld_indep\"         \n",
       "[22] \"wcsg_only\"         \"bileve_only\"       \"filter\"           \n",
       "[25] \"missingness\"       \"hwe\"               \"mcpi\"             \n",
       "[28] \"gnomad_af\"         \"mgi\"               \"mgi_notes\"        \n",
       "[31] \"all_filters\"       \"Gene_symbol\"      "
      ]
     },
     "metadata": {},
     "output_type": "display_data"
    }
   ],
   "source": [
    "colnames(var_metadata)"
   ]
  },
  {
   "cell_type": "code",
   "execution_count": 18,
   "metadata": {},
   "outputs": [],
   "source": [
    "chr22_qc <- var_metadata %>% select(CHROM, ID, REF, ALT, maf) %>% filter(CHROM==\"22\")"
   ]
  },
  {
   "cell_type": "code",
   "execution_count": 19,
   "metadata": {},
   "outputs": [
    {
     "data": {
      "text/html": [
       "<table>\n",
       "<caption>A data.frame: 6 × 16</caption>\n",
       "<thead>\n",
       "\t<tr><th></th><th scope=col>CHR</th><th scope=col>POS</th><th scope=col>ID</th><th scope=col>REF.x</th><th scope=col>ALT.x</th><th scope=col>A1</th><th scope=col>TEST</th><th scope=col>OBS_CT</th><th scope=col>BETA</th><th scope=col>SE</th><th scope=col>T_STAT</th><th scope=col>P</th><th scope=col>CHROM</th><th scope=col>REF.y</th><th scope=col>ALT.y</th><th scope=col>maf</th></tr>\n",
       "\t<tr><th></th><th scope=col>&lt;chr&gt;</th><th scope=col>&lt;int&gt;</th><th scope=col>&lt;chr&gt;</th><th scope=col>&lt;chr&gt;</th><th scope=col>&lt;chr&gt;</th><th scope=col>&lt;chr&gt;</th><th scope=col>&lt;chr&gt;</th><th scope=col>&lt;int&gt;</th><th scope=col>&lt;dbl&gt;</th><th scope=col>&lt;dbl&gt;</th><th scope=col>&lt;dbl&gt;</th><th scope=col>&lt;dbl&gt;</th><th scope=col>&lt;int&gt;</th><th scope=col>&lt;chr&gt;</th><th scope=col>&lt;chr&gt;</th><th scope=col>&lt;dbl&gt;</th></tr>\n",
       "</thead>\n",
       "<tbody>\n",
       "\t<tr><th scope=row>1</th><td>22</td><td>16057417</td><td>rs62224618   </td><td>C </td><td>T</td><td>T</td><td>ADD</td><td>140794</td><td>-0.00955624</td><td>0.00631569</td><td>-1.513100</td><td>0.130258</td><td>NA</td><td>NA</td><td>NA</td><td>          NA</td></tr>\n",
       "\t<tr><th scope=row>2</th><td>22</td><td>16287538</td><td>Affx-52233492</td><td>G </td><td>C</td><td>C</td><td>ADD</td><td>142185</td><td>         NA</td><td>        NA</td><td>       NA</td><td>      NA</td><td>22</td><td>G </td><td>C </td><td>8.903689e-06</td></tr>\n",
       "\t<tr><th scope=row>3</th><td>22</td><td>16287557</td><td>rs200923174  </td><td>C </td><td>G</td><td>G</td><td>ADD</td><td>142173</td><td>-0.46488200</td><td>0.31626600</td><td>-1.469910</td><td>0.141589</td><td>22</td><td>C </td><td>G </td><td>3.858758e-05</td></tr>\n",
       "\t<tr><th scope=row>4</th><td>22</td><td>16287585</td><td>Affx-80289661</td><td>AC</td><td>A</td><td>A</td><td>ADD</td><td>140704</td><td>-1.04196000</td><td>0.70720700</td><td>-1.473340</td><td>0.140661</td><td>NA</td><td>NA</td><td>NA</td><td>          NA</td></tr>\n",
       "\t<tr><th scope=row>5</th><td>22</td><td>16287663</td><td>Affx-80289662</td><td>TC</td><td>T</td><td>T</td><td>ADD</td><td>142035</td><td>-0.13286900</td><td>0.70708600</td><td>-0.187911</td><td>0.850947</td><td>22</td><td>TC</td><td>T </td><td>1.485650e-05</td></tr>\n",
       "\t<tr><th scope=row>6</th><td>22</td><td>16287779</td><td>Affx-52336937</td><td>CT</td><td>C</td><td>C</td><td>ADD</td><td>142230</td><td> 0.17740100</td><td>0.57737200</td><td> 0.307255</td><td>0.758650</td><td>22</td><td>CT</td><td>C </td><td>5.934313e-06</td></tr>\n",
       "</tbody>\n",
       "</table>\n"
      ],
      "text/latex": [
       "A data.frame: 6 × 16\n",
       "\\begin{tabular}{r|llllllllllllllll}\n",
       "  & CHR & POS & ID & REF.x & ALT.x & A1 & TEST & OBS\\_CT & BETA & SE & T\\_STAT & P & CHROM & REF.y & ALT.y & maf\\\\\n",
       "  & <chr> & <int> & <chr> & <chr> & <chr> & <chr> & <chr> & <int> & <dbl> & <dbl> & <dbl> & <dbl> & <int> & <chr> & <chr> & <dbl>\\\\\n",
       "\\hline\n",
       "\t1 & 22 & 16057417 & rs62224618    & C  & T & T & ADD & 140794 & -0.00955624 & 0.00631569 & -1.513100 & 0.130258 & NA & NA & NA &           NA\\\\\n",
       "\t2 & 22 & 16287538 & Affx-52233492 & G  & C & C & ADD & 142185 &          NA &         NA &        NA &       NA & 22 & G  & C  & 8.903689e-06\\\\\n",
       "\t3 & 22 & 16287557 & rs200923174   & C  & G & G & ADD & 142173 & -0.46488200 & 0.31626600 & -1.469910 & 0.141589 & 22 & C  & G  & 3.858758e-05\\\\\n",
       "\t4 & 22 & 16287585 & Affx-80289661 & AC & A & A & ADD & 140704 & -1.04196000 & 0.70720700 & -1.473340 & 0.140661 & NA & NA & NA &           NA\\\\\n",
       "\t5 & 22 & 16287663 & Affx-80289662 & TC & T & T & ADD & 142035 & -0.13286900 & 0.70708600 & -0.187911 & 0.850947 & 22 & TC & T  & 1.485650e-05\\\\\n",
       "\t6 & 22 & 16287779 & Affx-52336937 & CT & C & C & ADD & 142230 &  0.17740100 & 0.57737200 &  0.307255 & 0.758650 & 22 & CT & C  & 5.934313e-06\\\\\n",
       "\\end{tabular}\n"
      ],
      "text/markdown": [
       "\n",
       "A data.frame: 6 × 16\n",
       "\n",
       "| <!--/--> | CHR &lt;chr&gt; | POS &lt;int&gt; | ID &lt;chr&gt; | REF.x &lt;chr&gt; | ALT.x &lt;chr&gt; | A1 &lt;chr&gt; | TEST &lt;chr&gt; | OBS_CT &lt;int&gt; | BETA &lt;dbl&gt; | SE &lt;dbl&gt; | T_STAT &lt;dbl&gt; | P &lt;dbl&gt; | CHROM &lt;int&gt; | REF.y &lt;chr&gt; | ALT.y &lt;chr&gt; | maf &lt;dbl&gt; |\n",
       "|---|---|---|---|---|---|---|---|---|---|---|---|---|---|---|---|---|\n",
       "| 1 | 22 | 16057417 | rs62224618    | C  | T | T | ADD | 140794 | -0.00955624 | 0.00631569 | -1.513100 | 0.130258 | NA | NA | NA |           NA |\n",
       "| 2 | 22 | 16287538 | Affx-52233492 | G  | C | C | ADD | 142185 |          NA |         NA |        NA |       NA | 22 | G  | C  | 8.903689e-06 |\n",
       "| 3 | 22 | 16287557 | rs200923174   | C  | G | G | ADD | 142173 | -0.46488200 | 0.31626600 | -1.469910 | 0.141589 | 22 | C  | G  | 3.858758e-05 |\n",
       "| 4 | 22 | 16287585 | Affx-80289661 | AC | A | A | ADD | 140704 | -1.04196000 | 0.70720700 | -1.473340 | 0.140661 | NA | NA | NA |           NA |\n",
       "| 5 | 22 | 16287663 | Affx-80289662 | TC | T | T | ADD | 142035 | -0.13286900 | 0.70708600 | -0.187911 | 0.850947 | 22 | TC | T  | 1.485650e-05 |\n",
       "| 6 | 22 | 16287779 | Affx-52336937 | CT | C | C | ADD | 142230 |  0.17740100 | 0.57737200 |  0.307255 | 0.758650 | 22 | CT | C  | 5.934313e-06 |\n",
       "\n"
      ],
      "text/plain": [
       "  CHR POS      ID            REF.x ALT.x A1 TEST OBS_CT BETA        SE        \n",
       "1 22  16057417 rs62224618    C     T     T  ADD  140794 -0.00955624 0.00631569\n",
       "2 22  16287538 Affx-52233492 G     C     C  ADD  142185          NA         NA\n",
       "3 22  16287557 rs200923174   C     G     G  ADD  142173 -0.46488200 0.31626600\n",
       "4 22  16287585 Affx-80289661 AC    A     A  ADD  140704 -1.04196000 0.70720700\n",
       "5 22  16287663 Affx-80289662 TC    T     T  ADD  142035 -0.13286900 0.70708600\n",
       "6 22  16287779 Affx-52336937 CT    C     C  ADD  142230  0.17740100 0.57737200\n",
       "  T_STAT    P        CHROM REF.y ALT.y maf         \n",
       "1 -1.513100 0.130258 NA    NA    NA              NA\n",
       "2        NA       NA 22    G     C     8.903689e-06\n",
       "3 -1.469910 0.141589 22    C     G     3.858758e-05\n",
       "4 -1.473340 0.140661 NA    NA    NA              NA\n",
       "5 -0.187911 0.850947 22    TC    T     1.485650e-05\n",
       "6  0.307255 0.758650 22    CT    C     5.934313e-06"
      ]
     },
     "metadata": {},
     "output_type": "display_data"
    }
   ],
   "source": [
    "chr22 <- zs %>% rename(\"CHR\"=\"#CHROM\") %>% filter(CHR==\"22\") %>% left_join(chr22_qc, by=c(\"ID\"))\n",
    "head(chr22)\n"
   ]
  },
  {
   "cell_type": "code",
   "execution_count": 20,
   "metadata": {},
   "outputs": [
    {
     "data": {
      "text/html": [
       "<table>\n",
       "<caption>A data.frame: 0 × 16</caption>\n",
       "<thead>\n",
       "\t<tr><th scope=col>CHR</th><th scope=col>POS</th><th scope=col>ID</th><th scope=col>REF.x</th><th scope=col>ALT.x</th><th scope=col>A1</th><th scope=col>TEST</th><th scope=col>OBS_CT</th><th scope=col>BETA</th><th scope=col>SE</th><th scope=col>T_STAT</th><th scope=col>P</th><th scope=col>CHROM</th><th scope=col>REF.y</th><th scope=col>ALT.y</th><th scope=col>maf</th></tr>\n",
       "\t<tr><th scope=col>&lt;chr&gt;</th><th scope=col>&lt;int&gt;</th><th scope=col>&lt;chr&gt;</th><th scope=col>&lt;chr&gt;</th><th scope=col>&lt;chr&gt;</th><th scope=col>&lt;chr&gt;</th><th scope=col>&lt;chr&gt;</th><th scope=col>&lt;int&gt;</th><th scope=col>&lt;dbl&gt;</th><th scope=col>&lt;dbl&gt;</th><th scope=col>&lt;dbl&gt;</th><th scope=col>&lt;dbl&gt;</th><th scope=col>&lt;int&gt;</th><th scope=col>&lt;chr&gt;</th><th scope=col>&lt;chr&gt;</th><th scope=col>&lt;dbl&gt;</th></tr>\n",
       "</thead>\n",
       "<tbody>\n",
       "</tbody>\n",
       "</table>\n"
      ],
      "text/latex": [
       "A data.frame: 0 × 16\n",
       "\\begin{tabular}{llllllllllllllll}\n",
       " CHR & POS & ID & REF.x & ALT.x & A1 & TEST & OBS\\_CT & BETA & SE & T\\_STAT & P & CHROM & REF.y & ALT.y & maf\\\\\n",
       " <chr> & <int> & <chr> & <chr> & <chr> & <chr> & <chr> & <int> & <dbl> & <dbl> & <dbl> & <dbl> & <int> & <chr> & <chr> & <dbl>\\\\\n",
       "\\hline\n",
       "\\end{tabular}\n"
      ],
      "text/markdown": [
       "\n",
       "A data.frame: 0 × 16\n",
       "\n",
       "| CHR &lt;chr&gt; | POS &lt;int&gt; | ID &lt;chr&gt; | REF.x &lt;chr&gt; | ALT.x &lt;chr&gt; | A1 &lt;chr&gt; | TEST &lt;chr&gt; | OBS_CT &lt;int&gt; | BETA &lt;dbl&gt; | SE &lt;dbl&gt; | T_STAT &lt;dbl&gt; | P &lt;dbl&gt; | CHROM &lt;int&gt; | REF.y &lt;chr&gt; | ALT.y &lt;chr&gt; | maf &lt;dbl&gt; |\n",
       "|---|---|---|---|---|---|---|---|---|---|---|---|---|---|---|---|\n",
       "\n"
      ],
      "text/plain": [
       "     CHR POS ID REF.x ALT.x A1 TEST OBS_CT BETA SE T_STAT P CHROM REF.y ALT.y\n",
       "     maf"
      ]
     },
     "metadata": {},
     "output_type": "display_data"
    }
   ],
   "source": [
    "chr22 %>% filter(maf > 0.5)\n",
    "# ok so there is none that is like this. so it looks like perhaps the issue is with the reference data??"
   ]
  },
  {
   "cell_type": "code",
   "execution_count": 21,
   "metadata": {},
   "outputs": [
    {
     "data": {
      "text/plain": [
       "\n",
       "TRUE \n",
       "6180 "
      ]
     },
     "metadata": {},
     "output_type": "display_data"
    }
   ],
   "source": [
    "table(chr22$REF.x==chr22$REF.y)"
   ]
  },
  {
   "cell_type": "code",
   "execution_count": 33,
   "metadata": {},
   "outputs": [],
   "source": [
    "xchr_bim <- fread(\"/oak/stanford/groups/mrivas/private_data/ukbb/24983/snp/snp_download/ukb_snp_chrX_v2.bim\")\n",
    "xychr_bim <- fread(\"/oak/stanford/groups/mrivas/private_data/ukbb/24983/snp/snp_download/ukb_snp_chrXY_v2.bim\")"
   ]
  },
  {
   "cell_type": "code",
   "execution_count": 34,
   "metadata": {},
   "outputs": [],
   "source": [
    "colnames(xchr_bim) <- c(\"CHR\", \"ID\", \"dist\", \"pos\", \"A1\", \"A2\")\n",
    "colnames(xychr_bim) <- c(\"CHR\", \"ID\", \"dist\", \"pos\", \"A1\", \"A2\")"
   ]
  },
  {
   "cell_type": "code",
   "execution_count": 24,
   "metadata": {},
   "outputs": [
    {
     "data": {
      "text/html": [
       "<table>\n",
       "<caption>A data.frame: 6 × 13</caption>\n",
       "<thead>\n",
       "\t<tr><th></th><th scope=col>SNP</th><th scope=col>CHR.x</th><th scope=col>A1.x</th><th scope=col>A2.x</th><th scope=col>MAF</th><th scope=col>F_MISS</th><th scope=col>LD</th><th scope=col>keep</th><th scope=col>CHR.y</th><th scope=col>dist</th><th scope=col>pos</th><th scope=col>A1.y</th><th scope=col>A2.y</th></tr>\n",
       "\t<tr><th></th><th scope=col>&lt;chr&gt;</th><th scope=col>&lt;chr&gt;</th><th scope=col>&lt;chr&gt;</th><th scope=col>&lt;chr&gt;</th><th scope=col>&lt;dbl&gt;</th><th scope=col>&lt;dbl&gt;</th><th scope=col>&lt;int&gt;</th><th scope=col>&lt;int&gt;</th><th scope=col>&lt;int&gt;</th><th scope=col>&lt;int&gt;</th><th scope=col>&lt;int&gt;</th><th scope=col>&lt;chr&gt;</th><th scope=col>&lt;chr&gt;</th></tr>\n",
       "</thead>\n",
       "<tbody>\n",
       "\t<tr><th scope=row>1</th><td>Affx-34464730</td><td>X</td><td>A</td><td>G</td><td>0.821453</td><td>0.000683898</td><td>0</td><td>0</td><td>23</td><td>0</td><td>100608191</td><td>G</td><td>A</td></tr>\n",
       "\t<tr><th scope=row>2</th><td>Affx-34470541</td><td>X</td><td>T</td><td>G</td><td>0.998817</td><td>0.001566410</td><td>1</td><td>1</td><td>23</td><td>0</td><td>101912465</td><td>G</td><td>T</td></tr>\n",
       "\t<tr><th scope=row>3</th><td>Affx-34480971</td><td>X</td><td>A</td><td>C</td><td>0.987194</td><td>0.010207300</td><td>1</td><td>1</td><td>23</td><td>0</td><td>104463832</td><td>C</td><td>A</td></tr>\n",
       "\t<tr><th scope=row>4</th><td>Affx-34492707</td><td>X</td><td>T</td><td>C</td><td>0.988038</td><td>0.002023030</td><td>1</td><td>1</td><td>23</td><td>0</td><td>107433669</td><td>C</td><td>T</td></tr>\n",
       "\t<tr><th scope=row>5</th><td>Affx-34492709</td><td>X</td><td>G</td><td>A</td><td>0.224857</td><td>0.000788325</td><td>0</td><td>0</td><td>23</td><td>0</td><td>107433688</td><td>A</td><td>G</td></tr>\n",
       "\t<tr><th scope=row>6</th><td>Affx-34494619</td><td>X</td><td>C</td><td>G</td><td>0.767836</td><td>0.001820320</td><td>0</td><td>0</td><td>23</td><td>0</td><td>107976940</td><td>G</td><td>C</td></tr>\n",
       "</tbody>\n",
       "</table>\n"
      ],
      "text/latex": [
       "A data.frame: 6 × 13\n",
       "\\begin{tabular}{r|lllllllllllll}\n",
       "  & SNP & CHR.x & A1.x & A2.x & MAF & F\\_MISS & LD & keep & CHR.y & dist & pos & A1.y & A2.y\\\\\n",
       "  & <chr> & <chr> & <chr> & <chr> & <dbl> & <dbl> & <int> & <int> & <int> & <int> & <int> & <chr> & <chr>\\\\\n",
       "\\hline\n",
       "\t1 & Affx-34464730 & X & A & G & 0.821453 & 0.000683898 & 0 & 0 & 23 & 0 & 100608191 & G & A\\\\\n",
       "\t2 & Affx-34470541 & X & T & G & 0.998817 & 0.001566410 & 1 & 1 & 23 & 0 & 101912465 & G & T\\\\\n",
       "\t3 & Affx-34480971 & X & A & C & 0.987194 & 0.010207300 & 1 & 1 & 23 & 0 & 104463832 & C & A\\\\\n",
       "\t4 & Affx-34492707 & X & T & C & 0.988038 & 0.002023030 & 1 & 1 & 23 & 0 & 107433669 & C & T\\\\\n",
       "\t5 & Affx-34492709 & X & G & A & 0.224857 & 0.000788325 & 0 & 0 & 23 & 0 & 107433688 & A & G\\\\\n",
       "\t6 & Affx-34494619 & X & C & G & 0.767836 & 0.001820320 & 0 & 0 & 23 & 0 & 107976940 & G & C\\\\\n",
       "\\end{tabular}\n"
      ],
      "text/markdown": [
       "\n",
       "A data.frame: 6 × 13\n",
       "\n",
       "| <!--/--> | SNP &lt;chr&gt; | CHR.x &lt;chr&gt; | A1.x &lt;chr&gt; | A2.x &lt;chr&gt; | MAF &lt;dbl&gt; | F_MISS &lt;dbl&gt; | LD &lt;int&gt; | keep &lt;int&gt; | CHR.y &lt;int&gt; | dist &lt;int&gt; | pos &lt;int&gt; | A1.y &lt;chr&gt; | A2.y &lt;chr&gt; |\n",
       "|---|---|---|---|---|---|---|---|---|---|---|---|---|---|\n",
       "| 1 | Affx-34464730 | X | A | G | 0.821453 | 0.000683898 | 0 | 0 | 23 | 0 | 100608191 | G | A |\n",
       "| 2 | Affx-34470541 | X | T | G | 0.998817 | 0.001566410 | 1 | 1 | 23 | 0 | 101912465 | G | T |\n",
       "| 3 | Affx-34480971 | X | A | C | 0.987194 | 0.010207300 | 1 | 1 | 23 | 0 | 104463832 | C | A |\n",
       "| 4 | Affx-34492707 | X | T | C | 0.988038 | 0.002023030 | 1 | 1 | 23 | 0 | 107433669 | C | T |\n",
       "| 5 | Affx-34492709 | X | G | A | 0.224857 | 0.000788325 | 0 | 0 | 23 | 0 | 107433688 | A | G |\n",
       "| 6 | Affx-34494619 | X | C | G | 0.767836 | 0.001820320 | 0 | 0 | 23 | 0 | 107976940 | G | C |\n",
       "\n"
      ],
      "text/plain": [
       "  SNP           CHR.x A1.x A2.x MAF      F_MISS      LD keep CHR.y dist\n",
       "1 Affx-34464730 X     A    G    0.821453 0.000683898 0  0    23    0   \n",
       "2 Affx-34470541 X     T    G    0.998817 0.001566410 1  1    23    0   \n",
       "3 Affx-34480971 X     A    C    0.987194 0.010207300 1  1    23    0   \n",
       "4 Affx-34492707 X     T    C    0.988038 0.002023030 1  1    23    0   \n",
       "5 Affx-34492709 X     G    A    0.224857 0.000788325 0  0    23    0   \n",
       "6 Affx-34494619 X     C    G    0.767836 0.001820320 0  0    23    0   \n",
       "  pos       A1.y A2.y\n",
       "1 100608191 G    A   \n",
       "2 101912465 G    T   \n",
       "3 104463832 C    A   \n",
       "4 107433669 C    T   \n",
       "5 107433688 A    G   \n",
       "6 107976940 G    C   "
      ]
     },
     "metadata": {},
     "output_type": "display_data"
    }
   ],
   "source": [
    "xchr_ref <- full_join(Xqc, xchr_bim, by=c(\"SNP\"=\"ID\"))\n",
    "head(xchr_ref)"
   ]
  },
  {
   "cell_type": "code",
   "execution_count": 35,
   "metadata": {},
   "outputs": [
    {
     "data": {
      "text/html": [
       "<table>\n",
       "<caption>A data.frame: 6 × 13</caption>\n",
       "<thead>\n",
       "\t<tr><th></th><th scope=col>SNP</th><th scope=col>CHR.x</th><th scope=col>A1.x</th><th scope=col>A2.x</th><th scope=col>MAF</th><th scope=col>F_MISS</th><th scope=col>LD</th><th scope=col>keep</th><th scope=col>CHR.y</th><th scope=col>dist</th><th scope=col>pos</th><th scope=col>A1.y</th><th scope=col>A2.y</th></tr>\n",
       "\t<tr><th></th><th scope=col>&lt;chr&gt;</th><th scope=col>&lt;chr&gt;</th><th scope=col>&lt;chr&gt;</th><th scope=col>&lt;chr&gt;</th><th scope=col>&lt;dbl&gt;</th><th scope=col>&lt;dbl&gt;</th><th scope=col>&lt;int&gt;</th><th scope=col>&lt;int&gt;</th><th scope=col>&lt;int&gt;</th><th scope=col>&lt;int&gt;</th><th scope=col>&lt;int&gt;</th><th scope=col>&lt;chr&gt;</th><th scope=col>&lt;chr&gt;</th></tr>\n",
       "</thead>\n",
       "<tbody>\n",
       "\t<tr><th scope=row>1</th><td>Affx-34637689</td><td>XY</td><td>T</td><td>C</td><td>0.701461</td><td>0.003255680</td><td>0</td><td>0</td><td>25</td><td>0</td><td>  1417936</td><td>C</td><td>T</td></tr>\n",
       "\t<tr><th scope=row>2</th><td>Affx-34642957</td><td>XY</td><td>T</td><td>G</td><td>0.925713</td><td>0.000702326</td><td>0</td><td>0</td><td>25</td><td>0</td><td>  1428421</td><td>G</td><td>T</td></tr>\n",
       "\t<tr><th scope=row>3</th><td>Affx-34660664</td><td>XY</td><td>A</td><td>T</td><td>0.978064</td><td>0.002043500</td><td>0</td><td>0</td><td>25</td><td>0</td><td>  1455787</td><td>T</td><td>A</td></tr>\n",
       "\t<tr><th scope=row>4</th><td>Affx-34691882</td><td>XY</td><td>T</td><td>C</td><td>0.418119</td><td>0.001973880</td><td>0</td><td>0</td><td>25</td><td>0</td><td>   207362</td><td>C</td><td>T</td></tr>\n",
       "\t<tr><th scope=row>5</th><td>Affx-34729416</td><td>XY</td><td>T</td><td>C</td><td>0.896423</td><td>0.835355000</td><td>0</td><td>0</td><td>25</td><td>0</td><td>155015986</td><td>C</td><td>T</td></tr>\n",
       "\t<tr><th scope=row>6</th><td>Affx-34734836</td><td>XY</td><td>G</td><td>A</td><td>0.189222</td><td>0.067742700</td><td>0</td><td>0</td><td>25</td><td>0</td><td>  1656711</td><td>A</td><td>G</td></tr>\n",
       "</tbody>\n",
       "</table>\n"
      ],
      "text/latex": [
       "A data.frame: 6 × 13\n",
       "\\begin{tabular}{r|lllllllllllll}\n",
       "  & SNP & CHR.x & A1.x & A2.x & MAF & F\\_MISS & LD & keep & CHR.y & dist & pos & A1.y & A2.y\\\\\n",
       "  & <chr> & <chr> & <chr> & <chr> & <dbl> & <dbl> & <int> & <int> & <int> & <int> & <int> & <chr> & <chr>\\\\\n",
       "\\hline\n",
       "\t1 & Affx-34637689 & XY & T & C & 0.701461 & 0.003255680 & 0 & 0 & 25 & 0 &   1417936 & C & T\\\\\n",
       "\t2 & Affx-34642957 & XY & T & G & 0.925713 & 0.000702326 & 0 & 0 & 25 & 0 &   1428421 & G & T\\\\\n",
       "\t3 & Affx-34660664 & XY & A & T & 0.978064 & 0.002043500 & 0 & 0 & 25 & 0 &   1455787 & T & A\\\\\n",
       "\t4 & Affx-34691882 & XY & T & C & 0.418119 & 0.001973880 & 0 & 0 & 25 & 0 &    207362 & C & T\\\\\n",
       "\t5 & Affx-34729416 & XY & T & C & 0.896423 & 0.835355000 & 0 & 0 & 25 & 0 & 155015986 & C & T\\\\\n",
       "\t6 & Affx-34734836 & XY & G & A & 0.189222 & 0.067742700 & 0 & 0 & 25 & 0 &   1656711 & A & G\\\\\n",
       "\\end{tabular}\n"
      ],
      "text/markdown": [
       "\n",
       "A data.frame: 6 × 13\n",
       "\n",
       "| <!--/--> | SNP &lt;chr&gt; | CHR.x &lt;chr&gt; | A1.x &lt;chr&gt; | A2.x &lt;chr&gt; | MAF &lt;dbl&gt; | F_MISS &lt;dbl&gt; | LD &lt;int&gt; | keep &lt;int&gt; | CHR.y &lt;int&gt; | dist &lt;int&gt; | pos &lt;int&gt; | A1.y &lt;chr&gt; | A2.y &lt;chr&gt; |\n",
       "|---|---|---|---|---|---|---|---|---|---|---|---|---|---|\n",
       "| 1 | Affx-34637689 | XY | T | C | 0.701461 | 0.003255680 | 0 | 0 | 25 | 0 |   1417936 | C | T |\n",
       "| 2 | Affx-34642957 | XY | T | G | 0.925713 | 0.000702326 | 0 | 0 | 25 | 0 |   1428421 | G | T |\n",
       "| 3 | Affx-34660664 | XY | A | T | 0.978064 | 0.002043500 | 0 | 0 | 25 | 0 |   1455787 | T | A |\n",
       "| 4 | Affx-34691882 | XY | T | C | 0.418119 | 0.001973880 | 0 | 0 | 25 | 0 |    207362 | C | T |\n",
       "| 5 | Affx-34729416 | XY | T | C | 0.896423 | 0.835355000 | 0 | 0 | 25 | 0 | 155015986 | C | T |\n",
       "| 6 | Affx-34734836 | XY | G | A | 0.189222 | 0.067742700 | 0 | 0 | 25 | 0 |   1656711 | A | G |\n",
       "\n"
      ],
      "text/plain": [
       "  SNP           CHR.x A1.x A2.x MAF      F_MISS      LD keep CHR.y dist\n",
       "1 Affx-34637689 XY    T    C    0.701461 0.003255680 0  0    25    0   \n",
       "2 Affx-34642957 XY    T    G    0.925713 0.000702326 0  0    25    0   \n",
       "3 Affx-34660664 XY    A    T    0.978064 0.002043500 0  0    25    0   \n",
       "4 Affx-34691882 XY    T    C    0.418119 0.001973880 0  0    25    0   \n",
       "5 Affx-34729416 XY    T    C    0.896423 0.835355000 0  0    25    0   \n",
       "6 Affx-34734836 XY    G    A    0.189222 0.067742700 0  0    25    0   \n",
       "  pos       A1.y A2.y\n",
       "1   1417936 C    T   \n",
       "2   1428421 G    T   \n",
       "3   1455787 T    A   \n",
       "4    207362 C    T   \n",
       "5 155015986 C    T   \n",
       "6   1656711 A    G   "
      ]
     },
     "metadata": {},
     "output_type": "display_data"
    }
   ],
   "source": [
    "xychr_ref <- full_join(XYqc, xychr_bim, by=c(\"SNP\"=\"ID\"))\n",
    "head(xychr_ref)"
   ]
  },
  {
   "cell_type": "code",
   "execution_count": 25,
   "metadata": {},
   "outputs": [
    {
     "data": {
      "text/plain": [
       "\n",
       "FALSE \n",
       "18857 "
      ]
     },
     "metadata": {},
     "output_type": "display_data"
    }
   ],
   "source": [
    "table(xchr_ref$A1.x==xchr_ref$A1.y)"
   ]
  },
  {
   "cell_type": "code",
   "execution_count": 36,
   "metadata": {},
   "outputs": [
    {
     "data": {
      "text/plain": [
       "\n",
       "FALSE \n",
       " 1357 "
      ]
     },
     "metadata": {},
     "output_type": "display_data"
    }
   ],
   "source": [
    "table(xychr_ref$A1.x==xychr_ref$A1.y)"
   ]
  },
  {
   "cell_type": "code",
   "execution_count": 37,
   "metadata": {},
   "outputs": [
    {
     "name": "stderr",
     "output_type": "stream",
     "text": [
      "Parsed with column specification:\n",
      "cols(\n",
      "  `#CHROM` = \u001b[32mcol_double()\u001b[39m,\n",
      "  ID = \u001b[31mcol_character()\u001b[39m,\n",
      "  REF = \u001b[31mcol_character()\u001b[39m,\n",
      "  ALT = \u001b[31mcol_character()\u001b[39m,\n",
      "  ALT_FREQS = \u001b[32mcol_double()\u001b[39m,\n",
      "  OBS_CT = \u001b[32mcol_double()\u001b[39m\n",
      ")\n",
      "\n"
     ]
    },
    {
     "data": {
      "text/html": [
       "<table>\n",
       "<caption>A tibble: 6 × 6</caption>\n",
       "<thead>\n",
       "\t<tr><th scope=col>#CHROM</th><th scope=col>ID</th><th scope=col>REF</th><th scope=col>ALT</th><th scope=col>ALT_FREQS</th><th scope=col>OBS_CT</th></tr>\n",
       "\t<tr><th scope=col>&lt;dbl&gt;</th><th scope=col>&lt;chr&gt;</th><th scope=col>&lt;chr&gt;</th><th scope=col>&lt;chr&gt;</th><th scope=col>&lt;dbl&gt;</th><th scope=col>&lt;dbl&gt;</th></tr>\n",
       "</thead>\n",
       "<tbody>\n",
       "\t<tr><td>22</td><td>rs62224618   </td><td>T</td><td>C </td><td>0.899445</td><td>965976</td></tr>\n",
       "\t<tr><td>22</td><td>Affx-52233492</td><td>C</td><td>G </td><td>0.999994</td><td>975914</td></tr>\n",
       "\t<tr><td>22</td><td>rs200923174  </td><td>G</td><td>C </td><td>0.999967</td><td>975768</td></tr>\n",
       "\t<tr><td>22</td><td>Affx-80289661</td><td>A</td><td>AC</td><td>0.999990</td><td>965218</td></tr>\n",
       "\t<tr><td>22</td><td>Affx-80289662</td><td>T</td><td>TC</td><td>0.999988</td><td>974848</td></tr>\n",
       "\t<tr><td>22</td><td>Affx-52336937</td><td>C</td><td>CT</td><td>0.999992</td><td>976196</td></tr>\n",
       "</tbody>\n",
       "</table>\n"
      ],
      "text/latex": [
       "A tibble: 6 × 6\n",
       "\\begin{tabular}{llllll}\n",
       " \\#CHROM & ID & REF & ALT & ALT\\_FREQS & OBS\\_CT\\\\\n",
       " <dbl> & <chr> & <chr> & <chr> & <dbl> & <dbl>\\\\\n",
       "\\hline\n",
       "\t 22 & rs62224618    & T & C  & 0.899445 & 965976\\\\\n",
       "\t 22 & Affx-52233492 & C & G  & 0.999994 & 975914\\\\\n",
       "\t 22 & rs200923174   & G & C  & 0.999967 & 975768\\\\\n",
       "\t 22 & Affx-80289661 & A & AC & 0.999990 & 965218\\\\\n",
       "\t 22 & Affx-80289662 & T & TC & 0.999988 & 974848\\\\\n",
       "\t 22 & Affx-52336937 & C & CT & 0.999992 & 976196\\\\\n",
       "\\end{tabular}\n"
      ],
      "text/markdown": [
       "\n",
       "A tibble: 6 × 6\n",
       "\n",
       "| #CHROM &lt;dbl&gt; | ID &lt;chr&gt; | REF &lt;chr&gt; | ALT &lt;chr&gt; | ALT_FREQS &lt;dbl&gt; | OBS_CT &lt;dbl&gt; |\n",
       "|---|---|---|---|---|---|\n",
       "| 22 | rs62224618    | T | C  | 0.899445 | 965976 |\n",
       "| 22 | Affx-52233492 | C | G  | 0.999994 | 975914 |\n",
       "| 22 | rs200923174   | G | C  | 0.999967 | 975768 |\n",
       "| 22 | Affx-80289661 | A | AC | 0.999990 | 965218 |\n",
       "| 22 | Affx-80289662 | T | TC | 0.999988 | 974848 |\n",
       "| 22 | Affx-52336937 | C | CT | 0.999992 | 976196 |\n",
       "\n"
      ],
      "text/plain": [
       "  #CHROM ID            REF ALT ALT_FREQS OBS_CT\n",
       "1 22     rs62224618    T   C   0.899445  965976\n",
       "2 22     Affx-52233492 C   G   0.999994  975914\n",
       "3 22     rs200923174   G   C   0.999967  975768\n",
       "4 22     Affx-80289661 A   AC  0.999990  965218\n",
       "5 22     Affx-80289662 T   TC  0.999988  974848\n",
       "6 22     Affx-52336937 C   CT  0.999992  976196"
      ]
     },
     "metadata": {},
     "output_type": "display_data"
    }
   ],
   "source": [
    "chr22_f <- read_tsv(\"../../../data/chr_qc/chr22.f.afreq\")\n",
    "chr22_f %>% head()"
   ]
  },
  {
   "cell_type": "code",
   "execution_count": 26,
   "metadata": {},
   "outputs": [
    {
     "data": {
      "text/plain": [
       "\n",
       " TRUE \n",
       "18857 "
      ]
     },
     "metadata": {},
     "output_type": "display_data"
    }
   ],
   "source": [
    "# ok so --LITERALLY-- all of them are swapped... hmm\n",
    "table(xchr_ref$A1.x==xchr_ref$A2.y)\n",
    "# did we generate the tables wrong?\n",
    "# -- look at XY(mb X reference just isnt adjusted)\n",
    "# -- try generating another chromosome\n",
    "#>> did this, it just swaps them. so all of the alleles need to be swapped"
   ]
  },
  {
   "cell_type": "code",
   "execution_count": null,
   "metadata": {},
   "outputs": [],
   "source": []
  },
  {
   "cell_type": "code",
   "execution_count": 27,
   "metadata": {},
   "outputs": [],
   "source": [
    "chr22_bim <- fread(\"/oak/stanford/groups/mrivas/private_data/ukbb/24983/snp/snp_download/ukb_snp_chr22_v2.bim\")"
   ]
  },
  {
   "cell_type": "code",
   "execution_count": 38,
   "metadata": {},
   "outputs": [
    {
     "data": {
      "text/html": [
       "<table>\n",
       "<caption>A data.frame: 6 × 11</caption>\n",
       "<thead>\n",
       "\t<tr><th></th><th scope=col>CHR</th><th scope=col>ID</th><th scope=col>dist</th><th scope=col>pos</th><th scope=col>A1</th><th scope=col>A2</th><th scope=col>#CHROM</th><th scope=col>REF</th><th scope=col>ALT</th><th scope=col>ALT_FREQS</th><th scope=col>OBS_CT</th></tr>\n",
       "\t<tr><th></th><th scope=col>&lt;int&gt;</th><th scope=col>&lt;chr&gt;</th><th scope=col>&lt;int&gt;</th><th scope=col>&lt;int&gt;</th><th scope=col>&lt;chr&gt;</th><th scope=col>&lt;chr&gt;</th><th scope=col>&lt;dbl&gt;</th><th scope=col>&lt;chr&gt;</th><th scope=col>&lt;chr&gt;</th><th scope=col>&lt;dbl&gt;</th><th scope=col>&lt;dbl&gt;</th></tr>\n",
       "</thead>\n",
       "<tbody>\n",
       "\t<tr><th scope=row>1</th><td>22</td><td>rs62224618   </td><td>0</td><td>16057417</td><td>C </td><td>T</td><td>22</td><td>T</td><td>C </td><td>0.899445</td><td>965976</td></tr>\n",
       "\t<tr><th scope=row>2</th><td>22</td><td>Affx-52233492</td><td>0</td><td>16287538</td><td>G </td><td>C</td><td>22</td><td>C</td><td>G </td><td>0.999994</td><td>975914</td></tr>\n",
       "\t<tr><th scope=row>3</th><td>22</td><td>rs200923174  </td><td>0</td><td>16287557</td><td>C </td><td>G</td><td>22</td><td>G</td><td>C </td><td>0.999967</td><td>975768</td></tr>\n",
       "\t<tr><th scope=row>4</th><td>22</td><td>Affx-80289661</td><td>0</td><td>16287585</td><td>AC</td><td>A</td><td>22</td><td>A</td><td>AC</td><td>0.999990</td><td>965218</td></tr>\n",
       "\t<tr><th scope=row>5</th><td>22</td><td>Affx-80289662</td><td>0</td><td>16287663</td><td>TC</td><td>T</td><td>22</td><td>T</td><td>TC</td><td>0.999988</td><td>974848</td></tr>\n",
       "\t<tr><th scope=row>6</th><td>22</td><td>Affx-52336937</td><td>0</td><td>16287779</td><td>CT</td><td>C</td><td>22</td><td>C</td><td>CT</td><td>0.999992</td><td>976196</td></tr>\n",
       "</tbody>\n",
       "</table>\n"
      ],
      "text/latex": [
       "A data.frame: 6 × 11\n",
       "\\begin{tabular}{r|lllllllllll}\n",
       "  & CHR & ID & dist & pos & A1 & A2 & \\#CHROM & REF & ALT & ALT\\_FREQS & OBS\\_CT\\\\\n",
       "  & <int> & <chr> & <int> & <int> & <chr> & <chr> & <dbl> & <chr> & <chr> & <dbl> & <dbl>\\\\\n",
       "\\hline\n",
       "\t1 & 22 & rs62224618    & 0 & 16057417 & C  & T & 22 & T & C  & 0.899445 & 965976\\\\\n",
       "\t2 & 22 & Affx-52233492 & 0 & 16287538 & G  & C & 22 & C & G  & 0.999994 & 975914\\\\\n",
       "\t3 & 22 & rs200923174   & 0 & 16287557 & C  & G & 22 & G & C  & 0.999967 & 975768\\\\\n",
       "\t4 & 22 & Affx-80289661 & 0 & 16287585 & AC & A & 22 & A & AC & 0.999990 & 965218\\\\\n",
       "\t5 & 22 & Affx-80289662 & 0 & 16287663 & TC & T & 22 & T & TC & 0.999988 & 974848\\\\\n",
       "\t6 & 22 & Affx-52336937 & 0 & 16287779 & CT & C & 22 & C & CT & 0.999992 & 976196\\\\\n",
       "\\end{tabular}\n"
      ],
      "text/markdown": [
       "\n",
       "A data.frame: 6 × 11\n",
       "\n",
       "| <!--/--> | CHR &lt;int&gt; | ID &lt;chr&gt; | dist &lt;int&gt; | pos &lt;int&gt; | A1 &lt;chr&gt; | A2 &lt;chr&gt; | #CHROM &lt;dbl&gt; | REF &lt;chr&gt; | ALT &lt;chr&gt; | ALT_FREQS &lt;dbl&gt; | OBS_CT &lt;dbl&gt; |\n",
       "|---|---|---|---|---|---|---|---|---|---|---|---|\n",
       "| 1 | 22 | rs62224618    | 0 | 16057417 | C  | T | 22 | T | C  | 0.899445 | 965976 |\n",
       "| 2 | 22 | Affx-52233492 | 0 | 16287538 | G  | C | 22 | C | G  | 0.999994 | 975914 |\n",
       "| 3 | 22 | rs200923174   | 0 | 16287557 | C  | G | 22 | G | C  | 0.999967 | 975768 |\n",
       "| 4 | 22 | Affx-80289661 | 0 | 16287585 | AC | A | 22 | A | AC | 0.999990 | 965218 |\n",
       "| 5 | 22 | Affx-80289662 | 0 | 16287663 | TC | T | 22 | T | TC | 0.999988 | 974848 |\n",
       "| 6 | 22 | Affx-52336937 | 0 | 16287779 | CT | C | 22 | C | CT | 0.999992 | 976196 |\n",
       "\n"
      ],
      "text/plain": [
       "  CHR ID            dist pos      A1 A2 #CHROM REF ALT ALT_FREQS OBS_CT\n",
       "1 22  rs62224618    0    16057417 C  T  22     T   C   0.899445  965976\n",
       "2 22  Affx-52233492 0    16287538 G  C  22     C   G   0.999994  975914\n",
       "3 22  rs200923174   0    16287557 C  G  22     G   C   0.999967  975768\n",
       "4 22  Affx-80289661 0    16287585 AC A  22     A   AC  0.999990  965218\n",
       "5 22  Affx-80289662 0    16287663 TC T  22     T   TC  0.999988  974848\n",
       "6 22  Affx-52336937 0    16287779 CT C  22     C   CT  0.999992  976196"
      ]
     },
     "metadata": {},
     "output_type": "display_data"
    }
   ],
   "source": [
    "colnames(chr22_bim) <- c(\"CHR\", \"ID\", \"dist\", \"pos\", \"A1\", \"A2\")\n",
    "chr22_ref <- full_join(chr22_bim, chr22_qc, by=c(\"ID\"))\n",
    "chr22_ref <- full_join(chr22_bim, chr22_f, by=c(\"ID\"))\n",
    "\n",
    "head(chr22_ref)"
   ]
  },
  {
   "cell_type": "code",
   "execution_count": 39,
   "metadata": {},
   "outputs": [
    {
     "data": {
      "text/plain": [
       "\n",
       "FALSE \n",
       "12968 "
      ]
     },
     "metadata": {},
     "output_type": "display_data"
    }
   ],
   "source": [
    "table(chr22_ref$A1==chr22_ref$REF)"
   ]
  },
  {
   "cell_type": "code",
   "execution_count": 30,
   "metadata": {},
   "outputs": [
    {
     "data": {
      "text/html": [
       "<table>\n",
       "<caption>A data.table: 6 × 8</caption>\n",
       "<thead>\n",
       "\t<tr><th scope=col>SNP</th><th scope=col>CHR</th><th scope=col>A1</th><th scope=col>A2</th><th scope=col>MAF</th><th scope=col>F_MISS</th><th scope=col>LD</th><th scope=col>keep</th></tr>\n",
       "\t<tr><th scope=col>&lt;chr&gt;</th><th scope=col>&lt;chr&gt;</th><th scope=col>&lt;chr&gt;</th><th scope=col>&lt;chr&gt;</th><th scope=col>&lt;dbl&gt;</th><th scope=col>&lt;dbl&gt;</th><th scope=col>&lt;int&gt;</th><th scope=col>&lt;int&gt;</th></tr>\n",
       "</thead>\n",
       "<tbody>\n",
       "\t<tr><td>Affx-34464730</td><td>X</td><td>A</td><td>G</td><td>0.821453</td><td>0.000683898</td><td>0</td><td>0</td></tr>\n",
       "\t<tr><td>Affx-34470541</td><td>X</td><td>T</td><td>G</td><td>0.998817</td><td>0.001566410</td><td>1</td><td>1</td></tr>\n",
       "\t<tr><td>Affx-34480971</td><td>X</td><td>A</td><td>C</td><td>0.987194</td><td>0.010207300</td><td>1</td><td>1</td></tr>\n",
       "\t<tr><td>Affx-34492707</td><td>X</td><td>T</td><td>C</td><td>0.988038</td><td>0.002023030</td><td>1</td><td>1</td></tr>\n",
       "\t<tr><td>Affx-34492709</td><td>X</td><td>G</td><td>A</td><td>0.224857</td><td>0.000788325</td><td>0</td><td>0</td></tr>\n",
       "\t<tr><td>Affx-34494619</td><td>X</td><td>C</td><td>G</td><td>0.767836</td><td>0.001820320</td><td>0</td><td>0</td></tr>\n",
       "</tbody>\n",
       "</table>\n"
      ],
      "text/latex": [
       "A data.table: 6 × 8\n",
       "\\begin{tabular}{llllllll}\n",
       " SNP & CHR & A1 & A2 & MAF & F\\_MISS & LD & keep\\\\\n",
       " <chr> & <chr> & <chr> & <chr> & <dbl> & <dbl> & <int> & <int>\\\\\n",
       "\\hline\n",
       "\t Affx-34464730 & X & A & G & 0.821453 & 0.000683898 & 0 & 0\\\\\n",
       "\t Affx-34470541 & X & T & G & 0.998817 & 0.001566410 & 1 & 1\\\\\n",
       "\t Affx-34480971 & X & A & C & 0.987194 & 0.010207300 & 1 & 1\\\\\n",
       "\t Affx-34492707 & X & T & C & 0.988038 & 0.002023030 & 1 & 1\\\\\n",
       "\t Affx-34492709 & X & G & A & 0.224857 & 0.000788325 & 0 & 0\\\\\n",
       "\t Affx-34494619 & X & C & G & 0.767836 & 0.001820320 & 0 & 0\\\\\n",
       "\\end{tabular}\n"
      ],
      "text/markdown": [
       "\n",
       "A data.table: 6 × 8\n",
       "\n",
       "| SNP &lt;chr&gt; | CHR &lt;chr&gt; | A1 &lt;chr&gt; | A2 &lt;chr&gt; | MAF &lt;dbl&gt; | F_MISS &lt;dbl&gt; | LD &lt;int&gt; | keep &lt;int&gt; |\n",
       "|---|---|---|---|---|---|---|---|\n",
       "| Affx-34464730 | X | A | G | 0.821453 | 0.000683898 | 0 | 0 |\n",
       "| Affx-34470541 | X | T | G | 0.998817 | 0.001566410 | 1 | 1 |\n",
       "| Affx-34480971 | X | A | C | 0.987194 | 0.010207300 | 1 | 1 |\n",
       "| Affx-34492707 | X | T | C | 0.988038 | 0.002023030 | 1 | 1 |\n",
       "| Affx-34492709 | X | G | A | 0.224857 | 0.000788325 | 0 | 0 |\n",
       "| Affx-34494619 | X | C | G | 0.767836 | 0.001820320 | 0 | 0 |\n",
       "\n"
      ],
      "text/plain": [
       "  SNP           CHR A1 A2 MAF      F_MISS      LD keep\n",
       "1 Affx-34464730 X   A  G  0.821453 0.000683898 0  0   \n",
       "2 Affx-34470541 X   T  G  0.998817 0.001566410 1  1   \n",
       "3 Affx-34480971 X   A  C  0.987194 0.010207300 1  1   \n",
       "4 Affx-34492707 X   T  C  0.988038 0.002023030 1  1   \n",
       "5 Affx-34492709 X   G  A  0.224857 0.000788325 0  0   \n",
       "6 Affx-34494619 X   C  G  0.767836 0.001820320 0  0   "
      ]
     },
     "metadata": {},
     "output_type": "display_data"
    }
   ],
   "source": [
    "# what are the X tables\n",
    "Xqc %>% head()"
   ]
  },
  {
   "cell_type": "code",
   "execution_count": 31,
   "metadata": {},
   "outputs": [
    {
     "data": {
      "text/html": [
       "<table>\n",
       "<caption>A data.table: 6 × 6</caption>\n",
       "<thead>\n",
       "\t<tr><th scope=col>CHR</th><th scope=col>ID</th><th scope=col>dist</th><th scope=col>pos</th><th scope=col>A1</th><th scope=col>A2</th></tr>\n",
       "\t<tr><th scope=col>&lt;int&gt;</th><th scope=col>&lt;chr&gt;</th><th scope=col>&lt;int&gt;</th><th scope=col>&lt;int&gt;</th><th scope=col>&lt;chr&gt;</th><th scope=col>&lt;chr&gt;</th></tr>\n",
       "</thead>\n",
       "<tbody>\n",
       "\t<tr><td>23</td><td>rs60075487   </td><td>0</td><td>2699676</td><td>G</td><td>A </td></tr>\n",
       "\t<tr><td>23</td><td>rs2306736    </td><td>0</td><td>2700027</td><td>T</td><td>C </td></tr>\n",
       "\t<tr><td>23</td><td>Affx-92044070</td><td>0</td><td>2700151</td><td>A</td><td>AT</td></tr>\n",
       "\t<tr><td>23</td><td>rs5939320    </td><td>0</td><td>2700202</td><td>A</td><td>G </td></tr>\n",
       "\t<tr><td>23</td><td>rs146462965  </td><td>0</td><td>2700972</td><td>C</td><td>T </td></tr>\n",
       "\t<tr><td>23</td><td>rs1970797    </td><td>0</td><td>2701185</td><td>C</td><td>T </td></tr>\n",
       "</tbody>\n",
       "</table>\n"
      ],
      "text/latex": [
       "A data.table: 6 × 6\n",
       "\\begin{tabular}{llllll}\n",
       " CHR & ID & dist & pos & A1 & A2\\\\\n",
       " <int> & <chr> & <int> & <int> & <chr> & <chr>\\\\\n",
       "\\hline\n",
       "\t 23 & rs60075487    & 0 & 2699676 & G & A \\\\\n",
       "\t 23 & rs2306736     & 0 & 2700027 & T & C \\\\\n",
       "\t 23 & Affx-92044070 & 0 & 2700151 & A & AT\\\\\n",
       "\t 23 & rs5939320     & 0 & 2700202 & A & G \\\\\n",
       "\t 23 & rs146462965   & 0 & 2700972 & C & T \\\\\n",
       "\t 23 & rs1970797     & 0 & 2701185 & C & T \\\\\n",
       "\\end{tabular}\n"
      ],
      "text/markdown": [
       "\n",
       "A data.table: 6 × 6\n",
       "\n",
       "| CHR &lt;int&gt; | ID &lt;chr&gt; | dist &lt;int&gt; | pos &lt;int&gt; | A1 &lt;chr&gt; | A2 &lt;chr&gt; |\n",
       "|---|---|---|---|---|---|\n",
       "| 23 | rs60075487    | 0 | 2699676 | G | A  |\n",
       "| 23 | rs2306736     | 0 | 2700027 | T | C  |\n",
       "| 23 | Affx-92044070 | 0 | 2700151 | A | AT |\n",
       "| 23 | rs5939320     | 0 | 2700202 | A | G  |\n",
       "| 23 | rs146462965   | 0 | 2700972 | C | T  |\n",
       "| 23 | rs1970797     | 0 | 2701185 | C | T  |\n",
       "\n"
      ],
      "text/plain": [
       "  CHR ID            dist pos     A1 A2\n",
       "1 23  rs60075487    0    2699676 G  A \n",
       "2 23  rs2306736     0    2700027 T  C \n",
       "3 23  Affx-92044070 0    2700151 A  AT\n",
       "4 23  rs5939320     0    2700202 A  G \n",
       "5 23  rs146462965   0    2700972 C  T \n",
       "6 23  rs1970797     0    2701185 C  T "
      ]
     },
     "metadata": {},
     "output_type": "display_data"
    }
   ],
   "source": [
    "xchr_bim %>% head()\n",
    "\n",
    "# what flipfix does:\n",
    "# Check and make sure the REF/ALT alleles in GWAS results corresponds to A1/A2 alleles in UKBB bim file\n"
   ]
  },
  {
   "cell_type": "code",
   "execution_count": 40,
   "metadata": {},
   "outputs": [
    {
     "ename": "ERROR",
     "evalue": "Error in eval(lhs, parent, parent): object 'xchr' not found\n",
     "output_type": "error",
     "traceback": [
      "Error in eval(lhs, parent, parent): object 'xchr' not found\nTraceback:\n",
      "1. xchr %>% head()",
      "2. eval(lhs, parent, parent)",
      "3. eval(lhs, parent, parent)"
     ]
    }
   ],
   "source": [
    "xchr %>% head()"
   ]
  },
  {
   "cell_type": "code",
   "execution_count": 44,
   "metadata": {},
   "outputs": [
    {
     "data": {
      "text/plain": [
       "\n",
       " TRUE \n",
       "18857 "
      ]
     },
     "metadata": {},
     "output_type": "display_data"
    }
   ],
   "source": [
    "df <- x_chr %>% left_join(xchr_bim, by=c(\"ID\"))\n",
    "table(df$REF==df$A1.y) # OK so this does match -- so the issue is that the MAF data that we have is backward"
   ]
  },
  {
   "cell_type": "code",
   "execution_count": 46,
   "metadata": {},
   "outputs": [],
   "source": [
    "Xqc_v2 <- Xqc %>% mutate(MAF=1-MAF, REF=A2, ALT=A1)"
   ]
  },
  {
   "cell_type": "code",
   "execution_count": 47,
   "metadata": {},
   "outputs": [],
   "source": [
    "XYqc_v2 <- XYqc %>% mutate(MAF=1-MAF, REF=A2, ALT=A1)"
   ]
  },
  {
   "cell_type": "code",
   "execution_count": 50,
   "metadata": {},
   "outputs": [
    {
     "data": {
      "text/plain": [
       "\n",
       "FALSE  TRUE \n",
       "16281  2576 "
      ]
     },
     "metadata": {},
     "output_type": "display_data"
    }
   ],
   "source": [
    "table(Xqc_v2$MAF > 0.5)"
   ]
  },
  {
   "cell_type": "code",
   "execution_count": 53,
   "metadata": {},
   "outputs": [
    {
     "data": {
      "text/plain": [
       "\n",
       "FALSE  TRUE \n",
       " 1660 11308 "
      ]
     },
     "metadata": {},
     "output_type": "display_data"
    }
   ],
   "source": [
    "table(chr22_f$ALT_FREQS > 0.5)"
   ]
  },
  {
   "cell_type": "code",
   "execution_count": 54,
   "metadata": {},
   "outputs": [],
   "source": [
    "var_tab <- fread(\"/oak/stanford/groups/mrivas/private_data/ukbb/variant_filtering/variant_filter_table.tsv.gz\")"
   ]
  },
  {
   "cell_type": "code",
   "execution_count": 57,
   "metadata": {},
   "outputs": [],
   "source": [
    "var_tab2 <- var_tab %>% select(CHROM, POS, REF, ALT, ID, maf)"
   ]
  },
  {
   "cell_type": "code",
   "execution_count": 58,
   "metadata": {},
   "outputs": [
    {
     "data": {
      "text/plain": [
       "\n",
       " FALSE \n",
       "784256 "
      ]
     },
     "metadata": {},
     "output_type": "display_data"
    }
   ],
   "source": [
    "table(var_tab2$maf > 0.5)"
   ]
  },
  {
   "cell_type": "code",
   "execution_count": null,
   "metadata": {},
   "outputs": [],
   "source": []
  }
 ],
 "metadata": {
  "kernelspec": {
   "display_name": "R",
   "language": "R",
   "name": "ir"
  },
  "language_info": {
   "codemirror_mode": "r",
   "file_extension": ".r",
   "mimetype": "text/x-r-source",
   "name": "R",
   "pygments_lexer": "r",
   "version": "3.5.1"
  }
 },
 "nbformat": 4,
 "nbformat_minor": 2
}
