{
 "cells": [
  {
   "cell_type": "code",
   "execution_count": 1,
   "metadata": {},
   "outputs": [
    {
     "name": "stderr",
     "output_type": "stream",
     "text": [
      "Loading required package: rstan\n",
      "\n",
      "Loading required package: StanHeaders\n",
      "\n",
      "Loading required package: ggplot2\n",
      "\n",
      "rstan (Version 2.19.3, GitRev: 2e1f913d3ca3)\n",
      "\n",
      "For execution on a local, multicore CPU with excess RAM we recommend calling\n",
      "options(mc.cores = parallel::detectCores()).\n",
      "To avoid recompilation of unchanged Stan programs, we recommend calling\n",
      "rstan_options(auto_write = TRUE)\n",
      "\n",
      "Loading required package: loo\n",
      "\n",
      "This is loo version 2.2.0\n",
      "\n",
      "- Online documentation and vignettes at mc-stan.org/loo\n",
      "\n",
      "- As of v2.0.0 loo defaults to 1 core but we recommend using as many as possible. Use the 'cores' argument or set options(mc.cores = NUM_CORES) for an entire session. \n",
      "\n",
      "\n",
      "Attaching package: ‘loo’\n",
      "\n",
      "\n",
      "The following object is masked from ‘package:rstan’:\n",
      "\n",
      "    loo\n",
      "\n",
      "\n"
     ]
    }
   ],
   "source": [
    "require('rstan')\n",
    "require('loo')\n",
    "require('tictoc')"
   ]
  },
  {
   "cell_type": "code",
   "execution_count": 2,
   "metadata": {},
   "outputs": [
    {
     "name": "stderr",
     "output_type": "stream",
     "text": [
      "Loading required package: MASS\n",
      "\n",
      "Loading required package: Matrix\n",
      "\n",
      "Loading required package: mnormt\n",
      "\n",
      "Loading required package: qqman\n",
      "\n",
      "\n",
      "\n",
      "For example usage please run: vignette('qqman')\n",
      "\n",
      "\n",
      "\n",
      "Citation appreciated but not required:\n",
      "\n",
      "Turner, S.D. qqman: an R package for visualizing GWAS results using Q-Q and manhattan plots. biorXiv DOI: 10.1101/005165 (2014).\n",
      "\n",
      "\n",
      "\n"
     ]
    }
   ],
   "source": [
    "source(\"../model_utils.R\")\n",
    "source(\"../heritability_utils.R\")\n",
    "source(\"../snp_utils.R\")\n",
    "DATA.DIR <- \"../../../data/toy_run/\""
   ]
  },
  {
   "cell_type": "code",
   "execution_count": 7,
   "metadata": {},
   "outputs": [],
   "source": [
    "load(sprintf(\"%s/dat_Test_chr22.RData\", DATA.DIR))\n",
    "miceadds::load.Rdata(sprintf(\"%s/m2/f_m2_Test_chr22_ll.RData\", DATA.DIR), \"fit2\")\n",
    "miceadds::load.Rdata(sprintf(\"%s/m2/f_alt_m2_Test_chr22_ll.RData\", DATA.DIR), \"fit2_alt\")"
   ]
  },
  {
   "cell_type": "code",
   "execution_count": 15,
   "metadata": {},
   "outputs": [],
   "source": [
    "log_lik1 <- extract_log_lik(fit2)\n",
    "log_lik2 <- extract_log_lik(fit2_alt)\n"
   ]
  },
  {
   "cell_type": "code",
   "execution_count": 30,
   "metadata": {},
   "outputs": [
    {
     "name": "stderr",
     "output_type": "stream",
     "text": [
      "Warning message:\n",
      "“Relative effective sample sizes ('r_eff' argument) not specified.\n",
      "For models fit with MCMC, the reported PSIS effective sample sizes and \n",
      "MCSE estimates will be over-optimistic.”\n",
      "Warning message:\n",
      "“Some Pareto k diagnostic values are slightly high. See help('pareto-k-diagnostic') for details.\n",
      "”\n"
     ]
    },
    {
     "name": "stdout",
     "output_type": "stream",
     "text": [
      "\n",
      "Computed from 1600 by 5548 log-likelihood matrix\n",
      "\n",
      "         Estimate    SE\n",
      "elpd_loo  32305.5 153.3\n",
      "p_loo         9.7   2.0\n",
      "looic    -64611.0 306.7\n",
      "------\n",
      "Monte Carlo SE of elpd_loo is 0.1.\n",
      "\n",
      "Pareto k diagnostic values:\n",
      "                         Count Pct.    Min. n_eff\n",
      "(-Inf, 0.5]   (good)     5546  100.0%  734       \n",
      " (0.5, 0.7]   (ok)          2    0.0%  334       \n",
      "   (0.7, 1]   (bad)         0    0.0%  <NA>      \n",
      "   (1, Inf)   (very bad)    0    0.0%  <NA>      \n",
      "\n",
      "All Pareto k estimates are ok (k < 0.7).\n",
      "See help('pareto-k-diagnostic') for details.\n"
     ]
    },
    {
     "name": "stderr",
     "output_type": "stream",
     "text": [
      "Warning message:\n",
      "“Relative effective sample sizes ('r_eff' argument) not specified.\n",
      "For models fit with MCMC, the reported PSIS effective sample sizes and \n",
      "MCSE estimates will be over-optimistic.”\n"
     ]
    },
    {
     "name": "stdout",
     "output_type": "stream",
     "text": [
      "\n",
      "Computed from 1600 by 5548 log-likelihood matrix\n",
      "\n",
      "         Estimate    SE\n",
      "elpd_loo  32247.5 158.2\n",
      "p_loo         1.8   1.1\n",
      "looic    -64494.9 316.5\n",
      "------\n",
      "Monte Carlo SE of elpd_loo is 0.0.\n",
      "\n",
      "All Pareto k estimates are good (k < 0.5).\n",
      "See help('pareto-k-diagnostic') for details.\n"
     ]
    },
    {
     "name": "stderr",
     "output_type": "stream",
     "text": [
      "Warning message:\n",
      "“'compare' is deprecated.\n",
      "Use 'loo_compare' instead.\n",
      "See help(\"Deprecated\")”\n"
     ]
    },
    {
     "name": "stdout",
     "output_type": "stream",
     "text": [
      "elpd_diff        se \n",
      "    -58.0      14.4 \n"
     ]
    }
   ],
   "source": [
    "loo_1 <- loo(log_lik1)\n",
    "print(loo_1)\n",
    "\n",
    "loo_2 <- loo(log_lik2)\n",
    "print(loo_2)\n",
    "\n",
    "\n",
    "# comparing 2 vs 4 model on data generated from 4 components\n",
    "\n",
    "diff <- compare(loo_1, loo_2)\n",
    "print(diff)"
   ]
  },
  {
   "cell_type": "code",
   "execution_count": null,
   "metadata": {
    "collapsed": true
   },
   "outputs": [],
   "source": [
    "# NEGATIVE DIFFERENCE INDICATES PREFERENCE FOR FIRST (FULL) MODEL"
   ]
  },
  {
   "cell_type": "code",
   "execution_count": 17,
   "metadata": {},
   "outputs": [
    {
     "name": "stdout",
     "output_type": "stream",
     "text": [
      "elpd_diff        se \n",
      "    -41.9      20.6 \n"
     ]
    }
   ],
   "source": [
    "waic_1 <- waic(log_lik1) \n",
    "waic_2 <- waic(log_lik2) \n",
    "waic_diff <- compare(waic_1, waic_2)\n",
    "print(waic_diff)"
   ]
  },
  {
   "cell_type": "code",
   "execution_count": 31,
   "metadata": {},
   "outputs": [],
   "source": [
    "# can we load this with the full M1 or is it a shitshow? -- note this takes forever to load!\n",
    "miceadds::load.Rdata(sprintf(\"../../../data/m1/f_Testosterone_ll.RData\", DATA.DIR), \"fit1\")"
   ]
  },
  {
   "cell_type": "code",
   "execution_count": null,
   "metadata": {},
   "outputs": [],
   "source": [
    "tic()\n",
    "log_lik_m1 <- extract_log_lik(fit1)\n",
    "toc()"
   ]
  },
  {
   "cell_type": "code",
   "execution_count": null,
   "metadata": {},
   "outputs": [],
   "source": []
  },
  {
   "cell_type": "code",
   "execution_count": null,
   "metadata": {},
   "outputs": [],
   "source": [
    "loo_m1 <- loo(log_lik_m1)\n",
    "print(loo_m1)\n",
    "waic_m1 <- waic(log_lik_m1) \n"
   ]
  },
  {
   "cell_type": "code",
   "execution_count": null,
   "metadata": {},
   "outputs": [],
   "source": [
    "# play with the idea of downsampling"
   ]
  }
 ],
 "metadata": {
  "kernelspec": {
   "display_name": "R",
   "language": "R",
   "name": "ir"
  },
  "language_info": {
   "codemirror_mode": "r",
   "file_extension": ".r",
   "mimetype": "text/x-r-source",
   "name": "R",
   "pygments_lexer": "r",
   "version": "3.5.1"
  }
 },
 "nbformat": 4,
 "nbformat_minor": 2
}
