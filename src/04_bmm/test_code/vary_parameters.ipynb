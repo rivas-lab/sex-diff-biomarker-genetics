{
 "cells": [
  {
   "cell_type": "code",
   "execution_count": null,
   "metadata": {},
   "outputs": [],
   "source": [
    "# Code for varying parameters\n"
   ]
  },
  {
   "cell_type": "code",
   "execution_count": 9,
   "metadata": {},
   "outputs": [],
   "source": [
    "model_dir <- \"../../../tmp_models/\""
   ]
  },
  {
   "cell_type": "code",
   "execution_count": 1,
   "metadata": {},
   "outputs": [],
   "source": [
    "m2_params_list <- list(\n",
    "    \"1\" =list(\"gamma\"=list(1,1), \"beta\"=list(1,1,1,1)),\n",
    "    \"2\" =list(\"gamma\"=list(1,1), \"beta\"=list(5,5,5,5)),\n",
    "    \"3\" =list(\"gamma\"=list(0.1, 0.1), \"beta\"=list(1,1,1,1)),\n",
    "    \"4\" =list(\"gamma\"=list(1,1), \"beta\"=list(5, 1, 1, 1)),\n",
    "    \"5\" =list(\"gamma\"=list(1,1), \"beta\"=list(5, 2, 2, 1)),\n",
    "    \"6\" =list(\"gamma\"=list(1,1), \"beta\"=list(2, 2, 2, 1)),\n",
    "    \"7\" =list(\"gamma\"=list(1,1), \"beta\"=list(1, 1, 1, 2)),\n",
    "    \"8\" =list(\"gamma\"=list(0.1, 0.1), \"beta\"=list(5,5,5,5))\n",
    "\n",
    ")\n",
    "\n",
    "m1_params_list <- list(\n",
    "    \"1\"=list(\"tau\"=2.5, \"lkj\"=2, \"beta\"=list(1,1)),\n",
    "    \"2\"=list(\"tau\"=2.5, \"lkj\"=2, \"beta\"=list(5,5)),\n",
    "     \"3\"=list(\"tau\"=2.5, \"lkj\"=2, \"beta\"=list(2,2)),\n",
    "     \"4\"=list(\"tau\"=2.5, \"lkj\"=2, \"beta\"=list(1,5)),\n",
    "     \"5\"=list(\"tau\"=2.5, \"lkj\"=2, \"beta\"=list(5,1)),\n",
    "     \"6\"=list(\"tau\"=2.5, \"lkj\"=0.5, \"beta\"=list(1,1)),\n",
    "     \"7\"=list(\"tau\"=2.5, \"lkj\"=1, \"beta\"=list(1,1)),\n",
    "     \"8\"=list(\"tau\"=2.5, \"lkj\"=1.5, \"beta\"=list(1,1)),\n",
    "     \"9\"=list(\"tau\"=2.5, \"lkj\"=2, \"beta\"=list(1,1)),\n",
    "     \"10\"=list(\"tau\"=2.5, \"lkj\"=2.5, \"beta\"=list(1,1)),\n",
    "     \"11\"=list(\"tau\"=2.5, \"lkj\"=3, \"beta\"=list(1,1)),\n",
    "    \"12\"=list(\"tau\"=0.5, \"lkj\"=2, \"beta\"=list(1,1)),\n",
    "     \"13\"=list(\"tau\"=25, \"lkj\"=2, \"beta\"=list(1,1))\n",
    ")"
   ]
  },
  {
   "cell_type": "code",
   "execution_count": 55,
   "metadata": {},
   "outputs": [],
   "source": [
    "write_m1_text <- function(params, param_id) {\n",
    "    tau <- params$tau\n",
    "    lkj <- params$lkj\n",
    "    beta <- params$beta\n",
    "    m1_text <- sprintf(\"data {\n",
    "    int<lower=0> N; \n",
    "    int<lower=1> M; \n",
    "    matrix[N, M] B; \n",
    "    matrix[N, M] SE; \n",
    "    int<lower=1> K; \n",
    "}\n",
    "transformed data{\n",
    "    vector[M] zeros;\n",
    "    matrix[M,M] SE_mat[N];\n",
    "    vector[2] dl;\n",
    "\n",
    "    zeros = rep_vector(0, M);\n",
    "\n",
    "    dl[1] = %s;\n",
    "    dl[2] = %s;\n",
    "    for (n in 1:N) {\n",
    "        SE_mat[n] = diag_matrix(to_vector(SE[n]));\n",
    "    }\n",
    "}\n",
    "\n",
    "parameters {\n",
    "    simplex[K] pi; // mixing proportions\n",
    "    cholesky_factor_corr[M] L_Omega;\n",
    "    vector<lower=0>[M] tau;\n",
    "}\n",
    "\n",
    "transformed parameters{\n",
    "    matrix[M, M] Sigma;\n",
    "    matrix[M, M] Sigmas[K];\n",
    "    Sigma = diag_pre_multiply(tau, L_Omega)*diag_pre_multiply(tau, L_Omega)';\n",
    "\n",
    "    Sigmas[1] = diag_matrix(rep_vector(0,M));\n",
    "    Sigmas[2] = Sigma;\n",
    "}\n",
    "\n",
    "model {\n",
    "    vector[K] ps; // contributions of each\n",
    "\n",
    "    tau ~ cauchy(0, %s);\n",
    "    L_Omega ~ lkj_corr_cholesky(%s);\n",
    "    pi ~ dirichlet(dl);\n",
    "\n",
    "    for (n in 1:N){\n",
    "       // two components\n",
    "       for (k in 1:K){\n",
    "           ps[k] = log(pi[k]) + multi_normal_lpdf(B[n] | zeros, SE_mat[n] + Sigmas[k]);\n",
    "       }\n",
    "       target += log_sum_exp(ps);\n",
    "\n",
    "     }\n",
    "}\n",
    "\n",
    "generated quantities {\n",
    "    vector[K] ps;\n",
    "    vector[N] log_lik;\n",
    "    matrix[M,M] Omegacor;\n",
    "\n",
    "    Omegacor = multiply_lower_tri_self_transpose(L_Omega);\n",
    "    \n",
    "    for (n in 1:N){\n",
    "        for (k in 1:K){\n",
    "           ps[k] = log(pi[k]) + multi_normal_lpdf(B[n] | zeros, SE_mat[n] + Sigmas[k]);\n",
    "        }\n",
    "        log_lik[n] = log_sum_exp(ps);\n",
    "    }\n",
    "}\n",
    "\",  beta[1], beta[2], tau, lkj)\n",
    "    print(m1_text)\n",
    "    sink(sprintf(\"%s/m1_%s.stan\", model_dir, param_id))\n",
    "    cat(m1_text)\n",
    "    sink()\n",
    "    }"
   ]
  },
  {
   "cell_type": "code",
   "execution_count": 51,
   "metadata": {},
   "outputs": [],
   "source": [
    "write_m2_text <- function(params, param_id) {\n",
    "    gamma <- params$gamma\n",
    "    beta <- params$beta\n",
    "\n",
    "    m2_text <- sprintf(\"data {\n",
    "    int<lower=1> K; \n",
    "    int<lower=1> N; \n",
    "    int<lower=1> M; \n",
    "\n",
    "    matrix[N, M] B; \n",
    "    matrix[N, M] SE;\n",
    "}\n",
    "\n",
    "transformed data{\n",
    "    vector[M] zeros; \n",
    "    vector[4] dl;\n",
    "\n",
    "    zeros = rep_vector(0, M);\n",
    "    dl[1] = %s;\n",
    "    dl[2] = %s;\n",
    "    dl[3] = %s;\n",
    "    dl[4] = %s;\n",
    "}\n",
    "\n",
    "\n",
    "parameters {\n",
    "    simplex[K] pi; \n",
    "    vector<lower=0>[4] sigmasq;\n",
    "\n",
    "}\n",
    "transformed parameters{\n",
    "\n",
    "    matrix[M,M] Sigma[K];\n",
    "    vector[2] a;\n",
    "    vector[2] b;\n",
    "    vector[2] c;\n",
    "\n",
    "    a[1] = sigmasq[1];\n",
    "    a[2] = 0.0;\n",
    "    b[1] = 0.0;\n",
    "    b[2] = sigmasq[2];\n",
    "    c[1] = sigmasq[3];\n",
    "    c[2] = sigmasq[4];\n",
    "\n",
    "    Sigma[1] = diag_matrix(rep_vector(0,2));\n",
    "    Sigma[2] = diag_matrix(a);\n",
    "    Sigma[3] = diag_matrix(b);\n",
    "    Sigma[4] = diag_matrix(c);\n",
    "\n",
    "\n",
    "\n",
    "}\n",
    "\n",
    "\n",
    "model {\n",
    "    vector[K] ps; \n",
    "\n",
    "\n",
    "    sigmasq ~ inv_gamma(%s,%s);\n",
    "    pi ~ dirichlet(dl); \n",
    "\n",
    "    for (n in 1:N){\n",
    "        for (k in 1:K){\n",
    "            ps[k]  = log(pi[k]) + multi_normal_lpdf(B[n] | zeros, diag_matrix(to_vector(SE[n])) + Sigma[k]);\n",
    "        }\n",
    "        target += log_sum_exp(ps);\n",
    "    }\n",
    "}\n",
    "\",  beta[1], beta[2], beta[3], beta[4], gamma[1], gamma[2])\n",
    "    \n",
    "    print(m2_text)\n",
    "    \n",
    "    sink(sprintf(\"%s/m2_%s.stan\", model_dir, param_id))\n",
    "    cat(m2_text, append=TRUE)\n",
    "    sink()\n",
    "    }"
   ]
  },
  {
   "cell_type": "code",
   "execution_count": null,
   "metadata": {},
   "outputs": [],
   "source": [
    "runM2 <- function(param_id){\n",
    "    \n",
    "    dat <- loadDat(trait)\n",
    "    dat$dat$K <- 4\n",
    "    params <- m2_param_list[param_id]\n",
    "    write_m2(params, param_id)\n",
    "    options(mc.cores = parallel::detectCores())\n",
    "    rstan_options(auto_write = TRUE)\n",
    "    fit2 <- stan(file=sprintf(\"%s/m2_%s.stan\", model_dir, param_id),  \n",
    "            data = dat$dat,    \n",
    "            chains = 4, warmup =200, iter = 600, cores = 4, refresh = 200)\n",
    "  \n",
    "    print(fit2, pars=c(\"sigmasq\", \"pi\", \"Sigma\"), probs=c(0.025, 0.5, 0.975), digits_summary=5)\n",
    "    print(\"SAVING\")\n",
    "    rm(dat)\n",
    "    save(fit2, file=sprintf(\"%s/m2/f_m2_%s_ll_%s.RData\", out_dir, trait, param_id))\n",
    "}"
   ]
  },
  {
   "cell_type": "code",
   "execution_count": 56,
   "metadata": {},
   "outputs": [
    {
     "name": "stdout",
     "output_type": "stream",
     "text": [
      "[1] \"data {\\n    int<lower=0> N; \\n    int<lower=1> M; \\n    matrix[N, M] B; \\n    matrix[N, M] SE; \\n    int<lower=1> K; \\n}\\ntransformed data{\\n    vector[M] zeros;\\n    matrix[M,M] SE_mat[N];\\n    vector[2] dl;\\n\\n    zeros = rep_vector(0, M);\\n\\n    dl[1] = 2;\\n    dl[2] = 2;\\n    for (n in 1:N) {\\n        SE_mat[n] = diag_matrix(to_vector(SE[n]));\\n    }\\n}\\n\\nparameters {\\n    simplex[K] pi; // mixing proportions\\n    cholesky_factor_corr[M] L_Omega;\\n    vector<lower=0>[M] tau;\\n}\\n\\ntransformed parameters{\\n    matrix[M, M] Sigma;\\n    matrix[M, M] Sigmas[K];\\n    Sigma = diag_pre_multiply(tau, L_Omega)*diag_pre_multiply(tau, L_Omega)';\\n\\n    Sigmas[1] = diag_matrix(rep_vector(0,M));\\n    Sigmas[2] = Sigma;\\n}\\n\\nmodel {\\n    vector[K] ps; // contributions of each\\n\\n    tau ~ cauchy(0, 2.5);\\n    L_Omega ~ lkj_corr_cholesky(2);\\n    pi ~ dirichlet(dl);\\n\\n    for (n in 1:N){\\n       // two components\\n       for (k in 1:K){\\n           ps[k] = log(pi[k]) + multi_normal_lpdf(B[n] | zeros, SE_mat[n] + Sigmas[k]);\\n       }\\n       target += log_sum_exp(ps);\\n\\n     }\\n}\\n\\ngenerated quantities {\\n    vector[K] ps;\\n    vector[N] log_lik;\\n    matrix[M,M] Omegacor;\\n\\n    Omegacor = multiply_lower_tri_self_transpose(L_Omega);\\n    \\n    for (n in 1:N){\\n        for (k in 1:K){\\n           ps[k] = log(pi[k]) + multi_normal_lpdf(B[n] | zeros, SE_mat[n] + Sigmas[k]);\\n        }\\n        log_lik[n] = log_sum_exp(ps);\\n    }\\n}\\n\"\n"
     ]
    }
   ],
   "source": [
    "write_m1_text(m1_params_list[[\"3\"]], \"3\")"
   ]
  },
  {
   "cell_type": "code",
   "execution_count": 35,
   "metadata": {},
   "outputs": [
    {
     "data": {
      "text/html": [
       "<dl>\n",
       "\t<dt>$gamma</dt>\n",
       "\t\t<dd><ol>\n",
       "\t<li>0.1</li>\n",
       "\t<li>0.1</li>\n",
       "</ol>\n",
       "</dd>\n",
       "\t<dt>$beta</dt>\n",
       "\t\t<dd><ol>\n",
       "\t<li>1</li>\n",
       "\t<li>1</li>\n",
       "\t<li>1</li>\n",
       "\t<li>1</li>\n",
       "</ol>\n",
       "</dd>\n",
       "</dl>\n"
      ],
      "text/latex": [
       "\\begin{description}\n",
       "\\item[\\$gamma] \\begin{enumerate}\n",
       "\\item 0.1\n",
       "\\item 0.1\n",
       "\\end{enumerate}\n",
       "\n",
       "\\item[\\$beta] \\begin{enumerate}\n",
       "\\item 1\n",
       "\\item 1\n",
       "\\item 1\n",
       "\\item 1\n",
       "\\end{enumerate}\n",
       "\n",
       "\\end{description}\n"
      ],
      "text/markdown": [
       "$gamma\n",
       ":   1. 0.1\n",
       "2. 0.1\n",
       "\n",
       "\n",
       "\n",
       "$beta\n",
       ":   1. 1\n",
       "2. 1\n",
       "3. 1\n",
       "4. 1\n",
       "\n",
       "\n",
       "\n",
       "\n",
       "\n"
      ],
      "text/plain": [
       "$gamma\n",
       "$gamma[[1]]\n",
       "[1] 0.1\n",
       "\n",
       "$gamma[[2]]\n",
       "[1] 0.1\n",
       "\n",
       "\n",
       "$beta\n",
       "$beta[[1]]\n",
       "[1] 1\n",
       "\n",
       "$beta[[2]]\n",
       "[1] 1\n",
       "\n",
       "$beta[[3]]\n",
       "[1] 1\n",
       "\n",
       "$beta[[4]]\n",
       "[1] 1\n",
       "\n"
      ]
     },
     "metadata": {},
     "output_type": "display_data"
    }
   ],
   "source": [
    "m2_params_list[[\"3\"]]"
   ]
  },
  {
   "cell_type": "code",
   "execution_count": 52,
   "metadata": {},
   "outputs": [
    {
     "name": "stdout",
     "output_type": "stream",
     "text": [
      "[1] \"data {\\n    int<lower=1> K; \\n    int<lower=1> N; \\n    int<lower=1> M; \\n\\n    matrix[N, M] B; \\n    matrix[N, M] SE;\\n}\\n\\ntransformed data{\\n    vector[M] zeros; \\n    vector[4] dl;\\n\\n    zeros = rep_vector(0, M);\\n    dl[1] = 1;\\n    dl[2] = 1;\\n    dl[3] = 1;\\n    dl[4] = 1;\\n}\\n\\n\\nparameters {\\n    simplex[K] pi; \\n    vector<lower=0>[4] sigmasq;\\n\\n}\\ntransformed parameters{\\n\\n    matrix[M,M] Sigma[K];\\n    vector[2] a;\\n    vector[2] b;\\n    vector[2] c;\\n\\n    a[1] = sigmasq[1];\\n    a[2] = 0.0;\\n    b[1] = 0.0;\\n    b[2] = sigmasq[2];\\n    c[1] = sigmasq[3];\\n    c[2] = sigmasq[4];\\n\\n    Sigma[1] = diag_matrix(rep_vector(0,2));\\n    Sigma[2] = diag_matrix(a);\\n    Sigma[3] = diag_matrix(b);\\n    Sigma[4] = diag_matrix(c);\\n\\n\\n\\n}\\n\\n\\nmodel {\\n    vector[K] ps; \\n\\n\\n    sigmasq ~ inv_gamma(0.1,0.1);\\n    pi ~ dirichlet(dl); \\n\\n    for (n in 1:N){\\n        for (k in 1:K){\\n            ps[k]  = log(pi[k]) + multi_normal_lpdf(B[n] | zeros, diag_matrix(to_vector(SE[n])) + Sigma[k]);\\n        }\\n        target += log_sum_exp(ps);\\n    }\\n}\\n\"\n"
     ]
    }
   ],
   "source": [
    "write_m2_text(m2_params_list[[\"3\"]], \"3\")"
   ]
  },
  {
   "cell_type": "code",
   "execution_count": 15,
   "metadata": {},
   "outputs": [],
   "source": [
    "load(sprintf(\"../../../data/toy_run/dat_Test_chr22.RData\"))"
   ]
  },
  {
   "cell_type": "code",
   "execution_count": 17,
   "metadata": {},
   "outputs": [
    {
     "name": "stderr",
     "output_type": "stream",
     "text": [
      "Loading required package: rstan\n",
      "\n",
      "Loading required package: StanHeaders\n",
      "\n",
      "Loading required package: ggplot2\n",
      "\n",
      "rstan (Version 2.19.3, GitRev: 2e1f913d3ca3)\n",
      "\n",
      "For execution on a local, multicore CPU with excess RAM we recommend calling\n",
      "options(mc.cores = parallel::detectCores()).\n",
      "To avoid recompilation of unchanged Stan programs, we recommend calling\n",
      "rstan_options(auto_write = TRUE)\n",
      "\n"
     ]
    }
   ],
   "source": [
    "require('rstan')"
   ]
  },
  {
   "cell_type": "code",
   "execution_count": 57,
   "metadata": {},
   "outputs": [
    {
     "name": "stdout",
     "output_type": "stream",
     "text": [
      "\n",
      "SAMPLING FOR MODEL 'm1_3' NOW (CHAIN 1).\n",
      "Chain 1: \n",
      "Chain 1: Gradient evaluation took 0.03 seconds\n",
      "Chain 1: 1000 transitions using 10 leapfrog steps per transition would take 300 seconds.\n",
      "Chain 1: Adjust your expectations accordingly!\n",
      "Chain 1: \n",
      "Chain 1: \n",
      "Chain 1: Iteration:   1 / 600 [  0%]  (Warmup)\n",
      "Chain 1: Iteration: 200 / 600 [ 33%]  (Warmup)\n",
      "Chain 1: Iteration: 201 / 600 [ 33%]  (Sampling)\n",
      "Chain 1: Iteration: 400 / 600 [ 66%]  (Sampling)\n",
      "Chain 1: Iteration: 600 / 600 [100%]  (Sampling)\n",
      "Chain 1: \n",
      "Chain 1:  Elapsed Time: 60.92 seconds (Warm-up)\n",
      "Chain 1:                119.89 seconds (Sampling)\n",
      "Chain 1:                180.81 seconds (Total)\n",
      "Chain 1: \n"
     ]
    },
    {
     "name": "stderr",
     "output_type": "stream",
     "text": [
      "Warning message:\n",
      "“The largest R-hat is NA, indicating chains have not mixed.\n",
      "Running the chains for more iterations may help. See\n",
      "http://mc-stan.org/misc/warnings.html#r-hat”\n",
      "Warning message:\n",
      "“Bulk Effective Samples Size (ESS) is too low, indicating posterior means and medians may be unreliable.\n",
      "Running the chains for more iterations may help. See\n",
      "http://mc-stan.org/misc/warnings.html#bulk-ess”\n",
      "Warning message:\n",
      "“Tail Effective Samples Size (ESS) is too low, indicating posterior variances and tail quantiles may be unreliable.\n",
      "Running the chains for more iterations may help. See\n",
      "http://mc-stan.org/misc/warnings.html#tail-ess”\n"
     ]
    }
   ],
   "source": [
    "param_id <- \"3\"\n",
    " dat$dat$K <- 4\n",
    "fit <- stan(file=sprintf(\"%s/m2_%s.stan\", model_dir, param_id),  \n",
    "            data = dat$dat,    \n",
    "            chains = 1, warmup =200, iter = 600, cores = 4, refresh = 200)\n",
    "rm(dat)\n",
    "print(\"saving\")\n",
    "save(fit, file=sprintf(\"%s/m1_fit_%s.RData\", out_dir, param_id))\n",
    "\n"
   ]
  },
  {
   "cell_type": "code",
   "execution_count": 19,
   "metadata": {},
   "outputs": [
    {
     "data": {
      "text/html": [
       "<style>\n",
       ".list-inline {list-style: none; margin:0; padding: 0}\n",
       ".list-inline>li {display: inline-block}\n",
       ".list-inline>li:not(:last-child)::after {content: \"\\00b7\"; padding: 0 .5ex}\n",
       "</style>\n",
       "<ol class=list-inline><li>5548</li><li>2</li></ol>\n"
      ],
      "text/latex": [
       "\\begin{enumerate*}\n",
       "\\item 5548\n",
       "\\item 2\n",
       "\\end{enumerate*}\n"
      ],
      "text/markdown": [
       "1. 5548\n",
       "2. 2\n",
       "\n",
       "\n"
      ],
      "text/plain": [
       "[1] 5548    2"
      ]
     },
     "metadata": {},
     "output_type": "display_data"
    }
   ],
   "source": [
    "dim(dat$dat$B)"
   ]
  },
  {
   "cell_type": "code",
   "execution_count": 58,
   "metadata": {},
   "outputs": [
    {
     "name": "stderr",
     "output_type": "stream",
     "text": [
      "Loading required package: loo\n",
      "\n",
      "This is loo version 2.2.0\n",
      "\n",
      "- Online documentation and vignettes at mc-stan.org/loo\n",
      "\n",
      "- As of v2.0.0 loo defaults to 1 core but we recommend using as many as possible. Use the 'cores' argument or set options(mc.cores = NUM_CORES) for an entire session. \n",
      "\n",
      "\n",
      "Attaching package: ‘loo’\n",
      "\n",
      "\n",
      "The following object is masked from ‘package:rstan’:\n",
      "\n",
      "    loo\n",
      "\n",
      "\n"
     ]
    },
    {
     "name": "stdout",
     "output_type": "stream",
     "text": [
      "[1] \"extracting loo\"\n"
     ]
    },
    {
     "name": "stderr",
     "output_type": "stream",
     "text": [
      "Warning message:\n",
      "“Relative effective sample sizes ('r_eff' argument) not specified.\n",
      "For models fit with MCMC, the reported PSIS effective sample sizes and \n",
      "MCSE estimates will be over-optimistic.”\n"
     ]
    },
    {
     "name": "stdout",
     "output_type": "stream",
     "text": [
      "\n",
      "Computed from 400 by 5548 log-likelihood matrix\n",
      "\n",
      "         Estimate    SE\n",
      "elpd_loo  32305.9 153.3\n",
      "p_loo         8.6   3.1\n",
      "looic    -64611.8 306.6\n",
      "------\n",
      "Monte Carlo SE of elpd_loo is 0.2.\n",
      "\n",
      "All Pareto k estimates are good (k < 0.5).\n",
      "See help('pareto-k-diagnostic') for details.\n"
     ]
    },
    {
     "ename": "ERROR",
     "evalue": "Error in sprintf(\"%s/loo_m1_%s.RData\", out_dir, param_id): object 'out_dir' not found\n",
     "output_type": "error",
     "traceback": [
      "Error in sprintf(\"%s/loo_m1_%s.RData\", out_dir, param_id): object 'out_dir' not found\nTraceback:\n",
      "1. save(loo1, file = sprintf(\"%s/loo_m1_%s.RData\", out_dir, param_id))",
      "2. sprintf(\"%s/loo_m1_%s.RData\", out_dir, param_id)"
     ]
    }
   ],
   "source": [
    "require('loo')\n",
    "print(\"extracting loo\")\n",
    "log_lik1 <- extract_log_lik(fit)\n",
    "rm(fit)\n",
    "loo1 <- loo(log_lik1)\n",
    "print(loo1)\n",
    "save(loo1, file=sprintf(\"%s/loo_m1_%s.RData\", out_dir, param_id))\n",
    "waic1 <- waic(log_lik1) \n",
    "print(waic1)\n",
    "save(waic1, file=sprintf(\"%s/waic_m1_%s.RData\", out_dir, param_id))\n"
   ]
  },
  {
   "cell_type": "code",
   "execution_count": 59,
   "metadata": {},
   "outputs": [],
   "source": [
    "load(\"../../../data/dat_Testosterone.RData\")"
   ]
  },
  {
   "cell_type": "code",
   "execution_count": 60,
   "metadata": {},
   "outputs": [
    {
     "data": {
      "text/html": [
       "<style>\n",
       ".list-inline {list-style: none; margin:0; padding: 0}\n",
       ".list-inline>li {display: inline-block}\n",
       ".list-inline>li:not(:last-child)::after {content: \"\\00b7\"; padding: 0 .5ex}\n",
       "</style>\n",
       "<ol class=list-inline><li>335952</li><li>2</li></ol>\n"
      ],
      "text/latex": [
       "\\begin{enumerate*}\n",
       "\\item 335952\n",
       "\\item 2\n",
       "\\end{enumerate*}\n"
      ],
      "text/markdown": [
       "1. 335952\n",
       "2. 2\n",
       "\n",
       "\n"
      ],
      "text/plain": [
       "[1] 335952      2"
      ]
     },
     "metadata": {},
     "output_type": "display_data"
    }
   ],
   "source": [
    "dim(dat$dat$B)"
   ]
  },
  {
   "cell_type": "code",
   "execution_count": null,
   "metadata": {},
   "outputs": [],
   "source": []
  }
 ],
 "metadata": {
  "kernelspec": {
   "display_name": "R",
   "language": "R",
   "name": "ir"
  },
  "language_info": {
   "codemirror_mode": "r",
   "file_extension": ".r",
   "mimetype": "text/x-r-source",
   "name": "R",
   "pygments_lexer": "r",
   "version": "3.5.1"
  }
 },
 "nbformat": 4,
 "nbformat_minor": 2
}
