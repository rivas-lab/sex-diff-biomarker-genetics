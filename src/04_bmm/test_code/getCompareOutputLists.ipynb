{
 "cells": [
  {
   "cell_type": "code",
   "execution_count": 1,
   "metadata": {},
   "outputs": [
    {
     "name": "stderr",
     "output_type": "stream",
     "text": [
      "Loading required package: MASS\n",
      "\n",
      "Loading required package: Matrix\n",
      "\n",
      "Loading required package: mnormt\n",
      "\n",
      "Loading required package: qqman\n",
      "\n",
      "\n",
      "\n",
      "For example usage please run: vignette('qqman')\n",
      "\n",
      "\n",
      "\n",
      "Citation appreciated but not required:\n",
      "\n",
      "Turner, S.D. qqman: an R package for visualizing GWAS results using Q-Q and manhattan plots. biorXiv DOI: 10.1101/005165 (2014).\n",
      "\n",
      "\n",
      "\n",
      "Loading required package: rstan\n",
      "\n",
      "Loading required package: StanHeaders\n",
      "\n",
      "Loading required package: ggplot2\n",
      "\n",
      "rstan (Version 2.19.3, GitRev: 2e1f913d3ca3)\n",
      "\n",
      "For execution on a local, multicore CPU with excess RAM we recommend calling\n",
      "options(mc.cores = parallel::detectCores()).\n",
      "To avoid recompilation of unchanged Stan programs, we recommend calling\n",
      "rstan_options(auto_write = TRUE)\n",
      "\n",
      "Loading required package: R.utils\n",
      "\n",
      "Loading required package: R.oo\n",
      "\n",
      "Loading required package: R.methodsS3\n",
      "\n",
      "R.methodsS3 v1.7.1 (2016-02-15) successfully loaded. See ?R.methodsS3 for help.\n",
      "\n",
      "R.oo v1.22.0 (2018-04-21) successfully loaded. See ?R.oo for help.\n",
      "\n",
      "\n",
      "Attaching package: ‘R.oo’\n",
      "\n",
      "\n",
      "The following objects are masked from ‘package:methods’:\n",
      "\n",
      "    getClasses, getMethods\n",
      "\n",
      "\n",
      "The following objects are masked from ‘package:base’:\n",
      "\n",
      "    attach, detach, gc, load, save\n",
      "\n",
      "\n",
      "R.utils v2.8.0 successfully loaded. See ?R.utils for help.\n",
      "\n",
      "\n",
      "Attaching package: ‘R.utils’\n",
      "\n",
      "\n",
      "The following object is masked from ‘package:rstan’:\n",
      "\n",
      "    extract\n",
      "\n",
      "\n",
      "The following object is masked from ‘package:utils’:\n",
      "\n",
      "    timestamp\n",
      "\n",
      "\n",
      "The following objects are masked from ‘package:base’:\n",
      "\n",
      "    cat, commandArgs, getOption, inherits, isOpen, parse, warnings\n",
      "\n",
      "\n",
      "Loading required package: data.table\n",
      "\n",
      "Loading required package: tidyverse\n",
      "\n",
      "── \u001b[1mAttaching packages\u001b[22m ─────────────────────────────────────── tidyverse 1.2.1 ──\n",
      "\n",
      "\u001b[32m✔\u001b[39m \u001b[34mtibble \u001b[39m 3.0.1     \u001b[32m✔\u001b[39m \u001b[34mpurrr  \u001b[39m 0.3.4\n",
      "\u001b[32m✔\u001b[39m \u001b[34mtidyr  \u001b[39m 0.8.3     \u001b[32m✔\u001b[39m \u001b[34mdplyr  \u001b[39m 0.8.5\n",
      "\u001b[32m✔\u001b[39m \u001b[34mreadr  \u001b[39m 1.3.1     \u001b[32m✔\u001b[39m \u001b[34mstringr\u001b[39m 1.4.0\n",
      "\u001b[32m✔\u001b[39m \u001b[34mtibble \u001b[39m 3.0.1     \u001b[32m✔\u001b[39m \u001b[34mforcats\u001b[39m 0.4.0\n",
      "\n",
      "── \u001b[1mConflicts\u001b[22m ────────────────────────────────────────── tidyverse_conflicts() ──\n",
      "\u001b[31m✖\u001b[39m \u001b[34mdplyr\u001b[39m::\u001b[32mbetween()\u001b[39m   masks \u001b[34mdata.table\u001b[39m::between()\n",
      "\u001b[31m✖\u001b[39m \u001b[34mtidyr\u001b[39m::\u001b[32mexpand()\u001b[39m    masks \u001b[34mMatrix\u001b[39m::expand()\n",
      "\u001b[31m✖\u001b[39m \u001b[34mtidyr\u001b[39m::\u001b[32mextract()\u001b[39m   masks \u001b[34mR.utils\u001b[39m::extract(), \u001b[34mrstan\u001b[39m::extract()\n",
      "\u001b[31m✖\u001b[39m \u001b[34mdplyr\u001b[39m::\u001b[32mfilter()\u001b[39m    masks \u001b[34mstats\u001b[39m::filter()\n",
      "\u001b[31m✖\u001b[39m \u001b[34mdplyr\u001b[39m::\u001b[32mfirst()\u001b[39m     masks \u001b[34mdata.table\u001b[39m::first()\n",
      "\u001b[31m✖\u001b[39m \u001b[34mdplyr\u001b[39m::\u001b[32mlag()\u001b[39m       masks \u001b[34mstats\u001b[39m::lag()\n",
      "\u001b[31m✖\u001b[39m \u001b[34mdplyr\u001b[39m::\u001b[32mlast()\u001b[39m      masks \u001b[34mdata.table\u001b[39m::last()\n",
      "\u001b[31m✖\u001b[39m \u001b[34mdplyr\u001b[39m::\u001b[32mselect()\u001b[39m    masks \u001b[34mMASS\u001b[39m::select()\n",
      "\u001b[31m✖\u001b[39m \u001b[34mpurrr\u001b[39m::\u001b[32mtranspose()\u001b[39m masks \u001b[34mdata.table\u001b[39m::transpose()\n",
      "\n",
      "Loading required package: reshape2\n",
      "\n",
      "\n",
      "Attaching package: ‘reshape2’\n",
      "\n",
      "\n",
      "The following object is masked from ‘package:tidyr’:\n",
      "\n",
      "    smiths\n",
      "\n",
      "\n",
      "The following objects are masked from ‘package:data.table’:\n",
      "\n",
      "    dcast, melt\n",
      "\n",
      "\n",
      "Loading required package: parallel\n",
      "\n"
     ]
    }
   ],
   "source": [
    "\n",
    "source('../model_utils.R')\n",
    "source('../snp_utils.R')\n",
    "\n",
    "require('R.utils')\n",
    "require('data.table')\n",
    "require('tidyverse')\n",
    "require('reshape2')\n",
    "require('parallel')"
   ]
  },
  {
   "cell_type": "code",
   "execution_count": 32,
   "metadata": {},
   "outputs": [],
   "source": [
    "\n",
    "list.tabs <- lapply(c(1,2,4,6,7), function(idx) \n",
    "    read.table(sprintf(\"../../../data/sig_snp_table_Testosterone_m2_%s.txt\", idx), \n",
    "               header=TRUE, stringsAsFactors=FALSE))\n"
   ]
  },
  {
   "cell_type": "code",
   "execution_count": 35,
   "metadata": {},
   "outputs": [
    {
     "data": {
      "text/plain": [
       "[[1]]\n",
       "\n",
       "  2   3   4 \n",
       "161 651  18 \n",
       "\n",
       "[[2]]\n",
       "\n",
       "  2   3   4 \n",
       "163 653  20 \n",
       "\n",
       "[[3]]\n",
       "\n",
       "  2   3   4 \n",
       "149 539  20 \n",
       "\n",
       "[[4]]\n",
       "\n",
       "  2   3   4 \n",
       "162 652  19 \n",
       "\n",
       "[[5]]\n",
       "\n",
       "  2   3   4 \n",
       "163 652  20 \n"
      ]
     },
     "metadata": {},
     "output_type": "display_data"
    }
   ],
   "source": [
    "# what are the counts for each\n",
    "lapply(list.tabs, function(x) table(x$category))"
   ]
  },
  {
   "cell_type": "code",
   "execution_count": null,
   "metadata": {},
   "outputs": [],
   "source": [
    "# what is the overlap of each"
   ]
  },
  {
   "cell_type": "code",
   "execution_count": 44,
   "metadata": {},
   "outputs": [],
   "source": [
    "f_vars <- lapply(list.tabs, function(x) (x %>% filter(category==2))$SNP)\n",
    "m_vars <- lapply(list.tabs, function(x) (x %>% filter(category==3))$SNP)"
   ]
  },
  {
   "cell_type": "code",
   "execution_count": 42,
   "metadata": {},
   "outputs": [
    {
     "data": {
      "text/html": [
       "161"
      ],
      "text/latex": [
       "161"
      ],
      "text/markdown": [
       "161"
      ],
      "text/plain": [
       "[1] 161"
      ]
     },
     "metadata": {},
     "output_type": "display_data"
    },
    {
     "data": {
      "text/html": [
       "148"
      ],
      "text/latex": [
       "148"
      ],
      "text/markdown": [
       "148"
      ],
      "text/plain": [
       "[1] 148"
      ]
     },
     "metadata": {},
     "output_type": "display_data"
    },
    {
     "data": {
      "text/html": [
       "161"
      ],
      "text/latex": [
       "161"
      ],
      "text/markdown": [
       "161"
      ],
      "text/plain": [
       "[1] 161"
      ]
     },
     "metadata": {},
     "output_type": "display_data"
    },
    {
     "data": {
      "text/html": [
       "161"
      ],
      "text/latex": [
       "161"
      ],
      "text/markdown": [
       "161"
      ],
      "text/plain": [
       "[1] 161"
      ]
     },
     "metadata": {},
     "output_type": "display_data"
    },
    {
     "data": {
      "text/html": [
       "148"
      ],
      "text/latex": [
       "148"
      ],
      "text/markdown": [
       "148"
      ],
      "text/plain": [
       "[1] 148"
      ]
     },
     "metadata": {},
     "output_type": "display_data"
    },
    {
     "data": {
      "text/html": [
       "148"
      ],
      "text/latex": [
       "148"
      ],
      "text/markdown": [
       "148"
      ],
      "text/plain": [
       "[1] 148"
      ]
     },
     "metadata": {},
     "output_type": "display_data"
    },
    {
     "data": {
      "text/html": [
       "162"
      ],
      "text/latex": [
       "162"
      ],
      "text/markdown": [
       "162"
      ],
      "text/plain": [
       "[1] 162"
      ]
     },
     "metadata": {},
     "output_type": "display_data"
    },
    {
     "data": {
      "text/html": [
       "148"
      ],
      "text/latex": [
       "148"
      ],
      "text/markdown": [
       "148"
      ],
      "text/plain": [
       "[1] 148"
      ]
     },
     "metadata": {},
     "output_type": "display_data"
    },
    {
     "data": {
      "text/html": [
       "148"
      ],
      "text/latex": [
       "148"
      ],
      "text/markdown": [
       "148"
      ],
      "text/plain": [
       "[1] 148"
      ]
     },
     "metadata": {},
     "output_type": "display_data"
    },
    {
     "data": {
      "text/html": [
       "162"
      ],
      "text/latex": [
       "162"
      ],
      "text/markdown": [
       "162"
      ],
      "text/plain": [
       "[1] 162"
      ]
     },
     "metadata": {},
     "output_type": "display_data"
    }
   ],
   "source": [
    "length(intersect(f_vars[[1]], f_vars[[2]]))\n",
    "length(intersect(f_vars[[1]], f_vars[[3]]))\n",
    "length(intersect(f_vars[[1]], f_vars[[4]]))\n",
    "length(intersect(f_vars[[1]], f_vars[[5]]))\n",
    "length(intersect(f_vars[[2]], f_vars[[3]]))\n",
    "length(intersect(f_vars[[3]], f_vars[[4]]))\n",
    "length(intersect(f_vars[[4]], f_vars[[5]]))\n",
    "length(intersect(f_vars[[3]], f_vars[[4]]))\n",
    "length(intersect(f_vars[[3]], f_vars[[5]]))\n",
    "length(intersect(f_vars[[4]], f_vars[[5]]))"
   ]
  },
  {
   "cell_type": "code",
   "execution_count": 45,
   "metadata": {},
   "outputs": [
    {
     "data": {
      "text/html": [
       "649"
      ],
      "text/latex": [
       "649"
      ],
      "text/markdown": [
       "649"
      ],
      "text/plain": [
       "[1] 649"
      ]
     },
     "metadata": {},
     "output_type": "display_data"
    },
    {
     "data": {
      "text/html": [
       "537"
      ],
      "text/latex": [
       "537"
      ],
      "text/markdown": [
       "537"
      ],
      "text/plain": [
       "[1] 537"
      ]
     },
     "metadata": {},
     "output_type": "display_data"
    },
    {
     "data": {
      "text/html": [
       "650"
      ],
      "text/latex": [
       "650"
      ],
      "text/markdown": [
       "650"
      ],
      "text/plain": [
       "[1] 650"
      ]
     },
     "metadata": {},
     "output_type": "display_data"
    },
    {
     "data": {
      "text/html": [
       "649"
      ],
      "text/latex": [
       "649"
      ],
      "text/markdown": [
       "649"
      ],
      "text/plain": [
       "[1] 649"
      ]
     },
     "metadata": {},
     "output_type": "display_data"
    },
    {
     "data": {
      "text/html": [
       "536"
      ],
      "text/latex": [
       "536"
      ],
      "text/markdown": [
       "536"
      ],
      "text/plain": [
       "[1] 536"
      ]
     },
     "metadata": {},
     "output_type": "display_data"
    },
    {
     "data": {
      "text/html": [
       "537"
      ],
      "text/latex": [
       "537"
      ],
      "text/markdown": [
       "537"
      ],
      "text/plain": [
       "[1] 537"
      ]
     },
     "metadata": {},
     "output_type": "display_data"
    },
    {
     "data": {
      "text/html": [
       "651"
      ],
      "text/latex": [
       "651"
      ],
      "text/markdown": [
       "651"
      ],
      "text/plain": [
       "[1] 651"
      ]
     },
     "metadata": {},
     "output_type": "display_data"
    },
    {
     "data": {
      "text/html": [
       "537"
      ],
      "text/latex": [
       "537"
      ],
      "text/markdown": [
       "537"
      ],
      "text/plain": [
       "[1] 537"
      ]
     },
     "metadata": {},
     "output_type": "display_data"
    },
    {
     "data": {
      "text/html": [
       "536"
      ],
      "text/latex": [
       "536"
      ],
      "text/markdown": [
       "536"
      ],
      "text/plain": [
       "[1] 536"
      ]
     },
     "metadata": {},
     "output_type": "display_data"
    },
    {
     "data": {
      "text/html": [
       "651"
      ],
      "text/latex": [
       "651"
      ],
      "text/markdown": [
       "651"
      ],
      "text/plain": [
       "[1] 651"
      ]
     },
     "metadata": {},
     "output_type": "display_data"
    }
   ],
   "source": [
    "length(intersect(m_vars[[1]], m_vars[[2]]))\n",
    "length(intersect(m_vars[[1]], m_vars[[3]]))\n",
    "length(intersect(m_vars[[1]], m_vars[[4]]))\n",
    "length(intersect(m_vars[[1]], m_vars[[5]]))\n",
    "length(intersect(m_vars[[2]], m_vars[[3]]))\n",
    "length(intersect(m_vars[[3]], m_vars[[4]]))\n",
    "length(intersect(m_vars[[4]], m_vars[[5]]))\n",
    "length(intersect(m_vars[[3]], m_vars[[4]]))\n",
    "length(intersect(m_vars[[3]], m_vars[[5]]))\n",
    "length(intersect(m_vars[[4]], m_vars[[5]]))"
   ]
  },
  {
   "cell_type": "code",
   "execution_count": 2,
   "metadata": {},
   "outputs": [],
   "source": [
    "load(\"../../../data/vary_priors_8/m2_fit_7.RData\"); fit2 <- fit\n",
    "load(\"../../../data/vary_priors_8/dat_Testosterone.RData\")"
   ]
  },
  {
   "cell_type": "code",
   "execution_count": 4,
   "metadata": {},
   "outputs": [],
   "source": [
    "\n",
    "    # fraction in non-null component\n",
    "    p <- getPi(fit2)\n",
    "\n",
    "    # sigmasq\n",
    "    sigmasq <- getVars(fit2)\n",
    "    Sigma <- getSigma(fit2)\n",
    " \n"
   ]
  },
  {
   "cell_type": "code",
   "execution_count": 13,
   "metadata": {},
   "outputs": [],
   "source": []
  },
  {
   "cell_type": "code",
   "execution_count": 15,
   "metadata": {},
   "outputs": [],
   "source": [
    "sm_dat <- dat\n",
    "sm_dat$dat$N <- 10000\n",
    "sm_dat$chr <- sm_dat$chr[1:10000]\n",
    "sm_dat$p <- sm_dat$p[1:10000]\n",
    "sm_dat$snp <- sm_dat$snp[1:10000]"
   ]
  },
  {
   "cell_type": "code",
   "execution_count": 10,
   "metadata": {},
   "outputs": [
    {
     "name": "stderr",
     "output_type": "stream",
     "text": [
      "Loading required package: tictoc\n",
      "\n"
     ]
    }
   ],
   "source": [
    "require('tictoc')"
   ]
  },
  {
   "cell_type": "code",
   "execution_count": 19,
   "metadata": {},
   "outputs": [
    {
     "name": "stdout",
     "output_type": "stream",
     "text": [
      "173.976 sec elapsed\n"
     ]
    }
   ],
   "source": [
    "    # assign each SNP to a category\n",
    "tic() \n",
    "posterior.df <- posteriorSNPtable(dat, fit2)\n",
    "toc()"
   ]
  },
  {
   "cell_type": "code",
   "execution_count": 20,
   "metadata": {},
   "outputs": [
    {
     "data": {
      "text/html": [
       "<table>\n",
       "<caption>A data.frame: 6 × 6</caption>\n",
       "<thead>\n",
       "\t<tr><th></th><th scope=col>p1</th><th scope=col>p2</th><th scope=col>p3</th><th scope=col>p4</th><th scope=col>category</th><th scope=col>SNP</th></tr>\n",
       "\t<tr><th></th><th scope=col>&lt;fct&gt;</th><th scope=col>&lt;fct&gt;</th><th scope=col>&lt;fct&gt;</th><th scope=col>&lt;fct&gt;</th><th scope=col>&lt;fct&gt;</th><th scope=col>&lt;fct&gt;</th></tr>\n",
       "</thead>\n",
       "<tbody>\n",
       "\t<tr><th scope=row>1</th><td>0.998922802192925</td><td>5.39882583914345e-05</td><td>0.00102311100854457 </td><td>9.85401400616345e-08</td><td>1</td><td>rs6649864  </td></tr>\n",
       "\t<tr><th scope=row>2</th><td>0.998682704041611</td><td>5.6145962233044e-05 </td><td>0.00126102270784195 </td><td>1.2728831378525e-07 </td><td>1</td><td>rs56328755 </td></tr>\n",
       "\t<tr><th scope=row>3</th><td>0.999241609447132</td><td>7.72288061218705e-05</td><td>0.000681068213538469</td><td>9.35332078674478e-08</td><td>1</td><td>rs28669107 </td></tr>\n",
       "\t<tr><th scope=row>4</th><td>0.99769551710652 </td><td>0.000475727612874818</td><td>0.00182708396268701 </td><td>1.67131791797568e-06</td><td>1</td><td>rs148672604</td></tr>\n",
       "\t<tr><th scope=row>5</th><td>0.997785161315883</td><td>0.000171301159801894</td><td>0.00204286805940928 </td><td>6.69464906608577e-07</td><td>1</td><td>rs146939120</td></tr>\n",
       "\t<tr><th scope=row>6</th><td>0.999226625331786</td><td>0.000110355756249523</td><td>0.000662888469188568</td><td>1.30442775782964e-07</td><td>1</td><td>rs28510852 </td></tr>\n",
       "</tbody>\n",
       "</table>\n"
      ],
      "text/latex": [
       "A data.frame: 6 × 6\n",
       "\\begin{tabular}{r|llllll}\n",
       "  & p1 & p2 & p3 & p4 & category & SNP\\\\\n",
       "  & <fct> & <fct> & <fct> & <fct> & <fct> & <fct>\\\\\n",
       "\\hline\n",
       "\t1 & 0.998922802192925 & 5.39882583914345e-05 & 0.00102311100854457  & 9.85401400616345e-08 & 1 & rs6649864  \\\\\n",
       "\t2 & 0.998682704041611 & 5.6145962233044e-05  & 0.00126102270784195  & 1.2728831378525e-07  & 1 & rs56328755 \\\\\n",
       "\t3 & 0.999241609447132 & 7.72288061218705e-05 & 0.000681068213538469 & 9.35332078674478e-08 & 1 & rs28669107 \\\\\n",
       "\t4 & 0.99769551710652  & 0.000475727612874818 & 0.00182708396268701  & 1.67131791797568e-06 & 1 & rs148672604\\\\\n",
       "\t5 & 0.997785161315883 & 0.000171301159801894 & 0.00204286805940928  & 6.69464906608577e-07 & 1 & rs146939120\\\\\n",
       "\t6 & 0.999226625331786 & 0.000110355756249523 & 0.000662888469188568 & 1.30442775782964e-07 & 1 & rs28510852 \\\\\n",
       "\\end{tabular}\n"
      ],
      "text/markdown": [
       "\n",
       "A data.frame: 6 × 6\n",
       "\n",
       "| <!--/--> | p1 &lt;fct&gt; | p2 &lt;fct&gt; | p3 &lt;fct&gt; | p4 &lt;fct&gt; | category &lt;fct&gt; | SNP &lt;fct&gt; |\n",
       "|---|---|---|---|---|---|---|\n",
       "| 1 | 0.998922802192925 | 5.39882583914345e-05 | 0.00102311100854457  | 9.85401400616345e-08 | 1 | rs6649864   |\n",
       "| 2 | 0.998682704041611 | 5.6145962233044e-05  | 0.00126102270784195  | 1.2728831378525e-07  | 1 | rs56328755  |\n",
       "| 3 | 0.999241609447132 | 7.72288061218705e-05 | 0.000681068213538469 | 9.35332078674478e-08 | 1 | rs28669107  |\n",
       "| 4 | 0.99769551710652  | 0.000475727612874818 | 0.00182708396268701  | 1.67131791797568e-06 | 1 | rs148672604 |\n",
       "| 5 | 0.997785161315883 | 0.000171301159801894 | 0.00204286805940928  | 6.69464906608577e-07 | 1 | rs146939120 |\n",
       "| 6 | 0.999226625331786 | 0.000110355756249523 | 0.000662888469188568 | 1.30442775782964e-07 | 1 | rs28510852  |\n",
       "\n"
      ],
      "text/plain": [
       "  p1                p2                   p3                  \n",
       "1 0.998922802192925 5.39882583914345e-05 0.00102311100854457 \n",
       "2 0.998682704041611 5.6145962233044e-05  0.00126102270784195 \n",
       "3 0.999241609447132 7.72288061218705e-05 0.000681068213538469\n",
       "4 0.99769551710652  0.000475727612874818 0.00182708396268701 \n",
       "5 0.997785161315883 0.000171301159801894 0.00204286805940928 \n",
       "6 0.999226625331786 0.000110355756249523 0.000662888469188568\n",
       "  p4                   category SNP        \n",
       "1 9.85401400616345e-08 1        rs6649864  \n",
       "2 1.2728831378525e-07  1        rs56328755 \n",
       "3 9.35332078674478e-08 1        rs28669107 \n",
       "4 1.67131791797568e-06 1        rs148672604\n",
       "5 6.69464906608577e-07 1        rs146939120\n",
       "6 1.30442775782964e-07 1        rs28510852 "
      ]
     },
     "metadata": {},
     "output_type": "display_data"
    }
   ],
   "source": [
    "head(posterior.df)"
   ]
  },
  {
   "cell_type": "code",
   "execution_count": 21,
   "metadata": {},
   "outputs": [],
   "source": [
    "write.table(posterior.df, file=sprintf(\"%s/m2/snp_table_%s.txt\", \"../../../data/\", \"Testosterone_m2_7\"), row.names=FALSE, quote=FALSE)\n"
   ]
  },
  {
   "cell_type": "code",
   "execution_count": 22,
   "metadata": {},
   "outputs": [
    {
     "name": "stdout",
     "output_type": "stream",
     "text": [
      "\n",
      "     1      2      3      4 \n",
      "335117    163    652     20 \n"
     ]
    }
   ],
   "source": [
    "\n",
    "    cat.count <- table(posterior.df$category)\n",
    "    print(cat.count)"
   ]
  },
  {
   "cell_type": "code",
   "execution_count": 24,
   "metadata": {},
   "outputs": [],
   "source": [
    "p.df <- dat$p \n",
    "    se.df <- dat$dat$SE\n",
    "    beta.df <- dat$dat$B\n",
    "    snp.df <- data.frame(dat$snp, stringsAsFactors=FALSE)\n",
    "    chr.df <- data.frame(dat$chr, stringsAsFactors=FALSE)\n",
    "    full.df <- do.call(cbind, list(snp.df, chr.df, beta.df, se.df, p.df))\n",
    "    colnames(full.df) <- c(\"SNP\", \"CHR\", \"B.f\", \"B.m\", \"SE.f\", \"SE.m\", \"P.f\", \"P.m\")\n",
    "    comb.df <- cbind(full.df, posterior.df %>% dplyr::select(p1, p2, p3, p4, category))\n",
    "    non.null.snps <- comb.df %>% dplyr::filter(category %in% c(2,3,4))\n",
    "write.table(non.null.snps, file=sprintf(\"%s/sig_snp_table_%s.txt\", \"../../../data/\", \"Testosterone_m2_7\"), row.names=FALSE, quote=FALSE)\n"
   ]
  },
  {
   "cell_type": "code",
   "execution_count": 27,
   "metadata": {},
   "outputs": [],
   "source": [
    "write.table(non.null.snps, file=sprintf(\"%s/sig_snp_table_%s.txt\", \"../../../data/\", \"Testosterone_m2_7\"), row.names=FALSE, quote=FALSE)"
   ]
  },
  {
   "cell_type": "code",
   "execution_count": 26,
   "metadata": {},
   "outputs": [
    {
     "name": "stderr",
     "output_type": "stream",
     "text": [
      "Warning message in file(file, \"rt\"):\n",
      "“cannot open file '/scratch/PI/mrivas/users/erflynn/sex_div_gwas/data//snp_gene_table.txt': No such file or directory”\n"
     ]
    },
    {
     "ename": "ERROR",
     "evalue": "Error in file(file, \"rt\"): cannot open the connection\n",
     "output_type": "error",
     "traceback": [
      "Error in file(file, \"rt\"): cannot open the connection\nTraceback:\n",
      "1. annotateSNP(non.null.snps)",
      "2. read.table(sprintf(\"%s/snp_gene_table.txt\", DATA.FOLDER), colClasses = \"character\")",
      "3. file(file, \"rt\")"
     ]
    }
   ],
   "source": [
    "    annot.snp <- annotateSNP(non.null.snps)"
   ]
  },
  {
   "cell_type": "code",
   "execution_count": null,
   "metadata": {},
   "outputs": [],
   "source": [
    " print(\"Extracting\")\n",
    "    print(trait)\n",
    "\n",
    "\n",
    "    # fraction in non-null component\n",
    "    p <- getPi(fit2)\n",
    "\n",
    "    # sigmasq\n",
    "    sigmasq <- getVars(fit2)\n",
    "    Sigma <- getSigma(fit2)\n",
    " \n",
    "    # assign each SNP to a category\n",
    "    posterior.df <- posteriorSNPtable(dat, fit2)\n",
    "    write.table(posterior.df, file=sprintf(\"%s/m2/snp_table_%s.txt\", out_dir, trait), row.names=FALSE, quote=FALSE)\n",
    "    print(\"Posterior table generated\")\n",
    "\n",
    "    # remove large files from the workspace\n",
    "    rm(fit2)\n",
    "\n",
    "    cat.count <- table(posterior.df$category)\n",
    "    print(cat.count)\n",
    "\n",
    "    # create a data frame with the pvalues\n",
    "    p.df <- dat$p \n",
    "    se.df <- dat$dat$SE\n",
    "    beta.df <- dat$dat$B\n",
    "    snp.df <- data.frame(dat$snp)\n",
    "    chr.df <- data.frame(dat$chr)\n",
    "    full.df <- do.call(cbind, list(snp.df, chr.df, beta.df, se.df, p.df))\n",
    "    colnames(full.df) <- c(\"SNP\", \"CHR\", \"B.f\", \"B.m\", \"SE.f\", \"SE.m\", \"P.f\", \"P.m\")\n",
    "    comb.df <- cbind(full.df, posterior.df %>% dplyr::select(p1, p2, p3, p4, category))\n",
    "    non.null.snps <- comb.df %>% dplyr::filter(category %in% c(2,3,4))\n",
    "\n",
    "    annot.snp <- annotateSNP(non.null.snps)\n",
    "     \n",
    "    sapply(unique(annot.snp$category), function(category) {\n",
    "        annot.snp.cat <- annot.snp %>% dplyr::filter(category==category)\n",
    "        write.table(annot.snp.cat, file=sprintf(\"%s/m2/snps%s_%s.txt\", out_dir, category, trait), row.names=FALSE)\n",
    "         } )"
   ]
  },
  {
   "cell_type": "code",
   "execution_count": null,
   "metadata": {},
   "outputs": [],
   "source": []
  }
 ],
 "metadata": {
  "kernelspec": {
   "display_name": "R",
   "language": "R",
   "name": "ir"
  },
  "language_info": {
   "codemirror_mode": "r",
   "file_extension": ".r",
   "mimetype": "text/x-r-source",
   "name": "R",
   "pygments_lexer": "r",
   "version": "3.5.1"
  }
 },
 "nbformat": 4,
 "nbformat_minor": 2
}
