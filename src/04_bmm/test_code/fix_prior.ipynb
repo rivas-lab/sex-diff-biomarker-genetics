{
 "cells": [
  {
   "cell_type": "code",
   "execution_count": null,
   "metadata": {},
   "outputs": [],
   "source": [
    "# simulate some data"
   ]
  },
  {
   "cell_type": "code",
   "execution_count": 1,
   "metadata": {},
   "outputs": [
    {
     "name": "stderr",
     "output_type": "stream",
     "text": [
      "Loading required package: MASS\n",
      "\n",
      "Loading required package: Matrix\n",
      "\n",
      "Loading required package: mnormt\n",
      "\n"
     ]
    }
   ],
   "source": [
    "source(\"project_utils.R\")\n",
    "set.seed(607)"
   ]
  },
  {
   "cell_type": "code",
   "execution_count": 2,
   "metadata": {},
   "outputs": [
    {
     "name": "stdout",
     "output_type": "stream",
     "text": [
      "2 x 2 Matrix of class \"dpoMatrix\"\n",
      "       [,1]  [,2]\n",
      "[1,] 0.0012 5e-04\n",
      "[2,] 0.0005 1e-03\n"
     ]
    }
   ],
   "source": [
    "N <- 1000 # number of samples\n",
    "p <- c(0.9, 0.1) # fraction in each component (null, non-null)\n",
    "S <- matrix(c(0.0012,0.0005, 0.0005, 0.0010),2,2)\n",
    "fixS <- nearPD(S)$mat # nearest positive definite matrix\n",
    "cov.data.M1.sim <- model1Sim(N, p, fixS)\n"
   ]
  },
  {
   "cell_type": "code",
   "execution_count": null,
   "metadata": {},
   "outputs": [],
   "source": [
    "# try to see if we can set DL differently"
   ]
  },
  {
   "cell_type": "code",
   "execution_count": 3,
   "metadata": {},
   "outputs": [
    {
     "name": "stderr",
     "output_type": "stream",
     "text": [
      "Loading required package: StanHeaders\n",
      "\n",
      "Loading required package: ggplot2\n",
      "\n",
      "rstan (Version 2.19.3, GitRev: 2e1f913d3ca3)\n",
      "\n",
      "For execution on a local, multicore CPU with excess RAM we recommend calling\n",
      "options(mc.cores = parallel::detectCores()).\n",
      "To avoid recompilation of unchanged Stan programs, we recommend calling\n",
      "rstan_options(auto_write = TRUE)\n",
      "\n",
      "hash mismatch so recompiling; make sure Stan code ends with a blank line\n",
      "\n"
     ]
    },
    {
     "name": "stdout",
     "output_type": "stream",
     "text": [
      "\n",
      "SAMPLING FOR MODEL 'm1_1' NOW (CHAIN 1).\n",
      "Chain 1: \n",
      "Chain 1: Gradient evaluation took 0 seconds\n",
      "Chain 1: 1000 transitions using 10 leapfrog steps per transition would take 0 seconds.\n",
      "Chain 1: Adjust your expectations accordingly!\n",
      "Chain 1: \n",
      "Chain 1: \n",
      "Chain 1: Iteration:   1 / 800 [  0%]  (Warmup)\n",
      "Chain 1: Iteration: 200 / 800 [ 25%]  (Warmup)\n",
      "Chain 1: Iteration: 201 / 800 [ 25%]  (Sampling)\n",
      "Chain 1: Iteration: 400 / 800 [ 50%]  (Sampling)\n",
      "Chain 1: Iteration: 600 / 800 [ 75%]  (Sampling)\n",
      "Chain 1: Iteration: 800 / 800 [100%]  (Sampling)\n",
      "Chain 1: \n",
      "Chain 1:  Elapsed Time: 6.06 seconds (Warm-up)\n",
      "Chain 1:                15.52 seconds (Sampling)\n",
      "Chain 1:                21.58 seconds (Total)\n",
      "Chain 1: \n"
     ]
    },
    {
     "data": {
      "text/plain": [
       "Time difference of 5.659313 mins"
      ]
     },
     "metadata": {},
     "output_type": "display_data"
    }
   ],
   "source": [
    "start.time <- Sys.time()\n",
    "# run stan to estimate the covariance\n",
    "library(rstan)\n",
    "options(warn=-1)\n",
    "fit1_sim <- stan(\n",
    "  file = \"../../../tmp_models6/m1_1.stan\",  # Stan program\n",
    "  data = cov.data.M1.sim,    # named list of data\n",
    "  chains = 1,             # number of Markov chains\n",
    "  warmup = 200,          # number of warmup iterations per chain\n",
    "  iter = 800,            # total number of iterations per chain\n",
    "  cores = 200,              \n",
    "  refresh = 200          # show progress every 'refresh' iterations\n",
    "  )\n",
    "end.time <- Sys.time()\n",
    "time.taken <- end.time - start.time\n",
    "time.taken"
   ]
  },
  {
   "cell_type": "code",
   "execution_count": 9,
   "metadata": {},
   "outputs": [
    {
     "data": {
      "text/plain": [
       "S4 class stanmodel 'm1_1' coded as follows:\n",
       "data {\n",
       "    int<lower=0> N; \n",
       "    int<lower=1> M; \n",
       "    matrix[N, M] B; \n",
       "    matrix[N, M] SE; \n",
       "    int<lower=1> K; \n",
       "}\n",
       "transformed data{\n",
       "    vector[M] zeros;\n",
       "    vector[2] dl;\n",
       "    matrix[M,M] SE_mat[N];\n",
       "    zeros = rep_vector(0, M);\n",
       "\n",
       "    dl[1] = 2;\n",
       "    dl[2] = 1;\n",
       "\n",
       "    for (n in 1:N) {\n",
       "        SE_mat[n] = diag_matrix(to_vector(SE[n]));\n",
       "    }\n",
       "}\n",
       "\n",
       "parameters {\n",
       "    simplex[K] pi; \n",
       "    cholesky_factor_corr[M] L_Omega;\n",
       "    vector<lower=0>[M] tau;\n",
       "}\n",
       "\n",
       "transformed parameters{\n",
       "    matrix[M, M] Sigma;\n",
       "    matrix[M, M] Sigmas[K];\n",
       "    Sigma = diag_pre_multiply(tau, L_Omega)*diag_pre_multiply(tau, L_Omega)';\n",
       "\n",
       "    Sigmas[1] = diag_matrix(rep_vector(0,M));\n",
       "    Sigmas[2] = Sigma;\n",
       "}\n",
       "\n",
       "model {\n",
       "    vector[K] ps; \n",
       "    pi ~ dirichlet(dl);\n",
       "    tau ~ cauchy(0, 2.5);\n",
       "    L_Omega ~ lkj_corr_cholesky(2);\n",
       "\n",
       "\n",
       "    for (n in 1:N){\n",
       "        target += log_mix(pi[1],\n",
       "                            multi_normal_lpdf(B[n] | zeros, SE_mat[n] + Sigmas[1]),\n",
       "                            multi_normal_lpdf(B[n] | zeros, SE_mat[n] + Sigmas[2]));\n",
       "     }\n",
       "}\n",
       "\n",
       "generated quantities {\n",
       "    matrix[M,M] Omegacor;\n",
       "\n",
       "    Omegacor = multiply_lower_tri_self_transpose(L_Omega);\n",
       " \n",
       "} "
      ]
     },
     "metadata": {},
     "output_type": "display_data"
    }
   ],
   "source": [
    "fit1_sim@stanmodel"
   ]
  },
  {
   "cell_type": "code",
   "execution_count": 6,
   "metadata": {},
   "outputs": [
    {
     "name": "stdout",
     "output_type": "stream",
     "text": [
      "Inference for Stan model: m1_1.\n",
      "1 chains, each with iter=800; warmup=200; thin=1; \n",
      "post-warmup draws per chain=600, total post-warmup draws=600.\n",
      "\n",
      "                 mean se_mean   sd    2.5%     25%     50%     75%   97.5%\n",
      "pi[1]            0.90    0.00 0.02    0.86    0.89    0.90    0.91    0.93\n",
      "pi[2]            0.10    0.00 0.02    0.07    0.09    0.10    0.11    0.14\n",
      "L_Omega[1,1]     1.00     NaN 0.00    1.00    1.00    1.00    1.00    1.00\n",
      "L_Omega[1,2]     0.00     NaN 0.00    0.00    0.00    0.00    0.00    0.00\n",
      "L_Omega[2,1]     0.43    0.01 0.12    0.18    0.35    0.43    0.51    0.65\n",
      "L_Omega[2,2]     0.89    0.00 0.06    0.76    0.86    0.90    0.94    0.98\n",
      "tau[1]           0.03    0.00 0.00    0.03    0.03    0.03    0.04    0.04\n",
      "tau[2]           0.04    0.00 0.00    0.03    0.03    0.04    0.04    0.05\n",
      "Sigma[1,1]       0.00    0.00 0.00    0.00    0.00    0.00    0.00    0.00\n",
      "Sigma[1,2]       0.00    0.00 0.00    0.00    0.00    0.00    0.00    0.00\n",
      "Sigma[2,1]       0.00    0.00 0.00    0.00    0.00    0.00    0.00    0.00\n",
      "Sigma[2,2]       0.00    0.00 0.00    0.00    0.00    0.00    0.00    0.00\n",
      "Sigmas[1,1,1]    0.00     NaN 0.00    0.00    0.00    0.00    0.00    0.00\n",
      "Sigmas[1,1,2]    0.00     NaN 0.00    0.00    0.00    0.00    0.00    0.00\n",
      "Sigmas[1,2,1]    0.00     NaN 0.00    0.00    0.00    0.00    0.00    0.00\n",
      "Sigmas[1,2,2]    0.00     NaN 0.00    0.00    0.00    0.00    0.00    0.00\n",
      "Sigmas[2,1,1]    0.00    0.00 0.00    0.00    0.00    0.00    0.00    0.00\n",
      "Sigmas[2,1,2]    0.00    0.00 0.00    0.00    0.00    0.00    0.00    0.00\n",
      "Sigmas[2,2,1]    0.00    0.00 0.00    0.00    0.00    0.00    0.00    0.00\n",
      "Sigmas[2,2,2]    0.00    0.00 0.00    0.00    0.00    0.00    0.00    0.00\n",
      "Omegacor[1,1]    1.00     NaN 0.00    1.00    1.00    1.00    1.00    1.00\n",
      "Omegacor[1,2]    0.43    0.01 0.12    0.18    0.35    0.43    0.51    0.65\n",
      "Omegacor[2,1]    0.43    0.01 0.12    0.18    0.35    0.43    0.51    0.65\n",
      "Omegacor[2,2]    1.00    0.00 0.00    1.00    1.00    1.00    1.00    1.00\n",
      "lp__          4945.68    0.07 1.36 4942.39 4944.98 4945.95 4946.75 4947.47\n",
      "              n_eff Rhat\n",
      "pi[1]           433 1.00\n",
      "pi[2]           433 1.00\n",
      "L_Omega[1,1]    NaN  NaN\n",
      "L_Omega[1,2]    NaN  NaN\n",
      "L_Omega[2,1]    577 1.00\n",
      "L_Omega[2,2]    568 1.00\n",
      "tau[1]          387 1.00\n",
      "tau[2]          560 1.00\n",
      "Sigma[1,1]      389 1.00\n",
      "Sigma[1,2]      490 1.00\n",
      "Sigma[2,1]      490 1.00\n",
      "Sigma[2,2]      550 1.00\n",
      "Sigmas[1,1,1]   NaN  NaN\n",
      "Sigmas[1,1,2]   NaN  NaN\n",
      "Sigmas[1,2,1]   NaN  NaN\n",
      "Sigmas[1,2,2]   NaN  NaN\n",
      "Sigmas[2,1,1]   389 1.00\n",
      "Sigmas[2,1,2]   490 1.00\n",
      "Sigmas[2,2,1]   490 1.00\n",
      "Sigmas[2,2,2]   550 1.00\n",
      "Omegacor[1,1]   NaN  NaN\n",
      "Omegacor[1,2]   577 1.00\n",
      "Omegacor[2,1]   577 1.00\n",
      "Omegacor[2,2]   485 1.00\n",
      "lp__            349 1.01\n",
      "\n",
      "Samples were drawn using NUTS(diag_e) at Wed May 20 12:48:23 2020.\n",
      "For each parameter, n_eff is a crude measure of effective sample size,\n",
      "and Rhat is the potential scale reduction factor on split chains (at \n",
      "convergence, Rhat=1).\n"
     ]
    }
   ],
   "source": [
    "print(fit1_sim)"
   ]
  },
  {
   "cell_type": "code",
   "execution_count": null,
   "metadata": {},
   "outputs": [],
   "source": [
    "start.time <- Sys.time()\n",
    "# run stan to estimate the covariance\n",
    "options(warn=-1)\n",
    "fit1_v2_sim <- stan(\n",
    "  file = \"../../../tmp_models3/m1_1.stan\",  # Stan program\n",
    "  data = cov.data.M1.sim,    # named list of data\n",
    "  chains = 4,             # number of Markov chains\n",
    "  warmup = 200,          # number of warmup iterations per chain\n",
    "  iter = 800,            # total number of iterations per chain\n",
    "  cores = 200,              \n",
    "  refresh = 200          # show progress every 'refresh' iterations\n",
    "  )\n",
    "end.time <- Sys.time()\n",
    "time.taken <- end.time - start.time\n",
    "time.taken"
   ]
  },
  {
   "cell_type": "code",
   "execution_count": null,
   "metadata": {},
   "outputs": [],
   "source": [
    "print(fit1_v2_sim, pars=c(\"pi\", \"Sigma\"))"
   ]
  },
  {
   "cell_type": "code",
   "execution_count": null,
   "metadata": {},
   "outputs": [],
   "source": [
    "print(fit1_sim, pars=c(\"pi\", \"Sigma\"))"
   ]
  },
  {
   "cell_type": "code",
   "execution_count": 11,
   "metadata": {},
   "outputs": [
    {
     "data": {
      "text/plain": [
       "Time difference of 3.063639 mins"
      ]
     },
     "metadata": {},
     "output_type": "display_data"
    }
   ],
   "source": [
    "start.time <- Sys.time()\n",
    "# run stan to estimate the covariance\n",
    "options(warn=-1)\n",
    "fit1_2_v2_sim <- stan(\n",
    "  file = \"../../../tmp_models3/m1_4.stan\",  # Stan program\n",
    "  data = cov.data.M1.sim,    # named list of data\n",
    "  chains = 4,             # number of Markov chains\n",
    "  warmup = 200,          # number of warmup iterations per chain\n",
    "  iter = 800,            # total number of iterations per chain\n",
    "  cores = 200,              \n",
    "  refresh = 200          # show progress every 'refresh' iterations\n",
    "  )\n",
    "end.time <- Sys.time()\n",
    "time.taken <- end.time - start.time\n",
    "time.taken"
   ]
  },
  {
   "cell_type": "code",
   "execution_count": 12,
   "metadata": {},
   "outputs": [
    {
     "name": "stdout",
     "output_type": "stream",
     "text": [
      "Inference for Stan model: m1_4.\n",
      "4 chains, each with iter=800; warmup=200; thin=1; \n",
      "post-warmup draws per chain=600, total post-warmup draws=2400.\n",
      "\n",
      "           mean se_mean   sd 2.5%  25%  50%  75% 97.5% n_eff Rhat\n",
      "pi[1]      0.52       0 0.03 0.47 0.50 0.52 0.54  0.57  1903    1\n",
      "pi[2]      0.48       0 0.03 0.43 0.46 0.48 0.50  0.53  1903    1\n",
      "Sigma[1,1] 0.00       0 0.00 0.00 0.00 0.00 0.00  0.00  2259    1\n",
      "Sigma[1,2] 0.00       0 0.00 0.00 0.00 0.00 0.00  0.00  1943    1\n",
      "Sigma[2,1] 0.00       0 0.00 0.00 0.00 0.00 0.00  0.00  1943    1\n",
      "Sigma[2,2] 0.00       0 0.00 0.00 0.00 0.00 0.00  0.00  1852    1\n",
      "\n",
      "Samples were drawn using NUTS(diag_e) at Fri May  1 17:18:42 2020.\n",
      "For each parameter, n_eff is a crude measure of effective sample size,\n",
      "and Rhat is the potential scale reduction factor on split chains (at \n",
      "convergence, Rhat=1).\n"
     ]
    }
   ],
   "source": [
    "print(fit1_2_v2_sim, pars=c(\"pi\", \"Sigma\"))"
   ]
  },
  {
   "cell_type": "code",
   "execution_count": null,
   "metadata": {},
   "outputs": [],
   "source": [
    "load(\"data/\")"
   ]
  }
 ],
 "metadata": {
  "kernelspec": {
   "display_name": "R",
   "language": "R",
   "name": "ir"
  },
  "language_info": {
   "codemirror_mode": "r",
   "file_extension": ".r",
   "mimetype": "text/x-r-source",
   "name": "R",
   "pygments_lexer": "r",
   "version": "3.5.1"
  }
 },
 "nbformat": 4,
 "nbformat_minor": 2
}
